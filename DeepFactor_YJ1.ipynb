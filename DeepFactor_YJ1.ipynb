{
  "nbformat": 4,
  "nbformat_minor": 0,
  "metadata": {
    "colab": {
      "name": "DeepFactor_YJ1",
      "provenance": [],
      "collapsed_sections": [],
      "include_colab_link": true
    },
    "kernelspec": {
      "name": "python3",
      "display_name": "Python 3"
    }
  },
  "cells": [
    {
      "cell_type": "markdown",
      "metadata": {
        "id": "view-in-github",
        "colab_type": "text"
      },
      "source": [
        "<a href=\"https://colab.research.google.com/github/iskra3138/GluonTS/blob/master/DeepFactor_YJ1.ipynb\" target=\"_parent\"><img src=\"https://colab.research.google.com/assets/colab-badge.svg\" alt=\"Open In Colab\"/></a>"
      ]
    },
    {
      "cell_type": "markdown",
      "metadata": {
        "id": "MtkVPqoH9Rfy",
        "colab_type": "text"
      },
      "source": [
        "# Install mxnet and gluonts"
      ]
    },
    {
      "cell_type": "code",
      "metadata": {
        "id": "XpYiCxWFwrdF",
        "colab_type": "code",
        "outputId": "42aeef76-9811-4b61-8df5-b7aeeeb75f30",
        "colab": {
          "base_uri": "https://localhost:8080/",
          "height": 755
        }
      },
      "source": [
        "pip install --upgrade mxnet==1.6 gluonts"
      ],
      "execution_count": 0,
      "outputs": [
        {
          "output_type": "stream",
          "text": [
            "Collecting mxnet==1.6\n",
            "\u001b[?25l  Downloading https://files.pythonhosted.org/packages/81/f5/d79b5b40735086ff1100c680703e0f3efc830fa455e268e9e96f3c857e93/mxnet-1.6.0-py2.py3-none-any.whl (68.7MB)\n",
            "\u001b[K     |████████████████████████████████| 68.7MB 65kB/s \n",
            "\u001b[?25hCollecting gluonts\n",
            "\u001b[?25l  Downloading https://files.pythonhosted.org/packages/c2/07/5a63f7d645761982743d375fc816120b680e0de13ac139829e509b3206fc/gluonts-0.5.0-py3-none-any.whl (419kB)\n",
            "\u001b[K     |████████████████████████████████| 419kB 46.2MB/s \n",
            "\u001b[?25hRequirement already satisfied, skipping upgrade: requests<3,>=2.20.0 in /usr/local/lib/python3.6/dist-packages (from mxnet==1.6) (2.23.0)\n",
            "Collecting graphviz<0.9.0,>=0.8.1\n",
            "  Downloading https://files.pythonhosted.org/packages/53/39/4ab213673844e0c004bed8a0781a0721a3f6bb23eb8854ee75c236428892/graphviz-0.8.4-py2.py3-none-any.whl\n",
            "Requirement already satisfied, skipping upgrade: numpy<2.0.0,>1.16.0 in /usr/local/lib/python3.6/dist-packages (from mxnet==1.6) (1.18.4)\n",
            "Collecting ujson~=1.35\n",
            "\u001b[?25l  Downloading https://files.pythonhosted.org/packages/16/c4/79f3409bc710559015464e5f49b9879430d8f87498ecdc335899732e5377/ujson-1.35.tar.gz (192kB)\n",
            "\u001b[K     |████████████████████████████████| 194kB 47.8MB/s \n",
            "\u001b[?25hRequirement already satisfied, skipping upgrade: tqdm~=4.23 in /usr/local/lib/python3.6/dist-packages (from gluonts) (4.41.1)\n",
            "Collecting pydantic~=1.1\n",
            "\u001b[?25l  Downloading https://files.pythonhosted.org/packages/57/c9/7d664fbe54863b92cea790c7305915888c2f13a68a754893d8291bab0d0d/pydantic-1.5.1-cp36-cp36m-manylinux2014_x86_64.whl (7.4MB)\n",
            "\u001b[K     |████████████████████████████████| 7.4MB 45.4MB/s \n",
            "\u001b[?25hRequirement already satisfied, skipping upgrade: holidays<0.10,>=0.9 in /usr/local/lib/python3.6/dist-packages (from gluonts) (0.9.12)\n",
            "Requirement already satisfied, skipping upgrade: pandas~=1.0 in /usr/local/lib/python3.6/dist-packages (from gluonts) (1.0.3)\n",
            "Requirement already satisfied, skipping upgrade: matplotlib~=3.0 in /usr/local/lib/python3.6/dist-packages (from gluonts) (3.2.1)\n",
            "Requirement already satisfied, skipping upgrade: chardet<4,>=3.0.2 in /usr/local/lib/python3.6/dist-packages (from requests<3,>=2.20.0->mxnet==1.6) (3.0.4)\n",
            "Requirement already satisfied, skipping upgrade: certifi>=2017.4.17 in /usr/local/lib/python3.6/dist-packages (from requests<3,>=2.20.0->mxnet==1.6) (2020.4.5.1)\n",
            "Requirement already satisfied, skipping upgrade: idna<3,>=2.5 in /usr/local/lib/python3.6/dist-packages (from requests<3,>=2.20.0->mxnet==1.6) (2.9)\n",
            "Requirement already satisfied, skipping upgrade: urllib3!=1.25.0,!=1.25.1,<1.26,>=1.21.1 in /usr/local/lib/python3.6/dist-packages (from requests<3,>=2.20.0->mxnet==1.6) (1.24.3)\n",
            "Requirement already satisfied, skipping upgrade: dataclasses>=0.6; python_version < \"3.7\" in /usr/local/lib/python3.6/dist-packages (from pydantic~=1.1->gluonts) (0.7)\n",
            "Requirement already satisfied, skipping upgrade: python-dateutil in /usr/local/lib/python3.6/dist-packages (from holidays<0.10,>=0.9->gluonts) (2.8.1)\n",
            "Requirement already satisfied, skipping upgrade: six in /usr/local/lib/python3.6/dist-packages (from holidays<0.10,>=0.9->gluonts) (1.12.0)\n",
            "Requirement already satisfied, skipping upgrade: pytz>=2017.2 in /usr/local/lib/python3.6/dist-packages (from pandas~=1.0->gluonts) (2018.9)\n",
            "Requirement already satisfied, skipping upgrade: kiwisolver>=1.0.1 in /usr/local/lib/python3.6/dist-packages (from matplotlib~=3.0->gluonts) (1.2.0)\n",
            "Requirement already satisfied, skipping upgrade: cycler>=0.10 in /usr/local/lib/python3.6/dist-packages (from matplotlib~=3.0->gluonts) (0.10.0)\n",
            "Requirement already satisfied, skipping upgrade: pyparsing!=2.0.4,!=2.1.2,!=2.1.6,>=2.0.1 in /usr/local/lib/python3.6/dist-packages (from matplotlib~=3.0->gluonts) (2.4.7)\n",
            "Building wheels for collected packages: ujson\n",
            "  Building wheel for ujson (setup.py) ... \u001b[?25l\u001b[?25hdone\n",
            "  Created wheel for ujson: filename=ujson-1.35-cp36-cp36m-linux_x86_64.whl size=68017 sha256=910f9518b301934bfba2a01a294000d1fdfb469699d14440fe62e62678a17315\n",
            "  Stored in directory: /root/.cache/pip/wheels/28/77/e4/0311145b9c2e2f01470e744855131f9e34d6919687550f87d1\n",
            "Successfully built ujson\n",
            "Installing collected packages: graphviz, mxnet, ujson, pydantic, gluonts\n",
            "  Found existing installation: graphviz 0.10.1\n",
            "    Uninstalling graphviz-0.10.1:\n",
            "      Successfully uninstalled graphviz-0.10.1\n",
            "Successfully installed gluonts-0.5.0 graphviz-0.8.4 mxnet-1.6.0 pydantic-1.5.1 ujson-1.35\n"
          ],
          "name": "stdout"
        }
      ]
    },
    {
      "cell_type": "markdown",
      "metadata": {
        "id": "LmbEt0H9GYBt",
        "colab_type": "text"
      },
      "source": [
        "## Dataset Loading"
      ]
    },
    {
      "cell_type": "code",
      "metadata": {
        "id": "CS73SazB-iAi",
        "colab_type": "code",
        "colab": {}
      },
      "source": [
        "# Third-party imports\n",
        "%matplotlib inline\n",
        "import mxnet as mx\n",
        "from mxnet import gluon\n",
        "#import numpy as np\n",
        "#import pandas as pd\n",
        "import matplotlib.pyplot as plt\n",
        "import json\n",
        "#import os"
      ],
      "execution_count": 0,
      "outputs": []
    },
    {
      "cell_type": "code",
      "metadata": {
        "id": "YyFHxQYCGWpO",
        "colab_type": "code",
        "colab": {}
      },
      "source": [
        "from gluonts.dataset.repository.datasets import get_dataset, dataset_recipes\n",
        "#from gluonts.dataset.util import to_pandas"
      ],
      "execution_count": 0,
      "outputs": []
    },
    {
      "cell_type": "code",
      "metadata": {
        "id": "CET-Px0euwLy",
        "colab_type": "code",
        "colab": {}
      },
      "source": [
        "from gluonts.dataset.common import ListDataset\n",
        "from gluonts.dataset.field_names import FieldName"
      ],
      "execution_count": 0,
      "outputs": []
    },
    {
      "cell_type": "code",
      "metadata": {
        "id": "PwbJirQ67oj9",
        "colab_type": "code",
        "colab": {}
      },
      "source": [
        "from gluonts.model.deepar import DeepAREstimator\n",
        "from gluonts.model.deep_factor import DeepFactorEstimator\n",
        "from gluonts.distribution.gaussian import GaussianOutput\n",
        "from gluonts.distribution.student_t import StudentTOutput\n",
        "from gluonts.trainer import Trainer\n",
        "from gluonts.evaluation.backtest import make_evaluation_predictions\n",
        "from gluonts.evaluation import Evaluator"
      ],
      "execution_count": 0,
      "outputs": []
    },
    {
      "cell_type": "markdown",
      "metadata": {
        "id": "jbPo1rHY7nGe",
        "colab_type": "text"
      },
      "source": [
        "## Experiment of DeepFactor"
      ]
    },
    {
      "cell_type": "markdown",
      "metadata": {
        "id": "cqSRuhYNUhe4",
        "colab_type": "text"
      },
      "source": [
        "## electricity"
      ]
    },
    {
      "cell_type": "code",
      "metadata": {
        "id": "QUlhWYZLGqAa",
        "colab_type": "code",
        "outputId": "b5ab7dcf-22d0-4a26-cf44-86a72f5d6012",
        "colab": {
          "base_uri": "https://localhost:8080/",
          "height": 53
        }
      },
      "source": [
        "elec_dataset = get_dataset(\"electricity\", regenerate=False)"
      ],
      "execution_count": 0,
      "outputs": [
        {
          "output_type": "stream",
          "text": [
            "saving time-series into /root/.mxnet/gluon-ts/datasets/electricity/train/data.json\n",
            "saving time-series into /root/.mxnet/gluon-ts/datasets/electricity/test/data.json\n"
          ],
          "name": "stdout"
        }
      ]
    },
    {
      "cell_type": "code",
      "metadata": {
        "colab_type": "code",
        "outputId": "bd5dc042-d6ec-4a9c-efe1-362863c1dd11",
        "id": "pISvJSGLmogL",
        "colab": {
          "base_uri": "https://localhost:8080/",
          "height": 53
        }
      },
      "source": [
        "print (len(elec_dataset.train))\n",
        "print (len(elec_dataset.test))"
      ],
      "execution_count": 0,
      "outputs": [
        {
          "output_type": "stream",
          "text": [
            "321\n",
            "2247\n"
          ],
          "name": "stdout"
        }
      ]
    },
    {
      "cell_type": "code",
      "metadata": {
        "colab_type": "code",
        "outputId": "a94e0cb8-2a4b-4283-f98d-cd407df22a57",
        "id": "Gg6BjsIAmogR",
        "colab": {
          "base_uri": "https://localhost:8080/",
          "height": 35
        }
      },
      "source": [
        "elec_dataset.metadata"
      ],
      "execution_count": 0,
      "outputs": [
        {
          "output_type": "execute_result",
          "data": {
            "text/plain": [
              "MetaData(freq='1H', target=None, feat_static_cat=[CategoricalFeatureInfo(name='feat_static_cat', cardinality='321')], feat_static_real=[], feat_dynamic_real=[], feat_dynamic_cat=[], prediction_length=24)"
            ]
          },
          "metadata": {
            "tags": []
          },
          "execution_count": 8
        }
      ]
    },
    {
      "cell_type": "code",
      "metadata": {
        "id": "kh_5nT7SmwD5",
        "colab_type": "code",
        "outputId": "d381947b-19b6-47ca-bde2-92a85fb2b8bc",
        "colab": {
          "base_uri": "https://localhost:8080/",
          "height": 35
        }
      },
      "source": [
        "elec_dataset.metadata.feat_static_cat[0]"
      ],
      "execution_count": 0,
      "outputs": [
        {
          "output_type": "execute_result",
          "data": {
            "text/plain": [
              "CategoricalFeatureInfo(name='feat_static_cat', cardinality='321')"
            ]
          },
          "metadata": {
            "tags": []
          },
          "execution_count": 9
        }
      ]
    },
    {
      "cell_type": "code",
      "metadata": {
        "id": "28gBmOGVoMgV",
        "colab_type": "code",
        "colab": {}
      },
      "source": [
        "car = [int(elec_dataset.metadata.feat_static_cat[0].cardinality)]"
      ],
      "execution_count": 0,
      "outputs": []
    },
    {
      "cell_type": "code",
      "metadata": {
        "colab_type": "code",
        "outputId": "a230da1f-baa5-4b9d-c0b7-eda8a1c4c3b1",
        "id": "Q-ZkZHs2mogU",
        "colab": {
          "base_uri": "https://localhost:8080/",
          "height": 35
        }
      },
      "source": [
        "next(iter(elec_dataset.train)).keys()"
      ],
      "execution_count": 0,
      "outputs": [
        {
          "output_type": "execute_result",
          "data": {
            "text/plain": [
              "dict_keys(['start', 'target', 'feat_static_cat', 'item_id', 'source'])"
            ]
          },
          "metadata": {
            "tags": []
          },
          "execution_count": 11
        }
      ]
    },
    {
      "cell_type": "code",
      "metadata": {
        "id": "Ez4xa_EAuwHV",
        "colab_type": "code",
        "colab": {}
      },
      "source": [
        "test_ds_24 = ListDataset([{FieldName.START: entry['start'],\n",
        "                        FieldName.TARGET: entry['target'],\n",
        "                        FieldName.FEAT_STATIC_CAT: entry['feat_static_cat'],\n",
        "                        FieldName.ITEM_ID: entry['item_id'],\n",
        "                        }\n",
        "                       for entry in iter(elec_dataset.test) if len(entry['target']) == 21068\n",
        "                       ],\n",
        "                     freq=elec_dataset.metadata.freq)"
      ],
      "execution_count": 0,
      "outputs": []
    },
    {
      "cell_type": "code",
      "metadata": {
        "colab_type": "code",
        "id": "SOijOJKyH3hL",
        "colab": {}
      },
      "source": [
        "# https://gluon-ts.mxnet.io/api/gluonts/gluonts.trainer.html\n",
        "deepfactor_trainer=Trainer(\n",
        "    ctx = 'cpu',\n",
        "    epochs=100, # (default: 100).\n",
        "    batch_size=32,# (default: 32).\n",
        "    num_batches_per_epoch=50, # (default: 50).\n",
        "    learning_rate=0.001, # (default:  10^−3 ).\n",
        "    learning_rate_decay_factor=0.5, # (default: 0.5).\n",
        "    patience = 10, # (default: 10).\n",
        "    minimum_learning_rate=5e-05, # (default:  5⋅10^−5 ).\n",
        "    clip_gradient = 10.0, # (default: 10).\n",
        "    weight_decay=1e-08, #  (default  10^−8 ).\n",
        "    init='xavier', #  (default: “xavier”).\n",
        "    hybridize=True, \n",
        "    )"
      ],
      "execution_count": 0,
      "outputs": []
    },
    {
      "cell_type": "code",
      "metadata": {
        "colab_type": "code",
        "id": "zqz0laFMH3hN",
        "colab": {}
      },
      "source": [
        "# https://gluon-ts.mxnet.io/api/gluonts/gluonts.model.deep_factor.html\n",
        "DF_estimator = DeepFactorEstimator(\n",
        "    freq=elec_dataset.metadata.freq, # Time series frequency\n",
        "    prediction_length=elec_dataset.metadata.prediction_length, # Prediction length.\n",
        "    num_hidden_global=50, # (default: 50).\n",
        "    num_layers_global=1, # (default: 1).\n",
        "    num_factors=10, # (default: 10).\n",
        "    num_hidden_local=5, # (default: 5).\n",
        "    num_layers_local=1, # (default: 1).\n",
        "    cell_type='lstm', # (default: ‘lstm’).\n",
        "    trainer = deepfactor_trainer, # (default: Trainer()).\n",
        "    context_length=None, # (default: None, in which case context_length = prediction_length).\n",
        "    num_parallel_samples=100, # (default: 100).\n",
        "    cardinality=car, # (default: list([1]).\n",
        "    embedding_dimension=10, # (default: 10).\n",
        "    distr_output=StudentTOutput(), # (default: StudentTOutput()).\n",
        ")"
      ],
      "execution_count": 0,
      "outputs": []
    },
    {
      "cell_type": "code",
      "metadata": {
        "colab_type": "code",
        "id": "ig9ceH0SH3hQ",
        "outputId": "dc3c0091-ec50-4ec2-b956-fecfa2a1bb8f",
        "colab": {
          "base_uri": "https://localhost:8080/",
          "height": 1000
        }
      },
      "source": [
        "DF_predictor = DF_estimator.train(elec_dataset.train)"
      ],
      "execution_count": 0,
      "outputs": [
        {
          "output_type": "stream",
          "text": [
            "\r  0%|          | 0/50 [00:00<?, ?it/s]"
          ],
          "name": "stderr"
        },
        {
          "output_type": "stream",
          "text": [
            "learning rate from ``lr_scheduler`` has been overwritten by ``learning_rate`` in optimizer.\n"
          ],
          "name": "stdout"
        },
        {
          "output_type": "stream",
          "text": [
            "100%|██████████| 50/50 [00:09<00:00,  5.24it/s, epoch=1/100, avg_epoch_loss=1.25e+8]\n",
            "100%|██████████| 50/50 [00:09<00:00,  5.28it/s, epoch=2/100, avg_epoch_loss=6.52e+7]\n",
            "100%|██████████| 50/50 [00:09<00:00,  5.15it/s, epoch=3/100, avg_epoch_loss=4.39e+7]\n",
            "100%|██████████| 50/50 [00:09<00:00,  5.14it/s, epoch=4/100, avg_epoch_loss=2.2e+7]\n",
            "100%|██████████| 50/50 [00:09<00:00,  5.19it/s, epoch=5/100, avg_epoch_loss=1.19e+7]\n",
            "100%|██████████| 50/50 [00:09<00:00,  5.21it/s, epoch=6/100, avg_epoch_loss=7.15e+6]\n",
            "100%|██████████| 50/50 [00:09<00:00,  5.22it/s, epoch=7/100, avg_epoch_loss=4.61e+6]\n",
            "100%|██████████| 50/50 [00:09<00:00,  5.21it/s, epoch=8/100, avg_epoch_loss=3e+6]\n",
            "100%|██████████| 50/50 [00:09<00:00,  5.23it/s, epoch=9/100, avg_epoch_loss=1.24e+6]\n",
            "100%|██████████| 50/50 [00:09<00:00,  5.21it/s, epoch=10/100, avg_epoch_loss=8.17e+5]\n",
            "100%|██████████| 50/50 [00:09<00:00,  5.20it/s, epoch=11/100, avg_epoch_loss=6.89e+5]\n",
            "100%|██████████| 50/50 [00:09<00:00,  5.22it/s, epoch=12/100, avg_epoch_loss=6.05e+5]\n",
            "100%|██████████| 50/50 [00:09<00:00,  5.20it/s, epoch=13/100, avg_epoch_loss=5.23e+5]\n",
            "100%|██████████| 50/50 [00:09<00:00,  5.21it/s, epoch=14/100, avg_epoch_loss=4.54e+5]\n",
            "100%|██████████| 50/50 [00:09<00:00,  5.21it/s, epoch=15/100, avg_epoch_loss=3.9e+5]\n",
            "100%|██████████| 50/50 [00:09<00:00,  5.18it/s, epoch=16/100, avg_epoch_loss=3.65e+5]\n",
            "100%|██████████| 50/50 [00:09<00:00,  5.21it/s, epoch=17/100, avg_epoch_loss=3.26e+5]\n",
            "100%|██████████| 50/50 [00:09<00:00,  5.20it/s, epoch=18/100, avg_epoch_loss=2.87e+5]\n",
            "100%|██████████| 50/50 [00:09<00:00,  5.19it/s, epoch=19/100, avg_epoch_loss=2.7e+5]\n",
            "100%|██████████| 50/50 [00:09<00:00,  5.21it/s, epoch=20/100, avg_epoch_loss=2.74e+5]\n",
            "100%|██████████| 50/50 [00:09<00:00,  5.18it/s, epoch=21/100, avg_epoch_loss=2.34e+5]\n",
            "100%|██████████| 50/50 [00:09<00:00,  5.21it/s, epoch=22/100, avg_epoch_loss=1.93e+5]\n",
            "100%|██████████| 50/50 [00:09<00:00,  5.20it/s, epoch=23/100, avg_epoch_loss=1.91e+5]\n",
            "100%|██████████| 50/50 [00:09<00:00,  5.20it/s, epoch=24/100, avg_epoch_loss=1.72e+5]\n",
            "100%|██████████| 50/50 [00:09<00:00,  5.20it/s, epoch=25/100, avg_epoch_loss=1.64e+5]\n",
            "100%|██████████| 50/50 [00:09<00:00,  5.21it/s, epoch=26/100, avg_epoch_loss=1.58e+5]\n",
            "100%|██████████| 50/50 [00:09<00:00,  5.19it/s, epoch=27/100, avg_epoch_loss=1.56e+5]\n",
            "100%|██████████| 50/50 [00:09<00:00,  5.16it/s, epoch=28/100, avg_epoch_loss=1.32e+5]\n",
            "100%|██████████| 50/50 [00:09<00:00,  5.19it/s, epoch=29/100, avg_epoch_loss=1.4e+5]\n",
            "100%|██████████| 50/50 [00:09<00:00,  5.20it/s, epoch=30/100, avg_epoch_loss=1.13e+5]\n",
            "100%|██████████| 50/50 [00:09<00:00,  5.20it/s, epoch=31/100, avg_epoch_loss=1.15e+5]\n",
            "100%|██████████| 50/50 [00:09<00:00,  5.20it/s, epoch=32/100, avg_epoch_loss=1.01e+5]\n",
            "100%|██████████| 50/50 [00:09<00:00,  5.21it/s, epoch=33/100, avg_epoch_loss=1.17e+5]\n",
            "100%|██████████| 50/50 [00:09<00:00,  5.21it/s, epoch=34/100, avg_epoch_loss=9.61e+4]\n",
            "100%|██████████| 50/50 [00:09<00:00,  5.16it/s, epoch=35/100, avg_epoch_loss=1.03e+5]\n",
            "100%|██████████| 50/50 [00:13<00:00,  3.79it/s, epoch=36/100, avg_epoch_loss=8.07e+4]\n",
            "100%|██████████| 50/50 [00:09<00:00,  5.18it/s, epoch=37/100, avg_epoch_loss=9.13e+4]\n",
            "100%|██████████| 50/50 [00:09<00:00,  5.15it/s, epoch=38/100, avg_epoch_loss=7.22e+4]\n",
            "100%|██████████| 50/50 [00:09<00:00,  5.20it/s, epoch=39/100, avg_epoch_loss=7.14e+4]\n",
            "100%|██████████| 50/50 [00:09<00:00,  5.21it/s, epoch=40/100, avg_epoch_loss=6.93e+4]\n",
            "100%|██████████| 50/50 [00:09<00:00,  5.18it/s, epoch=41/100, avg_epoch_loss=6.54e+4]\n",
            "100%|██████████| 50/50 [00:09<00:00,  5.20it/s, epoch=42/100, avg_epoch_loss=5.66e+4]\n",
            "100%|██████████| 50/50 [00:09<00:00,  5.19it/s, epoch=43/100, avg_epoch_loss=5.78e+4]\n",
            "100%|██████████| 50/50 [00:09<00:00,  5.20it/s, epoch=44/100, avg_epoch_loss=5.25e+4]\n",
            "100%|██████████| 50/50 [00:09<00:00,  5.20it/s, epoch=45/100, avg_epoch_loss=5.13e+4]\n",
            "100%|██████████| 50/50 [00:09<00:00,  5.21it/s, epoch=46/100, avg_epoch_loss=5.4e+4]\n",
            "100%|██████████| 50/50 [00:09<00:00,  5.20it/s, epoch=47/100, avg_epoch_loss=5.23e+4]\n",
            "100%|██████████| 50/50 [00:09<00:00,  5.19it/s, epoch=48/100, avg_epoch_loss=4.5e+4]\n",
            "100%|██████████| 50/50 [00:09<00:00,  5.19it/s, epoch=49/100, avg_epoch_loss=4.32e+4]\n",
            "100%|██████████| 50/50 [00:09<00:00,  5.19it/s, epoch=50/100, avg_epoch_loss=5.76e+4]\n",
            "100%|██████████| 50/50 [00:09<00:00,  5.18it/s, epoch=51/100, avg_epoch_loss=4.34e+4]\n",
            "100%|██████████| 50/50 [00:09<00:00,  5.20it/s, epoch=52/100, avg_epoch_loss=3.68e+4]\n",
            "100%|██████████| 50/50 [00:09<00:00,  5.15it/s, epoch=53/100, avg_epoch_loss=4.54e+4]\n",
            "100%|██████████| 50/50 [00:09<00:00,  5.19it/s, epoch=54/100, avg_epoch_loss=4.12e+4]\n",
            "100%|██████████| 50/50 [00:09<00:00,  5.17it/s, epoch=55/100, avg_epoch_loss=3.73e+4]\n",
            "100%|██████████| 50/50 [00:09<00:00,  5.14it/s, epoch=56/100, avg_epoch_loss=3.59e+4]\n",
            "100%|██████████| 50/50 [00:09<00:00,  5.13it/s, epoch=57/100, avg_epoch_loss=4.42e+4]\n",
            "100%|██████████| 50/50 [00:09<00:00,  5.16it/s, epoch=58/100, avg_epoch_loss=3.57e+4]\n",
            "100%|██████████| 50/50 [00:09<00:00,  5.15it/s, epoch=59/100, avg_epoch_loss=3.51e+4]\n",
            "100%|██████████| 50/50 [00:09<00:00,  5.12it/s, epoch=60/100, avg_epoch_loss=3.53e+4]\n",
            "100%|██████████| 50/50 [00:09<00:00,  5.14it/s, epoch=61/100, avg_epoch_loss=3.06e+4]\n",
            "100%|██████████| 50/50 [00:09<00:00,  5.20it/s, epoch=62/100, avg_epoch_loss=2.93e+4]\n",
            "100%|██████████| 50/50 [00:09<00:00,  5.19it/s, epoch=63/100, avg_epoch_loss=2.99e+4]\n",
            "100%|██████████| 50/50 [00:09<00:00,  5.19it/s, epoch=64/100, avg_epoch_loss=2.76e+4]\n",
            "100%|██████████| 50/50 [00:09<00:00,  5.19it/s, epoch=65/100, avg_epoch_loss=2.56e+4]\n",
            "100%|██████████| 50/50 [00:09<00:00,  5.16it/s, epoch=66/100, avg_epoch_loss=1.93e+4]\n",
            "100%|██████████| 50/50 [00:09<00:00,  5.11it/s, epoch=67/100, avg_epoch_loss=2.47e+4]\n",
            "100%|██████████| 50/50 [00:09<00:00,  5.17it/s, epoch=68/100, avg_epoch_loss=2.53e+4]\n",
            "100%|██████████| 50/50 [00:09<00:00,  5.18it/s, epoch=69/100, avg_epoch_loss=2.22e+4]\n",
            "100%|██████████| 50/50 [00:09<00:00,  5.19it/s, epoch=70/100, avg_epoch_loss=1.81e+4]\n",
            "100%|██████████| 50/50 [00:09<00:00,  5.19it/s, epoch=71/100, avg_epoch_loss=1.59e+4]\n",
            "100%|██████████| 50/50 [00:09<00:00,  5.18it/s, epoch=72/100, avg_epoch_loss=1.93e+4]\n",
            "100%|██████████| 50/50 [00:09<00:00,  5.17it/s, epoch=73/100, avg_epoch_loss=1.84e+4]\n",
            "100%|██████████| 50/50 [00:09<00:00,  5.19it/s, epoch=74/100, avg_epoch_loss=1.81e+4]\n",
            "100%|██████████| 50/50 [00:09<00:00,  5.17it/s, epoch=75/100, avg_epoch_loss=1.62e+4]\n",
            "100%|██████████| 50/50 [00:09<00:00,  5.19it/s, epoch=76/100, avg_epoch_loss=1.26e+4]\n",
            "100%|██████████| 50/50 [00:09<00:00,  5.18it/s, epoch=77/100, avg_epoch_loss=1.21e+4]\n",
            "100%|██████████| 50/50 [00:09<00:00,  5.17it/s, epoch=78/100, avg_epoch_loss=1.36e+4]\n",
            "100%|██████████| 50/50 [00:09<00:00,  5.19it/s, epoch=79/100, avg_epoch_loss=1.07e+4]\n",
            "100%|██████████| 50/50 [00:09<00:00,  5.18it/s, epoch=80/100, avg_epoch_loss=1.12e+4]\n",
            "100%|██████████| 50/50 [00:09<00:00,  5.18it/s, epoch=81/100, avg_epoch_loss=1.19e+4]\n",
            "100%|██████████| 50/50 [00:09<00:00,  5.19it/s, epoch=82/100, avg_epoch_loss=1.28e+4]\n",
            "100%|██████████| 50/50 [00:09<00:00,  5.19it/s, epoch=83/100, avg_epoch_loss=1.71e+4]\n",
            "100%|██████████| 50/50 [00:09<00:00,  5.20it/s, epoch=84/100, avg_epoch_loss=1.05e+4]\n",
            "100%|██████████| 50/50 [00:09<00:00,  5.20it/s, epoch=85/100, avg_epoch_loss=1.14e+4]\n",
            "100%|██████████| 50/50 [00:09<00:00,  5.18it/s, epoch=86/100, avg_epoch_loss=1.11e+4]\n",
            "100%|██████████| 50/50 [00:09<00:00,  5.20it/s, epoch=87/100, avg_epoch_loss=8.18e+3]\n",
            "100%|██████████| 50/50 [00:09<00:00,  5.19it/s, epoch=88/100, avg_epoch_loss=8.74e+3]\n",
            "100%|██████████| 50/50 [00:09<00:00,  5.21it/s, epoch=89/100, avg_epoch_loss=8.3e+3]\n",
            "100%|██████████| 50/50 [00:09<00:00,  5.21it/s, epoch=90/100, avg_epoch_loss=8.45e+3]\n",
            "100%|██████████| 50/50 [00:09<00:00,  5.13it/s, epoch=91/100, avg_epoch_loss=8.4e+3]\n",
            "100%|██████████| 50/50 [00:09<00:00,  5.17it/s, epoch=92/100, avg_epoch_loss=7.57e+3]\n",
            "100%|██████████| 50/50 [00:09<00:00,  5.20it/s, epoch=93/100, avg_epoch_loss=1.25e+4]\n",
            "100%|██████████| 50/50 [00:09<00:00,  5.19it/s, epoch=94/100, avg_epoch_loss=8.81e+3]\n",
            "100%|██████████| 50/50 [00:09<00:00,  5.21it/s, epoch=95/100, avg_epoch_loss=7.89e+3]\n",
            "100%|██████████| 50/50 [00:09<00:00,  5.20it/s, epoch=96/100, avg_epoch_loss=6.52e+3]\n",
            "100%|██████████| 50/50 [00:09<00:00,  5.20it/s, epoch=97/100, avg_epoch_loss=1.14e+4]\n",
            "100%|██████████| 50/50 [00:09<00:00,  5.20it/s, epoch=98/100, avg_epoch_loss=5.69e+3]\n",
            "100%|██████████| 50/50 [00:12<00:00,  3.85it/s, epoch=99/100, avg_epoch_loss=6.94e+3]\n",
            "100%|██████████| 50/50 [00:09<00:00,  5.16it/s, epoch=100/100, avg_epoch_loss=7.78e+3]\n"
          ],
          "name": "stderr"
        }
      ]
    },
    {
      "cell_type": "code",
      "metadata": {
        "id": "iVGO7KRtorHw",
        "colab_type": "code",
        "outputId": "14b6c7af-5f0f-498b-f30b-a109311b5df6",
        "colab": {
          "base_uri": "https://localhost:8080/",
          "height": 503
        }
      },
      "source": [
        "# Evaluation for all test data\n",
        "forecast_it, ts_it = make_evaluation_predictions(\n",
        "    dataset=elec_dataset.test, \n",
        "    predictor=DF_predictor, \n",
        "    num_samples=100, \n",
        ")\n",
        "\n",
        "forecasts = list(forecast_it)\n",
        "tss = list(ts_it)\n",
        "\n",
        "evaluator = Evaluator(quantiles=[0.1, 0.5, 0.9])\n",
        "agg_metrics, item_metrics = evaluator(iter(tss), iter(forecasts), num_series=len(elec_dataset.test))\n",
        "\n",
        "print(json.dumps(agg_metrics, indent=4))"
      ],
      "execution_count": 0,
      "outputs": [
        {
          "output_type": "stream",
          "text": [
            "Running evaluation: 100%|██████████| 2247/2247 [00:00<00:00, 41557.06it/s]\n"
          ],
          "name": "stderr"
        },
        {
          "output_type": "stream",
          "text": [
            "{\n",
            "    \"MSE\": 25993367.61071011,\n",
            "    \"abs_error\": 35274492.36671448,\n",
            "    \"abs_target_sum\": 128632956.0,\n",
            "    \"abs_target_mean\": 2385.272140631948,\n",
            "    \"seasonal_error\": 189.4933819611677,\n",
            "    \"MASE\": 2.648145734615828,\n",
            "    \"MAPE\": 0.2922686890965108,\n",
            "    \"sMAPE\": 0.29726672704196405,\n",
            "    \"OWA\": NaN,\n",
            "    \"MSIS\": 76.59054661067174,\n",
            "    \"QuantileLoss[0.1]\": 27819210.360164642,\n",
            "    \"Coverage[0.1]\": 0.26707832665776593,\n",
            "    \"QuantileLoss[0.5]\": 35274492.24931861,\n",
            "    \"Coverage[0.5]\": 0.39500815902685016,\n",
            "    \"QuantileLoss[0.9]\": 39991089.11282539,\n",
            "    \"Coverage[0.9]\": 0.5583184987390599,\n",
            "    \"RMSE\": 5098.3691128350165,\n",
            "    \"NRMSE\": 2.1374370772989733,\n",
            "    \"ND\": 0.2742259329460988,\n",
            "    \"wQuantileLoss[0.1]\": 0.21626814173627978,\n",
            "    \"wQuantileLoss[0.5]\": 0.2742259320334566,\n",
            "    \"wQuantileLoss[0.9]\": 0.3108930273889173,\n",
            "    \"mean_wQuantileLoss\": 0.2671290337195512,\n",
            "    \"MAE_Coverage\": 0.2045838896306186\n",
            "}\n"
          ],
          "name": "stdout"
        }
      ]
    },
    {
      "cell_type": "code",
      "metadata": {
        "colab_type": "code",
        "id": "GtBIDMrnEkW1",
        "outputId": "89d701a9-6bdd-4fb5-9517-eb490dd9e36f",
        "colab": {
          "base_uri": "https://localhost:8080/",
          "height": 503
        }
      },
      "source": [
        "# Evaluation for only 24H prediction test data \n",
        "forecast_it, ts_it = make_evaluation_predictions(\n",
        "    dataset=test_ds_24, \n",
        "    predictor=DF_predictor, \n",
        "    num_samples=100, \n",
        ")\n",
        "\n",
        "forecasts = list(forecast_it)\n",
        "tss = list(ts_it)\n",
        "\n",
        "evaluator = Evaluator(quantiles=[0.1, 0.5, 0.9])\n",
        "agg_metrics, item_metrics = evaluator(iter(tss), iter(forecasts), num_series=len(test_ds_24))\n",
        "\n",
        "print(json.dumps(agg_metrics, indent=4))"
      ],
      "execution_count": 0,
      "outputs": [
        {
          "output_type": "stream",
          "text": [
            "Running evaluation: 100%|██████████| 321/321 [00:00<00:00, 7587.33it/s]\n"
          ],
          "name": "stderr"
        },
        {
          "output_type": "stream",
          "text": [
            "{\n",
            "    \"MSE\": 11237881.446448408,\n",
            "    \"abs_error\": 4224858.509498596,\n",
            "    \"abs_target_sum\": 17268997.0,\n",
            "    \"abs_target_mean\": 2241.56243509865,\n",
            "    \"seasonal_error\": 189.64815247902152,\n",
            "    \"MASE\": 2.400687726079926,\n",
            "    \"MAPE\": 0.27595824507620137,\n",
            "    \"sMAPE\": 0.2968769958977066,\n",
            "    \"OWA\": NaN,\n",
            "    \"MSIS\": 67.19668753857242,\n",
            "    \"QuantileLoss[0.1]\": 3615421.5741348267,\n",
            "    \"Coverage[0.1]\": 0.2625908618899275,\n",
            "    \"QuantileLoss[0.5]\": 4224858.443302065,\n",
            "    \"Coverage[0.5]\": 0.38798026998961566,\n",
            "    \"QuantileLoss[0.9]\": 4443340.76124382,\n",
            "    \"Coverage[0.9]\": 0.5606178608515056,\n",
            "    \"RMSE\": 3352.2949521855035,\n",
            "    \"NRMSE\": 1.495517099900887,\n",
            "    \"ND\": 0.244649906969038,\n",
            "    \"wQuantileLoss[0.1]\": 0.2093590944589791,\n",
            "    \"wQuantileLoss[0.5]\": 0.24464990313577942,\n",
            "    \"wQuantileLoss[0.9]\": 0.25730161174061356,\n",
            "    \"mean_wQuantileLoss\": 0.23710353644512402,\n",
            "    \"MAE_Coverage\": 0.20466424368293543\n",
            "}\n"
          ],
          "name": "stdout"
        }
      ]
    },
    {
      "cell_type": "code",
      "metadata": {
        "id": "1HI9PXx0mi6C",
        "colab_type": "code",
        "colab": {}
      },
      "source": [
        ""
      ],
      "execution_count": 0,
      "outputs": []
    },
    {
      "cell_type": "markdown",
      "metadata": {
        "colab_type": "text",
        "id": "fy4faTqGUoxS"
      },
      "source": [
        "## exchange_rate"
      ]
    },
    {
      "cell_type": "code",
      "metadata": {
        "colab_type": "code",
        "id": "6JcEADfNUoxT",
        "outputId": "9f6da9ea-be0d-41a8-877e-d6cfa18d987c",
        "colab": {
          "base_uri": "https://localhost:8080/",
          "height": 53
        }
      },
      "source": [
        "exchange_rate_dataset = get_dataset(\"exchange_rate\", regenerate=False)"
      ],
      "execution_count": 0,
      "outputs": [
        {
          "output_type": "stream",
          "text": [
            "saving time-series into /root/.mxnet/gluon-ts/datasets/exchange_rate/train/data.json\n",
            "saving time-series into /root/.mxnet/gluon-ts/datasets/exchange_rate/test/data.json\n"
          ],
          "name": "stdout"
        }
      ]
    },
    {
      "cell_type": "code",
      "metadata": {
        "colab_type": "code",
        "outputId": "b225eb92-dcd4-4c6a-c717-2f1eccd2d9d4",
        "id": "kdnQ9-IwUoxV",
        "colab": {
          "base_uri": "https://localhost:8080/",
          "height": 53
        }
      },
      "source": [
        "print (len(exchange_rate_dataset.train))\n",
        "print (len(exchange_rate_dataset.test))"
      ],
      "execution_count": 0,
      "outputs": [
        {
          "output_type": "stream",
          "text": [
            "8\n",
            "40\n"
          ],
          "name": "stdout"
        }
      ]
    },
    {
      "cell_type": "code",
      "metadata": {
        "colab_type": "code",
        "outputId": "23b35e3f-d0f4-4923-b8a4-05ca4cdceca0",
        "id": "6zzH8t0ZUoxX",
        "colab": {
          "base_uri": "https://localhost:8080/",
          "height": 35
        }
      },
      "source": [
        "exchange_rate_dataset.metadata"
      ],
      "execution_count": 0,
      "outputs": [
        {
          "output_type": "execute_result",
          "data": {
            "text/plain": [
              "MetaData(freq='1B', target=None, feat_static_cat=[CategoricalFeatureInfo(name='feat_static_cat', cardinality='8')], feat_static_real=[], feat_dynamic_real=[], feat_dynamic_cat=[], prediction_length=30)"
            ]
          },
          "metadata": {
            "tags": []
          },
          "execution_count": 20
        }
      ]
    },
    {
      "cell_type": "code",
      "metadata": {
        "colab_type": "code",
        "outputId": "90177d96-dd03-4631-d4fc-9eb948a00ee2",
        "id": "mlWCjOAxo9B2",
        "colab": {
          "base_uri": "https://localhost:8080/",
          "height": 35
        }
      },
      "source": [
        "exchange_rate_dataset.metadata.feat_static_cat[0]"
      ],
      "execution_count": 0,
      "outputs": [
        {
          "output_type": "execute_result",
          "data": {
            "text/plain": [
              "CategoricalFeatureInfo(name='feat_static_cat', cardinality='8')"
            ]
          },
          "metadata": {
            "tags": []
          },
          "execution_count": 21
        }
      ]
    },
    {
      "cell_type": "code",
      "metadata": {
        "colab_type": "code",
        "id": "lWauZAdio9B8",
        "colab": {}
      },
      "source": [
        "car = [int(exchange_rate_dataset.metadata.feat_static_cat[0].cardinality)]"
      ],
      "execution_count": 0,
      "outputs": []
    },
    {
      "cell_type": "code",
      "metadata": {
        "colab_type": "code",
        "outputId": "a570c070-1456-4142-c2f4-df775761ef8d",
        "id": "Evq7k0huUoxn",
        "colab": {
          "base_uri": "https://localhost:8080/",
          "height": 35
        }
      },
      "source": [
        "next(iter(exchange_rate_dataset.train)).keys()"
      ],
      "execution_count": 0,
      "outputs": [
        {
          "output_type": "execute_result",
          "data": {
            "text/plain": [
              "dict_keys(['start', 'target', 'feat_static_cat', 'item_id', 'source'])"
            ]
          },
          "metadata": {
            "tags": []
          },
          "execution_count": 23
        }
      ]
    },
    {
      "cell_type": "code",
      "metadata": {
        "colab_type": "code",
        "id": "kreaWmN4Uoxt",
        "colab": {}
      },
      "source": [
        "# https://gluon-ts.mxnet.io/api/gluonts/gluonts.model.deep_factor.html\n",
        "DF_estimator = DeepFactorEstimator(\n",
        "    freq=exchange_rate_dataset.metadata.freq, # Time series frequency\n",
        "    prediction_length=exchange_rate_dataset.metadata.prediction_length, # Prediction length.\n",
        "    num_hidden_global=50, # (default: 50).\n",
        "    num_layers_global=1, # (default: 1).\n",
        "    num_factors=10, # (default: 10).\n",
        "    num_hidden_local=5, # (default: 5).\n",
        "    num_layers_local=1, # (default: 1).\n",
        "    cell_type='lstm', # (default: ‘lstm’).\n",
        "    trainer = deepfactor_trainer, # (default: Trainer()).\n",
        "    context_length=None, # (default: None, in which case context_length = prediction_length).\n",
        "    num_parallel_samples=100, # (default: 100).\n",
        "    cardinality=car, # (default: list([1]).\n",
        "    embedding_dimension=10, # (default: 10).\n",
        "    distr_output=StudentTOutput(), # (default: StudentTOutput()).\n",
        ")"
      ],
      "execution_count": 0,
      "outputs": []
    },
    {
      "cell_type": "code",
      "metadata": {
        "colab_type": "code",
        "outputId": "a117b508-0ba6-4cb3-e08a-ee06ba8cf474",
        "id": "oLzqf7kYUoxv",
        "colab": {
          "base_uri": "https://localhost:8080/",
          "height": 1000
        }
      },
      "source": [
        "DF_predictor = DF_estimator.train(exchange_rate_dataset.train)"
      ],
      "execution_count": 0,
      "outputs": [
        {
          "output_type": "stream",
          "text": [
            "\r  0%|          | 0/50 [00:00<?, ?it/s]"
          ],
          "name": "stderr"
        },
        {
          "output_type": "stream",
          "text": [
            "learning rate from ``lr_scheduler`` has been overwritten by ``learning_rate`` in optimizer.\n"
          ],
          "name": "stdout"
        },
        {
          "output_type": "stream",
          "text": [
            "100%|██████████| 50/50 [00:03<00:00, 12.74it/s, epoch=1/100, avg_epoch_loss=0.579]\n",
            "100%|██████████| 50/50 [00:03<00:00, 12.87it/s, epoch=2/100, avg_epoch_loss=0.1]\n",
            "100%|██████████| 50/50 [00:03<00:00, 12.90it/s, epoch=3/100, avg_epoch_loss=-.6]\n",
            "100%|██████████| 50/50 [00:03<00:00, 12.87it/s, epoch=4/100, avg_epoch_loss=-1.2]\n",
            "100%|██████████| 50/50 [00:03<00:00, 12.87it/s, epoch=5/100, avg_epoch_loss=-1.68]\n",
            "100%|██████████| 50/50 [00:03<00:00, 12.92it/s, epoch=6/100, avg_epoch_loss=-2.08]\n",
            "100%|██████████| 50/50 [00:03<00:00, 12.91it/s, epoch=7/100, avg_epoch_loss=-2.44]\n",
            "100%|██████████| 50/50 [00:03<00:00, 12.88it/s, epoch=8/100, avg_epoch_loss=-2.78]\n",
            "100%|██████████| 50/50 [00:03<00:00, 12.94it/s, epoch=9/100, avg_epoch_loss=-3.09]\n",
            "100%|██████████| 50/50 [00:03<00:00, 12.91it/s, epoch=10/100, avg_epoch_loss=-3.39]\n",
            "100%|██████████| 50/50 [00:03<00:00, 12.98it/s, epoch=11/100, avg_epoch_loss=-3.66]\n",
            "100%|██████████| 50/50 [00:03<00:00, 12.95it/s, epoch=12/100, avg_epoch_loss=-3.8]\n",
            "100%|██████████| 50/50 [00:03<00:00, 12.89it/s, epoch=13/100, avg_epoch_loss=-3.74]\n",
            "100%|██████████| 50/50 [00:03<00:00, 12.87it/s, epoch=14/100, avg_epoch_loss=-3.91]\n",
            "100%|██████████| 50/50 [00:03<00:00, 12.98it/s, epoch=15/100, avg_epoch_loss=-3.93]\n",
            "100%|██████████| 50/50 [00:03<00:00, 12.97it/s, epoch=16/100, avg_epoch_loss=-3.89]\n",
            "100%|██████████| 50/50 [00:03<00:00, 12.82it/s, epoch=17/100, avg_epoch_loss=-3.99]\n",
            "100%|██████████| 50/50 [00:03<00:00, 13.00it/s, epoch=18/100, avg_epoch_loss=-4.04]\n",
            "100%|██████████| 50/50 [00:03<00:00, 12.93it/s, epoch=19/100, avg_epoch_loss=-4.07]\n",
            "100%|██████████| 50/50 [00:03<00:00, 12.94it/s, epoch=20/100, avg_epoch_loss=-4.1]\n",
            "100%|██████████| 50/50 [00:03<00:00, 12.97it/s, epoch=21/100, avg_epoch_loss=-4.13]\n",
            "100%|██████████| 50/50 [00:03<00:00, 12.98it/s, epoch=22/100, avg_epoch_loss=-4.15]\n",
            "100%|██████████| 50/50 [00:03<00:00, 12.90it/s, epoch=23/100, avg_epoch_loss=-4.18]\n",
            "100%|██████████| 50/50 [00:03<00:00, 12.73it/s, epoch=24/100, avg_epoch_loss=-4.2]\n",
            "100%|██████████| 50/50 [00:03<00:00, 12.87it/s, epoch=25/100, avg_epoch_loss=-4.22]\n",
            "100%|██████████| 50/50 [00:03<00:00, 12.93it/s, epoch=26/100, avg_epoch_loss=-4.25]\n",
            "100%|██████████| 50/50 [00:03<00:00, 12.95it/s, epoch=27/100, avg_epoch_loss=-4.27]\n",
            "100%|██████████| 50/50 [00:03<00:00, 12.98it/s, epoch=28/100, avg_epoch_loss=-4.3]\n",
            "100%|██████████| 50/50 [00:03<00:00, 12.93it/s, epoch=29/100, avg_epoch_loss=-4.33]\n",
            "100%|██████████| 50/50 [00:03<00:00, 12.92it/s, epoch=30/100, avg_epoch_loss=-4.36]\n",
            "100%|██████████| 50/50 [00:03<00:00, 12.90it/s, epoch=31/100, avg_epoch_loss=-4.39]\n",
            "100%|██████████| 50/50 [00:03<00:00, 12.86it/s, epoch=32/100, avg_epoch_loss=-4.43]\n",
            "100%|██████████| 50/50 [00:03<00:00, 12.94it/s, epoch=33/100, avg_epoch_loss=-4.39]\n",
            "100%|██████████| 50/50 [00:03<00:00, 13.00it/s, epoch=34/100, avg_epoch_loss=-4.37]\n",
            "100%|██████████| 50/50 [00:03<00:00, 12.92it/s, epoch=35/100, avg_epoch_loss=-4.46]\n",
            "100%|██████████| 50/50 [00:03<00:00, 12.90it/s, epoch=36/100, avg_epoch_loss=-4.51]\n",
            "100%|██████████| 50/50 [00:03<00:00, 12.91it/s, epoch=37/100, avg_epoch_loss=-4.55]\n",
            "100%|██████████| 50/50 [00:03<00:00, 12.97it/s, epoch=38/100, avg_epoch_loss=-4.58]\n",
            "100%|██████████| 50/50 [00:03<00:00, 12.95it/s, epoch=39/100, avg_epoch_loss=-4.61]\n",
            "100%|██████████| 50/50 [00:03<00:00, 12.97it/s, epoch=40/100, avg_epoch_loss=-4.64]\n",
            "100%|██████████| 50/50 [00:03<00:00, 12.92it/s, epoch=41/100, avg_epoch_loss=-4.65]\n",
            "100%|██████████| 50/50 [00:03<00:00, 12.93it/s, epoch=42/100, avg_epoch_loss=-4.67]\n",
            "100%|██████████| 50/50 [00:03<00:00, 12.77it/s, epoch=43/100, avg_epoch_loss=-4.68]\n",
            "100%|██████████| 50/50 [00:03<00:00, 12.64it/s, epoch=44/100, avg_epoch_loss=-4.7]\n",
            "100%|██████████| 50/50 [00:03<00:00, 12.85it/s, epoch=45/100, avg_epoch_loss=-4.71]\n",
            "100%|██████████| 50/50 [00:03<00:00, 12.99it/s, epoch=46/100, avg_epoch_loss=-4.72]\n",
            "100%|██████████| 50/50 [00:03<00:00, 12.95it/s, epoch=47/100, avg_epoch_loss=-4.74]\n",
            "100%|██████████| 50/50 [00:03<00:00, 12.95it/s, epoch=48/100, avg_epoch_loss=-4.75]\n",
            "100%|██████████| 50/50 [00:03<00:00, 12.95it/s, epoch=49/100, avg_epoch_loss=-4.76]\n",
            "100%|██████████| 50/50 [00:03<00:00, 12.98it/s, epoch=50/100, avg_epoch_loss=-4.77]\n",
            "100%|██████████| 50/50 [00:03<00:00, 12.90it/s, epoch=51/100, avg_epoch_loss=-4.78]\n",
            "100%|██████████| 50/50 [00:03<00:00, 12.99it/s, epoch=52/100, avg_epoch_loss=-4.79]\n",
            "100%|██████████| 50/50 [00:03<00:00, 12.81it/s, epoch=53/100, avg_epoch_loss=-4.8]\n",
            "100%|██████████| 50/50 [00:03<00:00, 12.88it/s, epoch=54/100, avg_epoch_loss=-4.81]\n",
            "100%|██████████| 50/50 [00:03<00:00, 12.88it/s, epoch=55/100, avg_epoch_loss=-4.82]\n",
            "100%|██████████| 50/50 [00:03<00:00, 12.88it/s, epoch=56/100, avg_epoch_loss=-4.82]\n",
            "100%|██████████| 50/50 [00:03<00:00, 12.98it/s, epoch=57/100, avg_epoch_loss=-4.83]\n",
            "100%|██████████| 50/50 [00:03<00:00, 12.92it/s, epoch=58/100, avg_epoch_loss=-4.84]\n",
            "100%|██████████| 50/50 [00:03<00:00, 12.94it/s, epoch=59/100, avg_epoch_loss=-4.84]\n",
            "100%|██████████| 50/50 [00:03<00:00, 12.95it/s, epoch=60/100, avg_epoch_loss=-4.85]\n",
            "100%|██████████| 50/50 [00:03<00:00, 12.92it/s, epoch=61/100, avg_epoch_loss=-4.85]\n",
            "100%|██████████| 50/50 [00:03<00:00, 12.98it/s, epoch=62/100, avg_epoch_loss=-4.86]\n",
            "100%|██████████| 50/50 [00:03<00:00, 12.96it/s, epoch=63/100, avg_epoch_loss=-4.86]\n",
            "100%|██████████| 50/50 [00:03<00:00, 12.50it/s, epoch=64/100, avg_epoch_loss=-4.87]\n",
            "100%|██████████| 50/50 [00:03<00:00, 12.70it/s, epoch=65/100, avg_epoch_loss=-4.87]\n",
            "100%|██████████| 50/50 [00:03<00:00, 12.64it/s, epoch=66/100, avg_epoch_loss=-4.88]\n",
            "100%|██████████| 50/50 [00:03<00:00, 12.85it/s, epoch=67/100, avg_epoch_loss=-4.88]\n",
            "100%|██████████| 50/50 [00:03<00:00, 12.94it/s, epoch=68/100, avg_epoch_loss=-4.88]\n",
            "100%|██████████| 50/50 [00:03<00:00, 12.96it/s, epoch=69/100, avg_epoch_loss=-4.88]\n",
            "100%|██████████| 50/50 [00:03<00:00, 12.91it/s, epoch=70/100, avg_epoch_loss=-4.81]\n",
            "100%|██████████| 50/50 [00:03<00:00, 12.94it/s, epoch=71/100, avg_epoch_loss=-4.79]\n",
            "100%|██████████| 50/50 [00:04<00:00, 12.07it/s, epoch=72/100, avg_epoch_loss=-4.86]\n",
            "100%|██████████| 50/50 [00:03<00:00, 12.96it/s, epoch=73/100, avg_epoch_loss=-4.88]\n",
            "100%|██████████| 50/50 [00:03<00:00, 12.88it/s, epoch=74/100, avg_epoch_loss=-4.87]\n",
            "100%|██████████| 50/50 [00:03<00:00, 12.85it/s, epoch=75/100, avg_epoch_loss=-4.9]\n",
            "100%|██████████| 50/50 [00:03<00:00, 12.95it/s, epoch=76/100, avg_epoch_loss=-4.77]\n",
            "100%|██████████| 50/50 [00:03<00:00, 12.92it/s, epoch=77/100, avg_epoch_loss=-4.81]\n",
            "100%|██████████| 50/50 [00:03<00:00, 12.86it/s, epoch=78/100, avg_epoch_loss=-4.88]\n",
            "100%|██████████| 50/50 [00:03<00:00, 12.92it/s, epoch=79/100, avg_epoch_loss=-4.9]\n",
            "100%|██████████| 50/50 [00:03<00:00, 12.97it/s, epoch=80/100, avg_epoch_loss=-4.89]\n",
            "100%|██████████| 50/50 [00:03<00:00, 12.86it/s, epoch=81/100, avg_epoch_loss=-4.84]\n",
            "100%|██████████| 50/50 [00:03<00:00, 12.94it/s, epoch=82/100, avg_epoch_loss=-4.87]\n",
            "100%|██████████| 50/50 [00:03<00:00, 12.99it/s, epoch=83/100, avg_epoch_loss=-4.91]\n",
            "100%|██████████| 50/50 [00:03<00:00, 12.95it/s, epoch=84/100, avg_epoch_loss=-4.92]\n",
            "100%|██████████| 50/50 [00:03<00:00, 12.89it/s, epoch=85/100, avg_epoch_loss=-4.89]\n",
            "100%|██████████| 50/50 [00:03<00:00, 12.84it/s, epoch=86/100, avg_epoch_loss=-4.82]\n",
            "100%|██████████| 50/50 [00:03<00:00, 12.87it/s, epoch=87/100, avg_epoch_loss=-4.86]\n",
            "100%|██████████| 50/50 [00:03<00:00, 12.99it/s, epoch=88/100, avg_epoch_loss=-4.91]\n",
            "100%|██████████| 50/50 [00:03<00:00, 12.97it/s, epoch=89/100, avg_epoch_loss=-4.85]\n",
            "100%|██████████| 50/50 [00:03<00:00, 12.93it/s, epoch=90/100, avg_epoch_loss=-4.82]\n",
            "100%|██████████| 50/50 [00:03<00:00, 12.97it/s, epoch=91/100, avg_epoch_loss=-4.89]\n",
            "100%|██████████| 50/50 [00:03<00:00, 12.93it/s, epoch=92/100, avg_epoch_loss=-4.91]\n",
            "100%|██████████| 50/50 [00:03<00:00, 12.93it/s, epoch=93/100, avg_epoch_loss=-4.92]\n",
            "100%|██████████| 50/50 [00:03<00:00, 12.98it/s, epoch=94/100, avg_epoch_loss=-4.93]\n",
            "100%|██████████| 50/50 [00:03<00:00, 12.87it/s, epoch=95/100, avg_epoch_loss=-4.93]\n",
            "100%|██████████| 50/50 [00:03<00:00, 12.96it/s, epoch=96/100, avg_epoch_loss=-4.94]\n",
            "100%|██████████| 50/50 [00:03<00:00, 12.99it/s, epoch=97/100, avg_epoch_loss=-4.94]\n",
            "100%|██████████| 50/50 [00:03<00:00, 12.91it/s, epoch=98/100, avg_epoch_loss=-4.94]\n",
            "100%|██████████| 50/50 [00:03<00:00, 12.98it/s, epoch=99/100, avg_epoch_loss=-4.94]\n",
            "100%|██████████| 50/50 [00:03<00:00, 12.96it/s, epoch=100/100, avg_epoch_loss=-4.95]\n"
          ],
          "name": "stderr"
        }
      ]
    },
    {
      "cell_type": "code",
      "metadata": {
        "colab_type": "code",
        "id": "H7vVKhYYUox1",
        "outputId": "b9d9ca2a-3d69-41a2-9cec-7506f6bac8d1",
        "colab": {
          "base_uri": "https://localhost:8080/",
          "height": 503
        }
      },
      "source": [
        "forecast_it, ts_it = make_evaluation_predictions(\n",
        "    dataset=exchange_rate_dataset.test, \n",
        "    predictor=DF_predictor, \n",
        "    num_samples=100, \n",
        ")\n",
        "\n",
        "forecasts = list(forecast_it)\n",
        "tss = list(ts_it)\n",
        "\n",
        "evaluator = Evaluator(quantiles=[0.1, 0.5, 0.9])\n",
        "agg_metrics, item_metrics = evaluator(iter(tss), iter(forecasts), num_series=len(exchange_rate_dataset.test))\n",
        "\n",
        "print(json.dumps(agg_metrics, indent=4))"
      ],
      "execution_count": 0,
      "outputs": [
        {
          "output_type": "stream",
          "text": [
            "Running evaluation: 100%|██████████| 40/40 [00:00<00:00, 907.24it/s]\n"
          ],
          "name": "stderr"
        },
        {
          "output_type": "stream",
          "text": [
            "{\n",
            "    \"MSE\": 0.002736776959985339,\n",
            "    \"abs_error\": 45.29600842297077,\n",
            "    \"abs_target_sum\": 975.9766580164433,\n",
            "    \"abs_target_mean\": 0.8133138816803692,\n",
            "    \"seasonal_error\": 0.006515919403041841,\n",
            "    \"MASE\": 74.44956299622991,\n",
            "    \"MAPE\": 0.3323232758775952,\n",
            "    \"sMAPE\": 0.17889929541209057,\n",
            "    \"OWA\": NaN,\n",
            "    \"MSIS\": 2918.558188344827,\n",
            "    \"QuantileLoss[0.1]\": 45.52110567092896,\n",
            "    \"Coverage[0.1]\": 0.5658333333333333,\n",
            "    \"QuantileLoss[0.5]\": 45.296008456498384,\n",
            "    \"Coverage[0.5]\": 0.615,\n",
            "    \"QuantileLoss[0.9]\": 39.17810098715127,\n",
            "    \"Coverage[0.9]\": 0.6541666666666667,\n",
            "    \"RMSE\": 0.05231421374717715,\n",
            "    \"NRMSE\": 0.06432229293700478,\n",
            "    \"ND\": 0.04641095465851564,\n",
            "    \"wQuantileLoss[0.1]\": 0.046641592600631665,\n",
            "    \"wQuantileLoss[0.5]\": 0.046410954692868524,\n",
            "    \"wQuantileLoss[0.9]\": 0.040142456958731074,\n",
            "    \"mean_wQuantileLoss\": 0.04439833475074375,\n",
            "    \"MAE_Coverage\": 0.27555555555555555\n",
            "}\n"
          ],
          "name": "stdout"
        }
      ]
    },
    {
      "cell_type": "code",
      "metadata": {
        "colab_type": "code",
        "id": "XUHZBr5bUox4",
        "colab": {}
      },
      "source": [
        ""
      ],
      "execution_count": 0,
      "outputs": []
    },
    {
      "cell_type": "markdown",
      "metadata": {
        "id": "OjjjZv_uD7L_",
        "colab_type": "text"
      },
      "source": [
        "## m4_daily"
      ]
    },
    {
      "cell_type": "code",
      "metadata": {
        "id": "DpQOqBRpwUSK",
        "colab_type": "code",
        "outputId": "4adcba9c-dc05-41ee-f305-3974d80a1786",
        "colab": {
          "base_uri": "https://localhost:8080/",
          "height": 53
        }
      },
      "source": [
        "m4_daily_dataset = get_dataset(\"m4_daily\", regenerate=True)"
      ],
      "execution_count": 0,
      "outputs": [
        {
          "output_type": "stream",
          "text": [
            "saving time-series into /root/.mxnet/gluon-ts/datasets/m4_daily/train/data.json\n",
            "saving time-series into /root/.mxnet/gluon-ts/datasets/m4_daily/test/data.json\n"
          ],
          "name": "stdout"
        }
      ]
    },
    {
      "cell_type": "code",
      "metadata": {
        "id": "nDNzNbsqGOZ3",
        "colab_type": "code",
        "outputId": "2de83c74-c68c-42a9-a328-186b75947396",
        "colab": {
          "base_uri": "https://localhost:8080/",
          "height": 53
        }
      },
      "source": [
        "print (len(m4_daily_dataset.train))\n",
        "print (len(m4_daily_dataset.test))"
      ],
      "execution_count": 0,
      "outputs": [
        {
          "output_type": "stream",
          "text": [
            "4227\n",
            "4227\n"
          ],
          "name": "stdout"
        }
      ]
    },
    {
      "cell_type": "code",
      "metadata": {
        "id": "rARQuyPqE2E8",
        "colab_type": "code",
        "outputId": "050af76b-c42a-45e8-c7c1-6e274f5414af",
        "colab": {
          "base_uri": "https://localhost:8080/",
          "height": 35
        }
      },
      "source": [
        "m4_daily_dataset.metadata"
      ],
      "execution_count": 0,
      "outputs": [
        {
          "output_type": "execute_result",
          "data": {
            "text/plain": [
              "MetaData(freq='D', target=None, feat_static_cat=[CategoricalFeatureInfo(name='feat_static_cat', cardinality='4227')], feat_static_real=[], feat_dynamic_real=[], feat_dynamic_cat=[], prediction_length=14)"
            ]
          },
          "metadata": {
            "tags": []
          },
          "execution_count": 29
        }
      ]
    },
    {
      "cell_type": "code",
      "metadata": {
        "colab_type": "code",
        "outputId": "ca63cb9a-b07c-4667-a70f-e0a9dd07dc66",
        "id": "u8sgMUqCpR_t",
        "colab": {
          "base_uri": "https://localhost:8080/",
          "height": 35
        }
      },
      "source": [
        "m4_daily_dataset.metadata.feat_static_cat[0]"
      ],
      "execution_count": 0,
      "outputs": [
        {
          "output_type": "execute_result",
          "data": {
            "text/plain": [
              "CategoricalFeatureInfo(name='feat_static_cat', cardinality='4227')"
            ]
          },
          "metadata": {
            "tags": []
          },
          "execution_count": 30
        }
      ]
    },
    {
      "cell_type": "code",
      "metadata": {
        "colab_type": "code",
        "id": "frjgd9iNpR_w",
        "colab": {}
      },
      "source": [
        "car = [int(m4_daily_dataset.metadata.feat_static_cat[0].cardinality)]"
      ],
      "execution_count": 0,
      "outputs": []
    },
    {
      "cell_type": "code",
      "metadata": {
        "id": "ZCwph1C5EoPW",
        "colab_type": "code",
        "outputId": "d51fd6ed-38c6-4883-f8b7-d5925616833c",
        "colab": {
          "base_uri": "https://localhost:8080/",
          "height": 35
        }
      },
      "source": [
        "m4_daily_dataset.metadata.feat_static_cat"
      ],
      "execution_count": 0,
      "outputs": [
        {
          "output_type": "execute_result",
          "data": {
            "text/plain": [
              "[CategoricalFeatureInfo(name='feat_static_cat', cardinality='4227')]"
            ]
          },
          "metadata": {
            "tags": []
          },
          "execution_count": 32
        }
      ]
    },
    {
      "cell_type": "code",
      "metadata": {
        "id": "1o9ITiZVFB61",
        "colab_type": "code",
        "outputId": "fd68adb2-8ef9-4199-ceb1-5fb2094e27c0",
        "colab": {
          "base_uri": "https://localhost:8080/",
          "height": 35
        }
      },
      "source": [
        "m4_daily_dataset.metadata.feat_static_cat[0]"
      ],
      "execution_count": 0,
      "outputs": [
        {
          "output_type": "execute_result",
          "data": {
            "text/plain": [
              "CategoricalFeatureInfo(name='feat_static_cat', cardinality='4227')"
            ]
          },
          "metadata": {
            "tags": []
          },
          "execution_count": 33
        }
      ]
    },
    {
      "cell_type": "code",
      "metadata": {
        "id": "f946ZalyEh4c",
        "colab_type": "code",
        "outputId": "4ce54dc3-d31c-4f46-fb53-416a4ebccd77",
        "colab": {
          "base_uri": "https://localhost:8080/",
          "height": 35
        }
      },
      "source": [
        "next(iter(m4_daily_dataset.train)).keys()"
      ],
      "execution_count": 0,
      "outputs": [
        {
          "output_type": "execute_result",
          "data": {
            "text/plain": [
              "dict_keys(['start', 'target', 'feat_static_cat', 'item_id', 'source'])"
            ]
          },
          "metadata": {
            "tags": []
          },
          "execution_count": 34
        }
      ]
    },
    {
      "cell_type": "code",
      "metadata": {
        "id": "JtP-UGN0EBxc",
        "colab_type": "code",
        "colab": {}
      },
      "source": [
        "# https://gluon-ts.mxnet.io/api/gluonts/gluonts.model.deep_factor.html\n",
        "DF_estimator = DeepFactorEstimator(\n",
        "    freq=m4_daily_dataset.metadata.freq, # Time series frequency\n",
        "    prediction_length=m4_daily_dataset.metadata.prediction_length, # Prediction length.\n",
        "    num_hidden_global=50, # (default: 50).\n",
        "    num_layers_global=1, # (default: 1).\n",
        "    num_factors=10, # (default: 10).\n",
        "    num_hidden_local=5, # (default: 5).\n",
        "    num_layers_local=1, # (default: 1).\n",
        "    cell_type='lstm', # (default: ‘lstm’).\n",
        "    trainer = deepfactor_trainer, # (default: Trainer()).\n",
        "    context_length=None, # (default: None, in which case context_length = prediction_length).\n",
        "    num_parallel_samples=100, # (default: 100).\n",
        "    cardinality=car, # (default: list([1]).\n",
        "    embedding_dimension=10, # (default: 10).\n",
        "    distr_output=StudentTOutput(), # (default: StudentTOutput()).\n",
        ")"
      ],
      "execution_count": 0,
      "outputs": []
    },
    {
      "cell_type": "code",
      "metadata": {
        "id": "cNq_opQMF3sc",
        "colab_type": "code",
        "outputId": "d817ac64-36d3-46c9-b7d2-86308bfaadcd",
        "colab": {
          "base_uri": "https://localhost:8080/",
          "height": 1000
        }
      },
      "source": [
        "DF_predictor = DF_estimator.train(m4_daily_dataset.train)"
      ],
      "execution_count": 0,
      "outputs": [
        {
          "output_type": "stream",
          "text": [
            "\r  0%|          | 0/50 [00:00<?, ?it/s]"
          ],
          "name": "stderr"
        },
        {
          "output_type": "stream",
          "text": [
            "learning rate from ``lr_scheduler`` has been overwritten by ``learning_rate`` in optimizer.\n"
          ],
          "name": "stdout"
        },
        {
          "output_type": "stream",
          "text": [
            "100%|██████████| 50/50 [00:02<00:00, 24.16it/s, epoch=1/100, avg_epoch_loss=6.2e+7]\n",
            "100%|██████████| 50/50 [00:01<00:00, 26.95it/s, epoch=2/100, avg_epoch_loss=4.48e+7]\n",
            "100%|██████████| 50/50 [00:01<00:00, 34.92it/s, epoch=3/100, avg_epoch_loss=2.06e+7]\n",
            "100%|██████████| 50/50 [00:01<00:00, 26.30it/s, epoch=4/100, avg_epoch_loss=1.19e+7]\n",
            "100%|██████████| 50/50 [00:02<00:00, 22.43it/s, epoch=5/100, avg_epoch_loss=9.55e+6]\n",
            "100%|██████████| 50/50 [00:01<00:00, 30.93it/s, epoch=6/100, avg_epoch_loss=3.3e+6]\n",
            "100%|██████████| 50/50 [00:01<00:00, 26.14it/s, epoch=7/100, avg_epoch_loss=3.73e+6]\n",
            "100%|██████████| 50/50 [00:01<00:00, 28.41it/s, epoch=8/100, avg_epoch_loss=2.96e+6]\n",
            "100%|██████████| 50/50 [00:02<00:00, 24.78it/s, epoch=9/100, avg_epoch_loss=2.2e+6]\n",
            "100%|██████████| 50/50 [00:01<00:00, 25.08it/s, epoch=10/100, avg_epoch_loss=2.02e+6]\n",
            "100%|██████████| 50/50 [00:01<00:00, 34.79it/s, epoch=11/100, avg_epoch_loss=1e+6]\n",
            "100%|██████████| 50/50 [00:01<00:00, 26.23it/s, epoch=12/100, avg_epoch_loss=1.09e+6]\n",
            "100%|██████████| 50/50 [00:02<00:00, 23.03it/s, epoch=13/100, avg_epoch_loss=1.08e+6]\n",
            "100%|██████████| 50/50 [00:01<00:00, 29.30it/s, epoch=14/100, avg_epoch_loss=5.54e+5]\n",
            "100%|██████████| 50/50 [00:01<00:00, 26.54it/s, epoch=15/100, avg_epoch_loss=7.2e+5]\n",
            "100%|██████████| 50/50 [00:01<00:00, 29.68it/s, epoch=16/100, avg_epoch_loss=4.73e+5]\n",
            "100%|██████████| 50/50 [00:02<00:00, 24.91it/s, epoch=17/100, avg_epoch_loss=4.19e+5]\n",
            "100%|██████████| 50/50 [00:02<00:00, 23.60it/s, epoch=18/100, avg_epoch_loss=4.55e+5]\n",
            "100%|██████████| 50/50 [00:01<00:00, 33.76it/s, epoch=19/100, avg_epoch_loss=2.35e+5]\n",
            "100%|██████████| 50/50 [00:01<00:00, 26.37it/s, epoch=20/100, avg_epoch_loss=2.78e+5]\n",
            "100%|██████████| 50/50 [00:02<00:00, 24.41it/s, epoch=21/100, avg_epoch_loss=3.14e+5]\n",
            "100%|██████████| 50/50 [00:01<00:00, 27.21it/s, epoch=22/100, avg_epoch_loss=1.98e+5]\n",
            "100%|██████████| 50/50 [00:01<00:00, 26.16it/s, epoch=23/100, avg_epoch_loss=2.39e+5]\n",
            "100%|██████████| 50/50 [00:01<00:00, 31.64it/s, epoch=24/100, avg_epoch_loss=2.01e+5]\n",
            "100%|██████████| 50/50 [00:01<00:00, 25.08it/s, epoch=25/100, avg_epoch_loss=1.77e+5]\n",
            "100%|██████████| 50/50 [00:02<00:00, 22.56it/s, epoch=26/100, avg_epoch_loss=2.53e+5]\n",
            "100%|██████████| 50/50 [00:01<00:00, 34.23it/s, epoch=27/100, avg_epoch_loss=1.35e+5]\n",
            "100%|██████████| 50/50 [00:01<00:00, 26.31it/s, epoch=28/100, avg_epoch_loss=1.49e+5]\n",
            "100%|██████████| 50/50 [00:01<00:00, 25.59it/s, epoch=29/100, avg_epoch_loss=1.66e+5]\n",
            "100%|██████████| 50/50 [00:01<00:00, 25.76it/s, epoch=30/100, avg_epoch_loss=1.53e+5]\n",
            "100%|██████████| 50/50 [00:01<00:00, 26.31it/s, epoch=31/100, avg_epoch_loss=1.19e+5]\n",
            "100%|██████████| 50/50 [00:01<00:00, 33.03it/s, epoch=32/100, avg_epoch_loss=1.07e+5]\n",
            "100%|██████████| 50/50 [00:01<00:00, 25.05it/s, epoch=33/100, avg_epoch_loss=3.03e+5]\n",
            "100%|██████████| 50/50 [00:03<00:00, 12.52it/s, epoch=34/100, avg_epoch_loss=1.39e+5]\n",
            "100%|██████████| 50/50 [00:02<00:00, 19.55it/s, epoch=35/100, avg_epoch_loss=8.37e+4]\n",
            "100%|██████████| 50/50 [00:01<00:00, 26.33it/s, epoch=36/100, avg_epoch_loss=1.77e+5]\n",
            "100%|██████████| 50/50 [00:01<00:00, 27.17it/s, epoch=37/100, avg_epoch_loss=1.27e+5]\n",
            "100%|██████████| 50/50 [00:02<00:00, 24.69it/s, epoch=38/100, avg_epoch_loss=1.48e+5]\n",
            "100%|██████████| 50/50 [00:01<00:00, 26.47it/s, epoch=39/100, avg_epoch_loss=1.14e+5]\n",
            "100%|██████████| 50/50 [00:01<00:00, 33.89it/s, epoch=40/100, avg_epoch_loss=7.93e+4]\n",
            "100%|██████████| 50/50 [00:01<00:00, 25.90it/s, epoch=41/100, avg_epoch_loss=1.05e+5]\n",
            "100%|██████████| 50/50 [00:02<00:00, 22.11it/s, epoch=42/100, avg_epoch_loss=2.12e+5]\n",
            "100%|██████████| 50/50 [00:01<00:00, 29.48it/s, epoch=43/100, avg_epoch_loss=1e+5]\n",
            "100%|██████████| 50/50 [00:01<00:00, 25.75it/s, epoch=44/100, avg_epoch_loss=2.71e+5]\n",
            "100%|██████████| 50/50 [00:01<00:00, 28.15it/s, epoch=45/100, avg_epoch_loss=1e+5]\n",
            "100%|██████████| 50/50 [00:02<00:00, 24.32it/s, epoch=46/100, avg_epoch_loss=6.67e+4]\n",
            "100%|██████████| 50/50 [00:02<00:00, 24.88it/s, epoch=47/100, avg_epoch_loss=2.78e+5]\n",
            "100%|██████████| 50/50 [00:01<00:00, 34.90it/s, epoch=48/100, avg_epoch_loss=6.12e+4]\n",
            "100%|██████████| 50/50 [00:01<00:00, 26.17it/s, epoch=49/100, avg_epoch_loss=6.75e+4]\n",
            "100%|██████████| 50/50 [00:02<00:00, 23.33it/s, epoch=50/100, avg_epoch_loss=1.79e+5]\n",
            "100%|██████████| 50/50 [00:01<00:00, 28.57it/s, epoch=51/100, avg_epoch_loss=8.63e+4]\n",
            "100%|██████████| 50/50 [00:01<00:00, 26.20it/s, epoch=52/100, avg_epoch_loss=5.52e+4]\n",
            "100%|██████████| 50/50 [00:01<00:00, 30.15it/s, epoch=53/100, avg_epoch_loss=1.75e+5]\n",
            "100%|██████████| 50/50 [00:01<00:00, 25.13it/s, epoch=54/100, avg_epoch_loss=9.44e+4]\n",
            "100%|██████████| 50/50 [00:02<00:00, 23.60it/s, epoch=55/100, avg_epoch_loss=1.12e+5]\n",
            "100%|██████████| 50/50 [00:01<00:00, 34.43it/s, epoch=56/100, avg_epoch_loss=1.15e+5]\n",
            "100%|██████████| 50/50 [00:01<00:00, 26.23it/s, epoch=57/100, avg_epoch_loss=9.06e+4]\n",
            "100%|██████████| 50/50 [00:02<00:00, 24.94it/s, epoch=58/100, avg_epoch_loss=6.73e+4]\n",
            "100%|██████████| 50/50 [00:01<00:00, 27.20it/s, epoch=59/100, avg_epoch_loss=7.92e+4]\n",
            "100%|██████████| 50/50 [00:01<00:00, 26.35it/s, epoch=60/100, avg_epoch_loss=4.68e+4]\n",
            "100%|██████████| 50/50 [00:01<00:00, 32.05it/s, epoch=61/100, avg_epoch_loss=5.96e+4]\n",
            "100%|██████████| 50/50 [00:01<00:00, 25.15it/s, epoch=62/100, avg_epoch_loss=1.77e+5]\n",
            "100%|██████████| 50/50 [00:02<00:00, 22.73it/s, epoch=63/100, avg_epoch_loss=4.12e+4]\n",
            "100%|██████████| 50/50 [00:01<00:00, 34.04it/s, epoch=64/100, avg_epoch_loss=5.32e+4]\n",
            "100%|██████████| 50/50 [00:01<00:00, 26.25it/s, epoch=65/100, avg_epoch_loss=5.93e+4]\n",
            "100%|██████████| 50/50 [00:01<00:00, 26.27it/s, epoch=66/100, avg_epoch_loss=2.91e+4]\n",
            "100%|██████████| 50/50 [00:01<00:00, 25.78it/s, epoch=67/100, avg_epoch_loss=6.96e+4]\n",
            "100%|██████████| 50/50 [00:01<00:00, 26.17it/s, epoch=68/100, avg_epoch_loss=2.35e+5]\n",
            "100%|██████████| 50/50 [00:01<00:00, 32.77it/s, epoch=69/100, avg_epoch_loss=2.18e+4]\n",
            "100%|██████████| 50/50 [00:01<00:00, 25.35it/s, epoch=70/100, avg_epoch_loss=9.65e+4]\n",
            "100%|██████████| 50/50 [00:02<00:00, 22.34it/s, epoch=71/100, avg_epoch_loss=1.98e+5]\n",
            "100%|██████████| 50/50 [00:01<00:00, 32.83it/s, epoch=72/100, avg_epoch_loss=3.2e+4]\n",
            "100%|██████████| 50/50 [00:01<00:00, 26.39it/s, epoch=73/100, avg_epoch_loss=3.81e+4]\n",
            "100%|██████████| 50/50 [00:01<00:00, 27.45it/s, epoch=74/100, avg_epoch_loss=7.36e+4]\n",
            "100%|██████████| 50/50 [00:02<00:00, 24.81it/s, epoch=75/100, avg_epoch_loss=6.19e+4]\n",
            "100%|██████████| 50/50 [00:01<00:00, 25.93it/s, epoch=76/100, avg_epoch_loss=7.97e+4]\n",
            "100%|██████████| 50/50 [00:01<00:00, 34.42it/s, epoch=77/100, avg_epoch_loss=1.17e+5]\n",
            "100%|██████████| 50/50 [00:01<00:00, 26.50it/s, epoch=78/100, avg_epoch_loss=4.05e+4]\n",
            "100%|██████████| 50/50 [00:02<00:00, 22.64it/s, epoch=79/100, avg_epoch_loss=1.27e+5]\n",
            "100%|██████████| 50/50 [00:01<00:00, 30.42it/s, epoch=80/100, avg_epoch_loss=1.49e+5]\n",
            "100%|██████████| 50/50 [00:01<00:00, 26.41it/s, epoch=81/100, avg_epoch_loss=6.68e+4]\n",
            "100%|██████████| 50/50 [00:01<00:00, 28.75it/s, epoch=82/100, avg_epoch_loss=4.4e+4]\n",
            "100%|██████████| 50/50 [00:02<00:00, 24.99it/s, epoch=83/100, avg_epoch_loss=5.32e+4]\n",
            "100%|██████████| 50/50 [00:02<00:00, 24.26it/s, epoch=84/100, avg_epoch_loss=3.19e+4]\n",
            "100%|██████████| 50/50 [00:01<00:00, 34.42it/s, epoch=85/100, avg_epoch_loss=1.16e+4]\n",
            "100%|██████████| 50/50 [00:01<00:00, 26.20it/s, epoch=86/100, avg_epoch_loss=2.99e+4]\n",
            "100%|██████████| 50/50 [00:02<00:00, 23.82it/s, epoch=87/100, avg_epoch_loss=5.04e+4]\n",
            "100%|██████████| 50/50 [00:01<00:00, 28.09it/s, epoch=88/100, avg_epoch_loss=2.31e+4]\n",
            "100%|██████████| 50/50 [00:01<00:00, 26.69it/s, epoch=89/100, avg_epoch_loss=2.38e+4]\n",
            "100%|██████████| 50/50 [00:01<00:00, 30.76it/s, epoch=90/100, avg_epoch_loss=1.19e+4]\n",
            "100%|██████████| 50/50 [00:01<00:00, 25.06it/s, epoch=91/100, avg_epoch_loss=2.61e+4]\n",
            "100%|██████████| 50/50 [00:02<00:00, 23.37it/s, epoch=92/100, avg_epoch_loss=2.03e+4]\n",
            "100%|██████████| 50/50 [00:01<00:00, 34.25it/s, epoch=93/100, avg_epoch_loss=2.03e+4]\n",
            "100%|██████████| 50/50 [00:01<00:00, 26.40it/s, epoch=94/100, avg_epoch_loss=6.47e+4]\n",
            "100%|██████████| 50/50 [00:01<00:00, 25.13it/s, epoch=95/100, avg_epoch_loss=1.57e+4]\n",
            "100%|██████████| 50/50 [00:01<00:00, 26.77it/s, epoch=96/100, avg_epoch_loss=3.91e+4]\n",
            "100%|██████████| 50/50 [00:01<00:00, 26.39it/s, epoch=97/100, avg_epoch_loss=3.83e+4]\n",
            "100%|██████████| 50/50 [00:01<00:00, 32.42it/s, epoch=98/100, avg_epoch_loss=3.28e+4]\n",
            "100%|██████████| 50/50 [00:01<00:00, 25.05it/s, epoch=99/100, avg_epoch_loss=2.12e+4]\n",
            "100%|██████████| 50/50 [00:02<00:00, 22.13it/s, epoch=100/100, avg_epoch_loss=1.88e+4]\n"
          ],
          "name": "stderr"
        }
      ]
    },
    {
      "cell_type": "code",
      "metadata": {
        "id": "xWBEgxcqGCMH",
        "colab_type": "code",
        "outputId": "3df32ad3-8981-4257-f239-f3a3fb23764b",
        "colab": {
          "base_uri": "https://localhost:8080/",
          "height": 503
        }
      },
      "source": [
        "forecast_it, ts_it = make_evaluation_predictions(\n",
        "    dataset=m4_daily_dataset.test, \n",
        "    predictor=DF_predictor, \n",
        "    num_samples=100, \n",
        ")\n",
        "\n",
        "forecasts = list(forecast_it)\n",
        "tss = list(ts_it)\n",
        "\n",
        "evaluator = Evaluator(quantiles=[0.1, 0.5, 0.9])\n",
        "agg_metrics, item_metrics = evaluator(iter(tss), iter(forecasts), num_series=len(m4_daily_dataset.test))\n",
        "\n",
        "print(json.dumps(agg_metrics, indent=4))"
      ],
      "execution_count": 0,
      "outputs": [
        {
          "output_type": "stream",
          "text": [
            "Running evaluation: 100%|██████████| 4227/4227 [00:00<00:00, 68888.39it/s]\n"
          ],
          "name": "stderr"
        },
        {
          "output_type": "stream",
          "text": [
            "{\n",
            "    \"MSE\": 1148196273.5156221,\n",
            "    \"abs_error\": 1059233491.6230774,\n",
            "    \"abs_target_sum\": 383097653.5168457,\n",
            "    \"abs_target_mean\": 6473.649895515986,\n",
            "    \"seasonal_error\": 52.78075560259988,\n",
            "    \"MASE\": 312.1557271938038,\n",
            "    \"MAPE\": 2.411727807274379,\n",
            "    \"sMAPE\": 0.8847168145180249,\n",
            "    \"OWA\": NaN,\n",
            "    \"MSIS\": 12439.9404255331,\n",
            "    \"QuantileLoss[0.1]\": 1899205754.2938597,\n",
            "    \"Coverage[0.1]\": 0.9360742167697453,\n",
            "    \"QuantileLoss[0.5]\": 1059233493.0277863,\n",
            "    \"Coverage[0.5]\": 0.9404508432187636,\n",
            "    \"QuantileLoss[0.9]\": 216400867.7806152,\n",
            "    \"Coverage[0.9]\": 0.9436952921693873,\n",
            "    \"RMSE\": 33885.0449832315,\n",
            "    \"NRMSE\": 5.234302986743566,\n",
            "    \"ND\": 2.764917722411736,\n",
            "    \"wQuantileLoss[0.1]\": 4.95749774726915,\n",
            "    \"wQuantileLoss[0.5]\": 2.764917726078448,\n",
            "    \"wQuantileLoss[0.9]\": 0.5648712953317516,\n",
            "    \"mean_wQuantileLoss\": 2.7624289228931165,\n",
            "    \"MAE_Coverage\": 0.4400734507192987\n",
            "}\n"
          ],
          "name": "stdout"
        }
      ]
    },
    {
      "cell_type": "code",
      "metadata": {
        "id": "c3VyPD7vGh6w",
        "colab_type": "code",
        "colab": {}
      },
      "source": [
        ""
      ],
      "execution_count": 0,
      "outputs": []
    },
    {
      "cell_type": "markdown",
      "metadata": {
        "colab_type": "text",
        "id": "OWJ9jeRZO9GB"
      },
      "source": [
        "## m4_hourly"
      ]
    },
    {
      "cell_type": "code",
      "metadata": {
        "colab_type": "code",
        "id": "ZK99kK7fO9GE",
        "outputId": "dcb85818-60d1-4e16-f23d-6bab682405f2",
        "colab": {
          "base_uri": "https://localhost:8080/",
          "height": 53
        }
      },
      "source": [
        "m4_hourly_dataset = get_dataset(\"m4_hourly\", regenerate=False)"
      ],
      "execution_count": 0,
      "outputs": [
        {
          "output_type": "stream",
          "text": [
            "saving time-series into /root/.mxnet/gluon-ts/datasets/m4_hourly/train/data.json\n",
            "saving time-series into /root/.mxnet/gluon-ts/datasets/m4_hourly/test/data.json\n"
          ],
          "name": "stdout"
        }
      ]
    },
    {
      "cell_type": "code",
      "metadata": {
        "colab_type": "code",
        "outputId": "75224215-24c1-4d23-ccf0-3b013e6e95ed",
        "id": "tURfQTqXO9GJ",
        "colab": {
          "base_uri": "https://localhost:8080/",
          "height": 53
        }
      },
      "source": [
        "print (len(m4_hourly_dataset.train))\n",
        "print (len(m4_hourly_dataset.test))"
      ],
      "execution_count": 0,
      "outputs": [
        {
          "output_type": "stream",
          "text": [
            "414\n",
            "414\n"
          ],
          "name": "stdout"
        }
      ]
    },
    {
      "cell_type": "code",
      "metadata": {
        "colab_type": "code",
        "outputId": "649ddff2-8b98-41ab-d4da-3cca449aed82",
        "id": "aowwnwLcO9GM",
        "colab": {
          "base_uri": "https://localhost:8080/",
          "height": 35
        }
      },
      "source": [
        "m4_hourly_dataset.metadata"
      ],
      "execution_count": 0,
      "outputs": [
        {
          "output_type": "execute_result",
          "data": {
            "text/plain": [
              "MetaData(freq='H', target=None, feat_static_cat=[CategoricalFeatureInfo(name='feat_static_cat', cardinality='414')], feat_static_real=[], feat_dynamic_real=[], feat_dynamic_cat=[], prediction_length=48)"
            ]
          },
          "metadata": {
            "tags": []
          },
          "execution_count": 40
        }
      ]
    },
    {
      "cell_type": "code",
      "metadata": {
        "colab_type": "code",
        "outputId": "c602c545-0474-4121-9533-e7f4d75825da",
        "id": "WGlNMgykpmSF",
        "colab": {
          "base_uri": "https://localhost:8080/",
          "height": 35
        }
      },
      "source": [
        "m4_hourly_dataset.metadata.feat_static_cat[0]"
      ],
      "execution_count": 0,
      "outputs": [
        {
          "output_type": "execute_result",
          "data": {
            "text/plain": [
              "CategoricalFeatureInfo(name='feat_static_cat', cardinality='414')"
            ]
          },
          "metadata": {
            "tags": []
          },
          "execution_count": 41
        }
      ]
    },
    {
      "cell_type": "code",
      "metadata": {
        "colab_type": "code",
        "id": "n8xjempNpmSJ",
        "colab": {}
      },
      "source": [
        "car = [int(m4_hourly_dataset.metadata.feat_static_cat[0].cardinality)]"
      ],
      "execution_count": 0,
      "outputs": []
    },
    {
      "cell_type": "code",
      "metadata": {
        "colab_type": "code",
        "outputId": "6b081ba0-7543-44ee-f74e-63982e205034",
        "id": "XJesCFZ8O9GX",
        "colab": {
          "base_uri": "https://localhost:8080/",
          "height": 35
        }
      },
      "source": [
        "next(iter(m4_hourly_dataset.train)).keys()"
      ],
      "execution_count": 0,
      "outputs": [
        {
          "output_type": "execute_result",
          "data": {
            "text/plain": [
              "dict_keys(['start', 'target', 'feat_static_cat', 'item_id', 'source'])"
            ]
          },
          "metadata": {
            "tags": []
          },
          "execution_count": 43
        }
      ]
    },
    {
      "cell_type": "code",
      "metadata": {
        "colab_type": "code",
        "id": "PD0vtfP8O9Gb",
        "colab": {}
      },
      "source": [
        "# https://gluon-ts.mxnet.io/api/gluonts/gluonts.model.deep_factor.html\n",
        "DF_estimator = DeepFactorEstimator(\n",
        "    freq=m4_hourly_dataset.metadata.freq, # Time series frequency\n",
        "    prediction_length=m4_hourly_dataset.metadata.prediction_length, # Prediction length.\n",
        "    num_hidden_global=50, # (default: 50).\n",
        "    num_layers_global=1, # (default: 1).\n",
        "    num_factors=10, # (default: 10).\n",
        "    num_hidden_local=5, # (default: 5).\n",
        "    num_layers_local=1, # (default: 1).\n",
        "    cell_type='lstm', # (default: ‘lstm’).\n",
        "    trainer = deepfactor_trainer, # (default: Trainer()).\n",
        "    context_length=None, # (default: None, in which case context_length = prediction_length).\n",
        "    num_parallel_samples=100, # (default: 100).\n",
        "    cardinality=car, # (default: list([1]).\n",
        "    embedding_dimension=10, # (default: 10).\n",
        "    distr_output=StudentTOutput(), # (default: StudentTOutput()).\n",
        ")"
      ],
      "execution_count": 0,
      "outputs": []
    },
    {
      "cell_type": "code",
      "metadata": {
        "colab_type": "code",
        "outputId": "98b3e673-3669-4ce9-824b-fbea1735f459",
        "id": "Qf3ZGOpPO9Gf",
        "colab": {
          "base_uri": "https://localhost:8080/",
          "height": 1000
        }
      },
      "source": [
        "DF_predictor = DF_estimator.train(m4_hourly_dataset.train)"
      ],
      "execution_count": 0,
      "outputs": [
        {
          "output_type": "stream",
          "text": [
            "\r  0%|          | 0/50 [00:00<?, ?it/s]"
          ],
          "name": "stderr"
        },
        {
          "output_type": "stream",
          "text": [
            "learning rate from ``lr_scheduler`` has been overwritten by ``learning_rate`` in optimizer.\n"
          ],
          "name": "stdout"
        },
        {
          "output_type": "stream",
          "text": [
            "100%|██████████| 50/50 [00:02<00:00, 24.02it/s, epoch=1/100, avg_epoch_loss=1.83e+9]\n",
            "100%|██████████| 50/50 [00:02<00:00, 22.57it/s, epoch=2/100, avg_epoch_loss=1.42e+9]\n",
            "100%|██████████| 50/50 [00:02<00:00, 21.87it/s, epoch=3/100, avg_epoch_loss=9.74e+8]\n",
            "100%|██████████| 50/50 [00:02<00:00, 22.47it/s, epoch=4/100, avg_epoch_loss=5.29e+8]\n",
            "100%|██████████| 50/50 [00:02<00:00, 22.63it/s, epoch=5/100, avg_epoch_loss=2.56e+8]\n",
            "100%|██████████| 50/50 [00:02<00:00, 22.71it/s, epoch=6/100, avg_epoch_loss=1.24e+8]\n",
            "100%|██████████| 50/50 [00:02<00:00, 22.82it/s, epoch=7/100, avg_epoch_loss=7.81e+7]\n",
            "100%|██████████| 50/50 [00:02<00:00, 22.85it/s, epoch=8/100, avg_epoch_loss=4.93e+7]\n",
            "100%|██████████| 50/50 [00:02<00:00, 22.64it/s, epoch=9/100, avg_epoch_loss=3.45e+7]\n",
            "100%|██████████| 50/50 [00:02<00:00, 22.86it/s, epoch=10/100, avg_epoch_loss=2.17e+7]\n",
            "100%|██████████| 50/50 [00:02<00:00, 22.88it/s, epoch=11/100, avg_epoch_loss=1.06e+7]\n",
            "100%|██████████| 50/50 [00:02<00:00, 22.99it/s, epoch=12/100, avg_epoch_loss=6.31e+6]\n",
            "100%|██████████| 50/50 [00:02<00:00, 23.06it/s, epoch=13/100, avg_epoch_loss=4.79e+6]\n",
            "100%|██████████| 50/50 [00:02<00:00, 22.92it/s, epoch=14/100, avg_epoch_loss=4.46e+6]\n",
            "100%|██████████| 50/50 [00:02<00:00, 23.08it/s, epoch=15/100, avg_epoch_loss=4.16e+6]\n",
            "100%|██████████| 50/50 [00:02<00:00, 23.01it/s, epoch=16/100, avg_epoch_loss=3.59e+6]\n",
            "100%|██████████| 50/50 [00:02<00:00, 23.21it/s, epoch=17/100, avg_epoch_loss=2.96e+6]\n",
            "100%|██████████| 50/50 [00:02<00:00, 22.82it/s, epoch=18/100, avg_epoch_loss=3.39e+6]\n",
            "100%|██████████| 50/50 [00:02<00:00, 23.03it/s, epoch=19/100, avg_epoch_loss=2.53e+6]\n",
            "100%|██████████| 50/50 [00:02<00:00, 23.22it/s, epoch=20/100, avg_epoch_loss=2.64e+6]\n",
            "100%|██████████| 50/50 [00:02<00:00, 23.04it/s, epoch=21/100, avg_epoch_loss=2.17e+6]\n",
            "100%|██████████| 50/50 [00:02<00:00, 23.10it/s, epoch=22/100, avg_epoch_loss=1.81e+6]\n",
            "100%|██████████| 50/50 [00:02<00:00, 23.26it/s, epoch=23/100, avg_epoch_loss=2.85e+6]\n",
            "100%|██████████| 50/50 [00:02<00:00, 23.27it/s, epoch=24/100, avg_epoch_loss=1.46e+6]\n",
            "100%|██████████| 50/50 [00:02<00:00, 23.08it/s, epoch=25/100, avg_epoch_loss=1.68e+6]\n",
            "100%|██████████| 50/50 [00:02<00:00, 23.27it/s, epoch=26/100, avg_epoch_loss=2.47e+6]\n",
            "100%|██████████| 50/50 [00:02<00:00, 23.16it/s, epoch=27/100, avg_epoch_loss=2.23e+6]\n",
            "100%|██████████| 50/50 [00:02<00:00, 23.02it/s, epoch=28/100, avg_epoch_loss=1.35e+6]\n",
            "100%|██████████| 50/50 [00:02<00:00, 23.11it/s, epoch=29/100, avg_epoch_loss=1.24e+6]\n",
            "100%|██████████| 50/50 [00:02<00:00, 23.18it/s, epoch=30/100, avg_epoch_loss=1.17e+6]\n",
            "100%|██████████| 50/50 [00:02<00:00, 23.10it/s, epoch=31/100, avg_epoch_loss=1.26e+6]\n",
            "100%|██████████| 50/50 [00:02<00:00, 22.67it/s, epoch=32/100, avg_epoch_loss=1.58e+6]\n",
            "100%|██████████| 50/50 [00:02<00:00, 22.63it/s, epoch=33/100, avg_epoch_loss=9.37e+5]\n",
            "100%|██████████| 50/50 [00:02<00:00, 22.69it/s, epoch=34/100, avg_epoch_loss=7.74e+5]\n",
            "100%|██████████| 50/50 [00:02<00:00, 23.11it/s, epoch=35/100, avg_epoch_loss=1.12e+6]\n",
            "100%|██████████| 50/50 [00:02<00:00, 22.85it/s, epoch=36/100, avg_epoch_loss=7.5e+5]\n",
            "100%|██████████| 50/50 [00:02<00:00, 23.13it/s, epoch=37/100, avg_epoch_loss=1.29e+6]\n",
            "100%|██████████| 50/50 [00:02<00:00, 23.26it/s, epoch=38/100, avg_epoch_loss=7.52e+5]\n",
            "100%|██████████| 50/50 [00:02<00:00, 23.35it/s, epoch=39/100, avg_epoch_loss=9.5e+5]\n",
            "100%|██████████| 50/50 [00:02<00:00, 23.46it/s, epoch=40/100, avg_epoch_loss=7.91e+5]\n",
            "100%|██████████| 50/50 [00:02<00:00, 23.33it/s, epoch=41/100, avg_epoch_loss=1.26e+6]\n",
            "100%|██████████| 50/50 [00:02<00:00, 23.38it/s, epoch=42/100, avg_epoch_loss=1.53e+6]\n",
            "100%|██████████| 50/50 [00:02<00:00, 23.34it/s, epoch=43/100, avg_epoch_loss=6.02e+5]\n",
            "100%|██████████| 50/50 [00:02<00:00, 23.42it/s, epoch=44/100, avg_epoch_loss=7.21e+5]\n",
            "100%|██████████| 50/50 [00:02<00:00, 23.34it/s, epoch=45/100, avg_epoch_loss=6.57e+5]\n",
            "100%|██████████| 50/50 [00:02<00:00, 23.38it/s, epoch=46/100, avg_epoch_loss=1.31e+6]\n",
            "100%|██████████| 50/50 [00:02<00:00, 23.38it/s, epoch=47/100, avg_epoch_loss=1.81e+6]\n",
            "100%|██████████| 50/50 [00:02<00:00, 23.21it/s, epoch=48/100, avg_epoch_loss=1.09e+6]\n",
            "100%|██████████| 50/50 [00:02<00:00, 23.30it/s, epoch=49/100, avg_epoch_loss=6.72e+5]\n",
            "100%|██████████| 50/50 [00:02<00:00, 23.03it/s, epoch=50/100, avg_epoch_loss=4.56e+5]\n",
            "100%|██████████| 50/50 [00:02<00:00, 23.20it/s, epoch=51/100, avg_epoch_loss=4.76e+5]\n",
            "100%|██████████| 50/50 [00:02<00:00, 23.29it/s, epoch=52/100, avg_epoch_loss=1.29e+6]\n",
            "100%|██████████| 50/50 [00:02<00:00, 23.26it/s, epoch=53/100, avg_epoch_loss=1.5e+6]\n",
            "100%|██████████| 50/50 [00:02<00:00, 23.15it/s, epoch=54/100, avg_epoch_loss=1.59e+6]\n",
            "100%|██████████| 50/50 [00:02<00:00, 23.22it/s, epoch=55/100, avg_epoch_loss=1.77e+6]\n",
            "100%|██████████| 50/50 [00:02<00:00, 23.37it/s, epoch=56/100, avg_epoch_loss=1.51e+6]\n",
            "100%|██████████| 50/50 [00:02<00:00, 23.42it/s, epoch=57/100, avg_epoch_loss=1.13e+6]\n",
            "100%|██████████| 50/50 [00:02<00:00, 23.37it/s, epoch=58/100, avg_epoch_loss=1.56e+6]\n",
            "100%|██████████| 50/50 [00:02<00:00, 23.30it/s, epoch=59/100, avg_epoch_loss=1.18e+6]\n",
            "100%|██████████| 50/50 [00:02<00:00, 23.48it/s, epoch=60/100, avg_epoch_loss=1.69e+6]\n",
            "100%|██████████| 50/50 [00:02<00:00, 23.15it/s, epoch=61/100, avg_epoch_loss=4.07e+5]\n",
            "100%|██████████| 50/50 [00:02<00:00, 23.16it/s, epoch=62/100, avg_epoch_loss=4.5e+5]\n",
            "100%|██████████| 50/50 [00:02<00:00, 23.19it/s, epoch=63/100, avg_epoch_loss=5.79e+5]\n",
            "100%|██████████| 50/50 [00:02<00:00, 23.12it/s, epoch=64/100, avg_epoch_loss=4.33e+5]\n",
            "100%|██████████| 50/50 [00:02<00:00, 23.31it/s, epoch=65/100, avg_epoch_loss=2.95e+5]\n",
            "100%|██████████| 50/50 [00:02<00:00, 23.35it/s, epoch=66/100, avg_epoch_loss=3.2e+5]\n",
            "100%|██████████| 50/50 [00:02<00:00, 23.39it/s, epoch=67/100, avg_epoch_loss=4.2e+5]\n",
            "100%|██████████| 50/50 [00:02<00:00, 23.36it/s, epoch=68/100, avg_epoch_loss=5.84e+5]\n",
            "100%|██████████| 50/50 [00:02<00:00, 23.36it/s, epoch=69/100, avg_epoch_loss=5.72e+5]\n",
            "100%|██████████| 50/50 [00:02<00:00, 23.27it/s, epoch=70/100, avg_epoch_loss=6.29e+5]\n",
            "100%|██████████| 50/50 [00:02<00:00, 23.32it/s, epoch=71/100, avg_epoch_loss=6.32e+5]\n",
            "100%|██████████| 50/50 [00:02<00:00, 23.23it/s, epoch=72/100, avg_epoch_loss=5.8e+5]\n",
            "100%|██████████| 50/50 [00:02<00:00, 23.18it/s, epoch=73/100, avg_epoch_loss=5.3e+5]\n",
            "100%|██████████| 50/50 [00:02<00:00, 22.90it/s, epoch=74/100, avg_epoch_loss=5.99e+5]\n",
            "100%|██████████| 50/50 [00:02<00:00, 22.78it/s, epoch=75/100, avg_epoch_loss=6.96e+5]\n",
            "100%|██████████| 50/50 [00:02<00:00, 22.83it/s, epoch=76/100, avg_epoch_loss=3.53e+5]\n",
            "100%|██████████| 50/50 [00:02<00:00, 22.77it/s, epoch=77/100, avg_epoch_loss=3.39e+5]\n",
            "100%|██████████| 50/50 [00:02<00:00, 22.95it/s, epoch=78/100, avg_epoch_loss=3.42e+5]\n",
            "100%|██████████| 50/50 [00:02<00:00, 23.33it/s, epoch=79/100, avg_epoch_loss=3.47e+5]\n",
            "100%|██████████| 50/50 [00:02<00:00, 23.32it/s, epoch=80/100, avg_epoch_loss=2.94e+5]\n",
            "100%|██████████| 50/50 [00:02<00:00, 23.35it/s, epoch=81/100, avg_epoch_loss=2.65e+5]\n",
            "100%|██████████| 50/50 [00:02<00:00, 23.33it/s, epoch=82/100, avg_epoch_loss=3.2e+5]\n",
            "100%|██████████| 50/50 [00:02<00:00, 23.34it/s, epoch=83/100, avg_epoch_loss=3.32e+5]\n",
            "100%|██████████| 50/50 [00:02<00:00, 23.36it/s, epoch=84/100, avg_epoch_loss=3.3e+5]\n",
            "100%|██████████| 50/50 [00:02<00:00, 23.22it/s, epoch=85/100, avg_epoch_loss=3.05e+5]\n",
            "100%|██████████| 50/50 [00:02<00:00, 23.22it/s, epoch=86/100, avg_epoch_loss=3.08e+5]\n",
            "100%|██████████| 50/50 [00:02<00:00, 23.18it/s, epoch=87/100, avg_epoch_loss=2.88e+5]\n",
            "100%|██████████| 50/50 [00:02<00:00, 23.25it/s, epoch=88/100, avg_epoch_loss=2.66e+5]\n",
            "100%|██████████| 50/50 [00:02<00:00, 23.44it/s, epoch=89/100, avg_epoch_loss=3.24e+5]\n",
            "100%|██████████| 50/50 [00:02<00:00, 23.24it/s, epoch=90/100, avg_epoch_loss=3.1e+5]\n",
            "100%|██████████| 50/50 [00:02<00:00, 23.29it/s, epoch=91/100, avg_epoch_loss=3.24e+5]\n",
            "100%|██████████| 50/50 [00:02<00:00, 23.21it/s, epoch=92/100, avg_epoch_loss=2.86e+5]\n",
            "100%|██████████| 50/50 [00:02<00:00, 23.39it/s, epoch=93/100, avg_epoch_loss=2.78e+5]\n",
            "100%|██████████| 50/50 [00:02<00:00, 23.21it/s, epoch=94/100, avg_epoch_loss=2.52e+5]\n",
            "100%|██████████| 50/50 [00:02<00:00, 23.38it/s, epoch=95/100, avg_epoch_loss=2.8e+5]\n",
            "100%|██████████| 50/50 [00:02<00:00, 23.33it/s, epoch=96/100, avg_epoch_loss=2.42e+5]\n",
            "100%|██████████| 50/50 [00:02<00:00, 23.34it/s, epoch=97/100, avg_epoch_loss=2.78e+5]\n",
            "100%|██████████| 50/50 [00:02<00:00, 23.40it/s, epoch=98/100, avg_epoch_loss=2.77e+5]\n",
            "100%|██████████| 50/50 [00:02<00:00, 23.30it/s, epoch=99/100, avg_epoch_loss=2.67e+5]\n",
            "100%|██████████| 50/50 [00:02<00:00, 23.10it/s, epoch=100/100, avg_epoch_loss=2.69e+5]\n"
          ],
          "name": "stderr"
        }
      ]
    },
    {
      "cell_type": "code",
      "metadata": {
        "colab_type": "code",
        "outputId": "99f7d4d0-fefb-418c-f6dd-768f608fa8d3",
        "id": "ow_Vpx0MO9Gi",
        "colab": {
          "base_uri": "https://localhost:8080/",
          "height": 503
        }
      },
      "source": [
        "forecast_it, ts_it = make_evaluation_predictions(\n",
        "    dataset=m4_hourly_dataset.test, \n",
        "    predictor=DF_predictor, \n",
        "    num_samples=100, \n",
        ")\n",
        "\n",
        "forecasts = list(forecast_it)\n",
        "tss = list(ts_it)\n",
        "\n",
        "evaluator = Evaluator(quantiles=[0.1, 0.5, 0.9])\n",
        "agg_metrics, item_metrics = evaluator(iter(tss), iter(forecasts), num_series=len(m4_hourly_dataset.test))\n",
        "\n",
        "print(json.dumps(agg_metrics, indent=4))"
      ],
      "execution_count": 0,
      "outputs": [
        {
          "output_type": "stream",
          "text": [
            "Running evaluation: 100%|██████████| 414/414 [00:00<00:00, 10187.70it/s]\n"
          ],
          "name": "stderr"
        },
        {
          "output_type": "stream",
          "text": [
            "{\n",
            "    \"MSE\": 40983661.08745066,\n",
            "    \"abs_error\": 20809180.209091187,\n",
            "    \"abs_target_sum\": 145558863.59960938,\n",
            "    \"abs_target_mean\": 7324.822041043147,\n",
            "    \"seasonal_error\": 336.9046924038302,\n",
            "    \"MASE\": 11.039941629714814,\n",
            "    \"MAPE\": 0.8920382287944805,\n",
            "    \"sMAPE\": 0.33377137651036604,\n",
            "    \"OWA\": NaN,\n",
            "    \"MSIS\": 163.94602963485542,\n",
            "    \"QuantileLoss[0.1]\": 23649332.642423436,\n",
            "    \"Coverage[0.1]\": 0.2813003220611915,\n",
            "    \"QuantileLoss[0.5]\": 20809180.075209618,\n",
            "    \"Coverage[0.5]\": 0.5357789855072465,\n",
            "    \"QuantileLoss[0.9]\": 17659643.281104468,\n",
            "    \"Coverage[0.9]\": 0.7369162640901772,\n",
            "    \"RMSE\": 6401.848255578279,\n",
            "    \"NRMSE\": 0.8739936915472933,\n",
            "    \"ND\": 0.14296058442948045,\n",
            "    \"wQuantileLoss[0.1]\": 0.16247263861221092,\n",
            "    \"wQuantileLoss[0.5]\": 0.14296058350970434,\n",
            "    \"wQuantileLoss[0.9]\": 0.12132303622320846,\n",
            "    \"mean_wQuantileLoss\": 0.14225208611504123,\n",
            "    \"MAE_Coverage\": 0.1267210144927536\n",
            "}\n"
          ],
          "name": "stdout"
        }
      ]
    },
    {
      "cell_type": "code",
      "metadata": {
        "colab_type": "code",
        "id": "fA1nNCJGO9Gl",
        "colab": {}
      },
      "source": [
        ""
      ],
      "execution_count": 0,
      "outputs": []
    },
    {
      "cell_type": "markdown",
      "metadata": {
        "colab_type": "text",
        "id": "h0WoHFeGPo0-"
      },
      "source": [
        "## m4_monthly"
      ]
    },
    {
      "cell_type": "code",
      "metadata": {
        "colab_type": "code",
        "id": "7IE6C9pnPo1B",
        "outputId": "9ce2635c-b381-4c86-8186-b454b76ce413",
        "colab": {
          "base_uri": "https://localhost:8080/",
          "height": 53
        }
      },
      "source": [
        "m4_monthly_dataset = get_dataset(\"m4_monthly\", regenerate=False)"
      ],
      "execution_count": 0,
      "outputs": [
        {
          "output_type": "stream",
          "text": [
            "saving time-series into /root/.mxnet/gluon-ts/datasets/m4_monthly/train/data.json\n",
            "saving time-series into /root/.mxnet/gluon-ts/datasets/m4_monthly/test/data.json\n"
          ],
          "name": "stdout"
        }
      ]
    },
    {
      "cell_type": "code",
      "metadata": {
        "colab_type": "code",
        "outputId": "a4045061-1db9-4816-8ae7-65e5e08a251a",
        "id": "WIotX52YPo1J",
        "colab": {
          "base_uri": "https://localhost:8080/",
          "height": 53
        }
      },
      "source": [
        "print (len(m4_monthly_dataset.train))\n",
        "print (len(m4_monthly_dataset.test))"
      ],
      "execution_count": 0,
      "outputs": [
        {
          "output_type": "stream",
          "text": [
            "48000\n",
            "48000\n"
          ],
          "name": "stdout"
        }
      ]
    },
    {
      "cell_type": "code",
      "metadata": {
        "colab_type": "code",
        "outputId": "e364819b-3dd8-4645-dc0e-86201edc9454",
        "id": "A1suOzU0Po1P",
        "colab": {
          "base_uri": "https://localhost:8080/",
          "height": 35
        }
      },
      "source": [
        "m4_monthly_dataset.metadata"
      ],
      "execution_count": 0,
      "outputs": [
        {
          "output_type": "execute_result",
          "data": {
            "text/plain": [
              "MetaData(freq='M', target=None, feat_static_cat=[CategoricalFeatureInfo(name='feat_static_cat', cardinality='48000')], feat_static_real=[], feat_dynamic_real=[], feat_dynamic_cat=[], prediction_length=18)"
            ]
          },
          "metadata": {
            "tags": []
          },
          "execution_count": 49
        }
      ]
    },
    {
      "cell_type": "code",
      "metadata": {
        "colab_type": "code",
        "outputId": "ff1f8d19-a57e-40ff-91f1-a9d351293b19",
        "id": "rIAlQ1Abp2ZL",
        "colab": {
          "base_uri": "https://localhost:8080/",
          "height": 35
        }
      },
      "source": [
        "m4_monthly_dataset.metadata.feat_static_cat[0]"
      ],
      "execution_count": 0,
      "outputs": [
        {
          "output_type": "execute_result",
          "data": {
            "text/plain": [
              "CategoricalFeatureInfo(name='feat_static_cat', cardinality='48000')"
            ]
          },
          "metadata": {
            "tags": []
          },
          "execution_count": 50
        }
      ]
    },
    {
      "cell_type": "code",
      "metadata": {
        "colab_type": "code",
        "id": "VQy--9c5p2ZS",
        "colab": {}
      },
      "source": [
        "car = [int(m4_monthly_dataset.metadata.feat_static_cat[0].cardinality)]"
      ],
      "execution_count": 0,
      "outputs": []
    },
    {
      "cell_type": "code",
      "metadata": {
        "colab_type": "code",
        "outputId": "1a6b9610-9dad-40f8-852b-4abddde6c693",
        "id": "Jpn1PJzGPo1U",
        "colab": {
          "base_uri": "https://localhost:8080/",
          "height": 35
        }
      },
      "source": [
        "next(iter(m4_monthly_dataset.train)).keys()"
      ],
      "execution_count": 0,
      "outputs": [
        {
          "output_type": "execute_result",
          "data": {
            "text/plain": [
              "dict_keys(['start', 'target', 'feat_static_cat', 'item_id', 'source'])"
            ]
          },
          "metadata": {
            "tags": []
          },
          "execution_count": 52
        }
      ]
    },
    {
      "cell_type": "code",
      "metadata": {
        "colab_type": "code",
        "id": "0Z48itnDPo1b",
        "colab": {}
      },
      "source": [
        "# https://gluon-ts.mxnet.io/api/gluonts/gluonts.model.deep_factor.html\n",
        "DF_estimator = DeepFactorEstimator(\n",
        "    freq=m4_monthly_dataset.metadata.freq, # Time series frequency\n",
        "    prediction_length=m4_monthly_dataset.metadata.prediction_length, # Prediction length.\n",
        "    num_hidden_global=50, # (default: 50).\n",
        "    num_layers_global=1, # (default: 1).\n",
        "    num_factors=10, # (default: 10).\n",
        "    num_hidden_local=5, # (default: 5).\n",
        "    num_layers_local=1, # (default: 1).\n",
        "    cell_type='lstm', # (default: ‘lstm’).\n",
        "    trainer = deepfactor_trainer, # (default: Trainer()).\n",
        "    context_length=None, # (default: None, in which case context_length = prediction_length).\n",
        "    num_parallel_samples=100, # (default: 100).\n",
        "    cardinality=car, # (default: list([1]).\n",
        "    embedding_dimension=10, # (default: 10).\n",
        "    distr_output=StudentTOutput(), # (default: StudentTOutput()).\n",
        ")"
      ],
      "execution_count": 0,
      "outputs": []
    },
    {
      "cell_type": "code",
      "metadata": {
        "colab_type": "code",
        "outputId": "832aecda-9b75-466f-9aef-11280b43b38e",
        "id": "FynbtKogPo1f",
        "colab": {
          "base_uri": "https://localhost:8080/",
          "height": 1000
        }
      },
      "source": [
        "DF_predictor = DF_estimator.train(m4_monthly_dataset.train)"
      ],
      "execution_count": 0,
      "outputs": [
        {
          "output_type": "stream",
          "text": [
            "\r  0%|          | 0/50 [00:00<?, ?it/s]"
          ],
          "name": "stderr"
        },
        {
          "output_type": "stream",
          "text": [
            "learning rate from ``lr_scheduler`` has been overwritten by ``learning_rate`` in optimizer.\n"
          ],
          "name": "stdout"
        },
        {
          "output_type": "stream",
          "text": [
            "100%|██████████| 50/50 [00:01<00:00, 35.86it/s, epoch=1/100, avg_epoch_loss=3.28e+7]\n",
            "100%|██████████| 50/50 [00:01<00:00, 42.63it/s, epoch=2/100, avg_epoch_loss=1.74e+7]\n",
            "100%|██████████| 50/50 [00:01<00:00, 43.49it/s, epoch=3/100, avg_epoch_loss=1.59e+7]\n",
            "100%|██████████| 50/50 [00:01<00:00, 44.34it/s, epoch=4/100, avg_epoch_loss=8.06e+6]\n",
            "100%|██████████| 50/50 [00:01<00:00, 43.88it/s, epoch=5/100, avg_epoch_loss=3.62e+6]\n",
            "100%|██████████| 50/50 [00:01<00:00, 49.46it/s, epoch=6/100, avg_epoch_loss=1.75e+6]\n",
            "100%|██████████| 50/50 [00:01<00:00, 46.34it/s, epoch=7/100, avg_epoch_loss=1.48e+6]\n",
            "100%|██████████| 50/50 [00:01<00:00, 44.90it/s, epoch=8/100, avg_epoch_loss=9.02e+5]\n",
            "100%|██████████| 50/50 [00:01<00:00, 45.71it/s, epoch=9/100, avg_epoch_loss=1.23e+6]\n",
            "100%|██████████| 50/50 [00:01<00:00, 45.46it/s, epoch=10/100, avg_epoch_loss=1.34e+6]\n",
            "100%|██████████| 50/50 [00:01<00:00, 44.43it/s, epoch=11/100, avg_epoch_loss=8.02e+5]\n",
            "100%|██████████| 50/50 [00:01<00:00, 48.94it/s, epoch=12/100, avg_epoch_loss=4.98e+5]\n",
            "100%|██████████| 50/50 [00:01<00:00, 49.29it/s, epoch=13/100, avg_epoch_loss=3.47e+5]\n",
            "100%|██████████| 50/50 [00:01<00:00, 45.41it/s, epoch=14/100, avg_epoch_loss=4.42e+5]\n",
            "100%|██████████| 50/50 [00:01<00:00, 43.39it/s, epoch=15/100, avg_epoch_loss=4.43e+5]\n",
            "100%|██████████| 50/50 [00:01<00:00, 44.14it/s, epoch=16/100, avg_epoch_loss=5.23e+5]\n",
            "100%|██████████| 50/50 [00:01<00:00, 43.49it/s, epoch=17/100, avg_epoch_loss=5.17e+5]\n",
            "100%|██████████| 50/50 [00:01<00:00, 44.87it/s, epoch=18/100, avg_epoch_loss=6.75e+5]\n",
            "100%|██████████| 50/50 [00:01<00:00, 44.58it/s, epoch=19/100, avg_epoch_loss=2.7e+5]\n",
            "100%|██████████| 50/50 [00:01<00:00, 43.93it/s, epoch=20/100, avg_epoch_loss=5.66e+5]\n",
            "100%|██████████| 50/50 [00:01<00:00, 46.88it/s, epoch=21/100, avg_epoch_loss=1.99e+5]\n",
            "100%|██████████| 50/50 [00:01<00:00, 47.18it/s, epoch=22/100, avg_epoch_loss=1.89e+5]\n",
            "100%|██████████| 50/50 [00:01<00:00, 45.54it/s, epoch=23/100, avg_epoch_loss=3.75e+5]\n",
            "100%|██████████| 50/50 [00:01<00:00, 43.45it/s, epoch=24/100, avg_epoch_loss=3.33e+5]\n",
            "100%|██████████| 50/50 [00:01<00:00, 45.61it/s, epoch=25/100, avg_epoch_loss=2.4e+5]\n",
            "100%|██████████| 50/50 [00:01<00:00, 45.06it/s, epoch=26/100, avg_epoch_loss=1.89e+5]\n",
            "100%|██████████| 50/50 [00:01<00:00, 45.85it/s, epoch=27/100, avg_epoch_loss=1.86e+5]\n",
            "100%|██████████| 50/50 [00:01<00:00, 45.34it/s, epoch=28/100, avg_epoch_loss=2.06e+5]\n",
            "100%|██████████| 50/50 [00:01<00:00, 47.19it/s, epoch=29/100, avg_epoch_loss=1.2e+5]\n",
            "100%|██████████| 50/50 [00:01<00:00, 47.65it/s, epoch=30/100, avg_epoch_loss=1.64e+5]\n",
            "100%|██████████| 50/50 [00:01<00:00, 43.14it/s, epoch=31/100, avg_epoch_loss=1.6e+5]\n",
            "100%|██████████| 50/50 [00:01<00:00, 40.64it/s, epoch=32/100, avg_epoch_loss=1.27e+5]\n",
            "100%|██████████| 50/50 [00:01<00:00, 39.84it/s, epoch=33/100, avg_epoch_loss=1.98e+5]\n",
            "100%|██████████| 50/50 [00:01<00:00, 40.30it/s, epoch=34/100, avg_epoch_loss=1.41e+5]\n",
            "100%|██████████| 50/50 [00:01<00:00, 42.92it/s, epoch=35/100, avg_epoch_loss=9.11e+4]\n",
            "100%|██████████| 50/50 [00:01<00:00, 44.46it/s, epoch=36/100, avg_epoch_loss=6.09e+4]\n",
            "100%|██████████| 50/50 [00:01<00:00, 41.54it/s, epoch=37/100, avg_epoch_loss=6.12e+4]\n",
            "100%|██████████| 50/50 [00:01<00:00, 40.76it/s, epoch=38/100, avg_epoch_loss=4.02e+4]\n",
            "100%|██████████| 50/50 [00:01<00:00, 41.74it/s, epoch=39/100, avg_epoch_loss=2.42e+5]\n",
            "100%|██████████| 50/50 [00:01<00:00, 41.02it/s, epoch=40/100, avg_epoch_loss=1.19e+5]\n",
            "100%|██████████| 50/50 [00:01<00:00, 42.38it/s, epoch=41/100, avg_epoch_loss=6.46e+4]\n",
            "100%|██████████| 50/50 [00:01<00:00, 44.05it/s, epoch=42/100, avg_epoch_loss=3.93e+4]\n",
            "100%|██████████| 50/50 [00:01<00:00, 44.30it/s, epoch=43/100, avg_epoch_loss=2.77e+4]\n",
            "100%|██████████| 50/50 [00:01<00:00, 41.20it/s, epoch=44/100, avg_epoch_loss=3.81e+4]\n",
            "100%|██████████| 50/50 [00:01<00:00, 40.20it/s, epoch=45/100, avg_epoch_loss=3.64e+4]\n",
            "100%|██████████| 50/50 [00:01<00:00, 40.15it/s, epoch=46/100, avg_epoch_loss=4.85e+4]\n",
            "100%|██████████| 50/50 [00:01<00:00, 39.23it/s, epoch=47/100, avg_epoch_loss=5.93e+4]\n",
            "100%|██████████| 50/50 [00:01<00:00, 40.87it/s, epoch=48/100, avg_epoch_loss=9.69e+4]\n",
            "100%|██████████| 50/50 [00:01<00:00, 40.74it/s, epoch=49/100, avg_epoch_loss=3.56e+4]\n",
            "100%|██████████| 50/50 [00:01<00:00, 40.47it/s, epoch=50/100, avg_epoch_loss=1.03e+5]\n",
            "100%|██████████| 50/50 [00:01<00:00, 42.08it/s, epoch=51/100, avg_epoch_loss=2.54e+4]\n",
            "100%|██████████| 50/50 [00:01<00:00, 41.24it/s, epoch=52/100, avg_epoch_loss=2.28e+4]\n",
            "100%|██████████| 50/50 [00:01<00:00, 39.96it/s, epoch=53/100, avg_epoch_loss=4.69e+4]\n",
            "100%|██████████| 50/50 [00:01<00:00, 39.17it/s, epoch=54/100, avg_epoch_loss=4.31e+4]\n",
            "100%|██████████| 50/50 [00:01<00:00, 40.74it/s, epoch=55/100, avg_epoch_loss=3.1e+4]\n",
            "100%|██████████| 50/50 [00:01<00:00, 41.27it/s, epoch=56/100, avg_epoch_loss=2.47e+4]\n",
            "100%|██████████| 50/50 [00:01<00:00, 42.48it/s, epoch=57/100, avg_epoch_loss=2.37e+4]\n",
            "100%|██████████| 50/50 [00:01<00:00, 42.14it/s, epoch=58/100, avg_epoch_loss=2.94e+4]\n",
            "100%|██████████| 50/50 [00:01<00:00, 43.86it/s, epoch=59/100, avg_epoch_loss=1.57e+4]\n",
            "100%|██████████| 50/50 [00:01<00:00, 43.43it/s, epoch=60/100, avg_epoch_loss=2.31e+4]\n",
            "100%|██████████| 50/50 [00:01<00:00, 40.29it/s, epoch=61/100, avg_epoch_loss=8.99e+4]\n",
            "100%|██████████| 50/50 [00:01<00:00, 39.95it/s, epoch=62/100, avg_epoch_loss=2.29e+4]\n",
            "100%|██████████| 50/50 [00:01<00:00, 39.69it/s, epoch=63/100, avg_epoch_loss=2.86e+4]\n",
            "100%|██████████| 50/50 [00:01<00:00, 40.38it/s, epoch=64/100, avg_epoch_loss=2.2e+4]\n",
            "100%|██████████| 50/50 [00:01<00:00, 42.74it/s, epoch=65/100, avg_epoch_loss=1.52e+4]\n",
            "100%|██████████| 50/50 [00:01<00:00, 44.55it/s, epoch=66/100, avg_epoch_loss=1.02e+4]\n",
            "100%|██████████| 50/50 [00:01<00:00, 41.56it/s, epoch=67/100, avg_epoch_loss=1.16e+4]\n",
            "100%|██████████| 50/50 [00:01<00:00, 41.20it/s, epoch=68/100, avg_epoch_loss=7.16e+3]\n",
            "100%|██████████| 50/50 [00:01<00:00, 41.14it/s, epoch=69/100, avg_epoch_loss=1.56e+4]\n",
            "100%|██████████| 50/50 [00:01<00:00, 41.69it/s, epoch=70/100, avg_epoch_loss=2.08e+4]\n",
            "100%|██████████| 50/50 [00:01<00:00, 42.48it/s, epoch=71/100, avg_epoch_loss=1.29e+4]\n",
            "100%|██████████| 50/50 [00:01<00:00, 44.12it/s, epoch=72/100, avg_epoch_loss=7.92e+3]\n",
            "100%|██████████| 50/50 [00:01<00:00, 44.39it/s, epoch=73/100, avg_epoch_loss=5.4e+3]\n",
            "100%|██████████| 50/50 [00:01<00:00, 41.40it/s, epoch=74/100, avg_epoch_loss=7.54e+3]\n",
            "100%|██████████| 50/50 [00:01<00:00, 40.38it/s, epoch=75/100, avg_epoch_loss=7.43e+3]\n",
            "100%|██████████| 50/50 [00:01<00:00, 40.09it/s, epoch=76/100, avg_epoch_loss=9.21e+3]\n",
            "100%|██████████| 50/50 [00:01<00:00, 39.87it/s, epoch=77/100, avg_epoch_loss=1.32e+4]\n",
            "100%|██████████| 50/50 [00:01<00:00, 41.37it/s, epoch=78/100, avg_epoch_loss=1.54e+4]\n",
            "100%|██████████| 50/50 [00:01<00:00, 40.16it/s, epoch=79/100, avg_epoch_loss=7.47e+3]\n",
            "100%|██████████| 50/50 [00:01<00:00, 40.37it/s, epoch=80/100, avg_epoch_loss=1.85e+4]\n",
            "100%|██████████| 50/50 [00:01<00:00, 43.18it/s, epoch=81/100, avg_epoch_loss=6.14e+3]\n",
            "100%|██████████| 50/50 [00:01<00:00, 43.04it/s, epoch=82/100, avg_epoch_loss=5.77e+3]\n",
            "100%|██████████| 50/50 [00:01<00:00, 41.68it/s, epoch=83/100, avg_epoch_loss=1.04e+4]\n",
            "100%|██████████| 50/50 [00:01<00:00, 41.08it/s, epoch=84/100, avg_epoch_loss=1.32e+4]\n",
            "100%|██████████| 50/50 [00:01<00:00, 42.02it/s, epoch=85/100, avg_epoch_loss=1.01e+4]\n",
            "100%|██████████| 50/50 [00:01<00:00, 41.45it/s, epoch=86/100, avg_epoch_loss=9.37e+3]\n",
            "100%|██████████| 50/50 [00:01<00:00, 42.52it/s, epoch=87/100, avg_epoch_loss=8.94e+3]\n",
            "100%|██████████| 50/50 [00:01<00:00, 41.50it/s, epoch=88/100, avg_epoch_loss=1.28e+4]\n",
            "100%|██████████| 50/50 [00:01<00:00, 43.37it/s, epoch=89/100, avg_epoch_loss=6.36e+3]\n",
            "100%|██████████| 50/50 [00:01<00:00, 42.93it/s, epoch=90/100, avg_epoch_loss=9.75e+3]\n",
            "100%|██████████| 50/50 [00:01<00:00, 39.39it/s, epoch=91/100, avg_epoch_loss=4.83e+4]\n",
            "100%|██████████| 50/50 [00:01<00:00, 40.28it/s, epoch=92/100, avg_epoch_loss=1.54e+4]\n",
            "100%|██████████| 50/50 [00:01<00:00, 39.85it/s, epoch=93/100, avg_epoch_loss=1.49e+4]\n",
            "100%|██████████| 50/50 [00:01<00:00, 40.15it/s, epoch=94/100, avg_epoch_loss=5.12e+6]\n",
            "100%|██████████| 50/50 [00:01<00:00, 42.99it/s, epoch=95/100, avg_epoch_loss=3.02e+5]\n",
            "100%|██████████| 50/50 [00:01<00:00, 44.26it/s, epoch=96/100, avg_epoch_loss=1.37e+4]\n",
            "100%|██████████| 50/50 [00:01<00:00, 41.17it/s, epoch=97/100, avg_epoch_loss=7.57e+3]\n",
            "100%|██████████| 50/50 [00:01<00:00, 40.67it/s, epoch=98/100, avg_epoch_loss=6.48e+3]\n",
            "100%|██████████| 50/50 [00:01<00:00, 41.41it/s, epoch=99/100, avg_epoch_loss=1.09e+4]\n",
            "100%|██████████| 50/50 [00:01<00:00, 41.02it/s, epoch=100/100, avg_epoch_loss=1.48e+4]\n"
          ],
          "name": "stderr"
        }
      ]
    },
    {
      "cell_type": "code",
      "metadata": {
        "colab_type": "code",
        "id": "z-OU9czTPo1j",
        "outputId": "871407d5-f30e-442b-bf26-7aab31ce645c",
        "colab": {
          "base_uri": "https://localhost:8080/",
          "height": 503
        }
      },
      "source": [
        "forecast_it, ts_it = make_evaluation_predictions(\n",
        "    dataset=m4_monthly_dataset.test, \n",
        "    predictor=DF_predictor, \n",
        "    num_samples=100, \n",
        ")\n",
        "\n",
        "forecasts = list(forecast_it)\n",
        "tss = list(ts_it)\n",
        "\n",
        "evaluator = Evaluator(quantiles=[0.1, 0.5, 0.9])\n",
        "agg_metrics, item_metrics = evaluator(iter(tss), iter(forecasts), num_series=len(m4_monthly_dataset.test))\n",
        "\n",
        "print(json.dumps(agg_metrics, indent=4))"
      ],
      "execution_count": 0,
      "outputs": [
        {
          "output_type": "stream",
          "text": [
            "Running evaluation: 100%|██████████| 48000/48000 [00:00<00:00, 325805.98it/s]\n"
          ],
          "name": "stderr"
        },
        {
          "output_type": "stream",
          "text": [
            "{\n",
            "    \"MSE\": 32115441897.68937,\n",
            "    \"abs_error\": 51222334701.30725,\n",
            "    \"abs_target_sum\": 4157157295.381714,\n",
            "    \"abs_target_mean\": 4811.5246474325495,\n",
            "    \"seasonal_error\": 616.9975625355751,\n",
            "    \"MASE\": 166.2121247462581,\n",
            "    \"MAPE\": 11.856855778301268,\n",
            "    \"sMAPE\": 1.4860916522621186,\n",
            "    \"OWA\": NaN,\n",
            "    \"MSIS\": 6641.4769399733905,\n",
            "    \"QuantileLoss[0.1]\": 88926061869.27962,\n",
            "    \"Coverage[0.1]\": 0.2678310185185138,\n",
            "    \"QuantileLoss[0.5]\": 51222334749.17082,\n",
            "    \"Coverage[0.5]\": 0.2688171296296251,\n",
            "    \"QuantileLoss[0.9]\": 13478121088.436924,\n",
            "    \"Coverage[0.9]\": 0.26986689814814335,\n",
            "    \"RMSE\": 179207.81762436975,\n",
            "    \"NRMSE\": 37.24553665541251,\n",
            "    \"ND\": 12.321481017379684,\n",
            "    \"wQuantileLoss[0.1]\": 21.391074609582304,\n",
            "    \"wQuantileLoss[0.5]\": 12.321481028893217,\n",
            "    \"wQuantileLoss[0.9]\": 3.242148451637876,\n",
            "    \"mean_wQuantileLoss\": 12.318234696704465,\n",
            "    \"MAE_Coverage\": 0.34304899691358176\n",
            "}\n"
          ],
          "name": "stdout"
        }
      ]
    },
    {
      "cell_type": "code",
      "metadata": {
        "colab_type": "code",
        "id": "nM547CLIPo1p",
        "colab": {}
      },
      "source": [
        ""
      ],
      "execution_count": 0,
      "outputs": []
    },
    {
      "cell_type": "markdown",
      "metadata": {
        "colab_type": "text",
        "id": "nznVHsOFTpbl"
      },
      "source": [
        "## m4_quarterly"
      ]
    },
    {
      "cell_type": "code",
      "metadata": {
        "colab_type": "code",
        "id": "Lqy_k4FfTpbn",
        "outputId": "f9fa88d8-30c1-4102-b31f-269cc046a468",
        "colab": {
          "base_uri": "https://localhost:8080/",
          "height": 53
        }
      },
      "source": [
        "m4_quarterly_dataset = get_dataset(\"m4_quarterly\", regenerate=False)"
      ],
      "execution_count": 0,
      "outputs": [
        {
          "output_type": "stream",
          "text": [
            "saving time-series into /root/.mxnet/gluon-ts/datasets/m4_quarterly/train/data.json\n",
            "saving time-series into /root/.mxnet/gluon-ts/datasets/m4_quarterly/test/data.json\n"
          ],
          "name": "stdout"
        }
      ]
    },
    {
      "cell_type": "code",
      "metadata": {
        "colab_type": "code",
        "id": "Y457WiskTpbw",
        "outputId": "2fece026-1d55-40e5-a2f9-f3ae2a59ba7c",
        "colab": {
          "base_uri": "https://localhost:8080/",
          "height": 53
        }
      },
      "source": [
        "print (len(m4_quarterly_dataset.train))\n",
        "print (len(m4_quarterly_dataset.test))"
      ],
      "execution_count": 0,
      "outputs": [
        {
          "output_type": "stream",
          "text": [
            "24000\n",
            "24000\n"
          ],
          "name": "stdout"
        }
      ]
    },
    {
      "cell_type": "code",
      "metadata": {
        "colab_type": "code",
        "id": "b9EoE_m6Tpbz",
        "outputId": "edfecdfe-5014-4c3b-8f40-d78c0edf25c6",
        "colab": {
          "base_uri": "https://localhost:8080/",
          "height": 35
        }
      },
      "source": [
        "m4_quarterly_dataset.metadata"
      ],
      "execution_count": 0,
      "outputs": [
        {
          "output_type": "execute_result",
          "data": {
            "text/plain": [
              "MetaData(freq='3M', target=None, feat_static_cat=[CategoricalFeatureInfo(name='feat_static_cat', cardinality='24000')], feat_static_real=[], feat_dynamic_real=[], feat_dynamic_cat=[], prediction_length=8)"
            ]
          },
          "metadata": {
            "tags": []
          },
          "execution_count": 58
        }
      ]
    },
    {
      "cell_type": "code",
      "metadata": {
        "colab_type": "code",
        "outputId": "0fda374d-34b8-4f0a-c8e8-a9cf75771a33",
        "id": "NBrLxCWmqEzn",
        "colab": {
          "base_uri": "https://localhost:8080/",
          "height": 35
        }
      },
      "source": [
        "m4_quarterly_dataset.metadata.feat_static_cat[0]"
      ],
      "execution_count": 0,
      "outputs": [
        {
          "output_type": "execute_result",
          "data": {
            "text/plain": [
              "CategoricalFeatureInfo(name='feat_static_cat', cardinality='24000')"
            ]
          },
          "metadata": {
            "tags": []
          },
          "execution_count": 59
        }
      ]
    },
    {
      "cell_type": "code",
      "metadata": {
        "colab_type": "code",
        "id": "bYqoUboOqEzq",
        "colab": {}
      },
      "source": [
        "car = [int(m4_quarterly_dataset.metadata.feat_static_cat[0].cardinality)]"
      ],
      "execution_count": 0,
      "outputs": []
    },
    {
      "cell_type": "code",
      "metadata": {
        "colab_type": "code",
        "id": "9diHFpLATpb3",
        "outputId": "bbcca962-b34a-47f9-b9ff-82b83adef250",
        "colab": {
          "base_uri": "https://localhost:8080/",
          "height": 35
        }
      },
      "source": [
        "next(iter(m4_quarterly_dataset.train)).keys()"
      ],
      "execution_count": 0,
      "outputs": [
        {
          "output_type": "execute_result",
          "data": {
            "text/plain": [
              "dict_keys(['start', 'target', 'feat_static_cat', 'item_id', 'source'])"
            ]
          },
          "metadata": {
            "tags": []
          },
          "execution_count": 61
        }
      ]
    },
    {
      "cell_type": "code",
      "metadata": {
        "colab_type": "code",
        "id": "uluvpZU5TpcE",
        "colab": {}
      },
      "source": [
        "# https://gluon-ts.mxnet.io/api/gluonts/gluonts.model.deep_factor.html\n",
        "DF_estimator = DeepFactorEstimator(\n",
        "    freq=m4_quarterly_dataset.metadata.freq, # Time series frequency\n",
        "    prediction_length=m4_quarterly_dataset.metadata.prediction_length, # Prediction length.\n",
        "    num_hidden_global=50, # (default: 50).\n",
        "    num_layers_global=1, # (default: 1).\n",
        "    num_factors=10, # (default: 10).\n",
        "    num_hidden_local=5, # (default: 5).\n",
        "    num_layers_local=1, # (default: 1).\n",
        "    cell_type='lstm', # (default: ‘lstm’).\n",
        "    trainer = deepfactor_trainer, # (default: Trainer()).\n",
        "    context_length=None, # (default: None, in which case context_length = prediction_length).\n",
        "    num_parallel_samples=100, # (default: 100).\n",
        "    cardinality=car, # (default: list([1]).\n",
        "    embedding_dimension=10, # (default: 10).\n",
        "    distr_output=StudentTOutput(), # (default: StudentTOutput()).\n",
        ")"
      ],
      "execution_count": 0,
      "outputs": []
    },
    {
      "cell_type": "code",
      "metadata": {
        "colab_type": "code",
        "outputId": "3c6881fb-4f0e-4650-8118-56ef71c15f89",
        "id": "Yv7bIpjBTpcI",
        "colab": {
          "base_uri": "https://localhost:8080/",
          "height": 1000
        }
      },
      "source": [
        "DF_predictor = DF_estimator.train(m4_quarterly_dataset.train)"
      ],
      "execution_count": 0,
      "outputs": [
        {
          "output_type": "stream",
          "text": [
            "\r  0%|          | 0/50 [00:00<?, ?it/s]"
          ],
          "name": "stderr"
        },
        {
          "output_type": "stream",
          "text": [
            "learning rate from ``lr_scheduler`` has been overwritten by ``learning_rate`` in optimizer.\n"
          ],
          "name": "stdout"
        },
        {
          "output_type": "stream",
          "text": [
            "100%|██████████| 50/50 [00:00<00:00, 71.13it/s, epoch=1/100, avg_epoch_loss=3.97e+7]\n",
            "100%|██████████| 50/50 [00:00<00:00, 75.08it/s, epoch=2/100, avg_epoch_loss=3.53e+7]\n",
            "100%|██████████| 50/50 [00:00<00:00, 72.93it/s, epoch=3/100, avg_epoch_loss=2.53e+7]\n",
            "100%|██████████| 50/50 [00:00<00:00, 73.22it/s, epoch=4/100, avg_epoch_loss=9.37e+6]\n",
            "100%|██████████| 50/50 [00:00<00:00, 77.06it/s, epoch=5/100, avg_epoch_loss=4.11e+6]\n",
            "100%|██████████| 50/50 [00:00<00:00, 74.68it/s, epoch=6/100, avg_epoch_loss=5.34e+6]\n",
            "100%|██████████| 50/50 [00:00<00:00, 76.03it/s, epoch=7/100, avg_epoch_loss=3.07e+6]\n",
            "100%|██████████| 50/50 [00:00<00:00, 75.42it/s, epoch=8/100, avg_epoch_loss=2.22e+6]\n",
            "100%|██████████| 50/50 [00:00<00:00, 72.85it/s, epoch=9/100, avg_epoch_loss=1.47e+6]\n",
            "100%|██████████| 50/50 [00:00<00:00, 73.80it/s, epoch=10/100, avg_epoch_loss=1.7e+6]\n",
            "100%|██████████| 50/50 [00:00<00:00, 75.54it/s, epoch=11/100, avg_epoch_loss=1.31e+6]\n",
            "100%|██████████| 50/50 [00:00<00:00, 73.05it/s, epoch=12/100, avg_epoch_loss=1.09e+6]\n",
            "100%|██████████| 50/50 [00:00<00:00, 75.90it/s, epoch=13/100, avg_epoch_loss=9.54e+5]\n",
            "100%|██████████| 50/50 [00:00<00:00, 75.23it/s, epoch=14/100, avg_epoch_loss=7.92e+5]\n",
            "100%|██████████| 50/50 [00:00<00:00, 76.12it/s, epoch=15/100, avg_epoch_loss=6.46e+5]\n",
            "100%|██████████| 50/50 [00:00<00:00, 76.42it/s, epoch=16/100, avg_epoch_loss=5.79e+5]\n",
            "100%|██████████| 50/50 [00:00<00:00, 71.67it/s, epoch=17/100, avg_epoch_loss=6.75e+5]\n",
            "100%|██████████| 50/50 [00:00<00:00, 67.72it/s, epoch=18/100, avg_epoch_loss=6.95e+5]\n",
            "100%|██████████| 50/50 [00:00<00:00, 71.45it/s, epoch=19/100, avg_epoch_loss=4.09e+5]\n",
            "100%|██████████| 50/50 [00:00<00:00, 72.17it/s, epoch=20/100, avg_epoch_loss=2.68e+5]\n",
            "100%|██████████| 50/50 [00:00<00:00, 71.01it/s, epoch=21/100, avg_epoch_loss=4.35e+5]\n",
            "100%|██████████| 50/50 [00:00<00:00, 69.47it/s, epoch=22/100, avg_epoch_loss=3.06e+5]\n",
            "100%|██████████| 50/50 [00:00<00:00, 68.65it/s, epoch=23/100, avg_epoch_loss=2.69e+5]\n",
            "100%|██████████| 50/50 [00:00<00:00, 70.22it/s, epoch=24/100, avg_epoch_loss=1.99e+5]\n",
            "100%|██████████| 50/50 [00:00<00:00, 70.05it/s, epoch=25/100, avg_epoch_loss=2.59e+5]\n",
            "100%|██████████| 50/50 [00:00<00:00, 72.14it/s, epoch=26/100, avg_epoch_loss=2.2e+5]\n",
            "100%|██████████| 50/50 [00:00<00:00, 71.04it/s, epoch=27/100, avg_epoch_loss=1.97e+5]\n",
            "100%|██████████| 50/50 [00:00<00:00, 70.52it/s, epoch=28/100, avg_epoch_loss=1.89e+5]\n",
            "100%|██████████| 50/50 [00:00<00:00, 71.49it/s, epoch=29/100, avg_epoch_loss=1.6e+5]\n",
            "100%|██████████| 50/50 [00:00<00:00, 71.63it/s, epoch=30/100, avg_epoch_loss=1.37e+5]\n",
            "100%|██████████| 50/50 [00:00<00:00, 72.49it/s, epoch=31/100, avg_epoch_loss=1.75e+5]\n",
            "100%|██████████| 50/50 [00:00<00:00, 70.20it/s, epoch=32/100, avg_epoch_loss=1.64e+5]\n",
            "100%|██████████| 50/50 [00:00<00:00, 69.10it/s, epoch=33/100, avg_epoch_loss=1.64e+5]\n",
            "100%|██████████| 50/50 [00:00<00:00, 70.82it/s, epoch=34/100, avg_epoch_loss=8.82e+4]\n",
            "100%|██████████| 50/50 [00:00<00:00, 71.85it/s, epoch=35/100, avg_epoch_loss=5.48e+4]\n",
            "100%|██████████| 50/50 [00:00<00:00, 71.65it/s, epoch=36/100, avg_epoch_loss=1.05e+5]\n",
            "100%|██████████| 50/50 [00:00<00:00, 70.16it/s, epoch=37/100, avg_epoch_loss=7.24e+4]\n",
            "100%|██████████| 50/50 [00:00<00:00, 68.02it/s, epoch=38/100, avg_epoch_loss=6.74e+4]\n",
            "100%|██████████| 50/50 [00:00<00:00, 73.26it/s, epoch=39/100, avg_epoch_loss=5.06e+4]\n",
            "100%|██████████| 50/50 [00:00<00:00, 71.28it/s, epoch=40/100, avg_epoch_loss=6.19e+4]\n",
            "100%|██████████| 50/50 [00:00<00:00, 70.13it/s, epoch=41/100, avg_epoch_loss=5.92e+4]\n",
            "100%|██████████| 50/50 [00:00<00:00, 72.27it/s, epoch=42/100, avg_epoch_loss=5.77e+4]\n",
            "100%|██████████| 50/50 [00:00<00:00, 73.17it/s, epoch=43/100, avg_epoch_loss=5.53e+4]\n",
            "100%|██████████| 50/50 [00:00<00:00, 70.39it/s, epoch=44/100, avg_epoch_loss=4.6e+4]\n",
            "100%|██████████| 50/50 [00:00<00:00, 70.89it/s, epoch=45/100, avg_epoch_loss=4.07e+4]\n",
            "100%|██████████| 50/50 [00:00<00:00, 74.60it/s, epoch=46/100, avg_epoch_loss=4.21e+4]\n",
            "100%|██████████| 50/50 [00:00<00:00, 69.01it/s, epoch=47/100, avg_epoch_loss=4.91e+4]\n",
            "100%|██████████| 50/50 [00:00<00:00, 66.19it/s, epoch=48/100, avg_epoch_loss=5.67e+4]\n",
            "100%|██████████| 50/50 [00:00<00:00, 70.60it/s, epoch=49/100, avg_epoch_loss=3.76e+4]\n",
            "100%|██████████| 50/50 [00:00<00:00, 70.96it/s, epoch=50/100, avg_epoch_loss=2.47e+4]\n",
            "100%|██████████| 50/50 [00:00<00:00, 67.63it/s, epoch=51/100, avg_epoch_loss=4.8e+4]\n",
            "100%|██████████| 50/50 [00:00<00:00, 69.83it/s, epoch=52/100, avg_epoch_loss=3.26e+4]\n",
            "100%|██████████| 50/50 [00:00<00:00, 69.24it/s, epoch=53/100, avg_epoch_loss=3.41e+4]\n",
            "100%|██████████| 50/50 [00:00<00:00, 66.82it/s, epoch=54/100, avg_epoch_loss=2.39e+4]\n",
            "100%|██████████| 50/50 [00:00<00:00, 69.88it/s, epoch=55/100, avg_epoch_loss=3.59e+4]\n",
            "100%|██████████| 50/50 [00:00<00:00, 74.14it/s, epoch=56/100, avg_epoch_loss=3.01e+4]\n",
            "100%|██████████| 50/50 [00:00<00:00, 71.82it/s, epoch=57/100, avg_epoch_loss=3.23e+4]\n",
            "100%|██████████| 50/50 [00:00<00:00, 71.71it/s, epoch=58/100, avg_epoch_loss=3.26e+4]\n",
            "100%|██████████| 50/50 [00:00<00:00, 71.84it/s, epoch=59/100, avg_epoch_loss=2.84e+4]\n",
            "100%|██████████| 50/50 [00:00<00:00, 74.07it/s, epoch=60/100, avg_epoch_loss=2.37e+4]\n",
            "100%|██████████| 50/50 [00:00<00:00, 74.98it/s, epoch=61/100, avg_epoch_loss=2.81e+4]\n",
            "100%|██████████| 50/50 [00:00<00:00, 71.54it/s, epoch=62/100, avg_epoch_loss=3.41e+4]\n",
            "100%|██████████| 50/50 [00:00<00:00, 70.98it/s, epoch=63/100, avg_epoch_loss=4.25e+4]\n",
            "100%|██████████| 50/50 [00:00<00:00, 74.11it/s, epoch=64/100, avg_epoch_loss=2.92e+4]\n",
            "100%|██████████| 50/50 [00:00<00:00, 74.09it/s, epoch=65/100, avg_epoch_loss=1.91e+4]\n",
            "100%|██████████| 50/50 [00:00<00:00, 72.77it/s, epoch=66/100, avg_epoch_loss=3.85e+4]\n",
            "100%|██████████| 50/50 [00:00<00:00, 73.16it/s, epoch=67/100, avg_epoch_loss=2.7e+4]\n",
            "100%|██████████| 50/50 [00:00<00:00, 70.96it/s, epoch=68/100, avg_epoch_loss=2.58e+4]\n",
            "100%|██████████| 50/50 [00:00<00:00, 72.86it/s, epoch=69/100, avg_epoch_loss=2.11e+4]\n",
            "100%|██████████| 50/50 [00:00<00:00, 71.06it/s, epoch=70/100, avg_epoch_loss=3.21e+4]\n",
            "100%|██████████| 50/50 [00:00<00:00, 72.70it/s, epoch=71/100, avg_epoch_loss=2.66e+4]\n",
            "100%|██████████| 50/50 [00:00<00:00, 73.49it/s, epoch=72/100, avg_epoch_loss=2.82e+4]\n",
            "100%|██████████| 50/50 [00:00<00:00, 72.07it/s, epoch=73/100, avg_epoch_loss=2.84e+4]\n",
            "100%|██████████| 50/50 [00:00<00:00, 72.29it/s, epoch=74/100, avg_epoch_loss=2.61e+4]\n",
            "100%|██████████| 50/50 [00:00<00:00, 72.78it/s, epoch=75/100, avg_epoch_loss=2.25e+4]\n",
            "100%|██████████| 50/50 [00:00<00:00, 73.92it/s, epoch=76/100, avg_epoch_loss=3.34e+4]\n",
            "100%|██████████| 50/50 [00:00<00:00, 71.46it/s, epoch=77/100, avg_epoch_loss=4.2e+4]\n",
            "100%|██████████| 50/50 [00:00<00:00, 70.66it/s, epoch=78/100, avg_epoch_loss=5.01e+4]\n",
            "100%|██████████| 50/50 [00:00<00:00, 73.20it/s, epoch=79/100, avg_epoch_loss=3.24e+4]\n",
            "100%|██████████| 50/50 [00:00<00:00, 73.38it/s, epoch=80/100, avg_epoch_loss=2.2e+4]\n",
            "100%|██████████| 50/50 [00:00<00:00, 72.03it/s, epoch=81/100, avg_epoch_loss=3.75e+4]\n",
            "100%|██████████| 50/50 [00:00<00:00, 72.19it/s, epoch=82/100, avg_epoch_loss=2.49e+4]\n",
            "100%|██████████| 50/50 [00:00<00:00, 70.87it/s, epoch=83/100, avg_epoch_loss=2.52e+4]\n",
            "100%|██████████| 50/50 [00:00<00:00, 73.72it/s, epoch=84/100, avg_epoch_loss=2.03e+4]\n",
            "100%|██████████| 50/50 [00:00<00:00, 72.44it/s, epoch=85/100, avg_epoch_loss=3.2e+4]\n",
            "100%|██████████| 50/50 [00:00<00:00, 73.33it/s, epoch=86/100, avg_epoch_loss=3.24e+4]\n",
            "100%|██████████| 50/50 [00:00<00:00, 70.79it/s, epoch=87/100, avg_epoch_loss=3.31e+4]\n",
            "100%|██████████| 50/50 [00:00<00:00, 72.24it/s, epoch=88/100, avg_epoch_loss=3.41e+4]\n",
            "100%|██████████| 50/50 [00:00<00:00, 69.56it/s, epoch=89/100, avg_epoch_loss=3.06e+4]\n",
            "100%|██████████| 50/50 [00:00<00:00, 72.95it/s, epoch=90/100, avg_epoch_loss=2.8e+4]\n",
            "100%|██████████| 50/50 [00:00<00:00, 72.79it/s, epoch=91/100, avg_epoch_loss=3.12e+4]\n",
            "100%|██████████| 50/50 [00:00<00:00, 69.96it/s, epoch=92/100, avg_epoch_loss=4.07e+4]\n",
            "100%|██████████| 50/50 [00:00<00:00, 71.31it/s, epoch=93/100, avg_epoch_loss=4.86e+4]\n",
            "100%|██████████| 50/50 [00:00<00:00, 72.09it/s, epoch=94/100, avg_epoch_loss=3.18e+4]\n",
            "100%|██████████| 50/50 [00:00<00:00, 72.41it/s, epoch=95/100, avg_epoch_loss=2.24e+4]\n",
            "100%|██████████| 50/50 [00:00<00:00, 70.74it/s, epoch=96/100, avg_epoch_loss=3.78e+4]\n",
            "100%|██████████| 50/50 [00:00<00:00, 72.05it/s, epoch=97/100, avg_epoch_loss=2.76e+4]\n",
            "100%|██████████| 50/50 [00:00<00:00, 69.82it/s, epoch=98/100, avg_epoch_loss=2.7e+4]\n",
            "100%|██████████| 50/50 [00:00<00:00, 71.89it/s, epoch=99/100, avg_epoch_loss=2.25e+4]\n",
            "100%|██████████| 50/50 [00:00<00:00, 71.18it/s, epoch=100/100, avg_epoch_loss=3.55e+4]\n"
          ],
          "name": "stderr"
        }
      ]
    },
    {
      "cell_type": "code",
      "metadata": {
        "colab_type": "code",
        "id": "0kea2_IuTpcM",
        "outputId": "ad64f262-c289-42b8-8035-2c60f956953e",
        "colab": {
          "base_uri": "https://localhost:8080/",
          "height": 503
        }
      },
      "source": [
        "forecast_it, ts_it = make_evaluation_predictions(\n",
        "    dataset=m4_quarterly_dataset.test, \n",
        "    predictor=DF_predictor, \n",
        "    num_samples=100, \n",
        ")\n",
        "\n",
        "forecasts = list(forecast_it)\n",
        "tss = list(ts_it)\n",
        "\n",
        "evaluator = Evaluator(quantiles=[0.1, 0.5, 0.9])\n",
        "agg_metrics, item_metrics = evaluator(iter(tss), iter(forecasts), num_series=len(m4_quarterly_dataset.test))\n",
        "\n",
        "print(json.dumps(agg_metrics, indent=4))"
      ],
      "execution_count": 0,
      "outputs": [
        {
          "output_type": "stream",
          "text": [
            "Running evaluation: 100%|██████████| 24000/24000 [00:00<00:00, 257294.27it/s]\n"
          ],
          "name": "stderr"
        },
        {
          "output_type": "stream",
          "text": [
            "{\n",
            "    \"MSE\": 81002322.32597734,\n",
            "    \"abs_error\": 1098683036.5536804,\n",
            "    \"abs_target_sum\": 1147074070.9031982,\n",
            "    \"abs_target_mean\": 5974.344119287491,\n",
            "    \"seasonal_error\": 473.4332698179725,\n",
            "    \"MASE\": 19.83702600151264,\n",
            "    \"MAPE\": 0.9552013469974565,\n",
            "    \"sMAPE\": 1.516506232904913,\n",
            "    \"OWA\": NaN,\n",
            "    \"MSIS\": 787.1556528289225,\n",
            "    \"QuantileLoss[0.1]\": 754048331.036651,\n",
            "    \"Coverage[0.1]\": 0.13260416666666666,\n",
            "    \"QuantileLoss[0.5]\": 1098683036.6063194,\n",
            "    \"Coverage[0.5]\": 0.13318229166666667,\n",
            "    \"QuantileLoss[0.9]\": 1435098741.8476853,\n",
            "    \"Coverage[0.9]\": 0.13377083333333334,\n",
            "    \"RMSE\": 9000.129017185105,\n",
            "    \"NRMSE\": 1.5064631091686218,\n",
            "    \"ND\": 0.9578135051806942,\n",
            "    \"wQuantileLoss[0.1]\": 0.6573667299818908,\n",
            "    \"wQuantileLoss[0.5]\": 0.9578135052265839,\n",
            "    \"wQuantileLoss[0.9]\": 1.2510950933776217,\n",
            "    \"mean_wQuantileLoss\": 0.9554251095286989,\n",
            "    \"MAE_Coverage\": 0.38855034722222226\n",
            "}\n"
          ],
          "name": "stdout"
        }
      ]
    },
    {
      "cell_type": "code",
      "metadata": {
        "colab_type": "code",
        "id": "WLQbIJlNTpcQ",
        "colab": {}
      },
      "source": [
        ""
      ],
      "execution_count": 0,
      "outputs": []
    },
    {
      "cell_type": "markdown",
      "metadata": {
        "colab_type": "text",
        "id": "mPBrg_LQUG-N"
      },
      "source": [
        "## m4_weekly"
      ]
    },
    {
      "cell_type": "code",
      "metadata": {
        "colab_type": "code",
        "id": "zqOsVt25UG-O",
        "outputId": "5883084e-8cd6-4db7-d457-bf37c3c6531d",
        "colab": {
          "base_uri": "https://localhost:8080/",
          "height": 53
        }
      },
      "source": [
        "m4_weekly_dataset = get_dataset(\"m4_weekly\", regenerate=False)"
      ],
      "execution_count": 0,
      "outputs": [
        {
          "output_type": "stream",
          "text": [
            "saving time-series into /root/.mxnet/gluon-ts/datasets/m4_weekly/train/data.json\n",
            "saving time-series into /root/.mxnet/gluon-ts/datasets/m4_weekly/test/data.json\n"
          ],
          "name": "stdout"
        }
      ]
    },
    {
      "cell_type": "code",
      "metadata": {
        "colab_type": "code",
        "id": "8rImBkzcUG-R",
        "outputId": "fd4f174e-037b-4ff8-fa0f-a6bb276e76df",
        "colab": {
          "base_uri": "https://localhost:8080/",
          "height": 53
        }
      },
      "source": [
        "print (len(m4_weekly_dataset.train))\n",
        "print (len(m4_weekly_dataset.test))"
      ],
      "execution_count": 0,
      "outputs": [
        {
          "output_type": "stream",
          "text": [
            "359\n",
            "359\n"
          ],
          "name": "stdout"
        }
      ]
    },
    {
      "cell_type": "code",
      "metadata": {
        "colab_type": "code",
        "id": "YNqBvMCfUG-U",
        "outputId": "a27f8dfd-9686-4ce7-bae0-aa7ddd5e5ca8",
        "colab": {
          "base_uri": "https://localhost:8080/",
          "height": 35
        }
      },
      "source": [
        "m4_weekly_dataset.metadata"
      ],
      "execution_count": 0,
      "outputs": [
        {
          "output_type": "execute_result",
          "data": {
            "text/plain": [
              "MetaData(freq='W', target=None, feat_static_cat=[CategoricalFeatureInfo(name='feat_static_cat', cardinality='359')], feat_static_real=[], feat_dynamic_real=[], feat_dynamic_cat=[], prediction_length=13)"
            ]
          },
          "metadata": {
            "tags": []
          },
          "execution_count": 67
        }
      ]
    },
    {
      "cell_type": "code",
      "metadata": {
        "colab_type": "code",
        "outputId": "ad85b383-3a33-43f1-cfe6-34519c4640ce",
        "id": "oBmE2sv5qRI5",
        "colab": {
          "base_uri": "https://localhost:8080/",
          "height": 35
        }
      },
      "source": [
        "m4_weekly_dataset.metadata.feat_static_cat[0]"
      ],
      "execution_count": 0,
      "outputs": [
        {
          "output_type": "execute_result",
          "data": {
            "text/plain": [
              "CategoricalFeatureInfo(name='feat_static_cat', cardinality='359')"
            ]
          },
          "metadata": {
            "tags": []
          },
          "execution_count": 68
        }
      ]
    },
    {
      "cell_type": "code",
      "metadata": {
        "colab_type": "code",
        "id": "9ne4eVCaqRI8",
        "colab": {}
      },
      "source": [
        "car = [int(m4_weekly_dataset.metadata.feat_static_cat[0].cardinality)]"
      ],
      "execution_count": 0,
      "outputs": []
    },
    {
      "cell_type": "code",
      "metadata": {
        "colab_type": "code",
        "id": "xxBOpLK5UG-W",
        "outputId": "eff384dd-7521-4783-d523-5941fa51ae6d",
        "colab": {
          "base_uri": "https://localhost:8080/",
          "height": 35
        }
      },
      "source": [
        "next(iter(m4_weekly_dataset.train)).keys()"
      ],
      "execution_count": 0,
      "outputs": [
        {
          "output_type": "execute_result",
          "data": {
            "text/plain": [
              "dict_keys(['start', 'target', 'feat_static_cat', 'item_id', 'source'])"
            ]
          },
          "metadata": {
            "tags": []
          },
          "execution_count": 70
        }
      ]
    },
    {
      "cell_type": "code",
      "metadata": {
        "colab_type": "code",
        "id": "oambQWoLUG-b",
        "colab": {}
      },
      "source": [
        "# https://gluon-ts.mxnet.io/api/gluonts/gluonts.model.deep_factor.html\n",
        "DF_estimator = DeepFactorEstimator(\n",
        "    freq=m4_weekly_dataset.metadata.freq, # Time series frequency\n",
        "    prediction_length=m4_weekly_dataset.metadata.prediction_length, # Prediction length.\n",
        "    num_hidden_global=50, # (default: 50).\n",
        "    num_layers_global=1, # (default: 1).\n",
        "    num_factors=10, # (default: 10).\n",
        "    num_hidden_local=5, # (default: 5).\n",
        "    num_layers_local=1, # (default: 1).\n",
        "    cell_type='lstm', # (default: ‘lstm’).\n",
        "    trainer = deepfactor_trainer, # (default: Trainer()).\n",
        "    context_length=None, # (default: None, in which case context_length = prediction_length).\n",
        "    num_parallel_samples=100, # (default: 100).\n",
        "    cardinality=car, # (default: list([1]).\n",
        "    embedding_dimension=10, # (default: 10).\n",
        "    distr_output=StudentTOutput(), # (default: StudentTOutput()).\n",
        ")"
      ],
      "execution_count": 0,
      "outputs": []
    },
    {
      "cell_type": "code",
      "metadata": {
        "colab_type": "code",
        "outputId": "ddbf10fa-6d77-4bcf-8be0-794fcf3c5aee",
        "id": "268w4zPdUG-o",
        "colab": {
          "base_uri": "https://localhost:8080/",
          "height": 1000
        }
      },
      "source": [
        "DF_predictor = DF_estimator.train(m4_weekly_dataset.train)"
      ],
      "execution_count": 0,
      "outputs": [
        {
          "output_type": "stream",
          "text": [
            "\r  0%|          | 0/50 [00:00<?, ?it/s]"
          ],
          "name": "stderr"
        },
        {
          "output_type": "stream",
          "text": [
            "learning rate from ``lr_scheduler`` has been overwritten by ``learning_rate`` in optimizer.\n"
          ],
          "name": "stdout"
        },
        {
          "output_type": "stream",
          "text": [
            "100%|██████████| 50/50 [00:01<00:00, 38.95it/s, epoch=1/100, avg_epoch_loss=5.04e+7]\n",
            "100%|██████████| 50/50 [00:01<00:00, 41.98it/s, epoch=2/100, avg_epoch_loss=2.91e+7]\n",
            "100%|██████████| 50/50 [00:01<00:00, 40.68it/s, epoch=3/100, avg_epoch_loss=1.58e+7]\n",
            "100%|██████████| 50/50 [00:01<00:00, 40.73it/s, epoch=4/100, avg_epoch_loss=7.2e+6]\n",
            "100%|██████████| 50/50 [00:01<00:00, 41.24it/s, epoch=5/100, avg_epoch_loss=3.71e+6]\n",
            "100%|██████████| 50/50 [00:01<00:00, 40.35it/s, epoch=6/100, avg_epoch_loss=2.13e+6]\n",
            "100%|██████████| 50/50 [00:01<00:00, 41.92it/s, epoch=7/100, avg_epoch_loss=1.21e+6]\n",
            "100%|██████████| 50/50 [00:01<00:00, 40.65it/s, epoch=8/100, avg_epoch_loss=7.81e+5]\n",
            "100%|██████████| 50/50 [00:01<00:00, 41.27it/s, epoch=9/100, avg_epoch_loss=4.39e+5]\n",
            "100%|██████████| 50/50 [00:01<00:00, 40.21it/s, epoch=10/100, avg_epoch_loss=3.42e+5]\n",
            "100%|██████████| 50/50 [00:01<00:00, 41.11it/s, epoch=11/100, avg_epoch_loss=2.6e+5]\n",
            "100%|██████████| 50/50 [00:01<00:00, 40.57it/s, epoch=12/100, avg_epoch_loss=2.19e+5]\n",
            "100%|██████████| 50/50 [00:01<00:00, 40.98it/s, epoch=13/100, avg_epoch_loss=1.69e+5]\n",
            "100%|██████████| 50/50 [00:01<00:00, 40.76it/s, epoch=14/100, avg_epoch_loss=1.56e+5]\n",
            "100%|██████████| 50/50 [00:01<00:00, 41.21it/s, epoch=15/100, avg_epoch_loss=1.27e+5]\n",
            "100%|██████████| 50/50 [00:01<00:00, 41.10it/s, epoch=16/100, avg_epoch_loss=1.14e+5]\n",
            "100%|██████████| 50/50 [00:01<00:00, 39.75it/s, epoch=17/100, avg_epoch_loss=9.59e+4]\n",
            "100%|██████████| 50/50 [00:01<00:00, 41.38it/s, epoch=18/100, avg_epoch_loss=8.41e+4]\n",
            "100%|██████████| 50/50 [00:01<00:00, 40.12it/s, epoch=19/100, avg_epoch_loss=8.23e+4]\n",
            "100%|██████████| 50/50 [00:01<00:00, 41.55it/s, epoch=20/100, avg_epoch_loss=6.72e+4]\n",
            "100%|██████████| 50/50 [00:01<00:00, 39.82it/s, epoch=21/100, avg_epoch_loss=6.43e+4]\n",
            "100%|██████████| 50/50 [00:01<00:00, 41.55it/s, epoch=22/100, avg_epoch_loss=5.84e+4]\n",
            "100%|██████████| 50/50 [00:01<00:00, 40.50it/s, epoch=23/100, avg_epoch_loss=5.69e+4]\n",
            "100%|██████████| 50/50 [00:01<00:00, 41.48it/s, epoch=24/100, avg_epoch_loss=4.95e+4]\n",
            "100%|██████████| 50/50 [00:01<00:00, 40.50it/s, epoch=25/100, avg_epoch_loss=4.71e+4]\n",
            "100%|██████████| 50/50 [00:01<00:00, 40.70it/s, epoch=26/100, avg_epoch_loss=3.99e+4]\n",
            "100%|██████████| 50/50 [00:01<00:00, 41.00it/s, epoch=27/100, avg_epoch_loss=4.07e+4]\n",
            "100%|██████████| 50/50 [00:01<00:00, 39.81it/s, epoch=28/100, avg_epoch_loss=3.76e+4]\n",
            "100%|██████████| 50/50 [00:01<00:00, 41.48it/s, epoch=29/100, avg_epoch_loss=3.42e+4]\n",
            "100%|██████████| 50/50 [00:01<00:00, 40.15it/s, epoch=30/100, avg_epoch_loss=3.43e+4]\n",
            "100%|██████████| 50/50 [00:01<00:00, 41.30it/s, epoch=31/100, avg_epoch_loss=2.94e+4]\n",
            "100%|██████████| 50/50 [00:01<00:00, 40.54it/s, epoch=32/100, avg_epoch_loss=3.1e+4]\n",
            "100%|██████████| 50/50 [00:01<00:00, 41.27it/s, epoch=33/100, avg_epoch_loss=2.62e+4]\n",
            "100%|██████████| 50/50 [00:01<00:00, 40.64it/s, epoch=34/100, avg_epoch_loss=2.62e+4]\n",
            "100%|██████████| 50/50 [00:01<00:00, 41.02it/s, epoch=35/100, avg_epoch_loss=2.32e+4]\n",
            "100%|██████████| 50/50 [00:01<00:00, 40.38it/s, epoch=36/100, avg_epoch_loss=2.43e+4]\n",
            "100%|██████████| 50/50 [00:01<00:00, 40.74it/s, epoch=37/100, avg_epoch_loss=2.12e+4]\n",
            "100%|██████████| 50/50 [00:01<00:00, 40.42it/s, epoch=38/100, avg_epoch_loss=2.12e+4]\n",
            "100%|██████████| 50/50 [00:01<00:00, 40.78it/s, epoch=39/100, avg_epoch_loss=2e+4]\n",
            "100%|██████████| 50/50 [00:01<00:00, 41.52it/s, epoch=40/100, avg_epoch_loss=1.88e+4]\n",
            "100%|██████████| 50/50 [00:01<00:00, 39.83it/s, epoch=41/100, avg_epoch_loss=1.84e+4]\n",
            "100%|██████████| 50/50 [00:01<00:00, 41.33it/s, epoch=42/100, avg_epoch_loss=1.57e+4]\n",
            "100%|██████████| 50/50 [00:01<00:00, 40.14it/s, epoch=43/100, avg_epoch_loss=1.73e+4]\n",
            "100%|██████████| 50/50 [00:01<00:00, 41.50it/s, epoch=44/100, avg_epoch_loss=1.5e+4]\n",
            "100%|██████████| 50/50 [00:01<00:00, 40.68it/s, epoch=45/100, avg_epoch_loss=1.72e+4]\n",
            "100%|██████████| 50/50 [00:01<00:00, 41.38it/s, epoch=46/100, avg_epoch_loss=1.37e+4]\n",
            "100%|██████████| 50/50 [00:01<00:00, 40.97it/s, epoch=47/100, avg_epoch_loss=1.37e+4]\n",
            "100%|██████████| 50/50 [00:01<00:00, 41.40it/s, epoch=48/100, avg_epoch_loss=1.25e+4]\n",
            "100%|██████████| 50/50 [00:01<00:00, 40.62it/s, epoch=49/100, avg_epoch_loss=1.26e+4]\n",
            "100%|██████████| 50/50 [00:01<00:00, 41.14it/s, epoch=50/100, avg_epoch_loss=1.29e+4]\n",
            "100%|██████████| 50/50 [00:01<00:00, 40.89it/s, epoch=51/100, avg_epoch_loss=1.17e+4]\n",
            "100%|██████████| 50/50 [00:01<00:00, 39.00it/s, epoch=52/100, avg_epoch_loss=1.12e+4]\n",
            "100%|██████████| 50/50 [00:01<00:00, 40.03it/s, epoch=53/100, avg_epoch_loss=1.05e+4]\n",
            "100%|██████████| 50/50 [00:01<00:00, 39.56it/s, epoch=54/100, avg_epoch_loss=1.22e+4]\n",
            "100%|██████████| 50/50 [00:01<00:00, 39.99it/s, epoch=55/100, avg_epoch_loss=9.63e+3]\n",
            "100%|██████████| 50/50 [00:01<00:00, 39.60it/s, epoch=56/100, avg_epoch_loss=1.05e+4]\n",
            "100%|██████████| 50/50 [00:01<00:00, 41.50it/s, epoch=57/100, avg_epoch_loss=9.61e+3]\n",
            "100%|██████████| 50/50 [00:01<00:00, 40.21it/s, epoch=58/100, avg_epoch_loss=9.27e+3]\n",
            "100%|██████████| 50/50 [00:01<00:00, 41.30it/s, epoch=59/100, avg_epoch_loss=9.16e+3]\n",
            "100%|██████████| 50/50 [00:01<00:00, 40.13it/s, epoch=60/100, avg_epoch_loss=8.52e+3]\n",
            "100%|██████████| 50/50 [00:01<00:00, 39.98it/s, epoch=61/100, avg_epoch_loss=8.12e+3]\n",
            "100%|██████████| 50/50 [00:01<00:00, 41.45it/s, epoch=62/100, avg_epoch_loss=7.98e+3]\n",
            "100%|██████████| 50/50 [00:01<00:00, 41.12it/s, epoch=63/100, avg_epoch_loss=7.24e+3]\n",
            "100%|██████████| 50/50 [00:01<00:00, 41.14it/s, epoch=64/100, avg_epoch_loss=7.24e+3]\n",
            "100%|██████████| 50/50 [00:01<00:00, 40.52it/s, epoch=65/100, avg_epoch_loss=6.84e+3]\n",
            "100%|██████████| 50/50 [00:01<00:00, 41.50it/s, epoch=66/100, avg_epoch_loss=6.52e+3]\n",
            "100%|██████████| 50/50 [00:01<00:00, 40.55it/s, epoch=67/100, avg_epoch_loss=6.41e+3]\n",
            "100%|██████████| 50/50 [00:01<00:00, 41.57it/s, epoch=68/100, avg_epoch_loss=6.77e+3]\n",
            "100%|██████████| 50/50 [00:01<00:00, 40.42it/s, epoch=69/100, avg_epoch_loss=6.12e+3]\n",
            "100%|██████████| 50/50 [00:01<00:00, 41.44it/s, epoch=70/100, avg_epoch_loss=5.53e+3]\n",
            "100%|██████████| 50/50 [00:01<00:00, 40.62it/s, epoch=71/100, avg_epoch_loss=5.98e+3]\n",
            "100%|██████████| 50/50 [00:01<00:00, 41.37it/s, epoch=72/100, avg_epoch_loss=5.61e+3]\n",
            "100%|██████████| 50/50 [00:01<00:00, 40.68it/s, epoch=73/100, avg_epoch_loss=5.08e+3]\n",
            "100%|██████████| 50/50 [00:01<00:00, 40.73it/s, epoch=74/100, avg_epoch_loss=4.7e+3]\n",
            "100%|██████████| 50/50 [00:01<00:00, 41.55it/s, epoch=75/100, avg_epoch_loss=4.55e+3]\n",
            "100%|██████████| 50/50 [00:01<00:00, 40.27it/s, epoch=76/100, avg_epoch_loss=4.3e+3]\n",
            "100%|██████████| 50/50 [00:01<00:00, 41.32it/s, epoch=77/100, avg_epoch_loss=4.42e+3]\n",
            "100%|██████████| 50/50 [00:01<00:00, 40.53it/s, epoch=78/100, avg_epoch_loss=4.6e+3]\n",
            "100%|██████████| 50/50 [00:01<00:00, 41.76it/s, epoch=79/100, avg_epoch_loss=4.16e+3]\n",
            "100%|██████████| 50/50 [00:01<00:00, 41.02it/s, epoch=80/100, avg_epoch_loss=3.14e+3]\n",
            "100%|██████████| 50/50 [00:01<00:00, 41.65it/s, epoch=81/100, avg_epoch_loss=3.89e+3]\n",
            "100%|██████████| 50/50 [00:01<00:00, 41.00it/s, epoch=82/100, avg_epoch_loss=4.16e+3]\n",
            "100%|██████████| 50/50 [00:01<00:00, 41.73it/s, epoch=83/100, avg_epoch_loss=3.18e+3]\n",
            "100%|██████████| 50/50 [00:01<00:00, 41.55it/s, epoch=84/100, avg_epoch_loss=3.72e+3]\n",
            "100%|██████████| 50/50 [00:01<00:00, 41.54it/s, epoch=85/100, avg_epoch_loss=3.3e+3]\n",
            "100%|██████████| 50/50 [00:01<00:00, 41.38it/s, epoch=86/100, avg_epoch_loss=2.9e+3]\n",
            "100%|██████████| 50/50 [00:01<00:00, 41.02it/s, epoch=87/100, avg_epoch_loss=3.32e+3]\n",
            "100%|██████████| 50/50 [00:01<00:00, 41.46it/s, epoch=88/100, avg_epoch_loss=2.85e+3]\n",
            "100%|██████████| 50/50 [00:01<00:00, 41.18it/s, epoch=89/100, avg_epoch_loss=3.09e+3]\n",
            "100%|██████████| 50/50 [00:01<00:00, 41.01it/s, epoch=90/100, avg_epoch_loss=2.02e+3]\n",
            "100%|██████████| 50/50 [00:01<00:00, 41.10it/s, epoch=91/100, avg_epoch_loss=2.68e+3]\n",
            "100%|██████████| 50/50 [00:01<00:00, 41.99it/s, epoch=92/100, avg_epoch_loss=2.52e+3]\n",
            "100%|██████████| 50/50 [00:01<00:00, 41.18it/s, epoch=93/100, avg_epoch_loss=2.56e+3]\n",
            "100%|██████████| 50/50 [00:01<00:00, 42.15it/s, epoch=94/100, avg_epoch_loss=1.94e+3]\n",
            "100%|██████████| 50/50 [00:01<00:00, 41.63it/s, epoch=95/100, avg_epoch_loss=1.47e+3]\n",
            "100%|██████████| 50/50 [00:01<00:00, 41.27it/s, epoch=96/100, avg_epoch_loss=2.14e+3]\n",
            "100%|██████████| 50/50 [00:01<00:00, 41.87it/s, epoch=97/100, avg_epoch_loss=1.55e+3]\n",
            "100%|██████████| 50/50 [00:01<00:00, 41.30it/s, epoch=98/100, avg_epoch_loss=1.63e+3]\n",
            "100%|██████████| 50/50 [00:01<00:00, 41.85it/s, epoch=99/100, avg_epoch_loss=1.3e+3]\n",
            "100%|██████████| 50/50 [00:01<00:00, 41.10it/s, epoch=100/100, avg_epoch_loss=1.49e+3]\n"
          ],
          "name": "stderr"
        }
      ]
    },
    {
      "cell_type": "code",
      "metadata": {
        "colab_type": "code",
        "id": "kE6yGMdvUG-x",
        "outputId": "7c2ebbc5-e14b-4379-8780-2cfb99801de6",
        "colab": {
          "base_uri": "https://localhost:8080/",
          "height": 503
        }
      },
      "source": [
        "forecast_it, ts_it = make_evaluation_predictions(\n",
        "    dataset=m4_weekly_dataset.test, \n",
        "    predictor=DF_predictor, \n",
        "    num_samples=100, \n",
        ")\n",
        "\n",
        "forecasts = list(forecast_it)\n",
        "tss = list(ts_it)\n",
        "\n",
        "evaluator = Evaluator(quantiles=[0.1, 0.5, 0.9])\n",
        "agg_metrics, item_metrics = evaluator(iter(tss), iter(forecasts), num_series=len(m4_weekly_dataset.test))\n",
        "\n",
        "print(json.dumps(agg_metrics, indent=4))"
      ],
      "execution_count": 0,
      "outputs": [
        {
          "output_type": "stream",
          "text": [
            "Running evaluation: 100%|██████████| 359/359 [00:00<00:00, 6401.56it/s]\n"
          ],
          "name": "stderr"
        },
        {
          "output_type": "stream",
          "text": [
            "{\n",
            "    \"MSE\": 3092125.678778238,\n",
            "    \"abs_error\": 5337996.949234009,\n",
            "    \"abs_target_sum\": 25616889.502441406,\n",
            "    \"abs_target_mean\": 5488.941397566194,\n",
            "    \"seasonal_error\": 216.54813922503882,\n",
            "    \"MASE\": 19.148520440241946,\n",
            "    \"MAPE\": 0.2117046438547443,\n",
            "    \"sMAPE\": 0.23647832069685804,\n",
            "    \"OWA\": NaN,\n",
            "    \"MSIS\": 734.0715815119916,\n",
            "    \"QuantileLoss[0.1]\": 1482328.4895713804,\n",
            "    \"Coverage[0.1]\": 0.12384829655024661,\n",
            "    \"QuantileLoss[0.5]\": 5337996.920166016,\n",
            "    \"Coverage[0.5]\": 0.15084636811656327,\n",
            "    \"QuantileLoss[0.9]\": 8908309.51903839,\n",
            "    \"Coverage[0.9]\": 0.19112920505678205,\n",
            "    \"RMSE\": 1758.4441073796568,\n",
            "    \"NRMSE\": 0.32036124637063057,\n",
            "    \"ND\": 0.20837802921878057,\n",
            "    \"wQuantileLoss[0.1]\": 0.057865280225770886,\n",
            "    \"wQuantileLoss[0.5]\": 0.20837802808406072,\n",
            "    \"wQuantileLoss[0.9]\": 0.34775141291800427,\n",
            "    \"mean_wQuantileLoss\": 0.20466490707594528,\n",
            "    \"MAE_Coverage\": 0.3606242411256338\n",
            "}\n"
          ],
          "name": "stdout"
        }
      ]
    },
    {
      "cell_type": "code",
      "metadata": {
        "colab_type": "code",
        "id": "Qad3RV63UG-2",
        "colab": {}
      },
      "source": [
        ""
      ],
      "execution_count": 0,
      "outputs": []
    },
    {
      "cell_type": "markdown",
      "metadata": {
        "colab_type": "text",
        "id": "TYKFITcnUKLQ"
      },
      "source": [
        "## m4_yearly"
      ]
    },
    {
      "cell_type": "code",
      "metadata": {
        "colab_type": "code",
        "id": "0_xBRUYXUKLR",
        "outputId": "014609ac-2711-4d8a-9372-05282599421b",
        "colab": {
          "base_uri": "https://localhost:8080/",
          "height": 53
        }
      },
      "source": [
        "m4_yearly_dataset = get_dataset(\"m4_yearly\", regenerate=False)"
      ],
      "execution_count": 0,
      "outputs": [
        {
          "output_type": "stream",
          "text": [
            "saving time-series into /root/.mxnet/gluon-ts/datasets/m4_yearly/train/data.json\n",
            "saving time-series into /root/.mxnet/gluon-ts/datasets/m4_yearly/test/data.json\n"
          ],
          "name": "stdout"
        }
      ]
    },
    {
      "cell_type": "code",
      "metadata": {
        "colab_type": "code",
        "id": "QYwTQDmbUKLW",
        "outputId": "3327145b-b6dd-4fba-d3db-ee6be4056d45",
        "colab": {
          "base_uri": "https://localhost:8080/",
          "height": 53
        }
      },
      "source": [
        "print (len(m4_yearly_dataset.train))\n",
        "print (len(m4_yearly_dataset.test))"
      ],
      "execution_count": 0,
      "outputs": [
        {
          "output_type": "stream",
          "text": [
            "23000\n",
            "23000\n"
          ],
          "name": "stdout"
        }
      ]
    },
    {
      "cell_type": "code",
      "metadata": {
        "colab_type": "code",
        "id": "Vm2erLbqUKLa",
        "outputId": "b14e17c9-bb23-4845-c4fe-94e34bbbd80b",
        "colab": {
          "base_uri": "https://localhost:8080/",
          "height": 35
        }
      },
      "source": [
        "m4_yearly_dataset.metadata"
      ],
      "execution_count": 0,
      "outputs": [
        {
          "output_type": "execute_result",
          "data": {
            "text/plain": [
              "MetaData(freq='12M', target=None, feat_static_cat=[CategoricalFeatureInfo(name='feat_static_cat', cardinality='23000')], feat_static_real=[], feat_dynamic_real=[], feat_dynamic_cat=[], prediction_length=6)"
            ]
          },
          "metadata": {
            "tags": []
          },
          "execution_count": 76
        }
      ]
    },
    {
      "cell_type": "code",
      "metadata": {
        "colab_type": "code",
        "outputId": "29354ccd-e4fe-40a7-a222-71ea0a2a0bc2",
        "id": "p--10RfDqfGS",
        "colab": {
          "base_uri": "https://localhost:8080/",
          "height": 35
        }
      },
      "source": [
        "m4_yearly_dataset.metadata.feat_static_cat[0]"
      ],
      "execution_count": 0,
      "outputs": [
        {
          "output_type": "execute_result",
          "data": {
            "text/plain": [
              "CategoricalFeatureInfo(name='feat_static_cat', cardinality='23000')"
            ]
          },
          "metadata": {
            "tags": []
          },
          "execution_count": 77
        }
      ]
    },
    {
      "cell_type": "code",
      "metadata": {
        "colab_type": "code",
        "id": "8Q0KSV9LqfGY",
        "colab": {}
      },
      "source": [
        "car = [int(m4_yearly_dataset.metadata.feat_static_cat[0].cardinality)]"
      ],
      "execution_count": 0,
      "outputs": []
    },
    {
      "cell_type": "code",
      "metadata": {
        "colab_type": "code",
        "id": "cjR3KORlUKLe",
        "outputId": "8a0f1c37-e07c-4a91-9098-0e629ab6b10c",
        "colab": {
          "base_uri": "https://localhost:8080/",
          "height": 35
        }
      },
      "source": [
        "next(iter(m4_yearly_dataset.train)).keys()"
      ],
      "execution_count": 0,
      "outputs": [
        {
          "output_type": "execute_result",
          "data": {
            "text/plain": [
              "dict_keys(['start', 'target', 'feat_static_cat', 'item_id', 'source'])"
            ]
          },
          "metadata": {
            "tags": []
          },
          "execution_count": 79
        }
      ]
    },
    {
      "cell_type": "code",
      "metadata": {
        "colab_type": "code",
        "id": "LjZJvTpaUKLo",
        "colab": {}
      },
      "source": [
        "# https://gluon-ts.mxnet.io/api/gluonts/gluonts.model.deep_factor.html\n",
        "DF_estimator = DeepFactorEstimator(\n",
        "    freq=m4_yearly_dataset.metadata.freq, # Time series frequency\n",
        "    prediction_length=m4_yearly_dataset.metadata.prediction_length, # Prediction length.\n",
        "    num_hidden_global=50, # (default: 50).\n",
        "    num_layers_global=1, # (default: 1).\n",
        "    num_factors=10, # (default: 10).\n",
        "    num_hidden_local=5, # (default: 5).\n",
        "    num_layers_local=1, # (default: 1).\n",
        "    cell_type='lstm', # (default: ‘lstm’).\n",
        "    trainer = deepfactor_trainer, # (default: Trainer()).\n",
        "    context_length=None, # (default: None, in which case context_length = prediction_length).\n",
        "    num_parallel_samples=100, # (default: 100).\n",
        "    cardinality=car, # (default: list([1]).\n",
        "    embedding_dimension=10, # (default: 10).\n",
        "    distr_output=StudentTOutput(), # (default: StudentTOutput()).\n",
        ")"
      ],
      "execution_count": 0,
      "outputs": []
    },
    {
      "cell_type": "code",
      "metadata": {
        "colab_type": "code",
        "outputId": "4fbeb930-1a9c-4bf8-b8ba-4317deae7cbc",
        "id": "XndJZabPUKLq",
        "colab": {
          "base_uri": "https://localhost:8080/",
          "height": 1000
        }
      },
      "source": [
        "DF_predictor = DF_estimator.train(m4_yearly_dataset.train)"
      ],
      "execution_count": 0,
      "outputs": [
        {
          "output_type": "stream",
          "text": [
            "\r  0%|          | 0/50 [00:00<?, ?it/s]"
          ],
          "name": "stderr"
        },
        {
          "output_type": "stream",
          "text": [
            "learning rate from ``lr_scheduler`` has been overwritten by ``learning_rate`` in optimizer.\n"
          ],
          "name": "stdout"
        },
        {
          "output_type": "stream",
          "text": [
            "100%|██████████| 50/50 [00:00<00:00, 78.99it/s, epoch=1/100, avg_epoch_loss=2.18e+7]\n",
            "100%|██████████| 50/50 [00:00<00:00, 83.90it/s, epoch=2/100, avg_epoch_loss=1.58e+7]\n",
            "100%|██████████| 50/50 [00:00<00:00, 86.52it/s, epoch=3/100, avg_epoch_loss=9.51e+6]\n",
            "100%|██████████| 50/50 [00:00<00:00, 84.61it/s, epoch=4/100, avg_epoch_loss=4.1e+6]\n",
            "100%|██████████| 50/50 [00:00<00:00, 81.70it/s, epoch=5/100, avg_epoch_loss=2.73e+6]\n",
            "100%|██████████| 50/50 [00:00<00:00, 86.15it/s, epoch=6/100, avg_epoch_loss=2.6e+6]\n",
            "100%|██████████| 50/50 [00:00<00:00, 87.11it/s, epoch=7/100, avg_epoch_loss=1.34e+6]\n",
            "100%|██████████| 50/50 [00:00<00:00, 86.57it/s, epoch=8/100, avg_epoch_loss=1.27e+6]\n",
            "100%|██████████| 50/50 [00:00<00:00, 84.25it/s, epoch=9/100, avg_epoch_loss=1.02e+6]\n",
            "100%|██████████| 50/50 [00:00<00:00, 86.37it/s, epoch=10/100, avg_epoch_loss=9.39e+5]\n",
            "100%|██████████| 50/50 [00:00<00:00, 86.94it/s, epoch=11/100, avg_epoch_loss=6.81e+5]\n",
            "100%|██████████| 50/50 [00:00<00:00, 85.44it/s, epoch=12/100, avg_epoch_loss=5.07e+5]\n",
            "100%|██████████| 50/50 [00:00<00:00, 88.22it/s, epoch=13/100, avg_epoch_loss=4.06e+5]\n",
            "100%|██████████| 50/50 [00:00<00:00, 86.20it/s, epoch=14/100, avg_epoch_loss=3.75e+5]\n",
            "100%|██████████| 50/50 [00:00<00:00, 85.63it/s, epoch=15/100, avg_epoch_loss=3.64e+5]\n",
            "100%|██████████| 50/50 [00:00<00:00, 83.66it/s, epoch=16/100, avg_epoch_loss=3.35e+5]\n",
            "100%|██████████| 50/50 [00:00<00:00, 82.65it/s, epoch=17/100, avg_epoch_loss=2.84e+5]\n",
            "100%|██████████| 50/50 [00:00<00:00, 70.80it/s, epoch=18/100, avg_epoch_loss=2.36e+5]\n",
            "100%|██████████| 50/50 [00:00<00:00, 79.93it/s, epoch=19/100, avg_epoch_loss=1.85e+5]\n",
            "100%|██████████| 50/50 [00:00<00:00, 84.33it/s, epoch=20/100, avg_epoch_loss=2.38e+5]\n",
            "100%|██████████| 50/50 [00:00<00:00, 81.79it/s, epoch=21/100, avg_epoch_loss=3.07e+5]\n",
            "100%|██████████| 50/50 [00:00<00:00, 81.05it/s, epoch=22/100, avg_epoch_loss=4.36e+5]\n",
            "100%|██████████| 50/50 [00:00<00:00, 81.06it/s, epoch=23/100, avg_epoch_loss=1.97e+5]\n",
            "100%|██████████| 50/50 [00:00<00:00, 79.62it/s, epoch=24/100, avg_epoch_loss=1.63e+5]\n",
            "100%|██████████| 50/50 [00:00<00:00, 79.97it/s, epoch=25/100, avg_epoch_loss=1.96e+5]\n",
            "100%|██████████| 50/50 [00:00<00:00, 82.31it/s, epoch=26/100, avg_epoch_loss=1.18e+5]\n",
            "100%|██████████| 50/50 [00:00<00:00, 81.00it/s, epoch=27/100, avg_epoch_loss=9.83e+4]\n",
            "100%|██████████| 50/50 [00:00<00:00, 78.85it/s, epoch=28/100, avg_epoch_loss=1.02e+5]\n",
            "100%|██████████| 50/50 [00:00<00:00, 81.56it/s, epoch=29/100, avg_epoch_loss=2.34e+5]\n",
            "100%|██████████| 50/50 [00:00<00:00, 82.28it/s, epoch=30/100, avg_epoch_loss=3.15e+6]\n",
            "100%|██████████| 50/50 [00:00<00:00, 82.80it/s, epoch=31/100, avg_epoch_loss=7.33e+4]\n",
            "100%|██████████| 50/50 [00:00<00:00, 82.84it/s, epoch=32/100, avg_epoch_loss=5.63e+4]\n",
            "100%|██████████| 50/50 [00:00<00:00, 80.90it/s, epoch=33/100, avg_epoch_loss=3.4e+4]\n",
            "100%|██████████| 50/50 [00:00<00:00, 82.33it/s, epoch=34/100, avg_epoch_loss=4.02e+4]\n",
            "100%|██████████| 50/50 [00:00<00:00, 83.57it/s, epoch=35/100, avg_epoch_loss=5.7e+4]\n",
            "100%|██████████| 50/50 [00:00<00:00, 83.63it/s, epoch=36/100, avg_epoch_loss=3.93e+4]\n",
            "100%|██████████| 50/50 [00:00<00:00, 81.71it/s, epoch=37/100, avg_epoch_loss=4.16e+4]\n",
            "100%|██████████| 50/50 [00:00<00:00, 80.34it/s, epoch=38/100, avg_epoch_loss=3.16e+4]\n",
            "100%|██████████| 50/50 [00:00<00:00, 79.05it/s, epoch=39/100, avg_epoch_loss=3.54e+4]\n",
            "100%|██████████| 50/50 [00:00<00:00, 81.89it/s, epoch=40/100, avg_epoch_loss=2.78e+4]\n",
            "100%|██████████| 50/50 [00:00<00:00, 82.65it/s, epoch=41/100, avg_epoch_loss=2.13e+4]\n",
            "100%|██████████| 50/50 [00:00<00:00, 83.78it/s, epoch=42/100, avg_epoch_loss=2.46e+4]\n",
            "100%|██████████| 50/50 [00:00<00:00, 81.99it/s, epoch=43/100, avg_epoch_loss=2.59e+4]\n",
            "100%|██████████| 50/50 [00:00<00:00, 71.80it/s, epoch=44/100, avg_epoch_loss=3.33e+4]\n",
            "100%|██████████| 50/50 [00:00<00:00, 64.77it/s, epoch=45/100, avg_epoch_loss=3.14e+4]\n",
            "100%|██████████| 50/50 [00:00<00:00, 61.39it/s, epoch=46/100, avg_epoch_loss=1.98e+4]\n",
            "100%|██████████| 50/50 [00:00<00:00, 80.62it/s, epoch=47/100, avg_epoch_loss=1.53e+4]\n",
            "100%|██████████| 50/50 [00:00<00:00, 80.70it/s, epoch=48/100, avg_epoch_loss=1.49e+4]\n",
            "100%|██████████| 50/50 [00:00<00:00, 80.19it/s, epoch=49/100, avg_epoch_loss=2.33e+4]\n",
            "100%|██████████| 50/50 [00:00<00:00, 79.36it/s, epoch=50/100, avg_epoch_loss=1.51e+4]\n",
            "100%|██████████| 50/50 [00:00<00:00, 76.96it/s, epoch=51/100, avg_epoch_loss=1.67e+4]\n",
            "100%|██████████| 50/50 [00:00<00:00, 75.94it/s, epoch=52/100, avg_epoch_loss=1.7e+4]\n",
            "100%|██████████| 50/50 [00:00<00:00, 75.59it/s, epoch=53/100, avg_epoch_loss=1.73e+4]\n",
            "100%|██████████| 50/50 [00:00<00:00, 76.25it/s, epoch=54/100, avg_epoch_loss=1.66e+4]\n",
            "100%|██████████| 50/50 [00:00<00:00, 77.77it/s, epoch=55/100, avg_epoch_loss=1.49e+4]\n",
            "100%|██████████| 50/50 [00:00<00:00, 78.29it/s, epoch=56/100, avg_epoch_loss=1.17e+4]\n",
            "100%|██████████| 50/50 [00:00<00:00, 75.41it/s, epoch=57/100, avg_epoch_loss=1.16e+4]\n",
            "100%|██████████| 50/50 [00:00<00:00, 76.38it/s, epoch=58/100, avg_epoch_loss=1.77e+4]\n",
            "100%|██████████| 50/50 [00:00<00:00, 76.19it/s, epoch=59/100, avg_epoch_loss=2.18e+4]\n",
            "100%|██████████| 50/50 [00:00<00:00, 74.73it/s, epoch=60/100, avg_epoch_loss=1.43e+4]\n",
            "100%|██████████| 50/50 [00:00<00:00, 78.00it/s, epoch=61/100, avg_epoch_loss=1.31e+4]\n",
            "100%|██████████| 50/50 [00:00<00:00, 77.69it/s, epoch=62/100, avg_epoch_loss=1.22e+4]\n",
            "100%|██████████| 50/50 [00:00<00:00, 76.88it/s, epoch=63/100, avg_epoch_loss=1.35e+4]\n",
            "100%|██████████| 50/50 [00:00<00:00, 78.39it/s, epoch=64/100, avg_epoch_loss=1.78e+4]\n",
            "100%|██████████| 50/50 [00:00<00:00, 77.39it/s, epoch=65/100, avg_epoch_loss=1.31e+4]\n",
            "100%|██████████| 50/50 [00:00<00:00, 78.39it/s, epoch=66/100, avg_epoch_loss=1.76e+4]\n",
            "100%|██████████| 50/50 [00:00<00:00, 80.33it/s, epoch=67/100, avg_epoch_loss=1.59e+4]\n",
            "100%|██████████| 50/50 [00:00<00:00, 83.01it/s, epoch=68/100, avg_epoch_loss=6.71e+5]\n",
            "100%|██████████| 50/50 [00:00<00:00, 81.76it/s, epoch=69/100, avg_epoch_loss=2.02e+4]\n",
            "100%|██████████| 50/50 [00:00<00:00, 83.48it/s, epoch=70/100, avg_epoch_loss=1.79e+4]\n",
            "100%|██████████| 50/50 [00:00<00:00, 82.68it/s, epoch=71/100, avg_epoch_loss=1.6e+4]\n",
            "100%|██████████| 50/50 [00:00<00:00, 81.03it/s, epoch=72/100, avg_epoch_loss=1.87e+4]\n",
            "100%|██████████| 50/50 [00:00<00:00, 81.09it/s, epoch=73/100, avg_epoch_loss=2.36e+4]\n",
            "100%|██████████| 50/50 [00:00<00:00, 83.21it/s, epoch=74/100, avg_epoch_loss=1.55e+4]\n",
            "100%|██████████| 50/50 [00:00<00:00, 79.28it/s, epoch=75/100, avg_epoch_loss=1.43e+4]\n",
            "100%|██████████| 50/50 [00:00<00:00, 81.80it/s, epoch=76/100, avg_epoch_loss=1.2e+4]\n",
            "100%|██████████| 50/50 [00:00<00:00, 80.95it/s, epoch=77/100, avg_epoch_loss=1.22e+4]\n",
            "100%|██████████| 50/50 [00:00<00:00, 77.42it/s, epoch=78/100, avg_epoch_loss=3.56e+5]\n",
            "100%|██████████| 50/50 [00:00<00:00, 81.87it/s, epoch=79/100, avg_epoch_loss=1.95e+4]\n",
            "100%|██████████| 50/50 [00:00<00:00, 83.12it/s, epoch=80/100, avg_epoch_loss=2.07e+4]\n",
            "100%|██████████| 50/50 [00:00<00:00, 82.04it/s, epoch=81/100, avg_epoch_loss=2e+4]\n",
            "100%|██████████| 50/50 [00:00<00:00, 78.81it/s, epoch=82/100, avg_epoch_loss=2.4e+4]\n",
            "100%|██████████| 50/50 [00:00<00:00, 81.88it/s, epoch=83/100, avg_epoch_loss=2.02e+4]\n",
            "100%|██████████| 50/50 [00:00<00:00, 82.46it/s, epoch=84/100, avg_epoch_loss=1.89e+4]\n",
            "100%|██████████| 50/50 [00:00<00:00, 82.84it/s, epoch=85/100, avg_epoch_loss=1.64e+4]\n",
            "100%|██████████| 50/50 [00:00<00:00, 83.94it/s, epoch=86/100, avg_epoch_loss=1.81e+4]\n",
            "100%|██████████| 50/50 [00:00<00:00, 81.60it/s, epoch=87/100, avg_epoch_loss=2.75e+4]\n",
            "100%|██████████| 50/50 [00:00<00:00, 81.60it/s, epoch=88/100, avg_epoch_loss=5.28e+4]\n",
            "100%|██████████| 50/50 [00:00<00:00, 83.62it/s, epoch=89/100, avg_epoch_loss=2.64e+4]\n",
            "100%|██████████| 50/50 [00:00<00:00, 81.59it/s, epoch=90/100, avg_epoch_loss=1.45e+4]\n",
            "100%|██████████| 50/50 [00:00<00:00, 81.20it/s, epoch=91/100, avg_epoch_loss=1.39e+4]\n",
            "100%|██████████| 50/50 [00:00<00:00, 83.78it/s, epoch=92/100, avg_epoch_loss=2.03e+4]\n",
            "100%|██████████| 50/50 [00:00<00:00, 82.71it/s, epoch=93/100, avg_epoch_loss=1.58e+4]\n",
            "100%|██████████| 50/50 [00:00<00:00, 82.32it/s, epoch=94/100, avg_epoch_loss=1.72e+4]\n",
            "100%|██████████| 50/50 [00:00<00:00, 81.58it/s, epoch=95/100, avg_epoch_loss=2.04e+4]\n",
            "100%|██████████| 50/50 [00:00<00:00, 79.59it/s, epoch=96/100, avg_epoch_loss=2.16e+4]\n",
            "100%|██████████| 50/50 [00:00<00:00, 81.53it/s, epoch=97/100, avg_epoch_loss=2.25e+4]\n",
            "100%|██████████| 50/50 [00:00<00:00, 84.21it/s, epoch=98/100, avg_epoch_loss=4.64e+6]\n",
            "100%|██████████| 50/50 [00:00<00:00, 83.40it/s, epoch=99/100, avg_epoch_loss=2.38e+6]\n",
            "100%|██████████| 50/50 [00:00<00:00, 80.58it/s, epoch=100/100, avg_epoch_loss=7.73e+5]\n"
          ],
          "name": "stderr"
        }
      ]
    },
    {
      "cell_type": "code",
      "metadata": {
        "colab_type": "code",
        "id": "wA7sOd6CUKLu",
        "outputId": "5e0c9ea2-b73a-4156-ecff-2a65b833ebed",
        "colab": {
          "base_uri": "https://localhost:8080/",
          "height": 503
        }
      },
      "source": [
        "forecast_it, ts_it = make_evaluation_predictions(\n",
        "    dataset=m4_yearly_dataset.test, \n",
        "    predictor=DF_predictor, \n",
        "    num_samples=100, \n",
        ")\n",
        "\n",
        "forecasts = list(forecast_it)\n",
        "tss = list(ts_it)\n",
        "\n",
        "evaluator = Evaluator(quantiles=[0.1, 0.5, 0.9])\n",
        "agg_metrics, item_metrics = evaluator(iter(tss), iter(forecasts), num_series=len(m4_yearly_dataset.test))\n",
        "\n",
        "print(json.dumps(agg_metrics, indent=4))"
      ],
      "execution_count": 0,
      "outputs": [
        {
          "output_type": "stream",
          "text": [
            "Running evaluation: 100%|██████████| 23000/23000 [00:00<00:00, 247913.88it/s]\n"
          ],
          "name": "stderr"
        },
        {
          "output_type": "stream",
          "text": [
            "{\n",
            "    \"MSE\": 2958111464.9457064,\n",
            "    \"abs_error\": 3132234639.657791,\n",
            "    \"abs_target_sum\": 860724679.6655273,\n",
            "    \"abs_target_mean\": 6237.135359895143,\n",
            "    \"seasonal_error\": 288.79964609563865,\n",
            "    \"MASE\": 92.63026527263264,\n",
            "    \"MAPE\": 3.1088665698625637,\n",
            "    \"sMAPE\": 1.6513679605655567,\n",
            "    \"OWA\": NaN,\n",
            "    \"MSIS\": 3697.2276293340437,\n",
            "    \"QuantileLoss[0.1]\": 4835222257.744239,\n",
            "    \"Coverage[0.1]\": 0.22566666666666663,\n",
            "    \"QuantileLoss[0.5]\": 3132234640.508995,\n",
            "    \"Coverage[0.5]\": 0.2258985507246376,\n",
            "    \"QuantileLoss[0.9]\": 1423850317.3690596,\n",
            "    \"Coverage[0.9]\": 0.22618115942028993,\n",
            "    \"RMSE\": 54388.52328337024,\n",
            "    \"NRMSE\": 8.720112703195303,\n",
            "    \"ND\": 3.63906683943925,\n",
            "    \"wQuantileLoss[0.1]\": 5.617617772529979,\n",
            "    \"wQuantileLoss[0.5]\": 3.639066840428188,\n",
            "    \"wQuantileLoss[0.9]\": 1.6542459522856479,\n",
            "    \"mean_wQuantileLoss\": 3.6369768550812718,\n",
            "    \"MAE_Coverage\": 0.3578623188405797\n",
            "}\n"
          ],
          "name": "stdout"
        }
      ]
    },
    {
      "cell_type": "code",
      "metadata": {
        "colab_type": "code",
        "id": "lV8g1PegUKLy",
        "colab": {}
      },
      "source": [
        ""
      ],
      "execution_count": 0,
      "outputs": []
    },
    {
      "cell_type": "markdown",
      "metadata": {
        "colab_type": "text",
        "id": "aC9YpIM1UQbJ"
      },
      "source": [
        "## traffic"
      ]
    },
    {
      "cell_type": "code",
      "metadata": {
        "colab_type": "code",
        "id": "h2uMLoCRUQbK",
        "outputId": "0f9a4aa1-6a29-41e8-8201-7cd02f288f86",
        "colab": {
          "base_uri": "https://localhost:8080/",
          "height": 53
        }
      },
      "source": [
        "traffic_dataset = get_dataset(\"traffic\", regenerate=False)"
      ],
      "execution_count": 0,
      "outputs": [
        {
          "output_type": "stream",
          "text": [
            "saving time-series into /root/.mxnet/gluon-ts/datasets/traffic/train/data.json\n",
            "saving time-series into /root/.mxnet/gluon-ts/datasets/traffic/test/data.json\n"
          ],
          "name": "stdout"
        }
      ]
    },
    {
      "cell_type": "code",
      "metadata": {
        "colab_type": "code",
        "id": "-1JFshCqUQbM",
        "outputId": "6e969473-8f9f-4b22-ec36-a4e5c6514bcb",
        "colab": {
          "base_uri": "https://localhost:8080/",
          "height": 53
        }
      },
      "source": [
        "print (len(traffic_dataset.train))\n",
        "print (len(traffic_dataset.test))"
      ],
      "execution_count": 0,
      "outputs": [
        {
          "output_type": "stream",
          "text": [
            "862\n",
            "6034\n"
          ],
          "name": "stdout"
        }
      ]
    },
    {
      "cell_type": "code",
      "metadata": {
        "colab_type": "code",
        "id": "C5EDyAIYUQbP",
        "outputId": "9495b0af-8edb-4c01-e88a-1153c8e38dae",
        "colab": {
          "base_uri": "https://localhost:8080/",
          "height": 35
        }
      },
      "source": [
        "traffic_dataset.metadata"
      ],
      "execution_count": 0,
      "outputs": [
        {
          "output_type": "execute_result",
          "data": {
            "text/plain": [
              "MetaData(freq='H', target=None, feat_static_cat=[CategoricalFeatureInfo(name='feat_static_cat', cardinality='862')], feat_static_real=[], feat_dynamic_real=[], feat_dynamic_cat=[], prediction_length=24)"
            ]
          },
          "metadata": {
            "tags": []
          },
          "execution_count": 85
        }
      ]
    },
    {
      "cell_type": "code",
      "metadata": {
        "colab_type": "code",
        "outputId": "df7d35c9-1b86-451a-b2c7-35b9cc836a34",
        "id": "ci8ZPwSNqrim",
        "colab": {
          "base_uri": "https://localhost:8080/",
          "height": 35
        }
      },
      "source": [
        "traffic_dataset.metadata.feat_static_cat[0]"
      ],
      "execution_count": 0,
      "outputs": [
        {
          "output_type": "execute_result",
          "data": {
            "text/plain": [
              "CategoricalFeatureInfo(name='feat_static_cat', cardinality='862')"
            ]
          },
          "metadata": {
            "tags": []
          },
          "execution_count": 86
        }
      ]
    },
    {
      "cell_type": "code",
      "metadata": {
        "colab_type": "code",
        "id": "PbmxkMIrqriq",
        "colab": {}
      },
      "source": [
        "car = [int(traffic_dataset.metadata.feat_static_cat[0].cardinality)]"
      ],
      "execution_count": 0,
      "outputs": []
    },
    {
      "cell_type": "code",
      "metadata": {
        "colab_type": "code",
        "id": "DJC6OPsyUQbT",
        "outputId": "9737d6aa-1e32-43cc-deb8-d407e5d50baa",
        "colab": {
          "base_uri": "https://localhost:8080/",
          "height": 35
        }
      },
      "source": [
        "next(iter(traffic_dataset.train)).keys()"
      ],
      "execution_count": 0,
      "outputs": [
        {
          "output_type": "execute_result",
          "data": {
            "text/plain": [
              "dict_keys(['start', 'target', 'feat_static_cat', 'item_id', 'source'])"
            ]
          },
          "metadata": {
            "tags": []
          },
          "execution_count": 88
        }
      ]
    },
    {
      "cell_type": "code",
      "metadata": {
        "colab_type": "code",
        "id": "B4zoldaEUQbe",
        "colab": {}
      },
      "source": [
        "# https://gluon-ts.mxnet.io/api/gluonts/gluonts.model.deep_factor.html\n",
        "DF_estimator = DeepFactorEstimator(\n",
        "    freq=traffic_dataset.metadata.freq, # Time series frequency\n",
        "    prediction_length=traffic_dataset.metadata.prediction_length, # Prediction length.\n",
        "    num_hidden_global=50, # (default: 50).\n",
        "    num_layers_global=1, # (default: 1).\n",
        "    num_factors=10, # (default: 10).\n",
        "    num_hidden_local=5, # (default: 5).\n",
        "    num_layers_local=1, # (default: 1).\n",
        "    cell_type='lstm', # (default: ‘lstm’).\n",
        "    trainer = deepfactor_trainer, # (default: Trainer()).\n",
        "    context_length=None, # (default: None, in which case context_length = prediction_length).\n",
        "    num_parallel_samples=100, # (default: 100).\n",
        "    cardinality=car, # (default: list([1]).\n",
        "    embedding_dimension=10, # (default: 10).\n",
        "    distr_output=StudentTOutput(), # (default: StudentTOutput()).\n",
        ")"
      ],
      "execution_count": 0,
      "outputs": []
    },
    {
      "cell_type": "code",
      "metadata": {
        "colab_type": "code",
        "outputId": "39f1cde9-0579-4003-94e3-0e833ea59945",
        "id": "SJ-eJ1uYUQbh",
        "colab": {
          "base_uri": "https://localhost:8080/",
          "height": 1000
        }
      },
      "source": [
        "DF_predictor = DF_estimator.train(traffic_dataset.train)"
      ],
      "execution_count": 0,
      "outputs": [
        {
          "output_type": "stream",
          "text": [
            "\r  0%|          | 0/50 [00:00<?, ?it/s]"
          ],
          "name": "stderr"
        },
        {
          "output_type": "stream",
          "text": [
            "learning rate from ``lr_scheduler`` has been overwritten by ``learning_rate`` in optimizer.\n"
          ],
          "name": "stdout"
        },
        {
          "output_type": "stream",
          "text": [
            "100%|██████████| 50/50 [00:06<00:00,  7.33it/s, epoch=1/100, avg_epoch_loss=1.46]\n",
            "100%|██████████| 50/50 [00:06<00:00,  7.33it/s, epoch=2/100, avg_epoch_loss=1.34]\n",
            "100%|██████████| 50/50 [00:06<00:00,  7.26it/s, epoch=3/100, avg_epoch_loss=0.979]\n",
            "100%|██████████| 50/50 [00:06<00:00,  7.23it/s, epoch=4/100, avg_epoch_loss=0.463]\n",
            "100%|██████████| 50/50 [00:06<00:00,  7.21it/s, epoch=5/100, avg_epoch_loss=-.403]\n",
            "100%|██████████| 50/50 [00:06<00:00,  7.22it/s, epoch=6/100, avg_epoch_loss=-1.23]\n",
            "100%|██████████| 50/50 [00:06<00:00,  7.23it/s, epoch=7/100, avg_epoch_loss=-1.35]\n",
            "100%|██████████| 50/50 [00:06<00:00,  7.23it/s, epoch=8/100, avg_epoch_loss=-1.43]\n",
            "100%|██████████| 50/50 [00:06<00:00,  7.19it/s, epoch=9/100, avg_epoch_loss=-1.49]\n",
            "100%|██████████| 50/50 [00:06<00:00,  7.23it/s, epoch=10/100, avg_epoch_loss=-1.52]\n",
            "100%|██████████| 50/50 [00:06<00:00,  7.23it/s, epoch=11/100, avg_epoch_loss=-1.53]\n",
            "100%|██████████| 50/50 [00:06<00:00,  7.24it/s, epoch=12/100, avg_epoch_loss=-1.54]\n",
            "100%|██████████| 50/50 [00:07<00:00,  7.11it/s, epoch=13/100, avg_epoch_loss=-1.56]\n",
            "100%|██████████| 50/50 [00:06<00:00,  7.14it/s, epoch=14/100, avg_epoch_loss=-1.6]\n",
            "100%|██████████| 50/50 [00:06<00:00,  7.25it/s, epoch=15/100, avg_epoch_loss=-1.6]\n",
            "100%|██████████| 50/50 [00:06<00:00,  7.25it/s, epoch=16/100, avg_epoch_loss=-1.62]\n",
            "100%|██████████| 50/50 [00:06<00:00,  7.22it/s, epoch=17/100, avg_epoch_loss=-1.56]\n",
            "100%|██████████| 50/50 [00:06<00:00,  7.17it/s, epoch=18/100, avg_epoch_loss=-1.65]\n",
            "100%|██████████| 50/50 [00:06<00:00,  7.23it/s, epoch=19/100, avg_epoch_loss=-1.64]\n",
            "100%|██████████| 50/50 [00:06<00:00,  7.24it/s, epoch=20/100, avg_epoch_loss=-1.62]\n",
            "100%|██████████| 50/50 [00:06<00:00,  7.21it/s, epoch=21/100, avg_epoch_loss=-1.63]\n",
            "100%|██████████| 50/50 [00:06<00:00,  7.21it/s, epoch=22/100, avg_epoch_loss=-1.52]\n",
            "100%|██████████| 50/50 [00:06<00:00,  7.20it/s, epoch=23/100, avg_epoch_loss=-1.61]\n",
            "100%|██████████| 50/50 [00:06<00:00,  7.21it/s, epoch=24/100, avg_epoch_loss=-1.59]\n",
            "100%|██████████| 50/50 [00:06<00:00,  7.25it/s, epoch=25/100, avg_epoch_loss=-1.69]\n",
            "100%|██████████| 50/50 [00:06<00:00,  7.23it/s, epoch=26/100, avg_epoch_loss=-1.71]\n",
            "100%|██████████| 50/50 [00:06<00:00,  7.23it/s, epoch=27/100, avg_epoch_loss=-1.71]\n",
            "100%|██████████| 50/50 [00:06<00:00,  7.23it/s, epoch=28/100, avg_epoch_loss=-1.72]\n",
            "100%|██████████| 50/50 [00:06<00:00,  7.22it/s, epoch=29/100, avg_epoch_loss=-.668]\n",
            "100%|██████████| 50/50 [00:06<00:00,  7.21it/s, epoch=30/100, avg_epoch_loss=-1.72]\n",
            "100%|██████████| 50/50 [00:06<00:00,  7.22it/s, epoch=31/100, avg_epoch_loss=-.905]\n",
            "100%|██████████| 50/50 [00:06<00:00,  7.21it/s, epoch=32/100, avg_epoch_loss=-1.77]\n",
            "100%|██████████| 50/50 [00:06<00:00,  7.22it/s, epoch=33/100, avg_epoch_loss=-1.73]\n",
            "100%|██████████| 50/50 [00:06<00:00,  7.26it/s, epoch=34/100, avg_epoch_loss=-1.06]\n",
            "100%|██████████| 50/50 [00:06<00:00,  7.23it/s, epoch=35/100, avg_epoch_loss=-1.75]\n",
            "100%|██████████| 50/50 [00:06<00:00,  7.22it/s, epoch=36/100, avg_epoch_loss=-1.75]\n",
            "100%|██████████| 50/50 [00:06<00:00,  7.20it/s, epoch=37/100, avg_epoch_loss=-1.76]\n",
            "100%|██████████| 50/50 [00:06<00:00,  7.24it/s, epoch=38/100, avg_epoch_loss=-1.72]\n",
            "100%|██████████| 50/50 [00:06<00:00,  7.21it/s, epoch=39/100, avg_epoch_loss=2.37]\n",
            "100%|██████████| 50/50 [00:07<00:00,  7.13it/s, epoch=40/100, avg_epoch_loss=-1.63]\n",
            "100%|██████████| 50/50 [00:06<00:00,  7.19it/s, epoch=41/100, avg_epoch_loss=-1.57]\n",
            "100%|██████████| 50/50 [00:06<00:00,  7.23it/s, epoch=42/100, avg_epoch_loss=-1.54]\n",
            "100%|██████████| 50/50 [00:06<00:00,  7.23it/s, epoch=43/100, avg_epoch_loss=-1.88]\n",
            "100%|██████████| 50/50 [00:07<00:00,  7.14it/s, epoch=44/100, avg_epoch_loss=-2.06]\n",
            "100%|██████████| 50/50 [00:06<00:00,  7.21it/s, epoch=45/100, avg_epoch_loss=-2.04]\n",
            "100%|██████████| 50/50 [00:06<00:00,  7.21it/s, epoch=46/100, avg_epoch_loss=-2.05]\n",
            "100%|██████████| 50/50 [00:06<00:00,  7.21it/s, epoch=47/100, avg_epoch_loss=-2.09]\n",
            "100%|██████████| 50/50 [00:09<00:00,  5.39it/s, epoch=48/100, avg_epoch_loss=-2.1]\n",
            "100%|██████████| 50/50 [00:06<00:00,  7.21it/s, epoch=49/100, avg_epoch_loss=-2.13]\n",
            "100%|██████████| 50/50 [00:06<00:00,  7.20it/s, epoch=50/100, avg_epoch_loss=-2.15]\n",
            "100%|██████████| 50/50 [00:06<00:00,  7.20it/s, epoch=51/100, avg_epoch_loss=-2.16]\n",
            "100%|██████████| 50/50 [00:06<00:00,  7.16it/s, epoch=52/100, avg_epoch_loss=-2.19]\n",
            "100%|██████████| 50/50 [00:06<00:00,  7.16it/s, epoch=53/100, avg_epoch_loss=-2.21]\n",
            "100%|██████████| 50/50 [00:07<00:00,  6.76it/s, epoch=54/100, avg_epoch_loss=-2.23]\n",
            "100%|██████████| 50/50 [00:06<00:00,  7.16it/s, epoch=55/100, avg_epoch_loss=-2.25]\n",
            "100%|██████████| 50/50 [00:06<00:00,  7.19it/s, epoch=56/100, avg_epoch_loss=-2.27]\n",
            "100%|██████████| 50/50 [00:07<00:00,  7.01it/s, epoch=57/100, avg_epoch_loss=-2.27]\n",
            "100%|██████████| 50/50 [00:07<00:00,  7.09it/s, epoch=58/100, avg_epoch_loss=-2.29]\n",
            "100%|██████████| 50/50 [00:06<00:00,  7.22it/s, epoch=59/100, avg_epoch_loss=-2.3]\n",
            "100%|██████████| 50/50 [00:06<00:00,  7.24it/s, epoch=60/100, avg_epoch_loss=-2.32]\n",
            "100%|██████████| 50/50 [00:06<00:00,  7.22it/s, epoch=61/100, avg_epoch_loss=-2.34]\n",
            "100%|██████████| 50/50 [00:06<00:00,  7.25it/s, epoch=62/100, avg_epoch_loss=-2.34]\n",
            "100%|██████████| 50/50 [00:06<00:00,  7.18it/s, epoch=63/100, avg_epoch_loss=-2.36]\n",
            "100%|██████████| 50/50 [00:06<00:00,  7.17it/s, epoch=64/100, avg_epoch_loss=-2.37]\n",
            "100%|██████████| 50/50 [00:06<00:00,  7.19it/s, epoch=65/100, avg_epoch_loss=-2.39]\n",
            "100%|██████████| 50/50 [00:06<00:00,  7.18it/s, epoch=66/100, avg_epoch_loss=-2.4]\n",
            "100%|██████████| 50/50 [00:06<00:00,  7.21it/s, epoch=67/100, avg_epoch_loss=-2.42]\n",
            "100%|██████████| 50/50 [00:06<00:00,  7.24it/s, epoch=68/100, avg_epoch_loss=-2.43]\n",
            "100%|██████████| 50/50 [00:06<00:00,  7.21it/s, epoch=69/100, avg_epoch_loss=-2.44]\n",
            "100%|██████████| 50/50 [00:06<00:00,  7.19it/s, epoch=70/100, avg_epoch_loss=-2.45]\n",
            "100%|██████████| 50/50 [00:06<00:00,  7.21it/s, epoch=71/100, avg_epoch_loss=-2.46]\n",
            "100%|██████████| 50/50 [00:06<00:00,  7.23it/s, epoch=72/100, avg_epoch_loss=-2.48]\n",
            "100%|██████████| 50/50 [00:06<00:00,  7.21it/s, epoch=73/100, avg_epoch_loss=-2.49]\n",
            "100%|██████████| 50/50 [00:06<00:00,  7.17it/s, epoch=74/100, avg_epoch_loss=-2.5]\n",
            "100%|██████████| 50/50 [00:06<00:00,  7.23it/s, epoch=75/100, avg_epoch_loss=-2.5]\n",
            "100%|██████████| 50/50 [00:06<00:00,  7.19it/s, epoch=76/100, avg_epoch_loss=-2.51]\n",
            "100%|██████████| 50/50 [00:06<00:00,  7.22it/s, epoch=77/100, avg_epoch_loss=-2.52]\n",
            "100%|██████████| 50/50 [00:06<00:00,  7.21it/s, epoch=78/100, avg_epoch_loss=-2.53]\n",
            "100%|██████████| 50/50 [00:06<00:00,  7.23it/s, epoch=79/100, avg_epoch_loss=-2.55]\n",
            "100%|██████████| 50/50 [00:06<00:00,  7.18it/s, epoch=80/100, avg_epoch_loss=-2.55]\n",
            "100%|██████████| 50/50 [00:06<00:00,  7.20it/s, epoch=81/100, avg_epoch_loss=-2.56]\n",
            "100%|██████████| 50/50 [00:06<00:00,  7.21it/s, epoch=82/100, avg_epoch_loss=-2.57]\n",
            "100%|██████████| 50/50 [00:06<00:00,  7.19it/s, epoch=83/100, avg_epoch_loss=-2.58]\n",
            "100%|██████████| 50/50 [00:06<00:00,  7.15it/s, epoch=84/100, avg_epoch_loss=-2.58]\n",
            "100%|██████████| 50/50 [00:06<00:00,  7.21it/s, epoch=85/100, avg_epoch_loss=-2.58]\n",
            "100%|██████████| 50/50 [00:06<00:00,  7.24it/s, epoch=86/100, avg_epoch_loss=-2.6]\n",
            "100%|██████████| 50/50 [00:06<00:00,  7.22it/s, epoch=87/100, avg_epoch_loss=-2.6]\n",
            "100%|██████████| 50/50 [00:06<00:00,  7.21it/s, epoch=88/100, avg_epoch_loss=-2.61]\n",
            "100%|██████████| 50/50 [00:06<00:00,  7.19it/s, epoch=89/100, avg_epoch_loss=-2.6]\n",
            "100%|██████████| 50/50 [00:06<00:00,  7.23it/s, epoch=90/100, avg_epoch_loss=-2.61]\n",
            "100%|██████████| 50/50 [00:06<00:00,  7.17it/s, epoch=91/100, avg_epoch_loss=-2.61]\n",
            "100%|██████████| 50/50 [00:07<00:00,  6.86it/s, epoch=92/100, avg_epoch_loss=-2.61]\n",
            "100%|██████████| 50/50 [00:06<00:00,  7.22it/s, epoch=93/100, avg_epoch_loss=-2.63]\n",
            "100%|██████████| 50/50 [00:06<00:00,  7.22it/s, epoch=94/100, avg_epoch_loss=-2.62]\n",
            "100%|██████████| 50/50 [00:06<00:00,  7.22it/s, epoch=95/100, avg_epoch_loss=-2.63]\n",
            "100%|██████████| 50/50 [00:06<00:00,  7.21it/s, epoch=96/100, avg_epoch_loss=-2.63]\n",
            "100%|██████████| 50/50 [00:06<00:00,  7.22it/s, epoch=97/100, avg_epoch_loss=-2.63]\n",
            "100%|██████████| 50/50 [00:06<00:00,  7.22it/s, epoch=98/100, avg_epoch_loss=-2.64]\n",
            "100%|██████████| 50/50 [00:06<00:00,  7.23it/s, epoch=99/100, avg_epoch_loss=-2.63]\n",
            "100%|██████████| 50/50 [00:07<00:00,  7.13it/s, epoch=100/100, avg_epoch_loss=-2.65]\n"
          ],
          "name": "stderr"
        }
      ]
    },
    {
      "cell_type": "code",
      "metadata": {
        "colab_type": "code",
        "id": "2uR2JppRUQbk",
        "outputId": "72964813-ec33-4af7-bd64-e536ebc3cc3a",
        "colab": {
          "base_uri": "https://localhost:8080/",
          "height": 503
        }
      },
      "source": [
        "forecast_it, ts_it = make_evaluation_predictions(\n",
        "    dataset=traffic_dataset.test, \n",
        "    predictor=DF_predictor, \n",
        "    num_samples=100, \n",
        ")\n",
        "\n",
        "forecasts = list(forecast_it)\n",
        "tss = list(ts_it)\n",
        "\n",
        "evaluator = Evaluator(quantiles=[0.1, 0.5, 0.9])\n",
        "agg_metrics, item_metrics = evaluator(iter(tss), iter(forecasts), num_series=len(traffic_dataset.test))\n",
        "\n",
        "print(json.dumps(agg_metrics, indent=4))"
      ],
      "execution_count": 0,
      "outputs": [
        {
          "output_type": "stream",
          "text": [
            "Running evaluation: 100%|██████████| 6034/6034 [00:00<00:00, 58968.44it/s]\n"
          ],
          "name": "stderr"
        },
        {
          "output_type": "stream",
          "text": [
            "{\n",
            "    \"MSE\": 0.002561205598955793,\n",
            "    \"abs_error\": 4733.029822394252,\n",
            "    \"abs_target_sum\": 8672.5710073933,\n",
            "    \"abs_target_mean\": 0.05988682885450042,\n",
            "    \"seasonal_error\": 0.015220711169889612,\n",
            "    \"MASE\": 2.295675025370343,\n",
            "    \"MAPE\": 2.2527044089286816,\n",
            "    \"sMAPE\": 0.6060083968169826,\n",
            "    \"OWA\": NaN,\n",
            "    \"MSIS\": 58.1787454762361,\n",
            "    \"QuantileLoss[0.1]\": 3125.494466629658,\n",
            "    \"Coverage[0.1]\": 0.3311443486907536,\n",
            "    \"QuantileLoss[0.5]\": 4733.029828500352,\n",
            "    \"Coverage[0.5]\": 0.5085211578831068,\n",
            "    \"QuantileLoss[0.9]\": 4200.5266754503355,\n",
            "    \"Coverage[0.9]\": 0.6809123301292679,\n",
            "    \"RMSE\": 0.05060835503111905,\n",
            "    \"NRMSE\": 0.8450665363176247,\n",
            "    \"ND\": 0.5457470245397104,\n",
            "    \"wQuantileLoss[0.1]\": 0.3603884550458218,\n",
            "    \"wQuantileLoss[0.5]\": 0.5457470252437807,\n",
            "    \"wQuantileLoss[0.9]\": 0.48434618429407134,\n",
            "    \"mean_wQuantileLoss\": 0.4634938881945579,\n",
            "    \"MAE_Coverage\": 0.15291772548153085\n",
            "}\n"
          ],
          "name": "stdout"
        }
      ]
    },
    {
      "cell_type": "code",
      "metadata": {
        "colab_type": "code",
        "id": "ex5nwlX0UQbm",
        "colab": {}
      },
      "source": [
        ""
      ],
      "execution_count": 0,
      "outputs": []
    },
    {
      "cell_type": "markdown",
      "metadata": {
        "colab_type": "text",
        "id": "RnSS6911q-cD"
      },
      "source": [
        "## electricity2"
      ]
    },
    {
      "cell_type": "code",
      "metadata": {
        "colab_type": "code",
        "id": "KbmzKuyHq-cE",
        "colab": {}
      },
      "source": [
        "elec_dataset = get_dataset(\"electricity\", regenerate=False)"
      ],
      "execution_count": 0,
      "outputs": []
    },
    {
      "cell_type": "code",
      "metadata": {
        "colab_type": "code",
        "outputId": "bb3ead7f-3f98-453f-c4c7-43649940f4f1",
        "id": "1r0fBUI1q-cK",
        "colab": {
          "base_uri": "https://localhost:8080/",
          "height": 53
        }
      },
      "source": [
        "print (len(elec_dataset.train))\n",
        "print (len(elec_dataset.test))"
      ],
      "execution_count": 0,
      "outputs": [
        {
          "output_type": "stream",
          "text": [
            "321\n",
            "2247\n"
          ],
          "name": "stdout"
        }
      ]
    },
    {
      "cell_type": "code",
      "metadata": {
        "colab_type": "code",
        "outputId": "f262069f-29ef-47d7-b608-39d6c63c2f7f",
        "id": "wtYM_DZvq-cP",
        "colab": {
          "base_uri": "https://localhost:8080/",
          "height": 35
        }
      },
      "source": [
        "elec_dataset.metadata"
      ],
      "execution_count": 0,
      "outputs": [
        {
          "output_type": "execute_result",
          "data": {
            "text/plain": [
              "MetaData(freq='1H', target=None, feat_static_cat=[CategoricalFeatureInfo(name='feat_static_cat', cardinality='321')], feat_static_real=[], feat_dynamic_real=[], feat_dynamic_cat=[], prediction_length=24)"
            ]
          },
          "metadata": {
            "tags": []
          },
          "execution_count": 94
        }
      ]
    },
    {
      "cell_type": "code",
      "metadata": {
        "colab_type": "code",
        "outputId": "a5b5743e-4b0c-4c5b-83d7-d0fd6795e28a",
        "id": "JXmMK8hiq-cS",
        "colab": {
          "base_uri": "https://localhost:8080/",
          "height": 35
        }
      },
      "source": [
        "elec_dataset.metadata.feat_static_cat[0]"
      ],
      "execution_count": 0,
      "outputs": [
        {
          "output_type": "execute_result",
          "data": {
            "text/plain": [
              "CategoricalFeatureInfo(name='feat_static_cat', cardinality='321')"
            ]
          },
          "metadata": {
            "tags": []
          },
          "execution_count": 95
        }
      ]
    },
    {
      "cell_type": "code",
      "metadata": {
        "colab_type": "code",
        "id": "8YS07p8Hq-cU",
        "colab": {}
      },
      "source": [
        "car = [int(elec_dataset.metadata.feat_static_cat[0].cardinality)]"
      ],
      "execution_count": 0,
      "outputs": []
    },
    {
      "cell_type": "code",
      "metadata": {
        "colab_type": "code",
        "outputId": "e24a57a5-1e43-48b2-cbfb-0055563ac15e",
        "id": "wFZip6r7q-cW",
        "colab": {
          "base_uri": "https://localhost:8080/",
          "height": 35
        }
      },
      "source": [
        "next(iter(elec_dataset.train)).keys()"
      ],
      "execution_count": 0,
      "outputs": [
        {
          "output_type": "execute_result",
          "data": {
            "text/plain": [
              "dict_keys(['start', 'target', 'feat_static_cat', 'item_id', 'source'])"
            ]
          },
          "metadata": {
            "tags": []
          },
          "execution_count": 97
        }
      ]
    },
    {
      "cell_type": "code",
      "metadata": {
        "colab_type": "code",
        "id": "kjUR4PYXq-cY",
        "colab": {}
      },
      "source": [
        "test_ds_24 = ListDataset([{FieldName.START: entry['start'],\n",
        "                        FieldName.TARGET: entry['target'],\n",
        "                        FieldName.FEAT_STATIC_CAT: entry['feat_static_cat'],\n",
        "                        FieldName.ITEM_ID: entry['item_id'],\n",
        "                        }\n",
        "                       for entry in iter(elec_dataset.test) if len(entry['target']) == 21068\n",
        "                       ],\n",
        "                     freq=elec_dataset.metadata.freq)"
      ],
      "execution_count": 0,
      "outputs": []
    },
    {
      "cell_type": "code",
      "metadata": {
        "colab_type": "code",
        "id": "sG2wYhYSq-ch",
        "colab": {}
      },
      "source": [
        "# https://gluon-ts.mxnet.io/api/gluonts/gluonts.model.deep_factor.html\n",
        "DF_estimator = DeepFactorEstimator(\n",
        "    freq=elec_dataset.metadata.freq, # Time series frequency\n",
        "    prediction_length=elec_dataset.metadata.prediction_length, # Prediction length.\n",
        "    num_hidden_global=50, # (default: 50).\n",
        "    num_layers_global=1, # (default: 1).\n",
        "    num_factors=10, # (default: 10).\n",
        "    num_hidden_local=5, # (default: 5).\n",
        "    num_layers_local=1, # (default: 1).\n",
        "    cell_type='lstm', # (default: ‘lstm’).\n",
        "    trainer = deepfactor_trainer, # (default: Trainer()).\n",
        "    context_length=None, # (default: None, in which case context_length = prediction_length).\n",
        "    num_parallel_samples=100, # (default: 100).\n",
        "    cardinality=car, # (default: list([1]).\n",
        "    embedding_dimension=10, # (default: 10).\n",
        "    distr_output=StudentTOutput(), # (default: StudentTOutput()).\n",
        ")"
      ],
      "execution_count": 0,
      "outputs": []
    },
    {
      "cell_type": "code",
      "metadata": {
        "colab_type": "code",
        "outputId": "f3106127-45e2-4674-dff8-9637e9e47d45",
        "id": "XMatsGpcq-cj",
        "colab": {
          "base_uri": "https://localhost:8080/",
          "height": 1000
        }
      },
      "source": [
        "DF_predictor = DF_estimator.train(elec_dataset.train)"
      ],
      "execution_count": 0,
      "outputs": [
        {
          "output_type": "stream",
          "text": [
            "\r  0%|          | 0/50 [00:00<?, ?it/s]"
          ],
          "name": "stderr"
        },
        {
          "output_type": "stream",
          "text": [
            "learning rate from ``lr_scheduler`` has been overwritten by ``learning_rate`` in optimizer.\n"
          ],
          "name": "stdout"
        },
        {
          "output_type": "stream",
          "text": [
            "100%|██████████| 50/50 [00:09<00:00,  5.15it/s, epoch=1/100, avg_epoch_loss=1.17e+8]\n",
            "100%|██████████| 50/50 [00:09<00:00,  5.13it/s, epoch=2/100, avg_epoch_loss=5.65e+7]\n",
            "100%|██████████| 50/50 [00:09<00:00,  5.10it/s, epoch=3/100, avg_epoch_loss=3.82e+7]\n",
            "100%|██████████| 50/50 [00:09<00:00,  5.10it/s, epoch=4/100, avg_epoch_loss=2.32e+7]\n",
            "100%|██████████| 50/50 [00:09<00:00,  5.10it/s, epoch=5/100, avg_epoch_loss=1.39e+7]\n",
            "100%|██████████| 50/50 [00:09<00:00,  5.11it/s, epoch=6/100, avg_epoch_loss=8.2e+6]\n",
            "100%|██████████| 50/50 [00:09<00:00,  5.09it/s, epoch=7/100, avg_epoch_loss=5.29e+6]\n",
            "100%|██████████| 50/50 [00:09<00:00,  5.04it/s, epoch=8/100, avg_epoch_loss=3.96e+6]\n",
            "100%|██████████| 50/50 [00:09<00:00,  5.04it/s, epoch=9/100, avg_epoch_loss=2.84e+6]\n",
            "100%|██████████| 50/50 [00:09<00:00,  5.10it/s, epoch=10/100, avg_epoch_loss=1.41e+6]\n",
            "100%|██████████| 50/50 [00:09<00:00,  5.09it/s, epoch=11/100, avg_epoch_loss=9.63e+5]\n",
            "100%|██████████| 50/50 [00:09<00:00,  5.11it/s, epoch=12/100, avg_epoch_loss=8.17e+5]\n",
            "100%|██████████| 50/50 [00:09<00:00,  5.09it/s, epoch=13/100, avg_epoch_loss=6.82e+5]\n",
            "100%|██████████| 50/50 [00:09<00:00,  5.07it/s, epoch=14/100, avg_epoch_loss=6.01e+5]\n",
            "100%|██████████| 50/50 [00:11<00:00,  4.32it/s, epoch=15/100, avg_epoch_loss=5.86e+5]\n",
            "100%|██████████| 50/50 [00:09<00:00,  5.08it/s, epoch=16/100, avg_epoch_loss=4.59e+5]\n",
            "100%|██████████| 50/50 [00:09<00:00,  5.04it/s, epoch=17/100, avg_epoch_loss=4.21e+5]\n",
            "100%|██████████| 50/50 [00:09<00:00,  5.07it/s, epoch=18/100, avg_epoch_loss=3.89e+5]\n",
            "100%|██████████| 50/50 [00:09<00:00,  5.06it/s, epoch=19/100, avg_epoch_loss=3.35e+5]\n",
            "100%|██████████| 50/50 [00:09<00:00,  5.06it/s, epoch=20/100, avg_epoch_loss=3.16e+5]\n",
            "100%|██████████| 50/50 [00:09<00:00,  5.07it/s, epoch=21/100, avg_epoch_loss=2.83e+5]\n",
            "100%|██████████| 50/50 [00:09<00:00,  5.06it/s, epoch=22/100, avg_epoch_loss=2.92e+5]\n",
            "100%|██████████| 50/50 [00:09<00:00,  5.01it/s, epoch=23/100, avg_epoch_loss=2.15e+5]\n",
            "100%|██████████| 50/50 [00:09<00:00,  5.10it/s, epoch=24/100, avg_epoch_loss=2.03e+5]\n",
            "100%|██████████| 50/50 [00:09<00:00,  5.03it/s, epoch=25/100, avg_epoch_loss=2.18e+5]\n",
            "100%|██████████| 50/50 [00:09<00:00,  5.08it/s, epoch=26/100, avg_epoch_loss=1.81e+5]\n",
            "100%|██████████| 50/50 [00:09<00:00,  5.07it/s, epoch=27/100, avg_epoch_loss=1.66e+5]\n",
            "100%|██████████| 50/50 [00:09<00:00,  5.07it/s, epoch=28/100, avg_epoch_loss=1.66e+5]\n",
            "100%|██████████| 50/50 [00:09<00:00,  5.08it/s, epoch=29/100, avg_epoch_loss=1.42e+5]\n",
            "100%|██████████| 50/50 [00:09<00:00,  5.08it/s, epoch=30/100, avg_epoch_loss=1.41e+5]\n",
            "100%|██████████| 50/50 [00:09<00:00,  5.09it/s, epoch=31/100, avg_epoch_loss=1.44e+5]\n",
            "100%|██████████| 50/50 [00:09<00:00,  5.05it/s, epoch=32/100, avg_epoch_loss=1.23e+5]\n",
            "100%|██████████| 50/50 [00:09<00:00,  5.05it/s, epoch=33/100, avg_epoch_loss=1.23e+5]\n",
            "100%|██████████| 50/50 [00:09<00:00,  5.04it/s, epoch=34/100, avg_epoch_loss=1.09e+5]\n",
            "100%|██████████| 50/50 [00:09<00:00,  5.05it/s, epoch=35/100, avg_epoch_loss=1e+5]\n",
            "100%|██████████| 50/50 [00:09<00:00,  5.06it/s, epoch=36/100, avg_epoch_loss=9.05e+4]\n",
            "100%|██████████| 50/50 [00:09<00:00,  5.05it/s, epoch=37/100, avg_epoch_loss=1.02e+5]\n",
            "100%|██████████| 50/50 [00:09<00:00,  5.04it/s, epoch=38/100, avg_epoch_loss=8.69e+4]\n",
            "100%|██████████| 50/50 [00:09<00:00,  5.05it/s, epoch=39/100, avg_epoch_loss=9.21e+4]\n",
            "100%|██████████| 50/50 [00:09<00:00,  5.01it/s, epoch=40/100, avg_epoch_loss=7.6e+4]\n",
            "100%|██████████| 50/50 [00:09<00:00,  5.03it/s, epoch=41/100, avg_epoch_loss=7.06e+4]\n",
            "100%|██████████| 50/50 [00:09<00:00,  5.05it/s, epoch=42/100, avg_epoch_loss=7.72e+4]\n",
            "100%|██████████| 50/50 [00:09<00:00,  5.06it/s, epoch=43/100, avg_epoch_loss=6.76e+4]\n",
            "100%|██████████| 50/50 [00:09<00:00,  5.07it/s, epoch=44/100, avg_epoch_loss=7.45e+4]\n",
            "100%|██████████| 50/50 [00:09<00:00,  5.06it/s, epoch=45/100, avg_epoch_loss=7.31e+4]\n",
            "100%|██████████| 50/50 [00:09<00:00,  5.06it/s, epoch=46/100, avg_epoch_loss=7.96e+4]\n",
            "100%|██████████| 50/50 [00:09<00:00,  5.06it/s, epoch=47/100, avg_epoch_loss=5.38e+4]\n",
            "100%|██████████| 50/50 [00:09<00:00,  5.05it/s, epoch=48/100, avg_epoch_loss=4.95e+4]\n",
            "100%|██████████| 50/50 [00:09<00:00,  5.03it/s, epoch=49/100, avg_epoch_loss=5.81e+4]\n",
            "100%|██████████| 50/50 [00:09<00:00,  5.05it/s, epoch=50/100, avg_epoch_loss=5.2e+4]\n",
            "100%|██████████| 50/50 [00:09<00:00,  5.06it/s, epoch=51/100, avg_epoch_loss=6.57e+4]\n",
            "100%|██████████| 50/50 [00:09<00:00,  5.07it/s, epoch=52/100, avg_epoch_loss=4.82e+4]\n",
            "100%|██████████| 50/50 [00:09<00:00,  5.06it/s, epoch=53/100, avg_epoch_loss=4.39e+4]\n",
            "100%|██████████| 50/50 [00:10<00:00,  4.99it/s, epoch=54/100, avg_epoch_loss=4.35e+4]\n",
            "100%|██████████| 50/50 [00:09<00:00,  5.04it/s, epoch=55/100, avg_epoch_loss=3.81e+4]\n",
            "100%|██████████| 50/50 [00:09<00:00,  5.07it/s, epoch=56/100, avg_epoch_loss=3.88e+4]\n",
            "100%|██████████| 50/50 [00:10<00:00,  4.86it/s, epoch=57/100, avg_epoch_loss=3.69e+4]\n",
            "100%|██████████| 50/50 [00:09<00:00,  5.06it/s, epoch=58/100, avg_epoch_loss=3.6e+4]\n",
            "100%|██████████| 50/50 [00:09<00:00,  5.08it/s, epoch=59/100, avg_epoch_loss=3.37e+4]\n",
            "100%|██████████| 50/50 [00:09<00:00,  5.06it/s, epoch=60/100, avg_epoch_loss=3.37e+4]\n",
            "100%|██████████| 50/50 [00:09<00:00,  5.07it/s, epoch=61/100, avg_epoch_loss=3.16e+4]\n",
            "100%|██████████| 50/50 [00:09<00:00,  5.06it/s, epoch=62/100, avg_epoch_loss=3.02e+4]\n",
            "100%|██████████| 50/50 [00:09<00:00,  5.07it/s, epoch=63/100, avg_epoch_loss=3.19e+4]\n",
            "100%|██████████| 50/50 [00:09<00:00,  5.07it/s, epoch=64/100, avg_epoch_loss=2.82e+4]\n",
            "100%|██████████| 50/50 [00:09<00:00,  5.09it/s, epoch=65/100, avg_epoch_loss=2.83e+4]\n",
            "100%|██████████| 50/50 [00:09<00:00,  5.04it/s, epoch=66/100, avg_epoch_loss=2.3e+4]\n",
            "100%|██████████| 50/50 [00:09<00:00,  5.06it/s, epoch=67/100, avg_epoch_loss=2.83e+4]\n",
            "100%|██████████| 50/50 [00:09<00:00,  5.06it/s, epoch=68/100, avg_epoch_loss=2.58e+4]\n",
            "100%|██████████| 50/50 [00:09<00:00,  5.03it/s, epoch=69/100, avg_epoch_loss=2.96e+4]\n",
            "100%|██████████| 50/50 [00:09<00:00,  5.07it/s, epoch=70/100, avg_epoch_loss=2.42e+4]\n",
            "100%|██████████| 50/50 [00:09<00:00,  5.00it/s, epoch=71/100, avg_epoch_loss=2.46e+4]\n",
            "100%|██████████| 50/50 [00:09<00:00,  5.05it/s, epoch=72/100, avg_epoch_loss=2.18e+4]\n",
            "100%|██████████| 50/50 [00:09<00:00,  5.08it/s, epoch=73/100, avg_epoch_loss=2.64e+4]\n",
            "100%|██████████| 50/50 [00:09<00:00,  5.04it/s, epoch=74/100, avg_epoch_loss=2.18e+4]\n",
            "100%|██████████| 50/50 [00:10<00:00,  4.99it/s, epoch=75/100, avg_epoch_loss=2e+4]\n",
            "100%|██████████| 50/50 [00:11<00:00,  4.38it/s, epoch=76/100, avg_epoch_loss=2.41e+4]\n",
            "100%|██████████| 50/50 [00:09<00:00,  5.06it/s, epoch=77/100, avg_epoch_loss=2.13e+4]\n",
            "100%|██████████| 50/50 [00:09<00:00,  5.06it/s, epoch=78/100, avg_epoch_loss=1.86e+4]\n",
            "100%|██████████| 50/50 [00:09<00:00,  5.07it/s, epoch=79/100, avg_epoch_loss=2.07e+4]\n",
            "100%|██████████| 50/50 [00:09<00:00,  5.07it/s, epoch=80/100, avg_epoch_loss=1.86e+4]\n",
            "100%|██████████| 50/50 [00:09<00:00,  5.05it/s, epoch=81/100, avg_epoch_loss=1.7e+4]\n",
            "100%|██████████| 50/50 [00:09<00:00,  5.07it/s, epoch=82/100, avg_epoch_loss=1.94e+4]\n",
            "100%|██████████| 50/50 [00:09<00:00,  5.06it/s, epoch=83/100, avg_epoch_loss=1.69e+4]\n",
            "100%|██████████| 50/50 [00:09<00:00,  5.03it/s, epoch=84/100, avg_epoch_loss=1.68e+4]\n",
            "100%|██████████| 50/50 [00:10<00:00,  4.96it/s, epoch=85/100, avg_epoch_loss=1.57e+4]\n",
            "100%|██████████| 50/50 [00:09<00:00,  5.01it/s, epoch=86/100, avg_epoch_loss=1.77e+4]\n",
            "100%|██████████| 50/50 [00:09<00:00,  5.05it/s, epoch=87/100, avg_epoch_loss=1.49e+4]\n",
            "100%|██████████| 50/50 [00:09<00:00,  5.05it/s, epoch=88/100, avg_epoch_loss=1.43e+4]\n",
            "100%|██████████| 50/50 [00:09<00:00,  5.04it/s, epoch=89/100, avg_epoch_loss=1.31e+4]\n",
            "100%|██████████| 50/50 [00:09<00:00,  5.06it/s, epoch=90/100, avg_epoch_loss=1.1e+4]\n",
            "100%|██████████| 50/50 [00:09<00:00,  5.08it/s, epoch=91/100, avg_epoch_loss=1.17e+4]\n",
            "100%|██████████| 50/50 [00:09<00:00,  5.08it/s, epoch=92/100, avg_epoch_loss=1.08e+4]\n",
            "100%|██████████| 50/50 [00:09<00:00,  5.06it/s, epoch=93/100, avg_epoch_loss=9.36e+3]\n",
            "100%|██████████| 50/50 [00:09<00:00,  5.04it/s, epoch=94/100, avg_epoch_loss=1.1e+4]\n",
            "100%|██████████| 50/50 [00:09<00:00,  5.07it/s, epoch=95/100, avg_epoch_loss=8.99e+3]\n",
            "100%|██████████| 50/50 [00:09<00:00,  5.06it/s, epoch=96/100, avg_epoch_loss=6.74e+3]\n",
            "100%|██████████| 50/50 [00:09<00:00,  5.06it/s, epoch=97/100, avg_epoch_loss=9e+3]\n",
            "100%|██████████| 50/50 [00:09<00:00,  5.06it/s, epoch=98/100, avg_epoch_loss=7.05e+3]\n",
            "100%|██████████| 50/50 [00:09<00:00,  5.06it/s, epoch=99/100, avg_epoch_loss=1.17e+4]\n",
            "100%|██████████| 50/50 [00:09<00:00,  5.04it/s, epoch=100/100, avg_epoch_loss=1.01e+4]\n"
          ],
          "name": "stderr"
        }
      ]
    },
    {
      "cell_type": "code",
      "metadata": {
        "colab_type": "code",
        "id": "aeXL8Vmcq-cl",
        "outputId": "53a9680a-bf08-4282-e4ee-a84d072fe8f0",
        "colab": {
          "base_uri": "https://localhost:8080/",
          "height": 503
        }
      },
      "source": [
        "forecast_it, ts_it = make_evaluation_predictions(\n",
        "    dataset=elec_dataset.test, \n",
        "    predictor=DF_predictor, \n",
        "    num_samples=100, \n",
        ")\n",
        "\n",
        "forecasts = list(forecast_it)\n",
        "tss = list(ts_it)\n",
        "\n",
        "evaluator = Evaluator(quantiles=[0.1, 0.5, 0.9])\n",
        "agg_metrics, item_metrics = evaluator(iter(tss), iter(forecasts), num_series=len(elec_dataset.test))\n",
        "\n",
        "print(json.dumps(agg_metrics, indent=4))"
      ],
      "execution_count": 0,
      "outputs": [
        {
          "output_type": "stream",
          "text": [
            "Running evaluation: 100%|██████████| 2247/2247 [00:00<00:00, 27507.20it/s]\n"
          ],
          "name": "stderr"
        },
        {
          "output_type": "stream",
          "text": [
            "{\n",
            "    \"MSE\": 38011133.90213028,\n",
            "    \"abs_error\": 54565493.10239029,\n",
            "    \"abs_target_sum\": 128632956.0,\n",
            "    \"abs_target_mean\": 2385.272140631948,\n",
            "    \"seasonal_error\": 189.4933819611677,\n",
            "    \"MASE\": 3.9024437813883703,\n",
            "    \"MAPE\": 0.43935678380373255,\n",
            "    \"sMAPE\": 0.3480442307626229,\n",
            "    \"OWA\": NaN,\n",
            "    \"MSIS\": 126.06130128789589,\n",
            "    \"QuantileLoss[0.1]\": 87105837.37931862,\n",
            "    \"Coverage[0.1]\": 0.5967030114226384,\n",
            "    \"QuantileLoss[0.5]\": 54565493.2295739,\n",
            "    \"Coverage[0.5]\": 0.7506675567423224,\n",
            "    \"QuantileLoss[0.9]\": 19288360.186621856,\n",
            "    \"Coverage[0.9]\": 0.8502076843198325,\n",
            "    \"RMSE\": 6165.317015541884,\n",
            "    \"NRMSE\": 2.584743648541697,\n",
            "    \"ND\": 0.42419528244682714,\n",
            "    \"wQuantileLoss[0.1]\": 0.6771657908515966,\n",
            "    \"wQuantileLoss[0.5]\": 0.42419528343555984,\n",
            "    \"wQuantileLoss[0.9]\": 0.14994882172047616,\n",
            "    \"mean_wQuantileLoss\": 0.41710329866921086,\n",
            "    \"MAE_Coverage\": 0.26572096128170947\n",
            "}\n"
          ],
          "name": "stdout"
        }
      ]
    },
    {
      "cell_type": "code",
      "metadata": {
        "colab_type": "code",
        "id": "QV42c2S2q-cp",
        "outputId": "9af78ac9-f281-4977-9669-9465d6a8dd6d",
        "colab": {
          "base_uri": "https://localhost:8080/",
          "height": 503
        }
      },
      "source": [
        "forecast_it, ts_it = make_evaluation_predictions(\n",
        "    dataset=test_ds_24, \n",
        "    predictor=DF_predictor, \n",
        "    num_samples=100, \n",
        ")\n",
        "\n",
        "forecasts = list(forecast_it)\n",
        "tss = list(ts_it)\n",
        "\n",
        "evaluator = Evaluator(quantiles=[0.1, 0.5, 0.9])\n",
        "agg_metrics, item_metrics = evaluator(iter(tss), iter(forecasts), num_series=len(test_ds_24))\n",
        "\n",
        "print(json.dumps(agg_metrics, indent=4))"
      ],
      "execution_count": 0,
      "outputs": [
        {
          "output_type": "stream",
          "text": [
            "Running evaluation: 100%|██████████| 321/321 [00:00<00:00, 4287.89it/s]\n"
          ],
          "name": "stderr"
        },
        {
          "output_type": "stream",
          "text": [
            "{\n",
            "    \"MSE\": 38731749.65495565,\n",
            "    \"abs_error\": 8171835.9200668335,\n",
            "    \"abs_target_sum\": 17268997.0,\n",
            "    \"abs_target_mean\": 2241.56243509865,\n",
            "    \"seasonal_error\": 189.64815247902152,\n",
            "    \"MASE\": 4.143609634307464,\n",
            "    \"MAPE\": 0.45505713616111676,\n",
            "    \"sMAPE\": 0.37235982025449244,\n",
            "    \"OWA\": NaN,\n",
            "    \"MSIS\": 134.97233582829844,\n",
            "    \"QuantileLoss[0.1]\": 13748536.40445061,\n",
            "    \"Coverage[0.1]\": 0.638759086188993,\n",
            "    \"QuantileLoss[0.5]\": 8171835.93080458,\n",
            "    \"Coverage[0.5]\": 0.783489096573209,\n",
            "    \"QuantileLoss[0.9]\": 2194503.7526630396,\n",
            "    \"Coverage[0.9]\": 0.869807892004154,\n",
            "    \"RMSE\": 6223.483723362314,\n",
            "    \"NRMSE\": 2.7764043623832504,\n",
            "    \"ND\": 0.4732084857080486,\n",
            "    \"wQuantileLoss[0.1]\": 0.7961398339724427,\n",
            "    \"wQuantileLoss[0.5]\": 0.47320848632984186,\n",
            "    \"wQuantileLoss[0.9]\": 0.1270776613524827,\n",
            "    \"mean_wQuantileLoss\": 0.46547532721825574,\n",
            "    \"MAE_Coverage\": 0.28414676358601604\n",
            "}\n"
          ],
          "name": "stdout"
        }
      ]
    },
    {
      "cell_type": "code",
      "metadata": {
        "colab_type": "code",
        "id": "sffvZDWBq-cr",
        "colab": {}
      },
      "source": [
        ""
      ],
      "execution_count": 0,
      "outputs": []
    }
  ]
}