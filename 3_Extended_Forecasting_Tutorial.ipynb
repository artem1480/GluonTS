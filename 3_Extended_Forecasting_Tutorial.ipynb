{
  "nbformat": 4,
  "nbformat_minor": 0,
  "metadata": {
    "colab": {
      "name": "3. Extended_Forecasting_Tutorial",
      "provenance": [],
      "collapsed_sections": [],
      "include_colab_link": true
    },
    "kernelspec": {
      "name": "python3",
      "display_name": "Python 3"
    },
    "accelerator": "GPU"
  },
  "cells": [
    {
      "cell_type": "markdown",
      "metadata": {
        "id": "view-in-github",
        "colab_type": "text"
      },
      "source": [
        "<a href=\"https://colab.research.google.com/github/iskra3138/GluonTS/blob/master/3_Extended_Forecasting_Tutorial.ipynb\" target=\"_parent\"><img src=\"https://colab.research.google.com/assets/colab-badge.svg\" alt=\"Open In Colab\"/></a>"
      ]
    },
    {
      "cell_type": "markdown",
      "metadata": {
        "id": "e1MTAECZIFKC",
        "colab_type": "text"
      },
      "source": [
        "Ref. https://gluon-ts.mxnet.io/examples/extended_forecasting_tutorial/extended_tutorial.html"
      ]
    },
    {
      "cell_type": "markdown",
      "metadata": {
        "id": "MtkVPqoH9Rfy",
        "colab_type": "text"
      },
      "source": [
        "## 환경 구현"
      ]
    },
    {
      "cell_type": "markdown",
      "metadata": {
        "id": "-CSLjjP49WWM",
        "colab_type": "text"
      },
      "source": [
        "Colab에서 어떤 GPU가 할당되었는 지 확인"
      ]
    },
    {
      "cell_type": "code",
      "metadata": {
        "id": "WQ0D8LcKy2vu",
        "colab_type": "code",
        "outputId": "8f149e7f-2695-4f4d-e220-a684ed4fac71",
        "colab": {
          "base_uri": "https://localhost:8080/",
          "height": 302
        }
      },
      "source": [
        "!nvidia-smi"
      ],
      "execution_count": 1,
      "outputs": [
        {
          "output_type": "stream",
          "text": [
            "Tue Apr 21 05:05:46 2020       \n",
            "+-----------------------------------------------------------------------------+\n",
            "| NVIDIA-SMI 440.64.00    Driver Version: 418.67       CUDA Version: 10.1     |\n",
            "|-------------------------------+----------------------+----------------------+\n",
            "| GPU  Name        Persistence-M| Bus-Id        Disp.A | Volatile Uncorr. ECC |\n",
            "| Fan  Temp  Perf  Pwr:Usage/Cap|         Memory-Usage | GPU-Util  Compute M. |\n",
            "|===============================+======================+======================|\n",
            "|   0  Tesla P100-PCIE...  Off  | 00000000:00:04.0 Off |                    0 |\n",
            "| N/A   35C    P0    26W / 250W |      0MiB / 16280MiB |      0%      Default |\n",
            "+-------------------------------+----------------------+----------------------+\n",
            "                                                                               \n",
            "+-----------------------------------------------------------------------------+\n",
            "| Processes:                                                       GPU Memory |\n",
            "|  GPU       PID   Type   Process name                             Usage      |\n",
            "|=============================================================================|\n",
            "|  No running processes found                                                 |\n",
            "+-----------------------------------------------------------------------------+\n"
          ],
          "name": "stdout"
        }
      ]
    },
    {
      "cell_type": "markdown",
      "metadata": {
        "id": "fZfXmDXu9b8y",
        "colab_type": "text"
      },
      "source": [
        "MXNET 설치 \n",
        "- GluonTS는 Amazon이 2019년 공개한 Tool로서 MXNET을 backbone으로 사용\n",
        "  - https://aws.amazon.com/blogs/machine-learning/creating-neural-time-series-models-with-gluon-time-series/\n",
        "\n",
        "- 어떤 버전의 MXNET을 설치해야 하는 지는 아래 링크 참고\n",
        "  - https://mxnet.apache.org/get_started/?platform=linux&language=python&processor=gpu&environ=pip&"
      ]
    },
    {
      "cell_type": "code",
      "metadata": {
        "id": "XpYiCxWFwrdF",
        "colab_type": "code",
        "outputId": "2c3764c9-ba39-4b61-ad10-e82043c7963e",
        "colab": {
          "base_uri": "https://localhost:8080/",
          "height": 306
        }
      },
      "source": [
        "# nvidia-smi로 CUDA Version 확인하고 해당되는 MXNET 설치\n",
        "!pip install mxnet-cu101"
      ],
      "execution_count": 2,
      "outputs": [
        {
          "output_type": "stream",
          "text": [
            "Collecting mxnet-cu101\n",
            "\u001b[?25l  Downloading https://files.pythonhosted.org/packages/54/b1/7d01abca10eef104296d2b3f0c59a7dda7573126d079c9e2609e6c17993b/mxnet_cu101-1.6.0-py2.py3-none-manylinux1_x86_64.whl (710.5MB)\n",
            "\u001b[K     |████████████████████████████████| 710.5MB 25kB/s \n",
            "\u001b[?25hCollecting graphviz<0.9.0,>=0.8.1\n",
            "  Downloading https://files.pythonhosted.org/packages/53/39/4ab213673844e0c004bed8a0781a0721a3f6bb23eb8854ee75c236428892/graphviz-0.8.4-py2.py3-none-any.whl\n",
            "Requirement already satisfied: requests<3,>=2.20.0 in /usr/local/lib/python3.6/dist-packages (from mxnet-cu101) (2.21.0)\n",
            "Requirement already satisfied: numpy<2.0.0,>1.16.0 in /usr/local/lib/python3.6/dist-packages (from mxnet-cu101) (1.18.2)\n",
            "Requirement already satisfied: idna<2.9,>=2.5 in /usr/local/lib/python3.6/dist-packages (from requests<3,>=2.20.0->mxnet-cu101) (2.8)\n",
            "Requirement already satisfied: chardet<3.1.0,>=3.0.2 in /usr/local/lib/python3.6/dist-packages (from requests<3,>=2.20.0->mxnet-cu101) (3.0.4)\n",
            "Requirement already satisfied: urllib3<1.25,>=1.21.1 in /usr/local/lib/python3.6/dist-packages (from requests<3,>=2.20.0->mxnet-cu101) (1.24.3)\n",
            "Requirement already satisfied: certifi>=2017.4.17 in /usr/local/lib/python3.6/dist-packages (from requests<3,>=2.20.0->mxnet-cu101) (2020.4.5.1)\n",
            "Installing collected packages: graphviz, mxnet-cu101\n",
            "  Found existing installation: graphviz 0.10.1\n",
            "    Uninstalling graphviz-0.10.1:\n",
            "      Successfully uninstalled graphviz-0.10.1\n",
            "Successfully installed graphviz-0.8.4 mxnet-cu101-1.6.0\n"
          ],
          "name": "stdout"
        }
      ]
    },
    {
      "cell_type": "markdown",
      "metadata": {
        "id": "rYFkgZlI-Tdt",
        "colab_type": "text"
      },
      "source": [
        "colab에서 GluoTS Tutorial을 이용할 때 최신 pydantic package가 설치되면 아래 에러가 나오므로 1.4로 설치해줌\n",
        "- TypeError: create_model() takes exactly 1 positional argument (0 given)\n"
      ]
    },
    {
      "cell_type": "code",
      "metadata": {
        "id": "nxlzLo-B0F7y",
        "colab_type": "code",
        "outputId": "95f6c7e4-2e95-41af-9679-88df30206284",
        "colab": {
          "base_uri": "https://localhost:8080/",
          "height": 138
        }
      },
      "source": [
        "!pip install pydantic==1.4"
      ],
      "execution_count": 3,
      "outputs": [
        {
          "output_type": "stream",
          "text": [
            "Collecting pydantic==1.4\n",
            "\u001b[?25l  Downloading https://files.pythonhosted.org/packages/be/9a/a2d9613a70051615a84df6e9d697aad9787ba978bdeb4ad46c754457b3e1/pydantic-1.4-cp36-cp36m-manylinux2010_x86_64.whl (7.5MB)\n",
            "\u001b[K     |████████████████████████████████| 7.5MB 8.3MB/s \n",
            "\u001b[?25hRequirement already satisfied: dataclasses>=0.6; python_version < \"3.7\" in /usr/local/lib/python3.6/dist-packages (from pydantic==1.4) (0.7)\n",
            "Installing collected packages: pydantic\n",
            "Successfully installed pydantic-1.4\n"
          ],
          "name": "stdout"
        }
      ]
    },
    {
      "cell_type": "markdown",
      "metadata": {
        "id": "KrgwGyjH-_1K",
        "colab_type": "text"
      },
      "source": [
        "GluonTS를 설치함\n",
        "- 설치가 완료되면 Restart Runtime Box를 클릭하여 Runtime을 재시작하고 Tutorial을 시작"
      ]
    },
    {
      "cell_type": "code",
      "metadata": {
        "id": "O45K03dixX4N",
        "colab_type": "code",
        "outputId": "930e2fd6-eede-4225-df08-459dded10f3c",
        "colab": {
          "base_uri": "https://localhost:8080/",
          "height": 861
        }
      },
      "source": [
        "!pip install gluonts"
      ],
      "execution_count": 4,
      "outputs": [
        {
          "output_type": "stream",
          "text": [
            "Collecting gluonts\n",
            "\u001b[?25l  Downloading https://files.pythonhosted.org/packages/98/c8/113009b077ca127308470dcd4851e53a6b4ad905fe61f36f28d22ff3a4a5/gluonts-0.4.2-py3-none-any.whl (323kB)\n",
            "\u001b[K     |████████████████████████████████| 327kB 8.4MB/s \n",
            "\u001b[?25hRequirement already satisfied: boto3~=1.0 in /usr/local/lib/python3.6/dist-packages (from gluonts) (1.12.39)\n",
            "Collecting ujson~=1.35\n",
            "\u001b[?25l  Downloading https://files.pythonhosted.org/packages/16/c4/79f3409bc710559015464e5f49b9879430d8f87498ecdc335899732e5377/ujson-1.35.tar.gz (192kB)\n",
            "\u001b[K     |████████████████████████████████| 194kB 19.5MB/s \n",
            "\u001b[?25hCollecting pandas<0.26,>=0.25\n",
            "\u001b[?25l  Downloading https://files.pythonhosted.org/packages/52/3f/f6a428599e0d4497e1595030965b5ba455fd8ade6e977e3c819973c4b41d/pandas-0.25.3-cp36-cp36m-manylinux1_x86_64.whl (10.4MB)\n",
            "\u001b[K     |████████████████████████████████| 10.4MB 18.4MB/s \n",
            "\u001b[?25hCollecting python-dateutil==2.8.0\n",
            "\u001b[?25l  Downloading https://files.pythonhosted.org/packages/41/17/c62faccbfbd163c7f57f3844689e3a78bae1f403648a6afb1d0866d87fbb/python_dateutil-2.8.0-py2.py3-none-any.whl (226kB)\n",
            "\u001b[K     |████████████████████████████████| 235kB 61.8MB/s \n",
            "\u001b[?25hRequirement already satisfied: numpy~=1.14 in /usr/local/lib/python3.6/dist-packages (from gluonts) (1.18.2)\n",
            "Requirement already satisfied: holidays<0.10,>=0.9 in /usr/local/lib/python3.6/dist-packages (from gluonts) (0.9.12)\n",
            "Requirement already satisfied: pydantic~=1.1 in /usr/local/lib/python3.6/dist-packages (from gluonts) (1.4)\n",
            "Requirement already satisfied: matplotlib~=3.0 in /usr/local/lib/python3.6/dist-packages (from gluonts) (3.2.1)\n",
            "Requirement already satisfied: tqdm~=4.23 in /usr/local/lib/python3.6/dist-packages (from gluonts) (4.38.0)\n",
            "Requirement already satisfied: botocore<1.16.0,>=1.15.39 in /usr/local/lib/python3.6/dist-packages (from boto3~=1.0->gluonts) (1.15.39)\n",
            "Requirement already satisfied: s3transfer<0.4.0,>=0.3.0 in /usr/local/lib/python3.6/dist-packages (from boto3~=1.0->gluonts) (0.3.3)\n",
            "Requirement already satisfied: jmespath<1.0.0,>=0.7.1 in /usr/local/lib/python3.6/dist-packages (from boto3~=1.0->gluonts) (0.9.5)\n",
            "Requirement already satisfied: pytz>=2017.2 in /usr/local/lib/python3.6/dist-packages (from pandas<0.26,>=0.25->gluonts) (2018.9)\n",
            "Requirement already satisfied: six>=1.5 in /usr/local/lib/python3.6/dist-packages (from python-dateutil==2.8.0->gluonts) (1.12.0)\n",
            "Requirement already satisfied: dataclasses>=0.6; python_version < \"3.7\" in /usr/local/lib/python3.6/dist-packages (from pydantic~=1.1->gluonts) (0.7)\n",
            "Requirement already satisfied: kiwisolver>=1.0.1 in /usr/local/lib/python3.6/dist-packages (from matplotlib~=3.0->gluonts) (1.2.0)\n",
            "Requirement already satisfied: pyparsing!=2.0.4,!=2.1.2,!=2.1.6,>=2.0.1 in /usr/local/lib/python3.6/dist-packages (from matplotlib~=3.0->gluonts) (2.4.7)\n",
            "Requirement already satisfied: cycler>=0.10 in /usr/local/lib/python3.6/dist-packages (from matplotlib~=3.0->gluonts) (0.10.0)\n",
            "Requirement already satisfied: urllib3<1.26,>=1.20; python_version != \"3.4\" in /usr/local/lib/python3.6/dist-packages (from botocore<1.16.0,>=1.15.39->boto3~=1.0->gluonts) (1.24.3)\n",
            "Requirement already satisfied: docutils<0.16,>=0.10 in /usr/local/lib/python3.6/dist-packages (from botocore<1.16.0,>=1.15.39->boto3~=1.0->gluonts) (0.15.2)\n",
            "Building wheels for collected packages: ujson\n",
            "  Building wheel for ujson (setup.py) ... \u001b[?25l\u001b[?25hdone\n",
            "  Created wheel for ujson: filename=ujson-1.35-cp36-cp36m-linux_x86_64.whl size=68029 sha256=c56cefdafcd80118d03a5cb35b0d33aff0f022c1e3f6ba8e25d3839fe140ca74\n",
            "  Stored in directory: /root/.cache/pip/wheels/28/77/e4/0311145b9c2e2f01470e744855131f9e34d6919687550f87d1\n",
            "Successfully built ujson\n",
            "\u001b[31mERROR: google-colab 1.0.0 has requirement pandas~=1.0.0; python_version >= \"3.0\", but you'll have pandas 0.25.3 which is incompatible.\u001b[0m\n",
            "\u001b[31mERROR: albumentations 0.1.12 has requirement imgaug<0.2.7,>=0.2.5, but you'll have imgaug 0.2.9 which is incompatible.\u001b[0m\n",
            "Installing collected packages: ujson, python-dateutil, pandas, gluonts\n",
            "  Found existing installation: python-dateutil 2.8.1\n",
            "    Uninstalling python-dateutil-2.8.1:\n",
            "      Successfully uninstalled python-dateutil-2.8.1\n",
            "  Found existing installation: pandas 1.0.3\n",
            "    Uninstalling pandas-1.0.3:\n",
            "      Successfully uninstalled pandas-1.0.3\n",
            "Successfully installed gluonts-0.4.2 pandas-0.25.3 python-dateutil-2.8.0 ujson-1.35\n"
          ],
          "name": "stdout"
        },
        {
          "output_type": "display_data",
          "data": {
            "application/vnd.colab-display-data+json": {
              "pip_warning": {
                "packages": [
                  "dateutil",
                  "pandas"
                ]
              }
            }
          },
          "metadata": {
            "tags": []
          }
        }
      ]
    },
    {
      "cell_type": "markdown",
      "metadata": {
        "id": "E8ll-z1rIBaJ",
        "colab_type": "text"
      },
      "source": [
        "# Extended Forecasting Tutorial \n",
        "\n",
        "In the extended forecasting tutorial we cover the following topics.\n",
        "\n",
        "---\n",
        "> ## Table of contents\n",
        "> 1. ### <span style=\"color:orange\">Datasets</span>\n",
        "    1.1 Available datasets on GluonTS  \n",
        "    1.2 Create artificial datasets with GluonTS  \n",
        "    1.3 Use your time series and features\n",
        "> 2. ### <span style=\"color:orange\">Transformation</span>\n",
        "    2.1 Define a transformation  \n",
        "    2.2 Transform a dataset \n",
        "> 3. ### <span style=\"color:orange\">Training an existing model</span>\n",
        "    3.1 Configuring an estimator  \n",
        "    3.2 Getting a predictor  \n",
        "    3.3 Saving/Loading an existing model  \n",
        "> 4. ### <span style=\"color:orange\">Evaluation</span>\n",
        "    4.1 Getting the forecasts  \n",
        "    4.2 Compute metrics  \n",
        "> 5. ### <span style=\"color:orange\">Create your own model</span>\n",
        "    5.1 Point forecasts with a simple feedforward network  \n",
        "    5.2 Probabilistic forecasting  \n",
        "    5.3 Add features and scaling   \n",
        "    5.4 From feedforward to RNN\n",
        "    \n",
        "---"
      ]
    },
    {
      "cell_type": "code",
      "metadata": {
        "id": "85aYYwuSIBaM",
        "colab_type": "code",
        "colab": {}
      },
      "source": [
        "# Third-party imports\n",
        "%matplotlib inline\n",
        "import mxnet as mx\n",
        "from mxnet import gluon\n",
        "import numpy as np\n",
        "import pandas as pd\n",
        "import matplotlib.pyplot as plt\n",
        "import json\n",
        "import os\n",
        "from itertools import islice\n",
        "from pathlib import Path"
      ],
      "execution_count": 0,
      "outputs": []
    },
    {
      "cell_type": "code",
      "metadata": {
        "id": "BDQ1my96IBaS",
        "colab_type": "code",
        "colab": {}
      },
      "source": [
        "mx.random.seed(0)\n",
        "np.random.seed(0)"
      ],
      "execution_count": 0,
      "outputs": []
    },
    {
      "cell_type": "markdown",
      "metadata": {
        "id": "rGs59vHOIBaW",
        "colab_type": "text"
      },
      "source": [
        "# 1. Datasets\n",
        "\n",
        "The first requirement to use GluonTS is to have an appropriate dataset. GluonTS offers three different options to practitioners that want to experiment with the various modules: \n",
        "\n",
        "- Use an available dataset provided by GluonTS\n",
        "- Create an artificial dataset using GluonTS\n",
        "- Convert your dataset to a GluonTS friendly format\n",
        "\n",
        "In general, a dataset should satisfy some minimum format requirements to be compatible with GluonTS. In particular, it should be an iterable collection of data entries (time series), and each entry should have at least a `target` field, which contains the actual values of the time series, and a `start` field, which denotes the starting date of the time series. There are many more optional fields that we will go through in this tutorial.\n",
        "\n",
        "The datasets provided by GluonTS come in the appropriate format and they can be used without any post processing. However, a custom dataset needs to be converted. Fortunately this is an easy task.\n",
        "\n",
        "## 1.1 Available datasets on GluonTS\n",
        "\n",
        "GluonTS comes with a number of available datasets."
      ]
    },
    {
      "cell_type": "code",
      "metadata": {
        "id": "q9qpjNd-IBaX",
        "colab_type": "code",
        "colab": {}
      },
      "source": [
        "from gluonts.dataset.repository.datasets import get_dataset, dataset_recipes\n",
        "from gluonts.dataset.util import to_pandas"
      ],
      "execution_count": 0,
      "outputs": []
    },
    {
      "cell_type": "code",
      "metadata": {
        "id": "ZRpSd9HJIBaa",
        "colab_type": "code",
        "colab": {
          "base_uri": "https://localhost:8080/",
          "height": 54
        },
        "outputId": "3dba0445-e6a4-4c6a-f7b7-4e3e8a149618"
      },
      "source": [
        "print(f\"Available datasets: {list(dataset_recipes.keys())}\")"
      ],
      "execution_count": 4,
      "outputs": [
        {
          "output_type": "stream",
          "text": [
            "Available datasets: ['constant', 'exchange_rate', 'solar-energy', 'electricity', 'traffic', 'm4_hourly', 'm4_daily', 'm4_weekly', 'm4_monthly', 'm4_quarterly', 'm4_yearly']\n"
          ],
          "name": "stdout"
        }
      ]
    },
    {
      "cell_type": "markdown",
      "metadata": {
        "id": "KK6L8xICIBaf",
        "colab_type": "text"
      },
      "source": [
        "To download one of the built-in datasets, simply call `get_dataset` with one of the above names. GluonTS can re-use the saved dataset so that it does not need to be downloaded again: simply set `regenerate=False`."
      ]
    },
    {
      "cell_type": "code",
      "metadata": {
        "id": "nuor5iD3IBag",
        "colab_type": "code",
        "colab": {
          "base_uri": "https://localhost:8080/",
          "height": 67
        },
        "outputId": "543ec878-09c7-4cb4-85ac-6e936d1878fe"
      },
      "source": [
        "dataset = get_dataset(\"m4_hourly\", regenerate=True)"
      ],
      "execution_count": 5,
      "outputs": [
        {
          "output_type": "stream",
          "text": [
            "INFO:root:downloading and processing m4_hourly\n"
          ],
          "name": "stderr"
        },
        {
          "output_type": "stream",
          "text": [
            "saving time-series into /root/.mxnet/gluon-ts/datasets/m4_hourly/train/data.json\n",
            "saving time-series into /root/.mxnet/gluon-ts/datasets/m4_hourly/test/data.json\n"
          ],
          "name": "stdout"
        }
      ]
    },
    {
      "cell_type": "markdown",
      "metadata": {
        "id": "wSW5JJmJIBak",
        "colab_type": "text"
      },
      "source": [
        "### 1.1.1 What is in a dataset?\n",
        "\n",
        "In general, the datasets provided by GluonTS are objects that consists of three main members:\n",
        "\n",
        "- `dataset.train` is an iterable collection of data entries used for training. Each entry corresponds to one time series.\n",
        "- `dataset.test` is an iterable collection of data entries used for inference. The test dataset is an extended version of the train dataset that contains a window in the end of each time series that was not seen during training. This window has length equal to the recommended prediction length.\n",
        "- `dataset.metadata` contains metadata of the dataset such as the frequency of the time series, a recommended prediction horizon, associated features, etc.\n",
        "\n",
        "First, let's see what the first entry of the train dataset contains. We should expect at least a `target` and a `start` field in each entry, and the target of the test entry to have an additional window equal to `prediction_length`."
      ]
    },
    {
      "cell_type": "code",
      "metadata": {
        "id": "n0qNzJm3IBal",
        "colab_type": "code",
        "colab": {
          "base_uri": "https://localhost:8080/",
          "height": 34
        },
        "outputId": "28ecd4ba-76cc-478d-833f-8d51a16a549b"
      },
      "source": [
        "# get the first time series in the training set\n",
        "train_entry = next(iter(dataset.train))\n",
        "train_entry.keys()"
      ],
      "execution_count": 6,
      "outputs": [
        {
          "output_type": "execute_result",
          "data": {
            "text/plain": [
              "dict_keys(['start', 'target', 'feat_static_cat', 'source'])"
            ]
          },
          "metadata": {
            "tags": []
          },
          "execution_count": 6
        }
      ]
    },
    {
      "cell_type": "markdown",
      "metadata": {
        "id": "cSv-EsaOIBas",
        "colab_type": "text"
      },
      "source": [
        "We observe that apart from the required fields there is one more `feat_static_cat` field (we can safely ignore the `source` field). This shows that the dataset has some features apart from the values of the time series. For now, we will ignore this field too. We will explain it in detail later with all the other optional fields.\n",
        "\n",
        "We can similarly examine the first entry of the test dataset. We should expect exactly the same fields as in the train dataset."
      ]
    },
    {
      "cell_type": "code",
      "metadata": {
        "id": "dZvchhPDIBas",
        "colab_type": "code",
        "colab": {
          "base_uri": "https://localhost:8080/",
          "height": 34
        },
        "outputId": "f15d7531-49ef-4b23-f9b6-cc1e460f7c84"
      },
      "source": [
        "# get the first time series in the test set\n",
        "test_entry = next(iter(dataset.test))\n",
        "test_entry.keys()"
      ],
      "execution_count": 7,
      "outputs": [
        {
          "output_type": "execute_result",
          "data": {
            "text/plain": [
              "dict_keys(['start', 'target', 'feat_static_cat', 'source'])"
            ]
          },
          "metadata": {
            "tags": []
          },
          "execution_count": 7
        }
      ]
    },
    {
      "cell_type": "markdown",
      "metadata": {
        "id": "57IeckspIBaw",
        "colab_type": "text"
      },
      "source": [
        "Moreover, we should expect that the target will have an additional window in the end with length equal to `prediction_length`. To better understand what this means we can visualize both the train and test time series."
      ]
    },
    {
      "cell_type": "code",
      "metadata": {
        "id": "SzWr1ZDIIBax",
        "colab_type": "code",
        "colab": {
          "base_uri": "https://localhost:8080/",
          "height": 903
        },
        "outputId": "7e83d273-81f3-4039-e0f3-1c77064b5fbd"
      },
      "source": [
        "test_series = to_pandas(test_entry)\n",
        "train_series = to_pandas(train_entry)\n",
        "\n",
        "fig, ax = plt.subplots(2, 1, sharex=True, sharey=True, figsize=(10, 7))\n",
        "\n",
        "train_series.plot(ax=ax[0])\n",
        "ax[0].grid(which=\"both\")\n",
        "ax[0].legend([\"train series\"], loc=\"upper left\")\n",
        "\n",
        "test_series.plot(ax=ax[1])\n",
        "ax[1].axvline(train_series.index[-1], color='r') # end of train dataset\n",
        "ax[1].grid(which=\"both\")\n",
        "ax[1].legend([\"test series\", \"end of train series\"], loc=\"upper left\")\n",
        "\n",
        "plt.show()"
      ],
      "execution_count": 8,
      "outputs": [
        {
          "output_type": "stream",
          "text": [
            "/usr/local/lib/python3.6/dist-packages/pandas/plotting/_matplotlib/tools.py:307: MatplotlibDeprecationWarning: \n",
            "The rowNum attribute was deprecated in Matplotlib 3.2 and will be removed two minor releases later. Use ax.get_subplotspec().rowspan.start instead.\n",
            "  layout[ax.rowNum, ax.colNum] = ax.get_visible()\n",
            "/usr/local/lib/python3.6/dist-packages/pandas/plotting/_matplotlib/tools.py:307: MatplotlibDeprecationWarning: \n",
            "The colNum attribute was deprecated in Matplotlib 3.2 and will be removed two minor releases later. Use ax.get_subplotspec().colspan.start instead.\n",
            "  layout[ax.rowNum, ax.colNum] = ax.get_visible()\n",
            "/usr/local/lib/python3.6/dist-packages/pandas/plotting/_matplotlib/tools.py:313: MatplotlibDeprecationWarning: \n",
            "The rowNum attribute was deprecated in Matplotlib 3.2 and will be removed two minor releases later. Use ax.get_subplotspec().rowspan.start instead.\n",
            "  if not layout[ax.rowNum + 1, ax.colNum]:\n",
            "/usr/local/lib/python3.6/dist-packages/pandas/plotting/_matplotlib/tools.py:313: MatplotlibDeprecationWarning: \n",
            "The colNum attribute was deprecated in Matplotlib 3.2 and will be removed two minor releases later. Use ax.get_subplotspec().colspan.start instead.\n",
            "  if not layout[ax.rowNum + 1, ax.colNum]:\n",
            "INFO:numexpr.utils:NumExpr defaulting to 2 threads.\n",
            "/usr/local/lib/python3.6/dist-packages/pandas/plotting/_matplotlib/tools.py:307: MatplotlibDeprecationWarning: \n",
            "The rowNum attribute was deprecated in Matplotlib 3.2 and will be removed two minor releases later. Use ax.get_subplotspec().rowspan.start instead.\n",
            "  layout[ax.rowNum, ax.colNum] = ax.get_visible()\n",
            "/usr/local/lib/python3.6/dist-packages/pandas/plotting/_matplotlib/tools.py:307: MatplotlibDeprecationWarning: \n",
            "The colNum attribute was deprecated in Matplotlib 3.2 and will be removed two minor releases later. Use ax.get_subplotspec().colspan.start instead.\n",
            "  layout[ax.rowNum, ax.colNum] = ax.get_visible()\n",
            "/usr/local/lib/python3.6/dist-packages/pandas/plotting/_matplotlib/tools.py:313: MatplotlibDeprecationWarning: \n",
            "The rowNum attribute was deprecated in Matplotlib 3.2 and will be removed two minor releases later. Use ax.get_subplotspec().rowspan.start instead.\n",
            "  if not layout[ax.rowNum + 1, ax.colNum]:\n",
            "/usr/local/lib/python3.6/dist-packages/pandas/plotting/_matplotlib/tools.py:313: MatplotlibDeprecationWarning: \n",
            "The colNum attribute was deprecated in Matplotlib 3.2 and will be removed two minor releases later. Use ax.get_subplotspec().colspan.start instead.\n",
            "  if not layout[ax.rowNum + 1, ax.colNum]:\n"
          ],
          "name": "stderr"
        },
        {
          "output_type": "display_data",
          "data": {
            "image/png": "[encoded data removed]",
            "text/plain": [
              "<Figure size 720x504 with 2 Axes>"
            ]
          },
          "metadata": {
            "tags": [],
            "needs_background": "light"
          }
        }
      ]
    },
    {
      "cell_type": "code",
      "metadata": {
        "id": "NNUImMCvIBa2",
        "colab_type": "code",
        "colab": {
          "base_uri": "https://localhost:8080/",
          "height": 67
        },
        "outputId": "288ac66b-752f-43d2-b0ee-0a5653b92b69"
      },
      "source": [
        "print(f\"Length of forecasting window in test dataset: {len(test_series) - len(train_series)}\")\n",
        "print(f\"Recommended prediction horizon: {dataset.metadata.prediction_length}\")\n",
        "print(f\"Frequency of the time series: {dataset.metadata.freq}\")"
      ],
      "execution_count": 9,
      "outputs": [
        {
          "output_type": "stream",
          "text": [
            "Length of forecasting window in test dataset: 48\n",
            "Recommended prediction horizon: 48\n",
            "Frequency of the time series: H\n"
          ],
          "name": "stdout"
        }
      ]
    },
    {
      "cell_type": "markdown",
      "metadata": {
        "id": "wkfjkBqKIBa5",
        "colab_type": "text"
      },
      "source": [
        "## 1.2 Create artificial datasets\n",
        "\n",
        "We can easily create a complex artificial time series dataset using the `ComplexSeasonalTimeSeries` module."
      ]
    },
    {
      "cell_type": "code",
      "metadata": {
        "id": "KUplbHzyIBa6",
        "colab_type": "code",
        "colab": {}
      },
      "source": [
        "from gluonts.dataset.artificial._base import ComplexSeasonalTimeSeries\n",
        "from gluonts.dataset.common import ListDataset"
      ],
      "execution_count": 0,
      "outputs": []
    },
    {
      "cell_type": "code",
      "metadata": {
        "id": "WEXWnOcUIBa_",
        "colab_type": "code",
        "colab": {}
      },
      "source": [
        "artificial_dataset = ComplexSeasonalTimeSeries(\n",
        "    num_series=10,\n",
        "    prediction_length=21,\n",
        "    freq_str=\"H\",\n",
        "    length_low=30,\n",
        "    length_high=200,\n",
        "    min_val=-10000,\n",
        "    max_val=10000,\n",
        "    is_integer=False,\n",
        "    proportion_missing_values=0,\n",
        "    is_noise=True,\n",
        "    is_scale=True,\n",
        "    percentage_unique_timestamps=1,\n",
        "    is_out_of_bounds_date=True,\n",
        ")"
      ],
      "execution_count": 0,
      "outputs": []
    },
    {
      "cell_type": "markdown",
      "metadata": {
        "id": "IoGeyZRNIBbE",
        "colab_type": "text"
      },
      "source": [
        "We can access some important metadata of the artificial dataset as follows:"
      ]
    },
    {
      "cell_type": "code",
      "metadata": {
        "id": "aLZCKDo3IBbE",
        "colab_type": "code",
        "colab": {
          "base_uri": "https://localhost:8080/",
          "height": 50
        },
        "outputId": "f27b3165-fb75-4ea7-a02a-fe81557ae22f"
      },
      "source": [
        "print(f\"prediction length: {artificial_dataset.metadata.prediction_length}\")\n",
        "print(f\"frequency: {artificial_dataset.metadata.freq}\")"
      ],
      "execution_count": 12,
      "outputs": [
        {
          "output_type": "stream",
          "text": [
            "prediction length: 21\n",
            "frequency: H\n"
          ],
          "name": "stdout"
        }
      ]
    },
    {
      "cell_type": "markdown",
      "metadata": {
        "id": "QB5BRQ6uIBbI",
        "colab_type": "text"
      },
      "source": [
        "The artificial dataset that we created is a list of dictionaries. Each dictionary corresponds to a time series and it should contain the required fields."
      ]
    },
    {
      "cell_type": "code",
      "metadata": {
        "id": "fxC_CGVzIBbJ",
        "colab_type": "code",
        "colab": {
          "base_uri": "https://localhost:8080/",
          "height": 84
        },
        "outputId": "7026d413-a202-48ed-fda7-de3486d73477"
      },
      "source": [
        "print(f\"type of train dataset: {type(artificial_dataset.train)}\")\n",
        "print(f\"train dataset fields: {artificial_dataset.train[0].keys()}\")\n",
        "print(f\"type of test dataset: {type(artificial_dataset.test)}\")\n",
        "print(f\"test dataset fields: {artificial_dataset.test[0].keys()}\")"
      ],
      "execution_count": 13,
      "outputs": [
        {
          "output_type": "stream",
          "text": [
            "type of train dataset: <class 'list'>\n",
            "train dataset fields: dict_keys(['start', 'target', 'item_id'])\n",
            "type of test dataset: <class 'list'>\n",
            "test dataset fields: dict_keys(['start', 'target', 'item_id'])\n"
          ],
          "name": "stdout"
        }
      ]
    },
    {
      "cell_type": "markdown",
      "metadata": {
        "id": "OvmT4Jk3IBbM",
        "colab_type": "text"
      },
      "source": [
        "In order to use the artificially created datasets (list of dictionaries) we need to convert them to `ListDataset` objects."
      ]
    },
    {
      "cell_type": "code",
      "metadata": {
        "id": "SEVDe11qIBbM",
        "colab_type": "code",
        "colab": {}
      },
      "source": [
        "train_ds = ListDataset(artificial_dataset.train, \n",
        "                        freq=artificial_dataset.metadata.freq)"
      ],
      "execution_count": 0,
      "outputs": []
    },
    {
      "cell_type": "code",
      "metadata": {
        "id": "UQr-PP8mIBbP",
        "colab_type": "code",
        "colab": {}
      },
      "source": [
        "test_ds = ListDataset(artificial_dataset.test, \n",
        "                       freq=artificial_dataset.metadata.freq)"
      ],
      "execution_count": 0,
      "outputs": []
    },
    {
      "cell_type": "code",
      "metadata": {
        "id": "ORc4RxZeIBbT",
        "colab_type": "code",
        "colab": {
          "base_uri": "https://localhost:8080/",
          "height": 34
        },
        "outputId": "8b3bb7af-bd2c-44d2-9b04-c4e7d1a14069"
      },
      "source": [
        "train_entry = next(iter(train_ds))\n",
        "train_entry.keys()"
      ],
      "execution_count": 16,
      "outputs": [
        {
          "output_type": "execute_result",
          "data": {
            "text/plain": [
              "dict_keys(['start', 'target', 'item_id', 'source'])"
            ]
          },
          "metadata": {
            "tags": []
          },
          "execution_count": 16
        }
      ]
    },
    {
      "cell_type": "code",
      "metadata": {
        "id": "b0mckG6OIBbX",
        "colab_type": "code",
        "colab": {
          "base_uri": "https://localhost:8080/",
          "height": 34
        },
        "outputId": "c0d3651f-1dc8-40b6-938b-f88f2f2842fc"
      },
      "source": [
        "test_entry = next(iter(test_ds))\n",
        "test_entry.keys()"
      ],
      "execution_count": 17,
      "outputs": [
        {
          "output_type": "execute_result",
          "data": {
            "text/plain": [
              "dict_keys(['start', 'target', 'item_id', 'source'])"
            ]
          },
          "metadata": {
            "tags": []
          },
          "execution_count": 17
        }
      ]
    },
    {
      "cell_type": "code",
      "metadata": {
        "id": "8N1yjFJhIBba",
        "colab_type": "code",
        "colab": {
          "base_uri": "https://localhost:8080/",
          "height": 875
        },
        "outputId": "bf57dd93-4a9b-4a1a-d1c1-ec8002b0ade9"
      },
      "source": [
        "test_series = to_pandas(test_entry)\n",
        "train_series = to_pandas(train_entry)\n",
        "\n",
        "fig, ax = plt.subplots(2, 1, sharex=True, sharey=True, figsize=(10, 7))\n",
        "\n",
        "train_series.plot(ax=ax[0])\n",
        "ax[0].grid(which=\"both\")\n",
        "ax[0].legend([\"train series\"], loc=\"upper left\")\n",
        "\n",
        "test_series.plot(ax=ax[1])\n",
        "ax[1].axvline(train_series.index[-1], color='r') # end of train dataset\n",
        "ax[1].grid(which=\"both\")\n",
        "ax[1].legend([\"test series\", \"end of train series\"], loc=\"upper left\")\n",
        "\n",
        "plt.show()"
      ],
      "execution_count": 18,
      "outputs": [
        {
          "output_type": "stream",
          "text": [
            "/usr/local/lib/python3.6/dist-packages/pandas/plotting/_matplotlib/tools.py:307: MatplotlibDeprecationWarning: \n",
            "The rowNum attribute was deprecated in Matplotlib 3.2 and will be removed two minor releases later. Use ax.get_subplotspec().rowspan.start instead.\n",
            "  layout[ax.rowNum, ax.colNum] = ax.get_visible()\n",
            "/usr/local/lib/python3.6/dist-packages/pandas/plotting/_matplotlib/tools.py:307: MatplotlibDeprecationWarning: \n",
            "The colNum attribute was deprecated in Matplotlib 3.2 and will be removed two minor releases later. Use ax.get_subplotspec().colspan.start instead.\n",
            "  layout[ax.rowNum, ax.colNum] = ax.get_visible()\n",
            "/usr/local/lib/python3.6/dist-packages/pandas/plotting/_matplotlib/tools.py:313: MatplotlibDeprecationWarning: \n",
            "The rowNum attribute was deprecated in Matplotlib 3.2 and will be removed two minor releases later. Use ax.get_subplotspec().rowspan.start instead.\n",
            "  if not layout[ax.rowNum + 1, ax.colNum]:\n",
            "/usr/local/lib/python3.6/dist-packages/pandas/plotting/_matplotlib/tools.py:313: MatplotlibDeprecationWarning: \n",
            "The colNum attribute was deprecated in Matplotlib 3.2 and will be removed two minor releases later. Use ax.get_subplotspec().colspan.start instead.\n",
            "  if not layout[ax.rowNum + 1, ax.colNum]:\n",
            "/usr/local/lib/python3.6/dist-packages/pandas/plotting/_matplotlib/tools.py:307: MatplotlibDeprecationWarning: \n",
            "The rowNum attribute was deprecated in Matplotlib 3.2 and will be removed two minor releases later. Use ax.get_subplotspec().rowspan.start instead.\n",
            "  layout[ax.rowNum, ax.colNum] = ax.get_visible()\n",
            "/usr/local/lib/python3.6/dist-packages/pandas/plotting/_matplotlib/tools.py:307: MatplotlibDeprecationWarning: \n",
            "The colNum attribute was deprecated in Matplotlib 3.2 and will be removed two minor releases later. Use ax.get_subplotspec().colspan.start instead.\n",
            "  layout[ax.rowNum, ax.colNum] = ax.get_visible()\n",
            "/usr/local/lib/python3.6/dist-packages/pandas/plotting/_matplotlib/tools.py:313: MatplotlibDeprecationWarning: \n",
            "The rowNum attribute was deprecated in Matplotlib 3.2 and will be removed two minor releases later. Use ax.get_subplotspec().rowspan.start instead.\n",
            "  if not layout[ax.rowNum + 1, ax.colNum]:\n",
            "/usr/local/lib/python3.6/dist-packages/pandas/plotting/_matplotlib/tools.py:313: MatplotlibDeprecationWarning: \n",
            "The colNum attribute was deprecated in Matplotlib 3.2 and will be removed two minor releases later. Use ax.get_subplotspec().colspan.start instead.\n",
            "  if not layout[ax.rowNum + 1, ax.colNum]:\n"
          ],
          "name": "stderr"
        },
        {
          "output_type": "display_data",
          "data": {
            "image/png": "[encoded data removed]",
            "text/plain": [
              "<Figure size 720x504 with 2 Axes>"
            ]
          },
          "metadata": {
            "tags": [],
            "needs_background": "light"
          }
        }
      ]
    },
    {
      "cell_type": "markdown",
      "metadata": {
        "id": "r0IrskPQIBbe",
        "colab_type": "text"
      },
      "source": [
        "## 1.3 Use your time series and features\n",
        "\n",
        "Now, we will see how we can convert any custom dataset with any associated features to an appropriate format for GluonTS.\n",
        "\n",
        "As already mentioned a dataset is required to have at least the `target` and the `start` fields. However, it may have more. Let's see what are all the available fields:"
      ]
    },
    {
      "cell_type": "code",
      "metadata": {
        "id": "jelxTl5OIBbf",
        "colab_type": "code",
        "colab": {}
      },
      "source": [
        "from gluonts.dataset.field_names import FieldName"
      ],
      "execution_count": 0,
      "outputs": []
    },
    {
      "cell_type": "code",
      "metadata": {
        "id": "0lgprN1mIBbh",
        "colab_type": "code",
        "colab": {
          "base_uri": "https://localhost:8080/",
          "height": 235
        },
        "outputId": "92880c84-a0ca-485f-dc5b-1484f56c8803"
      },
      "source": [
        "[f\"FieldName.{k} = '{v}'\" for k, v in FieldName.__dict__.items() if not k.startswith('_')]"
      ],
      "execution_count": 20,
      "outputs": [
        {
          "output_type": "execute_result",
          "data": {
            "text/plain": [
              "[\"FieldName.ITEM_ID = 'item_id'\",\n",
              " \"FieldName.START = 'start'\",\n",
              " \"FieldName.TARGET = 'target'\",\n",
              " \"FieldName.FEAT_STATIC_CAT = 'feat_static_cat'\",\n",
              " \"FieldName.FEAT_STATIC_REAL = 'feat_static_real'\",\n",
              " \"FieldName.FEAT_DYNAMIC_CAT = 'feat_dynamic_cat'\",\n",
              " \"FieldName.FEAT_DYNAMIC_REAL = 'feat_dynamic_real'\",\n",
              " \"FieldName.FEAT_TIME = 'time_feat'\",\n",
              " \"FieldName.FEAT_CONST = 'feat_dynamic_const'\",\n",
              " \"FieldName.FEAT_AGE = 'feat_dynamic_age'\",\n",
              " \"FieldName.OBSERVED_VALUES = 'observed_values'\",\n",
              " \"FieldName.IS_PAD = 'is_pad'\",\n",
              " \"FieldName.FORECAST_START = 'forecast_start'\"]"
            ]
          },
          "metadata": {
            "tags": []
          },
          "execution_count": 20
        }
      ]
    },
    {
      "cell_type": "markdown",
      "metadata": {
        "id": "9gzPCe3OIBbk",
        "colab_type": "text"
      },
      "source": [
        "The fields are split into three categories: the required ones, the optional ones, and the ones that can be added by the `Transformation` (explained in a while).\n",
        "\n",
        "Required:\n",
        "\n",
        "- `start`: start date of the time series\n",
        "- `target`: values of the time series\n",
        "\n",
        "Optional:\n",
        "\n",
        "- `feat_static_cat`: static (over time) categorical features, list with dimension equal to the number of features\n",
        "- `feat_static_real`: static (over time) real features, list with dimension equal to the number of features\n",
        "- `feat_dynamic_cat`: dynamic (over time) categorical features, array with shape equal to (number of features, target length)\n",
        "- `feat_dynamic_real`: dynamic (over time) real features, array with shape equal to (number of features, target length)\n",
        "\n",
        "Added by `Transformation`:\n",
        "\n",
        "- `time_feat`: time related features such as the month or the day \n",
        "- `feat_dynamic_const`: expands a constant value feature along the time axis\n",
        "- `feat_dynamic_age`: age feature, i.e., a feature that its value is small for distant past timestamps and it monotonically increases the more we approach the current timestamp\n",
        "- `observed_values`: indicator for observed values, i.e., a feature that equals to 1 if the value is observed and 0 if the value is missing\n",
        "- `is_pad`: indicator for each time step that shows if it is padded (if the length is not enough) \n",
        "- `forecast_start`: forecast start date\n",
        "\n",
        "As a simple example, we can create a custom dataset to see how we can use some of these fields. The dataset consists of a target, a real dynamic feature (which in this example we set to be the target value one period earlier), and a static categorical feature that indicates the sinusoid type (different phase) that we used to create the target."
      ]
    },
    {
      "cell_type": "code",
      "metadata": {
        "id": "jBFcggggIBbk",
        "colab_type": "code",
        "colab": {}
      },
      "source": [
        "def create_dataset(num_series, num_steps, period=24, mu=1, sigma=0.3):\n",
        "    # create target: noise + pattern    \n",
        "    # noise\n",
        "    noise = np.random.normal(mu, sigma, size=(num_series, num_steps))\n",
        "    \n",
        "    # pattern - sinusoid with different phase\n",
        "    sin_minumPi_Pi = np.sin(np.tile(np.linspace(-np.pi, np.pi, period), int(num_steps / period)))\n",
        "    sin_Zero_2Pi = np.sin(np.tile(np.linspace(0, 2 * np.pi, 24), int(num_steps / period)))\n",
        "    \n",
        "    pattern = np.concatenate((np.tile(sin_minumPi_Pi.reshape(1, -1), \n",
        "                                      (int(np.ceil(num_series / 2)),1)), \n",
        "                              np.tile(sin_Zero_2Pi.reshape(1, -1), \n",
        "                                      (int(np.floor(num_series / 2)), 1))\n",
        "                             ),\n",
        "                             axis=0\n",
        "                            )\n",
        "    \n",
        "    target = noise + pattern\n",
        "    \n",
        "    # create time features: use target one period earlier, append with zeros\n",
        "    feat_dynamic_real = np.concatenate((np.zeros((num_series, period)), \n",
        "                                        target[:, :-period]\n",
        "                                       ), \n",
        "                                       axis=1\n",
        "                                      )\n",
        "    \n",
        "    # create categorical static feats: use the sinusoid type as a categorical feature\n",
        "    feat_static_cat = np.concatenate((np.zeros(int(np.ceil(num_series / 2))), \n",
        "                                      np.ones(int(np.floor(num_series / 2)))\n",
        "                                     ),\n",
        "                                     axis=0\n",
        "                                    )\n",
        "    \n",
        "    return target, feat_dynamic_real, feat_static_cat\n",
        "    "
      ],
      "execution_count": 0,
      "outputs": []
    },
    {
      "cell_type": "code",
      "metadata": {
        "id": "LmKrutIVIBbn",
        "colab_type": "code",
        "colab": {}
      },
      "source": [
        "# define the parameters of the dataset\n",
        "custom_ds_metadata = {'num_series': 100,\n",
        "                      'num_steps': 24 * 7,\n",
        "                      'prediction_length': 24,\n",
        "                      'freq': '1H',\n",
        "                      'start': [pd.Timestamp(\"01-01-2019\", freq='1H') \n",
        "                                for _ in range(100)]\n",
        "                     }"
      ],
      "execution_count": 0,
      "outputs": []
    },
    {
      "cell_type": "code",
      "metadata": {
        "id": "rgB5IqwZIBbq",
        "colab_type": "code",
        "colab": {}
      },
      "source": [
        "data_out = create_dataset(custom_ds_metadata['num_series'], \n",
        "                          custom_ds_metadata['num_steps'],                                                      \n",
        "                          custom_ds_metadata['prediction_length']\n",
        "                         )\n",
        "\n",
        "target, feat_dynamic_real, feat_static_cat = data_out"
      ],
      "execution_count": 0,
      "outputs": []
    },
    {
      "cell_type": "markdown",
      "metadata": {
        "id": "kbF7kRtRIBbu",
        "colab_type": "text"
      },
      "source": [
        "We can easily create the train and test datasets by simply filling in the correct fields. Remember that for the train dataset we need to cut the last window."
      ]
    },
    {
      "cell_type": "code",
      "metadata": {
        "id": "4xZPHPOlIBbv",
        "colab_type": "code",
        "colab": {}
      },
      "source": [
        "train_ds = ListDataset([{FieldName.TARGET: target, \n",
        "                         FieldName.START: start,\n",
        "                         FieldName.FEAT_DYNAMIC_REAL: fdr,\n",
        "                         FieldName.FEAT_STATIC_CAT: fsc} \n",
        "                        for (target, start, fdr, fsc) in zip(target[:, :-custom_ds_metadata['prediction_length']], \n",
        "                                                             custom_ds_metadata['start'], \n",
        "                                                             feat_dynamic_real[:, :-custom_ds_metadata['prediction_length']], \n",
        "                                                             feat_static_cat)],\n",
        "                      freq=custom_ds_metadata['freq'])"
      ],
      "execution_count": 0,
      "outputs": []
    },
    {
      "cell_type": "code",
      "metadata": {
        "id": "G1GbNjTWIBbz",
        "colab_type": "code",
        "colab": {}
      },
      "source": [
        "test_ds = ListDataset([{FieldName.TARGET: target, \n",
        "                        FieldName.START: start,\n",
        "                        FieldName.FEAT_DYNAMIC_REAL: fdr,\n",
        "                        FieldName.FEAT_STATIC_CAT: fsc} \n",
        "                       for (target, start, fdr, fsc) in zip(target, \n",
        "                                                            custom_ds_metadata['start'], \n",
        "                                                            feat_dynamic_real, \n",
        "                                                            feat_static_cat)],\n",
        "                     freq=custom_ds_metadata['freq'])"
      ],
      "execution_count": 0,
      "outputs": []
    },
    {
      "cell_type": "markdown",
      "metadata": {
        "id": "4RIYK7lEIBb1",
        "colab_type": "text"
      },
      "source": [
        "Now, we can examine each entry of the train and test datasets. We should expect that they have the following fields: `target`, `start`, `feat_dynamic_real` and `feat_static_cat`."
      ]
    },
    {
      "cell_type": "code",
      "metadata": {
        "id": "stnjfGDkIBb2",
        "colab_type": "code",
        "colab": {
          "base_uri": "https://localhost:8080/",
          "height": 34
        },
        "outputId": "0b010b8b-02c1-4fec-84df-4a98b8fd9cd6"
      },
      "source": [
        "train_entry = next(iter(train_ds))\n",
        "train_entry.keys()"
      ],
      "execution_count": 26,
      "outputs": [
        {
          "output_type": "execute_result",
          "data": {
            "text/plain": [
              "dict_keys(['target', 'start', 'feat_dynamic_real', 'feat_static_cat', 'source'])"
            ]
          },
          "metadata": {
            "tags": []
          },
          "execution_count": 26
        }
      ]
    },
    {
      "cell_type": "code",
      "metadata": {
        "id": "YwKQv-BLIBb4",
        "colab_type": "code",
        "colab": {
          "base_uri": "https://localhost:8080/",
          "height": 34
        },
        "outputId": "93e7dd00-c354-4f77-eecf-a481417098a3"
      },
      "source": [
        "test_entry = next(iter(test_ds))\n",
        "test_entry.keys()"
      ],
      "execution_count": 27,
      "outputs": [
        {
          "output_type": "execute_result",
          "data": {
            "text/plain": [
              "dict_keys(['target', 'start', 'feat_dynamic_real', 'feat_static_cat', 'source'])"
            ]
          },
          "metadata": {
            "tags": []
          },
          "execution_count": 27
        }
      ]
    },
    {
      "cell_type": "code",
      "metadata": {
        "id": "NrxeR25zIBb7",
        "colab_type": "code",
        "colab": {
          "base_uri": "https://localhost:8080/",
          "height": 875
        },
        "outputId": "3dd225d9-c47b-4c6a-a9e9-16cab44a68c6"
      },
      "source": [
        "test_series = to_pandas(test_entry)\n",
        "train_series = to_pandas(train_entry)\n",
        "\n",
        "fig, ax = plt.subplots(2, 1, sharex=True, sharey=True, figsize=(10, 7))\n",
        "\n",
        "train_series.plot(ax=ax[0])\n",
        "ax[0].grid(which=\"both\")\n",
        "ax[0].legend([\"train series\"], loc=\"upper left\")\n",
        "\n",
        "test_series.plot(ax=ax[1])\n",
        "ax[1].axvline(train_series.index[-1], color='r') # end of train dataset\n",
        "ax[1].grid(which=\"both\")\n",
        "ax[1].legend([\"test series\", \"end of train series\"], loc=\"upper left\")\n",
        "\n",
        "plt.show()"
      ],
      "execution_count": 28,
      "outputs": [
        {
          "output_type": "stream",
          "text": [
            "/usr/local/lib/python3.6/dist-packages/pandas/plotting/_matplotlib/tools.py:307: MatplotlibDeprecationWarning: \n",
            "The rowNum attribute was deprecated in Matplotlib 3.2 and will be removed two minor releases later. Use ax.get_subplotspec().rowspan.start instead.\n",
            "  layout[ax.rowNum, ax.colNum] = ax.get_visible()\n",
            "/usr/local/lib/python3.6/dist-packages/pandas/plotting/_matplotlib/tools.py:307: MatplotlibDeprecationWarning: \n",
            "The colNum attribute was deprecated in Matplotlib 3.2 and will be removed two minor releases later. Use ax.get_subplotspec().colspan.start instead.\n",
            "  layout[ax.rowNum, ax.colNum] = ax.get_visible()\n",
            "/usr/local/lib/python3.6/dist-packages/pandas/plotting/_matplotlib/tools.py:313: MatplotlibDeprecationWarning: \n",
            "The rowNum attribute was deprecated in Matplotlib 3.2 and will be removed two minor releases later. Use ax.get_subplotspec().rowspan.start instead.\n",
            "  if not layout[ax.rowNum + 1, ax.colNum]:\n",
            "/usr/local/lib/python3.6/dist-packages/pandas/plotting/_matplotlib/tools.py:313: MatplotlibDeprecationWarning: \n",
            "The colNum attribute was deprecated in Matplotlib 3.2 and will be removed two minor releases later. Use ax.get_subplotspec().colspan.start instead.\n",
            "  if not layout[ax.rowNum + 1, ax.colNum]:\n",
            "/usr/local/lib/python3.6/dist-packages/pandas/plotting/_matplotlib/tools.py:307: MatplotlibDeprecationWarning: \n",
            "The rowNum attribute was deprecated in Matplotlib 3.2 and will be removed two minor releases later. Use ax.get_subplotspec().rowspan.start instead.\n",
            "  layout[ax.rowNum, ax.colNum] = ax.get_visible()\n",
            "/usr/local/lib/python3.6/dist-packages/pandas/plotting/_matplotlib/tools.py:307: MatplotlibDeprecationWarning: \n",
            "The colNum attribute was deprecated in Matplotlib 3.2 and will be removed two minor releases later. Use ax.get_subplotspec().colspan.start instead.\n",
            "  layout[ax.rowNum, ax.colNum] = ax.get_visible()\n",
            "/usr/local/lib/python3.6/dist-packages/pandas/plotting/_matplotlib/tools.py:313: MatplotlibDeprecationWarning: \n",
            "The rowNum attribute was deprecated in Matplotlib 3.2 and will be removed two minor releases later. Use ax.get_subplotspec().rowspan.start instead.\n",
            "  if not layout[ax.rowNum + 1, ax.colNum]:\n",
            "/usr/local/lib/python3.6/dist-packages/pandas/plotting/_matplotlib/tools.py:313: MatplotlibDeprecationWarning: \n",
            "The colNum attribute was deprecated in Matplotlib 3.2 and will be removed two minor releases later. Use ax.get_subplotspec().colspan.start instead.\n",
            "  if not layout[ax.rowNum + 1, ax.colNum]:\n"
          ],
          "name": "stderr"
        },
        {
          "output_type": "display_data",
          "data": {
            "image/png": "[encoded data removed]",
            "text/plain": [
              "<Figure size 720x504 with 2 Axes>"
            ]
          },
          "metadata": {
            "tags": [],
            "needs_background": "light"
          }
        }
      ]
    },
    {
      "cell_type": "markdown",
      "metadata": {
        "id": "igK1ROSNIBb_",
        "colab_type": "text"
      },
      "source": [
        "<span style=\"color:red\">*For the rest of the tutorial we will use the custom dataset*</span>"
      ]
    },
    {
      "cell_type": "markdown",
      "metadata": {
        "id": "ywk55LwQIBcA",
        "colab_type": "text"
      },
      "source": [
        "# 2. Transformation\n",
        "\n",
        "## 2.1 Define a transformation\n",
        "\n",
        "The primary use case for a `Transformation` is for feature processing, e.g., adding a holiday feature and for defining the way the dataset will be split into appropriate windows during training and inference. \n",
        "\n",
        "In general, it gets an iterable collection of entries of a dataset and transform it to another iterable collection that can possibly contain more fields. The transformation is done by defining a set of \"actions\" to the raw dataset depending on what is useful to our model. This actions usually create some additional features or transform an existing feature. As an example, in the following we add the following transformations:\n",
        "\n",
        "- `AddObservedValuesIndicator`: Creates the `observed_values` field in the dataset, i.e., adds a feature that equals to 1 if the value is observed and 0 if the value is missing \n",
        "- `AddAgeFeature`: Creates the `feat_dynamic_age` field in the dataset, i.e., adds a feature that its value is small for distant past timestamps and it monotonically increases the more we approach the current timestamp   \n",
        "\n",
        "The `Transformation` may not define an additional field in the dataset. However, it **always** needs to define how the datasets are going to be split in example windows during training and testing. This is done with the `InstanceSplitter` that is configured as follows (skipping the obvious fields):\n",
        "\n",
        "- `is_pad_field`: indicator if the time series is padded (if the length is not enough)\n",
        "- `train_sampler`: defines how the training windows are cut/sampled\n",
        "- `time_series_fields`: contains the time dependent features that need to be split in the same manner as the target"
      ]
    },
    {
      "cell_type": "code",
      "metadata": {
        "id": "zbRop1EFIBcA",
        "colab_type": "code",
        "colab": {}
      },
      "source": [
        "from gluonts.transform import (\n",
        "    AddAgeFeature,\n",
        "    AddObservedValuesIndicator,\n",
        "    Chain,\n",
        "    ExpectedNumInstanceSampler,\n",
        "    InstanceSplitter,\n",
        "    SetFieldIfNotPresent,\n",
        ")"
      ],
      "execution_count": 0,
      "outputs": []
    },
    {
      "cell_type": "code",
      "metadata": {
        "id": "q2IHX_r-IBcD",
        "colab_type": "code",
        "colab": {}
      },
      "source": [
        "def create_transformation(freq, context_length, prediction_length):\n",
        "    return Chain(\n",
        "        [\n",
        "            AddObservedValuesIndicator(\n",
        "                target_field=FieldName.TARGET,\n",
        "                output_field=FieldName.OBSERVED_VALUES,\n",
        "            ),\n",
        "            AddAgeFeature(\n",
        "                target_field=FieldName.TARGET,\n",
        "                output_field=FieldName.FEAT_AGE,\n",
        "                pred_length=prediction_length,\n",
        "                log_scale=True,\n",
        "            ),\n",
        "            InstanceSplitter(\n",
        "                target_field=FieldName.TARGET,\n",
        "                is_pad_field=FieldName.IS_PAD,\n",
        "                start_field=FieldName.START,\n",
        "                forecast_start_field=FieldName.FORECAST_START,\n",
        "                train_sampler=ExpectedNumInstanceSampler(num_instances=1),\n",
        "                past_length=context_length,\n",
        "                future_length=prediction_length,\n",
        "                time_series_fields=[\n",
        "                    FieldName.FEAT_AGE,\n",
        "                    FieldName.FEAT_DYNAMIC_REAL,\n",
        "                    FieldName.OBSERVED_VALUES,\n",
        "                ],\n",
        "            ),\n",
        "        ]\n",
        "    )"
      ],
      "execution_count": 0,
      "outputs": []
    },
    {
      "cell_type": "markdown",
      "metadata": {
        "id": "oa3JC6HVIBcG",
        "colab_type": "text"
      },
      "source": [
        "## 2.2 Transform a dataset\n",
        "\n",
        "Now, we can create a transformation object by applying the above transformation to the custom dataset we have created."
      ]
    },
    {
      "cell_type": "code",
      "metadata": {
        "id": "lRGxIWZFIBcG",
        "colab_type": "code",
        "colab": {}
      },
      "source": [
        "transformation = create_transformation(custom_ds_metadata['freq'], \n",
        "                                       2 * custom_ds_metadata['prediction_length'], # can be any appropriate value\n",
        "                                       custom_ds_metadata['prediction_length'])"
      ],
      "execution_count": 0,
      "outputs": []
    },
    {
      "cell_type": "code",
      "metadata": {
        "id": "hxzOIHvDIBcJ",
        "colab_type": "code",
        "colab": {}
      },
      "source": [
        "train_tf = transformation(iter(train_ds), is_train=True)"
      ],
      "execution_count": 0,
      "outputs": []
    },
    {
      "cell_type": "code",
      "metadata": {
        "id": "VIkwmj_RIBcM",
        "colab_type": "code",
        "colab": {
          "base_uri": "https://localhost:8080/",
          "height": 34
        },
        "outputId": "ed7ec720-091d-4f88-ed3e-c8f323dec3ab"
      },
      "source": [
        "type(train_tf)"
      ],
      "execution_count": 33,
      "outputs": [
        {
          "output_type": "execute_result",
          "data": {
            "text/plain": [
              "generator"
            ]
          },
          "metadata": {
            "tags": []
          },
          "execution_count": 33
        }
      ]
    },
    {
      "cell_type": "markdown",
      "metadata": {
        "id": "arwksIAyIBcO",
        "colab_type": "text"
      },
      "source": [
        "As expected, the output is another iterable object. We can easily examine what is contained in an entry of the transformed dataset. When `is_train=True` in the transformation, the `InstanceSplitter` iterates over the transformed dataset and cuts windows by selecting randomly a time series and a starting point on that time series (this \"randomness\" is defined by the `train_sampler`)."
      ]
    },
    {
      "cell_type": "code",
      "metadata": {
        "id": "ew1fPSu3IBcP",
        "colab_type": "code",
        "colab": {
          "base_uri": "https://localhost:8080/",
          "height": 235
        },
        "outputId": "2f057399-1172-4cca-bd16-13d907b0608b"
      },
      "source": [
        "train_tf_entry = next(iter(train_tf))\n",
        "[k for k in train_tf_entry.keys()]"
      ],
      "execution_count": 34,
      "outputs": [
        {
          "output_type": "execute_result",
          "data": {
            "text/plain": [
              "['start',\n",
              " 'feat_static_cat',\n",
              " 'source',\n",
              " 'past_feat_dynamic_age',\n",
              " 'future_feat_dynamic_age',\n",
              " 'past_feat_dynamic_real',\n",
              " 'future_feat_dynamic_real',\n",
              " 'past_observed_values',\n",
              " 'future_observed_values',\n",
              " 'past_target',\n",
              " 'future_target',\n",
              " 'past_is_pad',\n",
              " 'forecast_start']"
            ]
          },
          "metadata": {
            "tags": []
          },
          "execution_count": 34
        }
      ]
    },
    {
      "cell_type": "markdown",
      "metadata": {
        "id": "dI3Bmi2hIBcT",
        "colab_type": "text"
      },
      "source": [
        "The transformer has done what we asked. In particular it has added:\n",
        "\n",
        "- a field for observed values (`observed_values`)  \n",
        "- a field for the age feature (`feat_dynamic_age`)\n",
        "- some extra useful fields (`past_is_pad`, `forecast_start`)\n",
        "\n",
        "It has done one more important thing: it has split the window into past and future and has added the corresponding prefixes to all time dependent fields. This way we can easily use e.g., the `past_target` field as input and the `future_target` field to calculate the error of our predictions. Of course, the length of the past is equal to the `context_length` and of the future equal to the `prediction_length`."
      ]
    },
    {
      "cell_type": "code",
      "metadata": {
        "id": "iUSMxRvOIBcU",
        "colab_type": "code",
        "colab": {
          "base_uri": "https://localhost:8080/",
          "height": 134
        },
        "outputId": "8b882c48-cc0a-43fc-b2a7-78dc8a2604aa"
      },
      "source": [
        "print(f\"past target shape: {train_tf_entry['past_target'].shape}\")\n",
        "print(f\"future target shape: {train_tf_entry['future_target'].shape}\")\n",
        "print(f\"past observed values shape: {train_tf_entry['past_observed_values'].shape}\")\n",
        "print(f\"future observed values shape: {train_tf_entry['future_observed_values'].shape}\")\n",
        "print(f\"past age feature shape: {train_tf_entry['past_feat_dynamic_age'].shape}\")\n",
        "print(f\"future age feature shape: {train_tf_entry['future_feat_dynamic_age'].shape}\")\n",
        "print(train_tf_entry['feat_static_cat'])"
      ],
      "execution_count": 35,
      "outputs": [
        {
          "output_type": "stream",
          "text": [
            "past target shape: (48,)\n",
            "future target shape: (24,)\n",
            "past observed values shape: (48,)\n",
            "future observed values shape: (24,)\n",
            "past age feature shape: (48, 1)\n",
            "future age feature shape: (24, 1)\n",
            "[0]\n"
          ],
          "name": "stdout"
        }
      ]
    },
    {
      "cell_type": "markdown",
      "metadata": {
        "id": "bAljo24EIBcW",
        "colab_type": "text"
      },
      "source": [
        "Just for comparison, let's see again what were the fields in the original dataset before the transformation:"
      ]
    },
    {
      "cell_type": "code",
      "metadata": {
        "id": "Ty1c6DzpIBcX",
        "colab_type": "code",
        "colab": {
          "base_uri": "https://localhost:8080/",
          "height": 34
        },
        "outputId": "68a8ef8a-4b2f-4ba3-bbd7-e298fa2e2bd9"
      },
      "source": [
        "[k for k in next(iter(train_ds)).keys()]"
      ],
      "execution_count": 36,
      "outputs": [
        {
          "output_type": "execute_result",
          "data": {
            "text/plain": [
              "['target', 'start', 'feat_dynamic_real', 'feat_static_cat', 'source']"
            ]
          },
          "metadata": {
            "tags": []
          },
          "execution_count": 36
        }
      ]
    },
    {
      "cell_type": "markdown",
      "metadata": {
        "id": "7nasShZDIBca",
        "colab_type": "text"
      },
      "source": [
        "Now, we can move on and see how the test dataset is split. As we saw, the transformation splits the windows into past and future. However, during inference (`is_train=False` in the transformation), the splitter always cuts the last window (of length `context_length`) of the dataset so it can be used to predict the subsequent unknown values of length `prediction_length`. \n",
        "\n",
        "So, how is the test dataset split in past and future since we do not know the future target? And what about the time dependent features?"
      ]
    },
    {
      "cell_type": "code",
      "metadata": {
        "id": "OCNhvxr-IBcb",
        "colab_type": "code",
        "colab": {}
      },
      "source": [
        "test_tf = transformation(iter(test_ds), is_train=False)"
      ],
      "execution_count": 0,
      "outputs": []
    },
    {
      "cell_type": "code",
      "metadata": {
        "id": "RUNEhBDDIBce",
        "colab_type": "code",
        "colab": {
          "base_uri": "https://localhost:8080/",
          "height": 235
        },
        "outputId": "f623a195-b305-493a-f2dd-ac8f4e206bc5"
      },
      "source": [
        "test_tf_entry = next(iter(test_tf))\n",
        "[k for k in test_tf_entry.keys()]"
      ],
      "execution_count": 38,
      "outputs": [
        {
          "output_type": "execute_result",
          "data": {
            "text/plain": [
              "['start',\n",
              " 'feat_static_cat',\n",
              " 'source',\n",
              " 'past_feat_dynamic_age',\n",
              " 'future_feat_dynamic_age',\n",
              " 'past_feat_dynamic_real',\n",
              " 'future_feat_dynamic_real',\n",
              " 'past_observed_values',\n",
              " 'future_observed_values',\n",
              " 'past_target',\n",
              " 'future_target',\n",
              " 'past_is_pad',\n",
              " 'forecast_start']"
            ]
          },
          "metadata": {
            "tags": []
          },
          "execution_count": 38
        }
      ]
    },
    {
      "cell_type": "code",
      "metadata": {
        "id": "4UZ5gCHOIBch",
        "colab_type": "code",
        "colab": {
          "base_uri": "https://localhost:8080/",
          "height": 134
        },
        "outputId": "1dd0ae37-04b0-4153-a10e-e1468495c3e7"
      },
      "source": [
        "print(f\"past target shape: {test_tf_entry['past_target'].shape}\")\n",
        "print(f\"future target shape: {test_tf_entry['future_target'].shape}\")\n",
        "print(f\"past observed values shape: {test_tf_entry['past_observed_values'].shape}\")\n",
        "print(f\"future observed values shape: {test_tf_entry['future_observed_values'].shape}\")\n",
        "print(f\"past age feature shape: {test_tf_entry['past_feat_dynamic_age'].shape}\")\n",
        "print(f\"future age feature shape: {test_tf_entry['future_feat_dynamic_age'].shape}\")\n",
        "print(test_tf_entry['feat_static_cat'])"
      ],
      "execution_count": 39,
      "outputs": [
        {
          "output_type": "stream",
          "text": [
            "past target shape: (48,)\n",
            "future target shape: (0,)\n",
            "past observed values shape: (48,)\n",
            "future observed values shape: (0,)\n",
            "past age feature shape: (48, 1)\n",
            "future age feature shape: (24, 1)\n",
            "[0]\n"
          ],
          "name": "stdout"
        }
      ]
    },
    {
      "cell_type": "markdown",
      "metadata": {
        "id": "CJJZ0qOgIBcm",
        "colab_type": "text"
      },
      "source": [
        "The future target is empty but not the features - we always assume that we know the future features!\n",
        "\n",
        "All the things we did manually here are done by an internal block called `DataLoader`. It gets as an input the raw dataset (in appropriate format) and the transformation object and it outputs the transformed iterable dataset batch by batch. The only thing that we need to worry about is setting the transformation fields correctly!"
      ]
    },
    {
      "cell_type": "markdown",
      "metadata": {
        "id": "_nCgyerRIBcn",
        "colab_type": "text"
      },
      "source": [
        "# 3. Training an existing model\n",
        "\n",
        "GluonTS comes with a number of pre-built models. All the user needs to do is configure some hyperparameters. The existing models focus on (but are not limited to) probabilistic forecasting. Probabilistic forecasts are predictions in the form of a probability distribution, rather than simply a single point estimate. Having estimated the future distribution of each time step in the forecasting horizon, we can draw a sample from the distribution at each time step and thus create a \"sample path\" that can be seen as a possible realization of the future. In practice we draw multiple samples and create multiple sample paths which can be used for visualization, evaluation of the model, to derive statistics, etc.\n",
        "\n",
        "## 3.1 Configuring an estimator\n",
        "\n",
        "We will begin with GulonTS's pre-built feedforward neural network estimator, a simple but powerful forecasting model. We will use this model to demonstrate the process of training a model, producing forecasts, and evaluating the results.\n",
        "\n",
        "GluonTS's built-in feedforward neural network (`SimpleFeedForwardEstimator`) accepts an input window of length `context_length` and predicts the distribution of the values of the subsequent `prediction_length` values. In GluonTS parlance, the feedforward neural network model is an example of `Estimator`. In GluonTS, `Estimator` objects represent a forecasting model as well as details such as its coefficients, weights, etc.\n",
        "\n",
        "In general, each estimator (pre-built or custom) is configured by a number of hyperparameters that can be either common (but not binding) among all estimators (e.g., the `prediction_length`) or specific for the particular estimator (e.g., number of layers for a neural network or the stride in a CNN).\n",
        "\n",
        "Finally, each estimator is configured by a `Trainer`, which defines how the model will be trained i.e., the number of epochs, the learning rate, etc."
      ]
    },
    {
      "cell_type": "code",
      "metadata": {
        "id": "iINZaJT5IBcp",
        "colab_type": "code",
        "colab": {
          "base_uri": "https://localhost:8080/",
          "height": 34
        },
        "outputId": "1cab881c-f005-44b9-a3c7-8748d2f1cb60"
      },
      "source": [
        "from gluonts.model.simple_feedforward import SimpleFeedForwardEstimator\n",
        "from gluonts.trainer import Trainer"
      ],
      "execution_count": 40,
      "outputs": [
        {
          "output_type": "stream",
          "text": [
            "INFO:root:Using GPU\n"
          ],
          "name": "stderr"
        }
      ]
    },
    {
      "cell_type": "code",
      "metadata": {
        "id": "P4NoHmvCIBcv",
        "colab_type": "code",
        "colab": {}
      },
      "source": [
        "estimator = SimpleFeedForwardEstimator(\n",
        "    num_hidden_dimensions=[10],\n",
        "    prediction_length=custom_ds_metadata['prediction_length'],\n",
        "    context_length=2*custom_ds_metadata['prediction_length'],\n",
        "    freq=custom_ds_metadata['freq'],\n",
        "    trainer=Trainer(ctx=\"cpu\", \n",
        "                    epochs=5, \n",
        "                    learning_rate=1e-3, \n",
        "                    hybridize=False, \n",
        "                    num_batches_per_epoch=100\n",
        "                   )\n",
        ")"
      ],
      "execution_count": 0,
      "outputs": []
    },
    {
      "cell_type": "markdown",
      "metadata": {
        "id": "S6euCgFEIBcy",
        "colab_type": "text"
      },
      "source": [
        "## 3.2 Getting a predictor\n",
        "\n",
        "After specifying our estimator with all the necessary hyperparameters we can train it using our training dataset `dataset.train` by invoking the `train` method of the estimator. The training algorithm returns a fitted model (or a `Predictor` in GluonTS parlance) that can be used to construct forecasts.\n",
        "\n",
        "We should emphasize here that a single model, as the one defined above, is trained over all the time series contained in the training dataset `train_ds`. This results in a **global** model, suitable for prediction for all the time series in `train_ds` and possibly for other unseen related time series."
      ]
    },
    {
      "cell_type": "code",
      "metadata": {
        "id": "ERSwvhCeIBcz",
        "colab_type": "code",
        "colab": {
          "base_uri": "https://localhost:8080/",
          "height": 474
        },
        "outputId": "f949b203-077a-442e-a8a3-210f834a781d"
      },
      "source": [
        "predictor = estimator.train(train_ds)"
      ],
      "execution_count": 42,
      "outputs": [
        {
          "output_type": "stream",
          "text": [
            "INFO:root:Start model training\n",
            "INFO:root:Epoch[0] Learning rate is 0.001\n",
            "  0%|          | 0/100 [00:00<?, ?it/s]INFO:root:Number of parameters in SimpleFeedForwardTrainingNetwork: 11793\n"
          ],
          "name": "stderr"
        },
        {
          "output_type": "stream",
          "text": [
            "learning rate from ``lr_scheduler`` has been overwritten by ``learning_rate`` in optimizer.\n"
          ],
          "name": "stdout"
        },
        {
          "output_type": "stream",
          "text": [
            "\r100%|██████████| 100/100 [00:00<00:00, 131.02it/s, avg_epoch_loss=1.24]\n",
            "INFO:root:Epoch[0] Elapsed time 0.770 seconds\n",
            "INFO:root:Epoch[0] Evaluation metric 'epoch_loss'=1.240270\n",
            "INFO:root:Epoch[1] Learning rate is 0.001\n",
            "100%|██████████| 100/100 [00:00<00:00, 135.75it/s, avg_epoch_loss=0.748]\n",
            "INFO:root:Epoch[1] Elapsed time 0.740 seconds\n",
            "INFO:root:Epoch[1] Evaluation metric 'epoch_loss'=0.747669\n",
            "INFO:root:Epoch[2] Learning rate is 0.001\n",
            "100%|██████████| 100/100 [00:00<00:00, 133.69it/s, avg_epoch_loss=0.688]\n",
            "INFO:root:Epoch[2] Elapsed time 0.751 seconds\n",
            "INFO:root:Epoch[2] Evaluation metric 'epoch_loss'=0.688022\n",
            "INFO:root:Epoch[3] Learning rate is 0.001\n",
            "100%|██████████| 100/100 [00:00<00:00, 132.96it/s, avg_epoch_loss=0.628]\n",
            "INFO:root:Epoch[3] Elapsed time 0.754 seconds\n",
            "INFO:root:Epoch[3] Evaluation metric 'epoch_loss'=0.627872\n",
            "INFO:root:Epoch[4] Learning rate is 0.001\n",
            "100%|██████████| 100/100 [00:00<00:00, 130.99it/s, avg_epoch_loss=0.601]\n",
            "INFO:root:Epoch[4] Elapsed time 0.766 seconds\n",
            "INFO:root:Epoch[4] Evaluation metric 'epoch_loss'=0.600992\n",
            "INFO:root:Loading parameters from best epoch (4)\n",
            "INFO:root:Final loss: 0.6009924691915512 (occurred at epoch 4)\n",
            "INFO:root:End model training\n"
          ],
          "name": "stderr"
        }
      ]
    },
    {
      "cell_type": "markdown",
      "metadata": {
        "id": "2l3l5kAsIBc3",
        "colab_type": "text"
      },
      "source": [
        "## 3.3 Saving/Loading an existing model\n",
        "\n",
        "A fitted model, i.e., a `Predictor`, can be saved and loaded back easily:"
      ]
    },
    {
      "cell_type": "code",
      "metadata": {
        "id": "XYza8gCrIBc4",
        "colab_type": "code",
        "colab": {
          "base_uri": "https://localhost:8080/",
          "height": 54
        },
        "outputId": "278d32d3-a6dd-4e2c-89fc-e45491b74bfb"
      },
      "source": [
        "# save the trained model in tmp/\n",
        "from pathlib import Path\n",
        "predictor.serialize(Path(\"/tmp/\"))"
      ],
      "execution_count": 43,
      "outputs": [
        {
          "output_type": "stream",
          "text": [
            "WARNING:root:Serializing RepresentableBlockPredictor instances does not save the prediction network structure in a backwards-compatible manner. Be careful not to use this method in production.\n"
          ],
          "name": "stderr"
        }
      ]
    },
    {
      "cell_type": "code",
      "metadata": {
        "id": "8ktWHWUZIBc7",
        "colab_type": "code",
        "colab": {
          "base_uri": "https://localhost:8080/",
          "height": 34
        },
        "outputId": "6625a394-9288-45fc-89a9-2900266f3c3d"
      },
      "source": [
        "# loads it back\n",
        "from gluonts.model.predictor import Predictor\n",
        "predictor_deserialized = Predictor.deserialize(Path(\"/tmp/\"))"
      ],
      "execution_count": 44,
      "outputs": [
        {
          "output_type": "stream",
          "text": [
            "INFO:root:Using GPU\n"
          ],
          "name": "stderr"
        }
      ]
    },
    {
      "cell_type": "markdown",
      "metadata": {
        "id": "bVx76viJIBc-",
        "colab_type": "text"
      },
      "source": [
        "# 4. Evaluation\n",
        "\n",
        "## 4.1 Getting the forecasts\n",
        "\n",
        "With a predictor in hand, we can now predict the last window of the `dataset.test` and evaluate our model's performance.\n",
        "\n",
        "GluonTS comes with the `make_evaluation_predictions` function that automates the process of prediction and model evaluation. Roughly, this function performs the following steps:\n",
        "\n",
        "- Removes the final window of length `prediction_length` of the `dataset.test` that we want to predict\n",
        "- The estimator uses the remaining data to predict (in the form of sample paths) the \"future\" window that was just removed\n",
        "- The module outputs the forecast sample paths and the `dataset.test` (as python generator objects)"
      ]
    },
    {
      "cell_type": "code",
      "metadata": {
        "id": "PEbeBeKMIBc-",
        "colab_type": "code",
        "colab": {}
      },
      "source": [
        "from gluonts.evaluation.backtest import make_evaluation_predictions"
      ],
      "execution_count": 0,
      "outputs": []
    },
    {
      "cell_type": "code",
      "metadata": {
        "id": "AjbsXN29IBdB",
        "colab_type": "code",
        "colab": {}
      },
      "source": [
        "forecast_it, ts_it = make_evaluation_predictions(\n",
        "    dataset=test_ds,  # test dataset\n",
        "    predictor=predictor,  # predictor\n",
        "    num_samples=100,  # number of sample paths we want for evaluation\n",
        ")"
      ],
      "execution_count": 0,
      "outputs": []
    },
    {
      "cell_type": "markdown",
      "metadata": {
        "id": "QjJPtJqsIBdE",
        "colab_type": "text"
      },
      "source": [
        "First, we can convert these generators to lists to ease the subsequent computations."
      ]
    },
    {
      "cell_type": "code",
      "metadata": {
        "id": "XJuAvM9FIBdF",
        "colab_type": "code",
        "colab": {}
      },
      "source": [
        "forecasts = list(forecast_it)\n",
        "tss = list(ts_it)"
      ],
      "execution_count": 0,
      "outputs": []
    },
    {
      "cell_type": "markdown",
      "metadata": {
        "id": "7gjTDEYzIBdK",
        "colab_type": "text"
      },
      "source": [
        "We can examine the first element of these lists (that corresponds to the first time series of the dataset). Let's start with the list containing the time series, i.e., `tss`. We expect the first entry of `tss` to contain the (target of the) first time series of `test_ds`."
      ]
    },
    {
      "cell_type": "code",
      "metadata": {
        "id": "a4dgdX0BIBdK",
        "colab_type": "code",
        "colab": {}
      },
      "source": [
        "# first entry of the time series list\n",
        "ts_entry = tss[0]"
      ],
      "execution_count": 0,
      "outputs": []
    },
    {
      "cell_type": "code",
      "metadata": {
        "id": "8na6BrRlIBdP",
        "colab_type": "code",
        "colab": {
          "base_uri": "https://localhost:8080/",
          "height": 50
        },
        "outputId": "8ec91668-410e-4fb7-a0c6-eb1ab38de7ad"
      },
      "source": [
        "# first 5 values of the time series (convert from pandas to numpy)\n",
        "np.array(ts_entry[:5]).reshape(-1,)"
      ],
      "execution_count": 49,
      "outputs": [
        {
          "output_type": "execute_result",
          "data": {
            "text/plain": [
              "array([1.5292157 , 0.85025036, 0.7740374 , 0.941432  , 0.6723822 ],\n",
              "      dtype=float32)"
            ]
          },
          "metadata": {
            "tags": []
          },
          "execution_count": 49
        }
      ]
    },
    {
      "cell_type": "code",
      "metadata": {
        "id": "b1y_lZ9SIBdU",
        "colab_type": "code",
        "colab": {}
      },
      "source": [
        "# first entry of test_ds\n",
        "test_ds_entry = next(iter(test_ds))"
      ],
      "execution_count": 0,
      "outputs": []
    },
    {
      "cell_type": "code",
      "metadata": {
        "id": "1O6f1iBmIBda",
        "colab_type": "code",
        "colab": {
          "base_uri": "https://localhost:8080/",
          "height": 50
        },
        "outputId": "271b7b71-60c3-4ff1-c951-e332a1055436"
      },
      "source": [
        "# first 5 values\n",
        "test_ds_entry['target'][:5]"
      ],
      "execution_count": 51,
      "outputs": [
        {
          "output_type": "execute_result",
          "data": {
            "text/plain": [
              "array([1.5292157 , 0.85025036, 0.7740374 , 0.941432  , 0.6723822 ],\n",
              "      dtype=float32)"
            ]
          },
          "metadata": {
            "tags": []
          },
          "execution_count": 51
        }
      ]
    },
    {
      "cell_type": "markdown",
      "metadata": {
        "id": "4fvX87xfIBdc",
        "colab_type": "text"
      },
      "source": [
        "The entries in the `forecast` list are a bit more complex. They are objects that contain all the sample paths in the form of `numpy.ndarray` with dimension `(num_samples, prediction_length)`, the start date of the forecast, the frequency of the time series, etc. We can access all these information by simply invoking the corresponding attribute of the forecast object."
      ]
    },
    {
      "cell_type": "code",
      "metadata": {
        "id": "mxvwQPhkIBdd",
        "colab_type": "code",
        "colab": {}
      },
      "source": [
        "# first entry of the forecast list\n",
        "forecast_entry = forecasts[0]"
      ],
      "execution_count": 0,
      "outputs": []
    },
    {
      "cell_type": "code",
      "metadata": {
        "id": "r1AUfM8_IBdf",
        "colab_type": "code",
        "colab": {
          "base_uri": "https://localhost:8080/",
          "height": 84
        },
        "outputId": "330964eb-8722-4bb4-d24e-01b9fa4ca299"
      },
      "source": [
        "print(f\"Number of sample paths: {forecast_entry.num_samples}\")\n",
        "print(f\"Dimension of samples: {forecast_entry.samples.shape}\")\n",
        "print(f\"Start date of the forecast window: {forecast_entry.start_date}\")\n",
        "print(f\"Frequency of the time series: {forecast_entry.freq}\")"
      ],
      "execution_count": 53,
      "outputs": [
        {
          "output_type": "stream",
          "text": [
            "Number of sample paths: 100\n",
            "Dimension of samples: (100, 24)\n",
            "Start date of the forecast window: 2019-01-07 00:00:00\n",
            "Frequency of the time series: 1H\n"
          ],
          "name": "stdout"
        }
      ]
    },
    {
      "cell_type": "markdown",
      "metadata": {
        "id": "0SWXzqplIBdj",
        "colab_type": "text"
      },
      "source": [
        "We can also do calculations to summarize the sample paths, such computing the mean or a quantile for each of the 48 time steps in the forecast window."
      ]
    },
    {
      "cell_type": "code",
      "metadata": {
        "id": "3u0rIcsiIBdk",
        "colab_type": "code",
        "colab": {
          "base_uri": "https://localhost:8080/",
          "height": 185
        },
        "outputId": "36414b10-ae2e-4ef5-b86d-a88f4a17e60e"
      },
      "source": [
        "print(f\"Mean of the future window:\\n {forecast_entry.mean}\")\n",
        "print(f\"0.5-quantile (median) of the future window:\\n {forecast_entry.quantile(0.5)}\")"
      ],
      "execution_count": 54,
      "outputs": [
        {
          "output_type": "stream",
          "text": [
            "Mean of the future window:\n",
            " [ 0.90204316  0.51493835  0.5936478   0.33699948 -0.02405785 -0.09633362\n",
            "  0.01381107  0.20371778  0.06646997  0.33810824  0.7028772   0.64642954\n",
            "  1.2103616   1.4521359   1.7268279   1.9151225   1.8562789   1.834727\n",
            "  2.0133848   1.8212173   1.7021965   1.6202233   1.3553894   1.085591  ]\n",
            "0.5-quantile (median) of the future window:\n",
            " [ 0.9203323   0.5516612   0.5740296   0.30386427  0.01295069 -0.12111781\n",
            "  0.06435521  0.1664624   0.01448222  0.34552938  0.72008365  0.67345566\n",
            "  1.1754255   1.319973    1.697102    1.945546    1.8559861   1.8195659\n",
            "  2.056098    1.8159965   1.7261842   1.6376164   1.4088318   1.087395  ]\n"
          ],
          "name": "stdout"
        }
      ]
    },
    {
      "cell_type": "markdown",
      "metadata": {
        "id": "XnDe8KxqIBdr",
        "colab_type": "text"
      },
      "source": [
        "`Forecast` objects have a `plot` method that can summarize the forecast paths as the mean, prediction intervals, etc. The prediction intervals are shaded in different colors as a \"fan chart\"."
      ]
    },
    {
      "cell_type": "code",
      "metadata": {
        "id": "2txFwEMvIBdr",
        "colab_type": "code",
        "colab": {}
      },
      "source": [
        "def plot_prob_forecasts(ts_entry, forecast_entry):\n",
        "    plot_length = 150 \n",
        "    prediction_intervals = (50.0, 90.0)\n",
        "    legend = [\"observations\", \"median prediction\"] + [f\"{k}% prediction interval\" for k in prediction_intervals][::-1]\n",
        "\n",
        "    fig, ax = plt.subplots(1, 1, figsize=(10, 7))\n",
        "    ts_entry[-plot_length:].plot(ax=ax)  # plot the time series\n",
        "    forecast_entry.plot(prediction_intervals=prediction_intervals, color='g')\n",
        "    plt.grid(which=\"both\")\n",
        "    plt.legend(legend, loc=\"upper left\")\n",
        "    plt.show()"
      ],
      "execution_count": 0,
      "outputs": []
    },
    {
      "cell_type": "code",
      "metadata": {
        "id": "mThCBxS7IBdu",
        "colab_type": "code",
        "colab": {
          "base_uri": "https://localhost:8080/",
          "height": 450
        },
        "outputId": "b216cb34-71f5-4390-e457-8ee6105becce"
      },
      "source": [
        "plot_prob_forecasts(ts_entry, forecast_entry)"
      ],
      "execution_count": 56,
      "outputs": [
        {
          "output_type": "display_data",
          "data": {
            "image/png": "[encoded data removed]",
            "text/plain": [
              "<Figure size 720x504 with 1 Axes>"
            ]
          },
          "metadata": {
            "tags": [],
            "needs_background": "light"
          }
        }
      ]
    },
    {
      "cell_type": "markdown",
      "metadata": {
        "id": "xthAeNRKIBdw",
        "colab_type": "text"
      },
      "source": [
        "## 4.2 Compute metrics\n",
        "\n",
        "We can also evaluate the quality of our forecasts numerically. In GluonTS, the `Evaluator` class can compute aggregate performance metrics, as well as metrics per time series (which can be useful for analyzing performance across heterogeneous time series)."
      ]
    },
    {
      "cell_type": "code",
      "metadata": {
        "id": "2xGqPbdWIBdw",
        "colab_type": "code",
        "colab": {}
      },
      "source": [
        "from gluonts.evaluation import Evaluator"
      ],
      "execution_count": 0,
      "outputs": []
    },
    {
      "cell_type": "code",
      "metadata": {
        "id": "pMt-9IwKIBdy",
        "colab_type": "code",
        "colab": {
          "base_uri": "https://localhost:8080/",
          "height": 34
        },
        "outputId": "ec5a21f7-8910-4703-882a-2c3258407515"
      },
      "source": [
        "evaluator = Evaluator(quantiles=[0.1, 0.5, 0.9])\n",
        "agg_metrics, item_metrics = evaluator(iter(tss), iter(forecasts), num_series=len(test_ds))"
      ],
      "execution_count": 58,
      "outputs": [
        {
          "output_type": "stream",
          "text": [
            "Running evaluation: 100%|██████████| 100/100 [00:00<00:00, 208.64it/s]\n"
          ],
          "name": "stderr"
        }
      ]
    },
    {
      "cell_type": "markdown",
      "metadata": {
        "id": "7SPDRRBgIBd0",
        "colab_type": "text"
      },
      "source": [
        "Aggregate metrics aggregate both across time-steps and across time series."
      ]
    },
    {
      "cell_type": "code",
      "metadata": {
        "id": "8jN28VHuIBd0",
        "colab_type": "code",
        "colab": {
          "base_uri": "https://localhost:8080/",
          "height": 420
        },
        "outputId": "d157d0e7-11cb-4ab0-81ec-189cd0be51c4"
      },
      "source": [
        "print(json.dumps(agg_metrics, indent=4))"
      ],
      "execution_count": 59,
      "outputs": [
        {
          "output_type": "stream",
          "text": [
            "{\n",
            "    \"MSE\": 0.10953698029120762,\n",
            "    \"abs_error\": 627.3649942874908,\n",
            "    \"abs_target_sum\": 2505.765546798706,\n",
            "    \"abs_target_mean\": 1.0440689778327943,\n",
            "    \"seasonal_error\": 0.3378558193842571,\n",
            "    \"MASE\": 0.780285458304357,\n",
            "    \"sMAPE\": 0.5334889240505679,\n",
            "    \"MSIS\": 6.8520087648528785,\n",
            "    \"QuantileLoss[0.1]\": 275.0190527237952,\n",
            "    \"Coverage[0.1]\": 0.11000000000000001,\n",
            "    \"QuantileLoss[0.5]\": 627.364994617179,\n",
            "    \"Coverage[0.5]\": 0.52375,\n",
            "    \"QuantileLoss[0.9]\": 295.6239844053983,\n",
            "    \"Coverage[0.9]\": 0.8870833333333334,\n",
            "    \"RMSE\": 0.3309637144630928,\n",
            "    \"NRMSE\": 0.3169941081384146,\n",
            "    \"ND\": 0.25036859297909747,\n",
            "    \"wQuantileLoss[0.1]\": 0.10975450319969146,\n",
            "    \"wQuantileLoss[0.5]\": 0.25036859311066934,\n",
            "    \"wQuantileLoss[0.9]\": 0.11797751181593145,\n",
            "    \"mean_wQuantileLoss\": 0.15936686937543074,\n",
            "    \"MAE_Coverage\": 0.015555555555555545\n",
            "}\n"
          ],
          "name": "stdout"
        }
      ]
    },
    {
      "cell_type": "markdown",
      "metadata": {
        "id": "u_QmWMCgIBd2",
        "colab_type": "text"
      },
      "source": [
        "Individual metrics are aggregated only across time-steps."
      ]
    },
    {
      "cell_type": "code",
      "metadata": {
        "id": "ApDJdSxeIBd2",
        "colab_type": "code",
        "colab": {
          "base_uri": "https://localhost:8080/",
          "height": 215
        },
        "outputId": "808a91d7-3315-4901-d959-271fe44a1142"
      },
      "source": [
        "item_metrics.head()"
      ],
      "execution_count": 60,
      "outputs": [
        {
          "output_type": "execute_result",
          "data": {
            "text/html": [
              "<div>\n",
              "<style scoped>\n",
              "    .dataframe tbody tr th:only-of-type {\n",
              "        vertical-align: middle;\n",
              "    }\n",
              "\n",
              "    .dataframe tbody tr th {\n",
              "        vertical-align: top;\n",
              "    }\n",
              "\n",
              "    .dataframe thead th {\n",
              "        text-align: right;\n",
              "    }\n",
              "</style>\n",
              "<table border=\"1\" class=\"dataframe\">\n",
              "  <thead>\n",
              "    <tr style=\"text-align: right;\">\n",
              "      <th></th>\n",
              "      <th>item_id</th>\n",
              "      <th>MSE</th>\n",
              "      <th>abs_error</th>\n",
              "      <th>abs_target_sum</th>\n",
              "      <th>abs_target_mean</th>\n",
              "      <th>seasonal_error</th>\n",
              "      <th>MASE</th>\n",
              "      <th>sMAPE</th>\n",
              "      <th>MSIS</th>\n",
              "      <th>QuantileLoss[0.1]</th>\n",
              "      <th>Coverage[0.1]</th>\n",
              "      <th>QuantileLoss[0.5]</th>\n",
              "      <th>Coverage[0.5]</th>\n",
              "      <th>QuantileLoss[0.9]</th>\n",
              "      <th>Coverage[0.9]</th>\n",
              "    </tr>\n",
              "  </thead>\n",
              "  <tbody>\n",
              "    <tr>\n",
              "      <th>0</th>\n",
              "      <td>NaN</td>\n",
              "      <td>0.128461</td>\n",
              "      <td>6.976123</td>\n",
              "      <td>24.638548</td>\n",
              "      <td>1.026606</td>\n",
              "      <td>0.351642</td>\n",
              "      <td>0.826614</td>\n",
              "      <td>0.577806</td>\n",
              "      <td>7.559731</td>\n",
              "      <td>2.343041</td>\n",
              "      <td>0.083333</td>\n",
              "      <td>6.976123</td>\n",
              "      <td>0.583333</td>\n",
              "      <td>3.667865</td>\n",
              "      <td>0.875000</td>\n",
              "    </tr>\n",
              "    <tr>\n",
              "      <th>1</th>\n",
              "      <td>NaN</td>\n",
              "      <td>0.113807</td>\n",
              "      <td>5.618374</td>\n",
              "      <td>22.178631</td>\n",
              "      <td>0.924110</td>\n",
              "      <td>0.340241</td>\n",
              "      <td>0.688038</td>\n",
              "      <td>0.555015</td>\n",
              "      <td>7.551937</td>\n",
              "      <td>3.036828</td>\n",
              "      <td>0.125000</td>\n",
              "      <td>5.618374</td>\n",
              "      <td>0.625000</td>\n",
              "      <td>2.672866</td>\n",
              "      <td>0.916667</td>\n",
              "    </tr>\n",
              "    <tr>\n",
              "      <th>2</th>\n",
              "      <td>NaN</td>\n",
              "      <td>0.130662</td>\n",
              "      <td>7.148982</td>\n",
              "      <td>26.601139</td>\n",
              "      <td>1.108381</td>\n",
              "      <td>0.323560</td>\n",
              "      <td>0.920616</td>\n",
              "      <td>0.581817</td>\n",
              "      <td>9.205860</td>\n",
              "      <td>2.880192</td>\n",
              "      <td>0.083333</td>\n",
              "      <td>7.148982</td>\n",
              "      <td>0.541667</td>\n",
              "      <td>3.267924</td>\n",
              "      <td>0.791667</td>\n",
              "    </tr>\n",
              "    <tr>\n",
              "      <th>3</th>\n",
              "      <td>NaN</td>\n",
              "      <td>0.128043</td>\n",
              "      <td>6.538382</td>\n",
              "      <td>22.502333</td>\n",
              "      <td>0.937597</td>\n",
              "      <td>0.311026</td>\n",
              "      <td>0.875916</td>\n",
              "      <td>0.620697</td>\n",
              "      <td>10.479602</td>\n",
              "      <td>3.365193</td>\n",
              "      <td>0.250000</td>\n",
              "      <td>6.538382</td>\n",
              "      <td>0.625000</td>\n",
              "      <td>3.451964</td>\n",
              "      <td>0.958333</td>\n",
              "    </tr>\n",
              "    <tr>\n",
              "      <th>4</th>\n",
              "      <td>NaN</td>\n",
              "      <td>0.080764</td>\n",
              "      <td>4.616325</td>\n",
              "      <td>25.864388</td>\n",
              "      <td>1.077683</td>\n",
              "      <td>0.313119</td>\n",
              "      <td>0.614292</td>\n",
              "      <td>0.466020</td>\n",
              "      <td>5.905589</td>\n",
              "      <td>2.155767</td>\n",
              "      <td>0.041667</td>\n",
              "      <td>4.616325</td>\n",
              "      <td>0.625000</td>\n",
              "      <td>3.201738</td>\n",
              "      <td>0.916667</td>\n",
              "    </tr>\n",
              "  </tbody>\n",
              "</table>\n",
              "</div>"
            ],
            "text/plain": [
              "   item_id       MSE  ...  QuantileLoss[0.9]  Coverage[0.9]\n",
              "0      NaN  0.128461  ...           3.667865       0.875000\n",
              "1      NaN  0.113807  ...           2.672866       0.916667\n",
              "2      NaN  0.130662  ...           3.267924       0.791667\n",
              "3      NaN  0.128043  ...           3.451964       0.958333\n",
              "4      NaN  0.080764  ...           3.201738       0.916667\n",
              "\n",
              "[5 rows x 15 columns]"
            ]
          },
          "metadata": {
            "tags": []
          },
          "execution_count": 60
        }
      ]
    },
    {
      "cell_type": "code",
      "metadata": {
        "id": "6p4kojwCIBd3",
        "colab_type": "code",
        "colab": {
          "base_uri": "https://localhost:8080/",
          "height": 279
        },
        "outputId": "c99b86ed-b52f-4f6b-a9bd-fccf8aa5e6ad"
      },
      "source": [
        "item_metrics.plot(x='MSIS', y='MASE', kind='scatter')\n",
        "plt.grid(which=\"both\")\n",
        "plt.show()"
      ],
      "execution_count": 61,
      "outputs": [
        {
          "output_type": "display_data",
          "data": {
            "image/png": "[encoded data removed]",
            "text/plain": [
              "<Figure size 432x288 with 1 Axes>"
            ]
          },
          "metadata": {
            "tags": [],
            "needs_background": "light"
          }
        }
      ]
    },
    {
      "cell_type": "markdown",
      "metadata": {
        "id": "szNNSH0WIBd6",
        "colab_type": "text"
      },
      "source": [
        "# 5. Create your own model\n",
        "\n",
        "For creating our own forecast model we need to:\n",
        "\n",
        "- Define the training and prediction network\n",
        "- Define a new estimator that specifies any data processing and uses the networks\n",
        "\n",
        "The training and prediction networks can be arbitrarily complex but they should follow some basic rules:\n",
        "\n",
        "- Both should have a `hybrid_forward` method that defines what should happen when the network is called    \n",
        "- The training network's `hybrid_forward` should return a **loss** based on the prediction and the true values\n",
        "- The prediction network's `hybrid_forward` should return the predictions \n",
        "\n",
        "The estimator should also follow some rules:\n",
        "\n",
        "- It should include a `create_transformation` method that defines all the possible feature transformations and how the data is split during training\n",
        "- It should include a `create_training_network` method that returns the training network configured with any necessary hyperparameters\n",
        "- It should include a `create_predictor` method that creates the prediction network, and returns a `Predictor` object \n",
        "\n",
        "A `Predictor` defines the `predictor.predict` method of a given predictor. This method takes the test dataset, it passes it through the prediction network to take the predictions, and yields the predictions. You can think of the `Predictor` object as a wrapper of the prediction network that defines its `predict` method. \n",
        "\n",
        "In this section, we will start simple by creating a feedforward network that is restricted to point forecasts. Then, we will add complexity to the network by expanding it to probabilistic forecasting, considering features and scaling of the time series, and in the end we will replace it with an RNN.\n",
        "\n",
        "We need to emphasize that the way the following models are implemented and all the design choices that are made are neither binding nor necessarily optimal. Their sole purpose is to provide guidelines and hints on how to build a model. \n",
        "\n",
        "## 5.1 Point forecasts with a simple feedforward network\n",
        "\n",
        "We can create a simple training network that defines a neural network that takes as input a window of length `context_length` and predicts the subsequent window of dimension `prediction_length` (thus, the output dimension of the network is `prediction_length`). The `hybrid_forward` method of the training network returns the mean of the L1 loss. \n",
        "\n",
        "The prediction network is (and should be) identical to the training network (by inheriting the class) and its `hybrid_forward` method returns the predictions."
      ]
    },
    {
      "cell_type": "code",
      "metadata": {
        "id": "xHKyMppjIBd6",
        "colab_type": "code",
        "colab": {}
      },
      "source": [
        "class MyNetwork(gluon.HybridBlock):\n",
        "    def __init__(self, prediction_length, num_cells, **kwargs):\n",
        "        super().__init__(**kwargs)\n",
        "        self.prediction_length = prediction_length\n",
        "        self.num_cells = num_cells\n",
        "    \n",
        "        with self.name_scope():\n",
        "            # Set up a 3 layer neural network that directly predicts the target values\n",
        "            self.nn = mx.gluon.nn.HybridSequential()\n",
        "            self.nn.add(mx.gluon.nn.Dense(units=self.num_cells, activation='relu'))\n",
        "            self.nn.add(mx.gluon.nn.Dense(units=self.num_cells, activation='relu'))\n",
        "            self.nn.add(mx.gluon.nn.Dense(units=self.prediction_length, activation='softrelu'))\n",
        "\n",
        "\n",
        "class MyTrainNetwork(MyNetwork):    \n",
        "    def hybrid_forward(self, F, past_target, future_target):\n",
        "        prediction = self.nn(past_target)\n",
        "        # calculate L1 loss with the future_target to learn the median\n",
        "        return (prediction - future_target).abs().mean(axis=-1)\n",
        "\n",
        "\n",
        "class MyPredNetwork(MyTrainNetwork):\n",
        "    # The prediction network only receives past_target and returns predictions\n",
        "    def hybrid_forward(self, F, past_target):\n",
        "        prediction = self.nn(past_target)\n",
        "        return prediction.expand_dims(axis=1)"
      ],
      "execution_count": 0,
      "outputs": []
    },
    {
      "cell_type": "markdown",
      "metadata": {
        "id": "UqA15181IBd8",
        "colab_type": "text"
      },
      "source": [
        "The estimator class is configured by a few hyperparameters and implements the required methods."
      ]
    },
    {
      "cell_type": "code",
      "metadata": {
        "id": "EvL7J1YCIBd8",
        "colab_type": "code",
        "colab": {}
      },
      "source": [
        "from gluonts.model.estimator import GluonEstimator\n",
        "from gluonts.model.predictor import Predictor, RepresentableBlockPredictor\n",
        "from gluonts.core.component import validated\n",
        "from gluonts.trainer import Trainer\n",
        "from gluonts.support.util import copy_parameters\n",
        "from gluonts.transform import ExpectedNumInstanceSampler, Transformation, InstanceSplitter\n",
        "from mxnet.gluon import HybridBlock"
      ],
      "execution_count": 0,
      "outputs": []
    },
    {
      "cell_type": "code",
      "metadata": {
        "id": "Qwtc-MOHIBd_",
        "colab_type": "code",
        "colab": {
          "base_uri": "https://localhost:8080/",
          "height": 34
        },
        "outputId": "0af8a331-b5f6-4926-8acb-132ae79983df"
      },
      "source": [
        "class MyEstimator(GluonEstimator):\n",
        "    @validated()\n",
        "    def __init__(\n",
        "        self,\n",
        "        prediction_length: int,\n",
        "        context_length: int,\n",
        "        freq: str,\n",
        "        num_cells: int,\n",
        "        trainer: Trainer = Trainer()\n",
        "    ) -> None:\n",
        "        super().__init__(trainer=trainer)\n",
        "        self.prediction_length = prediction_length\n",
        "        self.context_length = context_length\n",
        "        self.freq = freq\n",
        "        self.num_cells = num_cells\n",
        "            \n",
        "    def create_transformation(self):\n",
        "        # Feature transformation that the model uses for input\n",
        "        # Here we use a transformation that defines only how the train and test windows are cut\n",
        "        return InstanceSplitter(\n",
        "                    target_field=FieldName.TARGET,\n",
        "                    is_pad_field=FieldName.IS_PAD,\n",
        "                    start_field=FieldName.START,\n",
        "                    forecast_start_field=FieldName.FORECAST_START,\n",
        "                    train_sampler=ExpectedNumInstanceSampler(num_instances=1),\n",
        "                    past_length=self.context_length,\n",
        "                    future_length=self.prediction_length,\n",
        "                )\n",
        "    \n",
        "    def create_training_network(self) -> MyTrainNetwork:\n",
        "        return MyTrainNetwork(\n",
        "            prediction_length=self.prediction_length,\n",
        "            num_cells = self.num_cells\n",
        "        )\n",
        "\n",
        "    def create_predictor(\n",
        "        self, transformation: Transformation, trained_network: HybridBlock\n",
        "    ) -> Predictor:\n",
        "        prediction_network = MyPredNetwork(\n",
        "            prediction_length=self.prediction_length,\n",
        "            num_cells=self.num_cells\n",
        "        )\n",
        "\n",
        "        copy_parameters(trained_network, prediction_network)\n",
        "\n",
        "        return RepresentableBlockPredictor(\n",
        "            input_transform=transformation,\n",
        "            prediction_net=prediction_network,\n",
        "            batch_size=self.trainer.batch_size,\n",
        "            freq=self.freq,\n",
        "            prediction_length=self.prediction_length,\n",
        "            ctx=self.trainer.ctx,\n",
        "        )"
      ],
      "execution_count": 64,
      "outputs": [
        {
          "output_type": "stream",
          "text": [
            "INFO:root:Using GPU\n"
          ],
          "name": "stderr"
        }
      ]
    },
    {
      "cell_type": "markdown",
      "metadata": {
        "id": "4eH7bfPvIBeC",
        "colab_type": "text"
      },
      "source": [
        "After defining the training and prediction network, as well as the estimator class, we can follow exactly the same steps as with the existing models, i.e., we can specify our estimator by passing all the required hyperparameters to the estimator class, train the estimator by invoking its `train` method to create a predictor, and finally use the `make_evaluation_predictions` function to generate our forecasts."
      ]
    },
    {
      "cell_type": "code",
      "metadata": {
        "id": "pVoT190WIBeD",
        "colab_type": "code",
        "colab": {}
      },
      "source": [
        "estimator = MyEstimator(\n",
        "    prediction_length=custom_ds_metadata['prediction_length'],\n",
        "    context_length=2*custom_ds_metadata['prediction_length'],\n",
        "    freq=custom_ds_metadata['freq'],\n",
        "    num_cells=40,\n",
        "    trainer=Trainer(ctx=\"cpu\", \n",
        "                    epochs=5, \n",
        "                    learning_rate=1e-3, \n",
        "                    hybridize=False, \n",
        "                    num_batches_per_epoch=100\n",
        "                   )\n",
        ")"
      ],
      "execution_count": 0,
      "outputs": []
    },
    {
      "cell_type": "markdown",
      "metadata": {
        "id": "gu917M_iIBeF",
        "colab_type": "text"
      },
      "source": [
        "The estimator can be trained using our training dataset `train_ds` just by invoking its `train` method. The training returns a predictor that can be used to predict."
      ]
    },
    {
      "cell_type": "code",
      "metadata": {
        "id": "mR94rUXnIBeG",
        "colab_type": "code",
        "colab": {
          "base_uri": "https://localhost:8080/",
          "height": 474
        },
        "outputId": "effba8f7-87eb-42e0-c91c-7c65b9c3e067"
      },
      "source": [
        "predictor = estimator.train(train_ds)"
      ],
      "execution_count": 66,
      "outputs": [
        {
          "output_type": "stream",
          "text": [
            "INFO:root:Start model training\n",
            "INFO:root:Epoch[0] Learning rate is 0.001\n",
            "  0%|          | 0/100 [00:00<?, ?it/s]INFO:root:Number of parameters in MyTrainNetwork: 4584\n"
          ],
          "name": "stderr"
        },
        {
          "output_type": "stream",
          "text": [
            "learning rate from ``lr_scheduler`` has been overwritten by ``learning_rate`` in optimizer.\n"
          ],
          "name": "stdout"
        },
        {
          "output_type": "stream",
          "text": [
            "\r100%|██████████| 100/100 [00:00<00:00, 227.98it/s, avg_epoch_loss=0.478]\n",
            "INFO:root:Epoch[0] Elapsed time 0.441 seconds\n",
            "INFO:root:Epoch[0] Evaluation metric 'epoch_loss'=0.477669\n",
            "INFO:root:Epoch[1] Learning rate is 0.001\n",
            "100%|██████████| 100/100 [00:00<00:00, 247.48it/s, avg_epoch_loss=0.319]\n",
            "INFO:root:Epoch[1] Elapsed time 0.407 seconds\n",
            "INFO:root:Epoch[1] Evaluation metric 'epoch_loss'=0.318605\n",
            "INFO:root:Epoch[2] Learning rate is 0.001\n",
            "100%|██████████| 100/100 [00:00<00:00, 228.47it/s, avg_epoch_loss=0.302]\n",
            "INFO:root:Epoch[2] Elapsed time 0.441 seconds\n",
            "INFO:root:Epoch[2] Evaluation metric 'epoch_loss'=0.301619\n",
            "INFO:root:Epoch[3] Learning rate is 0.001\n",
            "100%|██████████| 100/100 [00:00<00:00, 239.83it/s, avg_epoch_loss=0.291]\n",
            "INFO:root:Epoch[3] Elapsed time 0.420 seconds\n",
            "INFO:root:Epoch[3] Evaluation metric 'epoch_loss'=0.290552\n",
            "INFO:root:Epoch[4] Learning rate is 0.001\n",
            "100%|██████████| 100/100 [00:00<00:00, 229.36it/s, avg_epoch_loss=0.284]\n",
            "INFO:root:Epoch[4] Elapsed time 0.439 seconds\n",
            "INFO:root:Epoch[4] Evaluation metric 'epoch_loss'=0.284362\n",
            "INFO:root:Loading parameters from best epoch (4)\n",
            "INFO:root:Final loss: 0.2843624013662338 (occurred at epoch 4)\n",
            "INFO:root:End model training\n"
          ],
          "name": "stderr"
        }
      ]
    },
    {
      "cell_type": "code",
      "metadata": {
        "id": "EsDvSKmAIBeK",
        "colab_type": "code",
        "colab": {}
      },
      "source": [
        "forecast_it, ts_it = make_evaluation_predictions(\n",
        "    dataset=test_ds,  # test dataset\n",
        "    predictor=predictor,  # predictor\n",
        "    num_samples=100,  # number of sample paths we want for evaluation\n",
        ")"
      ],
      "execution_count": 0,
      "outputs": []
    },
    {
      "cell_type": "code",
      "metadata": {
        "id": "Nlh_3GSsIBeO",
        "colab_type": "code",
        "colab": {}
      },
      "source": [
        "forecasts = list(forecast_it)\n",
        "tss = list(ts_it)"
      ],
      "execution_count": 0,
      "outputs": []
    },
    {
      "cell_type": "code",
      "metadata": {
        "id": "2S-fUS_GIBeQ",
        "colab_type": "code",
        "colab": {
          "base_uri": "https://localhost:8080/",
          "height": 450
        },
        "outputId": "e440fe9c-c311-42b0-d48f-2d8a138f1527"
      },
      "source": [
        "plot_prob_forecasts(tss[0], forecasts[0])"
      ],
      "execution_count": 69,
      "outputs": [
        {
          "output_type": "display_data",
          "data": {
            "image/png": "[encoded data removed]",
            "text/plain": [
              "<Figure size 720x504 with 1 Axes>"
            ]
          },
          "metadata": {
            "tags": [],
            "needs_background": "light"
          }
        }
      ]
    },
    {
      "cell_type": "markdown",
      "metadata": {
        "id": "NEtmMGweIBeS",
        "colab_type": "text"
      },
      "source": [
        "Observe that we cannot actually see any prediction intervals in the predictions. This is expected since the model that we defined does not do probabilistic forecasting but it just gives point estimates. By requiring 100 sample paths (defined in `make_evaluation_predictions`) in such a network, we get 100 times the same output.\n",
        "\n",
        "## 5.2 Probabilistic forecasting\n",
        "\n",
        "### 5.2.1 How does a model learn a distribution?\n",
        "\n",
        "Probabilistic forecasting requires that we learn the distribution of the future values of the time series and not the values themselves as in point forecasting. To achieve this, we need to specify the type of distribution that the future values follow. GluonTS comes with a number of different distributions that cover many use cases, such as Gaussian, Student-t and Uniform just to name a few.  \n",
        "\n",
        "\n",
        "In order to learn a distribution we need to learn its parameters. For example, in the simple case where we assume a Gaussian distribution, we need to learn the mean and the variance that fully specify the distribution.\n",
        "\n",
        "Each distribution that is available in GluonTS is defined by the corresponding `Distribution` class (e.g., `Gaussian`). This class defines -among others- the parameters of the distribution, its (log-)likelihood and a sampling method (given the parameters). \n",
        "\n",
        "However, it is not straightforward how to connect a model with such a distribution and learn its parameters. For this, each distribution comes with a `DistributionOutput` class (e.g., `GaussianOutput`). The role of this class is to connect a model with a distribution. Its main usage is to take the output of the model and map it to the parameters of the distribution. You can think of it as an additional projection layer on top of the model. The parameters of this layer are optimized along with the rest of the network.\n",
        "\n",
        "By including this projection layer, our model effectively learns the parameters of the (chosen) distribution of each time step. Such a model is usually optimized by choosing as a loss function the negative log-likelihood of the chosen distribution. After we optimize our model and learn the parameters we can sample or derive any other useful statistics from the learned distributions.\n",
        "\n",
        "### 5.2.2 Feedforward network for probabilistic forecasting\n",
        "\n",
        "Let's see what changes we need to make to the previous model to make it probabilistic: \n",
        "\n",
        "- First, we need to change the output of the network. In the point forecast network the output was a vector of length `prediction_length` that gave directly the point estimates. Now, we need to output a set of features that the `DistributionOutput` will use to project to the distribution parameters. These features should be different for each time step at the prediction horizon. Therefore we need an overall output of `prediction_length * num_features` values.\n",
        "- The `DistributionOutput` takes as input a tensor and uses the last dimension as features to be projected to the distribution parameters. Here, we need a distribution object for each time step, i.e., `prediction_length` distribution objects. Given that the output of the network has `prediction_length * num_features` values, we can reshape it to `(prediction_length, num_features)` and get the required distributions, while the last axis of length `num_features` will be projected to the distribution parameters. \n",
        "- We want the prediction network to output many sample paths for each time series. To achieve this we can repeat each time series as many times as the number of sample paths and do a standard forecast for each of them. \n",
        "\n",
        "Note that in all the tensors that we handle there is an initial dimension that refers to the batch, e.g., the output of the network has dimension `(batch_size, prediction_length * num_features)`."
      ]
    },
    {
      "cell_type": "code",
      "metadata": {
        "id": "gCt51zVtIBeT",
        "colab_type": "code",
        "colab": {}
      },
      "source": [
        "from gluonts.distribution.distribution_output import DistributionOutput\n",
        "from gluonts.distribution.gaussian import GaussianOutput"
      ],
      "execution_count": 0,
      "outputs": []
    },
    {
      "cell_type": "code",
      "metadata": {
        "id": "sU2i01ePIBeV",
        "colab_type": "code",
        "colab": {}
      },
      "source": [
        "class MyProbNetwork(gluon.HybridBlock):\n",
        "    def __init__(self, \n",
        "                 prediction_length, \n",
        "                 distr_output, \n",
        "                 num_cells, \n",
        "                 num_sample_paths=100, \n",
        "                 **kwargs\n",
        "    ) -> None:\n",
        "        super().__init__(**kwargs)\n",
        "        self.prediction_length = prediction_length\n",
        "        self.distr_output = distr_output\n",
        "        self.num_cells = num_cells\n",
        "        self.num_sample_paths = num_sample_paths\n",
        "        self.proj_distr_args = distr_output.get_args_proj()\n",
        "\n",
        "        with self.name_scope():\n",
        "            # Set up a 2 layer neural network that its ouput will be projected to the distribution parameters\n",
        "            self.nn = mx.gluon.nn.HybridSequential()\n",
        "            self.nn.add(mx.gluon.nn.Dense(units=self.num_cells, activation='relu'))\n",
        "            self.nn.add(mx.gluon.nn.Dense(units=self.prediction_length * self.num_cells, activation='relu'))\n",
        "\n",
        "\n",
        "class MyProbTrainNetwork(MyProbNetwork):\n",
        "    def hybrid_forward(self, F, past_target, future_target):\n",
        "        # compute network output\n",
        "        net_output = self.nn(past_target)\n",
        "\n",
        "        # (batch, prediction_length * nn_features)  ->  (batch, prediction_length, nn_features)\n",
        "        net_output = net_output.reshape(0, self.prediction_length, -1)\n",
        "\n",
        "        # project network output to distribution parameters domain\n",
        "        distr_args = self.proj_distr_args(net_output)\n",
        "\n",
        "        # compute distribution\n",
        "        distr = self.distr_output.distribution(distr_args)\n",
        "\n",
        "        # negative log-likelihood\n",
        "        loss = distr.loss(future_target)\n",
        "        return loss\n",
        "\n",
        "\n",
        "class MyProbPredNetwork(MyProbTrainNetwork):\n",
        "    # The prediction network only receives past_target and returns predictions\n",
        "    def hybrid_forward(self, F, past_target):\n",
        "        # repeat past target: from (batch_size, past_target_length) to \n",
        "        # (batch_size * num_sample_paths, past_target_length)\n",
        "        repeated_past_target = past_target.repeat(\n",
        "            repeats=self.num_sample_paths, axis=0\n",
        "        )\n",
        "        \n",
        "        # compute network output\n",
        "        net_output = self.nn(repeated_past_target)\n",
        "\n",
        "        # (batch * num_sample_paths, prediction_length * nn_features)  ->  (batch * num_sample_paths, prediction_length, nn_features)\n",
        "        net_output = net_output.reshape(0, self.prediction_length, -1)\n",
        "       \n",
        "        # project network output to distribution parameters domain\n",
        "        distr_args = self.proj_distr_args(net_output)\n",
        "\n",
        "        # compute distribution\n",
        "        distr = self.distr_output.distribution(distr_args)\n",
        "\n",
        "        # get (batch_size * num_sample_paths, prediction_length) samples\n",
        "        samples = distr.sample()\n",
        "        \n",
        "        # reshape from (batch_size * num_sample_paths, prediction_length) to \n",
        "        # (batch_size, num_sample_paths, prediction_length)\n",
        "        return samples.reshape(shape=(-1, self.num_sample_paths, self.prediction_length))"
      ],
      "execution_count": 0,
      "outputs": []
    },
    {
      "cell_type": "markdown",
      "metadata": {
        "id": "LN9kYaK6IBeX",
        "colab_type": "text"
      },
      "source": [
        "The changes we need to do at the estimator are minor and they mainly reflect the additional `distr_output` parameter that our networks use."
      ]
    },
    {
      "cell_type": "code",
      "metadata": {
        "id": "r9ZeX0p6IBeY",
        "colab_type": "code",
        "colab": {
          "base_uri": "https://localhost:8080/",
          "height": 34
        },
        "outputId": "71a278f3-1b3c-4153-bfe1-1fcb65d72a09"
      },
      "source": [
        "class MyProbEstimator(GluonEstimator):\n",
        "    @validated()\n",
        "    def __init__(\n",
        "            self,\n",
        "            prediction_length: int,\n",
        "            context_length: int,\n",
        "            freq: str,\n",
        "            distr_output: DistributionOutput,\n",
        "            num_cells: int,\n",
        "            num_sample_paths: int = 100,\n",
        "            trainer: Trainer = Trainer()\n",
        "    ) -> None:\n",
        "        super().__init__(trainer=trainer)\n",
        "        self.prediction_length = prediction_length\n",
        "        self.context_length = context_length\n",
        "        self.freq = freq\n",
        "        self.distr_output = distr_output\n",
        "        self.num_cells = num_cells\n",
        "        self.num_sample_paths = num_sample_paths\n",
        "\n",
        "    def create_transformation(self):\n",
        "        return InstanceSplitter(\n",
        "            target_field=FieldName.TARGET,\n",
        "            is_pad_field=FieldName.IS_PAD,\n",
        "            start_field=FieldName.START,\n",
        "            forecast_start_field=FieldName.FORECAST_START,\n",
        "            train_sampler=ExpectedNumInstanceSampler(num_instances=1),\n",
        "            past_length=self.context_length,\n",
        "            future_length=self.prediction_length,\n",
        "        )\n",
        "\n",
        "    def create_training_network(self) -> MyProbTrainNetwork:\n",
        "        return MyProbTrainNetwork(\n",
        "            prediction_length=self.prediction_length,\n",
        "            distr_output=self.distr_output,\n",
        "            num_cells=self.num_cells,\n",
        "            num_sample_paths=self.num_sample_paths\n",
        "        )\n",
        "\n",
        "    def create_predictor(\n",
        "            self, transformation: Transformation, trained_network: HybridBlock\n",
        "    ) -> Predictor:\n",
        "        prediction_network = MyProbPredNetwork(\n",
        "            prediction_length=self.prediction_length,\n",
        "            distr_output=self.distr_output,\n",
        "            num_cells=self.num_cells,\n",
        "            num_sample_paths=self.num_sample_paths\n",
        "        )\n",
        "\n",
        "        copy_parameters(trained_network, prediction_network)\n",
        "\n",
        "        return RepresentableBlockPredictor(\n",
        "            input_transform=transformation,\n",
        "            prediction_net=prediction_network,\n",
        "            batch_size=self.trainer.batch_size,\n",
        "            freq=self.freq,\n",
        "            prediction_length=self.prediction_length,\n",
        "            ctx=self.trainer.ctx,\n",
        "        )"
      ],
      "execution_count": 72,
      "outputs": [
        {
          "output_type": "stream",
          "text": [
            "INFO:root:Using GPU\n"
          ],
          "name": "stderr"
        }
      ]
    },
    {
      "cell_type": "code",
      "metadata": {
        "id": "_S4lOy1uIBed",
        "colab_type": "code",
        "colab": {}
      },
      "source": [
        "estimator = MyProbEstimator(\n",
        "    prediction_length=custom_ds_metadata['prediction_length'],\n",
        "    context_length=2*custom_ds_metadata['prediction_length'],\n",
        "    freq=custom_ds_metadata['freq'],\n",
        "    distr_output=GaussianOutput(),\n",
        "    num_cells=40,\n",
        "    trainer=Trainer(ctx=\"cpu\", \n",
        "                    epochs=5, \n",
        "                    learning_rate=1e-3, \n",
        "                    hybridize=False, \n",
        "                    num_batches_per_epoch=100\n",
        "                   )\n",
        ")"
      ],
      "execution_count": 0,
      "outputs": []
    },
    {
      "cell_type": "code",
      "metadata": {
        "id": "Nky39IMEIBef",
        "colab_type": "code",
        "colab": {
          "base_uri": "https://localhost:8080/",
          "height": 474
        },
        "outputId": "9b0de405-49ee-47de-ea62-881f729b2867"
      },
      "source": [
        "predictor = estimator.train(train_ds)"
      ],
      "execution_count": 74,
      "outputs": [
        {
          "output_type": "stream",
          "text": [
            "INFO:root:Start model training\n",
            "INFO:root:Epoch[0] Learning rate is 0.001\n",
            "  0%|          | 0/100 [00:00<?, ?it/s]INFO:root:Number of parameters in MyProbTrainNetwork: 41402\n"
          ],
          "name": "stderr"
        },
        {
          "output_type": "stream",
          "text": [
            "learning rate from ``lr_scheduler`` has been overwritten by ``learning_rate`` in optimizer.\n"
          ],
          "name": "stdout"
        },
        {
          "output_type": "stream",
          "text": [
            "\r100%|██████████| 100/100 [00:00<00:00, 172.33it/s, avg_epoch_loss=0.761]\n",
            "INFO:root:Epoch[0] Elapsed time 0.585 seconds\n",
            "INFO:root:Epoch[0] Evaluation metric 'epoch_loss'=0.761439\n",
            "INFO:root:Epoch[1] Learning rate is 0.001\n",
            "100%|██████████| 100/100 [00:00<00:00, 177.22it/s, avg_epoch_loss=0.411]\n",
            "INFO:root:Epoch[1] Elapsed time 0.567 seconds\n",
            "INFO:root:Epoch[1] Evaluation metric 'epoch_loss'=0.411217\n",
            "INFO:root:Epoch[2] Learning rate is 0.001\n",
            "100%|██████████| 100/100 [00:00<00:00, 176.33it/s, avg_epoch_loss=0.363]\n",
            "INFO:root:Epoch[2] Elapsed time 0.570 seconds\n",
            "INFO:root:Epoch[2] Evaluation metric 'epoch_loss'=0.362894\n",
            "INFO:root:Epoch[3] Learning rate is 0.001\n",
            "100%|██████████| 100/100 [00:00<00:00, 180.59it/s, avg_epoch_loss=0.357]\n",
            "INFO:root:Epoch[3] Elapsed time 0.557 seconds\n",
            "INFO:root:Epoch[3] Evaluation metric 'epoch_loss'=0.356673\n",
            "INFO:root:Epoch[4] Learning rate is 0.001\n",
            "100%|██████████| 100/100 [00:00<00:00, 165.93it/s, avg_epoch_loss=0.343]\n",
            "INFO:root:Epoch[4] Elapsed time 0.605 seconds\n",
            "INFO:root:Epoch[4] Evaluation metric 'epoch_loss'=0.343174\n",
            "INFO:root:Loading parameters from best epoch (4)\n",
            "INFO:root:Final loss: 0.34317372282346087 (occurred at epoch 4)\n",
            "INFO:root:End model training\n"
          ],
          "name": "stderr"
        }
      ]
    },
    {
      "cell_type": "code",
      "metadata": {
        "id": "cpUNlKxIIBeh",
        "colab_type": "code",
        "colab": {}
      },
      "source": [
        "forecast_it, ts_it = make_evaluation_predictions(\n",
        "    dataset=test_ds,  # test dataset\n",
        "    predictor=predictor,  # predictor\n",
        "    num_samples=100,  # number of sample paths we want for evaluation\n",
        ")"
      ],
      "execution_count": 0,
      "outputs": []
    },
    {
      "cell_type": "code",
      "metadata": {
        "id": "VC91XEgfIBek",
        "colab_type": "code",
        "colab": {}
      },
      "source": [
        "forecasts = list(forecast_it)\n",
        "tss = list(ts_it)"
      ],
      "execution_count": 0,
      "outputs": []
    },
    {
      "cell_type": "code",
      "metadata": {
        "id": "gdvThjpNIBen",
        "colab_type": "code",
        "colab": {
          "base_uri": "https://localhost:8080/",
          "height": 450
        },
        "outputId": "f280e715-d555-43f0-c365-b4df445a1ee9"
      },
      "source": [
        "plot_prob_forecasts(tss[0], forecasts[0])"
      ],
      "execution_count": 77,
      "outputs": [
        {
          "output_type": "display_data",
          "data": {
            "image/png": "[encoded data removed]",
            "text/plain": [
              "<Figure size 720x504 with 1 Axes>"
            ]
          },
          "metadata": {
            "tags": [],
            "needs_background": "light"
          }
        }
      ]
    },
    {
      "cell_type": "markdown",
      "metadata": {
        "id": "7wYwrya_IBep",
        "colab_type": "text"
      },
      "source": [
        "## 5.3 Add features and scaling\n",
        "\n",
        "In the previous networks we used only the target and did not leverage any of the features of the dataset. Here we expand the probabilistic network by including the `feat_dynamic_real` field of the dataset that could enhance the forecasting power of our model. We achieve this by concatenating the target and the features to an enhanced vector that forms the new network input. \n",
        "\n",
        "All the features that are available in a dataset can be potentially used as inputs to our model. However, for the purposes of this example we will restrict ourselves to using only one feature.\n",
        "\n",
        "An important issue that a practitioner needs to deal with often is the different orders of magnitude in the values of the time series in a dataset. It is extremely helpful for a model to be trained and forecast values that lie roughly in the same value range. To address this issue, we add a `Scaler` to out model, that computes the scale of each time series. Then we can scale accordingly the values of the time series or any related features and use these as inputs to the network."
      ]
    },
    {
      "cell_type": "code",
      "metadata": {
        "id": "zBpK0ovVIBep",
        "colab_type": "code",
        "colab": {}
      },
      "source": [
        "from gluonts.block.scaler import MeanScaler, NOPScaler"
      ],
      "execution_count": 0,
      "outputs": []
    },
    {
      "cell_type": "code",
      "metadata": {
        "id": "RInLyU8mIBer",
        "colab_type": "code",
        "colab": {}
      },
      "source": [
        "class MyProbNetwork(gluon.HybridBlock):\n",
        "    def __init__(self, \n",
        "                 prediction_length, \n",
        "                 context_length, \n",
        "                 distr_output, \n",
        "                 num_cells, \n",
        "                 num_sample_paths=100, \n",
        "                 scaling=True, \n",
        "                 **kwargs\n",
        "    ) -> None:\n",
        "        super().__init__(**kwargs)\n",
        "        self.prediction_length = prediction_length\n",
        "        self.context_length = context_length\n",
        "        self.distr_output = distr_output\n",
        "        self.num_cells = num_cells\n",
        "        self.num_sample_paths = num_sample_paths\n",
        "        self.proj_distr_args = distr_output.get_args_proj()\n",
        "        self.scaling = scaling\n",
        "\n",
        "        with self.name_scope():\n",
        "            # Set up a 2 layer neural network that its ouput will be projected to the distribution parameters\n",
        "            self.nn = mx.gluon.nn.HybridSequential()\n",
        "            self.nn.add(mx.gluon.nn.Dense(units=self.num_cells, activation='relu'))\n",
        "            self.nn.add(mx.gluon.nn.Dense(units=self.prediction_length * self.num_cells, activation='relu'))\n",
        "\n",
        "            if scaling:\n",
        "                self.scaler = MeanScaler(keepdims=True)\n",
        "            else:\n",
        "                self.scaler = NOPScaler(keepdims=True)\n",
        "\n",
        "    def compute_scale(self, past_target, past_observed_values):\n",
        "        # scale shape is (batch_size, 1)\n",
        "        _, scale = self.scaler(\n",
        "            past_target.slice_axis(\n",
        "                axis=1, begin=-self.context_length, end=None\n",
        "            ),\n",
        "            past_observed_values.slice_axis(\n",
        "                axis=1, begin=-self.context_length, end=None\n",
        "            ),\n",
        "        )\n",
        "\n",
        "        return scale\n",
        "\n",
        "\n",
        "class MyProbTrainNetwork(MyProbNetwork):\n",
        "    def hybrid_forward(self, F, past_target, future_target, past_observed_values, past_feat_dynamic_real):\n",
        "        # compute scale \n",
        "        scale = self.compute_scale(past_target, past_observed_values)\n",
        "\n",
        "        # scale target and time features\n",
        "        past_target_scale = F.broadcast_div(past_target, scale)\n",
        "        past_feat_dynamic_real_scale = F.broadcast_div(past_feat_dynamic_real.squeeze(axis=-1), scale)\n",
        "\n",
        "        # concatenate target and time features to use them as input to the network\n",
        "        net_input = F.concat(past_target_scale, past_feat_dynamic_real_scale, dim=-1)\n",
        "\n",
        "        # compute network output\n",
        "        net_output = self.nn(net_input)\n",
        "\n",
        "        # (batch, prediction_length * nn_features)  ->  (batch, prediction_length, nn_features)\n",
        "        net_output = net_output.reshape(0, self.prediction_length, -1)\n",
        "\n",
        "        # project network output to distribution parameters domain\n",
        "        distr_args = self.proj_distr_args(net_output)\n",
        "\n",
        "        # compute distribution\n",
        "        distr = self.distr_output.distribution(distr_args, scale=scale)\n",
        "\n",
        "        # negative log-likelihood\n",
        "        loss = distr.loss(future_target)\n",
        "        return loss\n",
        "\n",
        "\n",
        "class MyProbPredNetwork(MyProbTrainNetwork):\n",
        "    # The prediction network only receives past_target and returns predictions\n",
        "    def hybrid_forward(self, F, past_target, past_observed_values, past_feat_dynamic_real):\n",
        "        # repeat fields: from (batch_size, past_target_length) to\n",
        "        # (batch_size * num_sample_paths, past_target_length)\n",
        "        repeated_past_target = past_target.repeat(\n",
        "            repeats=self.num_sample_paths, axis=0\n",
        "        )\n",
        "        repeated_past_observed_values = past_observed_values.repeat(\n",
        "            repeats=self.num_sample_paths, axis=0\n",
        "        )\n",
        "        repeated_past_feat_dynamic_real = past_feat_dynamic_real.repeat(\n",
        "            repeats=self.num_sample_paths, axis=0\n",
        "        )\n",
        "        \n",
        "        # compute scale\n",
        "        scale = self.compute_scale(repeated_past_target, repeated_past_observed_values)\n",
        "\n",
        "        # scale repeated target and time features\n",
        "        repeated_past_target_scale = F.broadcast_div(repeated_past_target, scale)\n",
        "        repeated_past_feat_dynamic_real_scale = F.broadcast_div(repeated_past_feat_dynamic_real.squeeze(axis=-1), scale)\n",
        "\n",
        "        # concatenate target and time features to use them as input to the network\n",
        "        net_input = F.concat(repeated_past_target_scale, repeated_past_feat_dynamic_real_scale, dim=-1)\n",
        "\n",
        "        # compute network oputput\n",
        "        net_output = self.nn(net_input)\n",
        "        \n",
        "        # (batch * num_sample_paths, prediction_length * nn_features)  ->  (batch * num_sample_paths, prediction_length, nn_features)\n",
        "        net_output = net_output.reshape(0, self.prediction_length, -1)\n",
        "\n",
        "        # project network output to distribution parameters domain\n",
        "        distr_args = self.proj_distr_args(net_output)\n",
        "        \n",
        "        # compute distribution\n",
        "        distr = self.distr_output.distribution(distr_args, scale=scale)\n",
        "\n",
        "        # get (batch_size * num_sample_paths, prediction_length) samples\n",
        "        samples = distr.sample()\n",
        "\n",
        "        # reshape from (batch_size * num_sample_paths, prediction_length) to\n",
        "        # (batch_size, num_sample_paths, prediction_length)\n",
        "        return samples.reshape(shape=(-1, self.num_sample_paths, self.prediction_length))"
      ],
      "execution_count": 0,
      "outputs": []
    },
    {
      "cell_type": "code",
      "metadata": {
        "id": "9fJUyvDuIBet",
        "colab_type": "code",
        "colab": {
          "base_uri": "https://localhost:8080/",
          "height": 34
        },
        "outputId": "6bc6b5ff-e43f-40fe-da72-592249574383"
      },
      "source": [
        "class MyProbEstimator(GluonEstimator):\n",
        "    @validated()\n",
        "    def __init__(\n",
        "            self,\n",
        "            prediction_length: int,\n",
        "            context_length: int,\n",
        "            freq: str,\n",
        "            distr_output: DistributionOutput,\n",
        "            num_cells: int,\n",
        "            num_sample_paths: int = 100,\n",
        "            scaling: bool = True,\n",
        "            trainer: Trainer = Trainer()\n",
        "    ) -> None:\n",
        "        super().__init__(trainer=trainer)\n",
        "        self.prediction_length = prediction_length\n",
        "        self.context_length = context_length\n",
        "        self.freq = freq\n",
        "        self.distr_output = distr_output\n",
        "        self.num_cells = num_cells\n",
        "        self.num_sample_paths = num_sample_paths\n",
        "        self.scaling = scaling\n",
        "\n",
        "    def create_transformation(self):\n",
        "        # Feature transformation that the model uses for input.\n",
        "        return Chain(\n",
        "            [\n",
        "                AddObservedValuesIndicator(\n",
        "                    target_field=FieldName.TARGET,\n",
        "                    output_field=FieldName.OBSERVED_VALUES,\n",
        "                ),\n",
        "                InstanceSplitter(\n",
        "                    target_field=FieldName.TARGET,\n",
        "                    is_pad_field=FieldName.IS_PAD,\n",
        "                    start_field=FieldName.START,\n",
        "                    forecast_start_field=FieldName.FORECAST_START,\n",
        "                    train_sampler=ExpectedNumInstanceSampler(num_instances=1),\n",
        "                    past_length=self.context_length,\n",
        "                    future_length=self.prediction_length,\n",
        "                    time_series_fields=[\n",
        "                        FieldName.FEAT_DYNAMIC_REAL,\n",
        "                        FieldName.OBSERVED_VALUES,\n",
        "                    ],\n",
        "                ),\n",
        "\n",
        "            ]\n",
        "        )\n",
        "\n",
        "    def create_training_network(self) -> MyProbTrainNetwork:\n",
        "        return MyProbTrainNetwork(\n",
        "            prediction_length=self.prediction_length,\n",
        "            context_length=self.context_length,\n",
        "            distr_output=self.distr_output,\n",
        "            num_cells=self.num_cells,\n",
        "            num_sample_paths=self.num_sample_paths,\n",
        "            scaling=self.scaling\n",
        "        )\n",
        "\n",
        "    def create_predictor(\n",
        "            self, transformation: Transformation, trained_network: HybridBlock\n",
        "    ) -> Predictor:\n",
        "        prediction_network = MyProbPredNetwork(\n",
        "            prediction_length=self.prediction_length,\n",
        "            context_length=self.context_length,\n",
        "            distr_output=self.distr_output,\n",
        "            num_cells=self.num_cells,\n",
        "            num_sample_paths=self.num_sample_paths,\n",
        "            scaling=self.scaling\n",
        "        )\n",
        "\n",
        "        copy_parameters(trained_network, prediction_network)\n",
        "\n",
        "        return RepresentableBlockPredictor(\n",
        "            input_transform=transformation,\n",
        "            prediction_net=prediction_network,\n",
        "            batch_size=self.trainer.batch_size,\n",
        "            freq=self.freq,\n",
        "            prediction_length=self.prediction_length,\n",
        "            ctx=self.trainer.ctx,\n",
        "        )"
      ],
      "execution_count": 80,
      "outputs": [
        {
          "output_type": "stream",
          "text": [
            "INFO:root:Using GPU\n"
          ],
          "name": "stderr"
        }
      ]
    },
    {
      "cell_type": "code",
      "metadata": {
        "id": "uCGRcf7UIBev",
        "colab_type": "code",
        "colab": {}
      },
      "source": [
        "estimator = MyProbEstimator(\n",
        "    prediction_length=custom_ds_metadata['prediction_length'],\n",
        "    context_length=2*custom_ds_metadata['prediction_length'],\n",
        "    freq=custom_ds_metadata['freq'],\n",
        "    distr_output=GaussianOutput(),\n",
        "    num_cells=40,\n",
        "    trainer=Trainer(ctx=\"cpu\", \n",
        "                    epochs=5, \n",
        "                    learning_rate=1e-3, \n",
        "                    hybridize=False, \n",
        "                    num_batches_per_epoch=100\n",
        "                   )\n",
        ")"
      ],
      "execution_count": 0,
      "outputs": []
    },
    {
      "cell_type": "code",
      "metadata": {
        "id": "MK25sxVrIBew",
        "colab_type": "code",
        "colab": {
          "base_uri": "https://localhost:8080/",
          "height": 474
        },
        "outputId": "a6a79a53-06d6-4ba2-d016-543196c67468"
      },
      "source": [
        "predictor = estimator.train(train_ds)"
      ],
      "execution_count": 82,
      "outputs": [
        {
          "output_type": "stream",
          "text": [
            "INFO:root:Start model training\n",
            "INFO:root:Epoch[0] Learning rate is 0.001\n",
            "  0%|          | 0/100 [00:00<?, ?it/s]INFO:root:Number of parameters in MyProbTrainNetwork: 43322\n"
          ],
          "name": "stderr"
        },
        {
          "output_type": "stream",
          "text": [
            "learning rate from ``lr_scheduler`` has been overwritten by ``learning_rate`` in optimizer.\n"
          ],
          "name": "stdout"
        },
        {
          "output_type": "stream",
          "text": [
            "\r100%|██████████| 100/100 [00:00<00:00, 114.87it/s, avg_epoch_loss=0.96]\n",
            "INFO:root:Epoch[0] Elapsed time 0.873 seconds\n",
            "INFO:root:Epoch[0] Evaluation metric 'epoch_loss'=0.959663\n",
            "INFO:root:Epoch[1] Learning rate is 0.001\n",
            "100%|██████████| 100/100 [00:00<00:00, 117.04it/s, avg_epoch_loss=0.528]\n",
            "INFO:root:Epoch[1] Elapsed time 0.858 seconds\n",
            "INFO:root:Epoch[1] Evaluation metric 'epoch_loss'=0.527525\n",
            "INFO:root:Epoch[2] Learning rate is 0.001\n",
            "100%|██████████| 100/100 [00:00<00:00, 117.25it/s, avg_epoch_loss=0.481]\n",
            "INFO:root:Epoch[2] Elapsed time 0.859 seconds\n",
            "INFO:root:Epoch[2] Evaluation metric 'epoch_loss'=0.481415\n",
            "INFO:root:Epoch[3] Learning rate is 0.001\n",
            "100%|██████████| 100/100 [00:00<00:00, 116.56it/s, avg_epoch_loss=0.455]\n",
            "INFO:root:Epoch[3] Elapsed time 0.861 seconds\n",
            "INFO:root:Epoch[3] Evaluation metric 'epoch_loss'=0.455283\n",
            "INFO:root:Epoch[4] Learning rate is 0.001\n",
            "100%|██████████| 100/100 [00:00<00:00, 116.13it/s, avg_epoch_loss=0.413]\n",
            "INFO:root:Epoch[4] Elapsed time 0.869 seconds\n",
            "INFO:root:Epoch[4] Evaluation metric 'epoch_loss'=0.413077\n",
            "INFO:root:Loading parameters from best epoch (4)\n",
            "INFO:root:Final loss: 0.4130771619081497 (occurred at epoch 4)\n",
            "INFO:root:End model training\n"
          ],
          "name": "stderr"
        }
      ]
    },
    {
      "cell_type": "code",
      "metadata": {
        "id": "Lhq_H2vbIBez",
        "colab_type": "code",
        "colab": {}
      },
      "source": [
        "forecast_it, ts_it = make_evaluation_predictions(\n",
        "    dataset=test_ds,  # test dataset\n",
        "    predictor=predictor,  # predictor\n",
        "    num_samples=100,  # number of sample paths we want for evaluation\n",
        ")"
      ],
      "execution_count": 0,
      "outputs": []
    },
    {
      "cell_type": "code",
      "metadata": {
        "id": "apBe7COyIBe1",
        "colab_type": "code",
        "colab": {}
      },
      "source": [
        "forecasts = list(forecast_it)\n",
        "tss = list(ts_it)"
      ],
      "execution_count": 0,
      "outputs": []
    },
    {
      "cell_type": "code",
      "metadata": {
        "id": "6iyh6iJZIBe2",
        "colab_type": "code",
        "colab": {
          "base_uri": "https://localhost:8080/",
          "height": 450
        },
        "outputId": "499e81fd-9c88-4a78-e9c8-aa8944cfe037"
      },
      "source": [
        "plot_prob_forecasts(tss[0], forecasts[0])"
      ],
      "execution_count": 85,
      "outputs": [
        {
          "output_type": "display_data",
          "data": {
            "image/png": "[encoded data removed]",
            "text/plain": [
              "<Figure size 720x504 with 1 Axes>"
            ]
          },
          "metadata": {
            "tags": [],
            "needs_background": "light"
          }
        }
      ]
    },
    {
      "cell_type": "markdown",
      "metadata": {
        "id": "Ycb7Pje7IBe4",
        "colab_type": "text"
      },
      "source": [
        "## 5.4 From feedforward to RNN\n",
        "\n",
        "In all the previous examples we have used a feedforward neural network as the base for our forecasting model. The main idea behind it was to use as an input to the network a window of the time series (of length `context_length`) and train the network to forecast the following window (of length `prediction_length`). \n",
        "\n",
        "In this section we will replace the feedforward network with a recurrent neural network (RNN). Due to the different nature of RNNs the structure of the networks will be a bit different. Let's see what are the major changes. \n",
        "\n",
        "### 5.4.1 Training\n",
        "\n",
        "The main idea behind RNN is the same as in the feedforward networks we already constructed: as we unrolll the RNN at each time step we use as an input past values of the time series and forecast the next value. We can enhance the input by using multiple past values (for example specific lags based on seasonality patterns) or available features. However, in this example we will keep things simple and just use the last value of the time series. The output of the network at each time step is the distribution of the value of the next time step, where the state of the RNN is used as the feature vector for the parameter projection of the distribution.\n",
        "\n",
        "Due to the sequential nature of the RNN, the distinction between `past_` and `future_` in the cut window of the time series is not really necessary. Therefore, we can concatenate `past_target` and `future_target ` and treat it as a concrete `target` window that we wish to forecast. This means that the input to the RNN would be (sequentially) the window `target[-(context_length + prediction_length + 1):-1]` (one time step before the window we want to predict). As a consequence, we need to have `context_length + prediction_length + 1` available values at each window that we cut. We can define this in the `InstanceSplitter`. \n",
        "\n",
        "Overall, during training the steps are the following:\n",
        "\n",
        "- We pass sequentially through the RNN the target values `target[-(context_length + prediction_length + 1):-1]` \n",
        "- We use the state of the RNN at each time step as a feature vector and project it to the distribution parameter domain\n",
        "- The output at each time step is the distribution of the values of the next time step, which overall is the forecasted distribution for the window `target[-(context_length + prediction_length):]`\n",
        "\n",
        "The above steps are implemented in the `unroll_encoder` method.\n",
        "\n",
        "### 5.4.2 Inference\n",
        "\n",
        "During inference we know the values only of `past_target` therefore we cannot follow exactly the same steps as in training. However the main idea is very similar:\n",
        "\n",
        "- We pass sequentially through the RNN the past target values `past_target[-(context_length + 1):]` that effectively updates the state of the RNN\n",
        "- In the last time step the output of the RNN is effectively the distribution of the next value of the time series (which we do not know). Therefore we sample (`num_sample_paths` times) from this distribution and use the samples as inputs to the RNN for the next time step\n",
        "- We repeat the previous step `prediction_length` times \n",
        "\n",
        "The first step is implemented in `unroll_encoder` and the last steps in the `sample_decoder` method."
      ]
    },
    {
      "cell_type": "code",
      "metadata": {
        "id": "5-6hKVTKIBe4",
        "colab_type": "code",
        "colab": {}
      },
      "source": [
        "class MyProbRNN(gluon.HybridBlock):\n",
        "    def __init__(self,\n",
        "                 prediction_length,\n",
        "                 context_length,\n",
        "                 distr_output,\n",
        "                 num_cells,\n",
        "                 num_layers,\n",
        "                 num_sample_paths=100,\n",
        "                 scaling=True,\n",
        "                 **kwargs\n",
        "     ) -> None:\n",
        "        super().__init__(**kwargs)\n",
        "        self.prediction_length = prediction_length\n",
        "        self.context_length = context_length\n",
        "        self.distr_output = distr_output\n",
        "        self.num_cells = num_cells\n",
        "        self.num_layers = num_layers\n",
        "        self.num_sample_paths = num_sample_paths\n",
        "        self.proj_distr_args = distr_output.get_args_proj()\n",
        "        self.scaling = scaling\n",
        "\n",
        "        with self.name_scope():\n",
        "            self.rnn = mx.gluon.rnn.HybridSequentialRNNCell()\n",
        "            for k in range(self.num_layers):\n",
        "                cell = mx.gluon.rnn.LSTMCell(hidden_size=self.num_cells)\n",
        "                cell = mx.gluon.rnn.ResidualCell(cell) if k > 0 else cell\n",
        "                self.rnn.add(cell)\n",
        "\n",
        "            if scaling:\n",
        "                self.scaler = MeanScaler(keepdims=True)\n",
        "            else:\n",
        "                self.scaler = NOPScaler(keepdims=True)\n",
        "\n",
        "    def compute_scale(self, past_target, past_observed_values):\n",
        "        # scale is computed on the context length last units of the past target\n",
        "        # scale shape is (batch_size, 1, *target_shape)\n",
        "        _, scale = self.scaler(\n",
        "            past_target.slice_axis(\n",
        "                axis=1, begin=-self.context_length, end=None\n",
        "            ),\n",
        "            past_observed_values.slice_axis(\n",
        "                axis=1, begin=-self.context_length, end=None\n",
        "            ),\n",
        "        )\n",
        "\n",
        "        return scale\n",
        "\n",
        "    def unroll_encoder(self, \n",
        "                       F, \n",
        "                       past_target, \n",
        "                       past_observed_values, \n",
        "                       future_target=None, \n",
        "                       future_observed_values=None):\n",
        "        # overall target field\n",
        "        # input target from -(context_length + prediction_length + 1) to -1\n",
        "        if future_target is not None:  # during training\n",
        "            target_in = F.concat(\n",
        "                past_target, future_target, dim=-1\n",
        "            ).slice_axis(\n",
        "                axis=1, begin=-(self.context_length + self.prediction_length + 1), end=-1\n",
        "            )\n",
        "\n",
        "            # overall observed_values field\n",
        "            # input observed_values corresponding to target_in\n",
        "            observed_values_in = F.concat(\n",
        "                past_observed_values, future_observed_values, dim=-1\n",
        "            ).slice_axis(\n",
        "                axis=1, begin=-(self.context_length + self.prediction_length + 1), end=-1\n",
        "            )\n",
        "\n",
        "            rnn_length = self.context_length + self.prediction_length\n",
        "        else:  # during inference\n",
        "            target_in = past_target.slice_axis(\n",
        "                axis=1, begin=-(self.context_length + 1), end=-1\n",
        "            )\n",
        "\n",
        "            # overall observed_values field\n",
        "            # input observed_values corresponding to target_in\n",
        "            observed_values_in = past_observed_values.slice_axis(\n",
        "                axis=1, begin=-(self.context_length + 1), end=-1\n",
        "            )\n",
        "\n",
        "            rnn_length = self.context_length\n",
        "\n",
        "        # compute scale\n",
        "        scale = self.compute_scale(target_in, observed_values_in)\n",
        "\n",
        "        # scale target_in\n",
        "        target_in_scale = F.broadcast_div(target_in, scale)\n",
        "\n",
        "        # compute network output\n",
        "        net_output, states = self.rnn.unroll(\n",
        "            inputs=target_in_scale,\n",
        "            length=rnn_length,\n",
        "            layout=\"NTC\",\n",
        "            merge_outputs=True,\n",
        "        )\n",
        "\n",
        "        return net_output, states, scale\n",
        "\n",
        "\n",
        "class MyProbTrainRNN(MyProbRNN):\n",
        "    def hybrid_forward(self,\n",
        "                       F,\n",
        "                       past_target,\n",
        "                       future_target,\n",
        "                       past_observed_values,\n",
        "                       future_observed_values):\n",
        "\n",
        "        net_output, _, scale = self.unroll_encoder(F,\n",
        "                                                   past_target,\n",
        "                                                   past_observed_values,\n",
        "                                                   future_target,\n",
        "                                                   future_observed_values)\n",
        "\n",
        "        # output target from -(context_length + prediction_length) to end\n",
        "        target_out = F.concat(\n",
        "            past_target, future_target, dim=-1\n",
        "        ).slice_axis(\n",
        "            axis=1, begin=-(self.context_length + self.prediction_length), end=None\n",
        "        )\n",
        "\n",
        "        # project network output to distribution parameters domain\n",
        "        distr_args = self.proj_distr_args(net_output)\n",
        "\n",
        "        # compute distribution\n",
        "        distr = self.distr_output.distribution(distr_args, scale=scale)\n",
        "\n",
        "        # negative log-likelihood\n",
        "        loss = distr.loss(target_out)\n",
        "        return loss\n",
        "\n",
        "\n",
        "class MyProbPredRNN(MyProbTrainRNN):\n",
        "    def sample_decoder(self, F, past_target, states, scale):\n",
        "        # repeat fields: from (batch_size, past_target_length) to\n",
        "        # (batch_size * num_sample_paths, past_target_length)\n",
        "        repeated_states = [\n",
        "            s.repeat(repeats=self.num_sample_paths, axis=0)\n",
        "            for s in states\n",
        "        ]\n",
        "        repeated_scale = scale.repeat(repeats=self.num_sample_paths, axis=0)\n",
        "\n",
        "        # first decoder input is the last value of the past_target, i.e.,\n",
        "        # the previous value of the first time step we want to forecast\n",
        "        decoder_input = past_target.slice_axis(\n",
        "            axis=1, begin=-1, end=None\n",
        "        ).repeat(\n",
        "            repeats=self.num_sample_paths, axis=0\n",
        "        )\n",
        "\n",
        "        # list with samples at each time step\n",
        "        future_samples = []\n",
        "\n",
        "        # for each future time step we draw new samples for this time step and update the state\n",
        "        # the drawn samples are the inputs to the rnn at the next time step\n",
        "        for k in range(self.prediction_length):\n",
        "            rnn_outputs, repeated_states = self.rnn.unroll(\n",
        "                inputs=decoder_input,\n",
        "                length=1,\n",
        "                begin_state=repeated_states,\n",
        "                layout=\"NTC\",\n",
        "                merge_outputs=True,\n",
        "            )\n",
        "\n",
        "            # project network output to distribution parameters domain\n",
        "            distr_args = self.proj_distr_args(rnn_outputs)\n",
        "\n",
        "            # compute distribution\n",
        "            distr = self.distr_output.distribution(distr_args, scale=repeated_scale)\n",
        "\n",
        "            # draw samples (batch_size * num_samples, 1)\n",
        "            new_samples = distr.sample()\n",
        "\n",
        "            # append the samples of the current time step\n",
        "            future_samples.append(new_samples)\n",
        "\n",
        "            # update decoder input for the next time step\n",
        "            decoder_input = new_samples\n",
        "\n",
        "        samples = F.concat(*future_samples, dim=1)\n",
        "\n",
        "        # (batch_size, num_samples, prediction_length)\n",
        "        return samples.reshape(shape=(-1, self.num_sample_paths, self.prediction_length))\n",
        "\n",
        "    def hybrid_forward(self, F, past_target, past_observed_values):\n",
        "        # unroll encoder over context_length\n",
        "        net_output, states, scale = self.unroll_encoder(F,\n",
        "                                                        past_target,\n",
        "                                                        past_observed_values)\n",
        "\n",
        "        samples = self.sample_decoder(F, past_target, states, scale)\n",
        "\n",
        "        return samples"
      ],
      "execution_count": 0,
      "outputs": []
    },
    {
      "cell_type": "code",
      "metadata": {
        "id": "pBxuNWEsIBe6",
        "colab_type": "code",
        "colab": {
          "base_uri": "https://localhost:8080/",
          "height": 34
        },
        "outputId": "b5840d14-3a3b-4325-a30a-67fd22a9687f"
      },
      "source": [
        "class MyProbRNNEstimator(GluonEstimator):\n",
        "    @validated()\n",
        "    def __init__(\n",
        "            self,\n",
        "            prediction_length: int,\n",
        "            context_length: int,\n",
        "            freq: str,\n",
        "            distr_output: DistributionOutput,\n",
        "            num_cells: int,\n",
        "            num_layers: int,\n",
        "            num_sample_paths: int = 100,\n",
        "            scaling: bool = True,\n",
        "            trainer: Trainer = Trainer()\n",
        "    ) -> None:\n",
        "        super().__init__(trainer=trainer)\n",
        "        self.prediction_length = prediction_length\n",
        "        self.context_length = context_length\n",
        "        self.freq = freq\n",
        "        self.distr_output = distr_output\n",
        "        self.num_cells = num_cells\n",
        "        self.num_layers = num_layers\n",
        "        self.num_sample_paths = num_sample_paths\n",
        "        self.scaling = scaling\n",
        "\n",
        "    def create_transformation(self):\n",
        "        # Feature transformation that the model uses for input.\n",
        "        return Chain(\n",
        "            [\n",
        "                AddObservedValuesIndicator(\n",
        "                    target_field=FieldName.TARGET,\n",
        "                    output_field=FieldName.OBSERVED_VALUES,\n",
        "                ),\n",
        "                InstanceSplitter(\n",
        "                    target_field=FieldName.TARGET,\n",
        "                    is_pad_field=FieldName.IS_PAD,\n",
        "                    start_field=FieldName.START,\n",
        "                    forecast_start_field=FieldName.FORECAST_START,\n",
        "                    train_sampler=ExpectedNumInstanceSampler(num_instances=1),\n",
        "                    past_length=self.context_length + 1,\n",
        "                    future_length=self.prediction_length,\n",
        "                    time_series_fields=[\n",
        "                        FieldName.FEAT_DYNAMIC_REAL,\n",
        "                        FieldName.OBSERVED_VALUES,\n",
        "                    ],\n",
        "                ),\n",
        "\n",
        "            ]\n",
        "        )\n",
        "\n",
        "    def create_training_network(self) -> MyProbTrainRNN:\n",
        "        return MyProbTrainRNN(\n",
        "            prediction_length=self.prediction_length,\n",
        "            context_length=self.context_length,\n",
        "            distr_output=self.distr_output,\n",
        "            num_cells=self.num_cells,\n",
        "            num_layers=self.num_layers,\n",
        "            num_sample_paths=self.num_sample_paths,\n",
        "            scaling=self.scaling\n",
        "        )\n",
        "\n",
        "    def create_predictor(\n",
        "            self, transformation: Transformation, trained_network: HybridBlock\n",
        "    ) -> Predictor:\n",
        "        prediction_network = MyProbPredRNN(\n",
        "            prediction_length=self.prediction_length,\n",
        "            context_length=self.context_length,\n",
        "            distr_output=self.distr_output,\n",
        "            num_cells=self.num_cells,\n",
        "            num_layers=self.num_layers,\n",
        "            num_sample_paths=self.num_sample_paths,\n",
        "            scaling=self.scaling\n",
        "        )\n",
        "\n",
        "        copy_parameters(trained_network, prediction_network)\n",
        "\n",
        "        return RepresentableBlockPredictor(\n",
        "            input_transform=transformation,\n",
        "            prediction_net=prediction_network,\n",
        "            batch_size=self.trainer.batch_size,\n",
        "            freq=self.freq,\n",
        "            prediction_length=self.prediction_length,\n",
        "            ctx=self.trainer.ctx,\n",
        "        )"
      ],
      "execution_count": 87,
      "outputs": [
        {
          "output_type": "stream",
          "text": [
            "INFO:root:Using GPU\n"
          ],
          "name": "stderr"
        }
      ]
    },
    {
      "cell_type": "code",
      "metadata": {
        "id": "ZR80PCqFIBe9",
        "colab_type": "code",
        "colab": {}
      },
      "source": [
        "estimator = MyProbRNNEstimator(\n",
        "        prediction_length=24,\n",
        "        context_length=48,\n",
        "        freq=\"1H\",\n",
        "        num_cells=40,\n",
        "        num_layers=2,\n",
        "        distr_output=GaussianOutput(),\n",
        "        trainer=Trainer(ctx=\"cpu\",\n",
        "                        epochs=5,\n",
        "                        learning_rate=1e-3,\n",
        "                        hybridize=False,\n",
        "                        num_batches_per_epoch=100\n",
        "                       )\n",
        "    )"
      ],
      "execution_count": 0,
      "outputs": []
    },
    {
      "cell_type": "code",
      "metadata": {
        "id": "q5-RvUS9IBe_",
        "colab_type": "code",
        "colab": {
          "base_uri": "https://localhost:8080/",
          "height": 474
        },
        "outputId": "d555361b-e70f-41ca-f973-bc930f1c5ac5"
      },
      "source": [
        "predictor = estimator.train(train_ds)"
      ],
      "execution_count": 89,
      "outputs": [
        {
          "output_type": "stream",
          "text": [
            "INFO:root:Start model training\n",
            "INFO:root:Epoch[0] Learning rate is 0.001\n",
            "  0%|          | 0/100 [00:00<?, ?it/s]"
          ],
          "name": "stderr"
        },
        {
          "output_type": "stream",
          "text": [
            "learning rate from ``lr_scheduler`` has been overwritten by ``learning_rate`` in optimizer.\n"
          ],
          "name": "stdout"
        },
        {
          "output_type": "stream",
          "text": [
            "INFO:root:Number of parameters in MyProbTrainRNN: 20082\n",
            "100%|██████████| 100/100 [00:19<00:00,  5.21it/s, avg_epoch_loss=0.735]\n",
            "INFO:root:Epoch[0] Elapsed time 19.188 seconds\n",
            "INFO:root:Epoch[0] Evaluation metric 'epoch_loss'=0.734730\n",
            "INFO:root:Epoch[1] Learning rate is 0.001\n",
            "100%|██████████| 100/100 [00:19<00:00,  5.22it/s, avg_epoch_loss=0.394]\n",
            "INFO:root:Epoch[1] Elapsed time 19.159 seconds\n",
            "INFO:root:Epoch[1] Evaluation metric 'epoch_loss'=0.393966\n",
            "INFO:root:Epoch[2] Learning rate is 0.001\n",
            "100%|██████████| 100/100 [00:19<00:00,  5.23it/s, avg_epoch_loss=0.349]\n",
            "INFO:root:Epoch[2] Elapsed time 19.140 seconds\n",
            "INFO:root:Epoch[2] Evaluation metric 'epoch_loss'=0.348562\n",
            "INFO:root:Epoch[3] Learning rate is 0.001\n",
            "100%|██████████| 100/100 [00:18<00:00,  5.29it/s, avg_epoch_loss=0.3] \n",
            "INFO:root:Epoch[3] Elapsed time 18.909 seconds\n",
            "INFO:root:Epoch[3] Evaluation metric 'epoch_loss'=0.299830\n",
            "INFO:root:Epoch[4] Learning rate is 0.001\n",
            "100%|██████████| 100/100 [00:18<00:00,  5.26it/s, avg_epoch_loss=0.274]\n",
            "INFO:root:Epoch[4] Elapsed time 18.998 seconds\n",
            "INFO:root:Epoch[4] Evaluation metric 'epoch_loss'=0.273931\n",
            "INFO:root:Loading parameters from best epoch (4)\n",
            "INFO:root:Final loss: 0.2739307991663615 (occurred at epoch 4)\n",
            "INFO:root:End model training\n"
          ],
          "name": "stderr"
        }
      ]
    },
    {
      "cell_type": "code",
      "metadata": {
        "id": "sd5t-jQsIBfD",
        "colab_type": "code",
        "colab": {}
      },
      "source": [
        "forecast_it, ts_it = make_evaluation_predictions(\n",
        "    dataset=test_ds,  # test dataset\n",
        "    predictor=predictor,  # predictor\n",
        "    num_samples=100,  # number of sample paths we want for evaluation\n",
        ")"
      ],
      "execution_count": 0,
      "outputs": []
    },
    {
      "cell_type": "code",
      "metadata": {
        "id": "KATikzikIBfF",
        "colab_type": "code",
        "colab": {}
      },
      "source": [
        "forecasts = list(forecast_it)\n",
        "tss = list(ts_it)"
      ],
      "execution_count": 0,
      "outputs": []
    },
    {
      "cell_type": "code",
      "metadata": {
        "id": "YbjGprklIBfG",
        "colab_type": "code",
        "colab": {
          "base_uri": "https://localhost:8080/",
          "height": 450
        },
        "outputId": "b3c05d2b-d5d4-4aac-c668-32e73d5e09fa"
      },
      "source": [
        "plot_prob_forecasts(tss[0], forecasts[0])"
      ],
      "execution_count": 92,
      "outputs": [
        {
          "output_type": "display_data",
          "data": {
            "image/png": "[encoded data removed]",
            "text/plain": [
              "<Figure size 720x504 with 1 Axes>"
            ]
          },
          "metadata": {
            "tags": [],
            "needs_background": "light"
          }
        }
      ]
    }
  ]
}