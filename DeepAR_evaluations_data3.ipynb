{
  "nbformat": 4,
  "nbformat_minor": 0,
  "metadata": {
    "colab": {
      "name": "DeepAR_evaluations_data3",
      "provenance": [],
      "collapsed_sections": [],
      "include_colab_link": true
    },
    "kernelspec": {
      "name": "python3",
      "display_name": "Python 3"
    }
  },
  "cells": [
    {
      "cell_type": "markdown",
      "metadata": {
        "id": "view-in-github",
        "colab_type": "text"
      },
      "source": [
        "<a href=\"https://colab.research.google.com/github/iskra3138/GluonTS/blob/master/DeepAR_evaluations_data3.ipynb\" target=\"_parent\"><img src=\"https://colab.research.google.com/assets/colab-badge.svg\" alt=\"Open In Colab\"/></a>"
      ]
    },
    {
      "cell_type": "markdown",
      "metadata": {
        "id": "MtkVPqoH9Rfy",
        "colab_type": "text"
      },
      "source": [
        "# Install mxnet and gluonts"
      ]
    },
    {
      "cell_type": "code",
      "metadata": {
        "id": "XpYiCxWFwrdF",
        "colab_type": "code",
        "outputId": "83852b0f-f14f-4e9a-d5c9-aaa054cdb63b",
        "colab": {
          "base_uri": "https://localhost:8080/",
          "height": 755
        }
      },
      "source": [
        "pip install --upgrade mxnet==1.6 gluonts"
      ],
      "execution_count": 1,
      "outputs": [
        {
          "output_type": "stream",
          "text": [
            "Collecting mxnet==1.6\n",
            "\u001b[?25l  Downloading https://files.pythonhosted.org/packages/81/f5/d79b5b40735086ff1100c680703e0f3efc830fa455e268e9e96f3c857e93/mxnet-1.6.0-py2.py3-none-any.whl (68.7MB)\n",
            "\u001b[K     |████████████████████████████████| 68.7MB 56kB/s \n",
            "\u001b[?25hCollecting gluonts\n",
            "\u001b[?25l  Downloading https://files.pythonhosted.org/packages/c2/07/5a63f7d645761982743d375fc816120b680e0de13ac139829e509b3206fc/gluonts-0.5.0-py3-none-any.whl (419kB)\n",
            "\u001b[K     |████████████████████████████████| 419kB 34.5MB/s \n",
            "\u001b[?25hRequirement already satisfied, skipping upgrade: numpy<2.0.0,>1.16.0 in /usr/local/lib/python3.6/dist-packages (from mxnet==1.6) (1.18.4)\n",
            "Collecting graphviz<0.9.0,>=0.8.1\n",
            "  Downloading https://files.pythonhosted.org/packages/53/39/4ab213673844e0c004bed8a0781a0721a3f6bb23eb8854ee75c236428892/graphviz-0.8.4-py2.py3-none-any.whl\n",
            "Requirement already satisfied, skipping upgrade: requests<3,>=2.20.0 in /usr/local/lib/python3.6/dist-packages (from mxnet==1.6) (2.23.0)\n",
            "Collecting ujson~=1.35\n",
            "\u001b[?25l  Downloading https://files.pythonhosted.org/packages/16/c4/79f3409bc710559015464e5f49b9879430d8f87498ecdc335899732e5377/ujson-1.35.tar.gz (192kB)\n",
            "\u001b[K     |████████████████████████████████| 194kB 43.1MB/s \n",
            "\u001b[?25hRequirement already satisfied, skipping upgrade: tqdm~=4.23 in /usr/local/lib/python3.6/dist-packages (from gluonts) (4.41.1)\n",
            "Requirement already satisfied, skipping upgrade: matplotlib~=3.0 in /usr/local/lib/python3.6/dist-packages (from gluonts) (3.2.1)\n",
            "Requirement already satisfied, skipping upgrade: holidays<0.10,>=0.9 in /usr/local/lib/python3.6/dist-packages (from gluonts) (0.9.12)\n",
            "Requirement already satisfied, skipping upgrade: pandas~=1.0 in /usr/local/lib/python3.6/dist-packages (from gluonts) (1.0.3)\n",
            "Collecting pydantic~=1.1\n",
            "\u001b[?25l  Downloading https://files.pythonhosted.org/packages/57/c9/7d664fbe54863b92cea790c7305915888c2f13a68a754893d8291bab0d0d/pydantic-1.5.1-cp36-cp36m-manylinux2014_x86_64.whl (7.4MB)\n",
            "\u001b[K     |████████████████████████████████| 7.4MB 22.9MB/s \n",
            "\u001b[?25hRequirement already satisfied, skipping upgrade: certifi>=2017.4.17 in /usr/local/lib/python3.6/dist-packages (from requests<3,>=2.20.0->mxnet==1.6) (2020.4.5.1)\n",
            "Requirement already satisfied, skipping upgrade: urllib3!=1.25.0,!=1.25.1,<1.26,>=1.21.1 in /usr/local/lib/python3.6/dist-packages (from requests<3,>=2.20.0->mxnet==1.6) (1.24.3)\n",
            "Requirement already satisfied, skipping upgrade: idna<3,>=2.5 in /usr/local/lib/python3.6/dist-packages (from requests<3,>=2.20.0->mxnet==1.6) (2.9)\n",
            "Requirement already satisfied, skipping upgrade: chardet<4,>=3.0.2 in /usr/local/lib/python3.6/dist-packages (from requests<3,>=2.20.0->mxnet==1.6) (3.0.4)\n",
            "Requirement already satisfied, skipping upgrade: cycler>=0.10 in /usr/local/lib/python3.6/dist-packages (from matplotlib~=3.0->gluonts) (0.10.0)\n",
            "Requirement already satisfied, skipping upgrade: kiwisolver>=1.0.1 in /usr/local/lib/python3.6/dist-packages (from matplotlib~=3.0->gluonts) (1.2.0)\n",
            "Requirement already satisfied, skipping upgrade: pyparsing!=2.0.4,!=2.1.2,!=2.1.6,>=2.0.1 in /usr/local/lib/python3.6/dist-packages (from matplotlib~=3.0->gluonts) (2.4.7)\n",
            "Requirement already satisfied, skipping upgrade: python-dateutil>=2.1 in /usr/local/lib/python3.6/dist-packages (from matplotlib~=3.0->gluonts) (2.8.1)\n",
            "Requirement already satisfied, skipping upgrade: six in /usr/local/lib/python3.6/dist-packages (from holidays<0.10,>=0.9->gluonts) (1.12.0)\n",
            "Requirement already satisfied, skipping upgrade: pytz>=2017.2 in /usr/local/lib/python3.6/dist-packages (from pandas~=1.0->gluonts) (2018.9)\n",
            "Requirement already satisfied, skipping upgrade: dataclasses>=0.6; python_version < \"3.7\" in /usr/local/lib/python3.6/dist-packages (from pydantic~=1.1->gluonts) (0.7)\n",
            "Building wheels for collected packages: ujson\n",
            "  Building wheel for ujson (setup.py) ... \u001b[?25l\u001b[?25hdone\n",
            "  Created wheel for ujson: filename=ujson-1.35-cp36-cp36m-linux_x86_64.whl size=68021 sha256=de090889d13c12c9f8fff2738d17724350c763138d7454c8c1ce10a5b3720a55\n",
            "  Stored in directory: /root/.cache/pip/wheels/28/77/e4/0311145b9c2e2f01470e744855131f9e34d6919687550f87d1\n",
            "Successfully built ujson\n",
            "Installing collected packages: graphviz, mxnet, ujson, pydantic, gluonts\n",
            "  Found existing installation: graphviz 0.10.1\n",
            "    Uninstalling graphviz-0.10.1:\n",
            "      Successfully uninstalled graphviz-0.10.1\n",
            "Successfully installed gluonts-0.5.0 graphviz-0.8.4 mxnet-1.6.0 pydantic-1.5.1 ujson-1.35\n"
          ],
          "name": "stdout"
        }
      ]
    },
    {
      "cell_type": "markdown",
      "metadata": {
        "id": "LmbEt0H9GYBt",
        "colab_type": "text"
      },
      "source": [
        "## Dataset Loading"
      ]
    },
    {
      "cell_type": "code",
      "metadata": {
        "id": "CS73SazB-iAi",
        "colab_type": "code",
        "colab": {}
      },
      "source": [
        "# Third-party imports\n",
        "%matplotlib inline\n",
        "import mxnet as mx\n",
        "from mxnet import gluon\n",
        "#import numpy as np\n",
        "#import pandas as pd\n",
        "import matplotlib.pyplot as plt\n",
        "import json\n",
        "#import os"
      ],
      "execution_count": 0,
      "outputs": []
    },
    {
      "cell_type": "code",
      "metadata": {
        "id": "YyFHxQYCGWpO",
        "colab_type": "code",
        "colab": {}
      },
      "source": [
        "from gluonts.dataset.repository.datasets import get_dataset, dataset_recipes\n",
        "#from gluonts.dataset.util import to_pandas"
      ],
      "execution_count": 0,
      "outputs": []
    },
    {
      "cell_type": "code",
      "metadata": {
        "id": "CET-Px0euwLy",
        "colab_type": "code",
        "colab": {}
      },
      "source": [
        "from gluonts.dataset.common import ListDataset\n",
        "from gluonts.dataset.field_names import FieldName"
      ],
      "execution_count": 0,
      "outputs": []
    },
    {
      "cell_type": "code",
      "metadata": {
        "id": "PwbJirQ67oj9",
        "colab_type": "code",
        "colab": {}
      },
      "source": [
        "from gluonts.model.deepar import DeepAREstimator\n",
        "from gluonts.model.deep_factor import DeepFactorEstimator\n",
        "from gluonts.distribution.gaussian import GaussianOutput\n",
        "from gluonts.distribution.student_t import StudentTOutput\n",
        "from gluonts.trainer import Trainer\n",
        "from gluonts.evaluation.backtest import make_evaluation_predictions\n",
        "from gluonts.evaluation import Evaluator"
      ],
      "execution_count": 0,
      "outputs": []
    },
    {
      "cell_type": "markdown",
      "metadata": {
        "id": "jbPo1rHY7nGe",
        "colab_type": "text"
      },
      "source": [
        "## Experiment of DeepAR"
      ]
    },
    {
      "cell_type": "markdown",
      "metadata": {
        "id": "cqSRuhYNUhe4",
        "colab_type": "text"
      },
      "source": [
        "## electricity"
      ]
    },
    {
      "cell_type": "code",
      "metadata": {
        "id": "QUlhWYZLGqAa",
        "colab_type": "code",
        "outputId": "4b49c17e-f83a-4f42-c243-6adecd1221aa",
        "colab": {
          "base_uri": "https://localhost:8080/",
          "height": 53
        }
      },
      "source": [
        "elec_dataset = get_dataset(\"electricity\", regenerate=False)"
      ],
      "execution_count": 6,
      "outputs": [
        {
          "output_type": "stream",
          "text": [
            "saving time-series into /root/.mxnet/gluon-ts/datasets/electricity/train/data.json\n",
            "saving time-series into /root/.mxnet/gluon-ts/datasets/electricity/test/data.json\n"
          ],
          "name": "stdout"
        }
      ]
    },
    {
      "cell_type": "code",
      "metadata": {
        "colab_type": "code",
        "outputId": "c2abbae2-4b2a-43f9-ec11-67e57514010d",
        "id": "pISvJSGLmogL",
        "colab": {
          "base_uri": "https://localhost:8080/",
          "height": 53
        }
      },
      "source": [
        "print (len(elec_dataset.train))\n",
        "print (len(elec_dataset.test))"
      ],
      "execution_count": 7,
      "outputs": [
        {
          "output_type": "stream",
          "text": [
            "321\n",
            "2247\n"
          ],
          "name": "stdout"
        }
      ]
    },
    {
      "cell_type": "code",
      "metadata": {
        "colab_type": "code",
        "outputId": "35d6bbc3-8d79-4f73-b8c6-ddfb40e210df",
        "id": "Gg6BjsIAmogR",
        "colab": {
          "base_uri": "https://localhost:8080/",
          "height": 35
        }
      },
      "source": [
        "elec_dataset.metadata"
      ],
      "execution_count": 8,
      "outputs": [
        {
          "output_type": "execute_result",
          "data": {
            "text/plain": [
              "MetaData(freq='1H', target=None, feat_static_cat=[CategoricalFeatureInfo(name='feat_static_cat', cardinality='321')], feat_static_real=[], feat_dynamic_real=[], feat_dynamic_cat=[], prediction_length=24)"
            ]
          },
          "metadata": {
            "tags": []
          },
          "execution_count": 8
        }
      ]
    },
    {
      "cell_type": "code",
      "metadata": {
        "id": "kh_5nT7SmwD5",
        "colab_type": "code",
        "outputId": "6faa3896-8dcc-4917-e5d1-0ffe82a3ca0b",
        "colab": {
          "base_uri": "https://localhost:8080/",
          "height": 35
        }
      },
      "source": [
        "elec_dataset.metadata.feat_static_cat[0]"
      ],
      "execution_count": 9,
      "outputs": [
        {
          "output_type": "execute_result",
          "data": {
            "text/plain": [
              "CategoricalFeatureInfo(name='feat_static_cat', cardinality='321')"
            ]
          },
          "metadata": {
            "tags": []
          },
          "execution_count": 9
        }
      ]
    },
    {
      "cell_type": "code",
      "metadata": {
        "id": "28gBmOGVoMgV",
        "colab_type": "code",
        "colab": {}
      },
      "source": [
        "car = [int(elec_dataset.metadata.feat_static_cat[0].cardinality)]"
      ],
      "execution_count": 0,
      "outputs": []
    },
    {
      "cell_type": "code",
      "metadata": {
        "colab_type": "code",
        "outputId": "7b64afeb-f016-4851-9f00-9bf64f222961",
        "id": "Q-ZkZHs2mogU",
        "colab": {
          "base_uri": "https://localhost:8080/",
          "height": 35
        }
      },
      "source": [
        "next(iter(elec_dataset.train)).keys()"
      ],
      "execution_count": 11,
      "outputs": [
        {
          "output_type": "execute_result",
          "data": {
            "text/plain": [
              "dict_keys(['start', 'target', 'feat_static_cat', 'item_id', 'source'])"
            ]
          },
          "metadata": {
            "tags": []
          },
          "execution_count": 11
        }
      ]
    },
    {
      "cell_type": "code",
      "metadata": {
        "id": "Ez4xa_EAuwHV",
        "colab_type": "code",
        "colab": {}
      },
      "source": [
        "test_ds_24 = ListDataset([{FieldName.START: entry['start'],\n",
        "                        FieldName.TARGET: entry['target'],\n",
        "                        FieldName.FEAT_STATIC_CAT: entry['feat_static_cat'],\n",
        "                        FieldName.ITEM_ID: entry['item_id'],\n",
        "                        }\n",
        "                       for entry in iter(elec_dataset.test) if len(entry['target']) == 21068\n",
        "                       ],\n",
        "                     freq=elec_dataset.metadata.freq)"
      ],
      "execution_count": 0,
      "outputs": []
    },
    {
      "cell_type": "code",
      "metadata": {
        "colab_type": "code",
        "id": "SOijOJKyH3hL",
        "colab": {}
      },
      "source": [
        "# https://gluon-ts.mxnet.io/api/gluonts/gluonts.trainer.html\n",
        "deepar_trainer=Trainer(\n",
        "    ctx = 'cpu',\n",
        "    epochs=100, # (default: 100).\n",
        "    batch_size=32,# (default: 32).\n",
        "    num_batches_per_epoch=50, # (default: 50).\n",
        "    learning_rate=0.001, # (default:  10^−3 ).\n",
        "    learning_rate_decay_factor=0.5, # (default: 0.5).\n",
        "    patience = 10, # (default: 10).\n",
        "    minimum_learning_rate=5e-05, # (default:  5⋅10^−5 ).\n",
        "    clip_gradient = 10.0, # (default: 10).\n",
        "    weight_decay=1e-08, #  (default  10^−8 ).\n",
        "    init='xavier', #  (default: “xavier”).\n",
        "    hybridize=True, \n",
        "    )"
      ],
      "execution_count": 0,
      "outputs": []
    },
    {
      "cell_type": "code",
      "metadata": {
        "colab_type": "code",
        "id": "zqz0laFMH3hN",
        "colab": {}
      },
      "source": [
        "# https://gluon-ts.mxnet.io/api/gluonts/gluonts.model.deepar.html\n",
        "DA_estimator = DeepAREstimator(\n",
        "    freq=elec_dataset.metadata.freq, \n",
        "    prediction_length=elec_dataset.metadata.prediction_length,\n",
        "    trainer = deepar_trainer, # (default: Trainer())\n",
        "    context_length=None, # (default: None, in which case context_length = prediction_length)\n",
        "    num_layers=2, # (default: 2)\n",
        "    num_cells=40, # (default: 40)\n",
        "    cell_type='lstm', # (default: ‘lstm’)\n",
        "    dropout_rate=0.1, # (default: 0.1)\n",
        "    use_feat_dynamic_real=False, # (default: False)\n",
        "    use_feat_static_cat=True, # (default: False)\n",
        "    use_feat_static_real=False, # (default: False)\n",
        "    cardinality=car, # (default: None)\n",
        "    #embedding_dimension=[20], # (default: [min(50, (cat+1)//2) for cat in cardinality])\n",
        "    distr_output = StudentTOutput(), # (default: StudentTOutput())\n",
        "    scaling=True, # (default: true)\n",
        "    lags_seq=None, # (default: None, in which case these are automatically determined based on freq)\n",
        "    time_features=None, # (default: None, in which case these are automatically determined based on freq)\n",
        "    num_parallel_samples=100, # (default: 100)\n",
        ")"
      ],
      "execution_count": 0,
      "outputs": []
    },
    {
      "cell_type": "code",
      "metadata": {
        "colab_type": "code",
        "id": "ig9ceH0SH3hQ",
        "outputId": "10cc70cf-85d8-4395-8ed1-4c52a60c0efc",
        "colab": {
          "base_uri": "https://localhost:8080/",
          "height": 1000
        }
      },
      "source": [
        "DA_predictor = DA_estimator.train(elec_dataset.train)"
      ],
      "execution_count": 15,
      "outputs": [
        {
          "output_type": "stream",
          "text": [
            "\r  0%|          | 0/50 [00:00<?, ?it/s]"
          ],
          "name": "stderr"
        },
        {
          "output_type": "stream",
          "text": [
            "learning rate from ``lr_scheduler`` has been overwritten by ``learning_rate`` in optimizer.\n"
          ],
          "name": "stdout"
        },
        {
          "output_type": "stream",
          "text": [
            "100%|██████████| 50/50 [00:14<00:00,  3.46it/s, epoch=1/100, avg_epoch_loss=6.7] \n",
            "100%|██████████| 50/50 [00:15<00:00,  3.31it/s, epoch=2/100, avg_epoch_loss=5.96]\n",
            "100%|██████████| 50/50 [00:14<00:00,  3.41it/s, epoch=3/100, avg_epoch_loss=5.76]\n",
            "100%|██████████| 50/50 [00:14<00:00,  3.40it/s, epoch=4/100, avg_epoch_loss=5.63]\n",
            "100%|██████████| 50/50 [00:14<00:00,  3.53it/s, epoch=5/100, avg_epoch_loss=5.54]\n",
            "100%|██████████| 50/50 [00:14<00:00,  3.40it/s, epoch=6/100, avg_epoch_loss=5.52]\n",
            "100%|██████████| 50/50 [00:14<00:00,  3.42it/s, epoch=7/100, avg_epoch_loss=5.55]\n",
            "100%|██████████| 50/50 [00:14<00:00,  3.41it/s, epoch=8/100, avg_epoch_loss=6.09]\n",
            "100%|██████████| 50/50 [00:14<00:00,  3.39it/s, epoch=9/100, avg_epoch_loss=5.81]\n",
            "100%|██████████| 50/50 [00:14<00:00,  3.49it/s, epoch=10/100, avg_epoch_loss=5.71]\n",
            "100%|██████████| 50/50 [00:14<00:00,  3.44it/s, epoch=11/100, avg_epoch_loss=5.68]\n",
            "100%|██████████| 50/50 [00:14<00:00,  3.44it/s, epoch=12/100, avg_epoch_loss=5.74]\n",
            "100%|██████████| 50/50 [00:14<00:00,  3.42it/s, epoch=13/100, avg_epoch_loss=5.59]\n",
            "100%|██████████| 50/50 [00:14<00:00,  3.43it/s, epoch=14/100, avg_epoch_loss=5.61]\n",
            "100%|██████████| 50/50 [00:14<00:00,  3.45it/s, epoch=15/100, avg_epoch_loss=5.67]\n",
            "100%|██████████| 50/50 [00:14<00:00,  3.44it/s, epoch=16/100, avg_epoch_loss=5.74]\n",
            "100%|██████████| 50/50 [00:14<00:00,  3.47it/s, epoch=17/100, avg_epoch_loss=5.61]\n",
            "100%|██████████| 50/50 [00:14<00:00,  3.44it/s, epoch=18/100, avg_epoch_loss=5.58]\n",
            "100%|██████████| 50/50 [00:14<00:00,  3.37it/s, epoch=19/100, avg_epoch_loss=5.51]\n",
            "100%|██████████| 50/50 [00:14<00:00,  3.55it/s, epoch=20/100, avg_epoch_loss=5.62]\n",
            "100%|██████████| 50/50 [00:14<00:00,  3.49it/s, epoch=21/100, avg_epoch_loss=5.39]\n",
            "100%|██████████| 50/50 [00:13<00:00,  3.59it/s, epoch=22/100, avg_epoch_loss=5.33]\n",
            "100%|██████████| 50/50 [00:17<00:00,  2.86it/s, epoch=23/100, avg_epoch_loss=5.66]\n",
            "100%|██████████| 50/50 [00:14<00:00,  3.37it/s, epoch=24/100, avg_epoch_loss=5.6]\n",
            "100%|██████████| 50/50 [00:14<00:00,  3.39it/s, epoch=25/100, avg_epoch_loss=5.35]\n",
            "100%|██████████| 50/50 [00:14<00:00,  3.40it/s, epoch=26/100, avg_epoch_loss=5.54]\n",
            "100%|██████████| 50/50 [00:14<00:00,  3.53it/s, epoch=27/100, avg_epoch_loss=5.49]\n",
            "100%|██████████| 50/50 [00:14<00:00,  3.45it/s, epoch=28/100, avg_epoch_loss=5.49]\n",
            "100%|██████████| 50/50 [00:14<00:00,  3.43it/s, epoch=29/100, avg_epoch_loss=5.54]\n",
            "100%|██████████| 50/50 [00:14<00:00,  3.40it/s, epoch=30/100, avg_epoch_loss=5.49]\n",
            "100%|██████████| 50/50 [00:14<00:00,  3.49it/s, epoch=31/100, avg_epoch_loss=5.4] \n",
            "100%|██████████| 50/50 [00:14<00:00,  3.44it/s, epoch=32/100, avg_epoch_loss=5.48]\n",
            "100%|██████████| 50/50 [00:14<00:00,  3.41it/s, epoch=33/100, avg_epoch_loss=5.49]\n",
            "100%|██████████| 50/50 [00:14<00:00,  3.52it/s, epoch=34/100, avg_epoch_loss=5.34]\n",
            "100%|██████████| 50/50 [00:14<00:00,  3.43it/s, epoch=35/100, avg_epoch_loss=5.28]\n",
            "100%|██████████| 50/50 [00:14<00:00,  3.50it/s, epoch=36/100, avg_epoch_loss=5.4] \n",
            "100%|██████████| 50/50 [00:14<00:00,  3.40it/s, epoch=37/100, avg_epoch_loss=5.37]\n",
            "100%|██████████| 50/50 [00:14<00:00,  3.41it/s, epoch=38/100, avg_epoch_loss=5.29]\n",
            "100%|██████████| 50/50 [00:14<00:00,  3.42it/s, epoch=39/100, avg_epoch_loss=5.34]\n",
            "100%|██████████| 50/50 [00:15<00:00,  3.30it/s, epoch=40/100, avg_epoch_loss=5.36]\n",
            "100%|██████████| 50/50 [00:14<00:00,  3.54it/s, epoch=41/100, avg_epoch_loss=5.31]\n",
            "100%|██████████| 50/50 [00:15<00:00,  3.27it/s, epoch=42/100, avg_epoch_loss=5.35]\n",
            "100%|██████████| 50/50 [00:14<00:00,  3.38it/s, epoch=43/100, avg_epoch_loss=5.28]\n",
            "100%|██████████| 50/50 [00:14<00:00,  3.47it/s, epoch=44/100, avg_epoch_loss=5.4] \n",
            "100%|██████████| 50/50 [00:15<00:00,  3.33it/s, epoch=45/100, avg_epoch_loss=5.36]\n",
            "100%|██████████| 50/50 [00:14<00:00,  3.41it/s, epoch=46/100, avg_epoch_loss=5.42]\n",
            "100%|██████████| 50/50 [00:14<00:00,  3.39it/s, epoch=47/100, avg_epoch_loss=5.32]\n",
            "100%|██████████| 50/50 [00:14<00:00,  3.44it/s, epoch=48/100, avg_epoch_loss=5.35]\n",
            "100%|██████████| 50/50 [00:14<00:00,  3.42it/s, epoch=49/100, avg_epoch_loss=5.31]\n",
            "100%|██████████| 50/50 [00:14<00:00,  3.41it/s, epoch=50/100, avg_epoch_loss=5.28]\n",
            "100%|██████████| 50/50 [00:14<00:00,  3.37it/s, epoch=51/100, avg_epoch_loss=5.31]\n",
            "100%|██████████| 50/50 [00:14<00:00,  3.39it/s, epoch=52/100, avg_epoch_loss=5.26]\n",
            "100%|██████████| 50/50 [00:14<00:00,  3.36it/s, epoch=53/100, avg_epoch_loss=5.26]\n",
            "100%|██████████| 50/50 [00:14<00:00,  3.40it/s, epoch=54/100, avg_epoch_loss=5.29]\n",
            "100%|██████████| 50/50 [00:14<00:00,  3.44it/s, epoch=55/100, avg_epoch_loss=5.24]\n",
            "100%|██████████| 50/50 [00:14<00:00,  3.45it/s, epoch=56/100, avg_epoch_loss=5.29]\n",
            "100%|██████████| 50/50 [00:14<00:00,  3.43it/s, epoch=57/100, avg_epoch_loss=5.3] \n",
            "100%|██████████| 50/50 [00:15<00:00,  3.33it/s, epoch=58/100, avg_epoch_loss=5.33]\n",
            "100%|██████████| 50/50 [00:14<00:00,  3.46it/s, epoch=59/100, avg_epoch_loss=5.32]\n",
            "100%|██████████| 50/50 [00:14<00:00,  3.43it/s, epoch=60/100, avg_epoch_loss=5.25]\n",
            "100%|██████████| 50/50 [00:14<00:00,  3.48it/s, epoch=61/100, avg_epoch_loss=5.32]\n",
            "100%|██████████| 50/50 [00:14<00:00,  3.43it/s, epoch=62/100, avg_epoch_loss=5.23]\n",
            "100%|██████████| 50/50 [00:14<00:00,  3.48it/s, epoch=63/100, avg_epoch_loss=5.25]\n",
            "100%|██████████| 50/50 [00:17<00:00,  2.81it/s, epoch=64/100, avg_epoch_loss=5.28]\n",
            "100%|██████████| 50/50 [00:14<00:00,  3.36it/s, epoch=65/100, avg_epoch_loss=5.29]\n",
            "100%|██████████| 50/50 [00:14<00:00,  3.40it/s, epoch=66/100, avg_epoch_loss=5.22]\n",
            "100%|██████████| 50/50 [00:14<00:00,  3.41it/s, epoch=67/100, avg_epoch_loss=5.26]\n",
            "100%|██████████| 50/50 [00:14<00:00,  3.41it/s, epoch=68/100, avg_epoch_loss=5.23]\n",
            "100%|██████████| 50/50 [00:14<00:00,  3.41it/s, epoch=69/100, avg_epoch_loss=5.26]\n",
            "100%|██████████| 50/50 [00:14<00:00,  3.37it/s, epoch=70/100, avg_epoch_loss=5.22]\n",
            "100%|██████████| 50/50 [00:14<00:00,  3.52it/s, epoch=71/100, avg_epoch_loss=5.23]\n",
            "100%|██████████| 50/50 [00:14<00:00,  3.47it/s, epoch=72/100, avg_epoch_loss=5.21]\n",
            "100%|██████████| 50/50 [00:14<00:00,  3.40it/s, epoch=73/100, avg_epoch_loss=5.26]\n",
            "100%|██████████| 50/50 [00:14<00:00,  3.43it/s, epoch=74/100, avg_epoch_loss=5.27]\n",
            "100%|██████████| 50/50 [00:14<00:00,  3.52it/s, epoch=75/100, avg_epoch_loss=5.24]\n",
            "100%|██████████| 50/50 [00:14<00:00,  3.41it/s, epoch=76/100, avg_epoch_loss=5.2] \n",
            "100%|██████████| 50/50 [00:14<00:00,  3.40it/s, epoch=77/100, avg_epoch_loss=5.23]\n",
            "100%|██████████| 50/50 [00:14<00:00,  3.36it/s, epoch=78/100, avg_epoch_loss=5.27]\n",
            "100%|██████████| 50/50 [00:14<00:00,  3.48it/s, epoch=79/100, avg_epoch_loss=5.19]\n",
            "100%|██████████| 50/50 [00:14<00:00,  3.39it/s, epoch=80/100, avg_epoch_loss=5.21]\n",
            "100%|██████████| 50/50 [00:14<00:00,  3.45it/s, epoch=81/100, avg_epoch_loss=5.19]\n",
            "100%|██████████| 50/50 [00:15<00:00,  3.33it/s, epoch=82/100, avg_epoch_loss=5.17]\n",
            "100%|██████████| 50/50 [00:14<00:00,  3.55it/s, epoch=83/100, avg_epoch_loss=5.28]\n",
            "100%|██████████| 50/50 [00:14<00:00,  3.39it/s, epoch=84/100, avg_epoch_loss=5.29]\n",
            "100%|██████████| 50/50 [00:14<00:00,  3.39it/s, epoch=85/100, avg_epoch_loss=5.24]\n",
            "100%|██████████| 50/50 [00:14<00:00,  3.56it/s, epoch=86/100, avg_epoch_loss=5.2] \n",
            "100%|██████████| 50/50 [00:14<00:00,  3.43it/s, epoch=87/100, avg_epoch_loss=5.14]\n",
            "100%|██████████| 50/50 [00:14<00:00,  3.45it/s, epoch=88/100, avg_epoch_loss=5.27]\n",
            "100%|██████████| 50/50 [00:14<00:00,  3.45it/s, epoch=89/100, avg_epoch_loss=5.2] \n",
            "100%|██████████| 50/50 [00:14<00:00,  3.48it/s, epoch=90/100, avg_epoch_loss=5.21]\n",
            "100%|██████████| 50/50 [00:14<00:00,  3.54it/s, epoch=91/100, avg_epoch_loss=5.27]\n",
            "100%|██████████| 50/50 [00:14<00:00,  3.43it/s, epoch=92/100, avg_epoch_loss=5.26]\n",
            "100%|██████████| 50/50 [00:14<00:00,  3.36it/s, epoch=93/100, avg_epoch_loss=5.18]\n",
            "100%|██████████| 50/50 [00:14<00:00,  3.49it/s, epoch=94/100, avg_epoch_loss=5.09]\n",
            "100%|██████████| 50/50 [00:15<00:00,  3.28it/s, epoch=95/100, avg_epoch_loss=5.19]\n",
            "100%|██████████| 50/50 [00:14<00:00,  3.36it/s, epoch=96/100, avg_epoch_loss=5.18]\n",
            "100%|██████████| 50/50 [00:14<00:00,  3.45it/s, epoch=97/100, avg_epoch_loss=5.2] \n",
            "100%|██████████| 50/50 [00:15<00:00,  3.33it/s, epoch=98/100, avg_epoch_loss=5.15]\n",
            "100%|██████████| 50/50 [00:14<00:00,  3.41it/s, epoch=99/100, avg_epoch_loss=5.24]\n",
            "100%|██████████| 50/50 [00:14<00:00,  3.47it/s, epoch=100/100, avg_epoch_loss=5.12]\n"
          ],
          "name": "stderr"
        }
      ]
    },
    {
      "cell_type": "code",
      "metadata": {
        "id": "iVGO7KRtorHw",
        "colab_type": "code",
        "outputId": "8d48000c-85fe-449d-8487-623bec56c5aa",
        "colab": {
          "base_uri": "https://localhost:8080/",
          "height": 503
        }
      },
      "source": [
        "forecast_it, ts_it = make_evaluation_predictions(\n",
        "    dataset=elec_dataset.test, \n",
        "    predictor=DA_predictor, \n",
        "    num_samples=100, \n",
        ")\n",
        "\n",
        "forecasts = list(forecast_it)\n",
        "tss = list(ts_it)\n",
        "\n",
        "evaluator = Evaluator(quantiles=[0.1, 0.5, 0.9])\n",
        "agg_metrics, item_metrics = evaluator(iter(tss), iter(forecasts), num_series=len(elec_dataset.test))\n",
        "\n",
        "print(json.dumps(agg_metrics, indent=4))"
      ],
      "execution_count": 16,
      "outputs": [
        {
          "output_type": "stream",
          "text": [
            "Running evaluation: 100%|██████████| 2247/2247 [00:00<00:00, 43004.27it/s]\n"
          ],
          "name": "stderr"
        },
        {
          "output_type": "stream",
          "text": [
            "{\n",
            "    \"MSE\": 1912557.187110687,\n",
            "    \"abs_error\": 8325086.188199043,\n",
            "    \"abs_target_sum\": 128632956.0,\n",
            "    \"abs_target_mean\": 2385.272140631948,\n",
            "    \"seasonal_error\": 189.4933819611677,\n",
            "    \"MASE\": 0.7417883000095216,\n",
            "    \"MAPE\": 0.09824577784100318,\n",
            "    \"sMAPE\": 0.1081300020135565,\n",
            "    \"OWA\": NaN,\n",
            "    \"MSIS\": 9.05810031616469,\n",
            "    \"QuantileLoss[0.1]\": 3504008.1698703105,\n",
            "    \"Coverage[0.1]\": 0.10662364634327237,\n",
            "    \"QuantileLoss[0.5]\": 8325086.192954697,\n",
            "    \"Coverage[0.5]\": 0.4749109924343578,\n",
            "    \"QuantileLoss[0.9]\": 5126640.8107496295,\n",
            "    \"Coverage[0.9]\": 0.8609998516540562,\n",
            "    \"RMSE\": 1382.9523444828774,\n",
            "    \"NRMSE\": 0.5797880757188911,\n",
            "    \"ND\": 0.06471969895645595,\n",
            "    \"wQuantileLoss[0.1]\": 0.027240361092769342,\n",
            "    \"wQuantileLoss[0.5]\": 0.06471969899342667,\n",
            "    \"wQuantileLoss[0.9]\": 0.03985480059052386,\n",
            "    \"mean_wQuantileLoss\": 0.04393828689223996,\n",
            "    \"MAE_Coverage\": 0.023570934084952783\n",
            "}\n"
          ],
          "name": "stdout"
        }
      ]
    },
    {
      "cell_type": "code",
      "metadata": {
        "colab_type": "code",
        "id": "GtBIDMrnEkW1",
        "outputId": "94fe9fef-0b5f-4167-ebc2-d4563f6d5bb0",
        "colab": {
          "base_uri": "https://localhost:8080/",
          "height": 503
        }
      },
      "source": [
        "forecast_it, ts_it = make_evaluation_predictions(\n",
        "    dataset=test_ds_24, \n",
        "    predictor=DA_predictor, \n",
        "    num_samples=100, \n",
        ")\n",
        "\n",
        "forecasts = list(forecast_it)\n",
        "tss = list(ts_it)\n",
        "\n",
        "evaluator = Evaluator(quantiles=[0.1, 0.5, 0.9])\n",
        "agg_metrics, item_metrics = evaluator(iter(tss), iter(forecasts), num_series=len(test_ds_24))\n",
        "\n",
        "print(json.dumps(agg_metrics, indent=4))"
      ],
      "execution_count": 17,
      "outputs": [
        {
          "output_type": "stream",
          "text": [
            "Running evaluation: 100%|██████████| 321/321 [00:00<00:00, 7732.66it/s]\n"
          ],
          "name": "stderr"
        },
        {
          "output_type": "stream",
          "text": [
            "{\n",
            "    \"MSE\": 595788.6721290431,\n",
            "    \"abs_error\": 939137.0627183914,\n",
            "    \"abs_target_sum\": 17268997.0,\n",
            "    \"abs_target_mean\": 2241.56243509865,\n",
            "    \"seasonal_error\": 189.64815247902152,\n",
            "    \"MASE\": 0.6680059843478862,\n",
            "    \"MAPE\": 0.08375125150692402,\n",
            "    \"sMAPE\": 0.10422752072424935,\n",
            "    \"OWA\": NaN,\n",
            "    \"MSIS\": 7.732299862313674,\n",
            "    \"QuantileLoss[0.1]\": 388311.1071445913,\n",
            "    \"Coverage[0.1]\": 0.1285046728971963,\n",
            "    \"QuantileLoss[0.5]\": 939137.0620438568,\n",
            "    \"Coverage[0.5]\": 0.550882658359294,\n",
            "    \"QuantileLoss[0.9]\": 534382.8787106394,\n",
            "    \"Coverage[0.9]\": 0.8952492211838002,\n",
            "    \"RMSE\": 771.8734819444461,\n",
            "    \"NRMSE\": 0.34434618900565056,\n",
            "    \"ND\": 0.054382837794134276,\n",
            "    \"wQuantileLoss[0.1]\": 0.022486025514081177,\n",
            "    \"wQuantileLoss[0.5]\": 0.05438283775507384,\n",
            "    \"wQuantileLoss[0.9]\": 0.03094463903784565,\n",
            "    \"mean_wQuantileLoss\": 0.03593783410233355,\n",
            "    \"MAE_Coverage\": 0.02804603669089668\n",
            "}\n"
          ],
          "name": "stdout"
        }
      ]
    },
    {
      "cell_type": "code",
      "metadata": {
        "id": "1HI9PXx0mi6C",
        "colab_type": "code",
        "colab": {}
      },
      "source": [
        ""
      ],
      "execution_count": 0,
      "outputs": []
    },
    {
      "cell_type": "markdown",
      "metadata": {
        "colab_type": "text",
        "id": "fy4faTqGUoxS"
      },
      "source": [
        "## exchange_rate"
      ]
    },
    {
      "cell_type": "code",
      "metadata": {
        "colab_type": "code",
        "outputId": "db9156b0-378d-4483-fe35-aa0cdc766c22",
        "id": "6JcEADfNUoxT",
        "colab": {
          "base_uri": "https://localhost:8080/",
          "height": 53
        }
      },
      "source": [
        "exchange_rate_dataset = get_dataset(\"exchange_rate\", regenerate=False)"
      ],
      "execution_count": 18,
      "outputs": [
        {
          "output_type": "stream",
          "text": [
            "saving time-series into /root/.mxnet/gluon-ts/datasets/exchange_rate/train/data.json\n",
            "saving time-series into /root/.mxnet/gluon-ts/datasets/exchange_rate/test/data.json\n"
          ],
          "name": "stdout"
        }
      ]
    },
    {
      "cell_type": "code",
      "metadata": {
        "colab_type": "code",
        "outputId": "78d6aafb-47ba-41ae-bc0d-20f0466c8569",
        "id": "kdnQ9-IwUoxV",
        "colab": {
          "base_uri": "https://localhost:8080/",
          "height": 53
        }
      },
      "source": [
        "print (len(exchange_rate_dataset.train))\n",
        "print (len(exchange_rate_dataset.test))"
      ],
      "execution_count": 19,
      "outputs": [
        {
          "output_type": "stream",
          "text": [
            "8\n",
            "40\n"
          ],
          "name": "stdout"
        }
      ]
    },
    {
      "cell_type": "code",
      "metadata": {
        "colab_type": "code",
        "outputId": "fcf71f07-8aab-473a-ebcf-edbd99c65b03",
        "id": "6zzH8t0ZUoxX",
        "colab": {
          "base_uri": "https://localhost:8080/",
          "height": 35
        }
      },
      "source": [
        "exchange_rate_dataset.metadata"
      ],
      "execution_count": 20,
      "outputs": [
        {
          "output_type": "execute_result",
          "data": {
            "text/plain": [
              "MetaData(freq='1B', target=None, feat_static_cat=[CategoricalFeatureInfo(name='feat_static_cat', cardinality='8')], feat_static_real=[], feat_dynamic_real=[], feat_dynamic_cat=[], prediction_length=30)"
            ]
          },
          "metadata": {
            "tags": []
          },
          "execution_count": 20
        }
      ]
    },
    {
      "cell_type": "code",
      "metadata": {
        "colab_type": "code",
        "outputId": "40171ca7-eea4-4a2d-c9d4-d8565ddbe1f3",
        "id": "mlWCjOAxo9B2",
        "colab": {
          "base_uri": "https://localhost:8080/",
          "height": 35
        }
      },
      "source": [
        "exchange_rate_dataset.metadata.feat_static_cat[0]"
      ],
      "execution_count": 21,
      "outputs": [
        {
          "output_type": "execute_result",
          "data": {
            "text/plain": [
              "CategoricalFeatureInfo(name='feat_static_cat', cardinality='8')"
            ]
          },
          "metadata": {
            "tags": []
          },
          "execution_count": 21
        }
      ]
    },
    {
      "cell_type": "code",
      "metadata": {
        "colab_type": "code",
        "id": "lWauZAdio9B8",
        "colab": {}
      },
      "source": [
        "car = [int(exchange_rate_dataset.metadata.feat_static_cat[0].cardinality)]"
      ],
      "execution_count": 0,
      "outputs": []
    },
    {
      "cell_type": "code",
      "metadata": {
        "colab_type": "code",
        "outputId": "76db70b2-8e57-4b54-fcec-052b024050f1",
        "id": "Evq7k0huUoxn",
        "colab": {
          "base_uri": "https://localhost:8080/",
          "height": 35
        }
      },
      "source": [
        "next(iter(exchange_rate_dataset.train)).keys()"
      ],
      "execution_count": 23,
      "outputs": [
        {
          "output_type": "execute_result",
          "data": {
            "text/plain": [
              "dict_keys(['start', 'target', 'feat_static_cat', 'item_id', 'source'])"
            ]
          },
          "metadata": {
            "tags": []
          },
          "execution_count": 23
        }
      ]
    },
    {
      "cell_type": "code",
      "metadata": {
        "colab_type": "code",
        "id": "kreaWmN4Uoxt",
        "colab": {}
      },
      "source": [
        "# https://gluon-ts.mxnet.io/api/gluonts/gluonts.model.deepar.html\n",
        "DA_estimator = DeepAREstimator(\n",
        "    freq=exchange_rate_dataset.metadata.freq, \n",
        "    prediction_length=exchange_rate_dataset.metadata.prediction_length,\n",
        "    trainer = deepar_trainer, # (default: Trainer())\n",
        "    context_length=None, # (default: None, in which case context_length = prediction_length)\n",
        "    num_layers=2, # (default: 2)\n",
        "    num_cells=40, # (default: 40)\n",
        "    cell_type='lstm', # (default: ‘lstm’)\n",
        "    dropout_rate=0.1, # (default: 0.1)\n",
        "    use_feat_dynamic_real=False, # (default: False)\n",
        "    use_feat_static_cat=True, # (default: False)\n",
        "    use_feat_static_real=False, # (default: False)\n",
        "    cardinality=car, # (default: None)\n",
        "    #embedding_dimension=[20], # (default: [min(50, (cat+1)//2) for cat in cardinality])\n",
        "    distr_output = StudentTOutput(), # (default: StudentTOutput())\n",
        "    scaling=True, # (default: true)\n",
        "    lags_seq=None, # (default: None, in which case these are automatically determined based on freq)\n",
        "    time_features=None, # (default: None, in which case these are automatically determined based on freq)\n",
        "    num_parallel_samples=100, # (default: 100)\n",
        ")"
      ],
      "execution_count": 0,
      "outputs": []
    },
    {
      "cell_type": "code",
      "metadata": {
        "colab_type": "code",
        "id": "oLzqf7kYUoxv",
        "outputId": "ccafe6de-55bf-4cc8-f881-f648ee2456e6",
        "colab": {
          "base_uri": "https://localhost:8080/",
          "height": 1000
        }
      },
      "source": [
        "DA_predictor = DA_estimator.train(exchange_rate_dataset.train)"
      ],
      "execution_count": 25,
      "outputs": [
        {
          "output_type": "stream",
          "text": [
            "\r  0%|          | 0/50 [00:00<?, ?it/s]"
          ],
          "name": "stderr"
        },
        {
          "output_type": "stream",
          "text": [
            "learning rate from ``lr_scheduler`` has been overwritten by ``learning_rate`` in optimizer.\n"
          ],
          "name": "stdout"
        },
        {
          "output_type": "stream",
          "text": [
            "100%|██████████| 50/50 [00:07<00:00,  6.38it/s, epoch=1/100, avg_epoch_loss=-1.27]\n",
            "100%|██████████| 50/50 [00:07<00:00,  6.48it/s, epoch=2/100, avg_epoch_loss=-2.98]\n",
            "100%|██████████| 50/50 [00:07<00:00,  6.65it/s, epoch=3/100, avg_epoch_loss=-3.32]\n",
            "100%|██████████| 50/50 [00:07<00:00,  6.62it/s, epoch=4/100, avg_epoch_loss=-3.32]\n",
            "100%|██████████| 50/50 [00:07<00:00,  6.54it/s, epoch=5/100, avg_epoch_loss=-3.06]\n",
            "100%|██████████| 50/50 [00:07<00:00,  6.59it/s, epoch=6/100, avg_epoch_loss=-3.46]\n",
            "100%|██████████| 50/50 [00:07<00:00,  6.63it/s, epoch=7/100, avg_epoch_loss=-3.53]\n",
            "100%|██████████| 50/50 [00:07<00:00,  6.62it/s, epoch=8/100, avg_epoch_loss=-3.41]\n",
            "100%|██████████| 50/50 [00:07<00:00,  6.67it/s, epoch=9/100, avg_epoch_loss=-3.56]\n",
            "100%|██████████| 50/50 [00:07<00:00,  6.58it/s, epoch=10/100, avg_epoch_loss=-3.55]\n",
            "100%|██████████| 50/50 [00:07<00:00,  6.70it/s, epoch=11/100, avg_epoch_loss=-3.64]\n",
            "100%|██████████| 50/50 [00:07<00:00,  6.56it/s, epoch=12/100, avg_epoch_loss=-3.47]\n",
            "100%|██████████| 50/50 [00:07<00:00,  6.66it/s, epoch=13/100, avg_epoch_loss=-3.63]\n",
            "100%|██████████| 50/50 [00:07<00:00,  6.72it/s, epoch=14/100, avg_epoch_loss=-3.72]\n",
            "100%|██████████| 50/50 [00:07<00:00,  6.56it/s, epoch=15/100, avg_epoch_loss=-3.76]\n",
            "100%|██████████| 50/50 [00:07<00:00,  6.50it/s, epoch=16/100, avg_epoch_loss=-3.75]\n",
            "100%|██████████| 50/50 [00:07<00:00,  6.53it/s, epoch=17/100, avg_epoch_loss=-3.82]\n",
            "100%|██████████| 50/50 [00:07<00:00,  6.59it/s, epoch=18/100, avg_epoch_loss=-3.62]\n",
            "100%|██████████| 50/50 [00:07<00:00,  6.44it/s, epoch=19/100, avg_epoch_loss=-3.68]\n",
            "100%|██████████| 50/50 [00:07<00:00,  6.66it/s, epoch=20/100, avg_epoch_loss=-3.58]\n",
            "100%|██████████| 50/50 [00:07<00:00,  6.63it/s, epoch=21/100, avg_epoch_loss=-3.84]\n",
            "100%|██████████| 50/50 [00:07<00:00,  6.60it/s, epoch=22/100, avg_epoch_loss=-3.85]\n",
            "100%|██████████| 50/50 [00:07<00:00,  6.67it/s, epoch=23/100, avg_epoch_loss=-3.77]\n",
            "100%|██████████| 50/50 [00:07<00:00,  6.58it/s, epoch=24/100, avg_epoch_loss=-3.8]\n",
            "100%|██████████| 50/50 [00:07<00:00,  6.65it/s, epoch=25/100, avg_epoch_loss=-3.82]\n",
            "100%|██████████| 50/50 [00:07<00:00,  6.68it/s, epoch=26/100, avg_epoch_loss=-3.95]\n",
            "100%|██████████| 50/50 [00:07<00:00,  6.59it/s, epoch=27/100, avg_epoch_loss=-3.93]\n",
            "100%|██████████| 50/50 [00:07<00:00,  6.75it/s, epoch=28/100, avg_epoch_loss=-3.87]\n",
            "100%|██████████| 50/50 [00:07<00:00,  6.54it/s, epoch=29/100, avg_epoch_loss=-3.89]\n",
            "100%|██████████| 50/50 [00:07<00:00,  6.59it/s, epoch=30/100, avg_epoch_loss=-4.03]\n",
            "100%|██████████| 50/50 [00:07<00:00,  6.58it/s, epoch=31/100, avg_epoch_loss=-4]\n",
            "100%|██████████| 50/50 [00:07<00:00,  6.71it/s, epoch=32/100, avg_epoch_loss=-4.07]\n",
            "100%|██████████| 50/50 [00:07<00:00,  6.64it/s, epoch=33/100, avg_epoch_loss=-3.92]\n",
            "100%|██████████| 50/50 [00:07<00:00,  6.61it/s, epoch=34/100, avg_epoch_loss=-3.97]\n",
            "100%|██████████| 50/50 [00:07<00:00,  6.67it/s, epoch=35/100, avg_epoch_loss=-4.03]\n",
            "100%|██████████| 50/50 [00:07<00:00,  6.76it/s, epoch=36/100, avg_epoch_loss=-4.08]\n",
            "100%|██████████| 50/50 [00:07<00:00,  6.57it/s, epoch=37/100, avg_epoch_loss=-3.97]\n",
            "100%|██████████| 50/50 [00:07<00:00,  6.50it/s, epoch=38/100, avg_epoch_loss=-4.08]\n",
            "100%|██████████| 50/50 [00:07<00:00,  6.62it/s, epoch=39/100, avg_epoch_loss=-4.01]\n",
            "100%|██████████| 50/50 [00:07<00:00,  6.69it/s, epoch=40/100, avg_epoch_loss=-3.85]\n",
            "100%|██████████| 50/50 [00:07<00:00,  6.68it/s, epoch=41/100, avg_epoch_loss=-4.14]\n",
            "100%|██████████| 50/50 [00:07<00:00,  6.64it/s, epoch=42/100, avg_epoch_loss=-3.97]\n",
            "100%|██████████| 50/50 [00:07<00:00,  6.63it/s, epoch=43/100, avg_epoch_loss=-3.84]\n",
            "100%|██████████| 50/50 [00:07<00:00,  6.63it/s, epoch=44/100, avg_epoch_loss=-4.03]\n",
            "100%|██████████| 50/50 [00:07<00:00,  6.61it/s, epoch=45/100, avg_epoch_loss=-4.03]\n",
            "100%|██████████| 50/50 [00:07<00:00,  6.67it/s, epoch=46/100, avg_epoch_loss=-4.13]\n",
            "100%|██████████| 50/50 [00:07<00:00,  6.65it/s, epoch=47/100, avg_epoch_loss=-3.74]\n",
            "100%|██████████| 50/50 [00:07<00:00,  6.63it/s, epoch=48/100, avg_epoch_loss=-4.11]\n",
            "100%|██████████| 50/50 [00:07<00:00,  6.60it/s, epoch=49/100, avg_epoch_loss=-4.08]\n",
            "100%|██████████| 50/50 [00:07<00:00,  6.60it/s, epoch=50/100, avg_epoch_loss=-3.9]\n",
            "100%|██████████| 50/50 [00:07<00:00,  6.61it/s, epoch=51/100, avg_epoch_loss=-4.06]\n",
            "100%|██████████| 50/50 [00:07<00:00,  6.67it/s, epoch=52/100, avg_epoch_loss=-4.07]\n",
            "100%|██████████| 50/50 [00:07<00:00,  6.56it/s, epoch=53/100, avg_epoch_loss=-4.29]\n",
            "100%|██████████| 50/50 [00:07<00:00,  6.70it/s, epoch=54/100, avg_epoch_loss=-4.23]\n",
            "100%|██████████| 50/50 [00:07<00:00,  6.57it/s, epoch=55/100, avg_epoch_loss=-4.14]\n",
            "100%|██████████| 50/50 [00:07<00:00,  6.50it/s, epoch=56/100, avg_epoch_loss=-4.19]\n",
            "100%|██████████| 50/50 [00:07<00:00,  6.57it/s, epoch=57/100, avg_epoch_loss=-4.16]\n",
            "100%|██████████| 50/50 [00:07<00:00,  6.55it/s, epoch=58/100, avg_epoch_loss=-4.14]\n",
            "100%|██████████| 50/50 [00:07<00:00,  6.71it/s, epoch=59/100, avg_epoch_loss=-4.19]\n",
            "100%|██████████| 50/50 [00:07<00:00,  6.45it/s, epoch=60/100, avg_epoch_loss=-4.22]\n",
            "100%|██████████| 50/50 [00:07<00:00,  6.69it/s, epoch=61/100, avg_epoch_loss=-4.08]\n",
            "100%|██████████| 50/50 [00:09<00:00,  5.14it/s, epoch=62/100, avg_epoch_loss=-4.16]\n",
            "100%|██████████| 50/50 [00:08<00:00,  5.82it/s, epoch=63/100, avg_epoch_loss=-4.13]\n",
            "100%|██████████| 50/50 [00:07<00:00,  6.56it/s, epoch=64/100, avg_epoch_loss=-4.19]\n",
            "100%|██████████| 50/50 [00:07<00:00,  6.67it/s, epoch=65/100, avg_epoch_loss=-4.17]\n",
            "100%|██████████| 50/50 [00:07<00:00,  6.60it/s, epoch=66/100, avg_epoch_loss=-4.21]\n",
            "100%|██████████| 50/50 [00:07<00:00,  6.70it/s, epoch=67/100, avg_epoch_loss=-4.19]\n",
            "100%|██████████| 50/50 [00:07<00:00,  6.48it/s, epoch=68/100, avg_epoch_loss=-4.21]\n",
            "100%|██████████| 50/50 [00:07<00:00,  6.39it/s, epoch=69/100, avg_epoch_loss=-4.32]\n",
            "100%|██████████| 50/50 [00:07<00:00,  6.41it/s, epoch=70/100, avg_epoch_loss=-4.24]\n",
            "100%|██████████| 50/50 [00:07<00:00,  6.49it/s, epoch=71/100, avg_epoch_loss=-4.26]\n",
            "100%|██████████| 50/50 [00:07<00:00,  6.64it/s, epoch=72/100, avg_epoch_loss=-4.17]\n",
            "100%|██████████| 50/50 [00:07<00:00,  6.66it/s, epoch=73/100, avg_epoch_loss=-4.27]\n",
            "100%|██████████| 50/50 [00:07<00:00,  6.76it/s, epoch=74/100, avg_epoch_loss=-4.28]\n",
            "100%|██████████| 50/50 [00:07<00:00,  6.56it/s, epoch=75/100, avg_epoch_loss=-4.29]\n",
            "100%|██████████| 50/50 [00:07<00:00,  6.71it/s, epoch=76/100, avg_epoch_loss=-4.3]\n",
            "100%|██████████| 50/50 [00:07<00:00,  6.59it/s, epoch=77/100, avg_epoch_loss=-4.24]\n",
            "100%|██████████| 50/50 [00:07<00:00,  6.74it/s, epoch=78/100, avg_epoch_loss=-4.22]\n",
            "100%|██████████| 50/50 [00:07<00:00,  6.61it/s, epoch=79/100, avg_epoch_loss=-4.26]\n",
            "100%|██████████| 50/50 [00:07<00:00,  6.55it/s, epoch=80/100, avg_epoch_loss=-4.19]\n",
            "100%|██████████| 50/50 [00:07<00:00,  6.56it/s, epoch=81/100, avg_epoch_loss=-4.24]\n",
            "100%|██████████| 50/50 [00:07<00:00,  6.69it/s, epoch=82/100, avg_epoch_loss=-4.26]\n",
            "100%|██████████| 50/50 [00:07<00:00,  6.67it/s, epoch=83/100, avg_epoch_loss=-4.31]\n",
            "100%|██████████| 50/50 [00:07<00:00,  6.51it/s, epoch=84/100, avg_epoch_loss=-4.29]\n",
            "100%|██████████| 50/50 [00:07<00:00,  6.53it/s, epoch=85/100, avg_epoch_loss=-4.29]\n",
            "100%|██████████| 50/50 [00:07<00:00,  6.53it/s, epoch=86/100, avg_epoch_loss=-4.27]\n",
            "100%|██████████| 50/50 [00:07<00:00,  6.48it/s, epoch=87/100, avg_epoch_loss=-4.22]\n",
            "100%|██████████| 50/50 [00:07<00:00,  6.63it/s, epoch=88/100, avg_epoch_loss=-4.25]\n",
            "100%|██████████| 50/50 [00:07<00:00,  6.48it/s, epoch=89/100, avg_epoch_loss=-4.3]\n",
            "100%|██████████| 50/50 [00:07<00:00,  6.48it/s, epoch=90/100, avg_epoch_loss=-4.25]\n",
            "100%|██████████| 50/50 [00:07<00:00,  6.54it/s, epoch=91/100, avg_epoch_loss=-4.24]\n",
            "100%|██████████| 50/50 [00:07<00:00,  6.67it/s, epoch=92/100, avg_epoch_loss=-4.19]\n",
            "100%|██████████| 50/50 [00:07<00:00,  6.48it/s, epoch=93/100, avg_epoch_loss=-4.27]\n",
            "100%|██████████| 50/50 [00:07<00:00,  6.53it/s, epoch=94/100, avg_epoch_loss=-4.27]\n",
            "100%|██████████| 50/50 [00:07<00:00,  6.51it/s, epoch=95/100, avg_epoch_loss=-4.32]\n",
            "100%|██████████| 50/50 [00:07<00:00,  6.51it/s, epoch=96/100, avg_epoch_loss=-4.26]\n",
            "100%|██████████| 50/50 [00:07<00:00,  6.42it/s, epoch=97/100, avg_epoch_loss=-4.28]\n",
            "100%|██████████| 50/50 [00:07<00:00,  6.72it/s, epoch=98/100, avg_epoch_loss=-4.26]\n",
            "100%|██████████| 50/50 [00:07<00:00,  6.55it/s, epoch=99/100, avg_epoch_loss=-4.31]\n",
            "100%|██████████| 50/50 [00:07<00:00,  6.55it/s, epoch=100/100, avg_epoch_loss=-4.28]\n"
          ],
          "name": "stderr"
        }
      ]
    },
    {
      "cell_type": "code",
      "metadata": {
        "colab_type": "code",
        "id": "H7vVKhYYUox1",
        "outputId": "37b42898-82d0-4dda-8f8b-7b26215a2334",
        "colab": {
          "base_uri": "https://localhost:8080/",
          "height": 503
        }
      },
      "source": [
        "forecast_it, ts_it = make_evaluation_predictions(\n",
        "    dataset=exchange_rate_dataset.test, \n",
        "    predictor=DA_predictor, \n",
        "    num_samples=100, \n",
        ")\n",
        "\n",
        "forecasts = list(forecast_it)\n",
        "tss = list(ts_it)\n",
        "\n",
        "evaluator = Evaluator(quantiles=[0.1, 0.5, 0.9])\n",
        "agg_metrics, item_metrics = evaluator(iter(tss), iter(forecasts), num_series=len(exchange_rate_dataset.test))\n",
        "\n",
        "print(json.dumps(agg_metrics, indent=4))"
      ],
      "execution_count": 26,
      "outputs": [
        {
          "output_type": "stream",
          "text": [
            "Running evaluation: 100%|██████████| 40/40 [00:00<00:00, 891.10it/s]\n"
          ],
          "name": "stderr"
        },
        {
          "output_type": "stream",
          "text": [
            "{\n",
            "    \"MSE\": 0.00020810532928313327,\n",
            "    \"abs_error\": 11.262549614533782,\n",
            "    \"abs_target_sum\": 975.9766580164433,\n",
            "    \"abs_target_mean\": 0.8133138816803692,\n",
            "    \"seasonal_error\": 0.006515919403041841,\n",
            "    \"MASE\": 1.9573757224747912,\n",
            "    \"MAPE\": 0.01372800821313302,\n",
            "    \"sMAPE\": 0.013550027371305284,\n",
            "    \"OWA\": NaN,\n",
            "    \"MSIS\": 26.174232519846974,\n",
            "    \"QuantileLoss[0.1]\": 5.441269254870712,\n",
            "    \"Coverage[0.1]\": 0.33249999999999996,\n",
            "    \"QuantileLoss[0.5]\": 11.262549614533782,\n",
            "    \"Coverage[0.5]\": 0.7658333333333333,\n",
            "    \"QuantileLoss[0.9]\": 4.6876753276214,\n",
            "    \"Coverage[0.9]\": 0.9758333333333333,\n",
            "    \"RMSE\": 0.014425856275560674,\n",
            "    \"NRMSE\": 0.01773713273620234,\n",
            "    \"ND\": 0.011539773540715182,\n",
            "    \"wQuantileLoss[0.1]\": 0.005575204294259912,\n",
            "    \"wQuantileLoss[0.5]\": 0.011539773540715182,\n",
            "    \"wQuantileLoss[0.9]\": 0.004803060902243855,\n",
            "    \"mean_wQuantileLoss\": 0.007306012912406315,\n",
            "    \"MAE_Coverage\": 0.19138888888888883\n",
            "}\n"
          ],
          "name": "stdout"
        }
      ]
    },
    {
      "cell_type": "code",
      "metadata": {
        "colab_type": "code",
        "id": "XUHZBr5bUox4",
        "colab": {}
      },
      "source": [
        ""
      ],
      "execution_count": 0,
      "outputs": []
    },
    {
      "cell_type": "markdown",
      "metadata": {
        "id": "OjjjZv_uD7L_",
        "colab_type": "text"
      },
      "source": [
        "## m4_daily"
      ]
    },
    {
      "cell_type": "code",
      "metadata": {
        "id": "DpQOqBRpwUSK",
        "colab_type": "code",
        "outputId": "01d880bf-a30f-4bb6-9015-4ffa9b8741e9",
        "colab": {
          "base_uri": "https://localhost:8080/",
          "height": 53
        }
      },
      "source": [
        "m4_daily_dataset = get_dataset(\"m4_daily\", regenerate=True)"
      ],
      "execution_count": 27,
      "outputs": [
        {
          "output_type": "stream",
          "text": [
            "saving time-series into /root/.mxnet/gluon-ts/datasets/m4_daily/train/data.json\n",
            "saving time-series into /root/.mxnet/gluon-ts/datasets/m4_daily/test/data.json\n"
          ],
          "name": "stdout"
        }
      ]
    },
    {
      "cell_type": "code",
      "metadata": {
        "id": "nDNzNbsqGOZ3",
        "colab_type": "code",
        "outputId": "b9f5af53-1d74-43cb-bb18-95034fe8408c",
        "colab": {
          "base_uri": "https://localhost:8080/",
          "height": 53
        }
      },
      "source": [
        "print (len(m4_daily_dataset.train))\n",
        "print (len(m4_daily_dataset.test))"
      ],
      "execution_count": 28,
      "outputs": [
        {
          "output_type": "stream",
          "text": [
            "4227\n",
            "4227\n"
          ],
          "name": "stdout"
        }
      ]
    },
    {
      "cell_type": "code",
      "metadata": {
        "id": "rARQuyPqE2E8",
        "colab_type": "code",
        "outputId": "894f71aa-09d0-4964-f6d5-fcaa4a3a467a",
        "colab": {
          "base_uri": "https://localhost:8080/",
          "height": 35
        }
      },
      "source": [
        "m4_daily_dataset.metadata"
      ],
      "execution_count": 29,
      "outputs": [
        {
          "output_type": "execute_result",
          "data": {
            "text/plain": [
              "MetaData(freq='D', target=None, feat_static_cat=[CategoricalFeatureInfo(name='feat_static_cat', cardinality='4227')], feat_static_real=[], feat_dynamic_real=[], feat_dynamic_cat=[], prediction_length=14)"
            ]
          },
          "metadata": {
            "tags": []
          },
          "execution_count": 29
        }
      ]
    },
    {
      "cell_type": "code",
      "metadata": {
        "colab_type": "code",
        "outputId": "5ec914c5-8c26-4808-8bcf-e1c404d145fe",
        "id": "u8sgMUqCpR_t",
        "colab": {
          "base_uri": "https://localhost:8080/",
          "height": 35
        }
      },
      "source": [
        "m4_daily_dataset.metadata.feat_static_cat[0]"
      ],
      "execution_count": 30,
      "outputs": [
        {
          "output_type": "execute_result",
          "data": {
            "text/plain": [
              "CategoricalFeatureInfo(name='feat_static_cat', cardinality='4227')"
            ]
          },
          "metadata": {
            "tags": []
          },
          "execution_count": 30
        }
      ]
    },
    {
      "cell_type": "code",
      "metadata": {
        "colab_type": "code",
        "id": "frjgd9iNpR_w",
        "colab": {}
      },
      "source": [
        "car = [int(m4_daily_dataset.metadata.feat_static_cat[0].cardinality)]"
      ],
      "execution_count": 0,
      "outputs": []
    },
    {
      "cell_type": "code",
      "metadata": {
        "id": "f946ZalyEh4c",
        "colab_type": "code",
        "outputId": "36f8285b-673e-468d-fcae-d7847db23d5d",
        "colab": {
          "base_uri": "https://localhost:8080/",
          "height": 35
        }
      },
      "source": [
        "next(iter(m4_daily_dataset.train)).keys()"
      ],
      "execution_count": 32,
      "outputs": [
        {
          "output_type": "execute_result",
          "data": {
            "text/plain": [
              "dict_keys(['start', 'target', 'feat_static_cat', 'item_id', 'source'])"
            ]
          },
          "metadata": {
            "tags": []
          },
          "execution_count": 32
        }
      ]
    },
    {
      "cell_type": "code",
      "metadata": {
        "id": "JtP-UGN0EBxc",
        "colab_type": "code",
        "colab": {}
      },
      "source": [
        "# https://gluon-ts.mxnet.io/api/gluonts/gluonts.model.deepar.html\n",
        "DA_estimator = DeepAREstimator(\n",
        "    freq=m4_daily_dataset.metadata.freq, \n",
        "    prediction_length=m4_daily_dataset.metadata.prediction_length,\n",
        "    trainer = deepar_trainer, # (default: Trainer())\n",
        "    context_length=None, # (default: None, in which case context_length = prediction_length)\n",
        "    num_layers=2, # (default: 2)\n",
        "    num_cells=40, # (default: 40)\n",
        "    cell_type='lstm', # (default: ‘lstm’)\n",
        "    dropout_rate=0.1, # (default: 0.1)\n",
        "    use_feat_dynamic_real=False, # (default: False)\n",
        "    use_feat_static_cat=True, # (default: False)\n",
        "    use_feat_static_real=False, # (default: False)\n",
        "    cardinality=car, # (default: None)\n",
        "    #embedding_dimension=[20], # (default: [min(50, (cat+1)//2) for cat in cardinality])\n",
        "    distr_output = StudentTOutput(), # (default: StudentTOutput())\n",
        "    scaling=True, # (default: true)\n",
        "    lags_seq=None, # (default: None, in which case these are automatically determined based on freq)\n",
        "    time_features=None, # (default: None, in which case these are automatically determined based on freq)\n",
        "    num_parallel_samples=100, # (default: 100)\n",
        ")"
      ],
      "execution_count": 0,
      "outputs": []
    },
    {
      "cell_type": "code",
      "metadata": {
        "id": "cNq_opQMF3sc",
        "colab_type": "code",
        "outputId": "82c43dea-6363-4879-f892-7d0ce237ba28",
        "colab": {
          "base_uri": "https://localhost:8080/",
          "height": 1000
        }
      },
      "source": [
        "DA_predictor = DA_estimator.train(m4_daily_dataset.train)"
      ],
      "execution_count": 34,
      "outputs": [
        {
          "output_type": "stream",
          "text": [
            "\r  0%|          | 0/50 [00:00<?, ?it/s]"
          ],
          "name": "stderr"
        },
        {
          "output_type": "stream",
          "text": [
            "learning rate from ``lr_scheduler`` has been overwritten by ``learning_rate`` in optimizer.\n"
          ],
          "name": "stdout"
        },
        {
          "output_type": "stream",
          "text": [
            "100%|██████████| 50/50 [00:03<00:00, 13.26it/s, epoch=1/100, avg_epoch_loss=7.56]\n",
            "100%|██████████| 50/50 [00:04<00:00, 11.05it/s, epoch=2/100, avg_epoch_loss=6.64]\n",
            "100%|██████████| 50/50 [00:04<00:00, 12.00it/s, epoch=3/100, avg_epoch_loss=6.68]\n",
            "100%|██████████| 50/50 [00:04<00:00, 12.05it/s, epoch=4/100, avg_epoch_loss=6.4]\n",
            "100%|██████████| 50/50 [00:04<00:00, 11.60it/s, epoch=5/100, avg_epoch_loss=6.61]\n",
            "100%|██████████| 50/50 [00:04<00:00, 11.72it/s, epoch=6/100, avg_epoch_loss=6.46]\n",
            "100%|██████████| 50/50 [00:04<00:00, 12.18it/s, epoch=7/100, avg_epoch_loss=6.4]\n",
            "100%|██████████| 50/50 [00:04<00:00, 12.48it/s, epoch=8/100, avg_epoch_loss=6.48]\n",
            "100%|██████████| 50/50 [00:04<00:00, 11.75it/s, epoch=9/100, avg_epoch_loss=6.34]\n",
            "100%|██████████| 50/50 [00:04<00:00, 12.12it/s, epoch=10/100, avg_epoch_loss=6.35]\n",
            "100%|██████████| 50/50 [00:04<00:00, 11.92it/s, epoch=11/100, avg_epoch_loss=6.37]\n",
            "100%|██████████| 50/50 [00:04<00:00, 12.33it/s, epoch=12/100, avg_epoch_loss=6.44]\n",
            "100%|██████████| 50/50 [00:04<00:00, 12.07it/s, epoch=13/100, avg_epoch_loss=6.37]\n",
            "100%|██████████| 50/50 [00:04<00:00, 12.05it/s, epoch=14/100, avg_epoch_loss=6.37]\n",
            "100%|██████████| 50/50 [00:04<00:00, 12.00it/s, epoch=15/100, avg_epoch_loss=6.23]\n",
            "100%|██████████| 50/50 [00:03<00:00, 12.58it/s, epoch=16/100, avg_epoch_loss=6.51]\n",
            "100%|██████████| 50/50 [00:04<00:00, 11.85it/s, epoch=17/100, avg_epoch_loss=6.3]\n",
            "100%|██████████| 50/50 [00:04<00:00, 12.29it/s, epoch=18/100, avg_epoch_loss=6.43]\n",
            "100%|██████████| 50/50 [00:04<00:00, 11.97it/s, epoch=19/100, avg_epoch_loss=6.44]\n",
            "100%|██████████| 50/50 [00:03<00:00, 12.60it/s, epoch=20/100, avg_epoch_loss=6.21]\n",
            "100%|██████████| 50/50 [00:04<00:00, 12.15it/s, epoch=21/100, avg_epoch_loss=6.29]\n",
            "100%|██████████| 50/50 [00:04<00:00, 12.00it/s, epoch=22/100, avg_epoch_loss=6.28]\n",
            "100%|██████████| 50/50 [00:04<00:00, 12.18it/s, epoch=23/100, avg_epoch_loss=6.19]\n",
            "100%|██████████| 50/50 [00:04<00:00, 12.31it/s, epoch=24/100, avg_epoch_loss=6.32]\n",
            "100%|██████████| 50/50 [00:04<00:00, 11.88it/s, epoch=25/100, avg_epoch_loss=6.22]\n",
            "100%|██████████| 50/50 [00:04<00:00, 12.33it/s, epoch=26/100, avg_epoch_loss=6.46]\n",
            "100%|██████████| 50/50 [00:04<00:00, 11.91it/s, epoch=27/100, avg_epoch_loss=6.51]\n",
            "100%|██████████| 50/50 [00:04<00:00, 12.45it/s, epoch=28/100, avg_epoch_loss=6.2]\n",
            "100%|██████████| 50/50 [00:04<00:00, 12.32it/s, epoch=29/100, avg_epoch_loss=6.41]\n",
            "100%|██████████| 50/50 [00:04<00:00, 11.65it/s, epoch=30/100, avg_epoch_loss=6.39]\n",
            "100%|██████████| 50/50 [00:04<00:00, 12.21it/s, epoch=31/100, avg_epoch_loss=6.42]\n",
            "100%|██████████| 50/50 [00:04<00:00, 12.39it/s, epoch=32/100, avg_epoch_loss=6.34]\n",
            "100%|██████████| 50/50 [00:04<00:00, 12.06it/s, epoch=33/100, avg_epoch_loss=6.02]\n",
            "100%|██████████| 50/50 [00:04<00:00, 12.26it/s, epoch=34/100, avg_epoch_loss=6.34]\n",
            "100%|██████████| 50/50 [00:04<00:00, 11.83it/s, epoch=35/100, avg_epoch_loss=6.38]\n",
            "100%|██████████| 50/50 [00:04<00:00, 12.31it/s, epoch=36/100, avg_epoch_loss=6.32]\n",
            "100%|██████████| 50/50 [00:04<00:00, 12.48it/s, epoch=37/100, avg_epoch_loss=6.26]\n",
            "100%|██████████| 50/50 [00:04<00:00, 12.06it/s, epoch=38/100, avg_epoch_loss=6.23]\n",
            "100%|██████████| 50/50 [00:04<00:00, 12.37it/s, epoch=39/100, avg_epoch_loss=6.32]\n",
            "100%|██████████| 50/50 [00:03<00:00, 12.78it/s, epoch=40/100, avg_epoch_loss=6.27]\n",
            "100%|██████████| 50/50 [00:04<00:00, 12.05it/s, epoch=41/100, avg_epoch_loss=6.14]\n",
            "100%|██████████| 50/50 [00:04<00:00, 12.08it/s, epoch=42/100, avg_epoch_loss=6.44]\n",
            "100%|██████████| 50/50 [00:04<00:00, 11.90it/s, epoch=43/100, avg_epoch_loss=6.1]\n",
            "100%|██████████| 50/50 [00:04<00:00, 12.39it/s, epoch=44/100, avg_epoch_loss=6.06]\n",
            "100%|██████████| 50/50 [00:04<00:00, 12.25it/s, epoch=45/100, avg_epoch_loss=6.18]\n",
            "100%|██████████| 50/50 [00:04<00:00, 12.08it/s, epoch=46/100, avg_epoch_loss=6.11]\n",
            "100%|██████████| 50/50 [00:04<00:00, 12.28it/s, epoch=47/100, avg_epoch_loss=6.12]\n",
            "100%|██████████| 50/50 [00:03<00:00, 12.55it/s, epoch=48/100, avg_epoch_loss=6.07]\n",
            "100%|██████████| 50/50 [00:04<00:00, 11.87it/s, epoch=49/100, avg_epoch_loss=5.96]\n",
            "100%|██████████| 50/50 [00:04<00:00, 12.03it/s, epoch=50/100, avg_epoch_loss=6.47]\n",
            "100%|██████████| 50/50 [00:04<00:00, 11.97it/s, epoch=51/100, avg_epoch_loss=6.11]\n",
            "100%|██████████| 50/50 [00:05<00:00,  8.42it/s, epoch=52/100, avg_epoch_loss=6.04]\n",
            "100%|██████████| 50/50 [00:04<00:00, 10.35it/s, epoch=53/100, avg_epoch_loss=6.07]\n",
            "100%|██████████| 50/50 [00:04<00:00, 11.93it/s, epoch=54/100, avg_epoch_loss=6.03]\n",
            "100%|██████████| 50/50 [00:04<00:00, 12.30it/s, epoch=55/100, avg_epoch_loss=6.23]\n",
            "100%|██████████| 50/50 [00:04<00:00, 12.48it/s, epoch=56/100, avg_epoch_loss=6.07]\n",
            "100%|██████████| 50/50 [00:04<00:00, 12.01it/s, epoch=57/100, avg_epoch_loss=5.85]\n",
            "100%|██████████| 50/50 [00:04<00:00, 12.16it/s, epoch=58/100, avg_epoch_loss=5.97]\n",
            "100%|██████████| 50/50 [00:04<00:00, 11.95it/s, epoch=59/100, avg_epoch_loss=5.94]\n",
            "100%|██████████| 50/50 [00:04<00:00, 12.26it/s, epoch=60/100, avg_epoch_loss=5.83]\n",
            "100%|██████████| 50/50 [00:03<00:00, 12.54it/s, epoch=61/100, avg_epoch_loss=5.99]\n",
            "100%|██████████| 50/50 [00:04<00:00, 11.94it/s, epoch=62/100, avg_epoch_loss=6.17]\n",
            "100%|██████████| 50/50 [00:04<00:00, 12.16it/s, epoch=63/100, avg_epoch_loss=6.15]\n",
            "100%|██████████| 50/50 [00:03<00:00, 12.59it/s, epoch=64/100, avg_epoch_loss=6.1]\n",
            "100%|██████████| 50/50 [00:04<00:00, 11.94it/s, epoch=65/100, avg_epoch_loss=5.8]\n",
            "100%|██████████| 50/50 [00:04<00:00, 12.40it/s, epoch=66/100, avg_epoch_loss=6.35]\n",
            "100%|██████████| 50/50 [00:04<00:00, 11.87it/s, epoch=67/100, avg_epoch_loss=6.03]\n",
            "100%|██████████| 50/50 [00:04<00:00, 11.99it/s, epoch=68/100, avg_epoch_loss=6.05]\n",
            "100%|██████████| 50/50 [00:04<00:00, 12.27it/s, epoch=69/100, avg_epoch_loss=6.13]\n",
            "100%|██████████| 50/50 [00:04<00:00, 11.67it/s, epoch=70/100, avg_epoch_loss=6.06]\n",
            "100%|██████████| 50/50 [00:04<00:00, 12.06it/s, epoch=71/100, avg_epoch_loss=5.97]\n",
            "100%|██████████| 50/50 [00:04<00:00, 12.10it/s, epoch=72/100, avg_epoch_loss=6.14]\n",
            "100%|██████████| 50/50 [00:04<00:00, 12.27it/s, epoch=73/100, avg_epoch_loss=5.97]\n",
            "100%|██████████| 50/50 [00:04<00:00, 12.08it/s, epoch=74/100, avg_epoch_loss=6.06]\n",
            "100%|██████████| 50/50 [00:04<00:00, 12.05it/s, epoch=75/100, avg_epoch_loss=6.1]\n",
            "100%|██████████| 50/50 [00:04<00:00, 12.20it/s, epoch=76/100, avg_epoch_loss=5.73]\n",
            "100%|██████████| 50/50 [00:04<00:00, 12.35it/s, epoch=77/100, avg_epoch_loss=5.97]\n",
            "100%|██████████| 50/50 [00:04<00:00, 11.97it/s, epoch=78/100, avg_epoch_loss=5.89]\n",
            "100%|██████████| 50/50 [00:04<00:00, 12.06it/s, epoch=79/100, avg_epoch_loss=5.88]\n",
            "100%|██████████| 50/50 [00:04<00:00, 11.94it/s, epoch=80/100, avg_epoch_loss=5.85]\n",
            "100%|██████████| 50/50 [00:03<00:00, 12.52it/s, epoch=81/100, avg_epoch_loss=5.72]\n",
            "100%|██████████| 50/50 [00:04<00:00, 12.23it/s, epoch=82/100, avg_epoch_loss=5.91]\n",
            "100%|██████████| 50/50 [00:04<00:00, 12.03it/s, epoch=83/100, avg_epoch_loss=5.85]\n",
            "100%|██████████| 50/50 [00:04<00:00, 12.23it/s, epoch=84/100, avg_epoch_loss=5.77]\n",
            "100%|██████████| 50/50 [00:04<00:00, 12.32it/s, epoch=85/100, avg_epoch_loss=5.92]\n",
            "100%|██████████| 50/50 [00:04<00:00, 11.75it/s, epoch=86/100, avg_epoch_loss=5.78]\n",
            "100%|██████████| 50/50 [00:04<00:00, 12.26it/s, epoch=87/100, avg_epoch_loss=5.89]\n",
            "100%|██████████| 50/50 [00:04<00:00, 11.97it/s, epoch=88/100, avg_epoch_loss=5.89]\n",
            "100%|██████████| 50/50 [00:04<00:00, 12.40it/s, epoch=89/100, avg_epoch_loss=5.72]\n",
            "100%|██████████| 50/50 [00:04<00:00, 12.05it/s, epoch=90/100, avg_epoch_loss=5.87]\n",
            "100%|██████████| 50/50 [00:04<00:00, 11.86it/s, epoch=91/100, avg_epoch_loss=5.85]\n",
            "100%|██████████| 50/50 [00:04<00:00, 12.27it/s, epoch=92/100, avg_epoch_loss=5.74]\n",
            "100%|██████████| 50/50 [00:03<00:00, 12.53it/s, epoch=93/100, avg_epoch_loss=5.84]\n",
            "100%|██████████| 50/50 [00:04<00:00, 11.93it/s, epoch=94/100, avg_epoch_loss=5.69]\n",
            "100%|██████████| 50/50 [00:04<00:00, 12.17it/s, epoch=95/100, avg_epoch_loss=5.83]\n",
            "100%|██████████| 50/50 [00:04<00:00, 12.01it/s, epoch=96/100, avg_epoch_loss=5.81]\n",
            "100%|██████████| 50/50 [00:03<00:00, 12.51it/s, epoch=97/100, avg_epoch_loss=5.66]\n",
            "100%|██████████| 50/50 [00:04<00:00, 11.93it/s, epoch=98/100, avg_epoch_loss=5.81]\n",
            "100%|██████████| 50/50 [00:04<00:00, 11.99it/s, epoch=99/100, avg_epoch_loss=5.85]\n",
            "100%|██████████| 50/50 [00:04<00:00, 12.10it/s, epoch=100/100, avg_epoch_loss=5.76]\n"
          ],
          "name": "stderr"
        }
      ]
    },
    {
      "cell_type": "code",
      "metadata": {
        "id": "xWBEgxcqGCMH",
        "colab_type": "code",
        "outputId": "2a2a9ec3-55a0-4ba7-badb-50b0adc079c6",
        "colab": {
          "base_uri": "https://localhost:8080/",
          "height": 503
        }
      },
      "source": [
        "forecast_it, ts_it = make_evaluation_predictions(\n",
        "    dataset=m4_daily_dataset.test, \n",
        "    predictor=DA_predictor, \n",
        "    num_samples=100, \n",
        ")\n",
        "\n",
        "forecasts = list(forecast_it)\n",
        "tss = list(ts_it)\n",
        "\n",
        "evaluator = Evaluator(quantiles=[0.1, 0.5, 0.9])\n",
        "agg_metrics, item_metrics = evaluator(iter(tss), iter(forecasts), num_series=len(m4_daily_dataset.test))\n",
        "\n",
        "print(json.dumps(agg_metrics, indent=4))"
      ],
      "execution_count": 35,
      "outputs": [
        {
          "output_type": "stream",
          "text": [
            "Running evaluation: 100%|██████████| 4227/4227 [00:00<00:00, 84759.54it/s]\n"
          ],
          "name": "stderr"
        },
        {
          "output_type": "stream",
          "text": [
            "{\n",
            "    \"MSE\": 431001.2286895228,\n",
            "    \"abs_error\": 11350001.996948242,\n",
            "    \"abs_target_sum\": 383097653.5168457,\n",
            "    \"abs_target_mean\": 6473.649895515986,\n",
            "    \"seasonal_error\": 52.78075560259988,\n",
            "    \"MASE\": 3.531566152346949,\n",
            "    \"MAPE\": 0.047104963140492014,\n",
            "    \"sMAPE\": 0.033313251980026784,\n",
            "    \"OWA\": NaN,\n",
            "    \"MSIS\": 50.74410955389073,\n",
            "    \"QuantileLoss[0.1]\": 7086121.456289673,\n",
            "    \"Coverage[0.1]\": 0.1333772685795394,\n",
            "    \"QuantileLoss[0.5]\": 11350001.990943909,\n",
            "    \"Coverage[0.5]\": 0.46304369867180234,\n",
            "    \"QuantileLoss[0.9]\": 5893128.498846435,\n",
            "    \"Coverage[0.9]\": 0.8435567271621219,\n",
            "    \"RMSE\": 656.5068382656214,\n",
            "    \"NRMSE\": 0.10141216297785194,\n",
            "    \"ND\": 0.029626915990622626,\n",
            "    \"wQuantileLoss[0.1]\": 0.0184969064447117,\n",
            "    \"wQuantileLoss[0.5]\": 0.02962691597494951,\n",
            "    \"wQuantileLoss[0.9]\": 0.01538283632057616,\n",
            "    \"mean_wQuantileLoss\": 0.02116888624674579,\n",
            "    \"MAE_Coverage\": 0.042258947581871716\n",
            "}\n"
          ],
          "name": "stdout"
        }
      ]
    },
    {
      "cell_type": "code",
      "metadata": {
        "id": "c3VyPD7vGh6w",
        "colab_type": "code",
        "colab": {}
      },
      "source": [
        ""
      ],
      "execution_count": 0,
      "outputs": []
    },
    {
      "cell_type": "markdown",
      "metadata": {
        "colab_type": "text",
        "id": "OWJ9jeRZO9GB"
      },
      "source": [
        "## m4_hourly"
      ]
    },
    {
      "cell_type": "code",
      "metadata": {
        "colab_type": "code",
        "outputId": "a981a349-e5a3-47df-b668-107616c9deea",
        "id": "ZK99kK7fO9GE",
        "colab": {
          "base_uri": "https://localhost:8080/",
          "height": 53
        }
      },
      "source": [
        "m4_hourly_dataset = get_dataset(\"m4_hourly\", regenerate=False)"
      ],
      "execution_count": 36,
      "outputs": [
        {
          "output_type": "stream",
          "text": [
            "saving time-series into /root/.mxnet/gluon-ts/datasets/m4_hourly/train/data.json\n",
            "saving time-series into /root/.mxnet/gluon-ts/datasets/m4_hourly/test/data.json\n"
          ],
          "name": "stdout"
        }
      ]
    },
    {
      "cell_type": "code",
      "metadata": {
        "colab_type": "code",
        "outputId": "7020ebaf-aced-4793-e4ea-f257e4fbecc3",
        "id": "tURfQTqXO9GJ",
        "colab": {
          "base_uri": "https://localhost:8080/",
          "height": 53
        }
      },
      "source": [
        "print (len(m4_hourly_dataset.train))\n",
        "print (len(m4_hourly_dataset.test))"
      ],
      "execution_count": 37,
      "outputs": [
        {
          "output_type": "stream",
          "text": [
            "414\n",
            "414\n"
          ],
          "name": "stdout"
        }
      ]
    },
    {
      "cell_type": "code",
      "metadata": {
        "colab_type": "code",
        "outputId": "fefa8964-c85b-4166-9565-b165df877435",
        "id": "aowwnwLcO9GM",
        "colab": {
          "base_uri": "https://localhost:8080/",
          "height": 35
        }
      },
      "source": [
        "m4_hourly_dataset.metadata"
      ],
      "execution_count": 38,
      "outputs": [
        {
          "output_type": "execute_result",
          "data": {
            "text/plain": [
              "MetaData(freq='H', target=None, feat_static_cat=[CategoricalFeatureInfo(name='feat_static_cat', cardinality='414')], feat_static_real=[], feat_dynamic_real=[], feat_dynamic_cat=[], prediction_length=48)"
            ]
          },
          "metadata": {
            "tags": []
          },
          "execution_count": 38
        }
      ]
    },
    {
      "cell_type": "code",
      "metadata": {
        "colab_type": "code",
        "outputId": "45531c5b-6671-4eed-ddd1-c7b56768cc4e",
        "id": "WGlNMgykpmSF",
        "colab": {
          "base_uri": "https://localhost:8080/",
          "height": 35
        }
      },
      "source": [
        "m4_hourly_dataset.metadata.feat_static_cat[0]"
      ],
      "execution_count": 39,
      "outputs": [
        {
          "output_type": "execute_result",
          "data": {
            "text/plain": [
              "CategoricalFeatureInfo(name='feat_static_cat', cardinality='414')"
            ]
          },
          "metadata": {
            "tags": []
          },
          "execution_count": 39
        }
      ]
    },
    {
      "cell_type": "code",
      "metadata": {
        "colab_type": "code",
        "id": "n8xjempNpmSJ",
        "colab": {}
      },
      "source": [
        "car = [int(m4_hourly_dataset.metadata.feat_static_cat[0].cardinality)]"
      ],
      "execution_count": 0,
      "outputs": []
    },
    {
      "cell_type": "code",
      "metadata": {
        "colab_type": "code",
        "outputId": "9c7e7c62-b0f7-4617-af58-ca4364904769",
        "id": "XJesCFZ8O9GX",
        "colab": {
          "base_uri": "https://localhost:8080/",
          "height": 35
        }
      },
      "source": [
        "next(iter(m4_hourly_dataset.train)).keys()"
      ],
      "execution_count": 41,
      "outputs": [
        {
          "output_type": "execute_result",
          "data": {
            "text/plain": [
              "dict_keys(['start', 'target', 'feat_static_cat', 'item_id', 'source'])"
            ]
          },
          "metadata": {
            "tags": []
          },
          "execution_count": 41
        }
      ]
    },
    {
      "cell_type": "code",
      "metadata": {
        "colab_type": "code",
        "id": "PD0vtfP8O9Gb",
        "colab": {}
      },
      "source": [
        "# https://gluon-ts.mxnet.io/api/gluonts/gluonts.model.deepar.html\n",
        "DA_estimator = DeepAREstimator(\n",
        "    freq=m4_hourly_dataset.metadata.freq, \n",
        "    prediction_length=m4_hourly_dataset.metadata.prediction_length,\n",
        "    trainer = deepar_trainer, # (default: Trainer())\n",
        "    context_length=None, # (default: None, in which case context_length = prediction_length)\n",
        "    num_layers=2, # (default: 2)\n",
        "    num_cells=40, # (default: 40)\n",
        "    cell_type='lstm', # (default: ‘lstm’)\n",
        "    dropout_rate=0.1, # (default: 0.1)\n",
        "    use_feat_dynamic_real=False, # (default: False)\n",
        "    use_feat_static_cat=True, # (default: False)\n",
        "    use_feat_static_real=False, # (default: False)\n",
        "    cardinality=car, # (default: None)\n",
        "    #embedding_dimension=[20], # (default: [min(50, (cat+1)//2) for cat in cardinality])\n",
        "    distr_output = StudentTOutput(), # (default: StudentTOutput())\n",
        "    scaling=True, # (default: true)\n",
        "    lags_seq=None, # (default: None, in which case these are automatically determined based on freq)\n",
        "    time_features=None, # (default: None, in which case these are automatically determined based on freq)\n",
        "    num_parallel_samples=100, # (default: 100)\n",
        ")"
      ],
      "execution_count": 0,
      "outputs": []
    },
    {
      "cell_type": "code",
      "metadata": {
        "colab_type": "code",
        "id": "Qf3ZGOpPO9Gf",
        "outputId": "569bbc93-e686-4a63-c5e9-308fe297ef25",
        "colab": {
          "base_uri": "https://localhost:8080/",
          "height": 1000
        }
      },
      "source": [
        "DA_predictor = DA_estimator.train(m4_hourly_dataset.train)"
      ],
      "execution_count": 43,
      "outputs": [
        {
          "output_type": "stream",
          "text": [
            "\r  0%|          | 0/50 [00:00<?, ?it/s]"
          ],
          "name": "stderr"
        },
        {
          "output_type": "stream",
          "text": [
            "learning rate from ``lr_scheduler`` has been overwritten by ``learning_rate`` in optimizer.\n"
          ],
          "name": "stdout"
        },
        {
          "output_type": "stream",
          "text": [
            "100%|██████████| 50/50 [00:08<00:00,  5.61it/s, epoch=1/100, avg_epoch_loss=5.02]\n",
            "100%|██████████| 50/50 [00:08<00:00,  5.80it/s, epoch=2/100, avg_epoch_loss=4.94]\n",
            "100%|██████████| 50/50 [00:08<00:00,  5.85it/s, epoch=3/100, avg_epoch_loss=4.78]\n",
            "100%|██████████| 50/50 [00:08<00:00,  5.86it/s, epoch=4/100, avg_epoch_loss=4.97]\n",
            "100%|██████████| 50/50 [00:08<00:00,  5.87it/s, epoch=5/100, avg_epoch_loss=4.53]\n",
            "100%|██████████| 50/50 [00:08<00:00,  5.85it/s, epoch=6/100, avg_epoch_loss=4.04]\n",
            "100%|██████████| 50/50 [00:08<00:00,  5.83it/s, epoch=7/100, avg_epoch_loss=4.17]\n",
            "100%|██████████| 50/50 [00:08<00:00,  5.83it/s, epoch=8/100, avg_epoch_loss=4.53]\n",
            "100%|██████████| 50/50 [00:08<00:00,  5.85it/s, epoch=9/100, avg_epoch_loss=4.23]\n",
            "100%|██████████| 50/50 [00:08<00:00,  5.83it/s, epoch=10/100, avg_epoch_loss=4.56]\n",
            "100%|██████████| 50/50 [00:08<00:00,  5.87it/s, epoch=11/100, avg_epoch_loss=4.38]\n",
            "100%|██████████| 50/50 [00:08<00:00,  5.86it/s, epoch=12/100, avg_epoch_loss=4.3]\n",
            "100%|██████████| 50/50 [00:08<00:00,  5.85it/s, epoch=13/100, avg_epoch_loss=4.26]\n",
            "100%|██████████| 50/50 [00:08<00:00,  5.85it/s, epoch=14/100, avg_epoch_loss=4.41]\n",
            "100%|██████████| 50/50 [00:08<00:00,  5.84it/s, epoch=15/100, avg_epoch_loss=4.23]\n",
            "100%|██████████| 50/50 [00:08<00:00,  5.84it/s, epoch=16/100, avg_epoch_loss=4.28]\n",
            "100%|██████████| 50/50 [00:08<00:00,  5.85it/s, epoch=17/100, avg_epoch_loss=4.05]\n",
            "100%|██████████| 50/50 [00:08<00:00,  5.88it/s, epoch=18/100, avg_epoch_loss=4]\n",
            "100%|██████████| 50/50 [00:08<00:00,  5.79it/s, epoch=19/100, avg_epoch_loss=4.11]\n",
            "100%|██████████| 50/50 [00:09<00:00,  5.12it/s, epoch=20/100, avg_epoch_loss=4.51]\n",
            "100%|██████████| 50/50 [00:09<00:00,  5.07it/s, epoch=21/100, avg_epoch_loss=4.16]\n",
            "100%|██████████| 50/50 [00:08<00:00,  5.83it/s, epoch=22/100, avg_epoch_loss=4.04]\n",
            "100%|██████████| 50/50 [00:08<00:00,  5.87it/s, epoch=23/100, avg_epoch_loss=4.29]\n",
            "100%|██████████| 50/50 [00:08<00:00,  5.83it/s, epoch=24/100, avg_epoch_loss=4.32]\n",
            "100%|██████████| 50/50 [00:08<00:00,  5.86it/s, epoch=25/100, avg_epoch_loss=4.02]\n",
            "100%|██████████| 50/50 [00:08<00:00,  5.85it/s, epoch=26/100, avg_epoch_loss=4.23]\n",
            "100%|██████████| 50/50 [00:08<00:00,  5.86it/s, epoch=27/100, avg_epoch_loss=4.29]\n",
            "100%|██████████| 50/50 [00:08<00:00,  5.86it/s, epoch=28/100, avg_epoch_loss=4.1]\n",
            "100%|██████████| 50/50 [00:08<00:00,  5.85it/s, epoch=29/100, avg_epoch_loss=4.05]\n",
            "100%|██████████| 50/50 [00:08<00:00,  5.79it/s, epoch=30/100, avg_epoch_loss=3.98]\n",
            "100%|██████████| 50/50 [00:08<00:00,  5.73it/s, epoch=31/100, avg_epoch_loss=4.14]\n",
            "100%|██████████| 50/50 [00:08<00:00,  5.83it/s, epoch=32/100, avg_epoch_loss=4.16]\n",
            "100%|██████████| 50/50 [00:08<00:00,  5.83it/s, epoch=33/100, avg_epoch_loss=4.15]\n",
            "100%|██████████| 50/50 [00:08<00:00,  5.85it/s, epoch=34/100, avg_epoch_loss=4.26]\n",
            "100%|██████████| 50/50 [00:08<00:00,  5.88it/s, epoch=35/100, avg_epoch_loss=4.18]\n",
            "100%|██████████| 50/50 [00:08<00:00,  5.83it/s, epoch=36/100, avg_epoch_loss=3.9]\n",
            "100%|██████████| 50/50 [00:08<00:00,  5.86it/s, epoch=37/100, avg_epoch_loss=3.79]\n",
            "100%|██████████| 50/50 [00:08<00:00,  5.85it/s, epoch=38/100, avg_epoch_loss=4.32]\n",
            "100%|██████████| 50/50 [00:08<00:00,  5.87it/s, epoch=39/100, avg_epoch_loss=3.79]\n",
            "100%|██████████| 50/50 [00:08<00:00,  5.86it/s, epoch=40/100, avg_epoch_loss=4.55]\n",
            "100%|██████████| 50/50 [00:08<00:00,  5.86it/s, epoch=41/100, avg_epoch_loss=3.84]\n",
            "100%|██████████| 50/50 [00:08<00:00,  5.85it/s, epoch=42/100, avg_epoch_loss=3.78]\n",
            "100%|██████████| 50/50 [00:08<00:00,  5.84it/s, epoch=43/100, avg_epoch_loss=4.16]\n",
            "100%|██████████| 50/50 [00:08<00:00,  5.87it/s, epoch=44/100, avg_epoch_loss=4.03]\n",
            "100%|██████████| 50/50 [00:08<00:00,  5.82it/s, epoch=45/100, avg_epoch_loss=3.83]\n",
            "100%|██████████| 50/50 [00:08<00:00,  5.83it/s, epoch=46/100, avg_epoch_loss=4.25]\n",
            "100%|██████████| 50/50 [00:08<00:00,  5.86it/s, epoch=47/100, avg_epoch_loss=4.38]\n",
            "100%|██████████| 50/50 [00:08<00:00,  5.83it/s, epoch=48/100, avg_epoch_loss=3.82]\n",
            "100%|██████████| 50/50 [00:08<00:00,  5.87it/s, epoch=49/100, avg_epoch_loss=3.42]\n",
            "100%|██████████| 50/50 [00:08<00:00,  5.82it/s, epoch=50/100, avg_epoch_loss=4.01]\n",
            "100%|██████████| 50/50 [00:08<00:00,  5.86it/s, epoch=51/100, avg_epoch_loss=3.52]\n",
            "100%|██████████| 50/50 [00:08<00:00,  5.86it/s, epoch=52/100, avg_epoch_loss=3.96]\n",
            "100%|██████████| 50/50 [00:08<00:00,  5.85it/s, epoch=53/100, avg_epoch_loss=3.83]\n",
            "100%|██████████| 50/50 [00:08<00:00,  5.82it/s, epoch=54/100, avg_epoch_loss=3.95]\n",
            "100%|██████████| 50/50 [00:08<00:00,  5.83it/s, epoch=55/100, avg_epoch_loss=4.03]\n",
            "100%|██████████| 50/50 [00:08<00:00,  5.88it/s, epoch=56/100, avg_epoch_loss=4.03]\n",
            "100%|██████████| 50/50 [00:08<00:00,  5.85it/s, epoch=57/100, avg_epoch_loss=3.45]\n",
            "100%|██████████| 50/50 [00:08<00:00,  5.86it/s, epoch=58/100, avg_epoch_loss=3.53]\n",
            "100%|██████████| 50/50 [00:08<00:00,  5.87it/s, epoch=59/100, avg_epoch_loss=4.67]\n",
            "100%|██████████| 50/50 [00:08<00:00,  5.85it/s, epoch=60/100, avg_epoch_loss=4.32]\n",
            "100%|██████████| 50/50 [00:08<00:00,  5.84it/s, epoch=61/100, avg_epoch_loss=3.92]\n",
            "100%|██████████| 50/50 [00:08<00:00,  5.87it/s, epoch=62/100, avg_epoch_loss=3.76]\n",
            "100%|██████████| 50/50 [00:08<00:00,  5.84it/s, epoch=63/100, avg_epoch_loss=3.3]\n",
            "100%|██████████| 50/50 [00:08<00:00,  5.84it/s, epoch=64/100, avg_epoch_loss=3.61]\n",
            "100%|██████████| 50/50 [00:08<00:00,  5.87it/s, epoch=65/100, avg_epoch_loss=3.47]\n",
            "100%|██████████| 50/50 [00:08<00:00,  5.75it/s, epoch=66/100, avg_epoch_loss=3.64]\n",
            "100%|██████████| 50/50 [00:08<00:00,  5.82it/s, epoch=67/100, avg_epoch_loss=3.7]\n",
            "100%|██████████| 50/50 [00:08<00:00,  5.83it/s, epoch=68/100, avg_epoch_loss=3.64]\n",
            "100%|██████████| 50/50 [00:08<00:00,  5.84it/s, epoch=69/100, avg_epoch_loss=3.59]\n",
            "100%|██████████| 50/50 [00:08<00:00,  5.82it/s, epoch=70/100, avg_epoch_loss=3.62]\n",
            "100%|██████████| 50/50 [00:08<00:00,  5.84it/s, epoch=71/100, avg_epoch_loss=3.48]\n",
            "100%|██████████| 50/50 [00:08<00:00,  5.83it/s, epoch=72/100, avg_epoch_loss=3.63]\n",
            "100%|██████████| 50/50 [00:08<00:00,  5.86it/s, epoch=73/100, avg_epoch_loss=3.57]\n",
            "100%|██████████| 50/50 [00:08<00:00,  5.82it/s, epoch=74/100, avg_epoch_loss=3.7]\n",
            "100%|██████████| 50/50 [00:08<00:00,  5.84it/s, epoch=75/100, avg_epoch_loss=3.65]\n",
            "100%|██████████| 50/50 [00:08<00:00,  5.84it/s, epoch=76/100, avg_epoch_loss=3.59]\n",
            "100%|██████████| 50/50 [00:08<00:00,  5.88it/s, epoch=77/100, avg_epoch_loss=3.52]\n",
            "100%|██████████| 50/50 [00:08<00:00,  5.84it/s, epoch=78/100, avg_epoch_loss=3.59]\n",
            "100%|██████████| 50/50 [00:08<00:00,  5.83it/s, epoch=79/100, avg_epoch_loss=3.5]\n",
            "100%|██████████| 50/50 [00:08<00:00,  5.87it/s, epoch=80/100, avg_epoch_loss=3.79]\n",
            "100%|██████████| 50/50 [00:08<00:00,  5.80it/s, epoch=81/100, avg_epoch_loss=3.85]\n",
            "100%|██████████| 50/50 [00:08<00:00,  5.86it/s, epoch=82/100, avg_epoch_loss=3.87]\n",
            "100%|██████████| 50/50 [00:08<00:00,  5.85it/s, epoch=83/100, avg_epoch_loss=3.7]\n",
            "100%|██████████| 50/50 [00:08<00:00,  5.84it/s, epoch=84/100, avg_epoch_loss=3.65]\n",
            "100%|██████████| 50/50 [00:08<00:00,  5.87it/s, epoch=85/100, avg_epoch_loss=3.57]\n",
            "100%|██████████| 50/50 [00:08<00:00,  5.83it/s, epoch=86/100, avg_epoch_loss=3.34]\n",
            "100%|██████████| 50/50 [00:08<00:00,  5.88it/s, epoch=87/100, avg_epoch_loss=3.49]\n",
            "100%|██████████| 50/50 [00:08<00:00,  5.86it/s, epoch=88/100, avg_epoch_loss=3.53]\n",
            "100%|██████████| 50/50 [00:08<00:00,  5.84it/s, epoch=89/100, avg_epoch_loss=3.64]\n",
            "100%|██████████| 50/50 [00:08<00:00,  5.79it/s, epoch=90/100, avg_epoch_loss=3.58]\n",
            "100%|██████████| 50/50 [00:10<00:00,  4.99it/s, epoch=91/100, avg_epoch_loss=3.84]\n",
            "100%|██████████| 50/50 [00:09<00:00,  5.22it/s, epoch=92/100, avg_epoch_loss=3.6]\n",
            "100%|██████████| 50/50 [00:08<00:00,  5.83it/s, epoch=93/100, avg_epoch_loss=3.48]\n"
          ],
          "name": "stderr"
        }
      ]
    },
    {
      "cell_type": "code",
      "metadata": {
        "colab_type": "code",
        "id": "ow_Vpx0MO9Gi",
        "outputId": "78594911-d52b-42e7-9857-10fcc0cec36a",
        "colab": {
          "base_uri": "https://localhost:8080/",
          "height": 503
        }
      },
      "source": [
        "forecast_it, ts_it = make_evaluation_predictions(\n",
        "    dataset=m4_hourly_dataset.test, \n",
        "    predictor=DA_predictor, \n",
        "    num_samples=100, \n",
        ")\n",
        "\n",
        "forecasts = list(forecast_it)\n",
        "tss = list(ts_it)\n",
        "\n",
        "evaluator = Evaluator(quantiles=[0.1, 0.5, 0.9])\n",
        "agg_metrics, item_metrics = evaluator(iter(tss), iter(forecasts), num_series=len(m4_hourly_dataset.test))\n",
        "\n",
        "print(json.dumps(agg_metrics, indent=4))"
      ],
      "execution_count": 44,
      "outputs": [
        {
          "output_type": "stream",
          "text": [
            "Running evaluation: 100%|██████████| 414/414 [00:00<00:00, 8475.57it/s]\n"
          ],
          "name": "stderr"
        },
        {
          "output_type": "stream",
          "text": [
            "{\n",
            "    \"MSE\": 7865128.880396717,\n",
            "    \"abs_error\": 8222872.113427162,\n",
            "    \"abs_target_sum\": 145558863.59960938,\n",
            "    \"abs_target_mean\": 7324.822041043147,\n",
            "    \"seasonal_error\": 336.9046924038302,\n",
            "    \"MASE\": 2.479186306387674,\n",
            "    \"MAPE\": 0.1453893329738713,\n",
            "    \"sMAPE\": 0.13861463901036014,\n",
            "    \"OWA\": NaN,\n",
            "    \"MSIS\": 28.5772269609828,\n",
            "    \"QuantileLoss[0.1]\": 3211106.7888639458,\n",
            "    \"Coverage[0.1]\": 0.19001610305958128,\n",
            "    \"QuantileLoss[0.5]\": 8222871.939461708,\n",
            "    \"Coverage[0.5]\": 0.5716586151368757,\n",
            "    \"QuantileLoss[0.9]\": 4576358.177824592,\n",
            "    \"Coverage[0.9]\": 0.801781400966184,\n",
            "    \"RMSE\": 2804.4837101321727,\n",
            "    \"NRMSE\": 0.3828739721481041,\n",
            "    \"ND\": 0.056491730631024445,\n",
            "    \"wQuantileLoss[0.1]\": 0.022060537637177344,\n",
            "    \"wQuantileLoss[0.5]\": 0.0564917294358691,\n",
            "    \"wQuantileLoss[0.9]\": 0.031439914167046806,\n",
            "    \"mean_wQuantileLoss\": 0.03666406041336442,\n",
            "    \"MAE_Coverage\": 0.08663110574342432\n",
            "}\n"
          ],
          "name": "stdout"
        }
      ]
    },
    {
      "cell_type": "code",
      "metadata": {
        "colab_type": "code",
        "id": "fA1nNCJGO9Gl",
        "colab": {}
      },
      "source": [
        ""
      ],
      "execution_count": 0,
      "outputs": []
    },
    {
      "cell_type": "markdown",
      "metadata": {
        "colab_type": "text",
        "id": "h0WoHFeGPo0-"
      },
      "source": [
        "## m4_monthly"
      ]
    },
    {
      "cell_type": "code",
      "metadata": {
        "colab_type": "code",
        "outputId": "4d06ff9d-1f3d-40df-a0da-afeef0265c63",
        "id": "7IE6C9pnPo1B",
        "colab": {
          "base_uri": "https://localhost:8080/",
          "height": 53
        }
      },
      "source": [
        "m4_monthly_dataset = get_dataset(\"m4_monthly\", regenerate=False)"
      ],
      "execution_count": 45,
      "outputs": [
        {
          "output_type": "stream",
          "text": [
            "saving time-series into /root/.mxnet/gluon-ts/datasets/m4_monthly/train/data.json\n",
            "saving time-series into /root/.mxnet/gluon-ts/datasets/m4_monthly/test/data.json\n"
          ],
          "name": "stdout"
        }
      ]
    },
    {
      "cell_type": "code",
      "metadata": {
        "colab_type": "code",
        "outputId": "daadf296-09e6-43b9-bcd6-c832f1c50476",
        "id": "WIotX52YPo1J",
        "colab": {
          "base_uri": "https://localhost:8080/",
          "height": 53
        }
      },
      "source": [
        "print (len(m4_monthly_dataset.train))\n",
        "print (len(m4_monthly_dataset.test))"
      ],
      "execution_count": 46,
      "outputs": [
        {
          "output_type": "stream",
          "text": [
            "48000\n",
            "48000\n"
          ],
          "name": "stdout"
        }
      ]
    },
    {
      "cell_type": "code",
      "metadata": {
        "colab_type": "code",
        "outputId": "db6a8d9b-9470-4cce-ad75-9f0c8ac8feb3",
        "id": "A1suOzU0Po1P",
        "colab": {
          "base_uri": "https://localhost:8080/",
          "height": 35
        }
      },
      "source": [
        "m4_monthly_dataset.metadata"
      ],
      "execution_count": 47,
      "outputs": [
        {
          "output_type": "execute_result",
          "data": {
            "text/plain": [
              "MetaData(freq='M', target=None, feat_static_cat=[CategoricalFeatureInfo(name='feat_static_cat', cardinality='48000')], feat_static_real=[], feat_dynamic_real=[], feat_dynamic_cat=[], prediction_length=18)"
            ]
          },
          "metadata": {
            "tags": []
          },
          "execution_count": 47
        }
      ]
    },
    {
      "cell_type": "code",
      "metadata": {
        "colab_type": "code",
        "outputId": "4d0c5579-c283-448e-cc3f-f82abb36d962",
        "id": "rIAlQ1Abp2ZL",
        "colab": {
          "base_uri": "https://localhost:8080/",
          "height": 35
        }
      },
      "source": [
        "m4_monthly_dataset.metadata.feat_static_cat[0]"
      ],
      "execution_count": 48,
      "outputs": [
        {
          "output_type": "execute_result",
          "data": {
            "text/plain": [
              "CategoricalFeatureInfo(name='feat_static_cat', cardinality='48000')"
            ]
          },
          "metadata": {
            "tags": []
          },
          "execution_count": 48
        }
      ]
    },
    {
      "cell_type": "code",
      "metadata": {
        "colab_type": "code",
        "id": "VQy--9c5p2ZS",
        "colab": {}
      },
      "source": [
        "car = [int(m4_monthly_dataset.metadata.feat_static_cat[0].cardinality)]"
      ],
      "execution_count": 0,
      "outputs": []
    },
    {
      "cell_type": "code",
      "metadata": {
        "colab_type": "code",
        "outputId": "0cb234f3-cdd3-494c-e489-7bd728c77fb5",
        "id": "Jpn1PJzGPo1U",
        "colab": {
          "base_uri": "https://localhost:8080/",
          "height": 35
        }
      },
      "source": [
        "next(iter(m4_monthly_dataset.train)).keys()"
      ],
      "execution_count": 50,
      "outputs": [
        {
          "output_type": "execute_result",
          "data": {
            "text/plain": [
              "dict_keys(['start', 'target', 'feat_static_cat', 'item_id', 'source'])"
            ]
          },
          "metadata": {
            "tags": []
          },
          "execution_count": 50
        }
      ]
    },
    {
      "cell_type": "code",
      "metadata": {
        "colab_type": "code",
        "id": "0Z48itnDPo1b",
        "colab": {}
      },
      "source": [
        "# https://gluon-ts.mxnet.io/api/gluonts/gluonts.model.deepar.html\n",
        "DA_estimator = DeepAREstimator(\n",
        "    freq=m4_monthly_dataset.metadata.freq, \n",
        "    prediction_length=m4_monthly_dataset.metadata.prediction_length,\n",
        "    trainer = deepar_trainer, # (default: Trainer())\n",
        "    context_length=None, # (default: None, in which case context_length = prediction_length)\n",
        "    num_layers=2, # (default: 2)\n",
        "    num_cells=40, # (default: 40)\n",
        "    cell_type='lstm', # (default: ‘lstm’)\n",
        "    dropout_rate=0.1, # (default: 0.1)\n",
        "    use_feat_dynamic_real=False, # (default: False)\n",
        "    use_feat_static_cat=True, # (default: False)\n",
        "    use_feat_static_real=False, # (default: False)\n",
        "    cardinality=car, # (default: None)\n",
        "    #embedding_dimension=[20], # (default: [min(50, (cat+1)//2) for cat in cardinality])\n",
        "    distr_output = StudentTOutput(), # (default: StudentTOutput())\n",
        "    scaling=True, # (default: true)\n",
        "    lags_seq=None, # (default: None, in which case these are automatically determined based on freq)\n",
        "    time_features=None, # (default: None, in which case these are automatically determined based on freq)\n",
        "    num_parallel_samples=100, # (default: 100)\n",
        ")"
      ],
      "execution_count": 0,
      "outputs": []
    },
    {
      "cell_type": "code",
      "metadata": {
        "colab_type": "code",
        "id": "FynbtKogPo1f",
        "outputId": "f356b68c-d336-4009-d00e-bd81d7553331",
        "colab": {
          "base_uri": "https://localhost:8080/",
          "height": 1000
        }
      },
      "source": [
        "DA_predictor = DA_estimator.train(m4_monthly_dataset.train)"
      ],
      "execution_count": 52,
      "outputs": [
        {
          "output_type": "stream",
          "text": [
            "\r  0%|          | 0/50 [00:00<?, ?it/s]"
          ],
          "name": "stderr"
        },
        {
          "output_type": "stream",
          "text": [
            "learning rate from ``lr_scheduler`` has been overwritten by ``learning_rate`` in optimizer.\n"
          ],
          "name": "stdout"
        },
        {
          "output_type": "stream",
          "text": [
            "100%|██████████| 50/50 [00:04<00:00, 10.77it/s, epoch=1/100, avg_epoch_loss=7.5]\n",
            "100%|██████████| 50/50 [00:04<00:00, 11.57it/s, epoch=2/100, avg_epoch_loss=7.16]\n",
            "100%|██████████| 50/50 [00:04<00:00, 11.63it/s, epoch=3/100, avg_epoch_loss=7.68]\n",
            "100%|██████████| 50/50 [00:04<00:00, 11.64it/s, epoch=4/100, avg_epoch_loss=7.58]\n",
            "100%|██████████| 50/50 [00:04<00:00, 10.66it/s, epoch=5/100, avg_epoch_loss=7.75]\n",
            "100%|██████████| 50/50 [00:04<00:00, 11.92it/s, epoch=6/100, avg_epoch_loss=6.51]\n",
            "100%|██████████| 50/50 [00:04<00:00, 11.79it/s, epoch=7/100, avg_epoch_loss=6.32]\n",
            "100%|██████████| 50/50 [00:04<00:00, 11.54it/s, epoch=8/100, avg_epoch_loss=7.64]\n",
            "100%|██████████| 50/50 [00:04<00:00, 11.84it/s, epoch=9/100, avg_epoch_loss=7.37]\n",
            "100%|██████████| 50/50 [00:04<00:00, 10.53it/s, epoch=10/100, avg_epoch_loss=7.74]\n",
            "100%|██████████| 50/50 [00:04<00:00, 12.11it/s, epoch=11/100, avg_epoch_loss=6.59]\n",
            "100%|██████████| 50/50 [00:04<00:00, 12.04it/s, epoch=12/100, avg_epoch_loss=6.16]\n",
            "100%|██████████| 50/50 [00:04<00:00, 12.18it/s, epoch=13/100, avg_epoch_loss=7]\n",
            "100%|██████████| 50/50 [00:04<00:00, 12.05it/s, epoch=14/100, avg_epoch_loss=6.92]\n",
            "100%|██████████| 50/50 [00:04<00:00, 12.07it/s, epoch=15/100, avg_epoch_loss=6.72]\n",
            "100%|██████████| 50/50 [00:04<00:00, 12.01it/s, epoch=16/100, avg_epoch_loss=6.61]\n",
            "100%|██████████| 50/50 [00:04<00:00, 11.81it/s, epoch=17/100, avg_epoch_loss=6.45]\n",
            "100%|██████████| 50/50 [00:04<00:00, 11.99it/s, epoch=18/100, avg_epoch_loss=6.49]\n",
            "100%|██████████| 50/50 [00:04<00:00, 12.06it/s, epoch=19/100, avg_epoch_loss=7.6]\n",
            "100%|██████████| 50/50 [00:04<00:00, 11.04it/s, epoch=20/100, avg_epoch_loss=8.01]\n",
            "100%|██████████| 50/50 [00:04<00:00, 11.91it/s, epoch=21/100, avg_epoch_loss=6.93]\n",
            "100%|██████████| 50/50 [00:04<00:00, 11.93it/s, epoch=22/100, avg_epoch_loss=6.51]\n",
            "100%|██████████| 50/50 [00:04<00:00, 11.74it/s, epoch=23/100, avg_epoch_loss=6.82]\n",
            "100%|██████████| 50/50 [00:04<00:00, 11.71it/s, epoch=24/100, avg_epoch_loss=7.1]\n",
            "100%|██████████| 50/50 [00:04<00:00, 11.49it/s, epoch=25/100, avg_epoch_loss=7.44]\n",
            "100%|██████████| 50/50 [00:04<00:00, 11.33it/s, epoch=26/100, avg_epoch_loss=7.18]\n",
            "100%|██████████| 50/50 [00:04<00:00, 11.29it/s, epoch=27/100, avg_epoch_loss=7.34]\n",
            "100%|██████████| 50/50 [00:04<00:00, 11.93it/s, epoch=28/100, avg_epoch_loss=6.56]\n",
            "100%|██████████| 50/50 [00:04<00:00, 11.80it/s, epoch=29/100, avg_epoch_loss=6.53]\n",
            "100%|██████████| 50/50 [00:04<00:00, 11.87it/s, epoch=30/100, avg_epoch_loss=7.08]\n",
            "100%|██████████| 50/50 [00:04<00:00, 11.93it/s, epoch=31/100, avg_epoch_loss=7.63]\n",
            "100%|██████████| 50/50 [00:04<00:00, 11.89it/s, epoch=32/100, avg_epoch_loss=7.36]\n",
            "100%|██████████| 50/50 [00:04<00:00, 11.12it/s, epoch=33/100, avg_epoch_loss=7.72]\n",
            "100%|██████████| 50/50 [00:04<00:00, 11.37it/s, epoch=34/100, avg_epoch_loss=6.97]\n",
            "100%|██████████| 50/50 [00:04<00:00, 11.81it/s, epoch=35/100, avg_epoch_loss=6.16]\n",
            "100%|██████████| 50/50 [00:04<00:00, 11.63it/s, epoch=36/100, avg_epoch_loss=6.49]\n",
            "100%|██████████| 50/50 [00:04<00:00, 11.67it/s, epoch=37/100, avg_epoch_loss=7.62]\n",
            "100%|██████████| 50/50 [00:04<00:00, 11.75it/s, epoch=38/100, avg_epoch_loss=7.24]\n",
            "100%|██████████| 50/50 [00:04<00:00, 10.53it/s, epoch=39/100, avg_epoch_loss=7.66]\n",
            "100%|██████████| 50/50 [00:04<00:00, 11.88it/s, epoch=40/100, avg_epoch_loss=6.52]\n",
            "100%|██████████| 50/50 [00:04<00:00, 11.99it/s, epoch=41/100, avg_epoch_loss=6.03]\n",
            "100%|██████████| 50/50 [00:04<00:00, 11.91it/s, epoch=42/100, avg_epoch_loss=6.97]\n",
            "100%|██████████| 50/50 [00:04<00:00, 11.88it/s, epoch=43/100, avg_epoch_loss=6.84]\n",
            "100%|██████████| 50/50 [00:04<00:00, 12.00it/s, epoch=44/100, avg_epoch_loss=6.68]\n",
            "100%|██████████| 50/50 [00:04<00:00, 11.87it/s, epoch=45/100, avg_epoch_loss=6.48]\n",
            "100%|██████████| 50/50 [00:04<00:00, 11.71it/s, epoch=46/100, avg_epoch_loss=6.37]\n",
            "100%|██████████| 50/50 [00:04<00:00, 11.83it/s, epoch=47/100, avg_epoch_loss=6.14]\n",
            "100%|██████████| 50/50 [00:04<00:00, 10.69it/s, epoch=48/100, avg_epoch_loss=7.93]\n",
            "100%|██████████| 50/50 [00:04<00:00, 10.92it/s, epoch=49/100, avg_epoch_loss=7.98]\n",
            "100%|██████████| 50/50 [00:04<00:00, 11.21it/s, epoch=50/100, avg_epoch_loss=7.33]\n",
            "100%|██████████| 50/50 [00:04<00:00, 11.49it/s, epoch=51/100, avg_epoch_loss=6.46]\n",
            "100%|██████████| 50/50 [00:04<00:00, 11.79it/s, epoch=52/100, avg_epoch_loss=6.5]\n",
            "100%|██████████| 50/50 [00:04<00:00, 11.52it/s, epoch=53/100, avg_epoch_loss=7.02]\n",
            "100%|██████████| 50/50 [00:04<00:00, 11.54it/s, epoch=54/100, avg_epoch_loss=7.5]\n",
            "100%|██████████| 50/50 [00:04<00:00, 11.53it/s, epoch=55/100, avg_epoch_loss=7.09]\n",
            "100%|██████████| 50/50 [00:04<00:00, 10.83it/s, epoch=56/100, avg_epoch_loss=7.5]\n",
            "100%|██████████| 50/50 [00:04<00:00, 11.90it/s, epoch=57/100, avg_epoch_loss=6.65]\n",
            "100%|██████████| 50/50 [00:04<00:00, 11.88it/s, epoch=58/100, avg_epoch_loss=6.5]\n",
            "100%|██████████| 50/50 [00:04<00:00, 11.88it/s, epoch=59/100, avg_epoch_loss=6.86]\n",
            "100%|██████████| 50/50 [00:04<00:00, 11.89it/s, epoch=60/100, avg_epoch_loss=7.45]\n",
            "100%|██████████| 50/50 [00:04<00:00, 11.84it/s, epoch=61/100, avg_epoch_loss=7.35]\n",
            "100%|██████████| 50/50 [00:04<00:00, 11.88it/s, epoch=62/100, avg_epoch_loss=7.71]\n",
            "100%|██████████| 50/50 [00:04<00:00, 10.79it/s, epoch=63/100, avg_epoch_loss=7.6]\n",
            "100%|██████████| 50/50 [00:04<00:00, 11.77it/s, epoch=64/100, avg_epoch_loss=6.16]\n",
            "100%|██████████| 50/50 [00:04<00:00, 11.75it/s, epoch=65/100, avg_epoch_loss=5.95]\n",
            "100%|██████████| 50/50 [00:04<00:00, 11.64it/s, epoch=66/100, avg_epoch_loss=7.17]\n",
            "100%|██████████| 50/50 [00:04<00:00, 11.66it/s, epoch=67/100, avg_epoch_loss=7.47]\n",
            "100%|██████████| 50/50 [00:04<00:00, 10.92it/s, epoch=68/100, avg_epoch_loss=7.66]\n",
            "100%|██████████| 50/50 [00:04<00:00, 11.28it/s, epoch=69/100, avg_epoch_loss=7.12]\n",
            "100%|██████████| 50/50 [00:04<00:00, 11.83it/s, epoch=70/100, avg_epoch_loss=6.21]\n",
            "100%|██████████| 50/50 [00:04<00:00, 11.92it/s, epoch=71/100, avg_epoch_loss=6.46]\n",
            "100%|██████████| 50/50 [00:04<00:00, 11.83it/s, epoch=72/100, avg_epoch_loss=6.85]\n",
            "100%|██████████| 50/50 [00:04<00:00, 11.91it/s, epoch=73/100, avg_epoch_loss=6.82]\n",
            "100%|██████████| 50/50 [00:04<00:00, 11.99it/s, epoch=74/100, avg_epoch_loss=6.61]\n",
            "100%|██████████| 50/50 [00:04<00:00, 11.76it/s, epoch=75/100, avg_epoch_loss=6.47]\n",
            "100%|██████████| 50/50 [00:04<00:00, 11.82it/s, epoch=76/100, avg_epoch_loss=6.08]\n",
            "100%|██████████| 50/50 [00:04<00:00, 11.77it/s, epoch=77/100, avg_epoch_loss=7.1]\n",
            "100%|██████████| 50/50 [00:04<00:00, 11.61it/s, epoch=78/100, avg_epoch_loss=8.08]\n",
            "100%|██████████| 50/50 [00:04<00:00, 11.17it/s, epoch=79/100, avg_epoch_loss=8.08]\n",
            "100%|██████████| 50/50 [00:04<00:00, 11.68it/s, epoch=80/100, avg_epoch_loss=6.83]\n",
            "100%|██████████| 50/50 [00:04<00:00, 11.75it/s, epoch=81/100, avg_epoch_loss=6.48]\n",
            "100%|██████████| 50/50 [00:04<00:00, 11.44it/s, epoch=82/100, avg_epoch_loss=6.71]\n",
            "100%|██████████| 50/50 [00:04<00:00, 11.73it/s, epoch=83/100, avg_epoch_loss=7.07]\n",
            "100%|██████████| 50/50 [00:04<00:00, 11.46it/s, epoch=84/100, avg_epoch_loss=7.47]\n",
            "100%|██████████| 50/50 [00:04<00:00, 11.14it/s, epoch=85/100, avg_epoch_loss=7.15]\n"
          ],
          "name": "stderr"
        }
      ]
    },
    {
      "cell_type": "code",
      "metadata": {
        "colab_type": "code",
        "id": "z-OU9czTPo1j",
        "outputId": "f6efcb6d-ddc4-468e-c57f-ed02dd291af7",
        "colab": {
          "base_uri": "https://localhost:8080/",
          "height": 503
        }
      },
      "source": [
        "forecast_it, ts_it = make_evaluation_predictions(\n",
        "    dataset=m4_monthly_dataset.test, \n",
        "    predictor=DA_predictor, \n",
        "    num_samples=100, \n",
        ")\n",
        "\n",
        "forecasts = list(forecast_it)\n",
        "tss = list(ts_it)\n",
        "\n",
        "evaluator = Evaluator(quantiles=[0.1, 0.5, 0.9])\n",
        "agg_metrics, item_metrics = evaluator(iter(tss), iter(forecasts), num_series=len(m4_monthly_dataset.test))\n",
        "\n",
        "print(json.dumps(agg_metrics, indent=4))"
      ],
      "execution_count": 53,
      "outputs": [
        {
          "output_type": "stream",
          "text": [
            "Running evaluation: 100%|██████████| 48000/48000 [00:00<00:00, 330537.23it/s]\n"
          ],
          "name": "stderr"
        },
        {
          "output_type": "stream",
          "text": [
            "{\n",
            "    \"MSE\": 2008925.6344161406,\n",
            "    \"abs_error\": 531383032.3910675,\n",
            "    \"abs_target_sum\": 4157157295.381714,\n",
            "    \"abs_target_mean\": 4811.5246474325495,\n",
            "    \"seasonal_error\": 616.9975625355751,\n",
            "    \"MASE\": 1.1351977816797807,\n",
            "    \"MAPE\": 0.1736513444118491,\n",
            "    \"sMAPE\": 0.14204870913498038,\n",
            "    \"OWA\": NaN,\n",
            "    \"MSIS\": 22.753421840117973,\n",
            "    \"QuantileLoss[0.1]\": 394392267.32355046,\n",
            "    \"Coverage[0.1]\": 0.283741898148131,\n",
            "    \"QuantileLoss[0.5]\": 531383032.35466766,\n",
            "    \"Coverage[0.5]\": 0.5517233796296437,\n",
            "    \"QuantileLoss[0.9]\": 404737391.2456589,\n",
            "    \"Coverage[0.9]\": 0.793762731481541,\n",
            "    \"RMSE\": 1417.3657377036247,\n",
            "    \"NRMSE\": 0.2945772580547701,\n",
            "    \"ND\": 0.1278236531923855,\n",
            "    \"wQuantileLoss[0.1]\": 0.09487066264288106,\n",
            "    \"wQuantileLoss[0.5]\": 0.12782365318362957,\n",
            "    \"wQuantileLoss[0.9]\": 0.09735917178195094,\n",
            "    \"mean_wQuantileLoss\": 0.10668449586948718,\n",
            "    \"MAE_Coverage\": 0.11390084876541125\n",
            "}\n"
          ],
          "name": "stdout"
        }
      ]
    },
    {
      "cell_type": "code",
      "metadata": {
        "colab_type": "code",
        "id": "nM547CLIPo1p",
        "colab": {}
      },
      "source": [
        ""
      ],
      "execution_count": 0,
      "outputs": []
    },
    {
      "cell_type": "markdown",
      "metadata": {
        "colab_type": "text",
        "id": "nznVHsOFTpbl"
      },
      "source": [
        "## m4_quarterly"
      ]
    },
    {
      "cell_type": "code",
      "metadata": {
        "colab_type": "code",
        "id": "Lqy_k4FfTpbn",
        "outputId": "84eb884c-bf72-46df-8b3e-46da00acec6e",
        "colab": {
          "base_uri": "https://localhost:8080/",
          "height": 53
        }
      },
      "source": [
        "m4_quarterly_dataset = get_dataset(\"m4_quarterly\", regenerate=False)"
      ],
      "execution_count": 54,
      "outputs": [
        {
          "output_type": "stream",
          "text": [
            "saving time-series into /root/.mxnet/gluon-ts/datasets/m4_quarterly/train/data.json\n",
            "saving time-series into /root/.mxnet/gluon-ts/datasets/m4_quarterly/test/data.json\n"
          ],
          "name": "stdout"
        }
      ]
    },
    {
      "cell_type": "code",
      "metadata": {
        "colab_type": "code",
        "id": "Y457WiskTpbw",
        "outputId": "c005c748-570a-4574-fc39-228d43c64507",
        "colab": {
          "base_uri": "https://localhost:8080/",
          "height": 53
        }
      },
      "source": [
        "print (len(m4_quarterly_dataset.train))\n",
        "print (len(m4_quarterly_dataset.test))"
      ],
      "execution_count": 55,
      "outputs": [
        {
          "output_type": "stream",
          "text": [
            "24000\n",
            "24000\n"
          ],
          "name": "stdout"
        }
      ]
    },
    {
      "cell_type": "code",
      "metadata": {
        "colab_type": "code",
        "id": "b9EoE_m6Tpbz",
        "outputId": "b60e884a-0610-4031-b0fd-da114c124d55",
        "colab": {
          "base_uri": "https://localhost:8080/",
          "height": 35
        }
      },
      "source": [
        "m4_quarterly_dataset.metadata"
      ],
      "execution_count": 56,
      "outputs": [
        {
          "output_type": "execute_result",
          "data": {
            "text/plain": [
              "MetaData(freq='3M', target=None, feat_static_cat=[CategoricalFeatureInfo(name='feat_static_cat', cardinality='24000')], feat_static_real=[], feat_dynamic_real=[], feat_dynamic_cat=[], prediction_length=8)"
            ]
          },
          "metadata": {
            "tags": []
          },
          "execution_count": 56
        }
      ]
    },
    {
      "cell_type": "code",
      "metadata": {
        "colab_type": "code",
        "outputId": "d8e1387a-8cad-46aa-b090-787da59defad",
        "id": "NBrLxCWmqEzn",
        "colab": {
          "base_uri": "https://localhost:8080/",
          "height": 35
        }
      },
      "source": [
        "m4_quarterly_dataset.metadata.feat_static_cat[0]"
      ],
      "execution_count": 57,
      "outputs": [
        {
          "output_type": "execute_result",
          "data": {
            "text/plain": [
              "CategoricalFeatureInfo(name='feat_static_cat', cardinality='24000')"
            ]
          },
          "metadata": {
            "tags": []
          },
          "execution_count": 57
        }
      ]
    },
    {
      "cell_type": "code",
      "metadata": {
        "colab_type": "code",
        "id": "bYqoUboOqEzq",
        "colab": {}
      },
      "source": [
        "car = [int(m4_quarterly_dataset.metadata.feat_static_cat[0].cardinality)]"
      ],
      "execution_count": 0,
      "outputs": []
    },
    {
      "cell_type": "code",
      "metadata": {
        "colab_type": "code",
        "id": "9diHFpLATpb3",
        "outputId": "89ae176a-79ef-4093-8d89-a6fb63b8a161",
        "colab": {
          "base_uri": "https://localhost:8080/",
          "height": 35
        }
      },
      "source": [
        "next(iter(m4_quarterly_dataset.train)).keys()"
      ],
      "execution_count": 59,
      "outputs": [
        {
          "output_type": "execute_result",
          "data": {
            "text/plain": [
              "dict_keys(['start', 'target', 'feat_static_cat', 'item_id', 'source'])"
            ]
          },
          "metadata": {
            "tags": []
          },
          "execution_count": 59
        }
      ]
    },
    {
      "cell_type": "code",
      "metadata": {
        "colab_type": "code",
        "id": "uluvpZU5TpcE",
        "colab": {}
      },
      "source": [
        "# https://gluon-ts.mxnet.io/api/gluonts/gluonts.model.deepar.html\n",
        "DA_estimator = DeepAREstimator(\n",
        "    freq=m4_quarterly_dataset.metadata.freq, \n",
        "    prediction_length=m4_quarterly_dataset.metadata.prediction_length,\n",
        "    trainer = deepar_trainer, # (default: Trainer())\n",
        "    context_length=None, # (default: None, in which case context_length = prediction_length)\n",
        "    num_layers=2, # (default: 2)\n",
        "    num_cells=40, # (default: 40)\n",
        "    cell_type='lstm', # (default: ‘lstm’)\n",
        "    dropout_rate=0.1, # (default: 0.1)\n",
        "    use_feat_dynamic_real=False, # (default: False)\n",
        "    use_feat_static_cat=True, # (default: False)\n",
        "    use_feat_static_real=False, # (default: False)\n",
        "    cardinality=car, # (default: None)\n",
        "    #embedding_dimension=[20], # (default: [min(50, (cat+1)//2) for cat in cardinality])\n",
        "    distr_output = StudentTOutput(), # (default: StudentTOutput())\n",
        "    scaling=True, # (default: true)\n",
        "    lags_seq=None, # (default: None, in which case these are automatically determined based on freq)\n",
        "    time_features=None, # (default: None, in which case these are automatically determined based on freq)\n",
        "    num_parallel_samples=100, # (default: 100)\n",
        ")"
      ],
      "execution_count": 0,
      "outputs": []
    },
    {
      "cell_type": "code",
      "metadata": {
        "colab_type": "code",
        "id": "Yv7bIpjBTpcI",
        "outputId": "3ece2cde-4768-4fa7-d16d-0fceb94b01e4",
        "colab": {
          "base_uri": "https://localhost:8080/",
          "height": 1000
        }
      },
      "source": [
        "DA_predictor = DA_estimator.train(m4_quarterly_dataset.train)"
      ],
      "execution_count": 61,
      "outputs": [
        {
          "output_type": "stream",
          "text": [
            "\r  0%|          | 0/50 [00:00<?, ?it/s]"
          ],
          "name": "stderr"
        },
        {
          "output_type": "stream",
          "text": [
            "learning rate from ``lr_scheduler`` has been overwritten by ``learning_rate`` in optimizer.\n"
          ],
          "name": "stdout"
        },
        {
          "output_type": "stream",
          "text": [
            "100%|██████████| 50/50 [00:02<00:00, 20.99it/s, epoch=1/100, avg_epoch_loss=7.79]\n",
            "100%|██████████| 50/50 [00:02<00:00, 22.89it/s, epoch=2/100, avg_epoch_loss=7.67]\n",
            "100%|██████████| 50/50 [00:02<00:00, 23.22it/s, epoch=3/100, avg_epoch_loss=7.73]\n",
            "100%|██████████| 50/50 [00:02<00:00, 22.16it/s, epoch=4/100, avg_epoch_loss=7.38]\n",
            "100%|██████████| 50/50 [00:02<00:00, 21.69it/s, epoch=5/100, avg_epoch_loss=7.2]\n",
            "100%|██████████| 50/50 [00:02<00:00, 22.42it/s, epoch=6/100, avg_epoch_loss=7.5]\n",
            "100%|██████████| 50/50 [00:02<00:00, 22.57it/s, epoch=7/100, avg_epoch_loss=7.38]\n",
            "100%|██████████| 50/50 [00:02<00:00, 22.19it/s, epoch=8/100, avg_epoch_loss=7.31]\n",
            "100%|██████████| 50/50 [00:02<00:00, 22.35it/s, epoch=9/100, avg_epoch_loss=7.19]\n",
            "100%|██████████| 50/50 [00:02<00:00, 22.27it/s, epoch=10/100, avg_epoch_loss=7.11]\n",
            "100%|██████████| 50/50 [00:02<00:00, 22.97it/s, epoch=11/100, avg_epoch_loss=7.36]\n",
            "100%|██████████| 50/50 [00:02<00:00, 21.20it/s, epoch=12/100, avg_epoch_loss=7.58]\n",
            "100%|██████████| 50/50 [00:02<00:00, 22.36it/s, epoch=13/100, avg_epoch_loss=7.2]\n",
            "100%|██████████| 50/50 [00:02<00:00, 22.50it/s, epoch=14/100, avg_epoch_loss=7.03]\n",
            "100%|██████████| 50/50 [00:02<00:00, 22.33it/s, epoch=15/100, avg_epoch_loss=7.23]\n",
            "100%|██████████| 50/50 [00:02<00:00, 21.75it/s, epoch=16/100, avg_epoch_loss=6.96]\n",
            "100%|██████████| 50/50 [00:02<00:00, 22.06it/s, epoch=17/100, avg_epoch_loss=7.1]\n",
            "100%|██████████| 50/50 [00:02<00:00, 22.53it/s, epoch=18/100, avg_epoch_loss=7.29]\n",
            "100%|██████████| 50/50 [00:02<00:00, 22.93it/s, epoch=19/100, avg_epoch_loss=6.98]\n",
            "100%|██████████| 50/50 [00:02<00:00, 21.71it/s, epoch=20/100, avg_epoch_loss=6.65]\n",
            "100%|██████████| 50/50 [00:02<00:00, 21.91it/s, epoch=21/100, avg_epoch_loss=7.09]\n",
            "100%|██████████| 50/50 [00:02<00:00, 22.23it/s, epoch=22/100, avg_epoch_loss=6.92]\n",
            "100%|██████████| 50/50 [00:02<00:00, 22.17it/s, epoch=23/100, avg_epoch_loss=7.05]\n",
            "100%|██████████| 50/50 [00:02<00:00, 22.08it/s, epoch=24/100, avg_epoch_loss=6.96]\n",
            "100%|██████████| 50/50 [00:02<00:00, 22.50it/s, epoch=25/100, avg_epoch_loss=7.01]\n",
            "100%|██████████| 50/50 [00:02<00:00, 22.75it/s, epoch=26/100, avg_epoch_loss=7.15]\n",
            "100%|██████████| 50/50 [00:02<00:00, 21.87it/s, epoch=27/100, avg_epoch_loss=7.3]\n",
            "100%|██████████| 50/50 [00:02<00:00, 22.39it/s, epoch=28/100, avg_epoch_loss=7.02]\n",
            "100%|██████████| 50/50 [00:02<00:00, 22.46it/s, epoch=29/100, avg_epoch_loss=6.92]\n",
            "100%|██████████| 50/50 [00:02<00:00, 22.02it/s, epoch=30/100, avg_epoch_loss=7.06]\n",
            "100%|██████████| 50/50 [00:02<00:00, 21.76it/s, epoch=31/100, avg_epoch_loss=6.98]\n",
            "100%|██████████| 50/50 [00:02<00:00, 22.32it/s, epoch=32/100, avg_epoch_loss=7.05]\n",
            "100%|██████████| 50/50 [00:02<00:00, 22.95it/s, epoch=33/100, avg_epoch_loss=7.17]\n",
            "100%|██████████| 50/50 [00:02<00:00, 22.39it/s, epoch=34/100, avg_epoch_loss=6.84]\n",
            "100%|██████████| 50/50 [00:02<00:00, 21.43it/s, epoch=35/100, avg_epoch_loss=6.72]\n",
            "100%|██████████| 50/50 [00:02<00:00, 22.52it/s, epoch=36/100, avg_epoch_loss=7.02]\n",
            "100%|██████████| 50/50 [00:02<00:00, 22.54it/s, epoch=37/100, avg_epoch_loss=6.91]\n",
            "100%|██████████| 50/50 [00:02<00:00, 22.17it/s, epoch=38/100, avg_epoch_loss=7.01]\n",
            "100%|██████████| 50/50 [00:02<00:00, 21.89it/s, epoch=39/100, avg_epoch_loss=6.84]\n",
            "100%|██████████| 50/50 [00:02<00:00, 22.87it/s, epoch=40/100, avg_epoch_loss=6.97]\n",
            "100%|██████████| 50/50 [00:02<00:00, 22.55it/s, epoch=41/100, avg_epoch_loss=7.09]\n",
            "100%|██████████| 50/50 [00:02<00:00, 22.17it/s, epoch=42/100, avg_epoch_loss=7.22]\n",
            "100%|██████████| 50/50 [00:02<00:00, 22.36it/s, epoch=43/100, avg_epoch_loss=7.14]\n",
            "100%|██████████| 50/50 [00:02<00:00, 22.21it/s, epoch=44/100, avg_epoch_loss=6.95]\n",
            "100%|██████████| 50/50 [00:02<00:00, 22.20it/s, epoch=45/100, avg_epoch_loss=7.07]\n",
            "100%|██████████| 50/50 [00:02<00:00, 21.73it/s, epoch=46/100, avg_epoch_loss=6.78]\n",
            "100%|██████████| 50/50 [00:02<00:00, 22.36it/s, epoch=47/100, avg_epoch_loss=7.07]\n",
            "100%|██████████| 50/50 [00:02<00:00, 22.92it/s, epoch=48/100, avg_epoch_loss=7.06]\n",
            "100%|██████████| 50/50 [00:02<00:00, 22.54it/s, epoch=49/100, avg_epoch_loss=6.81]\n",
            "100%|██████████| 50/50 [00:02<00:00, 21.60it/s, epoch=50/100, avg_epoch_loss=6.6]\n",
            "100%|██████████| 50/50 [00:02<00:00, 20.53it/s, epoch=51/100, avg_epoch_loss=7.05]\n",
            "100%|██████████| 50/50 [00:02<00:00, 22.53it/s, epoch=52/100, avg_epoch_loss=6.92]\n",
            "100%|██████████| 50/50 [00:02<00:00, 22.25it/s, epoch=53/100, avg_epoch_loss=7]\n",
            "100%|██████████| 50/50 [00:02<00:00, 22.54it/s, epoch=54/100, avg_epoch_loss=6.84]\n",
            "100%|██████████| 50/50 [00:02<00:00, 22.71it/s, epoch=55/100, avg_epoch_loss=7]\n",
            "100%|██████████| 50/50 [00:02<00:00, 22.37it/s, epoch=56/100, avg_epoch_loss=7.05]\n",
            "100%|██████████| 50/50 [00:02<00:00, 21.61it/s, epoch=57/100, avg_epoch_loss=7.16]\n",
            "100%|██████████| 50/50 [00:02<00:00, 22.33it/s, epoch=58/100, avg_epoch_loss=7.06]\n",
            "100%|██████████| 50/50 [00:02<00:00, 22.71it/s, epoch=59/100, avg_epoch_loss=6.87]\n",
            "100%|██████████| 50/50 [00:02<00:00, 22.22it/s, epoch=60/100, avg_epoch_loss=6.98]\n",
            "100%|██████████| 50/50 [00:02<00:00, 21.43it/s, epoch=61/100, avg_epoch_loss=6.77]\n",
            "100%|██████████| 50/50 [00:02<00:00, 22.67it/s, epoch=62/100, avg_epoch_loss=7.08]\n",
            "100%|██████████| 50/50 [00:02<00:00, 22.87it/s, epoch=63/100, avg_epoch_loss=7.05]\n",
            "100%|██████████| 50/50 [00:02<00:00, 22.59it/s, epoch=64/100, avg_epoch_loss=6.73]\n",
            "100%|██████████| 50/50 [00:02<00:00, 21.62it/s, epoch=65/100, avg_epoch_loss=6.61]\n",
            "100%|██████████| 50/50 [00:02<00:00, 22.63it/s, epoch=66/100, avg_epoch_loss=7.01]\n",
            "100%|██████████| 50/50 [00:02<00:00, 22.02it/s, epoch=67/100, avg_epoch_loss=6.95]\n",
            "100%|██████████| 50/50 [00:02<00:00, 21.77it/s, epoch=68/100, avg_epoch_loss=6.99]\n",
            "100%|██████████| 50/50 [00:02<00:00, 21.80it/s, epoch=69/100, avg_epoch_loss=6.84]\n",
            "100%|██████████| 50/50 [00:02<00:00, 22.87it/s, epoch=70/100, avg_epoch_loss=6.95]\n",
            "100%|██████████| 50/50 [00:02<00:00, 22.26it/s, epoch=71/100, avg_epoch_loss=7.06]\n",
            "100%|██████████| 50/50 [00:02<00:00, 22.24it/s, epoch=72/100, avg_epoch_loss=7.22]\n",
            "100%|██████████| 50/50 [00:02<00:00, 22.27it/s, epoch=73/100, avg_epoch_loss=7.07]\n",
            "100%|██████████| 50/50 [00:02<00:00, 22.64it/s, epoch=74/100, avg_epoch_loss=6.87]\n",
            "100%|██████████| 50/50 [00:02<00:00, 22.12it/s, epoch=75/100, avg_epoch_loss=6.96]\n",
            "100%|██████████| 50/50 [00:02<00:00, 21.51it/s, epoch=76/100, avg_epoch_loss=6.88]\n",
            "100%|██████████| 50/50 [00:02<00:00, 22.65it/s, epoch=77/100, avg_epoch_loss=7.07]\n",
            "100%|██████████| 50/50 [00:02<00:00, 23.05it/s, epoch=78/100, avg_epoch_loss=7.06]\n",
            "100%|██████████| 50/50 [00:02<00:00, 22.83it/s, epoch=79/100, avg_epoch_loss=6.72]\n",
            "100%|██████████| 50/50 [00:02<00:00, 21.45it/s, epoch=80/100, avg_epoch_loss=6.61]\n",
            "100%|██████████| 50/50 [00:02<00:00, 22.25it/s, epoch=81/100, avg_epoch_loss=7.08]\n",
            "100%|██████████| 50/50 [00:02<00:00, 22.65it/s, epoch=82/100, avg_epoch_loss=6.9]\n",
            "100%|██████████| 50/50 [00:02<00:00, 22.33it/s, epoch=83/100, avg_epoch_loss=7]\n",
            "100%|██████████| 50/50 [00:02<00:00, 22.33it/s, epoch=84/100, avg_epoch_loss=6.88]\n",
            "100%|██████████| 50/50 [00:02<00:00, 22.78it/s, epoch=85/100, avg_epoch_loss=6.92]\n",
            "100%|██████████| 50/50 [00:02<00:00, 22.89it/s, epoch=86/100, avg_epoch_loss=6.93]\n",
            "100%|██████████| 50/50 [00:02<00:00, 21.66it/s, epoch=87/100, avg_epoch_loss=7.42]\n",
            "100%|██████████| 50/50 [00:02<00:00, 22.69it/s, epoch=88/100, avg_epoch_loss=6.92]\n",
            "100%|██████████| 50/50 [00:02<00:00, 22.23it/s, epoch=89/100, avg_epoch_loss=6.89]\n",
            "100%|██████████| 50/50 [00:02<00:00, 22.17it/s, epoch=90/100, avg_epoch_loss=7.04]\n"
          ],
          "name": "stderr"
        }
      ]
    },
    {
      "cell_type": "code",
      "metadata": {
        "colab_type": "code",
        "id": "0kea2_IuTpcM",
        "outputId": "e7944670-533b-44e1-9567-ec70dbf3c109",
        "colab": {
          "base_uri": "https://localhost:8080/",
          "height": 503
        }
      },
      "source": [
        "forecast_it, ts_it = make_evaluation_predictions(\n",
        "    dataset=m4_quarterly_dataset.test, \n",
        "    predictor=DA_predictor, \n",
        "    num_samples=100, \n",
        ")\n",
        "\n",
        "forecasts = list(forecast_it)\n",
        "tss = list(ts_it)\n",
        "\n",
        "evaluator = Evaluator(quantiles=[0.1, 0.5, 0.9])\n",
        "agg_metrics, item_metrics = evaluator(iter(tss), iter(forecasts), num_series=len(m4_quarterly_dataset.test))\n",
        "\n",
        "print(json.dumps(agg_metrics, indent=4))"
      ],
      "execution_count": 62,
      "outputs": [
        {
          "output_type": "stream",
          "text": [
            "Running evaluation: 100%|██████████| 24000/24000 [00:00<00:00, 234022.32it/s]\n"
          ],
          "name": "stderr"
        },
        {
          "output_type": "stream",
          "text": [
            "{\n",
            "    \"MSE\": 2022200.4034742871,\n",
            "    \"abs_error\": 121690331.99066162,\n",
            "    \"abs_target_sum\": 1147074070.9031982,\n",
            "    \"abs_target_mean\": 5974.344119287491,\n",
            "    \"seasonal_error\": 473.4332698179725,\n",
            "    \"MASE\": 1.4951248787902678,\n",
            "    \"MAPE\": 0.13639981814935406,\n",
            "    \"sMAPE\": 0.11372371491502696,\n",
            "    \"OWA\": NaN,\n",
            "    \"MSIS\": 18.293836231600395,\n",
            "    \"QuantileLoss[0.1]\": 72796851.83511963,\n",
            "    \"Coverage[0.1]\": 0.164265625,\n",
            "    \"QuantileLoss[0.5]\": 121690331.9389267,\n",
            "    \"Coverage[0.5]\": 0.5931510416666667,\n",
            "    \"QuantileLoss[0.9]\": 74196518.73234558,\n",
            "    \"Coverage[0.9]\": 0.888125,\n",
            "    \"RMSE\": 1422.0409289026413,\n",
            "    \"NRMSE\": 0.23802460998383804,\n",
            "    \"ND\": 0.10608759719836007,\n",
            "    \"wQuantileLoss[0.1]\": 0.06346307852447566,\n",
            "    \"wQuantileLoss[0.5]\": 0.10608759715325844,\n",
            "    \"wQuantileLoss[0.9]\": 0.06468328472800693,\n",
            "    \"mean_wQuantileLoss\": 0.07807798680191368,\n",
            "    \"MAE_Coverage\": 0.05643055555555554\n",
            "}\n"
          ],
          "name": "stdout"
        }
      ]
    },
    {
      "cell_type": "code",
      "metadata": {
        "colab_type": "code",
        "id": "WLQbIJlNTpcQ",
        "colab": {}
      },
      "source": [
        ""
      ],
      "execution_count": 0,
      "outputs": []
    },
    {
      "cell_type": "markdown",
      "metadata": {
        "colab_type": "text",
        "id": "mPBrg_LQUG-N"
      },
      "source": [
        "## m4_weekly"
      ]
    },
    {
      "cell_type": "code",
      "metadata": {
        "colab_type": "code",
        "id": "zqOsVt25UG-O",
        "outputId": "3073020a-0210-4d29-e04d-6b989c966c58",
        "colab": {
          "base_uri": "https://localhost:8080/",
          "height": 53
        }
      },
      "source": [
        "m4_weekly_dataset = get_dataset(\"m4_weekly\", regenerate=False)"
      ],
      "execution_count": 63,
      "outputs": [
        {
          "output_type": "stream",
          "text": [
            "saving time-series into /root/.mxnet/gluon-ts/datasets/m4_weekly/train/data.json\n",
            "saving time-series into /root/.mxnet/gluon-ts/datasets/m4_weekly/test/data.json\n"
          ],
          "name": "stdout"
        }
      ]
    },
    {
      "cell_type": "code",
      "metadata": {
        "colab_type": "code",
        "id": "8rImBkzcUG-R",
        "outputId": "5f29a5dd-aba4-424d-a7b4-024bb552d78d",
        "colab": {
          "base_uri": "https://localhost:8080/",
          "height": 53
        }
      },
      "source": [
        "print (len(m4_weekly_dataset.train))\n",
        "print (len(m4_weekly_dataset.test))"
      ],
      "execution_count": 64,
      "outputs": [
        {
          "output_type": "stream",
          "text": [
            "359\n",
            "359\n"
          ],
          "name": "stdout"
        }
      ]
    },
    {
      "cell_type": "code",
      "metadata": {
        "colab_type": "code",
        "id": "YNqBvMCfUG-U",
        "outputId": "e3b7cdf8-79c7-499a-e326-16fdaee9c990",
        "colab": {
          "base_uri": "https://localhost:8080/",
          "height": 35
        }
      },
      "source": [
        "m4_weekly_dataset.metadata"
      ],
      "execution_count": 65,
      "outputs": [
        {
          "output_type": "execute_result",
          "data": {
            "text/plain": [
              "MetaData(freq='W', target=None, feat_static_cat=[CategoricalFeatureInfo(name='feat_static_cat', cardinality='359')], feat_static_real=[], feat_dynamic_real=[], feat_dynamic_cat=[], prediction_length=13)"
            ]
          },
          "metadata": {
            "tags": []
          },
          "execution_count": 65
        }
      ]
    },
    {
      "cell_type": "code",
      "metadata": {
        "colab_type": "code",
        "outputId": "d3b9b8bf-7a30-4293-f4c6-271aaeb509a2",
        "id": "oBmE2sv5qRI5",
        "colab": {
          "base_uri": "https://localhost:8080/",
          "height": 35
        }
      },
      "source": [
        "m4_weekly_dataset.metadata.feat_static_cat[0]"
      ],
      "execution_count": 66,
      "outputs": [
        {
          "output_type": "execute_result",
          "data": {
            "text/plain": [
              "CategoricalFeatureInfo(name='feat_static_cat', cardinality='359')"
            ]
          },
          "metadata": {
            "tags": []
          },
          "execution_count": 66
        }
      ]
    },
    {
      "cell_type": "code",
      "metadata": {
        "colab_type": "code",
        "id": "9ne4eVCaqRI8",
        "colab": {}
      },
      "source": [
        "car = [int(m4_weekly_dataset.metadata.feat_static_cat[0].cardinality)]"
      ],
      "execution_count": 0,
      "outputs": []
    },
    {
      "cell_type": "code",
      "metadata": {
        "colab_type": "code",
        "id": "xxBOpLK5UG-W",
        "outputId": "26af7bb7-2218-4e8c-82b6-2f9a15ebd9f4",
        "colab": {
          "base_uri": "https://localhost:8080/",
          "height": 35
        }
      },
      "source": [
        "next(iter(m4_weekly_dataset.train)).keys()"
      ],
      "execution_count": 68,
      "outputs": [
        {
          "output_type": "execute_result",
          "data": {
            "text/plain": [
              "dict_keys(['start', 'target', 'feat_static_cat', 'item_id', 'source'])"
            ]
          },
          "metadata": {
            "tags": []
          },
          "execution_count": 68
        }
      ]
    },
    {
      "cell_type": "code",
      "metadata": {
        "colab_type": "code",
        "id": "oambQWoLUG-b",
        "colab": {}
      },
      "source": [
        "# https://gluon-ts.mxnet.io/api/gluonts/gluonts.model.deepar.html\n",
        "DA_estimator = DeepAREstimator(\n",
        "    freq=m4_weekly_dataset.metadata.freq, \n",
        "    prediction_length=m4_weekly_dataset.metadata.prediction_length,\n",
        "    trainer = deepar_trainer, # (default: Trainer())\n",
        "    context_length=None, # (default: None, in which case context_length = prediction_length)\n",
        "    num_layers=2, # (default: 2)\n",
        "    num_cells=40, # (default: 40)\n",
        "    cell_type='lstm', # (default: ‘lstm’)\n",
        "    dropout_rate=0.1, # (default: 0.1)\n",
        "    use_feat_dynamic_real=False, # (default: False)\n",
        "    use_feat_static_cat=True, # (default: False)\n",
        "    use_feat_static_real=False, # (default: False)\n",
        "    cardinality=car, # (default: None)\n",
        "    #embedding_dimension=[20], # (default: [min(50, (cat+1)//2) for cat in cardinality])\n",
        "    distr_output = StudentTOutput(), # (default: StudentTOutput())\n",
        "    scaling=True, # (default: true)\n",
        "    lags_seq=None, # (default: None, in which case these are automatically determined based on freq)\n",
        "    time_features=None, # (default: None, in which case these are automatically determined based on freq)\n",
        "    num_parallel_samples=100, # (default: 100)\n",
        ")"
      ],
      "execution_count": 0,
      "outputs": []
    },
    {
      "cell_type": "code",
      "metadata": {
        "colab_type": "code",
        "id": "268w4zPdUG-o",
        "outputId": "4ab89e39-787f-4aa5-b68f-f12c5ca29b29",
        "colab": {
          "base_uri": "https://localhost:8080/",
          "height": 1000
        }
      },
      "source": [
        "DA_predictor = DA_estimator.train(m4_weekly_dataset.train)"
      ],
      "execution_count": 70,
      "outputs": [
        {
          "output_type": "stream",
          "text": [
            "\r  0%|          | 0/50 [00:00<?, ?it/s]"
          ],
          "name": "stderr"
        },
        {
          "output_type": "stream",
          "text": [
            "learning rate from ``lr_scheduler`` has been overwritten by ``learning_rate`` in optimizer.\n"
          ],
          "name": "stdout"
        },
        {
          "output_type": "stream",
          "text": [
            "100%|██████████| 50/50 [00:03<00:00, 14.55it/s, epoch=1/100, avg_epoch_loss=8.11]\n",
            "100%|██████████| 50/50 [00:03<00:00, 16.00it/s, epoch=2/100, avg_epoch_loss=7.17]\n",
            "100%|██████████| 50/50 [00:03<00:00, 15.76it/s, epoch=3/100, avg_epoch_loss=6.98]\n",
            "100%|██████████| 50/50 [00:03<00:00, 15.88it/s, epoch=4/100, avg_epoch_loss=6.88]\n",
            "100%|██████████| 50/50 [00:03<00:00, 16.05it/s, epoch=5/100, avg_epoch_loss=6.94]\n",
            "100%|██████████| 50/50 [00:03<00:00, 16.28it/s, epoch=6/100, avg_epoch_loss=6.79]\n",
            "100%|██████████| 50/50 [00:03<00:00, 16.11it/s, epoch=7/100, avg_epoch_loss=6.77]\n",
            "100%|██████████| 50/50 [00:03<00:00, 16.23it/s, epoch=8/100, avg_epoch_loss=6.77]\n",
            "100%|██████████| 50/50 [00:03<00:00, 16.30it/s, epoch=9/100, avg_epoch_loss=7.27]\n",
            "100%|██████████| 50/50 [00:03<00:00, 16.29it/s, epoch=10/100, avg_epoch_loss=6.94]\n",
            "100%|██████████| 50/50 [00:03<00:00, 16.27it/s, epoch=11/100, avg_epoch_loss=7.03]\n",
            "100%|██████████| 50/50 [00:03<00:00, 16.17it/s, epoch=12/100, avg_epoch_loss=6.86]\n",
            "100%|██████████| 50/50 [00:03<00:00, 16.13it/s, epoch=13/100, avg_epoch_loss=7.43]\n",
            "100%|██████████| 50/50 [00:03<00:00, 16.03it/s, epoch=14/100, avg_epoch_loss=6.63]\n",
            "100%|██████████| 50/50 [00:03<00:00, 15.93it/s, epoch=15/100, avg_epoch_loss=6.99]\n",
            "100%|██████████| 50/50 [00:03<00:00, 16.03it/s, epoch=16/100, avg_epoch_loss=6.75]\n",
            "100%|██████████| 50/50 [00:03<00:00, 16.33it/s, epoch=17/100, avg_epoch_loss=6.99]\n",
            "100%|██████████| 50/50 [00:03<00:00, 16.35it/s, epoch=18/100, avg_epoch_loss=7.01]\n",
            "100%|██████████| 50/50 [00:03<00:00, 16.47it/s, epoch=19/100, avg_epoch_loss=6.6]\n",
            "100%|██████████| 50/50 [00:03<00:00, 16.20it/s, epoch=20/100, avg_epoch_loss=6.69]\n",
            "100%|██████████| 50/50 [00:03<00:00, 16.22it/s, epoch=21/100, avg_epoch_loss=6.99]\n",
            "100%|██████████| 50/50 [00:03<00:00, 16.25it/s, epoch=22/100, avg_epoch_loss=6.44]\n",
            "100%|██████████| 50/50 [00:03<00:00, 16.30it/s, epoch=23/100, avg_epoch_loss=7.21]\n",
            "100%|██████████| 50/50 [00:03<00:00, 16.19it/s, epoch=24/100, avg_epoch_loss=6.72]\n",
            "100%|██████████| 50/50 [00:03<00:00, 16.15it/s, epoch=25/100, avg_epoch_loss=6.8]\n",
            "100%|██████████| 50/50 [00:03<00:00, 16.23it/s, epoch=26/100, avg_epoch_loss=6.52]\n",
            "100%|██████████| 50/50 [00:03<00:00, 16.21it/s, epoch=27/100, avg_epoch_loss=6.54]\n",
            "100%|██████████| 50/50 [00:03<00:00, 16.09it/s, epoch=28/100, avg_epoch_loss=6.92]\n",
            "100%|██████████| 50/50 [00:03<00:00, 16.03it/s, epoch=29/100, avg_epoch_loss=6.49]\n",
            "100%|██████████| 50/50 [00:03<00:00, 16.20it/s, epoch=30/100, avg_epoch_loss=7.13]\n",
            "100%|██████████| 50/50 [00:03<00:00, 16.33it/s, epoch=31/100, avg_epoch_loss=6.5]\n",
            "100%|██████████| 50/50 [00:03<00:00, 16.20it/s, epoch=32/100, avg_epoch_loss=6.33]\n",
            "100%|██████████| 50/50 [00:03<00:00, 16.36it/s, epoch=33/100, avg_epoch_loss=6.42]\n",
            "100%|██████████| 50/50 [00:03<00:00, 16.07it/s, epoch=34/100, avg_epoch_loss=6.83]\n",
            "100%|██████████| 50/50 [00:03<00:00, 16.39it/s, epoch=35/100, avg_epoch_loss=6.78]\n",
            "100%|██████████| 50/50 [00:03<00:00, 16.22it/s, epoch=36/100, avg_epoch_loss=6.6]\n",
            "100%|██████████| 50/50 [00:03<00:00, 16.32it/s, epoch=37/100, avg_epoch_loss=6.36]\n",
            "100%|██████████| 50/50 [00:03<00:00, 16.41it/s, epoch=38/100, avg_epoch_loss=6.71]\n",
            "100%|██████████| 50/50 [00:03<00:00, 16.38it/s, epoch=39/100, avg_epoch_loss=6.66]\n",
            "100%|██████████| 50/50 [00:03<00:00, 16.34it/s, epoch=40/100, avg_epoch_loss=6.56]\n",
            "100%|██████████| 50/50 [00:03<00:00, 16.20it/s, epoch=41/100, avg_epoch_loss=6.9]\n",
            "100%|██████████| 50/50 [00:03<00:00, 16.30it/s, epoch=42/100, avg_epoch_loss=6.31]\n",
            "100%|██████████| 50/50 [00:03<00:00, 16.28it/s, epoch=43/100, avg_epoch_loss=6.28]\n",
            "100%|██████████| 50/50 [00:03<00:00, 16.28it/s, epoch=44/100, avg_epoch_loss=7.1]\n",
            "100%|██████████| 50/50 [00:03<00:00, 16.39it/s, epoch=45/100, avg_epoch_loss=6.63]\n",
            "100%|██████████| 50/50 [00:03<00:00, 16.44it/s, epoch=46/100, avg_epoch_loss=6.63]\n",
            "100%|██████████| 50/50 [00:03<00:00, 16.08it/s, epoch=47/100, avg_epoch_loss=6.39]\n",
            "100%|██████████| 50/50 [00:03<00:00, 16.33it/s, epoch=48/100, avg_epoch_loss=6.61]\n",
            "100%|██████████| 50/50 [00:03<00:00, 16.40it/s, epoch=49/100, avg_epoch_loss=6.44]\n",
            "100%|██████████| 50/50 [00:03<00:00, 16.30it/s, epoch=50/100, avg_epoch_loss=6.69]\n",
            "100%|██████████| 50/50 [00:03<00:00, 16.25it/s, epoch=51/100, avg_epoch_loss=6.31]\n",
            "100%|██████████| 50/50 [00:03<00:00, 16.21it/s, epoch=52/100, avg_epoch_loss=6.45]\n",
            "100%|██████████| 50/50 [00:03<00:00, 16.46it/s, epoch=53/100, avg_epoch_loss=6.71]\n",
            "100%|██████████| 50/50 [00:03<00:00, 16.08it/s, epoch=54/100, avg_epoch_loss=6.47]\n",
            "100%|██████████| 50/50 [00:03<00:00, 16.27it/s, epoch=55/100, avg_epoch_loss=6.23]\n",
            "100%|██████████| 50/50 [00:03<00:00, 16.31it/s, epoch=56/100, avg_epoch_loss=6.46]\n",
            "100%|██████████| 50/50 [00:03<00:00, 16.20it/s, epoch=57/100, avg_epoch_loss=6.26]\n",
            "100%|██████████| 50/50 [00:03<00:00, 16.27it/s, epoch=58/100, avg_epoch_loss=6.33]\n",
            "100%|██████████| 50/50 [00:03<00:00, 16.10it/s, epoch=59/100, avg_epoch_loss=6.37]\n",
            "100%|██████████| 50/50 [00:03<00:00, 16.30it/s, epoch=60/100, avg_epoch_loss=6.15]\n",
            "100%|██████████| 50/50 [00:03<00:00, 16.26it/s, epoch=61/100, avg_epoch_loss=6.15]\n",
            "100%|██████████| 50/50 [00:03<00:00, 16.05it/s, epoch=62/100, avg_epoch_loss=6.43]\n",
            "100%|██████████| 50/50 [00:03<00:00, 16.16it/s, epoch=63/100, avg_epoch_loss=6.38]\n",
            "100%|██████████| 50/50 [00:03<00:00, 16.38it/s, epoch=64/100, avg_epoch_loss=6.16]\n",
            "100%|██████████| 50/50 [00:03<00:00, 16.05it/s, epoch=65/100, avg_epoch_loss=6.14]\n",
            "100%|██████████| 50/50 [00:03<00:00, 15.98it/s, epoch=66/100, avg_epoch_loss=6.49]\n",
            "100%|██████████| 50/50 [00:03<00:00, 15.77it/s, epoch=67/100, avg_epoch_loss=6.3]\n",
            "100%|██████████| 50/50 [00:03<00:00, 15.90it/s, epoch=68/100, avg_epoch_loss=6.09]\n",
            "100%|██████████| 50/50 [00:03<00:00, 16.22it/s, epoch=69/100, avg_epoch_loss=6.44]\n",
            "100%|██████████| 50/50 [00:03<00:00, 16.03it/s, epoch=70/100, avg_epoch_loss=6.24]\n",
            "100%|██████████| 50/50 [00:03<00:00, 15.99it/s, epoch=71/100, avg_epoch_loss=6.34]\n",
            "100%|██████████| 50/50 [00:03<00:00, 15.97it/s, epoch=72/100, avg_epoch_loss=6.14]\n",
            "100%|██████████| 50/50 [00:03<00:00, 16.01it/s, epoch=73/100, avg_epoch_loss=6.32]\n",
            "100%|██████████| 50/50 [00:03<00:00, 15.98it/s, epoch=74/100, avg_epoch_loss=6.2]\n",
            "100%|██████████| 50/50 [00:03<00:00, 16.05it/s, epoch=75/100, avg_epoch_loss=6.14]\n",
            "100%|██████████| 50/50 [00:03<00:00, 16.28it/s, epoch=76/100, avg_epoch_loss=6.06]\n",
            "100%|██████████| 50/50 [00:03<00:00, 16.10it/s, epoch=77/100, avg_epoch_loss=6.49]\n",
            "100%|██████████| 50/50 [00:03<00:00, 16.11it/s, epoch=78/100, avg_epoch_loss=6.15]\n",
            "100%|██████████| 50/50 [00:03<00:00, 16.35it/s, epoch=79/100, avg_epoch_loss=6.07]\n",
            "100%|██████████| 50/50 [00:03<00:00, 16.32it/s, epoch=80/100, avg_epoch_loss=6.36]\n",
            "100%|██████████| 50/50 [00:03<00:00, 16.18it/s, epoch=81/100, avg_epoch_loss=6.2]\n",
            "100%|██████████| 50/50 [00:03<00:00, 16.66it/s, epoch=82/100, avg_epoch_loss=6.16]\n",
            "100%|██████████| 50/50 [00:03<00:00, 16.25it/s, epoch=83/100, avg_epoch_loss=6.22]\n",
            "100%|██████████| 50/50 [00:03<00:00, 16.33it/s, epoch=84/100, avg_epoch_loss=6.05]\n",
            "100%|██████████| 50/50 [00:03<00:00, 16.18it/s, epoch=85/100, avg_epoch_loss=6.18]\n",
            "100%|██████████| 50/50 [00:03<00:00, 16.37it/s, epoch=86/100, avg_epoch_loss=6.31]\n",
            "100%|██████████| 50/50 [00:03<00:00, 16.29it/s, epoch=87/100, avg_epoch_loss=6.11]\n",
            "100%|██████████| 50/50 [00:03<00:00, 16.43it/s, epoch=88/100, avg_epoch_loss=6.06]\n",
            "100%|██████████| 50/50 [00:03<00:00, 16.20it/s, epoch=89/100, avg_epoch_loss=6.39]\n",
            "100%|██████████| 50/50 [00:03<00:00, 16.27it/s, epoch=90/100, avg_epoch_loss=6.13]\n",
            "100%|██████████| 50/50 [00:03<00:00, 16.23it/s, epoch=91/100, avg_epoch_loss=6.07]\n",
            "100%|██████████| 50/50 [00:03<00:00, 15.98it/s, epoch=92/100, avg_epoch_loss=6.1]\n",
            "100%|██████████| 50/50 [00:03<00:00, 16.23it/s, epoch=93/100, avg_epoch_loss=6.06]\n",
            "100%|██████████| 50/50 [00:03<00:00, 16.08it/s, epoch=94/100, avg_epoch_loss=6.09]\n",
            "100%|██████████| 50/50 [00:03<00:00, 16.13it/s, epoch=95/100, avg_epoch_loss=6.01]\n",
            "100%|██████████| 50/50 [00:03<00:00, 16.08it/s, epoch=96/100, avg_epoch_loss=6.1]\n",
            "100%|██████████| 50/50 [00:03<00:00, 16.38it/s, epoch=97/100, avg_epoch_loss=5.96]\n",
            "100%|██████████| 50/50 [00:03<00:00, 16.52it/s, epoch=98/100, avg_epoch_loss=6.01]\n",
            "100%|██████████| 50/50 [00:03<00:00, 16.37it/s, epoch=99/100, avg_epoch_loss=6.06]\n",
            "100%|██████████| 50/50 [00:03<00:00, 16.13it/s, epoch=100/100, avg_epoch_loss=5.96]\n"
          ],
          "name": "stderr"
        }
      ]
    },
    {
      "cell_type": "code",
      "metadata": {
        "colab_type": "code",
        "id": "kE6yGMdvUG-x",
        "outputId": "cf7cc3d8-4a4f-41ab-f4a4-ab67dd25cb9e",
        "colab": {
          "base_uri": "https://localhost:8080/",
          "height": 503
        }
      },
      "source": [
        "forecast_it, ts_it = make_evaluation_predictions(\n",
        "    dataset=m4_weekly_dataset.test, \n",
        "    predictor=DA_predictor, \n",
        "    num_samples=100, \n",
        ")\n",
        "\n",
        "forecasts = list(forecast_it)\n",
        "tss = list(ts_it)\n",
        "\n",
        "evaluator = Evaluator(quantiles=[0.1, 0.5, 0.9])\n",
        "agg_metrics, item_metrics = evaluator(iter(tss), iter(forecasts), num_series=len(m4_weekly_dataset.test))\n",
        "\n",
        "print(json.dumps(agg_metrics, indent=4))"
      ],
      "execution_count": 71,
      "outputs": [
        {
          "output_type": "stream",
          "text": [
            "Running evaluation: 100%|██████████| 359/359 [00:00<00:00, 5446.83it/s]\n"
          ],
          "name": "stderr"
        },
        {
          "output_type": "stream",
          "text": [
            "{\n",
            "    \"MSE\": 420105.16883960285,\n",
            "    \"abs_error\": 1626893.140007019,\n",
            "    \"abs_target_sum\": 25616889.502441406,\n",
            "    \"abs_target_mean\": 5488.941397566194,\n",
            "    \"seasonal_error\": 216.54813922503882,\n",
            "    \"MASE\": 3.210091946499933,\n",
            "    \"MAPE\": 0.08736022681496754,\n",
            "    \"sMAPE\": 0.08828131199940811,\n",
            "    \"OWA\": NaN,\n",
            "    \"MSIS\": 46.411162149740164,\n",
            "    \"QuantileLoss[0.1]\": 841922.4322738646,\n",
            "    \"Coverage[0.1]\": 0.21019927148060885,\n",
            "    \"QuantileLoss[0.5]\": 1626893.1342086792,\n",
            "    \"Coverage[0.5]\": 0.5819584315406043,\n",
            "    \"QuantileLoss[0.9]\": 789106.0914321898,\n",
            "    \"Coverage[0.9]\": 0.9033640454253268,\n",
            "    \"RMSE\": 648.155204283359,\n",
            "    \"NRMSE\": 0.1180838266137715,\n",
            "    \"ND\": 0.06350861371564916,\n",
            "    \"wQuantileLoss[0.1]\": 0.03286591185060253,\n",
            "    \"wQuantileLoss[0.5]\": 0.06350861348930083,\n",
            "    \"wQuantileLoss[0.9]\": 0.030804133786695078,\n",
            "    \"mean_wQuantileLoss\": 0.04239288637553281,\n",
            "    \"MAE_Coverage\": 0.06517391614884664\n",
            "}\n"
          ],
          "name": "stdout"
        }
      ]
    },
    {
      "cell_type": "code",
      "metadata": {
        "colab_type": "code",
        "id": "Qad3RV63UG-2",
        "colab": {}
      },
      "source": [
        ""
      ],
      "execution_count": 0,
      "outputs": []
    },
    {
      "cell_type": "markdown",
      "metadata": {
        "colab_type": "text",
        "id": "TYKFITcnUKLQ"
      },
      "source": [
        "## m4_yearly"
      ]
    },
    {
      "cell_type": "code",
      "metadata": {
        "colab_type": "code",
        "id": "0_xBRUYXUKLR",
        "outputId": "fa818a08-ec95-4c70-bacf-bb34091b8684",
        "colab": {
          "base_uri": "https://localhost:8080/",
          "height": 53
        }
      },
      "source": [
        "m4_yearly_dataset = get_dataset(\"m4_yearly\", regenerate=False)"
      ],
      "execution_count": 72,
      "outputs": [
        {
          "output_type": "stream",
          "text": [
            "saving time-series into /root/.mxnet/gluon-ts/datasets/m4_yearly/train/data.json\n",
            "saving time-series into /root/.mxnet/gluon-ts/datasets/m4_yearly/test/data.json\n"
          ],
          "name": "stdout"
        }
      ]
    },
    {
      "cell_type": "code",
      "metadata": {
        "colab_type": "code",
        "id": "QYwTQDmbUKLW",
        "outputId": "141c31f6-97a1-412e-81a1-1029884aced0",
        "colab": {
          "base_uri": "https://localhost:8080/",
          "height": 53
        }
      },
      "source": [
        "print (len(m4_yearly_dataset.train))\n",
        "print (len(m4_yearly_dataset.test))"
      ],
      "execution_count": 73,
      "outputs": [
        {
          "output_type": "stream",
          "text": [
            "23000\n",
            "23000\n"
          ],
          "name": "stdout"
        }
      ]
    },
    {
      "cell_type": "code",
      "metadata": {
        "colab_type": "code",
        "id": "Vm2erLbqUKLa",
        "outputId": "a4e5a909-9812-430b-e527-5ecf190f8b1b",
        "colab": {
          "base_uri": "https://localhost:8080/",
          "height": 35
        }
      },
      "source": [
        "m4_yearly_dataset.metadata"
      ],
      "execution_count": 74,
      "outputs": [
        {
          "output_type": "execute_result",
          "data": {
            "text/plain": [
              "MetaData(freq='12M', target=None, feat_static_cat=[CategoricalFeatureInfo(name='feat_static_cat', cardinality='23000')], feat_static_real=[], feat_dynamic_real=[], feat_dynamic_cat=[], prediction_length=6)"
            ]
          },
          "metadata": {
            "tags": []
          },
          "execution_count": 74
        }
      ]
    },
    {
      "cell_type": "code",
      "metadata": {
        "colab_type": "code",
        "outputId": "4f5f7f3a-29ac-4b39-ee5b-9263b956c304",
        "id": "p--10RfDqfGS",
        "colab": {
          "base_uri": "https://localhost:8080/",
          "height": 35
        }
      },
      "source": [
        "m4_yearly_dataset.metadata.feat_static_cat[0]"
      ],
      "execution_count": 75,
      "outputs": [
        {
          "output_type": "execute_result",
          "data": {
            "text/plain": [
              "CategoricalFeatureInfo(name='feat_static_cat', cardinality='23000')"
            ]
          },
          "metadata": {
            "tags": []
          },
          "execution_count": 75
        }
      ]
    },
    {
      "cell_type": "code",
      "metadata": {
        "colab_type": "code",
        "id": "8Q0KSV9LqfGY",
        "colab": {}
      },
      "source": [
        "car = [int(m4_yearly_dataset.metadata.feat_static_cat[0].cardinality)]"
      ],
      "execution_count": 0,
      "outputs": []
    },
    {
      "cell_type": "code",
      "metadata": {
        "colab_type": "code",
        "id": "cjR3KORlUKLe",
        "outputId": "10b929ba-97e1-4a15-f0d0-f409244a56c6",
        "colab": {
          "base_uri": "https://localhost:8080/",
          "height": 35
        }
      },
      "source": [
        "next(iter(m4_yearly_dataset.train)).keys()"
      ],
      "execution_count": 77,
      "outputs": [
        {
          "output_type": "execute_result",
          "data": {
            "text/plain": [
              "dict_keys(['start', 'target', 'feat_static_cat', 'item_id', 'source'])"
            ]
          },
          "metadata": {
            "tags": []
          },
          "execution_count": 77
        }
      ]
    },
    {
      "cell_type": "code",
      "metadata": {
        "colab_type": "code",
        "id": "LjZJvTpaUKLo",
        "colab": {}
      },
      "source": [
        "# https://gluon-ts.mxnet.io/api/gluonts/gluonts.model.deepar.html\n",
        "DA_estimator = DeepAREstimator(\n",
        "    freq=m4_yearly_dataset.metadata.freq, \n",
        "    prediction_length=m4_yearly_dataset.metadata.prediction_length,\n",
        "    trainer = deepar_trainer, # (default: Trainer())\n",
        "    context_length=None, # (default: None, in which case context_length = prediction_length)\n",
        "    num_layers=2, # (default: 2)\n",
        "    num_cells=40, # (default: 40)\n",
        "    cell_type='lstm', # (default: ‘lstm’)\n",
        "    dropout_rate=0.1, # (default: 0.1)\n",
        "    use_feat_dynamic_real=False, # (default: False)\n",
        "    use_feat_static_cat=True, # (default: False)\n",
        "    use_feat_static_real=False, # (default: False)\n",
        "    cardinality=car, # (default: None)\n",
        "    #embedding_dimension=[20], # (default: [min(50, (cat+1)//2) for cat in cardinality])\n",
        "    distr_output = StudentTOutput(), # (default: StudentTOutput())\n",
        "    scaling=True, # (default: true)\n",
        "    lags_seq=None, # (default: None, in which case these are automatically determined based on freq)\n",
        "    time_features=None, # (default: None, in which case these are automatically determined based on freq)\n",
        "    num_parallel_samples=100, # (default: 100)\n",
        ")"
      ],
      "execution_count": 0,
      "outputs": []
    },
    {
      "cell_type": "code",
      "metadata": {
        "colab_type": "code",
        "id": "XndJZabPUKLq",
        "outputId": "d03e3d90-0496-441c-fc5b-c1e60572593f",
        "colab": {
          "base_uri": "https://localhost:8080/",
          "height": 1000
        }
      },
      "source": [
        "DA_predictor = DA_estimator.train(m4_yearly_dataset.train)"
      ],
      "execution_count": 79,
      "outputs": [
        {
          "output_type": "stream",
          "text": [
            "\r  0%|          | 0/50 [00:00<?, ?it/s]"
          ],
          "name": "stderr"
        },
        {
          "output_type": "stream",
          "text": [
            "learning rate from ``lr_scheduler`` has been overwritten by ``learning_rate`` in optimizer.\n"
          ],
          "name": "stdout"
        },
        {
          "output_type": "stream",
          "text": [
            "100%|██████████| 50/50 [00:02<00:00, 24.34it/s, epoch=1/100, avg_epoch_loss=8.21]\n",
            "100%|██████████| 50/50 [00:01<00:00, 25.92it/s, epoch=2/100, avg_epoch_loss=7.82]\n",
            "100%|██████████| 50/50 [00:01<00:00, 27.21it/s, epoch=3/100, avg_epoch_loss=7.16]\n",
            "100%|██████████| 50/50 [00:01<00:00, 27.14it/s, epoch=4/100, avg_epoch_loss=6.53]\n",
            "100%|██████████| 50/50 [00:01<00:00, 26.48it/s, epoch=5/100, avg_epoch_loss=6.61]\n",
            "100%|██████████| 50/50 [00:01<00:00, 25.71it/s, epoch=6/100, avg_epoch_loss=7.1]\n",
            "100%|██████████| 50/50 [00:01<00:00, 26.85it/s, epoch=7/100, avg_epoch_loss=7.32]\n",
            "100%|██████████| 50/50 [00:01<00:00, 26.24it/s, epoch=8/100, avg_epoch_loss=7.17]\n",
            "100%|██████████| 50/50 [00:01<00:00, 27.19it/s, epoch=9/100, avg_epoch_loss=7.44]\n",
            "100%|██████████| 50/50 [00:01<00:00, 27.06it/s, epoch=10/100, avg_epoch_loss=7.28]\n",
            "100%|██████████| 50/50 [00:01<00:00, 25.54it/s, epoch=11/100, avg_epoch_loss=7.09]\n",
            "100%|██████████| 50/50 [00:01<00:00, 25.98it/s, epoch=12/100, avg_epoch_loss=6.76]\n",
            "100%|██████████| 50/50 [00:01<00:00, 25.78it/s, epoch=13/100, avg_epoch_loss=7.12]\n",
            "100%|██████████| 50/50 [00:01<00:00, 26.27it/s, epoch=14/100, avg_epoch_loss=7.08]\n",
            "100%|██████████| 50/50 [00:01<00:00, 26.70it/s, epoch=15/100, avg_epoch_loss=7.31]\n",
            "100%|██████████| 50/50 [00:01<00:00, 26.00it/s, epoch=16/100, avg_epoch_loss=7.32]\n",
            "100%|██████████| 50/50 [00:01<00:00, 27.35it/s, epoch=17/100, avg_epoch_loss=6.98]\n",
            "100%|██████████| 50/50 [00:01<00:00, 27.40it/s, epoch=18/100, avg_epoch_loss=6.25]\n",
            "100%|██████████| 50/50 [00:01<00:00, 27.20it/s, epoch=19/100, avg_epoch_loss=6.26]\n",
            "100%|██████████| 50/50 [00:01<00:00, 26.15it/s, epoch=20/100, avg_epoch_loss=6.96]\n",
            "100%|██████████| 50/50 [00:01<00:00, 26.23it/s, epoch=21/100, avg_epoch_loss=7.29]\n",
            "100%|██████████| 50/50 [00:01<00:00, 26.77it/s, epoch=22/100, avg_epoch_loss=7.17]\n",
            "100%|██████████| 50/50 [00:01<00:00, 26.72it/s, epoch=23/100, avg_epoch_loss=7.48]\n",
            "100%|██████████| 50/50 [00:01<00:00, 27.41it/s, epoch=24/100, avg_epoch_loss=7.4]\n",
            "100%|██████████| 50/50 [00:01<00:00, 26.61it/s, epoch=25/100, avg_epoch_loss=7.28]\n",
            "100%|██████████| 50/50 [00:01<00:00, 26.37it/s, epoch=26/100, avg_epoch_loss=6.72]\n",
            "100%|██████████| 50/50 [00:01<00:00, 26.33it/s, epoch=27/100, avg_epoch_loss=7.08]\n",
            "100%|██████████| 50/50 [00:01<00:00, 26.32it/s, epoch=28/100, avg_epoch_loss=7.28]\n",
            "100%|██████████| 50/50 [00:01<00:00, 27.43it/s, epoch=29/100, avg_epoch_loss=7.32]\n",
            "100%|██████████| 50/50 [00:01<00:00, 25.98it/s, epoch=30/100, avg_epoch_loss=7.16]\n",
            "100%|██████████| 50/50 [00:01<00:00, 26.76it/s, epoch=31/100, avg_epoch_loss=7.34]\n",
            "100%|██████████| 50/50 [00:01<00:00, 27.20it/s, epoch=32/100, avg_epoch_loss=6.22]\n",
            "100%|██████████| 50/50 [00:01<00:00, 26.96it/s, epoch=33/100, avg_epoch_loss=6.27]\n",
            "100%|██████████| 50/50 [00:01<00:00, 25.97it/s, epoch=34/100, avg_epoch_loss=6.67]\n",
            "100%|██████████| 50/50 [00:01<00:00, 26.28it/s, epoch=35/100, avg_epoch_loss=7.25]\n",
            "100%|██████████| 50/50 [00:01<00:00, 27.07it/s, epoch=36/100, avg_epoch_loss=7.06]\n",
            "100%|██████████| 50/50 [00:01<00:00, 26.34it/s, epoch=37/100, avg_epoch_loss=7.34]\n",
            "100%|██████████| 50/50 [00:01<00:00, 28.03it/s, epoch=38/100, avg_epoch_loss=7.62]\n",
            "100%|██████████| 50/50 [00:01<00:00, 27.31it/s, epoch=39/100, avg_epoch_loss=7.27]\n",
            "100%|██████████| 50/50 [00:01<00:00, 25.40it/s, epoch=40/100, avg_epoch_loss=6.85]\n",
            "100%|██████████| 50/50 [00:01<00:00, 25.93it/s, epoch=41/100, avg_epoch_loss=7.05]\n",
            "100%|██████████| 50/50 [00:01<00:00, 25.94it/s, epoch=42/100, avg_epoch_loss=7.28]\n",
            "100%|██████████| 50/50 [00:01<00:00, 27.41it/s, epoch=43/100, avg_epoch_loss=7.21]\n",
            "100%|██████████| 50/50 [00:01<00:00, 25.70it/s, epoch=44/100, avg_epoch_loss=7]\n",
            "100%|██████████| 50/50 [00:01<00:00, 26.74it/s, epoch=45/100, avg_epoch_loss=7.24]\n",
            "100%|██████████| 50/50 [00:01<00:00, 27.45it/s, epoch=46/100, avg_epoch_loss=6.42]\n",
            "100%|██████████| 50/50 [00:01<00:00, 27.27it/s, epoch=47/100, avg_epoch_loss=6.14]\n",
            "100%|██████████| 50/50 [00:01<00:00, 26.84it/s, epoch=48/100, avg_epoch_loss=6.52]\n",
            "100%|██████████| 50/50 [00:01<00:00, 25.79it/s, epoch=49/100, avg_epoch_loss=7.1]\n",
            "100%|██████████| 50/50 [00:01<00:00, 26.69it/s, epoch=50/100, avg_epoch_loss=7.14]\n",
            "100%|██████████| 50/50 [00:01<00:00, 25.81it/s, epoch=51/100, avg_epoch_loss=7.17]\n",
            "100%|██████████| 50/50 [00:01<00:00, 28.12it/s, epoch=52/100, avg_epoch_loss=7.62]\n",
            "100%|██████████| 50/50 [00:01<00:00, 27.49it/s, epoch=53/100, avg_epoch_loss=7.26]\n",
            "100%|██████████| 50/50 [00:01<00:00, 26.16it/s, epoch=54/100, avg_epoch_loss=7.13]\n",
            "100%|██████████| 50/50 [00:01<00:00, 25.83it/s, epoch=55/100, avg_epoch_loss=6.88]\n",
            "100%|██████████| 50/50 [00:01<00:00, 26.42it/s, epoch=56/100, avg_epoch_loss=7.19]\n",
            "100%|██████████| 50/50 [00:01<00:00, 26.40it/s, epoch=57/100, avg_epoch_loss=7.27]\n",
            "100%|██████████| 50/50 [00:01<00:00, 26.01it/s, epoch=58/100, avg_epoch_loss=7.19]\n",
            "100%|██████████| 50/50 [00:01<00:00, 25.52it/s, epoch=59/100, avg_epoch_loss=7.13]\n",
            "100%|██████████| 50/50 [00:01<00:00, 26.69it/s, epoch=60/100, avg_epoch_loss=6.72]\n",
            "100%|██████████| 50/50 [00:01<00:00, 26.29it/s, epoch=61/100, avg_epoch_loss=6.07]\n",
            "100%|██████████| 50/50 [00:01<00:00, 26.66it/s, epoch=62/100, avg_epoch_loss=6.28]\n",
            "100%|██████████| 50/50 [00:01<00:00, 26.00it/s, epoch=63/100, avg_epoch_loss=7.08]\n",
            "100%|██████████| 50/50 [00:01<00:00, 26.19it/s, epoch=64/100, avg_epoch_loss=7.13]\n",
            "100%|██████████| 50/50 [00:01<00:00, 25.99it/s, epoch=65/100, avg_epoch_loss=7.2]\n",
            "100%|██████████| 50/50 [00:01<00:00, 27.07it/s, epoch=66/100, avg_epoch_loss=7.57]\n",
            "100%|██████████| 50/50 [00:01<00:00, 27.47it/s, epoch=67/100, avg_epoch_loss=7.46]\n",
            "100%|██████████| 50/50 [00:01<00:00, 26.63it/s, epoch=68/100, avg_epoch_loss=7.2]\n",
            "100%|██████████| 50/50 [00:01<00:00, 26.45it/s, epoch=69/100, avg_epoch_loss=6.78]\n",
            "100%|██████████| 50/50 [00:01<00:00, 25.72it/s, epoch=70/100, avg_epoch_loss=7.23]\n",
            "100%|██████████| 50/50 [00:01<00:00, 26.19it/s, epoch=71/100, avg_epoch_loss=7.28]\n",
            "100%|██████████| 50/50 [00:01<00:00, 26.75it/s, epoch=72/100, avg_epoch_loss=7.09]\n",
            "100%|██████████| 50/50 [00:01<00:00, 26.06it/s, epoch=73/100, avg_epoch_loss=7.05]\n",
            "100%|██████████| 50/50 [00:01<00:00, 26.89it/s, epoch=74/100, avg_epoch_loss=6.97]\n",
            "100%|██████████| 50/50 [00:01<00:00, 27.29it/s, epoch=75/100, avg_epoch_loss=6.06]\n",
            "100%|██████████| 50/50 [00:01<00:00, 27.51it/s, epoch=76/100, avg_epoch_loss=6.2]\n",
            "100%|██████████| 50/50 [00:01<00:00, 25.96it/s, epoch=77/100, avg_epoch_loss=6.7]\n",
            "100%|██████████| 50/50 [00:01<00:00, 26.12it/s, epoch=78/100, avg_epoch_loss=7.24]\n",
            "100%|██████████| 50/50 [00:01<00:00, 26.93it/s, epoch=79/100, avg_epoch_loss=7.03]\n",
            "100%|██████████| 50/50 [00:01<00:00, 26.60it/s, epoch=80/100, avg_epoch_loss=7.38]\n",
            "100%|██████████| 50/50 [00:01<00:00, 27.58it/s, epoch=81/100, avg_epoch_loss=7.55]\n",
            "100%|██████████| 50/50 [00:01<00:00, 27.01it/s, epoch=82/100, avg_epoch_loss=7.27]\n",
            "100%|██████████| 50/50 [00:01<00:00, 25.88it/s, epoch=83/100, avg_epoch_loss=6.86]\n",
            "100%|██████████| 50/50 [00:01<00:00, 25.96it/s, epoch=84/100, avg_epoch_loss=7.15]\n",
            "100%|██████████| 50/50 [00:01<00:00, 26.42it/s, epoch=85/100, avg_epoch_loss=7.34]\n"
          ],
          "name": "stderr"
        }
      ]
    },
    {
      "cell_type": "code",
      "metadata": {
        "colab_type": "code",
        "id": "wA7sOd6CUKLu",
        "outputId": "80860466-6335-4ca7-ba65-b9496c7531c3",
        "colab": {
          "base_uri": "https://localhost:8080/",
          "height": 503
        }
      },
      "source": [
        "forecast_it, ts_it = make_evaluation_predictions(\n",
        "    dataset=m4_yearly_dataset.test, \n",
        "    predictor=DA_predictor, \n",
        "    num_samples=100, \n",
        ")\n",
        "\n",
        "forecasts = list(forecast_it)\n",
        "tss = list(ts_it)\n",
        "\n",
        "evaluator = Evaluator(quantiles=[0.1, 0.5, 0.9])\n",
        "agg_metrics, item_metrics = evaluator(iter(tss), iter(forecasts), num_series=len(m4_yearly_dataset.test))\n",
        "\n",
        "print(json.dumps(agg_metrics, indent=4))"
      ],
      "execution_count": 80,
      "outputs": [
        {
          "output_type": "stream",
          "text": [
            "Running evaluation: 100%|██████████| 23000/23000 [00:00<00:00, 199283.57it/s]\n"
          ],
          "name": "stderr"
        },
        {
          "output_type": "stream",
          "text": [
            "{\n",
            "    \"MSE\": 3349190.1243125624,\n",
            "    \"abs_error\": 124059189.58959961,\n",
            "    \"abs_target_sum\": 860724679.6655273,\n",
            "    \"abs_target_mean\": 6237.135359895143,\n",
            "    \"seasonal_error\": 288.79964609563865,\n",
            "    \"MASE\": 3.7718017047444383,\n",
            "    \"MAPE\": 0.19149751770402446,\n",
            "    \"sMAPE\": 0.15143803337859618,\n",
            "    \"OWA\": NaN,\n",
            "    \"MSIS\": 62.34286478331613,\n",
            "    \"QuantileLoss[0.1]\": 69181097.4132721,\n",
            "    \"Coverage[0.1]\": 0.2872898550724656,\n",
            "    \"QuantileLoss[0.5]\": 124059189.64224243,\n",
            "    \"Coverage[0.5]\": 0.6370434782608703,\n",
            "    \"QuantileLoss[0.9]\": 88966259.81285399,\n",
            "    \"Coverage[0.9]\": 0.8265724637681161,\n",
            "    \"RMSE\": 1830.079267221112,\n",
            "    \"NRMSE\": 0.2934166346602872,\n",
            "    \"ND\": 0.14413341748003355,\n",
            "    \"wQuantileLoss[0.1]\": 0.08037540812720216,\n",
            "    \"wQuantileLoss[0.5]\": 0.1441334175411946,\n",
            "    \"wQuantileLoss[0.9]\": 0.10336204121325505,\n",
            "    \"mean_wQuantileLoss\": 0.1092902889605506,\n",
            "    \"MAE_Coverage\": 0.13258695652173993\n",
            "}\n"
          ],
          "name": "stdout"
        }
      ]
    },
    {
      "cell_type": "code",
      "metadata": {
        "colab_type": "code",
        "id": "lV8g1PegUKLy",
        "colab": {}
      },
      "source": [
        ""
      ],
      "execution_count": 0,
      "outputs": []
    },
    {
      "cell_type": "markdown",
      "metadata": {
        "colab_type": "text",
        "id": "aC9YpIM1UQbJ"
      },
      "source": [
        "## traffic"
      ]
    },
    {
      "cell_type": "code",
      "metadata": {
        "colab_type": "code",
        "id": "h2uMLoCRUQbK",
        "outputId": "c039d73a-d96f-43a9-f65f-d5c1c273ac6d",
        "colab": {
          "base_uri": "https://localhost:8080/",
          "height": 53
        }
      },
      "source": [
        "traffic_dataset = get_dataset(\"traffic\", regenerate=False)"
      ],
      "execution_count": 81,
      "outputs": [
        {
          "output_type": "stream",
          "text": [
            "saving time-series into /root/.mxnet/gluon-ts/datasets/traffic/train/data.json\n",
            "saving time-series into /root/.mxnet/gluon-ts/datasets/traffic/test/data.json\n"
          ],
          "name": "stdout"
        }
      ]
    },
    {
      "cell_type": "code",
      "metadata": {
        "colab_type": "code",
        "id": "-1JFshCqUQbM",
        "colab": {
          "base_uri": "https://localhost:8080/",
          "height": 53
        },
        "outputId": "44e7a53b-17ec-40af-bdb4-f01e2653be13"
      },
      "source": [
        "print (len(traffic_dataset.train))\n",
        "print (len(traffic_dataset.test))"
      ],
      "execution_count": 82,
      "outputs": [
        {
          "output_type": "stream",
          "text": [
            "862\n",
            "6034\n"
          ],
          "name": "stdout"
        }
      ]
    },
    {
      "cell_type": "code",
      "metadata": {
        "colab_type": "code",
        "id": "C5EDyAIYUQbP",
        "colab": {
          "base_uri": "https://localhost:8080/",
          "height": 35
        },
        "outputId": "427fcf7d-076b-4484-f210-f7ab32adb169"
      },
      "source": [
        "traffic_dataset.metadata"
      ],
      "execution_count": 83,
      "outputs": [
        {
          "output_type": "execute_result",
          "data": {
            "text/plain": [
              "MetaData(freq='H', target=None, feat_static_cat=[CategoricalFeatureInfo(name='feat_static_cat', cardinality='862')], feat_static_real=[], feat_dynamic_real=[], feat_dynamic_cat=[], prediction_length=24)"
            ]
          },
          "metadata": {
            "tags": []
          },
          "execution_count": 83
        }
      ]
    },
    {
      "cell_type": "code",
      "metadata": {
        "colab_type": "code",
        "id": "ci8ZPwSNqrim",
        "colab": {
          "base_uri": "https://localhost:8080/",
          "height": 35
        },
        "outputId": "21c3d644-5fdb-49bf-8079-6f44b60aa827"
      },
      "source": [
        "traffic_dataset.metadata.feat_static_cat[0]"
      ],
      "execution_count": 84,
      "outputs": [
        {
          "output_type": "execute_result",
          "data": {
            "text/plain": [
              "CategoricalFeatureInfo(name='feat_static_cat', cardinality='862')"
            ]
          },
          "metadata": {
            "tags": []
          },
          "execution_count": 84
        }
      ]
    },
    {
      "cell_type": "code",
      "metadata": {
        "colab_type": "code",
        "id": "PbmxkMIrqriq",
        "colab": {}
      },
      "source": [
        "car = [int(traffic_dataset.metadata.feat_static_cat[0].cardinality)]"
      ],
      "execution_count": 0,
      "outputs": []
    },
    {
      "cell_type": "code",
      "metadata": {
        "colab_type": "code",
        "id": "DJC6OPsyUQbT",
        "colab": {
          "base_uri": "https://localhost:8080/",
          "height": 35
        },
        "outputId": "a17fa2f6-26f8-4f2a-8efc-2b2611c57134"
      },
      "source": [
        "next(iter(traffic_dataset.train)).keys()"
      ],
      "execution_count": 86,
      "outputs": [
        {
          "output_type": "execute_result",
          "data": {
            "text/plain": [
              "dict_keys(['start', 'target', 'feat_static_cat', 'item_id', 'source'])"
            ]
          },
          "metadata": {
            "tags": []
          },
          "execution_count": 86
        }
      ]
    },
    {
      "cell_type": "code",
      "metadata": {
        "colab_type": "code",
        "id": "B4zoldaEUQbe",
        "colab": {}
      },
      "source": [
        "# https://gluon-ts.mxnet.io/api/gluonts/gluonts.model.deepar.html\n",
        "DA_estimator = DeepAREstimator(\n",
        "    freq=traffic_dataset.metadata.freq, \n",
        "    prediction_length=traffic_dataset.metadata.prediction_length,\n",
        "    trainer = deepar_trainer, # (default: Trainer())\n",
        "    context_length=None, # (default: None, in which case context_length = prediction_length)\n",
        "    num_layers=2, # (default: 2)\n",
        "    num_cells=40, # (default: 40)\n",
        "    cell_type='lstm', # (default: ‘lstm’)\n",
        "    dropout_rate=0.1, # (default: 0.1)\n",
        "    use_feat_dynamic_real=False, # (default: False)\n",
        "    use_feat_static_cat=True, # (default: False)\n",
        "    use_feat_static_real=False, # (default: False)\n",
        "    cardinality=car, # (default: None)\n",
        "    #embedding_dimension=[20], # (default: [min(50, (cat+1)//2) for cat in cardinality])\n",
        "    distr_output = StudentTOutput(), # (default: StudentTOutput())\n",
        "    scaling=True, # (default: true)\n",
        "    lags_seq=None, # (default: None, in which case these are automatically determined based on freq)\n",
        "    time_features=None, # (default: None, in which case these are automatically determined based on freq)\n",
        "    num_parallel_samples=100, # (default: 100)\n",
        ")"
      ],
      "execution_count": 0,
      "outputs": []
    },
    {
      "cell_type": "code",
      "metadata": {
        "colab_type": "code",
        "id": "SJ-eJ1uYUQbh",
        "colab": {
          "base_uri": "https://localhost:8080/",
          "height": 1000
        },
        "outputId": "d09a18af-f714-4d3f-c4c3-f88ee5fd2f51"
      },
      "source": [
        "DA_predictor = DA_estimator.train(traffic_dataset.train)"
      ],
      "execution_count": 88,
      "outputs": [
        {
          "output_type": "stream",
          "text": [
            "\r  0%|          | 0/50 [00:00<?, ?it/s]"
          ],
          "name": "stderr"
        },
        {
          "output_type": "stream",
          "text": [
            "learning rate from ``lr_scheduler`` has been overwritten by ``learning_rate`` in optimizer.\n"
          ],
          "name": "stdout"
        },
        {
          "output_type": "stream",
          "text": [
            "100%|██████████| 50/50 [00:11<00:00,  4.34it/s, epoch=1/100, avg_epoch_loss=-2.53]\n",
            "100%|██████████| 50/50 [00:11<00:00,  4.52it/s, epoch=2/100, avg_epoch_loss=-3.17]\n",
            "100%|██████████| 50/50 [00:11<00:00,  4.43it/s, epoch=3/100, avg_epoch_loss=-3.32]\n",
            "100%|██████████| 50/50 [00:11<00:00,  4.51it/s, epoch=4/100, avg_epoch_loss=-3.39]\n",
            "100%|██████████| 50/50 [00:11<00:00,  4.43it/s, epoch=5/100, avg_epoch_loss=-3.52]\n",
            "100%|██████████| 50/50 [00:11<00:00,  4.43it/s, epoch=6/100, avg_epoch_loss=-3.49]\n",
            "100%|██████████| 50/50 [00:11<00:00,  4.52it/s, epoch=7/100, avg_epoch_loss=-3.56]\n",
            "100%|██████████| 50/50 [00:11<00:00,  4.47it/s, epoch=8/100, avg_epoch_loss=-3.48]\n",
            "100%|██████████| 50/50 [00:11<00:00,  4.54it/s, epoch=9/100, avg_epoch_loss=-3.67]\n",
            "100%|██████████| 50/50 [00:11<00:00,  4.40it/s, epoch=10/100, avg_epoch_loss=-3.67]\n",
            "100%|██████████| 50/50 [00:11<00:00,  4.42it/s, epoch=11/100, avg_epoch_loss=-3.57]\n",
            "100%|██████████| 50/50 [00:11<00:00,  4.47it/s, epoch=12/100, avg_epoch_loss=-3.63]\n",
            "100%|██████████| 50/50 [00:11<00:00,  4.45it/s, epoch=13/100, avg_epoch_loss=-3.7]\n",
            "100%|██████████| 50/50 [00:10<00:00,  4.55it/s, epoch=14/100, avg_epoch_loss=-3.73]\n",
            "100%|██████████| 50/50 [00:10<00:00,  4.56it/s, epoch=15/100, avg_epoch_loss=-3.65]\n",
            "100%|██████████| 50/50 [00:11<00:00,  4.54it/s, epoch=16/100, avg_epoch_loss=-3.7] \n",
            "100%|██████████| 50/50 [00:10<00:00,  4.57it/s, epoch=17/100, avg_epoch_loss=-3.72]\n",
            "100%|██████████| 50/50 [00:10<00:00,  4.58it/s, epoch=18/100, avg_epoch_loss=-3.72]\n",
            "100%|██████████| 50/50 [00:11<00:00,  4.41it/s, epoch=19/100, avg_epoch_loss=-3.8]\n",
            "100%|██████████| 50/50 [00:13<00:00,  3.80it/s, epoch=20/100, avg_epoch_loss=-3.72]\n",
            "100%|██████████| 50/50 [00:11<00:00,  4.54it/s, epoch=21/100, avg_epoch_loss=-3.83]\n",
            "100%|██████████| 50/50 [00:11<00:00,  4.53it/s, epoch=22/100, avg_epoch_loss=-3.71]\n",
            "100%|██████████| 50/50 [00:11<00:00,  4.50it/s, epoch=23/100, avg_epoch_loss=-3.8]\n",
            "100%|██████████| 50/50 [00:11<00:00,  4.46it/s, epoch=24/100, avg_epoch_loss=-3.79]\n",
            "100%|██████████| 50/50 [00:11<00:00,  4.39it/s, epoch=25/100, avg_epoch_loss=-3.81]\n",
            "100%|██████████| 50/50 [00:11<00:00,  4.29it/s, epoch=26/100, avg_epoch_loss=-3.81]\n",
            "100%|██████████| 50/50 [00:11<00:00,  4.41it/s, epoch=27/100, avg_epoch_loss=-3.86]\n",
            "100%|██████████| 50/50 [00:10<00:00,  4.59it/s, epoch=28/100, avg_epoch_loss=-3.82]\n",
            "100%|██████████| 50/50 [00:10<00:00,  4.63it/s, epoch=29/100, avg_epoch_loss=-3.78]\n",
            "100%|██████████| 50/50 [00:11<00:00,  4.52it/s, epoch=30/100, avg_epoch_loss=-3.88]\n",
            "100%|██████████| 50/50 [00:11<00:00,  4.54it/s, epoch=31/100, avg_epoch_loss=-3.81]\n",
            "100%|██████████| 50/50 [00:11<00:00,  4.37it/s, epoch=32/100, avg_epoch_loss=-3.89]\n",
            "100%|██████████| 50/50 [00:11<00:00,  4.46it/s, epoch=33/100, avg_epoch_loss=-3.85]\n",
            "100%|██████████| 50/50 [00:10<00:00,  4.57it/s, epoch=34/100, avg_epoch_loss=-3.89]\n",
            "100%|██████████| 50/50 [00:11<00:00,  4.50it/s, epoch=35/100, avg_epoch_loss=-3.9] \n",
            "100%|██████████| 50/50 [00:11<00:00,  4.38it/s, epoch=36/100, avg_epoch_loss=-3.89]\n",
            "100%|██████████| 50/50 [00:11<00:00,  4.47it/s, epoch=37/100, avg_epoch_loss=-3.9] \n",
            "100%|██████████| 50/50 [00:11<00:00,  4.51it/s, epoch=38/100, avg_epoch_loss=-3.93]\n",
            "100%|██████████| 50/50 [00:11<00:00,  4.54it/s, epoch=39/100, avg_epoch_loss=-3.87]\n",
            "100%|██████████| 50/50 [00:11<00:00,  4.54it/s, epoch=40/100, avg_epoch_loss=-3.87]\n",
            "100%|██████████| 50/50 [00:10<00:00,  4.60it/s, epoch=41/100, avg_epoch_loss=-3.83]\n",
            "100%|██████████| 50/50 [00:10<00:00,  4.55it/s, epoch=42/100, avg_epoch_loss=-3.86]\n",
            "100%|██████████| 50/50 [00:11<00:00,  4.51it/s, epoch=43/100, avg_epoch_loss=-3.93]\n",
            "100%|██████████| 50/50 [00:10<00:00,  4.59it/s, epoch=44/100, avg_epoch_loss=-3.96]\n",
            "100%|██████████| 50/50 [00:11<00:00,  4.49it/s, epoch=45/100, avg_epoch_loss=-3.95]\n",
            "100%|██████████| 50/50 [00:11<00:00,  4.50it/s, epoch=46/100, avg_epoch_loss=-3.92]\n",
            "100%|██████████| 50/50 [00:11<00:00,  4.42it/s, epoch=47/100, avg_epoch_loss=-3.82]\n",
            "100%|██████████| 50/50 [00:11<00:00,  4.43it/s, epoch=48/100, avg_epoch_loss=-3.9] \n",
            "100%|██████████| 50/50 [00:11<00:00,  4.39it/s, epoch=49/100, avg_epoch_loss=-3.91]\n",
            "100%|██████████| 50/50 [00:11<00:00,  4.52it/s, epoch=50/100, avg_epoch_loss=-3.87]\n",
            "100%|██████████| 50/50 [00:10<00:00,  4.62it/s, epoch=51/100, avg_epoch_loss=-3.95]\n",
            "100%|██████████| 50/50 [00:11<00:00,  4.39it/s, epoch=52/100, avg_epoch_loss=-3.95]\n",
            "100%|██████████| 50/50 [00:10<00:00,  4.65it/s, epoch=53/100, avg_epoch_loss=-3.9]\n",
            "100%|██████████| 50/50 [00:10<00:00,  4.66it/s, epoch=54/100, avg_epoch_loss=-3.92]\n",
            "100%|██████████| 50/50 [00:11<00:00,  4.50it/s, epoch=55/100, avg_epoch_loss=-3.96]\n",
            "100%|██████████| 50/50 [00:11<00:00,  4.48it/s, epoch=56/100, avg_epoch_loss=-3.94]\n",
            "100%|██████████| 50/50 [00:11<00:00,  4.32it/s, epoch=57/100, avg_epoch_loss=-3.97]\n",
            "100%|██████████| 50/50 [00:11<00:00,  4.54it/s, epoch=58/100, avg_epoch_loss=-3.99]\n",
            "100%|██████████| 50/50 [00:10<00:00,  4.63it/s, epoch=59/100, avg_epoch_loss=-3.93]\n",
            "100%|██████████| 50/50 [00:11<00:00,  4.50it/s, epoch=60/100, avg_epoch_loss=-3.94]\n",
            "100%|██████████| 50/50 [00:11<00:00,  4.40it/s, epoch=61/100, avg_epoch_loss=-3.95]\n",
            "100%|██████████| 50/50 [00:11<00:00,  4.39it/s, epoch=62/100, avg_epoch_loss=-3.95]\n",
            "100%|██████████| 50/50 [00:11<00:00,  4.52it/s, epoch=63/100, avg_epoch_loss=-3.98]\n",
            "100%|██████████| 50/50 [00:11<00:00,  4.41it/s, epoch=64/100, avg_epoch_loss=-3.98]\n",
            "100%|██████████| 50/50 [00:10<00:00,  4.55it/s, epoch=65/100, avg_epoch_loss=-3.96]\n",
            "100%|██████████| 50/50 [00:11<00:00,  4.46it/s, epoch=66/100, avg_epoch_loss=-3.98]\n",
            "100%|██████████| 50/50 [00:10<00:00,  4.55it/s, epoch=67/100, avg_epoch_loss=-3.95]\n",
            "100%|██████████| 50/50 [00:11<00:00,  4.50it/s, epoch=68/100, avg_epoch_loss=-3.91]\n",
            "100%|██████████| 50/50 [00:11<00:00,  4.39it/s, epoch=69/100, avg_epoch_loss=-3.97]\n",
            "100%|██████████| 50/50 [00:11<00:00,  4.50it/s, epoch=70/100, avg_epoch_loss=-3.97]\n",
            "100%|██████████| 50/50 [00:11<00:00,  4.39it/s, epoch=71/100, avg_epoch_loss=-3.97]\n",
            "100%|██████████| 50/50 [00:11<00:00,  4.53it/s, epoch=72/100, avg_epoch_loss=-3.99]\n",
            "100%|██████████| 50/50 [00:11<00:00,  4.43it/s, epoch=73/100, avg_epoch_loss=-3.95]\n",
            "100%|██████████| 50/50 [00:12<00:00,  4.04it/s, epoch=74/100, avg_epoch_loss=-3.95]\n",
            "100%|██████████| 50/50 [00:11<00:00,  4.49it/s, epoch=75/100, avg_epoch_loss=-3.97]\n",
            "100%|██████████| 50/50 [00:11<00:00,  4.48it/s, epoch=76/100, avg_epoch_loss=-3.95]\n",
            "100%|██████████| 50/50 [00:11<00:00,  4.48it/s, epoch=77/100, avg_epoch_loss=-3.98]\n",
            "100%|██████████| 50/50 [00:11<00:00,  4.42it/s, epoch=78/100, avg_epoch_loss=-4]\n",
            "100%|██████████| 50/50 [00:10<00:00,  4.57it/s, epoch=79/100, avg_epoch_loss=-3.97]\n",
            "100%|██████████| 50/50 [00:11<00:00,  4.48it/s, epoch=80/100, avg_epoch_loss=-3.97]\n",
            "100%|██████████| 50/50 [00:11<00:00,  4.37it/s, epoch=81/100, avg_epoch_loss=-4]   \n",
            "100%|██████████| 50/50 [00:11<00:00,  4.46it/s, epoch=82/100, avg_epoch_loss=-3.94]\n",
            "100%|██████████| 50/50 [00:11<00:00,  4.39it/s, epoch=83/100, avg_epoch_loss=-3.96]\n",
            "100%|██████████| 50/50 [00:11<00:00,  4.48it/s, epoch=84/100, avg_epoch_loss=-4]   \n",
            "100%|██████████| 50/50 [00:11<00:00,  4.43it/s, epoch=85/100, avg_epoch_loss=-3.95]\n",
            "100%|██████████| 50/50 [00:11<00:00,  4.41it/s, epoch=86/100, avg_epoch_loss=-4.01]\n",
            "100%|██████████| 50/50 [00:11<00:00,  4.36it/s, epoch=87/100, avg_epoch_loss=-3.99]\n",
            "100%|██████████| 50/50 [00:11<00:00,  4.45it/s, epoch=88/100, avg_epoch_loss=-4.02]\n",
            "100%|██████████| 50/50 [00:11<00:00,  4.53it/s, epoch=89/100, avg_epoch_loss=-3.98]\n",
            "100%|██████████| 50/50 [00:11<00:00,  4.51it/s, epoch=90/100, avg_epoch_loss=-4.02]\n",
            "100%|██████████| 50/50 [00:11<00:00,  4.45it/s, epoch=91/100, avg_epoch_loss=-4]\n",
            "100%|██████████| 50/50 [00:11<00:00,  4.42it/s, epoch=92/100, avg_epoch_loss=-4.02]\n",
            "100%|██████████| 50/50 [00:11<00:00,  4.44it/s, epoch=93/100, avg_epoch_loss=-3.95]\n",
            "100%|██████████| 50/50 [00:11<00:00,  4.54it/s, epoch=94/100, avg_epoch_loss=-4.01]\n",
            "100%|██████████| 50/50 [00:10<00:00,  4.59it/s, epoch=95/100, avg_epoch_loss=-4]   \n",
            "100%|██████████| 50/50 [00:10<00:00,  4.56it/s, epoch=96/100, avg_epoch_loss=-3.99]\n",
            "100%|██████████| 50/50 [00:11<00:00,  4.45it/s, epoch=97/100, avg_epoch_loss=-3.98]\n",
            "100%|██████████| 50/50 [00:10<00:00,  4.57it/s, epoch=98/100, avg_epoch_loss=-3.97]\n",
            "100%|██████████| 50/50 [00:10<00:00,  4.57it/s, epoch=99/100, avg_epoch_loss=-4.02]\n",
            "100%|██████████| 50/50 [00:10<00:00,  4.55it/s, epoch=100/100, avg_epoch_loss=-3.99]\n"
          ],
          "name": "stderr"
        }
      ]
    },
    {
      "cell_type": "code",
      "metadata": {
        "colab_type": "code",
        "id": "2uR2JppRUQbk",
        "colab": {
          "base_uri": "https://localhost:8080/",
          "height": 503
        },
        "outputId": "72f274fd-ede5-47c0-ac46-f1c8f71dcc50"
      },
      "source": [
        "forecast_it, ts_it = make_evaluation_predictions(\n",
        "    dataset=traffic_dataset.test, \n",
        "    predictor=DA_predictor, \n",
        "    num_samples=100, \n",
        ")\n",
        "\n",
        "forecasts = list(forecast_it)\n",
        "tss = list(ts_it)\n",
        "\n",
        "evaluator = Evaluator(quantiles=[0.1, 0.5, 0.9])\n",
        "agg_metrics, item_metrics = evaluator(iter(tss), iter(forecasts), num_series=len(traffic_dataset.test))\n",
        "\n",
        "print(json.dumps(agg_metrics, indent=4))"
      ],
      "execution_count": 89,
      "outputs": [
        {
          "output_type": "stream",
          "text": [
            "Running evaluation: 100%|██████████| 6034/6034 [00:00<00:00, 70009.88it/s]\n"
          ],
          "name": "stderr"
        },
        {
          "output_type": "stream",
          "text": [
            "{\n",
            "    \"MSE\": 0.0005942145662065895,\n",
            "    \"abs_error\": 1335.8736866991967,\n",
            "    \"abs_target_sum\": 8672.5710073933,\n",
            "    \"abs_target_mean\": 0.05988682885450042,\n",
            "    \"seasonal_error\": 0.015220711169889612,\n",
            "    \"MASE\": 0.5958012602042452,\n",
            "    \"MAPE\": 0.25716588057006,\n",
            "    \"sMAPE\": 0.17007426683993804,\n",
            "    \"OWA\": NaN,\n",
            "    \"MSIS\": 8.578666672181198,\n",
            "    \"QuantileLoss[0.1]\": 613.152266332694,\n",
            "    \"Coverage[0.1]\": 0.1505772842779802,\n",
            "    \"QuantileLoss[0.5]\": 1335.8736864569846,\n",
            "    \"Coverage[0.5]\": 0.6049400618716166,\n",
            "    \"QuantileLoss[0.9]\": 909.8370082599401,\n",
            "    \"Coverage[0.9]\": 0.9201400397746076,\n",
            "    \"RMSE\": 0.02437651669551229,\n",
            "    \"NRMSE\": 0.4070430370380252,\n",
            "    \"ND\": 0.15403433255955756,\n",
            "    \"wQuantileLoss[0.1]\": 0.07070017251054922,\n",
            "    \"wQuantileLoss[0.5]\": 0.15403433253162904,\n",
            "    \"wQuantileLoss[0.9]\": 0.10490972140606414,\n",
            "    \"mean_wQuantileLoss\": 0.10988140881608081,\n",
            "    \"MAE_Coverage\": 0.05855246197473479\n",
            "}\n"
          ],
          "name": "stdout"
        }
      ]
    },
    {
      "cell_type": "code",
      "metadata": {
        "colab_type": "code",
        "id": "ex5nwlX0UQbm",
        "colab": {}
      },
      "source": [
        ""
      ],
      "execution_count": 0,
      "outputs": []
    },
    {
      "cell_type": "markdown",
      "metadata": {
        "colab_type": "text",
        "id": "CH6VUhAEuxCA"
      },
      "source": [
        "## electricity2"
      ]
    },
    {
      "cell_type": "code",
      "metadata": {
        "colab_type": "code",
        "id": "t93n5VwXuxCE",
        "colab": {}
      },
      "source": [
        "elec_dataset = get_dataset(\"electricity\", regenerate=False)"
      ],
      "execution_count": 0,
      "outputs": []
    },
    {
      "cell_type": "code",
      "metadata": {
        "colab_type": "code",
        "id": "SUbU7z11uxCL",
        "colab": {
          "base_uri": "https://localhost:8080/",
          "height": 53
        },
        "outputId": "c4ee35ae-1491-4a6c-bf9a-84a3fe619d49"
      },
      "source": [
        "print (len(elec_dataset.train))\n",
        "print (len(elec_dataset.test))"
      ],
      "execution_count": 91,
      "outputs": [
        {
          "output_type": "stream",
          "text": [
            "321\n",
            "2247\n"
          ],
          "name": "stdout"
        }
      ]
    },
    {
      "cell_type": "code",
      "metadata": {
        "colab_type": "code",
        "id": "642O_loAuxCV",
        "colab": {
          "base_uri": "https://localhost:8080/",
          "height": 35
        },
        "outputId": "39a33714-0588-474f-c6b2-2348cb822073"
      },
      "source": [
        "elec_dataset.metadata"
      ],
      "execution_count": 92,
      "outputs": [
        {
          "output_type": "execute_result",
          "data": {
            "text/plain": [
              "MetaData(freq='1H', target=None, feat_static_cat=[CategoricalFeatureInfo(name='feat_static_cat', cardinality='321')], feat_static_real=[], feat_dynamic_real=[], feat_dynamic_cat=[], prediction_length=24)"
            ]
          },
          "metadata": {
            "tags": []
          },
          "execution_count": 92
        }
      ]
    },
    {
      "cell_type": "code",
      "metadata": {
        "colab_type": "code",
        "id": "FMo4KfffuxCY",
        "colab": {
          "base_uri": "https://localhost:8080/",
          "height": 35
        },
        "outputId": "7ee5b25a-3454-4802-d104-790ef863c73d"
      },
      "source": [
        "elec_dataset.metadata.feat_static_cat[0]"
      ],
      "execution_count": 93,
      "outputs": [
        {
          "output_type": "execute_result",
          "data": {
            "text/plain": [
              "CategoricalFeatureInfo(name='feat_static_cat', cardinality='321')"
            ]
          },
          "metadata": {
            "tags": []
          },
          "execution_count": 93
        }
      ]
    },
    {
      "cell_type": "code",
      "metadata": {
        "colab_type": "code",
        "id": "fariSYCquxCc",
        "colab": {}
      },
      "source": [
        "car = [int(elec_dataset.metadata.feat_static_cat[0].cardinality)]"
      ],
      "execution_count": 0,
      "outputs": []
    },
    {
      "cell_type": "code",
      "metadata": {
        "colab_type": "code",
        "id": "edFWT2mMuxCg",
        "colab": {
          "base_uri": "https://localhost:8080/",
          "height": 35
        },
        "outputId": "da710410-71e7-4c2b-8a2f-a2d244e55534"
      },
      "source": [
        "next(iter(elec_dataset.train)).keys()"
      ],
      "execution_count": 95,
      "outputs": [
        {
          "output_type": "execute_result",
          "data": {
            "text/plain": [
              "dict_keys(['start', 'target', 'feat_static_cat', 'item_id', 'source'])"
            ]
          },
          "metadata": {
            "tags": []
          },
          "execution_count": 95
        }
      ]
    },
    {
      "cell_type": "code",
      "metadata": {
        "colab_type": "code",
        "id": "O_3Z_58zuxCk",
        "colab": {}
      },
      "source": [
        "test_ds_24 = ListDataset([{FieldName.START: entry['start'],\n",
        "                        FieldName.TARGET: entry['target'],\n",
        "                        FieldName.FEAT_STATIC_CAT: entry['feat_static_cat'],\n",
        "                        FieldName.ITEM_ID: entry['item_id'],\n",
        "                        }\n",
        "                       for entry in iter(elec_dataset.test) if len(entry['target']) == 21068\n",
        "                       ],\n",
        "                     freq=elec_dataset.metadata.freq)"
      ],
      "execution_count": 0,
      "outputs": []
    },
    {
      "cell_type": "code",
      "metadata": {
        "colab_type": "code",
        "id": "ls-0AiDuuxCq",
        "colab": {}
      },
      "source": [
        "# https://gluon-ts.mxnet.io/api/gluonts/gluonts.trainer.html\n",
        "deepar_trainer=Trainer(\n",
        "    ctx = 'cpu',\n",
        "    epochs=100, # (default: 100).\n",
        "    batch_size=32,# (default: 32).\n",
        "    num_batches_per_epoch=50, # (default: 50).\n",
        "    learning_rate=0.001, # (default:  10^−3 ).\n",
        "    learning_rate_decay_factor=0.5, # (default: 0.5).\n",
        "    patience = 10, # (default: 10).\n",
        "    minimum_learning_rate=5e-05, # (default:  5⋅10^−5 ).\n",
        "    clip_gradient = 10.0, # (default: 10).\n",
        "    weight_decay=1e-08, #  (default  10^−8 ).\n",
        "    init='xavier', #  (default: “xavier”).\n",
        "    hybridize=True, \n",
        "    )"
      ],
      "execution_count": 0,
      "outputs": []
    },
    {
      "cell_type": "code",
      "metadata": {
        "colab_type": "code",
        "id": "XFpzcZw9uxCx",
        "colab": {}
      },
      "source": [
        "# https://gluon-ts.mxnet.io/api/gluonts/gluonts.model.deepar.html\n",
        "DA_estimator = DeepAREstimator(\n",
        "    freq=elec_dataset.metadata.freq, \n",
        "    prediction_length=elec_dataset.metadata.prediction_length,\n",
        "    trainer = deepar_trainer, # (default: Trainer())\n",
        "    context_length=None, # (default: None, in which case context_length = prediction_length)\n",
        "    num_layers=2, # (default: 2)\n",
        "    num_cells=40, # (default: 40)\n",
        "    cell_type='lstm', # (default: ‘lstm’)\n",
        "    dropout_rate=0.1, # (default: 0.1)\n",
        "    use_feat_dynamic_real=False, # (default: False)\n",
        "    use_feat_static_cat=True, # (default: False)\n",
        "    use_feat_static_real=False, # (default: False)\n",
        "    cardinality=car, # (default: None)\n",
        "    #embedding_dimension=[20], # (default: [min(50, (cat+1)//2) for cat in cardinality])\n",
        "    distr_output = StudentTOutput(), # (default: StudentTOutput())\n",
        "    scaling=True, # (default: true)\n",
        "    lags_seq=None, # (default: None, in which case these are automatically determined based on freq)\n",
        "    time_features=None, # (default: None, in which case these are automatically determined based on freq)\n",
        "    num_parallel_samples=100, # (default: 100)\n",
        ")"
      ],
      "execution_count": 0,
      "outputs": []
    },
    {
      "cell_type": "code",
      "metadata": {
        "colab_type": "code",
        "id": "FFh2-ax_uxCz",
        "colab": {
          "base_uri": "https://localhost:8080/",
          "height": 1000
        },
        "outputId": "7f06c11e-c5c2-4adf-f2a9-da7b482ad4f7"
      },
      "source": [
        "DA_predictor = DA_estimator.train(elec_dataset.train)"
      ],
      "execution_count": 99,
      "outputs": [
        {
          "output_type": "stream",
          "text": [
            "\r  0%|          | 0/50 [00:00<?, ?it/s]"
          ],
          "name": "stderr"
        },
        {
          "output_type": "stream",
          "text": [
            "learning rate from ``lr_scheduler`` has been overwritten by ``learning_rate`` in optimizer.\n"
          ],
          "name": "stdout"
        },
        {
          "output_type": "stream",
          "text": [
            "100%|██████████| 50/50 [00:14<00:00,  3.36it/s, epoch=1/100, avg_epoch_loss=6.99]\n",
            "100%|██████████| 50/50 [00:15<00:00,  3.32it/s, epoch=2/100, avg_epoch_loss=6.01]\n",
            "100%|██████████| 50/50 [00:14<00:00,  3.43it/s, epoch=3/100, avg_epoch_loss=5.73]\n",
            "100%|██████████| 50/50 [00:15<00:00,  3.33it/s, epoch=4/100, avg_epoch_loss=5.67]\n",
            "100%|██████████| 50/50 [00:14<00:00,  3.42it/s, epoch=5/100, avg_epoch_loss=5.65]\n",
            "100%|██████████| 50/50 [00:14<00:00,  3.48it/s, epoch=6/100, avg_epoch_loss=5.59]\n",
            "100%|██████████| 50/50 [00:14<00:00,  3.51it/s, epoch=7/100, avg_epoch_loss=5.83]\n",
            "100%|██████████| 50/50 [00:14<00:00,  3.42it/s, epoch=8/100, avg_epoch_loss=5.77]\n",
            "100%|██████████| 50/50 [00:14<00:00,  3.40it/s, epoch=9/100, avg_epoch_loss=5.87]\n",
            "100%|██████████| 50/50 [00:14<00:00,  3.47it/s, epoch=10/100, avg_epoch_loss=5.7]\n",
            "100%|██████████| 50/50 [00:14<00:00,  3.45it/s, epoch=11/100, avg_epoch_loss=5.43]\n",
            "100%|██████████| 50/50 [00:14<00:00,  3.42it/s, epoch=12/100, avg_epoch_loss=5.75]\n",
            "100%|██████████| 50/50 [00:14<00:00,  3.36it/s, epoch=13/100, avg_epoch_loss=5.65]\n",
            "100%|██████████| 50/50 [00:14<00:00,  3.43it/s, epoch=14/100, avg_epoch_loss=5.4] \n",
            "100%|██████████| 50/50 [00:14<00:00,  3.37it/s, epoch=15/100, avg_epoch_loss=5.73]\n",
            "100%|██████████| 50/50 [00:14<00:00,  3.44it/s, epoch=16/100, avg_epoch_loss=5.65]\n",
            "100%|██████████| 50/50 [00:14<00:00,  3.46it/s, epoch=17/100, avg_epoch_loss=5.61]\n",
            "100%|██████████| 50/50 [00:14<00:00,  3.40it/s, epoch=18/100, avg_epoch_loss=5.65]\n",
            "100%|██████████| 50/50 [00:14<00:00,  3.34it/s, epoch=19/100, avg_epoch_loss=5.32]\n",
            "100%|██████████| 50/50 [00:15<00:00,  3.24it/s, epoch=20/100, avg_epoch_loss=5.39]\n",
            "100%|██████████| 50/50 [00:14<00:00,  3.43it/s, epoch=21/100, avg_epoch_loss=5.7] \n",
            "100%|██████████| 50/50 [00:14<00:00,  3.54it/s, epoch=22/100, avg_epoch_loss=5.51]\n",
            "100%|██████████| 50/50 [00:14<00:00,  3.45it/s, epoch=23/100, avg_epoch_loss=5.7] \n",
            "100%|██████████| 50/50 [00:14<00:00,  3.44it/s, epoch=24/100, avg_epoch_loss=5.36]\n",
            "100%|██████████| 50/50 [00:14<00:00,  3.51it/s, epoch=25/100, avg_epoch_loss=5.76]\n",
            "100%|██████████| 50/50 [00:14<00:00,  3.46it/s, epoch=26/100, avg_epoch_loss=5.8] \n",
            "100%|██████████| 50/50 [00:15<00:00,  3.30it/s, epoch=27/100, avg_epoch_loss=5.49]\n",
            "100%|██████████| 50/50 [00:14<00:00,  3.42it/s, epoch=28/100, avg_epoch_loss=5.4] \n",
            "100%|██████████| 50/50 [00:14<00:00,  3.53it/s, epoch=29/100, avg_epoch_loss=5.62]\n",
            "100%|██████████| 50/50 [00:16<00:00,  3.03it/s, epoch=30/100, avg_epoch_loss=5.33]\n",
            "100%|██████████| 50/50 [00:14<00:00,  3.43it/s, epoch=31/100, avg_epoch_loss=5.43]\n",
            "100%|██████████| 50/50 [00:14<00:00,  3.47it/s, epoch=32/100, avg_epoch_loss=5.33]\n",
            "100%|██████████| 50/50 [00:14<00:00,  3.40it/s, epoch=33/100, avg_epoch_loss=5.33]\n",
            "100%|██████████| 50/50 [00:15<00:00,  3.25it/s, epoch=34/100, avg_epoch_loss=5.38]\n",
            "100%|██████████| 50/50 [00:15<00:00,  3.30it/s, epoch=35/100, avg_epoch_loss=5.27]\n",
            "100%|██████████| 50/50 [00:14<00:00,  3.48it/s, epoch=36/100, avg_epoch_loss=5.37]\n",
            "100%|██████████| 50/50 [00:14<00:00,  3.49it/s, epoch=37/100, avg_epoch_loss=5.43]\n",
            "100%|██████████| 50/50 [00:14<00:00,  3.44it/s, epoch=38/100, avg_epoch_loss=5.33]\n",
            "100%|██████████| 50/50 [00:14<00:00,  3.40it/s, epoch=39/100, avg_epoch_loss=5.39]\n",
            "100%|██████████| 50/50 [00:14<00:00,  3.49it/s, epoch=40/100, avg_epoch_loss=5.44]\n",
            "100%|██████████| 50/50 [00:14<00:00,  3.38it/s, epoch=41/100, avg_epoch_loss=5.3] \n",
            "100%|██████████| 50/50 [00:14<00:00,  3.39it/s, epoch=42/100, avg_epoch_loss=5.29]\n",
            "100%|██████████| 50/50 [00:14<00:00,  3.44it/s, epoch=43/100, avg_epoch_loss=5.33]\n",
            "100%|██████████| 50/50 [00:14<00:00,  3.49it/s, epoch=44/100, avg_epoch_loss=5.36]\n",
            "100%|██████████| 50/50 [00:14<00:00,  3.43it/s, epoch=45/100, avg_epoch_loss=5.29]\n",
            "100%|██████████| 50/50 [00:14<00:00,  3.52it/s, epoch=46/100, avg_epoch_loss=5.29]\n",
            "100%|██████████| 50/50 [00:14<00:00,  3.48it/s, epoch=47/100, avg_epoch_loss=5.34]\n",
            "100%|██████████| 50/50 [00:14<00:00,  3.52it/s, epoch=48/100, avg_epoch_loss=5.26]\n",
            "100%|██████████| 50/50 [00:14<00:00,  3.36it/s, epoch=49/100, avg_epoch_loss=5.2]\n",
            "100%|██████████| 50/50 [00:14<00:00,  3.49it/s, epoch=50/100, avg_epoch_loss=5.24]\n",
            "100%|██████████| 50/50 [00:14<00:00,  3.43it/s, epoch=51/100, avg_epoch_loss=5.25]\n",
            "100%|██████████| 50/50 [00:14<00:00,  3.42it/s, epoch=52/100, avg_epoch_loss=5.29]\n",
            "100%|██████████| 50/50 [00:14<00:00,  3.41it/s, epoch=53/100, avg_epoch_loss=5.25]\n",
            "100%|██████████| 50/50 [00:15<00:00,  3.33it/s, epoch=54/100, avg_epoch_loss=5.28]\n",
            "100%|██████████| 50/50 [00:14<00:00,  3.50it/s, epoch=55/100, avg_epoch_loss=5.21]\n",
            "100%|██████████| 50/50 [00:14<00:00,  3.46it/s, epoch=56/100, avg_epoch_loss=5.21]\n",
            "100%|██████████| 50/50 [00:14<00:00,  3.38it/s, epoch=57/100, avg_epoch_loss=5.29]\n",
            "100%|██████████| 50/50 [00:14<00:00,  3.45it/s, epoch=58/100, avg_epoch_loss=5.2] \n",
            "100%|██████████| 50/50 [00:14<00:00,  3.43it/s, epoch=59/100, avg_epoch_loss=5.26]\n",
            "100%|██████████| 50/50 [00:14<00:00,  3.47it/s, epoch=60/100, avg_epoch_loss=5.24]\n",
            "100%|██████████| 50/50 [00:14<00:00,  3.38it/s, epoch=61/100, avg_epoch_loss=5.27]\n",
            "100%|██████████| 50/50 [00:14<00:00,  3.35it/s, epoch=62/100, avg_epoch_loss=5.22]\n",
            "100%|██████████| 50/50 [00:15<00:00,  3.31it/s, epoch=63/100, avg_epoch_loss=5.15]\n",
            "100%|██████████| 50/50 [00:14<00:00,  3.52it/s, epoch=64/100, avg_epoch_loss=5.18]\n",
            "100%|██████████| 50/50 [00:14<00:00,  3.51it/s, epoch=65/100, avg_epoch_loss=5.34]\n",
            "100%|██████████| 50/50 [00:14<00:00,  3.43it/s, epoch=66/100, avg_epoch_loss=5.15]\n",
            "100%|██████████| 50/50 [00:14<00:00,  3.45it/s, epoch=67/100, avg_epoch_loss=5.26]\n",
            "100%|██████████| 50/50 [00:14<00:00,  3.42it/s, epoch=68/100, avg_epoch_loss=5.26]\n",
            "100%|██████████| 50/50 [00:14<00:00,  3.57it/s, epoch=69/100, avg_epoch_loss=5.13]\n",
            "100%|██████████| 50/50 [00:14<00:00,  3.37it/s, epoch=70/100, avg_epoch_loss=5.25]\n",
            "100%|██████████| 50/50 [00:15<00:00,  3.32it/s, epoch=71/100, avg_epoch_loss=5.13]\n",
            "100%|██████████| 50/50 [00:15<00:00,  3.28it/s, epoch=72/100, avg_epoch_loss=5.22]\n",
            "100%|██████████| 50/50 [00:14<00:00,  3.43it/s, epoch=73/100, avg_epoch_loss=5.23]\n",
            "100%|██████████| 50/50 [00:14<00:00,  3.50it/s, epoch=74/100, avg_epoch_loss=5.23]\n",
            "100%|██████████| 50/50 [00:14<00:00,  3.46it/s, epoch=75/100, avg_epoch_loss=5.2] \n",
            "100%|██████████| 50/50 [00:15<00:00,  3.33it/s, epoch=76/100, avg_epoch_loss=5.22]\n",
            "100%|██████████| 50/50 [00:14<00:00,  3.51it/s, epoch=77/100, avg_epoch_loss=5.19]\n",
            "100%|██████████| 50/50 [00:14<00:00,  3.49it/s, epoch=78/100, avg_epoch_loss=5.2] \n",
            "100%|██████████| 50/50 [00:14<00:00,  3.47it/s, epoch=79/100, avg_epoch_loss=5.18]\n",
            "100%|██████████| 50/50 [00:14<00:00,  3.45it/s, epoch=80/100, avg_epoch_loss=5.17]\n",
            "100%|██████████| 50/50 [00:14<00:00,  3.45it/s, epoch=81/100, avg_epoch_loss=5.21]\n",
            "100%|██████████| 50/50 [00:14<00:00,  3.51it/s, epoch=82/100, avg_epoch_loss=5.16]\n",
            "100%|██████████| 50/50 [00:14<00:00,  3.35it/s, epoch=83/100, avg_epoch_loss=5.19]\n",
            "100%|██████████| 50/50 [00:14<00:00,  3.38it/s, epoch=84/100, avg_epoch_loss=5.1] \n",
            "100%|██████████| 50/50 [00:14<00:00,  3.49it/s, epoch=85/100, avg_epoch_loss=5.2] \n",
            "100%|██████████| 50/50 [00:14<00:00,  3.48it/s, epoch=86/100, avg_epoch_loss=5.16]\n",
            "100%|██████████| 50/50 [00:14<00:00,  3.39it/s, epoch=87/100, avg_epoch_loss=5.2] \n",
            "100%|██████████| 50/50 [00:14<00:00,  3.42it/s, epoch=88/100, avg_epoch_loss=5.12]\n",
            "100%|██████████| 50/50 [00:14<00:00,  3.47it/s, epoch=89/100, avg_epoch_loss=5.13]\n",
            "100%|██████████| 50/50 [00:15<00:00,  3.28it/s, epoch=90/100, avg_epoch_loss=5.11]\n",
            "100%|██████████| 50/50 [00:14<00:00,  3.37it/s, epoch=91/100, avg_epoch_loss=5.13]\n",
            "100%|██████████| 50/50 [00:14<00:00,  3.39it/s, epoch=92/100, avg_epoch_loss=5.12]\n",
            "100%|██████████| 50/50 [00:14<00:00,  3.36it/s, epoch=93/100, avg_epoch_loss=5.21]\n",
            "100%|██████████| 50/50 [00:14<00:00,  3.40it/s, epoch=94/100, avg_epoch_loss=5.16]\n",
            "100%|██████████| 50/50 [00:14<00:00,  3.34it/s, epoch=95/100, avg_epoch_loss=5.14]\n",
            "100%|██████████| 50/50 [00:15<00:00,  3.31it/s, epoch=96/100, avg_epoch_loss=5.15]\n",
            "100%|██████████| 50/50 [00:15<00:00,  3.33it/s, epoch=97/100, avg_epoch_loss=5.16]\n",
            "100%|██████████| 50/50 [00:15<00:00,  3.29it/s, epoch=98/100, avg_epoch_loss=5.17]\n",
            "100%|██████████| 50/50 [00:14<00:00,  3.46it/s, epoch=99/100, avg_epoch_loss=5.19]\n",
            "100%|██████████| 50/50 [00:14<00:00,  3.45it/s, epoch=100/100, avg_epoch_loss=5.18]\n"
          ],
          "name": "stderr"
        }
      ]
    },
    {
      "cell_type": "code",
      "metadata": {
        "colab_type": "code",
        "id": "y96-tuAkuxC1",
        "colab": {
          "base_uri": "https://localhost:8080/",
          "height": 503
        },
        "outputId": "47cac163-a1d1-444c-ffa6-c4569ca4cfa6"
      },
      "source": [
        "forecast_it, ts_it = make_evaluation_predictions(\n",
        "    dataset=elec_dataset.test, \n",
        "    predictor=DA_predictor, \n",
        "    num_samples=100, \n",
        ")\n",
        "\n",
        "forecasts = list(forecast_it)\n",
        "tss = list(ts_it)\n",
        "\n",
        "evaluator = Evaluator(quantiles=[0.1, 0.5, 0.9])\n",
        "agg_metrics, item_metrics = evaluator(iter(tss), iter(forecasts), num_series=len(elec_dataset.test))\n",
        "\n",
        "print(json.dumps(agg_metrics, indent=4))"
      ],
      "execution_count": 100,
      "outputs": [
        {
          "output_type": "stream",
          "text": [
            "Running evaluation: 100%|██████████| 2247/2247 [00:00<00:00, 27980.79it/s]\n"
          ],
          "name": "stderr"
        },
        {
          "output_type": "stream",
          "text": [
            "{\n",
            "    \"MSE\": 2554453.941065254,\n",
            "    \"abs_error\": 9163152.158949852,\n",
            "    \"abs_target_sum\": 128632956.0,\n",
            "    \"abs_target_mean\": 2385.272140631948,\n",
            "    \"seasonal_error\": 189.4933819611677,\n",
            "    \"MASE\": 0.7575806789415037,\n",
            "    \"MAPE\": 0.09543141284583642,\n",
            "    \"sMAPE\": 0.10828758843711765,\n",
            "    \"OWA\": NaN,\n",
            "    \"MSIS\": 9.191368226427423,\n",
            "    \"QuantileLoss[0.1]\": 3731279.226968693,\n",
            "    \"Coverage[0.1]\": 0.10041165999109891,\n",
            "    \"QuantileLoss[0.5]\": 9163152.094332078,\n",
            "    \"Coverage[0.5]\": 0.4587783711615484,\n",
            "    \"QuantileLoss[0.9]\": 6181245.383898529,\n",
            "    \"Coverage[0.9]\": 0.8512646491618454,\n",
            "    \"RMSE\": 1598.26591688156,\n",
            "    \"NRMSE\": 0.6700560031100349,\n",
            "    \"ND\": 0.0712348720257183,\n",
            "    \"wQuantileLoss[0.1]\": 0.029007179365206325,\n",
            "    \"wQuantileLoss[0.5]\": 0.071234871523376,\n",
            "    \"wQuantileLoss[0.9]\": 0.04805335721196152,\n",
            "    \"mean_wQuantileLoss\": 0.04943180270018128,\n",
            "    \"MAE_Coverage\": 0.030122879889235038\n",
            "}\n"
          ],
          "name": "stdout"
        }
      ]
    },
    {
      "cell_type": "code",
      "metadata": {
        "colab_type": "code",
        "id": "5kBvHcGFuxC4",
        "colab": {
          "base_uri": "https://localhost:8080/",
          "height": 503
        },
        "outputId": "51f0936d-900b-4925-b512-d1468dc72fe7"
      },
      "source": [
        "forecast_it, ts_it = make_evaluation_predictions(\n",
        "    dataset=test_ds_24, \n",
        "    predictor=DA_predictor, \n",
        "    num_samples=100, \n",
        ")\n",
        "\n",
        "forecasts = list(forecast_it)\n",
        "tss = list(ts_it)\n",
        "\n",
        "evaluator = Evaluator(quantiles=[0.1, 0.5, 0.9])\n",
        "agg_metrics, item_metrics = evaluator(iter(tss), iter(forecasts), num_series=len(test_ds_24))\n",
        "\n",
        "print(json.dumps(agg_metrics, indent=4))"
      ],
      "execution_count": 101,
      "outputs": [
        {
          "output_type": "stream",
          "text": [
            "Running evaluation: 100%|██████████| 321/321 [00:00<00:00, 4640.98it/s]\n"
          ],
          "name": "stderr"
        },
        {
          "output_type": "stream",
          "text": [
            "{\n",
            "    \"MSE\": 484715.10148394294,\n",
            "    \"abs_error\": 937529.3135104179,\n",
            "    \"abs_target_sum\": 17268997.0,\n",
            "    \"abs_target_mean\": 2241.56243509865,\n",
            "    \"seasonal_error\": 189.64815247902152,\n",
            "    \"MASE\": 0.674031329476434,\n",
            "    \"MAPE\": 0.08084996492337249,\n",
            "    \"sMAPE\": 0.10280505898782312,\n",
            "    \"OWA\": NaN,\n",
            "    \"MSIS\": 7.593336734975212,\n",
            "    \"QuantileLoss[0.1]\": 431103.8574109599,\n",
            "    \"Coverage[0.1]\": 0.11500519210799581,\n",
            "    \"QuantileLoss[0.5]\": 937529.312128529,\n",
            "    \"Coverage[0.5]\": 0.494158878504673,\n",
            "    \"QuantileLoss[0.9]\": 505048.93893814087,\n",
            "    \"Coverage[0.9]\": 0.8816199376947039,\n",
            "    \"RMSE\": 696.2148385979309,\n",
            "    \"NRMSE\": 0.31059355193347127,\n",
            "    \"ND\": 0.054289737470590675,\n",
            "    \"wQuantileLoss[0.1]\": 0.024964035688405058,\n",
            "    \"wQuantileLoss[0.5]\": 0.05428973739056929,\n",
            "    \"wQuantileLoss[0.9]\": 0.029245991468881537,\n",
            "    \"mean_wQuantileLoss\": 0.036166588182618635,\n",
            "    \"MAE_Coverage\": 0.013075458636206303\n",
            "}\n"
          ],
          "name": "stdout"
        }
      ]
    },
    {
      "cell_type": "code",
      "metadata": {
        "colab_type": "code",
        "id": "mx1f5qu3uxC7",
        "colab": {
          "base_uri": "https://localhost:8080/",
          "height": 503
        },
        "outputId": "342dbb71-f678-4989-f9d9-ee499aa5b6c4"
      },
      "source": [
        "forecast_it, ts_it = make_evaluation_predictions(\n",
        "    dataset=test_ds_24, \n",
        "    predictor=DA_predictor, \n",
        "    num_samples=100, \n",
        ")\n",
        "\n",
        "forecasts = list(forecast_it)\n",
        "tss = list(ts_it)\n",
        "\n",
        "evaluator = Evaluator(quantiles=[0.1, 0.5, 0.9])\n",
        "agg_metrics, item_metrics = evaluator(iter(tss), iter(forecasts), num_series=len(test_ds_24))\n",
        "\n",
        "print(json.dumps(agg_metrics, indent=4))"
      ],
      "execution_count": 102,
      "outputs": [
        {
          "output_type": "stream",
          "text": [
            "Running evaluation: 100%|██████████| 321/321 [00:00<00:00, 4824.36it/s]\n"
          ],
          "name": "stderr"
        },
        {
          "output_type": "stream",
          "text": [
            "{\n",
            "    \"MSE\": 546099.5559470499,\n",
            "    \"abs_error\": 942789.0771403313,\n",
            "    \"abs_target_sum\": 17268997.0,\n",
            "    \"abs_target_mean\": 2241.56243509865,\n",
            "    \"seasonal_error\": 189.64815247902152,\n",
            "    \"MASE\": 0.6729094831076863,\n",
            "    \"MAPE\": 0.08056418550038828,\n",
            "    \"sMAPE\": 0.10264765347231634,\n",
            "    \"OWA\": NaN,\n",
            "    \"MSIS\": 7.538680232482391,\n",
            "    \"QuantileLoss[0.1]\": 430622.00082529336,\n",
            "    \"Coverage[0.1]\": 0.1150051921079958,\n",
            "    \"QuantileLoss[0.5]\": 942789.087135762,\n",
            "    \"Coverage[0.5]\": 0.4957165109034267,\n",
            "    \"QuantileLoss[0.9]\": 511843.51691199536,\n",
            "    \"Coverage[0.9]\": 0.880581516095535,\n",
            "    \"RMSE\": 738.9854910260755,\n",
            "    \"NRMSE\": 0.3296742840863824,\n",
            "    \"ND\": 0.0545943158795112,\n",
            "    \"wQuantileLoss[0.1]\": 0.024936132702165235,\n",
            "    \"wQuantileLoss[0.5]\": 0.05459431645831903,\n",
            "    \"wQuantileLoss[0.9]\": 0.029639446744474815,\n",
            "    \"mean_wQuantileLoss\": 0.036389965301653025,\n",
            "    \"MAE_Coverage\": 0.01290238836967802\n",
            "}\n"
          ],
          "name": "stdout"
        }
      ]
    },
    {
      "cell_type": "code",
      "metadata": {
        "id": "1QXi1wchfaHT",
        "colab_type": "code",
        "colab": {}
      },
      "source": [
        ""
      ],
      "execution_count": 0,
      "outputs": []
    }
  ]
}