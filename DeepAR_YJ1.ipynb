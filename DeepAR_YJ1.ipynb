{
  "nbformat": 4,
  "nbformat_minor": 0,
  "metadata": {
    "colab": {
      "name": "DeepAR_YJ1",
      "provenance": [],
      "collapsed_sections": [
        "fy4faTqGUoxS",
        "OjjjZv_uD7L_",
        "OWJ9jeRZO9GB",
        "h0WoHFeGPo0-",
        "nznVHsOFTpbl",
        "iv_-hkX_UMp0"
      ],
      "include_colab_link": true
    },
    "kernelspec": {
      "name": "python3",
      "display_name": "Python 3"
    }
  },
  "cells": [
    {
      "cell_type": "markdown",
      "metadata": {
        "id": "view-in-github",
        "colab_type": "text"
      },
      "source": [
        "<a href=\"https://colab.research.google.com/github/iskra3138/GluonTS/blob/master/DeepAR_YJ1.ipynb\" target=\"_parent\"><img src=\"https://colab.research.google.com/assets/colab-badge.svg\" alt=\"Open In Colab\"/></a>"
      ]
    },
    {
      "cell_type": "markdown",
      "metadata": {
        "id": "MtkVPqoH9Rfy",
        "colab_type": "text"
      },
      "source": [
        "# Install mxnet and gluonts"
      ]
    },
    {
      "cell_type": "code",
      "metadata": {
        "id": "XpYiCxWFwrdF",
        "colab_type": "code",
        "outputId": "7044e88e-fa49-40be-9969-a8bf6b9ee8de",
        "colab": {
          "base_uri": "https://localhost:8080/",
          "height": 755
        }
      },
      "source": [
        "pip install --upgrade mxnet==1.6 gluonts"
      ],
      "execution_count": 0,
      "outputs": [
        {
          "output_type": "stream",
          "text": [
            "Collecting mxnet==1.6\n",
            "\u001b[?25l  Downloading https://files.pythonhosted.org/packages/81/f5/d79b5b40735086ff1100c680703e0f3efc830fa455e268e9e96f3c857e93/mxnet-1.6.0-py2.py3-none-any.whl (68.7MB)\n",
            "\u001b[K     |████████████████████████████████| 68.7MB 56kB/s \n",
            "\u001b[?25hCollecting gluonts\n",
            "\u001b[?25l  Downloading https://files.pythonhosted.org/packages/c2/07/5a63f7d645761982743d375fc816120b680e0de13ac139829e509b3206fc/gluonts-0.5.0-py3-none-any.whl (419kB)\n",
            "\u001b[K     |████████████████████████████████| 419kB 42.0MB/s \n",
            "\u001b[?25hRequirement already satisfied, skipping upgrade: numpy<2.0.0,>1.16.0 in /usr/local/lib/python3.6/dist-packages (from mxnet==1.6) (1.18.4)\n",
            "Collecting graphviz<0.9.0,>=0.8.1\n",
            "  Downloading https://files.pythonhosted.org/packages/53/39/4ab213673844e0c004bed8a0781a0721a3f6bb23eb8854ee75c236428892/graphviz-0.8.4-py2.py3-none-any.whl\n",
            "Requirement already satisfied, skipping upgrade: requests<3,>=2.20.0 in /usr/local/lib/python3.6/dist-packages (from mxnet==1.6) (2.23.0)\n",
            "Requirement already satisfied, skipping upgrade: holidays<0.10,>=0.9 in /usr/local/lib/python3.6/dist-packages (from gluonts) (0.9.12)\n",
            "Requirement already satisfied, skipping upgrade: matplotlib~=3.0 in /usr/local/lib/python3.6/dist-packages (from gluonts) (3.2.1)\n",
            "Collecting pydantic~=1.1\n",
            "\u001b[?25l  Downloading https://files.pythonhosted.org/packages/57/c9/7d664fbe54863b92cea790c7305915888c2f13a68a754893d8291bab0d0d/pydantic-1.5.1-cp36-cp36m-manylinux2014_x86_64.whl (7.4MB)\n",
            "\u001b[K     |████████████████████████████████| 7.4MB 17.3MB/s \n",
            "\u001b[?25hRequirement already satisfied, skipping upgrade: tqdm~=4.23 in /usr/local/lib/python3.6/dist-packages (from gluonts) (4.41.1)\n",
            "Collecting ujson~=1.35\n",
            "\u001b[?25l  Downloading https://files.pythonhosted.org/packages/16/c4/79f3409bc710559015464e5f49b9879430d8f87498ecdc335899732e5377/ujson-1.35.tar.gz (192kB)\n",
            "\u001b[K     |████████████████████████████████| 194kB 39.3MB/s \n",
            "\u001b[?25hRequirement already satisfied, skipping upgrade: pandas~=1.0 in /usr/local/lib/python3.6/dist-packages (from gluonts) (1.0.3)\n",
            "Requirement already satisfied, skipping upgrade: idna<3,>=2.5 in /usr/local/lib/python3.6/dist-packages (from requests<3,>=2.20.0->mxnet==1.6) (2.9)\n",
            "Requirement already satisfied, skipping upgrade: certifi>=2017.4.17 in /usr/local/lib/python3.6/dist-packages (from requests<3,>=2.20.0->mxnet==1.6) (2020.4.5.1)\n",
            "Requirement already satisfied, skipping upgrade: chardet<4,>=3.0.2 in /usr/local/lib/python3.6/dist-packages (from requests<3,>=2.20.0->mxnet==1.6) (3.0.4)\n",
            "Requirement already satisfied, skipping upgrade: urllib3!=1.25.0,!=1.25.1,<1.26,>=1.21.1 in /usr/local/lib/python3.6/dist-packages (from requests<3,>=2.20.0->mxnet==1.6) (1.24.3)\n",
            "Requirement already satisfied, skipping upgrade: six in /usr/local/lib/python3.6/dist-packages (from holidays<0.10,>=0.9->gluonts) (1.12.0)\n",
            "Requirement already satisfied, skipping upgrade: python-dateutil in /usr/local/lib/python3.6/dist-packages (from holidays<0.10,>=0.9->gluonts) (2.8.1)\n",
            "Requirement already satisfied, skipping upgrade: cycler>=0.10 in /usr/local/lib/python3.6/dist-packages (from matplotlib~=3.0->gluonts) (0.10.0)\n",
            "Requirement already satisfied, skipping upgrade: kiwisolver>=1.0.1 in /usr/local/lib/python3.6/dist-packages (from matplotlib~=3.0->gluonts) (1.2.0)\n",
            "Requirement already satisfied, skipping upgrade: pyparsing!=2.0.4,!=2.1.2,!=2.1.6,>=2.0.1 in /usr/local/lib/python3.6/dist-packages (from matplotlib~=3.0->gluonts) (2.4.7)\n",
            "Requirement already satisfied, skipping upgrade: dataclasses>=0.6; python_version < \"3.7\" in /usr/local/lib/python3.6/dist-packages (from pydantic~=1.1->gluonts) (0.7)\n",
            "Requirement already satisfied, skipping upgrade: pytz>=2017.2 in /usr/local/lib/python3.6/dist-packages (from pandas~=1.0->gluonts) (2018.9)\n",
            "Building wheels for collected packages: ujson\n",
            "  Building wheel for ujson (setup.py) ... \u001b[?25l\u001b[?25hdone\n",
            "  Created wheel for ujson: filename=ujson-1.35-cp36-cp36m-linux_x86_64.whl size=68027 sha256=9ba0301c70049e9cc49ce6fb20e1e9e8b9bc42bd2497dc486247e2dddf8e8adf\n",
            "  Stored in directory: /root/.cache/pip/wheels/28/77/e4/0311145b9c2e2f01470e744855131f9e34d6919687550f87d1\n",
            "Successfully built ujson\n",
            "Installing collected packages: graphviz, mxnet, pydantic, ujson, gluonts\n",
            "  Found existing installation: graphviz 0.10.1\n",
            "    Uninstalling graphviz-0.10.1:\n",
            "      Successfully uninstalled graphviz-0.10.1\n",
            "Successfully installed gluonts-0.5.0 graphviz-0.8.4 mxnet-1.6.0 pydantic-1.5.1 ujson-1.35\n"
          ],
          "name": "stdout"
        }
      ]
    },
    {
      "cell_type": "markdown",
      "metadata": {
        "id": "LmbEt0H9GYBt",
        "colab_type": "text"
      },
      "source": [
        "## Dataset Loading"
      ]
    },
    {
      "cell_type": "code",
      "metadata": {
        "id": "CS73SazB-iAi",
        "colab_type": "code",
        "colab": {}
      },
      "source": [
        "# Third-party imports\n",
        "%matplotlib inline\n",
        "import mxnet as mx\n",
        "from mxnet import gluon\n",
        "#import numpy as np\n",
        "#import pandas as pd\n",
        "import matplotlib.pyplot as plt\n",
        "import json\n",
        "#import os"
      ],
      "execution_count": 0,
      "outputs": []
    },
    {
      "cell_type": "code",
      "metadata": {
        "id": "YyFHxQYCGWpO",
        "colab_type": "code",
        "colab": {}
      },
      "source": [
        "from gluonts.dataset.repository.datasets import get_dataset, dataset_recipes\n",
        "#from gluonts.dataset.util import to_pandas"
      ],
      "execution_count": 0,
      "outputs": []
    },
    {
      "cell_type": "code",
      "metadata": {
        "id": "CET-Px0euwLy",
        "colab_type": "code",
        "colab": {}
      },
      "source": [
        "from gluonts.dataset.common import ListDataset\n",
        "from gluonts.dataset.field_names import FieldName"
      ],
      "execution_count": 0,
      "outputs": []
    },
    {
      "cell_type": "code",
      "metadata": {
        "id": "PwbJirQ67oj9",
        "colab_type": "code",
        "colab": {}
      },
      "source": [
        "from gluonts.model.deepar import DeepAREstimator\n",
        "from gluonts.model.deep_factor import DeepFactorEstimator\n",
        "from gluonts.distribution.gaussian import GaussianOutput\n",
        "from gluonts.distribution.student_t import StudentTOutput\n",
        "from gluonts.trainer import Trainer\n",
        "from gluonts.evaluation.backtest import make_evaluation_predictions\n",
        "from gluonts.evaluation import Evaluator"
      ],
      "execution_count": 0,
      "outputs": []
    },
    {
      "cell_type": "markdown",
      "metadata": {
        "id": "jbPo1rHY7nGe",
        "colab_type": "text"
      },
      "source": [
        "## Experiment of DeepAR"
      ]
    },
    {
      "cell_type": "markdown",
      "metadata": {
        "id": "cqSRuhYNUhe4",
        "colab_type": "text"
      },
      "source": [
        "## electricity"
      ]
    },
    {
      "cell_type": "code",
      "metadata": {
        "id": "QUlhWYZLGqAa",
        "colab_type": "code",
        "outputId": "9cec9079-a266-4caf-a992-8d9a3edc9bb1",
        "colab": {
          "base_uri": "https://localhost:8080/",
          "height": 53
        }
      },
      "source": [
        "elec_dataset = get_dataset(\"electricity\", regenerate=False)"
      ],
      "execution_count": 0,
      "outputs": [
        {
          "output_type": "stream",
          "text": [
            "saving time-series into /root/.mxnet/gluon-ts/datasets/electricity/train/data.json\n",
            "saving time-series into /root/.mxnet/gluon-ts/datasets/electricity/test/data.json\n"
          ],
          "name": "stdout"
        }
      ]
    },
    {
      "cell_type": "code",
      "metadata": {
        "colab_type": "code",
        "outputId": "f4d76700-7d0a-4fd6-a692-c24efeee64c0",
        "id": "pISvJSGLmogL",
        "colab": {
          "base_uri": "https://localhost:8080/",
          "height": 53
        }
      },
      "source": [
        "print (len(elec_dataset.train))\n",
        "print (len(elec_dataset.test))"
      ],
      "execution_count": 0,
      "outputs": [
        {
          "output_type": "stream",
          "text": [
            "321\n",
            "2247\n"
          ],
          "name": "stdout"
        }
      ]
    },
    {
      "cell_type": "code",
      "metadata": {
        "colab_type": "code",
        "outputId": "a56c5c13-3fb0-45bd-b978-21c3876bc3cd",
        "id": "Gg6BjsIAmogR",
        "colab": {
          "base_uri": "https://localhost:8080/",
          "height": 35
        }
      },
      "source": [
        "elec_dataset.metadata"
      ],
      "execution_count": 0,
      "outputs": [
        {
          "output_type": "execute_result",
          "data": {
            "text/plain": [
              "MetaData(freq='1H', target=None, feat_static_cat=[CategoricalFeatureInfo(name='feat_static_cat', cardinality='321')], feat_static_real=[], feat_dynamic_real=[], feat_dynamic_cat=[], prediction_length=24)"
            ]
          },
          "metadata": {
            "tags": []
          },
          "execution_count": 8
        }
      ]
    },
    {
      "cell_type": "code",
      "metadata": {
        "id": "kh_5nT7SmwD5",
        "colab_type": "code",
        "outputId": "28648208-5caf-47e9-be6e-c321951b86df",
        "colab": {
          "base_uri": "https://localhost:8080/",
          "height": 35
        }
      },
      "source": [
        "elec_dataset.metadata.feat_static_cat[0]"
      ],
      "execution_count": 0,
      "outputs": [
        {
          "output_type": "execute_result",
          "data": {
            "text/plain": [
              "CategoricalFeatureInfo(name='feat_static_cat', cardinality='321')"
            ]
          },
          "metadata": {
            "tags": []
          },
          "execution_count": 9
        }
      ]
    },
    {
      "cell_type": "code",
      "metadata": {
        "id": "28gBmOGVoMgV",
        "colab_type": "code",
        "colab": {}
      },
      "source": [
        "car = [int(elec_dataset.metadata.feat_static_cat[0].cardinality)]"
      ],
      "execution_count": 0,
      "outputs": []
    },
    {
      "cell_type": "code",
      "metadata": {
        "colab_type": "code",
        "outputId": "7e929495-20e4-4e2a-d87e-f32460ef2c37",
        "id": "Q-ZkZHs2mogU",
        "colab": {
          "base_uri": "https://localhost:8080/",
          "height": 35
        }
      },
      "source": [
        "next(iter(elec_dataset.train)).keys()"
      ],
      "execution_count": 0,
      "outputs": [
        {
          "output_type": "execute_result",
          "data": {
            "text/plain": [
              "dict_keys(['start', 'target', 'feat_static_cat', 'item_id', 'source'])"
            ]
          },
          "metadata": {
            "tags": []
          },
          "execution_count": 11
        }
      ]
    },
    {
      "cell_type": "code",
      "metadata": {
        "id": "Ez4xa_EAuwHV",
        "colab_type": "code",
        "colab": {}
      },
      "source": [
        "test_ds_24 = ListDataset([{FieldName.START: entry['start'],\n",
        "                        FieldName.TARGET: entry['target'],\n",
        "                        FieldName.FEAT_STATIC_CAT: entry['feat_static_cat'],\n",
        "                        FieldName.ITEM_ID: entry['item_id'],\n",
        "                        }\n",
        "                       for entry in iter(elec_dataset.test) if len(entry['target']) == 21068\n",
        "                       ],\n",
        "                     freq=elec_dataset.metadata.freq)"
      ],
      "execution_count": 0,
      "outputs": []
    },
    {
      "cell_type": "code",
      "metadata": {
        "colab_type": "code",
        "id": "SOijOJKyH3hL",
        "colab": {}
      },
      "source": [
        "# https://gluon-ts.mxnet.io/api/gluonts/gluonts.trainer.html\n",
        "deepar_trainer=Trainer(\n",
        "    ctx = 'cpu',\n",
        "    epochs=100, # (default: 100).\n",
        "    batch_size=32,# (default: 32).\n",
        "    num_batches_per_epoch=50, # (default: 50).\n",
        "    learning_rate=0.001, # (default:  10^−3 ).\n",
        "    learning_rate_decay_factor=0.5, # (default: 0.5).\n",
        "    patience = 10, # (default: 10).\n",
        "    minimum_learning_rate=5e-05, # (default:  5⋅10^−5 ).\n",
        "    clip_gradient = 10.0, # (default: 10).\n",
        "    weight_decay=1e-08, #  (default  10^−8 ).\n",
        "    init='xavier', #  (default: “xavier”).\n",
        "    hybridize=True, \n",
        "    )"
      ],
      "execution_count": 0,
      "outputs": []
    },
    {
      "cell_type": "code",
      "metadata": {
        "colab_type": "code",
        "id": "zqz0laFMH3hN",
        "colab": {}
      },
      "source": [
        "# https://gluon-ts.mxnet.io/api/gluonts/gluonts.model.deepar.html\n",
        "DA_estimator = DeepAREstimator(\n",
        "    freq=elec_dataset.metadata.freq, \n",
        "    prediction_length=elec_dataset.metadata.prediction_length,\n",
        "    trainer = deepar_trainer, # (default: Trainer())\n",
        "    context_length=None, # (default: None, in which case context_length = prediction_length)\n",
        "    num_layers=2, # (default: 2)\n",
        "    num_cells=40, # (default: 40)\n",
        "    cell_type='lstm', # (default: ‘lstm’)\n",
        "    dropout_rate=0.1, # (default: 0.1)\n",
        "    use_feat_dynamic_real=False, # (default: False)\n",
        "    use_feat_static_cat=True, # (default: False)\n",
        "    use_feat_static_real=False, # (default: False)\n",
        "    cardinality=car, # (default: None)\n",
        "    #embedding_dimension=[20], # (default: [min(50, (cat+1)//2) for cat in cardinality])\n",
        "    distr_output = StudentTOutput(), # (default: StudentTOutput())\n",
        "    scaling=True, # (default: true)\n",
        "    lags_seq=None, # (default: None, in which case these are automatically determined based on freq)\n",
        "    time_features=None, # (default: None, in which case these are automatically determined based on freq)\n",
        "    num_parallel_samples=100, # (default: 100)\n",
        ")"
      ],
      "execution_count": 0,
      "outputs": []
    },
    {
      "cell_type": "code",
      "metadata": {
        "colab_type": "code",
        "id": "ig9ceH0SH3hQ",
        "outputId": "085d2238-1a52-4b93-8f76-66c3801f4b06",
        "colab": {
          "base_uri": "https://localhost:8080/",
          "height": 71
        }
      },
      "source": [
        "DA_predictor = DA_estimator.train(elec_dataset.train)"
      ],
      "execution_count": 0,
      "outputs": [
        {
          "output_type": "stream",
          "text": [
            "\r  0%|          | 0/50 [00:00<?, ?it/s]"
          ],
          "name": "stderr"
        },
        {
          "output_type": "stream",
          "text": [
            "learning rate from ``lr_scheduler`` has been overwritten by ``learning_rate`` in optimizer.\n"
          ],
          "name": "stdout"
        },
        {
          "output_type": "stream",
          "text": [
            "100%|██████████| 50/50 [07:06<00:00,  8.54s/it, epoch=1/100, avg_epoch_loss=0.00508]\n",
            " 20%|██        | 10/50 [01:24<05:36,  8.41s/it, epoch=2/100, avg_epoch_loss=-.253]"
          ],
          "name": "stderr"
        }
      ]
    },
    {
      "cell_type": "code",
      "metadata": {
        "id": "iVGO7KRtorHw",
        "colab_type": "code",
        "outputId": "5495ae55-5874-4825-fa26-ee2316b1a6e0",
        "colab": {
          "base_uri": "https://localhost:8080/",
          "height": 503
        }
      },
      "source": [
        "forecast_it, ts_it = make_evaluation_predictions(\n",
        "    dataset=elec_dataset.test, \n",
        "    predictor=DA_predictor, \n",
        "    num_samples=100, \n",
        ")\n",
        "\n",
        "forecasts = list(forecast_it)\n",
        "tss = list(ts_it)\n",
        "\n",
        "evaluator = Evaluator(quantiles=[0.1, 0.5, 0.9])\n",
        "agg_metrics, item_metrics = evaluator(iter(tss), iter(forecasts), num_series=len(elec_dataset.test))\n",
        "\n",
        "print(json.dumps(agg_metrics, indent=4))"
      ],
      "execution_count": 0,
      "outputs": [
        {
          "output_type": "stream",
          "text": [
            "Running evaluation: 100%|██████████| 2247/2247 [00:00<00:00, 33522.33it/s]\n"
          ],
          "name": "stderr"
        },
        {
          "output_type": "stream",
          "text": [
            "{\n",
            "    \"MSE\": 2505295.267445863,\n",
            "    \"abs_error\": 8900631.609058857,\n",
            "    \"abs_target_sum\": 128632956.0,\n",
            "    \"abs_target_mean\": 2385.272140631948,\n",
            "    \"seasonal_error\": 189.4933819611677,\n",
            "    \"MASE\": 0.7794081356898931,\n",
            "    \"MAPE\": 0.09735360795793072,\n",
            "    \"sMAPE\": 0.1093649028734422,\n",
            "    \"OWA\": NaN,\n",
            "    \"MSIS\": 9.66649531494702,\n",
            "    \"QuantileLoss[0.1]\": 3628471.544925059,\n",
            "    \"Coverage[0.1]\": 0.07749221183800607,\n",
            "    \"QuantileLoss[0.5]\": 8900631.654795162,\n",
            "    \"Coverage[0.5]\": 0.3847908322207389,\n",
            "    \"QuantileLoss[0.9]\": 5747472.161535261,\n",
            "    \"Coverage[0.9]\": 0.8237279335410164,\n",
            "    \"RMSE\": 1582.812454918732,\n",
            "    \"NRMSE\": 0.6635773033845043,\n",
            "    \"ND\": 0.06919402216846246,\n",
            "    \"wQuantileLoss[0.1]\": 0.02820794653063138,\n",
            "    \"wQuantileLoss[0.5]\": 0.06919402252401914,\n",
            "    \"wQuantileLoss[0.9]\": 0.04468117922700355,\n",
            "    \"mean_wQuantileLoss\": 0.04736104942721803,\n",
            "    \"MAE_Coverage\": 0.0713296741334129\n",
            "}\n"
          ],
          "name": "stdout"
        }
      ]
    },
    {
      "cell_type": "code",
      "metadata": {
        "colab_type": "code",
        "id": "GtBIDMrnEkW1",
        "outputId": "5b7268ab-92c7-4324-d141-21ec1244ea44",
        "colab": {
          "base_uri": "https://localhost:8080/",
          "height": 503
        }
      },
      "source": [
        "forecast_it, ts_it = make_evaluation_predictions(\n",
        "    dataset=test_ds_24, \n",
        "    predictor=DA_predictor, \n",
        "    num_samples=100, \n",
        ")\n",
        "\n",
        "forecasts = list(forecast_it)\n",
        "tss = list(ts_it)\n",
        "\n",
        "evaluator = Evaluator(quantiles=[0.1, 0.5, 0.9])\n",
        "agg_metrics, item_metrics = evaluator(iter(tss), iter(forecasts), num_series=len(test_ds_24))\n",
        "\n",
        "print(json.dumps(agg_metrics, indent=4))"
      ],
      "execution_count": 0,
      "outputs": [
        {
          "output_type": "stream",
          "text": [
            "Running evaluation: 100%|██████████| 321/321 [00:00<00:00, 6511.89it/s]\n"
          ],
          "name": "stderr"
        },
        {
          "output_type": "stream",
          "text": [
            "{\n",
            "    \"MSE\": 545833.2759793291,\n",
            "    \"abs_error\": 910718.1942095757,\n",
            "    \"abs_target_sum\": 17268997.0,\n",
            "    \"abs_target_mean\": 2241.56243509865,\n",
            "    \"seasonal_error\": 189.64815247902152,\n",
            "    \"MASE\": 0.6705488337357872,\n",
            "    \"MAPE\": 0.08118493418615869,\n",
            "    \"sMAPE\": 0.10300329117623283,\n",
            "    \"OWA\": NaN,\n",
            "    \"MSIS\": 7.8536199536625615,\n",
            "    \"QuantileLoss[0.1]\": 395009.03624981944,\n",
            "    \"Coverage[0.1]\": 0.09319833852544135,\n",
            "    \"QuantileLoss[0.5]\": 910718.1928385925,\n",
            "    \"Coverage[0.5]\": 0.4445742471443409,\n",
            "    \"QuantileLoss[0.9]\": 563131.3881342098,\n",
            "    \"Coverage[0.9]\": 0.8646157840083073,\n",
            "    \"RMSE\": 738.8053031613465,\n",
            "    \"NRMSE\": 0.3295938991450988,\n",
            "    \"ND\": 0.05273717947889942,\n",
            "    \"wQuantileLoss[0.1]\": 0.022873884120184828,\n",
            "    \"wQuantileLoss[0.5]\": 0.052737179399509566,\n",
            "    \"wQuantileLoss[0.9]\": 0.032609385949526185,\n",
            "    \"mean_wQuantileLoss\": 0.036073483156406856,\n",
            "    \"MAE_Coverage\": 0.03253721010730349\n",
            "}\n"
          ],
          "name": "stdout"
        }
      ]
    },
    {
      "cell_type": "code",
      "metadata": {
        "id": "1HI9PXx0mi6C",
        "colab_type": "code",
        "colab": {}
      },
      "source": [
        ""
      ],
      "execution_count": 0,
      "outputs": []
    },
    {
      "cell_type": "markdown",
      "metadata": {
        "colab_type": "text",
        "id": "fy4faTqGUoxS"
      },
      "source": [
        "## exchange_rate"
      ]
    },
    {
      "cell_type": "code",
      "metadata": {
        "colab_type": "code",
        "outputId": "76586fe5-983c-43da-c76a-f6c5dbea12be",
        "id": "6JcEADfNUoxT",
        "colab": {
          "base_uri": "https://localhost:8080/",
          "height": 53
        }
      },
      "source": [
        "exchange_rate_dataset = get_dataset(\"exchange_rate\", regenerate=False)"
      ],
      "execution_count": 0,
      "outputs": [
        {
          "output_type": "stream",
          "text": [
            "saving time-series into /root/.mxnet/gluon-ts/datasets/exchange_rate/train/data.json\n",
            "saving time-series into /root/.mxnet/gluon-ts/datasets/exchange_rate/test/data.json\n"
          ],
          "name": "stdout"
        }
      ]
    },
    {
      "cell_type": "code",
      "metadata": {
        "colab_type": "code",
        "outputId": "8a268d49-61bb-47c1-899c-5c089611cba3",
        "id": "kdnQ9-IwUoxV",
        "colab": {
          "base_uri": "https://localhost:8080/",
          "height": 53
        }
      },
      "source": [
        "print (len(exchange_rate_dataset.train))\n",
        "print (len(exchange_rate_dataset.test))"
      ],
      "execution_count": 0,
      "outputs": [
        {
          "output_type": "stream",
          "text": [
            "8\n",
            "40\n"
          ],
          "name": "stdout"
        }
      ]
    },
    {
      "cell_type": "code",
      "metadata": {
        "colab_type": "code",
        "outputId": "dff2e064-2be0-479b-fc73-713796f8adc1",
        "id": "6zzH8t0ZUoxX",
        "colab": {
          "base_uri": "https://localhost:8080/",
          "height": 35
        }
      },
      "source": [
        "exchange_rate_dataset.metadata"
      ],
      "execution_count": 0,
      "outputs": [
        {
          "output_type": "execute_result",
          "data": {
            "text/plain": [
              "MetaData(freq='1B', target=None, feat_static_cat=[CategoricalFeatureInfo(name='feat_static_cat', cardinality='8')], feat_static_real=[], feat_dynamic_real=[], feat_dynamic_cat=[], prediction_length=30)"
            ]
          },
          "metadata": {
            "tags": []
          },
          "execution_count": 21
        }
      ]
    },
    {
      "cell_type": "code",
      "metadata": {
        "colab_type": "code",
        "outputId": "cd9db474-a2ce-41eb-eaf4-c467ba612553",
        "id": "mlWCjOAxo9B2",
        "colab": {
          "base_uri": "https://localhost:8080/",
          "height": 35
        }
      },
      "source": [
        "exchange_rate_dataset.metadata.feat_static_cat[0]"
      ],
      "execution_count": 0,
      "outputs": [
        {
          "output_type": "execute_result",
          "data": {
            "text/plain": [
              "CategoricalFeatureInfo(name='feat_static_cat', cardinality='8')"
            ]
          },
          "metadata": {
            "tags": []
          },
          "execution_count": 22
        }
      ]
    },
    {
      "cell_type": "code",
      "metadata": {
        "colab_type": "code",
        "id": "lWauZAdio9B8",
        "colab": {}
      },
      "source": [
        "car = [int(exchange_rate_dataset.metadata.feat_static_cat[0].cardinality)]"
      ],
      "execution_count": 0,
      "outputs": []
    },
    {
      "cell_type": "code",
      "metadata": {
        "colab_type": "code",
        "outputId": "c63a8b3a-0532-4dec-84b7-1950275c25b6",
        "id": "Evq7k0huUoxn",
        "colab": {
          "base_uri": "https://localhost:8080/",
          "height": 35
        }
      },
      "source": [
        "next(iter(exchange_rate_dataset.train)).keys()"
      ],
      "execution_count": 0,
      "outputs": [
        {
          "output_type": "execute_result",
          "data": {
            "text/plain": [
              "dict_keys(['start', 'target', 'feat_static_cat', 'item_id', 'source'])"
            ]
          },
          "metadata": {
            "tags": []
          },
          "execution_count": 24
        }
      ]
    },
    {
      "cell_type": "code",
      "metadata": {
        "colab_type": "code",
        "id": "kreaWmN4Uoxt",
        "colab": {}
      },
      "source": [
        "# https://gluon-ts.mxnet.io/api/gluonts/gluonts.model.deepar.html\n",
        "DA_estimator = DeepAREstimator(\n",
        "    freq=exchange_rate_dataset.metadata.freq, \n",
        "    prediction_length=exchange_rate_dataset.metadata.prediction_length,\n",
        "    trainer = deepar_trainer, # (default: Trainer())\n",
        "    context_length=None, # (default: None, in which case context_length = prediction_length)\n",
        "    num_layers=2, # (default: 2)\n",
        "    num_cells=40, # (default: 40)\n",
        "    cell_type='lstm', # (default: ‘lstm’)\n",
        "    dropout_rate=0.1, # (default: 0.1)\n",
        "    use_feat_dynamic_real=False, # (default: False)\n",
        "    use_feat_static_cat=True, # (default: False)\n",
        "    use_feat_static_real=False, # (default: False)\n",
        "    cardinality=car, # (default: None)\n",
        "    #embedding_dimension=[20], # (default: [min(50, (cat+1)//2) for cat in cardinality])\n",
        "    distr_output = StudentTOutput(), # (default: StudentTOutput())\n",
        "    scaling=True, # (default: true)\n",
        "    lags_seq=None, # (default: None, in which case these are automatically determined based on freq)\n",
        "    time_features=None, # (default: None, in which case these are automatically determined based on freq)\n",
        "    num_parallel_samples=100, # (default: 100)\n",
        ")"
      ],
      "execution_count": 0,
      "outputs": []
    },
    {
      "cell_type": "code",
      "metadata": {
        "colab_type": "code",
        "id": "oLzqf7kYUoxv",
        "outputId": "c9674344-2122-4d2c-bb56-fa4129d4e697",
        "colab": {
          "base_uri": "https://localhost:8080/",
          "height": 1000
        }
      },
      "source": [
        "DA_predictor = DA_estimator.train(exchange_rate_dataset.train)"
      ],
      "execution_count": 0,
      "outputs": [
        {
          "output_type": "stream",
          "text": [
            "\r  0%|          | 0/50 [00:00<?, ?it/s]"
          ],
          "name": "stderr"
        },
        {
          "output_type": "stream",
          "text": [
            "learning rate from ``lr_scheduler`` has been overwritten by ``learning_rate`` in optimizer.\n"
          ],
          "name": "stdout"
        },
        {
          "output_type": "stream",
          "text": [
            "100%|██████████| 50/50 [00:08<00:00,  5.56it/s, epoch=1/100, avg_epoch_loss=-1.48]\n",
            "100%|██████████| 50/50 [00:07<00:00,  6.47it/s, epoch=2/100, avg_epoch_loss=-3.06]\n",
            "100%|██████████| 50/50 [00:07<00:00,  6.48it/s, epoch=3/100, avg_epoch_loss=-3.11]\n",
            "100%|██████████| 50/50 [00:07<00:00,  6.34it/s, epoch=4/100, avg_epoch_loss=-3.34]\n",
            "100%|██████████| 50/50 [00:07<00:00,  6.58it/s, epoch=5/100, avg_epoch_loss=-3.28]\n",
            "100%|██████████| 50/50 [00:07<00:00,  6.41it/s, epoch=6/100, avg_epoch_loss=-3.26]\n",
            "100%|██████████| 50/50 [00:07<00:00,  6.32it/s, epoch=7/100, avg_epoch_loss=-3.39]\n",
            "100%|██████████| 50/50 [00:07<00:00,  6.27it/s, epoch=8/100, avg_epoch_loss=-3.25]\n",
            "100%|██████████| 50/50 [00:07<00:00,  6.51it/s, epoch=9/100, avg_epoch_loss=-3.49]\n",
            "100%|██████████| 50/50 [00:07<00:00,  6.61it/s, epoch=10/100, avg_epoch_loss=-3.49]\n",
            "100%|██████████| 50/50 [00:07<00:00,  6.62it/s, epoch=11/100, avg_epoch_loss=-3.37]\n",
            "100%|██████████| 50/50 [00:07<00:00,  6.58it/s, epoch=12/100, avg_epoch_loss=-3.49]\n",
            "100%|██████████| 50/50 [00:07<00:00,  6.57it/s, epoch=13/100, avg_epoch_loss=-3.53]\n",
            "100%|██████████| 50/50 [00:07<00:00,  6.52it/s, epoch=14/100, avg_epoch_loss=-3.57]\n",
            "100%|██████████| 50/50 [00:07<00:00,  6.42it/s, epoch=15/100, avg_epoch_loss=-3.33]\n",
            "100%|██████████| 50/50 [00:07<00:00,  6.32it/s, epoch=16/100, avg_epoch_loss=-3.66]\n",
            "100%|██████████| 50/50 [00:07<00:00,  6.46it/s, epoch=17/100, avg_epoch_loss=-3.42]\n",
            "100%|██████████| 50/50 [00:07<00:00,  6.36it/s, epoch=18/100, avg_epoch_loss=-3.64]\n",
            "100%|██████████| 50/50 [00:07<00:00,  6.53it/s, epoch=19/100, avg_epoch_loss=-3.49]\n",
            "100%|██████████| 50/50 [00:07<00:00,  6.53it/s, epoch=20/100, avg_epoch_loss=-3.53]\n",
            "100%|██████████| 50/50 [00:07<00:00,  6.31it/s, epoch=21/100, avg_epoch_loss=-3.62]\n",
            "100%|██████████| 50/50 [00:08<00:00,  6.24it/s, epoch=22/100, avg_epoch_loss=-3.64]\n",
            "100%|██████████| 50/50 [00:07<00:00,  6.39it/s, epoch=23/100, avg_epoch_loss=-3.74]\n",
            "100%|██████████| 50/50 [00:07<00:00,  6.53it/s, epoch=24/100, avg_epoch_loss=-3.52]\n",
            "100%|██████████| 50/50 [00:07<00:00,  6.71it/s, epoch=25/100, avg_epoch_loss=-3.87]\n",
            "100%|██████████| 50/50 [00:07<00:00,  6.58it/s, epoch=26/100, avg_epoch_loss=-3.89]\n",
            "100%|██████████| 50/50 [00:07<00:00,  6.53it/s, epoch=27/100, avg_epoch_loss=-3.85]\n",
            "100%|██████████| 50/50 [00:07<00:00,  6.81it/s, epoch=28/100, avg_epoch_loss=-3.77]\n",
            "100%|██████████| 50/50 [00:07<00:00,  6.58it/s, epoch=29/100, avg_epoch_loss=-3.89]\n",
            "100%|██████████| 50/50 [00:07<00:00,  6.64it/s, epoch=30/100, avg_epoch_loss=-3.85]\n",
            "100%|██████████| 50/50 [00:07<00:00,  6.44it/s, epoch=31/100, avg_epoch_loss=-3.55]\n",
            "100%|██████████| 50/50 [00:07<00:00,  6.40it/s, epoch=32/100, avg_epoch_loss=-3.89]\n",
            "100%|██████████| 50/50 [00:08<00:00,  6.22it/s, epoch=33/100, avg_epoch_loss=-3.91]\n",
            "100%|██████████| 50/50 [00:07<00:00,  6.66it/s, epoch=34/100, avg_epoch_loss=-3.94]\n",
            "100%|██████████| 50/50 [00:07<00:00,  6.45it/s, epoch=35/100, avg_epoch_loss=-3.7]\n",
            "100%|██████████| 50/50 [00:07<00:00,  6.35it/s, epoch=36/100, avg_epoch_loss=-3.83]\n",
            "100%|██████████| 50/50 [00:07<00:00,  6.37it/s, epoch=37/100, avg_epoch_loss=-3.89]\n",
            "100%|██████████| 50/50 [00:07<00:00,  6.35it/s, epoch=38/100, avg_epoch_loss=-3.95]\n",
            "100%|██████████| 50/50 [00:07<00:00,  6.40it/s, epoch=39/100, avg_epoch_loss=-3.91]\n",
            "100%|██████████| 50/50 [00:07<00:00,  6.35it/s, epoch=40/100, avg_epoch_loss=-3.86]\n",
            "100%|██████████| 50/50 [00:07<00:00,  6.67it/s, epoch=41/100, avg_epoch_loss=-3.75]\n",
            "100%|██████████| 50/50 [00:07<00:00,  6.57it/s, epoch=42/100, avg_epoch_loss=-3.76]\n",
            "100%|██████████| 50/50 [00:07<00:00,  6.71it/s, epoch=43/100, avg_epoch_loss=-4]\n",
            "100%|██████████| 50/50 [00:07<00:00,  6.58it/s, epoch=44/100, avg_epoch_loss=-4.07]\n",
            "100%|██████████| 50/50 [00:07<00:00,  6.52it/s, epoch=45/100, avg_epoch_loss=-4.04]\n",
            "100%|██████████| 50/50 [00:07<00:00,  6.43it/s, epoch=46/100, avg_epoch_loss=-3.82]\n",
            "100%|██████████| 50/50 [00:08<00:00,  6.24it/s, epoch=47/100, avg_epoch_loss=-3.97]\n",
            "100%|██████████| 50/50 [00:07<00:00,  6.25it/s, epoch=48/100, avg_epoch_loss=-4.04]\n",
            "100%|██████████| 50/50 [00:07<00:00,  6.49it/s, epoch=49/100, avg_epoch_loss=-4.11]\n",
            "100%|██████████| 50/50 [00:07<00:00,  6.45it/s, epoch=50/100, avg_epoch_loss=-3.89]\n",
            "100%|██████████| 50/50 [00:07<00:00,  6.49it/s, epoch=51/100, avg_epoch_loss=-4.02]\n",
            "100%|██████████| 50/50 [00:07<00:00,  6.59it/s, epoch=52/100, avg_epoch_loss=-3.84]\n",
            "100%|██████████| 50/50 [00:07<00:00,  6.45it/s, epoch=53/100, avg_epoch_loss=-4.05]\n",
            "100%|██████████| 50/50 [00:07<00:00,  6.52it/s, epoch=54/100, avg_epoch_loss=-3.84]\n",
            "100%|██████████| 50/50 [00:07<00:00,  6.39it/s, epoch=55/100, avg_epoch_loss=-3.88]\n",
            "100%|██████████| 50/50 [00:07<00:00,  6.55it/s, epoch=56/100, avg_epoch_loss=-4.03]\n",
            "100%|██████████| 50/50 [00:09<00:00,  5.02it/s, epoch=57/100, avg_epoch_loss=-3.99]\n",
            "100%|██████████| 50/50 [00:08<00:00,  5.86it/s, epoch=58/100, avg_epoch_loss=-4.02]\n",
            "100%|██████████| 50/50 [00:07<00:00,  6.46it/s, epoch=59/100, avg_epoch_loss=-3.88]\n",
            "100%|██████████| 50/50 [00:07<00:00,  6.27it/s, epoch=60/100, avg_epoch_loss=-4.21]\n",
            "100%|██████████| 50/50 [00:07<00:00,  6.57it/s, epoch=61/100, avg_epoch_loss=-4.22]\n",
            "100%|██████████| 50/50 [00:07<00:00,  6.37it/s, epoch=62/100, avg_epoch_loss=-4.12]\n",
            "100%|██████████| 50/50 [00:07<00:00,  6.44it/s, epoch=63/100, avg_epoch_loss=-4.14]\n",
            "100%|██████████| 50/50 [00:07<00:00,  6.32it/s, epoch=64/100, avg_epoch_loss=-4.13]\n",
            "100%|██████████| 50/50 [00:07<00:00,  6.33it/s, epoch=65/100, avg_epoch_loss=-4.23]\n",
            "100%|██████████| 50/50 [00:07<00:00,  6.40it/s, epoch=66/100, avg_epoch_loss=-4.02]\n",
            "100%|██████████| 50/50 [00:07<00:00,  6.43it/s, epoch=67/100, avg_epoch_loss=-4.26]\n",
            "100%|██████████| 50/50 [00:07<00:00,  6.52it/s, epoch=68/100, avg_epoch_loss=-4.27]\n",
            "100%|██████████| 50/50 [00:07<00:00,  6.55it/s, epoch=69/100, avg_epoch_loss=-4.25]\n",
            "100%|██████████| 50/50 [00:07<00:00,  6.55it/s, epoch=70/100, avg_epoch_loss=-4.11]\n",
            "100%|██████████| 50/50 [00:07<00:00,  6.60it/s, epoch=71/100, avg_epoch_loss=-4.24]\n",
            "100%|██████████| 50/50 [00:07<00:00,  6.59it/s, epoch=72/100, avg_epoch_loss=-4.35]\n",
            "100%|██████████| 50/50 [00:07<00:00,  6.39it/s, epoch=73/100, avg_epoch_loss=-4.28]\n",
            "100%|██████████| 50/50 [00:07<00:00,  6.45it/s, epoch=74/100, avg_epoch_loss=-4.22]\n",
            "100%|██████████| 50/50 [00:07<00:00,  6.66it/s, epoch=75/100, avg_epoch_loss=-4.15]\n",
            "100%|██████████| 50/50 [00:07<00:00,  6.58it/s, epoch=76/100, avg_epoch_loss=-4.05]\n",
            "100%|██████████| 50/50 [00:07<00:00,  6.65it/s, epoch=77/100, avg_epoch_loss=-4.27]\n",
            "100%|██████████| 50/50 [00:07<00:00,  6.55it/s, epoch=78/100, avg_epoch_loss=-3.8]\n",
            "100%|██████████| 50/50 [00:07<00:00,  6.44it/s, epoch=79/100, avg_epoch_loss=-4.16]\n",
            "100%|██████████| 50/50 [00:07<00:00,  6.46it/s, epoch=80/100, avg_epoch_loss=-4.19]\n",
            "100%|██████████| 50/50 [00:07<00:00,  6.59it/s, epoch=81/100, avg_epoch_loss=-4.09]\n",
            "100%|██████████| 50/50 [00:08<00:00,  6.25it/s, epoch=82/100, avg_epoch_loss=-4.23]\n",
            "100%|██████████| 50/50 [00:07<00:00,  6.45it/s, epoch=83/100, avg_epoch_loss=-4.28]\n",
            "100%|██████████| 50/50 [00:08<00:00,  6.20it/s, epoch=84/100, avg_epoch_loss=-4.23]\n",
            "100%|██████████| 50/50 [00:08<00:00,  6.25it/s, epoch=85/100, avg_epoch_loss=-4.32]\n",
            "100%|██████████| 50/50 [00:07<00:00,  6.32it/s, epoch=86/100, avg_epoch_loss=-4.31]\n",
            "100%|██████████| 50/50 [00:08<00:00,  6.00it/s, epoch=87/100, avg_epoch_loss=-4.29]\n",
            "100%|██████████| 50/50 [00:07<00:00,  6.34it/s, epoch=88/100, avg_epoch_loss=-4.32]\n",
            "100%|██████████| 50/50 [00:07<00:00,  6.34it/s, epoch=89/100, avg_epoch_loss=-4.35]\n",
            "100%|██████████| 50/50 [00:07<00:00,  6.50it/s, epoch=90/100, avg_epoch_loss=-4.36]\n",
            "100%|██████████| 50/50 [00:07<00:00,  6.56it/s, epoch=91/100, avg_epoch_loss=-4.36]\n",
            "100%|██████████| 50/50 [00:07<00:00,  6.63it/s, epoch=92/100, avg_epoch_loss=-4.24]\n",
            "100%|██████████| 50/50 [00:07<00:00,  6.45it/s, epoch=93/100, avg_epoch_loss=-4.29]\n",
            "100%|██████████| 50/50 [00:07<00:00,  6.44it/s, epoch=94/100, avg_epoch_loss=-4.36]\n",
            "100%|██████████| 50/50 [00:08<00:00,  6.21it/s, epoch=95/100, avg_epoch_loss=-4.25]\n",
            "100%|██████████| 50/50 [00:07<00:00,  6.27it/s, epoch=96/100, avg_epoch_loss=-4.25]\n",
            "100%|██████████| 50/50 [00:07<00:00,  6.56it/s, epoch=97/100, avg_epoch_loss=-4.23]\n",
            "100%|██████████| 50/50 [00:07<00:00,  6.34it/s, epoch=98/100, avg_epoch_loss=-4.25]\n",
            "100%|██████████| 50/50 [00:07<00:00,  6.40it/s, epoch=99/100, avg_epoch_loss=-4.32]\n",
            "100%|██████████| 50/50 [00:08<00:00,  6.07it/s, epoch=100/100, avg_epoch_loss=-4.39]\n"
          ],
          "name": "stderr"
        }
      ]
    },
    {
      "cell_type": "code",
      "metadata": {
        "colab_type": "code",
        "id": "H7vVKhYYUox1",
        "outputId": "00e4cf0d-d4fa-4d6c-bc50-dcecdd102f39",
        "colab": {
          "base_uri": "https://localhost:8080/",
          "height": 503
        }
      },
      "source": [
        "forecast_it, ts_it = make_evaluation_predictions(\n",
        "    dataset=exchange_rate_dataset.test, \n",
        "    predictor=DA_predictor, \n",
        "    num_samples=100, \n",
        ")\n",
        "\n",
        "forecasts = list(forecast_it)\n",
        "tss = list(ts_it)\n",
        "\n",
        "evaluator = Evaluator(quantiles=[0.1, 0.5, 0.9])\n",
        "agg_metrics, item_metrics = evaluator(iter(tss), iter(forecasts), num_series=len(exchange_rate_dataset.test))\n",
        "\n",
        "print(json.dumps(agg_metrics, indent=4))"
      ],
      "execution_count": 0,
      "outputs": [
        {
          "output_type": "stream",
          "text": [
            "Running evaluation: 100%|██████████| 40/40 [00:00<00:00, 612.87it/s]\n"
          ],
          "name": "stderr"
        },
        {
          "output_type": "stream",
          "text": [
            "{\n",
            "    \"MSE\": 0.00020185745454047804,\n",
            "    \"abs_error\": 10.993979050777853,\n",
            "    \"abs_target_sum\": 975.9766580164433,\n",
            "    \"abs_target_mean\": 0.8133138816803692,\n",
            "    \"seasonal_error\": 0.006515919403041841,\n",
            "    \"MASE\": 2.469324913488132,\n",
            "    \"MAPE\": 0.013480804579762298,\n",
            "    \"sMAPE\": 0.013343858052518864,\n",
            "    \"OWA\": NaN,\n",
            "    \"MSIS\": 37.279023397911615,\n",
            "    \"QuantileLoss[0.1]\": 4.870998585969209,\n",
            "    \"Coverage[0.1]\": 0.24333333333333335,\n",
            "    \"QuantileLoss[0.5]\": 10.993979051709175,\n",
            "    \"Coverage[0.5]\": 0.5800000000000001,\n",
            "    \"QuantileLoss[0.9]\": 4.811509300395846,\n",
            "    \"Coverage[0.9]\": 0.8683333333333334,\n",
            "    \"RMSE\": 0.01420765478678582,\n",
            "    \"NRMSE\": 0.01746884580087544,\n",
            "    \"ND\": 0.011264592201540772,\n",
            "    \"wQuantileLoss[0.1]\": 0.0049908966018397775,\n",
            "    \"wQuantileLoss[0.5]\": 0.01126459220249502,\n",
            "    \"wQuantileLoss[0.9]\": 0.0049299430072176804,\n",
            "    \"mean_wQuantileLoss\": 0.007061810603850826,\n",
            "    \"MAE_Coverage\": 0.085\n",
            "}\n"
          ],
          "name": "stdout"
        }
      ]
    },
    {
      "cell_type": "code",
      "metadata": {
        "colab_type": "code",
        "id": "XUHZBr5bUox4",
        "colab": {}
      },
      "source": [
        ""
      ],
      "execution_count": 0,
      "outputs": []
    },
    {
      "cell_type": "markdown",
      "metadata": {
        "id": "OjjjZv_uD7L_",
        "colab_type": "text"
      },
      "source": [
        "## m4_daily"
      ]
    },
    {
      "cell_type": "code",
      "metadata": {
        "id": "DpQOqBRpwUSK",
        "colab_type": "code",
        "outputId": "eab3df94-db09-4af1-9e6e-2a2a224fb27b",
        "colab": {
          "base_uri": "https://localhost:8080/",
          "height": 53
        }
      },
      "source": [
        "m4_daily_dataset = get_dataset(\"m4_daily\", regenerate=True)"
      ],
      "execution_count": 0,
      "outputs": [
        {
          "output_type": "stream",
          "text": [
            "saving time-series into /root/.mxnet/gluon-ts/datasets/m4_daily/train/data.json\n",
            "saving time-series into /root/.mxnet/gluon-ts/datasets/m4_daily/test/data.json\n"
          ],
          "name": "stdout"
        }
      ]
    },
    {
      "cell_type": "code",
      "metadata": {
        "id": "nDNzNbsqGOZ3",
        "colab_type": "code",
        "outputId": "31472d9d-551f-4315-bd2b-fcfe1a2c21b6",
        "colab": {
          "base_uri": "https://localhost:8080/",
          "height": 53
        }
      },
      "source": [
        "print (len(m4_daily_dataset.train))\n",
        "print (len(m4_daily_dataset.test))"
      ],
      "execution_count": 0,
      "outputs": [
        {
          "output_type": "stream",
          "text": [
            "4227\n",
            "4227\n"
          ],
          "name": "stdout"
        }
      ]
    },
    {
      "cell_type": "code",
      "metadata": {
        "id": "rARQuyPqE2E8",
        "colab_type": "code",
        "outputId": "16864d9e-7fe4-4042-cd64-f0f0da628b78",
        "colab": {
          "base_uri": "https://localhost:8080/",
          "height": 35
        }
      },
      "source": [
        "m4_daily_dataset.metadata"
      ],
      "execution_count": 0,
      "outputs": [
        {
          "output_type": "execute_result",
          "data": {
            "text/plain": [
              "MetaData(freq='D', target=None, feat_static_cat=[CategoricalFeatureInfo(name='feat_static_cat', cardinality='4227')], feat_static_real=[], feat_dynamic_real=[], feat_dynamic_cat=[], prediction_length=14)"
            ]
          },
          "metadata": {
            "tags": []
          },
          "execution_count": 30
        }
      ]
    },
    {
      "cell_type": "code",
      "metadata": {
        "colab_type": "code",
        "outputId": "cb50927a-5402-4aeb-f442-81b4566269ff",
        "id": "u8sgMUqCpR_t",
        "colab": {
          "base_uri": "https://localhost:8080/",
          "height": 35
        }
      },
      "source": [
        "m4_daily_dataset.metadata.feat_static_cat[0]"
      ],
      "execution_count": 0,
      "outputs": [
        {
          "output_type": "execute_result",
          "data": {
            "text/plain": [
              "CategoricalFeatureInfo(name='feat_static_cat', cardinality='4227')"
            ]
          },
          "metadata": {
            "tags": []
          },
          "execution_count": 31
        }
      ]
    },
    {
      "cell_type": "code",
      "metadata": {
        "colab_type": "code",
        "id": "frjgd9iNpR_w",
        "colab": {}
      },
      "source": [
        "car = [int(m4_daily_dataset.metadata.feat_static_cat[0].cardinality)]"
      ],
      "execution_count": 0,
      "outputs": []
    },
    {
      "cell_type": "code",
      "metadata": {
        "id": "f946ZalyEh4c",
        "colab_type": "code",
        "outputId": "1d410f28-d2f9-41c7-c7d2-cf6e53359f1f",
        "colab": {
          "base_uri": "https://localhost:8080/",
          "height": 35
        }
      },
      "source": [
        "next(iter(m4_daily_dataset.train)).keys()"
      ],
      "execution_count": 0,
      "outputs": [
        {
          "output_type": "execute_result",
          "data": {
            "text/plain": [
              "dict_keys(['start', 'target', 'feat_static_cat', 'item_id', 'source'])"
            ]
          },
          "metadata": {
            "tags": []
          },
          "execution_count": 35
        }
      ]
    },
    {
      "cell_type": "code",
      "metadata": {
        "id": "JtP-UGN0EBxc",
        "colab_type": "code",
        "colab": {}
      },
      "source": [
        "# https://gluon-ts.mxnet.io/api/gluonts/gluonts.model.deepar.html\n",
        "DA_estimator = DeepAREstimator(\n",
        "    freq=m4_daily_dataset.metadata.freq, \n",
        "    prediction_length=m4_daily_dataset.metadata.prediction_length,\n",
        "    trainer = deepar_trainer, # (default: Trainer())\n",
        "    context_length=None, # (default: None, in which case context_length = prediction_length)\n",
        "    num_layers=2, # (default: 2)\n",
        "    num_cells=40, # (default: 40)\n",
        "    cell_type='lstm', # (default: ‘lstm’)\n",
        "    dropout_rate=0.1, # (default: 0.1)\n",
        "    use_feat_dynamic_real=False, # (default: False)\n",
        "    use_feat_static_cat=True, # (default: False)\n",
        "    use_feat_static_real=False, # (default: False)\n",
        "    cardinality=car, # (default: None)\n",
        "    #embedding_dimension=[20], # (default: [min(50, (cat+1)//2) for cat in cardinality])\n",
        "    distr_output = StudentTOutput(), # (default: StudentTOutput())\n",
        "    scaling=True, # (default: true)\n",
        "    lags_seq=None, # (default: None, in which case these are automatically determined based on freq)\n",
        "    time_features=None, # (default: None, in which case these are automatically determined based on freq)\n",
        "    num_parallel_samples=100, # (default: 100)\n",
        ")"
      ],
      "execution_count": 0,
      "outputs": []
    },
    {
      "cell_type": "code",
      "metadata": {
        "id": "cNq_opQMF3sc",
        "colab_type": "code",
        "outputId": "7f179013-febb-4041-e197-a275886513c8",
        "colab": {
          "base_uri": "https://localhost:8080/",
          "height": 1000
        }
      },
      "source": [
        "DA_predictor = DA_estimator.train(m4_daily_dataset.train)"
      ],
      "execution_count": 0,
      "outputs": [
        {
          "output_type": "stream",
          "text": [
            "\r  0%|          | 0/50 [00:00<?, ?it/s]"
          ],
          "name": "stderr"
        },
        {
          "output_type": "stream",
          "text": [
            "learning rate from ``lr_scheduler`` has been overwritten by ``learning_rate`` in optimizer.\n"
          ],
          "name": "stdout"
        },
        {
          "output_type": "stream",
          "text": [
            "100%|██████████| 50/50 [00:03<00:00, 12.73it/s, epoch=1/100, avg_epoch_loss=7.6]\n",
            "100%|██████████| 50/50 [00:04<00:00, 11.15it/s, epoch=2/100, avg_epoch_loss=6.61]\n",
            "100%|██████████| 50/50 [00:04<00:00, 11.12it/s, epoch=3/100, avg_epoch_loss=6.58]\n",
            "100%|██████████| 50/50 [00:04<00:00, 11.38it/s, epoch=4/100, avg_epoch_loss=6.36]\n",
            "100%|██████████| 50/50 [00:04<00:00, 11.22it/s, epoch=5/100, avg_epoch_loss=6.6]\n",
            "100%|██████████| 50/50 [00:04<00:00, 11.33it/s, epoch=6/100, avg_epoch_loss=6.52]\n",
            "100%|██████████| 50/50 [00:04<00:00, 11.43it/s, epoch=7/100, avg_epoch_loss=6.31]\n",
            "100%|██████████| 50/50 [00:04<00:00, 10.70it/s, epoch=8/100, avg_epoch_loss=6.46]\n",
            "100%|██████████| 50/50 [00:04<00:00, 11.47it/s, epoch=9/100, avg_epoch_loss=6.18]\n",
            "100%|██████████| 50/50 [00:04<00:00, 11.65it/s, epoch=10/100, avg_epoch_loss=6.31]\n",
            "100%|██████████| 50/50 [00:04<00:00, 11.64it/s, epoch=11/100, avg_epoch_loss=6.32]\n",
            "100%|██████████| 50/50 [00:04<00:00, 11.89it/s, epoch=12/100, avg_epoch_loss=6.24]\n",
            "100%|██████████| 50/50 [00:04<00:00, 11.59it/s, epoch=13/100, avg_epoch_loss=6.51]\n",
            "100%|██████████| 50/50 [00:04<00:00, 10.81it/s, epoch=14/100, avg_epoch_loss=6.35]\n",
            "100%|██████████| 50/50 [00:04<00:00, 11.32it/s, epoch=15/100, avg_epoch_loss=6.14]\n",
            "100%|██████████| 50/50 [00:04<00:00, 11.80it/s, epoch=16/100, avg_epoch_loss=6.34]\n",
            "100%|██████████| 50/50 [00:04<00:00, 11.28it/s, epoch=17/100, avg_epoch_loss=6.2]\n",
            "100%|██████████| 50/50 [00:04<00:00, 11.20it/s, epoch=18/100, avg_epoch_loss=6.29]\n",
            "100%|██████████| 50/50 [00:04<00:00, 11.01it/s, epoch=19/100, avg_epoch_loss=6.57]\n",
            "100%|██████████| 50/50 [00:04<00:00, 11.55it/s, epoch=20/100, avg_epoch_loss=6.04]\n",
            "100%|██████████| 50/50 [00:04<00:00, 11.30it/s, epoch=21/100, avg_epoch_loss=6.38]\n",
            "100%|██████████| 50/50 [00:04<00:00, 11.16it/s, epoch=22/100, avg_epoch_loss=6.41]\n",
            "100%|██████████| 50/50 [00:04<00:00, 11.32it/s, epoch=23/100, avg_epoch_loss=6.3]\n",
            "100%|██████████| 50/50 [00:04<00:00, 10.96it/s, epoch=24/100, avg_epoch_loss=6.32]\n",
            "100%|██████████| 50/50 [00:04<00:00, 10.38it/s, epoch=25/100, avg_epoch_loss=6.17]\n",
            "100%|██████████| 50/50 [00:04<00:00, 11.22it/s, epoch=26/100, avg_epoch_loss=6.16]\n",
            "100%|██████████| 50/50 [00:04<00:00, 11.54it/s, epoch=27/100, avg_epoch_loss=6.33]\n",
            "100%|██████████| 50/50 [00:04<00:00, 11.65it/s, epoch=28/100, avg_epoch_loss=6.04]\n",
            "100%|██████████| 50/50 [00:04<00:00, 11.50it/s, epoch=29/100, avg_epoch_loss=6.32]\n",
            "100%|██████████| 50/50 [00:04<00:00, 11.14it/s, epoch=30/100, avg_epoch_loss=6.15]\n",
            "100%|██████████| 50/50 [00:04<00:00, 11.59it/s, epoch=31/100, avg_epoch_loss=6.15]\n",
            "100%|██████████| 50/50 [00:04<00:00, 11.34it/s, epoch=32/100, avg_epoch_loss=6.31]\n",
            "100%|██████████| 50/50 [00:04<00:00, 11.78it/s, epoch=33/100, avg_epoch_loss=6.36]\n",
            "100%|██████████| 50/50 [00:04<00:00, 11.68it/s, epoch=34/100, avg_epoch_loss=6.21]\n",
            "100%|██████████| 50/50 [00:04<00:00, 11.57it/s, epoch=35/100, avg_epoch_loss=6.78]\n",
            "100%|██████████| 50/50 [00:04<00:00, 11.91it/s, epoch=36/100, avg_epoch_loss=6.04]\n",
            "100%|██████████| 50/50 [00:04<00:00, 12.04it/s, epoch=37/100, avg_epoch_loss=6.51]\n",
            "100%|██████████| 50/50 [00:05<00:00,  9.70it/s, epoch=38/100, avg_epoch_loss=6.02]\n",
            "100%|██████████| 50/50 [00:06<00:00,  7.70it/s, epoch=39/100, avg_epoch_loss=6.32]\n",
            "100%|██████████| 50/50 [00:04<00:00, 11.11it/s, epoch=40/100, avg_epoch_loss=6.25]\n",
            "100%|██████████| 50/50 [00:04<00:00, 11.79it/s, epoch=41/100, avg_epoch_loss=6.14]\n",
            "100%|██████████| 50/50 [00:04<00:00, 11.53it/s, epoch=42/100, avg_epoch_loss=6.37]\n",
            "100%|██████████| 50/50 [00:04<00:00, 11.22it/s, epoch=43/100, avg_epoch_loss=6.42]\n",
            "100%|██████████| 50/50 [00:04<00:00, 11.53it/s, epoch=44/100, avg_epoch_loss=6.21]\n",
            "100%|██████████| 50/50 [00:04<00:00, 10.63it/s, epoch=45/100, avg_epoch_loss=6.06]\n",
            "100%|██████████| 50/50 [00:04<00:00, 10.54it/s, epoch=46/100, avg_epoch_loss=5.99]\n",
            "100%|██████████| 50/50 [00:04<00:00, 11.50it/s, epoch=47/100, avg_epoch_loss=6.14]\n",
            "100%|██████████| 50/50 [00:04<00:00, 11.25it/s, epoch=48/100, avg_epoch_loss=6.55]\n",
            "100%|██████████| 50/50 [00:04<00:00, 11.52it/s, epoch=49/100, avg_epoch_loss=6.31]\n",
            "100%|██████████| 50/50 [00:04<00:00, 11.39it/s, epoch=50/100, avg_epoch_loss=6.26]\n",
            "100%|██████████| 50/50 [00:04<00:00, 10.98it/s, epoch=51/100, avg_epoch_loss=6.06]\n",
            "100%|██████████| 50/50 [00:04<00:00, 11.45it/s, epoch=52/100, avg_epoch_loss=6.28]\n",
            "100%|██████████| 50/50 [00:04<00:00, 11.82it/s, epoch=53/100, avg_epoch_loss=6.24]\n",
            "100%|██████████| 50/50 [00:04<00:00, 11.34it/s, epoch=54/100, avg_epoch_loss=6.21]\n",
            "100%|██████████| 50/50 [00:04<00:00, 11.48it/s, epoch=55/100, avg_epoch_loss=6.2]\n",
            "100%|██████████| 50/50 [00:04<00:00, 11.42it/s, epoch=56/100, avg_epoch_loss=6.5]\n",
            "100%|██████████| 50/50 [00:04<00:00, 11.98it/s, epoch=57/100, avg_epoch_loss=6.01]\n",
            "100%|██████████| 50/50 [00:04<00:00, 11.00it/s, epoch=58/100, avg_epoch_loss=5.99]\n",
            "100%|██████████| 50/50 [00:04<00:00, 10.98it/s, epoch=59/100, avg_epoch_loss=5.99]\n",
            "100%|██████████| 50/50 [00:04<00:00, 11.61it/s, epoch=60/100, avg_epoch_loss=5.8]\n",
            "100%|██████████| 50/50 [00:04<00:00, 11.50it/s, epoch=61/100, avg_epoch_loss=6.04]\n",
            "100%|██████████| 50/50 [00:04<00:00, 10.78it/s, epoch=62/100, avg_epoch_loss=5.85]\n",
            "100%|██████████| 50/50 [00:04<00:00, 11.17it/s, epoch=63/100, avg_epoch_loss=6.17]\n",
            "100%|██████████| 50/50 [00:04<00:00, 10.54it/s, epoch=64/100, avg_epoch_loss=6.03]\n",
            "100%|██████████| 50/50 [00:04<00:00, 11.97it/s, epoch=65/100, avg_epoch_loss=5.98]\n",
            "100%|██████████| 50/50 [00:04<00:00, 11.49it/s, epoch=66/100, avg_epoch_loss=6.11]\n",
            "100%|██████████| 50/50 [00:04<00:00, 11.31it/s, epoch=67/100, avg_epoch_loss=6.09]\n",
            "100%|██████████| 50/50 [00:04<00:00, 11.77it/s, epoch=68/100, avg_epoch_loss=5.85]\n",
            "100%|██████████| 50/50 [00:04<00:00, 11.76it/s, epoch=69/100, avg_epoch_loss=5.96]\n",
            "100%|██████████| 50/50 [00:04<00:00, 11.20it/s, epoch=70/100, avg_epoch_loss=5.84]\n",
            "100%|██████████| 50/50 [00:04<00:00, 11.41it/s, epoch=71/100, avg_epoch_loss=5.92]\n",
            "100%|██████████| 50/50 [00:04<00:00, 11.34it/s, epoch=72/100, avg_epoch_loss=5.85]\n",
            "100%|██████████| 50/50 [00:04<00:00, 11.79it/s, epoch=73/100, avg_epoch_loss=5.76]\n",
            "100%|██████████| 50/50 [00:04<00:00, 11.55it/s, epoch=74/100, avg_epoch_loss=5.9]\n",
            "100%|██████████| 50/50 [00:04<00:00, 11.24it/s, epoch=75/100, avg_epoch_loss=5.83]\n",
            "100%|██████████| 50/50 [00:04<00:00, 11.44it/s, epoch=76/100, avg_epoch_loss=5.8]\n",
            "100%|██████████| 50/50 [00:04<00:00, 11.53it/s, epoch=77/100, avg_epoch_loss=5.93]\n",
            "100%|██████████| 50/50 [00:04<00:00, 11.74it/s, epoch=78/100, avg_epoch_loss=5.77]\n",
            "100%|██████████| 50/50 [00:04<00:00, 11.41it/s, epoch=79/100, avg_epoch_loss=5.96]\n",
            "100%|██████████| 50/50 [00:04<00:00, 11.01it/s, epoch=80/100, avg_epoch_loss=5.79]\n",
            "100%|██████████| 50/50 [00:04<00:00, 11.42it/s, epoch=81/100, avg_epoch_loss=5.65]\n",
            "100%|██████████| 50/50 [00:04<00:00, 11.42it/s, epoch=82/100, avg_epoch_loss=5.92]\n",
            "100%|██████████| 50/50 [00:04<00:00, 11.25it/s, epoch=83/100, avg_epoch_loss=5.77]\n",
            "100%|██████████| 50/50 [00:04<00:00, 11.48it/s, epoch=84/100, avg_epoch_loss=5.84]\n",
            "100%|██████████| 50/50 [00:04<00:00, 11.28it/s, epoch=85/100, avg_epoch_loss=5.88]\n",
            "100%|██████████| 50/50 [00:04<00:00, 11.46it/s, epoch=86/100, avg_epoch_loss=5.74]\n",
            "100%|██████████| 50/50 [00:04<00:00, 11.24it/s, epoch=87/100, avg_epoch_loss=5.92]\n",
            "100%|██████████| 50/50 [00:04<00:00, 10.65it/s, epoch=88/100, avg_epoch_loss=5.86]\n",
            "100%|██████████| 50/50 [00:04<00:00, 11.05it/s, epoch=89/100, avg_epoch_loss=5.77]\n",
            "100%|██████████| 50/50 [00:04<00:00, 11.36it/s, epoch=90/100, avg_epoch_loss=5.96]\n",
            "100%|██████████| 50/50 [00:04<00:00, 10.90it/s, epoch=91/100, avg_epoch_loss=5.69]\n",
            "100%|██████████| 50/50 [00:04<00:00, 11.25it/s, epoch=92/100, avg_epoch_loss=5.81]\n",
            "100%|██████████| 50/50 [00:04<00:00, 10.78it/s, epoch=93/100, avg_epoch_loss=5.86]\n",
            "100%|██████████| 50/50 [00:04<00:00, 11.03it/s, epoch=94/100, avg_epoch_loss=5.72]\n",
            "100%|██████████| 50/50 [00:04<00:00, 10.93it/s, epoch=95/100, avg_epoch_loss=5.82]\n",
            "100%|██████████| 50/50 [00:04<00:00, 11.23it/s, epoch=96/100, avg_epoch_loss=5.88]\n",
            "100%|██████████| 50/50 [00:04<00:00, 11.35it/s, epoch=97/100, avg_epoch_loss=5.68]\n",
            "100%|██████████| 50/50 [00:04<00:00, 11.74it/s, epoch=98/100, avg_epoch_loss=5.83]\n",
            "100%|██████████| 50/50 [00:04<00:00, 11.46it/s, epoch=99/100, avg_epoch_loss=5.66]\n",
            "100%|██████████| 50/50 [00:04<00:00, 11.71it/s, epoch=100/100, avg_epoch_loss=5.87]\n"
          ],
          "name": "stderr"
        }
      ]
    },
    {
      "cell_type": "code",
      "metadata": {
        "id": "xWBEgxcqGCMH",
        "colab_type": "code",
        "outputId": "9125261f-6646-43a0-91a3-ee5214f7de3a",
        "colab": {
          "base_uri": "https://localhost:8080/",
          "height": 503
        }
      },
      "source": [
        "forecast_it, ts_it = make_evaluation_predictions(\n",
        "    dataset=m4_daily_dataset.test, \n",
        "    predictor=DA_predictor, \n",
        "    num_samples=100, \n",
        ")\n",
        "\n",
        "forecasts = list(forecast_it)\n",
        "tss = list(ts_it)\n",
        "\n",
        "evaluator = Evaluator(quantiles=[0.1, 0.5, 0.9])\n",
        "agg_metrics, item_metrics = evaluator(iter(tss), iter(forecasts), num_series=len(m4_daily_dataset.test))\n",
        "\n",
        "print(json.dumps(agg_metrics, indent=4))"
      ],
      "execution_count": 0,
      "outputs": [
        {
          "output_type": "stream",
          "text": [
            "Running evaluation: 100%|██████████| 4227/4227 [00:00<00:00, 59198.18it/s]\n"
          ],
          "name": "stderr"
        },
        {
          "output_type": "stream",
          "text": [
            "{\n",
            "    \"MSE\": 436845.0172430013,\n",
            "    \"abs_error\": 13690204.931915283,\n",
            "    \"abs_target_sum\": 383097653.5168457,\n",
            "    \"abs_target_mean\": 6473.649895515986,\n",
            "    \"seasonal_error\": 52.78075560259988,\n",
            "    \"MASE\": 4.171115561491951,\n",
            "    \"MAPE\": 0.05080571587327816,\n",
            "    \"sMAPE\": 0.0376818238510894,\n",
            "    \"OWA\": NaN,\n",
            "    \"MSIS\": 64.47320681031154,\n",
            "    \"QuantileLoss[0.1]\": 7357084.496485901,\n",
            "    \"Coverage[0.1]\": 0.13422217716043125,\n",
            "    \"QuantileLoss[0.5]\": 13690204.932357788,\n",
            "    \"Coverage[0.5]\": 0.42870661394437237,\n",
            "    \"QuantileLoss[0.9]\": 8224832.873834228,\n",
            "    \"Coverage[0.9]\": 0.7754570955422619,\n",
            "    \"RMSE\": 660.9425218905207,\n",
            "    \"NRMSE\": 0.10209735351124358,\n",
            "    \"ND\": 0.03573554890310309,\n",
            "    \"wQuantileLoss[0.1]\": 0.019204201406476096,\n",
            "    \"wQuantileLoss[0.5]\": 0.03573554890425816,\n",
            "    \"wQuantileLoss[0.9]\": 0.0214692854376164,\n",
            "    \"mean_wQuantileLoss\": 0.02546967858278355,\n",
            "    \"MAE_Coverage\": 0.07668615589126565\n",
            "}\n"
          ],
          "name": "stdout"
        }
      ]
    },
    {
      "cell_type": "code",
      "metadata": {
        "id": "c3VyPD7vGh6w",
        "colab_type": "code",
        "colab": {}
      },
      "source": [
        ""
      ],
      "execution_count": 0,
      "outputs": []
    },
    {
      "cell_type": "markdown",
      "metadata": {
        "colab_type": "text",
        "id": "OWJ9jeRZO9GB"
      },
      "source": [
        "## m4_hourly"
      ]
    },
    {
      "cell_type": "code",
      "metadata": {
        "colab_type": "code",
        "outputId": "ebd8b19d-4336-47b1-ce97-6c1c2af85495",
        "id": "ZK99kK7fO9GE",
        "colab": {
          "base_uri": "https://localhost:8080/",
          "height": 53
        }
      },
      "source": [
        "m4_hourly_dataset = get_dataset(\"m4_hourly\", regenerate=False)"
      ],
      "execution_count": 0,
      "outputs": [
        {
          "output_type": "stream",
          "text": [
            "saving time-series into /root/.mxnet/gluon-ts/datasets/m4_hourly/train/data.json\n",
            "saving time-series into /root/.mxnet/gluon-ts/datasets/m4_hourly/test/data.json\n"
          ],
          "name": "stdout"
        }
      ]
    },
    {
      "cell_type": "code",
      "metadata": {
        "colab_type": "code",
        "outputId": "9e91e3f7-3514-4c55-e9e5-82a826e0ce82",
        "id": "tURfQTqXO9GJ",
        "colab": {
          "base_uri": "https://localhost:8080/",
          "height": 53
        }
      },
      "source": [
        "print (len(m4_hourly_dataset.train))\n",
        "print (len(m4_hourly_dataset.test))"
      ],
      "execution_count": 0,
      "outputs": [
        {
          "output_type": "stream",
          "text": [
            "414\n",
            "414\n"
          ],
          "name": "stdout"
        }
      ]
    },
    {
      "cell_type": "code",
      "metadata": {
        "colab_type": "code",
        "outputId": "e6ebf072-0234-438f-e4aa-ea9dd3ca6c61",
        "id": "aowwnwLcO9GM",
        "colab": {
          "base_uri": "https://localhost:8080/",
          "height": 35
        }
      },
      "source": [
        "m4_hourly_dataset.metadata"
      ],
      "execution_count": 0,
      "outputs": [
        {
          "output_type": "execute_result",
          "data": {
            "text/plain": [
              "MetaData(freq='H', target=None, feat_static_cat=[CategoricalFeatureInfo(name='feat_static_cat', cardinality='414')], feat_static_real=[], feat_dynamic_real=[], feat_dynamic_cat=[], prediction_length=48)"
            ]
          },
          "metadata": {
            "tags": []
          },
          "execution_count": 41
        }
      ]
    },
    {
      "cell_type": "code",
      "metadata": {
        "colab_type": "code",
        "outputId": "54db8767-2766-417c-eceb-462f86c41bdb",
        "id": "WGlNMgykpmSF",
        "colab": {
          "base_uri": "https://localhost:8080/",
          "height": 35
        }
      },
      "source": [
        "m4_hourly_dataset.metadata.feat_static_cat[0]"
      ],
      "execution_count": 0,
      "outputs": [
        {
          "output_type": "execute_result",
          "data": {
            "text/plain": [
              "CategoricalFeatureInfo(name='feat_static_cat', cardinality='414')"
            ]
          },
          "metadata": {
            "tags": []
          },
          "execution_count": 42
        }
      ]
    },
    {
      "cell_type": "code",
      "metadata": {
        "colab_type": "code",
        "id": "n8xjempNpmSJ",
        "colab": {}
      },
      "source": [
        "car = [int(m4_hourly_dataset.metadata.feat_static_cat[0].cardinality)]"
      ],
      "execution_count": 0,
      "outputs": []
    },
    {
      "cell_type": "code",
      "metadata": {
        "colab_type": "code",
        "outputId": "2ce0e5ff-35d1-4c53-bd3f-b2cc6cb39e2c",
        "id": "XJesCFZ8O9GX",
        "colab": {
          "base_uri": "https://localhost:8080/",
          "height": 35
        }
      },
      "source": [
        "next(iter(m4_hourly_dataset.train)).keys()"
      ],
      "execution_count": 0,
      "outputs": [
        {
          "output_type": "execute_result",
          "data": {
            "text/plain": [
              "dict_keys(['start', 'target', 'feat_static_cat', 'item_id', 'source'])"
            ]
          },
          "metadata": {
            "tags": []
          },
          "execution_count": 44
        }
      ]
    },
    {
      "cell_type": "code",
      "metadata": {
        "colab_type": "code",
        "id": "PD0vtfP8O9Gb",
        "colab": {}
      },
      "source": [
        "# https://gluon-ts.mxnet.io/api/gluonts/gluonts.model.deepar.html\n",
        "DA_estimator = DeepAREstimator(\n",
        "    freq=m4_hourly_dataset.metadata.freq, \n",
        "    prediction_length=m4_hourly_dataset.metadata.prediction_length,\n",
        "    trainer = deepar_trainer, # (default: Trainer())\n",
        "    context_length=None, # (default: None, in which case context_length = prediction_length)\n",
        "    num_layers=2, # (default: 2)\n",
        "    num_cells=40, # (default: 40)\n",
        "    cell_type='lstm', # (default: ‘lstm’)\n",
        "    dropout_rate=0.1, # (default: 0.1)\n",
        "    use_feat_dynamic_real=False, # (default: False)\n",
        "    use_feat_static_cat=True, # (default: False)\n",
        "    use_feat_static_real=False, # (default: False)\n",
        "    cardinality=car, # (default: None)\n",
        "    #embedding_dimension=[20], # (default: [min(50, (cat+1)//2) for cat in cardinality])\n",
        "    distr_output = StudentTOutput(), # (default: StudentTOutput())\n",
        "    scaling=True, # (default: true)\n",
        "    lags_seq=None, # (default: None, in which case these are automatically determined based on freq)\n",
        "    time_features=None, # (default: None, in which case these are automatically determined based on freq)\n",
        "    num_parallel_samples=100, # (default: 100)\n",
        ")"
      ],
      "execution_count": 0,
      "outputs": []
    },
    {
      "cell_type": "code",
      "metadata": {
        "colab_type": "code",
        "id": "Qf3ZGOpPO9Gf",
        "outputId": "77aabd8b-e8a8-4940-ef1f-a826a12e5f89",
        "colab": {
          "base_uri": "https://localhost:8080/",
          "height": 1000
        }
      },
      "source": [
        "DA_predictor = DA_estimator.train(m4_hourly_dataset.train)"
      ],
      "execution_count": 0,
      "outputs": [
        {
          "output_type": "stream",
          "text": [
            "\r  0%|          | 0/50 [00:00<?, ?it/s]"
          ],
          "name": "stderr"
        },
        {
          "output_type": "stream",
          "text": [
            "learning rate from ``lr_scheduler`` has been overwritten by ``learning_rate`` in optimizer.\n"
          ],
          "name": "stdout"
        },
        {
          "output_type": "stream",
          "text": [
            "100%|██████████| 50/50 [00:09<00:00,  5.37it/s, epoch=1/100, avg_epoch_loss=4.98]\n",
            "100%|██████████| 50/50 [00:08<00:00,  5.73it/s, epoch=2/100, avg_epoch_loss=4.76]\n",
            "100%|██████████| 50/50 [00:08<00:00,  5.68it/s, epoch=3/100, avg_epoch_loss=4.9]\n",
            "100%|██████████| 50/50 [00:08<00:00,  5.70it/s, epoch=4/100, avg_epoch_loss=4.34]\n",
            "100%|██████████| 50/50 [00:09<00:00,  5.52it/s, epoch=5/100, avg_epoch_loss=4.64]\n",
            "100%|██████████| 50/50 [00:08<00:00,  5.75it/s, epoch=6/100, avg_epoch_loss=4.49]\n",
            "100%|██████████| 50/50 [00:08<00:00,  5.71it/s, epoch=7/100, avg_epoch_loss=4.48]\n",
            "100%|██████████| 50/50 [00:08<00:00,  5.67it/s, epoch=8/100, avg_epoch_loss=4.82]\n",
            "100%|██████████| 50/50 [00:08<00:00,  5.69it/s, epoch=9/100, avg_epoch_loss=4.27]\n",
            "100%|██████████| 50/50 [00:08<00:00,  5.57it/s, epoch=10/100, avg_epoch_loss=4.48]\n",
            "100%|██████████| 50/50 [00:11<00:00,  4.41it/s, epoch=11/100, avg_epoch_loss=4.18]\n",
            "100%|██████████| 50/50 [00:08<00:00,  5.68it/s, epoch=12/100, avg_epoch_loss=4.62]\n",
            "100%|██████████| 50/50 [00:08<00:00,  5.76it/s, epoch=13/100, avg_epoch_loss=4.21]\n",
            "100%|██████████| 50/50 [00:09<00:00,  5.51it/s, epoch=14/100, avg_epoch_loss=4.51]\n",
            "100%|██████████| 50/50 [00:08<00:00,  5.75it/s, epoch=15/100, avg_epoch_loss=4.11]\n",
            "100%|██████████| 50/50 [00:08<00:00,  5.78it/s, epoch=16/100, avg_epoch_loss=4.02]\n",
            "100%|██████████| 50/50 [00:08<00:00,  5.81it/s, epoch=17/100, avg_epoch_loss=4.17]\n",
            "100%|██████████| 50/50 [00:08<00:00,  5.84it/s, epoch=18/100, avg_epoch_loss=3.83]\n",
            "100%|██████████| 50/50 [00:08<00:00,  5.80it/s, epoch=19/100, avg_epoch_loss=3.94]\n",
            "100%|██████████| 50/50 [00:08<00:00,  5.79it/s, epoch=20/100, avg_epoch_loss=3.87]\n",
            "100%|██████████| 50/50 [00:08<00:00,  5.81it/s, epoch=21/100, avg_epoch_loss=4.35]\n",
            "100%|██████████| 50/50 [00:08<00:00,  5.78it/s, epoch=22/100, avg_epoch_loss=3.97]\n",
            "100%|██████████| 50/50 [00:08<00:00,  5.81it/s, epoch=23/100, avg_epoch_loss=4.56]\n",
            "100%|██████████| 50/50 [00:08<00:00,  5.76it/s, epoch=24/100, avg_epoch_loss=3.89]\n",
            "100%|██████████| 50/50 [00:08<00:00,  5.73it/s, epoch=25/100, avg_epoch_loss=3.82]\n",
            "100%|██████████| 50/50 [00:08<00:00,  5.77it/s, epoch=26/100, avg_epoch_loss=4.35]\n",
            "100%|██████████| 50/50 [00:08<00:00,  5.78it/s, epoch=27/100, avg_epoch_loss=3.76]\n",
            "100%|██████████| 50/50 [00:08<00:00,  5.70it/s, epoch=28/100, avg_epoch_loss=4.38]\n",
            "100%|██████████| 50/50 [00:08<00:00,  5.68it/s, epoch=29/100, avg_epoch_loss=3.72]\n",
            "100%|██████████| 50/50 [00:08<00:00,  5.82it/s, epoch=30/100, avg_epoch_loss=4.36]\n",
            "100%|██████████| 50/50 [00:08<00:00,  5.77it/s, epoch=31/100, avg_epoch_loss=4.24]\n",
            "100%|██████████| 50/50 [00:08<00:00,  5.71it/s, epoch=32/100, avg_epoch_loss=4.2]\n",
            "100%|██████████| 50/50 [00:08<00:00,  5.68it/s, epoch=33/100, avg_epoch_loss=3.62]\n",
            "100%|██████████| 50/50 [00:08<00:00,  5.71it/s, epoch=34/100, avg_epoch_loss=4.22]\n",
            "100%|██████████| 50/50 [00:08<00:00,  5.75it/s, epoch=35/100, avg_epoch_loss=3.8]\n",
            "100%|██████████| 50/50 [00:08<00:00,  5.73it/s, epoch=36/100, avg_epoch_loss=3.98]\n",
            "100%|██████████| 50/50 [00:08<00:00,  5.76it/s, epoch=37/100, avg_epoch_loss=3.89]\n",
            "100%|██████████| 50/50 [00:08<00:00,  5.79it/s, epoch=38/100, avg_epoch_loss=3.99]\n",
            "100%|██████████| 50/50 [00:08<00:00,  5.75it/s, epoch=39/100, avg_epoch_loss=4.02]\n",
            "100%|██████████| 50/50 [00:08<00:00,  5.64it/s, epoch=40/100, avg_epoch_loss=4.15]\n",
            "100%|██████████| 50/50 [00:08<00:00,  5.59it/s, epoch=41/100, avg_epoch_loss=3.6]\n",
            "100%|██████████| 50/50 [00:08<00:00,  5.75it/s, epoch=42/100, avg_epoch_loss=4]\n",
            "100%|██████████| 50/50 [00:08<00:00,  5.78it/s, epoch=43/100, avg_epoch_loss=3.44]\n",
            "100%|██████████| 50/50 [00:08<00:00,  5.79it/s, epoch=44/100, avg_epoch_loss=4.19]\n",
            "100%|██████████| 50/50 [00:08<00:00,  5.73it/s, epoch=45/100, avg_epoch_loss=3.77]\n",
            "100%|██████████| 50/50 [00:08<00:00,  5.66it/s, epoch=46/100, avg_epoch_loss=3.94]\n",
            "100%|██████████| 50/50 [00:08<00:00,  5.72it/s, epoch=47/100, avg_epoch_loss=3.79]\n",
            "100%|██████████| 50/50 [00:08<00:00,  5.69it/s, epoch=48/100, avg_epoch_loss=3.94]\n",
            "100%|██████████| 50/50 [00:09<00:00,  5.42it/s, epoch=49/100, avg_epoch_loss=3.73]\n",
            "100%|██████████| 50/50 [00:09<00:00,  5.55it/s, epoch=50/100, avg_epoch_loss=3.76]\n",
            "100%|██████████| 50/50 [00:08<00:00,  5.70it/s, epoch=51/100, avg_epoch_loss=4.26]\n",
            "100%|██████████| 50/50 [00:08<00:00,  5.70it/s, epoch=52/100, avg_epoch_loss=3.87]\n",
            "100%|██████████| 50/50 [00:08<00:00,  5.78it/s, epoch=53/100, avg_epoch_loss=3.62]\n",
            "100%|██████████| 50/50 [00:08<00:00,  5.69it/s, epoch=54/100, avg_epoch_loss=4.22]\n",
            "100%|██████████| 50/50 [00:08<00:00,  5.74it/s, epoch=55/100, avg_epoch_loss=3.74]\n",
            "100%|██████████| 50/50 [00:08<00:00,  5.70it/s, epoch=56/100, avg_epoch_loss=3.29]\n",
            "100%|██████████| 50/50 [00:08<00:00,  5.77it/s, epoch=57/100, avg_epoch_loss=3.74]\n",
            "100%|██████████| 50/50 [00:08<00:00,  5.69it/s, epoch=58/100, avg_epoch_loss=3.99]\n",
            "100%|██████████| 50/50 [00:08<00:00,  5.71it/s, epoch=59/100, avg_epoch_loss=3.71]\n",
            "100%|██████████| 50/50 [00:08<00:00,  5.81it/s, epoch=60/100, avg_epoch_loss=3.35]\n",
            "100%|██████████| 50/50 [00:08<00:00,  5.77it/s, epoch=61/100, avg_epoch_loss=4.13]\n",
            "100%|██████████| 50/50 [00:08<00:00,  5.83it/s, epoch=62/100, avg_epoch_loss=3.54]\n",
            "100%|██████████| 50/50 [00:08<00:00,  5.84it/s, epoch=63/100, avg_epoch_loss=3.29]\n",
            "100%|██████████| 50/50 [00:08<00:00,  5.81it/s, epoch=64/100, avg_epoch_loss=4.06]\n",
            "100%|██████████| 50/50 [00:08<00:00,  5.78it/s, epoch=65/100, avg_epoch_loss=3.37]\n",
            "100%|██████████| 50/50 [00:08<00:00,  5.66it/s, epoch=66/100, avg_epoch_loss=3.31]\n",
            "100%|██████████| 50/50 [00:08<00:00,  5.75it/s, epoch=67/100, avg_epoch_loss=3.45]\n",
            "100%|██████████| 50/50 [00:08<00:00,  5.82it/s, epoch=68/100, avg_epoch_loss=3.35]\n",
            "100%|██████████| 50/50 [00:08<00:00,  5.82it/s, epoch=69/100, avg_epoch_loss=3.14]\n",
            "100%|██████████| 50/50 [00:08<00:00,  5.77it/s, epoch=70/100, avg_epoch_loss=3.81]\n",
            "100%|██████████| 50/50 [00:08<00:00,  5.80it/s, epoch=71/100, avg_epoch_loss=3.89]\n",
            "100%|██████████| 50/50 [00:08<00:00,  5.76it/s, epoch=72/100, avg_epoch_loss=3.74]\n",
            "100%|██████████| 50/50 [00:08<00:00,  5.67it/s, epoch=73/100, avg_epoch_loss=3.3]\n",
            "100%|██████████| 50/50 [00:08<00:00,  5.70it/s, epoch=74/100, avg_epoch_loss=3.4]\n",
            "100%|██████████| 50/50 [00:08<00:00,  5.66it/s, epoch=75/100, avg_epoch_loss=3.47]\n",
            "100%|██████████| 50/50 [00:09<00:00,  5.42it/s, epoch=76/100, avg_epoch_loss=3.29]\n",
            "100%|██████████| 50/50 [00:08<00:00,  5.67it/s, epoch=77/100, avg_epoch_loss=3.53]\n",
            "100%|██████████| 50/50 [00:08<00:00,  5.75it/s, epoch=78/100, avg_epoch_loss=3.79]\n",
            "100%|██████████| 50/50 [00:08<00:00,  5.74it/s, epoch=79/100, avg_epoch_loss=3.31]\n",
            "100%|██████████| 50/50 [00:11<00:00,  4.44it/s, epoch=80/100, avg_epoch_loss=3.27]\n",
            "100%|██████████| 50/50 [00:08<00:00,  5.71it/s, epoch=81/100, avg_epoch_loss=3.22]\n",
            "100%|██████████| 50/50 [00:08<00:00,  5.68it/s, epoch=82/100, avg_epoch_loss=3.18]\n",
            "100%|██████████| 50/50 [00:08<00:00,  5.74it/s, epoch=83/100, avg_epoch_loss=3.24]\n",
            "100%|██████████| 50/50 [00:08<00:00,  5.57it/s, epoch=84/100, avg_epoch_loss=3.42]\n",
            "100%|██████████| 50/50 [00:08<00:00,  5.81it/s, epoch=85/100, avg_epoch_loss=3.39]\n",
            "100%|██████████| 50/50 [00:08<00:00,  5.76it/s, epoch=86/100, avg_epoch_loss=3.19]\n",
            "100%|██████████| 50/50 [00:08<00:00,  5.64it/s, epoch=87/100, avg_epoch_loss=3.37]\n",
            "100%|██████████| 50/50 [00:08<00:00,  5.68it/s, epoch=88/100, avg_epoch_loss=3.84]\n",
            "100%|██████████| 50/50 [00:08<00:00,  5.76it/s, epoch=89/100, avg_epoch_loss=3.2]\n",
            "100%|██████████| 50/50 [00:08<00:00,  5.70it/s, epoch=90/100, avg_epoch_loss=3.28]\n",
            "100%|██████████| 50/50 [00:08<00:00,  5.80it/s, epoch=91/100, avg_epoch_loss=3.42]\n",
            "100%|██████████| 50/50 [00:08<00:00,  5.77it/s, epoch=92/100, avg_epoch_loss=3.34]\n",
            "100%|██████████| 50/50 [00:08<00:00,  5.69it/s, epoch=93/100, avg_epoch_loss=3.46]\n",
            "100%|██████████| 50/50 [00:08<00:00,  5.67it/s, epoch=94/100, avg_epoch_loss=3.35]\n",
            "100%|██████████| 50/50 [00:08<00:00,  5.78it/s, epoch=95/100, avg_epoch_loss=3.16]\n",
            "100%|██████████| 50/50 [00:08<00:00,  5.73it/s, epoch=96/100, avg_epoch_loss=3.37]\n",
            "100%|██████████| 50/50 [00:08<00:00,  5.72it/s, epoch=97/100, avg_epoch_loss=3.18]\n",
            "100%|██████████| 50/50 [00:08<00:00,  5.77it/s, epoch=98/100, avg_epoch_loss=3.35]\n",
            "100%|██████████| 50/50 [00:08<00:00,  5.73it/s, epoch=99/100, avg_epoch_loss=3.23]\n",
            "100%|██████████| 50/50 [00:08<00:00,  5.75it/s, epoch=100/100, avg_epoch_loss=3.21]\n"
          ],
          "name": "stderr"
        }
      ]
    },
    {
      "cell_type": "code",
      "metadata": {
        "colab_type": "code",
        "id": "ow_Vpx0MO9Gi",
        "outputId": "0a3227b7-c0b4-4517-b9c9-a66505f9ee38",
        "colab": {
          "base_uri": "https://localhost:8080/",
          "height": 503
        }
      },
      "source": [
        "forecast_it, ts_it = make_evaluation_predictions(\n",
        "    dataset=m4_hourly_dataset.test, \n",
        "    predictor=DA_predictor, \n",
        "    num_samples=100, \n",
        ")\n",
        "\n",
        "forecasts = list(forecast_it)\n",
        "tss = list(ts_it)\n",
        "\n",
        "evaluator = Evaluator(quantiles=[0.1, 0.5, 0.9])\n",
        "agg_metrics, item_metrics = evaluator(iter(tss), iter(forecasts), num_series=len(m4_hourly_dataset.test))\n",
        "\n",
        "print(json.dumps(agg_metrics, indent=4))"
      ],
      "execution_count": 0,
      "outputs": [
        {
          "output_type": "stream",
          "text": [
            "Running evaluation: 100%|██████████| 414/414 [00:00<00:00, 7404.27it/s]\n"
          ],
          "name": "stderr"
        },
        {
          "output_type": "stream",
          "text": [
            "{\n",
            "    \"MSE\": 4756232.727302222,\n",
            "    \"abs_error\": 9141971.046258926,\n",
            "    \"abs_target_sum\": 145558863.59960938,\n",
            "    \"abs_target_mean\": 7324.822041043147,\n",
            "    \"seasonal_error\": 336.9046924038302,\n",
            "    \"MASE\": 2.7229756432481858,\n",
            "    \"MAPE\": 0.14478938542164052,\n",
            "    \"sMAPE\": 0.12356179884852575,\n",
            "    \"OWA\": NaN,\n",
            "    \"MSIS\": 28.007460949354602,\n",
            "    \"QuantileLoss[0.1]\": 5664822.299430752,\n",
            "    \"Coverage[0.1]\": 0.2975543478260868,\n",
            "    \"QuantileLoss[0.5]\": 9141971.167381763,\n",
            "    \"Coverage[0.5]\": 0.7462258454106276,\n",
            "    \"QuantileLoss[0.9]\": 3604911.2483688346,\n",
            "    \"Coverage[0.9]\": 0.9298510466988733,\n",
            "    \"RMSE\": 2180.8788887286296,\n",
            "    \"NRMSE\": 0.2977381397812151,\n",
            "    \"ND\": 0.06280600727555735,\n",
            "    \"wQuantileLoss[0.1]\": 0.03891774200032951,\n",
            "    \"wQuantileLoss[0.5]\": 0.06280600810768007,\n",
            "    \"wQuantileLoss[0.9]\": 0.024766002971037957,\n",
            "    \"mean_wQuantileLoss\": 0.04216325102634918,\n",
            "    \"MAE_Coverage\": 0.15787707997852926\n",
            "}\n"
          ],
          "name": "stdout"
        }
      ]
    },
    {
      "cell_type": "code",
      "metadata": {
        "colab_type": "code",
        "id": "fA1nNCJGO9Gl",
        "colab": {}
      },
      "source": [
        ""
      ],
      "execution_count": 0,
      "outputs": []
    },
    {
      "cell_type": "markdown",
      "metadata": {
        "colab_type": "text",
        "id": "h0WoHFeGPo0-"
      },
      "source": [
        "## m4_monthly"
      ]
    },
    {
      "cell_type": "code",
      "metadata": {
        "colab_type": "code",
        "outputId": "6824d88a-3be7-452d-9507-10e25bce3279",
        "id": "7IE6C9pnPo1B",
        "colab": {
          "base_uri": "https://localhost:8080/",
          "height": 53
        }
      },
      "source": [
        "m4_monthly_dataset = get_dataset(\"m4_monthly\", regenerate=False)"
      ],
      "execution_count": 0,
      "outputs": [
        {
          "output_type": "stream",
          "text": [
            "saving time-series into /root/.mxnet/gluon-ts/datasets/m4_monthly/train/data.json\n",
            "saving time-series into /root/.mxnet/gluon-ts/datasets/m4_monthly/test/data.json\n"
          ],
          "name": "stdout"
        }
      ]
    },
    {
      "cell_type": "code",
      "metadata": {
        "colab_type": "code",
        "outputId": "66ef4f58-cb27-4028-8802-f9c2ae8aa130",
        "id": "WIotX52YPo1J",
        "colab": {
          "base_uri": "https://localhost:8080/",
          "height": 53
        }
      },
      "source": [
        "print (len(m4_monthly_dataset.train))\n",
        "print (len(m4_monthly_dataset.test))"
      ],
      "execution_count": 0,
      "outputs": [
        {
          "output_type": "stream",
          "text": [
            "48000\n",
            "48000\n"
          ],
          "name": "stdout"
        }
      ]
    },
    {
      "cell_type": "code",
      "metadata": {
        "colab_type": "code",
        "outputId": "c64e78d8-4e13-4a6a-971f-aa9af3d45bbe",
        "id": "A1suOzU0Po1P",
        "colab": {
          "base_uri": "https://localhost:8080/",
          "height": 35
        }
      },
      "source": [
        "m4_monthly_dataset.metadata"
      ],
      "execution_count": 0,
      "outputs": [
        {
          "output_type": "execute_result",
          "data": {
            "text/plain": [
              "MetaData(freq='M', target=None, feat_static_cat=[CategoricalFeatureInfo(name='feat_static_cat', cardinality='48000')], feat_static_real=[], feat_dynamic_real=[], feat_dynamic_cat=[], prediction_length=18)"
            ]
          },
          "metadata": {
            "tags": []
          },
          "execution_count": 50
        }
      ]
    },
    {
      "cell_type": "code",
      "metadata": {
        "colab_type": "code",
        "outputId": "596c602c-f50e-4313-bda1-3d6a8380f3c3",
        "id": "rIAlQ1Abp2ZL",
        "colab": {
          "base_uri": "https://localhost:8080/",
          "height": 35
        }
      },
      "source": [
        "m4_monthly_dataset.metadata.feat_static_cat[0]"
      ],
      "execution_count": 0,
      "outputs": [
        {
          "output_type": "execute_result",
          "data": {
            "text/plain": [
              "CategoricalFeatureInfo(name='feat_static_cat', cardinality='48000')"
            ]
          },
          "metadata": {
            "tags": []
          },
          "execution_count": 51
        }
      ]
    },
    {
      "cell_type": "code",
      "metadata": {
        "colab_type": "code",
        "id": "VQy--9c5p2ZS",
        "colab": {}
      },
      "source": [
        "car = [int(m4_monthly_dataset.metadata.feat_static_cat[0].cardinality)]"
      ],
      "execution_count": 0,
      "outputs": []
    },
    {
      "cell_type": "code",
      "metadata": {
        "colab_type": "code",
        "outputId": "dadbd01b-7f50-4bc5-c192-796bb30d8d82",
        "id": "Jpn1PJzGPo1U",
        "colab": {
          "base_uri": "https://localhost:8080/",
          "height": 35
        }
      },
      "source": [
        "next(iter(m4_monthly_dataset.train)).keys()"
      ],
      "execution_count": 0,
      "outputs": [
        {
          "output_type": "execute_result",
          "data": {
            "text/plain": [
              "dict_keys(['start', 'target', 'feat_static_cat', 'item_id', 'source'])"
            ]
          },
          "metadata": {
            "tags": []
          },
          "execution_count": 53
        }
      ]
    },
    {
      "cell_type": "code",
      "metadata": {
        "colab_type": "code",
        "id": "0Z48itnDPo1b",
        "colab": {}
      },
      "source": [
        "# https://gluon-ts.mxnet.io/api/gluonts/gluonts.model.deepar.html\n",
        "DA_estimator = DeepAREstimator(\n",
        "    freq=m4_monthly_dataset.metadata.freq, \n",
        "    prediction_length=m4_monthly_dataset.metadata.prediction_length,\n",
        "    trainer = deepar_trainer, # (default: Trainer())\n",
        "    context_length=None, # (default: None, in which case context_length = prediction_length)\n",
        "    num_layers=2, # (default: 2)\n",
        "    num_cells=40, # (default: 40)\n",
        "    cell_type='lstm', # (default: ‘lstm’)\n",
        "    dropout_rate=0.1, # (default: 0.1)\n",
        "    use_feat_dynamic_real=False, # (default: False)\n",
        "    use_feat_static_cat=True, # (default: False)\n",
        "    use_feat_static_real=False, # (default: False)\n",
        "    cardinality=car, # (default: None)\n",
        "    #embedding_dimension=[20], # (default: [min(50, (cat+1)//2) for cat in cardinality])\n",
        "    distr_output = StudentTOutput(), # (default: StudentTOutput())\n",
        "    scaling=True, # (default: true)\n",
        "    lags_seq=None, # (default: None, in which case these are automatically determined based on freq)\n",
        "    time_features=None, # (default: None, in which case these are automatically determined based on freq)\n",
        "    num_parallel_samples=100, # (default: 100)\n",
        ")"
      ],
      "execution_count": 0,
      "outputs": []
    },
    {
      "cell_type": "code",
      "metadata": {
        "colab_type": "code",
        "id": "FynbtKogPo1f",
        "outputId": "380053d4-459f-405a-e8c1-34e6ed35ed56",
        "colab": {
          "base_uri": "https://localhost:8080/",
          "height": 1000
        }
      },
      "source": [
        "DA_predictor = DA_estimator.train(m4_monthly_dataset.train)"
      ],
      "execution_count": 0,
      "outputs": [
        {
          "output_type": "stream",
          "text": [
            "\r  0%|          | 0/50 [00:00<?, ?it/s]"
          ],
          "name": "stderr"
        },
        {
          "output_type": "stream",
          "text": [
            "learning rate from ``lr_scheduler`` has been overwritten by ``learning_rate`` in optimizer.\n"
          ],
          "name": "stdout"
        },
        {
          "output_type": "stream",
          "text": [
            "100%|██████████| 50/50 [00:05<00:00,  9.47it/s, epoch=1/100, avg_epoch_loss=8.1]\n",
            "100%|██████████| 50/50 [00:04<00:00, 10.64it/s, epoch=2/100, avg_epoch_loss=7.24]\n",
            "100%|██████████| 50/50 [00:04<00:00, 11.14it/s, epoch=3/100, avg_epoch_loss=7.74]\n",
            "100%|██████████| 50/50 [00:04<00:00, 10.99it/s, epoch=4/100, avg_epoch_loss=7.66]\n",
            "100%|██████████| 50/50 [00:05<00:00,  9.69it/s, epoch=5/100, avg_epoch_loss=7.76]\n",
            "100%|██████████| 50/50 [00:04<00:00, 11.12it/s, epoch=6/100, avg_epoch_loss=6.63]\n",
            "100%|██████████| 50/50 [00:04<00:00, 11.13it/s, epoch=7/100, avg_epoch_loss=6.27]\n",
            "100%|██████████| 50/50 [00:04<00:00, 11.24it/s, epoch=8/100, avg_epoch_loss=7.6]\n",
            "100%|██████████| 50/50 [00:04<00:00, 11.53it/s, epoch=9/100, avg_epoch_loss=7.41]\n",
            "100%|██████████| 50/50 [00:05<00:00,  9.52it/s, epoch=10/100, avg_epoch_loss=7.74]\n",
            "100%|██████████| 50/50 [00:04<00:00, 11.22it/s, epoch=11/100, avg_epoch_loss=6.88]\n",
            "100%|██████████| 50/50 [00:04<00:00, 11.60it/s, epoch=12/100, avg_epoch_loss=6.15]\n",
            "100%|██████████| 50/50 [00:04<00:00, 11.61it/s, epoch=13/100, avg_epoch_loss=6.77]\n",
            "100%|██████████| 50/50 [00:04<00:00, 11.47it/s, epoch=14/100, avg_epoch_loss=6.81]\n",
            "100%|██████████| 50/50 [00:04<00:00, 11.49it/s, epoch=15/100, avg_epoch_loss=6.84]\n",
            "100%|██████████| 50/50 [00:04<00:00, 11.59it/s, epoch=16/100, avg_epoch_loss=6.45]\n",
            "100%|██████████| 50/50 [00:04<00:00, 11.19it/s, epoch=17/100, avg_epoch_loss=6.65]\n",
            "100%|██████████| 50/50 [00:04<00:00, 11.26it/s, epoch=18/100, avg_epoch_loss=6.32]\n",
            "100%|██████████| 50/50 [00:04<00:00, 11.41it/s, epoch=19/100, avg_epoch_loss=7.6]\n",
            "100%|██████████| 50/50 [00:04<00:00, 10.35it/s, epoch=20/100, avg_epoch_loss=7.93]\n",
            "100%|██████████| 50/50 [00:04<00:00, 11.12it/s, epoch=21/100, avg_epoch_loss=7.23]\n",
            "100%|██████████| 50/50 [00:04<00:00, 11.20it/s, epoch=22/100, avg_epoch_loss=6.46]\n",
            "100%|██████████| 50/50 [00:04<00:00, 11.12it/s, epoch=23/100, avg_epoch_loss=6.68]\n",
            "100%|██████████| 50/50 [00:04<00:00, 10.95it/s, epoch=24/100, avg_epoch_loss=7.01]\n",
            "100%|██████████| 50/50 [00:04<00:00, 10.89it/s, epoch=25/100, avg_epoch_loss=7.49]\n",
            "100%|██████████| 50/50 [00:04<00:00, 10.88it/s, epoch=26/100, avg_epoch_loss=7.1]\n",
            "100%|██████████| 50/50 [00:04<00:00, 10.46it/s, epoch=27/100, avg_epoch_loss=7.29]\n",
            "100%|██████████| 50/50 [00:05<00:00,  9.96it/s, epoch=28/100, avg_epoch_loss=6.77]\n",
            "100%|██████████| 50/50 [00:04<00:00, 11.65it/s, epoch=29/100, avg_epoch_loss=6.35]\n",
            "100%|██████████| 50/50 [00:04<00:00, 11.56it/s, epoch=30/100, avg_epoch_loss=7]\n",
            "100%|██████████| 50/50 [00:04<00:00, 11.52it/s, epoch=31/100, avg_epoch_loss=7.6]\n",
            "100%|██████████| 50/50 [00:04<00:00, 11.43it/s, epoch=32/100, avg_epoch_loss=7.11]\n",
            "100%|██████████| 50/50 [00:04<00:00, 11.03it/s, epoch=33/100, avg_epoch_loss=8.02]\n",
            "100%|██████████| 50/50 [00:04<00:00, 10.32it/s, epoch=34/100, avg_epoch_loss=7.29]\n",
            "100%|██████████| 50/50 [00:04<00:00, 11.56it/s, epoch=35/100, avg_epoch_loss=6.18]\n",
            "100%|██████████| 50/50 [00:04<00:00, 11.21it/s, epoch=36/100, avg_epoch_loss=5.91]\n",
            "100%|██████████| 50/50 [00:04<00:00, 11.30it/s, epoch=37/100, avg_epoch_loss=7.78]\n",
            "100%|██████████| 50/50 [00:04<00:00, 11.33it/s, epoch=38/100, avg_epoch_loss=7.26]\n",
            "100%|██████████| 50/50 [00:05<00:00,  9.56it/s, epoch=39/100, avg_epoch_loss=7.71]\n",
            "100%|██████████| 50/50 [00:04<00:00, 11.52it/s, epoch=40/100, avg_epoch_loss=6.87]\n",
            "100%|██████████| 50/50 [00:04<00:00, 11.68it/s, epoch=41/100, avg_epoch_loss=6.12]\n",
            "100%|██████████| 50/50 [00:04<00:00, 11.41it/s, epoch=42/100, avg_epoch_loss=6.59]\n",
            "100%|██████████| 50/50 [00:04<00:00, 11.58it/s, epoch=43/100, avg_epoch_loss=6.83]\n",
            "100%|██████████| 50/50 [00:04<00:00, 11.38it/s, epoch=44/100, avg_epoch_loss=6.76]\n",
            "100%|██████████| 50/50 [00:04<00:00, 11.41it/s, epoch=45/100, avg_epoch_loss=6.45]\n",
            "100%|██████████| 50/50 [00:04<00:00, 11.07it/s, epoch=46/100, avg_epoch_loss=6.61]\n",
            "100%|██████████| 50/50 [00:04<00:00, 11.13it/s, epoch=47/100, avg_epoch_loss=6.01]\n",
            "100%|██████████| 50/50 [00:04<00:00, 11.43it/s, epoch=48/100, avg_epoch_loss=7.8]\n",
            "100%|██████████| 50/50 [00:04<00:00, 10.64it/s, epoch=49/100, avg_epoch_loss=8.08]\n",
            "100%|██████████| 50/50 [00:04<00:00, 10.55it/s, epoch=50/100, avg_epoch_loss=7.59]\n",
            "100%|██████████| 50/50 [00:04<00:00, 11.07it/s, epoch=51/100, avg_epoch_loss=6.69]\n",
            "100%|██████████| 50/50 [00:04<00:00, 11.59it/s, epoch=52/100, avg_epoch_loss=6.55]\n",
            "100%|██████████| 50/50 [00:04<00:00, 10.44it/s, epoch=53/100, avg_epoch_loss=7.01]\n",
            "100%|██████████| 50/50 [00:04<00:00, 10.88it/s, epoch=54/100, avg_epoch_loss=7.2]\n",
            "100%|██████████| 50/50 [00:04<00:00, 10.75it/s, epoch=55/100, avg_epoch_loss=7.4]\n",
            "100%|██████████| 50/50 [00:04<00:00, 10.44it/s, epoch=56/100, avg_epoch_loss=7.21]\n",
            "100%|██████████| 50/50 [00:04<00:00, 11.21it/s, epoch=57/100, avg_epoch_loss=7.51]\n",
            "100%|██████████| 50/50 [00:04<00:00, 11.72it/s, epoch=58/100, avg_epoch_loss=6.37]\n",
            "100%|██████████| 50/50 [00:05<00:00,  9.56it/s, epoch=59/100, avg_epoch_loss=6.7]\n",
            "100%|██████████| 50/50 [00:05<00:00,  9.42it/s, epoch=60/100, avg_epoch_loss=7.43]\n",
            "100%|██████████| 50/50 [00:04<00:00, 11.63it/s, epoch=61/100, avg_epoch_loss=7.89]\n",
            "100%|██████████| 50/50 [00:04<00:00, 11.48it/s, epoch=62/100, avg_epoch_loss=7.33]\n",
            "100%|██████████| 50/50 [00:04<00:00, 10.29it/s, epoch=63/100, avg_epoch_loss=7.51]\n",
            "100%|██████████| 50/50 [00:04<00:00, 11.51it/s, epoch=64/100, avg_epoch_loss=6.59]\n",
            "100%|██████████| 50/50 [00:04<00:00, 11.57it/s, epoch=65/100, avg_epoch_loss=6.11]\n",
            "100%|██████████| 50/50 [00:04<00:00, 11.29it/s, epoch=66/100, avg_epoch_loss=6.58]\n",
            "100%|██████████| 50/50 [00:04<00:00, 11.13it/s, epoch=67/100, avg_epoch_loss=8.01]\n",
            "100%|██████████| 50/50 [00:04<00:00, 10.76it/s, epoch=68/100, avg_epoch_loss=7.58]\n",
            "100%|██████████| 50/50 [00:05<00:00,  9.90it/s, epoch=69/100, avg_epoch_loss=8.11]\n",
            "100%|██████████| 50/50 [00:04<00:00, 11.75it/s, epoch=70/100, avg_epoch_loss=6.35]\n",
            "100%|██████████| 50/50 [00:04<00:00, 11.65it/s, epoch=71/100, avg_epoch_loss=6.22]\n",
            "100%|██████████| 50/50 [00:04<00:00, 11.37it/s, epoch=72/100, avg_epoch_loss=6.83]\n",
            "100%|██████████| 50/50 [00:04<00:00, 11.33it/s, epoch=73/100, avg_epoch_loss=6.85]\n",
            "100%|██████████| 50/50 [00:04<00:00, 11.73it/s, epoch=74/100, avg_epoch_loss=6.78]\n",
            "100%|██████████| 50/50 [00:04<00:00, 11.73it/s, epoch=75/100, avg_epoch_loss=6.48]\n",
            "100%|██████████| 50/50 [00:04<00:00, 11.60it/s, epoch=76/100, avg_epoch_loss=6.29]\n"
          ],
          "name": "stderr"
        }
      ]
    },
    {
      "cell_type": "code",
      "metadata": {
        "colab_type": "code",
        "id": "z-OU9czTPo1j",
        "outputId": "46151052-b130-4a8a-fd78-a19d76a731a6",
        "colab": {
          "base_uri": "https://localhost:8080/",
          "height": 503
        }
      },
      "source": [
        "forecast_it, ts_it = make_evaluation_predictions(\n",
        "    dataset=m4_monthly_dataset.test, \n",
        "    predictor=DA_predictor, \n",
        "    num_samples=100, \n",
        ")\n",
        "\n",
        "forecasts = list(forecast_it)\n",
        "tss = list(ts_it)\n",
        "\n",
        "evaluator = Evaluator(quantiles=[0.1, 0.5, 0.9])\n",
        "agg_metrics, item_metrics = evaluator(iter(tss), iter(forecasts), num_series=len(m4_monthly_dataset.test))\n",
        "\n",
        "print(json.dumps(agg_metrics, indent=4))"
      ],
      "execution_count": 0,
      "outputs": [
        {
          "output_type": "stream",
          "text": [
            "Running evaluation: 100%|██████████| 48000/48000 [00:00<00:00, 283352.25it/s]\n"
          ],
          "name": "stderr"
        },
        {
          "output_type": "stream",
          "text": [
            "{\n",
            "    \"MSE\": 2157442.9546686537,\n",
            "    \"abs_error\": 572127565.1197662,\n",
            "    \"abs_target_sum\": 4157157295.381714,\n",
            "    \"abs_target_mean\": 4811.5246474325495,\n",
            "    \"seasonal_error\": 616.9975625355751,\n",
            "    \"MASE\": 1.3527781366618112,\n",
            "    \"MAPE\": 0.1798225742924299,\n",
            "    \"sMAPE\": 0.15109219854808956,\n",
            "    \"OWA\": NaN,\n",
            "    \"MSIS\": 32.923053697481755,\n",
            "    \"QuantileLoss[0.1]\": 414568237.27763677,\n",
            "    \"Coverage[0.1]\": 0.2976192129629433,\n",
            "    \"QuantileLoss[0.5]\": 572127565.2610779,\n",
            "    \"Coverage[0.5]\": 0.4273321759259116,\n",
            "    \"QuantileLoss[0.9]\": 519152351.21203303,\n",
            "    \"Coverage[0.9]\": 0.6211539351852019,\n",
            "    \"RMSE\": 1468.8236635718577,\n",
            "    \"NRMSE\": 0.30527198158605057,\n",
            "    \"ND\": 0.1376247094992909,\n",
            "    \"wQuantileLoss[0.1]\": 0.09972397189256962,\n",
            "    \"wQuantileLoss[0.5]\": 0.1376247095332833,\n",
            "    \"wQuantileLoss[0.9]\": 0.12488157515443832,\n",
            "    \"mean_wQuantileLoss\": 0.12074341886009708,\n",
            "    \"MAE_Coverage\": 0.18304436728394327\n",
            "}\n"
          ],
          "name": "stdout"
        }
      ]
    },
    {
      "cell_type": "code",
      "metadata": {
        "colab_type": "code",
        "id": "nM547CLIPo1p",
        "colab": {}
      },
      "source": [
        ""
      ],
      "execution_count": 0,
      "outputs": []
    },
    {
      "cell_type": "markdown",
      "metadata": {
        "colab_type": "text",
        "id": "nznVHsOFTpbl"
      },
      "source": [
        "## m4_quarterly"
      ]
    },
    {
      "cell_type": "code",
      "metadata": {
        "colab_type": "code",
        "id": "Lqy_k4FfTpbn",
        "outputId": "bd4b6979-0a0b-4f15-f171-f32c316a8c8d",
        "colab": {
          "base_uri": "https://localhost:8080/",
          "height": 53
        }
      },
      "source": [
        "m4_quarterly_dataset = get_dataset(\"m4_quarterly\", regenerate=False)"
      ],
      "execution_count": 0,
      "outputs": [
        {
          "output_type": "stream",
          "text": [
            "saving time-series into /root/.mxnet/gluon-ts/datasets/m4_quarterly/train/data.json\n",
            "saving time-series into /root/.mxnet/gluon-ts/datasets/m4_quarterly/test/data.json\n"
          ],
          "name": "stdout"
        }
      ]
    },
    {
      "cell_type": "code",
      "metadata": {
        "colab_type": "code",
        "id": "Y457WiskTpbw",
        "outputId": "41a6da3a-f4fc-4b1a-d676-e9dc98053f88",
        "colab": {
          "base_uri": "https://localhost:8080/",
          "height": 53
        }
      },
      "source": [
        "print (len(m4_quarterly_dataset.train))\n",
        "print (len(m4_quarterly_dataset.test))"
      ],
      "execution_count": 0,
      "outputs": [
        {
          "output_type": "stream",
          "text": [
            "24000\n",
            "24000\n"
          ],
          "name": "stdout"
        }
      ]
    },
    {
      "cell_type": "code",
      "metadata": {
        "colab_type": "code",
        "id": "b9EoE_m6Tpbz",
        "outputId": "d6faabb1-445c-4551-d0f2-84b6e11e2933",
        "colab": {
          "base_uri": "https://localhost:8080/",
          "height": 35
        }
      },
      "source": [
        "m4_quarterly_dataset.metadata"
      ],
      "execution_count": 0,
      "outputs": [
        {
          "output_type": "execute_result",
          "data": {
            "text/plain": [
              "MetaData(freq='3M', target=None, feat_static_cat=[CategoricalFeatureInfo(name='feat_static_cat', cardinality='24000')], feat_static_real=[], feat_dynamic_real=[], feat_dynamic_cat=[], prediction_length=8)"
            ]
          },
          "metadata": {
            "tags": []
          },
          "execution_count": 59
        }
      ]
    },
    {
      "cell_type": "code",
      "metadata": {
        "colab_type": "code",
        "outputId": "75734b73-11c5-433f-a50d-679a936d8603",
        "id": "NBrLxCWmqEzn",
        "colab": {
          "base_uri": "https://localhost:8080/",
          "height": 35
        }
      },
      "source": [
        "m4_quarterly_dataset.metadata.feat_static_cat[0]"
      ],
      "execution_count": 0,
      "outputs": [
        {
          "output_type": "execute_result",
          "data": {
            "text/plain": [
              "CategoricalFeatureInfo(name='feat_static_cat', cardinality='24000')"
            ]
          },
          "metadata": {
            "tags": []
          },
          "execution_count": 60
        }
      ]
    },
    {
      "cell_type": "code",
      "metadata": {
        "colab_type": "code",
        "id": "bYqoUboOqEzq",
        "colab": {}
      },
      "source": [
        "car = [int(m4_quarterly_dataset.metadata.feat_static_cat[0].cardinality)]"
      ],
      "execution_count": 0,
      "outputs": []
    },
    {
      "cell_type": "code",
      "metadata": {
        "colab_type": "code",
        "id": "9diHFpLATpb3",
        "outputId": "d9aa5c8f-9867-4c43-e61e-53250ae64661",
        "colab": {
          "base_uri": "https://localhost:8080/",
          "height": 35
        }
      },
      "source": [
        "next(iter(m4_quarterly_dataset.train)).keys()"
      ],
      "execution_count": 0,
      "outputs": [
        {
          "output_type": "execute_result",
          "data": {
            "text/plain": [
              "dict_keys(['start', 'target', 'feat_static_cat', 'item_id', 'source'])"
            ]
          },
          "metadata": {
            "tags": []
          },
          "execution_count": 62
        }
      ]
    },
    {
      "cell_type": "code",
      "metadata": {
        "colab_type": "code",
        "id": "uluvpZU5TpcE",
        "colab": {}
      },
      "source": [
        "# https://gluon-ts.mxnet.io/api/gluonts/gluonts.model.deepar.html\n",
        "DA_estimator = DeepAREstimator(\n",
        "    freq=m4_quarterly_dataset.metadata.freq, \n",
        "    prediction_length=m4_quarterly_dataset.metadata.prediction_length,\n",
        "    trainer = deepar_trainer, # (default: Trainer())\n",
        "    context_length=None, # (default: None, in which case context_length = prediction_length)\n",
        "    num_layers=2, # (default: 2)\n",
        "    num_cells=40, # (default: 40)\n",
        "    cell_type='lstm', # (default: ‘lstm’)\n",
        "    dropout_rate=0.1, # (default: 0.1)\n",
        "    use_feat_dynamic_real=False, # (default: False)\n",
        "    use_feat_static_cat=True, # (default: False)\n",
        "    use_feat_static_real=False, # (default: False)\n",
        "    cardinality=car, # (default: None)\n",
        "    #embedding_dimension=[20], # (default: [min(50, (cat+1)//2) for cat in cardinality])\n",
        "    distr_output = StudentTOutput(), # (default: StudentTOutput())\n",
        "    scaling=True, # (default: true)\n",
        "    lags_seq=None, # (default: None, in which case these are automatically determined based on freq)\n",
        "    time_features=None, # (default: None, in which case these are automatically determined based on freq)\n",
        "    num_parallel_samples=100, # (default: 100)\n",
        ")"
      ],
      "execution_count": 0,
      "outputs": []
    },
    {
      "cell_type": "code",
      "metadata": {
        "colab_type": "code",
        "id": "Yv7bIpjBTpcI",
        "outputId": "977f617a-6b8d-46cc-aa1e-7d3115c9d3f7",
        "colab": {
          "base_uri": "https://localhost:8080/",
          "height": 1000
        }
      },
      "source": [
        "DA_predictor = DA_estimator.train(m4_quarterly_dataset.train)"
      ],
      "execution_count": 0,
      "outputs": [
        {
          "output_type": "stream",
          "text": [
            "\r  0%|          | 0/50 [00:00<?, ?it/s]"
          ],
          "name": "stderr"
        },
        {
          "output_type": "stream",
          "text": [
            "learning rate from ``lr_scheduler`` has been overwritten by ``learning_rate`` in optimizer.\n"
          ],
          "name": "stdout"
        },
        {
          "output_type": "stream",
          "text": [
            "100%|██████████| 50/50 [00:02<00:00, 18.84it/s, epoch=1/100, avg_epoch_loss=8.21]\n",
            "100%|██████████| 50/50 [00:02<00:00, 20.90it/s, epoch=2/100, avg_epoch_loss=7.66]\n",
            "100%|██████████| 50/50 [00:02<00:00, 20.85it/s, epoch=3/100, avg_epoch_loss=7.66]\n",
            "100%|██████████| 50/50 [00:02<00:00, 19.70it/s, epoch=4/100, avg_epoch_loss=7.44]\n",
            "100%|██████████| 50/50 [00:02<00:00, 19.13it/s, epoch=5/100, avg_epoch_loss=7.18]\n",
            "100%|██████████| 50/50 [00:02<00:00, 20.35it/s, epoch=6/100, avg_epoch_loss=7.42]\n",
            "100%|██████████| 50/50 [00:02<00:00, 20.18it/s, epoch=7/100, avg_epoch_loss=7.35]\n",
            "100%|██████████| 50/50 [00:02<00:00, 20.56it/s, epoch=8/100, avg_epoch_loss=7.27]\n",
            "100%|██████████| 50/50 [00:02<00:00, 20.25it/s, epoch=9/100, avg_epoch_loss=7.02]\n",
            "100%|██████████| 50/50 [00:02<00:00, 21.29it/s, epoch=10/100, avg_epoch_loss=7.15]\n",
            "100%|██████████| 50/50 [00:02<00:00, 20.30it/s, epoch=11/100, avg_epoch_loss=7.22]\n",
            "100%|██████████| 50/50 [00:02<00:00, 20.11it/s, epoch=12/100, avg_epoch_loss=7.4]\n",
            "100%|██████████| 50/50 [00:02<00:00, 20.45it/s, epoch=13/100, avg_epoch_loss=7.4]\n",
            "100%|██████████| 50/50 [00:02<00:00, 20.25it/s, epoch=14/100, avg_epoch_loss=6.97]\n",
            "100%|██████████| 50/50 [00:02<00:00, 19.99it/s, epoch=15/100, avg_epoch_loss=7.23]\n",
            "100%|██████████| 50/50 [00:02<00:00, 19.59it/s, epoch=16/100, avg_epoch_loss=6.94]\n",
            "100%|██████████| 50/50 [00:02<00:00, 19.74it/s, epoch=17/100, avg_epoch_loss=7.14]\n",
            "100%|██████████| 50/50 [00:02<00:00, 21.06it/s, epoch=18/100, avg_epoch_loss=7.25]\n",
            "100%|██████████| 50/50 [00:02<00:00, 21.01it/s, epoch=19/100, avg_epoch_loss=7.02]\n",
            "100%|██████████| 50/50 [00:02<00:00, 19.87it/s, epoch=20/100, avg_epoch_loss=6.75]\n",
            "100%|██████████| 50/50 [00:02<00:00, 20.57it/s, epoch=21/100, avg_epoch_loss=7.09]\n",
            "100%|██████████| 50/50 [00:02<00:00, 20.80it/s, epoch=22/100, avg_epoch_loss=7.04]\n",
            "100%|██████████| 50/50 [00:02<00:00, 20.24it/s, epoch=23/100, avg_epoch_loss=7.09]\n",
            "100%|██████████| 50/50 [00:02<00:00, 19.88it/s, epoch=24/100, avg_epoch_loss=6.95]\n",
            "100%|██████████| 50/50 [00:02<00:00, 20.91it/s, epoch=25/100, avg_epoch_loss=7.02]\n",
            "100%|██████████| 50/50 [00:02<00:00, 20.40it/s, epoch=26/100, avg_epoch_loss=7.09]\n",
            "100%|██████████| 50/50 [00:02<00:00, 20.08it/s, epoch=27/100, avg_epoch_loss=7.38]\n",
            "100%|██████████| 50/50 [00:02<00:00, 20.62it/s, epoch=28/100, avg_epoch_loss=7.2]\n",
            "100%|██████████| 50/50 [00:02<00:00, 20.97it/s, epoch=29/100, avg_epoch_loss=6.94]\n",
            "100%|██████████| 50/50 [00:02<00:00, 19.85it/s, epoch=30/100, avg_epoch_loss=7.18]\n",
            "100%|██████████| 50/50 [00:02<00:00, 19.99it/s, epoch=31/100, avg_epoch_loss=6.87]\n",
            "100%|██████████| 50/50 [00:02<00:00, 20.36it/s, epoch=32/100, avg_epoch_loss=7.12]\n",
            "100%|██████████| 50/50 [00:02<00:00, 20.86it/s, epoch=33/100, avg_epoch_loss=7.15]\n",
            "100%|██████████| 50/50 [00:02<00:00, 21.17it/s, epoch=34/100, avg_epoch_loss=6.96]\n",
            "100%|██████████| 50/50 [00:02<00:00, 19.42it/s, epoch=35/100, avg_epoch_loss=6.79]\n",
            "100%|██████████| 50/50 [00:02<00:00, 20.34it/s, epoch=36/100, avg_epoch_loss=7.09]\n",
            "100%|██████████| 50/50 [00:02<00:00, 20.58it/s, epoch=37/100, avg_epoch_loss=6.92]\n",
            "100%|██████████| 50/50 [00:02<00:00, 19.84it/s, epoch=38/100, avg_epoch_loss=7.04]\n",
            "100%|██████████| 50/50 [00:02<00:00, 20.12it/s, epoch=39/100, avg_epoch_loss=6.95]\n",
            "100%|██████████| 50/50 [00:02<00:00, 20.82it/s, epoch=40/100, avg_epoch_loss=6.95]\n",
            "100%|██████████| 50/50 [00:02<00:00, 20.58it/s, epoch=41/100, avg_epoch_loss=7.11]\n",
            "100%|██████████| 50/50 [00:02<00:00, 19.90it/s, epoch=42/100, avg_epoch_loss=7.34]\n",
            "100%|██████████| 50/50 [00:02<00:00, 20.76it/s, epoch=43/100, avg_epoch_loss=7.09]\n",
            "100%|██████████| 50/50 [00:02<00:00, 20.47it/s, epoch=44/100, avg_epoch_loss=6.94]\n",
            "100%|██████████| 50/50 [00:02<00:00, 20.48it/s, epoch=45/100, avg_epoch_loss=7.18]\n",
            "100%|██████████| 50/50 [00:02<00:00, 19.76it/s, epoch=46/100, avg_epoch_loss=6.84]\n",
            "100%|██████████| 50/50 [00:02<00:00, 20.57it/s, epoch=47/100, avg_epoch_loss=7.09]\n",
            "100%|██████████| 50/50 [00:02<00:00, 21.34it/s, epoch=48/100, avg_epoch_loss=7.26]\n",
            "100%|██████████| 50/50 [00:02<00:00, 21.16it/s, epoch=49/100, avg_epoch_loss=6.83]\n",
            "100%|██████████| 50/50 [00:02<00:00, 19.66it/s, epoch=50/100, avg_epoch_loss=6.49]\n",
            "100%|██████████| 50/50 [00:02<00:00, 19.82it/s, epoch=51/100, avg_epoch_loss=7.19]\n",
            "100%|██████████| 50/50 [00:02<00:00, 20.57it/s, epoch=52/100, avg_epoch_loss=6.95]\n",
            "100%|██████████| 50/50 [00:02<00:00, 20.14it/s, epoch=53/100, avg_epoch_loss=7.02]\n",
            "100%|██████████| 50/50 [00:02<00:00, 20.46it/s, epoch=54/100, avg_epoch_loss=7.07]\n",
            "100%|██████████| 50/50 [00:02<00:00, 19.87it/s, epoch=55/100, avg_epoch_loss=6.9]\n",
            "100%|██████████| 50/50 [00:02<00:00, 20.84it/s, epoch=56/100, avg_epoch_loss=6.96]\n",
            "100%|██████████| 50/50 [00:02<00:00, 19.70it/s, epoch=57/100, avg_epoch_loss=7.44]\n",
            "100%|██████████| 50/50 [00:02<00:00, 20.31it/s, epoch=58/100, avg_epoch_loss=6.93]\n",
            "100%|██████████| 50/50 [00:02<00:00, 20.54it/s, epoch=59/100, avg_epoch_loss=6.88]\n",
            "100%|██████████| 50/50 [00:02<00:00, 20.26it/s, epoch=60/100, avg_epoch_loss=7.08]\n",
            "100%|██████████| 50/50 [00:02<00:00, 19.56it/s, epoch=61/100, avg_epoch_loss=6.83]\n",
            "100%|██████████| 50/50 [00:02<00:00, 20.03it/s, epoch=62/100, avg_epoch_loss=7.04]\n",
            "100%|██████████| 50/50 [00:02<00:00, 20.97it/s, epoch=63/100, avg_epoch_loss=7.25]\n",
            "100%|██████████| 50/50 [00:02<00:00, 21.34it/s, epoch=64/100, avg_epoch_loss=6.75]\n",
            "100%|██████████| 50/50 [00:02<00:00, 19.63it/s, epoch=65/100, avg_epoch_loss=6.63]\n",
            "100%|██████████| 50/50 [00:02<00:00, 19.53it/s, epoch=66/100, avg_epoch_loss=7.11]\n",
            "100%|██████████| 50/50 [00:02<00:00, 20.26it/s, epoch=67/100, avg_epoch_loss=6.94]\n",
            "100%|██████████| 50/50 [00:02<00:00, 19.97it/s, epoch=68/100, avg_epoch_loss=7.01]\n",
            "100%|██████████| 50/50 [00:02<00:00, 20.69it/s, epoch=69/100, avg_epoch_loss=6.99]\n",
            "100%|██████████| 50/50 [00:02<00:00, 19.99it/s, epoch=70/100, avg_epoch_loss=6.97]\n",
            "100%|██████████| 50/50 [00:02<00:00, 20.71it/s, epoch=71/100, avg_epoch_loss=6.98]\n",
            "100%|██████████| 50/50 [00:02<00:00, 19.51it/s, epoch=72/100, avg_epoch_loss=7.59]\n",
            "100%|██████████| 50/50 [00:03<00:00, 14.25it/s, epoch=73/100, avg_epoch_loss=6.9]\n",
            "100%|██████████| 50/50 [00:03<00:00, 15.33it/s, epoch=74/100, avg_epoch_loss=6.9]\n",
            "100%|██████████| 50/50 [00:02<00:00, 20.54it/s, epoch=75/100, avg_epoch_loss=7.1]\n",
            "100%|██████████| 50/50 [00:02<00:00, 20.17it/s, epoch=76/100, avg_epoch_loss=6.83]\n",
            "100%|██████████| 50/50 [00:02<00:00, 20.07it/s, epoch=77/100, avg_epoch_loss=7.04]\n",
            "100%|██████████| 50/50 [00:02<00:00, 21.25it/s, epoch=78/100, avg_epoch_loss=7.22]\n",
            "100%|██████████| 50/50 [00:02<00:00, 20.96it/s, epoch=79/100, avg_epoch_loss=6.87]\n",
            "100%|██████████| 50/50 [00:02<00:00, 19.02it/s, epoch=80/100, avg_epoch_loss=6.54]\n",
            "100%|██████████| 50/50 [00:02<00:00, 19.30it/s, epoch=81/100, avg_epoch_loss=7.21]\n",
            "100%|██████████| 50/50 [00:02<00:00, 20.05it/s, epoch=82/100, avg_epoch_loss=6.92]\n",
            "100%|██████████| 50/50 [00:02<00:00, 19.49it/s, epoch=83/100, avg_epoch_loss=7.01]\n",
            "100%|██████████| 50/50 [00:02<00:00, 20.81it/s, epoch=84/100, avg_epoch_loss=7.07]\n",
            "100%|██████████| 50/50 [00:02<00:00, 20.15it/s, epoch=85/100, avg_epoch_loss=6.93]\n",
            "100%|██████████| 50/50 [00:02<00:00, 21.17it/s, epoch=86/100, avg_epoch_loss=6.94]\n",
            "100%|██████████| 50/50 [00:02<00:00, 19.98it/s, epoch=87/100, avg_epoch_loss=7.52]\n",
            "100%|██████████| 50/50 [00:02<00:00, 20.75it/s, epoch=88/100, avg_epoch_loss=6.86]\n",
            "100%|██████████| 50/50 [00:02<00:00, 20.78it/s, epoch=89/100, avg_epoch_loss=6.91]\n",
            "100%|██████████| 50/50 [00:02<00:00, 20.08it/s, epoch=90/100, avg_epoch_loss=7.14]\n"
          ],
          "name": "stderr"
        }
      ]
    },
    {
      "cell_type": "code",
      "metadata": {
        "colab_type": "code",
        "id": "0kea2_IuTpcM",
        "outputId": "09b159b9-f6b6-410e-a20e-e4c0fa7b3c89",
        "colab": {
          "base_uri": "https://localhost:8080/",
          "height": 503
        }
      },
      "source": [
        "forecast_it, ts_it = make_evaluation_predictions(\n",
        "    dataset=m4_quarterly_dataset.test, \n",
        "    predictor=DA_predictor, \n",
        "    num_samples=100, \n",
        ")\n",
        "\n",
        "forecasts = list(forecast_it)\n",
        "tss = list(ts_it)\n",
        "\n",
        "evaluator = Evaluator(quantiles=[0.1, 0.5, 0.9])\n",
        "agg_metrics, item_metrics = evaluator(iter(tss), iter(forecasts), num_series=len(m4_quarterly_dataset.test))\n",
        "\n",
        "print(json.dumps(agg_metrics, indent=4))"
      ],
      "execution_count": 0,
      "outputs": [
        {
          "output_type": "stream",
          "text": [
            "Running evaluation: 100%|██████████| 24000/24000 [00:00<00:00, 210833.50it/s]\n"
          ],
          "name": "stderr"
        },
        {
          "output_type": "stream",
          "text": [
            "{\n",
            "    \"MSE\": 2024737.0321240863,\n",
            "    \"abs_error\": 121131627.5148468,\n",
            "    \"abs_target_sum\": 1147074070.9031982,\n",
            "    \"abs_target_mean\": 5974.344119287491,\n",
            "    \"seasonal_error\": 473.4332698179725,\n",
            "    \"MASE\": 1.4459162301216213,\n",
            "    \"MAPE\": 0.13600648498916967,\n",
            "    \"sMAPE\": 0.11233684017897869,\n",
            "    \"OWA\": NaN,\n",
            "    \"MSIS\": 21.220881088496718,\n",
            "    \"QuantileLoss[0.1]\": 77955880.22958528,\n",
            "    \"Coverage[0.1]\": 0.19675520833333332,\n",
            "    \"QuantileLoss[0.5]\": 121131627.54579163,\n",
            "    \"Coverage[0.5]\": 0.58840625,\n",
            "    \"QuantileLoss[0.9]\": 79215289.81212462,\n",
            "    \"Coverage[0.9]\": 0.854765625,\n",
            "    \"RMSE\": 1422.9325465826153,\n",
            "    \"NRMSE\": 0.23817385108247102,\n",
            "    \"ND\": 0.1056005279759036,\n",
            "    \"wQuantileLoss[0.1]\": 0.06796063323809887,\n",
            "    \"wQuantileLoss[0.5]\": 0.10560052800288076,\n",
            "    \"wQuantileLoss[0.9]\": 0.06905856545929161,\n",
            "    \"mean_wQuantileLoss\": 0.08087324223342375,\n",
            "    \"MAE_Coverage\": 0.07679861111111112\n",
            "}\n"
          ],
          "name": "stdout"
        }
      ]
    },
    {
      "cell_type": "code",
      "metadata": {
        "colab_type": "code",
        "id": "WLQbIJlNTpcQ",
        "colab": {}
      },
      "source": [
        ""
      ],
      "execution_count": 0,
      "outputs": []
    },
    {
      "cell_type": "markdown",
      "metadata": {
        "colab_type": "text",
        "id": "mPBrg_LQUG-N"
      },
      "source": [
        "## m4_weekly"
      ]
    },
    {
      "cell_type": "code",
      "metadata": {
        "colab_type": "code",
        "id": "zqOsVt25UG-O",
        "outputId": "77204f3b-ee86-4ab7-ca00-4ae9114cc30d",
        "colab": {
          "base_uri": "https://localhost:8080/",
          "height": 53
        }
      },
      "source": [
        "m4_weekly_dataset = get_dataset(\"m4_weekly\", regenerate=False)"
      ],
      "execution_count": 0,
      "outputs": [
        {
          "output_type": "stream",
          "text": [
            "saving time-series into /root/.mxnet/gluon-ts/datasets/m4_weekly/train/data.json\n",
            "saving time-series into /root/.mxnet/gluon-ts/datasets/m4_weekly/test/data.json\n"
          ],
          "name": "stdout"
        }
      ]
    },
    {
      "cell_type": "code",
      "metadata": {
        "colab_type": "code",
        "id": "8rImBkzcUG-R",
        "outputId": "32a3154e-15de-4cbc-d6e8-00b9fceef7f7",
        "colab": {
          "base_uri": "https://localhost:8080/",
          "height": 53
        }
      },
      "source": [
        "print (len(m4_weekly_dataset.train))\n",
        "print (len(m4_weekly_dataset.test))"
      ],
      "execution_count": 0,
      "outputs": [
        {
          "output_type": "stream",
          "text": [
            "359\n",
            "359\n"
          ],
          "name": "stdout"
        }
      ]
    },
    {
      "cell_type": "code",
      "metadata": {
        "colab_type": "code",
        "id": "YNqBvMCfUG-U",
        "outputId": "863f36ad-a748-40b1-bfe7-b322f334ad13",
        "colab": {
          "base_uri": "https://localhost:8080/",
          "height": 35
        }
      },
      "source": [
        "m4_weekly_dataset.metadata"
      ],
      "execution_count": 0,
      "outputs": [
        {
          "output_type": "execute_result",
          "data": {
            "text/plain": [
              "MetaData(freq='W', target=None, feat_static_cat=[CategoricalFeatureInfo(name='feat_static_cat', cardinality='359')], feat_static_real=[], feat_dynamic_real=[], feat_dynamic_cat=[], prediction_length=13)"
            ]
          },
          "metadata": {
            "tags": []
          },
          "execution_count": 68
        }
      ]
    },
    {
      "cell_type": "code",
      "metadata": {
        "colab_type": "code",
        "outputId": "b683861f-53a7-4190-bb0b-e65f42bc9a7c",
        "id": "oBmE2sv5qRI5",
        "colab": {
          "base_uri": "https://localhost:8080/",
          "height": 35
        }
      },
      "source": [
        "m4_weekly_dataset.metadata.feat_static_cat[0]"
      ],
      "execution_count": 0,
      "outputs": [
        {
          "output_type": "execute_result",
          "data": {
            "text/plain": [
              "CategoricalFeatureInfo(name='feat_static_cat', cardinality='359')"
            ]
          },
          "metadata": {
            "tags": []
          },
          "execution_count": 69
        }
      ]
    },
    {
      "cell_type": "code",
      "metadata": {
        "colab_type": "code",
        "id": "9ne4eVCaqRI8",
        "colab": {}
      },
      "source": [
        "car = [int(m4_weekly_dataset.metadata.feat_static_cat[0].cardinality)]"
      ],
      "execution_count": 0,
      "outputs": []
    },
    {
      "cell_type": "code",
      "metadata": {
        "colab_type": "code",
        "id": "xxBOpLK5UG-W",
        "outputId": "ca7f6632-323d-4cf1-bdfb-69ab2303085f",
        "colab": {
          "base_uri": "https://localhost:8080/",
          "height": 35
        }
      },
      "source": [
        "next(iter(m4_weekly_dataset.train)).keys()"
      ],
      "execution_count": 0,
      "outputs": [
        {
          "output_type": "execute_result",
          "data": {
            "text/plain": [
              "dict_keys(['start', 'target', 'feat_static_cat', 'item_id', 'source'])"
            ]
          },
          "metadata": {
            "tags": []
          },
          "execution_count": 71
        }
      ]
    },
    {
      "cell_type": "code",
      "metadata": {
        "colab_type": "code",
        "id": "oambQWoLUG-b",
        "colab": {}
      },
      "source": [
        "# https://gluon-ts.mxnet.io/api/gluonts/gluonts.model.deepar.html\n",
        "DA_estimator = DeepAREstimator(\n",
        "    freq=m4_weekly_dataset.metadata.freq, \n",
        "    prediction_length=m4_weekly_dataset.metadata.prediction_length,\n",
        "    trainer = deepar_trainer, # (default: Trainer())\n",
        "    context_length=None, # (default: None, in which case context_length = prediction_length)\n",
        "    num_layers=2, # (default: 2)\n",
        "    num_cells=40, # (default: 40)\n",
        "    cell_type='lstm', # (default: ‘lstm’)\n",
        "    dropout_rate=0.1, # (default: 0.1)\n",
        "    use_feat_dynamic_real=False, # (default: False)\n",
        "    use_feat_static_cat=True, # (default: False)\n",
        "    use_feat_static_real=False, # (default: False)\n",
        "    cardinality=car, # (default: None)\n",
        "    #embedding_dimension=[20], # (default: [min(50, (cat+1)//2) for cat in cardinality])\n",
        "    distr_output = StudentTOutput(), # (default: StudentTOutput())\n",
        "    scaling=True, # (default: true)\n",
        "    lags_seq=None, # (default: None, in which case these are automatically determined based on freq)\n",
        "    time_features=None, # (default: None, in which case these are automatically determined based on freq)\n",
        "    num_parallel_samples=100, # (default: 100)\n",
        ")"
      ],
      "execution_count": 0,
      "outputs": []
    },
    {
      "cell_type": "code",
      "metadata": {
        "colab_type": "code",
        "id": "268w4zPdUG-o",
        "outputId": "eb530001-6689-4636-acc5-525360c64ec8",
        "colab": {
          "base_uri": "https://localhost:8080/",
          "height": 1000
        }
      },
      "source": [
        "DA_predictor = DA_estimator.train(m4_weekly_dataset.train)"
      ],
      "execution_count": 0,
      "outputs": [
        {
          "output_type": "stream",
          "text": [
            "\r  0%|          | 0/50 [00:00<?, ?it/s]"
          ],
          "name": "stderr"
        },
        {
          "output_type": "stream",
          "text": [
            "learning rate from ``lr_scheduler`` has been overwritten by ``learning_rate`` in optimizer.\n"
          ],
          "name": "stdout"
        },
        {
          "output_type": "stream",
          "text": [
            "100%|██████████| 50/50 [00:03<00:00, 12.55it/s, epoch=1/100, avg_epoch_loss=7.98]\n",
            "100%|██████████| 50/50 [00:03<00:00, 14.06it/s, epoch=2/100, avg_epoch_loss=7.33]\n",
            "100%|██████████| 50/50 [00:03<00:00, 13.86it/s, epoch=3/100, avg_epoch_loss=7]\n",
            "100%|██████████| 50/50 [00:03<00:00, 13.77it/s, epoch=4/100, avg_epoch_loss=6.94]\n",
            "100%|██████████| 50/50 [00:03<00:00, 14.02it/s, epoch=5/100, avg_epoch_loss=6.85]\n",
            "100%|██████████| 50/50 [00:03<00:00, 14.09it/s, epoch=6/100, avg_epoch_loss=6.9]\n",
            "100%|██████████| 50/50 [00:03<00:00, 14.05it/s, epoch=7/100, avg_epoch_loss=6.63]\n",
            "100%|██████████| 50/50 [00:03<00:00, 14.32it/s, epoch=8/100, avg_epoch_loss=6.7]\n",
            "100%|██████████| 50/50 [00:03<00:00, 13.77it/s, epoch=9/100, avg_epoch_loss=6.98]\n",
            "100%|██████████| 50/50 [00:03<00:00, 14.11it/s, epoch=10/100, avg_epoch_loss=7.04]\n",
            "100%|██████████| 50/50 [00:03<00:00, 14.85it/s, epoch=11/100, avg_epoch_loss=6.97]\n",
            "100%|██████████| 50/50 [00:03<00:00, 14.55it/s, epoch=12/100, avg_epoch_loss=6.63]\n",
            "100%|██████████| 50/50 [00:03<00:00, 14.55it/s, epoch=13/100, avg_epoch_loss=6.5]\n",
            "100%|██████████| 50/50 [00:03<00:00, 14.41it/s, epoch=14/100, avg_epoch_loss=6.63]\n",
            "100%|██████████| 50/50 [00:03<00:00, 13.21it/s, epoch=15/100, avg_epoch_loss=6.91]\n",
            "100%|██████████| 50/50 [00:03<00:00, 14.16it/s, epoch=16/100, avg_epoch_loss=6.61]\n",
            "100%|██████████| 50/50 [00:03<00:00, 14.01it/s, epoch=17/100, avg_epoch_loss=7.01]\n",
            "100%|██████████| 50/50 [00:03<00:00, 13.87it/s, epoch=18/100, avg_epoch_loss=6.78]\n",
            "100%|██████████| 50/50 [00:03<00:00, 13.76it/s, epoch=19/100, avg_epoch_loss=6.43]\n",
            "100%|██████████| 50/50 [00:03<00:00, 14.11it/s, epoch=20/100, avg_epoch_loss=6.39]\n",
            "100%|██████████| 50/50 [00:03<00:00, 14.30it/s, epoch=21/100, avg_epoch_loss=6.46]\n",
            "100%|██████████| 50/50 [00:03<00:00, 13.65it/s, epoch=22/100, avg_epoch_loss=6.76]\n",
            "100%|██████████| 50/50 [00:03<00:00, 13.94it/s, epoch=23/100, avg_epoch_loss=6.72]\n",
            "100%|██████████| 50/50 [00:03<00:00, 13.99it/s, epoch=24/100, avg_epoch_loss=6.55]\n",
            "100%|██████████| 50/50 [00:03<00:00, 13.94it/s, epoch=25/100, avg_epoch_loss=7.33]\n",
            "100%|██████████| 50/50 [00:03<00:00, 13.46it/s, epoch=26/100, avg_epoch_loss=6.64]\n",
            "100%|██████████| 50/50 [00:03<00:00, 13.49it/s, epoch=27/100, avg_epoch_loss=6.75]\n",
            "100%|██████████| 50/50 [00:03<00:00, 14.71it/s, epoch=28/100, avg_epoch_loss=6.41]\n",
            "100%|██████████| 50/50 [00:03<00:00, 14.75it/s, epoch=29/100, avg_epoch_loss=6.86]\n",
            "100%|██████████| 50/50 [00:03<00:00, 14.79it/s, epoch=30/100, avg_epoch_loss=6.42]\n",
            "100%|██████████| 50/50 [00:03<00:00, 14.68it/s, epoch=31/100, avg_epoch_loss=6.38]\n",
            "100%|██████████| 50/50 [00:03<00:00, 14.54it/s, epoch=32/100, avg_epoch_loss=6.75]\n",
            "100%|██████████| 50/50 [00:03<00:00, 14.55it/s, epoch=33/100, avg_epoch_loss=6.53]\n",
            "100%|██████████| 50/50 [00:03<00:00, 14.69it/s, epoch=34/100, avg_epoch_loss=6.38]\n",
            "100%|██████████| 50/50 [00:03<00:00, 14.47it/s, epoch=35/100, avg_epoch_loss=6.65]\n",
            "100%|██████████| 50/50 [00:03<00:00, 14.18it/s, epoch=36/100, avg_epoch_loss=6.45]\n",
            "100%|██████████| 50/50 [00:03<00:00, 14.25it/s, epoch=37/100, avg_epoch_loss=6.5]\n",
            "100%|██████████| 50/50 [00:03<00:00, 14.41it/s, epoch=38/100, avg_epoch_loss=6.45]\n",
            "100%|██████████| 50/50 [00:03<00:00, 14.34it/s, epoch=39/100, avg_epoch_loss=6.41]\n",
            "100%|██████████| 50/50 [00:03<00:00, 13.78it/s, epoch=40/100, avg_epoch_loss=6.48]\n",
            "100%|██████████| 50/50 [00:03<00:00, 14.11it/s, epoch=41/100, avg_epoch_loss=6.45]\n",
            "100%|██████████| 50/50 [00:03<00:00, 14.53it/s, epoch=42/100, avg_epoch_loss=6.68]\n",
            "100%|██████████| 50/50 [00:03<00:00, 14.72it/s, epoch=43/100, avg_epoch_loss=6.37]\n",
            "100%|██████████| 50/50 [00:03<00:00, 14.40it/s, epoch=44/100, avg_epoch_loss=6.52]\n",
            "100%|██████████| 50/50 [00:03<00:00, 15.20it/s, epoch=45/100, avg_epoch_loss=6.33]\n",
            "100%|██████████| 50/50 [00:03<00:00, 14.69it/s, epoch=46/100, avg_epoch_loss=6.31]\n",
            "100%|██████████| 50/50 [00:03<00:00, 14.72it/s, epoch=47/100, avg_epoch_loss=6.78]\n",
            "100%|██████████| 50/50 [00:03<00:00, 14.56it/s, epoch=48/100, avg_epoch_loss=6.32]\n",
            "100%|██████████| 50/50 [00:03<00:00, 14.32it/s, epoch=49/100, avg_epoch_loss=6.33]\n",
            "100%|██████████| 50/50 [00:03<00:00, 14.72it/s, epoch=50/100, avg_epoch_loss=6.36]\n",
            "100%|██████████| 50/50 [00:03<00:00, 14.83it/s, epoch=51/100, avg_epoch_loss=6.21]\n",
            "100%|██████████| 50/50 [00:03<00:00, 14.78it/s, epoch=52/100, avg_epoch_loss=6.17]\n",
            "100%|██████████| 50/50 [00:03<00:00, 14.84it/s, epoch=53/100, avg_epoch_loss=6.49]\n",
            "100%|██████████| 50/50 [00:03<00:00, 15.29it/s, epoch=54/100, avg_epoch_loss=6.25]\n",
            "100%|██████████| 50/50 [00:03<00:00, 15.43it/s, epoch=55/100, avg_epoch_loss=6.15]\n",
            "100%|██████████| 50/50 [00:03<00:00, 15.21it/s, epoch=56/100, avg_epoch_loss=6.45]\n",
            "100%|██████████| 50/50 [00:03<00:00, 14.81it/s, epoch=57/100, avg_epoch_loss=6.3]\n",
            "100%|██████████| 50/50 [00:03<00:00, 14.58it/s, epoch=58/100, avg_epoch_loss=6.28]\n",
            "100%|██████████| 50/50 [00:03<00:00, 14.90it/s, epoch=59/100, avg_epoch_loss=6.38]\n",
            "100%|██████████| 50/50 [00:03<00:00, 14.88it/s, epoch=60/100, avg_epoch_loss=6.31]\n",
            "100%|██████████| 50/50 [00:03<00:00, 14.71it/s, epoch=61/100, avg_epoch_loss=6.35]\n",
            "100%|██████████| 50/50 [00:03<00:00, 14.89it/s, epoch=62/100, avg_epoch_loss=6.2]\n",
            "100%|██████████| 50/50 [00:03<00:00, 14.90it/s, epoch=63/100, avg_epoch_loss=6.24]\n",
            "100%|██████████| 50/50 [00:03<00:00, 15.13it/s, epoch=64/100, avg_epoch_loss=6.25]\n",
            "100%|██████████| 50/50 [00:03<00:00, 14.71it/s, epoch=65/100, avg_epoch_loss=6.14]\n",
            "100%|██████████| 50/50 [00:03<00:00, 14.90it/s, epoch=66/100, avg_epoch_loss=6.07]\n",
            "100%|██████████| 50/50 [00:03<00:00, 14.99it/s, epoch=67/100, avg_epoch_loss=6.13]\n",
            "100%|██████████| 50/50 [00:03<00:00, 14.76it/s, epoch=68/100, avg_epoch_loss=6.51]\n",
            "100%|██████████| 50/50 [00:03<00:00, 15.16it/s, epoch=69/100, avg_epoch_loss=6.12]\n",
            "100%|██████████| 50/50 [00:03<00:00, 14.74it/s, epoch=70/100, avg_epoch_loss=6.24]\n",
            "100%|██████████| 50/50 [00:03<00:00, 14.40it/s, epoch=71/100, avg_epoch_loss=6.28]\n",
            "100%|██████████| 50/50 [00:03<00:00, 14.93it/s, epoch=72/100, avg_epoch_loss=6.15]\n",
            "100%|██████████| 50/50 [00:03<00:00, 14.86it/s, epoch=73/100, avg_epoch_loss=6.04]\n",
            "100%|██████████| 50/50 [00:03<00:00, 14.61it/s, epoch=74/100, avg_epoch_loss=6.43]\n",
            "100%|██████████| 50/50 [00:03<00:00, 14.79it/s, epoch=75/100, avg_epoch_loss=6.18]\n",
            "100%|██████████| 50/50 [00:03<00:00, 14.31it/s, epoch=76/100, avg_epoch_loss=6.2]\n",
            "100%|██████████| 50/50 [00:03<00:00, 14.15it/s, epoch=77/100, avg_epoch_loss=5.96]\n",
            "100%|██████████| 50/50 [00:03<00:00, 14.04it/s, epoch=78/100, avg_epoch_loss=5.99]\n",
            "100%|██████████| 50/50 [00:03<00:00, 14.08it/s, epoch=79/100, avg_epoch_loss=6.11]\n",
            "100%|██████████| 50/50 [00:03<00:00, 14.22it/s, epoch=80/100, avg_epoch_loss=6.5]\n",
            "100%|██████████| 50/50 [00:03<00:00, 13.73it/s, epoch=81/100, avg_epoch_loss=5.91]\n",
            "100%|██████████| 50/50 [00:03<00:00, 14.37it/s, epoch=82/100, avg_epoch_loss=5.97]\n",
            "100%|██████████| 50/50 [00:03<00:00, 14.73it/s, epoch=83/100, avg_epoch_loss=5.89]\n",
            "100%|██████████| 50/50 [00:03<00:00, 14.83it/s, epoch=84/100, avg_epoch_loss=6.01]\n",
            "100%|██████████| 50/50 [00:03<00:00, 14.60it/s, epoch=85/100, avg_epoch_loss=5.94]\n",
            "100%|██████████| 50/50 [00:03<00:00, 14.56it/s, epoch=86/100, avg_epoch_loss=6.45]\n",
            "100%|██████████| 50/50 [00:03<00:00, 14.65it/s, epoch=87/100, avg_epoch_loss=6.19]\n",
            "100%|██████████| 50/50 [00:03<00:00, 14.92it/s, epoch=88/100, avg_epoch_loss=6.12]\n",
            "100%|██████████| 50/50 [00:03<00:00, 15.01it/s, epoch=89/100, avg_epoch_loss=6.25]\n",
            "100%|██████████| 50/50 [00:03<00:00, 14.99it/s, epoch=90/100, avg_epoch_loss=5.98]\n",
            "100%|██████████| 50/50 [00:03<00:00, 14.41it/s, epoch=91/100, avg_epoch_loss=5.92]\n",
            "100%|██████████| 50/50 [00:03<00:00, 14.36it/s, epoch=92/100, avg_epoch_loss=5.87]\n",
            "100%|██████████| 50/50 [00:03<00:00, 15.03it/s, epoch=93/100, avg_epoch_loss=5.92]\n",
            "100%|██████████| 50/50 [00:03<00:00, 14.82it/s, epoch=94/100, avg_epoch_loss=5.89]\n",
            "100%|██████████| 50/50 [00:03<00:00, 14.83it/s, epoch=95/100, avg_epoch_loss=5.95]\n",
            "100%|██████████| 50/50 [00:03<00:00, 14.57it/s, epoch=96/100, avg_epoch_loss=5.91]\n",
            "100%|██████████| 50/50 [00:03<00:00, 14.78it/s, epoch=97/100, avg_epoch_loss=6.34]\n",
            "100%|██████████| 50/50 [00:03<00:00, 15.01it/s, epoch=98/100, avg_epoch_loss=6.14]\n",
            "100%|██████████| 50/50 [00:03<00:00, 14.85it/s, epoch=99/100, avg_epoch_loss=6.05]\n",
            "100%|██████████| 50/50 [00:03<00:00, 14.95it/s, epoch=100/100, avg_epoch_loss=6.29]\n"
          ],
          "name": "stderr"
        }
      ]
    },
    {
      "cell_type": "code",
      "metadata": {
        "colab_type": "code",
        "id": "kE6yGMdvUG-x",
        "outputId": "bd85585f-f30b-4578-ce73-596221853587",
        "colab": {
          "base_uri": "https://localhost:8080/",
          "height": 503
        }
      },
      "source": [
        "forecast_it, ts_it = make_evaluation_predictions(\n",
        "    dataset=m4_weekly_dataset.test, \n",
        "    predictor=DA_predictor, \n",
        "    num_samples=100, \n",
        ")\n",
        "\n",
        "forecasts = list(forecast_it)\n",
        "tss = list(ts_it)\n",
        "\n",
        "evaluator = Evaluator(quantiles=[0.1, 0.5, 0.9])\n",
        "agg_metrics, item_metrics = evaluator(iter(tss), iter(forecasts), num_series=len(m4_weekly_dataset.test))\n",
        "\n",
        "print(json.dumps(agg_metrics, indent=4))"
      ],
      "execution_count": 0,
      "outputs": [
        {
          "output_type": "stream",
          "text": [
            "Running evaluation: 100%|██████████| 359/359 [00:00<00:00, 5296.21it/s]\n"
          ],
          "name": "stderr"
        },
        {
          "output_type": "stream",
          "text": [
            "{\n",
            "    \"MSE\": 384410.79926126904,\n",
            "    \"abs_error\": 1590894.3291549683,\n",
            "    \"abs_target_sum\": 25616889.502441406,\n",
            "    \"abs_target_mean\": 5488.941397566194,\n",
            "    \"seasonal_error\": 216.54813922503882,\n",
            "    \"MASE\": 3.3199411936941767,\n",
            "    \"MAPE\": 0.08436536268062009,\n",
            "    \"sMAPE\": 0.08431301616954852,\n",
            "    \"OWA\": NaN,\n",
            "    \"MSIS\": 39.34233149181943,\n",
            "    \"QuantileLoss[0.1]\": 801268.6149017336,\n",
            "    \"Coverage[0.1]\": 0.21277051639168668,\n",
            "    \"QuantileLoss[0.5]\": 1590894.314628601,\n",
            "    \"Coverage[0.5]\": 0.6164559674308977,\n",
            "    \"QuantileLoss[0.9]\": 771020.7943069458,\n",
            "    \"Coverage[0.9]\": 0.9346475251767725,\n",
            "    \"RMSE\": 620.0087090205017,\n",
            "    \"NRMSE\": 0.11295597167341132,\n",
            "    \"ND\": 0.06210333729250574,\n",
            "    \"wQuantileLoss[0.1]\": 0.031278919121908576,\n",
            "    \"wQuantileLoss[0.5]\": 0.062103336725443645,\n",
            "    \"wQuantileLoss[0.9]\": 0.03009814264270703,\n",
            "    \"mean_wQuantileLoss\": 0.04116013283001975,\n",
            "    \"MAE_Coverage\": 0.08795800299978562\n",
            "}\n"
          ],
          "name": "stdout"
        }
      ]
    },
    {
      "cell_type": "code",
      "metadata": {
        "colab_type": "code",
        "id": "Qad3RV63UG-2",
        "colab": {}
      },
      "source": [
        ""
      ],
      "execution_count": 0,
      "outputs": []
    },
    {
      "cell_type": "markdown",
      "metadata": {
        "colab_type": "text",
        "id": "TYKFITcnUKLQ"
      },
      "source": [
        "## m4_yearly"
      ]
    },
    {
      "cell_type": "code",
      "metadata": {
        "colab_type": "code",
        "id": "0_xBRUYXUKLR",
        "outputId": "bf6da032-bfa0-4965-a3cb-e7f66a138fef",
        "colab": {
          "base_uri": "https://localhost:8080/",
          "height": 53
        }
      },
      "source": [
        "m4_yearly_dataset = get_dataset(\"m4_yearly\", regenerate=False)"
      ],
      "execution_count": 0,
      "outputs": [
        {
          "output_type": "stream",
          "text": [
            "saving time-series into /root/.mxnet/gluon-ts/datasets/m4_yearly/train/data.json\n",
            "saving time-series into /root/.mxnet/gluon-ts/datasets/m4_yearly/test/data.json\n"
          ],
          "name": "stdout"
        }
      ]
    },
    {
      "cell_type": "code",
      "metadata": {
        "colab_type": "code",
        "id": "QYwTQDmbUKLW",
        "outputId": "d6039435-d6be-4c90-ae87-da86f19e0f3d",
        "colab": {
          "base_uri": "https://localhost:8080/",
          "height": 53
        }
      },
      "source": [
        "print (len(m4_yearly_dataset.train))\n",
        "print (len(m4_yearly_dataset.test))"
      ],
      "execution_count": 0,
      "outputs": [
        {
          "output_type": "stream",
          "text": [
            "23000\n",
            "23000\n"
          ],
          "name": "stdout"
        }
      ]
    },
    {
      "cell_type": "code",
      "metadata": {
        "colab_type": "code",
        "id": "Vm2erLbqUKLa",
        "outputId": "ad50b418-21bb-4b73-931c-010aca6224ec",
        "colab": {
          "base_uri": "https://localhost:8080/",
          "height": 35
        }
      },
      "source": [
        "m4_yearly_dataset.metadata"
      ],
      "execution_count": 0,
      "outputs": [
        {
          "output_type": "execute_result",
          "data": {
            "text/plain": [
              "MetaData(freq='12M', target=None, feat_static_cat=[CategoricalFeatureInfo(name='feat_static_cat', cardinality='23000')], feat_static_real=[], feat_dynamic_real=[], feat_dynamic_cat=[], prediction_length=6)"
            ]
          },
          "metadata": {
            "tags": []
          },
          "execution_count": 77
        }
      ]
    },
    {
      "cell_type": "code",
      "metadata": {
        "colab_type": "code",
        "outputId": "5aef7d64-cdad-4b48-fffa-e5c5c23dc932",
        "id": "p--10RfDqfGS",
        "colab": {
          "base_uri": "https://localhost:8080/",
          "height": 35
        }
      },
      "source": [
        "m4_yearly_dataset.metadata.feat_static_cat[0]"
      ],
      "execution_count": 0,
      "outputs": [
        {
          "output_type": "execute_result",
          "data": {
            "text/plain": [
              "CategoricalFeatureInfo(name='feat_static_cat', cardinality='23000')"
            ]
          },
          "metadata": {
            "tags": []
          },
          "execution_count": 78
        }
      ]
    },
    {
      "cell_type": "code",
      "metadata": {
        "colab_type": "code",
        "id": "8Q0KSV9LqfGY",
        "colab": {}
      },
      "source": [
        "car = [int(m4_yearly_dataset.metadata.feat_static_cat[0].cardinality)]"
      ],
      "execution_count": 0,
      "outputs": []
    },
    {
      "cell_type": "code",
      "metadata": {
        "colab_type": "code",
        "id": "cjR3KORlUKLe",
        "outputId": "7060234f-b267-427b-ab3c-e8033af42cad",
        "colab": {
          "base_uri": "https://localhost:8080/",
          "height": 35
        }
      },
      "source": [
        "next(iter(m4_yearly_dataset.train)).keys()"
      ],
      "execution_count": 0,
      "outputs": [
        {
          "output_type": "execute_result",
          "data": {
            "text/plain": [
              "dict_keys(['start', 'target', 'feat_static_cat', 'item_id', 'source'])"
            ]
          },
          "metadata": {
            "tags": []
          },
          "execution_count": 80
        }
      ]
    },
    {
      "cell_type": "code",
      "metadata": {
        "colab_type": "code",
        "id": "LjZJvTpaUKLo",
        "colab": {}
      },
      "source": [
        "# https://gluon-ts.mxnet.io/api/gluonts/gluonts.model.deepar.html\n",
        "DA_estimator = DeepAREstimator(\n",
        "    freq=m4_yearly_dataset.metadata.freq, \n",
        "    prediction_length=m4_yearly_dataset.metadata.prediction_length,\n",
        "    trainer = deepar_trainer, # (default: Trainer())\n",
        "    context_length=None, # (default: None, in which case context_length = prediction_length)\n",
        "    num_layers=2, # (default: 2)\n",
        "    num_cells=40, # (default: 40)\n",
        "    cell_type='lstm', # (default: ‘lstm’)\n",
        "    dropout_rate=0.1, # (default: 0.1)\n",
        "    use_feat_dynamic_real=False, # (default: False)\n",
        "    use_feat_static_cat=True, # (default: False)\n",
        "    use_feat_static_real=False, # (default: False)\n",
        "    cardinality=car, # (default: None)\n",
        "    #embedding_dimension=[20], # (default: [min(50, (cat+1)//2) for cat in cardinality])\n",
        "    distr_output = StudentTOutput(), # (default: StudentTOutput())\n",
        "    scaling=True, # (default: true)\n",
        "    lags_seq=None, # (default: None, in which case these are automatically determined based on freq)\n",
        "    time_features=None, # (default: None, in which case these are automatically determined based on freq)\n",
        "    num_parallel_samples=100, # (default: 100)\n",
        ")"
      ],
      "execution_count": 0,
      "outputs": []
    },
    {
      "cell_type": "code",
      "metadata": {
        "colab_type": "code",
        "id": "XndJZabPUKLq",
        "outputId": "5653c27e-b997-4fb4-ab81-3f24e29b2868",
        "colab": {
          "base_uri": "https://localhost:8080/",
          "height": 1000
        }
      },
      "source": [
        "DA_predictor = DA_estimator.train(m4_yearly_dataset.train)"
      ],
      "execution_count": 0,
      "outputs": [
        {
          "output_type": "stream",
          "text": [
            "\r  0%|          | 0/50 [00:00<?, ?it/s]"
          ],
          "name": "stderr"
        },
        {
          "output_type": "stream",
          "text": [
            "learning rate from ``lr_scheduler`` has been overwritten by ``learning_rate`` in optimizer.\n"
          ],
          "name": "stdout"
        },
        {
          "output_type": "stream",
          "text": [
            "100%|██████████| 50/50 [00:02<00:00, 20.35it/s, epoch=1/100, avg_epoch_loss=8.28]\n",
            "100%|██████████| 50/50 [00:02<00:00, 22.56it/s, epoch=2/100, avg_epoch_loss=8.04]\n",
            "100%|██████████| 50/50 [00:02<00:00, 23.63it/s, epoch=3/100, avg_epoch_loss=7.32]\n",
            "100%|██████████| 50/50 [00:02<00:00, 23.59it/s, epoch=4/100, avg_epoch_loss=6.58]\n",
            "100%|██████████| 50/50 [00:02<00:00, 23.48it/s, epoch=5/100, avg_epoch_loss=6.65]\n",
            "100%|██████████| 50/50 [00:02<00:00, 21.50it/s, epoch=6/100, avg_epoch_loss=7.21]\n",
            "100%|██████████| 50/50 [00:02<00:00, 23.31it/s, epoch=7/100, avg_epoch_loss=7.33]\n",
            "100%|██████████| 50/50 [00:02<00:00, 22.34it/s, epoch=8/100, avg_epoch_loss=7.31]\n",
            "100%|██████████| 50/50 [00:02<00:00, 23.80it/s, epoch=9/100, avg_epoch_loss=7.52]\n",
            "100%|██████████| 50/50 [00:02<00:00, 24.15it/s, epoch=10/100, avg_epoch_loss=7.29]\n",
            "100%|██████████| 50/50 [00:02<00:00, 21.86it/s, epoch=11/100, avg_epoch_loss=7.17]\n",
            "100%|██████████| 50/50 [00:02<00:00, 23.09it/s, epoch=12/100, avg_epoch_loss=6.79]\n",
            "100%|██████████| 50/50 [00:02<00:00, 22.56it/s, epoch=13/100, avg_epoch_loss=7.14]\n",
            "100%|██████████| 50/50 [00:02<00:00, 22.78it/s, epoch=14/100, avg_epoch_loss=7.18]\n",
            "100%|██████████| 50/50 [00:02<00:00, 23.12it/s, epoch=15/100, avg_epoch_loss=7.45]\n",
            "100%|██████████| 50/50 [00:02<00:00, 22.54it/s, epoch=16/100, avg_epoch_loss=7.45]\n",
            "100%|██████████| 50/50 [00:02<00:00, 23.62it/s, epoch=17/100, avg_epoch_loss=6.92]\n",
            "100%|██████████| 50/50 [00:02<00:00, 23.66it/s, epoch=18/100, avg_epoch_loss=6.41]\n",
            "100%|██████████| 50/50 [00:02<00:00, 23.33it/s, epoch=19/100, avg_epoch_loss=6.56]\n",
            "100%|██████████| 50/50 [00:02<00:00, 21.97it/s, epoch=20/100, avg_epoch_loss=7.17]\n",
            "100%|██████████| 50/50 [00:02<00:00, 23.11it/s, epoch=21/100, avg_epoch_loss=7.34]\n",
            "100%|██████████| 50/50 [00:02<00:00, 22.13it/s, epoch=22/100, avg_epoch_loss=7.32]\n",
            "100%|██████████| 50/50 [00:02<00:00, 23.15it/s, epoch=23/100, avg_epoch_loss=7.55]\n",
            "100%|██████████| 50/50 [00:02<00:00, 23.76it/s, epoch=24/100, avg_epoch_loss=7.57]\n",
            "100%|██████████| 50/50 [00:02<00:00, 22.09it/s, epoch=25/100, avg_epoch_loss=7.23]\n",
            "100%|██████████| 50/50 [00:02<00:00, 22.50it/s, epoch=26/100, avg_epoch_loss=6.99]\n",
            "100%|██████████| 50/50 [00:02<00:00, 21.06it/s, epoch=27/100, avg_epoch_loss=7.32]\n",
            "100%|██████████| 50/50 [00:02<00:00, 21.92it/s, epoch=28/100, avg_epoch_loss=7.35]\n",
            "100%|██████████| 50/50 [00:02<00:00, 22.24it/s, epoch=29/100, avg_epoch_loss=7.4]\n",
            "100%|██████████| 50/50 [00:02<00:00, 22.62it/s, epoch=30/100, avg_epoch_loss=7.2]\n",
            "100%|██████████| 50/50 [00:02<00:00, 22.50it/s, epoch=31/100, avg_epoch_loss=7.23]\n",
            "100%|██████████| 50/50 [00:02<00:00, 22.65it/s, epoch=32/100, avg_epoch_loss=6.28]\n",
            "100%|██████████| 50/50 [00:02<00:00, 23.10it/s, epoch=33/100, avg_epoch_loss=6.33]\n",
            "100%|██████████| 50/50 [00:02<00:00, 21.79it/s, epoch=34/100, avg_epoch_loss=6.71]\n",
            "100%|██████████| 50/50 [00:02<00:00, 22.03it/s, epoch=35/100, avg_epoch_loss=7.4]\n",
            "100%|██████████| 50/50 [00:02<00:00, 22.34it/s, epoch=36/100, avg_epoch_loss=7.22]\n",
            "100%|██████████| 50/50 [00:02<00:00, 22.41it/s, epoch=37/100, avg_epoch_loss=7.46]\n",
            "100%|██████████| 50/50 [00:02<00:00, 23.17it/s, epoch=38/100, avg_epoch_loss=7.65]\n",
            "100%|██████████| 50/50 [00:02<00:00, 22.29it/s, epoch=39/100, avg_epoch_loss=7.39]\n",
            "100%|██████████| 50/50 [00:02<00:00, 21.59it/s, epoch=40/100, avg_epoch_loss=6.95]\n",
            "100%|██████████| 50/50 [00:02<00:00, 20.87it/s, epoch=41/100, avg_epoch_loss=7.17]\n",
            "100%|██████████| 50/50 [00:02<00:00, 21.50it/s, epoch=42/100, avg_epoch_loss=7.37]\n",
            "100%|██████████| 50/50 [00:02<00:00, 22.61it/s, epoch=43/100, avg_epoch_loss=7.3]\n",
            "100%|██████████| 50/50 [00:02<00:00, 21.22it/s, epoch=44/100, avg_epoch_loss=7.18]\n",
            "100%|██████████| 50/50 [00:02<00:00, 22.42it/s, epoch=45/100, avg_epoch_loss=7.29]\n",
            "100%|██████████| 50/50 [00:02<00:00, 22.45it/s, epoch=46/100, avg_epoch_loss=6.35]\n",
            "100%|██████████| 50/50 [00:02<00:00, 22.31it/s, epoch=47/100, avg_epoch_loss=6.22]\n",
            "100%|██████████| 50/50 [00:02<00:00, 21.99it/s, epoch=48/100, avg_epoch_loss=6.66]\n",
            "100%|██████████| 50/50 [00:02<00:00, 21.05it/s, epoch=49/100, avg_epoch_loss=7.33]\n",
            "100%|██████████| 50/50 [00:02<00:00, 22.39it/s, epoch=50/100, avg_epoch_loss=7.2]\n",
            "100%|██████████| 50/50 [00:02<00:00, 21.47it/s, epoch=51/100, avg_epoch_loss=7.31]\n",
            "100%|██████████| 50/50 [00:02<00:00, 23.62it/s, epoch=52/100, avg_epoch_loss=7.67]\n",
            "100%|██████████| 50/50 [00:02<00:00, 23.67it/s, epoch=53/100, avg_epoch_loss=7.39]\n",
            "100%|██████████| 50/50 [00:02<00:00, 21.59it/s, epoch=54/100, avg_epoch_loss=7.15]\n",
            "100%|██████████| 50/50 [00:02<00:00, 20.72it/s, epoch=55/100, avg_epoch_loss=7.07]\n",
            "100%|██████████| 50/50 [00:02<00:00, 22.15it/s, epoch=56/100, avg_epoch_loss=7.31]\n",
            "100%|██████████| 50/50 [00:02<00:00, 21.93it/s, epoch=57/100, avg_epoch_loss=7.32]\n",
            "100%|██████████| 50/50 [00:02<00:00, 21.32it/s, epoch=58/100, avg_epoch_loss=7.11]\n",
            "100%|██████████| 50/50 [00:02<00:00, 21.50it/s, epoch=59/100, avg_epoch_loss=7.25]\n",
            "100%|██████████| 50/50 [00:02<00:00, 22.58it/s, epoch=60/100, avg_epoch_loss=6.59]\n",
            "100%|██████████| 50/50 [00:02<00:00, 22.88it/s, epoch=61/100, avg_epoch_loss=6.1]\n",
            "100%|██████████| 50/50 [00:02<00:00, 22.16it/s, epoch=62/100, avg_epoch_loss=6.38]\n",
            "100%|██████████| 50/50 [00:02<00:00, 21.14it/s, epoch=63/100, avg_epoch_loss=7.11]\n",
            "100%|██████████| 50/50 [00:02<00:00, 22.31it/s, epoch=64/100, avg_epoch_loss=7.25]\n",
            "100%|██████████| 50/50 [00:02<00:00, 21.13it/s, epoch=65/100, avg_epoch_loss=7.26]\n",
            "100%|██████████| 50/50 [00:02<00:00, 23.13it/s, epoch=66/100, avg_epoch_loss=7.54]\n",
            "100%|██████████| 50/50 [00:02<00:00, 23.27it/s, epoch=67/100, avg_epoch_loss=7.51]\n",
            "100%|██████████| 50/50 [00:02<00:00, 21.49it/s, epoch=68/100, avg_epoch_loss=7.26]\n",
            "100%|██████████| 50/50 [00:03<00:00, 14.94it/s, epoch=69/100, avg_epoch_loss=6.92]\n",
            "100%|██████████| 50/50 [00:03<00:00, 13.88it/s, epoch=70/100, avg_epoch_loss=7.27]\n",
            "100%|██████████| 50/50 [00:02<00:00, 21.25it/s, epoch=71/100, avg_epoch_loss=7.33]\n",
            "100%|██████████| 50/50 [00:02<00:00, 21.45it/s, epoch=72/100, avg_epoch_loss=7.28]\n",
            "100%|██████████| 50/50 [00:02<00:00, 21.26it/s, epoch=73/100, avg_epoch_loss=7.05]\n",
            "100%|██████████| 50/50 [00:02<00:00, 21.76it/s, epoch=74/100, avg_epoch_loss=6.97]\n",
            "100%|██████████| 50/50 [00:02<00:00, 22.32it/s, epoch=75/100, avg_epoch_loss=6.09]\n",
            "100%|██████████| 50/50 [00:02<00:00, 22.09it/s, epoch=76/100, avg_epoch_loss=6.26]\n",
            "100%|██████████| 50/50 [00:02<00:00, 20.82it/s, epoch=77/100, avg_epoch_loss=6.93]\n",
            "100%|██████████| 50/50 [00:02<00:00, 20.61it/s, epoch=78/100, avg_epoch_loss=7.38]\n",
            "100%|██████████| 50/50 [00:02<00:00, 21.61it/s, epoch=79/100, avg_epoch_loss=7.23]\n",
            "100%|██████████| 50/50 [00:02<00:00, 21.69it/s, epoch=80/100, avg_epoch_loss=7.48]\n",
            "100%|██████████| 50/50 [00:02<00:00, 22.95it/s, epoch=81/100, avg_epoch_loss=7.59]\n",
            "100%|██████████| 50/50 [00:02<00:00, 22.35it/s, epoch=82/100, avg_epoch_loss=7.33]\n",
            "100%|██████████| 50/50 [00:02<00:00, 22.02it/s, epoch=83/100, avg_epoch_loss=6.91]\n",
            "100%|██████████| 50/50 [00:02<00:00, 21.37it/s, epoch=84/100, avg_epoch_loss=7.18]\n",
            "100%|██████████| 50/50 [00:02<00:00, 21.45it/s, epoch=85/100, avg_epoch_loss=7.4]\n"
          ],
          "name": "stderr"
        }
      ]
    },
    {
      "cell_type": "code",
      "metadata": {
        "colab_type": "code",
        "id": "wA7sOd6CUKLu",
        "outputId": "0a82b7f9-c6ab-4fbe-dacb-840e2ec07a08",
        "colab": {
          "base_uri": "https://localhost:8080/",
          "height": 503
        }
      },
      "source": [
        "forecast_it, ts_it = make_evaluation_predictions(\n",
        "    dataset=m4_yearly_dataset.test, \n",
        "    predictor=DA_predictor, \n",
        "    num_samples=100, \n",
        ")\n",
        "\n",
        "forecasts = list(forecast_it)\n",
        "tss = list(ts_it)\n",
        "\n",
        "evaluator = Evaluator(quantiles=[0.1, 0.5, 0.9])\n",
        "agg_metrics, item_metrics = evaluator(iter(tss), iter(forecasts), num_series=len(m4_yearly_dataset.test))\n",
        "\n",
        "print(json.dumps(agg_metrics, indent=4))"
      ],
      "execution_count": 0,
      "outputs": [
        {
          "output_type": "stream",
          "text": [
            "Running evaluation: 100%|██████████| 23000/23000 [00:00<00:00, 43603.97it/s]\n"
          ],
          "name": "stderr"
        },
        {
          "output_type": "stream",
          "text": [
            "{\n",
            "    \"MSE\": 3919126.69023554,\n",
            "    \"abs_error\": 145752912.43978882,\n",
            "    \"abs_target_sum\": 860724679.6655273,\n",
            "    \"abs_target_mean\": 6237.135359895143,\n",
            "    \"seasonal_error\": 288.79964609563865,\n",
            "    \"MASE\": 5.245301988194033,\n",
            "    \"MAPE\": 0.2451058610301135,\n",
            "    \"sMAPE\": 0.18763930514534188,\n",
            "    \"OWA\": NaN,\n",
            "    \"MSIS\": 103.04987363804142,\n",
            "    \"QuantileLoss[0.1]\": 85261746.33708191,\n",
            "    \"Coverage[0.1]\": 0.41618115942028944,\n",
            "    \"QuantileLoss[0.5]\": 145752912.40400696,\n",
            "    \"Coverage[0.5]\": 0.6689275362318828,\n",
            "    \"QuantileLoss[0.9]\": 105988470.24346924,\n",
            "    \"Coverage[0.9]\": 0.8192246376811587,\n",
            "    \"RMSE\": 1979.6784310174064,\n",
            "    \"NRMSE\": 0.31740187069640385,\n",
            "    \"ND\": 0.16933743842041055,\n",
            "    \"wQuantileLoss[0.1]\": 0.09905809412855936,\n",
            "    \"wQuantileLoss[0.5]\": 0.16933743837883874,\n",
            "    \"wQuantileLoss[0.9]\": 0.12313864438586303,\n",
            "    \"mean_wQuantileLoss\": 0.13051139229775371,\n",
            "    \"MAE_Coverage\": 0.1886280193236712\n",
            "}\n"
          ],
          "name": "stdout"
        }
      ]
    },
    {
      "cell_type": "code",
      "metadata": {
        "colab_type": "code",
        "id": "lV8g1PegUKLy",
        "colab": {}
      },
      "source": [
        ""
      ],
      "execution_count": 0,
      "outputs": []
    },
    {
      "cell_type": "markdown",
      "metadata": {
        "colab_type": "text",
        "id": "aC9YpIM1UQbJ"
      },
      "source": [
        "## traffic"
      ]
    },
    {
      "cell_type": "code",
      "metadata": {
        "colab_type": "code",
        "id": "h2uMLoCRUQbK",
        "outputId": "c5ed62d8-edc3-46b2-dbb9-1fee4ae9c239",
        "colab": {
          "base_uri": "https://localhost:8080/",
          "height": 53
        }
      },
      "source": [
        "traffic_dataset = get_dataset(\"traffic\", regenerate=False)"
      ],
      "execution_count": 0,
      "outputs": [
        {
          "output_type": "stream",
          "text": [
            "saving time-series into /root/.mxnet/gluon-ts/datasets/traffic/train/data.json\n",
            "saving time-series into /root/.mxnet/gluon-ts/datasets/traffic/test/data.json\n"
          ],
          "name": "stdout"
        }
      ]
    },
    {
      "cell_type": "code",
      "metadata": {
        "colab_type": "code",
        "id": "-1JFshCqUQbM",
        "outputId": "db2547ec-2bd0-40de-8c2e-2ba8340368d9",
        "colab": {
          "base_uri": "https://localhost:8080/",
          "height": 53
        }
      },
      "source": [
        "print (len(traffic_dataset.train))\n",
        "print (len(traffic_dataset.test))"
      ],
      "execution_count": 0,
      "outputs": [
        {
          "output_type": "stream",
          "text": [
            "862\n",
            "6034\n"
          ],
          "name": "stdout"
        }
      ]
    },
    {
      "cell_type": "code",
      "metadata": {
        "colab_type": "code",
        "id": "C5EDyAIYUQbP",
        "outputId": "622001d0-01ab-4e81-af0e-f3fb565ef213",
        "colab": {
          "base_uri": "https://localhost:8080/",
          "height": 35
        }
      },
      "source": [
        "traffic_dataset.metadata"
      ],
      "execution_count": 0,
      "outputs": [
        {
          "output_type": "execute_result",
          "data": {
            "text/plain": [
              "MetaData(freq='H', target=None, feat_static_cat=[CategoricalFeatureInfo(name='feat_static_cat', cardinality='862')], feat_static_real=[], feat_dynamic_real=[], feat_dynamic_cat=[], prediction_length=24)"
            ]
          },
          "metadata": {
            "tags": []
          },
          "execution_count": 86
        }
      ]
    },
    {
      "cell_type": "code",
      "metadata": {
        "colab_type": "code",
        "outputId": "05db4bd8-c046-4e2a-f454-897929cb48d8",
        "id": "ci8ZPwSNqrim",
        "colab": {
          "base_uri": "https://localhost:8080/",
          "height": 35
        }
      },
      "source": [
        "traffic_dataset.metadata.feat_static_cat[0]"
      ],
      "execution_count": 0,
      "outputs": [
        {
          "output_type": "execute_result",
          "data": {
            "text/plain": [
              "CategoricalFeatureInfo(name='feat_static_cat', cardinality='862')"
            ]
          },
          "metadata": {
            "tags": []
          },
          "execution_count": 87
        }
      ]
    },
    {
      "cell_type": "code",
      "metadata": {
        "colab_type": "code",
        "id": "PbmxkMIrqriq",
        "colab": {}
      },
      "source": [
        "car = [int(traffic_dataset.metadata.feat_static_cat[0].cardinality)]"
      ],
      "execution_count": 0,
      "outputs": []
    },
    {
      "cell_type": "code",
      "metadata": {
        "colab_type": "code",
        "id": "DJC6OPsyUQbT",
        "outputId": "8d15182d-1a4b-40b0-a525-3fe4790e62e5",
        "colab": {
          "base_uri": "https://localhost:8080/",
          "height": 35
        }
      },
      "source": [
        "next(iter(traffic_dataset.train)).keys()"
      ],
      "execution_count": 0,
      "outputs": [
        {
          "output_type": "execute_result",
          "data": {
            "text/plain": [
              "dict_keys(['start', 'target', 'feat_static_cat', 'item_id', 'source'])"
            ]
          },
          "metadata": {
            "tags": []
          },
          "execution_count": 89
        }
      ]
    },
    {
      "cell_type": "code",
      "metadata": {
        "colab_type": "code",
        "id": "B4zoldaEUQbe",
        "colab": {}
      },
      "source": [
        "# https://gluon-ts.mxnet.io/api/gluonts/gluonts.model.deepar.html\n",
        "DA_estimator = DeepAREstimator(\n",
        "    freq=traffic_dataset.metadata.freq, \n",
        "    prediction_length=traffic_dataset.metadata.prediction_length,\n",
        "    trainer = deepar_trainer, # (default: Trainer())\n",
        "    context_length=None, # (default: None, in which case context_length = prediction_length)\n",
        "    num_layers=2, # (default: 2)\n",
        "    num_cells=40, # (default: 40)\n",
        "    cell_type='lstm', # (default: ‘lstm’)\n",
        "    dropout_rate=0.1, # (default: 0.1)\n",
        "    use_feat_dynamic_real=False, # (default: False)\n",
        "    use_feat_static_cat=True, # (default: False)\n",
        "    use_feat_static_real=False, # (default: False)\n",
        "    cardinality=car, # (default: None)\n",
        "    #embedding_dimension=[20], # (default: [min(50, (cat+1)//2) for cat in cardinality])\n",
        "    distr_output = StudentTOutput(), # (default: StudentTOutput())\n",
        "    scaling=True, # (default: true)\n",
        "    lags_seq=None, # (default: None, in which case these are automatically determined based on freq)\n",
        "    time_features=None, # (default: None, in which case these are automatically determined based on freq)\n",
        "    num_parallel_samples=100, # (default: 100)\n",
        ")"
      ],
      "execution_count": 0,
      "outputs": []
    },
    {
      "cell_type": "code",
      "metadata": {
        "colab_type": "code",
        "id": "SJ-eJ1uYUQbh",
        "outputId": "1ec0cdb5-60ce-4086-eb79-4446f0d3ace2",
        "colab": {
          "base_uri": "https://localhost:8080/",
          "height": 1000
        }
      },
      "source": [
        "DA_predictor = DA_estimator.train(traffic_dataset.train)"
      ],
      "execution_count": 0,
      "outputs": [
        {
          "output_type": "stream",
          "text": [
            "\r  0%|          | 0/50 [00:00<?, ?it/s]"
          ],
          "name": "stderr"
        },
        {
          "output_type": "stream",
          "text": [
            "learning rate from ``lr_scheduler`` has been overwritten by ``learning_rate`` in optimizer.\n"
          ],
          "name": "stdout"
        },
        {
          "output_type": "stream",
          "text": [
            "100%|██████████| 50/50 [00:11<00:00,  4.23it/s, epoch=1/100, avg_epoch_loss=-2.33]\n",
            "100%|██████████| 50/50 [00:11<00:00,  4.18it/s, epoch=2/100, avg_epoch_loss=-3.14]\n",
            "100%|██████████| 50/50 [00:12<00:00,  4.15it/s, epoch=3/100, avg_epoch_loss=-3.35]\n",
            "100%|██████████| 50/50 [00:12<00:00,  4.12it/s, epoch=4/100, avg_epoch_loss=-3.41]\n",
            "100%|██████████| 50/50 [00:11<00:00,  4.21it/s, epoch=5/100, avg_epoch_loss=-3.48]\n",
            "100%|██████████| 50/50 [00:11<00:00,  4.27it/s, epoch=6/100, avg_epoch_loss=-3.52]\n",
            "100%|██████████| 50/50 [00:12<00:00,  4.12it/s, epoch=7/100, avg_epoch_loss=-3.58]\n",
            "100%|██████████| 50/50 [00:11<00:00,  4.21it/s, epoch=8/100, avg_epoch_loss=-3.6]\n",
            "100%|██████████| 50/50 [00:12<00:00,  3.90it/s, epoch=9/100, avg_epoch_loss=-3.63]\n",
            "100%|██████████| 50/50 [00:12<00:00,  4.15it/s, epoch=10/100, avg_epoch_loss=-3.66]\n",
            "100%|██████████| 50/50 [00:11<00:00,  4.25it/s, epoch=11/100, avg_epoch_loss=-3.67]\n",
            "100%|██████████| 50/50 [00:12<00:00,  3.91it/s, epoch=12/100, avg_epoch_loss=-3.76]\n",
            "100%|██████████| 50/50 [00:12<00:00,  4.12it/s, epoch=13/100, avg_epoch_loss=-3.74]\n",
            "100%|██████████| 50/50 [00:12<00:00,  4.10it/s, epoch=14/100, avg_epoch_loss=-3.75]\n",
            "100%|██████████| 50/50 [00:12<00:00,  4.05it/s, epoch=15/100, avg_epoch_loss=-3.75]\n",
            "100%|██████████| 50/50 [00:12<00:00,  3.89it/s, epoch=16/100, avg_epoch_loss=-3.74]\n",
            "100%|██████████| 50/50 [00:12<00:00,  3.92it/s, epoch=17/100, avg_epoch_loss=-3.74]\n",
            "100%|██████████| 50/50 [00:12<00:00,  4.03it/s, epoch=18/100, avg_epoch_loss=-3.71]\n",
            "100%|██████████| 50/50 [00:12<00:00,  4.10it/s, epoch=19/100, avg_epoch_loss=-3.73]\n",
            "100%|██████████| 50/50 [00:12<00:00,  4.12it/s, epoch=20/100, avg_epoch_loss=-3.78]\n",
            "100%|██████████| 50/50 [00:11<00:00,  4.20it/s, epoch=21/100, avg_epoch_loss=-3.76]\n",
            "100%|██████████| 50/50 [00:11<00:00,  4.18it/s, epoch=22/100, avg_epoch_loss=-3.6] \n",
            "100%|██████████| 50/50 [00:12<00:00,  4.13it/s, epoch=23/100, avg_epoch_loss=-3.84]\n",
            "100%|██████████| 50/50 [00:12<00:00,  3.94it/s, epoch=24/100, avg_epoch_loss=-3.77]\n",
            "100%|██████████| 50/50 [00:12<00:00,  4.00it/s, epoch=25/100, avg_epoch_loss=-3.8] \n",
            "100%|██████████| 50/50 [00:12<00:00,  3.97it/s, epoch=26/100, avg_epoch_loss=-3.7] \n",
            "100%|██████████| 50/50 [00:12<00:00,  4.10it/s, epoch=27/100, avg_epoch_loss=-3.76]\n",
            "100%|██████████| 50/50 [00:12<00:00,  4.10it/s, epoch=28/100, avg_epoch_loss=-3.81]\n",
            "100%|██████████| 50/50 [00:14<00:00,  3.34it/s, epoch=29/100, avg_epoch_loss=-3.73]\n",
            "100%|██████████| 50/50 [00:12<00:00,  4.15it/s, epoch=30/100, avg_epoch_loss=-3.79]\n",
            "100%|██████████| 50/50 [00:12<00:00,  4.16it/s, epoch=31/100, avg_epoch_loss=-3.72]\n",
            "100%|██████████| 50/50 [00:11<00:00,  4.19it/s, epoch=32/100, avg_epoch_loss=-3.75]\n",
            "100%|██████████| 50/50 [00:12<00:00,  4.04it/s, epoch=33/100, avg_epoch_loss=-3.88]\n",
            "100%|██████████| 50/50 [00:12<00:00,  3.98it/s, epoch=34/100, avg_epoch_loss=-3.87]\n",
            "100%|██████████| 50/50 [00:11<00:00,  4.27it/s, epoch=35/100, avg_epoch_loss=-3.76]\n",
            "100%|██████████| 50/50 [00:11<00:00,  4.23it/s, epoch=36/100, avg_epoch_loss=-3.67]\n",
            "100%|██████████| 50/50 [00:12<00:00,  3.94it/s, epoch=37/100, avg_epoch_loss=-3.71]\n",
            "100%|██████████| 50/50 [00:12<00:00,  3.91it/s, epoch=38/100, avg_epoch_loss=-3.68]\n",
            "100%|██████████| 50/50 [00:12<00:00,  3.98it/s, epoch=39/100, avg_epoch_loss=-3.8] \n",
            "100%|██████████| 50/50 [00:12<00:00,  3.97it/s, epoch=40/100, avg_epoch_loss=-3.82]\n",
            "100%|██████████| 50/50 [00:12<00:00,  4.05it/s, epoch=41/100, avg_epoch_loss=-3.62]\n",
            "100%|██████████| 50/50 [00:12<00:00,  4.00it/s, epoch=42/100, avg_epoch_loss=-3.73]\n",
            "100%|██████████| 50/50 [00:12<00:00,  3.94it/s, epoch=43/100, avg_epoch_loss=-3.74]\n",
            "100%|██████████| 50/50 [00:12<00:00,  3.93it/s, epoch=44/100, avg_epoch_loss=-3.84]\n",
            "100%|██████████| 50/50 [00:12<00:00,  3.91it/s, epoch=45/100, avg_epoch_loss=-3.87]\n",
            "100%|██████████| 50/50 [00:12<00:00,  4.07it/s, epoch=46/100, avg_epoch_loss=-3.9] \n",
            "100%|██████████| 50/50 [00:12<00:00,  3.99it/s, epoch=47/100, avg_epoch_loss=-3.86]\n",
            "100%|██████████| 50/50 [00:12<00:00,  3.89it/s, epoch=48/100, avg_epoch_loss=-3.81]\n",
            "100%|██████████| 50/50 [00:13<00:00,  3.74it/s, epoch=49/100, avg_epoch_loss=-3.89]\n",
            "100%|██████████| 50/50 [00:12<00:00,  4.10it/s, epoch=50/100, avg_epoch_loss=-3.9] \n",
            "100%|██████████| 50/50 [00:13<00:00,  3.84it/s, epoch=51/100, avg_epoch_loss=-3.86]\n",
            "100%|██████████| 50/50 [00:12<00:00,  3.92it/s, epoch=52/100, avg_epoch_loss=-3.82]\n",
            "100%|██████████| 50/50 [00:12<00:00,  3.95it/s, epoch=53/100, avg_epoch_loss=-3.83]\n",
            "100%|██████████| 50/50 [00:12<00:00,  3.95it/s, epoch=54/100, avg_epoch_loss=-3.9] \n",
            "100%|██████████| 50/50 [00:12<00:00,  4.10it/s, epoch=55/100, avg_epoch_loss=-3.87]\n",
            "100%|██████████| 50/50 [00:12<00:00,  4.13it/s, epoch=56/100, avg_epoch_loss=-3.8] \n",
            "100%|██████████| 50/50 [00:12<00:00,  4.11it/s, epoch=57/100, avg_epoch_loss=-3.8] \n",
            "100%|██████████| 50/50 [00:13<00:00,  3.79it/s, epoch=58/100, avg_epoch_loss=-3.88]\n",
            "100%|██████████| 50/50 [00:13<00:00,  3.76it/s, epoch=59/100, avg_epoch_loss=-3.9] \n",
            "100%|██████████| 50/50 [00:12<00:00,  4.02it/s, epoch=60/100, avg_epoch_loss=-3.92]\n",
            "100%|██████████| 50/50 [00:12<00:00,  4.17it/s, epoch=61/100, avg_epoch_loss=-3.91]\n",
            "100%|██████████| 50/50 [00:11<00:00,  4.23it/s, epoch=62/100, avg_epoch_loss=-3.82]\n",
            "100%|██████████| 50/50 [00:11<00:00,  4.17it/s, epoch=63/100, avg_epoch_loss=-3.93]\n",
            "100%|██████████| 50/50 [00:11<00:00,  4.22it/s, epoch=64/100, avg_epoch_loss=-3.91]\n",
            "100%|██████████| 50/50 [00:11<00:00,  4.18it/s, epoch=65/100, avg_epoch_loss=-3.84]\n",
            "100%|██████████| 50/50 [00:11<00:00,  4.27it/s, epoch=66/100, avg_epoch_loss=-3.88]\n",
            "100%|██████████| 50/50 [00:11<00:00,  4.32it/s, epoch=67/100, avg_epoch_loss=-3.9] \n",
            "100%|██████████| 50/50 [00:11<00:00,  4.31it/s, epoch=68/100, avg_epoch_loss=-3.86]\n",
            "100%|██████████| 50/50 [00:11<00:00,  4.35it/s, epoch=69/100, avg_epoch_loss=-3.9] \n",
            "100%|██████████| 50/50 [00:11<00:00,  4.34it/s, epoch=70/100, avg_epoch_loss=-3.9]\n",
            "100%|██████████| 50/50 [00:11<00:00,  4.30it/s, epoch=71/100, avg_epoch_loss=-3.85]\n",
            "100%|██████████| 50/50 [00:11<00:00,  4.38it/s, epoch=72/100, avg_epoch_loss=-3.91]\n",
            "100%|██████████| 50/50 [00:11<00:00,  4.28it/s, epoch=73/100, avg_epoch_loss=-3.93]\n",
            "100%|██████████| 50/50 [00:11<00:00,  4.40it/s, epoch=74/100, avg_epoch_loss=-3.95]\n",
            "100%|██████████| 50/50 [00:11<00:00,  4.41it/s, epoch=75/100, avg_epoch_loss=-3.94]\n",
            "100%|██████████| 50/50 [00:11<00:00,  4.35it/s, epoch=76/100, avg_epoch_loss=-3.9] \n",
            "100%|██████████| 50/50 [00:11<00:00,  4.32it/s, epoch=77/100, avg_epoch_loss=-3.84]\n",
            "100%|██████████| 50/50 [00:13<00:00,  3.74it/s, epoch=78/100, avg_epoch_loss=-3.93]\n",
            "100%|██████████| 50/50 [00:11<00:00,  4.22it/s, epoch=79/100, avg_epoch_loss=-3.94]\n",
            "100%|██████████| 50/50 [00:11<00:00,  4.29it/s, epoch=80/100, avg_epoch_loss=-3.89]\n",
            "100%|██████████| 50/50 [00:11<00:00,  4.33it/s, epoch=81/100, avg_epoch_loss=-3.87]\n",
            "100%|██████████| 50/50 [00:11<00:00,  4.39it/s, epoch=82/100, avg_epoch_loss=-3.86]\n",
            "100%|██████████| 50/50 [00:11<00:00,  4.36it/s, epoch=83/100, avg_epoch_loss=-3.92]\n",
            "100%|██████████| 50/50 [00:11<00:00,  4.29it/s, epoch=84/100, avg_epoch_loss=-3.92]\n",
            "100%|██████████| 50/50 [00:12<00:00,  4.16it/s, epoch=85/100, avg_epoch_loss=-3.95]\n",
            "100%|██████████| 50/50 [00:11<00:00,  4.36it/s, epoch=86/100, avg_epoch_loss=-3.94]\n",
            "100%|██████████| 50/50 [00:12<00:00,  4.11it/s, epoch=87/100, avg_epoch_loss=-3.95]\n",
            "100%|██████████| 50/50 [00:11<00:00,  4.25it/s, epoch=88/100, avg_epoch_loss=-4]\n",
            "100%|██████████| 50/50 [00:11<00:00,  4.18it/s, epoch=89/100, avg_epoch_loss=-3.95]\n",
            "100%|██████████| 50/50 [00:12<00:00,  4.13it/s, epoch=90/100, avg_epoch_loss=-3.95]\n",
            "100%|██████████| 50/50 [00:11<00:00,  4.23it/s, epoch=91/100, avg_epoch_loss=-3.96]\n",
            "100%|██████████| 50/50 [00:11<00:00,  4.30it/s, epoch=92/100, avg_epoch_loss=-3.95]\n",
            "100%|██████████| 50/50 [00:11<00:00,  4.36it/s, epoch=93/100, avg_epoch_loss=-3.99]\n",
            "100%|██████████| 50/50 [00:11<00:00,  4.29it/s, epoch=94/100, avg_epoch_loss=-3.92]\n",
            "100%|██████████| 50/50 [00:11<00:00,  4.21it/s, epoch=95/100, avg_epoch_loss=-3.98]\n",
            "100%|██████████| 50/50 [00:11<00:00,  4.36it/s, epoch=96/100, avg_epoch_loss=-3.93]\n",
            "100%|██████████| 50/50 [00:11<00:00,  4.37it/s, epoch=97/100, avg_epoch_loss=-3.93]\n",
            "100%|██████████| 50/50 [00:11<00:00,  4.36it/s, epoch=98/100, avg_epoch_loss=-3.97]\n",
            "100%|██████████| 50/50 [00:11<00:00,  4.23it/s, epoch=99/100, avg_epoch_loss=-3.96]\n",
            "100%|██████████| 50/50 [00:11<00:00,  4.30it/s, epoch=100/100, avg_epoch_loss=-3.96]\n"
          ],
          "name": "stderr"
        }
      ]
    },
    {
      "cell_type": "code",
      "metadata": {
        "colab_type": "code",
        "id": "2uR2JppRUQbk",
        "outputId": "1be62ee8-6133-47bd-8af2-9be71e5cc784",
        "colab": {
          "base_uri": "https://localhost:8080/",
          "height": 503
        }
      },
      "source": [
        "forecast_it, ts_it = make_evaluation_predictions(\n",
        "    dataset=traffic_dataset.test, \n",
        "    predictor=DA_predictor, \n",
        "    num_samples=100, \n",
        ")\n",
        "\n",
        "forecasts = list(forecast_it)\n",
        "tss = list(ts_it)\n",
        "\n",
        "evaluator = Evaluator(quantiles=[0.1, 0.5, 0.9])\n",
        "agg_metrics, item_metrics = evaluator(iter(tss), iter(forecasts), num_series=len(traffic_dataset.test))\n",
        "\n",
        "print(json.dumps(agg_metrics, indent=4))"
      ],
      "execution_count": 0,
      "outputs": [
        {
          "output_type": "stream",
          "text": [
            "Running evaluation: 100%|██████████| 6034/6034 [00:00<00:00, 51233.61it/s]\n"
          ],
          "name": "stderr"
        },
        {
          "output_type": "stream",
          "text": [
            "{\n",
            "    \"MSE\": 0.0006300274364436295,\n",
            "    \"abs_error\": 1352.253042393364,\n",
            "    \"abs_target_sum\": 8672.5710073933,\n",
            "    \"abs_target_mean\": 0.05988682885450042,\n",
            "    \"seasonal_error\": 0.015220711169889612,\n",
            "    \"MASE\": 0.5983531101197326,\n",
            "    \"MAPE\": 0.23569191746745768,\n",
            "    \"sMAPE\": 0.16275750719598817,\n",
            "    \"OWA\": NaN,\n",
            "    \"MSIS\": 8.844226183430925,\n",
            "    \"QuantileLoss[0.1]\": 637.7551666090624,\n",
            "    \"Coverage[0.1]\": 0.1023022317975912,\n",
            "    \"QuantileLoss[0.5]\": 1352.2530407310182,\n",
            "    \"Coverage[0.5]\": 0.5676375538614535,\n",
            "    \"QuantileLoss[0.9]\": 919.033253759315,\n",
            "    \"Coverage[0.9]\": 0.9137802452767645,\n",
            "    \"RMSE\": 0.025100347337111285,\n",
            "    \"NRMSE\": 0.41912967871607426,\n",
            "    \"ND\": 0.15592297154333803,\n",
            "    \"wQuantileLoss[0.1]\": 0.07353703602603899,\n",
            "    \"wQuantileLoss[0.5]\": 0.15592297135165947,\n",
            "    \"wQuantileLoss[0.9]\": 0.10597010424888377,\n",
            "    \"mean_wQuantileLoss\": 0.11181003720886074,\n",
            "    \"MAE_Coverage\": 0.027906676978603065\n",
            "}\n"
          ],
          "name": "stdout"
        }
      ]
    },
    {
      "cell_type": "code",
      "metadata": {
        "colab_type": "code",
        "id": "ex5nwlX0UQbm",
        "colab": {}
      },
      "source": [
        ""
      ],
      "execution_count": 0,
      "outputs": []
    },
    {
      "cell_type": "markdown",
      "metadata": {
        "colab_type": "text",
        "id": "CH6VUhAEuxCA"
      },
      "source": [
        "## electricity2"
      ]
    },
    {
      "cell_type": "code",
      "metadata": {
        "colab_type": "code",
        "id": "t93n5VwXuxCE",
        "colab": {}
      },
      "source": [
        "elec_dataset = get_dataset(\"electricity\", regenerate=False)"
      ],
      "execution_count": 0,
      "outputs": []
    },
    {
      "cell_type": "code",
      "metadata": {
        "colab_type": "code",
        "outputId": "a729f512-b328-4ec5-923b-586ddbf43655",
        "id": "SUbU7z11uxCL",
        "colab": {
          "base_uri": "https://localhost:8080/",
          "height": 53
        }
      },
      "source": [
        "print (len(elec_dataset.train))\n",
        "print (len(elec_dataset.test))"
      ],
      "execution_count": 0,
      "outputs": [
        {
          "output_type": "stream",
          "text": [
            "321\n",
            "2247\n"
          ],
          "name": "stdout"
        }
      ]
    },
    {
      "cell_type": "code",
      "metadata": {
        "colab_type": "code",
        "outputId": "d8c81d5f-1cb1-4d08-e8aa-51abb9ffff12",
        "id": "642O_loAuxCV",
        "colab": {
          "base_uri": "https://localhost:8080/",
          "height": 35
        }
      },
      "source": [
        "elec_dataset.metadata"
      ],
      "execution_count": 0,
      "outputs": [
        {
          "output_type": "execute_result",
          "data": {
            "text/plain": [
              "MetaData(freq='1H', target=None, feat_static_cat=[CategoricalFeatureInfo(name='feat_static_cat', cardinality='321')], feat_static_real=[], feat_dynamic_real=[], feat_dynamic_cat=[], prediction_length=24)"
            ]
          },
          "metadata": {
            "tags": []
          },
          "execution_count": 95
        }
      ]
    },
    {
      "cell_type": "code",
      "metadata": {
        "colab_type": "code",
        "outputId": "059e8ce9-7cca-4e00-c56b-dc92e64544f2",
        "id": "FMo4KfffuxCY",
        "colab": {
          "base_uri": "https://localhost:8080/",
          "height": 35
        }
      },
      "source": [
        "elec_dataset.metadata.feat_static_cat[0]"
      ],
      "execution_count": 0,
      "outputs": [
        {
          "output_type": "execute_result",
          "data": {
            "text/plain": [
              "CategoricalFeatureInfo(name='feat_static_cat', cardinality='321')"
            ]
          },
          "metadata": {
            "tags": []
          },
          "execution_count": 96
        }
      ]
    },
    {
      "cell_type": "code",
      "metadata": {
        "colab_type": "code",
        "id": "fariSYCquxCc",
        "colab": {}
      },
      "source": [
        "car = [int(elec_dataset.metadata.feat_static_cat[0].cardinality)]"
      ],
      "execution_count": 0,
      "outputs": []
    },
    {
      "cell_type": "code",
      "metadata": {
        "colab_type": "code",
        "outputId": "fced05c9-2a8c-42b2-cf24-298735d0c7b4",
        "id": "edFWT2mMuxCg",
        "colab": {
          "base_uri": "https://localhost:8080/",
          "height": 35
        }
      },
      "source": [
        "next(iter(elec_dataset.train)).keys()"
      ],
      "execution_count": 0,
      "outputs": [
        {
          "output_type": "execute_result",
          "data": {
            "text/plain": [
              "dict_keys(['start', 'target', 'feat_static_cat', 'item_id', 'source'])"
            ]
          },
          "metadata": {
            "tags": []
          },
          "execution_count": 98
        }
      ]
    },
    {
      "cell_type": "code",
      "metadata": {
        "colab_type": "code",
        "id": "O_3Z_58zuxCk",
        "colab": {}
      },
      "source": [
        "test_ds_24 = ListDataset([{FieldName.START: entry['start'],\n",
        "                        FieldName.TARGET: entry['target'],\n",
        "                        FieldName.FEAT_STATIC_CAT: entry['feat_static_cat'],\n",
        "                        FieldName.ITEM_ID: entry['item_id'],\n",
        "                        }\n",
        "                       for entry in iter(elec_dataset.test) if len(entry['target']) == 21068\n",
        "                       ],\n",
        "                     freq=elec_dataset.metadata.freq)"
      ],
      "execution_count": 0,
      "outputs": []
    },
    {
      "cell_type": "code",
      "metadata": {
        "colab_type": "code",
        "id": "ls-0AiDuuxCq",
        "colab": {}
      },
      "source": [
        "# https://gluon-ts.mxnet.io/api/gluonts/gluonts.trainer.html\n",
        "deepar_trainer=Trainer(\n",
        "    ctx = 'cpu',\n",
        "    epochs=100, # (default: 100).\n",
        "    batch_size=32,# (default: 32).\n",
        "    num_batches_per_epoch=50, # (default: 50).\n",
        "    learning_rate=0.001, # (default:  10^−3 ).\n",
        "    learning_rate_decay_factor=0.5, # (default: 0.5).\n",
        "    patience = 10, # (default: 10).\n",
        "    minimum_learning_rate=5e-05, # (default:  5⋅10^−5 ).\n",
        "    clip_gradient = 10.0, # (default: 10).\n",
        "    weight_decay=1e-08, #  (default  10^−8 ).\n",
        "    init='xavier', #  (default: “xavier”).\n",
        "    hybridize=True, \n",
        "    )"
      ],
      "execution_count": 0,
      "outputs": []
    },
    {
      "cell_type": "code",
      "metadata": {
        "colab_type": "code",
        "id": "XFpzcZw9uxCx",
        "colab": {}
      },
      "source": [
        "# https://gluon-ts.mxnet.io/api/gluonts/gluonts.model.deepar.html\n",
        "DA_estimator = DeepAREstimator(\n",
        "    freq=elec_dataset.metadata.freq, \n",
        "    prediction_length=elec_dataset.metadata.prediction_length,\n",
        "    trainer = deepar_trainer, # (default: Trainer())\n",
        "    context_length=None, # (default: None, in which case context_length = prediction_length)\n",
        "    num_layers=2, # (default: 2)\n",
        "    num_cells=40, # (default: 40)\n",
        "    cell_type='lstm', # (default: ‘lstm’)\n",
        "    dropout_rate=0.1, # (default: 0.1)\n",
        "    use_feat_dynamic_real=False, # (default: False)\n",
        "    use_feat_static_cat=True, # (default: False)\n",
        "    use_feat_static_real=False, # (default: False)\n",
        "    cardinality=car, # (default: None)\n",
        "    #embedding_dimension=[20], # (default: [min(50, (cat+1)//2) for cat in cardinality])\n",
        "    distr_output = StudentTOutput(), # (default: StudentTOutput())\n",
        "    scaling=True, # (default: true)\n",
        "    lags_seq=None, # (default: None, in which case these are automatically determined based on freq)\n",
        "    time_features=None, # (default: None, in which case these are automatically determined based on freq)\n",
        "    num_parallel_samples=100, # (default: 100)\n",
        ")"
      ],
      "execution_count": 0,
      "outputs": []
    },
    {
      "cell_type": "code",
      "metadata": {
        "colab_type": "code",
        "outputId": "1931ed15-298d-45d5-f43c-20ca4afa33e3",
        "id": "FFh2-ax_uxCz",
        "colab": {
          "base_uri": "https://localhost:8080/",
          "height": 1000
        }
      },
      "source": [
        "DA_predictor = DA_estimator.train(elec_dataset.train)"
      ],
      "execution_count": 0,
      "outputs": [
        {
          "output_type": "stream",
          "text": [
            "\r  0%|          | 0/50 [00:00<?, ?it/s]"
          ],
          "name": "stderr"
        },
        {
          "output_type": "stream",
          "text": [
            "learning rate from ``lr_scheduler`` has been overwritten by ``learning_rate`` in optimizer.\n"
          ],
          "name": "stdout"
        },
        {
          "output_type": "stream",
          "text": [
            "100%|██████████| 50/50 [00:16<00:00,  3.12it/s, epoch=1/100, avg_epoch_loss=6.36]\n",
            "100%|██████████| 50/50 [00:15<00:00,  3.16it/s, epoch=2/100, avg_epoch_loss=5.93]\n",
            "100%|██████████| 50/50 [00:15<00:00,  3.19it/s, epoch=3/100, avg_epoch_loss=5.79]\n",
            "100%|██████████| 50/50 [00:15<00:00,  3.18it/s, epoch=4/100, avg_epoch_loss=5.59]\n",
            "100%|██████████| 50/50 [00:15<00:00,  3.25it/s, epoch=5/100, avg_epoch_loss=5.63]\n",
            "100%|██████████| 50/50 [00:15<00:00,  3.31it/s, epoch=6/100, avg_epoch_loss=5.62]\n",
            "100%|██████████| 50/50 [00:15<00:00,  3.20it/s, epoch=7/100, avg_epoch_loss=5.46]\n",
            "100%|██████████| 50/50 [00:15<00:00,  3.17it/s, epoch=8/100, avg_epoch_loss=5.45]\n",
            "100%|██████████| 50/50 [00:15<00:00,  3.27it/s, epoch=9/100, avg_epoch_loss=5.44]\n",
            "100%|██████████| 50/50 [00:15<00:00,  3.23it/s, epoch=10/100, avg_epoch_loss=5.42]\n",
            "100%|██████████| 50/50 [00:14<00:00,  3.39it/s, epoch=11/100, avg_epoch_loss=5.4] \n",
            "100%|██████████| 50/50 [00:16<00:00,  3.11it/s, epoch=12/100, avg_epoch_loss=5.32]\n",
            "100%|██████████| 50/50 [00:17<00:00,  2.86it/s, epoch=13/100, avg_epoch_loss=5.35]\n",
            "100%|██████████| 50/50 [00:15<00:00,  3.25it/s, epoch=14/100, avg_epoch_loss=5.99]\n",
            "100%|██████████| 50/50 [00:15<00:00,  3.18it/s, epoch=15/100, avg_epoch_loss=5.74]\n",
            "100%|██████████| 50/50 [00:15<00:00,  3.23it/s, epoch=16/100, avg_epoch_loss=5.76]\n",
            "100%|██████████| 50/50 [00:15<00:00,  3.14it/s, epoch=17/100, avg_epoch_loss=5.56]\n",
            "100%|██████████| 50/50 [00:15<00:00,  3.31it/s, epoch=18/100, avg_epoch_loss=5.46]\n",
            "100%|██████████| 50/50 [00:15<00:00,  3.24it/s, epoch=19/100, avg_epoch_loss=5.81]\n",
            "100%|██████████| 50/50 [00:15<00:00,  3.31it/s, epoch=20/100, avg_epoch_loss=5.61]\n",
            "100%|██████████| 50/50 [00:15<00:00,  3.21it/s, epoch=21/100, avg_epoch_loss=5.55]\n",
            "100%|██████████| 50/50 [00:15<00:00,  3.14it/s, epoch=22/100, avg_epoch_loss=5.52]\n",
            "100%|██████████| 50/50 [00:15<00:00,  3.24it/s, epoch=23/100, avg_epoch_loss=5.58]\n",
            "100%|██████████| 50/50 [00:15<00:00,  3.14it/s, epoch=24/100, avg_epoch_loss=5.33]\n",
            "100%|██████████| 50/50 [00:15<00:00,  3.29it/s, epoch=25/100, avg_epoch_loss=5.49]\n",
            "100%|██████████| 50/50 [00:15<00:00,  3.31it/s, epoch=26/100, avg_epoch_loss=5.42]\n",
            "100%|██████████| 50/50 [00:15<00:00,  3.28it/s, epoch=27/100, avg_epoch_loss=5.54]\n",
            "100%|██████████| 50/50 [00:17<00:00,  2.88it/s, epoch=28/100, avg_epoch_loss=5.37]\n",
            "100%|██████████| 50/50 [00:15<00:00,  3.23it/s, epoch=29/100, avg_epoch_loss=5.45]\n",
            "100%|██████████| 50/50 [00:15<00:00,  3.25it/s, epoch=30/100, avg_epoch_loss=5.31]\n",
            "100%|██████████| 50/50 [00:15<00:00,  3.22it/s, epoch=31/100, avg_epoch_loss=5.24]\n",
            "100%|██████████| 50/50 [00:15<00:00,  3.31it/s, epoch=32/100, avg_epoch_loss=5.24]\n",
            "100%|██████████| 50/50 [00:16<00:00,  3.12it/s, epoch=33/100, avg_epoch_loss=5.28]\n",
            "100%|██████████| 50/50 [00:16<00:00,  3.05it/s, epoch=34/100, avg_epoch_loss=5.41]\n",
            "100%|██████████| 50/50 [00:16<00:00,  3.00it/s, epoch=35/100, avg_epoch_loss=5.34]\n",
            "100%|██████████| 50/50 [00:15<00:00,  3.16it/s, epoch=36/100, avg_epoch_loss=5.47]\n",
            "100%|██████████| 50/50 [00:15<00:00,  3.29it/s, epoch=37/100, avg_epoch_loss=5.27]\n",
            "100%|██████████| 50/50 [00:16<00:00,  3.10it/s, epoch=38/100, avg_epoch_loss=5.41]\n",
            "100%|██████████| 50/50 [00:15<00:00,  3.16it/s, epoch=39/100, avg_epoch_loss=5.37]\n",
            "100%|██████████| 50/50 [00:15<00:00,  3.13it/s, epoch=40/100, avg_epoch_loss=5.27]\n",
            "100%|██████████| 50/50 [00:14<00:00,  3.34it/s, epoch=41/100, avg_epoch_loss=5.49]\n",
            "100%|██████████| 50/50 [00:15<00:00,  3.20it/s, epoch=42/100, avg_epoch_loss=5.31]\n",
            "100%|██████████| 50/50 [00:15<00:00,  3.21it/s, epoch=43/100, avg_epoch_loss=5.29]\n",
            "100%|██████████| 50/50 [00:16<00:00,  3.06it/s, epoch=44/100, avg_epoch_loss=5.21]\n",
            "100%|██████████| 50/50 [00:15<00:00,  3.25it/s, epoch=45/100, avg_epoch_loss=5.27]\n",
            "100%|██████████| 50/50 [00:16<00:00,  3.07it/s, epoch=46/100, avg_epoch_loss=5.22]\n",
            "100%|██████████| 50/50 [00:15<00:00,  3.13it/s, epoch=47/100, avg_epoch_loss=5.27]\n",
            "100%|██████████| 50/50 [00:15<00:00,  3.28it/s, epoch=48/100, avg_epoch_loss=5.22]\n",
            "100%|██████████| 50/50 [00:15<00:00,  3.15it/s, epoch=49/100, avg_epoch_loss=5.28]\n",
            "100%|██████████| 50/50 [00:15<00:00,  3.25it/s, epoch=50/100, avg_epoch_loss=5.35]\n",
            "100%|██████████| 50/50 [00:16<00:00,  3.11it/s, epoch=51/100, avg_epoch_loss=5.31]\n",
            "100%|██████████| 50/50 [00:16<00:00,  3.12it/s, epoch=52/100, avg_epoch_loss=5.28]\n",
            "100%|██████████| 50/50 [00:15<00:00,  3.22it/s, epoch=53/100, avg_epoch_loss=5.2] \n",
            "100%|██████████| 50/50 [00:15<00:00,  3.18it/s, epoch=54/100, avg_epoch_loss=5.24]\n",
            "100%|██████████| 50/50 [00:16<00:00,  3.01it/s, epoch=55/100, avg_epoch_loss=5.22]\n",
            "100%|██████████| 50/50 [00:15<00:00,  3.30it/s, epoch=56/100, avg_epoch_loss=5.23]\n",
            "100%|██████████| 50/50 [00:16<00:00,  3.12it/s, epoch=57/100, avg_epoch_loss=5.3] \n",
            "100%|██████████| 50/50 [00:15<00:00,  3.22it/s, epoch=58/100, avg_epoch_loss=5.2] \n",
            "100%|██████████| 50/50 [00:15<00:00,  3.14it/s, epoch=59/100, avg_epoch_loss=5.21]\n",
            "100%|██████████| 50/50 [00:15<00:00,  3.33it/s, epoch=60/100, avg_epoch_loss=5.3] \n",
            "100%|██████████| 50/50 [00:15<00:00,  3.22it/s, epoch=61/100, avg_epoch_loss=5.26]\n",
            "100%|██████████| 50/50 [00:15<00:00,  3.31it/s, epoch=62/100, avg_epoch_loss=5.19]\n",
            "100%|██████████| 50/50 [00:15<00:00,  3.18it/s, epoch=63/100, avg_epoch_loss=5.28]\n",
            "100%|██████████| 50/50 [00:15<00:00,  3.16it/s, epoch=64/100, avg_epoch_loss=5.23]\n",
            "100%|██████████| 50/50 [00:15<00:00,  3.16it/s, epoch=65/100, avg_epoch_loss=5.19]\n",
            "100%|██████████| 50/50 [00:15<00:00,  3.23it/s, epoch=66/100, avg_epoch_loss=5.28]\n",
            "100%|██████████| 50/50 [00:16<00:00,  2.94it/s, epoch=67/100, avg_epoch_loss=5.15]\n",
            "100%|██████████| 50/50 [00:14<00:00,  3.35it/s, epoch=68/100, avg_epoch_loss=5.27]\n",
            "100%|██████████| 50/50 [00:15<00:00,  3.32it/s, epoch=69/100, avg_epoch_loss=5.27]\n",
            "100%|██████████| 50/50 [00:14<00:00,  3.39it/s, epoch=70/100, avg_epoch_loss=5.24]\n",
            "100%|██████████| 50/50 [00:15<00:00,  3.26it/s, epoch=71/100, avg_epoch_loss=5.22]\n",
            "100%|██████████| 50/50 [00:16<00:00,  3.10it/s, epoch=72/100, avg_epoch_loss=5.2]\n",
            "100%|██████████| 50/50 [00:15<00:00,  3.13it/s, epoch=73/100, avg_epoch_loss=5.28]\n",
            "100%|██████████| 50/50 [00:16<00:00,  3.12it/s, epoch=74/100, avg_epoch_loss=5.24]\n",
            "100%|██████████| 50/50 [00:16<00:00,  3.02it/s, epoch=75/100, avg_epoch_loss=5.22]\n",
            "100%|██████████| 50/50 [00:15<00:00,  3.20it/s, epoch=76/100, avg_epoch_loss=5.22]\n",
            "100%|██████████| 50/50 [00:15<00:00,  3.19it/s, epoch=77/100, avg_epoch_loss=5.16]\n",
            "100%|██████████| 50/50 [00:15<00:00,  3.31it/s, epoch=78/100, avg_epoch_loss=5.15]\n",
            "100%|██████████| 50/50 [00:15<00:00,  3.26it/s, epoch=79/100, avg_epoch_loss=5.18]\n",
            "100%|██████████| 50/50 [00:15<00:00,  3.20it/s, epoch=80/100, avg_epoch_loss=5.18]\n",
            "100%|██████████| 50/50 [00:15<00:00,  3.15it/s, epoch=81/100, avg_epoch_loss=5.23]\n",
            "100%|██████████| 50/50 [00:15<00:00,  3.14it/s, epoch=82/100, avg_epoch_loss=5.2] \n",
            "100%|██████████| 50/50 [00:15<00:00,  3.18it/s, epoch=83/100, avg_epoch_loss=5.11]\n",
            "100%|██████████| 50/50 [00:16<00:00,  3.11it/s, epoch=84/100, avg_epoch_loss=5.17]\n",
            "100%|██████████| 50/50 [00:15<00:00,  3.18it/s, epoch=85/100, avg_epoch_loss=5.18]\n",
            "100%|██████████| 50/50 [00:15<00:00,  3.27it/s, epoch=86/100, avg_epoch_loss=5.12]\n",
            "100%|██████████| 50/50 [00:15<00:00,  3.28it/s, epoch=87/100, avg_epoch_loss=5.16]\n",
            "100%|██████████| 50/50 [00:15<00:00,  3.31it/s, epoch=88/100, avg_epoch_loss=5.18]\n",
            "100%|██████████| 50/50 [00:16<00:00,  3.11it/s, epoch=89/100, avg_epoch_loss=5.15]\n",
            "100%|██████████| 50/50 [00:15<00:00,  3.26it/s, epoch=90/100, avg_epoch_loss=5.18]\n",
            "100%|██████████| 50/50 [00:16<00:00,  3.04it/s, epoch=91/100, avg_epoch_loss=5.24]\n",
            "100%|██████████| 50/50 [00:16<00:00,  3.12it/s, epoch=92/100, avg_epoch_loss=5.1] \n",
            "100%|██████████| 50/50 [00:15<00:00,  3.28it/s, epoch=93/100, avg_epoch_loss=5.11]\n",
            "100%|██████████| 50/50 [00:15<00:00,  3.18it/s, epoch=94/100, avg_epoch_loss=5.11]\n",
            "100%|██████████| 50/50 [00:16<00:00,  3.12it/s, epoch=95/100, avg_epoch_loss=5.15]\n",
            "100%|██████████| 50/50 [00:15<00:00,  3.20it/s, epoch=96/100, avg_epoch_loss=5.12]\n",
            "100%|██████████| 50/50 [00:15<00:00,  3.27it/s, epoch=97/100, avg_epoch_loss=5.12]\n",
            "100%|██████████| 50/50 [00:15<00:00,  3.26it/s, epoch=98/100, avg_epoch_loss=5.2] \n",
            "100%|██████████| 50/50 [00:15<00:00,  3.20it/s, epoch=99/100, avg_epoch_loss=5.16]\n",
            "100%|██████████| 50/50 [00:15<00:00,  3.31it/s, epoch=100/100, avg_epoch_loss=5.13]\n"
          ],
          "name": "stderr"
        }
      ]
    },
    {
      "cell_type": "code",
      "metadata": {
        "colab_type": "code",
        "id": "y96-tuAkuxC1",
        "outputId": "df657756-5dd7-46d7-c037-8259ec6330be",
        "colab": {
          "base_uri": "https://localhost:8080/",
          "height": 503
        }
      },
      "source": [
        "forecast_it, ts_it = make_evaluation_predictions(\n",
        "    dataset=elec_dataset.test, \n",
        "    predictor=DA_predictor, \n",
        "    num_samples=100, \n",
        ")\n",
        "\n",
        "forecasts = list(forecast_it)\n",
        "tss = list(ts_it)\n",
        "\n",
        "evaluator = Evaluator(quantiles=[0.1, 0.5, 0.9])\n",
        "agg_metrics, item_metrics = evaluator(iter(tss), iter(forecasts), num_series=len(elec_dataset.test))\n",
        "\n",
        "print(json.dumps(agg_metrics, indent=4))"
      ],
      "execution_count": 0,
      "outputs": [
        {
          "output_type": "stream",
          "text": [
            "Running evaluation: 100%|██████████| 2247/2247 [00:00<00:00, 22936.20it/s]\n"
          ],
          "name": "stderr"
        },
        {
          "output_type": "stream",
          "text": [
            "{\n",
            "    \"MSE\": 1896246.6231927625,\n",
            "    \"abs_error\": 8258335.360194206,\n",
            "    \"abs_target_sum\": 128632956.0,\n",
            "    \"abs_target_mean\": 2385.272140631948,\n",
            "    \"seasonal_error\": 189.4933819611677,\n",
            "    \"MASE\": 0.718082166845792,\n",
            "    \"MAPE\": 0.09625337721242021,\n",
            "    \"sMAPE\": 0.10614491706587359,\n",
            "    \"OWA\": NaN,\n",
            "    \"MSIS\": 8.2256149940051,\n",
            "    \"QuantileLoss[0.1]\": 3532141.34392297,\n",
            "    \"Coverage[0.1]\": 0.10074543836226056,\n",
            "    \"QuantileLoss[0.5]\": 8258335.3574573975,\n",
            "    \"Coverage[0.5]\": 0.500259605399792,\n",
            "    \"QuantileLoss[0.9]\": 4943708.275373017,\n",
            "    \"Coverage[0.9]\": 0.8834000890075647,\n",
            "    \"RMSE\": 1377.0427092841974,\n",
            "    \"NRMSE\": 0.5773105239552948,\n",
            "    \"ND\": 0.06420077417947392,\n",
            "    \"wQuantileLoss[0.1]\": 0.02745907000631292,\n",
            "    \"wQuantileLoss[0.5]\": 0.06420077415819782,\n",
            "    \"wQuantileLoss[0.9]\": 0.03843267253667884,\n",
            "    \"mean_wQuantileLoss\": 0.04336417223372987,\n",
            "    \"MAE_Coverage\": 0.005868318251495942\n",
            "}\n"
          ],
          "name": "stdout"
        }
      ]
    },
    {
      "cell_type": "code",
      "metadata": {
        "colab_type": "code",
        "id": "5kBvHcGFuxC4",
        "outputId": "18facde7-f3bb-492a-a64e-52939ecc3769",
        "colab": {
          "base_uri": "https://localhost:8080/",
          "height": 503
        }
      },
      "source": [
        "forecast_it, ts_it = make_evaluation_predictions(\n",
        "    dataset=test_ds_24, \n",
        "    predictor=DA_predictor, \n",
        "    num_samples=100, \n",
        ")\n",
        "\n",
        "forecasts = list(forecast_it)\n",
        "tss = list(ts_it)\n",
        "\n",
        "evaluator = Evaluator(quantiles=[0.1, 0.5, 0.9])\n",
        "agg_metrics, item_metrics = evaluator(iter(tss), iter(forecasts), num_series=len(test_ds_24))\n",
        "\n",
        "print(json.dumps(agg_metrics, indent=4))"
      ],
      "execution_count": 0,
      "outputs": [
        {
          "output_type": "stream",
          "text": [
            "Running evaluation: 100%|██████████| 321/321 [00:00<00:00, 3768.33it/s]\n"
          ],
          "name": "stderr"
        },
        {
          "output_type": "stream",
          "text": [
            "{\n",
            "    \"MSE\": 403157.531250229,\n",
            "    \"abs_error\": 882678.3113889694,\n",
            "    \"abs_target_sum\": 17268997.0,\n",
            "    \"abs_target_mean\": 2241.56243509865,\n",
            "    \"seasonal_error\": 189.64815247902152,\n",
            "    \"MASE\": 0.6558522495129743,\n",
            "    \"MAPE\": 0.08144418124880037,\n",
            "    \"sMAPE\": 0.10157248045774643,\n",
            "    \"OWA\": NaN,\n",
            "    \"MSIS\": 7.048121356088902,\n",
            "    \"QuantileLoss[0.1]\": 406979.5417923697,\n",
            "    \"Coverage[0.1]\": 0.11240913811007272,\n",
            "    \"QuantileLoss[0.5]\": 882678.320595948,\n",
            "    \"Coverage[0.5]\": 0.5503634475597089,\n",
            "    \"QuantileLoss[0.9]\": 479624.1469676733,\n",
            "    \"Coverage[0.9]\": 0.905633437175493,\n",
            "    \"RMSE\": 634.946872777738,\n",
            "    \"NRMSE\": 0.2832608464683672,\n",
            "    \"ND\": 0.05111346717988135,\n",
            "    \"wQuantileLoss[0.1]\": 0.023567063089556948,\n",
            "    \"wQuantileLoss[0.5]\": 0.05111346771303209,\n",
            "    \"wQuantileLoss[0.9]\": 0.02777371187033464,\n",
            "    \"mean_wQuantileLoss\": 0.03415141422430789,\n",
            "    \"MAE_Coverage\": 0.022802007615091546\n",
            "}\n"
          ],
          "name": "stdout"
        }
      ]
    },
    {
      "cell_type": "code",
      "metadata": {
        "colab_type": "code",
        "id": "mx1f5qu3uxC7",
        "outputId": "6be5d462-3c86-4e4a-aaa9-79c8ae3fa396",
        "colab": {
          "base_uri": "https://localhost:8080/",
          "height": 503
        }
      },
      "source": [
        "forecast_it, ts_it = make_evaluation_predictions(\n",
        "    dataset=test_ds_24, \n",
        "    predictor=DA_predictor, \n",
        "    num_samples=100, \n",
        ")\n",
        "\n",
        "forecasts = list(forecast_it)\n",
        "tss = list(ts_it)\n",
        "\n",
        "evaluator = Evaluator(quantiles=[0.1, 0.5, 0.9])\n",
        "agg_metrics, item_metrics = evaluator(iter(tss), iter(forecasts), num_series=len(test_ds_24))\n",
        "\n",
        "print(json.dumps(agg_metrics, indent=4))"
      ],
      "execution_count": 0,
      "outputs": [
        {
          "output_type": "stream",
          "text": [
            "Running evaluation: 100%|██████████| 321/321 [00:00<00:00, 4050.65it/s]\n"
          ],
          "name": "stderr"
        },
        {
          "output_type": "stream",
          "text": [
            "{\n",
            "    \"MSE\": 402712.0784618005,\n",
            "    \"abs_error\": 883284.504096508,\n",
            "    \"abs_target_sum\": 17268997.0,\n",
            "    \"abs_target_mean\": 2241.56243509865,\n",
            "    \"seasonal_error\": 189.64815247902152,\n",
            "    \"MASE\": 0.6542245811034637,\n",
            "    \"MAPE\": 0.08104167308167347,\n",
            "    \"sMAPE\": 0.10131083651188916,\n",
            "    \"OWA\": NaN,\n",
            "    \"MSIS\": 7.0607845632515565,\n",
            "    \"QuantileLoss[0.1]\": 409471.91812172765,\n",
            "    \"Coverage[0.1]\": 0.11188992731048812,\n",
            "    \"QuantileLoss[0.5]\": 883284.501845397,\n",
            "    \"Coverage[0.5]\": 0.5571131879543093,\n",
            "    \"QuantileLoss[0.9]\": 487177.15904294245,\n",
            "    \"Coverage[0.9]\": 0.9088785046728972,\n",
            "    \"RMSE\": 634.5959962541526,\n",
            "    \"NRMSE\": 0.28310431434680267,\n",
            "    \"ND\": 0.05114857012810345,\n",
            "    \"wQuantileLoss[0.1]\": 0.023711389730493766,\n",
            "    \"wQuantileLoss[0.5]\": 0.05114856999774782,\n",
            "    \"wQuantileLoss[0.9]\": 0.02821108597349009,\n",
            "    \"mean_wQuantileLoss\": 0.034357015233910555,\n",
            "    \"MAE_Coverage\": 0.025960539979231537\n",
            "}\n"
          ],
          "name": "stdout"
        }
      ]
    },
    {
      "cell_type": "code",
      "metadata": {
        "id": "1QXi1wchfaHT",
        "colab_type": "code",
        "colab": {}
      },
      "source": [
        ""
      ],
      "execution_count": 0,
      "outputs": []
    }
  ]
}