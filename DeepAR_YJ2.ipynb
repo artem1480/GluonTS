{
  "nbformat": 4,
  "nbformat_minor": 0,
  "metadata": {
    "colab": {
      "name": "DeepAR_YJ2",
      "provenance": [],
      "collapsed_sections": [
        "fy4faTqGUoxS",
        "OjjjZv_uD7L_",
        "OWJ9jeRZO9GB",
        "h0WoHFeGPo0-",
        "nznVHsOFTpbl",
        "iv_-hkX_UMp0"
      ],
      "include_colab_link": true
    },
    "kernelspec": {
      "name": "python3",
      "display_name": "Python 3"
    }
  },
  "cells": [
    {
      "cell_type": "markdown",
      "metadata": {
        "id": "view-in-github",
        "colab_type": "text"
      },
      "source": [
        "<a href=\"https://colab.research.google.com/github/iskra3138/GluonTS/blob/master/DeepAR_YJ2.ipynb\" target=\"_parent\"><img src=\"https://colab.research.google.com/assets/colab-badge.svg\" alt=\"Open In Colab\"/></a>"
      ]
    },
    {
      "cell_type": "markdown",
      "metadata": {
        "id": "MtkVPqoH9Rfy",
        "colab_type": "text"
      },
      "source": [
        "# Install mxnet and gluonts"
      ]
    },
    {
      "cell_type": "code",
      "metadata": {
        "id": "XpYiCxWFwrdF",
        "colab_type": "code",
        "outputId": "0abe8047-8678-4069-f2b5-1dc1c9dc7f58",
        "colab": {
          "base_uri": "https://localhost:8080/",
          "height": 755
        }
      },
      "source": [
        "pip install --upgrade mxnet==1.6 gluonts"
      ],
      "execution_count": 0,
      "outputs": [
        {
          "output_type": "stream",
          "text": [
            "Collecting mxnet==1.6\n",
            "\u001b[?25l  Downloading https://files.pythonhosted.org/packages/81/f5/d79b5b40735086ff1100c680703e0f3efc830fa455e268e9e96f3c857e93/mxnet-1.6.0-py2.py3-none-any.whl (68.7MB)\n",
            "\u001b[K     |████████████████████████████████| 68.7MB 59kB/s \n",
            "\u001b[?25hCollecting gluonts\n",
            "\u001b[?25l  Downloading https://files.pythonhosted.org/packages/c2/07/5a63f7d645761982743d375fc816120b680e0de13ac139829e509b3206fc/gluonts-0.5.0-py3-none-any.whl (419kB)\n",
            "\u001b[K     |████████████████████████████████| 419kB 48.9MB/s \n",
            "\u001b[?25hCollecting graphviz<0.9.0,>=0.8.1\n",
            "  Downloading https://files.pythonhosted.org/packages/53/39/4ab213673844e0c004bed8a0781a0721a3f6bb23eb8854ee75c236428892/graphviz-0.8.4-py2.py3-none-any.whl\n",
            "Requirement already satisfied, skipping upgrade: requests<3,>=2.20.0 in /usr/local/lib/python3.6/dist-packages (from mxnet==1.6) (2.23.0)\n",
            "Requirement already satisfied, skipping upgrade: numpy<2.0.0,>1.16.0 in /usr/local/lib/python3.6/dist-packages (from mxnet==1.6) (1.18.4)\n",
            "Collecting ujson~=1.35\n",
            "\u001b[?25l  Downloading https://files.pythonhosted.org/packages/16/c4/79f3409bc710559015464e5f49b9879430d8f87498ecdc335899732e5377/ujson-1.35.tar.gz (192kB)\n",
            "\u001b[K     |████████████████████████████████| 194kB 49.9MB/s \n",
            "\u001b[?25hRequirement already satisfied, skipping upgrade: holidays<0.10,>=0.9 in /usr/local/lib/python3.6/dist-packages (from gluonts) (0.9.12)\n",
            "Requirement already satisfied, skipping upgrade: matplotlib~=3.0 in /usr/local/lib/python3.6/dist-packages (from gluonts) (3.2.1)\n",
            "Collecting pydantic~=1.1\n",
            "\u001b[?25l  Downloading https://files.pythonhosted.org/packages/57/c9/7d664fbe54863b92cea790c7305915888c2f13a68a754893d8291bab0d0d/pydantic-1.5.1-cp36-cp36m-manylinux2014_x86_64.whl (7.4MB)\n",
            "\u001b[K     |████████████████████████████████| 7.4MB 20.0MB/s \n",
            "\u001b[?25hRequirement already satisfied, skipping upgrade: tqdm~=4.23 in /usr/local/lib/python3.6/dist-packages (from gluonts) (4.41.1)\n",
            "Requirement already satisfied, skipping upgrade: pandas~=1.0 in /usr/local/lib/python3.6/dist-packages (from gluonts) (1.0.3)\n",
            "Requirement already satisfied, skipping upgrade: idna<3,>=2.5 in /usr/local/lib/python3.6/dist-packages (from requests<3,>=2.20.0->mxnet==1.6) (2.9)\n",
            "Requirement already satisfied, skipping upgrade: chardet<4,>=3.0.2 in /usr/local/lib/python3.6/dist-packages (from requests<3,>=2.20.0->mxnet==1.6) (3.0.4)\n",
            "Requirement already satisfied, skipping upgrade: urllib3!=1.25.0,!=1.25.1,<1.26,>=1.21.1 in /usr/local/lib/python3.6/dist-packages (from requests<3,>=2.20.0->mxnet==1.6) (1.24.3)\n",
            "Requirement already satisfied, skipping upgrade: certifi>=2017.4.17 in /usr/local/lib/python3.6/dist-packages (from requests<3,>=2.20.0->mxnet==1.6) (2020.4.5.1)\n",
            "Requirement already satisfied, skipping upgrade: six in /usr/local/lib/python3.6/dist-packages (from holidays<0.10,>=0.9->gluonts) (1.12.0)\n",
            "Requirement already satisfied, skipping upgrade: python-dateutil in /usr/local/lib/python3.6/dist-packages (from holidays<0.10,>=0.9->gluonts) (2.8.1)\n",
            "Requirement already satisfied, skipping upgrade: pyparsing!=2.0.4,!=2.1.2,!=2.1.6,>=2.0.1 in /usr/local/lib/python3.6/dist-packages (from matplotlib~=3.0->gluonts) (2.4.7)\n",
            "Requirement already satisfied, skipping upgrade: kiwisolver>=1.0.1 in /usr/local/lib/python3.6/dist-packages (from matplotlib~=3.0->gluonts) (1.2.0)\n",
            "Requirement already satisfied, skipping upgrade: cycler>=0.10 in /usr/local/lib/python3.6/dist-packages (from matplotlib~=3.0->gluonts) (0.10.0)\n",
            "Requirement already satisfied, skipping upgrade: dataclasses>=0.6; python_version < \"3.7\" in /usr/local/lib/python3.6/dist-packages (from pydantic~=1.1->gluonts) (0.7)\n",
            "Requirement already satisfied, skipping upgrade: pytz>=2017.2 in /usr/local/lib/python3.6/dist-packages (from pandas~=1.0->gluonts) (2018.9)\n",
            "Building wheels for collected packages: ujson\n",
            "  Building wheel for ujson (setup.py) ... \u001b[?25l\u001b[?25hdone\n",
            "  Created wheel for ujson: filename=ujson-1.35-cp36-cp36m-linux_x86_64.whl size=68018 sha256=77fab4affa0529f746500d005610fd939ce13af6d62fe269af8881f25049e578\n",
            "  Stored in directory: /root/.cache/pip/wheels/28/77/e4/0311145b9c2e2f01470e744855131f9e34d6919687550f87d1\n",
            "Successfully built ujson\n",
            "Installing collected packages: graphviz, mxnet, ujson, pydantic, gluonts\n",
            "  Found existing installation: graphviz 0.10.1\n",
            "    Uninstalling graphviz-0.10.1:\n",
            "      Successfully uninstalled graphviz-0.10.1\n",
            "Successfully installed gluonts-0.5.0 graphviz-0.8.4 mxnet-1.6.0 pydantic-1.5.1 ujson-1.35\n"
          ],
          "name": "stdout"
        }
      ]
    },
    {
      "cell_type": "markdown",
      "metadata": {
        "id": "LmbEt0H9GYBt",
        "colab_type": "text"
      },
      "source": [
        "## Dataset Loading"
      ]
    },
    {
      "cell_type": "code",
      "metadata": {
        "id": "CS73SazB-iAi",
        "colab_type": "code",
        "colab": {}
      },
      "source": [
        "# Third-party imports\n",
        "%matplotlib inline\n",
        "import mxnet as mx\n",
        "from mxnet import gluon\n",
        "#import numpy as np\n",
        "#import pandas as pd\n",
        "import matplotlib.pyplot as plt\n",
        "import json\n",
        "#import os"
      ],
      "execution_count": 0,
      "outputs": []
    },
    {
      "cell_type": "code",
      "metadata": {
        "id": "YyFHxQYCGWpO",
        "colab_type": "code",
        "colab": {}
      },
      "source": [
        "from gluonts.dataset.repository.datasets import get_dataset, dataset_recipes\n",
        "#from gluonts.dataset.util import to_pandas"
      ],
      "execution_count": 0,
      "outputs": []
    },
    {
      "cell_type": "code",
      "metadata": {
        "id": "CET-Px0euwLy",
        "colab_type": "code",
        "colab": {}
      },
      "source": [
        "from gluonts.dataset.common import ListDataset\n",
        "from gluonts.dataset.field_names import FieldName"
      ],
      "execution_count": 0,
      "outputs": []
    },
    {
      "cell_type": "code",
      "metadata": {
        "id": "PwbJirQ67oj9",
        "colab_type": "code",
        "colab": {}
      },
      "source": [
        "from gluonts.model.deepar import DeepAREstimator\n",
        "from gluonts.model.deep_factor import DeepFactorEstimator\n",
        "from gluonts.distribution.gaussian import GaussianOutput\n",
        "from gluonts.distribution.student_t import StudentTOutput\n",
        "from gluonts.trainer import Trainer\n",
        "from gluonts.evaluation.backtest import make_evaluation_predictions\n",
        "from gluonts.evaluation import Evaluator"
      ],
      "execution_count": 0,
      "outputs": []
    },
    {
      "cell_type": "markdown",
      "metadata": {
        "id": "jbPo1rHY7nGe",
        "colab_type": "text"
      },
      "source": [
        "## Experiment of DeepAR"
      ]
    },
    {
      "cell_type": "markdown",
      "metadata": {
        "id": "cqSRuhYNUhe4",
        "colab_type": "text"
      },
      "source": [
        "## electricity"
      ]
    },
    {
      "cell_type": "code",
      "metadata": {
        "id": "QUlhWYZLGqAa",
        "colab_type": "code",
        "outputId": "9a818581-a238-45b4-fa9c-21ce31e682c4",
        "colab": {
          "base_uri": "https://localhost:8080/",
          "height": 53
        }
      },
      "source": [
        "elec_dataset = get_dataset(\"electricity\", regenerate=False)"
      ],
      "execution_count": 0,
      "outputs": [
        {
          "output_type": "stream",
          "text": [
            "saving time-series into /root/.mxnet/gluon-ts/datasets/electricity/train/data.json\n",
            "saving time-series into /root/.mxnet/gluon-ts/datasets/electricity/test/data.json\n"
          ],
          "name": "stdout"
        }
      ]
    },
    {
      "cell_type": "code",
      "metadata": {
        "colab_type": "code",
        "outputId": "7ad69377-1d53-44b5-d076-121ef18ae825",
        "id": "pISvJSGLmogL",
        "colab": {
          "base_uri": "https://localhost:8080/",
          "height": 53
        }
      },
      "source": [
        "print (len(elec_dataset.train))\n",
        "print (len(elec_dataset.test))"
      ],
      "execution_count": 0,
      "outputs": [
        {
          "output_type": "stream",
          "text": [
            "321\n",
            "2247\n"
          ],
          "name": "stdout"
        }
      ]
    },
    {
      "cell_type": "code",
      "metadata": {
        "colab_type": "code",
        "outputId": "11539c6a-1856-4a3a-fc53-8218d58bae3d",
        "id": "Gg6BjsIAmogR",
        "colab": {
          "base_uri": "https://localhost:8080/",
          "height": 35
        }
      },
      "source": [
        "elec_dataset.metadata"
      ],
      "execution_count": 0,
      "outputs": [
        {
          "output_type": "execute_result",
          "data": {
            "text/plain": [
              "MetaData(freq='1H', target=None, feat_static_cat=[CategoricalFeatureInfo(name='feat_static_cat', cardinality='321')], feat_static_real=[], feat_dynamic_real=[], feat_dynamic_cat=[], prediction_length=24)"
            ]
          },
          "metadata": {
            "tags": []
          },
          "execution_count": 8
        }
      ]
    },
    {
      "cell_type": "code",
      "metadata": {
        "id": "kh_5nT7SmwD5",
        "colab_type": "code",
        "outputId": "e6b226fc-a516-476c-e299-691935616976",
        "colab": {
          "base_uri": "https://localhost:8080/",
          "height": 35
        }
      },
      "source": [
        "elec_dataset.metadata.feat_static_cat[0]"
      ],
      "execution_count": 0,
      "outputs": [
        {
          "output_type": "execute_result",
          "data": {
            "text/plain": [
              "CategoricalFeatureInfo(name='feat_static_cat', cardinality='321')"
            ]
          },
          "metadata": {
            "tags": []
          },
          "execution_count": 9
        }
      ]
    },
    {
      "cell_type": "code",
      "metadata": {
        "id": "28gBmOGVoMgV",
        "colab_type": "code",
        "colab": {}
      },
      "source": [
        "car = [int(elec_dataset.metadata.feat_static_cat[0].cardinality)]"
      ],
      "execution_count": 0,
      "outputs": []
    },
    {
      "cell_type": "code",
      "metadata": {
        "colab_type": "code",
        "outputId": "7673d922-4e91-423c-b0fd-850423cd14eb",
        "id": "Q-ZkZHs2mogU",
        "colab": {
          "base_uri": "https://localhost:8080/",
          "height": 35
        }
      },
      "source": [
        "next(iter(elec_dataset.train)).keys()"
      ],
      "execution_count": 0,
      "outputs": [
        {
          "output_type": "execute_result",
          "data": {
            "text/plain": [
              "dict_keys(['start', 'target', 'feat_static_cat', 'item_id', 'source'])"
            ]
          },
          "metadata": {
            "tags": []
          },
          "execution_count": 11
        }
      ]
    },
    {
      "cell_type": "code",
      "metadata": {
        "id": "Ez4xa_EAuwHV",
        "colab_type": "code",
        "colab": {}
      },
      "source": [
        "test_ds_24 = ListDataset([{FieldName.START: entry['start'],\n",
        "                        FieldName.TARGET: entry['target'],\n",
        "                        FieldName.FEAT_STATIC_CAT: entry['feat_static_cat'],\n",
        "                        FieldName.ITEM_ID: entry['item_id'],\n",
        "                        }\n",
        "                       for entry in iter(elec_dataset.test) if len(entry['target']) == 21068\n",
        "                       ],\n",
        "                     freq=elec_dataset.metadata.freq)"
      ],
      "execution_count": 0,
      "outputs": []
    },
    {
      "cell_type": "code",
      "metadata": {
        "colab_type": "code",
        "id": "SOijOJKyH3hL",
        "colab": {}
      },
      "source": [
        "# https://gluon-ts.mxnet.io/api/gluonts/gluonts.trainer.html\n",
        "deepar_trainer=Trainer(\n",
        "    ctx = 'cpu',\n",
        "    epochs=100, # (default: 100).\n",
        "    batch_size=32,# (default: 32).\n",
        "    num_batches_per_epoch=50, # (default: 50).\n",
        "    learning_rate=0.001, # (default:  10^−3 ).\n",
        "    learning_rate_decay_factor=0.5, # (default: 0.5).\n",
        "    patience = 10, # (default: 10).\n",
        "    minimum_learning_rate=5e-05, # (default:  5⋅10^−5 ).\n",
        "    clip_gradient = 10.0, # (default: 10).\n",
        "    weight_decay=1e-08, #  (default  10^−8 ).\n",
        "    init='xavier', #  (default: “xavier”).\n",
        "    hybridize=True, \n",
        "    )"
      ],
      "execution_count": 0,
      "outputs": []
    },
    {
      "cell_type": "code",
      "metadata": {
        "colab_type": "code",
        "id": "zqz0laFMH3hN",
        "colab": {}
      },
      "source": [
        "# https://gluon-ts.mxnet.io/api/gluonts/gluonts.model.deepar.html\n",
        "DA_estimator = DeepAREstimator(\n",
        "    freq=elec_dataset.metadata.freq, \n",
        "    prediction_length=elec_dataset.metadata.prediction_length,\n",
        "    trainer = deepar_trainer, # (default: Trainer())\n",
        "    context_length=None, # (default: None, in which case context_length = prediction_length)\n",
        "    num_layers=2, # (default: 2)\n",
        "    num_cells=40, # (default: 40)\n",
        "    cell_type='lstm', # (default: ‘lstm’)\n",
        "    dropout_rate=0.1, # (default: 0.1)\n",
        "    use_feat_dynamic_real=False, # (default: False)\n",
        "    use_feat_static_cat=True, # (default: False)\n",
        "    use_feat_static_real=False, # (default: False)\n",
        "    cardinality=car, # (default: None)\n",
        "    #embedding_dimension=[20], # (default: [min(50, (cat+1)//2) for cat in cardinality])\n",
        "    distr_output = StudentTOutput(), # (default: StudentTOutput())\n",
        "    scaling=True, # (default: true)\n",
        "    lags_seq=None, # (default: None, in which case these are automatically determined based on freq)\n",
        "    time_features=None, # (default: None, in which case these are automatically determined based on freq)\n",
        "    num_parallel_samples=100, # (default: 100)\n",
        ")"
      ],
      "execution_count": 0,
      "outputs": []
    },
    {
      "cell_type": "code",
      "metadata": {
        "colab_type": "code",
        "id": "ig9ceH0SH3hQ",
        "outputId": "fa99c28e-1ef0-4d23-edcb-d209316f317e",
        "colab": {
          "base_uri": "https://localhost:8080/",
          "height": 1000
        }
      },
      "source": [
        "DA_predictor = DA_estimator.train(elec_dataset.train)"
      ],
      "execution_count": 0,
      "outputs": [
        {
          "output_type": "stream",
          "text": [
            "\r  0%|          | 0/50 [00:00<?, ?it/s]"
          ],
          "name": "stderr"
        },
        {
          "output_type": "stream",
          "text": [
            "learning rate from ``lr_scheduler`` has been overwritten by ``learning_rate`` in optimizer.\n"
          ],
          "name": "stdout"
        },
        {
          "output_type": "stream",
          "text": [
            "100%|██████████| 50/50 [00:14<00:00,  3.37it/s, epoch=1/100, avg_epoch_loss=6.63]\n",
            "100%|██████████| 50/50 [00:14<00:00,  3.51it/s, epoch=2/100, avg_epoch_loss=5.88]\n",
            "100%|██████████| 50/50 [00:14<00:00,  3.56it/s, epoch=3/100, avg_epoch_loss=5.85]\n",
            "100%|██████████| 50/50 [00:14<00:00,  3.50it/s, epoch=4/100, avg_epoch_loss=5.66]\n",
            "100%|██████████| 50/50 [00:14<00:00,  3.50it/s, epoch=5/100, avg_epoch_loss=5.65]\n",
            "100%|██████████| 50/50 [00:14<00:00,  3.48it/s, epoch=6/100, avg_epoch_loss=5.53]\n",
            "100%|██████████| 50/50 [00:14<00:00,  3.42it/s, epoch=7/100, avg_epoch_loss=5.47]\n",
            "100%|██████████| 50/50 [00:14<00:00,  3.47it/s, epoch=8/100, avg_epoch_loss=5.61]\n",
            "100%|██████████| 50/50 [00:14<00:00,  3.54it/s, epoch=9/100, avg_epoch_loss=5.38]\n",
            "100%|██████████| 50/50 [00:14<00:00,  3.54it/s, epoch=10/100, avg_epoch_loss=5.39]\n",
            "100%|██████████| 50/50 [00:14<00:00,  3.47it/s, epoch=11/100, avg_epoch_loss=5.41]\n",
            "100%|██████████| 50/50 [00:14<00:00,  3.40it/s, epoch=12/100, avg_epoch_loss=5.39]\n",
            "100%|██████████| 50/50 [00:14<00:00,  3.51it/s, epoch=13/100, avg_epoch_loss=5.44]\n",
            "100%|██████████| 50/50 [00:14<00:00,  3.42it/s, epoch=14/100, avg_epoch_loss=5.89]\n",
            "100%|██████████| 50/50 [00:14<00:00,  3.42it/s, epoch=15/100, avg_epoch_loss=5.72]\n",
            "100%|██████████| 50/50 [00:14<00:00,  3.46it/s, epoch=16/100, avg_epoch_loss=5.53]\n",
            "100%|██████████| 50/50 [00:14<00:00,  3.41it/s, epoch=17/100, avg_epoch_loss=5.74]\n",
            "100%|██████████| 50/50 [00:14<00:00,  3.45it/s, epoch=18/100, avg_epoch_loss=5.6] \n",
            "100%|██████████| 50/50 [00:14<00:00,  3.46it/s, epoch=19/100, avg_epoch_loss=5.29]\n",
            "100%|██████████| 50/50 [00:14<00:00,  3.44it/s, epoch=20/100, avg_epoch_loss=5.36]\n",
            "100%|██████████| 50/50 [00:14<00:00,  3.51it/s, epoch=21/100, avg_epoch_loss=5.81]\n",
            "100%|██████████| 50/50 [00:14<00:00,  3.40it/s, epoch=22/100, avg_epoch_loss=5.45]\n",
            "100%|██████████| 50/50 [00:15<00:00,  3.21it/s, epoch=23/100, avg_epoch_loss=5.68]\n",
            "100%|██████████| 50/50 [00:14<00:00,  3.39it/s, epoch=24/100, avg_epoch_loss=5.57]\n",
            "100%|██████████| 50/50 [00:14<00:00,  3.49it/s, epoch=25/100, avg_epoch_loss=5.55]\n",
            "100%|██████████| 50/50 [00:15<00:00,  3.23it/s, epoch=26/100, avg_epoch_loss=5.53]\n",
            "100%|██████████| 50/50 [00:14<00:00,  3.46it/s, epoch=27/100, avg_epoch_loss=5.33]\n",
            "100%|██████████| 50/50 [00:14<00:00,  3.37it/s, epoch=28/100, avg_epoch_loss=5.45]\n",
            "100%|██████████| 50/50 [00:14<00:00,  3.42it/s, epoch=29/100, avg_epoch_loss=5.54]\n",
            "100%|██████████| 50/50 [00:14<00:00,  3.36it/s, epoch=30/100, avg_epoch_loss=5.34]\n",
            "100%|██████████| 50/50 [00:14<00:00,  3.38it/s, epoch=31/100, avg_epoch_loss=5.32]\n",
            "100%|██████████| 50/50 [00:14<00:00,  3.39it/s, epoch=32/100, avg_epoch_loss=5.35]\n",
            "100%|██████████| 50/50 [00:15<00:00,  3.30it/s, epoch=33/100, avg_epoch_loss=5.44]\n",
            "100%|██████████| 50/50 [00:14<00:00,  3.44it/s, epoch=34/100, avg_epoch_loss=5.17]\n",
            "100%|██████████| 50/50 [00:14<00:00,  3.50it/s, epoch=35/100, avg_epoch_loss=5.27]\n",
            "100%|██████████| 50/50 [00:14<00:00,  3.40it/s, epoch=36/100, avg_epoch_loss=5.34]\n",
            "100%|██████████| 50/50 [00:14<00:00,  3.38it/s, epoch=37/100, avg_epoch_loss=5.36]\n",
            "100%|██████████| 50/50 [00:14<00:00,  3.49it/s, epoch=38/100, avg_epoch_loss=5.2] \n",
            "100%|██████████| 50/50 [00:14<00:00,  3.52it/s, epoch=39/100, avg_epoch_loss=5.38]\n",
            "100%|██████████| 50/50 [00:14<00:00,  3.41it/s, epoch=40/100, avg_epoch_loss=5.39]\n",
            "100%|██████████| 50/50 [00:17<00:00,  2.92it/s, epoch=41/100, avg_epoch_loss=5.26]\n",
            "100%|██████████| 50/50 [00:15<00:00,  3.25it/s, epoch=42/100, avg_epoch_loss=5.36]\n",
            "100%|██████████| 50/50 [00:15<00:00,  3.29it/s, epoch=43/100, avg_epoch_loss=5.29]\n",
            "100%|██████████| 50/50 [00:14<00:00,  3.52it/s, epoch=44/100, avg_epoch_loss=5.23]\n",
            "100%|██████████| 50/50 [00:14<00:00,  3.43it/s, epoch=45/100, avg_epoch_loss=5.22]\n",
            "100%|██████████| 50/50 [00:14<00:00,  3.49it/s, epoch=46/100, avg_epoch_loss=5.16]\n",
            "100%|██████████| 50/50 [00:14<00:00,  3.49it/s, epoch=47/100, avg_epoch_loss=5.24]\n",
            "100%|██████████| 50/50 [00:15<00:00,  3.32it/s, epoch=48/100, avg_epoch_loss=5.18]\n",
            "100%|██████████| 50/50 [00:14<00:00,  3.42it/s, epoch=49/100, avg_epoch_loss=5.22]\n",
            "100%|██████████| 50/50 [00:14<00:00,  3.38it/s, epoch=50/100, avg_epoch_loss=5.24]\n",
            "100%|██████████| 50/50 [00:14<00:00,  3.36it/s, epoch=51/100, avg_epoch_loss=5.25]\n",
            "100%|██████████| 50/50 [00:14<00:00,  3.37it/s, epoch=52/100, avg_epoch_loss=5.21]\n",
            "100%|██████████| 50/50 [00:14<00:00,  3.37it/s, epoch=53/100, avg_epoch_loss=5.22]\n",
            "100%|██████████| 50/50 [00:14<00:00,  3.51it/s, epoch=54/100, avg_epoch_loss=5.21]\n",
            "100%|██████████| 50/50 [00:14<00:00,  3.34it/s, epoch=55/100, avg_epoch_loss=5.24]\n",
            "100%|██████████| 50/50 [00:14<00:00,  3.49it/s, epoch=56/100, avg_epoch_loss=5.24]\n",
            "100%|██████████| 50/50 [00:14<00:00,  3.44it/s, epoch=57/100, avg_epoch_loss=5.24]\n",
            "100%|██████████| 50/50 [00:14<00:00,  3.52it/s, epoch=58/100, avg_epoch_loss=5.18]\n",
            "100%|██████████| 50/50 [00:14<00:00,  3.41it/s, epoch=59/100, avg_epoch_loss=5.31]\n",
            "100%|██████████| 50/50 [00:14<00:00,  3.44it/s, epoch=60/100, avg_epoch_loss=5.22]\n",
            "100%|██████████| 50/50 [00:14<00:00,  3.46it/s, epoch=61/100, avg_epoch_loss=5.22]\n",
            "100%|██████████| 50/50 [00:14<00:00,  3.40it/s, epoch=62/100, avg_epoch_loss=5.21]\n",
            "100%|██████████| 50/50 [00:14<00:00,  3.50it/s, epoch=63/100, avg_epoch_loss=5.15]\n",
            "100%|██████████| 50/50 [00:14<00:00,  3.41it/s, epoch=64/100, avg_epoch_loss=5.17]\n",
            "100%|██████████| 50/50 [00:13<00:00,  3.61it/s, epoch=65/100, avg_epoch_loss=5.22]\n",
            "100%|██████████| 50/50 [00:14<00:00,  3.50it/s, epoch=66/100, avg_epoch_loss=5.16]\n",
            "100%|██████████| 50/50 [00:14<00:00,  3.44it/s, epoch=67/100, avg_epoch_loss=5.19]\n",
            "100%|██████████| 50/50 [00:14<00:00,  3.36it/s, epoch=68/100, avg_epoch_loss=5.21]\n",
            "100%|██████████| 50/50 [00:14<00:00,  3.46it/s, epoch=69/100, avg_epoch_loss=5.18]\n",
            "100%|██████████| 50/50 [00:14<00:00,  3.45it/s, epoch=70/100, avg_epoch_loss=5.2] \n",
            "100%|██████████| 50/50 [00:14<00:00,  3.41it/s, epoch=71/100, avg_epoch_loss=5.21]\n",
            "100%|██████████| 50/50 [00:14<00:00,  3.51it/s, epoch=72/100, avg_epoch_loss=5.12]\n",
            "100%|██████████| 50/50 [00:13<00:00,  3.60it/s, epoch=73/100, avg_epoch_loss=5.26]\n",
            "100%|██████████| 50/50 [00:14<00:00,  3.55it/s, epoch=74/100, avg_epoch_loss=5.19]\n",
            "100%|██████████| 50/50 [00:14<00:00,  3.57it/s, epoch=75/100, avg_epoch_loss=5.17]\n",
            "100%|██████████| 50/50 [00:13<00:00,  3.60it/s, epoch=76/100, avg_epoch_loss=5.23]\n",
            "100%|██████████| 50/50 [00:13<00:00,  3.67it/s, epoch=77/100, avg_epoch_loss=5.25]\n",
            "100%|██████████| 50/50 [00:14<00:00,  3.50it/s, epoch=78/100, avg_epoch_loss=5.23]\n",
            "100%|██████████| 50/50 [00:14<00:00,  3.41it/s, epoch=79/100, avg_epoch_loss=5.12]\n",
            "100%|██████████| 50/50 [00:13<00:00,  3.61it/s, epoch=80/100, avg_epoch_loss=5.17]\n",
            "100%|██████████| 50/50 [00:14<00:00,  3.43it/s, epoch=81/100, avg_epoch_loss=5.23]\n",
            "100%|██████████| 50/50 [00:14<00:00,  3.44it/s, epoch=82/100, avg_epoch_loss=5.22]\n",
            "100%|██████████| 50/50 [00:17<00:00,  2.85it/s, epoch=83/100, avg_epoch_loss=5.13]\n",
            "100%|██████████| 50/50 [00:14<00:00,  3.49it/s, epoch=84/100, avg_epoch_loss=5.19]\n",
            "100%|██████████| 50/50 [00:14<00:00,  3.42it/s, epoch=85/100, avg_epoch_loss=5.2] \n",
            "100%|██████████| 50/50 [00:14<00:00,  3.46it/s, epoch=86/100, avg_epoch_loss=5.15]\n",
            "100%|██████████| 50/50 [00:14<00:00,  3.46it/s, epoch=87/100, avg_epoch_loss=5.22]\n",
            "100%|██████████| 50/50 [00:14<00:00,  3.40it/s, epoch=88/100, avg_epoch_loss=5.18]\n",
            "100%|██████████| 50/50 [00:14<00:00,  3.44it/s, epoch=89/100, avg_epoch_loss=5.23]\n",
            "100%|██████████| 50/50 [00:15<00:00,  3.33it/s, epoch=90/100, avg_epoch_loss=5.16]\n",
            "100%|██████████| 50/50 [00:14<00:00,  3.49it/s, epoch=91/100, avg_epoch_loss=5.21]\n",
            "100%|██████████| 50/50 [00:14<00:00,  3.43it/s, epoch=92/100, avg_epoch_loss=5.15]\n",
            "100%|██████████| 50/50 [00:14<00:00,  3.52it/s, epoch=93/100, avg_epoch_loss=5.21]\n",
            "100%|██████████| 50/50 [00:14<00:00,  3.38it/s, epoch=94/100, avg_epoch_loss=5.15]\n",
            "100%|██████████| 50/50 [00:14<00:00,  3.48it/s, epoch=95/100, avg_epoch_loss=5.15]\n",
            "100%|██████████| 50/50 [00:14<00:00,  3.40it/s, epoch=96/100, avg_epoch_loss=5.24]\n",
            "100%|██████████| 50/50 [00:14<00:00,  3.49it/s, epoch=97/100, avg_epoch_loss=5.19]\n",
            "100%|██████████| 50/50 [00:14<00:00,  3.53it/s, epoch=98/100, avg_epoch_loss=5.22]\n",
            "100%|██████████| 50/50 [00:14<00:00,  3.45it/s, epoch=99/100, avg_epoch_loss=5.18]\n",
            "100%|██████████| 50/50 [00:14<00:00,  3.39it/s, epoch=100/100, avg_epoch_loss=5.12]\n"
          ],
          "name": "stderr"
        }
      ]
    },
    {
      "cell_type": "code",
      "metadata": {
        "id": "iVGO7KRtorHw",
        "colab_type": "code",
        "outputId": "8bbd3533-fb2e-4d88-d42e-4e7b649df698",
        "colab": {
          "base_uri": "https://localhost:8080/",
          "height": 503
        }
      },
      "source": [
        "forecast_it, ts_it = make_evaluation_predictions(\n",
        "    dataset=elec_dataset.test, \n",
        "    predictor=DA_predictor, \n",
        "    num_samples=100, \n",
        ")\n",
        "\n",
        "forecasts = list(forecast_it)\n",
        "tss = list(ts_it)\n",
        "\n",
        "evaluator = Evaluator(quantiles=[0.1, 0.5, 0.9])\n",
        "agg_metrics, item_metrics = evaluator(iter(tss), iter(forecasts), num_series=len(elec_dataset.test))\n",
        "\n",
        "print(json.dumps(agg_metrics, indent=4))"
      ],
      "execution_count": 0,
      "outputs": [
        {
          "output_type": "stream",
          "text": [
            "Running evaluation: 100%|██████████| 2247/2247 [00:00<00:00, 43151.75it/s]\n"
          ],
          "name": "stderr"
        },
        {
          "output_type": "stream",
          "text": [
            "{\n",
            "    \"MSE\": 2092254.1436080525,\n",
            "    \"abs_error\": 8443244.096513748,\n",
            "    \"abs_target_sum\": 128632956.0,\n",
            "    \"abs_target_mean\": 2385.272140631948,\n",
            "    \"seasonal_error\": 189.4933819611677,\n",
            "    \"MASE\": 0.7433946969760163,\n",
            "    \"MAPE\": 0.09550073439391775,\n",
            "    \"sMAPE\": 0.10736025187924114,\n",
            "    \"OWA\": NaN,\n",
            "    \"MSIS\": 9.34018030329882,\n",
            "    \"QuantileLoss[0.1]\": 3492565.4570164047,\n",
            "    \"Coverage[0.1]\": 0.10033748701972979,\n",
            "    \"QuantileLoss[0.5]\": 8443244.150904069,\n",
            "    \"Coverage[0.5]\": 0.4498590713543987,\n",
            "    \"QuantileLoss[0.9]\": 5374310.903311058,\n",
            "    \"Coverage[0.9]\": 0.8490765465064509,\n",
            "    \"RMSE\": 1446.4626312518594,\n",
            "    \"NRMSE\": 0.6064140886115567,\n",
            "    \"ND\": 0.06563826533313709,\n",
            "    \"wQuantileLoss[0.1]\": 0.027151404784761416,\n",
            "    \"wQuantileLoss[0.5]\": 0.06563826575597057,\n",
            "    \"wQuantileLoss[0.9]\": 0.04178020213817568,\n",
            "    \"mean_wQuantileLoss\": 0.04485662422630255,\n",
            "    \"MAE_Coverage\": 0.03380062305296007\n",
            "}\n"
          ],
          "name": "stdout"
        }
      ]
    },
    {
      "cell_type": "code",
      "metadata": {
        "colab_type": "code",
        "id": "GtBIDMrnEkW1",
        "outputId": "8ef8b42d-b561-44d1-a338-4793f499d1a2",
        "colab": {
          "base_uri": "https://localhost:8080/",
          "height": 503
        }
      },
      "source": [
        "forecast_it, ts_it = make_evaluation_predictions(\n",
        "    dataset=test_ds_24, \n",
        "    predictor=DA_predictor, \n",
        "    num_samples=100, \n",
        ")\n",
        "\n",
        "forecasts = list(forecast_it)\n",
        "tss = list(ts_it)\n",
        "\n",
        "evaluator = Evaluator(quantiles=[0.1, 0.5, 0.9])\n",
        "agg_metrics, item_metrics = evaluator(iter(tss), iter(forecasts), num_series=len(test_ds_24))\n",
        "\n",
        "print(json.dumps(agg_metrics, indent=4))"
      ],
      "execution_count": 0,
      "outputs": [
        {
          "output_type": "stream",
          "text": [
            "Running evaluation: 100%|██████████| 321/321 [00:00<00:00, 7461.97it/s]\n"
          ],
          "name": "stderr"
        },
        {
          "output_type": "stream",
          "text": [
            "{\n",
            "    \"MSE\": 459631.0071551227,\n",
            "    \"abs_error\": 897940.0201396942,\n",
            "    \"abs_target_sum\": 17268997.0,\n",
            "    \"abs_target_mean\": 2241.56243509865,\n",
            "    \"seasonal_error\": 189.64815247902152,\n",
            "    \"MASE\": 0.6542193132332207,\n",
            "    \"MAPE\": 0.08108305303708697,\n",
            "    \"sMAPE\": 0.1022167482942089,\n",
            "    \"OWA\": NaN,\n",
            "    \"MSIS\": 7.710735864877391,\n",
            "    \"QuantileLoss[0.1]\": 380458.6035026938,\n",
            "    \"Coverage[0.1]\": 0.12318276220145379,\n",
            "    \"QuantileLoss[0.5]\": 897940.0166884828,\n",
            "    \"Coverage[0.5]\": 0.5242731048805811,\n",
            "    \"QuantileLoss[0.9]\": 512635.18815480167,\n",
            "    \"Coverage[0.9]\": 0.8922637590861894,\n",
            "    \"RMSE\": 677.960918604548,\n",
            "    \"NRMSE\": 0.30245016065087266,\n",
            "    \"ND\": 0.05199723065211571,\n",
            "    \"wQuantileLoss[0.1]\": 0.022031308680098435,\n",
            "    \"wQuantileLoss[0.5]\": 0.05199723045226557,\n",
            "    \"wQuantileLoss[0.9]\": 0.029685290243249313,\n",
            "    \"mean_wQuantileLoss\": 0.034571276458537775,\n",
            "    \"MAE_Coverage\": 0.018397369331948507\n",
            "}\n"
          ],
          "name": "stdout"
        }
      ]
    },
    {
      "cell_type": "code",
      "metadata": {
        "id": "1HI9PXx0mi6C",
        "colab_type": "code",
        "colab": {}
      },
      "source": [
        ""
      ],
      "execution_count": 0,
      "outputs": []
    },
    {
      "cell_type": "markdown",
      "metadata": {
        "colab_type": "text",
        "id": "fy4faTqGUoxS"
      },
      "source": [
        "## exchange_rate"
      ]
    },
    {
      "cell_type": "code",
      "metadata": {
        "colab_type": "code",
        "outputId": "4602d042-f69f-4808-a28f-f76688637b1d",
        "id": "6JcEADfNUoxT",
        "colab": {
          "base_uri": "https://localhost:8080/",
          "height": 53
        }
      },
      "source": [
        "exchange_rate_dataset = get_dataset(\"exchange_rate\", regenerate=False)"
      ],
      "execution_count": 0,
      "outputs": [
        {
          "output_type": "stream",
          "text": [
            "saving time-series into /root/.mxnet/gluon-ts/datasets/exchange_rate/train/data.json\n",
            "saving time-series into /root/.mxnet/gluon-ts/datasets/exchange_rate/test/data.json\n"
          ],
          "name": "stdout"
        }
      ]
    },
    {
      "cell_type": "code",
      "metadata": {
        "colab_type": "code",
        "outputId": "17b636e6-8820-4ccc-bc79-c63e73ba6d65",
        "id": "kdnQ9-IwUoxV",
        "colab": {
          "base_uri": "https://localhost:8080/",
          "height": 53
        }
      },
      "source": [
        "print (len(exchange_rate_dataset.train))\n",
        "print (len(exchange_rate_dataset.test))"
      ],
      "execution_count": 0,
      "outputs": [
        {
          "output_type": "stream",
          "text": [
            "8\n",
            "40\n"
          ],
          "name": "stdout"
        }
      ]
    },
    {
      "cell_type": "code",
      "metadata": {
        "colab_type": "code",
        "outputId": "ebcd41da-c292-4223-a44d-db0008b4521f",
        "id": "6zzH8t0ZUoxX",
        "colab": {
          "base_uri": "https://localhost:8080/",
          "height": 35
        }
      },
      "source": [
        "exchange_rate_dataset.metadata"
      ],
      "execution_count": 0,
      "outputs": [
        {
          "output_type": "execute_result",
          "data": {
            "text/plain": [
              "MetaData(freq='1B', target=None, feat_static_cat=[CategoricalFeatureInfo(name='feat_static_cat', cardinality='8')], feat_static_real=[], feat_dynamic_real=[], feat_dynamic_cat=[], prediction_length=30)"
            ]
          },
          "metadata": {
            "tags": []
          },
          "execution_count": 20
        }
      ]
    },
    {
      "cell_type": "code",
      "metadata": {
        "colab_type": "code",
        "outputId": "1417142d-704e-447d-b16b-a3978d3663b6",
        "id": "mlWCjOAxo9B2",
        "colab": {
          "base_uri": "https://localhost:8080/",
          "height": 35
        }
      },
      "source": [
        "exchange_rate_dataset.metadata.feat_static_cat[0]"
      ],
      "execution_count": 0,
      "outputs": [
        {
          "output_type": "execute_result",
          "data": {
            "text/plain": [
              "CategoricalFeatureInfo(name='feat_static_cat', cardinality='8')"
            ]
          },
          "metadata": {
            "tags": []
          },
          "execution_count": 21
        }
      ]
    },
    {
      "cell_type": "code",
      "metadata": {
        "colab_type": "code",
        "id": "lWauZAdio9B8",
        "colab": {}
      },
      "source": [
        "car = [int(exchange_rate_dataset.metadata.feat_static_cat[0].cardinality)]"
      ],
      "execution_count": 0,
      "outputs": []
    },
    {
      "cell_type": "code",
      "metadata": {
        "colab_type": "code",
        "outputId": "a706cdd3-aaee-49b6-feb1-fe11f3406171",
        "id": "Evq7k0huUoxn",
        "colab": {
          "base_uri": "https://localhost:8080/",
          "height": 35
        }
      },
      "source": [
        "next(iter(exchange_rate_dataset.train)).keys()"
      ],
      "execution_count": 0,
      "outputs": [
        {
          "output_type": "execute_result",
          "data": {
            "text/plain": [
              "dict_keys(['start', 'target', 'feat_static_cat', 'item_id', 'source'])"
            ]
          },
          "metadata": {
            "tags": []
          },
          "execution_count": 23
        }
      ]
    },
    {
      "cell_type": "code",
      "metadata": {
        "colab_type": "code",
        "id": "kreaWmN4Uoxt",
        "colab": {}
      },
      "source": [
        "# https://gluon-ts.mxnet.io/api/gluonts/gluonts.model.deepar.html\n",
        "DA_estimator = DeepAREstimator(\n",
        "    freq=exchange_rate_dataset.metadata.freq, \n",
        "    prediction_length=exchange_rate_dataset.metadata.prediction_length,\n",
        "    trainer = deepar_trainer, # (default: Trainer())\n",
        "    context_length=None, # (default: None, in which case context_length = prediction_length)\n",
        "    num_layers=2, # (default: 2)\n",
        "    num_cells=40, # (default: 40)\n",
        "    cell_type='lstm', # (default: ‘lstm’)\n",
        "    dropout_rate=0.1, # (default: 0.1)\n",
        "    use_feat_dynamic_real=False, # (default: False)\n",
        "    use_feat_static_cat=True, # (default: False)\n",
        "    use_feat_static_real=False, # (default: False)\n",
        "    cardinality=car, # (default: None)\n",
        "    #embedding_dimension=[20], # (default: [min(50, (cat+1)//2) for cat in cardinality])\n",
        "    distr_output = StudentTOutput(), # (default: StudentTOutput())\n",
        "    scaling=True, # (default: true)\n",
        "    lags_seq=None, # (default: None, in which case these are automatically determined based on freq)\n",
        "    time_features=None, # (default: None, in which case these are automatically determined based on freq)\n",
        "    num_parallel_samples=100, # (default: 100)\n",
        ")"
      ],
      "execution_count": 0,
      "outputs": []
    },
    {
      "cell_type": "code",
      "metadata": {
        "colab_type": "code",
        "id": "oLzqf7kYUoxv",
        "outputId": "0d4996fd-09aa-40c5-8864-38d490c7b691",
        "colab": {
          "base_uri": "https://localhost:8080/",
          "height": 1000
        }
      },
      "source": [
        "DA_predictor = DA_estimator.train(exchange_rate_dataset.train)"
      ],
      "execution_count": 0,
      "outputs": [
        {
          "output_type": "stream",
          "text": [
            "\r  0%|          | 0/50 [00:00<?, ?it/s]"
          ],
          "name": "stderr"
        },
        {
          "output_type": "stream",
          "text": [
            "learning rate from ``lr_scheduler`` has been overwritten by ``learning_rate`` in optimizer.\n"
          ],
          "name": "stdout"
        },
        {
          "output_type": "stream",
          "text": [
            "100%|██████████| 50/50 [00:08<00:00,  6.25it/s, epoch=1/100, avg_epoch_loss=-1.61]\n",
            "100%|██████████| 50/50 [00:07<00:00,  6.46it/s, epoch=2/100, avg_epoch_loss=-3.03]\n",
            "100%|██████████| 50/50 [00:07<00:00,  6.68it/s, epoch=3/100, avg_epoch_loss=-3.13]\n",
            "100%|██████████| 50/50 [00:07<00:00,  6.54it/s, epoch=4/100, avg_epoch_loss=-3.43]\n",
            "100%|██████████| 50/50 [00:07<00:00,  6.53it/s, epoch=5/100, avg_epoch_loss=-3.21]\n",
            "100%|██████████| 50/50 [00:07<00:00,  6.44it/s, epoch=6/100, avg_epoch_loss=-3.39]\n",
            "100%|██████████| 50/50 [00:07<00:00,  6.64it/s, epoch=7/100, avg_epoch_loss=-3.58]\n",
            "100%|██████████| 50/50 [00:07<00:00,  6.56it/s, epoch=8/100, avg_epoch_loss=-3.45]\n",
            "100%|██████████| 50/50 [00:07<00:00,  6.63it/s, epoch=9/100, avg_epoch_loss=-3.29]\n",
            "100%|██████████| 50/50 [00:07<00:00,  6.58it/s, epoch=10/100, avg_epoch_loss=-3.44]\n",
            "100%|██████████| 50/50 [00:07<00:00,  6.63it/s, epoch=11/100, avg_epoch_loss=-3.61]\n",
            "100%|██████████| 50/50 [00:07<00:00,  6.58it/s, epoch=12/100, avg_epoch_loss=-3.63]\n",
            "100%|██████████| 50/50 [00:07<00:00,  6.69it/s, epoch=13/100, avg_epoch_loss=-3.32]\n",
            "100%|██████████| 50/50 [00:07<00:00,  6.84it/s, epoch=14/100, avg_epoch_loss=-3.66]\n",
            "100%|██████████| 50/50 [00:07<00:00,  6.50it/s, epoch=15/100, avg_epoch_loss=-3.57]\n",
            "100%|██████████| 50/50 [00:07<00:00,  6.68it/s, epoch=16/100, avg_epoch_loss=-3.75]\n",
            "100%|██████████| 50/50 [00:07<00:00,  6.59it/s, epoch=17/100, avg_epoch_loss=-3.65]\n",
            "100%|██████████| 50/50 [00:07<00:00,  6.56it/s, epoch=18/100, avg_epoch_loss=-3.64]\n",
            "100%|██████████| 50/50 [00:10<00:00,  4.72it/s, epoch=19/100, avg_epoch_loss=-3.83]\n",
            "100%|██████████| 50/50 [00:07<00:00,  6.60it/s, epoch=20/100, avg_epoch_loss=-3.53]\n",
            "100%|██████████| 50/50 [00:07<00:00,  6.63it/s, epoch=21/100, avg_epoch_loss=-3.74]\n",
            "100%|██████████| 50/50 [00:07<00:00,  6.66it/s, epoch=22/100, avg_epoch_loss=-3.71]\n",
            "100%|██████████| 50/50 [00:07<00:00,  6.62it/s, epoch=23/100, avg_epoch_loss=-3.78]\n",
            "100%|██████████| 50/50 [00:07<00:00,  6.64it/s, epoch=24/100, avg_epoch_loss=-3.79]\n",
            "100%|██████████| 50/50 [00:07<00:00,  6.52it/s, epoch=25/100, avg_epoch_loss=-3.57]\n",
            "100%|██████████| 50/50 [00:07<00:00,  6.46it/s, epoch=26/100, avg_epoch_loss=-3.84]\n",
            "100%|██████████| 50/50 [00:07<00:00,  6.51it/s, epoch=27/100, avg_epoch_loss=-3.9]\n",
            "100%|██████████| 50/50 [00:07<00:00,  6.59it/s, epoch=28/100, avg_epoch_loss=-3.91]\n",
            "100%|██████████| 50/50 [00:07<00:00,  6.66it/s, epoch=29/100, avg_epoch_loss=-3.8]\n",
            "100%|██████████| 50/50 [00:07<00:00,  6.50it/s, epoch=30/100, avg_epoch_loss=-3.89]\n",
            "100%|██████████| 50/50 [00:07<00:00,  6.65it/s, epoch=31/100, avg_epoch_loss=-3.9]\n",
            "100%|██████████| 50/50 [00:07<00:00,  6.64it/s, epoch=32/100, avg_epoch_loss=-3.84]\n",
            "100%|██████████| 50/50 [00:07<00:00,  6.60it/s, epoch=33/100, avg_epoch_loss=-3.89]\n",
            "100%|██████████| 50/50 [00:07<00:00,  6.71it/s, epoch=34/100, avg_epoch_loss=-3.91]\n",
            "100%|██████████| 50/50 [00:07<00:00,  6.70it/s, epoch=35/100, avg_epoch_loss=-4.02]\n",
            "100%|██████████| 50/50 [00:07<00:00,  6.67it/s, epoch=36/100, avg_epoch_loss=-3.86]\n",
            "100%|██████████| 50/50 [00:07<00:00,  6.53it/s, epoch=37/100, avg_epoch_loss=-3.77]\n",
            "100%|██████████| 50/50 [00:07<00:00,  6.67it/s, epoch=38/100, avg_epoch_loss=-3.96]\n",
            "100%|██████████| 50/50 [00:07<00:00,  6.66it/s, epoch=39/100, avg_epoch_loss=-4]\n",
            "100%|██████████| 50/50 [00:07<00:00,  6.51it/s, epoch=40/100, avg_epoch_loss=-3.85]\n",
            "100%|██████████| 50/50 [00:07<00:00,  6.56it/s, epoch=41/100, avg_epoch_loss=-3.94]\n",
            "100%|██████████| 50/50 [00:07<00:00,  6.69it/s, epoch=42/100, avg_epoch_loss=-3.89]\n",
            "100%|██████████| 50/50 [00:07<00:00,  6.63it/s, epoch=43/100, avg_epoch_loss=-4.01]\n",
            "100%|██████████| 50/50 [00:07<00:00,  6.53it/s, epoch=44/100, avg_epoch_loss=-3.96]\n",
            "100%|██████████| 50/50 [00:07<00:00,  6.71it/s, epoch=45/100, avg_epoch_loss=-3.8]\n",
            "100%|██████████| 50/50 [00:07<00:00,  6.53it/s, epoch=46/100, avg_epoch_loss=-4.08]\n",
            "100%|██████████| 50/50 [00:07<00:00,  6.54it/s, epoch=47/100, avg_epoch_loss=-4.1]\n",
            "100%|██████████| 50/50 [00:07<00:00,  6.68it/s, epoch=48/100, avg_epoch_loss=-4.02]\n",
            "100%|██████████| 50/50 [00:07<00:00,  6.60it/s, epoch=49/100, avg_epoch_loss=-4.15]\n",
            "100%|██████████| 50/50 [00:07<00:00,  6.61it/s, epoch=50/100, avg_epoch_loss=-4.12]\n",
            "100%|██████████| 50/50 [00:07<00:00,  6.67it/s, epoch=51/100, avg_epoch_loss=-4.02]\n",
            "100%|██████████| 50/50 [00:07<00:00,  6.66it/s, epoch=52/100, avg_epoch_loss=-4.14]\n",
            "100%|██████████| 50/50 [00:07<00:00,  6.62it/s, epoch=53/100, avg_epoch_loss=-4.19]\n",
            "100%|██████████| 50/50 [00:07<00:00,  6.75it/s, epoch=54/100, avg_epoch_loss=-4.13]\n",
            "100%|██████████| 50/50 [00:07<00:00,  6.73it/s, epoch=55/100, avg_epoch_loss=-4.17]\n",
            "100%|██████████| 50/50 [00:07<00:00,  6.59it/s, epoch=56/100, avg_epoch_loss=-4.11]\n",
            "100%|██████████| 50/50 [00:07<00:00,  6.59it/s, epoch=57/100, avg_epoch_loss=-4.16]\n",
            "100%|██████████| 50/50 [00:07<00:00,  6.81it/s, epoch=58/100, avg_epoch_loss=-4.04]\n",
            "100%|██████████| 50/50 [00:07<00:00,  6.61it/s, epoch=59/100, avg_epoch_loss=-4.04]\n",
            "100%|██████████| 50/50 [00:07<00:00,  6.59it/s, epoch=60/100, avg_epoch_loss=-4.08]\n",
            "100%|██████████| 50/50 [00:07<00:00,  6.56it/s, epoch=61/100, avg_epoch_loss=-4.03]\n",
            "100%|██████████| 50/50 [00:07<00:00,  6.69it/s, epoch=62/100, avg_epoch_loss=-4.01]\n",
            "100%|██████████| 50/50 [00:07<00:00,  6.40it/s, epoch=63/100, avg_epoch_loss=-4.07]\n",
            "100%|██████████| 50/50 [00:07<00:00,  6.75it/s, epoch=64/100, avg_epoch_loss=-4.19]\n",
            "100%|██████████| 50/50 [00:07<00:00,  6.55it/s, epoch=65/100, avg_epoch_loss=-4.18]\n",
            "100%|██████████| 50/50 [00:07<00:00,  6.65it/s, epoch=66/100, avg_epoch_loss=-4.1]\n",
            "100%|██████████| 50/50 [00:07<00:00,  6.53it/s, epoch=67/100, avg_epoch_loss=-4.19]\n",
            "100%|██████████| 50/50 [00:07<00:00,  6.53it/s, epoch=68/100, avg_epoch_loss=-4.26]\n",
            "100%|██████████| 50/50 [00:07<00:00,  6.63it/s, epoch=69/100, avg_epoch_loss=-4.14]\n",
            "100%|██████████| 50/50 [00:07<00:00,  6.67it/s, epoch=70/100, avg_epoch_loss=-4.13]\n",
            "100%|██████████| 50/50 [00:07<00:00,  6.72it/s, epoch=71/100, avg_epoch_loss=-4.19]\n",
            "100%|██████████| 50/50 [00:07<00:00,  6.72it/s, epoch=72/100, avg_epoch_loss=-4.2]\n",
            "100%|██████████| 50/50 [00:07<00:00,  6.56it/s, epoch=73/100, avg_epoch_loss=-4.16]\n",
            "100%|██████████| 50/50 [00:07<00:00,  6.56it/s, epoch=74/100, avg_epoch_loss=-4.19]\n",
            "100%|██████████| 50/50 [00:07<00:00,  6.52it/s, epoch=75/100, avg_epoch_loss=-4.22]\n",
            "100%|██████████| 50/50 [00:07<00:00,  6.61it/s, epoch=76/100, avg_epoch_loss=-4.2]\n",
            "100%|██████████| 50/50 [00:07<00:00,  6.56it/s, epoch=77/100, avg_epoch_loss=-4.22]\n",
            "100%|██████████| 50/50 [00:07<00:00,  6.55it/s, epoch=78/100, avg_epoch_loss=-4.11]\n",
            "100%|██████████| 50/50 [00:07<00:00,  6.59it/s, epoch=79/100, avg_epoch_loss=-4.17]\n",
            "100%|██████████| 50/50 [00:07<00:00,  6.51it/s, epoch=80/100, avg_epoch_loss=-4.32]\n",
            "100%|██████████| 50/50 [00:07<00:00,  6.73it/s, epoch=81/100, avg_epoch_loss=-4.22]\n",
            "100%|██████████| 50/50 [00:07<00:00,  6.67it/s, epoch=82/100, avg_epoch_loss=-4.21]\n",
            "100%|██████████| 50/50 [00:07<00:00,  6.53it/s, epoch=83/100, avg_epoch_loss=-4.22]\n",
            "100%|██████████| 50/50 [00:07<00:00,  6.63it/s, epoch=84/100, avg_epoch_loss=-4.18]\n",
            "100%|██████████| 50/50 [00:07<00:00,  6.66it/s, epoch=85/100, avg_epoch_loss=-4.31]\n",
            "100%|██████████| 50/50 [00:07<00:00,  6.48it/s, epoch=86/100, avg_epoch_loss=-4.18]\n",
            "100%|██████████| 50/50 [00:07<00:00,  6.58it/s, epoch=87/100, avg_epoch_loss=-4.19]\n",
            "100%|██████████| 50/50 [00:07<00:00,  6.55it/s, epoch=88/100, avg_epoch_loss=-4.21]\n",
            "100%|██████████| 50/50 [00:07<00:00,  6.56it/s, epoch=89/100, avg_epoch_loss=-4.27]\n",
            "100%|██████████| 50/50 [00:07<00:00,  6.66it/s, epoch=90/100, avg_epoch_loss=-4.3]\n",
            "100%|██████████| 50/50 [00:07<00:00,  6.66it/s, epoch=91/100, avg_epoch_loss=-4.17]\n",
            "100%|██████████| 50/50 [00:07<00:00,  6.56it/s, epoch=92/100, avg_epoch_loss=-4.22]\n",
            "100%|██████████| 50/50 [00:07<00:00,  6.53it/s, epoch=93/100, avg_epoch_loss=-4.22]\n",
            "100%|██████████| 50/50 [00:07<00:00,  6.67it/s, epoch=94/100, avg_epoch_loss=-4.27]\n",
            "100%|██████████| 50/50 [00:07<00:00,  6.66it/s, epoch=95/100, avg_epoch_loss=-4.25]\n",
            "100%|██████████| 50/50 [00:07<00:00,  6.65it/s, epoch=96/100, avg_epoch_loss=-4.2]\n",
            "100%|██████████| 50/50 [00:07<00:00,  6.69it/s, epoch=97/100, avg_epoch_loss=-4.18]\n",
            "100%|██████████| 50/50 [00:07<00:00,  6.65it/s, epoch=98/100, avg_epoch_loss=-4.28]\n",
            "100%|██████████| 50/50 [00:10<00:00,  4.88it/s, epoch=99/100, avg_epoch_loss=-4.26]\n",
            "100%|██████████| 50/50 [00:07<00:00,  6.33it/s, epoch=100/100, avg_epoch_loss=-4.2]\n"
          ],
          "name": "stderr"
        }
      ]
    },
    {
      "cell_type": "code",
      "metadata": {
        "colab_type": "code",
        "id": "H7vVKhYYUox1",
        "outputId": "1c92330d-265f-4aae-ec5e-3eed709fe3ae",
        "colab": {
          "base_uri": "https://localhost:8080/",
          "height": 503
        }
      },
      "source": [
        "forecast_it, ts_it = make_evaluation_predictions(\n",
        "    dataset=exchange_rate_dataset.test, \n",
        "    predictor=DA_predictor, \n",
        "    num_samples=100, \n",
        ")\n",
        "\n",
        "forecasts = list(forecast_it)\n",
        "tss = list(ts_it)\n",
        "\n",
        "evaluator = Evaluator(quantiles=[0.1, 0.5, 0.9])\n",
        "agg_metrics, item_metrics = evaluator(iter(tss), iter(forecasts), num_series=len(exchange_rate_dataset.test))\n",
        "\n",
        "print(json.dumps(agg_metrics, indent=4))"
      ],
      "execution_count": 0,
      "outputs": [
        {
          "output_type": "stream",
          "text": [
            "Running evaluation: 100%|██████████| 40/40 [00:00<00:00, 837.25it/s]\n"
          ],
          "name": "stderr"
        },
        {
          "output_type": "stream",
          "text": [
            "{\n",
            "    \"MSE\": 0.0003244642393733936,\n",
            "    \"abs_error\": 14.109951864928007,\n",
            "    \"abs_target_sum\": 975.9766580164433,\n",
            "    \"abs_target_mean\": 0.8133138816803692,\n",
            "    \"seasonal_error\": 0.006515919403041841,\n",
            "    \"MASE\": 2.916689351928164,\n",
            "    \"MAPE\": 0.016858252813219475,\n",
            "    \"sMAPE\": 0.016615119229724105,\n",
            "    \"OWA\": NaN,\n",
            "    \"MSIS\": 40.880627394259236,\n",
            "    \"QuantileLoss[0.1]\": 9.054444624297322,\n",
            "    \"Coverage[0.1]\": 0.4691666666666666,\n",
            "    \"QuantileLoss[0.5]\": 14.109951863996685,\n",
            "    \"Coverage[0.5]\": 0.8658333333333333,\n",
            "    \"QuantileLoss[0.9]\": 5.212419524043797,\n",
            "    \"Coverage[0.9]\": 0.9841666666666669,\n",
            "    \"RMSE\": 0.018012890922153323,\n",
            "    \"NRMSE\": 0.022147526714947127,\n",
            "    \"ND\": 0.01445726365383042,\n",
            "    \"wQuantileLoss[0.1]\": 0.009277316777943651,\n",
            "    \"wQuantileLoss[0.5]\": 0.014457263652876173,\n",
            "    \"wQuantileLoss[0.9]\": 0.005340721503152976,\n",
            "    \"mean_wQuantileLoss\": 0.009691767311324267,\n",
            "    \"MAE_Coverage\": 0.2730555555555556\n",
            "}\n"
          ],
          "name": "stdout"
        }
      ]
    },
    {
      "cell_type": "code",
      "metadata": {
        "colab_type": "code",
        "id": "XUHZBr5bUox4",
        "colab": {}
      },
      "source": [
        ""
      ],
      "execution_count": 0,
      "outputs": []
    },
    {
      "cell_type": "markdown",
      "metadata": {
        "id": "OjjjZv_uD7L_",
        "colab_type": "text"
      },
      "source": [
        "## m4_daily"
      ]
    },
    {
      "cell_type": "code",
      "metadata": {
        "id": "DpQOqBRpwUSK",
        "colab_type": "code",
        "outputId": "d25e6ea2-306f-4d8b-a866-16d1fd9fbc6e",
        "colab": {
          "base_uri": "https://localhost:8080/",
          "height": 53
        }
      },
      "source": [
        "m4_daily_dataset = get_dataset(\"m4_daily\", regenerate=True)"
      ],
      "execution_count": 0,
      "outputs": [
        {
          "output_type": "stream",
          "text": [
            "saving time-series into /root/.mxnet/gluon-ts/datasets/m4_daily/train/data.json\n",
            "saving time-series into /root/.mxnet/gluon-ts/datasets/m4_daily/test/data.json\n"
          ],
          "name": "stdout"
        }
      ]
    },
    {
      "cell_type": "code",
      "metadata": {
        "id": "nDNzNbsqGOZ3",
        "colab_type": "code",
        "outputId": "4b9ce4a0-cbfb-4bed-bfa2-5ea7f6bad6a8",
        "colab": {
          "base_uri": "https://localhost:8080/",
          "height": 53
        }
      },
      "source": [
        "print (len(m4_daily_dataset.train))\n",
        "print (len(m4_daily_dataset.test))"
      ],
      "execution_count": 0,
      "outputs": [
        {
          "output_type": "stream",
          "text": [
            "4227\n",
            "4227\n"
          ],
          "name": "stdout"
        }
      ]
    },
    {
      "cell_type": "code",
      "metadata": {
        "id": "rARQuyPqE2E8",
        "colab_type": "code",
        "outputId": "f82f8c1e-4e52-4ab4-d174-30875c44db6d",
        "colab": {
          "base_uri": "https://localhost:8080/",
          "height": 35
        }
      },
      "source": [
        "m4_daily_dataset.metadata"
      ],
      "execution_count": 0,
      "outputs": [
        {
          "output_type": "execute_result",
          "data": {
            "text/plain": [
              "MetaData(freq='D', target=None, feat_static_cat=[CategoricalFeatureInfo(name='feat_static_cat', cardinality='4227')], feat_static_real=[], feat_dynamic_real=[], feat_dynamic_cat=[], prediction_length=14)"
            ]
          },
          "metadata": {
            "tags": []
          },
          "execution_count": 29
        }
      ]
    },
    {
      "cell_type": "code",
      "metadata": {
        "colab_type": "code",
        "outputId": "c4db2b37-8e38-4345-ea7f-b046e7ddca92",
        "id": "u8sgMUqCpR_t",
        "colab": {
          "base_uri": "https://localhost:8080/",
          "height": 35
        }
      },
      "source": [
        "m4_daily_dataset.metadata.feat_static_cat[0]"
      ],
      "execution_count": 0,
      "outputs": [
        {
          "output_type": "execute_result",
          "data": {
            "text/plain": [
              "CategoricalFeatureInfo(name='feat_static_cat', cardinality='4227')"
            ]
          },
          "metadata": {
            "tags": []
          },
          "execution_count": 30
        }
      ]
    },
    {
      "cell_type": "code",
      "metadata": {
        "colab_type": "code",
        "id": "frjgd9iNpR_w",
        "colab": {}
      },
      "source": [
        "car = [int(m4_daily_dataset.metadata.feat_static_cat[0].cardinality)]"
      ],
      "execution_count": 0,
      "outputs": []
    },
    {
      "cell_type": "code",
      "metadata": {
        "id": "f946ZalyEh4c",
        "colab_type": "code",
        "outputId": "98e07bae-9be5-4f38-be7d-66901edaf59e",
        "colab": {
          "base_uri": "https://localhost:8080/",
          "height": 35
        }
      },
      "source": [
        "next(iter(m4_daily_dataset.train)).keys()"
      ],
      "execution_count": 0,
      "outputs": [
        {
          "output_type": "execute_result",
          "data": {
            "text/plain": [
              "dict_keys(['start', 'target', 'feat_static_cat', 'item_id', 'source'])"
            ]
          },
          "metadata": {
            "tags": []
          },
          "execution_count": 32
        }
      ]
    },
    {
      "cell_type": "code",
      "metadata": {
        "id": "JtP-UGN0EBxc",
        "colab_type": "code",
        "colab": {}
      },
      "source": [
        "# https://gluon-ts.mxnet.io/api/gluonts/gluonts.model.deepar.html\n",
        "DA_estimator = DeepAREstimator(\n",
        "    freq=m4_daily_dataset.metadata.freq, \n",
        "    prediction_length=m4_daily_dataset.metadata.prediction_length,\n",
        "    trainer = deepar_trainer, # (default: Trainer())\n",
        "    context_length=None, # (default: None, in which case context_length = prediction_length)\n",
        "    num_layers=2, # (default: 2)\n",
        "    num_cells=40, # (default: 40)\n",
        "    cell_type='lstm', # (default: ‘lstm’)\n",
        "    dropout_rate=0.1, # (default: 0.1)\n",
        "    use_feat_dynamic_real=False, # (default: False)\n",
        "    use_feat_static_cat=True, # (default: False)\n",
        "    use_feat_static_real=False, # (default: False)\n",
        "    cardinality=car, # (default: None)\n",
        "    #embedding_dimension=[20], # (default: [min(50, (cat+1)//2) for cat in cardinality])\n",
        "    distr_output = StudentTOutput(), # (default: StudentTOutput())\n",
        "    scaling=True, # (default: true)\n",
        "    lags_seq=None, # (default: None, in which case these are automatically determined based on freq)\n",
        "    time_features=None, # (default: None, in which case these are automatically determined based on freq)\n",
        "    num_parallel_samples=100, # (default: 100)\n",
        ")"
      ],
      "execution_count": 0,
      "outputs": []
    },
    {
      "cell_type": "code",
      "metadata": {
        "id": "cNq_opQMF3sc",
        "colab_type": "code",
        "outputId": "144d6a00-4908-4c3b-e421-cad494fc27ef",
        "colab": {
          "base_uri": "https://localhost:8080/",
          "height": 1000
        }
      },
      "source": [
        "DA_predictor = DA_estimator.train(m4_daily_dataset.train)"
      ],
      "execution_count": 0,
      "outputs": [
        {
          "output_type": "stream",
          "text": [
            "\r  0%|          | 0/50 [00:00<?, ?it/s]"
          ],
          "name": "stderr"
        },
        {
          "output_type": "stream",
          "text": [
            "learning rate from ``lr_scheduler`` has been overwritten by ``learning_rate`` in optimizer.\n"
          ],
          "name": "stdout"
        },
        {
          "output_type": "stream",
          "text": [
            "100%|██████████| 50/50 [00:03<00:00, 13.11it/s, epoch=1/100, avg_epoch_loss=7.31]\n",
            "100%|██████████| 50/50 [00:04<00:00, 11.63it/s, epoch=2/100, avg_epoch_loss=6.63]\n",
            "100%|██████████| 50/50 [00:04<00:00, 11.86it/s, epoch=3/100, avg_epoch_loss=6.63]\n",
            "100%|██████████| 50/50 [00:04<00:00, 11.47it/s, epoch=4/100, avg_epoch_loss=6.51]\n",
            "100%|██████████| 50/50 [00:04<00:00, 12.00it/s, epoch=5/100, avg_epoch_loss=6.58]\n",
            "100%|██████████| 50/50 [00:04<00:00, 11.65it/s, epoch=6/100, avg_epoch_loss=6.46]\n",
            "100%|██████████| 50/50 [00:04<00:00, 11.87it/s, epoch=7/100, avg_epoch_loss=6.42]\n",
            "100%|██████████| 50/50 [00:04<00:00, 12.34it/s, epoch=8/100, avg_epoch_loss=6.61]\n",
            "100%|██████████| 50/50 [00:04<00:00, 11.66it/s, epoch=9/100, avg_epoch_loss=6.36]\n",
            "100%|██████████| 50/50 [00:04<00:00, 12.10it/s, epoch=10/100, avg_epoch_loss=6.52]\n",
            "100%|██████████| 50/50 [00:04<00:00, 11.64it/s, epoch=11/100, avg_epoch_loss=6.4]\n",
            "100%|██████████| 50/50 [00:04<00:00, 12.38it/s, epoch=12/100, avg_epoch_loss=6.19]\n",
            "100%|██████████| 50/50 [00:04<00:00, 12.04it/s, epoch=13/100, avg_epoch_loss=6.38]\n",
            "100%|██████████| 50/50 [00:04<00:00, 11.87it/s, epoch=14/100, avg_epoch_loss=6.26]\n",
            "100%|██████████| 50/50 [00:04<00:00, 12.04it/s, epoch=15/100, avg_epoch_loss=6.17]\n",
            "100%|██████████| 50/50 [00:04<00:00, 12.31it/s, epoch=16/100, avg_epoch_loss=6.31]\n",
            "100%|██████████| 50/50 [00:04<00:00, 11.92it/s, epoch=17/100, avg_epoch_loss=6.16]\n",
            "100%|██████████| 50/50 [00:04<00:00, 12.09it/s, epoch=18/100, avg_epoch_loss=6.27]\n",
            "100%|██████████| 50/50 [00:04<00:00, 11.72it/s, epoch=19/100, avg_epoch_loss=6.27]\n",
            "100%|██████████| 50/50 [00:04<00:00, 12.11it/s, epoch=20/100, avg_epoch_loss=6.02]\n",
            "100%|██████████| 50/50 [00:04<00:00, 12.49it/s, epoch=21/100, avg_epoch_loss=6.29]\n",
            "100%|██████████| 50/50 [00:04<00:00, 11.85it/s, epoch=22/100, avg_epoch_loss=6.17]\n",
            "100%|██████████| 50/50 [00:04<00:00, 12.09it/s, epoch=23/100, avg_epoch_loss=6.04]\n",
            "100%|██████████| 50/50 [00:04<00:00, 12.02it/s, epoch=24/100, avg_epoch_loss=6.41]\n",
            "100%|██████████| 50/50 [00:04<00:00, 11.90it/s, epoch=25/100, avg_epoch_loss=6.34]\n",
            "100%|██████████| 50/50 [00:04<00:00, 12.13it/s, epoch=26/100, avg_epoch_loss=6.47]\n",
            "100%|██████████| 50/50 [00:04<00:00, 11.53it/s, epoch=27/100, avg_epoch_loss=6.12]\n",
            "100%|██████████| 50/50 [00:04<00:00, 12.00it/s, epoch=28/100, avg_epoch_loss=6.1]\n",
            "100%|██████████| 50/50 [00:04<00:00, 12.18it/s, epoch=29/100, avg_epoch_loss=6.35]\n",
            "100%|██████████| 50/50 [00:04<00:00, 11.97it/s, epoch=30/100, avg_epoch_loss=6.4]\n",
            "100%|██████████| 50/50 [00:04<00:00, 11.89it/s, epoch=31/100, avg_epoch_loss=6.12]\n",
            "100%|██████████| 50/50 [00:04<00:00, 11.95it/s, epoch=32/100, avg_epoch_loss=6.13]\n",
            "100%|██████████| 50/50 [00:04<00:00, 12.47it/s, epoch=33/100, avg_epoch_loss=6.02]\n",
            "100%|██████████| 50/50 [00:04<00:00, 11.94it/s, epoch=34/100, avg_epoch_loss=6.1]\n",
            "100%|██████████| 50/50 [00:04<00:00, 11.88it/s, epoch=35/100, avg_epoch_loss=6.1]\n",
            "100%|██████████| 50/50 [00:04<00:00, 12.09it/s, epoch=36/100, avg_epoch_loss=6.21]\n",
            "100%|██████████| 50/50 [00:04<00:00, 12.39it/s, epoch=37/100, avg_epoch_loss=6.24]\n",
            "100%|██████████| 50/50 [00:04<00:00, 11.90it/s, epoch=38/100, avg_epoch_loss=6.03]\n",
            "100%|██████████| 50/50 [00:04<00:00, 12.13it/s, epoch=39/100, avg_epoch_loss=6.14]\n",
            "100%|██████████| 50/50 [00:04<00:00, 11.78it/s, epoch=40/100, avg_epoch_loss=6.1]\n",
            "100%|██████████| 50/50 [00:04<00:00, 12.23it/s, epoch=41/100, avg_epoch_loss=6]\n",
            "100%|██████████| 50/50 [00:04<00:00, 12.36it/s, epoch=42/100, avg_epoch_loss=6.18]\n",
            "100%|██████████| 50/50 [00:04<00:00, 11.94it/s, epoch=43/100, avg_epoch_loss=6.11]\n",
            "100%|██████████| 50/50 [00:04<00:00, 12.44it/s, epoch=44/100, avg_epoch_loss=5.96]\n",
            "100%|██████████| 50/50 [00:03<00:00, 12.55it/s, epoch=45/100, avg_epoch_loss=6.17]\n",
            "100%|██████████| 50/50 [00:04<00:00, 11.69it/s, epoch=46/100, avg_epoch_loss=6.02]\n",
            "100%|██████████| 50/50 [00:04<00:00, 11.95it/s, epoch=47/100, avg_epoch_loss=6.13]\n",
            "100%|██████████| 50/50 [00:04<00:00, 11.74it/s, epoch=48/100, avg_epoch_loss=6.12]\n",
            "100%|██████████| 50/50 [00:03<00:00, 12.67it/s, epoch=49/100, avg_epoch_loss=5.96]\n",
            "100%|██████████| 50/50 [00:04<00:00, 11.97it/s, epoch=50/100, avg_epoch_loss=6.02]\n",
            "100%|██████████| 50/50 [00:04<00:00, 11.77it/s, epoch=51/100, avg_epoch_loss=6.06]\n",
            "100%|██████████| 50/50 [00:04<00:00, 11.99it/s, epoch=52/100, avg_epoch_loss=6.06]\n",
            "100%|██████████| 50/50 [00:04<00:00, 12.36it/s, epoch=53/100, avg_epoch_loss=6.09]\n",
            "100%|██████████| 50/50 [00:04<00:00, 12.02it/s, epoch=54/100, avg_epoch_loss=5.9]\n",
            "100%|██████████| 50/50 [00:04<00:00, 11.91it/s, epoch=55/100, avg_epoch_loss=6.17]\n",
            "100%|██████████| 50/50 [00:04<00:00, 12.04it/s, epoch=56/100, avg_epoch_loss=6]\n",
            "100%|██████████| 50/50 [00:04<00:00, 12.17it/s, epoch=57/100, avg_epoch_loss=5.97]\n",
            "100%|██████████| 50/50 [00:04<00:00, 12.38it/s, epoch=58/100, avg_epoch_loss=6.12]\n",
            "100%|██████████| 50/50 [00:04<00:00, 11.65it/s, epoch=59/100, avg_epoch_loss=6.02]\n",
            "100%|██████████| 50/50 [00:04<00:00, 11.85it/s, epoch=60/100, avg_epoch_loss=5.96]\n",
            "100%|██████████| 50/50 [00:04<00:00, 11.99it/s, epoch=61/100, avg_epoch_loss=5.94]\n",
            "100%|██████████| 50/50 [00:04<00:00, 12.06it/s, epoch=62/100, avg_epoch_loss=5.86]\n",
            "100%|██████████| 50/50 [00:04<00:00, 11.96it/s, epoch=63/100, avg_epoch_loss=6]\n",
            "100%|██████████| 50/50 [00:04<00:00, 11.79it/s, epoch=64/100, avg_epoch_loss=6]\n",
            "100%|██████████| 50/50 [00:04<00:00, 12.16it/s, epoch=65/100, avg_epoch_loss=5.78]\n",
            "100%|██████████| 50/50 [00:04<00:00, 12.44it/s, epoch=66/100, avg_epoch_loss=5.96]\n",
            "100%|██████████| 50/50 [00:04<00:00, 11.69it/s, epoch=67/100, avg_epoch_loss=5.9]\n",
            "100%|██████████| 50/50 [00:04<00:00, 12.25it/s, epoch=68/100, avg_epoch_loss=6.12]\n",
            "100%|██████████| 50/50 [00:04<00:00, 11.89it/s, epoch=69/100, avg_epoch_loss=5.98]\n",
            "100%|██████████| 50/50 [00:04<00:00, 12.30it/s, epoch=70/100, avg_epoch_loss=5.8]\n",
            "100%|██████████| 50/50 [00:04<00:00, 11.93it/s, epoch=71/100, avg_epoch_loss=5.96]\n",
            "100%|██████████| 50/50 [00:04<00:00, 11.81it/s, epoch=72/100, avg_epoch_loss=5.99]\n",
            "100%|██████████| 50/50 [00:04<00:00, 12.06it/s, epoch=73/100, avg_epoch_loss=5.78]\n",
            "100%|██████████| 50/50 [00:04<00:00, 12.26it/s, epoch=74/100, avg_epoch_loss=5.93]\n",
            "100%|██████████| 50/50 [00:04<00:00, 11.76it/s, epoch=75/100, avg_epoch_loss=5.9]\n",
            "100%|██████████| 50/50 [00:04<00:00, 12.08it/s, epoch=76/100, avg_epoch_loss=5.99]\n",
            "100%|██████████| 50/50 [00:04<00:00, 11.90it/s, epoch=77/100, avg_epoch_loss=5.91]\n",
            "100%|██████████| 50/50 [00:04<00:00, 11.91it/s, epoch=78/100, avg_epoch_loss=5.85]\n",
            "100%|██████████| 50/50 [00:04<00:00, 12.12it/s, epoch=79/100, avg_epoch_loss=5.99]\n",
            "100%|██████████| 50/50 [00:04<00:00, 12.01it/s, epoch=80/100, avg_epoch_loss=5.89]\n",
            "100%|██████████| 50/50 [00:04<00:00, 12.07it/s, epoch=81/100, avg_epoch_loss=5.89]\n",
            "100%|██████████| 50/50 [00:03<00:00, 12.67it/s, epoch=82/100, avg_epoch_loss=5.94]\n",
            "100%|██████████| 50/50 [00:04<00:00, 11.86it/s, epoch=83/100, avg_epoch_loss=5.79]\n",
            "100%|██████████| 50/50 [00:04<00:00, 12.11it/s, epoch=84/100, avg_epoch_loss=5.93]\n",
            "100%|██████████| 50/50 [00:04<00:00, 11.90it/s, epoch=85/100, avg_epoch_loss=5.88]\n",
            "100%|██████████| 50/50 [00:04<00:00, 12.32it/s, epoch=86/100, avg_epoch_loss=5.74]\n",
            "100%|██████████| 50/50 [00:04<00:00, 12.33it/s, epoch=87/100, avg_epoch_loss=5.98]\n",
            "100%|██████████| 50/50 [00:04<00:00, 11.90it/s, epoch=88/100, avg_epoch_loss=5.88]\n",
            "100%|██████████| 50/50 [00:04<00:00, 12.12it/s, epoch=89/100, avg_epoch_loss=5.88]\n",
            "100%|██████████| 50/50 [00:04<00:00, 12.12it/s, epoch=90/100, avg_epoch_loss=5.96]\n",
            "100%|██████████| 50/50 [00:04<00:00, 12.03it/s, epoch=91/100, avg_epoch_loss=5.76]\n",
            "100%|██████████| 50/50 [00:04<00:00, 12.25it/s, epoch=92/100, avg_epoch_loss=5.96]\n",
            "100%|██████████| 50/50 [00:04<00:00, 11.79it/s, epoch=93/100, avg_epoch_loss=5.87]\n",
            "100%|██████████| 50/50 [00:04<00:00, 12.07it/s, epoch=94/100, avg_epoch_loss=5.76]\n",
            "100%|██████████| 50/50 [00:04<00:00, 12.39it/s, epoch=95/100, avg_epoch_loss=5.92]\n",
            "100%|██████████| 50/50 [00:04<00:00, 11.94it/s, epoch=96/100, avg_epoch_loss=5.85]\n",
            "100%|██████████| 50/50 [00:04<00:00, 12.08it/s, epoch=97/100, avg_epoch_loss=5.91]\n",
            "100%|██████████| 50/50 [00:04<00:00, 12.46it/s, epoch=98/100, avg_epoch_loss=5.96]\n",
            "100%|██████████| 50/50 [00:04<00:00, 11.97it/s, epoch=99/100, avg_epoch_loss=5.74]\n",
            "100%|██████████| 50/50 [00:04<00:00, 12.16it/s, epoch=100/100, avg_epoch_loss=5.94]\n"
          ],
          "name": "stderr"
        }
      ]
    },
    {
      "cell_type": "code",
      "metadata": {
        "id": "xWBEgxcqGCMH",
        "colab_type": "code",
        "outputId": "f991c8ee-f166-4fa5-afd5-3a4a8e6ab63e",
        "colab": {
          "base_uri": "https://localhost:8080/",
          "height": 503
        }
      },
      "source": [
        "forecast_it, ts_it = make_evaluation_predictions(\n",
        "    dataset=m4_daily_dataset.test, \n",
        "    predictor=DA_predictor, \n",
        "    num_samples=100, \n",
        ")\n",
        "\n",
        "forecasts = list(forecast_it)\n",
        "tss = list(ts_it)\n",
        "\n",
        "evaluator = Evaluator(quantiles=[0.1, 0.5, 0.9])\n",
        "agg_metrics, item_metrics = evaluator(iter(tss), iter(forecasts), num_series=len(m4_daily_dataset.test))\n",
        "\n",
        "print(json.dumps(agg_metrics, indent=4))"
      ],
      "execution_count": 0,
      "outputs": [
        {
          "output_type": "stream",
          "text": [
            "Running evaluation: 100%|██████████| 4227/4227 [00:00<00:00, 60252.58it/s]\n"
          ],
          "name": "stderr"
        },
        {
          "output_type": "stream",
          "text": [
            "{\n",
            "    \"MSE\": 445438.51894085354,\n",
            "    \"abs_error\": 12480753.005447388,\n",
            "    \"abs_target_sum\": 383097653.5168457,\n",
            "    \"abs_target_mean\": 6473.649895515986,\n",
            "    \"seasonal_error\": 52.78075560259988,\n",
            "    \"MASE\": 3.895732915826975,\n",
            "    \"MAPE\": 0.05162706219952426,\n",
            "    \"sMAPE\": 0.03609470133934619,\n",
            "    \"OWA\": NaN,\n",
            "    \"MSIS\": 61.503349190341865,\n",
            "    \"QuantileLoss[0.1]\": 7369882.405699158,\n",
            "    \"Coverage[0.1]\": 0.10285917063773696,\n",
            "    \"QuantileLoss[0.5]\": 12480753.042640686,\n",
            "    \"Coverage[0.5]\": 0.35448984419885876,\n",
            "    \"QuantileLoss[0.9]\": 7245212.499118041,\n",
            "    \"Coverage[0.9]\": 0.7436716347291222,\n",
            "    \"RMSE\": 667.4118061143761,\n",
            "    \"NRMSE\": 0.10309667913562379,\n",
            "    \"ND\": 0.03257851592374365,\n",
            "    \"wQuantileLoss[0.1]\": 0.019237607795410543,\n",
            "    \"wQuantileLoss[0.5]\": 0.03257851602082934,\n",
            "    \"wQuantileLoss[0.9]\": 0.01891218187479567,\n",
            "    \"mean_wQuantileLoss\": 0.023576101897011852,\n",
            "    \"MAE_Coverage\": 0.10156589723658532\n",
            "}\n"
          ],
          "name": "stdout"
        }
      ]
    },
    {
      "cell_type": "code",
      "metadata": {
        "id": "c3VyPD7vGh6w",
        "colab_type": "code",
        "colab": {}
      },
      "source": [
        ""
      ],
      "execution_count": 0,
      "outputs": []
    },
    {
      "cell_type": "markdown",
      "metadata": {
        "colab_type": "text",
        "id": "OWJ9jeRZO9GB"
      },
      "source": [
        "## m4_hourly"
      ]
    },
    {
      "cell_type": "code",
      "metadata": {
        "colab_type": "code",
        "outputId": "c91a3ab7-e811-4660-a278-6f080cad0847",
        "id": "ZK99kK7fO9GE",
        "colab": {
          "base_uri": "https://localhost:8080/",
          "height": 53
        }
      },
      "source": [
        "m4_hourly_dataset = get_dataset(\"m4_hourly\", regenerate=False)"
      ],
      "execution_count": 0,
      "outputs": [
        {
          "output_type": "stream",
          "text": [
            "saving time-series into /root/.mxnet/gluon-ts/datasets/m4_hourly/train/data.json\n",
            "saving time-series into /root/.mxnet/gluon-ts/datasets/m4_hourly/test/data.json\n"
          ],
          "name": "stdout"
        }
      ]
    },
    {
      "cell_type": "code",
      "metadata": {
        "colab_type": "code",
        "outputId": "9fca6fa3-50e3-4c72-9cd3-f54ae058a45c",
        "id": "tURfQTqXO9GJ",
        "colab": {
          "base_uri": "https://localhost:8080/",
          "height": 53
        }
      },
      "source": [
        "print (len(m4_hourly_dataset.train))\n",
        "print (len(m4_hourly_dataset.test))"
      ],
      "execution_count": 0,
      "outputs": [
        {
          "output_type": "stream",
          "text": [
            "414\n",
            "414\n"
          ],
          "name": "stdout"
        }
      ]
    },
    {
      "cell_type": "code",
      "metadata": {
        "colab_type": "code",
        "outputId": "d3fdfa0a-bffe-4865-834b-dc67820a49c0",
        "id": "aowwnwLcO9GM",
        "colab": {
          "base_uri": "https://localhost:8080/",
          "height": 35
        }
      },
      "source": [
        "m4_hourly_dataset.metadata"
      ],
      "execution_count": 0,
      "outputs": [
        {
          "output_type": "execute_result",
          "data": {
            "text/plain": [
              "MetaData(freq='H', target=None, feat_static_cat=[CategoricalFeatureInfo(name='feat_static_cat', cardinality='414')], feat_static_real=[], feat_dynamic_real=[], feat_dynamic_cat=[], prediction_length=48)"
            ]
          },
          "metadata": {
            "tags": []
          },
          "execution_count": 38
        }
      ]
    },
    {
      "cell_type": "code",
      "metadata": {
        "colab_type": "code",
        "outputId": "b2aa7f39-773d-44e8-8d9c-20dbc588fdbc",
        "id": "WGlNMgykpmSF",
        "colab": {
          "base_uri": "https://localhost:8080/",
          "height": 35
        }
      },
      "source": [
        "m4_hourly_dataset.metadata.feat_static_cat[0]"
      ],
      "execution_count": 0,
      "outputs": [
        {
          "output_type": "execute_result",
          "data": {
            "text/plain": [
              "CategoricalFeatureInfo(name='feat_static_cat', cardinality='414')"
            ]
          },
          "metadata": {
            "tags": []
          },
          "execution_count": 39
        }
      ]
    },
    {
      "cell_type": "code",
      "metadata": {
        "colab_type": "code",
        "id": "n8xjempNpmSJ",
        "colab": {}
      },
      "source": [
        "car = [int(m4_hourly_dataset.metadata.feat_static_cat[0].cardinality)]"
      ],
      "execution_count": 0,
      "outputs": []
    },
    {
      "cell_type": "code",
      "metadata": {
        "colab_type": "code",
        "outputId": "e912a888-0b6e-40ad-b40b-f2d343013a57",
        "id": "XJesCFZ8O9GX",
        "colab": {
          "base_uri": "https://localhost:8080/",
          "height": 35
        }
      },
      "source": [
        "next(iter(m4_hourly_dataset.train)).keys()"
      ],
      "execution_count": 0,
      "outputs": [
        {
          "output_type": "execute_result",
          "data": {
            "text/plain": [
              "dict_keys(['start', 'target', 'feat_static_cat', 'item_id', 'source'])"
            ]
          },
          "metadata": {
            "tags": []
          },
          "execution_count": 41
        }
      ]
    },
    {
      "cell_type": "code",
      "metadata": {
        "colab_type": "code",
        "id": "PD0vtfP8O9Gb",
        "colab": {}
      },
      "source": [
        "# https://gluon-ts.mxnet.io/api/gluonts/gluonts.model.deepar.html\n",
        "DA_estimator = DeepAREstimator(\n",
        "    freq=m4_hourly_dataset.metadata.freq, \n",
        "    prediction_length=m4_hourly_dataset.metadata.prediction_length,\n",
        "    trainer = deepar_trainer, # (default: Trainer())\n",
        "    context_length=None, # (default: None, in which case context_length = prediction_length)\n",
        "    num_layers=2, # (default: 2)\n",
        "    num_cells=40, # (default: 40)\n",
        "    cell_type='lstm', # (default: ‘lstm’)\n",
        "    dropout_rate=0.1, # (default: 0.1)\n",
        "    use_feat_dynamic_real=False, # (default: False)\n",
        "    use_feat_static_cat=True, # (default: False)\n",
        "    use_feat_static_real=False, # (default: False)\n",
        "    cardinality=car, # (default: None)\n",
        "    #embedding_dimension=[20], # (default: [min(50, (cat+1)//2) for cat in cardinality])\n",
        "    distr_output = StudentTOutput(), # (default: StudentTOutput())\n",
        "    scaling=True, # (default: true)\n",
        "    lags_seq=None, # (default: None, in which case these are automatically determined based on freq)\n",
        "    time_features=None, # (default: None, in which case these are automatically determined based on freq)\n",
        "    num_parallel_samples=100, # (default: 100)\n",
        ")"
      ],
      "execution_count": 0,
      "outputs": []
    },
    {
      "cell_type": "code",
      "metadata": {
        "colab_type": "code",
        "id": "Qf3ZGOpPO9Gf",
        "outputId": "9ece7beb-1fc0-4b86-9c58-74bd923904ee",
        "colab": {
          "base_uri": "https://localhost:8080/",
          "height": 1000
        }
      },
      "source": [
        "DA_predictor = DA_estimator.train(m4_hourly_dataset.train)"
      ],
      "execution_count": 0,
      "outputs": [
        {
          "output_type": "stream",
          "text": [
            "\r  0%|          | 0/50 [00:00<?, ?it/s]"
          ],
          "name": "stderr"
        },
        {
          "output_type": "stream",
          "text": [
            "learning rate from ``lr_scheduler`` has been overwritten by ``learning_rate`` in optimizer.\n"
          ],
          "name": "stdout"
        },
        {
          "output_type": "stream",
          "text": [
            "100%|██████████| 50/50 [00:08<00:00,  5.56it/s, epoch=1/100, avg_epoch_loss=5.41]\n",
            "100%|██████████| 50/50 [00:08<00:00,  5.82it/s, epoch=2/100, avg_epoch_loss=5.11]\n",
            "100%|██████████| 50/50 [00:08<00:00,  5.84it/s, epoch=3/100, avg_epoch_loss=4.52]\n",
            "100%|██████████| 50/50 [00:08<00:00,  5.83it/s, epoch=4/100, avg_epoch_loss=4.43]\n",
            "100%|██████████| 50/50 [00:08<00:00,  5.81it/s, epoch=5/100, avg_epoch_loss=4.84]\n",
            "100%|██████████| 50/50 [00:08<00:00,  5.81it/s, epoch=6/100, avg_epoch_loss=4.73]\n",
            "100%|██████████| 50/50 [00:08<00:00,  5.78it/s, epoch=7/100, avg_epoch_loss=4.55]\n",
            "100%|██████████| 50/50 [00:08<00:00,  5.82it/s, epoch=8/100, avg_epoch_loss=4.23]\n",
            "100%|██████████| 50/50 [00:08<00:00,  5.74it/s, epoch=9/100, avg_epoch_loss=4.2]\n",
            "100%|██████████| 50/50 [00:08<00:00,  5.75it/s, epoch=10/100, avg_epoch_loss=4.43]\n",
            "100%|██████████| 50/50 [00:08<00:00,  5.82it/s, epoch=11/100, avg_epoch_loss=4.39]\n",
            "100%|██████████| 50/50 [00:08<00:00,  5.76it/s, epoch=12/100, avg_epoch_loss=4.39]\n",
            "100%|██████████| 50/50 [00:08<00:00,  5.81it/s, epoch=13/100, avg_epoch_loss=4.37]\n",
            "100%|██████████| 50/50 [00:08<00:00,  5.81it/s, epoch=14/100, avg_epoch_loss=4.33]\n",
            "100%|██████████| 50/50 [00:08<00:00,  5.79it/s, epoch=15/100, avg_epoch_loss=4.26]\n",
            "100%|██████████| 50/50 [00:08<00:00,  5.81it/s, epoch=16/100, avg_epoch_loss=4.18]\n",
            "100%|██████████| 50/50 [00:08<00:00,  5.83it/s, epoch=17/100, avg_epoch_loss=4.48]\n",
            "100%|██████████| 50/50 [00:08<00:00,  5.84it/s, epoch=18/100, avg_epoch_loss=4.2]\n",
            "100%|██████████| 50/50 [00:08<00:00,  5.79it/s, epoch=19/100, avg_epoch_loss=4.32]\n",
            "100%|██████████| 50/50 [00:08<00:00,  5.82it/s, epoch=20/100, avg_epoch_loss=4.03]\n",
            "100%|██████████| 50/50 [00:08<00:00,  5.84it/s, epoch=21/100, avg_epoch_loss=3.94]\n",
            "100%|██████████| 50/50 [00:08<00:00,  5.82it/s, epoch=22/100, avg_epoch_loss=3.85]\n",
            "100%|██████████| 50/50 [00:08<00:00,  5.81it/s, epoch=23/100, avg_epoch_loss=4]\n",
            "100%|██████████| 50/50 [00:08<00:00,  5.83it/s, epoch=24/100, avg_epoch_loss=4.12]\n",
            "100%|██████████| 50/50 [00:08<00:00,  5.81it/s, epoch=25/100, avg_epoch_loss=4]\n",
            "100%|██████████| 50/50 [00:08<00:00,  5.84it/s, epoch=26/100, avg_epoch_loss=3.77]\n",
            "100%|██████████| 50/50 [00:08<00:00,  5.83it/s, epoch=27/100, avg_epoch_loss=4.41]\n",
            "100%|██████████| 50/50 [00:08<00:00,  5.85it/s, epoch=28/100, avg_epoch_loss=3.79]\n",
            "100%|██████████| 50/50 [00:08<00:00,  5.82it/s, epoch=29/100, avg_epoch_loss=4.28]\n",
            "100%|██████████| 50/50 [00:08<00:00,  5.82it/s, epoch=30/100, avg_epoch_loss=3.76]\n",
            "100%|██████████| 50/50 [00:08<00:00,  5.81it/s, epoch=31/100, avg_epoch_loss=3.71]\n",
            "100%|██████████| 50/50 [00:08<00:00,  5.87it/s, epoch=32/100, avg_epoch_loss=4.17]\n",
            "100%|██████████| 50/50 [00:08<00:00,  5.81it/s, epoch=33/100, avg_epoch_loss=3.64]\n",
            "100%|██████████| 50/50 [00:08<00:00,  5.84it/s, epoch=34/100, avg_epoch_loss=3.81]\n",
            "100%|██████████| 50/50 [00:08<00:00,  5.83it/s, epoch=35/100, avg_epoch_loss=3.98]\n",
            "100%|██████████| 50/50 [00:08<00:00,  5.85it/s, epoch=36/100, avg_epoch_loss=3.57]\n",
            "100%|██████████| 50/50 [00:08<00:00,  5.85it/s, epoch=37/100, avg_epoch_loss=4.08]\n",
            "100%|██████████| 50/50 [00:08<00:00,  5.83it/s, epoch=38/100, avg_epoch_loss=3.75]\n",
            "100%|██████████| 50/50 [00:08<00:00,  5.85it/s, epoch=39/100, avg_epoch_loss=4.13]\n",
            "100%|██████████| 50/50 [00:08<00:00,  5.82it/s, epoch=40/100, avg_epoch_loss=3.61]\n",
            "100%|██████████| 50/50 [00:08<00:00,  5.82it/s, epoch=41/100, avg_epoch_loss=4.41]\n",
            "100%|██████████| 50/50 [00:08<00:00,  5.85it/s, epoch=42/100, avg_epoch_loss=3.57]\n",
            "100%|██████████| 50/50 [00:08<00:00,  5.81it/s, epoch=43/100, avg_epoch_loss=3.9]\n",
            "100%|██████████| 50/50 [00:08<00:00,  5.83it/s, epoch=44/100, avg_epoch_loss=3.98]\n",
            "100%|██████████| 50/50 [00:08<00:00,  5.81it/s, epoch=45/100, avg_epoch_loss=3.77]\n",
            "100%|██████████| 50/50 [00:08<00:00,  5.79it/s, epoch=46/100, avg_epoch_loss=3.6]\n",
            "100%|██████████| 50/50 [00:08<00:00,  5.83it/s, epoch=47/100, avg_epoch_loss=3.63]\n",
            "100%|██████████| 50/50 [00:08<00:00,  5.86it/s, epoch=48/100, avg_epoch_loss=3.82]\n",
            "100%|██████████| 50/50 [00:08<00:00,  5.84it/s, epoch=49/100, avg_epoch_loss=3.85]\n",
            "100%|██████████| 50/50 [00:08<00:00,  5.83it/s, epoch=50/100, avg_epoch_loss=3.42]\n",
            "100%|██████████| 50/50 [00:08<00:00,  5.84it/s, epoch=51/100, avg_epoch_loss=4.48]\n",
            "100%|██████████| 50/50 [00:08<00:00,  5.82it/s, epoch=52/100, avg_epoch_loss=3.49]\n",
            "100%|██████████| 50/50 [00:10<00:00,  4.81it/s, epoch=53/100, avg_epoch_loss=3.6] \n",
            "100%|██████████| 50/50 [00:09<00:00,  5.35it/s, epoch=54/100, avg_epoch_loss=3.24]\n",
            "100%|██████████| 50/50 [00:08<00:00,  5.83it/s, epoch=55/100, avg_epoch_loss=3.71]\n",
            "100%|██████████| 50/50 [00:08<00:00,  5.82it/s, epoch=56/100, avg_epoch_loss=3.53]\n",
            "100%|██████████| 50/50 [00:08<00:00,  5.85it/s, epoch=57/100, avg_epoch_loss=3.77]\n",
            "100%|██████████| 50/50 [00:08<00:00,  5.81it/s, epoch=58/100, avg_epoch_loss=3.59]\n",
            "100%|██████████| 50/50 [00:08<00:00,  5.77it/s, epoch=59/100, avg_epoch_loss=3.9]\n",
            "100%|██████████| 50/50 [00:08<00:00,  5.83it/s, epoch=60/100, avg_epoch_loss=3.33]\n",
            "100%|██████████| 50/50 [00:08<00:00,  5.80it/s, epoch=61/100, avg_epoch_loss=3.42]\n",
            "100%|██████████| 50/50 [00:08<00:00,  5.83it/s, epoch=62/100, avg_epoch_loss=3.49]\n",
            "100%|██████████| 50/50 [00:08<00:00,  5.85it/s, epoch=63/100, avg_epoch_loss=3.41]\n",
            "100%|██████████| 50/50 [00:08<00:00,  5.83it/s, epoch=64/100, avg_epoch_loss=3.91]\n",
            "100%|██████████| 50/50 [00:08<00:00,  5.81it/s, epoch=65/100, avg_epoch_loss=3.54]\n",
            "100%|██████████| 50/50 [00:08<00:00,  5.81it/s, epoch=66/100, avg_epoch_loss=3.85]\n",
            "100%|██████████| 50/50 [00:08<00:00,  5.81it/s, epoch=67/100, avg_epoch_loss=3.7]\n",
            "100%|██████████| 50/50 [00:08<00:00,  5.83it/s, epoch=68/100, avg_epoch_loss=3.26]\n",
            "100%|██████████| 50/50 [00:08<00:00,  5.81it/s, epoch=69/100, avg_epoch_loss=3.45]\n",
            "100%|██████████| 50/50 [00:08<00:00,  5.83it/s, epoch=70/100, avg_epoch_loss=3.31]\n",
            "100%|██████████| 50/50 [00:08<00:00,  5.80it/s, epoch=71/100, avg_epoch_loss=3.35]\n",
            "100%|██████████| 50/50 [00:08<00:00,  5.81it/s, epoch=72/100, avg_epoch_loss=3.41]\n",
            "100%|██████████| 50/50 [00:08<00:00,  5.82it/s, epoch=73/100, avg_epoch_loss=3.42]\n",
            "100%|██████████| 50/50 [00:08<00:00,  5.78it/s, epoch=74/100, avg_epoch_loss=3.61]\n",
            "100%|██████████| 50/50 [00:08<00:00,  5.81it/s, epoch=75/100, avg_epoch_loss=3.44]\n",
            "100%|██████████| 50/50 [00:08<00:00,  5.82it/s, epoch=76/100, avg_epoch_loss=3.36]\n",
            "100%|██████████| 50/50 [00:08<00:00,  5.83it/s, epoch=77/100, avg_epoch_loss=3.25]\n",
            "100%|██████████| 50/50 [00:08<00:00,  5.79it/s, epoch=78/100, avg_epoch_loss=3.24]\n",
            "100%|██████████| 50/50 [00:08<00:00,  5.81it/s, epoch=79/100, avg_epoch_loss=3.17]\n",
            "100%|██████████| 50/50 [00:08<00:00,  5.80it/s, epoch=80/100, avg_epoch_loss=3.09]\n",
            "100%|██████████| 50/50 [00:08<00:00,  5.78it/s, epoch=81/100, avg_epoch_loss=3.27]\n",
            "100%|██████████| 50/50 [00:08<00:00,  5.76it/s, epoch=82/100, avg_epoch_loss=3.22]\n",
            "100%|██████████| 50/50 [00:08<00:00,  5.84it/s, epoch=83/100, avg_epoch_loss=3.29]\n",
            "100%|██████████| 50/50 [00:08<00:00,  5.82it/s, epoch=84/100, avg_epoch_loss=3.17]\n",
            "100%|██████████| 50/50 [00:08<00:00,  5.81it/s, epoch=85/100, avg_epoch_loss=3.44]\n",
            "100%|██████████| 50/50 [00:08<00:00,  5.83it/s, epoch=86/100, avg_epoch_loss=3.33]\n",
            "100%|██████████| 50/50 [00:08<00:00,  5.80it/s, epoch=87/100, avg_epoch_loss=3.13]\n",
            "100%|██████████| 50/50 [00:08<00:00,  5.80it/s, epoch=88/100, avg_epoch_loss=3.13]\n",
            "100%|██████████| 50/50 [00:08<00:00,  5.84it/s, epoch=89/100, avg_epoch_loss=3.29]\n",
            "100%|██████████| 50/50 [00:08<00:00,  5.86it/s, epoch=90/100, avg_epoch_loss=3.74]\n",
            "100%|██████████| 50/50 [00:08<00:00,  5.85it/s, epoch=91/100, avg_epoch_loss=3.58]\n",
            "100%|██████████| 50/50 [00:08<00:00,  5.76it/s, epoch=92/100, avg_epoch_loss=3.43]\n",
            "100%|██████████| 50/50 [00:08<00:00,  5.80it/s, epoch=93/100, avg_epoch_loss=3.32]\n",
            "100%|██████████| 50/50 [00:08<00:00,  5.76it/s, epoch=94/100, avg_epoch_loss=3.14]\n",
            "100%|██████████| 50/50 [00:08<00:00,  5.78it/s, epoch=95/100, avg_epoch_loss=3.37]\n",
            "100%|██████████| 50/50 [00:08<00:00,  5.83it/s, epoch=96/100, avg_epoch_loss=3.07]\n",
            "100%|██████████| 50/50 [00:08<00:00,  5.82it/s, epoch=97/100, avg_epoch_loss=3.19]\n",
            "100%|██████████| 50/50 [00:08<00:00,  5.82it/s, epoch=98/100, avg_epoch_loss=3.22]\n",
            "100%|██████████| 50/50 [00:08<00:00,  5.79it/s, epoch=99/100, avg_epoch_loss=3.29]\n",
            "100%|██████████| 50/50 [00:08<00:00,  5.82it/s, epoch=100/100, avg_epoch_loss=3.37]\n"
          ],
          "name": "stderr"
        }
      ]
    },
    {
      "cell_type": "code",
      "metadata": {
        "colab_type": "code",
        "id": "ow_Vpx0MO9Gi",
        "outputId": "81ef7a99-3305-456d-ed2c-758fc3f51248",
        "colab": {
          "base_uri": "https://localhost:8080/",
          "height": 503
        }
      },
      "source": [
        "forecast_it, ts_it = make_evaluation_predictions(\n",
        "    dataset=m4_hourly_dataset.test, \n",
        "    predictor=DA_predictor, \n",
        "    num_samples=100, \n",
        ")\n",
        "\n",
        "forecasts = list(forecast_it)\n",
        "tss = list(ts_it)\n",
        "\n",
        "evaluator = Evaluator(quantiles=[0.1, 0.5, 0.9])\n",
        "agg_metrics, item_metrics = evaluator(iter(tss), iter(forecasts), num_series=len(m4_hourly_dataset.test))\n",
        "\n",
        "print(json.dumps(agg_metrics, indent=4))"
      ],
      "execution_count": 0,
      "outputs": [
        {
          "output_type": "stream",
          "text": [
            "Running evaluation: 100%|██████████| 414/414 [00:00<00:00, 7788.62it/s]\n"
          ],
          "name": "stderr"
        },
        {
          "output_type": "stream",
          "text": [
            "{\n",
            "    \"MSE\": 1483002.7640645003,\n",
            "    \"abs_error\": 5739086.591159821,\n",
            "    \"abs_target_sum\": 145558863.59960938,\n",
            "    \"abs_target_mean\": 7324.822041043147,\n",
            "    \"seasonal_error\": 336.9046924038302,\n",
            "    \"MASE\": 1.762556630899094,\n",
            "    \"MAPE\": 0.12414278600037203,\n",
            "    \"sMAPE\": 0.11125520445161138,\n",
            "    \"OWA\": NaN,\n",
            "    \"MSIS\": 21.53143925333888,\n",
            "    \"QuantileLoss[0.1]\": 2584647.0212579733,\n",
            "    \"Coverage[0.1]\": 0.19051932367149754,\n",
            "    \"QuantileLoss[0.5]\": 5739086.530657768,\n",
            "    \"Coverage[0.5]\": 0.5902274557165861,\n",
            "    \"QuantileLoss[0.9]\": 3246079.373098373,\n",
            "    \"Coverage[0.9]\": 0.8478764090177134,\n",
            "    \"RMSE\": 1217.7860091430268,\n",
            "    \"NRMSE\": 0.1662546888264877,\n",
            "    \"ND\": 0.039427943096247295,\n",
            "    \"wQuantileLoss[0.1]\": 0.017756713382756237,\n",
            "    \"wQuantileLoss[0.5]\": 0.03942794268059379,\n",
            "    \"wQuantileLoss[0.9]\": 0.022300801839367234,\n",
            "    \"mean_wQuantileLoss\": 0.026495152634239086,\n",
            "    \"MAE_Coverage\": 0.0776234567901234\n",
            "}\n"
          ],
          "name": "stdout"
        }
      ]
    },
    {
      "cell_type": "code",
      "metadata": {
        "colab_type": "code",
        "id": "fA1nNCJGO9Gl",
        "colab": {}
      },
      "source": [
        ""
      ],
      "execution_count": 0,
      "outputs": []
    },
    {
      "cell_type": "markdown",
      "metadata": {
        "colab_type": "text",
        "id": "h0WoHFeGPo0-"
      },
      "source": [
        "## m4_monthly"
      ]
    },
    {
      "cell_type": "code",
      "metadata": {
        "colab_type": "code",
        "outputId": "562dfdf8-af89-4935-e150-3153de332906",
        "id": "7IE6C9pnPo1B",
        "colab": {
          "base_uri": "https://localhost:8080/",
          "height": 53
        }
      },
      "source": [
        "m4_monthly_dataset = get_dataset(\"m4_monthly\", regenerate=False)"
      ],
      "execution_count": 0,
      "outputs": [
        {
          "output_type": "stream",
          "text": [
            "saving time-series into /root/.mxnet/gluon-ts/datasets/m4_monthly/train/data.json\n",
            "saving time-series into /root/.mxnet/gluon-ts/datasets/m4_monthly/test/data.json\n"
          ],
          "name": "stdout"
        }
      ]
    },
    {
      "cell_type": "code",
      "metadata": {
        "colab_type": "code",
        "outputId": "771348a2-0fee-4b28-a5db-4c2f2c9e41d8",
        "id": "WIotX52YPo1J",
        "colab": {
          "base_uri": "https://localhost:8080/",
          "height": 53
        }
      },
      "source": [
        "print (len(m4_monthly_dataset.train))\n",
        "print (len(m4_monthly_dataset.test))"
      ],
      "execution_count": 0,
      "outputs": [
        {
          "output_type": "stream",
          "text": [
            "48000\n",
            "48000\n"
          ],
          "name": "stdout"
        }
      ]
    },
    {
      "cell_type": "code",
      "metadata": {
        "colab_type": "code",
        "outputId": "97717ffb-8e56-4800-98fd-7cfe5b8f3260",
        "id": "A1suOzU0Po1P",
        "colab": {
          "base_uri": "https://localhost:8080/",
          "height": 35
        }
      },
      "source": [
        "m4_monthly_dataset.metadata"
      ],
      "execution_count": 0,
      "outputs": [
        {
          "output_type": "execute_result",
          "data": {
            "text/plain": [
              "MetaData(freq='M', target=None, feat_static_cat=[CategoricalFeatureInfo(name='feat_static_cat', cardinality='48000')], feat_static_real=[], feat_dynamic_real=[], feat_dynamic_cat=[], prediction_length=18)"
            ]
          },
          "metadata": {
            "tags": []
          },
          "execution_count": 47
        }
      ]
    },
    {
      "cell_type": "code",
      "metadata": {
        "colab_type": "code",
        "outputId": "42f2ae81-dc81-4839-b5b9-74ec748a28f1",
        "id": "rIAlQ1Abp2ZL",
        "colab": {
          "base_uri": "https://localhost:8080/",
          "height": 35
        }
      },
      "source": [
        "m4_monthly_dataset.metadata.feat_static_cat[0]"
      ],
      "execution_count": 0,
      "outputs": [
        {
          "output_type": "execute_result",
          "data": {
            "text/plain": [
              "CategoricalFeatureInfo(name='feat_static_cat', cardinality='48000')"
            ]
          },
          "metadata": {
            "tags": []
          },
          "execution_count": 48
        }
      ]
    },
    {
      "cell_type": "code",
      "metadata": {
        "colab_type": "code",
        "id": "VQy--9c5p2ZS",
        "colab": {}
      },
      "source": [
        "car = [int(m4_monthly_dataset.metadata.feat_static_cat[0].cardinality)]"
      ],
      "execution_count": 0,
      "outputs": []
    },
    {
      "cell_type": "code",
      "metadata": {
        "colab_type": "code",
        "outputId": "0ac34269-eba0-4dec-fae2-a25f34623be2",
        "id": "Jpn1PJzGPo1U",
        "colab": {
          "base_uri": "https://localhost:8080/",
          "height": 35
        }
      },
      "source": [
        "next(iter(m4_monthly_dataset.train)).keys()"
      ],
      "execution_count": 0,
      "outputs": [
        {
          "output_type": "execute_result",
          "data": {
            "text/plain": [
              "dict_keys(['start', 'target', 'feat_static_cat', 'item_id', 'source'])"
            ]
          },
          "metadata": {
            "tags": []
          },
          "execution_count": 50
        }
      ]
    },
    {
      "cell_type": "code",
      "metadata": {
        "colab_type": "code",
        "id": "0Z48itnDPo1b",
        "colab": {}
      },
      "source": [
        "# https://gluon-ts.mxnet.io/api/gluonts/gluonts.model.deepar.html\n",
        "DA_estimator = DeepAREstimator(\n",
        "    freq=m4_monthly_dataset.metadata.freq, \n",
        "    prediction_length=m4_monthly_dataset.metadata.prediction_length,\n",
        "    trainer = deepar_trainer, # (default: Trainer())\n",
        "    context_length=None, # (default: None, in which case context_length = prediction_length)\n",
        "    num_layers=2, # (default: 2)\n",
        "    num_cells=40, # (default: 40)\n",
        "    cell_type='lstm', # (default: ‘lstm’)\n",
        "    dropout_rate=0.1, # (default: 0.1)\n",
        "    use_feat_dynamic_real=False, # (default: False)\n",
        "    use_feat_static_cat=True, # (default: False)\n",
        "    use_feat_static_real=False, # (default: False)\n",
        "    cardinality=car, # (default: None)\n",
        "    #embedding_dimension=[20], # (default: [min(50, (cat+1)//2) for cat in cardinality])\n",
        "    distr_output = StudentTOutput(), # (default: StudentTOutput())\n",
        "    scaling=True, # (default: true)\n",
        "    lags_seq=None, # (default: None, in which case these are automatically determined based on freq)\n",
        "    time_features=None, # (default: None, in which case these are automatically determined based on freq)\n",
        "    num_parallel_samples=100, # (default: 100)\n",
        ")"
      ],
      "execution_count": 0,
      "outputs": []
    },
    {
      "cell_type": "code",
      "metadata": {
        "colab_type": "code",
        "id": "FynbtKogPo1f",
        "outputId": "66cfe32b-6000-431b-bdd6-3ad2e73ae798",
        "colab": {
          "base_uri": "https://localhost:8080/",
          "height": 1000
        }
      },
      "source": [
        "DA_predictor = DA_estimator.train(m4_monthly_dataset.train)"
      ],
      "execution_count": 0,
      "outputs": [
        {
          "output_type": "stream",
          "text": [
            "\r  0%|          | 0/50 [00:00<?, ?it/s]"
          ],
          "name": "stderr"
        },
        {
          "output_type": "stream",
          "text": [
            "learning rate from ``lr_scheduler`` has been overwritten by ``learning_rate`` in optimizer.\n"
          ],
          "name": "stdout"
        },
        {
          "output_type": "stream",
          "text": [
            "100%|██████████| 50/50 [00:04<00:00, 10.86it/s, epoch=1/100, avg_epoch_loss=7.92]\n",
            "100%|██████████| 50/50 [00:04<00:00, 11.29it/s, epoch=2/100, avg_epoch_loss=7.24]\n",
            "100%|██████████| 50/50 [00:04<00:00, 11.70it/s, epoch=3/100, avg_epoch_loss=7.69]\n",
            "100%|██████████| 50/50 [00:04<00:00, 11.51it/s, epoch=4/100, avg_epoch_loss=7.56]\n",
            "100%|██████████| 50/50 [00:04<00:00, 10.65it/s, epoch=5/100, avg_epoch_loss=7.68]\n",
            "100%|██████████| 50/50 [00:04<00:00, 11.86it/s, epoch=6/100, avg_epoch_loss=6.68]\n",
            "100%|██████████| 50/50 [00:04<00:00, 11.76it/s, epoch=7/100, avg_epoch_loss=6.3]\n",
            "100%|██████████| 50/50 [00:04<00:00, 11.51it/s, epoch=8/100, avg_epoch_loss=7.67]\n",
            "100%|██████████| 50/50 [00:04<00:00, 11.82it/s, epoch=9/100, avg_epoch_loss=7.34]\n",
            "100%|██████████| 50/50 [00:04<00:00, 10.45it/s, epoch=10/100, avg_epoch_loss=7.63]\n",
            "100%|██████████| 50/50 [00:05<00:00,  9.30it/s, epoch=11/100, avg_epoch_loss=6.62]\n",
            "100%|██████████| 50/50 [00:04<00:00, 10.44it/s, epoch=12/100, avg_epoch_loss=6.08]\n",
            "100%|██████████| 50/50 [00:04<00:00, 11.98it/s, epoch=13/100, avg_epoch_loss=6.96]\n",
            "100%|██████████| 50/50 [00:04<00:00, 12.00it/s, epoch=14/100, avg_epoch_loss=6.87]\n",
            "100%|██████████| 50/50 [00:04<00:00, 12.01it/s, epoch=15/100, avg_epoch_loss=6.7]\n",
            "100%|██████████| 50/50 [00:04<00:00, 11.97it/s, epoch=16/100, avg_epoch_loss=6.48]\n",
            "100%|██████████| 50/50 [00:04<00:00, 11.89it/s, epoch=17/100, avg_epoch_loss=6.45]\n",
            "100%|██████████| 50/50 [00:04<00:00, 11.80it/s, epoch=18/100, avg_epoch_loss=6.15]\n",
            "100%|██████████| 50/50 [00:04<00:00, 11.98it/s, epoch=19/100, avg_epoch_loss=7.57]\n",
            "100%|██████████| 50/50 [00:04<00:00, 11.00it/s, epoch=20/100, avg_epoch_loss=7.89]\n",
            "100%|██████████| 50/50 [00:04<00:00, 11.77it/s, epoch=21/100, avg_epoch_loss=6.79]\n",
            "100%|██████████| 50/50 [00:04<00:00, 11.90it/s, epoch=22/100, avg_epoch_loss=6.37]\n",
            "100%|██████████| 50/50 [00:04<00:00, 11.64it/s, epoch=23/100, avg_epoch_loss=6.75]\n",
            "100%|██████████| 50/50 [00:04<00:00, 11.65it/s, epoch=24/100, avg_epoch_loss=6.94]\n",
            "100%|██████████| 50/50 [00:04<00:00, 11.55it/s, epoch=25/100, avg_epoch_loss=7.47]\n",
            "100%|██████████| 50/50 [00:04<00:00, 11.52it/s, epoch=26/100, avg_epoch_loss=7.06]\n",
            "100%|██████████| 50/50 [00:04<00:00, 11.25it/s, epoch=27/100, avg_epoch_loss=7.37]\n",
            "100%|██████████| 50/50 [00:04<00:00, 12.08it/s, epoch=28/100, avg_epoch_loss=6.64]\n",
            "100%|██████████| 50/50 [00:04<00:00, 12.11it/s, epoch=29/100, avg_epoch_loss=6.28]\n",
            "100%|██████████| 50/50 [00:04<00:00, 12.00it/s, epoch=30/100, avg_epoch_loss=6.92]\n",
            "100%|██████████| 50/50 [00:04<00:00, 11.91it/s, epoch=31/100, avg_epoch_loss=7.57]\n",
            "100%|██████████| 50/50 [00:04<00:00, 12.04it/s, epoch=32/100, avg_epoch_loss=7.13]\n",
            "100%|██████████| 50/50 [00:04<00:00, 11.57it/s, epoch=33/100, avg_epoch_loss=7.8]\n",
            "100%|██████████| 50/50 [00:04<00:00, 11.20it/s, epoch=34/100, avg_epoch_loss=7.12]\n",
            "100%|██████████| 50/50 [00:04<00:00, 12.01it/s, epoch=35/100, avg_epoch_loss=6.15]\n",
            "100%|██████████| 50/50 [00:04<00:00, 11.88it/s, epoch=36/100, avg_epoch_loss=5.91]\n",
            "100%|██████████| 50/50 [00:04<00:00, 11.76it/s, epoch=37/100, avg_epoch_loss=7.62]\n",
            "100%|██████████| 50/50 [00:04<00:00, 11.91it/s, epoch=38/100, avg_epoch_loss=7.22]\n",
            "100%|██████████| 50/50 [00:04<00:00, 10.55it/s, epoch=39/100, avg_epoch_loss=7.47]\n",
            "100%|██████████| 50/50 [00:04<00:00, 12.11it/s, epoch=40/100, avg_epoch_loss=6.64]\n",
            "100%|██████████| 50/50 [00:04<00:00, 12.09it/s, epoch=41/100, avg_epoch_loss=5.97]\n",
            "100%|██████████| 50/50 [00:04<00:00, 11.99it/s, epoch=42/100, avg_epoch_loss=6.71]\n",
            "100%|██████████| 50/50 [00:04<00:00, 12.00it/s, epoch=43/100, avg_epoch_loss=6.82]\n",
            "100%|██████████| 50/50 [00:04<00:00, 12.05it/s, epoch=44/100, avg_epoch_loss=6.57]\n",
            "100%|██████████| 50/50 [00:04<00:00, 12.08it/s, epoch=45/100, avg_epoch_loss=6.37]\n",
            "100%|██████████| 50/50 [00:04<00:00, 11.80it/s, epoch=46/100, avg_epoch_loss=6.39]\n",
            "100%|██████████| 50/50 [00:04<00:00, 11.88it/s, epoch=47/100, avg_epoch_loss=5.99]\n",
            "100%|██████████| 50/50 [00:04<00:00, 12.08it/s, epoch=48/100, avg_epoch_loss=7.95]\n",
            "100%|██████████| 50/50 [00:04<00:00, 11.29it/s, epoch=49/100, avg_epoch_loss=8.11]\n",
            "100%|██████████| 50/50 [00:04<00:00, 11.60it/s, epoch=50/100, avg_epoch_loss=7.31]\n",
            "100%|██████████| 50/50 [00:04<00:00, 11.91it/s, epoch=51/100, avg_epoch_loss=6.47]\n",
            "100%|██████████| 50/50 [00:04<00:00, 12.11it/s, epoch=52/100, avg_epoch_loss=6.41]\n",
            "100%|██████████| 50/50 [00:04<00:00, 11.54it/s, epoch=53/100, avg_epoch_loss=6.77]\n",
            "100%|██████████| 50/50 [00:04<00:00, 11.77it/s, epoch=54/100, avg_epoch_loss=7.26]\n",
            "100%|██████████| 50/50 [00:04<00:00, 11.64it/s, epoch=55/100, avg_epoch_loss=7.2]\n",
            "100%|██████████| 50/50 [00:04<00:00, 11.03it/s, epoch=56/100, avg_epoch_loss=7.47]\n",
            "100%|██████████| 50/50 [00:04<00:00, 12.07it/s, epoch=57/100, avg_epoch_loss=6.79]\n",
            "100%|██████████| 50/50 [00:04<00:00, 11.96it/s, epoch=58/100, avg_epoch_loss=6.37]\n",
            "100%|██████████| 50/50 [00:04<00:00, 12.02it/s, epoch=59/100, avg_epoch_loss=6.71]\n",
            "100%|██████████| 50/50 [00:04<00:00, 12.09it/s, epoch=60/100, avg_epoch_loss=7.55]\n",
            "100%|██████████| 50/50 [00:04<00:00, 12.00it/s, epoch=61/100, avg_epoch_loss=7.63]\n",
            "100%|██████████| 50/50 [00:04<00:00, 11.97it/s, epoch=62/100, avg_epoch_loss=7.27]\n",
            "100%|██████████| 50/50 [00:04<00:00, 10.95it/s, epoch=63/100, avg_epoch_loss=7.25]\n",
            "100%|██████████| 50/50 [00:04<00:00, 11.92it/s, epoch=64/100, avg_epoch_loss=6.32]\n",
            "100%|██████████| 50/50 [00:04<00:00, 11.92it/s, epoch=65/100, avg_epoch_loss=5.99]\n",
            "100%|██████████| 50/50 [00:04<00:00, 11.83it/s, epoch=66/100, avg_epoch_loss=7.06]\n",
            "100%|██████████| 50/50 [00:04<00:00, 11.86it/s, epoch=67/100, avg_epoch_loss=7.72]\n",
            "100%|██████████| 50/50 [00:04<00:00, 10.98it/s, epoch=68/100, avg_epoch_loss=7.86]\n",
            "100%|██████████| 50/50 [00:04<00:00, 11.42it/s, epoch=69/100, avg_epoch_loss=7.14]\n",
            "100%|██████████| 50/50 [00:04<00:00, 12.08it/s, epoch=70/100, avg_epoch_loss=6]\n",
            "100%|██████████| 50/50 [00:04<00:00, 11.88it/s, epoch=71/100, avg_epoch_loss=6.33]\n",
            "100%|██████████| 50/50 [00:04<00:00, 11.83it/s, epoch=72/100, avg_epoch_loss=6.77]\n",
            "100%|██████████| 50/50 [00:04<00:00, 11.97it/s, epoch=73/100, avg_epoch_loss=6.77]\n",
            "100%|██████████| 50/50 [00:04<00:00, 12.03it/s, epoch=74/100, avg_epoch_loss=6.52]\n",
            "100%|██████████| 50/50 [00:04<00:00, 11.79it/s, epoch=75/100, avg_epoch_loss=6.44]\n",
            "100%|██████████| 50/50 [00:04<00:00, 11.99it/s, epoch=76/100, avg_epoch_loss=5.98]\n"
          ],
          "name": "stderr"
        }
      ]
    },
    {
      "cell_type": "code",
      "metadata": {
        "colab_type": "code",
        "id": "z-OU9czTPo1j",
        "outputId": "fc7e726d-b48c-4d50-cab6-bdf9a914fe1c",
        "colab": {
          "base_uri": "https://localhost:8080/",
          "height": 503
        }
      },
      "source": [
        "forecast_it, ts_it = make_evaluation_predictions(\n",
        "    dataset=m4_monthly_dataset.test, \n",
        "    predictor=DA_predictor, \n",
        "    num_samples=100, \n",
        ")\n",
        "\n",
        "forecasts = list(forecast_it)\n",
        "tss = list(ts_it)\n",
        "\n",
        "evaluator = Evaluator(quantiles=[0.1, 0.5, 0.9])\n",
        "agg_metrics, item_metrics = evaluator(iter(tss), iter(forecasts), num_series=len(m4_monthly_dataset.test))\n",
        "\n",
        "print(json.dumps(agg_metrics, indent=4))"
      ],
      "execution_count": 0,
      "outputs": [
        {
          "output_type": "stream",
          "text": [
            "Running evaluation: 100%|██████████| 48000/48000 [00:00<00:00, 286184.63it/s]\n"
          ],
          "name": "stderr"
        },
        {
          "output_type": "stream",
          "text": [
            "{\n",
            "    \"MSE\": 2115003.670783878,\n",
            "    \"abs_error\": 565092582.0651245,\n",
            "    \"abs_target_sum\": 4157157295.381714,\n",
            "    \"abs_target_mean\": 4811.5246474325495,\n",
            "    \"seasonal_error\": 616.9975625355751,\n",
            "    \"MASE\": 1.3675626003803907,\n",
            "    \"MAPE\": 0.1775026495247414,\n",
            "    \"sMAPE\": 0.14946500711249788,\n",
            "    \"OWA\": NaN,\n",
            "    \"MSIS\": 32.11634113345029,\n",
            "    \"QuantileLoss[0.1]\": 408859534.2665299,\n",
            "    \"Coverage[0.1]\": 0.29263541666664467,\n",
            "    \"QuantileLoss[0.5]\": 565092582.143055,\n",
            "    \"Coverage[0.5]\": 0.4336388888888755,\n",
            "    \"QuantileLoss[0.9]\": 496985676.9068374,\n",
            "    \"Coverage[0.9]\": 0.6354907407407671,\n",
            "    \"RMSE\": 1454.3052192658452,\n",
            "    \"NRMSE\": 0.30225455044522503,\n",
            "    \"ND\": 0.13593245141166524,\n",
            "    \"wQuantileLoss[0.1]\": 0.09835074913348643,\n",
            "    \"wQuantileLoss[0.5]\": 0.13593245143041133,\n",
            "    \"wQuantileLoss[0.9]\": 0.1195494039782788,\n",
            "    \"mean_wQuantileLoss\": 0.11794420151405886,\n",
            "    \"MAE_Coverage\": 0.17450192901233405\n",
            "}\n"
          ],
          "name": "stdout"
        }
      ]
    },
    {
      "cell_type": "code",
      "metadata": {
        "colab_type": "code",
        "id": "nM547CLIPo1p",
        "colab": {}
      },
      "source": [
        ""
      ],
      "execution_count": 0,
      "outputs": []
    },
    {
      "cell_type": "markdown",
      "metadata": {
        "colab_type": "text",
        "id": "nznVHsOFTpbl"
      },
      "source": [
        "## m4_quarterly"
      ]
    },
    {
      "cell_type": "code",
      "metadata": {
        "colab_type": "code",
        "id": "Lqy_k4FfTpbn",
        "outputId": "c4f78e6b-3a7e-49d1-8537-fe481f6fa08c",
        "colab": {
          "base_uri": "https://localhost:8080/",
          "height": 53
        }
      },
      "source": [
        "m4_quarterly_dataset = get_dataset(\"m4_quarterly\", regenerate=False)"
      ],
      "execution_count": 0,
      "outputs": [
        {
          "output_type": "stream",
          "text": [
            "saving time-series into /root/.mxnet/gluon-ts/datasets/m4_quarterly/train/data.json\n",
            "saving time-series into /root/.mxnet/gluon-ts/datasets/m4_quarterly/test/data.json\n"
          ],
          "name": "stdout"
        }
      ]
    },
    {
      "cell_type": "code",
      "metadata": {
        "colab_type": "code",
        "id": "Y457WiskTpbw",
        "outputId": "1319de68-3936-4ea0-93af-fb24f6c0841d",
        "colab": {
          "base_uri": "https://localhost:8080/",
          "height": 53
        }
      },
      "source": [
        "print (len(m4_quarterly_dataset.train))\n",
        "print (len(m4_quarterly_dataset.test))"
      ],
      "execution_count": 0,
      "outputs": [
        {
          "output_type": "stream",
          "text": [
            "24000\n",
            "24000\n"
          ],
          "name": "stdout"
        }
      ]
    },
    {
      "cell_type": "code",
      "metadata": {
        "colab_type": "code",
        "id": "b9EoE_m6Tpbz",
        "outputId": "16952589-fd26-43da-88d7-ab5b4a6139b3",
        "colab": {
          "base_uri": "https://localhost:8080/",
          "height": 35
        }
      },
      "source": [
        "m4_quarterly_dataset.metadata"
      ],
      "execution_count": 0,
      "outputs": [
        {
          "output_type": "execute_result",
          "data": {
            "text/plain": [
              "MetaData(freq='3M', target=None, feat_static_cat=[CategoricalFeatureInfo(name='feat_static_cat', cardinality='24000')], feat_static_real=[], feat_dynamic_real=[], feat_dynamic_cat=[], prediction_length=8)"
            ]
          },
          "metadata": {
            "tags": []
          },
          "execution_count": 56
        }
      ]
    },
    {
      "cell_type": "code",
      "metadata": {
        "colab_type": "code",
        "outputId": "438daf63-1e63-45a5-8cf6-dfddc0262688",
        "id": "NBrLxCWmqEzn",
        "colab": {
          "base_uri": "https://localhost:8080/",
          "height": 35
        }
      },
      "source": [
        "m4_quarterly_dataset.metadata.feat_static_cat[0]"
      ],
      "execution_count": 0,
      "outputs": [
        {
          "output_type": "execute_result",
          "data": {
            "text/plain": [
              "CategoricalFeatureInfo(name='feat_static_cat', cardinality='24000')"
            ]
          },
          "metadata": {
            "tags": []
          },
          "execution_count": 57
        }
      ]
    },
    {
      "cell_type": "code",
      "metadata": {
        "colab_type": "code",
        "id": "bYqoUboOqEzq",
        "colab": {}
      },
      "source": [
        "car = [int(m4_quarterly_dataset.metadata.feat_static_cat[0].cardinality)]"
      ],
      "execution_count": 0,
      "outputs": []
    },
    {
      "cell_type": "code",
      "metadata": {
        "colab_type": "code",
        "id": "9diHFpLATpb3",
        "outputId": "c671307d-a1bd-4ea6-cb9b-7b5fc8716b17",
        "colab": {
          "base_uri": "https://localhost:8080/",
          "height": 35
        }
      },
      "source": [
        "next(iter(m4_quarterly_dataset.train)).keys()"
      ],
      "execution_count": 0,
      "outputs": [
        {
          "output_type": "execute_result",
          "data": {
            "text/plain": [
              "dict_keys(['start', 'target', 'feat_static_cat', 'item_id', 'source'])"
            ]
          },
          "metadata": {
            "tags": []
          },
          "execution_count": 59
        }
      ]
    },
    {
      "cell_type": "code",
      "metadata": {
        "colab_type": "code",
        "id": "uluvpZU5TpcE",
        "colab": {}
      },
      "source": [
        "# https://gluon-ts.mxnet.io/api/gluonts/gluonts.model.deepar.html\n",
        "DA_estimator = DeepAREstimator(\n",
        "    freq=m4_quarterly_dataset.metadata.freq, \n",
        "    prediction_length=m4_quarterly_dataset.metadata.prediction_length,\n",
        "    trainer = deepar_trainer, # (default: Trainer())\n",
        "    context_length=None, # (default: None, in which case context_length = prediction_length)\n",
        "    num_layers=2, # (default: 2)\n",
        "    num_cells=40, # (default: 40)\n",
        "    cell_type='lstm', # (default: ‘lstm’)\n",
        "    dropout_rate=0.1, # (default: 0.1)\n",
        "    use_feat_dynamic_real=False, # (default: False)\n",
        "    use_feat_static_cat=True, # (default: False)\n",
        "    use_feat_static_real=False, # (default: False)\n",
        "    cardinality=car, # (default: None)\n",
        "    #embedding_dimension=[20], # (default: [min(50, (cat+1)//2) for cat in cardinality])\n",
        "    distr_output = StudentTOutput(), # (default: StudentTOutput())\n",
        "    scaling=True, # (default: true)\n",
        "    lags_seq=None, # (default: None, in which case these are automatically determined based on freq)\n",
        "    time_features=None, # (default: None, in which case these are automatically determined based on freq)\n",
        "    num_parallel_samples=100, # (default: 100)\n",
        ")"
      ],
      "execution_count": 0,
      "outputs": []
    },
    {
      "cell_type": "code",
      "metadata": {
        "colab_type": "code",
        "id": "Yv7bIpjBTpcI",
        "outputId": "c4e512f8-1216-40ee-eba7-d0673ea3eec6",
        "colab": {
          "base_uri": "https://localhost:8080/",
          "height": 1000
        }
      },
      "source": [
        "DA_predictor = DA_estimator.train(m4_quarterly_dataset.train)"
      ],
      "execution_count": 0,
      "outputs": [
        {
          "output_type": "stream",
          "text": [
            "\r  0%|          | 0/50 [00:00<?, ?it/s]"
          ],
          "name": "stderr"
        },
        {
          "output_type": "stream",
          "text": [
            "learning rate from ``lr_scheduler`` has been overwritten by ``learning_rate`` in optimizer.\n"
          ],
          "name": "stdout"
        },
        {
          "output_type": "stream",
          "text": [
            "100%|██████████| 50/50 [00:02<00:00, 20.84it/s, epoch=1/100, avg_epoch_loss=7.78]\n",
            "100%|██████████| 50/50 [00:02<00:00, 22.81it/s, epoch=2/100, avg_epoch_loss=7.72]\n",
            "100%|██████████| 50/50 [00:02<00:00, 22.65it/s, epoch=3/100, avg_epoch_loss=7.67]\n",
            "100%|██████████| 50/50 [00:02<00:00, 21.87it/s, epoch=4/100, avg_epoch_loss=7.38]\n",
            "100%|██████████| 50/50 [00:02<00:00, 21.02it/s, epoch=5/100, avg_epoch_loss=7.28]\n",
            "100%|██████████| 50/50 [00:02<00:00, 21.68it/s, epoch=6/100, avg_epoch_loss=7.47]\n",
            "100%|██████████| 50/50 [00:02<00:00, 22.36it/s, epoch=7/100, avg_epoch_loss=7.38]\n",
            "100%|██████████| 50/50 [00:02<00:00, 21.82it/s, epoch=8/100, avg_epoch_loss=7.35]\n",
            "100%|██████████| 50/50 [00:02<00:00, 21.95it/s, epoch=9/100, avg_epoch_loss=7.19]\n",
            "100%|██████████| 50/50 [00:02<00:00, 22.38it/s, epoch=10/100, avg_epoch_loss=7.24]\n",
            "100%|██████████| 50/50 [00:02<00:00, 22.23it/s, epoch=11/100, avg_epoch_loss=7.46]\n",
            "100%|██████████| 50/50 [00:02<00:00, 21.67it/s, epoch=12/100, avg_epoch_loss=7.57]\n",
            "100%|██████████| 50/50 [00:02<00:00, 21.72it/s, epoch=13/100, avg_epoch_loss=7.36]\n",
            "100%|██████████| 50/50 [00:02<00:00, 22.04it/s, epoch=14/100, avg_epoch_loss=7.08]\n",
            "100%|██████████| 50/50 [00:02<00:00, 21.78it/s, epoch=15/100, avg_epoch_loss=7.25]\n",
            "100%|██████████| 50/50 [00:02<00:00, 21.41it/s, epoch=16/100, avg_epoch_loss=6.89]\n",
            "100%|██████████| 50/50 [00:02<00:00, 21.99it/s, epoch=17/100, avg_epoch_loss=7.2]\n",
            "100%|██████████| 50/50 [00:02<00:00, 22.40it/s, epoch=18/100, avg_epoch_loss=7.32]\n",
            "100%|██████████| 50/50 [00:02<00:00, 22.42it/s, epoch=19/100, avg_epoch_loss=6.98]\n",
            "100%|██████████| 50/50 [00:02<00:00, 21.37it/s, epoch=20/100, avg_epoch_loss=6.86]\n",
            "100%|██████████| 50/50 [00:02<00:00, 21.98it/s, epoch=21/100, avg_epoch_loss=7.16]\n",
            "100%|██████████| 50/50 [00:02<00:00, 21.88it/s, epoch=22/100, avg_epoch_loss=6.96]\n",
            "100%|██████████| 50/50 [00:02<00:00, 21.78it/s, epoch=23/100, avg_epoch_loss=7.05]\n",
            "100%|██████████| 50/50 [00:02<00:00, 21.45it/s, epoch=24/100, avg_epoch_loss=6.98]\n",
            "100%|██████████| 50/50 [00:02<00:00, 22.32it/s, epoch=25/100, avg_epoch_loss=6.98]\n",
            "100%|██████████| 50/50 [00:02<00:00, 21.85it/s, epoch=26/100, avg_epoch_loss=7.15]\n",
            "100%|██████████| 50/50 [00:02<00:00, 21.70it/s, epoch=27/100, avg_epoch_loss=7.31]\n",
            "100%|██████████| 50/50 [00:02<00:00, 22.09it/s, epoch=28/100, avg_epoch_loss=7.1]\n",
            "100%|██████████| 50/50 [00:02<00:00, 22.21it/s, epoch=29/100, avg_epoch_loss=7]\n",
            "100%|██████████| 50/50 [00:02<00:00, 21.50it/s, epoch=30/100, avg_epoch_loss=7.16]\n",
            "100%|██████████| 50/50 [00:02<00:00, 21.22it/s, epoch=31/100, avg_epoch_loss=6.84]\n",
            "100%|██████████| 50/50 [00:02<00:00, 22.04it/s, epoch=32/100, avg_epoch_loss=7.11]\n",
            "100%|██████████| 50/50 [00:02<00:00, 22.50it/s, epoch=33/100, avg_epoch_loss=7.22]\n",
            "100%|██████████| 50/50 [00:02<00:00, 22.54it/s, epoch=34/100, avg_epoch_loss=6.98]\n",
            "100%|██████████| 50/50 [00:02<00:00, 20.94it/s, epoch=35/100, avg_epoch_loss=6.77]\n",
            "100%|██████████| 50/50 [00:02<00:00, 21.55it/s, epoch=36/100, avg_epoch_loss=7.15]\n",
            "100%|██████████| 50/50 [00:02<00:00, 21.94it/s, epoch=37/100, avg_epoch_loss=6.99]\n",
            "100%|██████████| 50/50 [00:02<00:00, 21.55it/s, epoch=38/100, avg_epoch_loss=7.09]\n",
            "100%|██████████| 50/50 [00:02<00:00, 21.72it/s, epoch=39/100, avg_epoch_loss=6.85]\n",
            "100%|██████████| 50/50 [00:02<00:00, 22.67it/s, epoch=40/100, avg_epoch_loss=7.06]\n",
            "100%|██████████| 50/50 [00:02<00:00, 22.41it/s, epoch=41/100, avg_epoch_loss=7.13]\n",
            "100%|██████████| 50/50 [00:02<00:00, 21.66it/s, epoch=42/100, avg_epoch_loss=7.28]\n",
            "100%|██████████| 50/50 [00:02<00:00, 22.30it/s, epoch=43/100, avg_epoch_loss=7.12]\n",
            "100%|██████████| 50/50 [00:02<00:00, 21.95it/s, epoch=44/100, avg_epoch_loss=6.93]\n",
            "100%|██████████| 50/50 [00:02<00:00, 21.86it/s, epoch=45/100, avg_epoch_loss=7.12]\n",
            "100%|██████████| 50/50 [00:02<00:00, 21.60it/s, epoch=46/100, avg_epoch_loss=6.82]\n",
            "100%|██████████| 50/50 [00:02<00:00, 22.33it/s, epoch=47/100, avg_epoch_loss=7.12]\n",
            "100%|██████████| 50/50 [00:02<00:00, 22.75it/s, epoch=48/100, avg_epoch_loss=7.11]\n",
            "100%|██████████| 50/50 [00:02<00:00, 22.35it/s, epoch=49/100, avg_epoch_loss=6.82]\n",
            "100%|██████████| 50/50 [00:02<00:00, 21.41it/s, epoch=50/100, avg_epoch_loss=6.73]\n",
            "100%|██████████| 50/50 [00:02<00:00, 22.11it/s, epoch=51/100, avg_epoch_loss=7.09]\n",
            "100%|██████████| 50/50 [00:02<00:00, 22.19it/s, epoch=52/100, avg_epoch_loss=6.99]\n",
            "100%|██████████| 50/50 [00:02<00:00, 21.72it/s, epoch=53/100, avg_epoch_loss=7.03]\n",
            "100%|██████████| 50/50 [00:02<00:00, 21.71it/s, epoch=54/100, avg_epoch_loss=6.9]\n",
            "100%|██████████| 50/50 [00:02<00:00, 22.52it/s, epoch=55/100, avg_epoch_loss=7]\n",
            "100%|██████████| 50/50 [00:02<00:00, 22.05it/s, epoch=56/100, avg_epoch_loss=7.07]\n",
            "100%|██████████| 50/50 [00:02<00:00, 21.93it/s, epoch=57/100, avg_epoch_loss=7.31]\n",
            "100%|██████████| 50/50 [00:02<00:00, 22.25it/s, epoch=58/100, avg_epoch_loss=7.12]\n",
            "100%|██████████| 50/50 [00:02<00:00, 22.56it/s, epoch=59/100, avg_epoch_loss=6.93]\n",
            "100%|██████████| 50/50 [00:02<00:00, 21.70it/s, epoch=60/100, avg_epoch_loss=7.05]\n",
            "100%|██████████| 50/50 [00:02<00:00, 21.33it/s, epoch=61/100, avg_epoch_loss=6.83]\n",
            "100%|██████████| 50/50 [00:02<00:00, 21.95it/s, epoch=62/100, avg_epoch_loss=7.03]\n",
            "100%|██████████| 50/50 [00:02<00:00, 22.89it/s, epoch=63/100, avg_epoch_loss=7.03]\n",
            "100%|██████████| 50/50 [00:02<00:00, 22.53it/s, epoch=64/100, avg_epoch_loss=6.71]\n",
            "100%|██████████| 50/50 [00:02<00:00, 21.26it/s, epoch=65/100, avg_epoch_loss=6.63]\n",
            "100%|██████████| 50/50 [00:02<00:00, 21.89it/s, epoch=66/100, avg_epoch_loss=7.17]\n",
            "100%|██████████| 50/50 [00:02<00:00, 22.44it/s, epoch=67/100, avg_epoch_loss=6.95]\n",
            "100%|██████████| 50/50 [00:02<00:00, 22.00it/s, epoch=68/100, avg_epoch_loss=7.04]\n",
            "100%|██████████| 50/50 [00:02<00:00, 22.35it/s, epoch=69/100, avg_epoch_loss=6.94]\n",
            "100%|██████████| 50/50 [00:02<00:00, 22.31it/s, epoch=70/100, avg_epoch_loss=6.93]\n",
            "100%|██████████| 50/50 [00:02<00:00, 22.47it/s, epoch=71/100, avg_epoch_loss=6.96]\n",
            "100%|██████████| 50/50 [00:02<00:00, 21.31it/s, epoch=72/100, avg_epoch_loss=7.39]\n",
            "100%|██████████| 50/50 [00:02<00:00, 22.20it/s, epoch=73/100, avg_epoch_loss=6.97]\n",
            "100%|██████████| 50/50 [00:02<00:00, 22.20it/s, epoch=74/100, avg_epoch_loss=6.93]\n",
            "100%|██████████| 50/50 [00:02<00:00, 21.73it/s, epoch=75/100, avg_epoch_loss=7.11]\n",
            "100%|██████████| 50/50 [00:02<00:00, 21.55it/s, epoch=76/100, avg_epoch_loss=6.75]\n",
            "100%|██████████| 50/50 [00:02<00:00, 22.25it/s, epoch=77/100, avg_epoch_loss=7.04]\n",
            "100%|██████████| 50/50 [00:02<00:00, 22.64it/s, epoch=78/100, avg_epoch_loss=7.02]\n",
            "100%|██████████| 50/50 [00:02<00:00, 22.24it/s, epoch=79/100, avg_epoch_loss=6.73]\n",
            "100%|██████████| 50/50 [00:02<00:00, 21.56it/s, epoch=80/100, avg_epoch_loss=6.53]\n",
            "100%|██████████| 50/50 [00:02<00:00, 21.47it/s, epoch=81/100, avg_epoch_loss=7.15]\n",
            "100%|██████████| 50/50 [00:02<00:00, 21.70it/s, epoch=82/100, avg_epoch_loss=6.92]\n",
            "100%|██████████| 50/50 [00:02<00:00, 21.77it/s, epoch=83/100, avg_epoch_loss=7.01]\n",
            "100%|██████████| 50/50 [00:02<00:00, 21.71it/s, epoch=84/100, avg_epoch_loss=6.9]\n",
            "100%|██████████| 50/50 [00:02<00:00, 22.41it/s, epoch=85/100, avg_epoch_loss=6.96]\n",
            "100%|██████████| 50/50 [00:02<00:00, 22.62it/s, epoch=86/100, avg_epoch_loss=7.04]\n",
            "100%|██████████| 50/50 [00:02<00:00, 21.51it/s, epoch=87/100, avg_epoch_loss=7.51]\n",
            "100%|██████████| 50/50 [00:02<00:00, 21.81it/s, epoch=88/100, avg_epoch_loss=6.82]\n",
            "100%|██████████| 50/50 [00:02<00:00, 21.25it/s, epoch=89/100, avg_epoch_loss=6.91]\n",
            "100%|██████████| 50/50 [00:02<00:00, 21.29it/s, epoch=90/100, avg_epoch_loss=7.11]\n",
            "100%|██████████| 50/50 [00:02<00:00, 19.33it/s, epoch=91/100, avg_epoch_loss=6.74]\n",
            "100%|██████████| 50/50 [00:03<00:00, 14.13it/s, epoch=92/100, avg_epoch_loss=6.98]\n",
            "100%|██████████| 50/50 [00:02<00:00, 21.48it/s, epoch=93/100, avg_epoch_loss=7.07]\n",
            "100%|██████████| 50/50 [00:02<00:00, 22.37it/s, epoch=94/100, avg_epoch_loss=6.77]\n",
            "100%|██████████| 50/50 [00:02<00:00, 21.38it/s, epoch=95/100, avg_epoch_loss=6.55]\n",
            "100%|██████████| 50/50 [00:02<00:00, 21.79it/s, epoch=96/100, avg_epoch_loss=7.19]\n",
            "100%|██████████| 50/50 [00:02<00:00, 22.42it/s, epoch=97/100, avg_epoch_loss=6.9]\n",
            "100%|██████████| 50/50 [00:02<00:00, 22.16it/s, epoch=98/100, avg_epoch_loss=6.99]\n",
            "100%|██████████| 50/50 [00:02<00:00, 22.21it/s, epoch=99/100, avg_epoch_loss=6.99]\n",
            "100%|██████████| 50/50 [00:02<00:00, 22.03it/s, epoch=100/100, avg_epoch_loss=6.87]\n"
          ],
          "name": "stderr"
        }
      ]
    },
    {
      "cell_type": "code",
      "metadata": {
        "colab_type": "code",
        "id": "0kea2_IuTpcM",
        "outputId": "68e59576-2fc2-4d60-fd48-4112c05c5736",
        "colab": {
          "base_uri": "https://localhost:8080/",
          "height": 503
        }
      },
      "source": [
        "forecast_it, ts_it = make_evaluation_predictions(\n",
        "    dataset=m4_quarterly_dataset.test, \n",
        "    predictor=DA_predictor, \n",
        "    num_samples=100, \n",
        ")\n",
        "\n",
        "forecasts = list(forecast_it)\n",
        "tss = list(ts_it)\n",
        "\n",
        "evaluator = Evaluator(quantiles=[0.1, 0.5, 0.9])\n",
        "agg_metrics, item_metrics = evaluator(iter(tss), iter(forecasts), num_series=len(m4_quarterly_dataset.test))\n",
        "\n",
        "print(json.dumps(agg_metrics, indent=4))"
      ],
      "execution_count": 0,
      "outputs": [
        {
          "output_type": "stream",
          "text": [
            "Running evaluation: 100%|██████████| 24000/24000 [00:00<00:00, 254270.87it/s]\n"
          ],
          "name": "stderr"
        },
        {
          "output_type": "stream",
          "text": [
            "{\n",
            "    \"MSE\": 1972884.9687406262,\n",
            "    \"abs_error\": 117241708.11991882,\n",
            "    \"abs_target_sum\": 1147074070.9031982,\n",
            "    \"abs_target_mean\": 5974.344119287491,\n",
            "    \"seasonal_error\": 473.4332698179725,\n",
            "    \"MASE\": 1.3550683143872055,\n",
            "    \"MAPE\": 0.13164692057705824,\n",
            "    \"sMAPE\": 0.10918382057315212,\n",
            "    \"OWA\": NaN,\n",
            "    \"MSIS\": 18.527260001250795,\n",
            "    \"QuantileLoss[0.1]\": 71331246.12868805,\n",
            "    \"Coverage[0.1]\": 0.167265625,\n",
            "    \"QuantileLoss[0.5]\": 117241708.0598526,\n",
            "    \"Coverage[0.5]\": 0.5809583333333334,\n",
            "    \"QuantileLoss[0.9]\": 74032826.25184327,\n",
            "    \"Coverage[0.9]\": 0.8765520833333333,\n",
            "    \"RMSE\": 1404.5942363332645,\n",
            "    \"NRMSE\": 0.23510434087629664,\n",
            "    \"ND\": 0.10220936127307237,\n",
            "    \"wQuantileLoss[0.1]\": 0.062185387969342136,\n",
            "    \"wQuantileLoss[0.5]\": 0.10220936122070765,\n",
            "    \"wQuantileLoss[0.9]\": 0.0645405803598632,\n",
            "    \"mean_wQuantileLoss\": 0.07631177651663766,\n",
            "    \"MAE_Coverage\": 0.057223958333333345\n",
            "}\n"
          ],
          "name": "stdout"
        }
      ]
    },
    {
      "cell_type": "code",
      "metadata": {
        "colab_type": "code",
        "id": "WLQbIJlNTpcQ",
        "colab": {}
      },
      "source": [
        ""
      ],
      "execution_count": 0,
      "outputs": []
    },
    {
      "cell_type": "markdown",
      "metadata": {
        "colab_type": "text",
        "id": "mPBrg_LQUG-N"
      },
      "source": [
        "## m4_weekly"
      ]
    },
    {
      "cell_type": "code",
      "metadata": {
        "colab_type": "code",
        "id": "zqOsVt25UG-O",
        "outputId": "9154cab8-aa0a-43fc-dc2e-b35ffefeb860",
        "colab": {
          "base_uri": "https://localhost:8080/",
          "height": 53
        }
      },
      "source": [
        "m4_weekly_dataset = get_dataset(\"m4_weekly\", regenerate=False)"
      ],
      "execution_count": 0,
      "outputs": [
        {
          "output_type": "stream",
          "text": [
            "saving time-series into /root/.mxnet/gluon-ts/datasets/m4_weekly/train/data.json\n",
            "saving time-series into /root/.mxnet/gluon-ts/datasets/m4_weekly/test/data.json\n"
          ],
          "name": "stdout"
        }
      ]
    },
    {
      "cell_type": "code",
      "metadata": {
        "colab_type": "code",
        "id": "8rImBkzcUG-R",
        "outputId": "a388033f-3c66-4ff1-ca50-40467567b506",
        "colab": {
          "base_uri": "https://localhost:8080/",
          "height": 53
        }
      },
      "source": [
        "print (len(m4_weekly_dataset.train))\n",
        "print (len(m4_weekly_dataset.test))"
      ],
      "execution_count": 0,
      "outputs": [
        {
          "output_type": "stream",
          "text": [
            "359\n",
            "359\n"
          ],
          "name": "stdout"
        }
      ]
    },
    {
      "cell_type": "code",
      "metadata": {
        "colab_type": "code",
        "id": "YNqBvMCfUG-U",
        "outputId": "0ae9f1c2-4938-41fe-fcb2-a6cedf728be9",
        "colab": {
          "base_uri": "https://localhost:8080/",
          "height": 35
        }
      },
      "source": [
        "m4_weekly_dataset.metadata"
      ],
      "execution_count": 0,
      "outputs": [
        {
          "output_type": "execute_result",
          "data": {
            "text/plain": [
              "MetaData(freq='W', target=None, feat_static_cat=[CategoricalFeatureInfo(name='feat_static_cat', cardinality='359')], feat_static_real=[], feat_dynamic_real=[], feat_dynamic_cat=[], prediction_length=13)"
            ]
          },
          "metadata": {
            "tags": []
          },
          "execution_count": 65
        }
      ]
    },
    {
      "cell_type": "code",
      "metadata": {
        "colab_type": "code",
        "outputId": "0e375852-1d89-4362-8a9d-b2ce15d17a26",
        "id": "oBmE2sv5qRI5",
        "colab": {
          "base_uri": "https://localhost:8080/",
          "height": 35
        }
      },
      "source": [
        "m4_weekly_dataset.metadata.feat_static_cat[0]"
      ],
      "execution_count": 0,
      "outputs": [
        {
          "output_type": "execute_result",
          "data": {
            "text/plain": [
              "CategoricalFeatureInfo(name='feat_static_cat', cardinality='359')"
            ]
          },
          "metadata": {
            "tags": []
          },
          "execution_count": 66
        }
      ]
    },
    {
      "cell_type": "code",
      "metadata": {
        "colab_type": "code",
        "id": "9ne4eVCaqRI8",
        "colab": {}
      },
      "source": [
        "car = [int(m4_weekly_dataset.metadata.feat_static_cat[0].cardinality)]"
      ],
      "execution_count": 0,
      "outputs": []
    },
    {
      "cell_type": "code",
      "metadata": {
        "colab_type": "code",
        "id": "xxBOpLK5UG-W",
        "outputId": "3d676a55-334a-4f84-c663-f352335893f4",
        "colab": {
          "base_uri": "https://localhost:8080/",
          "height": 35
        }
      },
      "source": [
        "next(iter(m4_weekly_dataset.train)).keys()"
      ],
      "execution_count": 0,
      "outputs": [
        {
          "output_type": "execute_result",
          "data": {
            "text/plain": [
              "dict_keys(['start', 'target', 'feat_static_cat', 'item_id', 'source'])"
            ]
          },
          "metadata": {
            "tags": []
          },
          "execution_count": 68
        }
      ]
    },
    {
      "cell_type": "code",
      "metadata": {
        "colab_type": "code",
        "id": "oambQWoLUG-b",
        "colab": {}
      },
      "source": [
        "# https://gluon-ts.mxnet.io/api/gluonts/gluonts.model.deepar.html\n",
        "DA_estimator = DeepAREstimator(\n",
        "    freq=m4_weekly_dataset.metadata.freq, \n",
        "    prediction_length=m4_weekly_dataset.metadata.prediction_length,\n",
        "    trainer = deepar_trainer, # (default: Trainer())\n",
        "    context_length=None, # (default: None, in which case context_length = prediction_length)\n",
        "    num_layers=2, # (default: 2)\n",
        "    num_cells=40, # (default: 40)\n",
        "    cell_type='lstm', # (default: ‘lstm’)\n",
        "    dropout_rate=0.1, # (default: 0.1)\n",
        "    use_feat_dynamic_real=False, # (default: False)\n",
        "    use_feat_static_cat=True, # (default: False)\n",
        "    use_feat_static_real=False, # (default: False)\n",
        "    cardinality=car, # (default: None)\n",
        "    #embedding_dimension=[20], # (default: [min(50, (cat+1)//2) for cat in cardinality])\n",
        "    distr_output = StudentTOutput(), # (default: StudentTOutput())\n",
        "    scaling=True, # (default: true)\n",
        "    lags_seq=None, # (default: None, in which case these are automatically determined based on freq)\n",
        "    time_features=None, # (default: None, in which case these are automatically determined based on freq)\n",
        "    num_parallel_samples=100, # (default: 100)\n",
        ")"
      ],
      "execution_count": 0,
      "outputs": []
    },
    {
      "cell_type": "code",
      "metadata": {
        "colab_type": "code",
        "id": "268w4zPdUG-o",
        "outputId": "aa4fabb2-e66a-409f-8f98-3bcc5706e818",
        "colab": {
          "base_uri": "https://localhost:8080/",
          "height": 1000
        }
      },
      "source": [
        "DA_predictor = DA_estimator.train(m4_weekly_dataset.train)"
      ],
      "execution_count": 0,
      "outputs": [
        {
          "output_type": "stream",
          "text": [
            "\r  0%|          | 0/50 [00:00<?, ?it/s]"
          ],
          "name": "stderr"
        },
        {
          "output_type": "stream",
          "text": [
            "learning rate from ``lr_scheduler`` has been overwritten by ``learning_rate`` in optimizer.\n"
          ],
          "name": "stdout"
        },
        {
          "output_type": "stream",
          "text": [
            "100%|██████████| 50/50 [00:03<00:00, 14.13it/s, epoch=1/100, avg_epoch_loss=7.95]\n",
            "100%|██████████| 50/50 [00:03<00:00, 15.61it/s, epoch=2/100, avg_epoch_loss=7.13]\n",
            "100%|██████████| 50/50 [00:03<00:00, 15.83it/s, epoch=3/100, avg_epoch_loss=6.94]\n",
            "100%|██████████| 50/50 [00:03<00:00, 15.73it/s, epoch=4/100, avg_epoch_loss=7.01]\n",
            "100%|██████████| 50/50 [00:03<00:00, 15.89it/s, epoch=5/100, avg_epoch_loss=6.92]\n",
            "100%|██████████| 50/50 [00:03<00:00, 15.58it/s, epoch=6/100, avg_epoch_loss=7.21]\n",
            "100%|██████████| 50/50 [00:03<00:00, 16.00it/s, epoch=7/100, avg_epoch_loss=7]\n",
            "100%|██████████| 50/50 [00:03<00:00, 15.80it/s, epoch=8/100, avg_epoch_loss=6.74]\n",
            "100%|██████████| 50/50 [00:03<00:00, 15.99it/s, epoch=9/100, avg_epoch_loss=6.65]\n",
            "100%|██████████| 50/50 [00:03<00:00, 15.90it/s, epoch=10/100, avg_epoch_loss=6.65]\n",
            "100%|██████████| 50/50 [00:03<00:00, 15.75it/s, epoch=11/100, avg_epoch_loss=6.56]\n",
            "100%|██████████| 50/50 [00:03<00:00, 15.79it/s, epoch=12/100, avg_epoch_loss=6.49]\n",
            "100%|██████████| 50/50 [00:03<00:00, 15.82it/s, epoch=13/100, avg_epoch_loss=7.03]\n",
            "100%|██████████| 50/50 [00:03<00:00, 15.68it/s, epoch=14/100, avg_epoch_loss=6.86]\n",
            "100%|██████████| 50/50 [00:03<00:00, 15.73it/s, epoch=15/100, avg_epoch_loss=6.54]\n",
            "100%|██████████| 50/50 [00:03<00:00, 15.84it/s, epoch=16/100, avg_epoch_loss=7.23]\n",
            "100%|██████████| 50/50 [00:03<00:00, 16.01it/s, epoch=17/100, avg_epoch_loss=6.79]\n",
            "100%|██████████| 50/50 [00:03<00:00, 15.94it/s, epoch=18/100, avg_epoch_loss=6.71]\n",
            "100%|██████████| 50/50 [00:03<00:00, 15.71it/s, epoch=19/100, avg_epoch_loss=6.72]\n",
            "100%|██████████| 50/50 [00:03<00:00, 14.07it/s, epoch=20/100, avg_epoch_loss=6.63]\n",
            "100%|██████████| 50/50 [00:04<00:00, 10.49it/s, epoch=21/100, avg_epoch_loss=6.45]\n",
            "100%|██████████| 50/50 [00:03<00:00, 15.55it/s, epoch=22/100, avg_epoch_loss=6.93]\n",
            "100%|██████████| 50/50 [00:03<00:00, 15.56it/s, epoch=23/100, avg_epoch_loss=6.65]\n",
            "100%|██████████| 50/50 [00:03<00:00, 15.93it/s, epoch=24/100, avg_epoch_loss=6.99]\n",
            "100%|██████████| 50/50 [00:03<00:00, 16.00it/s, epoch=25/100, avg_epoch_loss=6.46]\n",
            "100%|██████████| 50/50 [00:03<00:00, 15.96it/s, epoch=26/100, avg_epoch_loss=7.26]\n",
            "100%|██████████| 50/50 [00:03<00:00, 15.85it/s, epoch=27/100, avg_epoch_loss=6.77]\n",
            "100%|██████████| 50/50 [00:03<00:00, 15.96it/s, epoch=28/100, avg_epoch_loss=6.48]\n",
            "100%|██████████| 50/50 [00:03<00:00, 15.92it/s, epoch=29/100, avg_epoch_loss=6.83]\n",
            "100%|██████████| 50/50 [00:03<00:00, 15.66it/s, epoch=30/100, avg_epoch_loss=6.6]\n",
            "100%|██████████| 50/50 [00:03<00:00, 15.95it/s, epoch=31/100, avg_epoch_loss=6.41]\n",
            "100%|██████████| 50/50 [00:03<00:00, 15.86it/s, epoch=32/100, avg_epoch_loss=6.85]\n",
            "100%|██████████| 50/50 [00:03<00:00, 16.00it/s, epoch=33/100, avg_epoch_loss=6.38]\n",
            "100%|██████████| 50/50 [00:03<00:00, 15.88it/s, epoch=34/100, avg_epoch_loss=6.26]\n",
            "100%|██████████| 50/50 [00:03<00:00, 15.70it/s, epoch=35/100, avg_epoch_loss=6.28]\n",
            "100%|██████████| 50/50 [00:03<00:00, 16.08it/s, epoch=36/100, avg_epoch_loss=6.17]\n",
            "100%|██████████| 50/50 [00:03<00:00, 15.67it/s, epoch=37/100, avg_epoch_loss=6.27]\n",
            "100%|██████████| 50/50 [00:03<00:00, 15.93it/s, epoch=38/100, avg_epoch_loss=6.2]\n",
            "100%|██████████| 50/50 [00:03<00:00, 15.65it/s, epoch=39/100, avg_epoch_loss=6.53]\n",
            "100%|██████████| 50/50 [00:03<00:00, 15.89it/s, epoch=40/100, avg_epoch_loss=6.73]\n",
            "100%|██████████| 50/50 [00:03<00:00, 15.72it/s, epoch=41/100, avg_epoch_loss=6.39]\n",
            "100%|██████████| 50/50 [00:03<00:00, 16.23it/s, epoch=42/100, avg_epoch_loss=6.23]\n",
            "100%|██████████| 50/50 [00:03<00:00, 15.93it/s, epoch=43/100, avg_epoch_loss=7.02]\n",
            "100%|██████████| 50/50 [00:03<00:00, 16.19it/s, epoch=44/100, avg_epoch_loss=6.65]\n",
            "100%|██████████| 50/50 [00:03<00:00, 15.83it/s, epoch=45/100, avg_epoch_loss=6.41]\n",
            "100%|██████████| 50/50 [00:03<00:00, 15.87it/s, epoch=46/100, avg_epoch_loss=6.47]\n",
            "100%|██████████| 50/50 [00:03<00:00, 15.91it/s, epoch=47/100, avg_epoch_loss=6.19]\n",
            "100%|██████████| 50/50 [00:03<00:00, 15.83it/s, epoch=48/100, avg_epoch_loss=6.37]\n",
            "100%|██████████| 50/50 [00:03<00:00, 15.76it/s, epoch=49/100, avg_epoch_loss=6.42]\n",
            "100%|██████████| 50/50 [00:03<00:00, 15.85it/s, epoch=50/100, avg_epoch_loss=6.22]\n",
            "100%|██████████| 50/50 [00:03<00:00, 15.64it/s, epoch=51/100, avg_epoch_loss=6.16]\n",
            "100%|██████████| 50/50 [00:03<00:00, 16.02it/s, epoch=52/100, avg_epoch_loss=6.07]\n",
            "100%|██████████| 50/50 [00:03<00:00, 15.83it/s, epoch=53/100, avg_epoch_loss=6.23]\n",
            "100%|██████████| 50/50 [00:03<00:00, 15.94it/s, epoch=54/100, avg_epoch_loss=6.37]\n",
            "100%|██████████| 50/50 [00:03<00:00, 15.93it/s, epoch=55/100, avg_epoch_loss=6.25]\n",
            "100%|██████████| 50/50 [00:03<00:00, 16.01it/s, epoch=56/100, avg_epoch_loss=6.35]\n",
            "100%|██████████| 50/50 [00:03<00:00, 15.93it/s, epoch=57/100, avg_epoch_loss=6.09]\n",
            "100%|██████████| 50/50 [00:03<00:00, 16.05it/s, epoch=58/100, avg_epoch_loss=6.11]\n",
            "100%|██████████| 50/50 [00:03<00:00, 15.72it/s, epoch=59/100, avg_epoch_loss=6.07]\n",
            "100%|██████████| 50/50 [00:03<00:00, 15.78it/s, epoch=60/100, avg_epoch_loss=6.11]\n",
            "100%|██████████| 50/50 [00:03<00:00, 16.05it/s, epoch=61/100, avg_epoch_loss=6.15]\n",
            "100%|██████████| 50/50 [00:03<00:00, 15.62it/s, epoch=62/100, avg_epoch_loss=6.52]\n",
            "100%|██████████| 50/50 [00:03<00:00, 15.86it/s, epoch=63/100, avg_epoch_loss=6.12]\n",
            "100%|██████████| 50/50 [00:03<00:00, 15.75it/s, epoch=64/100, avg_epoch_loss=6.32]\n",
            "100%|██████████| 50/50 [00:03<00:00, 16.00it/s, epoch=65/100, avg_epoch_loss=6.17]\n",
            "100%|██████████| 50/50 [00:03<00:00, 15.86it/s, epoch=66/100, avg_epoch_loss=6.17]\n",
            "100%|██████████| 50/50 [00:03<00:00, 16.09it/s, epoch=67/100, avg_epoch_loss=6.39]\n",
            "100%|██████████| 50/50 [00:03<00:00, 15.59it/s, epoch=68/100, avg_epoch_loss=6.22]\n",
            "100%|██████████| 50/50 [00:03<00:00, 15.77it/s, epoch=69/100, avg_epoch_loss=6.05]\n",
            "100%|██████████| 50/50 [00:03<00:00, 15.69it/s, epoch=70/100, avg_epoch_loss=6.19]\n",
            "100%|██████████| 50/50 [00:03<00:00, 16.08it/s, epoch=71/100, avg_epoch_loss=6.36]\n",
            "100%|██████████| 50/50 [00:03<00:00, 15.89it/s, epoch=72/100, avg_epoch_loss=6.22]\n",
            "100%|██████████| 50/50 [00:03<00:00, 15.91it/s, epoch=73/100, avg_epoch_loss=6.08]\n",
            "100%|██████████| 50/50 [00:03<00:00, 15.94it/s, epoch=74/100, avg_epoch_loss=6.2]\n",
            "100%|██████████| 50/50 [00:03<00:00, 15.67it/s, epoch=75/100, avg_epoch_loss=6.1]\n",
            "100%|██████████| 50/50 [00:03<00:00, 15.93it/s, epoch=76/100, avg_epoch_loss=6.31]\n",
            "100%|██████████| 50/50 [00:03<00:00, 15.83it/s, epoch=77/100, avg_epoch_loss=6.01]\n",
            "100%|██████████| 50/50 [00:03<00:00, 15.53it/s, epoch=78/100, avg_epoch_loss=6.2]\n",
            "100%|██████████| 50/50 [00:03<00:00, 15.91it/s, epoch=79/100, avg_epoch_loss=6.03]\n",
            "100%|██████████| 50/50 [00:03<00:00, 15.91it/s, epoch=80/100, avg_epoch_loss=6.01]\n",
            "100%|██████████| 50/50 [00:03<00:00, 15.89it/s, epoch=81/100, avg_epoch_loss=6.06]\n",
            "100%|██████████| 50/50 [00:03<00:00, 15.66it/s, epoch=82/100, avg_epoch_loss=6.24]\n",
            "100%|██████████| 50/50 [00:03<00:00, 15.79it/s, epoch=83/100, avg_epoch_loss=6.27]\n",
            "100%|██████████| 50/50 [00:03<00:00, 15.93it/s, epoch=84/100, avg_epoch_loss=6.1]\n",
            "100%|██████████| 50/50 [00:03<00:00, 15.80it/s, epoch=85/100, avg_epoch_loss=6.13]\n",
            "100%|██████████| 50/50 [00:03<00:00, 15.95it/s, epoch=86/100, avg_epoch_loss=6.17]\n",
            "100%|██████████| 50/50 [00:03<00:00, 15.88it/s, epoch=87/100, avg_epoch_loss=6.02]\n",
            "100%|██████████| 50/50 [00:03<00:00, 15.67it/s, epoch=88/100, avg_epoch_loss=5.94]\n",
            "100%|██████████| 50/50 [00:03<00:00, 15.90it/s, epoch=89/100, avg_epoch_loss=5.97]\n",
            "100%|██████████| 50/50 [00:03<00:00, 15.80it/s, epoch=90/100, avg_epoch_loss=5.91]\n",
            "100%|██████████| 50/50 [00:03<00:00, 15.91it/s, epoch=91/100, avg_epoch_loss=5.97]\n",
            "100%|██████████| 50/50 [00:03<00:00, 15.84it/s, epoch=92/100, avg_epoch_loss=6.09]\n",
            "100%|██████████| 50/50 [00:03<00:00, 15.57it/s, epoch=93/100, avg_epoch_loss=6]\n",
            "100%|██████████| 50/50 [00:03<00:00, 16.05it/s, epoch=94/100, avg_epoch_loss=5.94]\n",
            "100%|██████████| 50/50 [00:03<00:00, 15.80it/s, epoch=95/100, avg_epoch_loss=5.92]\n",
            "100%|██████████| 50/50 [00:03<00:00, 15.67it/s, epoch=96/100, avg_epoch_loss=6.05]\n",
            "100%|██████████| 50/50 [00:03<00:00, 16.01it/s, epoch=97/100, avg_epoch_loss=5.9]\n",
            "100%|██████████| 50/50 [00:03<00:00, 15.94it/s, epoch=98/100, avg_epoch_loss=6.04]\n",
            "100%|██████████| 50/50 [00:03<00:00, 15.81it/s, epoch=99/100, avg_epoch_loss=5.96]\n",
            "100%|██████████| 50/50 [00:03<00:00, 15.96it/s, epoch=100/100, avg_epoch_loss=6.01]\n"
          ],
          "name": "stderr"
        }
      ]
    },
    {
      "cell_type": "code",
      "metadata": {
        "colab_type": "code",
        "id": "kE6yGMdvUG-x",
        "outputId": "9ce9d78e-7432-4e19-cc42-47e9e24bf1cb",
        "colab": {
          "base_uri": "https://localhost:8080/",
          "height": 503
        }
      },
      "source": [
        "forecast_it, ts_it = make_evaluation_predictions(\n",
        "    dataset=m4_weekly_dataset.test, \n",
        "    predictor=DA_predictor, \n",
        "    num_samples=100, \n",
        ")\n",
        "\n",
        "forecasts = list(forecast_it)\n",
        "tss = list(ts_it)\n",
        "\n",
        "evaluator = Evaluator(quantiles=[0.1, 0.5, 0.9])\n",
        "agg_metrics, item_metrics = evaluator(iter(tss), iter(forecasts), num_series=len(m4_weekly_dataset.test))\n",
        "\n",
        "print(json.dumps(agg_metrics, indent=4))"
      ],
      "execution_count": 0,
      "outputs": [
        {
          "output_type": "stream",
          "text": [
            "Running evaluation: 100%|██████████| 359/359 [00:00<00:00, 5887.35it/s]\n"
          ],
          "name": "stderr"
        },
        {
          "output_type": "stream",
          "text": [
            "{\n",
            "    \"MSE\": 461244.35867754853,\n",
            "    \"abs_error\": 1699570.7895736694,\n",
            "    \"abs_target_sum\": 25616889.502441406,\n",
            "    \"abs_target_mean\": 5488.941397566194,\n",
            "    \"seasonal_error\": 216.54813922503882,\n",
            "    \"MASE\": 3.1596356283777807,\n",
            "    \"MAPE\": 0.08607867269158756,\n",
            "    \"sMAPE\": 0.08943152718725707,\n",
            "    \"OWA\": NaN,\n",
            "    \"MSIS\": 40.13492853924365,\n",
            "    \"QuantileLoss[0.1]\": 773217.9935211182,\n",
            "    \"Coverage[0.1]\": 0.07713734733233336,\n",
            "    \"QuantileLoss[0.5]\": 1699570.7870101929,\n",
            "    \"Coverage[0.5]\": 0.3582601242768377,\n",
            "    \"QuantileLoss[0.9]\": 848180.0680007933,\n",
            "    \"Coverage[0.9]\": 0.8247268052281977,\n",
            "    \"RMSE\": 679.1497321486246,\n",
            "    \"NRMSE\": 0.12373054892693167,\n",
            "    \"ND\": 0.06634571263664515,\n",
            "    \"wQuantileLoss[0.1]\": 0.030183914149585843,\n",
            "    \"wQuantileLoss[0.5]\": 0.06634571253657537,\n",
            "    \"wQuantileLoss[0.9]\": 0.033110189584881405,\n",
            "    \"mean_wQuantileLoss\": 0.04321327209034754,\n",
            "    \"MAE_Coverage\": 0.07995857438754374\n",
            "}\n"
          ],
          "name": "stdout"
        }
      ]
    },
    {
      "cell_type": "code",
      "metadata": {
        "colab_type": "code",
        "id": "Qad3RV63UG-2",
        "colab": {}
      },
      "source": [
        ""
      ],
      "execution_count": 0,
      "outputs": []
    },
    {
      "cell_type": "markdown",
      "metadata": {
        "colab_type": "text",
        "id": "TYKFITcnUKLQ"
      },
      "source": [
        "## m4_yearly"
      ]
    },
    {
      "cell_type": "code",
      "metadata": {
        "colab_type": "code",
        "id": "0_xBRUYXUKLR",
        "outputId": "743a2bee-a9c3-4eb9-df7e-7e36defc1102",
        "colab": {
          "base_uri": "https://localhost:8080/",
          "height": 53
        }
      },
      "source": [
        "m4_yearly_dataset = get_dataset(\"m4_yearly\", regenerate=False)"
      ],
      "execution_count": 0,
      "outputs": [
        {
          "output_type": "stream",
          "text": [
            "saving time-series into /root/.mxnet/gluon-ts/datasets/m4_yearly/train/data.json\n",
            "saving time-series into /root/.mxnet/gluon-ts/datasets/m4_yearly/test/data.json\n"
          ],
          "name": "stdout"
        }
      ]
    },
    {
      "cell_type": "code",
      "metadata": {
        "colab_type": "code",
        "id": "QYwTQDmbUKLW",
        "outputId": "dbdc1f2c-56e9-4d5b-d8f7-7e235191fd7c",
        "colab": {
          "base_uri": "https://localhost:8080/",
          "height": 53
        }
      },
      "source": [
        "print (len(m4_yearly_dataset.train))\n",
        "print (len(m4_yearly_dataset.test))"
      ],
      "execution_count": 0,
      "outputs": [
        {
          "output_type": "stream",
          "text": [
            "23000\n",
            "23000\n"
          ],
          "name": "stdout"
        }
      ]
    },
    {
      "cell_type": "code",
      "metadata": {
        "colab_type": "code",
        "id": "Vm2erLbqUKLa",
        "outputId": "33a8de2d-ed01-4b51-cdbb-797770185c83",
        "colab": {
          "base_uri": "https://localhost:8080/",
          "height": 35
        }
      },
      "source": [
        "m4_yearly_dataset.metadata"
      ],
      "execution_count": 0,
      "outputs": [
        {
          "output_type": "execute_result",
          "data": {
            "text/plain": [
              "MetaData(freq='12M', target=None, feat_static_cat=[CategoricalFeatureInfo(name='feat_static_cat', cardinality='23000')], feat_static_real=[], feat_dynamic_real=[], feat_dynamic_cat=[], prediction_length=6)"
            ]
          },
          "metadata": {
            "tags": []
          },
          "execution_count": 74
        }
      ]
    },
    {
      "cell_type": "code",
      "metadata": {
        "colab_type": "code",
        "outputId": "5d6d0271-db90-4ea8-d8a3-3240239edeb3",
        "id": "p--10RfDqfGS",
        "colab": {
          "base_uri": "https://localhost:8080/",
          "height": 35
        }
      },
      "source": [
        "m4_yearly_dataset.metadata.feat_static_cat[0]"
      ],
      "execution_count": 0,
      "outputs": [
        {
          "output_type": "execute_result",
          "data": {
            "text/plain": [
              "CategoricalFeatureInfo(name='feat_static_cat', cardinality='23000')"
            ]
          },
          "metadata": {
            "tags": []
          },
          "execution_count": 75
        }
      ]
    },
    {
      "cell_type": "code",
      "metadata": {
        "colab_type": "code",
        "id": "8Q0KSV9LqfGY",
        "colab": {}
      },
      "source": [
        "car = [int(m4_yearly_dataset.metadata.feat_static_cat[0].cardinality)]"
      ],
      "execution_count": 0,
      "outputs": []
    },
    {
      "cell_type": "code",
      "metadata": {
        "colab_type": "code",
        "id": "cjR3KORlUKLe",
        "outputId": "0a6a24a1-b89f-457e-c8e5-ea9f5b2ec89e",
        "colab": {
          "base_uri": "https://localhost:8080/",
          "height": 35
        }
      },
      "source": [
        "next(iter(m4_yearly_dataset.train)).keys()"
      ],
      "execution_count": 0,
      "outputs": [
        {
          "output_type": "execute_result",
          "data": {
            "text/plain": [
              "dict_keys(['start', 'target', 'feat_static_cat', 'item_id', 'source'])"
            ]
          },
          "metadata": {
            "tags": []
          },
          "execution_count": 77
        }
      ]
    },
    {
      "cell_type": "code",
      "metadata": {
        "colab_type": "code",
        "id": "LjZJvTpaUKLo",
        "colab": {}
      },
      "source": [
        "# https://gluon-ts.mxnet.io/api/gluonts/gluonts.model.deepar.html\n",
        "DA_estimator = DeepAREstimator(\n",
        "    freq=m4_yearly_dataset.metadata.freq, \n",
        "    prediction_length=m4_yearly_dataset.metadata.prediction_length,\n",
        "    trainer = deepar_trainer, # (default: Trainer())\n",
        "    context_length=None, # (default: None, in which case context_length = prediction_length)\n",
        "    num_layers=2, # (default: 2)\n",
        "    num_cells=40, # (default: 40)\n",
        "    cell_type='lstm', # (default: ‘lstm’)\n",
        "    dropout_rate=0.1, # (default: 0.1)\n",
        "    use_feat_dynamic_real=False, # (default: False)\n",
        "    use_feat_static_cat=True, # (default: False)\n",
        "    use_feat_static_real=False, # (default: False)\n",
        "    cardinality=car, # (default: None)\n",
        "    #embedding_dimension=[20], # (default: [min(50, (cat+1)//2) for cat in cardinality])\n",
        "    distr_output = StudentTOutput(), # (default: StudentTOutput())\n",
        "    scaling=True, # (default: true)\n",
        "    lags_seq=None, # (default: None, in which case these are automatically determined based on freq)\n",
        "    time_features=None, # (default: None, in which case these are automatically determined based on freq)\n",
        "    num_parallel_samples=100, # (default: 100)\n",
        ")"
      ],
      "execution_count": 0,
      "outputs": []
    },
    {
      "cell_type": "code",
      "metadata": {
        "colab_type": "code",
        "id": "XndJZabPUKLq",
        "outputId": "143eec68-333c-4f9c-f6cd-6d52c80d50d8",
        "colab": {
          "base_uri": "https://localhost:8080/",
          "height": 1000
        }
      },
      "source": [
        "DA_predictor = DA_estimator.train(m4_yearly_dataset.train)"
      ],
      "execution_count": 0,
      "outputs": [
        {
          "output_type": "stream",
          "text": [
            "\r  0%|          | 0/50 [00:00<?, ?it/s]"
          ],
          "name": "stderr"
        },
        {
          "output_type": "stream",
          "text": [
            "learning rate from ``lr_scheduler`` has been overwritten by ``learning_rate`` in optimizer.\n"
          ],
          "name": "stdout"
        },
        {
          "output_type": "stream",
          "text": [
            "100%|██████████| 50/50 [00:02<00:00, 23.83it/s, epoch=1/100, avg_epoch_loss=8.7]\n",
            "100%|██████████| 50/50 [00:01<00:00, 25.24it/s, epoch=2/100, avg_epoch_loss=7.94]\n",
            "100%|██████████| 50/50 [00:01<00:00, 26.16it/s, epoch=3/100, avg_epoch_loss=7.14]\n",
            "100%|██████████| 50/50 [00:01<00:00, 26.05it/s, epoch=4/100, avg_epoch_loss=6.6]\n",
            "100%|██████████| 50/50 [00:01<00:00, 26.02it/s, epoch=5/100, avg_epoch_loss=6.63]\n",
            "100%|██████████| 50/50 [00:02<00:00, 24.78it/s, epoch=6/100, avg_epoch_loss=7.18]\n",
            "100%|██████████| 50/50 [00:01<00:00, 25.79it/s, epoch=7/100, avg_epoch_loss=7.31]\n",
            "100%|██████████| 50/50 [00:01<00:00, 25.54it/s, epoch=8/100, avg_epoch_loss=7.36]\n",
            "100%|██████████| 50/50 [00:01<00:00, 26.26it/s, epoch=9/100, avg_epoch_loss=7.5]\n",
            "100%|██████████| 50/50 [00:01<00:00, 26.39it/s, epoch=10/100, avg_epoch_loss=7.38]\n",
            "100%|██████████| 50/50 [00:01<00:00, 25.21it/s, epoch=11/100, avg_epoch_loss=7.11]\n",
            "100%|██████████| 50/50 [00:01<00:00, 25.61it/s, epoch=12/100, avg_epoch_loss=6.82]\n",
            "100%|██████████| 50/50 [00:01<00:00, 25.75it/s, epoch=13/100, avg_epoch_loss=7.15]\n",
            "100%|██████████| 50/50 [00:01<00:00, 25.51it/s, epoch=14/100, avg_epoch_loss=7.25]\n",
            "100%|██████████| 50/50 [00:01<00:00, 26.26it/s, epoch=15/100, avg_epoch_loss=7.5]\n",
            "100%|██████████| 50/50 [00:01<00:00, 25.19it/s, epoch=16/100, avg_epoch_loss=7.27]\n",
            "100%|██████████| 50/50 [00:01<00:00, 25.46it/s, epoch=17/100, avg_epoch_loss=7.18]\n",
            "100%|██████████| 50/50 [00:01<00:00, 25.46it/s, epoch=18/100, avg_epoch_loss=6.25]\n",
            "100%|██████████| 50/50 [00:01<00:00, 25.65it/s, epoch=19/100, avg_epoch_loss=6.42]\n",
            "100%|██████████| 50/50 [00:02<00:00, 24.49it/s, epoch=20/100, avg_epoch_loss=6.91]\n",
            "100%|██████████| 50/50 [00:02<00:00, 24.83it/s, epoch=21/100, avg_epoch_loss=7.28]\n",
            "100%|██████████| 50/50 [00:01<00:00, 25.10it/s, epoch=22/100, avg_epoch_loss=7.17]\n",
            "100%|██████████| 50/50 [00:01<00:00, 26.18it/s, epoch=23/100, avg_epoch_loss=7.43]\n",
            "100%|██████████| 50/50 [00:01<00:00, 27.16it/s, epoch=24/100, avg_epoch_loss=7.44]\n",
            "100%|██████████| 50/50 [00:01<00:00, 25.88it/s, epoch=25/100, avg_epoch_loss=7.28]\n",
            "100%|██████████| 50/50 [00:01<00:00, 25.66it/s, epoch=26/100, avg_epoch_loss=6.87]\n",
            "100%|██████████| 50/50 [00:02<00:00, 24.70it/s, epoch=27/100, avg_epoch_loss=7.11]\n",
            "100%|██████████| 50/50 [00:01<00:00, 25.27it/s, epoch=28/100, avg_epoch_loss=7.26]\n",
            "100%|██████████| 50/50 [00:02<00:00, 22.82it/s, epoch=29/100, avg_epoch_loss=7.39]\n",
            "100%|██████████| 50/50 [00:01<00:00, 25.27it/s, epoch=30/100, avg_epoch_loss=7.31]\n",
            "100%|██████████| 50/50 [00:01<00:00, 25.68it/s, epoch=31/100, avg_epoch_loss=7.27]\n",
            "100%|██████████| 50/50 [00:01<00:00, 26.50it/s, epoch=32/100, avg_epoch_loss=6.4]\n",
            "100%|██████████| 50/50 [00:01<00:00, 26.14it/s, epoch=33/100, avg_epoch_loss=6.25]\n",
            "100%|██████████| 50/50 [00:01<00:00, 25.41it/s, epoch=34/100, avg_epoch_loss=6.6]\n",
            "100%|██████████| 50/50 [00:01<00:00, 25.40it/s, epoch=35/100, avg_epoch_loss=7.28]\n",
            "100%|██████████| 50/50 [00:01<00:00, 25.58it/s, epoch=36/100, avg_epoch_loss=7.06]\n",
            "100%|██████████| 50/50 [00:01<00:00, 25.68it/s, epoch=37/100, avg_epoch_loss=7.41]\n",
            "100%|██████████| 50/50 [00:01<00:00, 26.63it/s, epoch=38/100, avg_epoch_loss=7.64]\n",
            "100%|██████████| 50/50 [00:01<00:00, 26.80it/s, epoch=39/100, avg_epoch_loss=7.57]\n",
            "100%|██████████| 50/50 [00:02<00:00, 24.86it/s, epoch=40/100, avg_epoch_loss=7.11]\n",
            "100%|██████████| 50/50 [00:01<00:00, 25.17it/s, epoch=41/100, avg_epoch_loss=7.23]\n",
            "100%|██████████| 50/50 [00:01<00:00, 25.62it/s, epoch=42/100, avg_epoch_loss=7.49]\n",
            "100%|██████████| 50/50 [00:01<00:00, 26.06it/s, epoch=43/100, avg_epoch_loss=7.3]\n",
            "100%|██████████| 50/50 [00:01<00:00, 25.10it/s, epoch=44/100, avg_epoch_loss=7.09]\n",
            "100%|██████████| 50/50 [00:02<00:00, 24.09it/s, epoch=45/100, avg_epoch_loss=7.33]\n",
            "100%|██████████| 50/50 [00:01<00:00, 26.39it/s, epoch=46/100, avg_epoch_loss=6.53]\n",
            "100%|██████████| 50/50 [00:01<00:00, 26.54it/s, epoch=47/100, avg_epoch_loss=6.24]\n",
            "100%|██████████| 50/50 [00:01<00:00, 25.96it/s, epoch=48/100, avg_epoch_loss=6.43]\n",
            "100%|██████████| 50/50 [00:02<00:00, 24.75it/s, epoch=49/100, avg_epoch_loss=7.12]\n",
            "100%|██████████| 50/50 [00:01<00:00, 26.19it/s, epoch=50/100, avg_epoch_loss=7.26]\n",
            "100%|██████████| 50/50 [00:01<00:00, 25.31it/s, epoch=51/100, avg_epoch_loss=7.26]\n",
            "100%|██████████| 50/50 [00:01<00:00, 26.78it/s, epoch=52/100, avg_epoch_loss=7.54]\n",
            "100%|██████████| 50/50 [00:01<00:00, 26.97it/s, epoch=53/100, avg_epoch_loss=7.33]\n",
            "100%|██████████| 50/50 [00:01<00:00, 25.26it/s, epoch=54/100, avg_epoch_loss=7.09]\n",
            "100%|██████████| 50/50 [00:01<00:00, 25.72it/s, epoch=55/100, avg_epoch_loss=6.92]\n",
            "100%|██████████| 50/50 [00:01<00:00, 25.47it/s, epoch=56/100, avg_epoch_loss=7.3]\n",
            "100%|██████████| 50/50 [00:01<00:00, 25.36it/s, epoch=57/100, avg_epoch_loss=7.34]\n",
            "100%|██████████| 50/50 [00:01<00:00, 25.74it/s, epoch=58/100, avg_epoch_loss=7.13]\n",
            "100%|██████████| 50/50 [00:01<00:00, 25.26it/s, epoch=59/100, avg_epoch_loss=7.13]\n",
            "100%|██████████| 50/50 [00:02<00:00, 24.81it/s, epoch=60/100, avg_epoch_loss=6.88]\n",
            "100%|██████████| 50/50 [00:01<00:00, 26.13it/s, epoch=61/100, avg_epoch_loss=6.13]\n",
            "100%|██████████| 50/50 [00:01<00:00, 25.79it/s, epoch=62/100, avg_epoch_loss=6.26]\n",
            "100%|██████████| 50/50 [00:01<00:00, 25.25it/s, epoch=63/100, avg_epoch_loss=6.95]\n",
            "100%|██████████| 50/50 [00:02<00:00, 24.99it/s, epoch=64/100, avg_epoch_loss=7.19]\n",
            "100%|██████████| 50/50 [00:01<00:00, 25.83it/s, epoch=65/100, avg_epoch_loss=7.23]\n",
            "100%|██████████| 50/50 [00:01<00:00, 25.63it/s, epoch=66/100, avg_epoch_loss=7.49]\n",
            "100%|██████████| 50/50 [00:01<00:00, 27.02it/s, epoch=67/100, avg_epoch_loss=7.45]\n",
            "100%|██████████| 50/50 [00:01<00:00, 25.48it/s, epoch=68/100, avg_epoch_loss=7.31]\n",
            "100%|██████████| 50/50 [00:01<00:00, 25.26it/s, epoch=69/100, avg_epoch_loss=6.9]\n",
            "100%|██████████| 50/50 [00:01<00:00, 25.36it/s, epoch=70/100, avg_epoch_loss=7.2]\n",
            "100%|██████████| 50/50 [00:01<00:00, 25.19it/s, epoch=71/100, avg_epoch_loss=7.34]\n",
            "100%|██████████| 50/50 [00:01<00:00, 26.48it/s, epoch=72/100, avg_epoch_loss=7.08]\n",
            "100%|██████████| 50/50 [00:02<00:00, 24.85it/s, epoch=73/100, avg_epoch_loss=7.08]\n",
            "100%|██████████| 50/50 [00:01<00:00, 25.79it/s, epoch=74/100, avg_epoch_loss=7.11]\n",
            "100%|██████████| 50/50 [00:01<00:00, 26.11it/s, epoch=75/100, avg_epoch_loss=6.15]\n",
            "100%|██████████| 50/50 [00:01<00:00, 26.16it/s, epoch=76/100, avg_epoch_loss=6.24]\n",
            "100%|██████████| 50/50 [00:01<00:00, 25.15it/s, epoch=77/100, avg_epoch_loss=6.62]\n",
            "100%|██████████| 50/50 [00:01<00:00, 25.28it/s, epoch=78/100, avg_epoch_loss=7.31]\n",
            "100%|██████████| 50/50 [00:01<00:00, 25.92it/s, epoch=79/100, avg_epoch_loss=7.02]\n",
            "100%|██████████| 50/50 [00:01<00:00, 25.00it/s, epoch=80/100, avg_epoch_loss=7.34]\n",
            "100%|██████████| 50/50 [00:01<00:00, 27.13it/s, epoch=81/100, avg_epoch_loss=7.66]\n"
          ],
          "name": "stderr"
        }
      ]
    },
    {
      "cell_type": "code",
      "metadata": {
        "colab_type": "code",
        "id": "wA7sOd6CUKLu",
        "outputId": "89155c09-3470-42d8-eb77-1aba734774bd",
        "colab": {
          "base_uri": "https://localhost:8080/",
          "height": 503
        }
      },
      "source": [
        "forecast_it, ts_it = make_evaluation_predictions(\n",
        "    dataset=m4_yearly_dataset.test, \n",
        "    predictor=DA_predictor, \n",
        "    num_samples=100, \n",
        ")\n",
        "\n",
        "forecasts = list(forecast_it)\n",
        "tss = list(ts_it)\n",
        "\n",
        "evaluator = Evaluator(quantiles=[0.1, 0.5, 0.9])\n",
        "agg_metrics, item_metrics = evaluator(iter(tss), iter(forecasts), num_series=len(m4_yearly_dataset.test))\n",
        "\n",
        "print(json.dumps(agg_metrics, indent=4))"
      ],
      "execution_count": 0,
      "outputs": [
        {
          "output_type": "stream",
          "text": [
            "Running evaluation: 100%|██████████| 23000/23000 [00:00<00:00, 186059.37it/s]\n"
          ],
          "name": "stderr"
        },
        {
          "output_type": "stream",
          "text": [
            "{\n",
            "    \"MSE\": 3592698.3408726887,\n",
            "    \"abs_error\": 128628600.16764832,\n",
            "    \"abs_target_sum\": 860724679.6655273,\n",
            "    \"abs_target_mean\": 6237.135359895143,\n",
            "    \"seasonal_error\": 288.79964609563865,\n",
            "    \"MASE\": 3.957290589332747,\n",
            "    \"MAPE\": 0.19593046713750686,\n",
            "    \"sMAPE\": 0.15689448032743547,\n",
            "    \"OWA\": NaN,\n",
            "    \"MSIS\": 62.54054492637989,\n",
            "    \"QuantileLoss[0.1]\": 64984800.1826233,\n",
            "    \"Coverage[0.1]\": 0.23689130434782835,\n",
            "    \"QuantileLoss[0.5]\": 128628600.15127563,\n",
            "    \"Coverage[0.5]\": 0.5956086956521757,\n",
            "    \"QuantileLoss[0.9]\": 96877857.22847137,\n",
            "    \"Coverage[0.9]\": 0.8115652173913072,\n",
            "    \"RMSE\": 1895.4414633200067,\n",
            "    \"NRMSE\": 0.3038961564803802,\n",
            "    \"ND\": 0.14944221213412012,\n",
            "    \"wQuantileLoss[0.1]\": 0.07550010092411434,\n",
            "    \"wQuantileLoss[0.5]\": 0.14944221211509814,\n",
            "    \"wQuantileLoss[0.9]\": 0.11255382762594601,\n",
            "    \"mean_wQuantileLoss\": 0.11249871355505282,\n",
            "    \"MAE_Coverage\": 0.10697826086956563\n",
            "}\n"
          ],
          "name": "stdout"
        }
      ]
    },
    {
      "cell_type": "code",
      "metadata": {
        "colab_type": "code",
        "id": "lV8g1PegUKLy",
        "colab": {}
      },
      "source": [
        ""
      ],
      "execution_count": 0,
      "outputs": []
    },
    {
      "cell_type": "markdown",
      "metadata": {
        "colab_type": "text",
        "id": "aC9YpIM1UQbJ"
      },
      "source": [
        "## traffic"
      ]
    },
    {
      "cell_type": "code",
      "metadata": {
        "colab_type": "code",
        "id": "h2uMLoCRUQbK",
        "outputId": "29ad715d-4cc9-43f8-cbae-1a2002c9ca4c",
        "colab": {
          "base_uri": "https://localhost:8080/",
          "height": 53
        }
      },
      "source": [
        "traffic_dataset = get_dataset(\"traffic\", regenerate=False)"
      ],
      "execution_count": 0,
      "outputs": [
        {
          "output_type": "stream",
          "text": [
            "saving time-series into /root/.mxnet/gluon-ts/datasets/traffic/train/data.json\n",
            "saving time-series into /root/.mxnet/gluon-ts/datasets/traffic/test/data.json\n"
          ],
          "name": "stdout"
        }
      ]
    },
    {
      "cell_type": "code",
      "metadata": {
        "colab_type": "code",
        "id": "-1JFshCqUQbM",
        "outputId": "e9eb25d2-099f-4302-f14f-97a6002f44c6",
        "colab": {
          "base_uri": "https://localhost:8080/",
          "height": 53
        }
      },
      "source": [
        "print (len(traffic_dataset.train))\n",
        "print (len(traffic_dataset.test))"
      ],
      "execution_count": 0,
      "outputs": [
        {
          "output_type": "stream",
          "text": [
            "862\n",
            "6034\n"
          ],
          "name": "stdout"
        }
      ]
    },
    {
      "cell_type": "code",
      "metadata": {
        "colab_type": "code",
        "id": "C5EDyAIYUQbP",
        "outputId": "f164c585-9e65-436f-ed43-23f10715f6e7",
        "colab": {
          "base_uri": "https://localhost:8080/",
          "height": 35
        }
      },
      "source": [
        "traffic_dataset.metadata"
      ],
      "execution_count": 0,
      "outputs": [
        {
          "output_type": "execute_result",
          "data": {
            "text/plain": [
              "MetaData(freq='H', target=None, feat_static_cat=[CategoricalFeatureInfo(name='feat_static_cat', cardinality='862')], feat_static_real=[], feat_dynamic_real=[], feat_dynamic_cat=[], prediction_length=24)"
            ]
          },
          "metadata": {
            "tags": []
          },
          "execution_count": 10
        }
      ]
    },
    {
      "cell_type": "code",
      "metadata": {
        "colab_type": "code",
        "outputId": "b1875c4a-c83a-4d09-e789-9d326d74a0ca",
        "id": "ci8ZPwSNqrim",
        "colab": {
          "base_uri": "https://localhost:8080/",
          "height": 35
        }
      },
      "source": [
        "traffic_dataset.metadata.feat_static_cat[0]"
      ],
      "execution_count": 0,
      "outputs": [
        {
          "output_type": "execute_result",
          "data": {
            "text/plain": [
              "CategoricalFeatureInfo(name='feat_static_cat', cardinality='862')"
            ]
          },
          "metadata": {
            "tags": []
          },
          "execution_count": 11
        }
      ]
    },
    {
      "cell_type": "code",
      "metadata": {
        "colab_type": "code",
        "id": "PbmxkMIrqriq",
        "colab": {}
      },
      "source": [
        "car = [int(traffic_dataset.metadata.feat_static_cat[0].cardinality)]"
      ],
      "execution_count": 0,
      "outputs": []
    },
    {
      "cell_type": "code",
      "metadata": {
        "colab_type": "code",
        "id": "DJC6OPsyUQbT",
        "outputId": "c30c41fe-c102-4025-a427-fae18eadbb92",
        "colab": {
          "base_uri": "https://localhost:8080/",
          "height": 35
        }
      },
      "source": [
        "next(iter(traffic_dataset.train)).keys()"
      ],
      "execution_count": 0,
      "outputs": [
        {
          "output_type": "execute_result",
          "data": {
            "text/plain": [
              "dict_keys(['start', 'target', 'feat_static_cat', 'item_id', 'source'])"
            ]
          },
          "metadata": {
            "tags": []
          },
          "execution_count": 13
        }
      ]
    },
    {
      "cell_type": "code",
      "metadata": {
        "colab_type": "code",
        "id": "B4zoldaEUQbe",
        "colab": {}
      },
      "source": [
        "# https://gluon-ts.mxnet.io/api/gluonts/gluonts.model.deepar.html\n",
        "DA_estimator = DeepAREstimator(\n",
        "    freq=traffic_dataset.metadata.freq, \n",
        "    prediction_length=traffic_dataset.metadata.prediction_length,\n",
        "    trainer = deepar_trainer, # (default: Trainer())\n",
        "    context_length=None, # (default: None, in which case context_length = prediction_length)\n",
        "    num_layers=2, # (default: 2)\n",
        "    num_cells=40, # (default: 40)\n",
        "    cell_type='lstm', # (default: ‘lstm’)\n",
        "    dropout_rate=0.1, # (default: 0.1)\n",
        "    use_feat_dynamic_real=False, # (default: False)\n",
        "    use_feat_static_cat=True, # (default: False)\n",
        "    use_feat_static_real=False, # (default: False)\n",
        "    cardinality=car, # (default: None)\n",
        "    #embedding_dimension=[20], # (default: [min(50, (cat+1)//2) for cat in cardinality])\n",
        "    distr_output = StudentTOutput(), # (default: StudentTOutput())\n",
        "    scaling=True, # (default: true)\n",
        "    lags_seq=None, # (default: None, in which case these are automatically determined based on freq)\n",
        "    time_features=None, # (default: None, in which case these are automatically determined based on freq)\n",
        "    num_parallel_samples=100, # (default: 100)\n",
        ")"
      ],
      "execution_count": 0,
      "outputs": []
    },
    {
      "cell_type": "code",
      "metadata": {
        "colab_type": "code",
        "id": "SJ-eJ1uYUQbh",
        "outputId": "be836cb4-285f-47cb-c674-94da9b0d6c27",
        "colab": {
          "base_uri": "https://localhost:8080/",
          "height": 1000
        }
      },
      "source": [
        "DA_predictor = DA_estimator.train(traffic_dataset.train)"
      ],
      "execution_count": 0,
      "outputs": [
        {
          "output_type": "stream",
          "text": [
            "\r  0%|          | 0/50 [00:00<?, ?it/s]"
          ],
          "name": "stderr"
        },
        {
          "output_type": "stream",
          "text": [
            "learning rate from ``lr_scheduler`` has been overwritten by ``learning_rate`` in optimizer.\n"
          ],
          "name": "stdout"
        },
        {
          "output_type": "stream",
          "text": [
            "100%|██████████| 50/50 [00:11<00:00,  4.53it/s, epoch=1/100, avg_epoch_loss=-2.42]\n",
            "100%|██████████| 50/50 [00:10<00:00,  4.68it/s, epoch=2/100, avg_epoch_loss=-3.25]\n",
            "100%|██████████| 50/50 [00:11<00:00,  4.49it/s, epoch=3/100, avg_epoch_loss=-3.36]\n",
            "100%|██████████| 50/50 [00:11<00:00,  4.52it/s, epoch=4/100, avg_epoch_loss=-3.41]\n",
            "100%|██████████| 50/50 [00:11<00:00,  4.51it/s, epoch=5/100, avg_epoch_loss=-3.52]\n",
            "100%|██████████| 50/50 [00:11<00:00,  4.54it/s, epoch=6/100, avg_epoch_loss=-3.57]\n",
            "100%|██████████| 50/50 [00:11<00:00,  4.53it/s, epoch=7/100, avg_epoch_loss=-3.62]\n",
            "100%|██████████| 50/50 [00:10<00:00,  4.58it/s, epoch=8/100, avg_epoch_loss=-3.64]\n",
            "100%|██████████| 50/50 [00:10<00:00,  4.60it/s, epoch=9/100, avg_epoch_loss=-3.58]\n",
            "100%|██████████| 50/50 [00:11<00:00,  4.46it/s, epoch=10/100, avg_epoch_loss=-3.56]\n",
            "100%|██████████| 50/50 [00:11<00:00,  4.48it/s, epoch=11/100, avg_epoch_loss=-3.54]\n",
            "100%|██████████| 50/50 [00:10<00:00,  4.72it/s, epoch=12/100, avg_epoch_loss=-3.72]\n",
            "100%|██████████| 50/50 [00:11<00:00,  4.44it/s, epoch=13/100, avg_epoch_loss=-3.75]\n",
            "100%|██████████| 50/50 [00:10<00:00,  4.56it/s, epoch=14/100, avg_epoch_loss=-3.55]\n",
            "100%|██████████| 50/50 [00:12<00:00,  4.10it/s, epoch=15/100, avg_epoch_loss=-3.76]\n",
            "100%|██████████| 50/50 [00:12<00:00,  3.94it/s, epoch=16/100, avg_epoch_loss=-3.69]\n",
            "100%|██████████| 50/50 [00:10<00:00,  4.58it/s, epoch=17/100, avg_epoch_loss=-3.61]\n",
            "100%|██████████| 50/50 [00:11<00:00,  4.55it/s, epoch=18/100, avg_epoch_loss=-3.75]\n",
            "100%|██████████| 50/50 [00:10<00:00,  4.62it/s, epoch=19/100, avg_epoch_loss=-3.68]\n",
            "100%|██████████| 50/50 [00:10<00:00,  4.56it/s, epoch=20/100, avg_epoch_loss=-3.72]\n",
            "100%|██████████| 50/50 [00:11<00:00,  4.48it/s, epoch=21/100, avg_epoch_loss=-3.71]\n",
            "100%|██████████| 50/50 [00:11<00:00,  4.47it/s, epoch=22/100, avg_epoch_loss=-3.72]\n",
            "100%|██████████| 50/50 [00:11<00:00,  4.43it/s, epoch=23/100, avg_epoch_loss=-3.83]\n",
            "100%|██████████| 50/50 [00:10<00:00,  4.58it/s, epoch=24/100, avg_epoch_loss=-3.8] \n",
            "100%|██████████| 50/50 [00:10<00:00,  4.59it/s, epoch=25/100, avg_epoch_loss=-3.78]\n",
            "100%|██████████| 50/50 [00:10<00:00,  4.63it/s, epoch=26/100, avg_epoch_loss=-3.88]\n",
            "100%|██████████| 50/50 [00:10<00:00,  4.56it/s, epoch=27/100, avg_epoch_loss=-3.75]\n",
            "100%|██████████| 50/50 [00:11<00:00,  4.53it/s, epoch=28/100, avg_epoch_loss=-3.57]\n",
            "100%|██████████| 50/50 [00:11<00:00,  4.48it/s, epoch=29/100, avg_epoch_loss=-3.77]\n",
            "100%|██████████| 50/50 [00:10<00:00,  4.67it/s, epoch=30/100, avg_epoch_loss=-3.81]\n",
            "100%|██████████| 50/50 [00:10<00:00,  4.63it/s, epoch=31/100, avg_epoch_loss=-3.84]\n",
            "100%|██████████| 50/50 [00:11<00:00,  4.52it/s, epoch=32/100, avg_epoch_loss=-3.72]\n",
            "100%|██████████| 50/50 [00:11<00:00,  4.51it/s, epoch=33/100, avg_epoch_loss=-3.74]\n",
            "100%|██████████| 50/50 [00:10<00:00,  4.70it/s, epoch=34/100, avg_epoch_loss=-3.77]\n",
            "100%|██████████| 50/50 [00:11<00:00,  4.44it/s, epoch=35/100, avg_epoch_loss=-3.66]\n",
            "100%|██████████| 50/50 [00:10<00:00,  4.62it/s, epoch=36/100, avg_epoch_loss=-3.67]\n",
            "100%|██████████| 50/50 [00:11<00:00,  4.48it/s, epoch=37/100, avg_epoch_loss=-3.85]\n",
            "100%|██████████| 50/50 [00:11<00:00,  4.45it/s, epoch=38/100, avg_epoch_loss=-3.84]\n",
            "100%|██████████| 50/50 [00:10<00:00,  4.57it/s, epoch=39/100, avg_epoch_loss=-3.89]\n",
            "100%|██████████| 50/50 [00:11<00:00,  4.47it/s, epoch=40/100, avg_epoch_loss=-3.9] \n",
            "100%|██████████| 50/50 [00:11<00:00,  4.49it/s, epoch=41/100, avg_epoch_loss=-3.8] \n",
            "100%|██████████| 50/50 [00:11<00:00,  4.50it/s, epoch=42/100, avg_epoch_loss=-3.79]\n",
            "100%|██████████| 50/50 [00:11<00:00,  4.50it/s, epoch=43/100, avg_epoch_loss=-3.86]\n",
            "100%|██████████| 50/50 [00:10<00:00,  4.62it/s, epoch=44/100, avg_epoch_loss=-3.88]\n",
            "100%|██████████| 50/50 [00:11<00:00,  4.46it/s, epoch=45/100, avg_epoch_loss=-3.82]\n",
            "100%|██████████| 50/50 [00:11<00:00,  4.48it/s, epoch=46/100, avg_epoch_loss=-3.84]\n",
            "100%|██████████| 50/50 [00:10<00:00,  4.61it/s, epoch=47/100, avg_epoch_loss=-3.86]\n",
            "100%|██████████| 50/50 [00:10<00:00,  4.63it/s, epoch=48/100, avg_epoch_loss=-3.8]\n",
            "100%|██████████| 50/50 [00:11<00:00,  4.52it/s, epoch=49/100, avg_epoch_loss=-3.87]\n",
            "100%|██████████| 50/50 [00:11<00:00,  4.50it/s, epoch=50/100, avg_epoch_loss=-3.92]\n",
            "100%|██████████| 50/50 [00:10<00:00,  4.59it/s, epoch=51/100, avg_epoch_loss=-3.86]\n",
            "100%|██████████| 50/50 [00:11<00:00,  4.41it/s, epoch=52/100, avg_epoch_loss=-3.83]\n",
            "100%|██████████| 50/50 [00:10<00:00,  4.61it/s, epoch=53/100, avg_epoch_loss=-3.91]\n",
            "100%|██████████| 50/50 [00:10<00:00,  4.61it/s, epoch=54/100, avg_epoch_loss=-3.95]\n",
            "100%|██████████| 50/50 [00:10<00:00,  4.55it/s, epoch=55/100, avg_epoch_loss=-3.79]\n",
            "100%|██████████| 50/50 [00:11<00:00,  4.49it/s, epoch=56/100, avg_epoch_loss=-3.87]\n",
            "100%|██████████| 50/50 [00:11<00:00,  4.40it/s, epoch=57/100, avg_epoch_loss=-3.86]\n",
            "100%|██████████| 50/50 [00:10<00:00,  4.56it/s, epoch=58/100, avg_epoch_loss=-3.91]\n",
            "100%|██████████| 50/50 [00:11<00:00,  4.47it/s, epoch=59/100, avg_epoch_loss=-3.85]\n",
            "100%|██████████| 50/50 [00:11<00:00,  4.54it/s, epoch=60/100, avg_epoch_loss=-3.86]\n",
            "100%|██████████| 50/50 [00:10<00:00,  4.65it/s, epoch=61/100, avg_epoch_loss=-3.93]\n",
            "100%|██████████| 50/50 [00:11<00:00,  4.49it/s, epoch=62/100, avg_epoch_loss=-3.87]\n",
            "100%|██████████| 50/50 [00:11<00:00,  4.51it/s, epoch=63/100, avg_epoch_loss=-3.91]\n",
            "100%|██████████| 50/50 [00:10<00:00,  4.64it/s, epoch=64/100, avg_epoch_loss=-3.9]\n",
            "100%|██████████| 50/50 [00:11<00:00,  4.49it/s, epoch=65/100, avg_epoch_loss=-3.89]\n",
            "100%|██████████| 50/50 [00:10<00:00,  4.60it/s, epoch=66/100, avg_epoch_loss=-3.91]\n",
            "100%|██████████| 50/50 [00:10<00:00,  4.56it/s, epoch=67/100, avg_epoch_loss=-3.93]\n",
            "100%|██████████| 50/50 [00:11<00:00,  4.36it/s, epoch=68/100, avg_epoch_loss=-3.94]\n",
            "100%|██████████| 50/50 [00:10<00:00,  4.65it/s, epoch=69/100, avg_epoch_loss=-3.95]\n",
            "100%|██████████| 50/50 [00:11<00:00,  4.20it/s, epoch=70/100, avg_epoch_loss=-3.93]\n",
            "100%|██████████| 50/50 [00:12<00:00,  3.88it/s, epoch=71/100, avg_epoch_loss=-3.95]\n",
            "100%|██████████| 50/50 [00:11<00:00,  4.40it/s, epoch=72/100, avg_epoch_loss=-3.91]\n",
            "100%|██████████| 50/50 [00:11<00:00,  4.50it/s, epoch=73/100, avg_epoch_loss=-3.98]\n",
            "100%|██████████| 50/50 [00:11<00:00,  4.50it/s, epoch=74/100, avg_epoch_loss=-3.94]\n",
            "100%|██████████| 50/50 [00:10<00:00,  4.76it/s, epoch=75/100, avg_epoch_loss=-3.95]\n",
            "100%|██████████| 50/50 [00:11<00:00,  4.47it/s, epoch=76/100, avg_epoch_loss=-3.98]\n",
            "100%|██████████| 50/50 [00:10<00:00,  4.67it/s, epoch=77/100, avg_epoch_loss=-3.93]\n",
            "100%|██████████| 50/50 [00:11<00:00,  4.43it/s, epoch=78/100, avg_epoch_loss=-3.94]\n",
            "100%|██████████| 50/50 [00:11<00:00,  4.42it/s, epoch=79/100, avg_epoch_loss=-3.93]\n",
            "100%|██████████| 50/50 [00:10<00:00,  4.60it/s, epoch=80/100, avg_epoch_loss=-3.97]\n",
            "100%|██████████| 50/50 [00:11<00:00,  4.52it/s, epoch=81/100, avg_epoch_loss=-3.99]\n",
            "100%|██████████| 50/50 [00:11<00:00,  4.53it/s, epoch=82/100, avg_epoch_loss=-3.95]\n",
            "100%|██████████| 50/50 [00:10<00:00,  4.58it/s, epoch=83/100, avg_epoch_loss=-4]   \n",
            "100%|██████████| 50/50 [00:11<00:00,  4.44it/s, epoch=84/100, avg_epoch_loss=-3.99]\n",
            "100%|██████████| 50/50 [00:10<00:00,  4.56it/s, epoch=85/100, avg_epoch_loss=-3.93]\n",
            "100%|██████████| 50/50 [00:11<00:00,  4.43it/s, epoch=86/100, avg_epoch_loss=-3.93]\n",
            "100%|██████████| 50/50 [00:11<00:00,  4.45it/s, epoch=87/100, avg_epoch_loss=-3.97]\n",
            "100%|██████████| 50/50 [00:10<00:00,  4.64it/s, epoch=88/100, avg_epoch_loss=-3.94]\n",
            "100%|██████████| 50/50 [00:11<00:00,  4.47it/s, epoch=89/100, avg_epoch_loss=-3.97]\n",
            "100%|██████████| 50/50 [00:10<00:00,  4.61it/s, epoch=90/100, avg_epoch_loss=-3.96]\n",
            "100%|██████████| 50/50 [00:10<00:00,  4.64it/s, epoch=91/100, avg_epoch_loss=-3.95]\n",
            "100%|██████████| 50/50 [00:11<00:00,  4.38it/s, epoch=92/100, avg_epoch_loss=-3.92]\n",
            "100%|██████████| 50/50 [00:11<00:00,  4.51it/s, epoch=93/100, avg_epoch_loss=-3.95]\n",
            "100%|██████████| 50/50 [00:11<00:00,  4.47it/s, epoch=94/100, avg_epoch_loss=-3.98]\n",
            "100%|██████████| 50/50 [00:11<00:00,  4.50it/s, epoch=95/100, avg_epoch_loss=-3.96]\n",
            "100%|██████████| 50/50 [00:11<00:00,  4.44it/s, epoch=96/100, avg_epoch_loss=-3.95]\n",
            "100%|██████████| 50/50 [00:11<00:00,  4.44it/s, epoch=97/100, avg_epoch_loss=-3.96]\n",
            "100%|██████████| 50/50 [00:11<00:00,  4.44it/s, epoch=98/100, avg_epoch_loss=-3.95]\n",
            "100%|██████████| 50/50 [00:11<00:00,  4.48it/s, epoch=99/100, avg_epoch_loss=-3.96]\n",
            "100%|██████████| 50/50 [00:11<00:00,  4.36it/s, epoch=100/100, avg_epoch_loss=-3.95]\n"
          ],
          "name": "stderr"
        }
      ]
    },
    {
      "cell_type": "code",
      "metadata": {
        "colab_type": "code",
        "id": "2uR2JppRUQbk",
        "outputId": "bdb47dff-7833-4490-fdd3-89dcb59e33b3",
        "colab": {
          "base_uri": "https://localhost:8080/",
          "height": 503
        }
      },
      "source": [
        "forecast_it, ts_it = make_evaluation_predictions(\n",
        "    dataset=traffic_dataset.test, \n",
        "    predictor=DA_predictor, \n",
        "    num_samples=100, \n",
        ")\n",
        "\n",
        "forecasts = list(forecast_it)\n",
        "tss = list(ts_it)\n",
        "\n",
        "evaluator = Evaluator(quantiles=[0.1, 0.5, 0.9])\n",
        "agg_metrics, item_metrics = evaluator(iter(tss), iter(forecasts), num_series=len(traffic_dataset.test))\n",
        "\n",
        "print(json.dumps(agg_metrics, indent=4))"
      ],
      "execution_count": 0,
      "outputs": [
        {
          "output_type": "stream",
          "text": [
            "Running evaluation: 100%|██████████| 6034/6034 [00:00<00:00, 68520.80it/s]\n"
          ],
          "name": "stderr"
        },
        {
          "output_type": "stream",
          "text": [
            "{\n",
            "    \"MSE\": 0.000576183923502055,\n",
            "    \"abs_error\": 1338.9888566527516,\n",
            "    \"abs_target_sum\": 8672.5710073933,\n",
            "    \"abs_target_mean\": 0.05988682885450042,\n",
            "    \"seasonal_error\": 0.015220711169889612,\n",
            "    \"MASE\": 0.5944441305347573,\n",
            "    \"MAPE\": 0.22375201176215057,\n",
            "    \"sMAPE\": 0.16246708424071443,\n",
            "    \"OWA\": NaN,\n",
            "    \"MSIS\": 8.399648532411451,\n",
            "    \"QuantileLoss[0.1]\": 592.308628594046,\n",
            "    \"Coverage[0.1]\": 0.11006380510440854,\n",
            "    \"QuantileLoss[0.5]\": 1338.9888563205768,\n",
            "    \"Coverage[0.5]\": 0.6581938459838709,\n",
            "    \"QuantileLoss[0.9]\": 926.0256117628236,\n",
            "    \"Coverage[0.9]\": 0.9301803668102988,\n",
            "    \"RMSE\": 0.024003831433795208,\n",
            "    \"NRMSE\": 0.40081987797541146,\n",
            "    \"ND\": 0.1543935305356709,\n",
            "    \"wQuantileLoss[0.1]\": 0.068296774749853,\n",
            "    \"wQuantileLoss[0.5]\": 0.15439353049736912,\n",
            "    \"wQuantileLoss[0.9]\": 0.10677636550607586,\n",
            "    \"mean_wQuantileLoss\": 0.10982222358443265,\n",
            "    \"MAE_Coverage\": 0.06614600596619273\n",
            "}\n"
          ],
          "name": "stdout"
        }
      ]
    },
    {
      "cell_type": "code",
      "metadata": {
        "colab_type": "code",
        "id": "ex5nwlX0UQbm",
        "colab": {}
      },
      "source": [
        ""
      ],
      "execution_count": 0,
      "outputs": []
    },
    {
      "cell_type": "markdown",
      "metadata": {
        "colab_type": "text",
        "id": "CH6VUhAEuxCA"
      },
      "source": [
        "## electricity2"
      ]
    },
    {
      "cell_type": "code",
      "metadata": {
        "colab_type": "code",
        "id": "t93n5VwXuxCE",
        "colab": {}
      },
      "source": [
        "elec_dataset = get_dataset(\"electricity\", regenerate=False)"
      ],
      "execution_count": 0,
      "outputs": []
    },
    {
      "cell_type": "code",
      "metadata": {
        "colab_type": "code",
        "id": "SUbU7z11uxCL",
        "colab": {}
      },
      "source": [
        "print (len(elec_dataset.train))\n",
        "print (len(elec_dataset.test))"
      ],
      "execution_count": 0,
      "outputs": []
    },
    {
      "cell_type": "code",
      "metadata": {
        "colab_type": "code",
        "id": "642O_loAuxCV",
        "colab": {}
      },
      "source": [
        "elec_dataset.metadata"
      ],
      "execution_count": 0,
      "outputs": []
    },
    {
      "cell_type": "code",
      "metadata": {
        "colab_type": "code",
        "id": "FMo4KfffuxCY",
        "colab": {}
      },
      "source": [
        "elec_dataset.metadata.feat_static_cat[0]"
      ],
      "execution_count": 0,
      "outputs": []
    },
    {
      "cell_type": "code",
      "metadata": {
        "colab_type": "code",
        "id": "fariSYCquxCc",
        "colab": {}
      },
      "source": [
        "car = [int(elec_dataset.metadata.feat_static_cat[0].cardinality)]"
      ],
      "execution_count": 0,
      "outputs": []
    },
    {
      "cell_type": "code",
      "metadata": {
        "colab_type": "code",
        "id": "edFWT2mMuxCg",
        "colab": {}
      },
      "source": [
        "next(iter(elec_dataset.train)).keys()"
      ],
      "execution_count": 0,
      "outputs": []
    },
    {
      "cell_type": "code",
      "metadata": {
        "colab_type": "code",
        "id": "O_3Z_58zuxCk",
        "colab": {}
      },
      "source": [
        "test_ds_24 = ListDataset([{FieldName.START: entry['start'],\n",
        "                        FieldName.TARGET: entry['target'],\n",
        "                        FieldName.FEAT_STATIC_CAT: entry['feat_static_cat'],\n",
        "                        FieldName.ITEM_ID: entry['item_id'],\n",
        "                        }\n",
        "                       for entry in iter(elec_dataset.test) if len(entry['target']) == 21068\n",
        "                       ],\n",
        "                     freq=elec_dataset.metadata.freq)"
      ],
      "execution_count": 0,
      "outputs": []
    },
    {
      "cell_type": "code",
      "metadata": {
        "colab_type": "code",
        "id": "ls-0AiDuuxCq",
        "colab": {}
      },
      "source": [
        "# https://gluon-ts.mxnet.io/api/gluonts/gluonts.trainer.html\n",
        "deepar_trainer=Trainer(\n",
        "    ctx = 'cpu',\n",
        "    epochs=100, # (default: 100).\n",
        "    batch_size=32,# (default: 32).\n",
        "    num_batches_per_epoch=50, # (default: 50).\n",
        "    learning_rate=0.001, # (default:  10^−3 ).\n",
        "    learning_rate_decay_factor=0.5, # (default: 0.5).\n",
        "    patience = 10, # (default: 10).\n",
        "    minimum_learning_rate=5e-05, # (default:  5⋅10^−5 ).\n",
        "    clip_gradient = 10.0, # (default: 10).\n",
        "    weight_decay=1e-08, #  (default  10^−8 ).\n",
        "    init='xavier', #  (default: “xavier”).\n",
        "    hybridize=True, \n",
        "    )"
      ],
      "execution_count": 0,
      "outputs": []
    },
    {
      "cell_type": "code",
      "metadata": {
        "colab_type": "code",
        "id": "XFpzcZw9uxCx",
        "colab": {}
      },
      "source": [
        "# https://gluon-ts.mxnet.io/api/gluonts/gluonts.model.deepar.html\n",
        "DA_estimator = DeepAREstimator(\n",
        "    freq=elec_dataset.metadata.freq, \n",
        "    prediction_length=elec_dataset.metadata.prediction_length,\n",
        "    trainer = deepar_trainer, # (default: Trainer())\n",
        "    context_length=None, # (default: None, in which case context_length = prediction_length)\n",
        "    num_layers=2, # (default: 2)\n",
        "    num_cells=40, # (default: 40)\n",
        "    cell_type='lstm', # (default: ‘lstm’)\n",
        "    dropout_rate=0.1, # (default: 0.1)\n",
        "    use_feat_dynamic_real=False, # (default: False)\n",
        "    use_feat_static_cat=True, # (default: False)\n",
        "    use_feat_static_real=False, # (default: False)\n",
        "    cardinality=car, # (default: None)\n",
        "    #embedding_dimension=[20], # (default: [min(50, (cat+1)//2) for cat in cardinality])\n",
        "    distr_output = StudentTOutput(), # (default: StudentTOutput())\n",
        "    scaling=True, # (default: true)\n",
        "    lags_seq=None, # (default: None, in which case these are automatically determined based on freq)\n",
        "    time_features=None, # (default: None, in which case these are automatically determined based on freq)\n",
        "    num_parallel_samples=100, # (default: 100)\n",
        ")"
      ],
      "execution_count": 0,
      "outputs": []
    },
    {
      "cell_type": "code",
      "metadata": {
        "colab_type": "code",
        "id": "FFh2-ax_uxCz",
        "colab": {}
      },
      "source": [
        "DA_predictor = DA_estimator.train(elec_dataset.train)"
      ],
      "execution_count": 0,
      "outputs": []
    },
    {
      "cell_type": "code",
      "metadata": {
        "colab_type": "code",
        "id": "y96-tuAkuxC1",
        "colab": {}
      },
      "source": [
        "forecast_it, ts_it = make_evaluation_predictions(\n",
        "    dataset=elec_dataset.test, \n",
        "    predictor=DA_predictor, \n",
        "    num_samples=100, \n",
        ")\n",
        "\n",
        "forecasts = list(forecast_it)\n",
        "tss = list(ts_it)\n",
        "\n",
        "evaluator = Evaluator(quantiles=[0.1, 0.5, 0.9])\n",
        "agg_metrics, item_metrics = evaluator(iter(tss), iter(forecasts), num_series=len(elec_dataset.test))\n",
        "\n",
        "print(json.dumps(agg_metrics, indent=4))"
      ],
      "execution_count": 0,
      "outputs": []
    },
    {
      "cell_type": "code",
      "metadata": {
        "colab_type": "code",
        "id": "5kBvHcGFuxC4",
        "colab": {}
      },
      "source": [
        "forecast_it, ts_it = make_evaluation_predictions(\n",
        "    dataset=test_ds_24, \n",
        "    predictor=DA_predictor, \n",
        "    num_samples=100, \n",
        ")\n",
        "\n",
        "forecasts = list(forecast_it)\n",
        "tss = list(ts_it)\n",
        "\n",
        "evaluator = Evaluator(quantiles=[0.1, 0.5, 0.9])\n",
        "agg_metrics, item_metrics = evaluator(iter(tss), iter(forecasts), num_series=len(test_ds_24))\n",
        "\n",
        "print(json.dumps(agg_metrics, indent=4))"
      ],
      "execution_count": 0,
      "outputs": []
    },
    {
      "cell_type": "code",
      "metadata": {
        "colab_type": "code",
        "id": "mx1f5qu3uxC7",
        "colab": {}
      },
      "source": [
        "forecast_it, ts_it = make_evaluation_predictions(\n",
        "    dataset=test_ds_24, \n",
        "    predictor=DA_predictor, \n",
        "    num_samples=100, \n",
        ")\n",
        "\n",
        "forecasts = list(forecast_it)\n",
        "tss = list(ts_it)\n",
        "\n",
        "evaluator = Evaluator(quantiles=[0.1, 0.5, 0.9])\n",
        "agg_metrics, item_metrics = evaluator(iter(tss), iter(forecasts), num_series=len(test_ds_24))\n",
        "\n",
        "print(json.dumps(agg_metrics, indent=4))"
      ],
      "execution_count": 0,
      "outputs": []
    },
    {
      "cell_type": "code",
      "metadata": {
        "id": "1QXi1wchfaHT",
        "colab_type": "code",
        "colab": {}
      },
      "source": [
        ""
      ],
      "execution_count": 0,
      "outputs": []
    }
  ]
}