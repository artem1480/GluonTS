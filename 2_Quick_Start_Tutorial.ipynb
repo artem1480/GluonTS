{
  "nbformat": 4,
  "nbformat_minor": 0,
  "metadata": {
    "colab": {
      "name": "2. Quick Start Tutorial",
      "provenance": [],
      "collapsed_sections": [],
      "include_colab_link": true
    },
    "kernelspec": {
      "name": "python3",
      "display_name": "Python 3"
    },
    "accelerator": "GPU"
  },
  "cells": [
    {
      "cell_type": "markdown",
      "metadata": {
        "id": "view-in-github",
        "colab_type": "text"
      },
      "source": [
        "<a href=\"https://colab.research.google.com/github/iskra3138/GluonTS/blob/master/2_Quick_Start_Tutorial.ipynb\" target=\"_parent\"><img src=\"https://colab.research.google.com/assets/colab-badge.svg\" alt=\"Open In Colab\"/></a>"
      ]
    },
    {
      "cell_type": "markdown",
      "metadata": {
        "id": "uljkf5zRFS8f",
        "colab_type": "text"
      },
      "source": [
        "Ref. https://gluon-ts.mxnet.io/examples/basic_forecasting_tutorial/tutorial.html"
      ]
    },
    {
      "cell_type": "markdown",
      "metadata": {
        "id": "MtkVPqoH9Rfy",
        "colab_type": "text"
      },
      "source": [
        "# 환경 구현"
      ]
    },
    {
      "cell_type": "markdown",
      "metadata": {
        "id": "-CSLjjP49WWM",
        "colab_type": "text"
      },
      "source": [
        "Colab에서 어떤 GPU가 할당되었는 지 확인"
      ]
    },
    {
      "cell_type": "code",
      "metadata": {
        "id": "WQ0D8LcKy2vu",
        "colab_type": "code",
        "outputId": "b3b6a6a6-aa08-4de2-a1d2-d3a519aae19c",
        "colab": {
          "base_uri": "https://localhost:8080/",
          "height": 302
        }
      },
      "source": [
        "!nvidia-smi"
      ],
      "execution_count": 1,
      "outputs": [
        {
          "output_type": "stream",
          "text": [
            "Tue Apr 21 04:54:09 2020       \n",
            "+-----------------------------------------------------------------------------+\n",
            "| NVIDIA-SMI 440.64.00    Driver Version: 418.67       CUDA Version: 10.1     |\n",
            "|-------------------------------+----------------------+----------------------+\n",
            "| GPU  Name        Persistence-M| Bus-Id        Disp.A | Volatile Uncorr. ECC |\n",
            "| Fan  Temp  Perf  Pwr:Usage/Cap|         Memory-Usage | GPU-Util  Compute M. |\n",
            "|===============================+======================+======================|\n",
            "|   0  Tesla P4            Off  | 00000000:00:04.0 Off |                    0 |\n",
            "| N/A   42C    P8     7W /  75W |      0MiB /  7611MiB |      0%      Default |\n",
            "+-------------------------------+----------------------+----------------------+\n",
            "                                                                               \n",
            "+-----------------------------------------------------------------------------+\n",
            "| Processes:                                                       GPU Memory |\n",
            "|  GPU       PID   Type   Process name                             Usage      |\n",
            "|=============================================================================|\n",
            "|  No running processes found                                                 |\n",
            "+-----------------------------------------------------------------------------+\n"
          ],
          "name": "stdout"
        }
      ]
    },
    {
      "cell_type": "markdown",
      "metadata": {
        "id": "fZfXmDXu9b8y",
        "colab_type": "text"
      },
      "source": [
        "MXNET 설치 \n",
        "- GluonTS는 Amazon이 2019년 공개한 Tool로서 MXNET을 backbone으로 사용\n",
        "  - https://aws.amazon.com/blogs/machine-learning/creating-neural-time-series-models-with-gluon-time-series/\n",
        "\n",
        "- 어떤 버전의 MXNET을 설치해야 하는 지는 아래 링크 참고\n",
        "  - https://mxnet.apache.org/get_started/?platform=linux&language=python&processor=gpu&environ=pip&"
      ]
    },
    {
      "cell_type": "code",
      "metadata": {
        "id": "XpYiCxWFwrdF",
        "colab_type": "code",
        "outputId": "def52b9b-f939-453c-a1e8-b2e7699c8707",
        "colab": {
          "base_uri": "https://localhost:8080/",
          "height": 306
        }
      },
      "source": [
        "# nvidia-smi로 CUDA Version 확인하고 해당되는 MXNET 설치\n",
        "!pip install mxnet-cu101"
      ],
      "execution_count": 2,
      "outputs": [
        {
          "output_type": "stream",
          "text": [
            "Collecting mxnet-cu101\n",
            "\u001b[?25l  Downloading https://files.pythonhosted.org/packages/54/b1/7d01abca10eef104296d2b3f0c59a7dda7573126d079c9e2609e6c17993b/mxnet_cu101-1.6.0-py2.py3-none-manylinux1_x86_64.whl (710.5MB)\n",
            "\u001b[K     |████████████████████████████████| 710.5MB 24kB/s \n",
            "\u001b[?25hRequirement already satisfied: requests<3,>=2.20.0 in /usr/local/lib/python3.6/dist-packages (from mxnet-cu101) (2.21.0)\n",
            "Requirement already satisfied: numpy<2.0.0,>1.16.0 in /usr/local/lib/python3.6/dist-packages (from mxnet-cu101) (1.18.2)\n",
            "Collecting graphviz<0.9.0,>=0.8.1\n",
            "  Downloading https://files.pythonhosted.org/packages/53/39/4ab213673844e0c004bed8a0781a0721a3f6bb23eb8854ee75c236428892/graphviz-0.8.4-py2.py3-none-any.whl\n",
            "Requirement already satisfied: idna<2.9,>=2.5 in /usr/local/lib/python3.6/dist-packages (from requests<3,>=2.20.0->mxnet-cu101) (2.8)\n",
            "Requirement already satisfied: certifi>=2017.4.17 in /usr/local/lib/python3.6/dist-packages (from requests<3,>=2.20.0->mxnet-cu101) (2020.4.5.1)\n",
            "Requirement already satisfied: chardet<3.1.0,>=3.0.2 in /usr/local/lib/python3.6/dist-packages (from requests<3,>=2.20.0->mxnet-cu101) (3.0.4)\n",
            "Requirement already satisfied: urllib3<1.25,>=1.21.1 in /usr/local/lib/python3.6/dist-packages (from requests<3,>=2.20.0->mxnet-cu101) (1.24.3)\n",
            "Installing collected packages: graphviz, mxnet-cu101\n",
            "  Found existing installation: graphviz 0.10.1\n",
            "    Uninstalling graphviz-0.10.1:\n",
            "      Successfully uninstalled graphviz-0.10.1\n",
            "Successfully installed graphviz-0.8.4 mxnet-cu101-1.6.0\n"
          ],
          "name": "stdout"
        }
      ]
    },
    {
      "cell_type": "markdown",
      "metadata": {
        "id": "rYFkgZlI-Tdt",
        "colab_type": "text"
      },
      "source": [
        "colab에서 GluoTS Tutorial을 이용할 때 최신 pydantic package가 설치되면 아래 에러가 나오므로 1.4로 설치해줌\n",
        "- TypeError: create_model() takes exactly 1 positional argument (0 given)\n"
      ]
    },
    {
      "cell_type": "code",
      "metadata": {
        "id": "nxlzLo-B0F7y",
        "colab_type": "code",
        "colab": {}
      },
      "source": [
        "!pip install pydantic==1.4"
      ],
      "execution_count": 0,
      "outputs": []
    },
    {
      "cell_type": "markdown",
      "metadata": {
        "id": "KrgwGyjH-_1K",
        "colab_type": "text"
      },
      "source": [
        "GluonTS를 설치함\n",
        "- 설치가 완료되면 Restart Runtime Box를 클릭하여 Runtime을 재시작하고 Tutorial을 시작"
      ]
    },
    {
      "cell_type": "code",
      "metadata": {
        "id": "O45K03dixX4N",
        "colab_type": "code",
        "colab": {}
      },
      "source": [
        "!pip install gluonts"
      ],
      "execution_count": 0,
      "outputs": []
    },
    {
      "cell_type": "markdown",
      "metadata": {
        "id": "g1Bm-RjPFH7p",
        "colab_type": "text"
      },
      "source": [
        "# Quick Start Tutorial\n",
        "\n",
        "The GluonTS toolkit contains components and tools for building time series models using MXNet. The models that are currently included are forecasting models but the components also support other time series use cases, such as classification or anomaly detection.\n",
        "\n",
        "The toolkit is not intended as a forecasting solution for businesses or end users but it rather targets scientists and engineers who want to tweak algorithms or build and experiment with their own models.  \n",
        "\n",
        "GluonTS contains:\n",
        "\n",
        "* Components for building new models (likelihoods, feature processing pipelines, calendar features etc.)\n",
        "* Data loading and processing\n",
        "* A number of pre-built models\n",
        "* Plotting and evaluation facilities\n",
        "* Artificial and real datasets (only external datasets with blessed license)"
      ]
    },
    {
      "cell_type": "code",
      "metadata": {
        "id": "OR2Gyp0WFH7r",
        "colab_type": "code",
        "colab": {}
      },
      "source": [
        "# Third-party imports\n",
        "%matplotlib inline\n",
        "import mxnet as mx\n",
        "from mxnet import gluon\n",
        "import numpy as np\n",
        "import pandas as pd\n",
        "import matplotlib.pyplot as plt\n",
        "import json"
      ],
      "execution_count": 0,
      "outputs": []
    },
    {
      "cell_type": "markdown",
      "metadata": {
        "id": "YtA6tRiuFH7w",
        "colab_type": "text"
      },
      "source": [
        "## Datasets\n",
        "\n",
        "### GluonTS datasets\n",
        "\n",
        "GluonTS comes with a number of publicly available datasets."
      ]
    },
    {
      "cell_type": "code",
      "metadata": {
        "id": "3hJJEZ8CFH7w",
        "colab_type": "code",
        "colab": {}
      },
      "source": [
        "from gluonts.dataset.repository.datasets import get_dataset, dataset_recipes\n",
        "from gluonts.dataset.util import to_pandas"
      ],
      "execution_count": 0,
      "outputs": []
    },
    {
      "cell_type": "code",
      "metadata": {
        "id": "Ux2aM8IIFH70",
        "colab_type": "code",
        "colab": {
          "base_uri": "https://localhost:8080/",
          "height": 54
        },
        "outputId": "070bcbe9-5a4f-487e-de12-f34b3c370686"
      },
      "source": [
        "print(f\"Available datasets: {list(dataset_recipes.keys())}\")"
      ],
      "execution_count": 3,
      "outputs": [
        {
          "output_type": "stream",
          "text": [
            "Available datasets: ['constant', 'exchange_rate', 'solar-energy', 'electricity', 'traffic', 'm4_hourly', 'm4_daily', 'm4_weekly', 'm4_monthly', 'm4_quarterly', 'm4_yearly']\n"
          ],
          "name": "stdout"
        }
      ]
    },
    {
      "cell_type": "markdown",
      "metadata": {
        "id": "3F_NFnN6FH75",
        "colab_type": "text"
      },
      "source": [
        "To download one of the built-in datasets, simply call get_dataset with one of the above names. GluonTS can re-use the saved dataset so that it does not need to be downloaded again: simply set `regenerate=False`."
      ]
    },
    {
      "cell_type": "code",
      "metadata": {
        "id": "bLqdN9dKFH76",
        "colab_type": "code",
        "colab": {
          "base_uri": "https://localhost:8080/",
          "height": 67
        },
        "outputId": "f2c3b3b0-bb59-426d-f95b-97e69614487e"
      },
      "source": [
        "dataset = get_dataset(\"m4_hourly\", regenerate=True)"
      ],
      "execution_count": 4,
      "outputs": [
        {
          "output_type": "stream",
          "text": [
            "INFO:root:downloading and processing m4_hourly\n"
          ],
          "name": "stderr"
        },
        {
          "output_type": "stream",
          "text": [
            "saving time-series into /root/.mxnet/gluon-ts/datasets/m4_hourly/train/data.json\n",
            "saving time-series into /root/.mxnet/gluon-ts/datasets/m4_hourly/test/data.json\n"
          ],
          "name": "stdout"
        }
      ]
    },
    {
      "cell_type": "markdown",
      "metadata": {
        "id": "Mb6dtEyuFH79",
        "colab_type": "text"
      },
      "source": [
        "In general, the datasets provided by GluonTS are objects that consists of three main members:\n",
        "\n",
        "- `dataset.train` is an iterable collection of data entries used for training. Each entry corresponds to one time series\n",
        "- `dataset.test` is an iterable collection of data entries used for inference. The test dataset is an extended version of the train dataset that contains a window in the end of each time series that was not seen during training. This window has length equal to the recommended prediction length.\n",
        "- `dataset.metadata` contains metadata of the dataset such as the frequency of the time series, a recommended prediction horizon, associated features, etc."
      ]
    },
    {
      "cell_type": "code",
      "metadata": {
        "id": "OyyshlsZFH7_",
        "colab_type": "code",
        "colab": {
          "base_uri": "https://localhost:8080/",
          "height": 317
        },
        "outputId": "6b766ae0-f42e-4d44-b206-af71f91cb96a"
      },
      "source": [
        "entry = next(iter(dataset.train))\n",
        "train_series = to_pandas(entry)\n",
        "train_series.plot()\n",
        "plt.grid(which=\"both\")\n",
        "plt.legend([\"train series\"], loc=\"upper left\")\n",
        "plt.show()"
      ],
      "execution_count": 5,
      "outputs": [
        {
          "output_type": "stream",
          "text": [
            "INFO:numexpr.utils:NumExpr defaulting to 2 threads.\n"
          ],
          "name": "stderr"
        },
        {
          "output_type": "display_data",
          "data": {
            "image/png": "[encoded data removed]",
            "text/plain": [
              "<Figure size 432x288 with 1 Axes>"
            ]
          },
          "metadata": {
            "tags": [],
            "needs_background": "light"
          }
        }
      ]
    },
    {
      "cell_type": "code",
      "metadata": {
        "id": "ft-bURRQFH8D",
        "colab_type": "code",
        "colab": {
          "base_uri": "https://localhost:8080/",
          "height": 300
        },
        "outputId": "d1fcc32e-2323-4d0b-ec68-c476aa2f2cb0"
      },
      "source": [
        "entry = next(iter(dataset.test))\n",
        "test_series = to_pandas(entry)\n",
        "test_series.plot()\n",
        "plt.axvline(train_series.index[-1], color='r') # end of train dataset\n",
        "plt.grid(which=\"both\")\n",
        "plt.legend([\"test series\", \"end of train series\"], loc=\"upper left\")\n",
        "plt.show()"
      ],
      "execution_count": 6,
      "outputs": [
        {
          "output_type": "display_data",
          "data": {
            "image/png": "[encoded data removed]",
            "text/plain": [
              "<Figure size 432x288 with 1 Axes>"
            ]
          },
          "metadata": {
            "tags": [],
            "needs_background": "light"
          }
        }
      ]
    },
    {
      "cell_type": "code",
      "metadata": {
        "id": "-_DE5sXCFH8I",
        "colab_type": "code",
        "colab": {
          "base_uri": "https://localhost:8080/",
          "height": 67
        },
        "outputId": "500fad10-d63e-4da0-ec18-f1de0f508b3c"
      },
      "source": [
        "print(f\"Length of forecasting window in test dataset: {len(test_series) - len(train_series)}\")\n",
        "print(f\"Recommended prediction horizon: {dataset.metadata.prediction_length}\")\n",
        "print(f\"Frequency of the time series: {dataset.metadata.freq}\")"
      ],
      "execution_count": 7,
      "outputs": [
        {
          "output_type": "stream",
          "text": [
            "Length of forecasting window in test dataset: 48\n",
            "Recommended prediction horizon: 48\n",
            "Frequency of the time series: H\n"
          ],
          "name": "stdout"
        }
      ]
    },
    {
      "cell_type": "markdown",
      "metadata": {
        "id": "vw5eK0BhFH8M",
        "colab_type": "text"
      },
      "source": [
        "### Custom datasets\n",
        "\n",
        "At this point, it is important to emphasize that GluonTS does not require this specific format for a custom dataset that a user may have. The only requirements for a custom dataset are to be iterable and have a \"target\" and a \"start\" field. To make this more clear, assume the common case where a dataset is in the form of a `numpy.array` and the index of the time series in a `pandas.Timestamp` (possibly different for each time series):"
      ]
    },
    {
      "cell_type": "code",
      "metadata": {
        "id": "lX3g0eGeFH8N",
        "colab_type": "code",
        "colab": {}
      },
      "source": [
        "N = 10  # number of time series\n",
        "T = 100  # number of timesteps\n",
        "prediction_length = 24\n",
        "freq = \"1H\"\n",
        "custom_dataset = np.random.normal(size=(N, T))\n",
        "start = pd.Timestamp(\"01-01-2019\", freq=freq)  # can be different for each time series"
      ],
      "execution_count": 0,
      "outputs": []
    },
    {
      "cell_type": "markdown",
      "metadata": {
        "id": "74EsFRbfFH8S",
        "colab_type": "text"
      },
      "source": [
        "Now, you can split your dataset and bring it in a GluonTS appropriate format with just two lines of code:"
      ]
    },
    {
      "cell_type": "code",
      "metadata": {
        "id": "AfA-4NsLFH8T",
        "colab_type": "code",
        "colab": {}
      },
      "source": [
        "from gluonts.dataset.common import ListDataset"
      ],
      "execution_count": 0,
      "outputs": []
    },
    {
      "cell_type": "code",
      "metadata": {
        "id": "hxya4cfmFH8V",
        "colab_type": "code",
        "colab": {}
      },
      "source": [
        "# train dataset: cut the last window of length \"prediction_length\", add \"target\" and \"start\" fields\n",
        "train_ds = ListDataset([{'target': x, 'start': start} \n",
        "                        for x in custom_dataset[:, :-prediction_length]],\n",
        "                       freq=freq)\n",
        "# test dataset: use the whole dataset, add \"target\" and \"start\" fields\n",
        "test_ds = ListDataset([{'target': x, 'start': start} \n",
        "                       for x in custom_dataset],\n",
        "                      freq=freq)"
      ],
      "execution_count": 0,
      "outputs": []
    },
    {
      "cell_type": "markdown",
      "metadata": {
        "id": "F5HiK3aNFH8a",
        "colab_type": "text"
      },
      "source": [
        "## Training an existing model (`Estimator`)\n",
        "\n",
        "GluonTS comes with a number of pre-built models. All the user needs to do is configure some hyperparameters. The existing models focus on (but are not limited to) probabilistic forecasting. Probabilistic forecasts are predictions in the form of a probability distribution, rather than simply a single point estimate.\n",
        "\n",
        "We will begin with GulonTS's pre-built feedforward neural network estimator, a simple but powerful forecasting model. We will use this model to demonstrate the process of training a model, producing forecasts, and evaluating the results.\n",
        "\n",
        "GluonTS's built-in feedforward neural network (`SimpleFeedForwardEstimator`) accepts an input window of length `context_length` and predicts the distribution of the values of the subsequent `prediction_length` values. In GluonTS parlance, the feedforward neural network model is an example of `Estimator`. In GluonTS, `Estimator` objects represent a forecasting model as well as details such as its coefficients, weights, etc.\n",
        "\n",
        "In general, each estimator (pre-built or custom) is configured by a number of hyperparameters that can be either common (but not binding) among all estimators (e.g., the `prediction_length`) or specific for the particular estimator (e.g., number of layers for a neural network or the stride in a CNN).\n",
        "\n",
        "Finally, each estimator is configured by a `Trainer`, which defines how the model will be trained i.e., the number of epochs, the learning rate, etc."
      ]
    },
    {
      "cell_type": "code",
      "metadata": {
        "id": "zr38duF6FH8b",
        "colab_type": "code",
        "colab": {
          "base_uri": "https://localhost:8080/",
          "height": 34
        },
        "outputId": "c636980e-0129-47f9-8863-e040f7b38254"
      },
      "source": [
        "from gluonts.model.simple_feedforward import SimpleFeedForwardEstimator\n",
        "from gluonts.trainer import Trainer"
      ],
      "execution_count": 11,
      "outputs": [
        {
          "output_type": "stream",
          "text": [
            "INFO:root:Using GPU\n"
          ],
          "name": "stderr"
        }
      ]
    },
    {
      "cell_type": "code",
      "metadata": {
        "id": "dcjxj8ifFH8f",
        "colab_type": "code",
        "colab": {}
      },
      "source": [
        "estimator = SimpleFeedForwardEstimator(\n",
        "    num_hidden_dimensions=[10],\n",
        "    prediction_length=dataset.metadata.prediction_length,\n",
        "    context_length=100,\n",
        "    freq=dataset.metadata.freq,\n",
        "    trainer=Trainer(ctx=\"cpu\", \n",
        "                    epochs=5, \n",
        "                    learning_rate=1e-3, \n",
        "                    num_batches_per_epoch=100\n",
        "                   )\n",
        ")"
      ],
      "execution_count": 0,
      "outputs": []
    },
    {
      "cell_type": "markdown",
      "metadata": {
        "id": "YAicbSk4FH8k",
        "colab_type": "text"
      },
      "source": [
        "After specifying our estimator with all the necessary hyperparameters we can train it using our training dataset `dataset.train` by invoking the `train` method of the estimator. The training algorithm returns a fitted model (or a `Predictor` in GluonTS parlance) that can be used to construct forecasts."
      ]
    },
    {
      "cell_type": "code",
      "metadata": {
        "id": "1BjMWvnvFH8l",
        "colab_type": "code",
        "colab": {
          "base_uri": "https://localhost:8080/",
          "height": 474
        },
        "outputId": "b6739735-673a-4f38-f342-cf1cf54df205"
      },
      "source": [
        "predictor = estimator.train(dataset.train)"
      ],
      "execution_count": 13,
      "outputs": [
        {
          "output_type": "stream",
          "text": [
            "INFO:root:Start model training\n",
            "INFO:root:Epoch[0] Learning rate is 0.001\n",
            "  0%|          | 0/100 [00:00<?, ?it/s]INFO:root:Number of parameters in SimpleFeedForwardTrainingNetwork: 48513\n"
          ],
          "name": "stderr"
        },
        {
          "output_type": "stream",
          "text": [
            "learning rate from ``lr_scheduler`` has been overwritten by ``learning_rate`` in optimizer.\n"
          ],
          "name": "stdout"
        },
        {
          "output_type": "stream",
          "text": [
            "\r100%|██████████| 100/100 [00:00<00:00, 117.07it/s, avg_epoch_loss=5.5]\n",
            "INFO:root:Epoch[0] Elapsed time 0.856 seconds\n",
            "INFO:root:Epoch[0] Evaluation metric 'epoch_loss'=5.495206\n",
            "INFO:root:Epoch[1] Learning rate is 0.001\n",
            "100%|██████████| 100/100 [00:00<00:00, 125.33it/s, avg_epoch_loss=4.73]\n",
            "INFO:root:Epoch[1] Elapsed time 0.801 seconds\n",
            "INFO:root:Epoch[1] Evaluation metric 'epoch_loss'=4.732299\n",
            "INFO:root:Epoch[2] Learning rate is 0.001\n",
            "100%|██████████| 100/100 [00:00<00:00, 118.58it/s, avg_epoch_loss=4.71]\n",
            "INFO:root:Epoch[2] Elapsed time 0.846 seconds\n",
            "INFO:root:Epoch[2] Evaluation metric 'epoch_loss'=4.712132\n",
            "INFO:root:Epoch[3] Learning rate is 0.001\n",
            "100%|██████████| 100/100 [00:00<00:00, 123.94it/s, avg_epoch_loss=4.71]\n",
            "INFO:root:Epoch[3] Elapsed time 0.814 seconds\n",
            "INFO:root:Epoch[3] Evaluation metric 'epoch_loss'=4.712250\n",
            "INFO:root:Epoch[4] Learning rate is 0.001\n",
            "100%|██████████| 100/100 [00:00<00:00, 123.93it/s, avg_epoch_loss=4.73]\n",
            "INFO:root:Epoch[4] Elapsed time 0.812 seconds\n",
            "INFO:root:Epoch[4] Evaluation metric 'epoch_loss'=4.728640\n",
            "INFO:root:Loading parameters from best epoch (2)\n",
            "INFO:root:Final loss: 4.712131853103638 (occurred at epoch 2)\n",
            "INFO:root:End model training\n"
          ],
          "name": "stderr"
        }
      ]
    },
    {
      "cell_type": "markdown",
      "metadata": {
        "id": "UdhIrUAPFH8o",
        "colab_type": "text"
      },
      "source": [
        "With a predictor in hand, we can now predict the last window of the `dataset.test` and evaluate our model's performance.\n",
        "\n",
        "GluonTS comes with the `make_evaluation_predictions` function that automates the process of prediction and model evaluation. Roughly, this function performs the following steps:\n",
        "\n",
        "- Removes the final window of length `prediction_length` of the `dataset.test` that we want to predict\n",
        "- The estimator uses the remaining data to predict (in the form of sample paths) the \"future\" window that was just removed\n",
        "- The module outputs the forecast sample paths and the `dataset.test` (as python generator objects)"
      ]
    },
    {
      "cell_type": "code",
      "metadata": {
        "id": "AEx4B7a9FH8o",
        "colab_type": "code",
        "colab": {}
      },
      "source": [
        "from gluonts.evaluation.backtest import make_evaluation_predictions"
      ],
      "execution_count": 0,
      "outputs": []
    },
    {
      "cell_type": "code",
      "metadata": {
        "id": "L60NlrU6FH8r",
        "colab_type": "code",
        "colab": {}
      },
      "source": [
        "forecast_it, ts_it = make_evaluation_predictions(\n",
        "    dataset=dataset.test,  # test dataset\n",
        "    predictor=predictor,  # predictor\n",
        "    num_samples=100,  # number of sample paths we want for evaluation\n",
        ")"
      ],
      "execution_count": 0,
      "outputs": []
    },
    {
      "cell_type": "markdown",
      "metadata": {
        "id": "VAc_nCwNFH8v",
        "colab_type": "text"
      },
      "source": [
        "First, we can convert these generators to lists to ease the subsequent computations."
      ]
    },
    {
      "cell_type": "code",
      "metadata": {
        "id": "CdH7Oq7sFH8v",
        "colab_type": "code",
        "colab": {}
      },
      "source": [
        "forecasts = list(forecast_it)\n",
        "tss = list(ts_it)"
      ],
      "execution_count": 0,
      "outputs": []
    },
    {
      "cell_type": "markdown",
      "metadata": {
        "id": "AURmA67FFH8z",
        "colab_type": "text"
      },
      "source": [
        "We can examine the first element of these lists (that corresponds to the first time series of the dataset). Let's start with the list containing the time series, i.e., `tss`. We expect the first entry of `tss` to contain the (target of the) first time series of `dataset.test`."
      ]
    },
    {
      "cell_type": "code",
      "metadata": {
        "id": "ZxAyHopqFH8z",
        "colab_type": "code",
        "colab": {}
      },
      "source": [
        "# first entry of the time series list\n",
        "ts_entry = tss[0]"
      ],
      "execution_count": 0,
      "outputs": []
    },
    {
      "cell_type": "code",
      "metadata": {
        "id": "sxeawkfoFH83",
        "colab_type": "code",
        "colab": {
          "base_uri": "https://localhost:8080/",
          "height": 34
        },
        "outputId": "def0b4c7-c230-4763-ced8-3fb86163fa5a"
      },
      "source": [
        "# first 5 values of the time series (convert from pandas to numpy)\n",
        "np.array(ts_entry[:5]).reshape(-1,)"
      ],
      "execution_count": 18,
      "outputs": [
        {
          "output_type": "execute_result",
          "data": {
            "text/plain": [
              "array([605., 586., 586., 559., 511.], dtype=float32)"
            ]
          },
          "metadata": {
            "tags": []
          },
          "execution_count": 18
        }
      ]
    },
    {
      "cell_type": "code",
      "metadata": {
        "id": "JCwpsRbwFH87",
        "colab_type": "code",
        "colab": {}
      },
      "source": [
        "# first entry of dataset.test\n",
        "dataset_test_entry = next(iter(dataset.test))"
      ],
      "execution_count": 0,
      "outputs": []
    },
    {
      "cell_type": "code",
      "metadata": {
        "id": "zJC5R80LFH8_",
        "colab_type": "code",
        "colab": {
          "base_uri": "https://localhost:8080/",
          "height": 34
        },
        "outputId": "e0311cd0-e5be-4b0b-a13e-c67215e73d87"
      },
      "source": [
        "# first 5 values\n",
        "dataset_test_entry['target'][:5]"
      ],
      "execution_count": 20,
      "outputs": [
        {
          "output_type": "execute_result",
          "data": {
            "text/plain": [
              "array([605., 586., 586., 559., 511.], dtype=float32)"
            ]
          },
          "metadata": {
            "tags": []
          },
          "execution_count": 20
        }
      ]
    },
    {
      "cell_type": "markdown",
      "metadata": {
        "id": "wy5gxnXFFH9D",
        "colab_type": "text"
      },
      "source": [
        "The entries in the `forecast` list are a bit more complex. They are objects that contain all the sample paths in the form of `numpy.ndarray` with dimension `(num_samples, prediction_length)`, the start date of the forecast, the frequency of the time series, etc. We can access all these information by simply invoking the corresponding attribute of the forecast object."
      ]
    },
    {
      "cell_type": "code",
      "metadata": {
        "id": "iCPxVMMbFH9D",
        "colab_type": "code",
        "colab": {}
      },
      "source": [
        "# first entry of the forecast list\n",
        "forecast_entry = forecasts[0]"
      ],
      "execution_count": 0,
      "outputs": []
    },
    {
      "cell_type": "code",
      "metadata": {
        "id": "tEC-ZeY-FH9G",
        "colab_type": "code",
        "colab": {
          "base_uri": "https://localhost:8080/",
          "height": 84
        },
        "outputId": "7d39aab2-abeb-496c-8e24-f85db10d7637"
      },
      "source": [
        "print(f\"Number of sample paths: {forecast_entry.num_samples}\")\n",
        "print(f\"Dimension of samples: {forecast_entry.samples.shape}\")\n",
        "print(f\"Start date of the forecast window: {forecast_entry.start_date}\")\n",
        "print(f\"Frequency of the time series: {forecast_entry.freq}\")"
      ],
      "execution_count": 22,
      "outputs": [
        {
          "output_type": "stream",
          "text": [
            "Number of sample paths: 100\n",
            "Dimension of samples: (100, 48)\n",
            "Start date of the forecast window: 1750-01-30 04:00:00\n",
            "Frequency of the time series: H\n"
          ],
          "name": "stdout"
        }
      ]
    },
    {
      "cell_type": "markdown",
      "metadata": {
        "id": "_jNa_5ORFH9K",
        "colab_type": "text"
      },
      "source": [
        "We can also do calculations to summarize the sample paths, such computing the mean or a quantile for each of the 48 time steps in the forecast window."
      ]
    },
    {
      "cell_type": "code",
      "metadata": {
        "id": "9ABNfQ2KFH9K",
        "colab_type": "code",
        "colab": {
          "base_uri": "https://localhost:8080/",
          "height": 286
        },
        "outputId": "4ac06eaa-2fbd-431a-b61d-a2666e2b7632"
      },
      "source": [
        "print(f\"Mean of the future window:\\n {forecast_entry.mean}\")\n",
        "print(f\"0.5-quantile (median) of the future window:\\n {forecast_entry.quantile(0.5)}\")"
      ],
      "execution_count": 23,
      "outputs": [
        {
          "output_type": "stream",
          "text": [
            "Mean of the future window:\n",
            " [655.8004  595.3795  524.8817  501.8864  485.10486 471.24774 505.8733\n",
            " 485.41318 536.2931  638.1106  653.57806 682.96814 789.8887  802.6978\n",
            " 848.5027  892.0915  897.211   874.9288  903.60156 898.71466 812.50073\n",
            " 822.2512  802.8217  710.7657  622.0331  538.49396 532.81995 507.06195\n",
            " 475.94266 485.8225  509.87048 527.7546  559.4346  612.8638  641.4186\n",
            " 737.98083 788.4026  771.8682  874.54156 860.83264 855.7863  882.87463\n",
            " 928.92664 891.096   850.83203 793.5296  727.6358  786.2034 ]\n",
            "0.5-quantile (median) of the future window:\n",
            " [669.31213 589.46436 539.4034  507.06595 482.55493 474.0014  515.39105\n",
            " 492.2898  535.94403 621.2151  655.6507  680.71716 816.27765 817.6303\n",
            " 847.1178  896.5409  910.65607 880.862   907.84296 896.50684 835.1308\n",
            " 816.3674  793.8408  699.7311  624.82043 543.80206 540.4126  510.0077\n",
            " 485.02222 489.5314  504.6732  522.4373  554.91254 608.14526 631.3496\n",
            " 726.9199  770.8872  773.53253 871.1392  889.02716 832.6614  892.80066\n",
            " 929.04736 865.83295 828.8531  800.0468  739.4044  780.3696 ]\n"
          ],
          "name": "stdout"
        }
      ]
    },
    {
      "cell_type": "markdown",
      "metadata": {
        "id": "-D3nGwsTFH9Q",
        "colab_type": "text"
      },
      "source": [
        "`Forecast` objects have a `plot` method that can summarize the forecast paths as the mean, prediction intervals, etc. The prediction intervals are shaded in different colors as a \"fan chart\"."
      ]
    },
    {
      "cell_type": "code",
      "metadata": {
        "id": "k2tMfFKyFH9Q",
        "colab_type": "code",
        "colab": {}
      },
      "source": [
        "def plot_prob_forecasts(ts_entry, forecast_entry):\n",
        "    plot_length = 150 \n",
        "    prediction_intervals = (50.0, 90.0)\n",
        "    legend = [\"observations\", \"median prediction\"] + [f\"{k}% prediction interval\" for k in prediction_intervals][::-1]\n",
        "\n",
        "    fig, ax = plt.subplots(1, 1, figsize=(10, 7))\n",
        "    ts_entry[-plot_length:].plot(ax=ax)  # plot the time series\n",
        "    forecast_entry.plot(prediction_intervals=prediction_intervals, color='g')\n",
        "    plt.grid(which=\"both\")\n",
        "    plt.legend(legend, loc=\"upper left\")\n",
        "    plt.show()"
      ],
      "execution_count": 0,
      "outputs": []
    },
    {
      "cell_type": "code",
      "metadata": {
        "id": "IVXKBM6HFH9T",
        "colab_type": "code",
        "colab": {
          "base_uri": "https://localhost:8080/",
          "height": 453
        },
        "outputId": "3e29cc4d-390a-4981-d484-ca051b90f0d5"
      },
      "source": [
        "plot_prob_forecasts(ts_entry, forecast_entry)"
      ],
      "execution_count": 25,
      "outputs": [
        {
          "output_type": "display_data",
          "data": {
            "image/png": "[encoded data removed]",
            "text/plain": [
              "<Figure size 720x504 with 1 Axes>"
            ]
          },
          "metadata": {
            "tags": [],
            "needs_background": "light"
          }
        }
      ]
    },
    {
      "cell_type": "markdown",
      "metadata": {
        "id": "Ea52pPorFH9X",
        "colab_type": "text"
      },
      "source": [
        "We can also evaluate the quality of our forecasts numerically. In GluonTS, the `Evaluator` class can compute aggregate performance metrics, as well as metrics per time series (which can be useful for analyzing performance across heterogeneous time series)."
      ]
    },
    {
      "cell_type": "code",
      "metadata": {
        "id": "5kCgN3NvFH9X",
        "colab_type": "code",
        "colab": {}
      },
      "source": [
        "from gluonts.evaluation import Evaluator"
      ],
      "execution_count": 0,
      "outputs": []
    },
    {
      "cell_type": "code",
      "metadata": {
        "id": "z47CDRHbFH9a",
        "colab_type": "code",
        "colab": {
          "base_uri": "https://localhost:8080/",
          "height": 34
        },
        "outputId": "b2775fdb-ba56-4041-b368-cb53d46e8cab"
      },
      "source": [
        "evaluator = Evaluator(quantiles=[0.1, 0.5, 0.9])\n",
        "agg_metrics, item_metrics = evaluator(iter(tss), iter(forecasts), num_series=len(dataset.test))"
      ],
      "execution_count": 27,
      "outputs": [
        {
          "output_type": "stream",
          "text": [
            "Running evaluation: 100%|██████████| 414/414 [00:02<00:00, 187.98it/s]\n"
          ],
          "name": "stderr"
        }
      ]
    },
    {
      "cell_type": "markdown",
      "metadata": {
        "id": "LfYNiAS6FH9e",
        "colab_type": "text"
      },
      "source": [
        "Aggregate metrics aggregate both across time-steps and across time series."
      ]
    },
    {
      "cell_type": "code",
      "metadata": {
        "id": "R8NIKwWiFH9f",
        "colab_type": "code",
        "colab": {
          "base_uri": "https://localhost:8080/",
          "height": 420
        },
        "outputId": "c4319bdd-cb92-441c-e459-85155e0508ab"
      },
      "source": [
        "print(json.dumps(agg_metrics, indent=4))"
      ],
      "execution_count": 28,
      "outputs": [
        {
          "output_type": "stream",
          "text": [
            "{\n",
            "    \"MSE\": 9923002.001817122,\n",
            "    \"abs_error\": 10052422.920700073,\n",
            "    \"abs_target_sum\": 145558863.59960938,\n",
            "    \"abs_target_mean\": 7324.822041043147,\n",
            "    \"seasonal_error\": 336.9046924038302,\n",
            "    \"MASE\": 3.280787238502684,\n",
            "    \"sMAPE\": 0.188115624913569,\n",
            "    \"MSIS\": 33.99115620291589,\n",
            "    \"QuantileLoss[0.1]\": 3752435.2633779524,\n",
            "    \"Coverage[0.1]\": 0.11714975845410623,\n",
            "    \"QuantileLoss[0.5]\": 10052422.856055737,\n",
            "    \"Coverage[0.5]\": 0.6009460547504023,\n",
            "    \"QuantileLoss[0.9]\": 6804077.710603332,\n",
            "    \"Coverage[0.9]\": 0.877667069243156,\n",
            "    \"RMSE\": 3150.079681820306,\n",
            "    \"NRMSE\": 0.43005545584172244,\n",
            "    \"ND\": 0.0690608779988239,\n",
            "    \"wQuantileLoss[0.1]\": 0.025779503704424514,\n",
            "    \"wQuantileLoss[0.5]\": 0.0690608775547126,\n",
            "    \"wQuantileLoss[0.9]\": 0.046744509694163286,\n",
            "    \"mean_wQuantileLoss\": 0.04719496365110013,\n",
            "    \"MAE_Coverage\": 0.046809581320450856\n",
            "}\n"
          ],
          "name": "stdout"
        }
      ]
    },
    {
      "cell_type": "markdown",
      "metadata": {
        "id": "9XMgpg1mFH9i",
        "colab_type": "text"
      },
      "source": [
        "Individual metrics are aggregated only across time-steps."
      ]
    },
    {
      "cell_type": "code",
      "metadata": {
        "id": "um-VJLVkFH9i",
        "colab_type": "code",
        "colab": {
          "base_uri": "https://localhost:8080/",
          "height": 215
        },
        "outputId": "6d21465e-9ee3-4f7d-90f6-e11d5b4bbdb9"
      },
      "source": [
        "item_metrics.head()"
      ],
      "execution_count": 29,
      "outputs": [
        {
          "output_type": "execute_result",
          "data": {
            "text/html": [
              "<div>\n",
              "<style scoped>\n",
              "    .dataframe tbody tr th:only-of-type {\n",
              "        vertical-align: middle;\n",
              "    }\n",
              "\n",
              "    .dataframe tbody tr th {\n",
              "        vertical-align: top;\n",
              "    }\n",
              "\n",
              "    .dataframe thead th {\n",
              "        text-align: right;\n",
              "    }\n",
              "</style>\n",
              "<table border=\"1\" class=\"dataframe\">\n",
              "  <thead>\n",
              "    <tr style=\"text-align: right;\">\n",
              "      <th></th>\n",
              "      <th>item_id</th>\n",
              "      <th>MSE</th>\n",
              "      <th>abs_error</th>\n",
              "      <th>abs_target_sum</th>\n",
              "      <th>abs_target_mean</th>\n",
              "      <th>seasonal_error</th>\n",
              "      <th>MASE</th>\n",
              "      <th>sMAPE</th>\n",
              "      <th>MSIS</th>\n",
              "      <th>QuantileLoss[0.1]</th>\n",
              "      <th>Coverage[0.1]</th>\n",
              "      <th>QuantileLoss[0.5]</th>\n",
              "      <th>Coverage[0.5]</th>\n",
              "      <th>QuantileLoss[0.9]</th>\n",
              "      <th>Coverage[0.9]</th>\n",
              "    </tr>\n",
              "  </thead>\n",
              "  <tbody>\n",
              "    <tr>\n",
              "      <th>0</th>\n",
              "      <td>NaN</td>\n",
              "      <td>3155.145833</td>\n",
              "      <td>2073.397217</td>\n",
              "      <td>31644.0</td>\n",
              "      <td>659.250000</td>\n",
              "      <td>42.371302</td>\n",
              "      <td>1.019458</td>\n",
              "      <td>0.063568</td>\n",
              "      <td>5.491491</td>\n",
              "      <td>709.749518</td>\n",
              "      <td>0.020833</td>\n",
              "      <td>2073.397308</td>\n",
              "      <td>0.895833</td>\n",
              "      <td>1444.280396</td>\n",
              "      <td>1.000000</td>\n",
              "    </tr>\n",
              "    <tr>\n",
              "      <th>1</th>\n",
              "      <td>NaN</td>\n",
              "      <td>199367.291667</td>\n",
              "      <td>20307.580078</td>\n",
              "      <td>124149.0</td>\n",
              "      <td>2586.437500</td>\n",
              "      <td>165.107988</td>\n",
              "      <td>2.562411</td>\n",
              "      <td>0.155752</td>\n",
              "      <td>17.157588</td>\n",
              "      <td>4952.655298</td>\n",
              "      <td>0.458333</td>\n",
              "      <td>20307.579956</td>\n",
              "      <td>1.000000</td>\n",
              "      <td>8416.701367</td>\n",
              "      <td>1.000000</td>\n",
              "    </tr>\n",
              "    <tr>\n",
              "      <th>2</th>\n",
              "      <td>NaN</td>\n",
              "      <td>29000.760417</td>\n",
              "      <td>5976.101074</td>\n",
              "      <td>65030.0</td>\n",
              "      <td>1354.791667</td>\n",
              "      <td>78.889053</td>\n",
              "      <td>1.578192</td>\n",
              "      <td>0.086959</td>\n",
              "      <td>14.028185</td>\n",
              "      <td>2946.556104</td>\n",
              "      <td>0.000000</td>\n",
              "      <td>5976.101013</td>\n",
              "      <td>0.229167</td>\n",
              "      <td>2627.253223</td>\n",
              "      <td>0.791667</td>\n",
              "    </tr>\n",
              "    <tr>\n",
              "      <th>3</th>\n",
              "      <td>NaN</td>\n",
              "      <td>166730.500000</td>\n",
              "      <td>15336.392578</td>\n",
              "      <td>235783.0</td>\n",
              "      <td>4912.145833</td>\n",
              "      <td>258.982249</td>\n",
              "      <td>1.233707</td>\n",
              "      <td>0.065361</td>\n",
              "      <td>6.703957</td>\n",
              "      <td>7312.159521</td>\n",
              "      <td>0.041667</td>\n",
              "      <td>15336.393066</td>\n",
              "      <td>0.520833</td>\n",
              "      <td>7458.765918</td>\n",
              "      <td>1.000000</td>\n",
              "    </tr>\n",
              "    <tr>\n",
              "      <th>4</th>\n",
              "      <td>NaN</td>\n",
              "      <td>106049.010417</td>\n",
              "      <td>12096.396484</td>\n",
              "      <td>131088.0</td>\n",
              "      <td>2731.000000</td>\n",
              "      <td>200.494083</td>\n",
              "      <td>1.256936</td>\n",
              "      <td>0.085724</td>\n",
              "      <td>6.210466</td>\n",
              "      <td>3284.816699</td>\n",
              "      <td>0.083333</td>\n",
              "      <td>12096.395874</td>\n",
              "      <td>0.812500</td>\n",
              "      <td>6955.907812</td>\n",
              "      <td>1.000000</td>\n",
              "    </tr>\n",
              "  </tbody>\n",
              "</table>\n",
              "</div>"
            ],
            "text/plain": [
              "   item_id            MSE  ...  QuantileLoss[0.9]  Coverage[0.9]\n",
              "0      NaN    3155.145833  ...        1444.280396       1.000000\n",
              "1      NaN  199367.291667  ...        8416.701367       1.000000\n",
              "2      NaN   29000.760417  ...        2627.253223       0.791667\n",
              "3      NaN  166730.500000  ...        7458.765918       1.000000\n",
              "4      NaN  106049.010417  ...        6955.907812       1.000000\n",
              "\n",
              "[5 rows x 15 columns]"
            ]
          },
          "metadata": {
            "tags": []
          },
          "execution_count": 29
        }
      ]
    },
    {
      "cell_type": "code",
      "metadata": {
        "id": "YRfMl36-FH9l",
        "colab_type": "code",
        "colab": {
          "base_uri": "https://localhost:8080/",
          "height": 279
        },
        "outputId": "e635181f-8568-4d2b-d7a9-91a9791c7cc4"
      },
      "source": [
        "item_metrics.plot(x='MSIS', y='MASE', kind='scatter')\n",
        "plt.grid(which=\"both\")\n",
        "plt.show()"
      ],
      "execution_count": 30,
      "outputs": [
        {
          "output_type": "display_data",
          "data": {
            "image/png": "[encoded data removed]",
            "text/plain": [
              "<Figure size 432x288 with 1 Axes>"
            ]
          },
          "metadata": {
            "tags": [],
            "needs_background": "light"
          }
        }
      ]
    },
    {
      "cell_type": "markdown",
      "metadata": {
        "id": "5PXr3ctmFH9o",
        "colab_type": "text"
      },
      "source": [
        "## Create your own forecast model\n",
        "\n",
        "For creating your own forecast model you need to:\n",
        "\n",
        "- Define the training and prediction network\n",
        "- Define a new estimator that specifies any data processing and uses the networks\n",
        "\n",
        "The training and prediction networks can be arbitrarily complex but they should follow some basic rules:\n",
        "\n",
        "- Both should have a `hybrid_forward` method that defines what should happen when the network is called    \n",
        "- The training network's `hybrid_forward` should return a **loss** based on the prediction and the true values\n",
        "- The prediction network's `hybrid_forward` should return the predictions \n",
        "\n",
        "For example, we can create a simple training network that defines a neural network which takes as an input the past values of the time series and outputs a future predicted window of length `prediction_length`. It uses the L1 loss in the `hybrid_forward` method to evaluate the error among the predictions and the true values of the time series. The corresponding prediction network should be identical to the training network in terms of architecture (we achieve this by inheriting the training network class), and its `hybrid_forward` method outputs directly the predictions.\n",
        "\n",
        "Note that this simple model does only point forecasts by construction, i.e., we train it to outputs directly the future values of the time series and not any probabilistic view of the future (to achieve this we should train a network to learn a probability distribution and then sample from it to create sample paths)."
      ]
    },
    {
      "cell_type": "code",
      "metadata": {
        "id": "xkA5HYQoFH9o",
        "colab_type": "code",
        "colab": {}
      },
      "source": [
        "class MyTrainNetwork(gluon.HybridBlock):\n",
        "    def __init__(self, prediction_length, **kwargs):\n",
        "        super().__init__(**kwargs)\n",
        "        self.prediction_length = prediction_length\n",
        "\n",
        "        with self.name_scope():\n",
        "            # Set up a 3 layer neural network that directly predicts the target values\n",
        "            self.nn = mx.gluon.nn.HybridSequential()\n",
        "            self.nn.add(mx.gluon.nn.Dense(units=40, activation='relu'))\n",
        "            self.nn.add(mx.gluon.nn.Dense(units=40, activation='relu'))\n",
        "            self.nn.add(mx.gluon.nn.Dense(units=self.prediction_length, activation='softrelu'))\n",
        "\n",
        "    def hybrid_forward(self, F, past_target, future_target):\n",
        "        prediction = self.nn(past_target)\n",
        "        # calculate L1 loss with the future_target to learn the median\n",
        "        return (prediction - future_target).abs().mean(axis=-1)\n",
        "\n",
        "\n",
        "class MyPredNetwork(MyTrainNetwork):\n",
        "    # The prediction network only receives past_target and returns predictions\n",
        "    def hybrid_forward(self, F, past_target):\n",
        "        prediction = self.nn(past_target)\n",
        "        return prediction.expand_dims(axis=1)"
      ],
      "execution_count": 0,
      "outputs": []
    },
    {
      "cell_type": "markdown",
      "metadata": {
        "id": "5TjT74ClFH9r",
        "colab_type": "text"
      },
      "source": [
        "Now, we need to construct the estimator which should also follow some rules:\n",
        "\n",
        "- It should include a `create_transformation` method that defines all the possible feature transformations and how the data is split during training\n",
        "- It should include a `create_training_network` method that returns the training network configured with any necessary hyperparameters\n",
        "- It should include a `create_predictor` method that creates the prediction network, and returns a `Predictor` object\n",
        "\n",
        "A `Predictor` defines the `predict` method of a given predictor. Roughly, this method takes the test dataset, it passes it through the prediction network and yields the predictions. You can think of the `Predictor` object as a wrapper of the prediction network that defines its `predict` method.\n",
        "\n",
        "Earlier, we used the `make_evaluation_predictions` to evaluate our predictor. Internally, the `make_evaluation_predictions` function invokes the `predict` method of the predictor to get the forecasts."
      ]
    },
    {
      "cell_type": "code",
      "metadata": {
        "id": "wyk1TrKtFH9s",
        "colab_type": "code",
        "colab": {}
      },
      "source": [
        "from gluonts.model.estimator import GluonEstimator\n",
        "from gluonts.model.predictor import Predictor, RepresentableBlockPredictor\n",
        "from gluonts.core.component import validated\n",
        "from gluonts.support.util import copy_parameters\n",
        "from gluonts.transform import ExpectedNumInstanceSampler, Transformation, InstanceSplitter\n",
        "from gluonts.dataset.field_names import FieldName\n",
        "from mxnet.gluon import HybridBlock"
      ],
      "execution_count": 0,
      "outputs": []
    },
    {
      "cell_type": "code",
      "metadata": {
        "id": "InF8x2VaFH9v",
        "colab_type": "code",
        "colab": {
          "base_uri": "https://localhost:8080/",
          "height": 34
        },
        "outputId": "a4bc31dd-e7db-4b7a-93f3-ffeb82ac46f4"
      },
      "source": [
        "class MyEstimator(GluonEstimator):\n",
        "    @validated()\n",
        "    def __init__(\n",
        "        self,\n",
        "        freq: str,\n",
        "        context_length: int,\n",
        "        prediction_length: int,\n",
        "        trainer: Trainer = Trainer()\n",
        "    ) -> None:\n",
        "        super().__init__(trainer=trainer)\n",
        "        self.context_length = context_length\n",
        "        self.prediction_length = prediction_length\n",
        "        self.freq = freq\n",
        "\n",
        "\n",
        "    def create_transformation(self):\n",
        "        # Feature transformation that the model uses for input.\n",
        "        # Here we use a transformation that randomly select training samples from all time series.\n",
        "        return InstanceSplitter(\n",
        "                    target_field=FieldName.TARGET,\n",
        "                    is_pad_field=FieldName.IS_PAD,\n",
        "                    start_field=FieldName.START,\n",
        "                    forecast_start_field=FieldName.FORECAST_START,\n",
        "                    train_sampler=ExpectedNumInstanceSampler(num_instances=1),\n",
        "                    past_length=self.context_length,\n",
        "                    future_length=self.prediction_length,\n",
        "                )\n",
        "\n",
        "    def create_training_network(self) -> MyTrainNetwork:\n",
        "        return MyTrainNetwork(\n",
        "            prediction_length=self.prediction_length\n",
        "        )\n",
        "\n",
        "    def create_predictor(\n",
        "        self, transformation: Transformation, trained_network: HybridBlock\n",
        "    ) -> Predictor:\n",
        "        prediction_network = MyPredNetwork(\n",
        "            prediction_length=self.prediction_length\n",
        "        )\n",
        "\n",
        "        copy_parameters(trained_network, prediction_network)\n",
        "\n",
        "        return RepresentableBlockPredictor(\n",
        "            input_transform=transformation,\n",
        "            prediction_net=prediction_network,\n",
        "            batch_size=self.trainer.batch_size,\n",
        "            freq=self.freq,\n",
        "            prediction_length=self.prediction_length,\n",
        "            ctx=self.trainer.ctx,\n",
        "        )"
      ],
      "execution_count": 33,
      "outputs": [
        {
          "output_type": "stream",
          "text": [
            "INFO:root:Using GPU\n"
          ],
          "name": "stderr"
        }
      ]
    },
    {
      "cell_type": "markdown",
      "metadata": {
        "id": "wqf7YAMHFH9z",
        "colab_type": "text"
      },
      "source": [
        "Now, we can repeat the same pipeline as in the case we had a pre-built model: train the predictor, create the forecasts and evaluate the results."
      ]
    },
    {
      "cell_type": "code",
      "metadata": {
        "id": "hPGNVqzCFH9z",
        "colab_type": "code",
        "colab": {}
      },
      "source": [
        "estimator = MyEstimator(\n",
        "    prediction_length=dataset.metadata.prediction_length,\n",
        "    context_length=100,\n",
        "    freq=dataset.metadata.freq,\n",
        "    trainer=Trainer(ctx=\"cpu\", \n",
        "                    epochs=5, \n",
        "                    learning_rate=1e-3, \n",
        "                    num_batches_per_epoch=100\n",
        "                   )\n",
        ")"
      ],
      "execution_count": 0,
      "outputs": []
    },
    {
      "cell_type": "code",
      "metadata": {
        "id": "DZlldSJNFH95",
        "colab_type": "code",
        "colab": {
          "base_uri": "https://localhost:8080/",
          "height": 474
        },
        "outputId": "9bb24755-f557-438c-ad4e-e3d164a88c5a"
      },
      "source": [
        "predictor = estimator.train(dataset.train)"
      ],
      "execution_count": 35,
      "outputs": [
        {
          "output_type": "stream",
          "text": [
            "INFO:root:Start model training\n",
            "INFO:root:Epoch[0] Learning rate is 0.001\n",
            "  0%|          | 0/100 [00:00<?, ?it/s]INFO:root:Number of parameters in MyTrainNetwork: 7648\n"
          ],
          "name": "stderr"
        },
        {
          "output_type": "stream",
          "text": [
            "learning rate from ``lr_scheduler`` has been overwritten by ``learning_rate`` in optimizer.\n"
          ],
          "name": "stdout"
        },
        {
          "output_type": "stream",
          "text": [
            "\r100%|██████████| 100/100 [00:00<00:00, 146.96it/s, avg_epoch_loss=2.77e+3]\n",
            "INFO:root:Epoch[0] Elapsed time 0.686 seconds\n",
            "INFO:root:Epoch[0] Evaluation metric 'epoch_loss'=2767.610833\n",
            "INFO:root:Epoch[1] Learning rate is 0.001\n",
            "100%|██████████| 100/100 [00:00<00:00, 148.07it/s, avg_epoch_loss=1.07e+3]\n",
            "INFO:root:Epoch[1] Elapsed time 0.678 seconds\n",
            "INFO:root:Epoch[1] Evaluation metric 'epoch_loss'=1073.255271\n",
            "INFO:root:Epoch[2] Learning rate is 0.001\n",
            "100%|██████████| 100/100 [00:00<00:00, 144.86it/s, avg_epoch_loss=979]\n",
            "INFO:root:Epoch[2] Elapsed time 0.694 seconds\n",
            "INFO:root:Epoch[2] Evaluation metric 'epoch_loss'=978.698582\n",
            "INFO:root:Epoch[3] Learning rate is 0.001\n",
            "100%|██████████| 100/100 [00:00<00:00, 142.68it/s, avg_epoch_loss=780]\n",
            "INFO:root:Epoch[3] Elapsed time 0.704 seconds\n",
            "INFO:root:Epoch[3] Evaluation metric 'epoch_loss'=779.538260\n",
            "INFO:root:Epoch[4] Learning rate is 0.001\n",
            "100%|██████████| 100/100 [00:00<00:00, 142.00it/s, avg_epoch_loss=798]\n",
            "INFO:root:Epoch[4] Elapsed time 0.707 seconds\n",
            "INFO:root:Epoch[4] Evaluation metric 'epoch_loss'=798.206755\n",
            "INFO:root:Loading parameters from best epoch (3)\n",
            "INFO:root:Final loss: 779.5382601642609 (occurred at epoch 3)\n",
            "INFO:root:End model training\n"
          ],
          "name": "stderr"
        }
      ]
    },
    {
      "cell_type": "code",
      "metadata": {
        "id": "d36MwzC6FH99",
        "colab_type": "code",
        "colab": {}
      },
      "source": [
        "forecast_it, ts_it = make_evaluation_predictions(\n",
        "    dataset=dataset.test,\n",
        "    predictor=predictor,\n",
        "    num_samples=100\n",
        ")"
      ],
      "execution_count": 0,
      "outputs": []
    },
    {
      "cell_type": "code",
      "metadata": {
        "id": "FREerRk4FH9_",
        "colab_type": "code",
        "colab": {}
      },
      "source": [
        "forecasts = list(forecast_it)\n",
        "tss = list(ts_it)"
      ],
      "execution_count": 0,
      "outputs": []
    },
    {
      "cell_type": "code",
      "metadata": {
        "id": "TwnCacLrFH-C",
        "colab_type": "code",
        "colab": {
          "base_uri": "https://localhost:8080/",
          "height": 452
        },
        "outputId": "7f1bc477-0bee-4e26-9754-164aedaa6abb"
      },
      "source": [
        "plot_prob_forecasts(tss[0], forecasts[0])"
      ],
      "execution_count": 39,
      "outputs": [
        {
          "output_type": "display_data",
          "data": {
            "image/png": "[encoded data removed]",
            "text/plain": [
              "<Figure size 720x504 with 1 Axes>"
            ]
          },
          "metadata": {
            "tags": [],
            "needs_background": "light"
          }
        }
      ]
    },
    {
      "cell_type": "markdown",
      "metadata": {
        "id": "3IHd9HShFH-F",
        "colab_type": "text"
      },
      "source": [
        "Observe that we cannot actually see any prediction intervals in the predictions. This is expected since the model that we defined does not do probabilistic forecasting but it just gives point estimates. By requiring 100 sample paths (defined in `make_evaluation_predictions`) in such a network, we get 100 times the same output."
      ]
    },
    {
      "cell_type": "code",
      "metadata": {
        "id": "zQS_2qdlFH-G",
        "colab_type": "code",
        "colab": {
          "base_uri": "https://localhost:8080/",
          "height": 34
        },
        "outputId": "c3da5c1f-69f3-460f-c6c8-24048eccc515"
      },
      "source": [
        "evaluator = Evaluator(quantiles=[0.1, 0.5, 0.9])\n",
        "agg_metrics, item_metrics = evaluator(iter(tss), iter(forecasts), num_series=len(dataset.test))"
      ],
      "execution_count": 40,
      "outputs": [
        {
          "output_type": "stream",
          "text": [
            "Running evaluation: 100%|██████████| 414/414 [00:02<00:00, 190.48it/s]\n"
          ],
          "name": "stderr"
        }
      ]
    },
    {
      "cell_type": "code",
      "metadata": {
        "id": "Sk10M5i0FH-M",
        "colab_type": "code",
        "colab": {
          "base_uri": "https://localhost:8080/",
          "height": 420
        },
        "outputId": "da98d3d5-83ba-40df-eeb2-78c5ccadff99"
      },
      "source": [
        "print(json.dumps(agg_metrics, indent=4))"
      ],
      "execution_count": 41,
      "outputs": [
        {
          "output_type": "stream",
          "text": [
            "{\n",
            "    \"MSE\": 91474540.92832339,\n",
            "    \"abs_error\": 16743819.362300873,\n",
            "    \"abs_target_sum\": 145558863.59960938,\n",
            "    \"abs_target_mean\": 7324.822041043147,\n",
            "    \"seasonal_error\": 336.9046924038302,\n",
            "    \"MASE\": 6.719143492332734,\n",
            "    \"sMAPE\": 0.3008992216472931,\n",
            "    \"MSIS\": 268.7657393830555,\n",
            "    \"QuantileLoss[0.1]\": 17590344.83395681,\n",
            "    \"Coverage[0.1]\": 0.6072866344605473,\n",
            "    \"QuantileLoss[0.5]\": 16743819.537101269,\n",
            "    \"Coverage[0.5]\": 0.6072866344605473,\n",
            "    \"QuantileLoss[0.9]\": 15897294.240245724,\n",
            "    \"Coverage[0.9]\": 0.6072866344605473,\n",
            "    \"RMSE\": 9564.232375278394,\n",
            "    \"NRMSE\": 1.305728974941257,\n",
            "    \"ND\": 0.11503125916370377,\n",
            "    \"wQuantileLoss[0.1]\": 0.12084695084143277,\n",
            "    \"wQuantileLoss[0.5]\": 0.11503126036459523,\n",
            "    \"wQuantileLoss[0.9]\": 0.10921556988775767,\n",
            "    \"mean_wQuantileLoss\": 0.11503126036459521,\n",
            "    \"MAE_Coverage\": 0.30242887815351577\n",
            "}\n"
          ],
          "name": "stdout"
        }
      ]
    },
    {
      "cell_type": "code",
      "metadata": {
        "id": "7W8sfE4oFH-U",
        "colab_type": "code",
        "colab": {
          "base_uri": "https://localhost:8080/",
          "height": 363
        },
        "outputId": "e709f0ea-e701-40c3-8e45-04aa477efcc5"
      },
      "source": [
        "item_metrics.head(10)"
      ],
      "execution_count": 42,
      "outputs": [
        {
          "output_type": "execute_result",
          "data": {
            "text/html": [
              "<div>\n",
              "<style scoped>\n",
              "    .dataframe tbody tr th:only-of-type {\n",
              "        vertical-align: middle;\n",
              "    }\n",
              "\n",
              "    .dataframe tbody tr th {\n",
              "        vertical-align: top;\n",
              "    }\n",
              "\n",
              "    .dataframe thead th {\n",
              "        text-align: right;\n",
              "    }\n",
              "</style>\n",
              "<table border=\"1\" class=\"dataframe\">\n",
              "  <thead>\n",
              "    <tr style=\"text-align: right;\">\n",
              "      <th></th>\n",
              "      <th>item_id</th>\n",
              "      <th>MSE</th>\n",
              "      <th>abs_error</th>\n",
              "      <th>abs_target_sum</th>\n",
              "      <th>abs_target_mean</th>\n",
              "      <th>seasonal_error</th>\n",
              "      <th>MASE</th>\n",
              "      <th>sMAPE</th>\n",
              "      <th>MSIS</th>\n",
              "      <th>QuantileLoss[0.1]</th>\n",
              "      <th>Coverage[0.1]</th>\n",
              "      <th>QuantileLoss[0.5]</th>\n",
              "      <th>Coverage[0.5]</th>\n",
              "      <th>QuantileLoss[0.9]</th>\n",
              "      <th>Coverage[0.9]</th>\n",
              "    </tr>\n",
              "  </thead>\n",
              "  <tbody>\n",
              "    <tr>\n",
              "      <th>0</th>\n",
              "      <td>NaN</td>\n",
              "      <td>2.338038e+04</td>\n",
              "      <td>3783.302002</td>\n",
              "      <td>31644.0</td>\n",
              "      <td>659.250000</td>\n",
              "      <td>42.371302</td>\n",
              "      <td>1.860193</td>\n",
              "      <td>0.162567</td>\n",
              "      <td>74.407720</td>\n",
              "      <td>4525.895789</td>\n",
              "      <td>0.875000</td>\n",
              "      <td>3783.302185</td>\n",
              "      <td>0.875000</td>\n",
              "      <td>3040.708582</td>\n",
              "      <td>0.875000</td>\n",
              "    </tr>\n",
              "    <tr>\n",
              "      <th>1</th>\n",
              "      <td>NaN</td>\n",
              "      <td>5.956528e+05</td>\n",
              "      <td>26836.882812</td>\n",
              "      <td>124149.0</td>\n",
              "      <td>2586.437500</td>\n",
              "      <td>165.107988</td>\n",
              "      <td>3.386279</td>\n",
              "      <td>0.251146</td>\n",
              "      <td>135.451155</td>\n",
              "      <td>39098.391260</td>\n",
              "      <td>0.958333</td>\n",
              "      <td>26836.884033</td>\n",
              "      <td>0.958333</td>\n",
              "      <td>14575.376807</td>\n",
              "      <td>0.958333</td>\n",
              "    </tr>\n",
              "    <tr>\n",
              "      <th>2</th>\n",
              "      <td>NaN</td>\n",
              "      <td>1.589772e+05</td>\n",
              "      <td>11218.663086</td>\n",
              "      <td>65030.0</td>\n",
              "      <td>1354.791667</td>\n",
              "      <td>78.889053</td>\n",
              "      <td>2.962669</td>\n",
              "      <td>0.203668</td>\n",
              "      <td>118.506768</td>\n",
              "      <td>4433.137378</td>\n",
              "      <td>0.312500</td>\n",
              "      <td>11218.663452</td>\n",
              "      <td>0.312500</td>\n",
              "      <td>18004.189526</td>\n",
              "      <td>0.312500</td>\n",
              "    </tr>\n",
              "    <tr>\n",
              "      <th>3</th>\n",
              "      <td>NaN</td>\n",
              "      <td>1.577465e+06</td>\n",
              "      <td>27328.699219</td>\n",
              "      <td>235783.0</td>\n",
              "      <td>4912.145833</td>\n",
              "      <td>258.982249</td>\n",
              "      <td>2.198405</td>\n",
              "      <td>0.150529</td>\n",
              "      <td>87.936207</td>\n",
              "      <td>18998.279199</td>\n",
              "      <td>0.395833</td>\n",
              "      <td>27328.698730</td>\n",
              "      <td>0.395833</td>\n",
              "      <td>35659.118262</td>\n",
              "      <td>0.395833</td>\n",
              "    </tr>\n",
              "    <tr>\n",
              "      <th>4</th>\n",
              "      <td>NaN</td>\n",
              "      <td>6.167346e+05</td>\n",
              "      <td>22396.359375</td>\n",
              "      <td>131088.0</td>\n",
              "      <td>2731.000000</td>\n",
              "      <td>200.494083</td>\n",
              "      <td>2.327205</td>\n",
              "      <td>0.206504</td>\n",
              "      <td>93.088198</td>\n",
              "      <td>22811.661377</td>\n",
              "      <td>0.625000</td>\n",
              "      <td>22396.359619</td>\n",
              "      <td>0.625000</td>\n",
              "      <td>21981.057861</td>\n",
              "      <td>0.625000</td>\n",
              "    </tr>\n",
              "    <tr>\n",
              "      <th>5</th>\n",
              "      <td>NaN</td>\n",
              "      <td>1.430899e+06</td>\n",
              "      <td>28374.111328</td>\n",
              "      <td>303379.0</td>\n",
              "      <td>6320.395833</td>\n",
              "      <td>212.875740</td>\n",
              "      <td>2.776866</td>\n",
              "      <td>0.141427</td>\n",
              "      <td>111.074629</td>\n",
              "      <td>29915.784668</td>\n",
              "      <td>0.750000</td>\n",
              "      <td>28374.110840</td>\n",
              "      <td>0.750000</td>\n",
              "      <td>26832.437012</td>\n",
              "      <td>0.750000</td>\n",
              "    </tr>\n",
              "    <tr>\n",
              "      <th>6</th>\n",
              "      <td>NaN</td>\n",
              "      <td>1.045298e+08</td>\n",
              "      <td>193947.609375</td>\n",
              "      <td>1985325.0</td>\n",
              "      <td>41360.937500</td>\n",
              "      <td>1947.687870</td>\n",
              "      <td>2.074550</td>\n",
              "      <td>0.133180</td>\n",
              "      <td>82.981982</td>\n",
              "      <td>113893.219141</td>\n",
              "      <td>0.458333</td>\n",
              "      <td>193947.595703</td>\n",
              "      <td>0.458333</td>\n",
              "      <td>274001.972266</td>\n",
              "      <td>0.458333</td>\n",
              "    </tr>\n",
              "    <tr>\n",
              "      <th>7</th>\n",
              "      <td>NaN</td>\n",
              "      <td>5.076853e+07</td>\n",
              "      <td>150424.437500</td>\n",
              "      <td>1540706.0</td>\n",
              "      <td>32098.041667</td>\n",
              "      <td>1624.044379</td>\n",
              "      <td>1.929653</td>\n",
              "      <td>0.139257</td>\n",
              "      <td>77.186122</td>\n",
              "      <td>103851.577734</td>\n",
              "      <td>0.520833</td>\n",
              "      <td>150424.435547</td>\n",
              "      <td>0.520833</td>\n",
              "      <td>196997.293359</td>\n",
              "      <td>0.520833</td>\n",
              "    </tr>\n",
              "    <tr>\n",
              "      <th>8</th>\n",
              "      <td>NaN</td>\n",
              "      <td>6.711389e+07</td>\n",
              "      <td>214544.625000</td>\n",
              "      <td>1640860.0</td>\n",
              "      <td>34184.583333</td>\n",
              "      <td>1850.988166</td>\n",
              "      <td>2.414753</td>\n",
              "      <td>0.167868</td>\n",
              "      <td>96.590119</td>\n",
              "      <td>270047.983984</td>\n",
              "      <td>0.937500</td>\n",
              "      <td>214544.607422</td>\n",
              "      <td>0.937500</td>\n",
              "      <td>159041.230859</td>\n",
              "      <td>0.937500</td>\n",
              "    </tr>\n",
              "    <tr>\n",
              "      <th>9</th>\n",
              "      <td>NaN</td>\n",
              "      <td>1.026954e+04</td>\n",
              "      <td>1904.801514</td>\n",
              "      <td>21408.0</td>\n",
              "      <td>446.000000</td>\n",
              "      <td>10.526627</td>\n",
              "      <td>3.769808</td>\n",
              "      <td>0.127385</td>\n",
              "      <td>150.792329</td>\n",
              "      <td>1084.934570</td>\n",
              "      <td>0.520833</td>\n",
              "      <td>1904.801514</td>\n",
              "      <td>0.520833</td>\n",
              "      <td>2724.668457</td>\n",
              "      <td>0.520833</td>\n",
              "    </tr>\n",
              "  </tbody>\n",
              "</table>\n",
              "</div>"
            ],
            "text/plain": [
              "   item_id           MSE  ...  QuantileLoss[0.9]  Coverage[0.9]\n",
              "0      NaN  2.338038e+04  ...        3040.708582       0.875000\n",
              "1      NaN  5.956528e+05  ...       14575.376807       0.958333\n",
              "2      NaN  1.589772e+05  ...       18004.189526       0.312500\n",
              "3      NaN  1.577465e+06  ...       35659.118262       0.395833\n",
              "4      NaN  6.167346e+05  ...       21981.057861       0.625000\n",
              "5      NaN  1.430899e+06  ...       26832.437012       0.750000\n",
              "6      NaN  1.045298e+08  ...      274001.972266       0.458333\n",
              "7      NaN  5.076853e+07  ...      196997.293359       0.520833\n",
              "8      NaN  6.711389e+07  ...      159041.230859       0.937500\n",
              "9      NaN  1.026954e+04  ...        2724.668457       0.520833\n",
              "\n",
              "[10 rows x 15 columns]"
            ]
          },
          "metadata": {
            "tags": []
          },
          "execution_count": 42
        }
      ]
    },
    {
      "cell_type": "code",
      "metadata": {
        "id": "K8tIGGH9FH-Y",
        "colab_type": "code",
        "colab": {
          "base_uri": "https://localhost:8080/",
          "height": 283
        },
        "outputId": "3a91011e-4093-4ed2-a539-2e0642c53df4"
      },
      "source": [
        "item_metrics.plot(x='MSIS', y='MASE', kind='scatter')\n",
        "plt.grid(which=\"both\")\n",
        "plt.show()"
      ],
      "execution_count": 43,
      "outputs": [
        {
          "output_type": "display_data",
          "data": {
            "image/png": "[encoded data removed]",
            "text/plain": [
              "<Figure size 432x288 with 1 Axes>"
            ]
          },
          "metadata": {
            "tags": [],
            "needs_background": "light"
          }
        }
      ]
    },
    {
      "cell_type": "code",
      "metadata": {
        "id": "rP6gV6uaHqP5",
        "colab_type": "code",
        "colab": {}
      },
      "source": [
        ""
      ],
      "execution_count": 0,
      "outputs": []
    }
  ]
}