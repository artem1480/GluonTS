{
  "nbformat": 4,
  "nbformat_minor": 0,
  "metadata": {
    "colab": {
      "name": "DeepFactor_YJ2",
      "provenance": [],
      "collapsed_sections": [],
      "include_colab_link": true
    },
    "kernelspec": {
      "name": "python3",
      "display_name": "Python 3"
    }
  },
  "cells": [
    {
      "cell_type": "markdown",
      "metadata": {
        "id": "view-in-github",
        "colab_type": "text"
      },
      "source": [
        "<a href=\"https://colab.research.google.com/github/iskra3138/GluonTS/blob/master/DeepFactor_YJ2.ipynb\" target=\"_parent\"><img src=\"https://colab.research.google.com/assets/colab-badge.svg\" alt=\"Open In Colab\"/></a>"
      ]
    },
    {
      "cell_type": "markdown",
      "metadata": {
        "id": "MtkVPqoH9Rfy",
        "colab_type": "text"
      },
      "source": [
        "# Install mxnet and gluonts"
      ]
    },
    {
      "cell_type": "code",
      "metadata": {
        "id": "XpYiCxWFwrdF",
        "colab_type": "code",
        "outputId": "ce5153b1-e4c6-41ff-b8d2-d3b9788e5245",
        "colab": {
          "base_uri": "https://localhost:8080/",
          "height": 413
        }
      },
      "source": [
        "pip install --upgrade mxnet==1.6 gluonts"
      ],
      "execution_count": 0,
      "outputs": [
        {
          "output_type": "stream",
          "text": [
            "Requirement already up-to-date: mxnet==1.6 in /usr/local/lib/python3.6/dist-packages (1.6.0)\n",
            "Requirement already up-to-date: gluonts in /usr/local/lib/python3.6/dist-packages (0.5.0)\n",
            "Requirement already satisfied, skipping upgrade: numpy<2.0.0,>1.16.0 in /usr/local/lib/python3.6/dist-packages (from mxnet==1.6) (1.18.4)\n",
            "Requirement already satisfied, skipping upgrade: requests<3,>=2.20.0 in /usr/local/lib/python3.6/dist-packages (from mxnet==1.6) (2.23.0)\n",
            "Requirement already satisfied, skipping upgrade: graphviz<0.9.0,>=0.8.1 in /usr/local/lib/python3.6/dist-packages (from mxnet==1.6) (0.8.4)\n",
            "Requirement already satisfied, skipping upgrade: holidays<0.10,>=0.9 in /usr/local/lib/python3.6/dist-packages (from gluonts) (0.9.12)\n",
            "Requirement already satisfied, skipping upgrade: pydantic~=1.1 in /usr/local/lib/python3.6/dist-packages (from gluonts) (1.5.1)\n",
            "Requirement already satisfied, skipping upgrade: ujson~=1.35 in /usr/local/lib/python3.6/dist-packages (from gluonts) (1.35)\n",
            "Requirement already satisfied, skipping upgrade: tqdm~=4.23 in /usr/local/lib/python3.6/dist-packages (from gluonts) (4.41.1)\n",
            "Requirement already satisfied, skipping upgrade: matplotlib~=3.0 in /usr/local/lib/python3.6/dist-packages (from gluonts) (3.2.1)\n",
            "Requirement already satisfied, skipping upgrade: pandas~=1.0 in /usr/local/lib/python3.6/dist-packages (from gluonts) (1.0.3)\n",
            "Requirement already satisfied, skipping upgrade: certifi>=2017.4.17 in /usr/local/lib/python3.6/dist-packages (from requests<3,>=2.20.0->mxnet==1.6) (2020.4.5.1)\n",
            "Requirement already satisfied, skipping upgrade: chardet<4,>=3.0.2 in /usr/local/lib/python3.6/dist-packages (from requests<3,>=2.20.0->mxnet==1.6) (3.0.4)\n",
            "Requirement already satisfied, skipping upgrade: idna<3,>=2.5 in /usr/local/lib/python3.6/dist-packages (from requests<3,>=2.20.0->mxnet==1.6) (2.9)\n",
            "Requirement already satisfied, skipping upgrade: urllib3!=1.25.0,!=1.25.1,<1.26,>=1.21.1 in /usr/local/lib/python3.6/dist-packages (from requests<3,>=2.20.0->mxnet==1.6) (1.24.3)\n",
            "Requirement already satisfied, skipping upgrade: six in /usr/local/lib/python3.6/dist-packages (from holidays<0.10,>=0.9->gluonts) (1.12.0)\n",
            "Requirement already satisfied, skipping upgrade: python-dateutil in /usr/local/lib/python3.6/dist-packages (from holidays<0.10,>=0.9->gluonts) (2.8.1)\n",
            "Requirement already satisfied, skipping upgrade: dataclasses>=0.6; python_version < \"3.7\" in /usr/local/lib/python3.6/dist-packages (from pydantic~=1.1->gluonts) (0.7)\n",
            "Requirement already satisfied, skipping upgrade: pyparsing!=2.0.4,!=2.1.2,!=2.1.6,>=2.0.1 in /usr/local/lib/python3.6/dist-packages (from matplotlib~=3.0->gluonts) (2.4.7)\n",
            "Requirement already satisfied, skipping upgrade: cycler>=0.10 in /usr/local/lib/python3.6/dist-packages (from matplotlib~=3.0->gluonts) (0.10.0)\n",
            "Requirement already satisfied, skipping upgrade: kiwisolver>=1.0.1 in /usr/local/lib/python3.6/dist-packages (from matplotlib~=3.0->gluonts) (1.2.0)\n",
            "Requirement already satisfied, skipping upgrade: pytz>=2017.2 in /usr/local/lib/python3.6/dist-packages (from pandas~=1.0->gluonts) (2018.9)\n"
          ],
          "name": "stdout"
        }
      ]
    },
    {
      "cell_type": "markdown",
      "metadata": {
        "id": "LmbEt0H9GYBt",
        "colab_type": "text"
      },
      "source": [
        "## Dataset Loading"
      ]
    },
    {
      "cell_type": "code",
      "metadata": {
        "id": "CS73SazB-iAi",
        "colab_type": "code",
        "colab": {}
      },
      "source": [
        "# Third-party imports\n",
        "%matplotlib inline\n",
        "import mxnet as mx\n",
        "from mxnet import gluon\n",
        "#import numpy as np\n",
        "#import pandas as pd\n",
        "import matplotlib.pyplot as plt\n",
        "import json\n",
        "#import os"
      ],
      "execution_count": 0,
      "outputs": []
    },
    {
      "cell_type": "code",
      "metadata": {
        "id": "YyFHxQYCGWpO",
        "colab_type": "code",
        "colab": {}
      },
      "source": [
        "from gluonts.dataset.repository.datasets import get_dataset, dataset_recipes\n",
        "#from gluonts.dataset.util import to_pandas"
      ],
      "execution_count": 0,
      "outputs": []
    },
    {
      "cell_type": "code",
      "metadata": {
        "id": "CET-Px0euwLy",
        "colab_type": "code",
        "colab": {}
      },
      "source": [
        "from gluonts.dataset.common import ListDataset\n",
        "from gluonts.dataset.field_names import FieldName"
      ],
      "execution_count": 0,
      "outputs": []
    },
    {
      "cell_type": "code",
      "metadata": {
        "id": "PwbJirQ67oj9",
        "colab_type": "code",
        "colab": {}
      },
      "source": [
        "from gluonts.model.deepar import DeepAREstimator\n",
        "from gluonts.model.deep_factor import DeepFactorEstimator\n",
        "from gluonts.distribution.gaussian import GaussianOutput\n",
        "from gluonts.distribution.student_t import StudentTOutput\n",
        "from gluonts.trainer import Trainer\n",
        "from gluonts.evaluation.backtest import make_evaluation_predictions\n",
        "from gluonts.evaluation import Evaluator"
      ],
      "execution_count": 0,
      "outputs": []
    },
    {
      "cell_type": "markdown",
      "metadata": {
        "id": "jbPo1rHY7nGe",
        "colab_type": "text"
      },
      "source": [
        "## Experiment of DeepFactor"
      ]
    },
    {
      "cell_type": "markdown",
      "metadata": {
        "id": "cqSRuhYNUhe4",
        "colab_type": "text"
      },
      "source": [
        "## electricity"
      ]
    },
    {
      "cell_type": "code",
      "metadata": {
        "id": "QUlhWYZLGqAa",
        "colab_type": "code",
        "outputId": "f8bbe573-0c00-4a5d-a997-de42434ed417",
        "colab": {
          "base_uri": "https://localhost:8080/",
          "height": 53
        }
      },
      "source": [
        "elec_dataset = get_dataset(\"electricity\", regenerate=False)"
      ],
      "execution_count": 0,
      "outputs": [
        {
          "output_type": "stream",
          "text": [
            "saving time-series into /root/.mxnet/gluon-ts/datasets/electricity/train/data.json\n",
            "saving time-series into /root/.mxnet/gluon-ts/datasets/electricity/test/data.json\n"
          ],
          "name": "stdout"
        }
      ]
    },
    {
      "cell_type": "code",
      "metadata": {
        "colab_type": "code",
        "outputId": "58b9c2da-5d7e-47c6-d449-0bee56ee5976",
        "id": "pISvJSGLmogL",
        "colab": {
          "base_uri": "https://localhost:8080/",
          "height": 53
        }
      },
      "source": [
        "print (len(elec_dataset.train))\n",
        "print (len(elec_dataset.test))"
      ],
      "execution_count": 0,
      "outputs": [
        {
          "output_type": "stream",
          "text": [
            "321\n",
            "2247\n"
          ],
          "name": "stdout"
        }
      ]
    },
    {
      "cell_type": "code",
      "metadata": {
        "colab_type": "code",
        "outputId": "d75fe4f0-9a6c-4a47-d1a6-992e17e30799",
        "id": "Gg6BjsIAmogR",
        "colab": {
          "base_uri": "https://localhost:8080/",
          "height": 35
        }
      },
      "source": [
        "elec_dataset.metadata"
      ],
      "execution_count": 0,
      "outputs": [
        {
          "output_type": "execute_result",
          "data": {
            "text/plain": [
              "MetaData(freq='1H', target=None, feat_static_cat=[CategoricalFeatureInfo(name='feat_static_cat', cardinality='321')], feat_static_real=[], feat_dynamic_real=[], feat_dynamic_cat=[], prediction_length=24)"
            ]
          },
          "metadata": {
            "tags": []
          },
          "execution_count": 8
        }
      ]
    },
    {
      "cell_type": "code",
      "metadata": {
        "id": "kh_5nT7SmwD5",
        "colab_type": "code",
        "outputId": "2380cbb7-5a04-4501-e4ea-612147f0958d",
        "colab": {
          "base_uri": "https://localhost:8080/",
          "height": 35
        }
      },
      "source": [
        "elec_dataset.metadata.feat_static_cat[0]"
      ],
      "execution_count": 0,
      "outputs": [
        {
          "output_type": "execute_result",
          "data": {
            "text/plain": [
              "CategoricalFeatureInfo(name='feat_static_cat', cardinality='321')"
            ]
          },
          "metadata": {
            "tags": []
          },
          "execution_count": 9
        }
      ]
    },
    {
      "cell_type": "code",
      "metadata": {
        "id": "28gBmOGVoMgV",
        "colab_type": "code",
        "colab": {}
      },
      "source": [
        "car = [int(elec_dataset.metadata.feat_static_cat[0].cardinality)]"
      ],
      "execution_count": 0,
      "outputs": []
    },
    {
      "cell_type": "code",
      "metadata": {
        "colab_type": "code",
        "outputId": "34f97096-7183-4122-c519-adb2fc0e805c",
        "id": "Q-ZkZHs2mogU",
        "colab": {
          "base_uri": "https://localhost:8080/",
          "height": 35
        }
      },
      "source": [
        "next(iter(elec_dataset.train)).keys()"
      ],
      "execution_count": 0,
      "outputs": [
        {
          "output_type": "execute_result",
          "data": {
            "text/plain": [
              "dict_keys(['start', 'target', 'feat_static_cat', 'item_id', 'source'])"
            ]
          },
          "metadata": {
            "tags": []
          },
          "execution_count": 11
        }
      ]
    },
    {
      "cell_type": "code",
      "metadata": {
        "id": "Ez4xa_EAuwHV",
        "colab_type": "code",
        "colab": {}
      },
      "source": [
        "test_ds_24 = ListDataset([{FieldName.START: entry['start'],\n",
        "                        FieldName.TARGET: entry['target'],\n",
        "                        FieldName.FEAT_STATIC_CAT: entry['feat_static_cat'],\n",
        "                        FieldName.ITEM_ID: entry['item_id'],\n",
        "                        }\n",
        "                       for entry in iter(elec_dataset.test) if len(entry['target']) == 21068\n",
        "                       ],\n",
        "                     freq=elec_dataset.metadata.freq)"
      ],
      "execution_count": 0,
      "outputs": []
    },
    {
      "cell_type": "code",
      "metadata": {
        "colab_type": "code",
        "id": "SOijOJKyH3hL",
        "colab": {}
      },
      "source": [
        "# https://gluon-ts.mxnet.io/api/gluonts/gluonts.trainer.html\n",
        "deepfactor_trainer=Trainer(\n",
        "    ctx = 'cpu',\n",
        "    epochs=100, # (default: 100).\n",
        "    batch_size=32,# (default: 32).\n",
        "    num_batches_per_epoch=50, # (default: 50).\n",
        "    learning_rate=0.001, # (default:  10^−3 ).\n",
        "    learning_rate_decay_factor=0.5, # (default: 0.5).\n",
        "    patience = 10, # (default: 10).\n",
        "    minimum_learning_rate=5e-05, # (default:  5⋅10^−5 ).\n",
        "    clip_gradient = 10.0, # (default: 10).\n",
        "    weight_decay=1e-08, #  (default  10^−8 ).\n",
        "    init='xavier', #  (default: “xavier”).\n",
        "    hybridize=True, \n",
        "    )"
      ],
      "execution_count": 0,
      "outputs": []
    },
    {
      "cell_type": "code",
      "metadata": {
        "colab_type": "code",
        "id": "zqz0laFMH3hN",
        "colab": {}
      },
      "source": [
        "# https://gluon-ts.mxnet.io/api/gluonts/gluonts.model.deep_factor.html\n",
        "DF_estimator = DeepFactorEstimator(\n",
        "    freq=elec_dataset.metadata.freq, # Time series frequency\n",
        "    prediction_length=elec_dataset.metadata.prediction_length, # Prediction length.\n",
        "    num_hidden_global=50, # (default: 50).\n",
        "    num_layers_global=1, # (default: 1).\n",
        "    num_factors=10, # (default: 10).\n",
        "    num_hidden_local=5, # (default: 5).\n",
        "    num_layers_local=1, # (default: 1).\n",
        "    cell_type='lstm', # (default: ‘lstm’).\n",
        "    trainer = deepfactor_trainer, # (default: Trainer()).\n",
        "    context_length=None, # (default: None, in which case context_length = prediction_length).\n",
        "    num_parallel_samples=100, # (default: 100).\n",
        "    cardinality=car, # (default: list([1]).\n",
        "    embedding_dimension=10, # (default: 10).\n",
        "    distr_output=StudentTOutput(), # (default: StudentTOutput()).\n",
        ")"
      ],
      "execution_count": 0,
      "outputs": []
    },
    {
      "cell_type": "code",
      "metadata": {
        "colab_type": "code",
        "id": "ig9ceH0SH3hQ",
        "outputId": "96600af8-4869-484f-b982-beb3c28e3a21",
        "colab": {
          "base_uri": "https://localhost:8080/",
          "height": 1000
        }
      },
      "source": [
        "DF_predictor = DF_estimator.train(elec_dataset.train)"
      ],
      "execution_count": 0,
      "outputs": [
        {
          "output_type": "stream",
          "text": [
            "\r  0%|          | 0/50 [00:00<?, ?it/s]"
          ],
          "name": "stderr"
        },
        {
          "output_type": "stream",
          "text": [
            "learning rate from ``lr_scheduler`` has been overwritten by ``learning_rate`` in optimizer.\n"
          ],
          "name": "stdout"
        },
        {
          "output_type": "stream",
          "text": [
            "100%|██████████| 50/50 [00:10<00:00,  4.86it/s, epoch=1/100, avg_epoch_loss=1.25e+8]\n",
            "100%|██████████| 50/50 [00:09<00:00,  5.02it/s, epoch=2/100, avg_epoch_loss=6.52e+7]\n",
            "100%|██████████| 50/50 [00:10<00:00,  4.94it/s, epoch=3/100, avg_epoch_loss=4.39e+7]\n",
            "100%|██████████| 50/50 [00:10<00:00,  4.89it/s, epoch=4/100, avg_epoch_loss=2.2e+7] \n",
            "100%|██████████| 50/50 [00:10<00:00,  4.81it/s, epoch=5/100, avg_epoch_loss=1.19e+7]\n",
            "100%|██████████| 50/50 [00:10<00:00,  4.92it/s, epoch=6/100, avg_epoch_loss=7.15e+6]\n",
            "100%|██████████| 50/50 [00:10<00:00,  4.95it/s, epoch=7/100, avg_epoch_loss=4.61e+6]\n",
            "100%|██████████| 50/50 [00:10<00:00,  4.98it/s, epoch=8/100, avg_epoch_loss=3e+6]\n",
            "100%|██████████| 50/50 [00:09<00:00,  5.01it/s, epoch=9/100, avg_epoch_loss=1.24e+6]\n",
            "100%|██████████| 50/50 [00:09<00:00,  5.00it/s, epoch=10/100, avg_epoch_loss=8.17e+5]\n",
            "100%|██████████| 50/50 [00:09<00:00,  5.02it/s, epoch=11/100, avg_epoch_loss=6.89e+5]\n",
            "100%|██████████| 50/50 [00:10<00:00,  5.00it/s, epoch=12/100, avg_epoch_loss=6.05e+5]\n",
            "100%|██████████| 50/50 [00:10<00:00,  4.98it/s, epoch=13/100, avg_epoch_loss=5.23e+5]\n",
            "100%|██████████| 50/50 [00:10<00:00,  4.98it/s, epoch=14/100, avg_epoch_loss=4.54e+5]\n",
            "100%|██████████| 50/50 [00:09<00:00,  5.00it/s, epoch=15/100, avg_epoch_loss=3.9e+5]\n",
            "100%|██████████| 50/50 [00:09<00:00,  5.01it/s, epoch=16/100, avg_epoch_loss=3.65e+5]\n",
            "100%|██████████| 50/50 [00:09<00:00,  5.01it/s, epoch=17/100, avg_epoch_loss=3.26e+5]\n",
            "100%|██████████| 50/50 [00:09<00:00,  5.00it/s, epoch=18/100, avg_epoch_loss=2.87e+5]\n",
            "100%|██████████| 50/50 [00:10<00:00,  4.83it/s, epoch=19/100, avg_epoch_loss=2.7e+5] \n",
            "100%|██████████| 50/50 [00:10<00:00,  4.99it/s, epoch=20/100, avg_epoch_loss=2.74e+5]\n",
            "100%|██████████| 50/50 [00:10<00:00,  4.99it/s, epoch=21/100, avg_epoch_loss=2.34e+5]\n",
            "100%|██████████| 50/50 [00:10<00:00,  4.96it/s, epoch=22/100, avg_epoch_loss=1.93e+5]\n",
            "100%|██████████| 50/50 [00:09<00:00,  5.01it/s, epoch=23/100, avg_epoch_loss=1.91e+5]\n",
            "100%|██████████| 50/50 [00:10<00:00,  4.93it/s, epoch=24/100, avg_epoch_loss=1.72e+5]\n",
            "100%|██████████| 50/50 [00:10<00:00,  4.96it/s, epoch=25/100, avg_epoch_loss=1.64e+5]\n",
            "100%|██████████| 50/50 [00:10<00:00,  4.95it/s, epoch=26/100, avg_epoch_loss=1.58e+5]\n",
            "100%|██████████| 50/50 [00:10<00:00,  4.98it/s, epoch=27/100, avg_epoch_loss=1.56e+5]\n",
            "100%|██████████| 50/50 [00:10<00:00,  4.96it/s, epoch=28/100, avg_epoch_loss=1.32e+5]\n",
            "100%|██████████| 50/50 [00:10<00:00,  4.96it/s, epoch=29/100, avg_epoch_loss=1.4e+5]\n",
            "100%|██████████| 50/50 [00:10<00:00,  4.94it/s, epoch=30/100, avg_epoch_loss=1.13e+5]\n",
            "100%|██████████| 50/50 [00:10<00:00,  4.97it/s, epoch=31/100, avg_epoch_loss=1.15e+5]\n",
            "100%|██████████| 50/50 [00:10<00:00,  4.99it/s, epoch=32/100, avg_epoch_loss=1.01e+5]\n",
            "100%|██████████| 50/50 [00:10<00:00,  4.96it/s, epoch=33/100, avg_epoch_loss=1.17e+5]\n",
            "100%|██████████| 50/50 [00:10<00:00,  4.99it/s, epoch=34/100, avg_epoch_loss=9.61e+4]\n",
            "100%|██████████| 50/50 [00:10<00:00,  4.86it/s, epoch=35/100, avg_epoch_loss=1.03e+5]\n",
            "100%|██████████| 50/50 [00:09<00:00,  5.01it/s, epoch=36/100, avg_epoch_loss=8.07e+4]\n",
            "100%|██████████| 50/50 [00:10<00:00,  4.98it/s, epoch=37/100, avg_epoch_loss=9.13e+4]\n",
            "100%|██████████| 50/50 [00:10<00:00,  4.98it/s, epoch=38/100, avg_epoch_loss=7.22e+4]\n",
            "100%|██████████| 50/50 [00:10<00:00,  4.97it/s, epoch=39/100, avg_epoch_loss=7.14e+4]\n",
            "100%|██████████| 50/50 [00:09<00:00,  5.00it/s, epoch=40/100, avg_epoch_loss=6.93e+4]\n",
            "100%|██████████| 50/50 [00:09<00:00,  5.01it/s, epoch=41/100, avg_epoch_loss=6.54e+4]\n",
            "100%|██████████| 50/50 [00:10<00:00,  4.98it/s, epoch=42/100, avg_epoch_loss=5.66e+4]\n",
            "100%|██████████| 50/50 [00:10<00:00,  4.97it/s, epoch=43/100, avg_epoch_loss=5.78e+4]\n",
            "100%|██████████| 50/50 [00:10<00:00,  4.96it/s, epoch=44/100, avg_epoch_loss=5.25e+4]\n",
            "100%|██████████| 50/50 [00:10<00:00,  4.97it/s, epoch=45/100, avg_epoch_loss=5.13e+4]\n",
            "100%|██████████| 50/50 [00:10<00:00,  4.98it/s, epoch=46/100, avg_epoch_loss=5.4e+4]\n",
            "100%|██████████| 50/50 [00:10<00:00,  4.99it/s, epoch=47/100, avg_epoch_loss=5.23e+4]\n",
            "100%|██████████| 50/50 [00:10<00:00,  4.95it/s, epoch=48/100, avg_epoch_loss=4.5e+4]\n",
            "100%|██████████| 50/50 [00:10<00:00,  4.90it/s, epoch=49/100, avg_epoch_loss=4.32e+4]\n",
            "100%|██████████| 50/50 [00:10<00:00,  4.77it/s, epoch=50/100, avg_epoch_loss=5.76e+4]\n",
            "100%|██████████| 50/50 [00:10<00:00,  4.98it/s, epoch=51/100, avg_epoch_loss=4.34e+4]\n",
            "100%|██████████| 50/50 [00:10<00:00,  4.98it/s, epoch=52/100, avg_epoch_loss=3.68e+4]\n",
            "100%|██████████| 50/50 [00:10<00:00,  4.98it/s, epoch=53/100, avg_epoch_loss=4.54e+4]\n",
            "100%|██████████| 50/50 [00:10<00:00,  4.97it/s, epoch=54/100, avg_epoch_loss=4.12e+4]\n",
            "100%|██████████| 50/50 [00:10<00:00,  4.94it/s, epoch=55/100, avg_epoch_loss=3.73e+4]\n",
            "100%|██████████| 50/50 [00:10<00:00,  4.96it/s, epoch=56/100, avg_epoch_loss=3.59e+4]\n",
            "100%|██████████| 50/50 [00:10<00:00,  4.95it/s, epoch=57/100, avg_epoch_loss=4.42e+4]\n",
            "100%|██████████| 50/50 [00:10<00:00,  4.97it/s, epoch=58/100, avg_epoch_loss=3.57e+4]\n",
            "100%|██████████| 50/50 [00:10<00:00,  4.96it/s, epoch=59/100, avg_epoch_loss=3.51e+4]\n",
            "100%|██████████| 50/50 [00:11<00:00,  4.34it/s, epoch=60/100, avg_epoch_loss=3.53e+4]\n",
            "100%|██████████| 50/50 [00:11<00:00,  4.22it/s, epoch=61/100, avg_epoch_loss=3.06e+4]\n",
            "100%|██████████| 50/50 [00:10<00:00,  4.97it/s, epoch=62/100, avg_epoch_loss=2.93e+4]\n",
            "100%|██████████| 50/50 [00:10<00:00,  4.97it/s, epoch=63/100, avg_epoch_loss=2.99e+4]\n",
            "100%|██████████| 50/50 [00:10<00:00,  4.97it/s, epoch=64/100, avg_epoch_loss=2.76e+4]\n",
            "100%|██████████| 50/50 [00:10<00:00,  4.88it/s, epoch=65/100, avg_epoch_loss=2.56e+4]\n",
            "100%|██████████| 50/50 [00:10<00:00,  4.97it/s, epoch=66/100, avg_epoch_loss=1.93e+4]\n",
            "100%|██████████| 50/50 [00:10<00:00,  4.96it/s, epoch=67/100, avg_epoch_loss=2.47e+4]\n",
            "100%|██████████| 50/50 [00:10<00:00,  4.96it/s, epoch=68/100, avg_epoch_loss=2.53e+4]\n",
            "100%|██████████| 50/50 [00:10<00:00,  4.96it/s, epoch=69/100, avg_epoch_loss=2.22e+4]\n",
            "100%|██████████| 50/50 [00:10<00:00,  4.97it/s, epoch=70/100, avg_epoch_loss=1.81e+4]\n",
            "100%|██████████| 50/50 [00:10<00:00,  4.96it/s, epoch=71/100, avg_epoch_loss=1.59e+4]\n",
            "100%|██████████| 50/50 [00:10<00:00,  4.98it/s, epoch=72/100, avg_epoch_loss=1.93e+4]\n",
            "100%|██████████| 50/50 [00:10<00:00,  4.98it/s, epoch=73/100, avg_epoch_loss=1.84e+4]\n",
            "100%|██████████| 50/50 [00:09<00:00,  5.01it/s, epoch=74/100, avg_epoch_loss=1.81e+4]\n",
            "100%|██████████| 50/50 [00:10<00:00,  4.98it/s, epoch=75/100, avg_epoch_loss=1.62e+4]\n",
            "100%|██████████| 50/50 [00:09<00:00,  5.01it/s, epoch=76/100, avg_epoch_loss=1.26e+4]\n",
            "100%|██████████| 50/50 [00:09<00:00,  5.01it/s, epoch=77/100, avg_epoch_loss=1.21e+4]\n",
            "100%|██████████| 50/50 [00:09<00:00,  5.01it/s, epoch=78/100, avg_epoch_loss=1.36e+4]\n",
            "100%|██████████| 50/50 [00:10<00:00,  4.99it/s, epoch=79/100, avg_epoch_loss=1.07e+4]\n",
            "100%|██████████| 50/50 [00:10<00:00,  4.95it/s, epoch=80/100, avg_epoch_loss=1.12e+4]\n",
            "100%|██████████| 50/50 [00:10<00:00,  4.92it/s, epoch=81/100, avg_epoch_loss=1.19e+4]\n",
            "100%|██████████| 50/50 [00:09<00:00,  5.03it/s, epoch=82/100, avg_epoch_loss=1.28e+4]\n",
            "100%|██████████| 50/50 [00:10<00:00,  4.99it/s, epoch=83/100, avg_epoch_loss=1.71e+4]\n",
            "100%|██████████| 50/50 [00:09<00:00,  5.00it/s, epoch=84/100, avg_epoch_loss=1.05e+4]\n",
            "100%|██████████| 50/50 [00:10<00:00,  4.98it/s, epoch=85/100, avg_epoch_loss=1.14e+4]\n",
            "100%|██████████| 50/50 [00:09<00:00,  5.01it/s, epoch=86/100, avg_epoch_loss=1.11e+4]\n",
            "100%|██████████| 50/50 [00:09<00:00,  5.00it/s, epoch=87/100, avg_epoch_loss=8.18e+3]\n",
            "100%|██████████| 50/50 [00:09<00:00,  5.02it/s, epoch=88/100, avg_epoch_loss=8.74e+3]\n",
            "100%|██████████| 50/50 [00:09<00:00,  5.01it/s, epoch=89/100, avg_epoch_loss=8.3e+3]\n",
            "100%|██████████| 50/50 [00:09<00:00,  5.01it/s, epoch=90/100, avg_epoch_loss=8.45e+3]\n",
            "100%|██████████| 50/50 [00:09<00:00,  5.02it/s, epoch=91/100, avg_epoch_loss=8.4e+3]\n",
            "100%|██████████| 50/50 [00:10<00:00,  4.99it/s, epoch=92/100, avg_epoch_loss=7.57e+3]\n",
            "100%|██████████| 50/50 [00:09<00:00,  5.02it/s, epoch=93/100, avg_epoch_loss=1.25e+4]\n",
            "100%|██████████| 50/50 [00:09<00:00,  5.04it/s, epoch=94/100, avg_epoch_loss=8.81e+3]\n",
            "100%|██████████| 50/50 [00:09<00:00,  5.02it/s, epoch=95/100, avg_epoch_loss=7.89e+3]\n",
            "100%|██████████| 50/50 [00:10<00:00,  4.87it/s, epoch=96/100, avg_epoch_loss=6.52e+3]\n",
            "100%|██████████| 50/50 [00:10<00:00,  4.98it/s, epoch=97/100, avg_epoch_loss=1.14e+4]\n",
            "100%|██████████| 50/50 [00:09<00:00,  5.02it/s, epoch=98/100, avg_epoch_loss=5.69e+3]\n",
            "100%|██████████| 50/50 [00:10<00:00,  5.00it/s, epoch=99/100, avg_epoch_loss=6.94e+3]\n",
            "100%|██████████| 50/50 [00:09<00:00,  5.01it/s, epoch=100/100, avg_epoch_loss=7.78e+3]\n"
          ],
          "name": "stderr"
        }
      ]
    },
    {
      "cell_type": "code",
      "metadata": {
        "id": "iVGO7KRtorHw",
        "colab_type": "code",
        "outputId": "daa2f452-f839-4f0a-9cd7-27bfbf175a70",
        "colab": {
          "base_uri": "https://localhost:8080/",
          "height": 503
        }
      },
      "source": [
        "# Evaluation for all test data\n",
        "forecast_it, ts_it = make_evaluation_predictions(\n",
        "    dataset=elec_dataset.test, \n",
        "    predictor=DF_predictor, \n",
        "    num_samples=100, \n",
        ")\n",
        "\n",
        "forecasts = list(forecast_it)\n",
        "tss = list(ts_it)\n",
        "\n",
        "evaluator = Evaluator(quantiles=[0.1, 0.5, 0.9])\n",
        "agg_metrics, item_metrics = evaluator(iter(tss), iter(forecasts), num_series=len(elec_dataset.test))\n",
        "\n",
        "print(json.dumps(agg_metrics, indent=4))"
      ],
      "execution_count": 0,
      "outputs": [
        {
          "output_type": "stream",
          "text": [
            "Running evaluation: 100%|██████████| 2247/2247 [00:00<00:00, 45718.09it/s]\n"
          ],
          "name": "stderr"
        },
        {
          "output_type": "stream",
          "text": [
            "{\n",
            "    \"MSE\": 25993367.61071011,\n",
            "    \"abs_error\": 35274492.36671448,\n",
            "    \"abs_target_sum\": 128632956.0,\n",
            "    \"abs_target_mean\": 2385.272140631948,\n",
            "    \"seasonal_error\": 189.4933819611677,\n",
            "    \"MASE\": 2.648145734615828,\n",
            "    \"MAPE\": 0.2922686890965108,\n",
            "    \"sMAPE\": 0.29726672704196405,\n",
            "    \"OWA\": NaN,\n",
            "    \"MSIS\": 76.59054661067174,\n",
            "    \"QuantileLoss[0.1]\": 27819210.360164642,\n",
            "    \"Coverage[0.1]\": 0.26707832665776593,\n",
            "    \"QuantileLoss[0.5]\": 35274492.24931861,\n",
            "    \"Coverage[0.5]\": 0.39500815902685016,\n",
            "    \"QuantileLoss[0.9]\": 39991089.11282539,\n",
            "    \"Coverage[0.9]\": 0.5583184987390599,\n",
            "    \"RMSE\": 5098.3691128350165,\n",
            "    \"NRMSE\": 2.1374370772989733,\n",
            "    \"ND\": 0.2742259329460988,\n",
            "    \"wQuantileLoss[0.1]\": 0.21626814173627978,\n",
            "    \"wQuantileLoss[0.5]\": 0.2742259320334566,\n",
            "    \"wQuantileLoss[0.9]\": 0.3108930273889173,\n",
            "    \"mean_wQuantileLoss\": 0.2671290337195512,\n",
            "    \"MAE_Coverage\": 0.2045838896306186\n",
            "}\n"
          ],
          "name": "stdout"
        }
      ]
    },
    {
      "cell_type": "code",
      "metadata": {
        "colab_type": "code",
        "id": "GtBIDMrnEkW1",
        "outputId": "b5b3ce84-34df-482f-cd46-e38041201aae",
        "colab": {
          "base_uri": "https://localhost:8080/",
          "height": 503
        }
      },
      "source": [
        "# Evaluation for only 24H prediction test data \n",
        "forecast_it, ts_it = make_evaluation_predictions(\n",
        "    dataset=test_ds_24, \n",
        "    predictor=DF_predictor, \n",
        "    num_samples=100, \n",
        ")\n",
        "\n",
        "forecasts = list(forecast_it)\n",
        "tss = list(ts_it)\n",
        "\n",
        "evaluator = Evaluator(quantiles=[0.1, 0.5, 0.9])\n",
        "agg_metrics, item_metrics = evaluator(iter(tss), iter(forecasts), num_series=len(test_ds_24))\n",
        "\n",
        "print(json.dumps(agg_metrics, indent=4))"
      ],
      "execution_count": 0,
      "outputs": [
        {
          "output_type": "stream",
          "text": [
            "Running evaluation: 100%|██████████| 321/321 [00:00<00:00, 8219.81it/s]\n"
          ],
          "name": "stderr"
        },
        {
          "output_type": "stream",
          "text": [
            "{\n",
            "    \"MSE\": 11237881.446448408,\n",
            "    \"abs_error\": 4224858.509498596,\n",
            "    \"abs_target_sum\": 17268997.0,\n",
            "    \"abs_target_mean\": 2241.56243509865,\n",
            "    \"seasonal_error\": 189.64815247902152,\n",
            "    \"MASE\": 2.400687726079926,\n",
            "    \"MAPE\": 0.27595824507620137,\n",
            "    \"sMAPE\": 0.2968769958977066,\n",
            "    \"OWA\": NaN,\n",
            "    \"MSIS\": 67.19668753857242,\n",
            "    \"QuantileLoss[0.1]\": 3615421.5741348267,\n",
            "    \"Coverage[0.1]\": 0.2625908618899275,\n",
            "    \"QuantileLoss[0.5]\": 4224858.443302065,\n",
            "    \"Coverage[0.5]\": 0.38798026998961566,\n",
            "    \"QuantileLoss[0.9]\": 4443340.76124382,\n",
            "    \"Coverage[0.9]\": 0.5606178608515056,\n",
            "    \"RMSE\": 3352.2949521855035,\n",
            "    \"NRMSE\": 1.495517099900887,\n",
            "    \"ND\": 0.244649906969038,\n",
            "    \"wQuantileLoss[0.1]\": 0.2093590944589791,\n",
            "    \"wQuantileLoss[0.5]\": 0.24464990313577942,\n",
            "    \"wQuantileLoss[0.9]\": 0.25730161174061356,\n",
            "    \"mean_wQuantileLoss\": 0.23710353644512402,\n",
            "    \"MAE_Coverage\": 0.20466424368293543\n",
            "}\n"
          ],
          "name": "stdout"
        }
      ]
    },
    {
      "cell_type": "code",
      "metadata": {
        "id": "1HI9PXx0mi6C",
        "colab_type": "code",
        "colab": {}
      },
      "source": [
        ""
      ],
      "execution_count": 0,
      "outputs": []
    },
    {
      "cell_type": "markdown",
      "metadata": {
        "colab_type": "text",
        "id": "fy4faTqGUoxS"
      },
      "source": [
        "## exchange_rate"
      ]
    },
    {
      "cell_type": "code",
      "metadata": {
        "colab_type": "code",
        "id": "6JcEADfNUoxT",
        "outputId": "98352348-6380-4c98-d499-0466fc001e46",
        "colab": {
          "base_uri": "https://localhost:8080/",
          "height": 53
        }
      },
      "source": [
        "exchange_rate_dataset = get_dataset(\"exchange_rate\", regenerate=False)"
      ],
      "execution_count": 0,
      "outputs": [
        {
          "output_type": "stream",
          "text": [
            "saving time-series into /root/.mxnet/gluon-ts/datasets/exchange_rate/train/data.json\n",
            "saving time-series into /root/.mxnet/gluon-ts/datasets/exchange_rate/test/data.json\n"
          ],
          "name": "stdout"
        }
      ]
    },
    {
      "cell_type": "code",
      "metadata": {
        "colab_type": "code",
        "outputId": "66c3d899-d4bd-43ef-e1b4-99131d08eb68",
        "id": "kdnQ9-IwUoxV",
        "colab": {
          "base_uri": "https://localhost:8080/",
          "height": 53
        }
      },
      "source": [
        "print (len(exchange_rate_dataset.train))\n",
        "print (len(exchange_rate_dataset.test))"
      ],
      "execution_count": 0,
      "outputs": [
        {
          "output_type": "stream",
          "text": [
            "8\n",
            "40\n"
          ],
          "name": "stdout"
        }
      ]
    },
    {
      "cell_type": "code",
      "metadata": {
        "colab_type": "code",
        "outputId": "8372b565-caab-4cba-bf17-c36ec392b4e1",
        "id": "6zzH8t0ZUoxX",
        "colab": {
          "base_uri": "https://localhost:8080/",
          "height": 35
        }
      },
      "source": [
        "exchange_rate_dataset.metadata"
      ],
      "execution_count": 0,
      "outputs": [
        {
          "output_type": "execute_result",
          "data": {
            "text/plain": [
              "MetaData(freq='1B', target=None, feat_static_cat=[CategoricalFeatureInfo(name='feat_static_cat', cardinality='8')], feat_static_real=[], feat_dynamic_real=[], feat_dynamic_cat=[], prediction_length=30)"
            ]
          },
          "metadata": {
            "tags": []
          },
          "execution_count": 20
        }
      ]
    },
    {
      "cell_type": "code",
      "metadata": {
        "colab_type": "code",
        "outputId": "c1818642-4b11-4dcd-80e0-048106b7571b",
        "id": "mlWCjOAxo9B2",
        "colab": {
          "base_uri": "https://localhost:8080/",
          "height": 35
        }
      },
      "source": [
        "exchange_rate_dataset.metadata.feat_static_cat[0]"
      ],
      "execution_count": 0,
      "outputs": [
        {
          "output_type": "execute_result",
          "data": {
            "text/plain": [
              "CategoricalFeatureInfo(name='feat_static_cat', cardinality='8')"
            ]
          },
          "metadata": {
            "tags": []
          },
          "execution_count": 21
        }
      ]
    },
    {
      "cell_type": "code",
      "metadata": {
        "colab_type": "code",
        "id": "lWauZAdio9B8",
        "colab": {}
      },
      "source": [
        "car = [int(exchange_rate_dataset.metadata.feat_static_cat[0].cardinality)]"
      ],
      "execution_count": 0,
      "outputs": []
    },
    {
      "cell_type": "code",
      "metadata": {
        "colab_type": "code",
        "outputId": "56fab734-ade2-4a69-81b3-2373075989dc",
        "id": "Evq7k0huUoxn",
        "colab": {
          "base_uri": "https://localhost:8080/",
          "height": 35
        }
      },
      "source": [
        "next(iter(exchange_rate_dataset.train)).keys()"
      ],
      "execution_count": 0,
      "outputs": [
        {
          "output_type": "execute_result",
          "data": {
            "text/plain": [
              "dict_keys(['start', 'target', 'feat_static_cat', 'item_id', 'source'])"
            ]
          },
          "metadata": {
            "tags": []
          },
          "execution_count": 23
        }
      ]
    },
    {
      "cell_type": "code",
      "metadata": {
        "colab_type": "code",
        "id": "kreaWmN4Uoxt",
        "colab": {}
      },
      "source": [
        "# https://gluon-ts.mxnet.io/api/gluonts/gluonts.model.deep_factor.html\n",
        "DF_estimator = DeepFactorEstimator(\n",
        "    freq=exchange_rate_dataset.metadata.freq, # Time series frequency\n",
        "    prediction_length=exchange_rate_dataset.metadata.prediction_length, # Prediction length.\n",
        "    num_hidden_global=50, # (default: 50).\n",
        "    num_layers_global=1, # (default: 1).\n",
        "    num_factors=10, # (default: 10).\n",
        "    num_hidden_local=5, # (default: 5).\n",
        "    num_layers_local=1, # (default: 1).\n",
        "    cell_type='lstm', # (default: ‘lstm’).\n",
        "    trainer = deepfactor_trainer, # (default: Trainer()).\n",
        "    context_length=None, # (default: None, in which case context_length = prediction_length).\n",
        "    num_parallel_samples=100, # (default: 100).\n",
        "    cardinality=car, # (default: list([1]).\n",
        "    embedding_dimension=10, # (default: 10).\n",
        "    distr_output=StudentTOutput(), # (default: StudentTOutput()).\n",
        ")"
      ],
      "execution_count": 0,
      "outputs": []
    },
    {
      "cell_type": "code",
      "metadata": {
        "colab_type": "code",
        "outputId": "c032c44f-42f8-495d-b31a-cbc50e200c87",
        "id": "oLzqf7kYUoxv",
        "colab": {
          "base_uri": "https://localhost:8080/",
          "height": 1000
        }
      },
      "source": [
        "DF_predictor = DF_estimator.train(exchange_rate_dataset.train)"
      ],
      "execution_count": 0,
      "outputs": [
        {
          "output_type": "stream",
          "text": [
            "\r  0%|          | 0/50 [00:00<?, ?it/s]"
          ],
          "name": "stderr"
        },
        {
          "output_type": "stream",
          "text": [
            "learning rate from ``lr_scheduler`` has been overwritten by ``learning_rate`` in optimizer.\n"
          ],
          "name": "stdout"
        },
        {
          "output_type": "stream",
          "text": [
            "100%|██████████| 50/50 [00:04<00:00, 12.15it/s, epoch=1/100, avg_epoch_loss=0.579]\n",
            "100%|██████████| 50/50 [00:03<00:00, 12.62it/s, epoch=2/100, avg_epoch_loss=0.1]\n",
            "100%|██████████| 50/50 [00:03<00:00, 12.51it/s, epoch=3/100, avg_epoch_loss=-.6]\n",
            "100%|██████████| 50/50 [00:03<00:00, 12.60it/s, epoch=4/100, avg_epoch_loss=-1.2]\n",
            "100%|██████████| 50/50 [00:03<00:00, 12.55it/s, epoch=5/100, avg_epoch_loss=-1.68]\n",
            "100%|██████████| 50/50 [00:03<00:00, 12.54it/s, epoch=6/100, avg_epoch_loss=-2.08]\n",
            "100%|██████████| 50/50 [00:03<00:00, 12.58it/s, epoch=7/100, avg_epoch_loss=-2.44]\n",
            "100%|██████████| 50/50 [00:04<00:00, 12.47it/s, epoch=8/100, avg_epoch_loss=-2.78]\n",
            "100%|██████████| 50/50 [00:03<00:00, 12.51it/s, epoch=9/100, avg_epoch_loss=-3.09]\n",
            "100%|██████████| 50/50 [00:03<00:00, 12.57it/s, epoch=10/100, avg_epoch_loss=-3.39]\n",
            "100%|██████████| 50/50 [00:03<00:00, 12.53it/s, epoch=11/100, avg_epoch_loss=-3.66]\n",
            "100%|██████████| 50/50 [00:03<00:00, 12.60it/s, epoch=12/100, avg_epoch_loss=-3.8]\n",
            "100%|██████████| 50/50 [00:03<00:00, 12.60it/s, epoch=13/100, avg_epoch_loss=-3.74]\n",
            "100%|██████████| 50/50 [00:03<00:00, 12.50it/s, epoch=14/100, avg_epoch_loss=-3.91]\n",
            "100%|██████████| 50/50 [00:04<00:00, 12.19it/s, epoch=15/100, avg_epoch_loss=-3.93]\n",
            "100%|██████████| 50/50 [00:04<00:00, 12.15it/s, epoch=16/100, avg_epoch_loss=-3.89]\n",
            "100%|██████████| 50/50 [00:04<00:00, 12.34it/s, epoch=17/100, avg_epoch_loss=-3.99]\n",
            "100%|██████████| 50/50 [00:03<00:00, 12.64it/s, epoch=18/100, avg_epoch_loss=-4.04]\n",
            "100%|██████████| 50/50 [00:03<00:00, 12.56it/s, epoch=19/100, avg_epoch_loss=-4.07]\n",
            "100%|██████████| 50/50 [00:03<00:00, 12.54it/s, epoch=20/100, avg_epoch_loss=-4.1]\n",
            "100%|██████████| 50/50 [00:04<00:00, 12.46it/s, epoch=21/100, avg_epoch_loss=-4.13]\n",
            "100%|██████████| 50/50 [00:03<00:00, 12.52it/s, epoch=22/100, avg_epoch_loss=-4.15]\n",
            "100%|██████████| 50/50 [00:03<00:00, 12.57it/s, epoch=23/100, avg_epoch_loss=-4.18]\n",
            "100%|██████████| 50/50 [00:04<00:00, 12.46it/s, epoch=24/100, avg_epoch_loss=-4.2]\n",
            "100%|██████████| 50/50 [00:03<00:00, 12.54it/s, epoch=25/100, avg_epoch_loss=-4.22]\n",
            "100%|██████████| 50/50 [00:04<00:00, 11.31it/s, epoch=26/100, avg_epoch_loss=-4.25]\n",
            "100%|██████████| 50/50 [00:04<00:00, 12.08it/s, epoch=27/100, avg_epoch_loss=-4.27]\n",
            "100%|██████████| 50/50 [00:03<00:00, 12.56it/s, epoch=28/100, avg_epoch_loss=-4.3]\n",
            "100%|██████████| 50/50 [00:03<00:00, 12.51it/s, epoch=29/100, avg_epoch_loss=-4.33]\n",
            "100%|██████████| 50/50 [00:03<00:00, 12.62it/s, epoch=30/100, avg_epoch_loss=-4.36]\n",
            "100%|██████████| 50/50 [00:03<00:00, 12.54it/s, epoch=31/100, avg_epoch_loss=-4.39]\n",
            "100%|██████████| 50/50 [00:03<00:00, 12.63it/s, epoch=32/100, avg_epoch_loss=-4.43]\n",
            "100%|██████████| 50/50 [00:03<00:00, 12.62it/s, epoch=33/100, avg_epoch_loss=-4.39]\n",
            "100%|██████████| 50/50 [00:03<00:00, 12.54it/s, epoch=34/100, avg_epoch_loss=-4.37]\n",
            "100%|██████████| 50/50 [00:03<00:00, 12.64it/s, epoch=35/100, avg_epoch_loss=-4.46]\n",
            "100%|██████████| 50/50 [00:03<00:00, 12.52it/s, epoch=36/100, avg_epoch_loss=-4.51]\n",
            "100%|██████████| 50/50 [00:03<00:00, 12.55it/s, epoch=37/100, avg_epoch_loss=-4.55]\n",
            "100%|██████████| 50/50 [00:03<00:00, 12.53it/s, epoch=38/100, avg_epoch_loss=-4.58]\n",
            "100%|██████████| 50/50 [00:06<00:00,  7.67it/s, epoch=39/100, avg_epoch_loss=-4.61]\n",
            "100%|██████████| 50/50 [00:04<00:00, 10.89it/s, epoch=40/100, avg_epoch_loss=-4.64]\n",
            "100%|██████████| 50/50 [00:04<00:00, 12.46it/s, epoch=41/100, avg_epoch_loss=-4.65]\n",
            "100%|██████████| 50/50 [00:03<00:00, 12.62it/s, epoch=42/100, avg_epoch_loss=-4.67]\n",
            "100%|██████████| 50/50 [00:03<00:00, 12.50it/s, epoch=43/100, avg_epoch_loss=-4.68]\n",
            "100%|██████████| 50/50 [00:03<00:00, 12.54it/s, epoch=44/100, avg_epoch_loss=-4.7]\n",
            "100%|██████████| 50/50 [00:03<00:00, 12.52it/s, epoch=45/100, avg_epoch_loss=-4.71]\n",
            "100%|██████████| 50/50 [00:03<00:00, 12.51it/s, epoch=46/100, avg_epoch_loss=-4.72]\n",
            "100%|██████████| 50/50 [00:03<00:00, 12.58it/s, epoch=47/100, avg_epoch_loss=-4.74]\n",
            "100%|██████████| 50/50 [00:03<00:00, 12.51it/s, epoch=48/100, avg_epoch_loss=-4.75]\n",
            "100%|██████████| 50/50 [00:03<00:00, 12.53it/s, epoch=49/100, avg_epoch_loss=-4.76]\n",
            "100%|██████████| 50/50 [00:03<00:00, 12.54it/s, epoch=50/100, avg_epoch_loss=-4.77]\n",
            "100%|██████████| 50/50 [00:04<00:00, 12.48it/s, epoch=51/100, avg_epoch_loss=-4.78]\n",
            "100%|██████████| 50/50 [00:04<00:00, 12.05it/s, epoch=52/100, avg_epoch_loss=-4.79]\n",
            "100%|██████████| 50/50 [00:04<00:00, 12.18it/s, epoch=53/100, avg_epoch_loss=-4.8]\n",
            "100%|██████████| 50/50 [00:03<00:00, 12.51it/s, epoch=54/100, avg_epoch_loss=-4.81]\n",
            "100%|██████████| 50/50 [00:03<00:00, 12.53it/s, epoch=55/100, avg_epoch_loss=-4.82]\n",
            "100%|██████████| 50/50 [00:04<00:00, 12.38it/s, epoch=56/100, avg_epoch_loss=-4.82]\n",
            "100%|██████████| 50/50 [00:03<00:00, 12.51it/s, epoch=57/100, avg_epoch_loss=-4.83]\n",
            "100%|██████████| 50/50 [00:04<00:00, 12.36it/s, epoch=58/100, avg_epoch_loss=-4.84]\n",
            "100%|██████████| 50/50 [00:03<00:00, 12.51it/s, epoch=59/100, avg_epoch_loss=-4.84]\n",
            "100%|██████████| 50/50 [00:03<00:00, 12.50it/s, epoch=60/100, avg_epoch_loss=-4.85]\n",
            "100%|██████████| 50/50 [00:04<00:00, 12.48it/s, epoch=61/100, avg_epoch_loss=-4.85]\n",
            "100%|██████████| 50/50 [00:03<00:00, 12.58it/s, epoch=62/100, avg_epoch_loss=-4.86]\n",
            "100%|██████████| 50/50 [00:04<00:00, 12.44it/s, epoch=63/100, avg_epoch_loss=-4.86]\n",
            "100%|██████████| 50/50 [00:03<00:00, 12.53it/s, epoch=64/100, avg_epoch_loss=-4.87]\n",
            "100%|██████████| 50/50 [00:03<00:00, 12.56it/s, epoch=65/100, avg_epoch_loss=-4.87]\n",
            "100%|██████████| 50/50 [00:03<00:00, 12.51it/s, epoch=66/100, avg_epoch_loss=-4.88]\n",
            "100%|██████████| 50/50 [00:04<00:00, 12.47it/s, epoch=67/100, avg_epoch_loss=-4.88]\n",
            "100%|██████████| 50/50 [00:04<00:00, 12.31it/s, epoch=68/100, avg_epoch_loss=-4.88]\n",
            "100%|██████████| 50/50 [00:04<00:00, 12.49it/s, epoch=69/100, avg_epoch_loss=-4.88]\n",
            "100%|██████████| 50/50 [00:03<00:00, 12.53it/s, epoch=70/100, avg_epoch_loss=-4.81]\n",
            "100%|██████████| 50/50 [00:04<00:00, 12.46it/s, epoch=71/100, avg_epoch_loss=-4.79]\n",
            "100%|██████████| 50/50 [00:03<00:00, 12.55it/s, epoch=72/100, avg_epoch_loss=-4.86]\n",
            "100%|██████████| 50/50 [00:03<00:00, 12.51it/s, epoch=73/100, avg_epoch_loss=-4.88]\n",
            "100%|██████████| 50/50 [00:04<00:00, 12.38it/s, epoch=74/100, avg_epoch_loss=-4.87]\n",
            "100%|██████████| 50/50 [00:04<00:00, 12.46it/s, epoch=75/100, avg_epoch_loss=-4.9]\n",
            "100%|██████████| 50/50 [00:04<00:00, 12.37it/s, epoch=76/100, avg_epoch_loss=-4.77]\n",
            "100%|██████████| 50/50 [00:04<00:00, 12.49it/s, epoch=77/100, avg_epoch_loss=-4.81]\n",
            "100%|██████████| 50/50 [00:04<00:00, 12.47it/s, epoch=78/100, avg_epoch_loss=-4.88]\n",
            "100%|██████████| 50/50 [00:04<00:00, 12.48it/s, epoch=79/100, avg_epoch_loss=-4.9]\n",
            "100%|██████████| 50/50 [00:03<00:00, 12.57it/s, epoch=80/100, avg_epoch_loss=-4.89]\n",
            "100%|██████████| 50/50 [00:04<00:00, 12.40it/s, epoch=81/100, avg_epoch_loss=-4.84]\n",
            "100%|██████████| 50/50 [00:03<00:00, 12.50it/s, epoch=82/100, avg_epoch_loss=-4.87]\n",
            "100%|██████████| 50/50 [00:04<00:00, 12.49it/s, epoch=83/100, avg_epoch_loss=-4.91]\n",
            "100%|██████████| 50/50 [00:04<00:00, 12.46it/s, epoch=84/100, avg_epoch_loss=-4.92]\n",
            "100%|██████████| 50/50 [00:03<00:00, 12.60it/s, epoch=85/100, avg_epoch_loss=-4.89]\n",
            "100%|██████████| 50/50 [00:03<00:00, 12.52it/s, epoch=86/100, avg_epoch_loss=-4.82]\n",
            "100%|██████████| 50/50 [00:04<00:00, 12.50it/s, epoch=87/100, avg_epoch_loss=-4.86]\n",
            "100%|██████████| 50/50 [00:03<00:00, 12.53it/s, epoch=88/100, avg_epoch_loss=-4.91]\n",
            "100%|██████████| 50/50 [00:04<00:00, 12.43it/s, epoch=89/100, avg_epoch_loss=-4.85]\n",
            "100%|██████████| 50/50 [00:03<00:00, 12.50it/s, epoch=90/100, avg_epoch_loss=-4.82]\n",
            "100%|██████████| 50/50 [00:04<00:00, 12.39it/s, epoch=91/100, avg_epoch_loss=-4.89]\n",
            "100%|██████████| 50/50 [00:04<00:00, 12.11it/s, epoch=92/100, avg_epoch_loss=-4.91]\n",
            "100%|██████████| 50/50 [00:04<00:00, 12.10it/s, epoch=93/100, avg_epoch_loss=-4.92]\n",
            "100%|██████████| 50/50 [00:04<00:00, 12.40it/s, epoch=94/100, avg_epoch_loss=-4.93]\n",
            "100%|██████████| 50/50 [00:03<00:00, 12.60it/s, epoch=95/100, avg_epoch_loss=-4.93]\n",
            "100%|██████████| 50/50 [00:03<00:00, 12.52it/s, epoch=96/100, avg_epoch_loss=-4.94]\n",
            "100%|██████████| 50/50 [00:03<00:00, 12.52it/s, epoch=97/100, avg_epoch_loss=-4.94]\n",
            "100%|██████████| 50/50 [00:03<00:00, 12.54it/s, epoch=98/100, avg_epoch_loss=-4.94]\n",
            "100%|██████████| 50/50 [00:03<00:00, 12.53it/s, epoch=99/100, avg_epoch_loss=-4.94]\n",
            "100%|██████████| 50/50 [00:03<00:00, 12.54it/s, epoch=100/100, avg_epoch_loss=-4.95]\n"
          ],
          "name": "stderr"
        }
      ]
    },
    {
      "cell_type": "code",
      "metadata": {
        "colab_type": "code",
        "id": "H7vVKhYYUox1",
        "outputId": "00d3013c-c1cd-40a9-e33f-69e6aaabf083",
        "colab": {
          "base_uri": "https://localhost:8080/",
          "height": 503
        }
      },
      "source": [
        "forecast_it, ts_it = make_evaluation_predictions(\n",
        "    dataset=exchange_rate_dataset.test, \n",
        "    predictor=DF_predictor, \n",
        "    num_samples=100, \n",
        ")\n",
        "\n",
        "forecasts = list(forecast_it)\n",
        "tss = list(ts_it)\n",
        "\n",
        "evaluator = Evaluator(quantiles=[0.1, 0.5, 0.9])\n",
        "agg_metrics, item_metrics = evaluator(iter(tss), iter(forecasts), num_series=len(exchange_rate_dataset.test))\n",
        "\n",
        "print(json.dumps(agg_metrics, indent=4))"
      ],
      "execution_count": 0,
      "outputs": [
        {
          "output_type": "stream",
          "text": [
            "Running evaluation: 100%|██████████| 40/40 [00:00<00:00, 934.75it/s]\n"
          ],
          "name": "stderr"
        },
        {
          "output_type": "stream",
          "text": [
            "{\n",
            "    \"MSE\": 0.002736776959985339,\n",
            "    \"abs_error\": 45.29600842297077,\n",
            "    \"abs_target_sum\": 975.9766580164433,\n",
            "    \"abs_target_mean\": 0.8133138816803692,\n",
            "    \"seasonal_error\": 0.006515919403041841,\n",
            "    \"MASE\": 74.44956299622991,\n",
            "    \"MAPE\": 0.3323232758775952,\n",
            "    \"sMAPE\": 0.17889929541209057,\n",
            "    \"OWA\": NaN,\n",
            "    \"MSIS\": 2918.558188344827,\n",
            "    \"QuantileLoss[0.1]\": 45.52110567092896,\n",
            "    \"Coverage[0.1]\": 0.5658333333333333,\n",
            "    \"QuantileLoss[0.5]\": 45.296008456498384,\n",
            "    \"Coverage[0.5]\": 0.615,\n",
            "    \"QuantileLoss[0.9]\": 39.17810098715127,\n",
            "    \"Coverage[0.9]\": 0.6541666666666667,\n",
            "    \"RMSE\": 0.05231421374717715,\n",
            "    \"NRMSE\": 0.06432229293700478,\n",
            "    \"ND\": 0.04641095465851564,\n",
            "    \"wQuantileLoss[0.1]\": 0.046641592600631665,\n",
            "    \"wQuantileLoss[0.5]\": 0.046410954692868524,\n",
            "    \"wQuantileLoss[0.9]\": 0.040142456958731074,\n",
            "    \"mean_wQuantileLoss\": 0.04439833475074375,\n",
            "    \"MAE_Coverage\": 0.27555555555555555\n",
            "}\n"
          ],
          "name": "stdout"
        }
      ]
    },
    {
      "cell_type": "code",
      "metadata": {
        "colab_type": "code",
        "id": "XUHZBr5bUox4",
        "colab": {}
      },
      "source": [
        ""
      ],
      "execution_count": 0,
      "outputs": []
    },
    {
      "cell_type": "markdown",
      "metadata": {
        "id": "OjjjZv_uD7L_",
        "colab_type": "text"
      },
      "source": [
        "## m4_daily"
      ]
    },
    {
      "cell_type": "code",
      "metadata": {
        "id": "DpQOqBRpwUSK",
        "colab_type": "code",
        "outputId": "d57b17a5-fae9-44b7-d59a-606a27217763",
        "colab": {
          "base_uri": "https://localhost:8080/",
          "height": 53
        }
      },
      "source": [
        "m4_daily_dataset = get_dataset(\"m4_daily\", regenerate=True)"
      ],
      "execution_count": 0,
      "outputs": [
        {
          "output_type": "stream",
          "text": [
            "saving time-series into /root/.mxnet/gluon-ts/datasets/m4_daily/train/data.json\n",
            "saving time-series into /root/.mxnet/gluon-ts/datasets/m4_daily/test/data.json\n"
          ],
          "name": "stdout"
        }
      ]
    },
    {
      "cell_type": "code",
      "metadata": {
        "id": "nDNzNbsqGOZ3",
        "colab_type": "code",
        "outputId": "71c7bee8-3c0b-4e06-c0a3-baaf3d75e0d8",
        "colab": {
          "base_uri": "https://localhost:8080/",
          "height": 53
        }
      },
      "source": [
        "print (len(m4_daily_dataset.train))\n",
        "print (len(m4_daily_dataset.test))"
      ],
      "execution_count": 0,
      "outputs": [
        {
          "output_type": "stream",
          "text": [
            "4227\n",
            "4227\n"
          ],
          "name": "stdout"
        }
      ]
    },
    {
      "cell_type": "code",
      "metadata": {
        "id": "rARQuyPqE2E8",
        "colab_type": "code",
        "outputId": "4d3067ca-1ed4-4aeb-e3b9-65c516e941f3",
        "colab": {
          "base_uri": "https://localhost:8080/",
          "height": 35
        }
      },
      "source": [
        "m4_daily_dataset.metadata"
      ],
      "execution_count": 0,
      "outputs": [
        {
          "output_type": "execute_result",
          "data": {
            "text/plain": [
              "MetaData(freq='D', target=None, feat_static_cat=[CategoricalFeatureInfo(name='feat_static_cat', cardinality='4227')], feat_static_real=[], feat_dynamic_real=[], feat_dynamic_cat=[], prediction_length=14)"
            ]
          },
          "metadata": {
            "tags": []
          },
          "execution_count": 29
        }
      ]
    },
    {
      "cell_type": "code",
      "metadata": {
        "colab_type": "code",
        "outputId": "9ff4f0c3-9b36-41ef-aa0c-5e5d64a08a55",
        "id": "u8sgMUqCpR_t",
        "colab": {
          "base_uri": "https://localhost:8080/",
          "height": 35
        }
      },
      "source": [
        "m4_daily_dataset.metadata.feat_static_cat[0]"
      ],
      "execution_count": 0,
      "outputs": [
        {
          "output_type": "execute_result",
          "data": {
            "text/plain": [
              "CategoricalFeatureInfo(name='feat_static_cat', cardinality='4227')"
            ]
          },
          "metadata": {
            "tags": []
          },
          "execution_count": 30
        }
      ]
    },
    {
      "cell_type": "code",
      "metadata": {
        "colab_type": "code",
        "id": "frjgd9iNpR_w",
        "colab": {}
      },
      "source": [
        "car = [int(m4_daily_dataset.metadata.feat_static_cat[0].cardinality)]"
      ],
      "execution_count": 0,
      "outputs": []
    },
    {
      "cell_type": "code",
      "metadata": {
        "id": "ZCwph1C5EoPW",
        "colab_type": "code",
        "outputId": "26d88155-37b3-4fef-aaef-7be60ef28db6",
        "colab": {
          "base_uri": "https://localhost:8080/",
          "height": 35
        }
      },
      "source": [
        "m4_daily_dataset.metadata.feat_static_cat"
      ],
      "execution_count": 0,
      "outputs": [
        {
          "output_type": "execute_result",
          "data": {
            "text/plain": [
              "[CategoricalFeatureInfo(name='feat_static_cat', cardinality='4227')]"
            ]
          },
          "metadata": {
            "tags": []
          },
          "execution_count": 32
        }
      ]
    },
    {
      "cell_type": "code",
      "metadata": {
        "id": "1o9ITiZVFB61",
        "colab_type": "code",
        "outputId": "4760a6ea-7310-44a2-f32e-e4a944135a8f",
        "colab": {
          "base_uri": "https://localhost:8080/",
          "height": 35
        }
      },
      "source": [
        "m4_daily_dataset.metadata.feat_static_cat[0]"
      ],
      "execution_count": 0,
      "outputs": [
        {
          "output_type": "execute_result",
          "data": {
            "text/plain": [
              "CategoricalFeatureInfo(name='feat_static_cat', cardinality='4227')"
            ]
          },
          "metadata": {
            "tags": []
          },
          "execution_count": 33
        }
      ]
    },
    {
      "cell_type": "code",
      "metadata": {
        "id": "f946ZalyEh4c",
        "colab_type": "code",
        "outputId": "472ce632-93c7-4f84-9ca0-3170b005f19a",
        "colab": {
          "base_uri": "https://localhost:8080/",
          "height": 35
        }
      },
      "source": [
        "next(iter(m4_daily_dataset.train)).keys()"
      ],
      "execution_count": 0,
      "outputs": [
        {
          "output_type": "execute_result",
          "data": {
            "text/plain": [
              "dict_keys(['start', 'target', 'feat_static_cat', 'item_id', 'source'])"
            ]
          },
          "metadata": {
            "tags": []
          },
          "execution_count": 34
        }
      ]
    },
    {
      "cell_type": "code",
      "metadata": {
        "id": "JtP-UGN0EBxc",
        "colab_type": "code",
        "colab": {}
      },
      "source": [
        "# https://gluon-ts.mxnet.io/api/gluonts/gluonts.model.deep_factor.html\n",
        "DF_estimator = DeepFactorEstimator(\n",
        "    freq=m4_daily_dataset.metadata.freq, # Time series frequency\n",
        "    prediction_length=m4_daily_dataset.metadata.prediction_length, # Prediction length.\n",
        "    num_hidden_global=50, # (default: 50).\n",
        "    num_layers_global=1, # (default: 1).\n",
        "    num_factors=10, # (default: 10).\n",
        "    num_hidden_local=5, # (default: 5).\n",
        "    num_layers_local=1, # (default: 1).\n",
        "    cell_type='lstm', # (default: ‘lstm’).\n",
        "    trainer = deepfactor_trainer, # (default: Trainer()).\n",
        "    context_length=None, # (default: None, in which case context_length = prediction_length).\n",
        "    num_parallel_samples=100, # (default: 100).\n",
        "    cardinality=car, # (default: list([1]).\n",
        "    embedding_dimension=10, # (default: 10).\n",
        "    distr_output=StudentTOutput(), # (default: StudentTOutput()).\n",
        ")"
      ],
      "execution_count": 0,
      "outputs": []
    },
    {
      "cell_type": "code",
      "metadata": {
        "id": "cNq_opQMF3sc",
        "colab_type": "code",
        "outputId": "43ec6f7a-f553-4e66-b5f7-a5b9276ef3e1",
        "colab": {
          "base_uri": "https://localhost:8080/",
          "height": 1000
        }
      },
      "source": [
        "DF_predictor = DF_estimator.train(m4_daily_dataset.train)"
      ],
      "execution_count": 0,
      "outputs": [
        {
          "output_type": "stream",
          "text": [
            "\r  0%|          | 0/50 [00:00<?, ?it/s]"
          ],
          "name": "stderr"
        },
        {
          "output_type": "stream",
          "text": [
            "learning rate from ``lr_scheduler`` has been overwritten by ``learning_rate`` in optimizer.\n"
          ],
          "name": "stdout"
        },
        {
          "output_type": "stream",
          "text": [
            "100%|██████████| 50/50 [00:02<00:00, 23.87it/s, epoch=1/100, avg_epoch_loss=6.2e+7]\n",
            "100%|██████████| 50/50 [00:01<00:00, 26.17it/s, epoch=2/100, avg_epoch_loss=4.48e+7]\n",
            "100%|██████████| 50/50 [00:01<00:00, 32.90it/s, epoch=3/100, avg_epoch_loss=2.06e+7]\n",
            "100%|██████████| 50/50 [00:01<00:00, 26.10it/s, epoch=4/100, avg_epoch_loss=1.19e+7]\n",
            "100%|██████████| 50/50 [00:02<00:00, 21.97it/s, epoch=5/100, avg_epoch_loss=9.55e+6]\n",
            "100%|██████████| 50/50 [00:01<00:00, 30.20it/s, epoch=6/100, avg_epoch_loss=3.3e+6]\n",
            "100%|██████████| 50/50 [00:01<00:00, 25.51it/s, epoch=7/100, avg_epoch_loss=3.73e+6]\n",
            "100%|██████████| 50/50 [00:01<00:00, 27.00it/s, epoch=8/100, avg_epoch_loss=2.96e+6]\n",
            "100%|██████████| 50/50 [00:02<00:00, 23.88it/s, epoch=9/100, avg_epoch_loss=2.2e+6]\n",
            "100%|██████████| 50/50 [00:02<00:00, 24.09it/s, epoch=10/100, avg_epoch_loss=2.02e+6]\n",
            "100%|██████████| 50/50 [00:01<00:00, 31.43it/s, epoch=11/100, avg_epoch_loss=1e+6]\n",
            "100%|██████████| 50/50 [00:02<00:00, 23.70it/s, epoch=12/100, avg_epoch_loss=1.09e+6]\n",
            "100%|██████████| 50/50 [00:02<00:00, 21.02it/s, epoch=13/100, avg_epoch_loss=1.08e+6]\n",
            "100%|██████████| 50/50 [00:01<00:00, 27.80it/s, epoch=14/100, avg_epoch_loss=5.54e+5]\n",
            "100%|██████████| 50/50 [00:01<00:00, 25.70it/s, epoch=15/100, avg_epoch_loss=7.2e+5]\n",
            "100%|██████████| 50/50 [00:01<00:00, 28.61it/s, epoch=16/100, avg_epoch_loss=4.73e+5]\n",
            "100%|██████████| 50/50 [00:02<00:00, 24.08it/s, epoch=17/100, avg_epoch_loss=4.19e+5]\n",
            "100%|██████████| 50/50 [00:02<00:00, 22.89it/s, epoch=18/100, avg_epoch_loss=4.55e+5]\n",
            "100%|██████████| 50/50 [00:01<00:00, 33.57it/s, epoch=19/100, avg_epoch_loss=2.35e+5]\n",
            "100%|██████████| 50/50 [00:01<00:00, 25.48it/s, epoch=20/100, avg_epoch_loss=2.78e+5]\n",
            "100%|██████████| 50/50 [00:02<00:00, 23.66it/s, epoch=21/100, avg_epoch_loss=3.14e+5]\n",
            "100%|██████████| 50/50 [00:01<00:00, 26.53it/s, epoch=22/100, avg_epoch_loss=1.98e+5]\n",
            "100%|██████████| 50/50 [00:01<00:00, 25.67it/s, epoch=23/100, avg_epoch_loss=2.39e+5]\n",
            "100%|██████████| 50/50 [00:01<00:00, 30.42it/s, epoch=24/100, avg_epoch_loss=2.01e+5]\n",
            "100%|██████████| 50/50 [00:02<00:00, 24.41it/s, epoch=25/100, avg_epoch_loss=1.77e+5]\n",
            "100%|██████████| 50/50 [00:02<00:00, 21.93it/s, epoch=26/100, avg_epoch_loss=2.53e+5]\n",
            "100%|██████████| 50/50 [00:01<00:00, 32.86it/s, epoch=27/100, avg_epoch_loss=1.35e+5]\n",
            "100%|██████████| 50/50 [00:01<00:00, 25.78it/s, epoch=28/100, avg_epoch_loss=1.49e+5]\n",
            "100%|██████████| 50/50 [00:02<00:00, 24.83it/s, epoch=29/100, avg_epoch_loss=1.66e+5]\n",
            "100%|██████████| 50/50 [00:01<00:00, 25.23it/s, epoch=30/100, avg_epoch_loss=1.53e+5]\n",
            "100%|██████████| 50/50 [00:01<00:00, 25.55it/s, epoch=31/100, avg_epoch_loss=1.19e+5]\n",
            "100%|██████████| 50/50 [00:01<00:00, 32.00it/s, epoch=32/100, avg_epoch_loss=1.07e+5]\n",
            "100%|██████████| 50/50 [00:02<00:00, 24.32it/s, epoch=33/100, avg_epoch_loss=3.03e+5]\n",
            "100%|██████████| 50/50 [00:02<00:00, 21.64it/s, epoch=34/100, avg_epoch_loss=1.39e+5]\n",
            "100%|██████████| 50/50 [00:01<00:00, 31.89it/s, epoch=35/100, avg_epoch_loss=8.37e+4]\n",
            "100%|██████████| 50/50 [00:01<00:00, 25.80it/s, epoch=36/100, avg_epoch_loss=1.77e+5]\n",
            "100%|██████████| 50/50 [00:01<00:00, 26.19it/s, epoch=37/100, avg_epoch_loss=1.27e+5]\n",
            "100%|██████████| 50/50 [00:02<00:00, 23.77it/s, epoch=38/100, avg_epoch_loss=1.48e+5]\n",
            "100%|██████████| 50/50 [00:01<00:00, 25.43it/s, epoch=39/100, avg_epoch_loss=1.14e+5]\n",
            "100%|██████████| 50/50 [00:01<00:00, 31.88it/s, epoch=40/100, avg_epoch_loss=7.93e+4]\n",
            "100%|██████████| 50/50 [00:01<00:00, 25.20it/s, epoch=41/100, avg_epoch_loss=1.05e+5]\n",
            "100%|██████████| 50/50 [00:02<00:00, 21.88it/s, epoch=42/100, avg_epoch_loss=2.12e+5]\n",
            "100%|██████████| 50/50 [00:01<00:00, 30.04it/s, epoch=43/100, avg_epoch_loss=1e+5]\n",
            "100%|██████████| 50/50 [00:01<00:00, 25.32it/s, epoch=44/100, avg_epoch_loss=2.71e+5]\n",
            "100%|██████████| 50/50 [00:01<00:00, 27.35it/s, epoch=45/100, avg_epoch_loss=1e+5]\n",
            "100%|██████████| 50/50 [00:02<00:00, 23.75it/s, epoch=46/100, avg_epoch_loss=6.67e+4]\n",
            "100%|██████████| 50/50 [00:02<00:00, 23.83it/s, epoch=47/100, avg_epoch_loss=2.78e+5]\n",
            "100%|██████████| 50/50 [00:01<00:00, 33.32it/s, epoch=48/100, avg_epoch_loss=6.12e+4]\n",
            "100%|██████████| 50/50 [00:01<00:00, 25.12it/s, epoch=49/100, avg_epoch_loss=6.75e+4]\n",
            "100%|██████████| 50/50 [00:02<00:00, 22.42it/s, epoch=50/100, avg_epoch_loss=1.79e+5]\n",
            "100%|██████████| 50/50 [00:01<00:00, 27.87it/s, epoch=51/100, avg_epoch_loss=8.63e+4]\n",
            "100%|██████████| 50/50 [00:01<00:00, 25.35it/s, epoch=52/100, avg_epoch_loss=5.52e+4]\n",
            "100%|██████████| 50/50 [00:01<00:00, 29.19it/s, epoch=53/100, avg_epoch_loss=1.75e+5]\n",
            "100%|██████████| 50/50 [00:02<00:00, 24.27it/s, epoch=54/100, avg_epoch_loss=9.44e+4]\n",
            "100%|██████████| 50/50 [00:02<00:00, 22.53it/s, epoch=55/100, avg_epoch_loss=1.12e+5]\n",
            "100%|██████████| 50/50 [00:01<00:00, 33.55it/s, epoch=56/100, avg_epoch_loss=1.15e+5]\n",
            "100%|██████████| 50/50 [00:01<00:00, 25.15it/s, epoch=57/100, avg_epoch_loss=9.06e+4]\n",
            "100%|██████████| 50/50 [00:02<00:00, 23.94it/s, epoch=58/100, avg_epoch_loss=6.73e+4]\n",
            "100%|██████████| 50/50 [00:01<00:00, 26.09it/s, epoch=59/100, avg_epoch_loss=7.92e+4]\n",
            "100%|██████████| 50/50 [00:01<00:00, 25.23it/s, epoch=60/100, avg_epoch_loss=4.68e+4]\n",
            "100%|██████████| 50/50 [00:01<00:00, 30.79it/s, epoch=61/100, avg_epoch_loss=5.96e+4]\n",
            "100%|██████████| 50/50 [00:02<00:00, 24.36it/s, epoch=62/100, avg_epoch_loss=1.77e+5]\n",
            "100%|██████████| 50/50 [00:02<00:00, 21.63it/s, epoch=63/100, avg_epoch_loss=4.12e+4]\n",
            "100%|██████████| 50/50 [00:01<00:00, 33.04it/s, epoch=64/100, avg_epoch_loss=5.32e+4]\n",
            "100%|██████████| 50/50 [00:01<00:00, 25.65it/s, epoch=65/100, avg_epoch_loss=5.93e+4]\n",
            "100%|██████████| 50/50 [00:01<00:00, 25.14it/s, epoch=66/100, avg_epoch_loss=2.91e+4]\n",
            "100%|██████████| 50/50 [00:02<00:00, 24.96it/s, epoch=67/100, avg_epoch_loss=6.96e+4]\n",
            "100%|██████████| 50/50 [00:01<00:00, 25.47it/s, epoch=68/100, avg_epoch_loss=2.35e+5]\n",
            "100%|██████████| 50/50 [00:01<00:00, 32.02it/s, epoch=69/100, avg_epoch_loss=2.18e+4]\n",
            "100%|██████████| 50/50 [00:02<00:00, 24.55it/s, epoch=70/100, avg_epoch_loss=9.65e+4]\n",
            "100%|██████████| 50/50 [00:02<00:00, 21.62it/s, epoch=71/100, avg_epoch_loss=1.98e+5]\n",
            "100%|██████████| 50/50 [00:01<00:00, 31.32it/s, epoch=72/100, avg_epoch_loss=3.2e+4]\n",
            "100%|██████████| 50/50 [00:01<00:00, 25.49it/s, epoch=73/100, avg_epoch_loss=3.81e+4]\n",
            "100%|██████████| 50/50 [00:01<00:00, 26.37it/s, epoch=74/100, avg_epoch_loss=7.36e+4]\n",
            "100%|██████████| 50/50 [00:02<00:00, 23.89it/s, epoch=75/100, avg_epoch_loss=6.19e+4]\n",
            "100%|██████████| 50/50 [00:01<00:00, 25.12it/s, epoch=76/100, avg_epoch_loss=7.97e+4]\n",
            "100%|██████████| 50/50 [00:01<00:00, 33.17it/s, epoch=77/100, avg_epoch_loss=1.17e+5]\n",
            "100%|██████████| 50/50 [00:01<00:00, 25.46it/s, epoch=78/100, avg_epoch_loss=4.05e+4]\n",
            "100%|██████████| 50/50 [00:02<00:00, 21.85it/s, epoch=79/100, avg_epoch_loss=1.27e+5]\n",
            "100%|██████████| 50/50 [00:01<00:00, 29.50it/s, epoch=80/100, avg_epoch_loss=1.49e+5]\n",
            "100%|██████████| 50/50 [00:01<00:00, 25.44it/s, epoch=81/100, avg_epoch_loss=6.68e+4]\n",
            "100%|██████████| 50/50 [00:01<00:00, 27.66it/s, epoch=82/100, avg_epoch_loss=4.4e+4]\n",
            "100%|██████████| 50/50 [00:02<00:00, 24.09it/s, epoch=83/100, avg_epoch_loss=5.32e+4]\n",
            "100%|██████████| 50/50 [00:02<00:00, 23.82it/s, epoch=84/100, avg_epoch_loss=3.19e+4]\n",
            "100%|██████████| 50/50 [00:01<00:00, 33.42it/s, epoch=85/100, avg_epoch_loss=1.16e+4]\n",
            "100%|██████████| 50/50 [00:01<00:00, 25.13it/s, epoch=86/100, avg_epoch_loss=2.99e+4]\n",
            "100%|██████████| 50/50 [00:02<00:00, 22.77it/s, epoch=87/100, avg_epoch_loss=5.04e+4]\n",
            "100%|██████████| 50/50 [00:01<00:00, 27.26it/s, epoch=88/100, avg_epoch_loss=2.31e+4]\n",
            "100%|██████████| 50/50 [00:01<00:00, 25.73it/s, epoch=89/100, avg_epoch_loss=2.38e+4]\n",
            "100%|██████████| 50/50 [00:01<00:00, 29.32it/s, epoch=90/100, avg_epoch_loss=1.19e+4]\n",
            "100%|██████████| 50/50 [00:02<00:00, 24.17it/s, epoch=91/100, avg_epoch_loss=2.61e+4]\n",
            "100%|██████████| 50/50 [00:02<00:00, 22.36it/s, epoch=92/100, avg_epoch_loss=2.03e+4]\n",
            "100%|██████████| 50/50 [00:01<00:00, 33.22it/s, epoch=93/100, avg_epoch_loss=2.03e+4]\n",
            "100%|██████████| 50/50 [00:01<00:00, 25.22it/s, epoch=94/100, avg_epoch_loss=6.47e+4]\n",
            "100%|██████████| 50/50 [00:02<00:00, 23.74it/s, epoch=95/100, avg_epoch_loss=1.57e+4]\n",
            "100%|██████████| 50/50 [00:02<00:00, 24.83it/s, epoch=96/100, avg_epoch_loss=3.91e+4]\n",
            "100%|██████████| 50/50 [00:02<00:00, 23.89it/s, epoch=97/100, avg_epoch_loss=3.83e+4]\n",
            "100%|██████████| 50/50 [00:01<00:00, 29.63it/s, epoch=98/100, avg_epoch_loss=3.28e+4]\n",
            "100%|██████████| 50/50 [00:02<00:00, 23.26it/s, epoch=99/100, avg_epoch_loss=2.12e+4]\n",
            "100%|██████████| 50/50 [00:02<00:00, 20.83it/s, epoch=100/100, avg_epoch_loss=1.88e+4]\n"
          ],
          "name": "stderr"
        }
      ]
    },
    {
      "cell_type": "code",
      "metadata": {
        "id": "xWBEgxcqGCMH",
        "colab_type": "code",
        "outputId": "e65291b7-cc1f-4edd-b1e7-34bb3b6f437a",
        "colab": {
          "base_uri": "https://localhost:8080/",
          "height": 503
        }
      },
      "source": [
        "forecast_it, ts_it = make_evaluation_predictions(\n",
        "    dataset=m4_daily_dataset.test, \n",
        "    predictor=DF_predictor, \n",
        "    num_samples=100, \n",
        ")\n",
        "\n",
        "forecasts = list(forecast_it)\n",
        "tss = list(ts_it)\n",
        "\n",
        "evaluator = Evaluator(quantiles=[0.1, 0.5, 0.9])\n",
        "agg_metrics, item_metrics = evaluator(iter(tss), iter(forecasts), num_series=len(m4_daily_dataset.test))\n",
        "\n",
        "print(json.dumps(agg_metrics, indent=4))"
      ],
      "execution_count": 0,
      "outputs": [
        {
          "output_type": "stream",
          "text": [
            "Running evaluation: 100%|██████████| 4227/4227 [00:00<00:00, 83851.17it/s]\n"
          ],
          "name": "stderr"
        },
        {
          "output_type": "stream",
          "text": [
            "{\n",
            "    \"MSE\": 1148196273.5156221,\n",
            "    \"abs_error\": 1059233491.6230774,\n",
            "    \"abs_target_sum\": 383097653.5168457,\n",
            "    \"abs_target_mean\": 6473.649895515986,\n",
            "    \"seasonal_error\": 52.78075560259988,\n",
            "    \"MASE\": 312.1557271938038,\n",
            "    \"MAPE\": 2.411727807274379,\n",
            "    \"sMAPE\": 0.8847168145180249,\n",
            "    \"OWA\": NaN,\n",
            "    \"MSIS\": 12439.9404255331,\n",
            "    \"QuantileLoss[0.1]\": 1899205754.2938597,\n",
            "    \"Coverage[0.1]\": 0.9360742167697453,\n",
            "    \"QuantileLoss[0.5]\": 1059233493.0277863,\n",
            "    \"Coverage[0.5]\": 0.9404508432187636,\n",
            "    \"QuantileLoss[0.9]\": 216400867.7806152,\n",
            "    \"Coverage[0.9]\": 0.9436952921693873,\n",
            "    \"RMSE\": 33885.0449832315,\n",
            "    \"NRMSE\": 5.234302986743566,\n",
            "    \"ND\": 2.764917722411736,\n",
            "    \"wQuantileLoss[0.1]\": 4.95749774726915,\n",
            "    \"wQuantileLoss[0.5]\": 2.764917726078448,\n",
            "    \"wQuantileLoss[0.9]\": 0.5648712953317516,\n",
            "    \"mean_wQuantileLoss\": 2.7624289228931165,\n",
            "    \"MAE_Coverage\": 0.4400734507192987\n",
            "}\n"
          ],
          "name": "stdout"
        }
      ]
    },
    {
      "cell_type": "code",
      "metadata": {
        "id": "c3VyPD7vGh6w",
        "colab_type": "code",
        "colab": {}
      },
      "source": [
        ""
      ],
      "execution_count": 0,
      "outputs": []
    },
    {
      "cell_type": "markdown",
      "metadata": {
        "colab_type": "text",
        "id": "OWJ9jeRZO9GB"
      },
      "source": [
        "## m4_hourly"
      ]
    },
    {
      "cell_type": "code",
      "metadata": {
        "colab_type": "code",
        "id": "ZK99kK7fO9GE",
        "outputId": "ef7e2d05-9390-4149-f6e9-abfba81ffc1b",
        "colab": {
          "base_uri": "https://localhost:8080/",
          "height": 53
        }
      },
      "source": [
        "m4_hourly_dataset = get_dataset(\"m4_hourly\", regenerate=False)"
      ],
      "execution_count": 0,
      "outputs": [
        {
          "output_type": "stream",
          "text": [
            "saving time-series into /root/.mxnet/gluon-ts/datasets/m4_hourly/train/data.json\n",
            "saving time-series into /root/.mxnet/gluon-ts/datasets/m4_hourly/test/data.json\n"
          ],
          "name": "stdout"
        }
      ]
    },
    {
      "cell_type": "code",
      "metadata": {
        "colab_type": "code",
        "outputId": "07909bb1-10be-469e-d889-f6bef2eda87d",
        "id": "tURfQTqXO9GJ",
        "colab": {
          "base_uri": "https://localhost:8080/",
          "height": 53
        }
      },
      "source": [
        "print (len(m4_hourly_dataset.train))\n",
        "print (len(m4_hourly_dataset.test))"
      ],
      "execution_count": 0,
      "outputs": [
        {
          "output_type": "stream",
          "text": [
            "414\n",
            "414\n"
          ],
          "name": "stdout"
        }
      ]
    },
    {
      "cell_type": "code",
      "metadata": {
        "colab_type": "code",
        "outputId": "39cd79e3-caa1-4520-cdef-841e44bfeaf4",
        "id": "aowwnwLcO9GM",
        "colab": {
          "base_uri": "https://localhost:8080/",
          "height": 35
        }
      },
      "source": [
        "m4_hourly_dataset.metadata"
      ],
      "execution_count": 0,
      "outputs": [
        {
          "output_type": "execute_result",
          "data": {
            "text/plain": [
              "MetaData(freq='H', target=None, feat_static_cat=[CategoricalFeatureInfo(name='feat_static_cat', cardinality='414')], feat_static_real=[], feat_dynamic_real=[], feat_dynamic_cat=[], prediction_length=48)"
            ]
          },
          "metadata": {
            "tags": []
          },
          "execution_count": 40
        }
      ]
    },
    {
      "cell_type": "code",
      "metadata": {
        "colab_type": "code",
        "outputId": "d70dfc9c-4659-4bdf-da10-a4887b396f9c",
        "id": "WGlNMgykpmSF",
        "colab": {
          "base_uri": "https://localhost:8080/",
          "height": 35
        }
      },
      "source": [
        "m4_hourly_dataset.metadata.feat_static_cat[0]"
      ],
      "execution_count": 0,
      "outputs": [
        {
          "output_type": "execute_result",
          "data": {
            "text/plain": [
              "CategoricalFeatureInfo(name='feat_static_cat', cardinality='414')"
            ]
          },
          "metadata": {
            "tags": []
          },
          "execution_count": 41
        }
      ]
    },
    {
      "cell_type": "code",
      "metadata": {
        "colab_type": "code",
        "id": "n8xjempNpmSJ",
        "colab": {}
      },
      "source": [
        "car = [int(m4_hourly_dataset.metadata.feat_static_cat[0].cardinality)]"
      ],
      "execution_count": 0,
      "outputs": []
    },
    {
      "cell_type": "code",
      "metadata": {
        "colab_type": "code",
        "outputId": "21d91644-927c-4b64-ccd3-12e0354d459c",
        "id": "XJesCFZ8O9GX",
        "colab": {
          "base_uri": "https://localhost:8080/",
          "height": 35
        }
      },
      "source": [
        "next(iter(m4_hourly_dataset.train)).keys()"
      ],
      "execution_count": 0,
      "outputs": [
        {
          "output_type": "execute_result",
          "data": {
            "text/plain": [
              "dict_keys(['start', 'target', 'feat_static_cat', 'item_id', 'source'])"
            ]
          },
          "metadata": {
            "tags": []
          },
          "execution_count": 43
        }
      ]
    },
    {
      "cell_type": "code",
      "metadata": {
        "colab_type": "code",
        "id": "PD0vtfP8O9Gb",
        "colab": {}
      },
      "source": [
        "# https://gluon-ts.mxnet.io/api/gluonts/gluonts.model.deep_factor.html\n",
        "DF_estimator = DeepFactorEstimator(\n",
        "    freq=m4_hourly_dataset.metadata.freq, # Time series frequency\n",
        "    prediction_length=m4_hourly_dataset.metadata.prediction_length, # Prediction length.\n",
        "    num_hidden_global=50, # (default: 50).\n",
        "    num_layers_global=1, # (default: 1).\n",
        "    num_factors=10, # (default: 10).\n",
        "    num_hidden_local=5, # (default: 5).\n",
        "    num_layers_local=1, # (default: 1).\n",
        "    cell_type='lstm', # (default: ‘lstm’).\n",
        "    trainer = deepfactor_trainer, # (default: Trainer()).\n",
        "    context_length=None, # (default: None, in which case context_length = prediction_length).\n",
        "    num_parallel_samples=100, # (default: 100).\n",
        "    cardinality=car, # (default: list([1]).\n",
        "    embedding_dimension=10, # (default: 10).\n",
        "    distr_output=StudentTOutput(), # (default: StudentTOutput()).\n",
        ")"
      ],
      "execution_count": 0,
      "outputs": []
    },
    {
      "cell_type": "code",
      "metadata": {
        "colab_type": "code",
        "outputId": "104b5181-a29a-42b4-baec-71f53af3a1db",
        "id": "Qf3ZGOpPO9Gf",
        "colab": {
          "base_uri": "https://localhost:8080/",
          "height": 1000
        }
      },
      "source": [
        "DF_predictor = DF_estimator.train(m4_hourly_dataset.train)"
      ],
      "execution_count": 0,
      "outputs": [
        {
          "output_type": "stream",
          "text": [
            "learning rate from ``lr_scheduler`` has been overwritten by ``learning_rate`` in optimizer.\n"
          ],
          "name": "stdout"
        },
        {
          "output_type": "stream",
          "text": [
            "100%|██████████| 50/50 [00:02<00:00, 23.28it/s, epoch=1/100, avg_epoch_loss=1.83e+9]\n",
            "100%|██████████| 50/50 [00:02<00:00, 21.89it/s, epoch=2/100, avg_epoch_loss=1.42e+9]\n",
            "100%|██████████| 50/50 [00:02<00:00, 21.38it/s, epoch=3/100, avg_epoch_loss=9.74e+8]\n",
            "100%|██████████| 50/50 [00:02<00:00, 21.76it/s, epoch=4/100, avg_epoch_loss=5.29e+8]\n",
            "100%|██████████| 50/50 [00:02<00:00, 22.12it/s, epoch=5/100, avg_epoch_loss=2.56e+8]\n",
            "100%|██████████| 50/50 [00:02<00:00, 22.05it/s, epoch=6/100, avg_epoch_loss=1.24e+8]\n",
            "100%|██████████| 50/50 [00:02<00:00, 22.38it/s, epoch=7/100, avg_epoch_loss=7.81e+7]\n",
            "100%|██████████| 50/50 [00:02<00:00, 22.36it/s, epoch=8/100, avg_epoch_loss=4.93e+7]\n",
            "100%|██████████| 50/50 [00:02<00:00, 22.20it/s, epoch=9/100, avg_epoch_loss=3.45e+7]\n",
            "100%|██████████| 50/50 [00:02<00:00, 22.27it/s, epoch=10/100, avg_epoch_loss=2.17e+7]\n",
            "100%|██████████| 50/50 [00:02<00:00, 22.04it/s, epoch=11/100, avg_epoch_loss=1.06e+7]\n",
            "100%|██████████| 50/50 [00:02<00:00, 22.45it/s, epoch=12/100, avg_epoch_loss=6.31e+6]\n",
            "100%|██████████| 50/50 [00:02<00:00, 22.41it/s, epoch=13/100, avg_epoch_loss=4.79e+6]\n",
            "100%|██████████| 50/50 [00:02<00:00, 22.40it/s, epoch=14/100, avg_epoch_loss=4.46e+6]\n",
            "100%|██████████| 50/50 [00:03<00:00, 13.78it/s, epoch=15/100, avg_epoch_loss=4.16e+6]\n",
            "100%|██████████| 50/50 [00:03<00:00, 15.17it/s, epoch=16/100, avg_epoch_loss=3.59e+6]\n",
            "100%|██████████| 50/50 [00:02<00:00, 22.57it/s, epoch=17/100, avg_epoch_loss=2.96e+6]\n",
            "100%|██████████| 50/50 [00:02<00:00, 22.61it/s, epoch=18/100, avg_epoch_loss=3.39e+6]\n",
            "100%|██████████| 50/50 [00:02<00:00, 22.45it/s, epoch=19/100, avg_epoch_loss=2.53e+6]\n",
            "100%|██████████| 50/50 [00:02<00:00, 22.52it/s, epoch=20/100, avg_epoch_loss=2.64e+6]\n",
            "100%|██████████| 50/50 [00:02<00:00, 22.71it/s, epoch=21/100, avg_epoch_loss=2.17e+6]\n",
            "100%|██████████| 50/50 [00:02<00:00, 22.59it/s, epoch=22/100, avg_epoch_loss=1.81e+6]\n",
            "100%|██████████| 50/50 [00:02<00:00, 22.23it/s, epoch=23/100, avg_epoch_loss=2.85e+6]\n",
            "100%|██████████| 50/50 [00:02<00:00, 22.67it/s, epoch=24/100, avg_epoch_loss=1.46e+6]\n",
            "100%|██████████| 50/50 [00:02<00:00, 22.69it/s, epoch=25/100, avg_epoch_loss=1.68e+6]\n",
            "100%|██████████| 50/50 [00:02<00:00, 22.61it/s, epoch=26/100, avg_epoch_loss=2.47e+6]\n",
            "100%|██████████| 50/50 [00:02<00:00, 22.46it/s, epoch=27/100, avg_epoch_loss=2.23e+6]\n",
            "100%|██████████| 50/50 [00:02<00:00, 22.46it/s, epoch=28/100, avg_epoch_loss=1.35e+6]\n",
            "100%|██████████| 50/50 [00:02<00:00, 22.54it/s, epoch=29/100, avg_epoch_loss=1.24e+6]\n",
            "100%|██████████| 50/50 [00:02<00:00, 22.66it/s, epoch=30/100, avg_epoch_loss=1.17e+6]\n",
            "100%|██████████| 50/50 [00:02<00:00, 22.62it/s, epoch=31/100, avg_epoch_loss=1.26e+6]\n",
            "100%|██████████| 50/50 [00:02<00:00, 22.14it/s, epoch=32/100, avg_epoch_loss=1.58e+6]\n",
            "100%|██████████| 50/50 [00:02<00:00, 22.65it/s, epoch=33/100, avg_epoch_loss=9.37e+5]\n",
            "100%|██████████| 50/50 [00:02<00:00, 22.53it/s, epoch=34/100, avg_epoch_loss=7.74e+5]\n",
            "100%|██████████| 50/50 [00:02<00:00, 22.49it/s, epoch=35/100, avg_epoch_loss=1.12e+6]\n",
            "100%|██████████| 50/50 [00:02<00:00, 22.25it/s, epoch=36/100, avg_epoch_loss=7.5e+5]\n",
            "100%|██████████| 50/50 [00:02<00:00, 22.22it/s, epoch=37/100, avg_epoch_loss=1.29e+6]\n",
            "100%|██████████| 50/50 [00:02<00:00, 22.49it/s, epoch=38/100, avg_epoch_loss=7.52e+5]\n",
            "100%|██████████| 50/50 [00:02<00:00, 22.46it/s, epoch=39/100, avg_epoch_loss=9.5e+5]\n",
            "100%|██████████| 50/50 [00:02<00:00, 21.74it/s, epoch=40/100, avg_epoch_loss=7.91e+5]\n",
            "100%|██████████| 50/50 [00:02<00:00, 21.35it/s, epoch=41/100, avg_epoch_loss=1.26e+6]\n",
            "100%|██████████| 50/50 [00:02<00:00, 21.60it/s, epoch=42/100, avg_epoch_loss=1.53e+6]\n",
            "100%|██████████| 50/50 [00:02<00:00, 22.51it/s, epoch=43/100, avg_epoch_loss=6.02e+5]\n",
            "100%|██████████| 50/50 [00:02<00:00, 22.24it/s, epoch=44/100, avg_epoch_loss=7.21e+5]\n",
            "100%|██████████| 50/50 [00:02<00:00, 22.22it/s, epoch=45/100, avg_epoch_loss=6.57e+5]\n",
            "100%|██████████| 50/50 [00:02<00:00, 22.22it/s, epoch=46/100, avg_epoch_loss=1.31e+6]\n",
            "100%|██████████| 50/50 [00:02<00:00, 22.33it/s, epoch=47/100, avg_epoch_loss=1.81e+6]\n",
            "100%|██████████| 50/50 [00:02<00:00, 22.38it/s, epoch=48/100, avg_epoch_loss=1.09e+6]\n",
            "100%|██████████| 50/50 [00:02<00:00, 22.51it/s, epoch=49/100, avg_epoch_loss=6.72e+5]\n",
            "100%|██████████| 50/50 [00:02<00:00, 22.09it/s, epoch=50/100, avg_epoch_loss=4.56e+5]\n",
            "100%|██████████| 50/50 [00:02<00:00, 22.50it/s, epoch=51/100, avg_epoch_loss=4.76e+5]\n",
            "100%|██████████| 50/50 [00:02<00:00, 22.41it/s, epoch=52/100, avg_epoch_loss=1.29e+6]\n",
            "100%|██████████| 50/50 [00:02<00:00, 22.46it/s, epoch=53/100, avg_epoch_loss=1.5e+6]\n",
            "100%|██████████| 50/50 [00:02<00:00, 22.43it/s, epoch=54/100, avg_epoch_loss=1.59e+6]\n",
            "100%|██████████| 50/50 [00:02<00:00, 22.15it/s, epoch=55/100, avg_epoch_loss=1.77e+6]\n",
            "100%|██████████| 50/50 [00:02<00:00, 22.68it/s, epoch=56/100, avg_epoch_loss=1.51e+6]\n",
            "100%|██████████| 50/50 [00:02<00:00, 22.53it/s, epoch=57/100, avg_epoch_loss=1.13e+6]\n",
            "100%|██████████| 50/50 [00:02<00:00, 22.57it/s, epoch=58/100, avg_epoch_loss=1.56e+6]\n",
            "100%|██████████| 50/50 [00:02<00:00, 22.45it/s, epoch=59/100, avg_epoch_loss=1.18e+6]\n",
            "100%|██████████| 50/50 [00:02<00:00, 22.37it/s, epoch=60/100, avg_epoch_loss=1.69e+6]\n",
            "100%|██████████| 50/50 [00:02<00:00, 22.54it/s, epoch=61/100, avg_epoch_loss=4.07e+5]\n",
            "100%|██████████| 50/50 [00:02<00:00, 22.56it/s, epoch=62/100, avg_epoch_loss=4.5e+5]\n",
            "100%|██████████| 50/50 [00:02<00:00, 22.35it/s, epoch=63/100, avg_epoch_loss=5.79e+5]\n",
            "100%|██████████| 50/50 [00:02<00:00, 21.98it/s, epoch=64/100, avg_epoch_loss=4.33e+5]\n",
            "100%|██████████| 50/50 [00:02<00:00, 22.54it/s, epoch=65/100, avg_epoch_loss=2.95e+5]\n",
            "100%|██████████| 50/50 [00:02<00:00, 22.41it/s, epoch=66/100, avg_epoch_loss=3.2e+5]\n",
            "100%|██████████| 50/50 [00:02<00:00, 22.55it/s, epoch=67/100, avg_epoch_loss=4.2e+5]\n",
            "100%|██████████| 50/50 [00:02<00:00, 22.35it/s, epoch=68/100, avg_epoch_loss=5.84e+5]\n",
            "100%|██████████| 50/50 [00:02<00:00, 22.19it/s, epoch=69/100, avg_epoch_loss=5.72e+5]\n",
            "100%|██████████| 50/50 [00:02<00:00, 22.60it/s, epoch=70/100, avg_epoch_loss=6.29e+5]\n",
            "100%|██████████| 50/50 [00:02<00:00, 22.65it/s, epoch=71/100, avg_epoch_loss=6.32e+5]\n",
            "100%|██████████| 50/50 [00:02<00:00, 22.46it/s, epoch=72/100, avg_epoch_loss=5.8e+5]\n",
            "100%|██████████| 50/50 [00:02<00:00, 22.43it/s, epoch=73/100, avg_epoch_loss=5.3e+5]\n",
            "100%|██████████| 50/50 [00:02<00:00, 22.57it/s, epoch=74/100, avg_epoch_loss=5.99e+5]\n",
            "100%|██████████| 50/50 [00:02<00:00, 22.64it/s, epoch=75/100, avg_epoch_loss=6.96e+5]\n",
            "100%|██████████| 50/50 [00:02<00:00, 22.41it/s, epoch=76/100, avg_epoch_loss=3.53e+5]\n",
            "100%|██████████| 50/50 [00:02<00:00, 22.37it/s, epoch=77/100, avg_epoch_loss=3.39e+5]\n",
            "100%|██████████| 50/50 [00:02<00:00, 22.36it/s, epoch=78/100, avg_epoch_loss=3.42e+5]\n",
            "100%|██████████| 50/50 [00:02<00:00, 22.51it/s, epoch=79/100, avg_epoch_loss=3.47e+5]\n",
            "100%|██████████| 50/50 [00:02<00:00, 22.43it/s, epoch=80/100, avg_epoch_loss=2.94e+5]\n",
            "100%|██████████| 50/50 [00:02<00:00, 22.57it/s, epoch=81/100, avg_epoch_loss=2.65e+5]\n",
            "100%|██████████| 50/50 [00:02<00:00, 22.32it/s, epoch=82/100, avg_epoch_loss=3.2e+5]\n",
            "100%|██████████| 50/50 [00:02<00:00, 22.58it/s, epoch=83/100, avg_epoch_loss=3.32e+5]\n",
            "100%|██████████| 50/50 [00:02<00:00, 22.48it/s, epoch=84/100, avg_epoch_loss=3.3e+5]\n",
            "100%|██████████| 50/50 [00:02<00:00, 22.50it/s, epoch=85/100, avg_epoch_loss=3.05e+5]\n",
            "100%|██████████| 50/50 [00:02<00:00, 22.49it/s, epoch=86/100, avg_epoch_loss=3.08e+5]\n",
            "100%|██████████| 50/50 [00:02<00:00, 22.23it/s, epoch=87/100, avg_epoch_loss=2.88e+5]\n",
            "100%|██████████| 50/50 [00:02<00:00, 22.61it/s, epoch=88/100, avg_epoch_loss=2.66e+5]\n",
            "100%|██████████| 50/50 [00:02<00:00, 22.53it/s, epoch=89/100, avg_epoch_loss=3.24e+5]\n",
            "100%|██████████| 50/50 [00:02<00:00, 22.27it/s, epoch=90/100, avg_epoch_loss=3.1e+5]\n",
            "100%|██████████| 50/50 [00:02<00:00, 22.35it/s, epoch=91/100, avg_epoch_loss=3.24e+5]\n",
            "100%|██████████| 50/50 [00:02<00:00, 22.47it/s, epoch=92/100, avg_epoch_loss=2.86e+5]\n",
            "100%|██████████| 50/50 [00:02<00:00, 22.54it/s, epoch=93/100, avg_epoch_loss=2.78e+5]\n",
            "100%|██████████| 50/50 [00:02<00:00, 22.49it/s, epoch=94/100, avg_epoch_loss=2.52e+5]\n",
            "100%|██████████| 50/50 [00:02<00:00, 22.35it/s, epoch=95/100, avg_epoch_loss=2.8e+5]\n",
            "100%|██████████| 50/50 [00:02<00:00, 22.20it/s, epoch=96/100, avg_epoch_loss=2.42e+5]\n",
            "100%|██████████| 50/50 [00:02<00:00, 22.53it/s, epoch=97/100, avg_epoch_loss=2.78e+5]\n",
            "100%|██████████| 50/50 [00:02<00:00, 22.47it/s, epoch=98/100, avg_epoch_loss=2.77e+5]\n",
            "100%|██████████| 50/50 [00:02<00:00, 22.39it/s, epoch=99/100, avg_epoch_loss=2.67e+5]\n",
            "100%|██████████| 50/50 [00:02<00:00, 22.33it/s, epoch=100/100, avg_epoch_loss=2.69e+5]\n"
          ],
          "name": "stderr"
        }
      ]
    },
    {
      "cell_type": "code",
      "metadata": {
        "colab_type": "code",
        "outputId": "b6978718-1c08-4dc9-b4b4-50f85c12433a",
        "id": "ow_Vpx0MO9Gi",
        "colab": {
          "base_uri": "https://localhost:8080/",
          "height": 503
        }
      },
      "source": [
        "forecast_it, ts_it = make_evaluation_predictions(\n",
        "    dataset=m4_hourly_dataset.test, \n",
        "    predictor=DF_predictor, \n",
        "    num_samples=100, \n",
        ")\n",
        "\n",
        "forecasts = list(forecast_it)\n",
        "tss = list(ts_it)\n",
        "\n",
        "evaluator = Evaluator(quantiles=[0.1, 0.5, 0.9])\n",
        "agg_metrics, item_metrics = evaluator(iter(tss), iter(forecasts), num_series=len(m4_hourly_dataset.test))\n",
        "\n",
        "print(json.dumps(agg_metrics, indent=4))"
      ],
      "execution_count": 0,
      "outputs": [
        {
          "output_type": "stream",
          "text": [
            "Running evaluation: 100%|██████████| 414/414 [00:00<00:00, 10195.29it/s]\n"
          ],
          "name": "stderr"
        },
        {
          "output_type": "stream",
          "text": [
            "{\n",
            "    \"MSE\": 40983661.08745066,\n",
            "    \"abs_error\": 20809180.209091187,\n",
            "    \"abs_target_sum\": 145558863.59960938,\n",
            "    \"abs_target_mean\": 7324.822041043147,\n",
            "    \"seasonal_error\": 336.9046924038302,\n",
            "    \"MASE\": 11.039941629714814,\n",
            "    \"MAPE\": 0.8920382287944805,\n",
            "    \"sMAPE\": 0.33377137651036604,\n",
            "    \"OWA\": NaN,\n",
            "    \"MSIS\": 163.94602963485542,\n",
            "    \"QuantileLoss[0.1]\": 23649332.642423436,\n",
            "    \"Coverage[0.1]\": 0.2813003220611915,\n",
            "    \"QuantileLoss[0.5]\": 20809180.075209618,\n",
            "    \"Coverage[0.5]\": 0.5357789855072465,\n",
            "    \"QuantileLoss[0.9]\": 17659643.281104468,\n",
            "    \"Coverage[0.9]\": 0.7369162640901772,\n",
            "    \"RMSE\": 6401.848255578279,\n",
            "    \"NRMSE\": 0.8739936915472933,\n",
            "    \"ND\": 0.14296058442948045,\n",
            "    \"wQuantileLoss[0.1]\": 0.16247263861221092,\n",
            "    \"wQuantileLoss[0.5]\": 0.14296058350970434,\n",
            "    \"wQuantileLoss[0.9]\": 0.12132303622320846,\n",
            "    \"mean_wQuantileLoss\": 0.14225208611504123,\n",
            "    \"MAE_Coverage\": 0.1267210144927536\n",
            "}\n"
          ],
          "name": "stdout"
        }
      ]
    },
    {
      "cell_type": "code",
      "metadata": {
        "colab_type": "code",
        "id": "fA1nNCJGO9Gl",
        "colab": {}
      },
      "source": [
        ""
      ],
      "execution_count": 0,
      "outputs": []
    },
    {
      "cell_type": "markdown",
      "metadata": {
        "colab_type": "text",
        "id": "h0WoHFeGPo0-"
      },
      "source": [
        "## m4_monthly"
      ]
    },
    {
      "cell_type": "code",
      "metadata": {
        "colab_type": "code",
        "id": "7IE6C9pnPo1B",
        "outputId": "65371d54-ce96-43ce-e4a3-b0e909b856b0",
        "colab": {
          "base_uri": "https://localhost:8080/",
          "height": 53
        }
      },
      "source": [
        "m4_monthly_dataset = get_dataset(\"m4_monthly\", regenerate=False)"
      ],
      "execution_count": 0,
      "outputs": [
        {
          "output_type": "stream",
          "text": [
            "saving time-series into /root/.mxnet/gluon-ts/datasets/m4_monthly/train/data.json\n",
            "saving time-series into /root/.mxnet/gluon-ts/datasets/m4_monthly/test/data.json\n"
          ],
          "name": "stdout"
        }
      ]
    },
    {
      "cell_type": "code",
      "metadata": {
        "colab_type": "code",
        "outputId": "b6a8cde2-5dba-4e72-c1c0-877b364ea556",
        "id": "WIotX52YPo1J",
        "colab": {
          "base_uri": "https://localhost:8080/",
          "height": 53
        }
      },
      "source": [
        "print (len(m4_monthly_dataset.train))\n",
        "print (len(m4_monthly_dataset.test))"
      ],
      "execution_count": 0,
      "outputs": [
        {
          "output_type": "stream",
          "text": [
            "48000\n",
            "48000\n"
          ],
          "name": "stdout"
        }
      ]
    },
    {
      "cell_type": "code",
      "metadata": {
        "colab_type": "code",
        "outputId": "12f3e686-1598-4c06-d482-77c959b33c29",
        "id": "A1suOzU0Po1P",
        "colab": {
          "base_uri": "https://localhost:8080/",
          "height": 35
        }
      },
      "source": [
        "m4_monthly_dataset.metadata"
      ],
      "execution_count": 0,
      "outputs": [
        {
          "output_type": "execute_result",
          "data": {
            "text/plain": [
              "MetaData(freq='M', target=None, feat_static_cat=[CategoricalFeatureInfo(name='feat_static_cat', cardinality='48000')], feat_static_real=[], feat_dynamic_real=[], feat_dynamic_cat=[], prediction_length=18)"
            ]
          },
          "metadata": {
            "tags": []
          },
          "execution_count": 49
        }
      ]
    },
    {
      "cell_type": "code",
      "metadata": {
        "colab_type": "code",
        "outputId": "0f28be3a-e4e0-49d5-cf87-2764184b9e30",
        "id": "rIAlQ1Abp2ZL",
        "colab": {
          "base_uri": "https://localhost:8080/",
          "height": 35
        }
      },
      "source": [
        "m4_monthly_dataset.metadata.feat_static_cat[0]"
      ],
      "execution_count": 0,
      "outputs": [
        {
          "output_type": "execute_result",
          "data": {
            "text/plain": [
              "CategoricalFeatureInfo(name='feat_static_cat', cardinality='48000')"
            ]
          },
          "metadata": {
            "tags": []
          },
          "execution_count": 50
        }
      ]
    },
    {
      "cell_type": "code",
      "metadata": {
        "colab_type": "code",
        "id": "VQy--9c5p2ZS",
        "colab": {}
      },
      "source": [
        "car = [int(m4_monthly_dataset.metadata.feat_static_cat[0].cardinality)]"
      ],
      "execution_count": 0,
      "outputs": []
    },
    {
      "cell_type": "code",
      "metadata": {
        "colab_type": "code",
        "outputId": "c75da4f2-1556-4b24-dcf9-72925a0b97f9",
        "id": "Jpn1PJzGPo1U",
        "colab": {
          "base_uri": "https://localhost:8080/",
          "height": 35
        }
      },
      "source": [
        "next(iter(m4_monthly_dataset.train)).keys()"
      ],
      "execution_count": 0,
      "outputs": [
        {
          "output_type": "execute_result",
          "data": {
            "text/plain": [
              "dict_keys(['start', 'target', 'feat_static_cat', 'item_id', 'source'])"
            ]
          },
          "metadata": {
            "tags": []
          },
          "execution_count": 52
        }
      ]
    },
    {
      "cell_type": "code",
      "metadata": {
        "colab_type": "code",
        "id": "0Z48itnDPo1b",
        "colab": {}
      },
      "source": [
        "# https://gluon-ts.mxnet.io/api/gluonts/gluonts.model.deep_factor.html\n",
        "DF_estimator = DeepFactorEstimator(\n",
        "    freq=m4_monthly_dataset.metadata.freq, # Time series frequency\n",
        "    prediction_length=m4_monthly_dataset.metadata.prediction_length, # Prediction length.\n",
        "    num_hidden_global=50, # (default: 50).\n",
        "    num_layers_global=1, # (default: 1).\n",
        "    num_factors=10, # (default: 10).\n",
        "    num_hidden_local=5, # (default: 5).\n",
        "    num_layers_local=1, # (default: 1).\n",
        "    cell_type='lstm', # (default: ‘lstm’).\n",
        "    trainer = deepfactor_trainer, # (default: Trainer()).\n",
        "    context_length=None, # (default: None, in which case context_length = prediction_length).\n",
        "    num_parallel_samples=100, # (default: 100).\n",
        "    cardinality=car, # (default: list([1]).\n",
        "    embedding_dimension=10, # (default: 10).\n",
        "    distr_output=StudentTOutput(), # (default: StudentTOutput()).\n",
        ")"
      ],
      "execution_count": 0,
      "outputs": []
    },
    {
      "cell_type": "code",
      "metadata": {
        "colab_type": "code",
        "outputId": "7da93de3-2cd4-4a6d-b412-05e33424b085",
        "id": "FynbtKogPo1f",
        "colab": {
          "base_uri": "https://localhost:8080/",
          "height": 1000
        }
      },
      "source": [
        "DF_predictor = DF_estimator.train(m4_monthly_dataset.train)"
      ],
      "execution_count": 0,
      "outputs": [
        {
          "output_type": "stream",
          "text": [
            "\r  0%|          | 0/50 [00:00<?, ?it/s]"
          ],
          "name": "stderr"
        },
        {
          "output_type": "stream",
          "text": [
            "learning rate from ``lr_scheduler`` has been overwritten by ``learning_rate`` in optimizer.\n"
          ],
          "name": "stdout"
        },
        {
          "output_type": "stream",
          "text": [
            "100%|██████████| 50/50 [00:01<00:00, 34.27it/s, epoch=1/100, avg_epoch_loss=3.28e+7]\n",
            "100%|██████████| 50/50 [00:01<00:00, 40.89it/s, epoch=2/100, avg_epoch_loss=1.74e+7]\n",
            "100%|██████████| 50/50 [00:01<00:00, 41.42it/s, epoch=3/100, avg_epoch_loss=1.59e+7]\n",
            "100%|██████████| 50/50 [00:01<00:00, 41.56it/s, epoch=4/100, avg_epoch_loss=8.06e+6]\n",
            "100%|██████████| 50/50 [00:01<00:00, 44.05it/s, epoch=5/100, avg_epoch_loss=3.62e+6]\n",
            "100%|██████████| 50/50 [00:01<00:00, 46.16it/s, epoch=6/100, avg_epoch_loss=1.75e+6]\n",
            "100%|██████████| 50/50 [00:01<00:00, 42.99it/s, epoch=7/100, avg_epoch_loss=1.48e+6]\n",
            "100%|██████████| 50/50 [00:01<00:00, 43.40it/s, epoch=8/100, avg_epoch_loss=9.02e+5]\n",
            "100%|██████████| 50/50 [00:01<00:00, 44.14it/s, epoch=9/100, avg_epoch_loss=1.23e+6]\n",
            "100%|██████████| 50/50 [00:01<00:00, 43.12it/s, epoch=10/100, avg_epoch_loss=1.34e+6]\n",
            "100%|██████████| 50/50 [00:01<00:00, 42.56it/s, epoch=11/100, avg_epoch_loss=8.02e+5]\n",
            "100%|██████████| 50/50 [00:01<00:00, 46.97it/s, epoch=12/100, avg_epoch_loss=4.98e+5]\n",
            "100%|██████████| 50/50 [00:01<00:00, 46.39it/s, epoch=13/100, avg_epoch_loss=3.47e+5]\n",
            "100%|██████████| 50/50 [00:01<00:00, 42.85it/s, epoch=14/100, avg_epoch_loss=4.42e+5]\n",
            "100%|██████████| 50/50 [00:01<00:00, 42.17it/s, epoch=15/100, avg_epoch_loss=4.43e+5]\n",
            "100%|██████████| 50/50 [00:01<00:00, 42.52it/s, epoch=16/100, avg_epoch_loss=5.23e+5]\n",
            "100%|██████████| 50/50 [00:01<00:00, 41.87it/s, epoch=17/100, avg_epoch_loss=5.17e+5]\n",
            "100%|██████████| 50/50 [00:01<00:00, 41.57it/s, epoch=18/100, avg_epoch_loss=6.75e+5]\n",
            "100%|██████████| 50/50 [00:01<00:00, 42.52it/s, epoch=19/100, avg_epoch_loss=2.7e+5]\n",
            "100%|██████████| 50/50 [00:01<00:00, 42.01it/s, epoch=20/100, avg_epoch_loss=5.66e+5]\n",
            "100%|██████████| 50/50 [00:01<00:00, 45.12it/s, epoch=21/100, avg_epoch_loss=1.99e+5]\n",
            "100%|██████████| 50/50 [00:01<00:00, 45.97it/s, epoch=22/100, avg_epoch_loss=1.89e+5]\n",
            "100%|██████████| 50/50 [00:01<00:00, 43.39it/s, epoch=23/100, avg_epoch_loss=3.75e+5]\n",
            "100%|██████████| 50/50 [00:01<00:00, 41.83it/s, epoch=24/100, avg_epoch_loss=3.33e+5]\n",
            "100%|██████████| 50/50 [00:01<00:00, 44.80it/s, epoch=25/100, avg_epoch_loss=2.4e+5]\n",
            "100%|██████████| 50/50 [00:01<00:00, 43.11it/s, epoch=26/100, avg_epoch_loss=1.89e+5]\n",
            "100%|██████████| 50/50 [00:01<00:00, 44.78it/s, epoch=27/100, avg_epoch_loss=1.86e+5]\n",
            "100%|██████████| 50/50 [00:01<00:00, 43.37it/s, epoch=28/100, avg_epoch_loss=2.06e+5]\n",
            "100%|██████████| 50/50 [00:01<00:00, 45.26it/s, epoch=29/100, avg_epoch_loss=1.2e+5]\n",
            "100%|██████████| 50/50 [00:01<00:00, 45.81it/s, epoch=30/100, avg_epoch_loss=1.64e+5]\n",
            "100%|██████████| 50/50 [00:01<00:00, 41.13it/s, epoch=31/100, avg_epoch_loss=1.6e+5]\n",
            "100%|██████████| 50/50 [00:01<00:00, 38.68it/s, epoch=32/100, avg_epoch_loss=1.27e+5]\n",
            "100%|██████████| 50/50 [00:01<00:00, 38.04it/s, epoch=33/100, avg_epoch_loss=1.98e+5]\n",
            "100%|██████████| 50/50 [00:01<00:00, 37.98it/s, epoch=34/100, avg_epoch_loss=1.41e+5]\n",
            "100%|██████████| 50/50 [00:01<00:00, 40.77it/s, epoch=35/100, avg_epoch_loss=9.11e+4]\n",
            "100%|██████████| 50/50 [00:01<00:00, 41.85it/s, epoch=36/100, avg_epoch_loss=6.09e+4]\n",
            "100%|██████████| 50/50 [00:01<00:00, 39.83it/s, epoch=37/100, avg_epoch_loss=6.12e+4]\n",
            "100%|██████████| 50/50 [00:01<00:00, 38.93it/s, epoch=38/100, avg_epoch_loss=4.02e+4]\n",
            "100%|██████████| 50/50 [00:01<00:00, 39.57it/s, epoch=39/100, avg_epoch_loss=2.42e+5]\n",
            "100%|██████████| 50/50 [00:01<00:00, 39.30it/s, epoch=40/100, avg_epoch_loss=1.19e+5]\n",
            "100%|██████████| 50/50 [00:01<00:00, 39.81it/s, epoch=41/100, avg_epoch_loss=6.46e+4]\n",
            "100%|██████████| 50/50 [00:01<00:00, 41.75it/s, epoch=42/100, avg_epoch_loss=3.93e+4]\n",
            "100%|██████████| 50/50 [00:01<00:00, 42.61it/s, epoch=43/100, avg_epoch_loss=2.77e+4]\n",
            "100%|██████████| 50/50 [00:01<00:00, 38.18it/s, epoch=44/100, avg_epoch_loss=3.81e+4]\n",
            "100%|██████████| 50/50 [00:01<00:00, 38.09it/s, epoch=45/100, avg_epoch_loss=3.64e+4]\n",
            "100%|██████████| 50/50 [00:01<00:00, 38.58it/s, epoch=46/100, avg_epoch_loss=4.85e+4]\n",
            "100%|██████████| 50/50 [00:01<00:00, 37.19it/s, epoch=47/100, avg_epoch_loss=5.93e+4]\n",
            "100%|██████████| 50/50 [00:01<00:00, 38.64it/s, epoch=48/100, avg_epoch_loss=9.69e+4]\n",
            "100%|██████████| 50/50 [00:01<00:00, 38.91it/s, epoch=49/100, avg_epoch_loss=3.56e+4]\n",
            "100%|██████████| 50/50 [00:01<00:00, 38.34it/s, epoch=50/100, avg_epoch_loss=1.03e+5]\n",
            "100%|██████████| 50/50 [00:01<00:00, 41.13it/s, epoch=51/100, avg_epoch_loss=2.54e+4]\n",
            "100%|██████████| 50/50 [00:01<00:00, 40.22it/s, epoch=52/100, avg_epoch_loss=2.28e+4]\n",
            "100%|██████████| 50/50 [00:01<00:00, 39.38it/s, epoch=53/100, avg_epoch_loss=4.69e+4]\n",
            "100%|██████████| 50/50 [00:01<00:00, 38.97it/s, epoch=54/100, avg_epoch_loss=4.31e+4]\n",
            "100%|██████████| 50/50 [00:01<00:00, 39.95it/s, epoch=55/100, avg_epoch_loss=3.1e+4]\n",
            "100%|██████████| 50/50 [00:01<00:00, 39.13it/s, epoch=56/100, avg_epoch_loss=2.47e+4]\n",
            "100%|██████████| 50/50 [00:01<00:00, 40.24it/s, epoch=57/100, avg_epoch_loss=2.37e+4]\n",
            "100%|██████████| 50/50 [00:01<00:00, 39.98it/s, epoch=58/100, avg_epoch_loss=2.94e+4]\n",
            "100%|██████████| 50/50 [00:01<00:00, 40.18it/s, epoch=59/100, avg_epoch_loss=1.57e+4]\n",
            "100%|██████████| 50/50 [00:01<00:00, 38.88it/s, epoch=60/100, avg_epoch_loss=2.31e+4]\n",
            "100%|██████████| 50/50 [00:01<00:00, 36.44it/s, epoch=61/100, avg_epoch_loss=8.99e+4]\n",
            "100%|██████████| 50/50 [00:01<00:00, 36.15it/s, epoch=62/100, avg_epoch_loss=2.29e+4]\n",
            "100%|██████████| 50/50 [00:01<00:00, 36.79it/s, epoch=63/100, avg_epoch_loss=2.86e+4]\n",
            "100%|██████████| 50/50 [00:01<00:00, 38.11it/s, epoch=64/100, avg_epoch_loss=2.2e+4]\n",
            "100%|██████████| 50/50 [00:01<00:00, 40.69it/s, epoch=65/100, avg_epoch_loss=1.52e+4]\n",
            "100%|██████████| 50/50 [00:01<00:00, 42.11it/s, epoch=66/100, avg_epoch_loss=1.02e+4]\n",
            "100%|██████████| 50/50 [00:01<00:00, 39.57it/s, epoch=67/100, avg_epoch_loss=1.16e+4]\n",
            "100%|██████████| 50/50 [00:01<00:00, 38.26it/s, epoch=68/100, avg_epoch_loss=7.16e+3]\n",
            "100%|██████████| 50/50 [00:01<00:00, 39.60it/s, epoch=69/100, avg_epoch_loss=1.56e+4]\n",
            "100%|██████████| 50/50 [00:01<00:00, 39.67it/s, epoch=70/100, avg_epoch_loss=2.08e+4]\n",
            "100%|██████████| 50/50 [00:01<00:00, 39.83it/s, epoch=71/100, avg_epoch_loss=1.29e+4]\n",
            "100%|██████████| 50/50 [00:01<00:00, 42.51it/s, epoch=72/100, avg_epoch_loss=7.92e+3]\n",
            "100%|██████████| 50/50 [00:01<00:00, 42.23it/s, epoch=73/100, avg_epoch_loss=5.4e+3]\n",
            "100%|██████████| 50/50 [00:01<00:00, 39.42it/s, epoch=74/100, avg_epoch_loss=7.54e+3]\n",
            "100%|██████████| 50/50 [00:01<00:00, 37.97it/s, epoch=75/100, avg_epoch_loss=7.43e+3]\n",
            "100%|██████████| 50/50 [00:01<00:00, 37.80it/s, epoch=76/100, avg_epoch_loss=9.21e+3]\n",
            "100%|██████████| 50/50 [00:01<00:00, 37.89it/s, epoch=77/100, avg_epoch_loss=1.32e+4]\n",
            "100%|██████████| 50/50 [00:01<00:00, 38.96it/s, epoch=78/100, avg_epoch_loss=1.54e+4]\n",
            "100%|██████████| 50/50 [00:01<00:00, 38.79it/s, epoch=79/100, avg_epoch_loss=7.47e+3]\n",
            "100%|██████████| 50/50 [00:01<00:00, 38.87it/s, epoch=80/100, avg_epoch_loss=1.85e+4]\n",
            "100%|██████████| 50/50 [00:01<00:00, 40.97it/s, epoch=81/100, avg_epoch_loss=6.14e+3]\n",
            "100%|██████████| 50/50 [00:01<00:00, 41.36it/s, epoch=82/100, avg_epoch_loss=5.77e+3]\n",
            "100%|██████████| 50/50 [00:01<00:00, 39.70it/s, epoch=83/100, avg_epoch_loss=1.04e+4]\n",
            "100%|██████████| 50/50 [00:01<00:00, 37.94it/s, epoch=84/100, avg_epoch_loss=1.32e+4]\n",
            "100%|██████████| 50/50 [00:01<00:00, 40.03it/s, epoch=85/100, avg_epoch_loss=1.01e+4]\n",
            "100%|██████████| 50/50 [00:01<00:00, 39.20it/s, epoch=86/100, avg_epoch_loss=9.37e+3]\n",
            "100%|██████████| 50/50 [00:01<00:00, 40.28it/s, epoch=87/100, avg_epoch_loss=8.94e+3]\n",
            "100%|██████████| 50/50 [00:01<00:00, 40.26it/s, epoch=88/100, avg_epoch_loss=1.28e+4]\n",
            "100%|██████████| 50/50 [00:01<00:00, 41.79it/s, epoch=89/100, avg_epoch_loss=6.36e+3]\n",
            "100%|██████████| 50/50 [00:01<00:00, 41.69it/s, epoch=90/100, avg_epoch_loss=9.75e+3]\n",
            "100%|██████████| 50/50 [00:01<00:00, 38.46it/s, epoch=91/100, avg_epoch_loss=4.83e+4]\n",
            "100%|██████████| 50/50 [00:01<00:00, 37.96it/s, epoch=92/100, avg_epoch_loss=1.54e+4]\n",
            "100%|██████████| 50/50 [00:01<00:00, 37.71it/s, epoch=93/100, avg_epoch_loss=1.49e+4]\n",
            "100%|██████████| 50/50 [00:01<00:00, 38.29it/s, epoch=94/100, avg_epoch_loss=5.12e+6]\n",
            "100%|██████████| 50/50 [00:01<00:00, 39.65it/s, epoch=95/100, avg_epoch_loss=3.02e+5]\n",
            "100%|██████████| 50/50 [00:01<00:00, 42.16it/s, epoch=96/100, avg_epoch_loss=1.37e+4]\n",
            "100%|██████████| 50/50 [00:01<00:00, 39.70it/s, epoch=97/100, avg_epoch_loss=7.57e+3]\n",
            "100%|██████████| 50/50 [00:01<00:00, 39.50it/s, epoch=98/100, avg_epoch_loss=6.48e+3]\n",
            "100%|██████████| 50/50 [00:01<00:00, 39.88it/s, epoch=99/100, avg_epoch_loss=1.09e+4]\n",
            "100%|██████████| 50/50 [00:01<00:00, 38.79it/s, epoch=100/100, avg_epoch_loss=1.48e+4]\n"
          ],
          "name": "stderr"
        }
      ]
    },
    {
      "cell_type": "code",
      "metadata": {
        "colab_type": "code",
        "id": "z-OU9czTPo1j",
        "outputId": "94609a75-993e-40c6-9424-c7cf0f9355b8",
        "colab": {
          "base_uri": "https://localhost:8080/",
          "height": 503
        }
      },
      "source": [
        "forecast_it, ts_it = make_evaluation_predictions(\n",
        "    dataset=m4_monthly_dataset.test, \n",
        "    predictor=DF_predictor, \n",
        "    num_samples=100, \n",
        ")\n",
        "\n",
        "forecasts = list(forecast_it)\n",
        "tss = list(ts_it)\n",
        "\n",
        "evaluator = Evaluator(quantiles=[0.1, 0.5, 0.9])\n",
        "agg_metrics, item_metrics = evaluator(iter(tss), iter(forecasts), num_series=len(m4_monthly_dataset.test))\n",
        "\n",
        "print(json.dumps(agg_metrics, indent=4))"
      ],
      "execution_count": 0,
      "outputs": [
        {
          "output_type": "stream",
          "text": [
            "Running evaluation: 100%|██████████| 48000/48000 [00:00<00:00, 314605.24it/s]\n"
          ],
          "name": "stderr"
        },
        {
          "output_type": "stream",
          "text": [
            "{\n",
            "    \"MSE\": 32115441897.68937,\n",
            "    \"abs_error\": 51222334701.30725,\n",
            "    \"abs_target_sum\": 4157157295.381714,\n",
            "    \"abs_target_mean\": 4811.5246474325495,\n",
            "    \"seasonal_error\": 616.9975625355751,\n",
            "    \"MASE\": 166.2121247462581,\n",
            "    \"MAPE\": 11.856855778301268,\n",
            "    \"sMAPE\": 1.4860916522621186,\n",
            "    \"OWA\": NaN,\n",
            "    \"MSIS\": 6641.4769399733905,\n",
            "    \"QuantileLoss[0.1]\": 88926061869.27962,\n",
            "    \"Coverage[0.1]\": 0.2678310185185138,\n",
            "    \"QuantileLoss[0.5]\": 51222334749.17082,\n",
            "    \"Coverage[0.5]\": 0.2688171296296251,\n",
            "    \"QuantileLoss[0.9]\": 13478121088.436924,\n",
            "    \"Coverage[0.9]\": 0.26986689814814335,\n",
            "    \"RMSE\": 179207.81762436975,\n",
            "    \"NRMSE\": 37.24553665541251,\n",
            "    \"ND\": 12.321481017379684,\n",
            "    \"wQuantileLoss[0.1]\": 21.391074609582304,\n",
            "    \"wQuantileLoss[0.5]\": 12.321481028893217,\n",
            "    \"wQuantileLoss[0.9]\": 3.242148451637876,\n",
            "    \"mean_wQuantileLoss\": 12.318234696704465,\n",
            "    \"MAE_Coverage\": 0.34304899691358176\n",
            "}\n"
          ],
          "name": "stdout"
        }
      ]
    },
    {
      "cell_type": "code",
      "metadata": {
        "colab_type": "code",
        "id": "nM547CLIPo1p",
        "colab": {}
      },
      "source": [
        ""
      ],
      "execution_count": 0,
      "outputs": []
    },
    {
      "cell_type": "markdown",
      "metadata": {
        "colab_type": "text",
        "id": "nznVHsOFTpbl"
      },
      "source": [
        "## m4_quarterly"
      ]
    },
    {
      "cell_type": "code",
      "metadata": {
        "colab_type": "code",
        "id": "Lqy_k4FfTpbn",
        "outputId": "e4218a5e-75ba-4d59-988d-6e535c5b6ef6",
        "colab": {
          "base_uri": "https://localhost:8080/",
          "height": 53
        }
      },
      "source": [
        "m4_quarterly_dataset = get_dataset(\"m4_quarterly\", regenerate=False)"
      ],
      "execution_count": 0,
      "outputs": [
        {
          "output_type": "stream",
          "text": [
            "saving time-series into /root/.mxnet/gluon-ts/datasets/m4_quarterly/train/data.json\n",
            "saving time-series into /root/.mxnet/gluon-ts/datasets/m4_quarterly/test/data.json\n"
          ],
          "name": "stdout"
        }
      ]
    },
    {
      "cell_type": "code",
      "metadata": {
        "colab_type": "code",
        "id": "Y457WiskTpbw",
        "outputId": "7c92a047-8b31-4711-c40b-d0f1fa0e8c01",
        "colab": {
          "base_uri": "https://localhost:8080/",
          "height": 53
        }
      },
      "source": [
        "print (len(m4_quarterly_dataset.train))\n",
        "print (len(m4_quarterly_dataset.test))"
      ],
      "execution_count": 0,
      "outputs": [
        {
          "output_type": "stream",
          "text": [
            "24000\n",
            "24000\n"
          ],
          "name": "stdout"
        }
      ]
    },
    {
      "cell_type": "code",
      "metadata": {
        "colab_type": "code",
        "id": "b9EoE_m6Tpbz",
        "outputId": "7a5ce8ea-daa9-47c6-c5b7-03421bcf6316",
        "colab": {
          "base_uri": "https://localhost:8080/",
          "height": 35
        }
      },
      "source": [
        "m4_quarterly_dataset.metadata"
      ],
      "execution_count": 0,
      "outputs": [
        {
          "output_type": "execute_result",
          "data": {
            "text/plain": [
              "MetaData(freq='3M', target=None, feat_static_cat=[CategoricalFeatureInfo(name='feat_static_cat', cardinality='24000')], feat_static_real=[], feat_dynamic_real=[], feat_dynamic_cat=[], prediction_length=8)"
            ]
          },
          "metadata": {
            "tags": []
          },
          "execution_count": 58
        }
      ]
    },
    {
      "cell_type": "code",
      "metadata": {
        "colab_type": "code",
        "outputId": "ea998719-f852-45de-e074-c253f3b1785b",
        "id": "NBrLxCWmqEzn",
        "colab": {
          "base_uri": "https://localhost:8080/",
          "height": 35
        }
      },
      "source": [
        "m4_quarterly_dataset.metadata.feat_static_cat[0]"
      ],
      "execution_count": 0,
      "outputs": [
        {
          "output_type": "execute_result",
          "data": {
            "text/plain": [
              "CategoricalFeatureInfo(name='feat_static_cat', cardinality='24000')"
            ]
          },
          "metadata": {
            "tags": []
          },
          "execution_count": 59
        }
      ]
    },
    {
      "cell_type": "code",
      "metadata": {
        "colab_type": "code",
        "id": "bYqoUboOqEzq",
        "colab": {}
      },
      "source": [
        "car = [int(m4_quarterly_dataset.metadata.feat_static_cat[0].cardinality)]"
      ],
      "execution_count": 0,
      "outputs": []
    },
    {
      "cell_type": "code",
      "metadata": {
        "colab_type": "code",
        "id": "9diHFpLATpb3",
        "outputId": "97de873c-c9f4-4fe0-bb3a-e39a6966fb88",
        "colab": {
          "base_uri": "https://localhost:8080/",
          "height": 35
        }
      },
      "source": [
        "next(iter(m4_quarterly_dataset.train)).keys()"
      ],
      "execution_count": 0,
      "outputs": [
        {
          "output_type": "execute_result",
          "data": {
            "text/plain": [
              "dict_keys(['start', 'target', 'feat_static_cat', 'item_id', 'source'])"
            ]
          },
          "metadata": {
            "tags": []
          },
          "execution_count": 61
        }
      ]
    },
    {
      "cell_type": "code",
      "metadata": {
        "colab_type": "code",
        "id": "uluvpZU5TpcE",
        "colab": {}
      },
      "source": [
        "# https://gluon-ts.mxnet.io/api/gluonts/gluonts.model.deep_factor.html\n",
        "DF_estimator = DeepFactorEstimator(\n",
        "    freq=m4_quarterly_dataset.metadata.freq, # Time series frequency\n",
        "    prediction_length=m4_quarterly_dataset.metadata.prediction_length, # Prediction length.\n",
        "    num_hidden_global=50, # (default: 50).\n",
        "    num_layers_global=1, # (default: 1).\n",
        "    num_factors=10, # (default: 10).\n",
        "    num_hidden_local=5, # (default: 5).\n",
        "    num_layers_local=1, # (default: 1).\n",
        "    cell_type='lstm', # (default: ‘lstm’).\n",
        "    trainer = deepfactor_trainer, # (default: Trainer()).\n",
        "    context_length=None, # (default: None, in which case context_length = prediction_length).\n",
        "    num_parallel_samples=100, # (default: 100).\n",
        "    cardinality=car, # (default: list([1]).\n",
        "    embedding_dimension=10, # (default: 10).\n",
        "    distr_output=StudentTOutput(), # (default: StudentTOutput()).\n",
        ")"
      ],
      "execution_count": 0,
      "outputs": []
    },
    {
      "cell_type": "code",
      "metadata": {
        "colab_type": "code",
        "outputId": "275d3960-2c8a-4d52-c77e-40fb8699cdb4",
        "id": "Yv7bIpjBTpcI",
        "colab": {
          "base_uri": "https://localhost:8080/",
          "height": 1000
        }
      },
      "source": [
        "DF_predictor = DF_estimator.train(m4_quarterly_dataset.train)"
      ],
      "execution_count": 0,
      "outputs": [
        {
          "output_type": "stream",
          "text": [
            "\r  0%|          | 0/50 [00:00<?, ?it/s]"
          ],
          "name": "stderr"
        },
        {
          "output_type": "stream",
          "text": [
            "learning rate from ``lr_scheduler`` has been overwritten by ``learning_rate`` in optimizer.\n"
          ],
          "name": "stdout"
        },
        {
          "output_type": "stream",
          "text": [
            "100%|██████████| 50/50 [00:00<00:00, 66.09it/s, epoch=1/100, avg_epoch_loss=3.97e+7]\n",
            "100%|██████████| 50/50 [00:00<00:00, 68.53it/s, epoch=2/100, avg_epoch_loss=3.53e+7]\n",
            "100%|██████████| 50/50 [00:00<00:00, 69.19it/s, epoch=3/100, avg_epoch_loss=2.53e+7]\n",
            "100%|██████████| 50/50 [00:00<00:00, 68.15it/s, epoch=4/100, avg_epoch_loss=9.37e+6]\n",
            "100%|██████████| 50/50 [00:00<00:00, 72.73it/s, epoch=5/100, avg_epoch_loss=4.11e+6]\n",
            "100%|██████████| 50/50 [00:00<00:00, 70.09it/s, epoch=6/100, avg_epoch_loss=5.34e+6]\n",
            "100%|██████████| 50/50 [00:00<00:00, 71.30it/s, epoch=7/100, avg_epoch_loss=3.07e+6]\n",
            "100%|██████████| 50/50 [00:00<00:00, 70.07it/s, epoch=8/100, avg_epoch_loss=2.22e+6]\n",
            "100%|██████████| 50/50 [00:00<00:00, 68.84it/s, epoch=9/100, avg_epoch_loss=1.47e+6]\n",
            "100%|██████████| 50/50 [00:00<00:00, 70.36it/s, epoch=10/100, avg_epoch_loss=1.7e+6]\n",
            "100%|██████████| 50/50 [00:00<00:00, 70.97it/s, epoch=11/100, avg_epoch_loss=1.31e+6]\n",
            "100%|██████████| 50/50 [00:00<00:00, 67.34it/s, epoch=12/100, avg_epoch_loss=1.09e+6]\n",
            "100%|██████████| 50/50 [00:00<00:00, 66.46it/s, epoch=13/100, avg_epoch_loss=9.54e+5]\n",
            "100%|██████████| 50/50 [00:00<00:00, 65.32it/s, epoch=14/100, avg_epoch_loss=7.92e+5]\n",
            "100%|██████████| 50/50 [00:00<00:00, 65.04it/s, epoch=15/100, avg_epoch_loss=6.46e+5]\n",
            "100%|██████████| 50/50 [00:00<00:00, 66.50it/s, epoch=16/100, avg_epoch_loss=5.79e+5]\n",
            "100%|██████████| 50/50 [00:00<00:00, 61.42it/s, epoch=17/100, avg_epoch_loss=6.75e+5]\n",
            "100%|██████████| 50/50 [00:00<00:00, 59.54it/s, epoch=18/100, avg_epoch_loss=6.95e+5]\n",
            "100%|██████████| 50/50 [00:00<00:00, 62.48it/s, epoch=19/100, avg_epoch_loss=4.09e+5]\n",
            "100%|██████████| 50/50 [00:00<00:00, 64.88it/s, epoch=20/100, avg_epoch_loss=2.68e+5]\n",
            "100%|██████████| 50/50 [00:00<00:00, 65.83it/s, epoch=21/100, avg_epoch_loss=4.35e+5]\n",
            "100%|██████████| 50/50 [00:00<00:00, 66.30it/s, epoch=22/100, avg_epoch_loss=3.06e+5]\n",
            "100%|██████████| 50/50 [00:00<00:00, 65.85it/s, epoch=23/100, avg_epoch_loss=2.69e+5]\n",
            "100%|██████████| 50/50 [00:00<00:00, 66.51it/s, epoch=24/100, avg_epoch_loss=1.99e+5]\n",
            "100%|██████████| 50/50 [00:00<00:00, 65.64it/s, epoch=25/100, avg_epoch_loss=2.59e+5]\n",
            "100%|██████████| 50/50 [00:00<00:00, 65.56it/s, epoch=26/100, avg_epoch_loss=2.2e+5]\n",
            "100%|██████████| 50/50 [00:00<00:00, 66.83it/s, epoch=27/100, avg_epoch_loss=1.97e+5]\n",
            "100%|██████████| 50/50 [00:00<00:00, 66.01it/s, epoch=28/100, avg_epoch_loss=1.89e+5]\n",
            "100%|██████████| 50/50 [00:00<00:00, 65.47it/s, epoch=29/100, avg_epoch_loss=1.6e+5]\n",
            "100%|██████████| 50/50 [00:00<00:00, 65.04it/s, epoch=30/100, avg_epoch_loss=1.37e+5]\n",
            "100%|██████████| 50/50 [00:00<00:00, 68.23it/s, epoch=31/100, avg_epoch_loss=1.75e+5]\n",
            "100%|██████████| 50/50 [00:00<00:00, 64.90it/s, epoch=32/100, avg_epoch_loss=1.64e+5]\n",
            "100%|██████████| 50/50 [00:00<00:00, 65.20it/s, epoch=33/100, avg_epoch_loss=1.64e+5]\n",
            "100%|██████████| 50/50 [00:00<00:00, 65.66it/s, epoch=34/100, avg_epoch_loss=8.82e+4]\n",
            "100%|██████████| 50/50 [00:00<00:00, 67.79it/s, epoch=35/100, avg_epoch_loss=5.48e+4]\n",
            "100%|██████████| 50/50 [00:00<00:00, 66.06it/s, epoch=36/100, avg_epoch_loss=1.05e+5]\n",
            "100%|██████████| 50/50 [00:00<00:00, 66.99it/s, epoch=37/100, avg_epoch_loss=7.24e+4]\n",
            "100%|██████████| 50/50 [00:00<00:00, 66.48it/s, epoch=38/100, avg_epoch_loss=6.74e+4]\n",
            "100%|██████████| 50/50 [00:00<00:00, 64.40it/s, epoch=39/100, avg_epoch_loss=5.06e+4]\n",
            "100%|██████████| 50/50 [00:00<00:00, 67.22it/s, epoch=40/100, avg_epoch_loss=6.19e+4]\n",
            "100%|██████████| 50/50 [00:00<00:00, 65.64it/s, epoch=41/100, avg_epoch_loss=5.92e+4]\n",
            "100%|██████████| 50/50 [00:00<00:00, 64.98it/s, epoch=42/100, avg_epoch_loss=5.77e+4]\n",
            "100%|██████████| 50/50 [00:00<00:00, 66.38it/s, epoch=43/100, avg_epoch_loss=5.53e+4]\n",
            "100%|██████████| 50/50 [00:00<00:00, 66.80it/s, epoch=44/100, avg_epoch_loss=4.6e+4]\n",
            "100%|██████████| 50/50 [00:00<00:00, 67.52it/s, epoch=45/100, avg_epoch_loss=4.07e+4]\n",
            "100%|██████████| 50/50 [00:00<00:00, 69.36it/s, epoch=46/100, avg_epoch_loss=4.21e+4]\n",
            "100%|██████████| 50/50 [00:00<00:00, 67.01it/s, epoch=47/100, avg_epoch_loss=4.91e+4]\n",
            "100%|██████████| 50/50 [00:00<00:00, 65.17it/s, epoch=48/100, avg_epoch_loss=5.67e+4]\n",
            "100%|██████████| 50/50 [00:00<00:00, 67.89it/s, epoch=49/100, avg_epoch_loss=3.76e+4]\n",
            "100%|██████████| 50/50 [00:00<00:00, 68.60it/s, epoch=50/100, avg_epoch_loss=2.47e+4]\n",
            "100%|██████████| 50/50 [00:00<00:00, 67.09it/s, epoch=51/100, avg_epoch_loss=4.8e+4]\n",
            "100%|██████████| 50/50 [00:00<00:00, 67.53it/s, epoch=52/100, avg_epoch_loss=3.26e+4]\n",
            "100%|██████████| 50/50 [00:00<00:00, 65.92it/s, epoch=53/100, avg_epoch_loss=3.41e+4]\n",
            "100%|██████████| 50/50 [00:00<00:00, 67.59it/s, epoch=54/100, avg_epoch_loss=2.39e+4]\n",
            "100%|██████████| 50/50 [00:00<00:00, 66.68it/s, epoch=55/100, avg_epoch_loss=3.59e+4]\n",
            "100%|██████████| 50/50 [00:00<00:00, 68.71it/s, epoch=56/100, avg_epoch_loss=3.01e+4]\n",
            "100%|██████████| 50/50 [00:00<00:00, 66.53it/s, epoch=57/100, avg_epoch_loss=3.23e+4]\n",
            "100%|██████████| 50/50 [00:00<00:00, 68.50it/s, epoch=58/100, avg_epoch_loss=3.26e+4]\n",
            "100%|██████████| 50/50 [00:00<00:00, 68.13it/s, epoch=59/100, avg_epoch_loss=2.84e+4]\n",
            "100%|██████████| 50/50 [00:00<00:00, 67.93it/s, epoch=60/100, avg_epoch_loss=2.37e+4]\n",
            "100%|██████████| 50/50 [00:00<00:00, 68.57it/s, epoch=61/100, avg_epoch_loss=2.81e+4]\n",
            "100%|██████████| 50/50 [00:00<00:00, 67.54it/s, epoch=62/100, avg_epoch_loss=3.41e+4]\n",
            "100%|██████████| 50/50 [00:00<00:00, 66.40it/s, epoch=63/100, avg_epoch_loss=4.25e+4]\n",
            "100%|██████████| 50/50 [00:00<00:00, 68.28it/s, epoch=64/100, avg_epoch_loss=2.92e+4]\n",
            "100%|██████████| 50/50 [00:00<00:00, 69.72it/s, epoch=65/100, avg_epoch_loss=1.91e+4]\n",
            "100%|██████████| 50/50 [00:00<00:00, 64.88it/s, epoch=66/100, avg_epoch_loss=3.85e+4]\n",
            "100%|██████████| 50/50 [00:00<00:00, 68.24it/s, epoch=67/100, avg_epoch_loss=2.7e+4]\n",
            "100%|██████████| 50/50 [00:00<00:00, 68.00it/s, epoch=68/100, avg_epoch_loss=2.58e+4]\n",
            "100%|██████████| 50/50 [00:00<00:00, 68.70it/s, epoch=69/100, avg_epoch_loss=2.11e+4]\n",
            "100%|██████████| 50/50 [00:00<00:00, 67.06it/s, epoch=70/100, avg_epoch_loss=3.21e+4]\n",
            "100%|██████████| 50/50 [00:00<00:00, 68.82it/s, epoch=71/100, avg_epoch_loss=2.66e+4]\n",
            "100%|██████████| 50/50 [00:00<00:00, 68.08it/s, epoch=72/100, avg_epoch_loss=2.82e+4]\n",
            "100%|██████████| 50/50 [00:00<00:00, 67.81it/s, epoch=73/100, avg_epoch_loss=2.84e+4]\n",
            "100%|██████████| 50/50 [00:00<00:00, 68.06it/s, epoch=74/100, avg_epoch_loss=2.61e+4]\n",
            "100%|██████████| 50/50 [00:00<00:00, 67.15it/s, epoch=75/100, avg_epoch_loss=2.25e+4]\n",
            "100%|██████████| 50/50 [00:00<00:00, 69.92it/s, epoch=76/100, avg_epoch_loss=3.34e+4]\n",
            "100%|██████████| 50/50 [00:00<00:00, 66.83it/s, epoch=77/100, avg_epoch_loss=4.2e+4]\n",
            "100%|██████████| 50/50 [00:00<00:00, 66.90it/s, epoch=78/100, avg_epoch_loss=5.01e+4]\n",
            "100%|██████████| 50/50 [00:00<00:00, 67.32it/s, epoch=79/100, avg_epoch_loss=3.24e+4]\n",
            "100%|██████████| 50/50 [00:00<00:00, 66.29it/s, epoch=80/100, avg_epoch_loss=2.2e+4]\n",
            "100%|██████████| 50/50 [00:00<00:00, 68.14it/s, epoch=81/100, avg_epoch_loss=3.75e+4]\n",
            "100%|██████████| 50/50 [00:00<00:00, 67.90it/s, epoch=82/100, avg_epoch_loss=2.49e+4]\n",
            "100%|██████████| 50/50 [00:00<00:00, 67.72it/s, epoch=83/100, avg_epoch_loss=2.52e+4]\n",
            "100%|██████████| 50/50 [00:00<00:00, 67.73it/s, epoch=84/100, avg_epoch_loss=2.03e+4]\n",
            "100%|██████████| 50/50 [00:00<00:00, 66.87it/s, epoch=85/100, avg_epoch_loss=3.2e+4]\n",
            "100%|██████████| 50/50 [00:00<00:00, 67.45it/s, epoch=86/100, avg_epoch_loss=3.24e+4]\n",
            "100%|██████████| 50/50 [00:00<00:00, 66.25it/s, epoch=87/100, avg_epoch_loss=3.31e+4]\n",
            "100%|██████████| 50/50 [00:00<00:00, 67.28it/s, epoch=88/100, avg_epoch_loss=3.41e+4]\n",
            "100%|██████████| 50/50 [00:00<00:00, 65.27it/s, epoch=89/100, avg_epoch_loss=3.06e+4]\n",
            "100%|██████████| 50/50 [00:00<00:00, 68.19it/s, epoch=90/100, avg_epoch_loss=2.8e+4]\n",
            "100%|██████████| 50/50 [00:00<00:00, 69.10it/s, epoch=91/100, avg_epoch_loss=3.12e+4]\n",
            "100%|██████████| 50/50 [00:00<00:00, 67.05it/s, epoch=92/100, avg_epoch_loss=4.07e+4]\n",
            "100%|██████████| 50/50 [00:00<00:00, 67.29it/s, epoch=93/100, avg_epoch_loss=4.86e+4]\n",
            "100%|██████████| 50/50 [00:00<00:00, 66.18it/s, epoch=94/100, avg_epoch_loss=3.18e+4]\n",
            "100%|██████████| 50/50 [00:00<00:00, 68.79it/s, epoch=95/100, avg_epoch_loss=2.24e+4]\n",
            "100%|██████████| 50/50 [00:00<00:00, 65.24it/s, epoch=96/100, avg_epoch_loss=3.78e+4]\n",
            "100%|██████████| 50/50 [00:00<00:00, 68.36it/s, epoch=97/100, avg_epoch_loss=2.76e+4]\n",
            "100%|██████████| 50/50 [00:00<00:00, 66.07it/s, epoch=98/100, avg_epoch_loss=2.7e+4]\n",
            "100%|██████████| 50/50 [00:00<00:00, 67.70it/s, epoch=99/100, avg_epoch_loss=2.25e+4]\n",
            "100%|██████████| 50/50 [00:00<00:00, 67.45it/s, epoch=100/100, avg_epoch_loss=3.55e+4]\n"
          ],
          "name": "stderr"
        }
      ]
    },
    {
      "cell_type": "code",
      "metadata": {
        "colab_type": "code",
        "id": "0kea2_IuTpcM",
        "outputId": "1f5ab9d5-e563-4828-b7f1-e2098cfb80b1",
        "colab": {
          "base_uri": "https://localhost:8080/",
          "height": 503
        }
      },
      "source": [
        "forecast_it, ts_it = make_evaluation_predictions(\n",
        "    dataset=m4_quarterly_dataset.test, \n",
        "    predictor=DF_predictor, \n",
        "    num_samples=100, \n",
        ")\n",
        "\n",
        "forecasts = list(forecast_it)\n",
        "tss = list(ts_it)\n",
        "\n",
        "evaluator = Evaluator(quantiles=[0.1, 0.5, 0.9])\n",
        "agg_metrics, item_metrics = evaluator(iter(tss), iter(forecasts), num_series=len(m4_quarterly_dataset.test))\n",
        "\n",
        "print(json.dumps(agg_metrics, indent=4))"
      ],
      "execution_count": 0,
      "outputs": [
        {
          "output_type": "stream",
          "text": [
            "Running evaluation: 100%|██████████| 24000/24000 [00:00<00:00, 252602.34it/s]\n"
          ],
          "name": "stderr"
        },
        {
          "output_type": "stream",
          "text": [
            "{\n",
            "    \"MSE\": 81002322.32597734,\n",
            "    \"abs_error\": 1098683036.5536804,\n",
            "    \"abs_target_sum\": 1147074070.9031982,\n",
            "    \"abs_target_mean\": 5974.344119287491,\n",
            "    \"seasonal_error\": 473.4332698179725,\n",
            "    \"MASE\": 19.83702600151264,\n",
            "    \"MAPE\": 0.9552013469974565,\n",
            "    \"sMAPE\": 1.516506232904913,\n",
            "    \"OWA\": NaN,\n",
            "    \"MSIS\": 787.1556528289225,\n",
            "    \"QuantileLoss[0.1]\": 754048331.036651,\n",
            "    \"Coverage[0.1]\": 0.13260416666666666,\n",
            "    \"QuantileLoss[0.5]\": 1098683036.6063194,\n",
            "    \"Coverage[0.5]\": 0.13318229166666667,\n",
            "    \"QuantileLoss[0.9]\": 1435098741.8476853,\n",
            "    \"Coverage[0.9]\": 0.13377083333333334,\n",
            "    \"RMSE\": 9000.129017185105,\n",
            "    \"NRMSE\": 1.5064631091686218,\n",
            "    \"ND\": 0.9578135051806942,\n",
            "    \"wQuantileLoss[0.1]\": 0.6573667299818908,\n",
            "    \"wQuantileLoss[0.5]\": 0.9578135052265839,\n",
            "    \"wQuantileLoss[0.9]\": 1.2510950933776217,\n",
            "    \"mean_wQuantileLoss\": 0.9554251095286989,\n",
            "    \"MAE_Coverage\": 0.38855034722222226\n",
            "}\n"
          ],
          "name": "stdout"
        }
      ]
    },
    {
      "cell_type": "code",
      "metadata": {
        "colab_type": "code",
        "id": "WLQbIJlNTpcQ",
        "colab": {}
      },
      "source": [
        ""
      ],
      "execution_count": 0,
      "outputs": []
    },
    {
      "cell_type": "markdown",
      "metadata": {
        "colab_type": "text",
        "id": "mPBrg_LQUG-N"
      },
      "source": [
        "## m4_weekly"
      ]
    },
    {
      "cell_type": "code",
      "metadata": {
        "colab_type": "code",
        "id": "zqOsVt25UG-O",
        "outputId": "d2dd5137-9f8c-412b-8875-4588378cb64e",
        "colab": {
          "base_uri": "https://localhost:8080/",
          "height": 53
        }
      },
      "source": [
        "m4_weekly_dataset = get_dataset(\"m4_weekly\", regenerate=False)"
      ],
      "execution_count": 0,
      "outputs": [
        {
          "output_type": "stream",
          "text": [
            "saving time-series into /root/.mxnet/gluon-ts/datasets/m4_weekly/train/data.json\n",
            "saving time-series into /root/.mxnet/gluon-ts/datasets/m4_weekly/test/data.json\n"
          ],
          "name": "stdout"
        }
      ]
    },
    {
      "cell_type": "code",
      "metadata": {
        "colab_type": "code",
        "id": "8rImBkzcUG-R",
        "outputId": "bc624b86-f6f6-41a3-a6f8-e8e9a8b8f72f",
        "colab": {
          "base_uri": "https://localhost:8080/",
          "height": 53
        }
      },
      "source": [
        "print (len(m4_weekly_dataset.train))\n",
        "print (len(m4_weekly_dataset.test))"
      ],
      "execution_count": 0,
      "outputs": [
        {
          "output_type": "stream",
          "text": [
            "359\n",
            "359\n"
          ],
          "name": "stdout"
        }
      ]
    },
    {
      "cell_type": "code",
      "metadata": {
        "colab_type": "code",
        "id": "YNqBvMCfUG-U",
        "outputId": "8dbf8007-ab3c-4b1a-da92-8d3713b0e789",
        "colab": {
          "base_uri": "https://localhost:8080/",
          "height": 35
        }
      },
      "source": [
        "m4_weekly_dataset.metadata"
      ],
      "execution_count": 0,
      "outputs": [
        {
          "output_type": "execute_result",
          "data": {
            "text/plain": [
              "MetaData(freq='W', target=None, feat_static_cat=[CategoricalFeatureInfo(name='feat_static_cat', cardinality='359')], feat_static_real=[], feat_dynamic_real=[], feat_dynamic_cat=[], prediction_length=13)"
            ]
          },
          "metadata": {
            "tags": []
          },
          "execution_count": 67
        }
      ]
    },
    {
      "cell_type": "code",
      "metadata": {
        "colab_type": "code",
        "outputId": "68b2dee9-ad94-4c69-e7a8-975f5396f54b",
        "id": "oBmE2sv5qRI5",
        "colab": {
          "base_uri": "https://localhost:8080/",
          "height": 35
        }
      },
      "source": [
        "m4_weekly_dataset.metadata.feat_static_cat[0]"
      ],
      "execution_count": 0,
      "outputs": [
        {
          "output_type": "execute_result",
          "data": {
            "text/plain": [
              "CategoricalFeatureInfo(name='feat_static_cat', cardinality='359')"
            ]
          },
          "metadata": {
            "tags": []
          },
          "execution_count": 68
        }
      ]
    },
    {
      "cell_type": "code",
      "metadata": {
        "colab_type": "code",
        "id": "9ne4eVCaqRI8",
        "colab": {}
      },
      "source": [
        "car = [int(m4_weekly_dataset.metadata.feat_static_cat[0].cardinality)]"
      ],
      "execution_count": 0,
      "outputs": []
    },
    {
      "cell_type": "code",
      "metadata": {
        "colab_type": "code",
        "id": "xxBOpLK5UG-W",
        "outputId": "535713b1-aa57-476f-9129-3eefac7f4b5a",
        "colab": {
          "base_uri": "https://localhost:8080/",
          "height": 35
        }
      },
      "source": [
        "next(iter(m4_weekly_dataset.train)).keys()"
      ],
      "execution_count": 0,
      "outputs": [
        {
          "output_type": "execute_result",
          "data": {
            "text/plain": [
              "dict_keys(['start', 'target', 'feat_static_cat', 'item_id', 'source'])"
            ]
          },
          "metadata": {
            "tags": []
          },
          "execution_count": 70
        }
      ]
    },
    {
      "cell_type": "code",
      "metadata": {
        "colab_type": "code",
        "id": "oambQWoLUG-b",
        "colab": {}
      },
      "source": [
        "# https://gluon-ts.mxnet.io/api/gluonts/gluonts.model.deep_factor.html\n",
        "DF_estimator = DeepFactorEstimator(\n",
        "    freq=m4_weekly_dataset.metadata.freq, # Time series frequency\n",
        "    prediction_length=m4_weekly_dataset.metadata.prediction_length, # Prediction length.\n",
        "    num_hidden_global=50, # (default: 50).\n",
        "    num_layers_global=1, # (default: 1).\n",
        "    num_factors=10, # (default: 10).\n",
        "    num_hidden_local=5, # (default: 5).\n",
        "    num_layers_local=1, # (default: 1).\n",
        "    cell_type='lstm', # (default: ‘lstm’).\n",
        "    trainer = deepfactor_trainer, # (default: Trainer()).\n",
        "    context_length=None, # (default: None, in which case context_length = prediction_length).\n",
        "    num_parallel_samples=100, # (default: 100).\n",
        "    cardinality=car, # (default: list([1]).\n",
        "    embedding_dimension=10, # (default: 10).\n",
        "    distr_output=StudentTOutput(), # (default: StudentTOutput()).\n",
        ")"
      ],
      "execution_count": 0,
      "outputs": []
    },
    {
      "cell_type": "code",
      "metadata": {
        "colab_type": "code",
        "outputId": "e239b925-7b43-4cc2-ded9-acfbba36f989",
        "id": "268w4zPdUG-o",
        "colab": {
          "base_uri": "https://localhost:8080/",
          "height": 1000
        }
      },
      "source": [
        "DF_predictor = DF_estimator.train(m4_weekly_dataset.train)"
      ],
      "execution_count": 0,
      "outputs": [
        {
          "output_type": "stream",
          "text": [
            "\r  0%|          | 0/50 [00:00<?, ?it/s]"
          ],
          "name": "stderr"
        },
        {
          "output_type": "stream",
          "text": [
            "learning rate from ``lr_scheduler`` has been overwritten by ``learning_rate`` in optimizer.\n"
          ],
          "name": "stdout"
        },
        {
          "output_type": "stream",
          "text": [
            "100%|██████████| 50/50 [00:01<00:00, 36.71it/s, epoch=1/100, avg_epoch_loss=5.04e+7]\n",
            "100%|██████████| 50/50 [00:01<00:00, 38.71it/s, epoch=2/100, avg_epoch_loss=2.91e+7]\n",
            "100%|██████████| 50/50 [00:01<00:00, 38.96it/s, epoch=3/100, avg_epoch_loss=1.58e+7]\n",
            "100%|██████████| 50/50 [00:01<00:00, 38.40it/s, epoch=4/100, avg_epoch_loss=7.2e+6]\n",
            "100%|██████████| 50/50 [00:01<00:00, 38.87it/s, epoch=5/100, avg_epoch_loss=3.71e+6]\n",
            "100%|██████████| 50/50 [00:01<00:00, 37.62it/s, epoch=6/100, avg_epoch_loss=2.13e+6]\n",
            "100%|██████████| 50/50 [00:01<00:00, 38.77it/s, epoch=7/100, avg_epoch_loss=1.21e+6]\n",
            "100%|██████████| 50/50 [00:01<00:00, 37.71it/s, epoch=8/100, avg_epoch_loss=7.81e+5]\n",
            "100%|██████████| 50/50 [00:01<00:00, 39.30it/s, epoch=9/100, avg_epoch_loss=4.39e+5]\n",
            "100%|██████████| 50/50 [00:01<00:00, 37.61it/s, epoch=10/100, avg_epoch_loss=3.42e+5]\n",
            "100%|██████████| 50/50 [00:01<00:00, 38.41it/s, epoch=11/100, avg_epoch_loss=2.6e+5]\n",
            "100%|██████████| 50/50 [00:01<00:00, 38.10it/s, epoch=12/100, avg_epoch_loss=2.19e+5]\n",
            "100%|██████████| 50/50 [00:01<00:00, 39.05it/s, epoch=13/100, avg_epoch_loss=1.69e+5]\n",
            "100%|██████████| 50/50 [00:01<00:00, 37.75it/s, epoch=14/100, avg_epoch_loss=1.56e+5]\n",
            "100%|██████████| 50/50 [00:01<00:00, 38.37it/s, epoch=15/100, avg_epoch_loss=1.27e+5]\n",
            "100%|██████████| 50/50 [00:01<00:00, 38.04it/s, epoch=16/100, avg_epoch_loss=1.14e+5]\n",
            "100%|██████████| 50/50 [00:01<00:00, 37.57it/s, epoch=17/100, avg_epoch_loss=9.59e+4]\n",
            "100%|██████████| 50/50 [00:01<00:00, 37.73it/s, epoch=18/100, avg_epoch_loss=8.41e+4]\n",
            "100%|██████████| 50/50 [00:01<00:00, 35.14it/s, epoch=19/100, avg_epoch_loss=8.23e+4]\n",
            "100%|██████████| 50/50 [00:01<00:00, 36.47it/s, epoch=20/100, avg_epoch_loss=6.72e+4]\n",
            "100%|██████████| 50/50 [00:01<00:00, 35.82it/s, epoch=21/100, avg_epoch_loss=6.43e+4]\n",
            "100%|██████████| 50/50 [00:01<00:00, 36.59it/s, epoch=22/100, avg_epoch_loss=5.84e+4]\n",
            "100%|██████████| 50/50 [00:01<00:00, 38.28it/s, epoch=23/100, avg_epoch_loss=5.69e+4]\n",
            "100%|██████████| 50/50 [00:01<00:00, 39.36it/s, epoch=24/100, avg_epoch_loss=4.95e+4]\n",
            "100%|██████████| 50/50 [00:01<00:00, 37.72it/s, epoch=25/100, avg_epoch_loss=4.71e+4]\n",
            "100%|██████████| 50/50 [00:01<00:00, 38.83it/s, epoch=26/100, avg_epoch_loss=3.99e+4]\n",
            "100%|██████████| 50/50 [00:01<00:00, 38.58it/s, epoch=27/100, avg_epoch_loss=4.07e+4]\n",
            "100%|██████████| 50/50 [00:01<00:00, 38.15it/s, epoch=28/100, avg_epoch_loss=3.76e+4]\n",
            "100%|██████████| 50/50 [00:01<00:00, 38.88it/s, epoch=29/100, avg_epoch_loss=3.42e+4]\n",
            "100%|██████████| 50/50 [00:01<00:00, 37.65it/s, epoch=30/100, avg_epoch_loss=3.43e+4]\n",
            "100%|██████████| 50/50 [00:01<00:00, 38.38it/s, epoch=31/100, avg_epoch_loss=2.94e+4]\n",
            "100%|██████████| 50/50 [00:01<00:00, 38.35it/s, epoch=32/100, avg_epoch_loss=3.1e+4]\n",
            "100%|██████████| 50/50 [00:01<00:00, 38.43it/s, epoch=33/100, avg_epoch_loss=2.62e+4]\n",
            "100%|██████████| 50/50 [00:01<00:00, 37.58it/s, epoch=34/100, avg_epoch_loss=2.62e+4]\n",
            "100%|██████████| 50/50 [00:01<00:00, 39.11it/s, epoch=35/100, avg_epoch_loss=2.32e+4]\n",
            "100%|██████████| 50/50 [00:01<00:00, 38.21it/s, epoch=36/100, avg_epoch_loss=2.43e+4]\n",
            "100%|██████████| 50/50 [00:01<00:00, 38.53it/s, epoch=37/100, avg_epoch_loss=2.12e+4]\n",
            "100%|██████████| 50/50 [00:01<00:00, 38.62it/s, epoch=38/100, avg_epoch_loss=2.12e+4]\n",
            "100%|██████████| 50/50 [00:01<00:00, 38.08it/s, epoch=39/100, avg_epoch_loss=2e+4]\n",
            "100%|██████████| 50/50 [00:01<00:00, 39.27it/s, epoch=40/100, avg_epoch_loss=1.88e+4]\n",
            "100%|██████████| 50/50 [00:01<00:00, 37.67it/s, epoch=41/100, avg_epoch_loss=1.84e+4]\n",
            "100%|██████████| 50/50 [00:01<00:00, 39.22it/s, epoch=42/100, avg_epoch_loss=1.57e+4]\n",
            "100%|██████████| 50/50 [00:01<00:00, 38.25it/s, epoch=43/100, avg_epoch_loss=1.73e+4]\n",
            "100%|██████████| 50/50 [00:01<00:00, 38.88it/s, epoch=44/100, avg_epoch_loss=1.5e+4]\n",
            "100%|██████████| 50/50 [00:01<00:00, 38.21it/s, epoch=45/100, avg_epoch_loss=1.72e+4]\n",
            "100%|██████████| 50/50 [00:01<00:00, 39.19it/s, epoch=46/100, avg_epoch_loss=1.37e+4]\n",
            "100%|██████████| 50/50 [00:01<00:00, 38.59it/s, epoch=47/100, avg_epoch_loss=1.37e+4]\n",
            "100%|██████████| 50/50 [00:01<00:00, 38.27it/s, epoch=48/100, avg_epoch_loss=1.25e+4]\n",
            "100%|██████████| 50/50 [00:01<00:00, 38.58it/s, epoch=49/100, avg_epoch_loss=1.26e+4]\n",
            "100%|██████████| 50/50 [00:01<00:00, 38.59it/s, epoch=50/100, avg_epoch_loss=1.29e+4]\n",
            "100%|██████████| 50/50 [00:01<00:00, 39.14it/s, epoch=51/100, avg_epoch_loss=1.17e+4]\n",
            "100%|██████████| 50/50 [00:01<00:00, 38.37it/s, epoch=52/100, avg_epoch_loss=1.12e+4]\n",
            "100%|██████████| 50/50 [00:01<00:00, 38.96it/s, epoch=53/100, avg_epoch_loss=1.05e+4]\n",
            "100%|██████████| 50/50 [00:01<00:00, 38.38it/s, epoch=54/100, avg_epoch_loss=1.22e+4]\n",
            "100%|██████████| 50/50 [00:01<00:00, 38.79it/s, epoch=55/100, avg_epoch_loss=9.63e+3]\n",
            "100%|██████████| 50/50 [00:01<00:00, 37.41it/s, epoch=56/100, avg_epoch_loss=1.05e+4]\n",
            "100%|██████████| 50/50 [00:01<00:00, 39.00it/s, epoch=57/100, avg_epoch_loss=9.61e+3]\n",
            "100%|██████████| 50/50 [00:01<00:00, 38.18it/s, epoch=58/100, avg_epoch_loss=9.27e+3]\n",
            "100%|██████████| 50/50 [00:01<00:00, 39.11it/s, epoch=59/100, avg_epoch_loss=9.16e+3]\n",
            "100%|██████████| 50/50 [00:01<00:00, 38.50it/s, epoch=60/100, avg_epoch_loss=8.52e+3]\n",
            "100%|██████████| 50/50 [00:01<00:00, 39.01it/s, epoch=61/100, avg_epoch_loss=8.12e+3]\n",
            "100%|██████████| 50/50 [00:01<00:00, 37.89it/s, epoch=62/100, avg_epoch_loss=7.98e+3]\n",
            "100%|██████████| 50/50 [00:01<00:00, 38.31it/s, epoch=63/100, avg_epoch_loss=7.24e+3]\n",
            "100%|██████████| 50/50 [00:01<00:00, 38.51it/s, epoch=64/100, avg_epoch_loss=7.24e+3]\n",
            "100%|██████████| 50/50 [00:01<00:00, 37.95it/s, epoch=65/100, avg_epoch_loss=6.84e+3]\n",
            "100%|██████████| 50/50 [00:01<00:00, 39.17it/s, epoch=66/100, avg_epoch_loss=6.52e+3]\n",
            "100%|██████████| 50/50 [00:01<00:00, 38.79it/s, epoch=67/100, avg_epoch_loss=6.41e+3]\n",
            "100%|██████████| 50/50 [00:01<00:00, 39.15it/s, epoch=68/100, avg_epoch_loss=6.77e+3]\n",
            "100%|██████████| 50/50 [00:01<00:00, 37.96it/s, epoch=69/100, avg_epoch_loss=6.12e+3]\n",
            "100%|██████████| 50/50 [00:01<00:00, 39.42it/s, epoch=70/100, avg_epoch_loss=5.53e+3]\n",
            "100%|██████████| 50/50 [00:01<00:00, 38.53it/s, epoch=71/100, avg_epoch_loss=5.98e+3]\n",
            "100%|██████████| 50/50 [00:01<00:00, 38.32it/s, epoch=72/100, avg_epoch_loss=5.61e+3]\n",
            "100%|██████████| 50/50 [00:01<00:00, 38.91it/s, epoch=73/100, avg_epoch_loss=5.08e+3]\n",
            "100%|██████████| 50/50 [00:01<00:00, 38.72it/s, epoch=74/100, avg_epoch_loss=4.7e+3]\n",
            "100%|██████████| 50/50 [00:01<00:00, 39.28it/s, epoch=75/100, avg_epoch_loss=4.55e+3]\n",
            "100%|██████████| 50/50 [00:01<00:00, 38.62it/s, epoch=76/100, avg_epoch_loss=4.3e+3]\n",
            "100%|██████████| 50/50 [00:01<00:00, 39.56it/s, epoch=77/100, avg_epoch_loss=4.42e+3]\n",
            "100%|██████████| 50/50 [00:01<00:00, 38.64it/s, epoch=78/100, avg_epoch_loss=4.6e+3]\n",
            "100%|██████████| 50/50 [00:01<00:00, 39.34it/s, epoch=79/100, avg_epoch_loss=4.16e+3]\n",
            "100%|██████████| 50/50 [00:01<00:00, 38.17it/s, epoch=80/100, avg_epoch_loss=3.14e+3]\n",
            "100%|██████████| 50/50 [00:01<00:00, 39.44it/s, epoch=81/100, avg_epoch_loss=3.89e+3]\n",
            "100%|██████████| 50/50 [00:01<00:00, 38.44it/s, epoch=82/100, avg_epoch_loss=4.16e+3]\n",
            "100%|██████████| 50/50 [00:01<00:00, 39.15it/s, epoch=83/100, avg_epoch_loss=3.18e+3]\n",
            "100%|██████████| 50/50 [00:01<00:00, 38.96it/s, epoch=84/100, avg_epoch_loss=3.72e+3]\n",
            "100%|██████████| 50/50 [00:01<00:00, 38.74it/s, epoch=85/100, avg_epoch_loss=3.3e+3]\n",
            "100%|██████████| 50/50 [00:01<00:00, 38.91it/s, epoch=86/100, avg_epoch_loss=2.9e+3]\n",
            "100%|██████████| 50/50 [00:01<00:00, 38.17it/s, epoch=87/100, avg_epoch_loss=3.32e+3]\n",
            "100%|██████████| 50/50 [00:01<00:00, 39.26it/s, epoch=88/100, avg_epoch_loss=2.85e+3]\n",
            "100%|██████████| 50/50 [00:01<00:00, 38.54it/s, epoch=89/100, avg_epoch_loss=3.09e+3]\n",
            "100%|██████████| 50/50 [00:01<00:00, 39.23it/s, epoch=90/100, avg_epoch_loss=2.02e+3]\n",
            "100%|██████████| 50/50 [00:01<00:00, 39.07it/s, epoch=91/100, avg_epoch_loss=2.68e+3]\n",
            "100%|██████████| 50/50 [00:01<00:00, 39.31it/s, epoch=92/100, avg_epoch_loss=2.52e+3]\n",
            "100%|██████████| 50/50 [00:01<00:00, 38.90it/s, epoch=93/100, avg_epoch_loss=2.56e+3]\n",
            "100%|██████████| 50/50 [00:01<00:00, 39.66it/s, epoch=94/100, avg_epoch_loss=1.94e+3]\n",
            "100%|██████████| 50/50 [00:01<00:00, 37.72it/s, epoch=95/100, avg_epoch_loss=1.47e+3]\n",
            "100%|██████████| 50/50 [00:01<00:00, 38.95it/s, epoch=96/100, avg_epoch_loss=2.14e+3]\n",
            "100%|██████████| 50/50 [00:01<00:00, 39.47it/s, epoch=97/100, avg_epoch_loss=1.55e+3]\n",
            "100%|██████████| 50/50 [00:01<00:00, 38.59it/s, epoch=98/100, avg_epoch_loss=1.63e+3]\n",
            "100%|██████████| 50/50 [00:01<00:00, 39.52it/s, epoch=99/100, avg_epoch_loss=1.3e+3]\n",
            "100%|██████████| 50/50 [00:01<00:00, 38.75it/s, epoch=100/100, avg_epoch_loss=1.49e+3]\n"
          ],
          "name": "stderr"
        }
      ]
    },
    {
      "cell_type": "code",
      "metadata": {
        "colab_type": "code",
        "id": "kE6yGMdvUG-x",
        "outputId": "e362664b-c114-4b42-fa78-e5859a279473",
        "colab": {
          "base_uri": "https://localhost:8080/",
          "height": 503
        }
      },
      "source": [
        "forecast_it, ts_it = make_evaluation_predictions(\n",
        "    dataset=m4_weekly_dataset.test, \n",
        "    predictor=DF_predictor, \n",
        "    num_samples=100, \n",
        ")\n",
        "\n",
        "forecasts = list(forecast_it)\n",
        "tss = list(ts_it)\n",
        "\n",
        "evaluator = Evaluator(quantiles=[0.1, 0.5, 0.9])\n",
        "agg_metrics, item_metrics = evaluator(iter(tss), iter(forecasts), num_series=len(m4_weekly_dataset.test))\n",
        "\n",
        "print(json.dumps(agg_metrics, indent=4))"
      ],
      "execution_count": 0,
      "outputs": [
        {
          "output_type": "stream",
          "text": [
            "Running evaluation: 100%|██████████| 359/359 [00:00<00:00, 5832.42it/s]\n"
          ],
          "name": "stderr"
        },
        {
          "output_type": "stream",
          "text": [
            "{\n",
            "    \"MSE\": 3092125.678778238,\n",
            "    \"abs_error\": 5337996.949234009,\n",
            "    \"abs_target_sum\": 25616889.502441406,\n",
            "    \"abs_target_mean\": 5488.941397566194,\n",
            "    \"seasonal_error\": 216.54813922503882,\n",
            "    \"MASE\": 19.148520440241946,\n",
            "    \"MAPE\": 0.2117046438547443,\n",
            "    \"sMAPE\": 0.23647832069685804,\n",
            "    \"OWA\": NaN,\n",
            "    \"MSIS\": 734.0715815119916,\n",
            "    \"QuantileLoss[0.1]\": 1482328.4895713804,\n",
            "    \"Coverage[0.1]\": 0.12384829655024661,\n",
            "    \"QuantileLoss[0.5]\": 5337996.920166016,\n",
            "    \"Coverage[0.5]\": 0.15084636811656327,\n",
            "    \"QuantileLoss[0.9]\": 8908309.51903839,\n",
            "    \"Coverage[0.9]\": 0.19112920505678205,\n",
            "    \"RMSE\": 1758.4441073796568,\n",
            "    \"NRMSE\": 0.32036124637063057,\n",
            "    \"ND\": 0.20837802921878057,\n",
            "    \"wQuantileLoss[0.1]\": 0.057865280225770886,\n",
            "    \"wQuantileLoss[0.5]\": 0.20837802808406072,\n",
            "    \"wQuantileLoss[0.9]\": 0.34775141291800427,\n",
            "    \"mean_wQuantileLoss\": 0.20466490707594528,\n",
            "    \"MAE_Coverage\": 0.3606242411256338\n",
            "}\n"
          ],
          "name": "stdout"
        }
      ]
    },
    {
      "cell_type": "code",
      "metadata": {
        "colab_type": "code",
        "id": "Qad3RV63UG-2",
        "colab": {}
      },
      "source": [
        ""
      ],
      "execution_count": 0,
      "outputs": []
    },
    {
      "cell_type": "markdown",
      "metadata": {
        "colab_type": "text",
        "id": "TYKFITcnUKLQ"
      },
      "source": [
        "## m4_yearly"
      ]
    },
    {
      "cell_type": "code",
      "metadata": {
        "colab_type": "code",
        "id": "0_xBRUYXUKLR",
        "outputId": "3de8ad3b-6a0b-4f70-9b79-07961fc13dfc",
        "colab": {
          "base_uri": "https://localhost:8080/",
          "height": 53
        }
      },
      "source": [
        "m4_yearly_dataset = get_dataset(\"m4_yearly\", regenerate=False)"
      ],
      "execution_count": 0,
      "outputs": [
        {
          "output_type": "stream",
          "text": [
            "saving time-series into /root/.mxnet/gluon-ts/datasets/m4_yearly/train/data.json\n",
            "saving time-series into /root/.mxnet/gluon-ts/datasets/m4_yearly/test/data.json\n"
          ],
          "name": "stdout"
        }
      ]
    },
    {
      "cell_type": "code",
      "metadata": {
        "colab_type": "code",
        "id": "QYwTQDmbUKLW",
        "outputId": "6cb6257a-6342-42c5-edb3-348b8dce8acd",
        "colab": {
          "base_uri": "https://localhost:8080/",
          "height": 53
        }
      },
      "source": [
        "print (len(m4_yearly_dataset.train))\n",
        "print (len(m4_yearly_dataset.test))"
      ],
      "execution_count": 0,
      "outputs": [
        {
          "output_type": "stream",
          "text": [
            "23000\n",
            "23000\n"
          ],
          "name": "stdout"
        }
      ]
    },
    {
      "cell_type": "code",
      "metadata": {
        "colab_type": "code",
        "id": "Vm2erLbqUKLa",
        "outputId": "9626256c-172c-457b-b631-6ee336ffb140",
        "colab": {
          "base_uri": "https://localhost:8080/",
          "height": 35
        }
      },
      "source": [
        "m4_yearly_dataset.metadata"
      ],
      "execution_count": 0,
      "outputs": [
        {
          "output_type": "execute_result",
          "data": {
            "text/plain": [
              "MetaData(freq='12M', target=None, feat_static_cat=[CategoricalFeatureInfo(name='feat_static_cat', cardinality='23000')], feat_static_real=[], feat_dynamic_real=[], feat_dynamic_cat=[], prediction_length=6)"
            ]
          },
          "metadata": {
            "tags": []
          },
          "execution_count": 76
        }
      ]
    },
    {
      "cell_type": "code",
      "metadata": {
        "colab_type": "code",
        "outputId": "7c9f7f90-bba4-41fa-cfbd-e72102d367db",
        "id": "p--10RfDqfGS",
        "colab": {
          "base_uri": "https://localhost:8080/",
          "height": 35
        }
      },
      "source": [
        "m4_yearly_dataset.metadata.feat_static_cat[0]"
      ],
      "execution_count": 0,
      "outputs": [
        {
          "output_type": "execute_result",
          "data": {
            "text/plain": [
              "CategoricalFeatureInfo(name='feat_static_cat', cardinality='23000')"
            ]
          },
          "metadata": {
            "tags": []
          },
          "execution_count": 77
        }
      ]
    },
    {
      "cell_type": "code",
      "metadata": {
        "colab_type": "code",
        "id": "8Q0KSV9LqfGY",
        "colab": {}
      },
      "source": [
        "car = [int(m4_yearly_dataset.metadata.feat_static_cat[0].cardinality)]"
      ],
      "execution_count": 0,
      "outputs": []
    },
    {
      "cell_type": "code",
      "metadata": {
        "colab_type": "code",
        "id": "cjR3KORlUKLe",
        "outputId": "bb12d9ae-e3d4-4cb7-b66a-a98252bffca2",
        "colab": {
          "base_uri": "https://localhost:8080/",
          "height": 35
        }
      },
      "source": [
        "next(iter(m4_yearly_dataset.train)).keys()"
      ],
      "execution_count": 0,
      "outputs": [
        {
          "output_type": "execute_result",
          "data": {
            "text/plain": [
              "dict_keys(['start', 'target', 'feat_static_cat', 'item_id', 'source'])"
            ]
          },
          "metadata": {
            "tags": []
          },
          "execution_count": 79
        }
      ]
    },
    {
      "cell_type": "code",
      "metadata": {
        "colab_type": "code",
        "id": "LjZJvTpaUKLo",
        "colab": {}
      },
      "source": [
        "# https://gluon-ts.mxnet.io/api/gluonts/gluonts.model.deep_factor.html\n",
        "DF_estimator = DeepFactorEstimator(\n",
        "    freq=m4_yearly_dataset.metadata.freq, # Time series frequency\n",
        "    prediction_length=m4_yearly_dataset.metadata.prediction_length, # Prediction length.\n",
        "    num_hidden_global=50, # (default: 50).\n",
        "    num_layers_global=1, # (default: 1).\n",
        "    num_factors=10, # (default: 10).\n",
        "    num_hidden_local=5, # (default: 5).\n",
        "    num_layers_local=1, # (default: 1).\n",
        "    cell_type='lstm', # (default: ‘lstm’).\n",
        "    trainer = deepfactor_trainer, # (default: Trainer()).\n",
        "    context_length=None, # (default: None, in which case context_length = prediction_length).\n",
        "    num_parallel_samples=100, # (default: 100).\n",
        "    cardinality=car, # (default: list([1]).\n",
        "    embedding_dimension=10, # (default: 10).\n",
        "    distr_output=StudentTOutput(), # (default: StudentTOutput()).\n",
        ")"
      ],
      "execution_count": 0,
      "outputs": []
    },
    {
      "cell_type": "code",
      "metadata": {
        "colab_type": "code",
        "outputId": "6333d750-e642-406c-c7ff-adb42d5c80d4",
        "id": "XndJZabPUKLq",
        "colab": {
          "base_uri": "https://localhost:8080/",
          "height": 1000
        }
      },
      "source": [
        "DF_predictor = DF_estimator.train(m4_yearly_dataset.train)"
      ],
      "execution_count": 0,
      "outputs": [
        {
          "output_type": "stream",
          "text": [
            "\r  0%|          | 0/50 [00:00<?, ?it/s]"
          ],
          "name": "stderr"
        },
        {
          "output_type": "stream",
          "text": [
            "learning rate from ``lr_scheduler`` has been overwritten by ``learning_rate`` in optimizer.\n"
          ],
          "name": "stdout"
        },
        {
          "output_type": "stream",
          "text": [
            "100%|██████████| 50/50 [00:00<00:00, 74.03it/s, epoch=1/100, avg_epoch_loss=2.18e+7]\n",
            "100%|██████████| 50/50 [00:00<00:00, 77.64it/s, epoch=2/100, avg_epoch_loss=1.58e+7]\n",
            "100%|██████████| 50/50 [00:00<00:00, 79.11it/s, epoch=3/100, avg_epoch_loss=9.51e+6]\n",
            "100%|██████████| 50/50 [00:00<00:00, 77.92it/s, epoch=4/100, avg_epoch_loss=4.1e+6]\n",
            "100%|██████████| 50/50 [00:00<00:00, 76.90it/s, epoch=5/100, avg_epoch_loss=2.73e+6]\n",
            "100%|██████████| 50/50 [00:00<00:00, 78.03it/s, epoch=6/100, avg_epoch_loss=2.6e+6]\n",
            "100%|██████████| 50/50 [00:00<00:00, 76.82it/s, epoch=7/100, avg_epoch_loss=1.34e+6]\n",
            "100%|██████████| 50/50 [00:00<00:00, 76.89it/s, epoch=8/100, avg_epoch_loss=1.27e+6]\n",
            "100%|██████████| 50/50 [00:00<00:00, 76.18it/s, epoch=9/100, avg_epoch_loss=1.02e+6]\n",
            "100%|██████████| 50/50 [00:00<00:00, 78.35it/s, epoch=10/100, avg_epoch_loss=9.39e+5]\n",
            "100%|██████████| 50/50 [00:00<00:00, 79.43it/s, epoch=11/100, avg_epoch_loss=6.81e+5]\n",
            "100%|██████████| 50/50 [00:00<00:00, 80.82it/s, epoch=12/100, avg_epoch_loss=5.07e+5]\n",
            "100%|██████████| 50/50 [00:00<00:00, 78.99it/s, epoch=13/100, avg_epoch_loss=4.06e+5]\n",
            "100%|██████████| 50/50 [00:00<00:00, 80.33it/s, epoch=14/100, avg_epoch_loss=3.75e+5]\n",
            "100%|██████████| 50/50 [00:00<00:00, 79.67it/s, epoch=15/100, avg_epoch_loss=3.64e+5]\n",
            "100%|██████████| 50/50 [00:00<00:00, 77.93it/s, epoch=16/100, avg_epoch_loss=3.35e+5]\n",
            "100%|██████████| 50/50 [00:00<00:00, 76.89it/s, epoch=17/100, avg_epoch_loss=2.84e+5]\n",
            "100%|██████████| 50/50 [00:00<00:00, 75.15it/s, epoch=18/100, avg_epoch_loss=2.36e+5]\n",
            "100%|██████████| 50/50 [00:00<00:00, 74.79it/s, epoch=19/100, avg_epoch_loss=1.85e+5]\n",
            "100%|██████████| 50/50 [00:00<00:00, 77.34it/s, epoch=20/100, avg_epoch_loss=2.38e+5]\n",
            "100%|██████████| 50/50 [00:00<00:00, 75.46it/s, epoch=21/100, avg_epoch_loss=3.07e+5]\n",
            "100%|██████████| 50/50 [00:00<00:00, 74.97it/s, epoch=22/100, avg_epoch_loss=4.36e+5]\n",
            "100%|██████████| 50/50 [00:00<00:00, 76.58it/s, epoch=23/100, avg_epoch_loss=1.97e+5]\n",
            "100%|██████████| 50/50 [00:00<00:00, 72.17it/s, epoch=24/100, avg_epoch_loss=1.63e+5]\n",
            "100%|██████████| 50/50 [00:00<00:00, 73.94it/s, epoch=25/100, avg_epoch_loss=1.96e+5]\n",
            "100%|██████████| 50/50 [00:00<00:00, 76.78it/s, epoch=26/100, avg_epoch_loss=1.18e+5]\n",
            "100%|██████████| 50/50 [00:00<00:00, 75.47it/s, epoch=27/100, avg_epoch_loss=9.83e+4]\n",
            "100%|██████████| 50/50 [00:00<00:00, 75.48it/s, epoch=28/100, avg_epoch_loss=1.02e+5]\n",
            "100%|██████████| 50/50 [00:00<00:00, 75.80it/s, epoch=29/100, avg_epoch_loss=2.34e+5]\n",
            "100%|██████████| 50/50 [00:00<00:00, 75.95it/s, epoch=30/100, avg_epoch_loss=3.15e+6]\n",
            "100%|██████████| 50/50 [00:00<00:00, 75.34it/s, epoch=31/100, avg_epoch_loss=7.33e+4]\n",
            "100%|██████████| 50/50 [00:00<00:00, 77.08it/s, epoch=32/100, avg_epoch_loss=5.63e+4]\n",
            "100%|██████████| 50/50 [00:00<00:00, 76.24it/s, epoch=33/100, avg_epoch_loss=3.4e+4]\n",
            "100%|██████████| 50/50 [00:00<00:00, 74.63it/s, epoch=34/100, avg_epoch_loss=4.02e+4]\n",
            "100%|██████████| 50/50 [00:00<00:00, 75.41it/s, epoch=35/100, avg_epoch_loss=5.7e+4]\n",
            "100%|██████████| 50/50 [00:00<00:00, 76.16it/s, epoch=36/100, avg_epoch_loss=3.93e+4]\n",
            "100%|██████████| 50/50 [00:00<00:00, 74.66it/s, epoch=37/100, avg_epoch_loss=4.16e+4]\n",
            "100%|██████████| 50/50 [00:00<00:00, 76.03it/s, epoch=38/100, avg_epoch_loss=3.16e+4]\n",
            "100%|██████████| 50/50 [00:00<00:00, 75.88it/s, epoch=39/100, avg_epoch_loss=3.54e+4]\n",
            "100%|██████████| 50/50 [00:00<00:00, 73.78it/s, epoch=40/100, avg_epoch_loss=2.78e+4]\n",
            "100%|██████████| 50/50 [00:00<00:00, 77.64it/s, epoch=41/100, avg_epoch_loss=2.13e+4]\n",
            "100%|██████████| 50/50 [00:00<00:00, 76.39it/s, epoch=42/100, avg_epoch_loss=2.46e+4]\n",
            "100%|██████████| 50/50 [00:00<00:00, 75.53it/s, epoch=43/100, avg_epoch_loss=2.59e+4]\n",
            "100%|██████████| 50/50 [00:00<00:00, 76.46it/s, epoch=44/100, avg_epoch_loss=3.33e+4]\n",
            "100%|██████████| 50/50 [00:00<00:00, 76.44it/s, epoch=45/100, avg_epoch_loss=3.14e+4]\n",
            "100%|██████████| 50/50 [00:00<00:00, 75.36it/s, epoch=46/100, avg_epoch_loss=1.98e+4]\n",
            "100%|██████████| 50/50 [00:00<00:00, 76.18it/s, epoch=47/100, avg_epoch_loss=1.53e+4]\n",
            "100%|██████████| 50/50 [00:00<00:00, 76.43it/s, epoch=48/100, avg_epoch_loss=1.49e+4]\n",
            "100%|██████████| 50/50 [00:00<00:00, 77.70it/s, epoch=49/100, avg_epoch_loss=2.33e+4]\n",
            "100%|██████████| 50/50 [00:00<00:00, 77.25it/s, epoch=50/100, avg_epoch_loss=1.51e+4]\n",
            "100%|██████████| 50/50 [00:00<00:00, 76.85it/s, epoch=51/100, avg_epoch_loss=1.67e+4]\n",
            "100%|██████████| 50/50 [00:00<00:00, 76.04it/s, epoch=52/100, avg_epoch_loss=1.7e+4]\n",
            "100%|██████████| 50/50 [00:00<00:00, 75.42it/s, epoch=53/100, avg_epoch_loss=1.73e+4]\n",
            "100%|██████████| 50/50 [00:00<00:00, 76.42it/s, epoch=54/100, avg_epoch_loss=1.66e+4]\n",
            "100%|██████████| 50/50 [00:00<00:00, 74.48it/s, epoch=55/100, avg_epoch_loss=1.49e+4]\n",
            "100%|██████████| 50/50 [00:00<00:00, 75.07it/s, epoch=56/100, avg_epoch_loss=1.17e+4]\n",
            "100%|██████████| 50/50 [00:00<00:00, 76.12it/s, epoch=57/100, avg_epoch_loss=1.16e+4]\n",
            "100%|██████████| 50/50 [00:00<00:00, 75.17it/s, epoch=58/100, avg_epoch_loss=1.77e+4]\n",
            "100%|██████████| 50/50 [00:00<00:00, 76.35it/s, epoch=59/100, avg_epoch_loss=2.18e+4]\n",
            "100%|██████████| 50/50 [00:00<00:00, 75.41it/s, epoch=60/100, avg_epoch_loss=1.43e+4]\n",
            "100%|██████████| 50/50 [00:00<00:00, 76.24it/s, epoch=61/100, avg_epoch_loss=1.31e+4]\n",
            "100%|██████████| 50/50 [00:00<00:00, 75.12it/s, epoch=62/100, avg_epoch_loss=1.22e+4]\n",
            "100%|██████████| 50/50 [00:00<00:00, 74.07it/s, epoch=63/100, avg_epoch_loss=1.35e+4]\n",
            "100%|██████████| 50/50 [00:00<00:00, 74.19it/s, epoch=64/100, avg_epoch_loss=1.78e+4]\n",
            "100%|██████████| 50/50 [00:00<00:00, 74.90it/s, epoch=65/100, avg_epoch_loss=1.31e+4]\n",
            "100%|██████████| 50/50 [00:00<00:00, 76.31it/s, epoch=66/100, avg_epoch_loss=1.76e+4]\n",
            "100%|██████████| 50/50 [00:00<00:00, 74.54it/s, epoch=67/100, avg_epoch_loss=1.59e+4]\n",
            "100%|██████████| 50/50 [00:00<00:00, 75.08it/s, epoch=68/100, avg_epoch_loss=6.71e+5]\n",
            "100%|██████████| 50/50 [00:00<00:00, 75.94it/s, epoch=69/100, avg_epoch_loss=2.02e+4]\n",
            "100%|██████████| 50/50 [00:00<00:00, 74.17it/s, epoch=70/100, avg_epoch_loss=1.79e+4]\n",
            "100%|██████████| 50/50 [00:00<00:00, 76.69it/s, epoch=71/100, avg_epoch_loss=1.6e+4]\n",
            "100%|██████████| 50/50 [00:00<00:00, 76.06it/s, epoch=72/100, avg_epoch_loss=1.87e+4]\n",
            "100%|██████████| 50/50 [00:00<00:00, 76.50it/s, epoch=73/100, avg_epoch_loss=2.36e+4]\n",
            "100%|██████████| 50/50 [00:00<00:00, 76.04it/s, epoch=74/100, avg_epoch_loss=1.55e+4]\n",
            "100%|██████████| 50/50 [00:00<00:00, 74.08it/s, epoch=75/100, avg_epoch_loss=1.43e+4]\n",
            "100%|██████████| 50/50 [00:00<00:00, 75.47it/s, epoch=76/100, avg_epoch_loss=1.2e+4]\n",
            "100%|██████████| 50/50 [00:00<00:00, 75.97it/s, epoch=77/100, avg_epoch_loss=1.22e+4]\n",
            "100%|██████████| 50/50 [00:00<00:00, 76.55it/s, epoch=78/100, avg_epoch_loss=3.56e+5]\n",
            "100%|██████████| 50/50 [00:00<00:00, 74.32it/s, epoch=79/100, avg_epoch_loss=1.95e+4]\n",
            "100%|██████████| 50/50 [00:00<00:00, 76.59it/s, epoch=80/100, avg_epoch_loss=2.07e+4]\n",
            "100%|██████████| 50/50 [00:00<00:00, 74.46it/s, epoch=81/100, avg_epoch_loss=2e+4]\n",
            "100%|██████████| 50/50 [00:00<00:00, 74.83it/s, epoch=82/100, avg_epoch_loss=2.4e+4]\n",
            "100%|██████████| 50/50 [00:00<00:00, 77.09it/s, epoch=83/100, avg_epoch_loss=2.02e+4]\n",
            "100%|██████████| 50/50 [00:00<00:00, 75.93it/s, epoch=84/100, avg_epoch_loss=1.89e+4]\n",
            "100%|██████████| 50/50 [00:00<00:00, 72.75it/s, epoch=85/100, avg_epoch_loss=1.64e+4]\n",
            "100%|██████████| 50/50 [00:00<00:00, 77.32it/s, epoch=86/100, avg_epoch_loss=1.81e+4]\n",
            "100%|██████████| 50/50 [00:00<00:00, 75.45it/s, epoch=87/100, avg_epoch_loss=2.75e+4]\n",
            "100%|██████████| 50/50 [00:00<00:00, 76.12it/s, epoch=88/100, avg_epoch_loss=5.28e+4]\n",
            "100%|██████████| 50/50 [00:00<00:00, 76.43it/s, epoch=89/100, avg_epoch_loss=2.64e+4]\n",
            "100%|██████████| 50/50 [00:00<00:00, 73.38it/s, epoch=90/100, avg_epoch_loss=1.45e+4]\n",
            "100%|██████████| 50/50 [00:00<00:00, 71.60it/s, epoch=91/100, avg_epoch_loss=1.39e+4]\n",
            "100%|██████████| 50/50 [00:00<00:00, 72.71it/s, epoch=92/100, avg_epoch_loss=2.03e+4]\n",
            "100%|██████████| 50/50 [00:00<00:00, 71.66it/s, epoch=93/100, avg_epoch_loss=1.58e+4]\n",
            "100%|██████████| 50/50 [00:00<00:00, 71.36it/s, epoch=94/100, avg_epoch_loss=1.72e+4]\n",
            "100%|██████████| 50/50 [00:00<00:00, 71.50it/s, epoch=95/100, avg_epoch_loss=2.04e+4]\n",
            "100%|██████████| 50/50 [00:00<00:00, 71.89it/s, epoch=96/100, avg_epoch_loss=2.16e+4]\n",
            "100%|██████████| 50/50 [00:00<00:00, 71.50it/s, epoch=97/100, avg_epoch_loss=2.25e+4]\n",
            "100%|██████████| 50/50 [00:00<00:00, 71.78it/s, epoch=98/100, avg_epoch_loss=4.64e+6]\n",
            "100%|██████████| 50/50 [00:00<00:00, 71.67it/s, epoch=99/100, avg_epoch_loss=2.38e+6]\n",
            "100%|██████████| 50/50 [00:00<00:00, 69.93it/s, epoch=100/100, avg_epoch_loss=7.73e+5]\n"
          ],
          "name": "stderr"
        }
      ]
    },
    {
      "cell_type": "code",
      "metadata": {
        "colab_type": "code",
        "id": "wA7sOd6CUKLu",
        "outputId": "a964411a-9362-4314-c946-08d19bfdb588",
        "colab": {
          "base_uri": "https://localhost:8080/",
          "height": 503
        }
      },
      "source": [
        "forecast_it, ts_it = make_evaluation_predictions(\n",
        "    dataset=m4_yearly_dataset.test, \n",
        "    predictor=DF_predictor, \n",
        "    num_samples=100, \n",
        ")\n",
        "\n",
        "forecasts = list(forecast_it)\n",
        "tss = list(ts_it)\n",
        "\n",
        "evaluator = Evaluator(quantiles=[0.1, 0.5, 0.9])\n",
        "agg_metrics, item_metrics = evaluator(iter(tss), iter(forecasts), num_series=len(m4_yearly_dataset.test))\n",
        "\n",
        "print(json.dumps(agg_metrics, indent=4))"
      ],
      "execution_count": 0,
      "outputs": [
        {
          "output_type": "stream",
          "text": [
            "Running evaluation: 100%|██████████| 23000/23000 [00:00<00:00, 240433.75it/s]\n"
          ],
          "name": "stderr"
        },
        {
          "output_type": "stream",
          "text": [
            "{\n",
            "    \"MSE\": 2958111464.9457064,\n",
            "    \"abs_error\": 3132234639.657791,\n",
            "    \"abs_target_sum\": 860724679.6655273,\n",
            "    \"abs_target_mean\": 6237.135359895143,\n",
            "    \"seasonal_error\": 288.79964609563865,\n",
            "    \"MASE\": 92.63026527263264,\n",
            "    \"MAPE\": 3.1088665698625637,\n",
            "    \"sMAPE\": 1.6513679605655567,\n",
            "    \"OWA\": NaN,\n",
            "    \"MSIS\": 3697.2276293340437,\n",
            "    \"QuantileLoss[0.1]\": 4835222257.744239,\n",
            "    \"Coverage[0.1]\": 0.22566666666666663,\n",
            "    \"QuantileLoss[0.5]\": 3132234640.508995,\n",
            "    \"Coverage[0.5]\": 0.2258985507246376,\n",
            "    \"QuantileLoss[0.9]\": 1423850317.3690596,\n",
            "    \"Coverage[0.9]\": 0.22618115942028993,\n",
            "    \"RMSE\": 54388.52328337024,\n",
            "    \"NRMSE\": 8.720112703195303,\n",
            "    \"ND\": 3.63906683943925,\n",
            "    \"wQuantileLoss[0.1]\": 5.617617772529979,\n",
            "    \"wQuantileLoss[0.5]\": 3.639066840428188,\n",
            "    \"wQuantileLoss[0.9]\": 1.6542459522856479,\n",
            "    \"mean_wQuantileLoss\": 3.6369768550812718,\n",
            "    \"MAE_Coverage\": 0.3578623188405797\n",
            "}\n"
          ],
          "name": "stdout"
        }
      ]
    },
    {
      "cell_type": "code",
      "metadata": {
        "colab_type": "code",
        "id": "lV8g1PegUKLy",
        "colab": {}
      },
      "source": [
        ""
      ],
      "execution_count": 0,
      "outputs": []
    },
    {
      "cell_type": "markdown",
      "metadata": {
        "colab_type": "text",
        "id": "aC9YpIM1UQbJ"
      },
      "source": [
        "## traffic"
      ]
    },
    {
      "cell_type": "code",
      "metadata": {
        "colab_type": "code",
        "id": "h2uMLoCRUQbK",
        "outputId": "d64f2e5d-cf39-4984-e1e2-a8b3a8c2c260",
        "colab": {
          "base_uri": "https://localhost:8080/",
          "height": 53
        }
      },
      "source": [
        "traffic_dataset = get_dataset(\"traffic\", regenerate=False)"
      ],
      "execution_count": 0,
      "outputs": [
        {
          "output_type": "stream",
          "text": [
            "saving time-series into /root/.mxnet/gluon-ts/datasets/traffic/train/data.json\n",
            "saving time-series into /root/.mxnet/gluon-ts/datasets/traffic/test/data.json\n"
          ],
          "name": "stdout"
        }
      ]
    },
    {
      "cell_type": "code",
      "metadata": {
        "colab_type": "code",
        "id": "-1JFshCqUQbM",
        "outputId": "eff181f3-15af-4ec8-b9ad-c278e116d0d7",
        "colab": {
          "base_uri": "https://localhost:8080/",
          "height": 53
        }
      },
      "source": [
        "print (len(traffic_dataset.train))\n",
        "print (len(traffic_dataset.test))"
      ],
      "execution_count": 0,
      "outputs": [
        {
          "output_type": "stream",
          "text": [
            "862\n",
            "6034\n"
          ],
          "name": "stdout"
        }
      ]
    },
    {
      "cell_type": "code",
      "metadata": {
        "colab_type": "code",
        "id": "C5EDyAIYUQbP",
        "outputId": "076b2d00-f198-4cb8-c50b-3741fea5b9e4",
        "colab": {
          "base_uri": "https://localhost:8080/",
          "height": 35
        }
      },
      "source": [
        "traffic_dataset.metadata"
      ],
      "execution_count": 0,
      "outputs": [
        {
          "output_type": "execute_result",
          "data": {
            "text/plain": [
              "MetaData(freq='H', target=None, feat_static_cat=[CategoricalFeatureInfo(name='feat_static_cat', cardinality='862')], feat_static_real=[], feat_dynamic_real=[], feat_dynamic_cat=[], prediction_length=24)"
            ]
          },
          "metadata": {
            "tags": []
          },
          "execution_count": 85
        }
      ]
    },
    {
      "cell_type": "code",
      "metadata": {
        "colab_type": "code",
        "outputId": "dd331289-0b15-46fe-e626-b17bf46850a0",
        "id": "ci8ZPwSNqrim",
        "colab": {
          "base_uri": "https://localhost:8080/",
          "height": 35
        }
      },
      "source": [
        "traffic_dataset.metadata.feat_static_cat[0]"
      ],
      "execution_count": 0,
      "outputs": [
        {
          "output_type": "execute_result",
          "data": {
            "text/plain": [
              "CategoricalFeatureInfo(name='feat_static_cat', cardinality='862')"
            ]
          },
          "metadata": {
            "tags": []
          },
          "execution_count": 86
        }
      ]
    },
    {
      "cell_type": "code",
      "metadata": {
        "colab_type": "code",
        "id": "PbmxkMIrqriq",
        "colab": {}
      },
      "source": [
        "car = [int(traffic_dataset.metadata.feat_static_cat[0].cardinality)]"
      ],
      "execution_count": 0,
      "outputs": []
    },
    {
      "cell_type": "code",
      "metadata": {
        "colab_type": "code",
        "id": "DJC6OPsyUQbT",
        "outputId": "c57659a9-3f7b-4119-f2e3-a7b61faed8f7",
        "colab": {
          "base_uri": "https://localhost:8080/",
          "height": 35
        }
      },
      "source": [
        "next(iter(traffic_dataset.train)).keys()"
      ],
      "execution_count": 0,
      "outputs": [
        {
          "output_type": "execute_result",
          "data": {
            "text/plain": [
              "dict_keys(['start', 'target', 'feat_static_cat', 'item_id', 'source'])"
            ]
          },
          "metadata": {
            "tags": []
          },
          "execution_count": 88
        }
      ]
    },
    {
      "cell_type": "code",
      "metadata": {
        "colab_type": "code",
        "id": "B4zoldaEUQbe",
        "colab": {}
      },
      "source": [
        "# https://gluon-ts.mxnet.io/api/gluonts/gluonts.model.deep_factor.html\n",
        "DF_estimator = DeepFactorEstimator(\n",
        "    freq=traffic_dataset.metadata.freq, # Time series frequency\n",
        "    prediction_length=traffic_dataset.metadata.prediction_length, # Prediction length.\n",
        "    num_hidden_global=50, # (default: 50).\n",
        "    num_layers_global=1, # (default: 1).\n",
        "    num_factors=10, # (default: 10).\n",
        "    num_hidden_local=5, # (default: 5).\n",
        "    num_layers_local=1, # (default: 1).\n",
        "    cell_type='lstm', # (default: ‘lstm’).\n",
        "    trainer = deepfactor_trainer, # (default: Trainer()).\n",
        "    context_length=None, # (default: None, in which case context_length = prediction_length).\n",
        "    num_parallel_samples=100, # (default: 100).\n",
        "    cardinality=car, # (default: list([1]).\n",
        "    embedding_dimension=10, # (default: 10).\n",
        "    distr_output=StudentTOutput(), # (default: StudentTOutput()).\n",
        ")"
      ],
      "execution_count": 0,
      "outputs": []
    },
    {
      "cell_type": "code",
      "metadata": {
        "colab_type": "code",
        "outputId": "ed3be8fe-71d2-47e7-ef7c-e6d4996a645a",
        "id": "SJ-eJ1uYUQbh",
        "colab": {
          "base_uri": "https://localhost:8080/",
          "height": 1000
        }
      },
      "source": [
        "DF_predictor = DF_estimator.train(traffic_dataset.train)"
      ],
      "execution_count": 0,
      "outputs": [
        {
          "output_type": "stream",
          "text": [
            "learning rate from ``lr_scheduler`` has been overwritten by ``learning_rate`` in optimizer.\n"
          ],
          "name": "stdout"
        },
        {
          "output_type": "stream",
          "text": [
            "100%|██████████| 50/50 [00:06<00:00,  7.18it/s, epoch=1/100, avg_epoch_loss=1.46]\n",
            "100%|██████████| 50/50 [00:06<00:00,  7.15it/s, epoch=2/100, avg_epoch_loss=1.34]\n",
            "100%|██████████| 50/50 [00:07<00:00,  7.09it/s, epoch=3/100, avg_epoch_loss=0.979]\n",
            "100%|██████████| 50/50 [00:07<00:00,  7.02it/s, epoch=4/100, avg_epoch_loss=0.463]\n",
            "100%|██████████| 50/50 [00:07<00:00,  7.02it/s, epoch=5/100, avg_epoch_loss=-.403]\n",
            "100%|██████████| 50/50 [00:07<00:00,  7.05it/s, epoch=6/100, avg_epoch_loss=-1.23]\n",
            "100%|██████████| 50/50 [00:07<00:00,  7.05it/s, epoch=7/100, avg_epoch_loss=-1.35]\n",
            "100%|██████████| 50/50 [00:07<00:00,  7.07it/s, epoch=8/100, avg_epoch_loss=-1.43]\n",
            "100%|██████████| 50/50 [00:07<00:00,  7.02it/s, epoch=9/100, avg_epoch_loss=-1.49]\n",
            "100%|██████████| 50/50 [00:07<00:00,  7.02it/s, epoch=10/100, avg_epoch_loss=-1.52]\n",
            "100%|██████████| 50/50 [00:07<00:00,  7.03it/s, epoch=11/100, avg_epoch_loss=-1.53]\n",
            "100%|██████████| 50/50 [00:07<00:00,  7.07it/s, epoch=12/100, avg_epoch_loss=-1.54]\n",
            "100%|██████████| 50/50 [00:07<00:00,  7.06it/s, epoch=13/100, avg_epoch_loss=-1.56]\n",
            "100%|██████████| 50/50 [00:07<00:00,  7.04it/s, epoch=14/100, avg_epoch_loss=-1.6]\n",
            "100%|██████████| 50/50 [00:07<00:00,  6.80it/s, epoch=15/100, avg_epoch_loss=-1.6]\n",
            "100%|██████████| 50/50 [00:07<00:00,  6.79it/s, epoch=16/100, avg_epoch_loss=-1.62]\n",
            "100%|██████████| 50/50 [00:07<00:00,  7.00it/s, epoch=17/100, avg_epoch_loss=-1.56]\n",
            "100%|██████████| 50/50 [00:07<00:00,  7.00it/s, epoch=18/100, avg_epoch_loss=-1.65]\n",
            "100%|██████████| 50/50 [00:07<00:00,  7.00it/s, epoch=19/100, avg_epoch_loss=-1.64]\n",
            "100%|██████████| 50/50 [00:07<00:00,  7.00it/s, epoch=20/100, avg_epoch_loss=-1.62]\n",
            "100%|██████████| 50/50 [00:07<00:00,  6.50it/s, epoch=21/100, avg_epoch_loss=-1.63]\n",
            "100%|██████████| 50/50 [00:07<00:00,  7.04it/s, epoch=22/100, avg_epoch_loss=-1.52]\n",
            "100%|██████████| 50/50 [00:07<00:00,  7.00it/s, epoch=23/100, avg_epoch_loss=-1.61]\n",
            "100%|██████████| 50/50 [00:07<00:00,  7.02it/s, epoch=24/100, avg_epoch_loss=-1.59]\n",
            "100%|██████████| 50/50 [00:07<00:00,  7.07it/s, epoch=25/100, avg_epoch_loss=-1.69]\n",
            "100%|██████████| 50/50 [00:07<00:00,  7.06it/s, epoch=26/100, avg_epoch_loss=-1.71]\n",
            "100%|██████████| 50/50 [00:07<00:00,  7.06it/s, epoch=27/100, avg_epoch_loss=-1.71]\n",
            "100%|██████████| 50/50 [00:07<00:00,  7.01it/s, epoch=28/100, avg_epoch_loss=-1.72]\n",
            "100%|██████████| 50/50 [00:07<00:00,  7.05it/s, epoch=29/100, avg_epoch_loss=-.668]\n",
            "100%|██████████| 50/50 [00:07<00:00,  7.03it/s, epoch=30/100, avg_epoch_loss=-1.72]\n",
            "100%|██████████| 50/50 [00:07<00:00,  6.79it/s, epoch=31/100, avg_epoch_loss=-.905]\n",
            "100%|██████████| 50/50 [00:07<00:00,  7.01it/s, epoch=32/100, avg_epoch_loss=-1.77]\n",
            "100%|██████████| 50/50 [00:07<00:00,  7.05it/s, epoch=33/100, avg_epoch_loss=-1.73]\n",
            "100%|██████████| 50/50 [00:07<00:00,  7.04it/s, epoch=34/100, avg_epoch_loss=-1.06]\n",
            "100%|██████████| 50/50 [00:07<00:00,  7.06it/s, epoch=35/100, avg_epoch_loss=-1.75]\n",
            "100%|██████████| 50/50 [00:07<00:00,  7.02it/s, epoch=36/100, avg_epoch_loss=-1.75]\n",
            "100%|██████████| 50/50 [00:07<00:00,  7.04it/s, epoch=37/100, avg_epoch_loss=-1.76]\n",
            "100%|██████████| 50/50 [00:07<00:00,  7.06it/s, epoch=38/100, avg_epoch_loss=-1.72]\n",
            "100%|██████████| 50/50 [00:07<00:00,  7.07it/s, epoch=39/100, avg_epoch_loss=2.37]\n",
            "100%|██████████| 50/50 [00:07<00:00,  7.03it/s, epoch=40/100, avg_epoch_loss=-1.63]\n",
            "100%|██████████| 50/50 [00:07<00:00,  7.03it/s, epoch=41/100, avg_epoch_loss=-1.57]\n",
            "100%|██████████| 50/50 [00:07<00:00,  7.01it/s, epoch=42/100, avg_epoch_loss=-1.54]\n",
            "100%|██████████| 50/50 [00:07<00:00,  7.01it/s, epoch=43/100, avg_epoch_loss=-1.88]\n",
            "100%|██████████| 50/50 [00:07<00:00,  7.02it/s, epoch=44/100, avg_epoch_loss=-2.06]\n",
            "100%|██████████| 50/50 [00:07<00:00,  6.99it/s, epoch=45/100, avg_epoch_loss=-2.04]\n",
            "100%|██████████| 50/50 [00:07<00:00,  6.98it/s, epoch=46/100, avg_epoch_loss=-2.05]\n",
            "100%|██████████| 50/50 [00:07<00:00,  7.00it/s, epoch=47/100, avg_epoch_loss=-2.09]\n",
            "100%|██████████| 50/50 [00:07<00:00,  6.76it/s, epoch=48/100, avg_epoch_loss=-2.1]\n",
            "100%|██████████| 50/50 [00:07<00:00,  6.96it/s, epoch=49/100, avg_epoch_loss=-2.13]\n",
            "100%|██████████| 50/50 [00:07<00:00,  6.95it/s, epoch=50/100, avg_epoch_loss=-2.15]\n",
            "100%|██████████| 50/50 [00:07<00:00,  7.04it/s, epoch=51/100, avg_epoch_loss=-2.16]\n",
            "100%|██████████| 50/50 [00:07<00:00,  7.03it/s, epoch=52/100, avg_epoch_loss=-2.19]\n",
            "100%|██████████| 50/50 [00:07<00:00,  7.02it/s, epoch=53/100, avg_epoch_loss=-2.21]\n",
            "100%|██████████| 50/50 [00:07<00:00,  7.05it/s, epoch=54/100, avg_epoch_loss=-2.23]\n",
            "100%|██████████| 50/50 [00:07<00:00,  7.02it/s, epoch=55/100, avg_epoch_loss=-2.25]\n",
            "100%|██████████| 50/50 [00:07<00:00,  7.02it/s, epoch=56/100, avg_epoch_loss=-2.27]\n",
            "100%|██████████| 50/50 [00:07<00:00,  7.03it/s, epoch=57/100, avg_epoch_loss=-2.27]\n",
            "100%|██████████| 50/50 [00:07<00:00,  6.94it/s, epoch=58/100, avg_epoch_loss=-2.29]\n",
            "100%|██████████| 50/50 [00:07<00:00,  6.77it/s, epoch=59/100, avg_epoch_loss=-2.3]\n",
            "100%|██████████| 50/50 [00:07<00:00,  6.96it/s, epoch=60/100, avg_epoch_loss=-2.32]\n",
            "100%|██████████| 50/50 [00:07<00:00,  7.01it/s, epoch=61/100, avg_epoch_loss=-2.34]\n",
            "100%|██████████| 50/50 [00:07<00:00,  6.96it/s, epoch=62/100, avg_epoch_loss=-2.34]\n",
            "100%|██████████| 50/50 [00:09<00:00,  5.37it/s, epoch=63/100, avg_epoch_loss=-2.36]\n",
            "100%|██████████| 50/50 [00:07<00:00,  6.97it/s, epoch=64/100, avg_epoch_loss=-2.37]\n",
            "100%|██████████| 50/50 [00:07<00:00,  7.00it/s, epoch=65/100, avg_epoch_loss=-2.39]\n",
            "100%|██████████| 50/50 [00:07<00:00,  6.98it/s, epoch=66/100, avg_epoch_loss=-2.4]\n",
            "100%|██████████| 50/50 [00:07<00:00,  6.97it/s, epoch=67/100, avg_epoch_loss=-2.42]\n",
            "100%|██████████| 50/50 [00:07<00:00,  7.01it/s, epoch=68/100, avg_epoch_loss=-2.43]\n",
            "100%|██████████| 50/50 [00:07<00:00,  7.00it/s, epoch=69/100, avg_epoch_loss=-2.44]\n",
            "100%|██████████| 50/50 [00:07<00:00,  6.99it/s, epoch=70/100, avg_epoch_loss=-2.45]\n",
            "100%|██████████| 50/50 [00:07<00:00,  6.97it/s, epoch=71/100, avg_epoch_loss=-2.46]\n",
            "100%|██████████| 50/50 [00:07<00:00,  6.99it/s, epoch=72/100, avg_epoch_loss=-2.48]\n",
            "100%|██████████| 50/50 [00:07<00:00,  6.86it/s, epoch=73/100, avg_epoch_loss=-2.49]\n",
            "100%|██████████| 50/50 [00:07<00:00,  6.87it/s, epoch=74/100, avg_epoch_loss=-2.5]\n",
            "100%|██████████| 50/50 [00:07<00:00,  6.98it/s, epoch=75/100, avg_epoch_loss=-2.5]\n",
            "100%|██████████| 50/50 [00:07<00:00,  7.01it/s, epoch=76/100, avg_epoch_loss=-2.51]\n",
            "100%|██████████| 50/50 [00:07<00:00,  7.01it/s, epoch=77/100, avg_epoch_loss=-2.52]\n",
            "100%|██████████| 50/50 [00:07<00:00,  7.00it/s, epoch=78/100, avg_epoch_loss=-2.53]\n",
            "100%|██████████| 50/50 [00:07<00:00,  7.01it/s, epoch=79/100, avg_epoch_loss=-2.55]\n",
            "100%|██████████| 50/50 [00:07<00:00,  6.98it/s, epoch=80/100, avg_epoch_loss=-2.55]\n",
            "100%|██████████| 50/50 [00:07<00:00,  6.97it/s, epoch=81/100, avg_epoch_loss=-2.56]\n",
            "100%|██████████| 50/50 [00:07<00:00,  6.93it/s, epoch=82/100, avg_epoch_loss=-2.57]\n",
            "100%|██████████| 50/50 [00:07<00:00,  6.95it/s, epoch=83/100, avg_epoch_loss=-2.58]\n",
            "100%|██████████| 50/50 [00:07<00:00,  6.95it/s, epoch=84/100, avg_epoch_loss=-2.58]\n",
            "100%|██████████| 50/50 [00:07<00:00,  6.97it/s, epoch=85/100, avg_epoch_loss=-2.58]\n",
            "100%|██████████| 50/50 [00:07<00:00,  6.95it/s, epoch=86/100, avg_epoch_loss=-2.6]\n",
            "100%|██████████| 50/50 [00:07<00:00,  6.94it/s, epoch=87/100, avg_epoch_loss=-2.6]\n",
            "100%|██████████| 50/50 [00:07<00:00,  6.99it/s, epoch=88/100, avg_epoch_loss=-2.61]\n",
            "100%|██████████| 50/50 [00:07<00:00,  6.96it/s, epoch=89/100, avg_epoch_loss=-2.6]\n",
            "100%|██████████| 50/50 [00:07<00:00,  6.94it/s, epoch=90/100, avg_epoch_loss=-2.61]\n",
            "100%|██████████| 50/50 [00:07<00:00,  6.94it/s, epoch=91/100, avg_epoch_loss=-2.61]\n",
            "100%|██████████| 50/50 [00:07<00:00,  6.96it/s, epoch=92/100, avg_epoch_loss=-2.61]\n",
            "100%|██████████| 50/50 [00:07<00:00,  7.00it/s, epoch=93/100, avg_epoch_loss=-2.63]\n",
            "100%|██████████| 50/50 [00:07<00:00,  6.95it/s, epoch=94/100, avg_epoch_loss=-2.62]\n",
            "100%|██████████| 50/50 [00:07<00:00,  6.95it/s, epoch=95/100, avg_epoch_loss=-2.63]\n",
            "100%|██████████| 50/50 [00:07<00:00,  7.00it/s, epoch=96/100, avg_epoch_loss=-2.63]\n",
            "100%|██████████| 50/50 [00:07<00:00,  7.01it/s, epoch=97/100, avg_epoch_loss=-2.63]\n",
            "100%|██████████| 50/50 [00:07<00:00,  7.04it/s, epoch=98/100, avg_epoch_loss=-2.64]\n",
            "100%|██████████| 50/50 [00:07<00:00,  7.01it/s, epoch=99/100, avg_epoch_loss=-2.63]\n",
            "100%|██████████| 50/50 [00:07<00:00,  6.95it/s, epoch=100/100, avg_epoch_loss=-2.65]\n"
          ],
          "name": "stderr"
        }
      ]
    },
    {
      "cell_type": "code",
      "metadata": {
        "colab_type": "code",
        "id": "2uR2JppRUQbk",
        "outputId": "7317829f-e91b-44a0-c5e8-a741af97c52f",
        "colab": {
          "base_uri": "https://localhost:8080/",
          "height": 503
        }
      },
      "source": [
        "forecast_it, ts_it = make_evaluation_predictions(\n",
        "    dataset=traffic_dataset.test, \n",
        "    predictor=DF_predictor, \n",
        "    num_samples=100, \n",
        ")\n",
        "\n",
        "forecasts = list(forecast_it)\n",
        "tss = list(ts_it)\n",
        "\n",
        "evaluator = Evaluator(quantiles=[0.1, 0.5, 0.9])\n",
        "agg_metrics, item_metrics = evaluator(iter(tss), iter(forecasts), num_series=len(traffic_dataset.test))\n",
        "\n",
        "print(json.dumps(agg_metrics, indent=4))"
      ],
      "execution_count": 0,
      "outputs": [
        {
          "output_type": "stream",
          "text": [
            "Running evaluation: 100%|██████████| 6034/6034 [00:00<00:00, 70324.25it/s]\n"
          ],
          "name": "stderr"
        },
        {
          "output_type": "stream",
          "text": [
            "{\n",
            "    \"MSE\": 0.002561205598955793,\n",
            "    \"abs_error\": 4733.029822394252,\n",
            "    \"abs_target_sum\": 8672.5710073933,\n",
            "    \"abs_target_mean\": 0.05988682885450042,\n",
            "    \"seasonal_error\": 0.015220711169889612,\n",
            "    \"MASE\": 2.295675025370343,\n",
            "    \"MAPE\": 2.2527044089286816,\n",
            "    \"sMAPE\": 0.6060083968169826,\n",
            "    \"OWA\": NaN,\n",
            "    \"MSIS\": 58.1787454762361,\n",
            "    \"QuantileLoss[0.1]\": 3125.494466629658,\n",
            "    \"Coverage[0.1]\": 0.3311443486907536,\n",
            "    \"QuantileLoss[0.5]\": 4733.029828500352,\n",
            "    \"Coverage[0.5]\": 0.5085211578831068,\n",
            "    \"QuantileLoss[0.9]\": 4200.5266754503355,\n",
            "    \"Coverage[0.9]\": 0.6809123301292679,\n",
            "    \"RMSE\": 0.05060835503111905,\n",
            "    \"NRMSE\": 0.8450665363176247,\n",
            "    \"ND\": 0.5457470245397104,\n",
            "    \"wQuantileLoss[0.1]\": 0.3603884550458218,\n",
            "    \"wQuantileLoss[0.5]\": 0.5457470252437807,\n",
            "    \"wQuantileLoss[0.9]\": 0.48434618429407134,\n",
            "    \"mean_wQuantileLoss\": 0.4634938881945579,\n",
            "    \"MAE_Coverage\": 0.15291772548153085\n",
            "}\n"
          ],
          "name": "stdout"
        }
      ]
    },
    {
      "cell_type": "code",
      "metadata": {
        "colab_type": "code",
        "id": "ex5nwlX0UQbm",
        "colab": {}
      },
      "source": [
        ""
      ],
      "execution_count": 0,
      "outputs": []
    },
    {
      "cell_type": "markdown",
      "metadata": {
        "colab_type": "text",
        "id": "RnSS6911q-cD"
      },
      "source": [
        "## electricity2"
      ]
    },
    {
      "cell_type": "code",
      "metadata": {
        "colab_type": "code",
        "id": "KbmzKuyHq-cE",
        "colab": {}
      },
      "source": [
        "elec_dataset = get_dataset(\"electricity\", regenerate=False)"
      ],
      "execution_count": 0,
      "outputs": []
    },
    {
      "cell_type": "code",
      "metadata": {
        "colab_type": "code",
        "outputId": "ddf9c239-e6dc-465b-b6c8-c0ddecbea140",
        "id": "1r0fBUI1q-cK",
        "colab": {
          "base_uri": "https://localhost:8080/",
          "height": 53
        }
      },
      "source": [
        "print (len(elec_dataset.train))\n",
        "print (len(elec_dataset.test))"
      ],
      "execution_count": 0,
      "outputs": [
        {
          "output_type": "stream",
          "text": [
            "321\n",
            "2247\n"
          ],
          "name": "stdout"
        }
      ]
    },
    {
      "cell_type": "code",
      "metadata": {
        "colab_type": "code",
        "outputId": "022767d8-004e-4de4-9902-995a41c2a183",
        "id": "wtYM_DZvq-cP",
        "colab": {
          "base_uri": "https://localhost:8080/",
          "height": 35
        }
      },
      "source": [
        "elec_dataset.metadata"
      ],
      "execution_count": 0,
      "outputs": [
        {
          "output_type": "execute_result",
          "data": {
            "text/plain": [
              "MetaData(freq='1H', target=None, feat_static_cat=[CategoricalFeatureInfo(name='feat_static_cat', cardinality='321')], feat_static_real=[], feat_dynamic_real=[], feat_dynamic_cat=[], prediction_length=24)"
            ]
          },
          "metadata": {
            "tags": []
          },
          "execution_count": 94
        }
      ]
    },
    {
      "cell_type": "code",
      "metadata": {
        "colab_type": "code",
        "outputId": "7363a00e-d373-4936-8da8-3acc0a099a9c",
        "id": "JXmMK8hiq-cS",
        "colab": {
          "base_uri": "https://localhost:8080/",
          "height": 35
        }
      },
      "source": [
        "elec_dataset.metadata.feat_static_cat[0]"
      ],
      "execution_count": 0,
      "outputs": [
        {
          "output_type": "execute_result",
          "data": {
            "text/plain": [
              "CategoricalFeatureInfo(name='feat_static_cat', cardinality='321')"
            ]
          },
          "metadata": {
            "tags": []
          },
          "execution_count": 95
        }
      ]
    },
    {
      "cell_type": "code",
      "metadata": {
        "colab_type": "code",
        "id": "8YS07p8Hq-cU",
        "colab": {}
      },
      "source": [
        "car = [int(elec_dataset.metadata.feat_static_cat[0].cardinality)]"
      ],
      "execution_count": 0,
      "outputs": []
    },
    {
      "cell_type": "code",
      "metadata": {
        "colab_type": "code",
        "outputId": "9b813122-d278-47dc-c58f-18b57ff17fa8",
        "id": "wFZip6r7q-cW",
        "colab": {
          "base_uri": "https://localhost:8080/",
          "height": 35
        }
      },
      "source": [
        "next(iter(elec_dataset.train)).keys()"
      ],
      "execution_count": 0,
      "outputs": [
        {
          "output_type": "execute_result",
          "data": {
            "text/plain": [
              "dict_keys(['start', 'target', 'feat_static_cat', 'item_id', 'source'])"
            ]
          },
          "metadata": {
            "tags": []
          },
          "execution_count": 97
        }
      ]
    },
    {
      "cell_type": "code",
      "metadata": {
        "colab_type": "code",
        "id": "kjUR4PYXq-cY",
        "colab": {}
      },
      "source": [
        "test_ds_24 = ListDataset([{FieldName.START: entry['start'],\n",
        "                        FieldName.TARGET: entry['target'],\n",
        "                        FieldName.FEAT_STATIC_CAT: entry['feat_static_cat'],\n",
        "                        FieldName.ITEM_ID: entry['item_id'],\n",
        "                        }\n",
        "                       for entry in iter(elec_dataset.test) if len(entry['target']) == 21068\n",
        "                       ],\n",
        "                     freq=elec_dataset.metadata.freq)"
      ],
      "execution_count": 0,
      "outputs": []
    },
    {
      "cell_type": "code",
      "metadata": {
        "colab_type": "code",
        "id": "sG2wYhYSq-ch",
        "colab": {}
      },
      "source": [
        "# https://gluon-ts.mxnet.io/api/gluonts/gluonts.model.deep_factor.html\n",
        "DF_estimator = DeepFactorEstimator(\n",
        "    freq=elec_dataset.metadata.freq, # Time series frequency\n",
        "    prediction_length=elec_dataset.metadata.prediction_length, # Prediction length.\n",
        "    num_hidden_global=50, # (default: 50).\n",
        "    num_layers_global=1, # (default: 1).\n",
        "    num_factors=10, # (default: 10).\n",
        "    num_hidden_local=5, # (default: 5).\n",
        "    num_layers_local=1, # (default: 1).\n",
        "    cell_type='lstm', # (default: ‘lstm’).\n",
        "    trainer = deepfactor_trainer, # (default: Trainer()).\n",
        "    context_length=None, # (default: None, in which case context_length = prediction_length).\n",
        "    num_parallel_samples=100, # (default: 100).\n",
        "    cardinality=car, # (default: list([1]).\n",
        "    embedding_dimension=10, # (default: 10).\n",
        "    distr_output=StudentTOutput(), # (default: StudentTOutput()).\n",
        ")"
      ],
      "execution_count": 0,
      "outputs": []
    },
    {
      "cell_type": "code",
      "metadata": {
        "colab_type": "code",
        "outputId": "ad0eeffb-38fb-4fb7-d3d3-4cbeeb611389",
        "id": "XMatsGpcq-cj",
        "colab": {
          "base_uri": "https://localhost:8080/",
          "height": 1000
        }
      },
      "source": [
        "DF_predictor = DF_estimator.train(elec_dataset.train)"
      ],
      "execution_count": 0,
      "outputs": [
        {
          "output_type": "stream",
          "text": [
            "\r  0%|          | 0/50 [00:00<?, ?it/s]"
          ],
          "name": "stderr"
        },
        {
          "output_type": "stream",
          "text": [
            "learning rate from ``lr_scheduler`` has been overwritten by ``learning_rate`` in optimizer.\n"
          ],
          "name": "stdout"
        },
        {
          "output_type": "stream",
          "text": [
            "100%|██████████| 50/50 [00:10<00:00,  4.69it/s, epoch=1/100, avg_epoch_loss=1.17e+8]\n",
            "100%|██████████| 50/50 [00:10<00:00,  4.84it/s, epoch=2/100, avg_epoch_loss=5.65e+7]\n",
            "100%|██████████| 50/50 [00:10<00:00,  4.79it/s, epoch=3/100, avg_epoch_loss=3.82e+7]\n",
            "100%|██████████| 50/50 [00:10<00:00,  4.79it/s, epoch=4/100, avg_epoch_loss=2.32e+7]\n",
            "100%|██████████| 50/50 [00:10<00:00,  4.78it/s, epoch=5/100, avg_epoch_loss=1.39e+7]\n",
            "100%|██████████| 50/50 [00:10<00:00,  4.77it/s, epoch=6/100, avg_epoch_loss=8.2e+6] \n",
            "100%|██████████| 50/50 [00:10<00:00,  4.78it/s, epoch=7/100, avg_epoch_loss=5.29e+6]\n",
            "100%|██████████| 50/50 [00:10<00:00,  4.76it/s, epoch=8/100, avg_epoch_loss=3.96e+6]\n",
            "100%|██████████| 50/50 [00:10<00:00,  4.74it/s, epoch=9/100, avg_epoch_loss=2.84e+6]\n",
            "100%|██████████| 50/50 [00:10<00:00,  4.77it/s, epoch=10/100, avg_epoch_loss=1.41e+6]\n",
            "100%|██████████| 50/50 [00:10<00:00,  4.76it/s, epoch=11/100, avg_epoch_loss=9.63e+5]\n",
            "100%|██████████| 50/50 [00:10<00:00,  4.75it/s, epoch=12/100, avg_epoch_loss=8.17e+5]\n",
            "100%|██████████| 50/50 [00:10<00:00,  4.78it/s, epoch=13/100, avg_epoch_loss=6.82e+5]\n",
            "100%|██████████| 50/50 [00:10<00:00,  4.80it/s, epoch=14/100, avg_epoch_loss=6.01e+5]\n",
            "100%|██████████| 50/50 [00:10<00:00,  4.78it/s, epoch=15/100, avg_epoch_loss=5.86e+5]\n",
            "100%|██████████| 50/50 [00:10<00:00,  4.79it/s, epoch=16/100, avg_epoch_loss=4.59e+5]\n",
            "100%|██████████| 50/50 [00:10<00:00,  4.77it/s, epoch=17/100, avg_epoch_loss=4.21e+5]\n",
            "100%|██████████| 50/50 [00:10<00:00,  4.77it/s, epoch=18/100, avg_epoch_loss=3.89e+5]\n",
            "100%|██████████| 50/50 [00:10<00:00,  4.77it/s, epoch=19/100, avg_epoch_loss=3.35e+5]\n",
            "100%|██████████| 50/50 [00:10<00:00,  4.73it/s, epoch=20/100, avg_epoch_loss=3.16e+5]\n",
            "100%|██████████| 50/50 [00:10<00:00,  4.62it/s, epoch=21/100, avg_epoch_loss=2.83e+5]\n",
            "100%|██████████| 50/50 [00:12<00:00,  4.13it/s, epoch=22/100, avg_epoch_loss=2.92e+5]\n",
            "100%|██████████| 50/50 [00:10<00:00,  4.68it/s, epoch=23/100, avg_epoch_loss=2.15e+5]\n",
            "100%|██████████| 50/50 [00:10<00:00,  4.73it/s, epoch=24/100, avg_epoch_loss=2.03e+5]\n",
            "100%|██████████| 50/50 [00:10<00:00,  4.69it/s, epoch=25/100, avg_epoch_loss=2.18e+5]\n",
            "100%|██████████| 50/50 [00:10<00:00,  4.75it/s, epoch=26/100, avg_epoch_loss=1.81e+5]\n",
            "100%|██████████| 50/50 [00:10<00:00,  4.78it/s, epoch=27/100, avg_epoch_loss=1.66e+5]\n",
            "100%|██████████| 50/50 [00:10<00:00,  4.77it/s, epoch=28/100, avg_epoch_loss=1.66e+5]\n",
            "100%|██████████| 50/50 [00:10<00:00,  4.76it/s, epoch=29/100, avg_epoch_loss=1.42e+5]\n",
            "100%|██████████| 50/50 [00:10<00:00,  4.66it/s, epoch=30/100, avg_epoch_loss=1.41e+5]\n",
            "100%|██████████| 50/50 [00:10<00:00,  4.77it/s, epoch=31/100, avg_epoch_loss=1.44e+5]\n",
            "100%|██████████| 50/50 [00:10<00:00,  4.77it/s, epoch=32/100, avg_epoch_loss=1.23e+5]\n",
            "100%|██████████| 50/50 [00:10<00:00,  4.79it/s, epoch=33/100, avg_epoch_loss=1.23e+5]\n",
            "100%|██████████| 50/50 [00:10<00:00,  4.78it/s, epoch=34/100, avg_epoch_loss=1.09e+5]\n",
            "100%|██████████| 50/50 [00:10<00:00,  4.77it/s, epoch=35/100, avg_epoch_loss=1e+5]   \n",
            "100%|██████████| 50/50 [00:10<00:00,  4.78it/s, epoch=36/100, avg_epoch_loss=9.05e+4]\n",
            "100%|██████████| 50/50 [00:10<00:00,  4.77it/s, epoch=37/100, avg_epoch_loss=1.02e+5]\n",
            "100%|██████████| 50/50 [00:10<00:00,  4.79it/s, epoch=38/100, avg_epoch_loss=8.69e+4]\n",
            "100%|██████████| 50/50 [00:10<00:00,  4.77it/s, epoch=39/100, avg_epoch_loss=9.21e+4]\n",
            "100%|██████████| 50/50 [00:10<00:00,  4.80it/s, epoch=40/100, avg_epoch_loss=7.6e+4] \n",
            "100%|██████████| 50/50 [00:10<00:00,  4.81it/s, epoch=41/100, avg_epoch_loss=7.06e+4]\n",
            "100%|██████████| 50/50 [00:10<00:00,  4.81it/s, epoch=42/100, avg_epoch_loss=7.72e+4]\n",
            "100%|██████████| 50/50 [00:10<00:00,  4.78it/s, epoch=43/100, avg_epoch_loss=6.76e+4]\n",
            "100%|██████████| 50/50 [00:10<00:00,  4.80it/s, epoch=44/100, avg_epoch_loss=7.45e+4]\n",
            "100%|██████████| 50/50 [00:10<00:00,  4.81it/s, epoch=45/100, avg_epoch_loss=7.31e+4]\n",
            "100%|██████████| 50/50 [00:10<00:00,  4.79it/s, epoch=46/100, avg_epoch_loss=7.96e+4]\n",
            "100%|██████████| 50/50 [00:10<00:00,  4.82it/s, epoch=47/100, avg_epoch_loss=5.38e+4]\n",
            "100%|██████████| 50/50 [00:10<00:00,  4.82it/s, epoch=48/100, avg_epoch_loss=4.95e+4]\n",
            "100%|██████████| 50/50 [00:10<00:00,  4.81it/s, epoch=49/100, avg_epoch_loss=5.81e+4]\n",
            "100%|██████████| 50/50 [00:10<00:00,  4.69it/s, epoch=50/100, avg_epoch_loss=5.2e+4] \n",
            "100%|██████████| 50/50 [00:10<00:00,  4.74it/s, epoch=51/100, avg_epoch_loss=6.57e+4]\n",
            "100%|██████████| 50/50 [00:10<00:00,  4.81it/s, epoch=52/100, avg_epoch_loss=4.82e+4]\n",
            "100%|██████████| 50/50 [00:10<00:00,  4.83it/s, epoch=53/100, avg_epoch_loss=4.39e+4]\n",
            "100%|██████████| 50/50 [00:10<00:00,  4.82it/s, epoch=54/100, avg_epoch_loss=4.35e+4]\n",
            "100%|██████████| 50/50 [00:10<00:00,  4.81it/s, epoch=55/100, avg_epoch_loss=3.81e+4]\n",
            "100%|██████████| 50/50 [00:10<00:00,  4.80it/s, epoch=56/100, avg_epoch_loss=3.88e+4]\n",
            "100%|██████████| 50/50 [00:10<00:00,  4.84it/s, epoch=57/100, avg_epoch_loss=3.69e+4]\n",
            "100%|██████████| 50/50 [00:10<00:00,  4.82it/s, epoch=58/100, avg_epoch_loss=3.6e+4] \n",
            "100%|██████████| 50/50 [00:10<00:00,  4.71it/s, epoch=59/100, avg_epoch_loss=3.37e+4]\n",
            "100%|██████████| 50/50 [00:10<00:00,  4.81it/s, epoch=60/100, avg_epoch_loss=3.37e+4]\n",
            "100%|██████████| 50/50 [00:10<00:00,  4.79it/s, epoch=61/100, avg_epoch_loss=3.16e+4]\n",
            "100%|██████████| 50/50 [00:10<00:00,  4.76it/s, epoch=62/100, avg_epoch_loss=3.02e+4]\n",
            "100%|██████████| 50/50 [00:10<00:00,  4.78it/s, epoch=63/100, avg_epoch_loss=3.19e+4]\n",
            "100%|██████████| 50/50 [00:10<00:00,  4.76it/s, epoch=64/100, avg_epoch_loss=2.82e+4]\n",
            "100%|██████████| 50/50 [00:10<00:00,  4.78it/s, epoch=65/100, avg_epoch_loss=2.83e+4]\n",
            "100%|██████████| 50/50 [00:10<00:00,  4.75it/s, epoch=66/100, avg_epoch_loss=2.3e+4] \n",
            "100%|██████████| 50/50 [00:10<00:00,  4.76it/s, epoch=67/100, avg_epoch_loss=2.83e+4]\n",
            "100%|██████████| 50/50 [00:10<00:00,  4.78it/s, epoch=68/100, avg_epoch_loss=2.58e+4]\n",
            "100%|██████████| 50/50 [00:10<00:00,  4.78it/s, epoch=69/100, avg_epoch_loss=2.96e+4]\n",
            "100%|██████████| 50/50 [00:10<00:00,  4.76it/s, epoch=70/100, avg_epoch_loss=2.42e+4]\n",
            "100%|██████████| 50/50 [00:10<00:00,  4.78it/s, epoch=71/100, avg_epoch_loss=2.46e+4]\n",
            "100%|██████████| 50/50 [00:10<00:00,  4.77it/s, epoch=72/100, avg_epoch_loss=2.18e+4]\n",
            "100%|██████████| 50/50 [00:10<00:00,  4.78it/s, epoch=73/100, avg_epoch_loss=2.64e+4]\n",
            "100%|██████████| 50/50 [00:10<00:00,  4.79it/s, epoch=74/100, avg_epoch_loss=2.18e+4]\n",
            "100%|██████████| 50/50 [00:10<00:00,  4.79it/s, epoch=75/100, avg_epoch_loss=2e+4]   \n",
            "100%|██████████| 50/50 [00:10<00:00,  4.77it/s, epoch=76/100, avg_epoch_loss=2.41e+4]\n",
            "100%|██████████| 50/50 [00:10<00:00,  4.77it/s, epoch=77/100, avg_epoch_loss=2.13e+4]\n",
            "100%|██████████| 50/50 [00:10<00:00,  4.75it/s, epoch=78/100, avg_epoch_loss=1.86e+4]\n",
            "100%|██████████| 50/50 [00:10<00:00,  4.79it/s, epoch=79/100, avg_epoch_loss=2.07e+4]\n",
            "100%|██████████| 50/50 [00:12<00:00,  4.07it/s, epoch=80/100, avg_epoch_loss=1.86e+4]\n",
            "100%|██████████| 50/50 [00:10<00:00,  4.77it/s, epoch=81/100, avg_epoch_loss=1.7e+4] \n",
            "100%|██████████| 50/50 [00:10<00:00,  4.79it/s, epoch=82/100, avg_epoch_loss=1.94e+4]\n",
            "100%|██████████| 50/50 [00:10<00:00,  4.79it/s, epoch=83/100, avg_epoch_loss=1.69e+4]\n",
            "100%|██████████| 50/50 [00:10<00:00,  4.79it/s, epoch=84/100, avg_epoch_loss=1.68e+4]\n",
            "100%|██████████| 50/50 [00:10<00:00,  4.77it/s, epoch=85/100, avg_epoch_loss=1.57e+4]\n",
            "100%|██████████| 50/50 [00:10<00:00,  4.78it/s, epoch=86/100, avg_epoch_loss=1.77e+4]\n",
            "100%|██████████| 50/50 [00:10<00:00,  4.78it/s, epoch=87/100, avg_epoch_loss=1.49e+4]\n",
            "100%|██████████| 50/50 [00:10<00:00,  4.72it/s, epoch=88/100, avg_epoch_loss=1.43e+4]\n",
            "100%|██████████| 50/50 [00:10<00:00,  4.76it/s, epoch=89/100, avg_epoch_loss=1.31e+4]\n",
            "100%|██████████| 50/50 [00:10<00:00,  4.78it/s, epoch=90/100, avg_epoch_loss=1.1e+4] \n",
            "100%|██████████| 50/50 [00:11<00:00,  4.53it/s, epoch=91/100, avg_epoch_loss=1.17e+4]\n",
            "100%|██████████| 50/50 [00:10<00:00,  4.69it/s, epoch=92/100, avg_epoch_loss=1.08e+4]\n",
            "100%|██████████| 50/50 [00:10<00:00,  4.78it/s, epoch=93/100, avg_epoch_loss=9.36e+3]\n",
            "100%|██████████| 50/50 [00:10<00:00,  4.77it/s, epoch=94/100, avg_epoch_loss=1.1e+4] \n",
            "100%|██████████| 50/50 [00:10<00:00,  4.76it/s, epoch=95/100, avg_epoch_loss=8.99e+3]\n",
            "100%|██████████| 50/50 [00:10<00:00,  4.78it/s, epoch=96/100, avg_epoch_loss=6.74e+3]\n",
            "100%|██████████| 50/50 [00:10<00:00,  4.77it/s, epoch=97/100, avg_epoch_loss=9e+3]   \n",
            "100%|██████████| 50/50 [00:10<00:00,  4.79it/s, epoch=98/100, avg_epoch_loss=7.05e+3]\n",
            "100%|██████████| 50/50 [00:10<00:00,  4.81it/s, epoch=99/100, avg_epoch_loss=1.17e+4]\n",
            "100%|██████████| 50/50 [00:10<00:00,  4.78it/s, epoch=100/100, avg_epoch_loss=1.01e+4]\n"
          ],
          "name": "stderr"
        }
      ]
    },
    {
      "cell_type": "code",
      "metadata": {
        "colab_type": "code",
        "id": "aeXL8Vmcq-cl",
        "outputId": "879c4045-2006-4b1f-f227-1d74337f9285",
        "colab": {
          "base_uri": "https://localhost:8080/",
          "height": 503
        }
      },
      "source": [
        "forecast_it, ts_it = make_evaluation_predictions(\n",
        "    dataset=elec_dataset.test, \n",
        "    predictor=DF_predictor, \n",
        "    num_samples=100, \n",
        ")\n",
        "\n",
        "forecasts = list(forecast_it)\n",
        "tss = list(ts_it)\n",
        "\n",
        "evaluator = Evaluator(quantiles=[0.1, 0.5, 0.9])\n",
        "agg_metrics, item_metrics = evaluator(iter(tss), iter(forecasts), num_series=len(elec_dataset.test))\n",
        "\n",
        "print(json.dumps(agg_metrics, indent=4))"
      ],
      "execution_count": 0,
      "outputs": [
        {
          "output_type": "stream",
          "text": [
            "Running evaluation: 100%|██████████| 2247/2247 [00:00<00:00, 27337.10it/s]\n"
          ],
          "name": "stderr"
        },
        {
          "output_type": "stream",
          "text": [
            "{\n",
            "    \"MSE\": 38011133.90213028,\n",
            "    \"abs_error\": 54565493.10239029,\n",
            "    \"abs_target_sum\": 128632956.0,\n",
            "    \"abs_target_mean\": 2385.272140631948,\n",
            "    \"seasonal_error\": 189.4933819611677,\n",
            "    \"MASE\": 3.9024437813883703,\n",
            "    \"MAPE\": 0.43935678380373255,\n",
            "    \"sMAPE\": 0.3480442307626229,\n",
            "    \"OWA\": NaN,\n",
            "    \"MSIS\": 126.06130128789589,\n",
            "    \"QuantileLoss[0.1]\": 87105837.37931862,\n",
            "    \"Coverage[0.1]\": 0.5967030114226384,\n",
            "    \"QuantileLoss[0.5]\": 54565493.2295739,\n",
            "    \"Coverage[0.5]\": 0.7506675567423224,\n",
            "    \"QuantileLoss[0.9]\": 19288360.186621856,\n",
            "    \"Coverage[0.9]\": 0.8502076843198325,\n",
            "    \"RMSE\": 6165.317015541884,\n",
            "    \"NRMSE\": 2.584743648541697,\n",
            "    \"ND\": 0.42419528244682714,\n",
            "    \"wQuantileLoss[0.1]\": 0.6771657908515966,\n",
            "    \"wQuantileLoss[0.5]\": 0.42419528343555984,\n",
            "    \"wQuantileLoss[0.9]\": 0.14994882172047616,\n",
            "    \"mean_wQuantileLoss\": 0.41710329866921086,\n",
            "    \"MAE_Coverage\": 0.26572096128170947\n",
            "}\n"
          ],
          "name": "stdout"
        }
      ]
    },
    {
      "cell_type": "code",
      "metadata": {
        "colab_type": "code",
        "id": "QV42c2S2q-cp",
        "outputId": "693617e5-46f2-42ca-8b8e-cb408d5fcfe0",
        "colab": {
          "base_uri": "https://localhost:8080/",
          "height": 503
        }
      },
      "source": [
        "forecast_it, ts_it = make_evaluation_predictions(\n",
        "    dataset=test_ds_24, \n",
        "    predictor=DF_predictor, \n",
        "    num_samples=100, \n",
        ")\n",
        "\n",
        "forecasts = list(forecast_it)\n",
        "tss = list(ts_it)\n",
        "\n",
        "evaluator = Evaluator(quantiles=[0.1, 0.5, 0.9])\n",
        "agg_metrics, item_metrics = evaluator(iter(tss), iter(forecasts), num_series=len(test_ds_24))\n",
        "\n",
        "print(json.dumps(agg_metrics, indent=4))"
      ],
      "execution_count": 0,
      "outputs": [
        {
          "output_type": "stream",
          "text": [
            "Running evaluation: 100%|██████████| 321/321 [00:00<00:00, 4608.79it/s]\n"
          ],
          "name": "stderr"
        },
        {
          "output_type": "stream",
          "text": [
            "{\n",
            "    \"MSE\": 38731749.65495565,\n",
            "    \"abs_error\": 8171835.9200668335,\n",
            "    \"abs_target_sum\": 17268997.0,\n",
            "    \"abs_target_mean\": 2241.56243509865,\n",
            "    \"seasonal_error\": 189.64815247902152,\n",
            "    \"MASE\": 4.143609634307464,\n",
            "    \"MAPE\": 0.45505713616111676,\n",
            "    \"sMAPE\": 0.37235982025449244,\n",
            "    \"OWA\": NaN,\n",
            "    \"MSIS\": 134.97233582829844,\n",
            "    \"QuantileLoss[0.1]\": 13748536.40445061,\n",
            "    \"Coverage[0.1]\": 0.638759086188993,\n",
            "    \"QuantileLoss[0.5]\": 8171835.93080458,\n",
            "    \"Coverage[0.5]\": 0.783489096573209,\n",
            "    \"QuantileLoss[0.9]\": 2194503.7526630396,\n",
            "    \"Coverage[0.9]\": 0.869807892004154,\n",
            "    \"RMSE\": 6223.483723362314,\n",
            "    \"NRMSE\": 2.7764043623832504,\n",
            "    \"ND\": 0.4732084857080486,\n",
            "    \"wQuantileLoss[0.1]\": 0.7961398339724427,\n",
            "    \"wQuantileLoss[0.5]\": 0.47320848632984186,\n",
            "    \"wQuantileLoss[0.9]\": 0.1270776613524827,\n",
            "    \"mean_wQuantileLoss\": 0.46547532721825574,\n",
            "    \"MAE_Coverage\": 0.28414676358601604\n",
            "}\n"
          ],
          "name": "stdout"
        }
      ]
    },
    {
      "cell_type": "code",
      "metadata": {
        "colab_type": "code",
        "id": "sffvZDWBq-cr",
        "colab": {}
      },
      "source": [
        ""
      ],
      "execution_count": 0,
      "outputs": []
    }
  ]
}