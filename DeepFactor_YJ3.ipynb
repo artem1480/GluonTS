{
  "nbformat": 4,
  "nbformat_minor": 0,
  "metadata": {
    "colab": {
      "name": "DeepFactor_YJ3",
      "provenance": [],
      "collapsed_sections": [],
      "include_colab_link": true
    },
    "kernelspec": {
      "name": "python3",
      "display_name": "Python 3"
    }
  },
  "cells": [
    {
      "cell_type": "markdown",
      "metadata": {
        "id": "view-in-github",
        "colab_type": "text"
      },
      "source": [
        "<a href=\"https://colab.research.google.com/github/iskra3138/GluonTS/blob/master/DeepFactor_YJ3.ipynb\" target=\"_parent\"><img src=\"https://colab.research.google.com/assets/colab-badge.svg\" alt=\"Open In Colab\"/></a>"
      ]
    },
    {
      "cell_type": "markdown",
      "metadata": {
        "id": "MtkVPqoH9Rfy",
        "colab_type": "text"
      },
      "source": [
        "# Install mxnet and gluonts"
      ]
    },
    {
      "cell_type": "code",
      "metadata": {
        "id": "XpYiCxWFwrdF",
        "colab_type": "code",
        "outputId": "ac2c9b4f-38cc-4431-dc2e-da6675cefeb8",
        "colab": {
          "base_uri": "https://localhost:8080/",
          "height": 755
        }
      },
      "source": [
        "pip install --upgrade mxnet==1.6 gluonts"
      ],
      "execution_count": 0,
      "outputs": [
        {
          "output_type": "stream",
          "text": [
            "Collecting mxnet==1.6\n",
            "\u001b[?25l  Downloading https://files.pythonhosted.org/packages/81/f5/d79b5b40735086ff1100c680703e0f3efc830fa455e268e9e96f3c857e93/mxnet-1.6.0-py2.py3-none-any.whl (68.7MB)\n",
            "\u001b[K     |████████████████████████████████| 68.7MB 64kB/s \n",
            "\u001b[?25hCollecting gluonts\n",
            "\u001b[?25l  Downloading https://files.pythonhosted.org/packages/c2/07/5a63f7d645761982743d375fc816120b680e0de13ac139829e509b3206fc/gluonts-0.5.0-py3-none-any.whl (419kB)\n",
            "\u001b[K     |████████████████████████████████| 419kB 50.7MB/s \n",
            "\u001b[?25hRequirement already satisfied, skipping upgrade: requests<3,>=2.20.0 in /usr/local/lib/python3.6/dist-packages (from mxnet==1.6) (2.23.0)\n",
            "Requirement already satisfied, skipping upgrade: numpy<2.0.0,>1.16.0 in /usr/local/lib/python3.6/dist-packages (from mxnet==1.6) (1.18.4)\n",
            "Collecting graphviz<0.9.0,>=0.8.1\n",
            "  Downloading https://files.pythonhosted.org/packages/53/39/4ab213673844e0c004bed8a0781a0721a3f6bb23eb8854ee75c236428892/graphviz-0.8.4-py2.py3-none-any.whl\n",
            "Requirement already satisfied, skipping upgrade: matplotlib~=3.0 in /usr/local/lib/python3.6/dist-packages (from gluonts) (3.2.1)\n",
            "Requirement already satisfied, skipping upgrade: holidays<0.10,>=0.9 in /usr/local/lib/python3.6/dist-packages (from gluonts) (0.9.12)\n",
            "Collecting ujson~=1.35\n",
            "\u001b[?25l  Downloading https://files.pythonhosted.org/packages/16/c4/79f3409bc710559015464e5f49b9879430d8f87498ecdc335899732e5377/ujson-1.35.tar.gz (192kB)\n",
            "\u001b[K     |████████████████████████████████| 194kB 38.6MB/s \n",
            "\u001b[?25hRequirement already satisfied, skipping upgrade: pandas~=1.0 in /usr/local/lib/python3.6/dist-packages (from gluonts) (1.0.3)\n",
            "Requirement already satisfied, skipping upgrade: tqdm~=4.23 in /usr/local/lib/python3.6/dist-packages (from gluonts) (4.41.1)\n",
            "Collecting pydantic~=1.1\n",
            "\u001b[?25l  Downloading https://files.pythonhosted.org/packages/57/c9/7d664fbe54863b92cea790c7305915888c2f13a68a754893d8291bab0d0d/pydantic-1.5.1-cp36-cp36m-manylinux2014_x86_64.whl (7.4MB)\n",
            "\u001b[K     |████████████████████████████████| 7.4MB 41.1MB/s \n",
            "\u001b[?25hRequirement already satisfied, skipping upgrade: urllib3!=1.25.0,!=1.25.1,<1.26,>=1.21.1 in /usr/local/lib/python3.6/dist-packages (from requests<3,>=2.20.0->mxnet==1.6) (1.24.3)\n",
            "Requirement already satisfied, skipping upgrade: certifi>=2017.4.17 in /usr/local/lib/python3.6/dist-packages (from requests<3,>=2.20.0->mxnet==1.6) (2020.4.5.1)\n",
            "Requirement already satisfied, skipping upgrade: idna<3,>=2.5 in /usr/local/lib/python3.6/dist-packages (from requests<3,>=2.20.0->mxnet==1.6) (2.9)\n",
            "Requirement already satisfied, skipping upgrade: chardet<4,>=3.0.2 in /usr/local/lib/python3.6/dist-packages (from requests<3,>=2.20.0->mxnet==1.6) (3.0.4)\n",
            "Requirement already satisfied, skipping upgrade: kiwisolver>=1.0.1 in /usr/local/lib/python3.6/dist-packages (from matplotlib~=3.0->gluonts) (1.2.0)\n",
            "Requirement already satisfied, skipping upgrade: cycler>=0.10 in /usr/local/lib/python3.6/dist-packages (from matplotlib~=3.0->gluonts) (0.10.0)\n",
            "Requirement already satisfied, skipping upgrade: python-dateutil>=2.1 in /usr/local/lib/python3.6/dist-packages (from matplotlib~=3.0->gluonts) (2.8.1)\n",
            "Requirement already satisfied, skipping upgrade: pyparsing!=2.0.4,!=2.1.2,!=2.1.6,>=2.0.1 in /usr/local/lib/python3.6/dist-packages (from matplotlib~=3.0->gluonts) (2.4.7)\n",
            "Requirement already satisfied, skipping upgrade: six in /usr/local/lib/python3.6/dist-packages (from holidays<0.10,>=0.9->gluonts) (1.12.0)\n",
            "Requirement already satisfied, skipping upgrade: pytz>=2017.2 in /usr/local/lib/python3.6/dist-packages (from pandas~=1.0->gluonts) (2018.9)\n",
            "Requirement already satisfied, skipping upgrade: dataclasses>=0.6; python_version < \"3.7\" in /usr/local/lib/python3.6/dist-packages (from pydantic~=1.1->gluonts) (0.7)\n",
            "Building wheels for collected packages: ujson\n",
            "  Building wheel for ujson (setup.py) ... \u001b[?25l\u001b[?25hdone\n",
            "  Created wheel for ujson: filename=ujson-1.35-cp36-cp36m-linux_x86_64.whl size=68031 sha256=24d58f75c71c5aa605293f8c1bf388da90e281237e2ab6d27bb520d6dbb97644\n",
            "  Stored in directory: /root/.cache/pip/wheels/28/77/e4/0311145b9c2e2f01470e744855131f9e34d6919687550f87d1\n",
            "Successfully built ujson\n",
            "Installing collected packages: graphviz, mxnet, ujson, pydantic, gluonts\n",
            "  Found existing installation: graphviz 0.10.1\n",
            "    Uninstalling graphviz-0.10.1:\n",
            "      Successfully uninstalled graphviz-0.10.1\n",
            "Successfully installed gluonts-0.5.0 graphviz-0.8.4 mxnet-1.6.0 pydantic-1.5.1 ujson-1.35\n"
          ],
          "name": "stdout"
        }
      ]
    },
    {
      "cell_type": "markdown",
      "metadata": {
        "id": "LmbEt0H9GYBt",
        "colab_type": "text"
      },
      "source": [
        "## Dataset Loading"
      ]
    },
    {
      "cell_type": "code",
      "metadata": {
        "id": "CS73SazB-iAi",
        "colab_type": "code",
        "colab": {}
      },
      "source": [
        "# Third-party imports\n",
        "%matplotlib inline\n",
        "import mxnet as mx\n",
        "from mxnet import gluon\n",
        "#import numpy as np\n",
        "#import pandas as pd\n",
        "import matplotlib.pyplot as plt\n",
        "import json\n",
        "#import os"
      ],
      "execution_count": 0,
      "outputs": []
    },
    {
      "cell_type": "code",
      "metadata": {
        "id": "YyFHxQYCGWpO",
        "colab_type": "code",
        "colab": {}
      },
      "source": [
        "from gluonts.dataset.repository.datasets import get_dataset, dataset_recipes\n",
        "#from gluonts.dataset.util import to_pandas"
      ],
      "execution_count": 0,
      "outputs": []
    },
    {
      "cell_type": "code",
      "metadata": {
        "id": "CET-Px0euwLy",
        "colab_type": "code",
        "colab": {}
      },
      "source": [
        "from gluonts.dataset.common import ListDataset\n",
        "from gluonts.dataset.field_names import FieldName"
      ],
      "execution_count": 0,
      "outputs": []
    },
    {
      "cell_type": "code",
      "metadata": {
        "id": "PwbJirQ67oj9",
        "colab_type": "code",
        "colab": {}
      },
      "source": [
        "from gluonts.model.deepar import DeepAREstimator\n",
        "from gluonts.model.deep_factor import DeepFactorEstimator\n",
        "from gluonts.distribution.gaussian import GaussianOutput\n",
        "from gluonts.distribution.student_t import StudentTOutput\n",
        "from gluonts.trainer import Trainer\n",
        "from gluonts.evaluation.backtest import make_evaluation_predictions\n",
        "from gluonts.evaluation import Evaluator"
      ],
      "execution_count": 0,
      "outputs": []
    },
    {
      "cell_type": "markdown",
      "metadata": {
        "id": "jbPo1rHY7nGe",
        "colab_type": "text"
      },
      "source": [
        "## Experiment of DeepFactor"
      ]
    },
    {
      "cell_type": "markdown",
      "metadata": {
        "id": "cqSRuhYNUhe4",
        "colab_type": "text"
      },
      "source": [
        "## electricity"
      ]
    },
    {
      "cell_type": "code",
      "metadata": {
        "id": "QUlhWYZLGqAa",
        "colab_type": "code",
        "outputId": "667d6b37-a703-405e-fb4b-b63c5d785248",
        "colab": {
          "base_uri": "https://localhost:8080/",
          "height": 53
        }
      },
      "source": [
        "elec_dataset = get_dataset(\"electricity\", regenerate=False)"
      ],
      "execution_count": 0,
      "outputs": [
        {
          "output_type": "stream",
          "text": [
            "saving time-series into /root/.mxnet/gluon-ts/datasets/electricity/train/data.json\n",
            "saving time-series into /root/.mxnet/gluon-ts/datasets/electricity/test/data.json\n"
          ],
          "name": "stdout"
        }
      ]
    },
    {
      "cell_type": "code",
      "metadata": {
        "colab_type": "code",
        "outputId": "d5d6ace7-3bb8-4192-dafd-015813bb55c9",
        "id": "pISvJSGLmogL",
        "colab": {
          "base_uri": "https://localhost:8080/",
          "height": 53
        }
      },
      "source": [
        "print (len(elec_dataset.train))\n",
        "print (len(elec_dataset.test))"
      ],
      "execution_count": 0,
      "outputs": [
        {
          "output_type": "stream",
          "text": [
            "321\n",
            "2247\n"
          ],
          "name": "stdout"
        }
      ]
    },
    {
      "cell_type": "code",
      "metadata": {
        "colab_type": "code",
        "outputId": "f1f9e7bb-f8ef-4424-ffb8-56424f8248ab",
        "id": "Gg6BjsIAmogR",
        "colab": {
          "base_uri": "https://localhost:8080/",
          "height": 35
        }
      },
      "source": [
        "elec_dataset.metadata"
      ],
      "execution_count": 0,
      "outputs": [
        {
          "output_type": "execute_result",
          "data": {
            "text/plain": [
              "MetaData(freq='1H', target=None, feat_static_cat=[CategoricalFeatureInfo(name='feat_static_cat', cardinality='321')], feat_static_real=[], feat_dynamic_real=[], feat_dynamic_cat=[], prediction_length=24)"
            ]
          },
          "metadata": {
            "tags": []
          },
          "execution_count": 8
        }
      ]
    },
    {
      "cell_type": "code",
      "metadata": {
        "id": "kh_5nT7SmwD5",
        "colab_type": "code",
        "outputId": "f9d69c08-9d3f-4d3b-a3ff-57fa28083bc3",
        "colab": {
          "base_uri": "https://localhost:8080/",
          "height": 35
        }
      },
      "source": [
        "elec_dataset.metadata.feat_static_cat[0]"
      ],
      "execution_count": 0,
      "outputs": [
        {
          "output_type": "execute_result",
          "data": {
            "text/plain": [
              "CategoricalFeatureInfo(name='feat_static_cat', cardinality='321')"
            ]
          },
          "metadata": {
            "tags": []
          },
          "execution_count": 9
        }
      ]
    },
    {
      "cell_type": "code",
      "metadata": {
        "id": "28gBmOGVoMgV",
        "colab_type": "code",
        "colab": {}
      },
      "source": [
        "car = [int(elec_dataset.metadata.feat_static_cat[0].cardinality)]"
      ],
      "execution_count": 0,
      "outputs": []
    },
    {
      "cell_type": "code",
      "metadata": {
        "colab_type": "code",
        "outputId": "e0fb2cc2-81b6-4957-b0ce-5e3e90051cd4",
        "id": "Q-ZkZHs2mogU",
        "colab": {
          "base_uri": "https://localhost:8080/",
          "height": 35
        }
      },
      "source": [
        "next(iter(elec_dataset.train)).keys()"
      ],
      "execution_count": 0,
      "outputs": [
        {
          "output_type": "execute_result",
          "data": {
            "text/plain": [
              "dict_keys(['start', 'target', 'feat_static_cat', 'item_id', 'source'])"
            ]
          },
          "metadata": {
            "tags": []
          },
          "execution_count": 11
        }
      ]
    },
    {
      "cell_type": "code",
      "metadata": {
        "id": "Ez4xa_EAuwHV",
        "colab_type": "code",
        "colab": {}
      },
      "source": [
        "test_ds_24 = ListDataset([{FieldName.START: entry['start'],\n",
        "                        FieldName.TARGET: entry['target'],\n",
        "                        FieldName.FEAT_STATIC_CAT: entry['feat_static_cat'],\n",
        "                        FieldName.ITEM_ID: entry['item_id'],\n",
        "                        }\n",
        "                       for entry in iter(elec_dataset.test) if len(entry['target']) == 21068\n",
        "                       ],\n",
        "                     freq=elec_dataset.metadata.freq)"
      ],
      "execution_count": 0,
      "outputs": []
    },
    {
      "cell_type": "code",
      "metadata": {
        "colab_type": "code",
        "id": "SOijOJKyH3hL",
        "colab": {}
      },
      "source": [
        "# https://gluon-ts.mxnet.io/api/gluonts/gluonts.trainer.html\n",
        "deepfactor_trainer=Trainer(\n",
        "    ctx = 'cpu',\n",
        "    epochs=100, # (default: 100).\n",
        "    batch_size=32,# (default: 32).\n",
        "    num_batches_per_epoch=50, # (default: 50).\n",
        "    learning_rate=0.001, # (default:  10^−3 ).\n",
        "    learning_rate_decay_factor=0.5, # (default: 0.5).\n",
        "    patience = 10, # (default: 10).\n",
        "    minimum_learning_rate=5e-05, # (default:  5⋅10^−5 ).\n",
        "    clip_gradient = 10.0, # (default: 10).\n",
        "    weight_decay=1e-08, #  (default  10^−8 ).\n",
        "    init='xavier', #  (default: “xavier”).\n",
        "    hybridize=True, \n",
        "    )"
      ],
      "execution_count": 0,
      "outputs": []
    },
    {
      "cell_type": "code",
      "metadata": {
        "colab_type": "code",
        "id": "zqz0laFMH3hN",
        "colab": {}
      },
      "source": [
        "# https://gluon-ts.mxnet.io/api/gluonts/gluonts.model.deep_factor.html\n",
        "DF_estimator = DeepFactorEstimator(\n",
        "    freq=elec_dataset.metadata.freq, # Time series frequency\n",
        "    prediction_length=elec_dataset.metadata.prediction_length, # Prediction length.\n",
        "    num_hidden_global=50, # (default: 50).\n",
        "    num_layers_global=1, # (default: 1).\n",
        "    num_factors=10, # (default: 10).\n",
        "    num_hidden_local=5, # (default: 5).\n",
        "    num_layers_local=1, # (default: 1).\n",
        "    cell_type='lstm', # (default: ‘lstm’).\n",
        "    trainer = deepfactor_trainer, # (default: Trainer()).\n",
        "    context_length=None, # (default: None, in which case context_length = prediction_length).\n",
        "    num_parallel_samples=100, # (default: 100).\n",
        "    cardinality=car, # (default: list([1]).\n",
        "    embedding_dimension=10, # (default: 10).\n",
        "    distr_output=StudentTOutput(), # (default: StudentTOutput()).\n",
        ")"
      ],
      "execution_count": 0,
      "outputs": []
    },
    {
      "cell_type": "code",
      "metadata": {
        "colab_type": "code",
        "id": "ig9ceH0SH3hQ",
        "outputId": "2647bced-00b0-442e-a0ef-613311ebbafc",
        "colab": {
          "base_uri": "https://localhost:8080/",
          "height": 1000
        }
      },
      "source": [
        "DF_predictor = DF_estimator.train(elec_dataset.train)"
      ],
      "execution_count": 0,
      "outputs": [
        {
          "output_type": "stream",
          "text": [
            "\r  0%|          | 0/50 [00:00<?, ?it/s]"
          ],
          "name": "stderr"
        },
        {
          "output_type": "stream",
          "text": [
            "learning rate from ``lr_scheduler`` has been overwritten by ``learning_rate`` in optimizer.\n"
          ],
          "name": "stdout"
        },
        {
          "output_type": "stream",
          "text": [
            "100%|██████████| 50/50 [00:09<00:00,  5.20it/s, epoch=1/100, avg_epoch_loss=1.25e+8]\n",
            "100%|██████████| 50/50 [00:09<00:00,  5.20it/s, epoch=2/100, avg_epoch_loss=6.52e+7]\n",
            "100%|██████████| 50/50 [00:09<00:00,  5.16it/s, epoch=3/100, avg_epoch_loss=4.39e+7]\n",
            "100%|██████████| 50/50 [00:09<00:00,  5.16it/s, epoch=4/100, avg_epoch_loss=2.2e+7]\n",
            "100%|██████████| 50/50 [00:09<00:00,  5.16it/s, epoch=5/100, avg_epoch_loss=1.19e+7]\n",
            "100%|██████████| 50/50 [00:09<00:00,  5.15it/s, epoch=6/100, avg_epoch_loss=7.15e+6]\n",
            "100%|██████████| 50/50 [00:09<00:00,  5.12it/s, epoch=7/100, avg_epoch_loss=4.61e+6]\n",
            "100%|██████████| 50/50 [00:09<00:00,  5.12it/s, epoch=8/100, avg_epoch_loss=3e+6]\n",
            "100%|██████████| 50/50 [00:09<00:00,  5.11it/s, epoch=9/100, avg_epoch_loss=1.24e+6]\n",
            "100%|██████████| 50/50 [00:09<00:00,  5.06it/s, epoch=10/100, avg_epoch_loss=8.17e+5]\n",
            "100%|██████████| 50/50 [00:09<00:00,  5.13it/s, epoch=11/100, avg_epoch_loss=6.89e+5]\n",
            "100%|██████████| 50/50 [00:09<00:00,  5.16it/s, epoch=12/100, avg_epoch_loss=6.05e+5]\n",
            "100%|██████████| 50/50 [00:09<00:00,  5.17it/s, epoch=13/100, avg_epoch_loss=5.23e+5]\n",
            "100%|██████████| 50/50 [00:09<00:00,  5.15it/s, epoch=14/100, avg_epoch_loss=4.54e+5]\n",
            "100%|██████████| 50/50 [00:09<00:00,  5.16it/s, epoch=15/100, avg_epoch_loss=3.9e+5]\n",
            "100%|██████████| 50/50 [00:09<00:00,  5.17it/s, epoch=16/100, avg_epoch_loss=3.65e+5]\n",
            "100%|██████████| 50/50 [00:09<00:00,  5.15it/s, epoch=17/100, avg_epoch_loss=3.26e+5]\n",
            "100%|██████████| 50/50 [00:09<00:00,  5.16it/s, epoch=18/100, avg_epoch_loss=2.87e+5]\n",
            "100%|██████████| 50/50 [00:09<00:00,  5.16it/s, epoch=19/100, avg_epoch_loss=2.7e+5]\n",
            "100%|██████████| 50/50 [00:09<00:00,  5.17it/s, epoch=20/100, avg_epoch_loss=2.74e+5]\n",
            "100%|██████████| 50/50 [00:09<00:00,  5.16it/s, epoch=21/100, avg_epoch_loss=2.34e+5]\n",
            "100%|██████████| 50/50 [00:13<00:00,  3.82it/s, epoch=22/100, avg_epoch_loss=1.93e+5]\n",
            "100%|██████████| 50/50 [00:09<00:00,  5.13it/s, epoch=23/100, avg_epoch_loss=1.91e+5]\n",
            "100%|██████████| 50/50 [00:09<00:00,  5.16it/s, epoch=24/100, avg_epoch_loss=1.72e+5]\n",
            "100%|██████████| 50/50 [00:09<00:00,  5.14it/s, epoch=25/100, avg_epoch_loss=1.64e+5]\n",
            "100%|██████████| 50/50 [00:09<00:00,  5.14it/s, epoch=26/100, avg_epoch_loss=1.58e+5]\n",
            "100%|██████████| 50/50 [00:09<00:00,  5.13it/s, epoch=27/100, avg_epoch_loss=1.56e+5]\n",
            "100%|██████████| 50/50 [00:09<00:00,  5.14it/s, epoch=28/100, avg_epoch_loss=1.32e+5]\n",
            "100%|██████████| 50/50 [00:09<00:00,  5.15it/s, epoch=29/100, avg_epoch_loss=1.4e+5]\n",
            "100%|██████████| 50/50 [00:09<00:00,  5.15it/s, epoch=30/100, avg_epoch_loss=1.13e+5]\n",
            "100%|██████████| 50/50 [00:09<00:00,  5.16it/s, epoch=31/100, avg_epoch_loss=1.15e+5]\n",
            "100%|██████████| 50/50 [00:09<00:00,  5.15it/s, epoch=32/100, avg_epoch_loss=1.01e+5]\n",
            "100%|██████████| 50/50 [00:09<00:00,  5.16it/s, epoch=33/100, avg_epoch_loss=1.17e+5]\n",
            "100%|██████████| 50/50 [00:09<00:00,  5.07it/s, epoch=34/100, avg_epoch_loss=9.61e+4]\n",
            "100%|██████████| 50/50 [00:09<00:00,  5.14it/s, epoch=35/100, avg_epoch_loss=1.03e+5]\n",
            "100%|██████████| 50/50 [00:09<00:00,  5.15it/s, epoch=36/100, avg_epoch_loss=8.07e+4]\n",
            "100%|██████████| 50/50 [00:09<00:00,  5.15it/s, epoch=37/100, avg_epoch_loss=9.13e+4]\n",
            "100%|██████████| 50/50 [00:09<00:00,  5.15it/s, epoch=38/100, avg_epoch_loss=7.22e+4]\n",
            "100%|██████████| 50/50 [00:09<00:00,  5.17it/s, epoch=39/100, avg_epoch_loss=7.14e+4]\n",
            "100%|██████████| 50/50 [00:09<00:00,  5.18it/s, epoch=40/100, avg_epoch_loss=6.93e+4]\n",
            "100%|██████████| 50/50 [00:09<00:00,  5.13it/s, epoch=41/100, avg_epoch_loss=6.54e+4]\n",
            "100%|██████████| 50/50 [00:09<00:00,  5.15it/s, epoch=42/100, avg_epoch_loss=5.66e+4]\n",
            "100%|██████████| 50/50 [00:09<00:00,  5.17it/s, epoch=43/100, avg_epoch_loss=5.78e+4]\n",
            "100%|██████████| 50/50 [00:09<00:00,  5.16it/s, epoch=44/100, avg_epoch_loss=5.25e+4]\n",
            "100%|██████████| 50/50 [00:09<00:00,  5.15it/s, epoch=45/100, avg_epoch_loss=5.13e+4]\n",
            "100%|██████████| 50/50 [00:09<00:00,  5.15it/s, epoch=46/100, avg_epoch_loss=5.4e+4]\n",
            "100%|██████████| 50/50 [00:09<00:00,  5.16it/s, epoch=47/100, avg_epoch_loss=5.23e+4]\n",
            "100%|██████████| 50/50 [00:09<00:00,  5.16it/s, epoch=48/100, avg_epoch_loss=4.5e+4]\n",
            "100%|██████████| 50/50 [00:09<00:00,  5.16it/s, epoch=49/100, avg_epoch_loss=4.32e+4]\n",
            "100%|██████████| 50/50 [00:09<00:00,  5.15it/s, epoch=50/100, avg_epoch_loss=5.76e+4]\n",
            "100%|██████████| 50/50 [00:09<00:00,  5.14it/s, epoch=51/100, avg_epoch_loss=4.34e+4]\n",
            "100%|██████████| 50/50 [00:09<00:00,  5.06it/s, epoch=52/100, avg_epoch_loss=3.68e+4]\n",
            "100%|██████████| 50/50 [00:09<00:00,  5.11it/s, epoch=53/100, avg_epoch_loss=4.54e+4]\n",
            "100%|██████████| 50/50 [00:09<00:00,  5.15it/s, epoch=54/100, avg_epoch_loss=4.12e+4]\n",
            "100%|██████████| 50/50 [00:09<00:00,  5.13it/s, epoch=55/100, avg_epoch_loss=3.73e+4]\n",
            "100%|██████████| 50/50 [00:09<00:00,  5.13it/s, epoch=56/100, avg_epoch_loss=3.59e+4]\n",
            "100%|██████████| 50/50 [00:09<00:00,  5.12it/s, epoch=57/100, avg_epoch_loss=4.42e+4]\n",
            "100%|██████████| 50/50 [00:09<00:00,  5.15it/s, epoch=58/100, avg_epoch_loss=3.57e+4]\n",
            "100%|██████████| 50/50 [00:09<00:00,  5.14it/s, epoch=59/100, avg_epoch_loss=3.51e+4]\n",
            "100%|██████████| 50/50 [00:09<00:00,  5.16it/s, epoch=60/100, avg_epoch_loss=3.53e+4]\n",
            "100%|██████████| 50/50 [00:09<00:00,  5.16it/s, epoch=61/100, avg_epoch_loss=3.06e+4]\n",
            "100%|██████████| 50/50 [00:09<00:00,  5.16it/s, epoch=62/100, avg_epoch_loss=2.93e+4]\n",
            "100%|██████████| 50/50 [00:09<00:00,  5.15it/s, epoch=63/100, avg_epoch_loss=2.99e+4]\n",
            "100%|██████████| 50/50 [00:09<00:00,  5.12it/s, epoch=64/100, avg_epoch_loss=2.76e+4]\n",
            "100%|██████████| 50/50 [00:09<00:00,  5.15it/s, epoch=65/100, avg_epoch_loss=2.56e+4]\n",
            "100%|██████████| 50/50 [00:09<00:00,  5.07it/s, epoch=66/100, avg_epoch_loss=1.93e+4]\n",
            "100%|██████████| 50/50 [00:09<00:00,  5.13it/s, epoch=67/100, avg_epoch_loss=2.47e+4]\n",
            "100%|██████████| 50/50 [00:09<00:00,  5.16it/s, epoch=68/100, avg_epoch_loss=2.53e+4]\n",
            "100%|██████████| 50/50 [00:09<00:00,  5.14it/s, epoch=69/100, avg_epoch_loss=2.22e+4]\n",
            "100%|██████████| 50/50 [00:09<00:00,  5.15it/s, epoch=70/100, avg_epoch_loss=1.81e+4]\n",
            "100%|██████████| 50/50 [00:09<00:00,  5.15it/s, epoch=71/100, avg_epoch_loss=1.59e+4]\n",
            "100%|██████████| 50/50 [00:09<00:00,  5.12it/s, epoch=72/100, avg_epoch_loss=1.93e+4]\n",
            "100%|██████████| 50/50 [00:09<00:00,  5.09it/s, epoch=73/100, avg_epoch_loss=1.84e+4]\n",
            "100%|██████████| 50/50 [00:09<00:00,  5.13it/s, epoch=74/100, avg_epoch_loss=1.81e+4]\n",
            "100%|██████████| 50/50 [00:09<00:00,  5.13it/s, epoch=75/100, avg_epoch_loss=1.62e+4]\n",
            "100%|██████████| 50/50 [00:09<00:00,  5.13it/s, epoch=76/100, avg_epoch_loss=1.26e+4]\n",
            "100%|██████████| 50/50 [00:09<00:00,  5.14it/s, epoch=77/100, avg_epoch_loss=1.21e+4]\n",
            "100%|██████████| 50/50 [00:09<00:00,  5.14it/s, epoch=78/100, avg_epoch_loss=1.36e+4]\n",
            "100%|██████████| 50/50 [00:09<00:00,  5.15it/s, epoch=79/100, avg_epoch_loss=1.07e+4]\n",
            "100%|██████████| 50/50 [00:09<00:00,  5.14it/s, epoch=80/100, avg_epoch_loss=1.12e+4]\n",
            "100%|██████████| 50/50 [00:09<00:00,  5.13it/s, epoch=81/100, avg_epoch_loss=1.19e+4]\n",
            "100%|██████████| 50/50 [00:09<00:00,  5.15it/s, epoch=82/100, avg_epoch_loss=1.28e+4]\n",
            "100%|██████████| 50/50 [00:09<00:00,  5.15it/s, epoch=83/100, avg_epoch_loss=1.71e+4]\n",
            "100%|██████████| 50/50 [00:11<00:00,  4.49it/s, epoch=84/100, avg_epoch_loss=1.05e+4]\n",
            "100%|██████████| 50/50 [00:11<00:00,  4.34it/s, epoch=85/100, avg_epoch_loss=1.14e+4]\n",
            "100%|██████████| 50/50 [00:09<00:00,  5.15it/s, epoch=86/100, avg_epoch_loss=1.11e+4]\n",
            "100%|██████████| 50/50 [00:09<00:00,  5.15it/s, epoch=87/100, avg_epoch_loss=8.18e+3]\n",
            "100%|██████████| 50/50 [00:09<00:00,  5.13it/s, epoch=88/100, avg_epoch_loss=8.74e+3]\n",
            "100%|██████████| 50/50 [00:09<00:00,  5.16it/s, epoch=89/100, avg_epoch_loss=8.3e+3]\n",
            "100%|██████████| 50/50 [00:09<00:00,  5.13it/s, epoch=90/100, avg_epoch_loss=8.45e+3]\n",
            "100%|██████████| 50/50 [00:09<00:00,  5.15it/s, epoch=91/100, avg_epoch_loss=8.4e+3]\n",
            "100%|██████████| 50/50 [00:09<00:00,  5.12it/s, epoch=92/100, avg_epoch_loss=7.57e+3]\n",
            "100%|██████████| 50/50 [00:09<00:00,  5.13it/s, epoch=93/100, avg_epoch_loss=1.25e+4]\n",
            "100%|██████████| 50/50 [00:09<00:00,  5.13it/s, epoch=94/100, avg_epoch_loss=8.81e+3]\n",
            "100%|██████████| 50/50 [00:09<00:00,  5.13it/s, epoch=95/100, avg_epoch_loss=7.89e+3]\n",
            "100%|██████████| 50/50 [00:09<00:00,  5.12it/s, epoch=96/100, avg_epoch_loss=6.52e+3]\n",
            "100%|██████████| 50/50 [00:09<00:00,  5.12it/s, epoch=97/100, avg_epoch_loss=1.14e+4]\n",
            "100%|██████████| 50/50 [00:09<00:00,  5.11it/s, epoch=98/100, avg_epoch_loss=5.69e+3]\n",
            "100%|██████████| 50/50 [00:09<00:00,  5.14it/s, epoch=99/100, avg_epoch_loss=6.94e+3]\n",
            "100%|██████████| 50/50 [00:09<00:00,  5.15it/s, epoch=100/100, avg_epoch_loss=7.78e+3]\n"
          ],
          "name": "stderr"
        }
      ]
    },
    {
      "cell_type": "code",
      "metadata": {
        "id": "iVGO7KRtorHw",
        "colab_type": "code",
        "outputId": "38c5e29f-b628-4045-fa02-85d48180b9f9",
        "colab": {
          "base_uri": "https://localhost:8080/",
          "height": 503
        }
      },
      "source": [
        "# Evaluation for all test data\n",
        "forecast_it, ts_it = make_evaluation_predictions(\n",
        "    dataset=elec_dataset.test, \n",
        "    predictor=DF_predictor, \n",
        "    num_samples=100, \n",
        ")\n",
        "\n",
        "forecasts = list(forecast_it)\n",
        "tss = list(ts_it)\n",
        "\n",
        "evaluator = Evaluator(quantiles=[0.1, 0.5, 0.9])\n",
        "agg_metrics, item_metrics = evaluator(iter(tss), iter(forecasts), num_series=len(elec_dataset.test))\n",
        "\n",
        "print(json.dumps(agg_metrics, indent=4))"
      ],
      "execution_count": 0,
      "outputs": [
        {
          "output_type": "stream",
          "text": [
            "Running evaluation: 100%|██████████| 2247/2247 [00:00<00:00, 43195.85it/s]\n"
          ],
          "name": "stderr"
        },
        {
          "output_type": "stream",
          "text": [
            "{\n",
            "    \"MSE\": 25993367.61071011,\n",
            "    \"abs_error\": 35274492.36671448,\n",
            "    \"abs_target_sum\": 128632956.0,\n",
            "    \"abs_target_mean\": 2385.272140631948,\n",
            "    \"seasonal_error\": 189.4933819611677,\n",
            "    \"MASE\": 2.648145734615828,\n",
            "    \"MAPE\": 0.2922686890965108,\n",
            "    \"sMAPE\": 0.29726672704196405,\n",
            "    \"OWA\": NaN,\n",
            "    \"MSIS\": 76.59054661067174,\n",
            "    \"QuantileLoss[0.1]\": 27819210.360164642,\n",
            "    \"Coverage[0.1]\": 0.26707832665776593,\n",
            "    \"QuantileLoss[0.5]\": 35274492.24931861,\n",
            "    \"Coverage[0.5]\": 0.39500815902685016,\n",
            "    \"QuantileLoss[0.9]\": 39991089.11282539,\n",
            "    \"Coverage[0.9]\": 0.5583184987390599,\n",
            "    \"RMSE\": 5098.3691128350165,\n",
            "    \"NRMSE\": 2.1374370772989733,\n",
            "    \"ND\": 0.2742259329460988,\n",
            "    \"wQuantileLoss[0.1]\": 0.21626814173627978,\n",
            "    \"wQuantileLoss[0.5]\": 0.2742259320334566,\n",
            "    \"wQuantileLoss[0.9]\": 0.3108930273889173,\n",
            "    \"mean_wQuantileLoss\": 0.2671290337195512,\n",
            "    \"MAE_Coverage\": 0.2045838896306186\n",
            "}\n"
          ],
          "name": "stdout"
        }
      ]
    },
    {
      "cell_type": "code",
      "metadata": {
        "colab_type": "code",
        "id": "GtBIDMrnEkW1",
        "outputId": "091598d3-605a-46d4-d813-1884bd090be2",
        "colab": {
          "base_uri": "https://localhost:8080/",
          "height": 503
        }
      },
      "source": [
        "# Evaluation for only 24H prediction test data \n",
        "forecast_it, ts_it = make_evaluation_predictions(\n",
        "    dataset=test_ds_24, \n",
        "    predictor=DF_predictor, \n",
        "    num_samples=100, \n",
        ")\n",
        "\n",
        "forecasts = list(forecast_it)\n",
        "tss = list(ts_it)\n",
        "\n",
        "evaluator = Evaluator(quantiles=[0.1, 0.5, 0.9])\n",
        "agg_metrics, item_metrics = evaluator(iter(tss), iter(forecasts), num_series=len(test_ds_24))\n",
        "\n",
        "print(json.dumps(agg_metrics, indent=4))"
      ],
      "execution_count": 0,
      "outputs": [
        {
          "output_type": "stream",
          "text": [
            "Running evaluation: 100%|██████████| 321/321 [00:00<00:00, 8676.19it/s]\n"
          ],
          "name": "stderr"
        },
        {
          "output_type": "stream",
          "text": [
            "{\n",
            "    \"MSE\": 11237881.446448408,\n",
            "    \"abs_error\": 4224858.509498596,\n",
            "    \"abs_target_sum\": 17268997.0,\n",
            "    \"abs_target_mean\": 2241.56243509865,\n",
            "    \"seasonal_error\": 189.64815247902152,\n",
            "    \"MASE\": 2.400687726079926,\n",
            "    \"MAPE\": 0.27595824507620137,\n",
            "    \"sMAPE\": 0.2968769958977066,\n",
            "    \"OWA\": NaN,\n",
            "    \"MSIS\": 67.19668753857242,\n",
            "    \"QuantileLoss[0.1]\": 3615421.5741348267,\n",
            "    \"Coverage[0.1]\": 0.2625908618899275,\n",
            "    \"QuantileLoss[0.5]\": 4224858.443302065,\n",
            "    \"Coverage[0.5]\": 0.38798026998961566,\n",
            "    \"QuantileLoss[0.9]\": 4443340.76124382,\n",
            "    \"Coverage[0.9]\": 0.5606178608515056,\n",
            "    \"RMSE\": 3352.2949521855035,\n",
            "    \"NRMSE\": 1.495517099900887,\n",
            "    \"ND\": 0.244649906969038,\n",
            "    \"wQuantileLoss[0.1]\": 0.2093590944589791,\n",
            "    \"wQuantileLoss[0.5]\": 0.24464990313577942,\n",
            "    \"wQuantileLoss[0.9]\": 0.25730161174061356,\n",
            "    \"mean_wQuantileLoss\": 0.23710353644512402,\n",
            "    \"MAE_Coverage\": 0.20466424368293543\n",
            "}\n"
          ],
          "name": "stdout"
        }
      ]
    },
    {
      "cell_type": "code",
      "metadata": {
        "id": "1HI9PXx0mi6C",
        "colab_type": "code",
        "colab": {}
      },
      "source": [
        ""
      ],
      "execution_count": 0,
      "outputs": []
    },
    {
      "cell_type": "markdown",
      "metadata": {
        "colab_type": "text",
        "id": "fy4faTqGUoxS"
      },
      "source": [
        "## exchange_rate"
      ]
    },
    {
      "cell_type": "code",
      "metadata": {
        "colab_type": "code",
        "id": "6JcEADfNUoxT",
        "outputId": "87910788-56ac-49f4-f39d-f6baac1dadab",
        "colab": {
          "base_uri": "https://localhost:8080/",
          "height": 53
        }
      },
      "source": [
        "exchange_rate_dataset = get_dataset(\"exchange_rate\", regenerate=False)"
      ],
      "execution_count": 0,
      "outputs": [
        {
          "output_type": "stream",
          "text": [
            "saving time-series into /root/.mxnet/gluon-ts/datasets/exchange_rate/train/data.json\n",
            "saving time-series into /root/.mxnet/gluon-ts/datasets/exchange_rate/test/data.json\n"
          ],
          "name": "stdout"
        }
      ]
    },
    {
      "cell_type": "code",
      "metadata": {
        "colab_type": "code",
        "outputId": "6d1de0c0-6a64-4f04-f0da-468ebecaa655",
        "id": "kdnQ9-IwUoxV",
        "colab": {
          "base_uri": "https://localhost:8080/",
          "height": 53
        }
      },
      "source": [
        "print (len(exchange_rate_dataset.train))\n",
        "print (len(exchange_rate_dataset.test))"
      ],
      "execution_count": 0,
      "outputs": [
        {
          "output_type": "stream",
          "text": [
            "8\n",
            "40\n"
          ],
          "name": "stdout"
        }
      ]
    },
    {
      "cell_type": "code",
      "metadata": {
        "colab_type": "code",
        "outputId": "462339e3-70dc-485c-8293-f87d27e4dd0c",
        "id": "6zzH8t0ZUoxX",
        "colab": {
          "base_uri": "https://localhost:8080/",
          "height": 35
        }
      },
      "source": [
        "exchange_rate_dataset.metadata"
      ],
      "execution_count": 0,
      "outputs": [
        {
          "output_type": "execute_result",
          "data": {
            "text/plain": [
              "MetaData(freq='1B', target=None, feat_static_cat=[CategoricalFeatureInfo(name='feat_static_cat', cardinality='8')], feat_static_real=[], feat_dynamic_real=[], feat_dynamic_cat=[], prediction_length=30)"
            ]
          },
          "metadata": {
            "tags": []
          },
          "execution_count": 20
        }
      ]
    },
    {
      "cell_type": "code",
      "metadata": {
        "colab_type": "code",
        "outputId": "6f497981-dc13-4eed-fa4b-30f444551749",
        "id": "mlWCjOAxo9B2",
        "colab": {
          "base_uri": "https://localhost:8080/",
          "height": 35
        }
      },
      "source": [
        "exchange_rate_dataset.metadata.feat_static_cat[0]"
      ],
      "execution_count": 0,
      "outputs": [
        {
          "output_type": "execute_result",
          "data": {
            "text/plain": [
              "CategoricalFeatureInfo(name='feat_static_cat', cardinality='8')"
            ]
          },
          "metadata": {
            "tags": []
          },
          "execution_count": 21
        }
      ]
    },
    {
      "cell_type": "code",
      "metadata": {
        "colab_type": "code",
        "id": "lWauZAdio9B8",
        "colab": {}
      },
      "source": [
        "car = [int(exchange_rate_dataset.metadata.feat_static_cat[0].cardinality)]"
      ],
      "execution_count": 0,
      "outputs": []
    },
    {
      "cell_type": "code",
      "metadata": {
        "colab_type": "code",
        "outputId": "2af98869-88c2-4b44-830a-8c67a6a11bba",
        "id": "Evq7k0huUoxn",
        "colab": {
          "base_uri": "https://localhost:8080/",
          "height": 35
        }
      },
      "source": [
        "next(iter(exchange_rate_dataset.train)).keys()"
      ],
      "execution_count": 0,
      "outputs": [
        {
          "output_type": "execute_result",
          "data": {
            "text/plain": [
              "dict_keys(['start', 'target', 'feat_static_cat', 'item_id', 'source'])"
            ]
          },
          "metadata": {
            "tags": []
          },
          "execution_count": 23
        }
      ]
    },
    {
      "cell_type": "code",
      "metadata": {
        "colab_type": "code",
        "id": "kreaWmN4Uoxt",
        "colab": {}
      },
      "source": [
        "# https://gluon-ts.mxnet.io/api/gluonts/gluonts.model.deep_factor.html\n",
        "DF_estimator = DeepFactorEstimator(\n",
        "    freq=exchange_rate_dataset.metadata.freq, # Time series frequency\n",
        "    prediction_length=exchange_rate_dataset.metadata.prediction_length, # Prediction length.\n",
        "    num_hidden_global=50, # (default: 50).\n",
        "    num_layers_global=1, # (default: 1).\n",
        "    num_factors=10, # (default: 10).\n",
        "    num_hidden_local=5, # (default: 5).\n",
        "    num_layers_local=1, # (default: 1).\n",
        "    cell_type='lstm', # (default: ‘lstm’).\n",
        "    trainer = deepfactor_trainer, # (default: Trainer()).\n",
        "    context_length=None, # (default: None, in which case context_length = prediction_length).\n",
        "    num_parallel_samples=100, # (default: 100).\n",
        "    cardinality=car, # (default: list([1]).\n",
        "    embedding_dimension=10, # (default: 10).\n",
        "    distr_output=StudentTOutput(), # (default: StudentTOutput()).\n",
        ")"
      ],
      "execution_count": 0,
      "outputs": []
    },
    {
      "cell_type": "code",
      "metadata": {
        "colab_type": "code",
        "outputId": "da4c3378-3617-4e5b-ebd0-b0710ec94593",
        "id": "oLzqf7kYUoxv",
        "colab": {
          "base_uri": "https://localhost:8080/",
          "height": 1000
        }
      },
      "source": [
        "DF_predictor = DF_estimator.train(exchange_rate_dataset.train)"
      ],
      "execution_count": 0,
      "outputs": [
        {
          "output_type": "stream",
          "text": [
            "learning rate from ``lr_scheduler`` has been overwritten by ``learning_rate`` in optimizer.\n"
          ],
          "name": "stdout"
        },
        {
          "output_type": "stream",
          "text": [
            "100%|██████████| 50/50 [00:03<00:00, 12.62it/s, epoch=1/100, avg_epoch_loss=0.579]\n",
            "100%|██████████| 50/50 [00:03<00:00, 12.92it/s, epoch=2/100, avg_epoch_loss=0.1]\n",
            "100%|██████████| 50/50 [00:03<00:00, 12.89it/s, epoch=3/100, avg_epoch_loss=-.6]\n",
            "100%|██████████| 50/50 [00:03<00:00, 12.86it/s, epoch=4/100, avg_epoch_loss=-1.2]\n",
            "100%|██████████| 50/50 [00:03<00:00, 12.90it/s, epoch=5/100, avg_epoch_loss=-1.68]\n",
            "100%|██████████| 50/50 [00:03<00:00, 12.91it/s, epoch=6/100, avg_epoch_loss=-2.08]\n",
            "100%|██████████| 50/50 [00:03<00:00, 12.96it/s, epoch=7/100, avg_epoch_loss=-2.44]\n",
            "100%|██████████| 50/50 [00:03<00:00, 12.88it/s, epoch=8/100, avg_epoch_loss=-2.78]\n",
            "100%|██████████| 50/50 [00:03<00:00, 12.95it/s, epoch=9/100, avg_epoch_loss=-3.09]\n",
            "100%|██████████| 50/50 [00:03<00:00, 12.95it/s, epoch=10/100, avg_epoch_loss=-3.39]\n",
            "100%|██████████| 50/50 [00:03<00:00, 12.92it/s, epoch=11/100, avg_epoch_loss=-3.66]\n",
            "100%|██████████| 50/50 [00:03<00:00, 13.00it/s, epoch=12/100, avg_epoch_loss=-3.8]\n",
            "100%|██████████| 50/50 [00:03<00:00, 12.96it/s, epoch=13/100, avg_epoch_loss=-3.74]\n",
            "100%|██████████| 50/50 [00:03<00:00, 12.93it/s, epoch=14/100, avg_epoch_loss=-3.91]\n",
            "100%|██████████| 50/50 [00:03<00:00, 12.94it/s, epoch=15/100, avg_epoch_loss=-3.93]\n",
            "100%|██████████| 50/50 [00:03<00:00, 12.93it/s, epoch=16/100, avg_epoch_loss=-3.89]\n",
            "100%|██████████| 50/50 [00:03<00:00, 12.97it/s, epoch=17/100, avg_epoch_loss=-3.99]\n",
            "100%|██████████| 50/50 [00:03<00:00, 12.92it/s, epoch=18/100, avg_epoch_loss=-4.04]\n",
            "100%|██████████| 50/50 [00:03<00:00, 12.91it/s, epoch=19/100, avg_epoch_loss=-4.07]\n",
            "100%|██████████| 50/50 [00:03<00:00, 12.95it/s, epoch=20/100, avg_epoch_loss=-4.1]\n",
            "100%|██████████| 50/50 [00:03<00:00, 12.94it/s, epoch=21/100, avg_epoch_loss=-4.13]\n",
            "100%|██████████| 50/50 [00:03<00:00, 12.94it/s, epoch=22/100, avg_epoch_loss=-4.15]\n",
            "100%|██████████| 50/50 [00:03<00:00, 12.96it/s, epoch=23/100, avg_epoch_loss=-4.18]\n",
            "100%|██████████| 50/50 [00:03<00:00, 12.95it/s, epoch=24/100, avg_epoch_loss=-4.2]\n",
            "100%|██████████| 50/50 [00:03<00:00, 12.89it/s, epoch=25/100, avg_epoch_loss=-4.22]\n",
            "100%|██████████| 50/50 [00:03<00:00, 12.92it/s, epoch=26/100, avg_epoch_loss=-4.25]\n",
            "100%|██████████| 50/50 [00:03<00:00, 12.95it/s, epoch=27/100, avg_epoch_loss=-4.27]\n",
            "100%|██████████| 50/50 [00:03<00:00, 12.98it/s, epoch=28/100, avg_epoch_loss=-4.3]\n",
            "100%|██████████| 50/50 [00:03<00:00, 12.92it/s, epoch=29/100, avg_epoch_loss=-4.33]\n",
            "100%|██████████| 50/50 [00:03<00:00, 12.95it/s, epoch=30/100, avg_epoch_loss=-4.36]\n",
            "100%|██████████| 50/50 [00:03<00:00, 12.91it/s, epoch=31/100, avg_epoch_loss=-4.39]\n",
            "100%|██████████| 50/50 [00:03<00:00, 12.94it/s, epoch=32/100, avg_epoch_loss=-4.43]\n",
            "100%|██████████| 50/50 [00:03<00:00, 12.89it/s, epoch=33/100, avg_epoch_loss=-4.39]\n",
            "100%|██████████| 50/50 [00:03<00:00, 12.90it/s, epoch=34/100, avg_epoch_loss=-4.37]\n",
            "100%|██████████| 50/50 [00:03<00:00, 12.96it/s, epoch=35/100, avg_epoch_loss=-4.46]\n",
            "100%|██████████| 50/50 [00:03<00:00, 12.99it/s, epoch=36/100, avg_epoch_loss=-4.51]\n",
            "100%|██████████| 50/50 [00:03<00:00, 12.93it/s, epoch=37/100, avg_epoch_loss=-4.55]\n",
            "100%|██████████| 50/50 [00:03<00:00, 12.95it/s, epoch=38/100, avg_epoch_loss=-4.58]\n",
            "100%|██████████| 50/50 [00:03<00:00, 12.96it/s, epoch=39/100, avg_epoch_loss=-4.61]\n",
            "100%|██████████| 50/50 [00:03<00:00, 12.89it/s, epoch=40/100, avg_epoch_loss=-4.64]\n",
            "100%|██████████| 50/50 [00:03<00:00, 12.98it/s, epoch=41/100, avg_epoch_loss=-4.65]\n",
            "100%|██████████| 50/50 [00:03<00:00, 12.94it/s, epoch=42/100, avg_epoch_loss=-4.67]\n",
            "100%|██████████| 50/50 [00:03<00:00, 12.92it/s, epoch=43/100, avg_epoch_loss=-4.68]\n",
            "100%|██████████| 50/50 [00:03<00:00, 12.97it/s, epoch=44/100, avg_epoch_loss=-4.7]\n",
            "100%|██████████| 50/50 [00:03<00:00, 12.88it/s, epoch=45/100, avg_epoch_loss=-4.71]\n",
            "100%|██████████| 50/50 [00:03<00:00, 12.94it/s, epoch=46/100, avg_epoch_loss=-4.72]\n",
            "100%|██████████| 50/50 [00:03<00:00, 12.92it/s, epoch=47/100, avg_epoch_loss=-4.74]\n",
            "100%|██████████| 50/50 [00:03<00:00, 12.89it/s, epoch=48/100, avg_epoch_loss=-4.75]\n",
            "100%|██████████| 50/50 [00:03<00:00, 12.93it/s, epoch=49/100, avg_epoch_loss=-4.76]\n",
            "100%|██████████| 50/50 [00:03<00:00, 12.85it/s, epoch=50/100, avg_epoch_loss=-4.77]\n",
            "100%|██████████| 50/50 [00:03<00:00, 12.91it/s, epoch=51/100, avg_epoch_loss=-4.78]\n",
            "100%|██████████| 50/50 [00:03<00:00, 12.94it/s, epoch=52/100, avg_epoch_loss=-4.79]\n",
            "100%|██████████| 50/50 [00:03<00:00, 12.92it/s, epoch=53/100, avg_epoch_loss=-4.8]\n",
            "100%|██████████| 50/50 [00:03<00:00, 12.99it/s, epoch=54/100, avg_epoch_loss=-4.81]\n",
            "100%|██████████| 50/50 [00:03<00:00, 12.88it/s, epoch=55/100, avg_epoch_loss=-4.82]\n",
            "100%|██████████| 50/50 [00:03<00:00, 12.93it/s, epoch=56/100, avg_epoch_loss=-4.82]\n",
            "100%|██████████| 50/50 [00:03<00:00, 12.94it/s, epoch=57/100, avg_epoch_loss=-4.83]\n",
            "100%|██████████| 50/50 [00:03<00:00, 12.96it/s, epoch=58/100, avg_epoch_loss=-4.84]\n",
            "100%|██████████| 50/50 [00:03<00:00, 13.00it/s, epoch=59/100, avg_epoch_loss=-4.84]\n",
            "100%|██████████| 50/50 [00:03<00:00, 12.66it/s, epoch=60/100, avg_epoch_loss=-4.85]\n",
            "100%|██████████| 50/50 [00:03<00:00, 12.67it/s, epoch=61/100, avg_epoch_loss=-4.85]\n",
            "100%|██████████| 50/50 [00:03<00:00, 12.81it/s, epoch=62/100, avg_epoch_loss=-4.86]\n",
            "100%|██████████| 50/50 [00:03<00:00, 12.91it/s, epoch=63/100, avg_epoch_loss=-4.86]\n",
            "100%|██████████| 50/50 [00:03<00:00, 12.95it/s, epoch=64/100, avg_epoch_loss=-4.87]\n",
            "100%|██████████| 50/50 [00:03<00:00, 12.93it/s, epoch=65/100, avg_epoch_loss=-4.87]\n",
            "100%|██████████| 50/50 [00:03<00:00, 12.94it/s, epoch=66/100, avg_epoch_loss=-4.88]\n",
            "100%|██████████| 50/50 [00:03<00:00, 12.95it/s, epoch=67/100, avg_epoch_loss=-4.88]\n",
            "100%|██████████| 50/50 [00:03<00:00, 12.89it/s, epoch=68/100, avg_epoch_loss=-4.88]\n",
            "100%|██████████| 50/50 [00:03<00:00, 12.97it/s, epoch=69/100, avg_epoch_loss=-4.88]\n",
            "100%|██████████| 50/50 [00:03<00:00, 12.93it/s, epoch=70/100, avg_epoch_loss=-4.81]\n",
            "100%|██████████| 50/50 [00:03<00:00, 12.86it/s, epoch=71/100, avg_epoch_loss=-4.79]\n",
            "100%|██████████| 50/50 [00:03<00:00, 12.99it/s, epoch=72/100, avg_epoch_loss=-4.86]\n",
            "100%|██████████| 50/50 [00:03<00:00, 12.94it/s, epoch=73/100, avg_epoch_loss=-4.88]\n",
            "100%|██████████| 50/50 [00:03<00:00, 12.89it/s, epoch=74/100, avg_epoch_loss=-4.87]\n",
            "100%|██████████| 50/50 [00:03<00:00, 12.66it/s, epoch=75/100, avg_epoch_loss=-4.9]\n",
            "100%|██████████| 50/50 [00:03<00:00, 12.90it/s, epoch=76/100, avg_epoch_loss=-4.77]\n",
            "100%|██████████| 50/50 [00:03<00:00, 12.91it/s, epoch=77/100, avg_epoch_loss=-4.81]\n",
            "100%|██████████| 50/50 [00:03<00:00, 12.91it/s, epoch=78/100, avg_epoch_loss=-4.88]\n",
            "100%|██████████| 50/50 [00:03<00:00, 12.94it/s, epoch=79/100, avg_epoch_loss=-4.9]\n",
            "100%|██████████| 50/50 [00:03<00:00, 12.93it/s, epoch=80/100, avg_epoch_loss=-4.89]\n",
            "100%|██████████| 50/50 [00:03<00:00, 12.86it/s, epoch=81/100, avg_epoch_loss=-4.84]\n",
            "100%|██████████| 50/50 [00:03<00:00, 12.96it/s, epoch=82/100, avg_epoch_loss=-4.87]\n",
            "100%|██████████| 50/50 [00:03<00:00, 12.93it/s, epoch=83/100, avg_epoch_loss=-4.91]\n",
            "100%|██████████| 50/50 [00:03<00:00, 12.96it/s, epoch=84/100, avg_epoch_loss=-4.92]\n",
            "100%|██████████| 50/50 [00:03<00:00, 12.92it/s, epoch=85/100, avg_epoch_loss=-4.89]\n",
            "100%|██████████| 50/50 [00:03<00:00, 12.90it/s, epoch=86/100, avg_epoch_loss=-4.82]\n",
            "100%|██████████| 50/50 [00:03<00:00, 12.96it/s, epoch=87/100, avg_epoch_loss=-4.86]\n",
            "100%|██████████| 50/50 [00:03<00:00, 12.94it/s, epoch=88/100, avg_epoch_loss=-4.91]\n",
            "100%|██████████| 50/50 [00:03<00:00, 12.91it/s, epoch=89/100, avg_epoch_loss=-4.85]\n",
            "100%|██████████| 50/50 [00:03<00:00, 12.97it/s, epoch=90/100, avg_epoch_loss=-4.82]\n",
            "100%|██████████| 50/50 [00:03<00:00, 12.94it/s, epoch=91/100, avg_epoch_loss=-4.89]\n",
            "100%|██████████| 50/50 [00:03<00:00, 12.91it/s, epoch=92/100, avg_epoch_loss=-4.91]\n",
            "100%|██████████| 50/50 [00:03<00:00, 12.94it/s, epoch=93/100, avg_epoch_loss=-4.92]\n",
            "100%|██████████| 50/50 [00:03<00:00, 12.90it/s, epoch=94/100, avg_epoch_loss=-4.93]\n",
            "100%|██████████| 50/50 [00:03<00:00, 13.00it/s, epoch=95/100, avg_epoch_loss=-4.93]\n",
            "100%|██████████| 50/50 [00:03<00:00, 12.94it/s, epoch=96/100, avg_epoch_loss=-4.94]\n",
            "100%|██████████| 50/50 [00:03<00:00, 12.96it/s, epoch=97/100, avg_epoch_loss=-4.94]\n",
            "100%|██████████| 50/50 [00:03<00:00, 12.87it/s, epoch=98/100, avg_epoch_loss=-4.94]\n",
            "100%|██████████| 50/50 [00:03<00:00, 12.93it/s, epoch=99/100, avg_epoch_loss=-4.94]\n",
            "100%|██████████| 50/50 [00:04<00:00, 12.43it/s, epoch=100/100, avg_epoch_loss=-4.95]\n"
          ],
          "name": "stderr"
        }
      ]
    },
    {
      "cell_type": "code",
      "metadata": {
        "colab_type": "code",
        "id": "H7vVKhYYUox1",
        "outputId": "06055735-49d6-4c7b-c3e3-53f39f5ab458",
        "colab": {
          "base_uri": "https://localhost:8080/",
          "height": 503
        }
      },
      "source": [
        "forecast_it, ts_it = make_evaluation_predictions(\n",
        "    dataset=exchange_rate_dataset.test, \n",
        "    predictor=DF_predictor, \n",
        "    num_samples=100, \n",
        ")\n",
        "\n",
        "forecasts = list(forecast_it)\n",
        "tss = list(ts_it)\n",
        "\n",
        "evaluator = Evaluator(quantiles=[0.1, 0.5, 0.9])\n",
        "agg_metrics, item_metrics = evaluator(iter(tss), iter(forecasts), num_series=len(exchange_rate_dataset.test))\n",
        "\n",
        "print(json.dumps(agg_metrics, indent=4))"
      ],
      "execution_count": 0,
      "outputs": [
        {
          "output_type": "stream",
          "text": [
            "Running evaluation: 100%|██████████| 40/40 [00:00<00:00, 941.30it/s]\n"
          ],
          "name": "stderr"
        },
        {
          "output_type": "stream",
          "text": [
            "{\n",
            "    \"MSE\": 0.002736776959985339,\n",
            "    \"abs_error\": 45.29600842297077,\n",
            "    \"abs_target_sum\": 975.9766580164433,\n",
            "    \"abs_target_mean\": 0.8133138816803692,\n",
            "    \"seasonal_error\": 0.006515919403041841,\n",
            "    \"MASE\": 74.44956299622991,\n",
            "    \"MAPE\": 0.3323232758775952,\n",
            "    \"sMAPE\": 0.17889929541209057,\n",
            "    \"OWA\": NaN,\n",
            "    \"MSIS\": 2918.558188344827,\n",
            "    \"QuantileLoss[0.1]\": 45.52110567092896,\n",
            "    \"Coverage[0.1]\": 0.5658333333333333,\n",
            "    \"QuantileLoss[0.5]\": 45.296008456498384,\n",
            "    \"Coverage[0.5]\": 0.615,\n",
            "    \"QuantileLoss[0.9]\": 39.17810098715127,\n",
            "    \"Coverage[0.9]\": 0.6541666666666667,\n",
            "    \"RMSE\": 0.05231421374717715,\n",
            "    \"NRMSE\": 0.06432229293700478,\n",
            "    \"ND\": 0.04641095465851564,\n",
            "    \"wQuantileLoss[0.1]\": 0.046641592600631665,\n",
            "    \"wQuantileLoss[0.5]\": 0.046410954692868524,\n",
            "    \"wQuantileLoss[0.9]\": 0.040142456958731074,\n",
            "    \"mean_wQuantileLoss\": 0.04439833475074375,\n",
            "    \"MAE_Coverage\": 0.27555555555555555\n",
            "}\n"
          ],
          "name": "stdout"
        }
      ]
    },
    {
      "cell_type": "code",
      "metadata": {
        "colab_type": "code",
        "id": "XUHZBr5bUox4",
        "colab": {}
      },
      "source": [
        ""
      ],
      "execution_count": 0,
      "outputs": []
    },
    {
      "cell_type": "markdown",
      "metadata": {
        "id": "OjjjZv_uD7L_",
        "colab_type": "text"
      },
      "source": [
        "## m4_daily"
      ]
    },
    {
      "cell_type": "code",
      "metadata": {
        "id": "DpQOqBRpwUSK",
        "colab_type": "code",
        "outputId": "87976b95-6b94-4fe5-e672-d34d5a28bd48",
        "colab": {
          "base_uri": "https://localhost:8080/",
          "height": 53
        }
      },
      "source": [
        "m4_daily_dataset = get_dataset(\"m4_daily\", regenerate=True)"
      ],
      "execution_count": 0,
      "outputs": [
        {
          "output_type": "stream",
          "text": [
            "saving time-series into /root/.mxnet/gluon-ts/datasets/m4_daily/train/data.json\n",
            "saving time-series into /root/.mxnet/gluon-ts/datasets/m4_daily/test/data.json\n"
          ],
          "name": "stdout"
        }
      ]
    },
    {
      "cell_type": "code",
      "metadata": {
        "id": "nDNzNbsqGOZ3",
        "colab_type": "code",
        "outputId": "50ecb305-d066-4b73-ef3f-99a474502af5",
        "colab": {
          "base_uri": "https://localhost:8080/",
          "height": 53
        }
      },
      "source": [
        "print (len(m4_daily_dataset.train))\n",
        "print (len(m4_daily_dataset.test))"
      ],
      "execution_count": 0,
      "outputs": [
        {
          "output_type": "stream",
          "text": [
            "4227\n",
            "4227\n"
          ],
          "name": "stdout"
        }
      ]
    },
    {
      "cell_type": "code",
      "metadata": {
        "id": "rARQuyPqE2E8",
        "colab_type": "code",
        "outputId": "ba517313-7090-40f4-c174-24e44f1e45c5",
        "colab": {
          "base_uri": "https://localhost:8080/",
          "height": 35
        }
      },
      "source": [
        "m4_daily_dataset.metadata"
      ],
      "execution_count": 0,
      "outputs": [
        {
          "output_type": "execute_result",
          "data": {
            "text/plain": [
              "MetaData(freq='D', target=None, feat_static_cat=[CategoricalFeatureInfo(name='feat_static_cat', cardinality='4227')], feat_static_real=[], feat_dynamic_real=[], feat_dynamic_cat=[], prediction_length=14)"
            ]
          },
          "metadata": {
            "tags": []
          },
          "execution_count": 29
        }
      ]
    },
    {
      "cell_type": "code",
      "metadata": {
        "colab_type": "code",
        "outputId": "6c4bc495-b138-454d-d304-77c3437d21f8",
        "id": "u8sgMUqCpR_t",
        "colab": {
          "base_uri": "https://localhost:8080/",
          "height": 35
        }
      },
      "source": [
        "m4_daily_dataset.metadata.feat_static_cat[0]"
      ],
      "execution_count": 0,
      "outputs": [
        {
          "output_type": "execute_result",
          "data": {
            "text/plain": [
              "CategoricalFeatureInfo(name='feat_static_cat', cardinality='4227')"
            ]
          },
          "metadata": {
            "tags": []
          },
          "execution_count": 30
        }
      ]
    },
    {
      "cell_type": "code",
      "metadata": {
        "colab_type": "code",
        "id": "frjgd9iNpR_w",
        "colab": {}
      },
      "source": [
        "car = [int(m4_daily_dataset.metadata.feat_static_cat[0].cardinality)]"
      ],
      "execution_count": 0,
      "outputs": []
    },
    {
      "cell_type": "code",
      "metadata": {
        "id": "ZCwph1C5EoPW",
        "colab_type": "code",
        "outputId": "4f6e9798-d0a3-4be5-d9ad-6a022f08c422",
        "colab": {
          "base_uri": "https://localhost:8080/",
          "height": 35
        }
      },
      "source": [
        "m4_daily_dataset.metadata.feat_static_cat"
      ],
      "execution_count": 0,
      "outputs": [
        {
          "output_type": "execute_result",
          "data": {
            "text/plain": [
              "[CategoricalFeatureInfo(name='feat_static_cat', cardinality='4227')]"
            ]
          },
          "metadata": {
            "tags": []
          },
          "execution_count": 32
        }
      ]
    },
    {
      "cell_type": "code",
      "metadata": {
        "id": "1o9ITiZVFB61",
        "colab_type": "code",
        "outputId": "3acdf4d5-9279-4c79-de5c-2f389753afe8",
        "colab": {
          "base_uri": "https://localhost:8080/",
          "height": 35
        }
      },
      "source": [
        "m4_daily_dataset.metadata.feat_static_cat[0]"
      ],
      "execution_count": 0,
      "outputs": [
        {
          "output_type": "execute_result",
          "data": {
            "text/plain": [
              "CategoricalFeatureInfo(name='feat_static_cat', cardinality='4227')"
            ]
          },
          "metadata": {
            "tags": []
          },
          "execution_count": 33
        }
      ]
    },
    {
      "cell_type": "code",
      "metadata": {
        "id": "f946ZalyEh4c",
        "colab_type": "code",
        "outputId": "4722abd4-aca3-48ff-d584-b5d00fae67c5",
        "colab": {
          "base_uri": "https://localhost:8080/",
          "height": 35
        }
      },
      "source": [
        "next(iter(m4_daily_dataset.train)).keys()"
      ],
      "execution_count": 0,
      "outputs": [
        {
          "output_type": "execute_result",
          "data": {
            "text/plain": [
              "dict_keys(['start', 'target', 'feat_static_cat', 'item_id', 'source'])"
            ]
          },
          "metadata": {
            "tags": []
          },
          "execution_count": 34
        }
      ]
    },
    {
      "cell_type": "code",
      "metadata": {
        "id": "JtP-UGN0EBxc",
        "colab_type": "code",
        "colab": {}
      },
      "source": [
        "# https://gluon-ts.mxnet.io/api/gluonts/gluonts.model.deep_factor.html\n",
        "DF_estimator = DeepFactorEstimator(\n",
        "    freq=m4_daily_dataset.metadata.freq, # Time series frequency\n",
        "    prediction_length=m4_daily_dataset.metadata.prediction_length, # Prediction length.\n",
        "    num_hidden_global=50, # (default: 50).\n",
        "    num_layers_global=1, # (default: 1).\n",
        "    num_factors=10, # (default: 10).\n",
        "    num_hidden_local=5, # (default: 5).\n",
        "    num_layers_local=1, # (default: 1).\n",
        "    cell_type='lstm', # (default: ‘lstm’).\n",
        "    trainer = deepfactor_trainer, # (default: Trainer()).\n",
        "    context_length=None, # (default: None, in which case context_length = prediction_length).\n",
        "    num_parallel_samples=100, # (default: 100).\n",
        "    cardinality=car, # (default: list([1]).\n",
        "    embedding_dimension=10, # (default: 10).\n",
        "    distr_output=StudentTOutput(), # (default: StudentTOutput()).\n",
        ")"
      ],
      "execution_count": 0,
      "outputs": []
    },
    {
      "cell_type": "code",
      "metadata": {
        "id": "cNq_opQMF3sc",
        "colab_type": "code",
        "outputId": "3a771217-f7a8-4857-a1c5-3b407303891f",
        "colab": {
          "base_uri": "https://localhost:8080/",
          "height": 1000
        }
      },
      "source": [
        "DF_predictor = DF_estimator.train(m4_daily_dataset.train)"
      ],
      "execution_count": 0,
      "outputs": [
        {
          "output_type": "stream",
          "text": [
            "\r  0%|          | 0/50 [00:00<?, ?it/s]"
          ],
          "name": "stderr"
        },
        {
          "output_type": "stream",
          "text": [
            "learning rate from ``lr_scheduler`` has been overwritten by ``learning_rate`` in optimizer.\n"
          ],
          "name": "stdout"
        },
        {
          "output_type": "stream",
          "text": [
            "100%|██████████| 50/50 [00:02<00:00, 24.50it/s, epoch=1/100, avg_epoch_loss=6.2e+7]\n",
            "100%|██████████| 50/50 [00:01<00:00, 27.04it/s, epoch=2/100, avg_epoch_loss=4.48e+7]\n",
            "100%|██████████| 50/50 [00:01<00:00, 34.80it/s, epoch=3/100, avg_epoch_loss=2.06e+7]\n",
            "100%|██████████| 50/50 [00:01<00:00, 27.10it/s, epoch=4/100, avg_epoch_loss=1.19e+7]\n",
            "100%|██████████| 50/50 [00:02<00:00, 22.54it/s, epoch=5/100, avg_epoch_loss=9.55e+6]\n",
            "100%|██████████| 50/50 [00:01<00:00, 31.76it/s, epoch=6/100, avg_epoch_loss=3.3e+6]\n",
            "100%|██████████| 50/50 [00:01<00:00, 26.46it/s, epoch=7/100, avg_epoch_loss=3.73e+6]\n",
            "100%|██████████| 50/50 [00:01<00:00, 28.69it/s, epoch=8/100, avg_epoch_loss=2.96e+6]\n",
            "100%|██████████| 50/50 [00:02<00:00, 24.72it/s, epoch=9/100, avg_epoch_loss=2.2e+6]\n",
            "100%|██████████| 50/50 [00:01<00:00, 25.23it/s, epoch=10/100, avg_epoch_loss=2.02e+6]\n",
            "100%|██████████| 50/50 [00:01<00:00, 35.22it/s, epoch=11/100, avg_epoch_loss=1e+6]\n",
            "100%|██████████| 50/50 [00:01<00:00, 26.04it/s, epoch=12/100, avg_epoch_loss=1.09e+6]\n",
            "100%|██████████| 50/50 [00:02<00:00, 23.39it/s, epoch=13/100, avg_epoch_loss=1.08e+6]\n",
            "100%|██████████| 50/50 [00:01<00:00, 29.14it/s, epoch=14/100, avg_epoch_loss=5.54e+5]\n",
            "100%|██████████| 50/50 [00:01<00:00, 26.45it/s, epoch=15/100, avg_epoch_loss=7.2e+5]\n",
            "100%|██████████| 50/50 [00:01<00:00, 29.76it/s, epoch=16/100, avg_epoch_loss=4.73e+5]\n",
            "100%|██████████| 50/50 [00:02<00:00, 24.86it/s, epoch=17/100, avg_epoch_loss=4.19e+5]\n",
            "100%|██████████| 50/50 [00:02<00:00, 23.75it/s, epoch=18/100, avg_epoch_loss=4.55e+5]\n",
            "100%|██████████| 50/50 [00:01<00:00, 34.75it/s, epoch=19/100, avg_epoch_loss=2.35e+5]\n",
            "100%|██████████| 50/50 [00:01<00:00, 26.29it/s, epoch=20/100, avg_epoch_loss=2.78e+5]\n",
            "100%|██████████| 50/50 [00:02<00:00, 24.62it/s, epoch=21/100, avg_epoch_loss=3.14e+5]\n",
            "100%|██████████| 50/50 [00:01<00:00, 27.42it/s, epoch=22/100, avg_epoch_loss=1.98e+5]\n",
            "100%|██████████| 50/50 [00:01<00:00, 26.20it/s, epoch=23/100, avg_epoch_loss=2.39e+5]\n",
            "100%|██████████| 50/50 [00:01<00:00, 31.85it/s, epoch=24/100, avg_epoch_loss=2.01e+5]\n",
            "100%|██████████| 50/50 [00:02<00:00, 24.99it/s, epoch=25/100, avg_epoch_loss=1.77e+5]\n",
            "100%|██████████| 50/50 [00:02<00:00, 22.68it/s, epoch=26/100, avg_epoch_loss=2.53e+5]\n",
            "100%|██████████| 50/50 [00:01<00:00, 34.40it/s, epoch=27/100, avg_epoch_loss=1.35e+5]\n",
            "100%|██████████| 50/50 [00:01<00:00, 25.98it/s, epoch=28/100, avg_epoch_loss=1.49e+5]\n",
            "100%|██████████| 50/50 [00:01<00:00, 25.77it/s, epoch=29/100, avg_epoch_loss=1.66e+5]\n",
            "100%|██████████| 50/50 [00:01<00:00, 25.89it/s, epoch=30/100, avg_epoch_loss=1.53e+5]\n",
            "100%|██████████| 50/50 [00:01<00:00, 26.02it/s, epoch=31/100, avg_epoch_loss=1.19e+5]\n",
            "100%|██████████| 50/50 [00:01<00:00, 32.47it/s, epoch=32/100, avg_epoch_loss=1.07e+5]\n",
            "100%|██████████| 50/50 [00:02<00:00, 24.56it/s, epoch=33/100, avg_epoch_loss=3.03e+5]\n",
            "100%|██████████| 50/50 [00:02<00:00, 21.88it/s, epoch=34/100, avg_epoch_loss=1.39e+5]\n",
            "100%|██████████| 50/50 [00:01<00:00, 31.84it/s, epoch=35/100, avg_epoch_loss=8.37e+4]\n",
            "100%|██████████| 50/50 [00:01<00:00, 25.58it/s, epoch=36/100, avg_epoch_loss=1.77e+5]\n",
            "100%|██████████| 50/50 [00:01<00:00, 26.45it/s, epoch=37/100, avg_epoch_loss=1.27e+5]\n",
            "100%|██████████| 50/50 [00:02<00:00, 24.61it/s, epoch=38/100, avg_epoch_loss=1.48e+5]\n",
            "100%|██████████| 50/50 [00:01<00:00, 26.11it/s, epoch=39/100, avg_epoch_loss=1.14e+5]\n",
            "100%|██████████| 50/50 [00:01<00:00, 33.85it/s, epoch=40/100, avg_epoch_loss=7.93e+4]\n",
            "100%|██████████| 50/50 [00:01<00:00, 26.24it/s, epoch=41/100, avg_epoch_loss=1.05e+5]\n",
            "100%|██████████| 50/50 [00:02<00:00, 22.64it/s, epoch=42/100, avg_epoch_loss=2.12e+5]\n",
            "100%|██████████| 50/50 [00:01<00:00, 30.64it/s, epoch=43/100, avg_epoch_loss=1e+5]\n",
            "100%|██████████| 50/50 [00:01<00:00, 26.13it/s, epoch=44/100, avg_epoch_loss=2.71e+5]\n",
            "100%|██████████| 50/50 [00:01<00:00, 28.82it/s, epoch=45/100, avg_epoch_loss=1e+5]\n",
            "100%|██████████| 50/50 [00:02<00:00, 24.82it/s, epoch=46/100, avg_epoch_loss=6.67e+4]\n",
            "100%|██████████| 50/50 [00:02<00:00, 24.77it/s, epoch=47/100, avg_epoch_loss=2.78e+5]\n",
            "100%|██████████| 50/50 [00:01<00:00, 34.75it/s, epoch=48/100, avg_epoch_loss=6.12e+4]\n",
            "100%|██████████| 50/50 [00:01<00:00, 26.02it/s, epoch=49/100, avg_epoch_loss=6.75e+4]\n",
            "100%|██████████| 50/50 [00:02<00:00, 23.36it/s, epoch=50/100, avg_epoch_loss=1.79e+5]\n",
            "100%|██████████| 50/50 [00:01<00:00, 28.78it/s, epoch=51/100, avg_epoch_loss=8.63e+4]\n",
            "100%|██████████| 50/50 [00:01<00:00, 26.34it/s, epoch=52/100, avg_epoch_loss=5.52e+4]\n",
            "100%|██████████| 50/50 [00:01<00:00, 30.52it/s, epoch=53/100, avg_epoch_loss=1.75e+5]\n",
            "100%|██████████| 50/50 [00:02<00:00, 24.98it/s, epoch=54/100, avg_epoch_loss=9.44e+4]\n",
            "100%|██████████| 50/50 [00:02<00:00, 23.40it/s, epoch=55/100, avg_epoch_loss=1.12e+5]\n",
            "100%|██████████| 50/50 [00:01<00:00, 34.68it/s, epoch=56/100, avg_epoch_loss=1.15e+5]\n",
            "100%|██████████| 50/50 [00:01<00:00, 26.23it/s, epoch=57/100, avg_epoch_loss=9.06e+4]\n",
            "100%|██████████| 50/50 [00:02<00:00, 24.99it/s, epoch=58/100, avg_epoch_loss=6.73e+4]\n",
            "100%|██████████| 50/50 [00:01<00:00, 27.24it/s, epoch=59/100, avg_epoch_loss=7.92e+4]\n",
            "100%|██████████| 50/50 [00:01<00:00, 25.57it/s, epoch=60/100, avg_epoch_loss=4.68e+4]\n",
            "100%|██████████| 50/50 [00:01<00:00, 31.40it/s, epoch=61/100, avg_epoch_loss=5.96e+4]\n",
            "100%|██████████| 50/50 [00:02<00:00, 24.33it/s, epoch=62/100, avg_epoch_loss=1.77e+5]\n",
            "100%|██████████| 50/50 [00:02<00:00, 22.31it/s, epoch=63/100, avg_epoch_loss=4.12e+4]\n",
            "100%|██████████| 50/50 [00:01<00:00, 33.80it/s, epoch=64/100, avg_epoch_loss=5.32e+4]\n",
            "100%|██████████| 50/50 [00:01<00:00, 26.40it/s, epoch=65/100, avg_epoch_loss=5.93e+4]\n",
            "100%|██████████| 50/50 [00:01<00:00, 26.28it/s, epoch=66/100, avg_epoch_loss=2.91e+4]\n",
            "100%|██████████| 50/50 [00:01<00:00, 25.83it/s, epoch=67/100, avg_epoch_loss=6.96e+4]\n",
            "100%|██████████| 50/50 [00:01<00:00, 26.27it/s, epoch=68/100, avg_epoch_loss=2.35e+5]\n",
            "100%|██████████| 50/50 [00:01<00:00, 33.11it/s, epoch=69/100, avg_epoch_loss=2.18e+4]\n",
            "100%|██████████| 50/50 [00:01<00:00, 25.37it/s, epoch=70/100, avg_epoch_loss=9.65e+4]\n",
            "100%|██████████| 50/50 [00:02<00:00, 22.37it/s, epoch=71/100, avg_epoch_loss=1.98e+5]\n",
            "100%|██████████| 50/50 [00:01<00:00, 33.01it/s, epoch=72/100, avg_epoch_loss=3.2e+4]\n",
            "100%|██████████| 50/50 [00:01<00:00, 26.32it/s, epoch=73/100, avg_epoch_loss=3.81e+4]\n",
            "100%|██████████| 50/50 [00:01<00:00, 27.29it/s, epoch=74/100, avg_epoch_loss=7.36e+4]\n",
            "100%|██████████| 50/50 [00:02<00:00, 24.72it/s, epoch=75/100, avg_epoch_loss=6.19e+4]\n",
            "100%|██████████| 50/50 [00:01<00:00, 25.91it/s, epoch=76/100, avg_epoch_loss=7.97e+4]\n",
            "100%|██████████| 50/50 [00:01<00:00, 34.34it/s, epoch=77/100, avg_epoch_loss=1.17e+5]\n",
            "100%|██████████| 50/50 [00:01<00:00, 26.29it/s, epoch=78/100, avg_epoch_loss=4.05e+4]\n",
            "100%|██████████| 50/50 [00:02<00:00, 22.38it/s, epoch=79/100, avg_epoch_loss=1.27e+5]\n",
            "100%|██████████| 50/50 [00:01<00:00, 30.64it/s, epoch=80/100, avg_epoch_loss=1.49e+5]\n",
            "100%|██████████| 50/50 [00:01<00:00, 26.11it/s, epoch=81/100, avg_epoch_loss=6.68e+4]\n",
            "100%|██████████| 50/50 [00:01<00:00, 28.70it/s, epoch=82/100, avg_epoch_loss=4.4e+4]\n",
            "100%|██████████| 50/50 [00:02<00:00, 24.83it/s, epoch=83/100, avg_epoch_loss=5.32e+4]\n",
            "100%|██████████| 50/50 [00:02<00:00, 24.40it/s, epoch=84/100, avg_epoch_loss=3.19e+4]\n",
            "100%|██████████| 50/50 [00:01<00:00, 34.72it/s, epoch=85/100, avg_epoch_loss=1.16e+4]\n",
            "100%|██████████| 50/50 [00:01<00:00, 26.26it/s, epoch=86/100, avg_epoch_loss=2.99e+4]\n",
            "100%|██████████| 50/50 [00:02<00:00, 23.68it/s, epoch=87/100, avg_epoch_loss=5.04e+4]\n",
            "100%|██████████| 50/50 [00:01<00:00, 28.43it/s, epoch=88/100, avg_epoch_loss=2.31e+4]\n",
            "100%|██████████| 50/50 [00:01<00:00, 26.50it/s, epoch=89/100, avg_epoch_loss=2.38e+4]\n",
            "100%|██████████| 50/50 [00:01<00:00, 30.73it/s, epoch=90/100, avg_epoch_loss=1.19e+4]\n",
            "100%|██████████| 50/50 [00:01<00:00, 25.04it/s, epoch=91/100, avg_epoch_loss=2.61e+4]\n",
            "100%|██████████| 50/50 [00:02<00:00, 23.22it/s, epoch=92/100, avg_epoch_loss=2.03e+4]\n",
            "100%|██████████| 50/50 [00:01<00:00, 34.75it/s, epoch=93/100, avg_epoch_loss=2.03e+4]\n",
            "100%|██████████| 50/50 [00:01<00:00, 26.26it/s, epoch=94/100, avg_epoch_loss=6.47e+4]\n",
            "100%|██████████| 50/50 [00:01<00:00, 25.08it/s, epoch=95/100, avg_epoch_loss=1.57e+4]\n",
            "100%|██████████| 50/50 [00:01<00:00, 27.01it/s, epoch=96/100, avg_epoch_loss=3.91e+4]\n",
            "100%|██████████| 50/50 [00:01<00:00, 26.01it/s, epoch=97/100, avg_epoch_loss=3.83e+4]\n",
            "100%|██████████| 50/50 [00:01<00:00, 32.49it/s, epoch=98/100, avg_epoch_loss=3.28e+4]\n",
            "100%|██████████| 50/50 [00:01<00:00, 25.03it/s, epoch=99/100, avg_epoch_loss=2.12e+4]\n",
            "100%|██████████| 50/50 [00:02<00:00, 22.25it/s, epoch=100/100, avg_epoch_loss=1.88e+4]\n"
          ],
          "name": "stderr"
        }
      ]
    },
    {
      "cell_type": "code",
      "metadata": {
        "id": "xWBEgxcqGCMH",
        "colab_type": "code",
        "outputId": "e1ec67c5-8eab-4087-9307-fd6aa0fd3633",
        "colab": {
          "base_uri": "https://localhost:8080/",
          "height": 503
        }
      },
      "source": [
        "forecast_it, ts_it = make_evaluation_predictions(\n",
        "    dataset=m4_daily_dataset.test, \n",
        "    predictor=DF_predictor, \n",
        "    num_samples=100, \n",
        ")\n",
        "\n",
        "forecasts = list(forecast_it)\n",
        "tss = list(ts_it)\n",
        "\n",
        "evaluator = Evaluator(quantiles=[0.1, 0.5, 0.9])\n",
        "agg_metrics, item_metrics = evaluator(iter(tss), iter(forecasts), num_series=len(m4_daily_dataset.test))\n",
        "\n",
        "print(json.dumps(agg_metrics, indent=4))"
      ],
      "execution_count": 0,
      "outputs": [
        {
          "output_type": "stream",
          "text": [
            "Running evaluation: 100%|██████████| 4227/4227 [00:00<00:00, 84946.35it/s]\n"
          ],
          "name": "stderr"
        },
        {
          "output_type": "stream",
          "text": [
            "{\n",
            "    \"MSE\": 1148196273.5156221,\n",
            "    \"abs_error\": 1059233491.6230774,\n",
            "    \"abs_target_sum\": 383097653.5168457,\n",
            "    \"abs_target_mean\": 6473.649895515986,\n",
            "    \"seasonal_error\": 52.78075560259988,\n",
            "    \"MASE\": 312.1557271938038,\n",
            "    \"MAPE\": 2.411727807274379,\n",
            "    \"sMAPE\": 0.8847168145180249,\n",
            "    \"OWA\": NaN,\n",
            "    \"MSIS\": 12439.9404255331,\n",
            "    \"QuantileLoss[0.1]\": 1899205754.2938597,\n",
            "    \"Coverage[0.1]\": 0.9360742167697453,\n",
            "    \"QuantileLoss[0.5]\": 1059233493.0277863,\n",
            "    \"Coverage[0.5]\": 0.9404508432187636,\n",
            "    \"QuantileLoss[0.9]\": 216400867.7806152,\n",
            "    \"Coverage[0.9]\": 0.9436952921693873,\n",
            "    \"RMSE\": 33885.0449832315,\n",
            "    \"NRMSE\": 5.234302986743566,\n",
            "    \"ND\": 2.764917722411736,\n",
            "    \"wQuantileLoss[0.1]\": 4.95749774726915,\n",
            "    \"wQuantileLoss[0.5]\": 2.764917726078448,\n",
            "    \"wQuantileLoss[0.9]\": 0.5648712953317516,\n",
            "    \"mean_wQuantileLoss\": 2.7624289228931165,\n",
            "    \"MAE_Coverage\": 0.4400734507192987\n",
            "}\n"
          ],
          "name": "stdout"
        }
      ]
    },
    {
      "cell_type": "code",
      "metadata": {
        "id": "c3VyPD7vGh6w",
        "colab_type": "code",
        "colab": {}
      },
      "source": [
        ""
      ],
      "execution_count": 0,
      "outputs": []
    },
    {
      "cell_type": "markdown",
      "metadata": {
        "colab_type": "text",
        "id": "OWJ9jeRZO9GB"
      },
      "source": [
        "## m4_hourly"
      ]
    },
    {
      "cell_type": "code",
      "metadata": {
        "colab_type": "code",
        "id": "ZK99kK7fO9GE",
        "outputId": "f2e906a1-d79c-474d-b9c2-b7a8005c7a07",
        "colab": {
          "base_uri": "https://localhost:8080/",
          "height": 53
        }
      },
      "source": [
        "m4_hourly_dataset = get_dataset(\"m4_hourly\", regenerate=False)"
      ],
      "execution_count": 0,
      "outputs": [
        {
          "output_type": "stream",
          "text": [
            "saving time-series into /root/.mxnet/gluon-ts/datasets/m4_hourly/train/data.json\n",
            "saving time-series into /root/.mxnet/gluon-ts/datasets/m4_hourly/test/data.json\n"
          ],
          "name": "stdout"
        }
      ]
    },
    {
      "cell_type": "code",
      "metadata": {
        "colab_type": "code",
        "outputId": "24f75116-e581-4c39-cf05-ebe59f3c2af6",
        "id": "tURfQTqXO9GJ",
        "colab": {
          "base_uri": "https://localhost:8080/",
          "height": 53
        }
      },
      "source": [
        "print (len(m4_hourly_dataset.train))\n",
        "print (len(m4_hourly_dataset.test))"
      ],
      "execution_count": 0,
      "outputs": [
        {
          "output_type": "stream",
          "text": [
            "414\n",
            "414\n"
          ],
          "name": "stdout"
        }
      ]
    },
    {
      "cell_type": "code",
      "metadata": {
        "colab_type": "code",
        "outputId": "224974f1-ba3a-4204-d0ce-ff169a6a4fe3",
        "id": "aowwnwLcO9GM",
        "colab": {
          "base_uri": "https://localhost:8080/",
          "height": 35
        }
      },
      "source": [
        "m4_hourly_dataset.metadata"
      ],
      "execution_count": 0,
      "outputs": [
        {
          "output_type": "execute_result",
          "data": {
            "text/plain": [
              "MetaData(freq='H', target=None, feat_static_cat=[CategoricalFeatureInfo(name='feat_static_cat', cardinality='414')], feat_static_real=[], feat_dynamic_real=[], feat_dynamic_cat=[], prediction_length=48)"
            ]
          },
          "metadata": {
            "tags": []
          },
          "execution_count": 40
        }
      ]
    },
    {
      "cell_type": "code",
      "metadata": {
        "colab_type": "code",
        "outputId": "cf5418da-d76b-4425-f6b4-672e5d659eb3",
        "id": "WGlNMgykpmSF",
        "colab": {
          "base_uri": "https://localhost:8080/",
          "height": 35
        }
      },
      "source": [
        "m4_hourly_dataset.metadata.feat_static_cat[0]"
      ],
      "execution_count": 0,
      "outputs": [
        {
          "output_type": "execute_result",
          "data": {
            "text/plain": [
              "CategoricalFeatureInfo(name='feat_static_cat', cardinality='414')"
            ]
          },
          "metadata": {
            "tags": []
          },
          "execution_count": 41
        }
      ]
    },
    {
      "cell_type": "code",
      "metadata": {
        "colab_type": "code",
        "id": "n8xjempNpmSJ",
        "colab": {}
      },
      "source": [
        "car = [int(m4_hourly_dataset.metadata.feat_static_cat[0].cardinality)]"
      ],
      "execution_count": 0,
      "outputs": []
    },
    {
      "cell_type": "code",
      "metadata": {
        "colab_type": "code",
        "outputId": "c03d1ed6-3f87-47a0-e93c-c32cfafba253",
        "id": "XJesCFZ8O9GX",
        "colab": {
          "base_uri": "https://localhost:8080/",
          "height": 35
        }
      },
      "source": [
        "next(iter(m4_hourly_dataset.train)).keys()"
      ],
      "execution_count": 0,
      "outputs": [
        {
          "output_type": "execute_result",
          "data": {
            "text/plain": [
              "dict_keys(['start', 'target', 'feat_static_cat', 'item_id', 'source'])"
            ]
          },
          "metadata": {
            "tags": []
          },
          "execution_count": 43
        }
      ]
    },
    {
      "cell_type": "code",
      "metadata": {
        "colab_type": "code",
        "id": "PD0vtfP8O9Gb",
        "colab": {}
      },
      "source": [
        "# https://gluon-ts.mxnet.io/api/gluonts/gluonts.model.deep_factor.html\n",
        "DF_estimator = DeepFactorEstimator(\n",
        "    freq=m4_hourly_dataset.metadata.freq, # Time series frequency\n",
        "    prediction_length=m4_hourly_dataset.metadata.prediction_length, # Prediction length.\n",
        "    num_hidden_global=50, # (default: 50).\n",
        "    num_layers_global=1, # (default: 1).\n",
        "    num_factors=10, # (default: 10).\n",
        "    num_hidden_local=5, # (default: 5).\n",
        "    num_layers_local=1, # (default: 1).\n",
        "    cell_type='lstm', # (default: ‘lstm’).\n",
        "    trainer = deepfactor_trainer, # (default: Trainer()).\n",
        "    context_length=None, # (default: None, in which case context_length = prediction_length).\n",
        "    num_parallel_samples=100, # (default: 100).\n",
        "    cardinality=car, # (default: list([1]).\n",
        "    embedding_dimension=10, # (default: 10).\n",
        "    distr_output=StudentTOutput(), # (default: StudentTOutput()).\n",
        ")"
      ],
      "execution_count": 0,
      "outputs": []
    },
    {
      "cell_type": "code",
      "metadata": {
        "colab_type": "code",
        "outputId": "c642859d-f860-4896-b15d-671f1acdabf6",
        "id": "Qf3ZGOpPO9Gf",
        "colab": {
          "base_uri": "https://localhost:8080/",
          "height": 1000
        }
      },
      "source": [
        "DF_predictor = DF_estimator.train(m4_hourly_dataset.train)"
      ],
      "execution_count": 0,
      "outputs": [
        {
          "output_type": "stream",
          "text": [
            "\r  0%|          | 0/50 [00:00<?, ?it/s]"
          ],
          "name": "stderr"
        },
        {
          "output_type": "stream",
          "text": [
            "learning rate from ``lr_scheduler`` has been overwritten by ``learning_rate`` in optimizer.\n"
          ],
          "name": "stdout"
        },
        {
          "output_type": "stream",
          "text": [
            "100%|██████████| 50/50 [00:02<00:00, 24.02it/s, epoch=1/100, avg_epoch_loss=1.83e+9]\n",
            "100%|██████████| 50/50 [00:02<00:00, 22.60it/s, epoch=2/100, avg_epoch_loss=1.42e+9]\n",
            "100%|██████████| 50/50 [00:02<00:00, 21.75it/s, epoch=3/100, avg_epoch_loss=9.74e+8]\n",
            "100%|██████████| 50/50 [00:02<00:00, 22.36it/s, epoch=4/100, avg_epoch_loss=5.29e+8]\n",
            "100%|██████████| 50/50 [00:02<00:00, 22.62it/s, epoch=5/100, avg_epoch_loss=2.56e+8]\n",
            "100%|██████████| 50/50 [00:02<00:00, 22.64it/s, epoch=6/100, avg_epoch_loss=1.24e+8]\n",
            "100%|██████████| 50/50 [00:02<00:00, 22.80it/s, epoch=7/100, avg_epoch_loss=7.81e+7]\n",
            "100%|██████████| 50/50 [00:02<00:00, 22.86it/s, epoch=8/100, avg_epoch_loss=4.93e+7]\n",
            "100%|██████████| 50/50 [00:02<00:00, 23.00it/s, epoch=9/100, avg_epoch_loss=3.45e+7]\n",
            "100%|██████████| 50/50 [00:02<00:00, 22.83it/s, epoch=10/100, avg_epoch_loss=2.17e+7]\n",
            "100%|██████████| 50/50 [00:02<00:00, 22.87it/s, epoch=11/100, avg_epoch_loss=1.06e+7]\n",
            "100%|██████████| 50/50 [00:02<00:00, 23.12it/s, epoch=12/100, avg_epoch_loss=6.31e+6]\n",
            "100%|██████████| 50/50 [00:02<00:00, 22.96it/s, epoch=13/100, avg_epoch_loss=4.79e+6]\n",
            "100%|██████████| 50/50 [00:02<00:00, 22.89it/s, epoch=14/100, avg_epoch_loss=4.46e+6]\n",
            "100%|██████████| 50/50 [00:02<00:00, 22.57it/s, epoch=15/100, avg_epoch_loss=4.16e+6]\n",
            "100%|██████████| 50/50 [00:02<00:00, 23.12it/s, epoch=16/100, avg_epoch_loss=3.59e+6]\n",
            "100%|██████████| 50/50 [00:02<00:00, 23.04it/s, epoch=17/100, avg_epoch_loss=2.96e+6]\n",
            "100%|██████████| 50/50 [00:02<00:00, 23.15it/s, epoch=18/100, avg_epoch_loss=3.39e+6]\n",
            "100%|██████████| 50/50 [00:02<00:00, 23.07it/s, epoch=19/100, avg_epoch_loss=2.53e+6]\n",
            "100%|██████████| 50/50 [00:02<00:00, 23.05it/s, epoch=20/100, avg_epoch_loss=2.64e+6]\n",
            "100%|██████████| 50/50 [00:02<00:00, 23.10it/s, epoch=21/100, avg_epoch_loss=2.17e+6]\n",
            "100%|██████████| 50/50 [00:02<00:00, 23.17it/s, epoch=22/100, avg_epoch_loss=1.81e+6]\n",
            "100%|██████████| 50/50 [00:02<00:00, 23.27it/s, epoch=23/100, avg_epoch_loss=2.85e+6]\n",
            "100%|██████████| 50/50 [00:02<00:00, 23.16it/s, epoch=24/100, avg_epoch_loss=1.46e+6]\n",
            "100%|██████████| 50/50 [00:02<00:00, 23.25it/s, epoch=25/100, avg_epoch_loss=1.68e+6]\n",
            "100%|██████████| 50/50 [00:02<00:00, 23.12it/s, epoch=26/100, avg_epoch_loss=2.47e+6]\n",
            "100%|██████████| 50/50 [00:02<00:00, 23.13it/s, epoch=27/100, avg_epoch_loss=2.23e+6]\n",
            "100%|██████████| 50/50 [00:02<00:00, 23.19it/s, epoch=28/100, avg_epoch_loss=1.35e+6]\n",
            "100%|██████████| 50/50 [00:02<00:00, 23.09it/s, epoch=29/100, avg_epoch_loss=1.24e+6]\n",
            "100%|██████████| 50/50 [00:02<00:00, 23.22it/s, epoch=30/100, avg_epoch_loss=1.17e+6]\n",
            "100%|██████████| 50/50 [00:02<00:00, 23.29it/s, epoch=31/100, avg_epoch_loss=1.26e+6]\n",
            "100%|██████████| 50/50 [00:02<00:00, 23.05it/s, epoch=32/100, avg_epoch_loss=1.58e+6]\n",
            "100%|██████████| 50/50 [00:02<00:00, 23.12it/s, epoch=33/100, avg_epoch_loss=9.37e+5]\n",
            "100%|██████████| 50/50 [00:02<00:00, 22.89it/s, epoch=34/100, avg_epoch_loss=7.74e+5]\n",
            "100%|██████████| 50/50 [00:02<00:00, 23.21it/s, epoch=35/100, avg_epoch_loss=1.12e+6]\n",
            "100%|██████████| 50/50 [00:02<00:00, 23.09it/s, epoch=36/100, avg_epoch_loss=7.5e+5]\n",
            "100%|██████████| 50/50 [00:02<00:00, 23.15it/s, epoch=37/100, avg_epoch_loss=1.29e+6]\n",
            "100%|██████████| 50/50 [00:02<00:00, 23.16it/s, epoch=38/100, avg_epoch_loss=7.52e+5]\n",
            "100%|██████████| 50/50 [00:02<00:00, 22.98it/s, epoch=39/100, avg_epoch_loss=9.5e+5]\n",
            "100%|██████████| 50/50 [00:02<00:00, 23.23it/s, epoch=40/100, avg_epoch_loss=7.91e+5]\n",
            "100%|██████████| 50/50 [00:02<00:00, 23.31it/s, epoch=41/100, avg_epoch_loss=1.26e+6]\n",
            "100%|██████████| 50/50 [00:02<00:00, 23.13it/s, epoch=42/100, avg_epoch_loss=1.53e+6]\n",
            "100%|██████████| 50/50 [00:02<00:00, 23.12it/s, epoch=43/100, avg_epoch_loss=6.02e+5]\n",
            "100%|██████████| 50/50 [00:02<00:00, 23.14it/s, epoch=44/100, avg_epoch_loss=7.21e+5]\n",
            "100%|██████████| 50/50 [00:02<00:00, 23.30it/s, epoch=45/100, avg_epoch_loss=6.57e+5]\n",
            "100%|██████████| 50/50 [00:02<00:00, 23.08it/s, epoch=46/100, avg_epoch_loss=1.31e+6]\n",
            "100%|██████████| 50/50 [00:02<00:00, 23.13it/s, epoch=47/100, avg_epoch_loss=1.81e+6]\n",
            "100%|██████████| 50/50 [00:02<00:00, 23.04it/s, epoch=48/100, avg_epoch_loss=1.09e+6]\n",
            "100%|██████████| 50/50 [00:02<00:00, 23.34it/s, epoch=49/100, avg_epoch_loss=6.72e+5]\n",
            "100%|██████████| 50/50 [00:02<00:00, 23.05it/s, epoch=50/100, avg_epoch_loss=4.56e+5]\n",
            "100%|██████████| 50/50 [00:02<00:00, 23.11it/s, epoch=51/100, avg_epoch_loss=4.76e+5]\n",
            "100%|██████████| 50/50 [00:02<00:00, 23.17it/s, epoch=52/100, avg_epoch_loss=1.29e+6]\n",
            "100%|██████████| 50/50 [00:02<00:00, 23.14it/s, epoch=53/100, avg_epoch_loss=1.5e+6]\n",
            "100%|██████████| 50/50 [00:02<00:00, 23.12it/s, epoch=54/100, avg_epoch_loss=1.59e+6]\n",
            "100%|██████████| 50/50 [00:02<00:00, 23.16it/s, epoch=55/100, avg_epoch_loss=1.77e+6]\n",
            "100%|██████████| 50/50 [00:02<00:00, 23.25it/s, epoch=56/100, avg_epoch_loss=1.51e+6]\n",
            "100%|██████████| 50/50 [00:02<00:00, 23.11it/s, epoch=57/100, avg_epoch_loss=1.13e+6]\n",
            "100%|██████████| 50/50 [00:02<00:00, 23.21it/s, epoch=58/100, avg_epoch_loss=1.56e+6]\n",
            "100%|██████████| 50/50 [00:02<00:00, 23.22it/s, epoch=59/100, avg_epoch_loss=1.18e+6]\n",
            "100%|██████████| 50/50 [00:02<00:00, 23.16it/s, epoch=60/100, avg_epoch_loss=1.69e+6]\n",
            "100%|██████████| 50/50 [00:02<00:00, 22.99it/s, epoch=61/100, avg_epoch_loss=4.07e+5]\n",
            "100%|██████████| 50/50 [00:02<00:00, 22.98it/s, epoch=62/100, avg_epoch_loss=4.5e+5]\n",
            "100%|██████████| 50/50 [00:02<00:00, 23.22it/s, epoch=63/100, avg_epoch_loss=5.79e+5]\n",
            "100%|██████████| 50/50 [00:02<00:00, 23.12it/s, epoch=64/100, avg_epoch_loss=4.33e+5]\n",
            "100%|██████████| 50/50 [00:02<00:00, 22.89it/s, epoch=65/100, avg_epoch_loss=2.95e+5]\n",
            "100%|██████████| 50/50 [00:02<00:00, 22.64it/s, epoch=66/100, avg_epoch_loss=3.2e+5]\n",
            "100%|██████████| 50/50 [00:02<00:00, 22.62it/s, epoch=67/100, avg_epoch_loss=4.2e+5]\n",
            "100%|██████████| 50/50 [00:02<00:00, 22.71it/s, epoch=68/100, avg_epoch_loss=5.84e+5]\n",
            "100%|██████████| 50/50 [00:02<00:00, 22.62it/s, epoch=69/100, avg_epoch_loss=5.72e+5]\n",
            "100%|██████████| 50/50 [00:02<00:00, 23.11it/s, epoch=70/100, avg_epoch_loss=6.29e+5]\n",
            "100%|██████████| 50/50 [00:02<00:00, 23.21it/s, epoch=71/100, avg_epoch_loss=6.32e+5]\n",
            "100%|██████████| 50/50 [00:02<00:00, 23.13it/s, epoch=72/100, avg_epoch_loss=5.8e+5]\n",
            "100%|██████████| 50/50 [00:02<00:00, 23.07it/s, epoch=73/100, avg_epoch_loss=5.3e+5]\n",
            "100%|██████████| 50/50 [00:02<00:00, 23.29it/s, epoch=74/100, avg_epoch_loss=5.99e+5]\n",
            "100%|██████████| 50/50 [00:02<00:00, 23.02it/s, epoch=75/100, avg_epoch_loss=6.96e+5]\n",
            "100%|██████████| 50/50 [00:02<00:00, 23.14it/s, epoch=76/100, avg_epoch_loss=3.53e+5]\n",
            "100%|██████████| 50/50 [00:02<00:00, 23.21it/s, epoch=77/100, avg_epoch_loss=3.39e+5]\n",
            "100%|██████████| 50/50 [00:02<00:00, 23.17it/s, epoch=78/100, avg_epoch_loss=3.42e+5]\n",
            "100%|██████████| 50/50 [00:02<00:00, 23.09it/s, epoch=79/100, avg_epoch_loss=3.47e+5]\n",
            "100%|██████████| 50/50 [00:02<00:00, 23.13it/s, epoch=80/100, avg_epoch_loss=2.94e+5]\n",
            "100%|██████████| 50/50 [00:02<00:00, 23.31it/s, epoch=81/100, avg_epoch_loss=2.65e+5]\n",
            "100%|██████████| 50/50 [00:02<00:00, 23.18it/s, epoch=82/100, avg_epoch_loss=3.2e+5]\n",
            "100%|██████████| 50/50 [00:02<00:00, 23.29it/s, epoch=83/100, avg_epoch_loss=3.32e+5]\n",
            "100%|██████████| 50/50 [00:02<00:00, 23.17it/s, epoch=84/100, avg_epoch_loss=3.3e+5]\n",
            "100%|██████████| 50/50 [00:02<00:00, 23.24it/s, epoch=85/100, avg_epoch_loss=3.05e+5]\n",
            "100%|██████████| 50/50 [00:02<00:00, 23.07it/s, epoch=86/100, avg_epoch_loss=3.08e+5]\n",
            "100%|██████████| 50/50 [00:02<00:00, 22.76it/s, epoch=87/100, avg_epoch_loss=2.88e+5]\n",
            "100%|██████████| 50/50 [00:02<00:00, 22.61it/s, epoch=88/100, avg_epoch_loss=2.66e+5]\n",
            "100%|██████████| 50/50 [00:02<00:00, 22.72it/s, epoch=89/100, avg_epoch_loss=3.24e+5]\n",
            "100%|██████████| 50/50 [00:02<00:00, 22.98it/s, epoch=90/100, avg_epoch_loss=3.1e+5]\n",
            "100%|██████████| 50/50 [00:02<00:00, 23.12it/s, epoch=91/100, avg_epoch_loss=3.24e+5]\n",
            "100%|██████████| 50/50 [00:02<00:00, 23.20it/s, epoch=92/100, avg_epoch_loss=2.86e+5]\n",
            "100%|██████████| 50/50 [00:02<00:00, 23.17it/s, epoch=93/100, avg_epoch_loss=2.78e+5]\n",
            "100%|██████████| 50/50 [00:02<00:00, 23.01it/s, epoch=94/100, avg_epoch_loss=2.52e+5]\n",
            "100%|██████████| 50/50 [00:02<00:00, 23.21it/s, epoch=95/100, avg_epoch_loss=2.8e+5]\n",
            "100%|██████████| 50/50 [00:02<00:00, 23.17it/s, epoch=96/100, avg_epoch_loss=2.42e+5]\n",
            "100%|██████████| 50/50 [00:02<00:00, 23.16it/s, epoch=97/100, avg_epoch_loss=2.78e+5]\n",
            "100%|██████████| 50/50 [00:02<00:00, 23.12it/s, epoch=98/100, avg_epoch_loss=2.77e+5]\n",
            "100%|██████████| 50/50 [00:02<00:00, 23.14it/s, epoch=99/100, avg_epoch_loss=2.67e+5]\n",
            "100%|██████████| 50/50 [00:02<00:00, 23.21it/s, epoch=100/100, avg_epoch_loss=2.69e+5]\n"
          ],
          "name": "stderr"
        }
      ]
    },
    {
      "cell_type": "code",
      "metadata": {
        "colab_type": "code",
        "outputId": "439ca308-a9d8-4968-d0d3-30701a6e62a7",
        "id": "ow_Vpx0MO9Gi",
        "colab": {
          "base_uri": "https://localhost:8080/",
          "height": 503
        }
      },
      "source": [
        "forecast_it, ts_it = make_evaluation_predictions(\n",
        "    dataset=m4_hourly_dataset.test, \n",
        "    predictor=DF_predictor, \n",
        "    num_samples=100, \n",
        ")\n",
        "\n",
        "forecasts = list(forecast_it)\n",
        "tss = list(ts_it)\n",
        "\n",
        "evaluator = Evaluator(quantiles=[0.1, 0.5, 0.9])\n",
        "agg_metrics, item_metrics = evaluator(iter(tss), iter(forecasts), num_series=len(m4_hourly_dataset.test))\n",
        "\n",
        "print(json.dumps(agg_metrics, indent=4))"
      ],
      "execution_count": 0,
      "outputs": [
        {
          "output_type": "stream",
          "text": [
            "Running evaluation: 100%|██████████| 414/414 [00:00<00:00, 9278.34it/s]\n"
          ],
          "name": "stderr"
        },
        {
          "output_type": "stream",
          "text": [
            "{\n",
            "    \"MSE\": 40983661.08745066,\n",
            "    \"abs_error\": 20809180.209091187,\n",
            "    \"abs_target_sum\": 145558863.59960938,\n",
            "    \"abs_target_mean\": 7324.822041043147,\n",
            "    \"seasonal_error\": 336.9046924038302,\n",
            "    \"MASE\": 11.039941629714814,\n",
            "    \"MAPE\": 0.8920382287944805,\n",
            "    \"sMAPE\": 0.33377137651036604,\n",
            "    \"OWA\": NaN,\n",
            "    \"MSIS\": 163.94602963485542,\n",
            "    \"QuantileLoss[0.1]\": 23649332.642423436,\n",
            "    \"Coverage[0.1]\": 0.2813003220611915,\n",
            "    \"QuantileLoss[0.5]\": 20809180.075209618,\n",
            "    \"Coverage[0.5]\": 0.5357789855072465,\n",
            "    \"QuantileLoss[0.9]\": 17659643.281104468,\n",
            "    \"Coverage[0.9]\": 0.7369162640901772,\n",
            "    \"RMSE\": 6401.848255578279,\n",
            "    \"NRMSE\": 0.8739936915472933,\n",
            "    \"ND\": 0.14296058442948045,\n",
            "    \"wQuantileLoss[0.1]\": 0.16247263861221092,\n",
            "    \"wQuantileLoss[0.5]\": 0.14296058350970434,\n",
            "    \"wQuantileLoss[0.9]\": 0.12132303622320846,\n",
            "    \"mean_wQuantileLoss\": 0.14225208611504123,\n",
            "    \"MAE_Coverage\": 0.1267210144927536\n",
            "}\n"
          ],
          "name": "stdout"
        }
      ]
    },
    {
      "cell_type": "code",
      "metadata": {
        "colab_type": "code",
        "id": "fA1nNCJGO9Gl",
        "colab": {}
      },
      "source": [
        ""
      ],
      "execution_count": 0,
      "outputs": []
    },
    {
      "cell_type": "markdown",
      "metadata": {
        "colab_type": "text",
        "id": "h0WoHFeGPo0-"
      },
      "source": [
        "## m4_monthly"
      ]
    },
    {
      "cell_type": "code",
      "metadata": {
        "colab_type": "code",
        "id": "7IE6C9pnPo1B",
        "outputId": "4278a5c5-505a-43e8-b2e1-7139edd8c437",
        "colab": {
          "base_uri": "https://localhost:8080/",
          "height": 53
        }
      },
      "source": [
        "m4_monthly_dataset = get_dataset(\"m4_monthly\", regenerate=False)"
      ],
      "execution_count": 0,
      "outputs": [
        {
          "output_type": "stream",
          "text": [
            "saving time-series into /root/.mxnet/gluon-ts/datasets/m4_monthly/train/data.json\n",
            "saving time-series into /root/.mxnet/gluon-ts/datasets/m4_monthly/test/data.json\n"
          ],
          "name": "stdout"
        }
      ]
    },
    {
      "cell_type": "code",
      "metadata": {
        "colab_type": "code",
        "outputId": "80374e29-ef8c-425b-daf6-ad8d76c2ff33",
        "id": "WIotX52YPo1J",
        "colab": {
          "base_uri": "https://localhost:8080/",
          "height": 53
        }
      },
      "source": [
        "print (len(m4_monthly_dataset.train))\n",
        "print (len(m4_monthly_dataset.test))"
      ],
      "execution_count": 0,
      "outputs": [
        {
          "output_type": "stream",
          "text": [
            "48000\n",
            "48000\n"
          ],
          "name": "stdout"
        }
      ]
    },
    {
      "cell_type": "code",
      "metadata": {
        "colab_type": "code",
        "outputId": "e9048f70-fb75-41a1-ee63-0f37c3f5ee03",
        "id": "A1suOzU0Po1P",
        "colab": {
          "base_uri": "https://localhost:8080/",
          "height": 35
        }
      },
      "source": [
        "m4_monthly_dataset.metadata"
      ],
      "execution_count": 0,
      "outputs": [
        {
          "output_type": "execute_result",
          "data": {
            "text/plain": [
              "MetaData(freq='M', target=None, feat_static_cat=[CategoricalFeatureInfo(name='feat_static_cat', cardinality='48000')], feat_static_real=[], feat_dynamic_real=[], feat_dynamic_cat=[], prediction_length=18)"
            ]
          },
          "metadata": {
            "tags": []
          },
          "execution_count": 49
        }
      ]
    },
    {
      "cell_type": "code",
      "metadata": {
        "colab_type": "code",
        "outputId": "3e7b549a-ed50-4997-b00b-1edde45d1f3c",
        "id": "rIAlQ1Abp2ZL",
        "colab": {
          "base_uri": "https://localhost:8080/",
          "height": 35
        }
      },
      "source": [
        "m4_monthly_dataset.metadata.feat_static_cat[0]"
      ],
      "execution_count": 0,
      "outputs": [
        {
          "output_type": "execute_result",
          "data": {
            "text/plain": [
              "CategoricalFeatureInfo(name='feat_static_cat', cardinality='48000')"
            ]
          },
          "metadata": {
            "tags": []
          },
          "execution_count": 50
        }
      ]
    },
    {
      "cell_type": "code",
      "metadata": {
        "colab_type": "code",
        "id": "VQy--9c5p2ZS",
        "colab": {}
      },
      "source": [
        "car = [int(m4_monthly_dataset.metadata.feat_static_cat[0].cardinality)]"
      ],
      "execution_count": 0,
      "outputs": []
    },
    {
      "cell_type": "code",
      "metadata": {
        "colab_type": "code",
        "outputId": "cc10275f-8202-412a-e971-ae34928225ef",
        "id": "Jpn1PJzGPo1U",
        "colab": {
          "base_uri": "https://localhost:8080/",
          "height": 35
        }
      },
      "source": [
        "next(iter(m4_monthly_dataset.train)).keys()"
      ],
      "execution_count": 0,
      "outputs": [
        {
          "output_type": "execute_result",
          "data": {
            "text/plain": [
              "dict_keys(['start', 'target', 'feat_static_cat', 'item_id', 'source'])"
            ]
          },
          "metadata": {
            "tags": []
          },
          "execution_count": 52
        }
      ]
    },
    {
      "cell_type": "code",
      "metadata": {
        "colab_type": "code",
        "id": "0Z48itnDPo1b",
        "colab": {}
      },
      "source": [
        "# https://gluon-ts.mxnet.io/api/gluonts/gluonts.model.deep_factor.html\n",
        "DF_estimator = DeepFactorEstimator(\n",
        "    freq=m4_monthly_dataset.metadata.freq, # Time series frequency\n",
        "    prediction_length=m4_monthly_dataset.metadata.prediction_length, # Prediction length.\n",
        "    num_hidden_global=50, # (default: 50).\n",
        "    num_layers_global=1, # (default: 1).\n",
        "    num_factors=10, # (default: 10).\n",
        "    num_hidden_local=5, # (default: 5).\n",
        "    num_layers_local=1, # (default: 1).\n",
        "    cell_type='lstm', # (default: ‘lstm’).\n",
        "    trainer = deepfactor_trainer, # (default: Trainer()).\n",
        "    context_length=None, # (default: None, in which case context_length = prediction_length).\n",
        "    num_parallel_samples=100, # (default: 100).\n",
        "    cardinality=car, # (default: list([1]).\n",
        "    embedding_dimension=10, # (default: 10).\n",
        "    distr_output=StudentTOutput(), # (default: StudentTOutput()).\n",
        ")"
      ],
      "execution_count": 0,
      "outputs": []
    },
    {
      "cell_type": "code",
      "metadata": {
        "colab_type": "code",
        "outputId": "a24fd21b-ef3c-455b-e64a-83d2e31f4219",
        "id": "FynbtKogPo1f",
        "colab": {
          "base_uri": "https://localhost:8080/",
          "height": 1000
        }
      },
      "source": [
        "DF_predictor = DF_estimator.train(m4_monthly_dataset.train)"
      ],
      "execution_count": 0,
      "outputs": [
        {
          "output_type": "stream",
          "text": [
            "\r  0%|          | 0/50 [00:00<?, ?it/s]"
          ],
          "name": "stderr"
        },
        {
          "output_type": "stream",
          "text": [
            "learning rate from ``lr_scheduler`` has been overwritten by ``learning_rate`` in optimizer.\n"
          ],
          "name": "stdout"
        },
        {
          "output_type": "stream",
          "text": [
            "100%|██████████| 50/50 [00:01<00:00, 38.87it/s, epoch=1/100, avg_epoch_loss=3.28e+7]\n",
            "100%|██████████| 50/50 [00:01<00:00, 43.17it/s, epoch=2/100, avg_epoch_loss=1.74e+7]\n",
            "100%|██████████| 50/50 [00:01<00:00, 43.30it/s, epoch=3/100, avg_epoch_loss=1.59e+7]\n",
            "100%|██████████| 50/50 [00:01<00:00, 44.41it/s, epoch=4/100, avg_epoch_loss=8.06e+6]\n",
            "100%|██████████| 50/50 [00:01<00:00, 45.44it/s, epoch=5/100, avg_epoch_loss=3.62e+6]\n",
            "100%|██████████| 50/50 [00:01<00:00, 46.94it/s, epoch=6/100, avg_epoch_loss=1.75e+6]\n",
            "100%|██████████| 50/50 [00:01<00:00, 45.78it/s, epoch=7/100, avg_epoch_loss=1.48e+6]\n",
            "100%|██████████| 50/50 [00:01<00:00, 45.34it/s, epoch=8/100, avg_epoch_loss=9.02e+5]\n",
            "100%|██████████| 50/50 [00:01<00:00, 45.34it/s, epoch=9/100, avg_epoch_loss=1.23e+6]\n",
            "100%|██████████| 50/50 [00:01<00:00, 44.29it/s, epoch=10/100, avg_epoch_loss=1.34e+6]\n",
            "100%|██████████| 50/50 [00:01<00:00, 44.11it/s, epoch=11/100, avg_epoch_loss=8.02e+5]\n",
            "100%|██████████| 50/50 [00:01<00:00, 48.16it/s, epoch=12/100, avg_epoch_loss=4.98e+5]\n",
            "100%|██████████| 50/50 [00:01<00:00, 49.50it/s, epoch=13/100, avg_epoch_loss=3.47e+5]\n",
            "100%|██████████| 50/50 [00:01<00:00, 44.68it/s, epoch=14/100, avg_epoch_loss=4.42e+5]\n",
            "100%|██████████| 50/50 [00:01<00:00, 44.08it/s, epoch=15/100, avg_epoch_loss=4.43e+5]\n",
            "100%|██████████| 50/50 [00:01<00:00, 44.15it/s, epoch=16/100, avg_epoch_loss=5.23e+5]\n",
            "100%|██████████| 50/50 [00:01<00:00, 42.85it/s, epoch=17/100, avg_epoch_loss=5.17e+5]\n",
            "100%|██████████| 50/50 [00:01<00:00, 44.85it/s, epoch=18/100, avg_epoch_loss=6.75e+5]\n",
            "100%|██████████| 50/50 [00:01<00:00, 44.39it/s, epoch=19/100, avg_epoch_loss=2.7e+5]\n",
            "100%|██████████| 50/50 [00:01<00:00, 44.23it/s, epoch=20/100, avg_epoch_loss=5.66e+5]\n",
            "100%|██████████| 50/50 [00:01<00:00, 47.92it/s, epoch=21/100, avg_epoch_loss=1.99e+5]\n",
            "100%|██████████| 50/50 [00:01<00:00, 46.58it/s, epoch=22/100, avg_epoch_loss=1.89e+5]\n",
            "100%|██████████| 50/50 [00:01<00:00, 45.19it/s, epoch=23/100, avg_epoch_loss=3.75e+5]\n",
            "100%|██████████| 50/50 [00:01<00:00, 44.63it/s, epoch=24/100, avg_epoch_loss=3.33e+5]\n",
            "100%|██████████| 50/50 [00:01<00:00, 46.13it/s, epoch=25/100, avg_epoch_loss=2.4e+5]\n",
            "100%|██████████| 50/50 [00:01<00:00, 45.83it/s, epoch=26/100, avg_epoch_loss=1.89e+5]\n",
            "100%|██████████| 50/50 [00:01<00:00, 46.56it/s, epoch=27/100, avg_epoch_loss=1.86e+5]\n",
            "100%|██████████| 50/50 [00:01<00:00, 45.55it/s, epoch=28/100, avg_epoch_loss=2.06e+5]\n",
            "100%|██████████| 50/50 [00:01<00:00, 47.81it/s, epoch=29/100, avg_epoch_loss=1.2e+5]\n",
            "100%|██████████| 50/50 [00:01<00:00, 48.05it/s, epoch=30/100, avg_epoch_loss=1.64e+5]\n",
            "100%|██████████| 50/50 [00:01<00:00, 43.06it/s, epoch=31/100, avg_epoch_loss=1.6e+5]\n",
            "100%|██████████| 50/50 [00:01<00:00, 40.44it/s, epoch=32/100, avg_epoch_loss=1.27e+5]\n",
            "100%|██████████| 50/50 [00:01<00:00, 39.79it/s, epoch=33/100, avg_epoch_loss=1.98e+5]\n",
            "100%|██████████| 50/50 [00:01<00:00, 40.33it/s, epoch=34/100, avg_epoch_loss=1.41e+5]\n",
            "100%|██████████| 50/50 [00:01<00:00, 42.20it/s, epoch=35/100, avg_epoch_loss=9.11e+4]\n",
            "100%|██████████| 50/50 [00:01<00:00, 43.89it/s, epoch=36/100, avg_epoch_loss=6.09e+4]\n",
            "100%|██████████| 50/50 [00:01<00:00, 41.84it/s, epoch=37/100, avg_epoch_loss=6.12e+4]\n",
            "100%|██████████| 50/50 [00:01<00:00, 40.82it/s, epoch=38/100, avg_epoch_loss=4.02e+4]\n",
            "100%|██████████| 50/50 [00:01<00:00, 41.61it/s, epoch=39/100, avg_epoch_loss=2.42e+5]\n",
            "100%|██████████| 50/50 [00:01<00:00, 40.54it/s, epoch=40/100, avg_epoch_loss=1.19e+5]\n",
            "100%|██████████| 50/50 [00:01<00:00, 42.38it/s, epoch=41/100, avg_epoch_loss=6.46e+4]\n",
            "100%|██████████| 50/50 [00:01<00:00, 43.85it/s, epoch=42/100, avg_epoch_loss=3.93e+4]\n",
            "100%|██████████| 50/50 [00:01<00:00, 44.11it/s, epoch=43/100, avg_epoch_loss=2.77e+4]\n",
            "100%|██████████| 50/50 [00:01<00:00, 41.00it/s, epoch=44/100, avg_epoch_loss=3.81e+4]\n",
            "100%|██████████| 50/50 [00:01<00:00, 39.81it/s, epoch=45/100, avg_epoch_loss=3.64e+4]\n",
            "100%|██████████| 50/50 [00:01<00:00, 40.03it/s, epoch=46/100, avg_epoch_loss=4.85e+4]\n",
            "100%|██████████| 50/50 [00:01<00:00, 39.68it/s, epoch=47/100, avg_epoch_loss=5.93e+4]\n",
            "100%|██████████| 50/50 [00:01<00:00, 40.78it/s, epoch=48/100, avg_epoch_loss=9.69e+4]\n",
            "100%|██████████| 50/50 [00:01<00:00, 40.44it/s, epoch=49/100, avg_epoch_loss=3.56e+4]\n",
            "100%|██████████| 50/50 [00:01<00:00, 39.89it/s, epoch=50/100, avg_epoch_loss=1.03e+5]\n",
            "100%|██████████| 50/50 [00:01<00:00, 43.52it/s, epoch=51/100, avg_epoch_loss=2.54e+4]\n",
            "100%|██████████| 50/50 [00:01<00:00, 42.70it/s, epoch=52/100, avg_epoch_loss=2.28e+4]\n",
            "100%|██████████| 50/50 [00:01<00:00, 41.67it/s, epoch=53/100, avg_epoch_loss=4.69e+4]\n",
            "100%|██████████| 50/50 [00:01<00:00, 39.91it/s, epoch=54/100, avg_epoch_loss=4.31e+4]\n",
            "100%|██████████| 50/50 [00:01<00:00, 42.35it/s, epoch=55/100, avg_epoch_loss=3.1e+4]\n",
            "100%|██████████| 50/50 [00:01<00:00, 41.61it/s, epoch=56/100, avg_epoch_loss=2.47e+4]\n",
            "100%|██████████| 50/50 [00:01<00:00, 41.85it/s, epoch=57/100, avg_epoch_loss=2.37e+4]\n",
            "100%|██████████| 50/50 [00:01<00:00, 42.01it/s, epoch=58/100, avg_epoch_loss=2.94e+4]\n",
            "100%|██████████| 50/50 [00:01<00:00, 43.04it/s, epoch=59/100, avg_epoch_loss=1.57e+4]\n",
            "100%|██████████| 50/50 [00:01<00:00, 43.85it/s, epoch=60/100, avg_epoch_loss=2.31e+4]\n",
            "100%|██████████| 50/50 [00:01<00:00, 39.90it/s, epoch=61/100, avg_epoch_loss=8.99e+4]\n",
            "100%|██████████| 50/50 [00:01<00:00, 39.99it/s, epoch=62/100, avg_epoch_loss=2.29e+4]\n",
            "100%|██████████| 50/50 [00:01<00:00, 39.92it/s, epoch=63/100, avg_epoch_loss=2.86e+4]\n",
            "100%|██████████| 50/50 [00:01<00:00, 40.11it/s, epoch=64/100, avg_epoch_loss=2.2e+4]\n",
            "100%|██████████| 50/50 [00:01<00:00, 42.53it/s, epoch=65/100, avg_epoch_loss=1.52e+4]\n",
            "100%|██████████| 50/50 [00:01<00:00, 44.31it/s, epoch=66/100, avg_epoch_loss=1.02e+4]\n",
            "100%|██████████| 50/50 [00:01<00:00, 41.19it/s, epoch=67/100, avg_epoch_loss=1.16e+4]\n",
            "100%|██████████| 50/50 [00:01<00:00, 41.18it/s, epoch=68/100, avg_epoch_loss=7.16e+3]\n",
            "100%|██████████| 50/50 [00:01<00:00, 41.38it/s, epoch=69/100, avg_epoch_loss=1.56e+4]\n",
            "100%|██████████| 50/50 [00:01<00:00, 41.59it/s, epoch=70/100, avg_epoch_loss=2.08e+4]\n",
            "100%|██████████| 50/50 [00:01<00:00, 42.06it/s, epoch=71/100, avg_epoch_loss=1.29e+4]\n",
            "100%|██████████| 50/50 [00:01<00:00, 44.20it/s, epoch=72/100, avg_epoch_loss=7.92e+3]\n",
            "100%|██████████| 50/50 [00:01<00:00, 44.16it/s, epoch=73/100, avg_epoch_loss=5.4e+3]\n",
            "100%|██████████| 50/50 [00:01<00:00, 40.94it/s, epoch=74/100, avg_epoch_loss=7.54e+3]\n",
            "100%|██████████| 50/50 [00:01<00:00, 40.34it/s, epoch=75/100, avg_epoch_loss=7.43e+3]\n",
            "100%|██████████| 50/50 [00:01<00:00, 40.20it/s, epoch=76/100, avg_epoch_loss=9.21e+3]\n",
            "100%|██████████| 50/50 [00:01<00:00, 39.50it/s, epoch=77/100, avg_epoch_loss=1.32e+4]\n",
            "100%|██████████| 50/50 [00:01<00:00, 41.12it/s, epoch=78/100, avg_epoch_loss=1.54e+4]\n",
            "100%|██████████| 50/50 [00:01<00:00, 40.16it/s, epoch=79/100, avg_epoch_loss=7.47e+3]\n",
            "100%|██████████| 50/50 [00:01<00:00, 40.33it/s, epoch=80/100, avg_epoch_loss=1.85e+4]\n",
            "100%|██████████| 50/50 [00:01<00:00, 43.34it/s, epoch=81/100, avg_epoch_loss=6.14e+3]\n",
            "100%|██████████| 50/50 [00:01<00:00, 42.90it/s, epoch=82/100, avg_epoch_loss=5.77e+3]\n",
            "100%|██████████| 50/50 [00:01<00:00, 41.65it/s, epoch=83/100, avg_epoch_loss=1.04e+4]\n",
            "100%|██████████| 50/50 [00:01<00:00, 40.39it/s, epoch=84/100, avg_epoch_loss=1.32e+4]\n",
            "100%|██████████| 50/50 [00:01<00:00, 42.03it/s, epoch=85/100, avg_epoch_loss=1.01e+4]\n",
            "100%|██████████| 50/50 [00:01<00:00, 41.36it/s, epoch=86/100, avg_epoch_loss=9.37e+3]\n",
            "100%|██████████| 50/50 [00:01<00:00, 41.69it/s, epoch=87/100, avg_epoch_loss=8.94e+3]\n",
            "100%|██████████| 50/50 [00:01<00:00, 42.11it/s, epoch=88/100, avg_epoch_loss=1.28e+4]\n",
            "100%|██████████| 50/50 [00:01<00:00, 42.96it/s, epoch=89/100, avg_epoch_loss=6.36e+3]\n",
            "100%|██████████| 50/50 [00:01<00:00, 43.74it/s, epoch=90/100, avg_epoch_loss=9.75e+3]\n",
            "100%|██████████| 50/50 [00:01<00:00, 40.17it/s, epoch=91/100, avg_epoch_loss=4.83e+4]\n",
            "100%|██████████| 50/50 [00:01<00:00, 39.77it/s, epoch=92/100, avg_epoch_loss=1.54e+4]\n",
            "100%|██████████| 50/50 [00:01<00:00, 40.07it/s, epoch=93/100, avg_epoch_loss=1.49e+4]\n",
            "100%|██████████| 50/50 [00:01<00:00, 39.79it/s, epoch=94/100, avg_epoch_loss=5.12e+6]\n",
            "100%|██████████| 50/50 [00:01<00:00, 42.92it/s, epoch=95/100, avg_epoch_loss=3.02e+5]\n",
            "100%|██████████| 50/50 [00:01<00:00, 43.49it/s, epoch=96/100, avg_epoch_loss=1.37e+4]\n",
            "100%|██████████| 50/50 [00:01<00:00, 41.44it/s, epoch=97/100, avg_epoch_loss=7.57e+3]\n",
            "100%|██████████| 50/50 [00:01<00:00, 40.87it/s, epoch=98/100, avg_epoch_loss=6.48e+3]\n",
            "100%|██████████| 50/50 [00:01<00:00, 41.07it/s, epoch=99/100, avg_epoch_loss=1.09e+4]\n",
            "100%|██████████| 50/50 [00:01<00:00, 40.76it/s, epoch=100/100, avg_epoch_loss=1.48e+4]\n"
          ],
          "name": "stderr"
        }
      ]
    },
    {
      "cell_type": "code",
      "metadata": {
        "colab_type": "code",
        "id": "z-OU9czTPo1j",
        "outputId": "5eabfdc7-10ed-429c-c53d-485ecea4be65",
        "colab": {
          "base_uri": "https://localhost:8080/",
          "height": 503
        }
      },
      "source": [
        "forecast_it, ts_it = make_evaluation_predictions(\n",
        "    dataset=m4_monthly_dataset.test, \n",
        "    predictor=DF_predictor, \n",
        "    num_samples=100, \n",
        ")\n",
        "\n",
        "forecasts = list(forecast_it)\n",
        "tss = list(ts_it)\n",
        "\n",
        "evaluator = Evaluator(quantiles=[0.1, 0.5, 0.9])\n",
        "agg_metrics, item_metrics = evaluator(iter(tss), iter(forecasts), num_series=len(m4_monthly_dataset.test))\n",
        "\n",
        "print(json.dumps(agg_metrics, indent=4))"
      ],
      "execution_count": 0,
      "outputs": [
        {
          "output_type": "stream",
          "text": [
            "Running evaluation: 100%|██████████| 48000/48000 [00:00<00:00, 375983.89it/s]\n"
          ],
          "name": "stderr"
        },
        {
          "output_type": "stream",
          "text": [
            "{\n",
            "    \"MSE\": 32115441897.68937,\n",
            "    \"abs_error\": 51222334701.30725,\n",
            "    \"abs_target_sum\": 4157157295.381714,\n",
            "    \"abs_target_mean\": 4811.5246474325495,\n",
            "    \"seasonal_error\": 616.9975625355751,\n",
            "    \"MASE\": 166.2121247462581,\n",
            "    \"MAPE\": 11.856855778301268,\n",
            "    \"sMAPE\": 1.4860916522621186,\n",
            "    \"OWA\": NaN,\n",
            "    \"MSIS\": 6641.4769399733905,\n",
            "    \"QuantileLoss[0.1]\": 88926061869.27962,\n",
            "    \"Coverage[0.1]\": 0.2678310185185138,\n",
            "    \"QuantileLoss[0.5]\": 51222334749.17082,\n",
            "    \"Coverage[0.5]\": 0.2688171296296251,\n",
            "    \"QuantileLoss[0.9]\": 13478121088.436924,\n",
            "    \"Coverage[0.9]\": 0.26986689814814335,\n",
            "    \"RMSE\": 179207.81762436975,\n",
            "    \"NRMSE\": 37.24553665541251,\n",
            "    \"ND\": 12.321481017379684,\n",
            "    \"wQuantileLoss[0.1]\": 21.391074609582304,\n",
            "    \"wQuantileLoss[0.5]\": 12.321481028893217,\n",
            "    \"wQuantileLoss[0.9]\": 3.242148451637876,\n",
            "    \"mean_wQuantileLoss\": 12.318234696704465,\n",
            "    \"MAE_Coverage\": 0.34304899691358176\n",
            "}\n"
          ],
          "name": "stdout"
        }
      ]
    },
    {
      "cell_type": "code",
      "metadata": {
        "colab_type": "code",
        "id": "nM547CLIPo1p",
        "colab": {}
      },
      "source": [
        ""
      ],
      "execution_count": 0,
      "outputs": []
    },
    {
      "cell_type": "markdown",
      "metadata": {
        "colab_type": "text",
        "id": "nznVHsOFTpbl"
      },
      "source": [
        "## m4_quarterly"
      ]
    },
    {
      "cell_type": "code",
      "metadata": {
        "colab_type": "code",
        "id": "Lqy_k4FfTpbn",
        "outputId": "a195add1-7276-44a5-d366-ad7c9affb22f",
        "colab": {
          "base_uri": "https://localhost:8080/",
          "height": 53
        }
      },
      "source": [
        "m4_quarterly_dataset = get_dataset(\"m4_quarterly\", regenerate=False)"
      ],
      "execution_count": 0,
      "outputs": [
        {
          "output_type": "stream",
          "text": [
            "saving time-series into /root/.mxnet/gluon-ts/datasets/m4_quarterly/train/data.json\n",
            "saving time-series into /root/.mxnet/gluon-ts/datasets/m4_quarterly/test/data.json\n"
          ],
          "name": "stdout"
        }
      ]
    },
    {
      "cell_type": "code",
      "metadata": {
        "colab_type": "code",
        "id": "Y457WiskTpbw",
        "outputId": "6a38bf6b-3c66-4798-f5a6-76ec75f29ce0",
        "colab": {
          "base_uri": "https://localhost:8080/",
          "height": 53
        }
      },
      "source": [
        "print (len(m4_quarterly_dataset.train))\n",
        "print (len(m4_quarterly_dataset.test))"
      ],
      "execution_count": 0,
      "outputs": [
        {
          "output_type": "stream",
          "text": [
            "24000\n",
            "24000\n"
          ],
          "name": "stdout"
        }
      ]
    },
    {
      "cell_type": "code",
      "metadata": {
        "colab_type": "code",
        "id": "b9EoE_m6Tpbz",
        "outputId": "9271bc5d-1c1a-40e1-81c3-e40587fb1d9a",
        "colab": {
          "base_uri": "https://localhost:8080/",
          "height": 35
        }
      },
      "source": [
        "m4_quarterly_dataset.metadata"
      ],
      "execution_count": 0,
      "outputs": [
        {
          "output_type": "execute_result",
          "data": {
            "text/plain": [
              "MetaData(freq='3M', target=None, feat_static_cat=[CategoricalFeatureInfo(name='feat_static_cat', cardinality='24000')], feat_static_real=[], feat_dynamic_real=[], feat_dynamic_cat=[], prediction_length=8)"
            ]
          },
          "metadata": {
            "tags": []
          },
          "execution_count": 58
        }
      ]
    },
    {
      "cell_type": "code",
      "metadata": {
        "colab_type": "code",
        "outputId": "d987dca1-aec7-4127-dac6-63887365eb0e",
        "id": "NBrLxCWmqEzn",
        "colab": {
          "base_uri": "https://localhost:8080/",
          "height": 35
        }
      },
      "source": [
        "m4_quarterly_dataset.metadata.feat_static_cat[0]"
      ],
      "execution_count": 0,
      "outputs": [
        {
          "output_type": "execute_result",
          "data": {
            "text/plain": [
              "CategoricalFeatureInfo(name='feat_static_cat', cardinality='24000')"
            ]
          },
          "metadata": {
            "tags": []
          },
          "execution_count": 59
        }
      ]
    },
    {
      "cell_type": "code",
      "metadata": {
        "colab_type": "code",
        "id": "bYqoUboOqEzq",
        "colab": {}
      },
      "source": [
        "car = [int(m4_quarterly_dataset.metadata.feat_static_cat[0].cardinality)]"
      ],
      "execution_count": 0,
      "outputs": []
    },
    {
      "cell_type": "code",
      "metadata": {
        "colab_type": "code",
        "id": "9diHFpLATpb3",
        "outputId": "b7f072b0-dfca-47ed-f049-bc6b2a32da11",
        "colab": {
          "base_uri": "https://localhost:8080/",
          "height": 35
        }
      },
      "source": [
        "next(iter(m4_quarterly_dataset.train)).keys()"
      ],
      "execution_count": 0,
      "outputs": [
        {
          "output_type": "execute_result",
          "data": {
            "text/plain": [
              "dict_keys(['start', 'target', 'feat_static_cat', 'item_id', 'source'])"
            ]
          },
          "metadata": {
            "tags": []
          },
          "execution_count": 61
        }
      ]
    },
    {
      "cell_type": "code",
      "metadata": {
        "colab_type": "code",
        "id": "uluvpZU5TpcE",
        "colab": {}
      },
      "source": [
        "# https://gluon-ts.mxnet.io/api/gluonts/gluonts.model.deep_factor.html\n",
        "DF_estimator = DeepFactorEstimator(\n",
        "    freq=m4_quarterly_dataset.metadata.freq, # Time series frequency\n",
        "    prediction_length=m4_quarterly_dataset.metadata.prediction_length, # Prediction length.\n",
        "    num_hidden_global=50, # (default: 50).\n",
        "    num_layers_global=1, # (default: 1).\n",
        "    num_factors=10, # (default: 10).\n",
        "    num_hidden_local=5, # (default: 5).\n",
        "    num_layers_local=1, # (default: 1).\n",
        "    cell_type='lstm', # (default: ‘lstm’).\n",
        "    trainer = deepfactor_trainer, # (default: Trainer()).\n",
        "    context_length=None, # (default: None, in which case context_length = prediction_length).\n",
        "    num_parallel_samples=100, # (default: 100).\n",
        "    cardinality=car, # (default: list([1]).\n",
        "    embedding_dimension=10, # (default: 10).\n",
        "    distr_output=StudentTOutput(), # (default: StudentTOutput()).\n",
        ")"
      ],
      "execution_count": 0,
      "outputs": []
    },
    {
      "cell_type": "code",
      "metadata": {
        "colab_type": "code",
        "outputId": "97aca99c-fe7f-4065-d948-d47f9c5be4df",
        "id": "Yv7bIpjBTpcI",
        "colab": {
          "base_uri": "https://localhost:8080/",
          "height": 1000
        }
      },
      "source": [
        "DF_predictor = DF_estimator.train(m4_quarterly_dataset.train)"
      ],
      "execution_count": 0,
      "outputs": [
        {
          "output_type": "stream",
          "text": [
            "\r  0%|          | 0/50 [00:00<?, ?it/s]"
          ],
          "name": "stderr"
        },
        {
          "output_type": "stream",
          "text": [
            "learning rate from ``lr_scheduler`` has been overwritten by ``learning_rate`` in optimizer.\n"
          ],
          "name": "stdout"
        },
        {
          "output_type": "stream",
          "text": [
            "100%|██████████| 50/50 [00:00<00:00, 70.71it/s, epoch=1/100, avg_epoch_loss=3.97e+7]\n",
            "100%|██████████| 50/50 [00:00<00:00, 74.14it/s, epoch=2/100, avg_epoch_loss=3.53e+7]\n",
            "100%|██████████| 50/50 [00:00<00:00, 72.21it/s, epoch=3/100, avg_epoch_loss=2.53e+7]\n",
            "100%|██████████| 50/50 [00:00<00:00, 72.44it/s, epoch=4/100, avg_epoch_loss=9.37e+6]\n",
            "100%|██████████| 50/50 [00:00<00:00, 75.16it/s, epoch=5/100, avg_epoch_loss=4.11e+6]\n",
            "100%|██████████| 50/50 [00:00<00:00, 72.79it/s, epoch=6/100, avg_epoch_loss=5.34e+6]\n",
            "100%|██████████| 50/50 [00:00<00:00, 75.38it/s, epoch=7/100, avg_epoch_loss=3.07e+6]\n",
            "100%|██████████| 50/50 [00:00<00:00, 73.59it/s, epoch=8/100, avg_epoch_loss=2.22e+6]\n",
            "100%|██████████| 50/50 [00:00<00:00, 74.51it/s, epoch=9/100, avg_epoch_loss=1.47e+6]\n",
            "100%|██████████| 50/50 [00:00<00:00, 74.31it/s, epoch=10/100, avg_epoch_loss=1.7e+6]\n",
            "100%|██████████| 50/50 [00:00<00:00, 74.18it/s, epoch=11/100, avg_epoch_loss=1.31e+6]\n",
            "100%|██████████| 50/50 [00:00<00:00, 74.38it/s, epoch=12/100, avg_epoch_loss=1.09e+6]\n",
            "100%|██████████| 50/50 [00:00<00:00, 75.83it/s, epoch=13/100, avg_epoch_loss=9.54e+5]\n",
            "100%|██████████| 50/50 [00:00<00:00, 73.45it/s, epoch=14/100, avg_epoch_loss=7.92e+5]\n",
            "100%|██████████| 50/50 [00:00<00:00, 75.49it/s, epoch=15/100, avg_epoch_loss=6.46e+5]\n",
            "100%|██████████| 50/50 [00:00<00:00, 76.88it/s, epoch=16/100, avg_epoch_loss=5.79e+5]\n",
            "100%|██████████| 50/50 [00:00<00:00, 71.28it/s, epoch=17/100, avg_epoch_loss=6.75e+5]\n",
            "100%|██████████| 50/50 [00:00<00:00, 67.82it/s, epoch=18/100, avg_epoch_loss=6.95e+5]\n",
            "100%|██████████| 50/50 [00:00<00:00, 70.92it/s, epoch=19/100, avg_epoch_loss=4.09e+5]\n",
            "100%|██████████| 50/50 [00:00<00:00, 70.28it/s, epoch=20/100, avg_epoch_loss=2.68e+5]\n",
            "100%|██████████| 50/50 [00:00<00:00, 69.46it/s, epoch=21/100, avg_epoch_loss=4.35e+5]\n",
            "100%|██████████| 50/50 [00:00<00:00, 68.61it/s, epoch=22/100, avg_epoch_loss=3.06e+5]\n",
            "100%|██████████| 50/50 [00:00<00:00, 70.29it/s, epoch=23/100, avg_epoch_loss=2.69e+5]\n",
            "100%|██████████| 50/50 [00:00<00:00, 70.26it/s, epoch=24/100, avg_epoch_loss=1.99e+5]\n",
            "100%|██████████| 50/50 [00:00<00:00, 69.17it/s, epoch=25/100, avg_epoch_loss=2.59e+5]\n",
            "100%|██████████| 50/50 [00:00<00:00, 69.09it/s, epoch=26/100, avg_epoch_loss=2.2e+5]\n",
            "100%|██████████| 50/50 [00:00<00:00, 70.54it/s, epoch=27/100, avg_epoch_loss=1.97e+5]\n",
            "100%|██████████| 50/50 [00:00<00:00, 70.45it/s, epoch=28/100, avg_epoch_loss=1.89e+5]\n",
            "100%|██████████| 50/50 [00:00<00:00, 70.79it/s, epoch=29/100, avg_epoch_loss=1.6e+5]\n",
            "100%|██████████| 50/50 [00:00<00:00, 69.67it/s, epoch=30/100, avg_epoch_loss=1.37e+5]\n",
            "100%|██████████| 50/50 [00:00<00:00, 71.11it/s, epoch=31/100, avg_epoch_loss=1.75e+5]\n",
            "100%|██████████| 50/50 [00:00<00:00, 68.60it/s, epoch=32/100, avg_epoch_loss=1.64e+5]\n",
            "100%|██████████| 50/50 [00:00<00:00, 68.03it/s, epoch=33/100, avg_epoch_loss=1.64e+5]\n",
            "100%|██████████| 50/50 [00:00<00:00, 69.39it/s, epoch=34/100, avg_epoch_loss=8.82e+4]\n",
            "100%|██████████| 50/50 [00:00<00:00, 72.34it/s, epoch=35/100, avg_epoch_loss=5.48e+4]\n",
            "100%|██████████| 50/50 [00:00<00:00, 70.47it/s, epoch=36/100, avg_epoch_loss=1.05e+5]\n",
            "100%|██████████| 50/50 [00:00<00:00, 72.33it/s, epoch=37/100, avg_epoch_loss=7.24e+4]\n",
            "100%|██████████| 50/50 [00:00<00:00, 66.55it/s, epoch=38/100, avg_epoch_loss=6.74e+4]\n",
            "100%|██████████| 50/50 [00:00<00:00, 69.34it/s, epoch=39/100, avg_epoch_loss=5.06e+4]\n",
            "100%|██████████| 50/50 [00:00<00:00, 70.87it/s, epoch=40/100, avg_epoch_loss=6.19e+4]\n",
            "100%|██████████| 50/50 [00:00<00:00, 71.42it/s, epoch=41/100, avg_epoch_loss=5.92e+4]\n",
            "100%|██████████| 50/50 [00:00<00:00, 70.04it/s, epoch=42/100, avg_epoch_loss=5.77e+4]\n",
            "100%|██████████| 50/50 [00:00<00:00, 70.37it/s, epoch=43/100, avg_epoch_loss=5.53e+4]\n",
            "100%|██████████| 50/50 [00:00<00:00, 70.89it/s, epoch=44/100, avg_epoch_loss=4.6e+4]\n",
            "100%|██████████| 50/50 [00:00<00:00, 72.51it/s, epoch=45/100, avg_epoch_loss=4.07e+4]\n",
            "100%|██████████| 50/50 [00:00<00:00, 73.43it/s, epoch=46/100, avg_epoch_loss=4.21e+4]\n",
            "100%|██████████| 50/50 [00:00<00:00, 69.70it/s, epoch=47/100, avg_epoch_loss=4.91e+4]\n",
            "100%|██████████| 50/50 [00:00<00:00, 71.21it/s, epoch=48/100, avg_epoch_loss=5.67e+4]\n",
            "100%|██████████| 50/50 [00:00<00:00, 71.99it/s, epoch=49/100, avg_epoch_loss=3.76e+4]\n",
            "100%|██████████| 50/50 [00:00<00:00, 72.94it/s, epoch=50/100, avg_epoch_loss=2.47e+4]\n",
            "100%|██████████| 50/50 [00:00<00:00, 70.00it/s, epoch=51/100, avg_epoch_loss=4.8e+4]\n",
            "100%|██████████| 50/50 [00:00<00:00, 71.43it/s, epoch=52/100, avg_epoch_loss=3.26e+4]\n",
            "100%|██████████| 50/50 [00:00<00:00, 70.78it/s, epoch=53/100, avg_epoch_loss=3.41e+4]\n",
            "100%|██████████| 50/50 [00:00<00:00, 72.30it/s, epoch=54/100, avg_epoch_loss=2.39e+4]\n",
            "100%|██████████| 50/50 [00:00<00:00, 70.37it/s, epoch=55/100, avg_epoch_loss=3.59e+4]\n",
            "100%|██████████| 50/50 [00:00<00:00, 72.80it/s, epoch=56/100, avg_epoch_loss=3.01e+4]\n",
            "100%|██████████| 50/50 [00:00<00:00, 71.44it/s, epoch=57/100, avg_epoch_loss=3.23e+4]\n",
            "100%|██████████| 50/50 [00:00<00:00, 71.61it/s, epoch=58/100, avg_epoch_loss=3.26e+4]\n",
            "100%|██████████| 50/50 [00:00<00:00, 71.82it/s, epoch=59/100, avg_epoch_loss=2.84e+4]\n",
            "100%|██████████| 50/50 [00:00<00:00, 70.95it/s, epoch=60/100, avg_epoch_loss=2.37e+4]\n",
            "100%|██████████| 50/50 [00:00<00:00, 73.55it/s, epoch=61/100, avg_epoch_loss=2.81e+4]\n",
            "100%|██████████| 50/50 [00:00<00:00, 71.52it/s, epoch=62/100, avg_epoch_loss=3.41e+4]\n",
            "100%|██████████| 50/50 [00:00<00:00, 69.19it/s, epoch=63/100, avg_epoch_loss=4.25e+4]\n",
            "100%|██████████| 50/50 [00:00<00:00, 71.74it/s, epoch=64/100, avg_epoch_loss=2.92e+4]\n",
            "100%|██████████| 50/50 [00:00<00:00, 73.84it/s, epoch=65/100, avg_epoch_loss=1.91e+4]\n",
            "100%|██████████| 50/50 [00:00<00:00, 71.30it/s, epoch=66/100, avg_epoch_loss=3.85e+4]\n",
            "100%|██████████| 50/50 [00:00<00:00, 71.92it/s, epoch=67/100, avg_epoch_loss=2.7e+4]\n",
            "100%|██████████| 50/50 [00:00<00:00, 70.47it/s, epoch=68/100, avg_epoch_loss=2.58e+4]\n",
            "100%|██████████| 50/50 [00:00<00:00, 72.34it/s, epoch=69/100, avg_epoch_loss=2.11e+4]\n",
            "100%|██████████| 50/50 [00:00<00:00, 71.79it/s, epoch=70/100, avg_epoch_loss=3.21e+4]\n",
            "100%|██████████| 50/50 [00:00<00:00, 73.28it/s, epoch=71/100, avg_epoch_loss=2.66e+4]\n",
            "100%|██████████| 50/50 [00:00<00:00, 71.17it/s, epoch=72/100, avg_epoch_loss=2.82e+4]\n",
            "100%|██████████| 50/50 [00:00<00:00, 72.09it/s, epoch=73/100, avg_epoch_loss=2.84e+4]\n",
            "100%|██████████| 50/50 [00:00<00:00, 72.14it/s, epoch=74/100, avg_epoch_loss=2.61e+4]\n",
            "100%|██████████| 50/50 [00:00<00:00, 71.32it/s, epoch=75/100, avg_epoch_loss=2.25e+4]\n",
            "100%|██████████| 50/50 [00:00<00:00, 74.27it/s, epoch=76/100, avg_epoch_loss=3.34e+4]\n",
            "100%|██████████| 50/50 [00:00<00:00, 70.50it/s, epoch=77/100, avg_epoch_loss=4.2e+4]\n",
            "100%|██████████| 50/50 [00:00<00:00, 69.90it/s, epoch=78/100, avg_epoch_loss=5.01e+4]\n",
            "100%|██████████| 50/50 [00:00<00:00, 72.18it/s, epoch=79/100, avg_epoch_loss=3.24e+4]\n",
            "100%|██████████| 50/50 [00:00<00:00, 74.41it/s, epoch=80/100, avg_epoch_loss=2.2e+4]\n",
            "100%|██████████| 50/50 [00:00<00:00, 69.79it/s, epoch=81/100, avg_epoch_loss=3.75e+4]\n",
            "100%|██████████| 50/50 [00:00<00:00, 70.67it/s, epoch=82/100, avg_epoch_loss=2.49e+4]\n",
            "100%|██████████| 50/50 [00:00<00:00, 72.64it/s, epoch=83/100, avg_epoch_loss=2.52e+4]\n",
            "100%|██████████| 50/50 [00:00<00:00, 71.87it/s, epoch=84/100, avg_epoch_loss=2.03e+4]\n",
            "100%|██████████| 50/50 [00:00<00:00, 70.87it/s, epoch=85/100, avg_epoch_loss=3.2e+4]\n",
            "100%|██████████| 50/50 [00:00<00:00, 74.64it/s, epoch=86/100, avg_epoch_loss=3.24e+4]\n",
            "100%|██████████| 50/50 [00:00<00:00, 70.88it/s, epoch=87/100, avg_epoch_loss=3.31e+4]\n",
            "100%|██████████| 50/50 [00:00<00:00, 72.52it/s, epoch=88/100, avg_epoch_loss=3.41e+4]\n",
            "100%|██████████| 50/50 [00:00<00:00, 71.98it/s, epoch=89/100, avg_epoch_loss=3.06e+4]\n",
            "100%|██████████| 50/50 [00:00<00:00, 71.34it/s, epoch=90/100, avg_epoch_loss=2.8e+4]\n",
            "100%|██████████| 50/50 [00:00<00:00, 72.65it/s, epoch=91/100, avg_epoch_loss=3.12e+4]\n",
            "100%|██████████| 50/50 [00:00<00:00, 71.87it/s, epoch=92/100, avg_epoch_loss=4.07e+4]\n",
            "100%|██████████| 50/50 [00:00<00:00, 70.45it/s, epoch=93/100, avg_epoch_loss=4.86e+4]\n",
            "100%|██████████| 50/50 [00:00<00:00, 71.64it/s, epoch=94/100, avg_epoch_loss=3.18e+4]\n",
            "100%|██████████| 50/50 [00:00<00:00, 73.61it/s, epoch=95/100, avg_epoch_loss=2.24e+4]\n",
            "100%|██████████| 50/50 [00:00<00:00, 72.23it/s, epoch=96/100, avg_epoch_loss=3.78e+4]\n",
            "100%|██████████| 50/50 [00:00<00:00, 70.80it/s, epoch=97/100, avg_epoch_loss=2.76e+4]\n",
            "100%|██████████| 50/50 [00:00<00:00, 71.59it/s, epoch=98/100, avg_epoch_loss=2.7e+4]\n",
            "100%|██████████| 50/50 [00:00<00:00, 72.05it/s, epoch=99/100, avg_epoch_loss=2.25e+4]\n",
            "100%|██████████| 50/50 [00:00<00:00, 70.81it/s, epoch=100/100, avg_epoch_loss=3.55e+4]\n"
          ],
          "name": "stderr"
        }
      ]
    },
    {
      "cell_type": "code",
      "metadata": {
        "colab_type": "code",
        "id": "0kea2_IuTpcM",
        "outputId": "229e33b7-ac71-41ed-9443-b8741afd2afd",
        "colab": {
          "base_uri": "https://localhost:8080/",
          "height": 503
        }
      },
      "source": [
        "forecast_it, ts_it = make_evaluation_predictions(\n",
        "    dataset=m4_quarterly_dataset.test, \n",
        "    predictor=DF_predictor, \n",
        "    num_samples=100, \n",
        ")\n",
        "\n",
        "forecasts = list(forecast_it)\n",
        "tss = list(ts_it)\n",
        "\n",
        "evaluator = Evaluator(quantiles=[0.1, 0.5, 0.9])\n",
        "agg_metrics, item_metrics = evaluator(iter(tss), iter(forecasts), num_series=len(m4_quarterly_dataset.test))\n",
        "\n",
        "print(json.dumps(agg_metrics, indent=4))"
      ],
      "execution_count": 0,
      "outputs": [
        {
          "output_type": "stream",
          "text": [
            "Running evaluation: 100%|██████████| 24000/24000 [00:00<00:00, 263439.93it/s]\n"
          ],
          "name": "stderr"
        },
        {
          "output_type": "stream",
          "text": [
            "{\n",
            "    \"MSE\": 81002322.32597734,\n",
            "    \"abs_error\": 1098683036.5536804,\n",
            "    \"abs_target_sum\": 1147074070.9031982,\n",
            "    \"abs_target_mean\": 5974.344119287491,\n",
            "    \"seasonal_error\": 473.4332698179725,\n",
            "    \"MASE\": 19.83702600151264,\n",
            "    \"MAPE\": 0.9552013469974565,\n",
            "    \"sMAPE\": 1.516506232904913,\n",
            "    \"OWA\": NaN,\n",
            "    \"MSIS\": 787.1556528289225,\n",
            "    \"QuantileLoss[0.1]\": 754048331.036651,\n",
            "    \"Coverage[0.1]\": 0.13260416666666666,\n",
            "    \"QuantileLoss[0.5]\": 1098683036.6063194,\n",
            "    \"Coverage[0.5]\": 0.13318229166666667,\n",
            "    \"QuantileLoss[0.9]\": 1435098741.8476853,\n",
            "    \"Coverage[0.9]\": 0.13377083333333334,\n",
            "    \"RMSE\": 9000.129017185105,\n",
            "    \"NRMSE\": 1.5064631091686218,\n",
            "    \"ND\": 0.9578135051806942,\n",
            "    \"wQuantileLoss[0.1]\": 0.6573667299818908,\n",
            "    \"wQuantileLoss[0.5]\": 0.9578135052265839,\n",
            "    \"wQuantileLoss[0.9]\": 1.2510950933776217,\n",
            "    \"mean_wQuantileLoss\": 0.9554251095286989,\n",
            "    \"MAE_Coverage\": 0.38855034722222226\n",
            "}\n"
          ],
          "name": "stdout"
        }
      ]
    },
    {
      "cell_type": "code",
      "metadata": {
        "colab_type": "code",
        "id": "WLQbIJlNTpcQ",
        "colab": {}
      },
      "source": [
        ""
      ],
      "execution_count": 0,
      "outputs": []
    },
    {
      "cell_type": "markdown",
      "metadata": {
        "colab_type": "text",
        "id": "mPBrg_LQUG-N"
      },
      "source": [
        "## m4_weekly"
      ]
    },
    {
      "cell_type": "code",
      "metadata": {
        "colab_type": "code",
        "id": "zqOsVt25UG-O",
        "outputId": "6aaa892b-0fd3-4019-85d3-c5abbbcf5c27",
        "colab": {
          "base_uri": "https://localhost:8080/",
          "height": 53
        }
      },
      "source": [
        "m4_weekly_dataset = get_dataset(\"m4_weekly\", regenerate=False)"
      ],
      "execution_count": 0,
      "outputs": [
        {
          "output_type": "stream",
          "text": [
            "saving time-series into /root/.mxnet/gluon-ts/datasets/m4_weekly/train/data.json\n",
            "saving time-series into /root/.mxnet/gluon-ts/datasets/m4_weekly/test/data.json\n"
          ],
          "name": "stdout"
        }
      ]
    },
    {
      "cell_type": "code",
      "metadata": {
        "colab_type": "code",
        "id": "8rImBkzcUG-R",
        "outputId": "a47963f0-6e08-486b-aeee-1231117fffa2",
        "colab": {
          "base_uri": "https://localhost:8080/",
          "height": 53
        }
      },
      "source": [
        "print (len(m4_weekly_dataset.train))\n",
        "print (len(m4_weekly_dataset.test))"
      ],
      "execution_count": 0,
      "outputs": [
        {
          "output_type": "stream",
          "text": [
            "359\n",
            "359\n"
          ],
          "name": "stdout"
        }
      ]
    },
    {
      "cell_type": "code",
      "metadata": {
        "colab_type": "code",
        "id": "YNqBvMCfUG-U",
        "outputId": "4ffa6f1a-612a-404a-9afa-ab4627f558bb",
        "colab": {
          "base_uri": "https://localhost:8080/",
          "height": 35
        }
      },
      "source": [
        "m4_weekly_dataset.metadata"
      ],
      "execution_count": 0,
      "outputs": [
        {
          "output_type": "execute_result",
          "data": {
            "text/plain": [
              "MetaData(freq='W', target=None, feat_static_cat=[CategoricalFeatureInfo(name='feat_static_cat', cardinality='359')], feat_static_real=[], feat_dynamic_real=[], feat_dynamic_cat=[], prediction_length=13)"
            ]
          },
          "metadata": {
            "tags": []
          },
          "execution_count": 67
        }
      ]
    },
    {
      "cell_type": "code",
      "metadata": {
        "colab_type": "code",
        "outputId": "5660a628-8101-4f9d-c417-f1b7cc9d42ad",
        "id": "oBmE2sv5qRI5",
        "colab": {
          "base_uri": "https://localhost:8080/",
          "height": 35
        }
      },
      "source": [
        "m4_weekly_dataset.metadata.feat_static_cat[0]"
      ],
      "execution_count": 0,
      "outputs": [
        {
          "output_type": "execute_result",
          "data": {
            "text/plain": [
              "CategoricalFeatureInfo(name='feat_static_cat', cardinality='359')"
            ]
          },
          "metadata": {
            "tags": []
          },
          "execution_count": 68
        }
      ]
    },
    {
      "cell_type": "code",
      "metadata": {
        "colab_type": "code",
        "id": "9ne4eVCaqRI8",
        "colab": {}
      },
      "source": [
        "car = [int(m4_weekly_dataset.metadata.feat_static_cat[0].cardinality)]"
      ],
      "execution_count": 0,
      "outputs": []
    },
    {
      "cell_type": "code",
      "metadata": {
        "colab_type": "code",
        "id": "xxBOpLK5UG-W",
        "outputId": "515d2253-4db4-4ed7-f0c7-b2ef1d41c0b2",
        "colab": {
          "base_uri": "https://localhost:8080/",
          "height": 35
        }
      },
      "source": [
        "next(iter(m4_weekly_dataset.train)).keys()"
      ],
      "execution_count": 0,
      "outputs": [
        {
          "output_type": "execute_result",
          "data": {
            "text/plain": [
              "dict_keys(['start', 'target', 'feat_static_cat', 'item_id', 'source'])"
            ]
          },
          "metadata": {
            "tags": []
          },
          "execution_count": 70
        }
      ]
    },
    {
      "cell_type": "code",
      "metadata": {
        "colab_type": "code",
        "id": "oambQWoLUG-b",
        "colab": {}
      },
      "source": [
        "# https://gluon-ts.mxnet.io/api/gluonts/gluonts.model.deep_factor.html\n",
        "DF_estimator = DeepFactorEstimator(\n",
        "    freq=m4_weekly_dataset.metadata.freq, # Time series frequency\n",
        "    prediction_length=m4_weekly_dataset.metadata.prediction_length, # Prediction length.\n",
        "    num_hidden_global=50, # (default: 50).\n",
        "    num_layers_global=1, # (default: 1).\n",
        "    num_factors=10, # (default: 10).\n",
        "    num_hidden_local=5, # (default: 5).\n",
        "    num_layers_local=1, # (default: 1).\n",
        "    cell_type='lstm', # (default: ‘lstm’).\n",
        "    trainer = deepfactor_trainer, # (default: Trainer()).\n",
        "    context_length=None, # (default: None, in which case context_length = prediction_length).\n",
        "    num_parallel_samples=100, # (default: 100).\n",
        "    cardinality=car, # (default: list([1]).\n",
        "    embedding_dimension=10, # (default: 10).\n",
        "    distr_output=StudentTOutput(), # (default: StudentTOutput()).\n",
        ")"
      ],
      "execution_count": 0,
      "outputs": []
    },
    {
      "cell_type": "code",
      "metadata": {
        "colab_type": "code",
        "outputId": "29c2da54-3cbd-4f59-9f14-0011d1e6e97a",
        "id": "268w4zPdUG-o",
        "colab": {
          "base_uri": "https://localhost:8080/",
          "height": 1000
        }
      },
      "source": [
        "DF_predictor = DF_estimator.train(m4_weekly_dataset.train)"
      ],
      "execution_count": 0,
      "outputs": [
        {
          "output_type": "stream",
          "text": [
            "\r  0%|          | 0/50 [00:00<?, ?it/s]"
          ],
          "name": "stderr"
        },
        {
          "output_type": "stream",
          "text": [
            "learning rate from ``lr_scheduler`` has been overwritten by ``learning_rate`` in optimizer.\n"
          ],
          "name": "stdout"
        },
        {
          "output_type": "stream",
          "text": [
            "100%|██████████| 50/50 [00:01<00:00, 38.59it/s, epoch=1/100, avg_epoch_loss=5.04e+7]\n",
            "100%|██████████| 50/50 [00:01<00:00, 41.87it/s, epoch=2/100, avg_epoch_loss=2.91e+7]\n",
            "100%|██████████| 50/50 [00:01<00:00, 41.01it/s, epoch=3/100, avg_epoch_loss=1.58e+7]\n",
            "100%|██████████| 50/50 [00:01<00:00, 40.17it/s, epoch=4/100, avg_epoch_loss=7.2e+6]\n",
            "100%|██████████| 50/50 [00:01<00:00, 40.83it/s, epoch=5/100, avg_epoch_loss=3.71e+6]\n",
            "100%|██████████| 50/50 [00:01<00:00, 39.88it/s, epoch=6/100, avg_epoch_loss=2.13e+6]\n",
            "100%|██████████| 50/50 [00:01<00:00, 40.99it/s, epoch=7/100, avg_epoch_loss=1.21e+6]\n",
            "100%|██████████| 50/50 [00:01<00:00, 40.21it/s, epoch=8/100, avg_epoch_loss=7.81e+5]\n",
            "100%|██████████| 50/50 [00:01<00:00, 40.51it/s, epoch=9/100, avg_epoch_loss=4.39e+5]\n",
            "100%|██████████| 50/50 [00:01<00:00, 39.74it/s, epoch=10/100, avg_epoch_loss=3.42e+5]\n",
            "100%|██████████| 50/50 [00:01<00:00, 40.60it/s, epoch=11/100, avg_epoch_loss=2.6e+5]\n",
            "100%|██████████| 50/50 [00:01<00:00, 39.67it/s, epoch=12/100, avg_epoch_loss=2.19e+5]\n",
            "100%|██████████| 50/50 [00:01<00:00, 40.41it/s, epoch=13/100, avg_epoch_loss=1.69e+5]\n",
            "100%|██████████| 50/50 [00:01<00:00, 39.96it/s, epoch=14/100, avg_epoch_loss=1.56e+5]\n",
            "100%|██████████| 50/50 [00:01<00:00, 40.39it/s, epoch=15/100, avg_epoch_loss=1.27e+5]\n",
            "100%|██████████| 50/50 [00:01<00:00, 40.24it/s, epoch=16/100, avg_epoch_loss=1.14e+5]\n",
            "100%|██████████| 50/50 [00:01<00:00, 40.47it/s, epoch=17/100, avg_epoch_loss=9.59e+4]\n",
            "100%|██████████| 50/50 [00:01<00:00, 40.63it/s, epoch=18/100, avg_epoch_loss=8.41e+4]\n",
            "100%|██████████| 50/50 [00:01<00:00, 40.48it/s, epoch=19/100, avg_epoch_loss=8.23e+4]\n",
            "100%|██████████| 50/50 [00:01<00:00, 40.95it/s, epoch=20/100, avg_epoch_loss=6.72e+4]\n",
            "100%|██████████| 50/50 [00:01<00:00, 39.59it/s, epoch=21/100, avg_epoch_loss=6.43e+4]\n",
            "100%|██████████| 50/50 [00:01<00:00, 40.75it/s, epoch=22/100, avg_epoch_loss=5.84e+4]\n",
            "100%|██████████| 50/50 [00:01<00:00, 39.83it/s, epoch=23/100, avg_epoch_loss=5.69e+4]\n",
            "100%|██████████| 50/50 [00:01<00:00, 40.66it/s, epoch=24/100, avg_epoch_loss=4.95e+4]\n",
            "100%|██████████| 50/50 [00:01<00:00, 39.97it/s, epoch=25/100, avg_epoch_loss=4.71e+4]\n",
            "100%|██████████| 50/50 [00:01<00:00, 40.29it/s, epoch=26/100, avg_epoch_loss=3.99e+4]\n",
            "100%|██████████| 50/50 [00:01<00:00, 39.97it/s, epoch=27/100, avg_epoch_loss=4.07e+4]\n",
            "100%|██████████| 50/50 [00:01<00:00, 40.07it/s, epoch=28/100, avg_epoch_loss=3.76e+4]\n",
            "100%|██████████| 50/50 [00:01<00:00, 40.56it/s, epoch=29/100, avg_epoch_loss=3.42e+4]\n",
            "100%|██████████| 50/50 [00:01<00:00, 39.98it/s, epoch=30/100, avg_epoch_loss=3.43e+4]\n",
            "100%|██████████| 50/50 [00:01<00:00, 40.21it/s, epoch=31/100, avg_epoch_loss=2.94e+4]\n",
            "100%|██████████| 50/50 [00:01<00:00, 40.38it/s, epoch=32/100, avg_epoch_loss=3.1e+4]\n",
            "100%|██████████| 50/50 [00:01<00:00, 40.47it/s, epoch=33/100, avg_epoch_loss=2.62e+4]\n",
            "100%|██████████| 50/50 [00:01<00:00, 39.96it/s, epoch=34/100, avg_epoch_loss=2.62e+4]\n",
            "100%|██████████| 50/50 [00:01<00:00, 40.82it/s, epoch=35/100, avg_epoch_loss=2.32e+4]\n",
            "100%|██████████| 50/50 [00:01<00:00, 39.94it/s, epoch=36/100, avg_epoch_loss=2.43e+4]\n",
            "100%|██████████| 50/50 [00:01<00:00, 40.76it/s, epoch=37/100, avg_epoch_loss=2.12e+4]\n",
            "100%|██████████| 50/50 [00:01<00:00, 40.34it/s, epoch=38/100, avg_epoch_loss=2.12e+4]\n",
            "100%|██████████| 50/50 [00:01<00:00, 40.63it/s, epoch=39/100, avg_epoch_loss=2e+4]\n",
            "100%|██████████| 50/50 [00:01<00:00, 40.45it/s, epoch=40/100, avg_epoch_loss=1.88e+4]\n",
            "100%|██████████| 50/50 [00:01<00:00, 39.37it/s, epoch=41/100, avg_epoch_loss=1.84e+4]\n",
            "100%|██████████| 50/50 [00:01<00:00, 40.70it/s, epoch=42/100, avg_epoch_loss=1.57e+4]\n",
            "100%|██████████| 50/50 [00:01<00:00, 40.27it/s, epoch=43/100, avg_epoch_loss=1.73e+4]\n",
            "100%|██████████| 50/50 [00:01<00:00, 41.41it/s, epoch=44/100, avg_epoch_loss=1.5e+4]\n",
            "100%|██████████| 50/50 [00:01<00:00, 40.23it/s, epoch=45/100, avg_epoch_loss=1.72e+4]\n",
            "100%|██████████| 50/50 [00:01<00:00, 41.15it/s, epoch=46/100, avg_epoch_loss=1.37e+4]\n",
            "100%|██████████| 50/50 [00:01<00:00, 39.88it/s, epoch=47/100, avg_epoch_loss=1.37e+4]\n",
            "100%|██████████| 50/50 [00:01<00:00, 41.30it/s, epoch=48/100, avg_epoch_loss=1.25e+4]\n",
            "100%|██████████| 50/50 [00:01<00:00, 40.39it/s, epoch=49/100, avg_epoch_loss=1.26e+4]\n",
            "100%|██████████| 50/50 [00:01<00:00, 40.58it/s, epoch=50/100, avg_epoch_loss=1.29e+4]\n",
            "100%|██████████| 50/50 [00:01<00:00, 40.87it/s, epoch=51/100, avg_epoch_loss=1.17e+4]\n",
            "100%|██████████| 50/50 [00:01<00:00, 40.03it/s, epoch=52/100, avg_epoch_loss=1.12e+4]\n",
            "100%|██████████| 50/50 [00:01<00:00, 40.92it/s, epoch=53/100, avg_epoch_loss=1.05e+4]\n",
            "100%|██████████| 50/50 [00:01<00:00, 40.56it/s, epoch=54/100, avg_epoch_loss=1.22e+4]\n",
            "100%|██████████| 50/50 [00:01<00:00, 40.53it/s, epoch=55/100, avg_epoch_loss=9.63e+3]\n",
            "100%|██████████| 50/50 [00:01<00:00, 40.52it/s, epoch=56/100, avg_epoch_loss=1.05e+4]\n",
            "100%|██████████| 50/50 [00:01<00:00, 40.93it/s, epoch=57/100, avg_epoch_loss=9.61e+3]\n",
            "100%|██████████| 50/50 [00:01<00:00, 40.04it/s, epoch=58/100, avg_epoch_loss=9.27e+3]\n",
            "100%|██████████| 50/50 [00:01<00:00, 41.31it/s, epoch=59/100, avg_epoch_loss=9.16e+3]\n",
            "100%|██████████| 50/50 [00:01<00:00, 41.06it/s, epoch=60/100, avg_epoch_loss=8.52e+3]\n",
            "100%|██████████| 50/50 [00:01<00:00, 41.00it/s, epoch=61/100, avg_epoch_loss=8.12e+3]\n",
            "100%|██████████| 50/50 [00:01<00:00, 40.98it/s, epoch=62/100, avg_epoch_loss=7.98e+3]\n",
            "100%|██████████| 50/50 [00:01<00:00, 40.88it/s, epoch=63/100, avg_epoch_loss=7.24e+3]\n",
            "100%|██████████| 50/50 [00:01<00:00, 41.23it/s, epoch=64/100, avg_epoch_loss=7.24e+3]\n",
            "100%|██████████| 50/50 [00:01<00:00, 40.40it/s, epoch=65/100, avg_epoch_loss=6.84e+3]\n",
            "100%|██████████| 50/50 [00:01<00:00, 41.44it/s, epoch=66/100, avg_epoch_loss=6.52e+3]\n",
            "100%|██████████| 50/50 [00:01<00:00, 40.73it/s, epoch=67/100, avg_epoch_loss=6.41e+3]\n",
            "100%|██████████| 50/50 [00:01<00:00, 41.68it/s, epoch=68/100, avg_epoch_loss=6.77e+3]\n",
            "100%|██████████| 50/50 [00:01<00:00, 40.08it/s, epoch=69/100, avg_epoch_loss=6.12e+3]\n",
            "100%|██████████| 50/50 [00:01<00:00, 41.42it/s, epoch=70/100, avg_epoch_loss=5.53e+3]\n",
            "100%|██████████| 50/50 [00:01<00:00, 40.53it/s, epoch=71/100, avg_epoch_loss=5.98e+3]\n",
            "100%|██████████| 50/50 [00:01<00:00, 40.44it/s, epoch=72/100, avg_epoch_loss=5.61e+3]\n",
            "100%|██████████| 50/50 [00:01<00:00, 40.79it/s, epoch=73/100, avg_epoch_loss=5.08e+3]\n",
            "100%|██████████| 50/50 [00:01<00:00, 40.45it/s, epoch=74/100, avg_epoch_loss=4.7e+3]\n",
            "100%|██████████| 50/50 [00:01<00:00, 41.83it/s, epoch=75/100, avg_epoch_loss=4.55e+3]\n",
            "100%|██████████| 50/50 [00:01<00:00, 40.44it/s, epoch=76/100, avg_epoch_loss=4.3e+3]\n",
            "100%|██████████| 50/50 [00:01<00:00, 41.85it/s, epoch=77/100, avg_epoch_loss=4.42e+3]\n",
            "100%|██████████| 50/50 [00:01<00:00, 41.07it/s, epoch=78/100, avg_epoch_loss=4.6e+3]\n",
            "100%|██████████| 50/50 [00:01<00:00, 40.59it/s, epoch=79/100, avg_epoch_loss=4.16e+3]\n",
            "100%|██████████| 50/50 [00:01<00:00, 40.78it/s, epoch=80/100, avg_epoch_loss=3.14e+3]\n",
            "100%|██████████| 50/50 [00:01<00:00, 41.18it/s, epoch=81/100, avg_epoch_loss=3.89e+3]\n",
            "100%|██████████| 50/50 [00:01<00:00, 40.99it/s, epoch=82/100, avg_epoch_loss=4.16e+3]\n",
            "100%|██████████| 50/50 [00:01<00:00, 41.65it/s, epoch=83/100, avg_epoch_loss=3.18e+3]\n",
            "100%|██████████| 50/50 [00:01<00:00, 40.47it/s, epoch=84/100, avg_epoch_loss=3.72e+3]\n",
            "100%|██████████| 50/50 [00:01<00:00, 41.25it/s, epoch=85/100, avg_epoch_loss=3.3e+3]\n",
            "100%|██████████| 50/50 [00:01<00:00, 41.01it/s, epoch=86/100, avg_epoch_loss=2.9e+3]\n",
            "100%|██████████| 50/50 [00:01<00:00, 41.27it/s, epoch=87/100, avg_epoch_loss=3.32e+3]\n",
            "100%|██████████| 50/50 [00:01<00:00, 41.89it/s, epoch=88/100, avg_epoch_loss=2.85e+3]\n",
            "100%|██████████| 50/50 [00:01<00:00, 40.07it/s, epoch=89/100, avg_epoch_loss=3.09e+3]\n",
            "100%|██████████| 50/50 [00:01<00:00, 41.55it/s, epoch=90/100, avg_epoch_loss=2.02e+3]\n",
            "100%|██████████| 50/50 [00:01<00:00, 40.61it/s, epoch=91/100, avg_epoch_loss=2.68e+3]\n",
            "100%|██████████| 50/50 [00:01<00:00, 41.98it/s, epoch=92/100, avg_epoch_loss=2.52e+3]\n",
            "100%|██████████| 50/50 [00:01<00:00, 41.23it/s, epoch=93/100, avg_epoch_loss=2.56e+3]\n",
            "100%|██████████| 50/50 [00:01<00:00, 40.70it/s, epoch=94/100, avg_epoch_loss=1.94e+3]\n",
            "100%|██████████| 50/50 [00:01<00:00, 41.49it/s, epoch=95/100, avg_epoch_loss=1.47e+3]\n",
            "100%|██████████| 50/50 [00:01<00:00, 40.79it/s, epoch=96/100, avg_epoch_loss=2.14e+3]\n",
            "100%|██████████| 50/50 [00:01<00:00, 41.93it/s, epoch=97/100, avg_epoch_loss=1.55e+3]\n",
            "100%|██████████| 50/50 [00:01<00:00, 41.02it/s, epoch=98/100, avg_epoch_loss=1.63e+3]\n",
            "100%|██████████| 50/50 [00:01<00:00, 41.31it/s, epoch=99/100, avg_epoch_loss=1.3e+3]\n",
            "100%|██████████| 50/50 [00:01<00:00, 41.05it/s, epoch=100/100, avg_epoch_loss=1.49e+3]\n"
          ],
          "name": "stderr"
        }
      ]
    },
    {
      "cell_type": "code",
      "metadata": {
        "colab_type": "code",
        "id": "kE6yGMdvUG-x",
        "outputId": "f3d7cfc2-833a-4085-8d28-bc7fd55191f2",
        "colab": {
          "base_uri": "https://localhost:8080/",
          "height": 503
        }
      },
      "source": [
        "forecast_it, ts_it = make_evaluation_predictions(\n",
        "    dataset=m4_weekly_dataset.test, \n",
        "    predictor=DF_predictor, \n",
        "    num_samples=100, \n",
        ")\n",
        "\n",
        "forecasts = list(forecast_it)\n",
        "tss = list(ts_it)\n",
        "\n",
        "evaluator = Evaluator(quantiles=[0.1, 0.5, 0.9])\n",
        "agg_metrics, item_metrics = evaluator(iter(tss), iter(forecasts), num_series=len(m4_weekly_dataset.test))\n",
        "\n",
        "print(json.dumps(agg_metrics, indent=4))"
      ],
      "execution_count": 0,
      "outputs": [
        {
          "output_type": "stream",
          "text": [
            "Running evaluation: 100%|██████████| 359/359 [00:00<00:00, 5850.00it/s]\n"
          ],
          "name": "stderr"
        },
        {
          "output_type": "stream",
          "text": [
            "{\n",
            "    \"MSE\": 3092125.678778238,\n",
            "    \"abs_error\": 5337996.949234009,\n",
            "    \"abs_target_sum\": 25616889.502441406,\n",
            "    \"abs_target_mean\": 5488.941397566194,\n",
            "    \"seasonal_error\": 216.54813922503882,\n",
            "    \"MASE\": 19.148520440241946,\n",
            "    \"MAPE\": 0.2117046438547443,\n",
            "    \"sMAPE\": 0.23647832069685804,\n",
            "    \"OWA\": NaN,\n",
            "    \"MSIS\": 734.0715815119916,\n",
            "    \"QuantileLoss[0.1]\": 1482328.4895713804,\n",
            "    \"Coverage[0.1]\": 0.12384829655024661,\n",
            "    \"QuantileLoss[0.5]\": 5337996.920166016,\n",
            "    \"Coverage[0.5]\": 0.15084636811656327,\n",
            "    \"QuantileLoss[0.9]\": 8908309.51903839,\n",
            "    \"Coverage[0.9]\": 0.19112920505678205,\n",
            "    \"RMSE\": 1758.4441073796568,\n",
            "    \"NRMSE\": 0.32036124637063057,\n",
            "    \"ND\": 0.20837802921878057,\n",
            "    \"wQuantileLoss[0.1]\": 0.057865280225770886,\n",
            "    \"wQuantileLoss[0.5]\": 0.20837802808406072,\n",
            "    \"wQuantileLoss[0.9]\": 0.34775141291800427,\n",
            "    \"mean_wQuantileLoss\": 0.20466490707594528,\n",
            "    \"MAE_Coverage\": 0.3606242411256338\n",
            "}\n"
          ],
          "name": "stdout"
        }
      ]
    },
    {
      "cell_type": "code",
      "metadata": {
        "colab_type": "code",
        "id": "Qad3RV63UG-2",
        "colab": {}
      },
      "source": [
        ""
      ],
      "execution_count": 0,
      "outputs": []
    },
    {
      "cell_type": "markdown",
      "metadata": {
        "colab_type": "text",
        "id": "TYKFITcnUKLQ"
      },
      "source": [
        "## m4_yearly"
      ]
    },
    {
      "cell_type": "code",
      "metadata": {
        "colab_type": "code",
        "id": "0_xBRUYXUKLR",
        "outputId": "bc831dc4-aa15-44c8-d95f-38f09f342918",
        "colab": {
          "base_uri": "https://localhost:8080/",
          "height": 53
        }
      },
      "source": [
        "m4_yearly_dataset = get_dataset(\"m4_yearly\", regenerate=False)"
      ],
      "execution_count": 0,
      "outputs": [
        {
          "output_type": "stream",
          "text": [
            "saving time-series into /root/.mxnet/gluon-ts/datasets/m4_yearly/train/data.json\n",
            "saving time-series into /root/.mxnet/gluon-ts/datasets/m4_yearly/test/data.json\n"
          ],
          "name": "stdout"
        }
      ]
    },
    {
      "cell_type": "code",
      "metadata": {
        "colab_type": "code",
        "id": "QYwTQDmbUKLW",
        "outputId": "a4545bc7-6d30-4bf2-f043-9c802b20fb09",
        "colab": {
          "base_uri": "https://localhost:8080/",
          "height": 53
        }
      },
      "source": [
        "print (len(m4_yearly_dataset.train))\n",
        "print (len(m4_yearly_dataset.test))"
      ],
      "execution_count": 0,
      "outputs": [
        {
          "output_type": "stream",
          "text": [
            "23000\n",
            "23000\n"
          ],
          "name": "stdout"
        }
      ]
    },
    {
      "cell_type": "code",
      "metadata": {
        "colab_type": "code",
        "id": "Vm2erLbqUKLa",
        "outputId": "d9563fbe-338c-4847-bdcc-7c1aede81d98",
        "colab": {
          "base_uri": "https://localhost:8080/",
          "height": 35
        }
      },
      "source": [
        "m4_yearly_dataset.metadata"
      ],
      "execution_count": 0,
      "outputs": [
        {
          "output_type": "execute_result",
          "data": {
            "text/plain": [
              "MetaData(freq='12M', target=None, feat_static_cat=[CategoricalFeatureInfo(name='feat_static_cat', cardinality='23000')], feat_static_real=[], feat_dynamic_real=[], feat_dynamic_cat=[], prediction_length=6)"
            ]
          },
          "metadata": {
            "tags": []
          },
          "execution_count": 76
        }
      ]
    },
    {
      "cell_type": "code",
      "metadata": {
        "colab_type": "code",
        "outputId": "15235b1d-ad47-472e-de70-8fa2ed726b85",
        "id": "p--10RfDqfGS",
        "colab": {
          "base_uri": "https://localhost:8080/",
          "height": 35
        }
      },
      "source": [
        "m4_yearly_dataset.metadata.feat_static_cat[0]"
      ],
      "execution_count": 0,
      "outputs": [
        {
          "output_type": "execute_result",
          "data": {
            "text/plain": [
              "CategoricalFeatureInfo(name='feat_static_cat', cardinality='23000')"
            ]
          },
          "metadata": {
            "tags": []
          },
          "execution_count": 77
        }
      ]
    },
    {
      "cell_type": "code",
      "metadata": {
        "colab_type": "code",
        "id": "8Q0KSV9LqfGY",
        "colab": {}
      },
      "source": [
        "car = [int(m4_yearly_dataset.metadata.feat_static_cat[0].cardinality)]"
      ],
      "execution_count": 0,
      "outputs": []
    },
    {
      "cell_type": "code",
      "metadata": {
        "colab_type": "code",
        "id": "cjR3KORlUKLe",
        "outputId": "4cc22725-78a1-4c31-a711-cbc16a3cfa42",
        "colab": {
          "base_uri": "https://localhost:8080/",
          "height": 35
        }
      },
      "source": [
        "next(iter(m4_yearly_dataset.train)).keys()"
      ],
      "execution_count": 0,
      "outputs": [
        {
          "output_type": "execute_result",
          "data": {
            "text/plain": [
              "dict_keys(['start', 'target', 'feat_static_cat', 'item_id', 'source'])"
            ]
          },
          "metadata": {
            "tags": []
          },
          "execution_count": 79
        }
      ]
    },
    {
      "cell_type": "code",
      "metadata": {
        "colab_type": "code",
        "id": "LjZJvTpaUKLo",
        "colab": {}
      },
      "source": [
        "# https://gluon-ts.mxnet.io/api/gluonts/gluonts.model.deep_factor.html\n",
        "DF_estimator = DeepFactorEstimator(\n",
        "    freq=m4_yearly_dataset.metadata.freq, # Time series frequency\n",
        "    prediction_length=m4_yearly_dataset.metadata.prediction_length, # Prediction length.\n",
        "    num_hidden_global=50, # (default: 50).\n",
        "    num_layers_global=1, # (default: 1).\n",
        "    num_factors=10, # (default: 10).\n",
        "    num_hidden_local=5, # (default: 5).\n",
        "    num_layers_local=1, # (default: 1).\n",
        "    cell_type='lstm', # (default: ‘lstm’).\n",
        "    trainer = deepfactor_trainer, # (default: Trainer()).\n",
        "    context_length=None, # (default: None, in which case context_length = prediction_length).\n",
        "    num_parallel_samples=100, # (default: 100).\n",
        "    cardinality=car, # (default: list([1]).\n",
        "    embedding_dimension=10, # (default: 10).\n",
        "    distr_output=StudentTOutput(), # (default: StudentTOutput()).\n",
        ")"
      ],
      "execution_count": 0,
      "outputs": []
    },
    {
      "cell_type": "code",
      "metadata": {
        "colab_type": "code",
        "outputId": "84df40f8-c91c-4704-bd4d-761e9b486faf",
        "id": "XndJZabPUKLq",
        "colab": {
          "base_uri": "https://localhost:8080/",
          "height": 1000
        }
      },
      "source": [
        "DF_predictor = DF_estimator.train(m4_yearly_dataset.train)"
      ],
      "execution_count": 0,
      "outputs": [
        {
          "output_type": "stream",
          "text": [
            "\r  0%|          | 0/50 [00:00<?, ?it/s]"
          ],
          "name": "stderr"
        },
        {
          "output_type": "stream",
          "text": [
            "learning rate from ``lr_scheduler`` has been overwritten by ``learning_rate`` in optimizer.\n"
          ],
          "name": "stdout"
        },
        {
          "output_type": "stream",
          "text": [
            "100%|██████████| 50/50 [00:00<00:00, 77.00it/s, epoch=1/100, avg_epoch_loss=2.18e+7]\n",
            "100%|██████████| 50/50 [00:00<00:00, 79.48it/s, epoch=2/100, avg_epoch_loss=1.58e+7]\n",
            "100%|██████████| 50/50 [00:00<00:00, 81.74it/s, epoch=3/100, avg_epoch_loss=9.51e+6]\n",
            "100%|██████████| 50/50 [00:00<00:00, 81.88it/s, epoch=4/100, avg_epoch_loss=4.1e+6]\n",
            "100%|██████████| 50/50 [00:00<00:00, 78.83it/s, epoch=5/100, avg_epoch_loss=2.73e+6]\n",
            "100%|██████████| 50/50 [00:00<00:00, 83.40it/s, epoch=6/100, avg_epoch_loss=2.6e+6]\n",
            "100%|██████████| 50/50 [00:00<00:00, 81.56it/s, epoch=7/100, avg_epoch_loss=1.34e+6]\n",
            "100%|██████████| 50/50 [00:00<00:00, 78.42it/s, epoch=8/100, avg_epoch_loss=1.27e+6]\n",
            "100%|██████████| 50/50 [00:00<00:00, 81.56it/s, epoch=9/100, avg_epoch_loss=1.02e+6]\n",
            "100%|██████████| 50/50 [00:00<00:00, 79.76it/s, epoch=10/100, avg_epoch_loss=9.39e+5]\n",
            "100%|██████████| 50/50 [00:00<00:00, 82.57it/s, epoch=11/100, avg_epoch_loss=6.81e+5]\n",
            "100%|██████████| 50/50 [00:00<00:00, 80.37it/s, epoch=12/100, avg_epoch_loss=5.07e+5]\n",
            "100%|██████████| 50/50 [00:00<00:00, 81.56it/s, epoch=13/100, avg_epoch_loss=4.06e+5]\n",
            "100%|██████████| 50/50 [00:00<00:00, 81.62it/s, epoch=14/100, avg_epoch_loss=3.75e+5]\n",
            "100%|██████████| 50/50 [00:00<00:00, 82.30it/s, epoch=15/100, avg_epoch_loss=3.64e+5]\n",
            "100%|██████████| 50/50 [00:00<00:00, 81.46it/s, epoch=16/100, avg_epoch_loss=3.35e+5]\n",
            "100%|██████████| 50/50 [00:00<00:00, 82.66it/s, epoch=17/100, avg_epoch_loss=2.84e+5]\n",
            "100%|██████████| 50/50 [00:00<00:00, 81.71it/s, epoch=18/100, avg_epoch_loss=2.36e+5]\n",
            "100%|██████████| 50/50 [00:00<00:00, 82.37it/s, epoch=19/100, avg_epoch_loss=1.85e+5]\n",
            "100%|██████████| 50/50 [00:00<00:00, 82.60it/s, epoch=20/100, avg_epoch_loss=2.38e+5]\n",
            "100%|██████████| 50/50 [00:00<00:00, 81.09it/s, epoch=21/100, avg_epoch_loss=3.07e+5]\n",
            "100%|██████████| 50/50 [00:00<00:00, 82.51it/s, epoch=22/100, avg_epoch_loss=4.36e+5]\n",
            "100%|██████████| 50/50 [00:00<00:00, 82.17it/s, epoch=23/100, avg_epoch_loss=1.97e+5]\n",
            "100%|██████████| 50/50 [00:00<00:00, 78.82it/s, epoch=24/100, avg_epoch_loss=1.63e+5]\n",
            "100%|██████████| 50/50 [00:00<00:00, 81.42it/s, epoch=25/100, avg_epoch_loss=1.96e+5]\n",
            "100%|██████████| 50/50 [00:00<00:00, 78.52it/s, epoch=26/100, avg_epoch_loss=1.18e+5]\n",
            "100%|██████████| 50/50 [00:00<00:00, 82.69it/s, epoch=27/100, avg_epoch_loss=9.83e+4]\n",
            "100%|██████████| 50/50 [00:00<00:00, 81.58it/s, epoch=28/100, avg_epoch_loss=1.02e+5]\n",
            "100%|██████████| 50/50 [00:00<00:00, 79.32it/s, epoch=29/100, avg_epoch_loss=2.34e+5]\n",
            "100%|██████████| 50/50 [00:00<00:00, 83.55it/s, epoch=30/100, avg_epoch_loss=3.15e+6]\n",
            "100%|██████████| 50/50 [00:00<00:00, 83.28it/s, epoch=31/100, avg_epoch_loss=7.33e+4]\n",
            "100%|██████████| 50/50 [00:00<00:00, 83.35it/s, epoch=32/100, avg_epoch_loss=5.63e+4]\n",
            "100%|██████████| 50/50 [00:00<00:00, 81.19it/s, epoch=33/100, avg_epoch_loss=3.4e+4]\n",
            "100%|██████████| 50/50 [00:00<00:00, 79.66it/s, epoch=34/100, avg_epoch_loss=4.02e+4]\n",
            "100%|██████████| 50/50 [00:00<00:00, 82.53it/s, epoch=35/100, avg_epoch_loss=5.7e+4]\n",
            "100%|██████████| 50/50 [00:00<00:00, 81.98it/s, epoch=36/100, avg_epoch_loss=3.93e+4]\n",
            "100%|██████████| 50/50 [00:00<00:00, 81.15it/s, epoch=37/100, avg_epoch_loss=4.16e+4]\n",
            "100%|██████████| 50/50 [00:00<00:00, 81.69it/s, epoch=38/100, avg_epoch_loss=3.16e+4]\n",
            "100%|██████████| 50/50 [00:00<00:00, 81.47it/s, epoch=39/100, avg_epoch_loss=3.54e+4]\n",
            "100%|██████████| 50/50 [00:00<00:00, 82.85it/s, epoch=40/100, avg_epoch_loss=2.78e+4]\n",
            "100%|██████████| 50/50 [00:00<00:00, 80.93it/s, epoch=41/100, avg_epoch_loss=2.13e+4]\n",
            "100%|██████████| 50/50 [00:00<00:00, 82.58it/s, epoch=42/100, avg_epoch_loss=2.46e+4]\n",
            "100%|██████████| 50/50 [00:00<00:00, 80.37it/s, epoch=43/100, avg_epoch_loss=2.59e+4]\n",
            "100%|██████████| 50/50 [00:00<00:00, 82.31it/s, epoch=44/100, avg_epoch_loss=3.33e+4]\n",
            "100%|██████████| 50/50 [00:00<00:00, 83.43it/s, epoch=45/100, avg_epoch_loss=3.14e+4]\n",
            "100%|██████████| 50/50 [00:00<00:00, 77.91it/s, epoch=46/100, avg_epoch_loss=1.98e+4]\n",
            "100%|██████████| 50/50 [00:00<00:00, 76.32it/s, epoch=47/100, avg_epoch_loss=1.53e+4]\n",
            "100%|██████████| 50/50 [00:00<00:00, 75.74it/s, epoch=48/100, avg_epoch_loss=1.49e+4]\n",
            "100%|██████████| 50/50 [00:00<00:00, 77.69it/s, epoch=49/100, avg_epoch_loss=2.33e+4]\n",
            "100%|██████████| 50/50 [00:00<00:00, 77.94it/s, epoch=50/100, avg_epoch_loss=1.51e+4]\n",
            "100%|██████████| 50/50 [00:00<00:00, 78.53it/s, epoch=51/100, avg_epoch_loss=1.67e+4]\n",
            "100%|██████████| 50/50 [00:00<00:00, 75.75it/s, epoch=52/100, avg_epoch_loss=1.7e+4]\n",
            "100%|██████████| 50/50 [00:00<00:00, 76.38it/s, epoch=53/100, avg_epoch_loss=1.73e+4]\n",
            "100%|██████████| 50/50 [00:00<00:00, 77.06it/s, epoch=54/100, avg_epoch_loss=1.66e+4]\n",
            "100%|██████████| 50/50 [00:00<00:00, 79.67it/s, epoch=55/100, avg_epoch_loss=1.49e+4]\n",
            "100%|██████████| 50/50 [00:00<00:00, 83.16it/s, epoch=56/100, avg_epoch_loss=1.17e+4]\n",
            "100%|██████████| 50/50 [00:00<00:00, 79.36it/s, epoch=57/100, avg_epoch_loss=1.16e+4]\n",
            "100%|██████████| 50/50 [00:00<00:00, 81.25it/s, epoch=58/100, avg_epoch_loss=1.77e+4]\n",
            "100%|██████████| 50/50 [00:00<00:00, 82.59it/s, epoch=59/100, avg_epoch_loss=2.18e+4]\n",
            "100%|██████████| 50/50 [00:00<00:00, 81.80it/s, epoch=60/100, avg_epoch_loss=1.43e+4]\n",
            "100%|██████████| 50/50 [00:00<00:00, 81.87it/s, epoch=61/100, avg_epoch_loss=1.31e+4]\n",
            "100%|██████████| 50/50 [00:00<00:00, 81.96it/s, epoch=62/100, avg_epoch_loss=1.22e+4]\n",
            "100%|██████████| 50/50 [00:00<00:00, 83.87it/s, epoch=63/100, avg_epoch_loss=1.35e+4]\n",
            "100%|██████████| 50/50 [00:00<00:00, 83.56it/s, epoch=64/100, avg_epoch_loss=1.78e+4]\n",
            "100%|██████████| 50/50 [00:00<00:00, 80.33it/s, epoch=65/100, avg_epoch_loss=1.31e+4]\n",
            "100%|██████████| 50/50 [00:00<00:00, 82.65it/s, epoch=66/100, avg_epoch_loss=1.76e+4]\n",
            "100%|██████████| 50/50 [00:00<00:00, 81.76it/s, epoch=67/100, avg_epoch_loss=1.59e+4]\n",
            "100%|██████████| 50/50 [00:00<00:00, 81.25it/s, epoch=68/100, avg_epoch_loss=6.71e+5]\n",
            "100%|██████████| 50/50 [00:00<00:00, 82.83it/s, epoch=69/100, avg_epoch_loss=2.02e+4]\n",
            "100%|██████████| 50/50 [00:00<00:00, 83.14it/s, epoch=70/100, avg_epoch_loss=1.79e+4]\n",
            "100%|██████████| 50/50 [00:00<00:00, 82.42it/s, epoch=71/100, avg_epoch_loss=1.6e+4]\n",
            "100%|██████████| 50/50 [00:00<00:00, 79.90it/s, epoch=72/100, avg_epoch_loss=1.87e+4]\n",
            "100%|██████████| 50/50 [00:00<00:00, 81.41it/s, epoch=73/100, avg_epoch_loss=2.36e+4]\n",
            "100%|██████████| 50/50 [00:00<00:00, 79.92it/s, epoch=74/100, avg_epoch_loss=1.55e+4]\n",
            "100%|██████████| 50/50 [00:00<00:00, 82.30it/s, epoch=75/100, avg_epoch_loss=1.43e+4]\n",
            "100%|██████████| 50/50 [00:00<00:00, 81.45it/s, epoch=76/100, avg_epoch_loss=1.2e+4]\n",
            "100%|██████████| 50/50 [00:00<00:00, 80.67it/s, epoch=77/100, avg_epoch_loss=1.22e+4]\n",
            "100%|██████████| 50/50 [00:00<00:00, 84.09it/s, epoch=78/100, avg_epoch_loss=3.56e+5]\n",
            "100%|██████████| 50/50 [00:00<00:00, 83.13it/s, epoch=79/100, avg_epoch_loss=1.95e+4]\n",
            "100%|██████████| 50/50 [00:00<00:00, 81.53it/s, epoch=80/100, avg_epoch_loss=2.07e+4]\n",
            "100%|██████████| 50/50 [00:00<00:00, 81.44it/s, epoch=81/100, avg_epoch_loss=2e+4]\n",
            "100%|██████████| 50/50 [00:00<00:00, 80.61it/s, epoch=82/100, avg_epoch_loss=2.4e+4]\n",
            "100%|██████████| 50/50 [00:00<00:00, 79.82it/s, epoch=83/100, avg_epoch_loss=2.02e+4]\n",
            "100%|██████████| 50/50 [00:00<00:00, 84.33it/s, epoch=84/100, avg_epoch_loss=1.89e+4]\n",
            "100%|██████████| 50/50 [00:00<00:00, 80.22it/s, epoch=85/100, avg_epoch_loss=1.64e+4]\n",
            "100%|██████████| 50/50 [00:00<00:00, 82.68it/s, epoch=86/100, avg_epoch_loss=1.81e+4]\n",
            "100%|██████████| 50/50 [00:00<00:00, 82.42it/s, epoch=87/100, avg_epoch_loss=2.75e+4]\n",
            "100%|██████████| 50/50 [00:00<00:00, 81.48it/s, epoch=88/100, avg_epoch_loss=5.28e+4]\n",
            "100%|██████████| 50/50 [00:00<00:00, 82.49it/s, epoch=89/100, avg_epoch_loss=2.64e+4]\n",
            "100%|██████████| 50/50 [00:00<00:00, 82.02it/s, epoch=90/100, avg_epoch_loss=1.45e+4]\n",
            "100%|██████████| 50/50 [00:00<00:00, 79.21it/s, epoch=91/100, avg_epoch_loss=1.39e+4]\n",
            "100%|██████████| 50/50 [00:00<00:00, 83.52it/s, epoch=92/100, avg_epoch_loss=2.03e+4]\n",
            "100%|██████████| 50/50 [00:00<00:00, 81.40it/s, epoch=93/100, avg_epoch_loss=1.58e+4]\n",
            "100%|██████████| 50/50 [00:00<00:00, 82.15it/s, epoch=94/100, avg_epoch_loss=1.72e+4]\n",
            "100%|██████████| 50/50 [00:00<00:00, 82.21it/s, epoch=95/100, avg_epoch_loss=2.04e+4]\n",
            "100%|██████████| 50/50 [00:00<00:00, 81.50it/s, epoch=96/100, avg_epoch_loss=2.16e+4]\n",
            "100%|██████████| 50/50 [00:00<00:00, 81.70it/s, epoch=97/100, avg_epoch_loss=2.25e+4]\n",
            "100%|██████████| 50/50 [00:00<00:00, 82.61it/s, epoch=98/100, avg_epoch_loss=4.64e+6]\n",
            "100%|██████████| 50/50 [00:00<00:00, 83.36it/s, epoch=99/100, avg_epoch_loss=2.38e+6]\n",
            "100%|██████████| 50/50 [00:00<00:00, 82.88it/s, epoch=100/100, avg_epoch_loss=7.73e+5]\n"
          ],
          "name": "stderr"
        }
      ]
    },
    {
      "cell_type": "code",
      "metadata": {
        "colab_type": "code",
        "id": "wA7sOd6CUKLu",
        "outputId": "d1911539-ca87-45cc-fac0-7afd73315d78",
        "colab": {
          "base_uri": "https://localhost:8080/",
          "height": 503
        }
      },
      "source": [
        "forecast_it, ts_it = make_evaluation_predictions(\n",
        "    dataset=m4_yearly_dataset.test, \n",
        "    predictor=DF_predictor, \n",
        "    num_samples=100, \n",
        ")\n",
        "\n",
        "forecasts = list(forecast_it)\n",
        "tss = list(ts_it)\n",
        "\n",
        "evaluator = Evaluator(quantiles=[0.1, 0.5, 0.9])\n",
        "agg_metrics, item_metrics = evaluator(iter(tss), iter(forecasts), num_series=len(m4_yearly_dataset.test))\n",
        "\n",
        "print(json.dumps(agg_metrics, indent=4))"
      ],
      "execution_count": 0,
      "outputs": [
        {
          "output_type": "stream",
          "text": [
            "Running evaluation: 100%|██████████| 23000/23000 [00:00<00:00, 66938.11it/s]\n"
          ],
          "name": "stderr"
        },
        {
          "output_type": "stream",
          "text": [
            "{\n",
            "    \"MSE\": 2958111464.9457064,\n",
            "    \"abs_error\": 3132234639.657791,\n",
            "    \"abs_target_sum\": 860724679.6655273,\n",
            "    \"abs_target_mean\": 6237.135359895143,\n",
            "    \"seasonal_error\": 288.79964609563865,\n",
            "    \"MASE\": 92.63026527263264,\n",
            "    \"MAPE\": 3.1088665698625637,\n",
            "    \"sMAPE\": 1.6513679605655567,\n",
            "    \"OWA\": NaN,\n",
            "    \"MSIS\": 3697.2276293340437,\n",
            "    \"QuantileLoss[0.1]\": 4835222257.744239,\n",
            "    \"Coverage[0.1]\": 0.22566666666666663,\n",
            "    \"QuantileLoss[0.5]\": 3132234640.508995,\n",
            "    \"Coverage[0.5]\": 0.2258985507246376,\n",
            "    \"QuantileLoss[0.9]\": 1423850317.3690596,\n",
            "    \"Coverage[0.9]\": 0.22618115942028993,\n",
            "    \"RMSE\": 54388.52328337024,\n",
            "    \"NRMSE\": 8.720112703195303,\n",
            "    \"ND\": 3.63906683943925,\n",
            "    \"wQuantileLoss[0.1]\": 5.617617772529979,\n",
            "    \"wQuantileLoss[0.5]\": 3.639066840428188,\n",
            "    \"wQuantileLoss[0.9]\": 1.6542459522856479,\n",
            "    \"mean_wQuantileLoss\": 3.6369768550812718,\n",
            "    \"MAE_Coverage\": 0.3578623188405797\n",
            "}\n"
          ],
          "name": "stdout"
        }
      ]
    },
    {
      "cell_type": "code",
      "metadata": {
        "colab_type": "code",
        "id": "lV8g1PegUKLy",
        "colab": {}
      },
      "source": [
        ""
      ],
      "execution_count": 0,
      "outputs": []
    },
    {
      "cell_type": "markdown",
      "metadata": {
        "colab_type": "text",
        "id": "aC9YpIM1UQbJ"
      },
      "source": [
        "## traffic"
      ]
    },
    {
      "cell_type": "code",
      "metadata": {
        "colab_type": "code",
        "id": "h2uMLoCRUQbK",
        "outputId": "f2937c87-fc25-4c7d-9b10-dc65aa4ae808",
        "colab": {
          "base_uri": "https://localhost:8080/",
          "height": 53
        }
      },
      "source": [
        "traffic_dataset = get_dataset(\"traffic\", regenerate=False)"
      ],
      "execution_count": 0,
      "outputs": [
        {
          "output_type": "stream",
          "text": [
            "saving time-series into /root/.mxnet/gluon-ts/datasets/traffic/train/data.json\n",
            "saving time-series into /root/.mxnet/gluon-ts/datasets/traffic/test/data.json\n"
          ],
          "name": "stdout"
        }
      ]
    },
    {
      "cell_type": "code",
      "metadata": {
        "colab_type": "code",
        "id": "-1JFshCqUQbM",
        "outputId": "6f68530a-187e-4c3e-a1d4-4368c1cf05ff",
        "colab": {
          "base_uri": "https://localhost:8080/",
          "height": 53
        }
      },
      "source": [
        "print (len(traffic_dataset.train))\n",
        "print (len(traffic_dataset.test))"
      ],
      "execution_count": 0,
      "outputs": [
        {
          "output_type": "stream",
          "text": [
            "862\n",
            "6034\n"
          ],
          "name": "stdout"
        }
      ]
    },
    {
      "cell_type": "code",
      "metadata": {
        "colab_type": "code",
        "id": "C5EDyAIYUQbP",
        "outputId": "1f968aa5-1709-43cf-96b3-429c0e3b4df6",
        "colab": {
          "base_uri": "https://localhost:8080/",
          "height": 35
        }
      },
      "source": [
        "traffic_dataset.metadata"
      ],
      "execution_count": 0,
      "outputs": [
        {
          "output_type": "execute_result",
          "data": {
            "text/plain": [
              "MetaData(freq='H', target=None, feat_static_cat=[CategoricalFeatureInfo(name='feat_static_cat', cardinality='862')], feat_static_real=[], feat_dynamic_real=[], feat_dynamic_cat=[], prediction_length=24)"
            ]
          },
          "metadata": {
            "tags": []
          },
          "execution_count": 85
        }
      ]
    },
    {
      "cell_type": "code",
      "metadata": {
        "colab_type": "code",
        "outputId": "2f48e79c-1541-4c8e-f0cd-8c685d5856c0",
        "id": "ci8ZPwSNqrim",
        "colab": {
          "base_uri": "https://localhost:8080/",
          "height": 35
        }
      },
      "source": [
        "traffic_dataset.metadata.feat_static_cat[0]"
      ],
      "execution_count": 0,
      "outputs": [
        {
          "output_type": "execute_result",
          "data": {
            "text/plain": [
              "CategoricalFeatureInfo(name='feat_static_cat', cardinality='862')"
            ]
          },
          "metadata": {
            "tags": []
          },
          "execution_count": 86
        }
      ]
    },
    {
      "cell_type": "code",
      "metadata": {
        "colab_type": "code",
        "id": "PbmxkMIrqriq",
        "colab": {}
      },
      "source": [
        "car = [int(traffic_dataset.metadata.feat_static_cat[0].cardinality)]"
      ],
      "execution_count": 0,
      "outputs": []
    },
    {
      "cell_type": "code",
      "metadata": {
        "colab_type": "code",
        "id": "DJC6OPsyUQbT",
        "outputId": "39e59015-b372-4395-c78b-4dcb1dfec57c",
        "colab": {
          "base_uri": "https://localhost:8080/",
          "height": 35
        }
      },
      "source": [
        "next(iter(traffic_dataset.train)).keys()"
      ],
      "execution_count": 0,
      "outputs": [
        {
          "output_type": "execute_result",
          "data": {
            "text/plain": [
              "dict_keys(['start', 'target', 'feat_static_cat', 'item_id', 'source'])"
            ]
          },
          "metadata": {
            "tags": []
          },
          "execution_count": 88
        }
      ]
    },
    {
      "cell_type": "code",
      "metadata": {
        "colab_type": "code",
        "id": "B4zoldaEUQbe",
        "colab": {}
      },
      "source": [
        "# https://gluon-ts.mxnet.io/api/gluonts/gluonts.model.deep_factor.html\n",
        "DF_estimator = DeepFactorEstimator(\n",
        "    freq=traffic_dataset.metadata.freq, # Time series frequency\n",
        "    prediction_length=traffic_dataset.metadata.prediction_length, # Prediction length.\n",
        "    num_hidden_global=50, # (default: 50).\n",
        "    num_layers_global=1, # (default: 1).\n",
        "    num_factors=10, # (default: 10).\n",
        "    num_hidden_local=5, # (default: 5).\n",
        "    num_layers_local=1, # (default: 1).\n",
        "    cell_type='lstm', # (default: ‘lstm’).\n",
        "    trainer = deepfactor_trainer, # (default: Trainer()).\n",
        "    context_length=None, # (default: None, in which case context_length = prediction_length).\n",
        "    num_parallel_samples=100, # (default: 100).\n",
        "    cardinality=car, # (default: list([1]).\n",
        "    embedding_dimension=10, # (default: 10).\n",
        "    distr_output=StudentTOutput(), # (default: StudentTOutput()).\n",
        ")"
      ],
      "execution_count": 0,
      "outputs": []
    },
    {
      "cell_type": "code",
      "metadata": {
        "colab_type": "code",
        "outputId": "25213152-9ee9-48ec-e0ab-6dc4bfc81180",
        "id": "SJ-eJ1uYUQbh",
        "colab": {
          "base_uri": "https://localhost:8080/",
          "height": 1000
        }
      },
      "source": [
        "DF_predictor = DF_estimator.train(traffic_dataset.train)"
      ],
      "execution_count": 0,
      "outputs": [
        {
          "output_type": "stream",
          "text": [
            "\r  0%|          | 0/50 [00:00<?, ?it/s]"
          ],
          "name": "stderr"
        },
        {
          "output_type": "stream",
          "text": [
            "learning rate from ``lr_scheduler`` has been overwritten by ``learning_rate`` in optimizer.\n"
          ],
          "name": "stdout"
        },
        {
          "output_type": "stream",
          "text": [
            "100%|██████████| 50/50 [00:06<00:00,  7.35it/s, epoch=1/100, avg_epoch_loss=1.46]\n",
            "100%|██████████| 50/50 [00:06<00:00,  7.39it/s, epoch=2/100, avg_epoch_loss=1.34]\n",
            "100%|██████████| 50/50 [00:06<00:00,  7.28it/s, epoch=3/100, avg_epoch_loss=0.979]\n",
            "100%|██████████| 50/50 [00:06<00:00,  7.20it/s, epoch=4/100, avg_epoch_loss=0.463]\n",
            "100%|██████████| 50/50 [00:06<00:00,  7.25it/s, epoch=5/100, avg_epoch_loss=-.403]\n",
            "100%|██████████| 50/50 [00:06<00:00,  7.25it/s, epoch=6/100, avg_epoch_loss=-1.23]\n",
            "100%|██████████| 50/50 [00:06<00:00,  7.24it/s, epoch=7/100, avg_epoch_loss=-1.35]\n",
            "100%|██████████| 50/50 [00:06<00:00,  7.24it/s, epoch=8/100, avg_epoch_loss=-1.43]\n",
            "100%|██████████| 50/50 [00:06<00:00,  7.17it/s, epoch=9/100, avg_epoch_loss=-1.49]\n",
            "100%|██████████| 50/50 [00:06<00:00,  7.15it/s, epoch=10/100, avg_epoch_loss=-1.52]\n",
            "100%|██████████| 50/50 [00:06<00:00,  7.21it/s, epoch=11/100, avg_epoch_loss=-1.53]\n",
            "100%|██████████| 50/50 [00:06<00:00,  7.15it/s, epoch=12/100, avg_epoch_loss=-1.54]\n",
            "100%|██████████| 50/50 [00:06<00:00,  7.21it/s, epoch=13/100, avg_epoch_loss=-1.56]\n",
            "100%|██████████| 50/50 [00:06<00:00,  7.21it/s, epoch=14/100, avg_epoch_loss=-1.6]\n",
            "100%|██████████| 50/50 [00:06<00:00,  7.25it/s, epoch=15/100, avg_epoch_loss=-1.6]\n",
            "100%|██████████| 50/50 [00:06<00:00,  7.27it/s, epoch=16/100, avg_epoch_loss=-1.62]\n",
            "100%|██████████| 50/50 [00:06<00:00,  7.24it/s, epoch=17/100, avg_epoch_loss=-1.56]\n",
            "100%|██████████| 50/50 [00:06<00:00,  7.25it/s, epoch=18/100, avg_epoch_loss=-1.65]\n",
            "100%|██████████| 50/50 [00:06<00:00,  7.26it/s, epoch=19/100, avg_epoch_loss=-1.64]\n",
            "100%|██████████| 50/50 [00:06<00:00,  7.23it/s, epoch=20/100, avg_epoch_loss=-1.62]\n",
            "100%|██████████| 50/50 [00:06<00:00,  7.27it/s, epoch=21/100, avg_epoch_loss=-1.63]\n",
            "100%|██████████| 50/50 [00:06<00:00,  7.27it/s, epoch=22/100, avg_epoch_loss=-1.52]\n",
            "100%|██████████| 50/50 [00:06<00:00,  7.26it/s, epoch=23/100, avg_epoch_loss=-1.61]\n",
            "100%|██████████| 50/50 [00:06<00:00,  7.24it/s, epoch=24/100, avg_epoch_loss=-1.59]\n",
            "100%|██████████| 50/50 [00:06<00:00,  7.25it/s, epoch=25/100, avg_epoch_loss=-1.69]\n",
            "100%|██████████| 50/50 [00:06<00:00,  7.25it/s, epoch=26/100, avg_epoch_loss=-1.71]\n",
            "100%|██████████| 50/50 [00:08<00:00,  5.60it/s, epoch=27/100, avg_epoch_loss=-1.71]\n",
            "100%|██████████| 50/50 [00:06<00:00,  7.22it/s, epoch=28/100, avg_epoch_loss=-1.72]\n",
            "100%|██████████| 50/50 [00:06<00:00,  7.21it/s, epoch=29/100, avg_epoch_loss=-.668]\n",
            "100%|██████████| 50/50 [00:06<00:00,  7.23it/s, epoch=30/100, avg_epoch_loss=-1.72]\n",
            "100%|██████████| 50/50 [00:06<00:00,  7.23it/s, epoch=31/100, avg_epoch_loss=-.905]\n",
            "100%|██████████| 50/50 [00:06<00:00,  7.24it/s, epoch=32/100, avg_epoch_loss=-1.77]\n",
            "100%|██████████| 50/50 [00:06<00:00,  7.24it/s, epoch=33/100, avg_epoch_loss=-1.73]\n",
            "100%|██████████| 50/50 [00:06<00:00,  7.22it/s, epoch=34/100, avg_epoch_loss=-1.06]\n",
            "100%|██████████| 50/50 [00:06<00:00,  7.20it/s, epoch=35/100, avg_epoch_loss=-1.75]\n",
            "100%|██████████| 50/50 [00:06<00:00,  7.23it/s, epoch=36/100, avg_epoch_loss=-1.75]\n",
            "100%|██████████| 50/50 [00:06<00:00,  7.23it/s, epoch=37/100, avg_epoch_loss=-1.76]\n",
            "100%|██████████| 50/50 [00:06<00:00,  7.21it/s, epoch=38/100, avg_epoch_loss=-1.72]\n",
            "100%|██████████| 50/50 [00:06<00:00,  7.21it/s, epoch=39/100, avg_epoch_loss=2.37]\n",
            "100%|██████████| 50/50 [00:06<00:00,  7.24it/s, epoch=40/100, avg_epoch_loss=-1.63]\n",
            "100%|██████████| 50/50 [00:06<00:00,  7.23it/s, epoch=41/100, avg_epoch_loss=-1.57]\n",
            "100%|██████████| 50/50 [00:06<00:00,  7.22it/s, epoch=42/100, avg_epoch_loss=-1.54]\n",
            "100%|██████████| 50/50 [00:06<00:00,  7.21it/s, epoch=43/100, avg_epoch_loss=-1.88]\n",
            "100%|██████████| 50/50 [00:06<00:00,  7.23it/s, epoch=44/100, avg_epoch_loss=-2.06]\n",
            "100%|██████████| 50/50 [00:06<00:00,  7.23it/s, epoch=45/100, avg_epoch_loss=-2.04]\n",
            "100%|██████████| 50/50 [00:06<00:00,  7.22it/s, epoch=46/100, avg_epoch_loss=-2.05]\n",
            "100%|██████████| 50/50 [00:06<00:00,  7.21it/s, epoch=47/100, avg_epoch_loss=-2.09]\n",
            "100%|██████████| 50/50 [00:06<00:00,  7.23it/s, epoch=48/100, avg_epoch_loss=-2.1]\n",
            "100%|██████████| 50/50 [00:06<00:00,  7.22it/s, epoch=49/100, avg_epoch_loss=-2.13]\n",
            "100%|██████████| 50/50 [00:06<00:00,  7.20it/s, epoch=50/100, avg_epoch_loss=-2.15]\n",
            "100%|██████████| 50/50 [00:06<00:00,  7.22it/s, epoch=51/100, avg_epoch_loss=-2.16]\n",
            "100%|██████████| 50/50 [00:06<00:00,  7.22it/s, epoch=52/100, avg_epoch_loss=-2.19]\n",
            "100%|██████████| 50/50 [00:06<00:00,  7.22it/s, epoch=53/100, avg_epoch_loss=-2.21]\n",
            "100%|██████████| 50/50 [00:07<00:00,  7.10it/s, epoch=54/100, avg_epoch_loss=-2.23]\n",
            "100%|██████████| 50/50 [00:06<00:00,  7.16it/s, epoch=55/100, avg_epoch_loss=-2.25]\n",
            "100%|██████████| 50/50 [00:07<00:00,  7.13it/s, epoch=56/100, avg_epoch_loss=-2.27]\n",
            "100%|██████████| 50/50 [00:06<00:00,  7.25it/s, epoch=57/100, avg_epoch_loss=-2.27]\n",
            "100%|██████████| 50/50 [00:06<00:00,  7.24it/s, epoch=58/100, avg_epoch_loss=-2.29]\n",
            "100%|██████████| 50/50 [00:06<00:00,  7.24it/s, epoch=59/100, avg_epoch_loss=-2.3]\n",
            "100%|██████████| 50/50 [00:06<00:00,  7.22it/s, epoch=60/100, avg_epoch_loss=-2.32]\n",
            "100%|██████████| 50/50 [00:06<00:00,  7.20it/s, epoch=61/100, avg_epoch_loss=-2.34]\n",
            "100%|██████████| 50/50 [00:06<00:00,  7.23it/s, epoch=62/100, avg_epoch_loss=-2.34]\n",
            "100%|██████████| 50/50 [00:06<00:00,  7.22it/s, epoch=63/100, avg_epoch_loss=-2.36]\n",
            "100%|██████████| 50/50 [00:06<00:00,  7.21it/s, epoch=64/100, avg_epoch_loss=-2.37]\n",
            "100%|██████████| 50/50 [00:06<00:00,  7.22it/s, epoch=65/100, avg_epoch_loss=-2.39]\n",
            "100%|██████████| 50/50 [00:06<00:00,  7.25it/s, epoch=66/100, avg_epoch_loss=-2.4]\n",
            "100%|██████████| 50/50 [00:06<00:00,  7.22it/s, epoch=67/100, avg_epoch_loss=-2.42]\n",
            "100%|██████████| 50/50 [00:07<00:00,  7.11it/s, epoch=68/100, avg_epoch_loss=-2.43]\n",
            "100%|██████████| 50/50 [00:06<00:00,  7.22it/s, epoch=69/100, avg_epoch_loss=-2.44]\n",
            "100%|██████████| 50/50 [00:06<00:00,  7.22it/s, epoch=70/100, avg_epoch_loss=-2.45]\n",
            "100%|██████████| 50/50 [00:06<00:00,  7.22it/s, epoch=71/100, avg_epoch_loss=-2.46]\n",
            "100%|██████████| 50/50 [00:06<00:00,  7.24it/s, epoch=72/100, avg_epoch_loss=-2.48]\n",
            "100%|██████████| 50/50 [00:06<00:00,  7.21it/s, epoch=73/100, avg_epoch_loss=-2.49]\n",
            "100%|██████████| 50/50 [00:06<00:00,  7.22it/s, epoch=74/100, avg_epoch_loss=-2.5]\n",
            "100%|██████████| 50/50 [00:06<00:00,  7.24it/s, epoch=75/100, avg_epoch_loss=-2.5]\n",
            "100%|██████████| 50/50 [00:06<00:00,  7.21it/s, epoch=76/100, avg_epoch_loss=-2.51]\n",
            "100%|██████████| 50/50 [00:06<00:00,  7.21it/s, epoch=77/100, avg_epoch_loss=-2.52]\n",
            "100%|██████████| 50/50 [00:06<00:00,  7.22it/s, epoch=78/100, avg_epoch_loss=-2.53]\n",
            "100%|██████████| 50/50 [00:06<00:00,  7.25it/s, epoch=79/100, avg_epoch_loss=-2.55]\n",
            "100%|██████████| 50/50 [00:06<00:00,  7.21it/s, epoch=80/100, avg_epoch_loss=-2.55]\n",
            "100%|██████████| 50/50 [00:06<00:00,  7.23it/s, epoch=81/100, avg_epoch_loss=-2.56]\n",
            "100%|██████████| 50/50 [00:06<00:00,  7.23it/s, epoch=82/100, avg_epoch_loss=-2.57]\n",
            "100%|██████████| 50/50 [00:06<00:00,  7.24it/s, epoch=83/100, avg_epoch_loss=-2.58]\n",
            "100%|██████████| 50/50 [00:06<00:00,  7.23it/s, epoch=84/100, avg_epoch_loss=-2.58]\n",
            "100%|██████████| 50/50 [00:06<00:00,  7.24it/s, epoch=85/100, avg_epoch_loss=-2.58]\n",
            "100%|██████████| 50/50 [00:06<00:00,  7.22it/s, epoch=86/100, avg_epoch_loss=-2.6]\n",
            "100%|██████████| 50/50 [00:06<00:00,  7.23it/s, epoch=87/100, avg_epoch_loss=-2.6]\n",
            "100%|██████████| 50/50 [00:06<00:00,  7.22it/s, epoch=88/100, avg_epoch_loss=-2.61]\n",
            "100%|██████████| 50/50 [00:06<00:00,  7.23it/s, epoch=89/100, avg_epoch_loss=-2.6]\n",
            "100%|██████████| 50/50 [00:06<00:00,  7.23it/s, epoch=90/100, avg_epoch_loss=-2.61]\n",
            "100%|██████████| 50/50 [00:06<00:00,  7.23it/s, epoch=91/100, avg_epoch_loss=-2.61]\n",
            "100%|██████████| 50/50 [00:06<00:00,  7.25it/s, epoch=92/100, avg_epoch_loss=-2.61]\n",
            "100%|██████████| 50/50 [00:06<00:00,  7.22it/s, epoch=93/100, avg_epoch_loss=-2.63]\n",
            "100%|██████████| 50/50 [00:06<00:00,  7.21it/s, epoch=94/100, avg_epoch_loss=-2.62]\n",
            "100%|██████████| 50/50 [00:06<00:00,  7.18it/s, epoch=95/100, avg_epoch_loss=-2.63]\n",
            "100%|██████████| 50/50 [00:06<00:00,  7.18it/s, epoch=96/100, avg_epoch_loss=-2.63]\n",
            "100%|██████████| 50/50 [00:06<00:00,  7.22it/s, epoch=97/100, avg_epoch_loss=-2.63]\n",
            "100%|██████████| 50/50 [00:06<00:00,  7.18it/s, epoch=98/100, avg_epoch_loss=-2.64]\n",
            "100%|██████████| 50/50 [00:07<00:00,  7.06it/s, epoch=99/100, avg_epoch_loss=-2.63]\n",
            "100%|██████████| 50/50 [00:07<00:00,  7.06it/s, epoch=100/100, avg_epoch_loss=-2.65]\n"
          ],
          "name": "stderr"
        }
      ]
    },
    {
      "cell_type": "code",
      "metadata": {
        "colab_type": "code",
        "id": "2uR2JppRUQbk",
        "outputId": "167eb665-7dc0-445a-e3b9-1cffb6bbb488",
        "colab": {
          "base_uri": "https://localhost:8080/",
          "height": 503
        }
      },
      "source": [
        "forecast_it, ts_it = make_evaluation_predictions(\n",
        "    dataset=traffic_dataset.test, \n",
        "    predictor=DF_predictor, \n",
        "    num_samples=100, \n",
        ")\n",
        "\n",
        "forecasts = list(forecast_it)\n",
        "tss = list(ts_it)\n",
        "\n",
        "evaluator = Evaluator(quantiles=[0.1, 0.5, 0.9])\n",
        "agg_metrics, item_metrics = evaluator(iter(tss), iter(forecasts), num_series=len(traffic_dataset.test))\n",
        "\n",
        "print(json.dumps(agg_metrics, indent=4))"
      ],
      "execution_count": 0,
      "outputs": [
        {
          "output_type": "stream",
          "text": [
            "Running evaluation: 100%|██████████| 6034/6034 [00:00<00:00, 67945.74it/s]\n"
          ],
          "name": "stderr"
        },
        {
          "output_type": "stream",
          "text": [
            "{\n",
            "    \"MSE\": 0.002561205598955793,\n",
            "    \"abs_error\": 4733.029822394252,\n",
            "    \"abs_target_sum\": 8672.5710073933,\n",
            "    \"abs_target_mean\": 0.05988682885450042,\n",
            "    \"seasonal_error\": 0.015220711169889612,\n",
            "    \"MASE\": 2.295675025370343,\n",
            "    \"MAPE\": 2.2527044089286816,\n",
            "    \"sMAPE\": 0.6060083968169826,\n",
            "    \"OWA\": NaN,\n",
            "    \"MSIS\": 58.1787454762361,\n",
            "    \"QuantileLoss[0.1]\": 3125.494466629658,\n",
            "    \"Coverage[0.1]\": 0.3311443486907536,\n",
            "    \"QuantileLoss[0.5]\": 4733.029828500352,\n",
            "    \"Coverage[0.5]\": 0.5085211578831068,\n",
            "    \"QuantileLoss[0.9]\": 4200.5266754503355,\n",
            "    \"Coverage[0.9]\": 0.6809123301292679,\n",
            "    \"RMSE\": 0.05060835503111905,\n",
            "    \"NRMSE\": 0.8450665363176247,\n",
            "    \"ND\": 0.5457470245397104,\n",
            "    \"wQuantileLoss[0.1]\": 0.3603884550458218,\n",
            "    \"wQuantileLoss[0.5]\": 0.5457470252437807,\n",
            "    \"wQuantileLoss[0.9]\": 0.48434618429407134,\n",
            "    \"mean_wQuantileLoss\": 0.4634938881945579,\n",
            "    \"MAE_Coverage\": 0.15291772548153085\n",
            "}\n"
          ],
          "name": "stdout"
        }
      ]
    },
    {
      "cell_type": "code",
      "metadata": {
        "colab_type": "code",
        "id": "ex5nwlX0UQbm",
        "colab": {}
      },
      "source": [
        ""
      ],
      "execution_count": 0,
      "outputs": []
    },
    {
      "cell_type": "markdown",
      "metadata": {
        "colab_type": "text",
        "id": "RnSS6911q-cD"
      },
      "source": [
        "## electricity2"
      ]
    },
    {
      "cell_type": "code",
      "metadata": {
        "colab_type": "code",
        "id": "KbmzKuyHq-cE",
        "colab": {}
      },
      "source": [
        "elec_dataset = get_dataset(\"electricity\", regenerate=False)"
      ],
      "execution_count": 0,
      "outputs": []
    },
    {
      "cell_type": "code",
      "metadata": {
        "colab_type": "code",
        "outputId": "f734044d-94a3-4973-efa5-ca5e01cb327c",
        "id": "1r0fBUI1q-cK",
        "colab": {
          "base_uri": "https://localhost:8080/",
          "height": 53
        }
      },
      "source": [
        "print (len(elec_dataset.train))\n",
        "print (len(elec_dataset.test))"
      ],
      "execution_count": 0,
      "outputs": [
        {
          "output_type": "stream",
          "text": [
            "321\n",
            "2247\n"
          ],
          "name": "stdout"
        }
      ]
    },
    {
      "cell_type": "code",
      "metadata": {
        "colab_type": "code",
        "outputId": "ad9ed6ec-0ad9-4029-c44f-41c8ef62d3db",
        "id": "wtYM_DZvq-cP",
        "colab": {
          "base_uri": "https://localhost:8080/",
          "height": 35
        }
      },
      "source": [
        "elec_dataset.metadata"
      ],
      "execution_count": 0,
      "outputs": [
        {
          "output_type": "execute_result",
          "data": {
            "text/plain": [
              "MetaData(freq='1H', target=None, feat_static_cat=[CategoricalFeatureInfo(name='feat_static_cat', cardinality='321')], feat_static_real=[], feat_dynamic_real=[], feat_dynamic_cat=[], prediction_length=24)"
            ]
          },
          "metadata": {
            "tags": []
          },
          "execution_count": 94
        }
      ]
    },
    {
      "cell_type": "code",
      "metadata": {
        "colab_type": "code",
        "outputId": "877e872a-c137-4d1a-99c6-f67d57ac29e3",
        "id": "JXmMK8hiq-cS",
        "colab": {
          "base_uri": "https://localhost:8080/",
          "height": 35
        }
      },
      "source": [
        "elec_dataset.metadata.feat_static_cat[0]"
      ],
      "execution_count": 0,
      "outputs": [
        {
          "output_type": "execute_result",
          "data": {
            "text/plain": [
              "CategoricalFeatureInfo(name='feat_static_cat', cardinality='321')"
            ]
          },
          "metadata": {
            "tags": []
          },
          "execution_count": 95
        }
      ]
    },
    {
      "cell_type": "code",
      "metadata": {
        "colab_type": "code",
        "id": "8YS07p8Hq-cU",
        "colab": {}
      },
      "source": [
        "car = [int(elec_dataset.metadata.feat_static_cat[0].cardinality)]"
      ],
      "execution_count": 0,
      "outputs": []
    },
    {
      "cell_type": "code",
      "metadata": {
        "colab_type": "code",
        "outputId": "8aaa8062-d0de-43af-b14e-1b8294b3e878",
        "id": "wFZip6r7q-cW",
        "colab": {
          "base_uri": "https://localhost:8080/",
          "height": 35
        }
      },
      "source": [
        "next(iter(elec_dataset.train)).keys()"
      ],
      "execution_count": 0,
      "outputs": [
        {
          "output_type": "execute_result",
          "data": {
            "text/plain": [
              "dict_keys(['start', 'target', 'feat_static_cat', 'item_id', 'source'])"
            ]
          },
          "metadata": {
            "tags": []
          },
          "execution_count": 97
        }
      ]
    },
    {
      "cell_type": "code",
      "metadata": {
        "colab_type": "code",
        "id": "kjUR4PYXq-cY",
        "colab": {}
      },
      "source": [
        "test_ds_24 = ListDataset([{FieldName.START: entry['start'],\n",
        "                        FieldName.TARGET: entry['target'],\n",
        "                        FieldName.FEAT_STATIC_CAT: entry['feat_static_cat'],\n",
        "                        FieldName.ITEM_ID: entry['item_id'],\n",
        "                        }\n",
        "                       for entry in iter(elec_dataset.test) if len(entry['target']) == 21068\n",
        "                       ],\n",
        "                     freq=elec_dataset.metadata.freq)"
      ],
      "execution_count": 0,
      "outputs": []
    },
    {
      "cell_type": "code",
      "metadata": {
        "colab_type": "code",
        "id": "sG2wYhYSq-ch",
        "colab": {}
      },
      "source": [
        "# https://gluon-ts.mxnet.io/api/gluonts/gluonts.model.deep_factor.html\n",
        "DF_estimator = DeepFactorEstimator(\n",
        "    freq=elec_dataset.metadata.freq, # Time series frequency\n",
        "    prediction_length=elec_dataset.metadata.prediction_length, # Prediction length.\n",
        "    num_hidden_global=50, # (default: 50).\n",
        "    num_layers_global=1, # (default: 1).\n",
        "    num_factors=10, # (default: 10).\n",
        "    num_hidden_local=5, # (default: 5).\n",
        "    num_layers_local=1, # (default: 1).\n",
        "    cell_type='lstm', # (default: ‘lstm’).\n",
        "    trainer = deepfactor_trainer, # (default: Trainer()).\n",
        "    context_length=None, # (default: None, in which case context_length = prediction_length).\n",
        "    num_parallel_samples=100, # (default: 100).\n",
        "    cardinality=car, # (default: list([1]).\n",
        "    embedding_dimension=10, # (default: 10).\n",
        "    distr_output=StudentTOutput(), # (default: StudentTOutput()).\n",
        ")"
      ],
      "execution_count": 0,
      "outputs": []
    },
    {
      "cell_type": "code",
      "metadata": {
        "colab_type": "code",
        "outputId": "f0176504-c5dc-42a4-8f80-566ff4dcceee",
        "id": "XMatsGpcq-cj",
        "colab": {
          "base_uri": "https://localhost:8080/",
          "height": 1000
        }
      },
      "source": [
        "DF_predictor = DF_estimator.train(elec_dataset.train)"
      ],
      "execution_count": 0,
      "outputs": [
        {
          "output_type": "stream",
          "text": [
            "\r  0%|          | 0/50 [00:00<?, ?it/s]"
          ],
          "name": "stderr"
        },
        {
          "output_type": "stream",
          "text": [
            "learning rate from ``lr_scheduler`` has been overwritten by ``learning_rate`` in optimizer.\n"
          ],
          "name": "stdout"
        },
        {
          "output_type": "stream",
          "text": [
            "100%|██████████| 50/50 [00:09<00:00,  5.15it/s, epoch=1/100, avg_epoch_loss=1.17e+8]\n",
            "100%|██████████| 50/50 [00:09<00:00,  5.14it/s, epoch=2/100, avg_epoch_loss=5.65e+7]\n",
            "100%|██████████| 50/50 [00:09<00:00,  5.10it/s, epoch=3/100, avg_epoch_loss=3.82e+7]\n",
            "100%|██████████| 50/50 [00:09<00:00,  5.11it/s, epoch=4/100, avg_epoch_loss=2.32e+7]\n",
            "100%|██████████| 50/50 [00:09<00:00,  5.09it/s, epoch=5/100, avg_epoch_loss=1.39e+7]\n",
            "100%|██████████| 50/50 [00:09<00:00,  5.10it/s, epoch=6/100, avg_epoch_loss=8.2e+6]\n",
            "100%|██████████| 50/50 [00:09<00:00,  5.09it/s, epoch=7/100, avg_epoch_loss=5.29e+6]\n",
            "100%|██████████| 50/50 [00:09<00:00,  5.10it/s, epoch=8/100, avg_epoch_loss=3.96e+6]\n",
            "100%|██████████| 50/50 [00:09<00:00,  5.09it/s, epoch=9/100, avg_epoch_loss=2.84e+6]\n",
            "100%|██████████| 50/50 [00:09<00:00,  5.10it/s, epoch=10/100, avg_epoch_loss=1.41e+6]\n",
            "100%|██████████| 50/50 [00:09<00:00,  5.09it/s, epoch=11/100, avg_epoch_loss=9.63e+5]\n",
            "100%|██████████| 50/50 [00:09<00:00,  5.11it/s, epoch=12/100, avg_epoch_loss=8.17e+5]\n",
            "100%|██████████| 50/50 [00:09<00:00,  5.10it/s, epoch=13/100, avg_epoch_loss=6.82e+5]\n",
            "100%|██████████| 50/50 [00:09<00:00,  5.10it/s, epoch=14/100, avg_epoch_loss=6.01e+5]\n",
            "100%|██████████| 50/50 [00:09<00:00,  5.09it/s, epoch=15/100, avg_epoch_loss=5.86e+5]\n",
            "100%|██████████| 50/50 [00:09<00:00,  5.10it/s, epoch=16/100, avg_epoch_loss=4.59e+5]\n",
            "100%|██████████| 50/50 [00:09<00:00,  5.11it/s, epoch=17/100, avg_epoch_loss=4.21e+5]\n",
            "100%|██████████| 50/50 [00:09<00:00,  5.08it/s, epoch=18/100, avg_epoch_loss=3.89e+5]\n",
            "100%|██████████| 50/50 [00:09<00:00,  5.10it/s, epoch=19/100, avg_epoch_loss=3.35e+5]\n",
            "100%|██████████| 50/50 [00:09<00:00,  5.04it/s, epoch=20/100, avg_epoch_loss=3.16e+5]\n",
            "100%|██████████| 50/50 [00:09<00:00,  5.00it/s, epoch=21/100, avg_epoch_loss=2.83e+5]\n",
            "100%|██████████| 50/50 [00:09<00:00,  5.10it/s, epoch=22/100, avg_epoch_loss=2.92e+5]\n",
            "100%|██████████| 50/50 [00:09<00:00,  5.08it/s, epoch=23/100, avg_epoch_loss=2.15e+5]\n",
            "100%|██████████| 50/50 [00:09<00:00,  5.11it/s, epoch=24/100, avg_epoch_loss=2.03e+5]\n",
            "100%|██████████| 50/50 [00:09<00:00,  5.11it/s, epoch=25/100, avg_epoch_loss=2.18e+5]\n",
            "100%|██████████| 50/50 [00:09<00:00,  5.10it/s, epoch=26/100, avg_epoch_loss=1.81e+5]\n",
            "100%|██████████| 50/50 [00:09<00:00,  5.10it/s, epoch=27/100, avg_epoch_loss=1.66e+5]\n",
            "100%|██████████| 50/50 [00:09<00:00,  5.09it/s, epoch=28/100, avg_epoch_loss=1.66e+5]\n",
            "100%|██████████| 50/50 [00:09<00:00,  5.10it/s, epoch=29/100, avg_epoch_loss=1.42e+5]\n",
            "100%|██████████| 50/50 [00:09<00:00,  5.10it/s, epoch=30/100, avg_epoch_loss=1.41e+5]\n",
            "100%|██████████| 50/50 [00:09<00:00,  5.10it/s, epoch=31/100, avg_epoch_loss=1.44e+5]\n",
            "100%|██████████| 50/50 [00:09<00:00,  5.08it/s, epoch=32/100, avg_epoch_loss=1.23e+5]\n",
            "100%|██████████| 50/50 [00:09<00:00,  5.09it/s, epoch=33/100, avg_epoch_loss=1.23e+5]\n",
            "100%|██████████| 50/50 [00:09<00:00,  5.08it/s, epoch=34/100, avg_epoch_loss=1.09e+5]\n",
            "100%|██████████| 50/50 [00:09<00:00,  5.09it/s, epoch=35/100, avg_epoch_loss=1e+5]\n",
            "100%|██████████| 50/50 [00:09<00:00,  5.10it/s, epoch=36/100, avg_epoch_loss=9.05e+4]\n",
            "100%|██████████| 50/50 [00:09<00:00,  5.11it/s, epoch=37/100, avg_epoch_loss=1.02e+5]\n",
            "100%|██████████| 50/50 [00:09<00:00,  5.09it/s, epoch=38/100, avg_epoch_loss=8.69e+4]\n",
            "100%|██████████| 50/50 [00:09<00:00,  5.09it/s, epoch=39/100, avg_epoch_loss=9.21e+4]\n",
            "100%|██████████| 50/50 [00:09<00:00,  5.09it/s, epoch=40/100, avg_epoch_loss=7.6e+4]\n",
            "100%|██████████| 50/50 [00:09<00:00,  5.09it/s, epoch=41/100, avg_epoch_loss=7.06e+4]\n",
            "100%|██████████| 50/50 [00:09<00:00,  5.09it/s, epoch=42/100, avg_epoch_loss=7.72e+4]\n",
            "100%|██████████| 50/50 [00:09<00:00,  5.09it/s, epoch=43/100, avg_epoch_loss=6.76e+4]\n",
            "100%|██████████| 50/50 [00:09<00:00,  5.08it/s, epoch=44/100, avg_epoch_loss=7.45e+4]\n",
            "100%|██████████| 50/50 [00:09<00:00,  5.08it/s, epoch=45/100, avg_epoch_loss=7.31e+4]\n",
            "100%|██████████| 50/50 [00:09<00:00,  5.09it/s, epoch=46/100, avg_epoch_loss=7.96e+4]\n",
            "100%|██████████| 50/50 [00:09<00:00,  5.09it/s, epoch=47/100, avg_epoch_loss=5.38e+4]\n",
            "100%|██████████| 50/50 [00:09<00:00,  5.09it/s, epoch=48/100, avg_epoch_loss=4.95e+4]\n",
            "100%|██████████| 50/50 [00:09<00:00,  5.10it/s, epoch=49/100, avg_epoch_loss=5.81e+4]\n",
            "100%|██████████| 50/50 [00:09<00:00,  5.10it/s, epoch=50/100, avg_epoch_loss=5.2e+4]\n",
            "100%|██████████| 50/50 [00:09<00:00,  5.09it/s, epoch=51/100, avg_epoch_loss=6.57e+4]\n",
            "100%|██████████| 50/50 [00:10<00:00,  4.95it/s, epoch=52/100, avg_epoch_loss=4.82e+4]\n",
            "100%|██████████| 50/50 [00:09<00:00,  5.09it/s, epoch=53/100, avg_epoch_loss=4.39e+4]\n",
            "100%|██████████| 50/50 [00:09<00:00,  5.11it/s, epoch=54/100, avg_epoch_loss=4.35e+4]\n",
            "100%|██████████| 50/50 [00:09<00:00,  5.07it/s, epoch=55/100, avg_epoch_loss=3.81e+4]\n",
            "100%|██████████| 50/50 [00:09<00:00,  5.09it/s, epoch=56/100, avg_epoch_loss=3.88e+4]\n",
            "100%|██████████| 50/50 [00:09<00:00,  5.09it/s, epoch=57/100, avg_epoch_loss=3.69e+4]\n",
            "100%|██████████| 50/50 [00:09<00:00,  5.10it/s, epoch=58/100, avg_epoch_loss=3.6e+4]\n",
            "100%|██████████| 50/50 [00:09<00:00,  5.09it/s, epoch=59/100, avg_epoch_loss=3.37e+4]\n",
            "100%|██████████| 50/50 [00:09<00:00,  5.01it/s, epoch=60/100, avg_epoch_loss=3.37e+4]\n",
            "100%|██████████| 50/50 [00:09<00:00,  5.09it/s, epoch=61/100, avg_epoch_loss=3.16e+4]\n",
            "100%|██████████| 50/50 [00:11<00:00,  4.42it/s, epoch=62/100, avg_epoch_loss=3.02e+4]\n",
            "100%|██████████| 50/50 [00:09<00:00,  5.09it/s, epoch=63/100, avg_epoch_loss=3.19e+4]\n",
            "100%|██████████| 50/50 [00:09<00:00,  5.09it/s, epoch=64/100, avg_epoch_loss=2.82e+4]\n",
            "100%|██████████| 50/50 [00:09<00:00,  5.08it/s, epoch=65/100, avg_epoch_loss=2.83e+4]\n",
            "100%|██████████| 50/50 [00:09<00:00,  5.10it/s, epoch=66/100, avg_epoch_loss=2.3e+4]\n",
            "100%|██████████| 50/50 [00:09<00:00,  5.11it/s, epoch=67/100, avg_epoch_loss=2.83e+4]\n",
            "100%|██████████| 50/50 [00:09<00:00,  5.08it/s, epoch=68/100, avg_epoch_loss=2.58e+4]\n",
            "100%|██████████| 50/50 [00:09<00:00,  5.10it/s, epoch=69/100, avg_epoch_loss=2.96e+4]\n",
            "100%|██████████| 50/50 [00:09<00:00,  5.09it/s, epoch=70/100, avg_epoch_loss=2.42e+4]\n",
            "100%|██████████| 50/50 [00:09<00:00,  5.09it/s, epoch=71/100, avg_epoch_loss=2.46e+4]\n",
            "100%|██████████| 50/50 [00:09<00:00,  5.09it/s, epoch=72/100, avg_epoch_loss=2.18e+4]\n",
            "100%|██████████| 50/50 [00:09<00:00,  5.10it/s, epoch=73/100, avg_epoch_loss=2.64e+4]\n",
            "100%|██████████| 50/50 [00:09<00:00,  5.11it/s, epoch=74/100, avg_epoch_loss=2.18e+4]\n",
            "100%|██████████| 50/50 [00:09<00:00,  5.10it/s, epoch=75/100, avg_epoch_loss=2e+4]\n",
            "100%|██████████| 50/50 [00:09<00:00,  5.07it/s, epoch=76/100, avg_epoch_loss=2.41e+4]\n",
            "100%|██████████| 50/50 [00:09<00:00,  5.09it/s, epoch=77/100, avg_epoch_loss=2.13e+4]\n",
            "100%|██████████| 50/50 [00:09<00:00,  5.08it/s, epoch=78/100, avg_epoch_loss=1.86e+4]\n",
            "100%|██████████| 50/50 [00:09<00:00,  5.08it/s, epoch=79/100, avg_epoch_loss=2.07e+4]\n",
            "100%|██████████| 50/50 [00:09<00:00,  5.09it/s, epoch=80/100, avg_epoch_loss=1.86e+4]\n",
            "100%|██████████| 50/50 [00:09<00:00,  5.07it/s, epoch=81/100, avg_epoch_loss=1.7e+4]\n",
            "100%|██████████| 50/50 [00:09<00:00,  5.07it/s, epoch=82/100, avg_epoch_loss=1.94e+4]\n",
            "100%|██████████| 50/50 [00:10<00:00,  5.00it/s, epoch=83/100, avg_epoch_loss=1.69e+4]\n",
            "100%|██████████| 50/50 [00:09<00:00,  5.01it/s, epoch=84/100, avg_epoch_loss=1.68e+4]\n",
            "100%|██████████| 50/50 [00:09<00:00,  5.10it/s, epoch=85/100, avg_epoch_loss=1.57e+4]\n",
            "100%|██████████| 50/50 [00:09<00:00,  5.09it/s, epoch=86/100, avg_epoch_loss=1.77e+4]\n",
            "100%|██████████| 50/50 [00:09<00:00,  5.08it/s, epoch=87/100, avg_epoch_loss=1.49e+4]\n",
            "100%|██████████| 50/50 [00:09<00:00,  5.09it/s, epoch=88/100, avg_epoch_loss=1.43e+4]\n",
            "100%|██████████| 50/50 [00:09<00:00,  5.09it/s, epoch=89/100, avg_epoch_loss=1.31e+4]\n",
            "100%|██████████| 50/50 [00:09<00:00,  5.08it/s, epoch=90/100, avg_epoch_loss=1.1e+4]\n",
            "100%|██████████| 50/50 [00:09<00:00,  5.08it/s, epoch=91/100, avg_epoch_loss=1.17e+4]\n",
            "100%|██████████| 50/50 [00:09<00:00,  5.07it/s, epoch=92/100, avg_epoch_loss=1.08e+4]\n",
            "100%|██████████| 50/50 [00:09<00:00,  5.09it/s, epoch=93/100, avg_epoch_loss=9.36e+3]\n",
            "100%|██████████| 50/50 [00:09<00:00,  5.06it/s, epoch=94/100, avg_epoch_loss=1.1e+4]\n",
            "100%|██████████| 50/50 [00:09<00:00,  5.04it/s, epoch=95/100, avg_epoch_loss=8.99e+3]\n",
            "100%|██████████| 50/50 [00:09<00:00,  5.05it/s, epoch=96/100, avg_epoch_loss=6.74e+3]\n",
            "100%|██████████| 50/50 [00:09<00:00,  5.07it/s, epoch=97/100, avg_epoch_loss=9e+3]\n",
            "100%|██████████| 50/50 [00:09<00:00,  5.07it/s, epoch=98/100, avg_epoch_loss=7.05e+3]\n",
            "100%|██████████| 50/50 [00:09<00:00,  5.06it/s, epoch=99/100, avg_epoch_loss=1.17e+4]\n",
            "100%|██████████| 50/50 [00:09<00:00,  5.04it/s, epoch=100/100, avg_epoch_loss=1.01e+4]\n"
          ],
          "name": "stderr"
        }
      ]
    },
    {
      "cell_type": "code",
      "metadata": {
        "colab_type": "code",
        "id": "aeXL8Vmcq-cl",
        "outputId": "d9b828dd-9b18-4ef0-ff67-af8f787d9467",
        "colab": {
          "base_uri": "https://localhost:8080/",
          "height": 503
        }
      },
      "source": [
        "forecast_it, ts_it = make_evaluation_predictions(\n",
        "    dataset=elec_dataset.test, \n",
        "    predictor=DF_predictor, \n",
        "    num_samples=100, \n",
        ")\n",
        "\n",
        "forecasts = list(forecast_it)\n",
        "tss = list(ts_it)\n",
        "\n",
        "evaluator = Evaluator(quantiles=[0.1, 0.5, 0.9])\n",
        "agg_metrics, item_metrics = evaluator(iter(tss), iter(forecasts), num_series=len(elec_dataset.test))\n",
        "\n",
        "print(json.dumps(agg_metrics, indent=4))"
      ],
      "execution_count": 0,
      "outputs": [
        {
          "output_type": "stream",
          "text": [
            "Running evaluation: 100%|██████████| 2247/2247 [00:00<00:00, 26244.99it/s]\n"
          ],
          "name": "stderr"
        },
        {
          "output_type": "stream",
          "text": [
            "{\n",
            "    \"MSE\": 38011133.90213028,\n",
            "    \"abs_error\": 54565493.10239029,\n",
            "    \"abs_target_sum\": 128632956.0,\n",
            "    \"abs_target_mean\": 2385.272140631948,\n",
            "    \"seasonal_error\": 189.4933819611677,\n",
            "    \"MASE\": 3.9024437813883703,\n",
            "    \"MAPE\": 0.43935678380373255,\n",
            "    \"sMAPE\": 0.3480442307626229,\n",
            "    \"OWA\": NaN,\n",
            "    \"MSIS\": 126.06130128789589,\n",
            "    \"QuantileLoss[0.1]\": 87105837.37931862,\n",
            "    \"Coverage[0.1]\": 0.5967030114226384,\n",
            "    \"QuantileLoss[0.5]\": 54565493.2295739,\n",
            "    \"Coverage[0.5]\": 0.7506675567423224,\n",
            "    \"QuantileLoss[0.9]\": 19288360.186621856,\n",
            "    \"Coverage[0.9]\": 0.8502076843198325,\n",
            "    \"RMSE\": 6165.317015541884,\n",
            "    \"NRMSE\": 2.584743648541697,\n",
            "    \"ND\": 0.42419528244682714,\n",
            "    \"wQuantileLoss[0.1]\": 0.6771657908515966,\n",
            "    \"wQuantileLoss[0.5]\": 0.42419528343555984,\n",
            "    \"wQuantileLoss[0.9]\": 0.14994882172047616,\n",
            "    \"mean_wQuantileLoss\": 0.41710329866921086,\n",
            "    \"MAE_Coverage\": 0.26572096128170947\n",
            "}\n"
          ],
          "name": "stdout"
        }
      ]
    },
    {
      "cell_type": "code",
      "metadata": {
        "colab_type": "code",
        "id": "QV42c2S2q-cp",
        "outputId": "6b2063dc-df3e-4545-d07f-1dbf6b75866f",
        "colab": {
          "base_uri": "https://localhost:8080/",
          "height": 503
        }
      },
      "source": [
        "forecast_it, ts_it = make_evaluation_predictions(\n",
        "    dataset=test_ds_24, \n",
        "    predictor=DF_predictor, \n",
        "    num_samples=100, \n",
        ")\n",
        "\n",
        "forecasts = list(forecast_it)\n",
        "tss = list(ts_it)\n",
        "\n",
        "evaluator = Evaluator(quantiles=[0.1, 0.5, 0.9])\n",
        "agg_metrics, item_metrics = evaluator(iter(tss), iter(forecasts), num_series=len(test_ds_24))\n",
        "\n",
        "print(json.dumps(agg_metrics, indent=4))"
      ],
      "execution_count": 0,
      "outputs": [
        {
          "output_type": "stream",
          "text": [
            "Running evaluation: 100%|██████████| 321/321 [00:00<00:00, 4477.74it/s]\n"
          ],
          "name": "stderr"
        },
        {
          "output_type": "stream",
          "text": [
            "{\n",
            "    \"MSE\": 38731749.65495565,\n",
            "    \"abs_error\": 8171835.9200668335,\n",
            "    \"abs_target_sum\": 17268997.0,\n",
            "    \"abs_target_mean\": 2241.56243509865,\n",
            "    \"seasonal_error\": 189.64815247902152,\n",
            "    \"MASE\": 4.143609634307464,\n",
            "    \"MAPE\": 0.45505713616111676,\n",
            "    \"sMAPE\": 0.37235982025449244,\n",
            "    \"OWA\": NaN,\n",
            "    \"MSIS\": 134.97233582829844,\n",
            "    \"QuantileLoss[0.1]\": 13748536.40445061,\n",
            "    \"Coverage[0.1]\": 0.638759086188993,\n",
            "    \"QuantileLoss[0.5]\": 8171835.93080458,\n",
            "    \"Coverage[0.5]\": 0.783489096573209,\n",
            "    \"QuantileLoss[0.9]\": 2194503.7526630396,\n",
            "    \"Coverage[0.9]\": 0.869807892004154,\n",
            "    \"RMSE\": 6223.483723362314,\n",
            "    \"NRMSE\": 2.7764043623832504,\n",
            "    \"ND\": 0.4732084857080486,\n",
            "    \"wQuantileLoss[0.1]\": 0.7961398339724427,\n",
            "    \"wQuantileLoss[0.5]\": 0.47320848632984186,\n",
            "    \"wQuantileLoss[0.9]\": 0.1270776613524827,\n",
            "    \"mean_wQuantileLoss\": 0.46547532721825574,\n",
            "    \"MAE_Coverage\": 0.28414676358601604\n",
            "}\n"
          ],
          "name": "stdout"
        }
      ]
    },
    {
      "cell_type": "code",
      "metadata": {
        "colab_type": "code",
        "id": "sffvZDWBq-cr",
        "colab": {}
      },
      "source": [
        ""
      ],
      "execution_count": 0,
      "outputs": []
    }
  ]
}