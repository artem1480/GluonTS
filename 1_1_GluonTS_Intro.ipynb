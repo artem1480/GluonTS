{
  "nbformat": 4,
  "nbformat_minor": 0,
  "metadata": {
    "colab": {
      "name": "1.1. GluonTS_Intro",
      "provenance": [],
      "collapsed_sections": [],
      "authorship_tag": "ABX9TyMwtnVhOveUYkipcrsl+36n",
      "include_colab_link": true
    },
    "kernelspec": {
      "name": "python3",
      "display_name": "Python 3"
    },
    "accelerator": "GPU"
  },
  "cells": [
    {
      "cell_type": "markdown",
      "metadata": {
        "id": "view-in-github",
        "colab_type": "text"
      },
      "source": [
        "<a href=\"https://colab.research.google.com/github/iskra3138/GluonTS/blob/master/1_1_GluonTS_Intro.ipynb\" target=\"_parent\"><img src=\"https://colab.research.google.com/assets/colab-badge.svg\" alt=\"Open In Colab\"/></a>"
      ]
    },
    {
      "cell_type": "markdown",
      "metadata": {
        "id": "SR-xvf0i8_zt",
        "colab_type": "text"
      },
      "source": [
        "# GluonTS - Probabilistic Time Series Modeling"
      ]
    },
    {
      "cell_type": "markdown",
      "metadata": {
        "id": "wDjWDzAs9Cdj",
        "colab_type": "text"
      },
      "source": [
        "Ref.: https://gluon-ts.mxnet.io/index.html#"
      ]
    },
    {
      "cell_type": "markdown",
      "metadata": {
        "id": "oMhY4L_g9JUK",
        "colab_type": "text"
      },
      "source": [
        "Gluon Time Series (GluonTS) is the Gluon toolkit for probabilistic time series modeling, focusing on deep learning-based models.\n",
        "\n",
        "GluonTS provides utilities for loading and iterating over time series datasets, state of the art models ready to be trained, and building blocks to define your own models and quickly experiment with different solutions. With GluonTS you can:\n",
        "\n",
        "- Train and evaluate any of the built-in models on your own data, and quickly come up with a solution for your time series tasks.\n",
        "- Use the provided abstractions and building blocks to create custom time series models, and rapidly benchmark them against baseline algorithms."
      ]
    },
    {
      "cell_type": "markdown",
      "metadata": {
        "id": "MtkVPqoH9Rfy",
        "colab_type": "text"
      },
      "source": [
        "## 환경 구현"
      ]
    },
    {
      "cell_type": "markdown",
      "metadata": {
        "id": "-CSLjjP49WWM",
        "colab_type": "text"
      },
      "source": [
        "Colab에서 어떤 GPU가 할당되었는 지 확인"
      ]
    },
    {
      "cell_type": "code",
      "metadata": {
        "id": "WQ0D8LcKy2vu",
        "colab_type": "code",
        "colab": {
          "base_uri": "https://localhost:8080/",
          "height": 302
        },
        "outputId": "e2a9424d-6caa-4614-a283-3a73536f4b7e"
      },
      "source": [
        "!nvidia-smi"
      ],
      "execution_count": 1,
      "outputs": [
        {
          "output_type": "stream",
          "text": [
            "Tue Apr 21 04:39:25 2020       \n",
            "+-----------------------------------------------------------------------------+\n",
            "| NVIDIA-SMI 440.64.00    Driver Version: 418.67       CUDA Version: 10.1     |\n",
            "|-------------------------------+----------------------+----------------------+\n",
            "| GPU  Name        Persistence-M| Bus-Id        Disp.A | Volatile Uncorr. ECC |\n",
            "| Fan  Temp  Perf  Pwr:Usage/Cap|         Memory-Usage | GPU-Util  Compute M. |\n",
            "|===============================+======================+======================|\n",
            "|   0  Tesla P100-PCIE...  Off  | 00000000:00:04.0 Off |                    0 |\n",
            "| N/A   45C    P0    29W / 250W |      0MiB / 16280MiB |      0%      Default |\n",
            "+-------------------------------+----------------------+----------------------+\n",
            "                                                                               \n",
            "+-----------------------------------------------------------------------------+\n",
            "| Processes:                                                       GPU Memory |\n",
            "|  GPU       PID   Type   Process name                             Usage      |\n",
            "|=============================================================================|\n",
            "|  No running processes found                                                 |\n",
            "+-----------------------------------------------------------------------------+\n"
          ],
          "name": "stdout"
        }
      ]
    },
    {
      "cell_type": "markdown",
      "metadata": {
        "id": "fZfXmDXu9b8y",
        "colab_type": "text"
      },
      "source": [
        "MXNET 설치 \n",
        "- GluonTS는 Amazon이 2019년 공개한 Tool로서 MXNET을 backbone으로 사용\n",
        "  - https://aws.amazon.com/blogs/machine-learning/creating-neural-time-series-models-with-gluon-time-series/\n",
        "\n",
        "- 어떤 버전의 MXNET을 설치해야 하는 지는 아래 링크 참고\n",
        "  - https://mxnet.apache.org/get_started/?platform=linux&language=python&processor=gpu&environ=pip&"
      ]
    },
    {
      "cell_type": "code",
      "metadata": {
        "id": "XpYiCxWFwrdF",
        "colab_type": "code",
        "outputId": "ccee29b5-6405-4272-d2c4-e9f12aac551e",
        "colab": {
          "base_uri": "https://localhost:8080/",
          "height": 286
        }
      },
      "source": [
        "# nvidia-smi로 CUDA Version 확인하고 해당되는 MXNET 설치\n",
        "!pip install mxnet-cu101"
      ],
      "execution_count": 2,
      "outputs": [
        {
          "output_type": "stream",
          "text": [
            "Collecting mxnet-cu101\n",
            "\u001b[?25l  Downloading https://files.pythonhosted.org/packages/54/b1/7d01abca10eef104296d2b3f0c59a7dda7573126d079c9e2609e6c17993b/mxnet_cu101-1.6.0-py2.py3-none-manylinux1_x86_64.whl (710.5MB)\n",
            "\u001b[K     |████████████████████████████████| 710.5MB 27kB/s \n",
            "\u001b[?25hCollecting graphviz<0.9.0,>=0.8.1\n",
            "  Downloading https://files.pythonhosted.org/packages/53/39/4ab213673844e0c004bed8a0781a0721a3f6bb23eb8854ee75c236428892/graphviz-0.8.4-py2.py3-none-any.whl\n",
            "Requirement already satisfied: numpy<2.0.0,>1.16.0 in /usr/local/lib/python3.6/dist-packages (from mxnet-cu101) (1.18.2)\n",
            "Requirement already satisfied: requests<3,>=2.20.0 in /usr/local/lib/python3.6/dist-packages (from mxnet-cu101) (2.21.0)\n",
            "Requirement already satisfied: idna<2.9,>=2.5 in /usr/local/lib/python3.6/dist-packages (from requests<3,>=2.20.0->mxnet-cu101) (2.8)\n",
            "Requirement already satisfied: certifi>=2017.4.17 in /usr/local/lib/python3.6/dist-packages (from requests<3,>=2.20.0->mxnet-cu101) (2020.4.5.1)\n",
            "Requirement already satisfied: urllib3<1.25,>=1.21.1 in /usr/local/lib/python3.6/dist-packages (from requests<3,>=2.20.0->mxnet-cu101) (1.24.3)\n",
            "Requirement already satisfied: chardet<3.1.0,>=3.0.2 in /usr/local/lib/python3.6/dist-packages (from requests<3,>=2.20.0->mxnet-cu101) (3.0.4)\n",
            "Installing collected packages: graphviz, mxnet-cu101\n",
            "  Found existing installation: graphviz 0.10.1\n",
            "    Uninstalling graphviz-0.10.1:\n",
            "      Successfully uninstalled graphviz-0.10.1\n",
            "Successfully installed graphviz-0.8.4 mxnet-cu101-1.6.0\n"
          ],
          "name": "stdout"
        }
      ]
    },
    {
      "cell_type": "markdown",
      "metadata": {
        "id": "rYFkgZlI-Tdt",
        "colab_type": "text"
      },
      "source": [
        "colab에서 GluoTS Tutorial을 이용할 때 최신 pydantic package가 설치되면 아래 에러가 나오므로 1.4로 설치해줌\n",
        "- TypeError: create_model() takes exactly 1 positional argument (0 given)\n"
      ]
    },
    {
      "cell_type": "code",
      "metadata": {
        "id": "nxlzLo-B0F7y",
        "colab_type": "code",
        "colab": {
          "base_uri": "https://localhost:8080/",
          "height": 118
        },
        "outputId": "d8328755-c7ec-4832-b6e8-ec1f3d8578d2"
      },
      "source": [
        "!pip install pydantic==1.4"
      ],
      "execution_count": 3,
      "outputs": [
        {
          "output_type": "stream",
          "text": [
            "Collecting pydantic==1.4\n",
            "\u001b[?25l  Downloading https://files.pythonhosted.org/packages/be/9a/a2d9613a70051615a84df6e9d697aad9787ba978bdeb4ad46c754457b3e1/pydantic-1.4-cp36-cp36m-manylinux2010_x86_64.whl (7.5MB)\n",
            "\u001b[K     |████████████████████████████████| 7.5MB 2.5MB/s \n",
            "\u001b[?25hRequirement already satisfied: dataclasses>=0.6; python_version < \"3.7\" in /usr/local/lib/python3.6/dist-packages (from pydantic==1.4) (0.7)\n",
            "Installing collected packages: pydantic\n",
            "Successfully installed pydantic-1.4\n"
          ],
          "name": "stdout"
        }
      ]
    },
    {
      "cell_type": "markdown",
      "metadata": {
        "id": "KrgwGyjH-_1K",
        "colab_type": "text"
      },
      "source": [
        "GluonTS를 설치함\n",
        "- 설치가 완료되면 Restart Runtime Box를 클릭하여 Runtime을 재시작하고 Tutorial을 시작"
      ]
    },
    {
      "cell_type": "code",
      "metadata": {
        "id": "O45K03dixX4N",
        "colab_type": "code",
        "outputId": "60464141-b850-4a92-da15-c34f2f35f96c",
        "colab": {
          "base_uri": "https://localhost:8080/",
          "height": 841
        }
      },
      "source": [
        "!pip install gluonts"
      ],
      "execution_count": 4,
      "outputs": [
        {
          "output_type": "stream",
          "text": [
            "Collecting gluonts\n",
            "\u001b[?25l  Downloading https://files.pythonhosted.org/packages/98/c8/113009b077ca127308470dcd4851e53a6b4ad905fe61f36f28d22ff3a4a5/gluonts-0.4.2-py3-none-any.whl (323kB)\n",
            "\r\u001b[K     |█                               | 10kB 19.9MB/s eta 0:00:01\r\u001b[K     |██                              | 20kB 1.7MB/s eta 0:00:01\r\u001b[K     |███                             | 30kB 2.3MB/s eta 0:00:01\r\u001b[K     |████                            | 40kB 2.5MB/s eta 0:00:01\r\u001b[K     |█████                           | 51kB 2.0MB/s eta 0:00:01\r\u001b[K     |██████                          | 61kB 2.3MB/s eta 0:00:01\r\u001b[K     |███████                         | 71kB 2.6MB/s eta 0:00:01\r\u001b[K     |████████▏                       | 81kB 2.8MB/s eta 0:00:01\r\u001b[K     |█████████▏                      | 92kB 2.9MB/s eta 0:00:01\r\u001b[K     |██████████▏                     | 102kB 2.8MB/s eta 0:00:01\r\u001b[K     |███████████▏                    | 112kB 2.8MB/s eta 0:00:01\r\u001b[K     |████████████▏                   | 122kB 2.8MB/s eta 0:00:01\r\u001b[K     |█████████████▏                  | 133kB 2.8MB/s eta 0:00:01\r\u001b[K     |██████████████▏                 | 143kB 2.8MB/s eta 0:00:01\r\u001b[K     |███████████████▏                | 153kB 2.8MB/s eta 0:00:01\r\u001b[K     |████████████████▎               | 163kB 2.8MB/s eta 0:00:01\r\u001b[K     |█████████████████▎              | 174kB 2.8MB/s eta 0:00:01\r\u001b[K     |██████████████████▎             | 184kB 2.8MB/s eta 0:00:01\r\u001b[K     |███████████████████▎            | 194kB 2.8MB/s eta 0:00:01\r\u001b[K     |████████████████████▎           | 204kB 2.8MB/s eta 0:00:01\r\u001b[K     |█████████████████████▎          | 215kB 2.8MB/s eta 0:00:01\r\u001b[K     |██████████████████████▎         | 225kB 2.8MB/s eta 0:00:01\r\u001b[K     |███████████████████████▎        | 235kB 2.8MB/s eta 0:00:01\r\u001b[K     |████████████████████████▍       | 245kB 2.8MB/s eta 0:00:01\r\u001b[K     |█████████████████████████▍      | 256kB 2.8MB/s eta 0:00:01\r\u001b[K     |██████████████████████████▍     | 266kB 2.8MB/s eta 0:00:01\r\u001b[K     |███████████████████████████▍    | 276kB 2.8MB/s eta 0:00:01\r\u001b[K     |████████████████████████████▍   | 286kB 2.8MB/s eta 0:00:01\r\u001b[K     |█████████████████████████████▍  | 296kB 2.8MB/s eta 0:00:01\r\u001b[K     |██████████████████████████████▍ | 307kB 2.8MB/s eta 0:00:01\r\u001b[K     |███████████████████████████████▍| 317kB 2.8MB/s eta 0:00:01\r\u001b[K     |████████████████████████████████| 327kB 2.8MB/s \n",
            "\u001b[?25hRequirement already satisfied: boto3~=1.0 in /usr/local/lib/python3.6/dist-packages (from gluonts) (1.12.39)\n",
            "Collecting python-dateutil==2.8.0\n",
            "\u001b[?25l  Downloading https://files.pythonhosted.org/packages/41/17/c62faccbfbd163c7f57f3844689e3a78bae1f403648a6afb1d0866d87fbb/python_dateutil-2.8.0-py2.py3-none-any.whl (226kB)\n",
            "\u001b[K     |████████████████████████████████| 235kB 8.7MB/s \n",
            "\u001b[?25hCollecting ujson~=1.35\n",
            "\u001b[?25l  Downloading https://files.pythonhosted.org/packages/16/c4/79f3409bc710559015464e5f49b9879430d8f87498ecdc335899732e5377/ujson-1.35.tar.gz (192kB)\n",
            "\u001b[K     |████████████████████████████████| 194kB 8.8MB/s \n",
            "\u001b[?25hRequirement already satisfied: pydantic~=1.1 in /usr/local/lib/python3.6/dist-packages (from gluonts) (1.4)\n",
            "Requirement already satisfied: numpy~=1.14 in /usr/local/lib/python3.6/dist-packages (from gluonts) (1.18.2)\n",
            "Requirement already satisfied: tqdm~=4.23 in /usr/local/lib/python3.6/dist-packages (from gluonts) (4.38.0)\n",
            "Requirement already satisfied: matplotlib~=3.0 in /usr/local/lib/python3.6/dist-packages (from gluonts) (3.2.1)\n",
            "Collecting pandas<0.26,>=0.25\n",
            "\u001b[?25l  Downloading https://files.pythonhosted.org/packages/52/3f/f6a428599e0d4497e1595030965b5ba455fd8ade6e977e3c819973c4b41d/pandas-0.25.3-cp36-cp36m-manylinux1_x86_64.whl (10.4MB)\n",
            "\u001b[K     |████████████████████████████████| 10.4MB 10.9MB/s \n",
            "\u001b[?25hRequirement already satisfied: holidays<0.10,>=0.9 in /usr/local/lib/python3.6/dist-packages (from gluonts) (0.9.12)\n",
            "Requirement already satisfied: jmespath<1.0.0,>=0.7.1 in /usr/local/lib/python3.6/dist-packages (from boto3~=1.0->gluonts) (0.9.5)\n",
            "Requirement already satisfied: s3transfer<0.4.0,>=0.3.0 in /usr/local/lib/python3.6/dist-packages (from boto3~=1.0->gluonts) (0.3.3)\n",
            "Requirement already satisfied: botocore<1.16.0,>=1.15.39 in /usr/local/lib/python3.6/dist-packages (from boto3~=1.0->gluonts) (1.15.39)\n",
            "Requirement already satisfied: six>=1.5 in /usr/local/lib/python3.6/dist-packages (from python-dateutil==2.8.0->gluonts) (1.12.0)\n",
            "Requirement already satisfied: dataclasses>=0.6; python_version < \"3.7\" in /usr/local/lib/python3.6/dist-packages (from pydantic~=1.1->gluonts) (0.7)\n",
            "Requirement already satisfied: kiwisolver>=1.0.1 in /usr/local/lib/python3.6/dist-packages (from matplotlib~=3.0->gluonts) (1.2.0)\n",
            "Requirement already satisfied: cycler>=0.10 in /usr/local/lib/python3.6/dist-packages (from matplotlib~=3.0->gluonts) (0.10.0)\n",
            "Requirement already satisfied: pyparsing!=2.0.4,!=2.1.2,!=2.1.6,>=2.0.1 in /usr/local/lib/python3.6/dist-packages (from matplotlib~=3.0->gluonts) (2.4.7)\n",
            "Requirement already satisfied: pytz>=2017.2 in /usr/local/lib/python3.6/dist-packages (from pandas<0.26,>=0.25->gluonts) (2018.9)\n",
            "Requirement already satisfied: urllib3<1.26,>=1.20; python_version != \"3.4\" in /usr/local/lib/python3.6/dist-packages (from botocore<1.16.0,>=1.15.39->boto3~=1.0->gluonts) (1.24.3)\n",
            "Requirement already satisfied: docutils<0.16,>=0.10 in /usr/local/lib/python3.6/dist-packages (from botocore<1.16.0,>=1.15.39->boto3~=1.0->gluonts) (0.15.2)\n",
            "Building wheels for collected packages: ujson\n",
            "  Building wheel for ujson (setup.py) ... \u001b[?25l\u001b[?25hdone\n",
            "  Created wheel for ujson: filename=ujson-1.35-cp36-cp36m-linux_x86_64.whl size=68008 sha256=cab732fe476920598210d64af23318e872626b0a14fba8087397f81ab5d07cc7\n",
            "  Stored in directory: /root/.cache/pip/wheels/28/77/e4/0311145b9c2e2f01470e744855131f9e34d6919687550f87d1\n",
            "Successfully built ujson\n",
            "\u001b[31mERROR: google-colab 1.0.0 has requirement pandas~=1.0.0; python_version >= \"3.0\", but you'll have pandas 0.25.3 which is incompatible.\u001b[0m\n",
            "\u001b[31mERROR: albumentations 0.1.12 has requirement imgaug<0.2.7,>=0.2.5, but you'll have imgaug 0.2.9 which is incompatible.\u001b[0m\n",
            "Installing collected packages: python-dateutil, ujson, pandas, gluonts\n",
            "  Found existing installation: python-dateutil 2.8.1\n",
            "    Uninstalling python-dateutil-2.8.1:\n",
            "      Successfully uninstalled python-dateutil-2.8.1\n",
            "  Found existing installation: pandas 1.0.3\n",
            "    Uninstalling pandas-1.0.3:\n",
            "      Successfully uninstalled pandas-1.0.3\n",
            "Successfully installed gluonts-0.4.2 pandas-0.25.3 python-dateutil-2.8.0 ujson-1.35\n"
          ],
          "name": "stdout"
        },
        {
          "output_type": "display_data",
          "data": {
            "application/vnd.colab-display-data+json": {
              "pip_warning": {
                "packages": [
                  "dateutil",
                  "pandas"
                ]
              }
            }
          },
          "metadata": {
            "tags": []
          }
        }
      ]
    },
    {
      "cell_type": "markdown",
      "metadata": {
        "id": "3vT9Izif_bPO",
        "colab_type": "text"
      },
      "source": [
        "## Get Started: A Quick Example"
      ]
    },
    {
      "cell_type": "markdown",
      "metadata": {
        "id": "zDHWwLXE_eBJ",
        "colab_type": "text"
      },
      "source": [
        "Here is a simple time series example with GluonTS for predicting Twitter volume with DeepAR."
      ]
    },
    {
      "cell_type": "code",
      "metadata": {
        "id": "0bDrNy9ZwgLd",
        "colab_type": "code",
        "colab": {
          "base_uri": "https://localhost:8080/",
          "height": 1000
        },
        "outputId": "79261c83-27c4-4c10-ef4b-142e3d1376c8"
      },
      "source": [
        "from gluonts.dataset import common\n",
        "from gluonts.model import deepar\n",
        "from gluonts.trainer import Trainer\n",
        "\n",
        "import pandas as pd\n",
        "\n",
        "url = \"https://raw.githubusercontent.com/numenta/NAB/master/data/realTweets/Twitter_volume_AMZN.csv\"\n",
        "df = pd.read_csv(url, header=0, index_col=0)\n",
        "data = common.ListDataset([{\"start\": df.index[0],\n",
        "                            \"target\": df.value[:\"2015-04-05 00:00:00\"]}],\n",
        "                          freq=\"5min\")\n",
        "\n",
        "trainer = Trainer(epochs=10)\n",
        "estimator = deepar.DeepAREstimator(freq=\"5min\", prediction_length=12, trainer=trainer)\n",
        "predictor = estimator.train(training_data=data)\n",
        "\n",
        "prediction = next(predictor.predict(data))\n",
        "print(prediction.mean)\n",
        "prediction.plot(output_file='graph.png')"
      ],
      "execution_count": 1,
      "outputs": [
        {
          "output_type": "stream",
          "text": [
            "INFO:root:Using GPU\n",
            "INFO:root:Using GPU\n",
            "INFO:root:Start model training\n",
            "INFO:root:Epoch[0] Learning rate is 0.001\n",
            "  0%|          | 0/50 [00:00<?, ?it/s]INFO:numexpr.utils:NumExpr defaulting to 2 threads.\n"
          ],
          "name": "stderr"
        },
        {
          "output_type": "stream",
          "text": [
            "learning rate from ``lr_scheduler`` has been overwritten by ``learning_rate`` in optimizer.\n"
          ],
          "name": "stdout"
        },
        {
          "output_type": "stream",
          "text": [
            "INFO:root:Number of parameters in DeepARTrainingNetwork: 26844\n",
            "100%|██████████| 50/50 [00:11<00:00,  4.34it/s, avg_epoch_loss=4.68]\n",
            "INFO:root:Epoch[0] Elapsed time 11.535 seconds\n",
            "INFO:root:Epoch[0] Evaluation metric 'epoch_loss'=4.683112\n",
            "INFO:root:Epoch[1] Learning rate is 0.001\n",
            "100%|██████████| 50/50 [00:04<00:00, 10.25it/s, avg_epoch_loss=5.76]\n",
            "INFO:root:Epoch[1] Elapsed time 4.880 seconds\n",
            "INFO:root:Epoch[1] Evaluation metric 'epoch_loss'=5.763791\n",
            "INFO:root:Epoch[2] Learning rate is 0.001\n",
            "100%|██████████| 50/50 [00:05<00:00,  9.76it/s, avg_epoch_loss=5.63]\n",
            "INFO:root:Epoch[2] Elapsed time 5.129 seconds\n",
            "INFO:root:Epoch[2] Evaluation metric 'epoch_loss'=5.632390\n",
            "INFO:root:Epoch[3] Learning rate is 0.001\n",
            "100%|██████████| 50/50 [00:05<00:00,  9.63it/s, avg_epoch_loss=4.09]\n",
            "INFO:root:Epoch[3] Elapsed time 5.202 seconds\n",
            "INFO:root:Epoch[3] Evaluation metric 'epoch_loss'=4.091240\n",
            "INFO:root:Epoch[4] Learning rate is 0.001\n",
            "100%|██████████| 50/50 [00:05<00:00,  9.75it/s, avg_epoch_loss=4.04]\n",
            "INFO:root:Epoch[4] Elapsed time 5.131 seconds\n",
            "INFO:root:Epoch[4] Evaluation metric 'epoch_loss'=4.040568\n",
            "INFO:root:Epoch[5] Learning rate is 0.001\n",
            "100%|██████████| 50/50 [00:04<00:00, 10.06it/s, avg_epoch_loss=5.49]\n",
            "INFO:root:Epoch[5] Elapsed time 4.973 seconds\n",
            "INFO:root:Epoch[5] Evaluation metric 'epoch_loss'=5.488391\n",
            "INFO:root:Epoch[6] Learning rate is 0.001\n",
            "100%|██████████| 50/50 [00:05<00:00,  9.90it/s, avg_epoch_loss=4.02]\n",
            "INFO:root:Epoch[6] Elapsed time 5.053 seconds\n",
            "INFO:root:Epoch[6] Evaluation metric 'epoch_loss'=4.024759\n",
            "INFO:root:Epoch[7] Learning rate is 0.001\n",
            "100%|██████████| 50/50 [00:04<00:00, 10.01it/s, avg_epoch_loss=5.32]\n",
            "INFO:root:Epoch[7] Elapsed time 5.001 seconds\n",
            "INFO:root:Epoch[7] Evaluation metric 'epoch_loss'=5.318691\n",
            "INFO:root:Epoch[8] Learning rate is 0.001\n",
            "100%|██████████| 50/50 [00:05<00:00,  9.70it/s, avg_epoch_loss=4]\n",
            "INFO:root:Epoch[8] Elapsed time 5.161 seconds\n",
            "INFO:root:Epoch[8] Evaluation metric 'epoch_loss'=4.001623\n",
            "INFO:root:Epoch[9] Learning rate is 0.001\n",
            "100%|██████████| 50/50 [00:05<00:00,  9.93it/s, avg_epoch_loss=4]\n",
            "INFO:root:Epoch[9] Elapsed time 5.040 seconds\n",
            "INFO:root:Epoch[9] Evaluation metric 'epoch_loss'=4.000916\n",
            "INFO:root:Loading parameters from best epoch (9)\n",
            "INFO:root:Final loss: 4.000916194915772 (occurred at epoch 9)\n",
            "INFO:root:End model training\n"
          ],
          "name": "stderr"
        },
        {
          "output_type": "stream",
          "text": [
            "[47.82982  49.40203  46.333298 47.527176 47.98694  45.088913 43.841972\n",
            " 41.814743 42.453415 41.55016  46.339466 43.866344]\n"
          ],
          "name": "stdout"
        },
        {
          "output_type": "display_data",
          "data": {
            "image/png": "[encoded data removed]",
            "text/plain": [
              "<Figure size 432x288 with 1 Axes>"
            ]
          },
          "metadata": {
            "tags": [],
            "needs_background": "light"
          }
        }
      ]
    },
    {
      "cell_type": "markdown",
      "metadata": {
        "id": "1iuzrm7YDEcT",
        "colab_type": "text"
      },
      "source": [
        "- 똑같은 코드를 CPU버전으로 돌려봤을 때와의 시간차이가 크지 않음\n",
        " - https://colab.research.google.com/github/iskra3138/GluonTS/blob/master/1.2.%20GluonTS_Intro_cpu.ipynb\n",
        "- MXNET의 문제인지, 시계열 분석의 특징인지, DeepAR의 특징인지는 향후 검증 필요함!!! "
      ]
    },
    {
      "cell_type": "code",
      "metadata": {
        "id": "4xMlziyr0l8f",
        "colab_type": "code",
        "colab": {}
      },
      "source": [
        ""
      ],
      "execution_count": 0,
      "outputs": []
    },
    {
      "cell_type": "code",
      "metadata": {
        "id": "9UgUhZat0W8A",
        "colab_type": "code",
        "colab": {}
      },
      "source": [
        ""
      ],
      "execution_count": 0,
      "outputs": []
    }
  ]
}