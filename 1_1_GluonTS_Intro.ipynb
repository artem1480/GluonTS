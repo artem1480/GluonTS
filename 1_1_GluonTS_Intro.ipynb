{
  "nbformat": 4,
  "nbformat_minor": 0,
  "metadata": {
    "colab": {
      "name": "1.1. GluonTS_Intro",
      "provenance": [],
      "collapsed_sections": [],
      "authorship_tag": "ABX9TyPOjV7k0usLQIdygXbLwCsX",
      "include_colab_link": true
    },
    "kernelspec": {
      "name": "python3",
      "display_name": "Python 3"
    },
    "accelerator": "GPU"
  },
  "cells": [
    {
      "cell_type": "markdown",
      "metadata": {
        "id": "view-in-github",
        "colab_type": "text"
      },
      "source": [
        "<a href=\"https://colab.research.google.com/github/iskra3138/GluonTS/blob/master/1_1_GluonTS_Intro.ipynb\" target=\"_parent\"><img src=\"https://colab.research.google.com/assets/colab-badge.svg\" alt=\"Open In Colab\"/></a>"
      ]
    },
    {
      "cell_type": "markdown",
      "metadata": {
        "id": "SR-xvf0i8_zt",
        "colab_type": "text"
      },
      "source": [
        "# GluonTS - Probabilistic Time Series Modeling"
      ]
    },
    {
      "cell_type": "markdown",
      "metadata": {
        "id": "wDjWDzAs9Cdj",
        "colab_type": "text"
      },
      "source": [
        "Ref.: https://gluon-ts.mxnet.io/index.html#"
      ]
    },
    {
      "cell_type": "markdown",
      "metadata": {
        "id": "oMhY4L_g9JUK",
        "colab_type": "text"
      },
      "source": [
        "Gluon Time Series (GluonTS) is the Gluon toolkit for probabilistic time series modeling, focusing on deep learning-based models.\n",
        "\n",
        "GluonTS provides utilities for loading and iterating over time series datasets, state of the art models ready to be trained, and building blocks to define your own models and quickly experiment with different solutions. With GluonTS you can:\n",
        "\n",
        "- Train and evaluate any of the built-in models on your own data, and quickly come up with a solution for your time series tasks.\n",
        "- Use the provided abstractions and building blocks to create custom time series models, and rapidly benchmark them against baseline algorithms."
      ]
    },
    {
      "cell_type": "markdown",
      "metadata": {
        "id": "MtkVPqoH9Rfy",
        "colab_type": "text"
      },
      "source": [
        "## 환경 구현"
      ]
    },
    {
      "cell_type": "markdown",
      "metadata": {
        "id": "-CSLjjP49WWM",
        "colab_type": "text"
      },
      "source": [
        "Colab에서 어떤 GPU가 할당되었는 지 확인"
      ]
    },
    {
      "cell_type": "code",
      "metadata": {
        "id": "WQ0D8LcKy2vu",
        "colab_type": "code",
        "outputId": "17ac94e0-9e7b-431d-a7a9-86ba038807af",
        "colab": {
          "base_uri": "https://localhost:8080/",
          "height": 302
        }
      },
      "source": [
        "!nvidia-smi"
      ],
      "execution_count": 2,
      "outputs": [
        {
          "output_type": "stream",
          "text": [
            "Tue Apr 21 16:32:03 2020       \n",
            "+-----------------------------------------------------------------------------+\n",
            "| NVIDIA-SMI 440.64.00    Driver Version: 418.67       CUDA Version: 10.1     |\n",
            "|-------------------------------+----------------------+----------------------+\n",
            "| GPU  Name        Persistence-M| Bus-Id        Disp.A | Volatile Uncorr. ECC |\n",
            "| Fan  Temp  Perf  Pwr:Usage/Cap|         Memory-Usage | GPU-Util  Compute M. |\n",
            "|===============================+======================+======================|\n",
            "|   0  Tesla P4            Off  | 00000000:00:04.0 Off |                    0 |\n",
            "| N/A   44C    P8     7W /  75W |      0MiB /  7611MiB |      0%      Default |\n",
            "+-------------------------------+----------------------+----------------------+\n",
            "                                                                               \n",
            "+-----------------------------------------------------------------------------+\n",
            "| Processes:                                                       GPU Memory |\n",
            "|  GPU       PID   Type   Process name                             Usage      |\n",
            "|=============================================================================|\n",
            "|  No running processes found                                                 |\n",
            "+-----------------------------------------------------------------------------+\n"
          ],
          "name": "stdout"
        }
      ]
    },
    {
      "cell_type": "markdown",
      "metadata": {
        "id": "fZfXmDXu9b8y",
        "colab_type": "text"
      },
      "source": [
        "MXNET 설치 \n",
        "- GluonTS는 Amazon이 2019년 공개한 Tool로서 MXNET을 backbone으로 사용\n",
        "  - https://aws.amazon.com/blogs/machine-learning/creating-neural-time-series-models-with-gluon-time-series/\n",
        "\n",
        "- 어떤 버전의 MXNET을 설치해야 하는 지는 아래 링크 참고\n",
        "  - https://mxnet.apache.org/get_started/?platform=linux&language=python&processor=gpu&environ=pip&"
      ]
    },
    {
      "cell_type": "code",
      "metadata": {
        "id": "XpYiCxWFwrdF",
        "colab_type": "code",
        "outputId": "932195a6-c976-4c61-db63-e07f7c111e60",
        "colab": {
          "base_uri": "https://localhost:8080/",
          "height": 286
        }
      },
      "source": [
        "# nvidia-smi로 CUDA Version 확인하고 해당되는 MXNET 설치\n",
        "!pip install mxnet-cu101"
      ],
      "execution_count": 3,
      "outputs": [
        {
          "output_type": "stream",
          "text": [
            "Collecting mxnet-cu101\n",
            "\u001b[?25l  Downloading https://files.pythonhosted.org/packages/54/b1/7d01abca10eef104296d2b3f0c59a7dda7573126d079c9e2609e6c17993b/mxnet_cu101-1.6.0-py2.py3-none-manylinux1_x86_64.whl (710.5MB)\n",
            "\u001b[K     |████████████████████████████████| 710.5MB 25kB/s \n",
            "\u001b[?25hRequirement already satisfied: requests<3,>=2.20.0 in /usr/local/lib/python3.6/dist-packages (from mxnet-cu101) (2.21.0)\n",
            "Collecting graphviz<0.9.0,>=0.8.1\n",
            "  Downloading https://files.pythonhosted.org/packages/53/39/4ab213673844e0c004bed8a0781a0721a3f6bb23eb8854ee75c236428892/graphviz-0.8.4-py2.py3-none-any.whl\n",
            "Requirement already satisfied: numpy<2.0.0,>1.16.0 in /usr/local/lib/python3.6/dist-packages (from mxnet-cu101) (1.18.2)\n",
            "Requirement already satisfied: idna<2.9,>=2.5 in /usr/local/lib/python3.6/dist-packages (from requests<3,>=2.20.0->mxnet-cu101) (2.8)\n",
            "Requirement already satisfied: urllib3<1.25,>=1.21.1 in /usr/local/lib/python3.6/dist-packages (from requests<3,>=2.20.0->mxnet-cu101) (1.24.3)\n",
            "Requirement already satisfied: certifi>=2017.4.17 in /usr/local/lib/python3.6/dist-packages (from requests<3,>=2.20.0->mxnet-cu101) (2020.4.5.1)\n",
            "Requirement already satisfied: chardet<3.1.0,>=3.0.2 in /usr/local/lib/python3.6/dist-packages (from requests<3,>=2.20.0->mxnet-cu101) (3.0.4)\n",
            "Installing collected packages: graphviz, mxnet-cu101\n",
            "  Found existing installation: graphviz 0.10.1\n",
            "    Uninstalling graphviz-0.10.1:\n",
            "      Successfully uninstalled graphviz-0.10.1\n",
            "Successfully installed graphviz-0.8.4 mxnet-cu101-1.6.0\n"
          ],
          "name": "stdout"
        }
      ]
    },
    {
      "cell_type": "markdown",
      "metadata": {
        "id": "rYFkgZlI-Tdt",
        "colab_type": "text"
      },
      "source": [
        "colab에서 GluoTS Tutorial을 이용할 때 최신 pydantic package가 설치되면 아래 에러가 나오므로 1.4로 설치해줌\n",
        "- TypeError: create_model() takes exactly 1 positional argument (0 given)\n"
      ]
    },
    {
      "cell_type": "code",
      "metadata": {
        "id": "nxlzLo-B0F7y",
        "colab_type": "code",
        "outputId": "0fa000fd-db22-4f9f-aed9-722730261283",
        "colab": {
          "base_uri": "https://localhost:8080/",
          "height": 118
        }
      },
      "source": [
        "!pip install pydantic==1.4"
      ],
      "execution_count": 4,
      "outputs": [
        {
          "output_type": "stream",
          "text": [
            "Collecting pydantic==1.4\n",
            "\u001b[?25l  Downloading https://files.pythonhosted.org/packages/be/9a/a2d9613a70051615a84df6e9d697aad9787ba978bdeb4ad46c754457b3e1/pydantic-1.4-cp36-cp36m-manylinux2010_x86_64.whl (7.5MB)\n",
            "\u001b[K     |████████████████████████████████| 7.5MB 413kB/s \n",
            "\u001b[?25hRequirement already satisfied: dataclasses>=0.6; python_version < \"3.7\" in /usr/local/lib/python3.6/dist-packages (from pydantic==1.4) (0.7)\n",
            "Installing collected packages: pydantic\n",
            "Successfully installed pydantic-1.4\n"
          ],
          "name": "stdout"
        }
      ]
    },
    {
      "cell_type": "markdown",
      "metadata": {
        "id": "KrgwGyjH-_1K",
        "colab_type": "text"
      },
      "source": [
        "GluonTS를 설치함\n",
        "- 설치가 완료되면 Restart Runtime Box를 클릭하여 Runtime을 재시작하고 Tutorial을 시작"
      ]
    },
    {
      "cell_type": "code",
      "metadata": {
        "id": "O45K03dixX4N",
        "colab_type": "code",
        "outputId": "dfe90784-d6e5-43dd-f4af-8d1cf649a518",
        "colab": {
          "base_uri": "https://localhost:8080/",
          "height": 841
        }
      },
      "source": [
        "!pip install gluonts"
      ],
      "execution_count": 5,
      "outputs": [
        {
          "output_type": "stream",
          "text": [
            "Collecting gluonts\n",
            "\u001b[?25l  Downloading https://files.pythonhosted.org/packages/98/c8/113009b077ca127308470dcd4851e53a6b4ad905fe61f36f28d22ff3a4a5/gluonts-0.4.2-py3-none-any.whl (323kB)\n",
            "\r\u001b[K     |█                               | 10kB 27.3MB/s eta 0:00:01\r\u001b[K     |██                              | 20kB 31.4MB/s eta 0:00:01\r\u001b[K     |███                             | 30kB 36.1MB/s eta 0:00:01\r\u001b[K     |████                            | 40kB 26.8MB/s eta 0:00:01\r\u001b[K     |█████                           | 51kB 15.5MB/s eta 0:00:01\r\u001b[K     |██████                          | 61kB 14.3MB/s eta 0:00:01\r\u001b[K     |███████                         | 71kB 14.4MB/s eta 0:00:01\r\u001b[K     |████████▏                       | 81kB 14.1MB/s eta 0:00:01\r\u001b[K     |█████████▏                      | 92kB 13.6MB/s eta 0:00:01\r\u001b[K     |██████████▏                     | 102kB 14.0MB/s eta 0:00:01\r\u001b[K     |███████████▏                    | 112kB 14.0MB/s eta 0:00:01\r\u001b[K     |████████████▏                   | 122kB 14.0MB/s eta 0:00:01\r\u001b[K     |█████████████▏                  | 133kB 14.0MB/s eta 0:00:01\r\u001b[K     |██████████████▏                 | 143kB 14.0MB/s eta 0:00:01\r\u001b[K     |███████████████▏                | 153kB 14.0MB/s eta 0:00:01\r\u001b[K     |████████████████▎               | 163kB 14.0MB/s eta 0:00:01\r\u001b[K     |█████████████████▎              | 174kB 14.0MB/s eta 0:00:01\r\u001b[K     |██████████████████▎             | 184kB 14.0MB/s eta 0:00:01\r\u001b[K     |███████████████████▎            | 194kB 14.0MB/s eta 0:00:01\r\u001b[K     |████████████████████▎           | 204kB 14.0MB/s eta 0:00:01\r\u001b[K     |█████████████████████▎          | 215kB 14.0MB/s eta 0:00:01\r\u001b[K     |██████████████████████▎         | 225kB 14.0MB/s eta 0:00:01\r\u001b[K     |███████████████████████▎        | 235kB 14.0MB/s eta 0:00:01\r\u001b[K     |████████████████████████▍       | 245kB 14.0MB/s eta 0:00:01\r\u001b[K     |█████████████████████████▍      | 256kB 14.0MB/s eta 0:00:01\r\u001b[K     |██████████████████████████▍     | 266kB 14.0MB/s eta 0:00:01\r\u001b[K     |███████████████████████████▍    | 276kB 14.0MB/s eta 0:00:01\r\u001b[K     |████████████████████████████▍   | 286kB 14.0MB/s eta 0:00:01\r\u001b[K     |█████████████████████████████▍  | 296kB 14.0MB/s eta 0:00:01\r\u001b[K     |██████████████████████████████▍ | 307kB 14.0MB/s eta 0:00:01\r\u001b[K     |███████████████████████████████▍| 317kB 14.0MB/s eta 0:00:01\r\u001b[K     |████████████████████████████████| 327kB 14.0MB/s \n",
            "\u001b[?25hRequirement already satisfied: holidays<0.10,>=0.9 in /usr/local/lib/python3.6/dist-packages (from gluonts) (0.9.12)\n",
            "Requirement already satisfied: pydantic~=1.1 in /usr/local/lib/python3.6/dist-packages (from gluonts) (1.4)\n",
            "Collecting python-dateutil==2.8.0\n",
            "\u001b[?25l  Downloading https://files.pythonhosted.org/packages/41/17/c62faccbfbd163c7f57f3844689e3a78bae1f403648a6afb1d0866d87fbb/python_dateutil-2.8.0-py2.py3-none-any.whl (226kB)\n",
            "\r\u001b[K     |█▌                              | 10kB 30.7MB/s eta 0:00:01\r\u001b[K     |███                             | 20kB 38.9MB/s eta 0:00:01\r\u001b[K     |████▍                           | 30kB 46.1MB/s eta 0:00:01\r\u001b[K     |█████▉                          | 40kB 49.1MB/s eta 0:00:01\r\u001b[K     |███████▎                        | 51kB 50.7MB/s eta 0:00:01\r\u001b[K     |████████▊                       | 61kB 53.1MB/s eta 0:00:01\r\u001b[K     |██████████▏                     | 71kB 54.7MB/s eta 0:00:01\r\u001b[K     |███████████▋                    | 81kB 56.2MB/s eta 0:00:01\r\u001b[K     |█████████████                   | 92kB 57.4MB/s eta 0:00:01\r\u001b[K     |██████████████▌                 | 102kB 48.6MB/s eta 0:00:01\r\u001b[K     |████████████████                | 112kB 48.6MB/s eta 0:00:01\r\u001b[K     |█████████████████▍              | 122kB 48.6MB/s eta 0:00:01\r\u001b[K     |██████████████████▉             | 133kB 48.6MB/s eta 0:00:01\r\u001b[K     |████████████████████▎           | 143kB 48.6MB/s eta 0:00:01\r\u001b[K     |█████████████████████▊          | 153kB 48.6MB/s eta 0:00:01\r\u001b[K     |███████████████████████▏        | 163kB 48.6MB/s eta 0:00:01\r\u001b[K     |████████████████████████▋       | 174kB 48.6MB/s eta 0:00:01\r\u001b[K     |██████████████████████████      | 184kB 48.6MB/s eta 0:00:01\r\u001b[K     |███████████████████████████▌    | 194kB 48.6MB/s eta 0:00:01\r\u001b[K     |█████████████████████████████   | 204kB 48.6MB/s eta 0:00:01\r\u001b[K     |██████████████████████████████▍ | 215kB 48.6MB/s eta 0:00:01\r\u001b[K     |███████████████████████████████▉| 225kB 48.6MB/s eta 0:00:01\r\u001b[K     |████████████████████████████████| 235kB 48.6MB/s \n",
            "\u001b[?25hRequirement already satisfied: boto3~=1.0 in /usr/local/lib/python3.6/dist-packages (from gluonts) (1.12.40)\n",
            "Requirement already satisfied: tqdm~=4.23 in /usr/local/lib/python3.6/dist-packages (from gluonts) (4.38.0)\n",
            "Requirement already satisfied: numpy~=1.14 in /usr/local/lib/python3.6/dist-packages (from gluonts) (1.18.2)\n",
            "Collecting pandas<0.26,>=0.25\n",
            "\u001b[?25l  Downloading https://files.pythonhosted.org/packages/52/3f/f6a428599e0d4497e1595030965b5ba455fd8ade6e977e3c819973c4b41d/pandas-0.25.3-cp36-cp36m-manylinux1_x86_64.whl (10.4MB)\n",
            "\u001b[K     |████████████████████████████████| 10.4MB 56.4MB/s \n",
            "\u001b[?25hCollecting ujson~=1.35\n",
            "\u001b[?25l  Downloading https://files.pythonhosted.org/packages/16/c4/79f3409bc710559015464e5f49b9879430d8f87498ecdc335899732e5377/ujson-1.35.tar.gz (192kB)\n",
            "\u001b[K     |████████████████████████████████| 194kB 60.6MB/s \n",
            "\u001b[?25hRequirement already satisfied: matplotlib~=3.0 in /usr/local/lib/python3.6/dist-packages (from gluonts) (3.2.1)\n",
            "Requirement already satisfied: six in /usr/local/lib/python3.6/dist-packages (from holidays<0.10,>=0.9->gluonts) (1.12.0)\n",
            "Requirement already satisfied: dataclasses>=0.6; python_version < \"3.7\" in /usr/local/lib/python3.6/dist-packages (from pydantic~=1.1->gluonts) (0.7)\n",
            "Requirement already satisfied: s3transfer<0.4.0,>=0.3.0 in /usr/local/lib/python3.6/dist-packages (from boto3~=1.0->gluonts) (0.3.3)\n",
            "Requirement already satisfied: botocore<1.16.0,>=1.15.40 in /usr/local/lib/python3.6/dist-packages (from boto3~=1.0->gluonts) (1.15.40)\n",
            "Requirement already satisfied: jmespath<1.0.0,>=0.7.1 in /usr/local/lib/python3.6/dist-packages (from boto3~=1.0->gluonts) (0.9.5)\n",
            "Requirement already satisfied: pytz>=2017.2 in /usr/local/lib/python3.6/dist-packages (from pandas<0.26,>=0.25->gluonts) (2018.9)\n",
            "Requirement already satisfied: pyparsing!=2.0.4,!=2.1.2,!=2.1.6,>=2.0.1 in /usr/local/lib/python3.6/dist-packages (from matplotlib~=3.0->gluonts) (2.4.7)\n",
            "Requirement already satisfied: kiwisolver>=1.0.1 in /usr/local/lib/python3.6/dist-packages (from matplotlib~=3.0->gluonts) (1.2.0)\n",
            "Requirement already satisfied: cycler>=0.10 in /usr/local/lib/python3.6/dist-packages (from matplotlib~=3.0->gluonts) (0.10.0)\n",
            "Requirement already satisfied: docutils<0.16,>=0.10 in /usr/local/lib/python3.6/dist-packages (from botocore<1.16.0,>=1.15.40->boto3~=1.0->gluonts) (0.15.2)\n",
            "Requirement already satisfied: urllib3<1.26,>=1.20; python_version != \"3.4\" in /usr/local/lib/python3.6/dist-packages (from botocore<1.16.0,>=1.15.40->boto3~=1.0->gluonts) (1.24.3)\n",
            "Building wheels for collected packages: ujson\n",
            "  Building wheel for ujson (setup.py) ... \u001b[?25l\u001b[?25hdone\n",
            "  Created wheel for ujson: filename=ujson-1.35-cp36-cp36m-linux_x86_64.whl size=68033 sha256=47392cf287b33a25356a600594efefa0506b4b9755113c7ad30687315ad51609\n",
            "  Stored in directory: /root/.cache/pip/wheels/28/77/e4/0311145b9c2e2f01470e744855131f9e34d6919687550f87d1\n",
            "Successfully built ujson\n",
            "\u001b[31mERROR: google-colab 1.0.0 has requirement pandas~=1.0.0; python_version >= \"3.0\", but you'll have pandas 0.25.3 which is incompatible.\u001b[0m\n",
            "\u001b[31mERROR: albumentations 0.1.12 has requirement imgaug<0.2.7,>=0.2.5, but you'll have imgaug 0.2.9 which is incompatible.\u001b[0m\n",
            "Installing collected packages: python-dateutil, pandas, ujson, gluonts\n",
            "  Found existing installation: python-dateutil 2.8.1\n",
            "    Uninstalling python-dateutil-2.8.1:\n",
            "      Successfully uninstalled python-dateutil-2.8.1\n",
            "  Found existing installation: pandas 1.0.3\n",
            "    Uninstalling pandas-1.0.3:\n",
            "      Successfully uninstalled pandas-1.0.3\n",
            "Successfully installed gluonts-0.4.2 pandas-0.25.3 python-dateutil-2.8.0 ujson-1.35\n"
          ],
          "name": "stdout"
        },
        {
          "output_type": "display_data",
          "data": {
            "application/vnd.colab-display-data+json": {
              "pip_warning": {
                "packages": [
                  "dateutil",
                  "pandas"
                ]
              }
            }
          },
          "metadata": {
            "tags": []
          }
        }
      ]
    },
    {
      "cell_type": "markdown",
      "metadata": {
        "id": "3vT9Izif_bPO",
        "colab_type": "text"
      },
      "source": [
        "## Get Started: A Quick Example"
      ]
    },
    {
      "cell_type": "markdown",
      "metadata": {
        "id": "zDHWwLXE_eBJ",
        "colab_type": "text"
      },
      "source": [
        "Here is a simple time series example with GluonTS for predicting Twitter volume with DeepAR."
      ]
    },
    {
      "cell_type": "code",
      "metadata": {
        "id": "0bDrNy9ZwgLd",
        "colab_type": "code",
        "outputId": "6549fbf8-6ded-4b14-cab4-de877940ba09",
        "colab": {
          "base_uri": "https://localhost:8080/",
          "height": 1000
        }
      },
      "source": [
        "from gluonts.dataset import common\n",
        "from gluonts.model import deepar\n",
        "from gluonts.trainer import Trainer\n",
        "\n",
        "import pandas as pd\n",
        "\n",
        "url = \"https://raw.githubusercontent.com/numenta/NAB/master/data/realTweets/Twitter_volume_AMZN.csv\"\n",
        "df = pd.read_csv(url, header=0, index_col=0)\n",
        "data = common.ListDataset([{\"start\": df.index[0],\n",
        "                            \"target\": df.value[:\"2015-04-05 00:00:00\"]}],\n",
        "                          freq=\"5min\")\n",
        "\n",
        "trainer = Trainer(epochs=10)\n",
        "estimator = deepar.DeepAREstimator(freq=\"5min\", prediction_length=12, trainer=trainer)\n",
        "predictor = estimator.train(training_data=data)\n",
        "\n",
        "prediction = next(predictor.predict(data))\n",
        "print(prediction.mean)\n",
        "prediction.plot(output_file='graph.png')"
      ],
      "execution_count": 1,
      "outputs": [
        {
          "output_type": "stream",
          "text": [
            "INFO:root:Using GPU\n",
            "INFO:root:Using GPU\n",
            "INFO:root:Start model training\n",
            "INFO:root:Epoch[0] Learning rate is 0.001\n",
            "  0%|          | 0/50 [00:00<?, ?it/s]INFO:numexpr.utils:NumExpr defaulting to 2 threads.\n"
          ],
          "name": "stderr"
        },
        {
          "output_type": "stream",
          "text": [
            "learning rate from ``lr_scheduler`` has been overwritten by ``learning_rate`` in optimizer.\n"
          ],
          "name": "stdout"
        },
        {
          "output_type": "stream",
          "text": [
            "INFO:root:Number of parameters in DeepARTrainingNetwork: 26844\n",
            "100%|██████████| 50/50 [00:09<00:00,  5.44it/s, avg_epoch_loss=7.45]\n",
            "INFO:root:Epoch[0] Elapsed time 9.187 seconds\n",
            "INFO:root:Epoch[0] Evaluation metric 'epoch_loss'=7.454088\n",
            "INFO:root:Epoch[1] Learning rate is 0.001\n",
            "100%|██████████| 50/50 [00:04<00:00, 11.47it/s, avg_epoch_loss=5.55]\n",
            "INFO:root:Epoch[1] Elapsed time 4.363 seconds\n",
            "INFO:root:Epoch[1] Evaluation metric 'epoch_loss'=5.545211\n",
            "INFO:root:Epoch[2] Learning rate is 0.001\n",
            "100%|██████████| 50/50 [00:04<00:00, 11.87it/s, avg_epoch_loss=5.43]\n",
            "INFO:root:Epoch[2] Elapsed time 4.215 seconds\n",
            "INFO:root:Epoch[2] Evaluation metric 'epoch_loss'=5.428249\n",
            "INFO:root:Epoch[3] Learning rate is 0.001\n",
            "100%|██████████| 50/50 [00:04<00:00, 11.54it/s, avg_epoch_loss=6.45]\n",
            "INFO:root:Epoch[3] Elapsed time 4.338 seconds\n",
            "INFO:root:Epoch[3] Evaluation metric 'epoch_loss'=6.454446\n",
            "INFO:root:Epoch[4] Learning rate is 0.001\n",
            "100%|██████████| 50/50 [00:04<00:00, 11.74it/s, avg_epoch_loss=4.09]\n",
            "INFO:root:Epoch[4] Elapsed time 4.263 seconds\n",
            "INFO:root:Epoch[4] Evaluation metric 'epoch_loss'=4.085727\n",
            "INFO:root:Epoch[5] Learning rate is 0.001\n",
            "100%|██████████| 50/50 [00:04<00:00, 12.34it/s, avg_epoch_loss=4.05]\n",
            "INFO:root:Epoch[5] Elapsed time 4.055 seconds\n",
            "INFO:root:Epoch[5] Evaluation metric 'epoch_loss'=4.054589\n",
            "INFO:root:Epoch[6] Learning rate is 0.001\n",
            "100%|██████████| 50/50 [00:04<00:00, 12.05it/s, avg_epoch_loss=5.14]\n",
            "INFO:root:Epoch[6] Elapsed time 4.153 seconds\n",
            "INFO:root:Epoch[6] Evaluation metric 'epoch_loss'=5.135655\n",
            "INFO:root:Epoch[7] Learning rate is 0.001\n",
            "100%|██████████| 50/50 [00:04<00:00, 12.05it/s, avg_epoch_loss=4.02]\n",
            "INFO:root:Epoch[7] Elapsed time 4.153 seconds\n",
            "INFO:root:Epoch[7] Evaluation metric 'epoch_loss'=4.021294\n",
            "INFO:root:Epoch[8] Learning rate is 0.001\n",
            "100%|██████████| 50/50 [00:04<00:00, 12.20it/s, avg_epoch_loss=4.02]\n",
            "INFO:root:Epoch[8] Elapsed time 4.101 seconds\n",
            "INFO:root:Epoch[8] Evaluation metric 'epoch_loss'=4.016178\n",
            "INFO:root:Epoch[9] Learning rate is 0.001\n",
            "100%|██████████| 50/50 [00:04<00:00, 11.95it/s, avg_epoch_loss=4.03]\n",
            "INFO:root:Epoch[9] Elapsed time 4.188 seconds\n",
            "INFO:root:Epoch[9] Evaluation metric 'epoch_loss'=4.031394\n",
            "INFO:root:Loading parameters from best epoch (8)\n",
            "INFO:root:Final loss: 4.016178297996521 (occurred at epoch 8)\n",
            "INFO:root:End model training\n"
          ],
          "name": "stderr"
        },
        {
          "output_type": "stream",
          "text": [
            "[47.060867 48.577652 45.060577 46.163746 46.621338 43.990562 43.07549\n",
            " 40.805786 41.26894  39.902355 45.05988  42.247013]\n"
          ],
          "name": "stdout"
        },
        {
          "output_type": "display_data",
          "data": {
            "image/png": "[encoded data removed]",
            "text/plain": [
              "<Figure size 432x288 with 1 Axes>"
            ]
          },
          "metadata": {
            "tags": [],
            "needs_background": "light"
          }
        }
      ]
    },
    {
      "cell_type": "markdown",
      "metadata": {
        "id": "1iuzrm7YDEcT",
        "colab_type": "text"
      },
      "source": [
        "- 똑같은 코드를 CPU버전으로 돌려봤을 때와의 시간차이가 크지 않음\n",
        " - https://colab.research.google.com/github/iskra3138/GluonTS/blob/master/1.2.%20GluonTS_Intro_cpu.ipynb\n",
        "- MXNET의 문제인지, 시계열 분석의 특징인지, DeepAR의 특징인지는 향후 검증 필요함!!! "
      ]
    },
    {
      "cell_type": "markdown",
      "metadata": {
        "id": "vtbqxO9aWtsU",
        "colab_type": "text"
      },
      "source": [
        "## Line별 실행\n",
        "ref. : https://github.com/awslabs/gluon-ts/"
      ]
    },
    {
      "cell_type": "markdown",
      "metadata": {
        "id": "r8dR3ZKXkqQ0",
        "colab_type": "text"
      },
      "source": [
        "This simple example illustrates how to train a model from GluonTS on some data, and then use it to make predictions. As a first step, we need to collect some data: in this example we will use the volume of tweets mentioning the AMZN ticker symbol."
      ]
    },
    {
      "cell_type": "code",
      "metadata": {
        "id": "4xMlziyr0l8f",
        "colab_type": "code",
        "colab": {}
      },
      "source": [
        "url = \"https://raw.githubusercontent.com/numenta/NAB/master/data/realTweets/Twitter_volume_AMZN.csv\"\n",
        "df = pd.read_csv(url, header=0, index_col=0)"
      ],
      "execution_count": 0,
      "outputs": []
    },
    {
      "cell_type": "code",
      "metadata": {
        "id": "1MkYR3kFW8HL",
        "colab_type": "code",
        "outputId": "417b6bd4-aa0c-47a1-9df0-1882a86f1c25",
        "colab": {
          "base_uri": "https://localhost:8080/",
          "height": 269
        }
      },
      "source": [
        "# url의 dataset은 2개의 Columns(Timestamp, Value)과 15831개의 Rows(data points)로 구성되어 있음\n",
        "print (df)"
      ],
      "execution_count": 4,
      "outputs": [
        {
          "output_type": "stream",
          "text": [
            "                     value\n",
            "timestamp                 \n",
            "2015-02-26 21:42:53     57\n",
            "2015-02-26 21:47:53     43\n",
            "2015-02-26 21:52:53     55\n",
            "2015-02-26 21:57:53     64\n",
            "2015-02-26 22:02:53     93\n",
            "...                    ...\n",
            "2015-04-22 20:32:53     51\n",
            "2015-04-22 20:37:53     54\n",
            "2015-04-22 20:42:53     46\n",
            "2015-04-22 20:47:53     56\n",
            "2015-04-22 20:52:53     50\n",
            "\n",
            "[15831 rows x 1 columns]\n"
          ],
          "name": "stdout"
        }
      ]
    },
    {
      "cell_type": "markdown",
      "metadata": {
        "id": "XZ3kwJmik6pJ",
        "colab_type": "text"
      },
      "source": [
        "The first 100 data points look like follows:"
      ]
    },
    {
      "cell_type": "code",
      "metadata": {
        "id": "7P_e1mRuk7xv",
        "colab_type": "code",
        "colab": {
          "base_uri": "https://localhost:8080/",
          "height": 279
        },
        "outputId": "e8565697-a90d-4d62-bb28-b288a0603379"
      },
      "source": [
        "import matplotlib.pyplot as plt\n",
        "df[:100].plot(linewidth=2)\n",
        "plt.grid(which='both')\n",
        "plt.show()"
      ],
      "execution_count": 5,
      "outputs": [
        {
          "output_type": "display_data",
          "data": {
            "image/png": "[encoded data removed]",
            "text/plain": [
              "<Figure size 432x288 with 1 Axes>"
            ]
          },
          "metadata": {
            "tags": [],
            "needs_background": "light"
          }
        }
      ]
    },
    {
      "cell_type": "markdown",
      "metadata": {
        "id": "AU27a0tylFaZ",
        "colab_type": "text"
      },
      "source": [
        "We can now prepare a training dataset for our model to train on. Datasets in GluonTS are essentially iterable collections of dictionaries: each dictionary represents a time series with possibly associated features. For this example, we only have one entry, specified by the \"start\" field which is the timestamp of the first datapoint, and the \"target\" field containing time series data. For training, we will use data up to midnight on April 5th, 2015."
      ]
    },
    {
      "cell_type": "code",
      "metadata": {
        "id": "9UgUhZat0W8A",
        "colab_type": "code",
        "outputId": "2799d361-53c9-4f44-dda1-ec7a06b15559",
        "colab": {
          "base_uri": "https://localhost:8080/",
          "height": 34
        }
      },
      "source": [
        "data = common.ListDataset([{\"start\": df.index[0],\n",
        "                            \"target\": df.value[:\"2015-04-05 00:00:00\"]}],\n",
        "                          freq=\"5min\")\n",
        "print (data)"
      ],
      "execution_count": 7,
      "outputs": [
        {
          "output_type": "stream",
          "text": [
            "<gluonts.dataset.common.ListDataset object at 0x7f0a300c47b8>\n"
          ],
          "name": "stdout"
        }
      ]
    },
    {
      "cell_type": "code",
      "metadata": {
        "id": "aXgRuo5UXizh",
        "colab_type": "code",
        "outputId": "2f5f6820-1f00-4021-c069-dd935318a641",
        "colab": {
          "base_uri": "https://localhost:8080/",
          "height": 235
        }
      },
      "source": [
        "# 학습에 사용되는 target은 2015년 4월 4일까지의 데이터 10684개가 됨\n",
        "df.value[:\"2015-04-05 00:00:00\"]"
      ],
      "execution_count": 6,
      "outputs": [
        {
          "output_type": "execute_result",
          "data": {
            "text/plain": [
              "timestamp\n",
              "2015-02-26 21:42:53    57\n",
              "2015-02-26 21:47:53    43\n",
              "2015-02-26 21:52:53    55\n",
              "2015-02-26 21:57:53    64\n",
              "2015-02-26 22:02:53    93\n",
              "                       ..\n",
              "2015-04-04 23:37:53    31\n",
              "2015-04-04 23:42:53    40\n",
              "2015-04-04 23:47:53    44\n",
              "2015-04-04 23:52:53    61\n",
              "2015-04-04 23:57:53    59\n",
              "Name: value, Length: 10684, dtype: int64"
            ]
          },
          "metadata": {
            "tags": []
          },
          "execution_count": 6
        }
      ]
    },
    {
      "cell_type": "code",
      "metadata": {
        "id": "vZPt6ZWjXP4u",
        "colab_type": "code",
        "outputId": "ad6a38dd-36d3-4193-aa1b-e3f3c31304b7",
        "colab": {
          "base_uri": "https://localhost:8080/",
          "height": 34
        }
      },
      "source": [
        "print (data.list_data)"
      ],
      "execution_count": 8,
      "outputs": [
        {
          "output_type": "stream",
          "text": [
            "[{'start': Timestamp('2015-02-26 21:40:00', freq='5T'), 'target': array([57., 43., 55., ..., 44., 61., 59.], dtype=float32)}]\n"
          ],
          "name": "stdout"
        }
      ]
    },
    {
      "cell_type": "markdown",
      "metadata": {
        "id": "0XkNwww0lZbn",
        "colab_type": "text"
      },
      "source": [
        "A forecasting model in GluonTS is a predictor object. One way of obtaining predictors is by training a correspondent estimator. Instantiating an estimator requires specifying the frequency of the time series that it will handle, as well as the number of time steps to predict. In our example we're using 5 minutes data, so freq=\"5min\", and we will train a model to predict the next hour, so prediction_length=12. We also specify some minimal training options."
      ]
    },
    {
      "cell_type": "code",
      "metadata": {
        "id": "rA_s3fHDYqCD",
        "colab_type": "code",
        "outputId": "84369508-0b7e-4554-a5b1-bf5fcfc6c759",
        "colab": {
          "base_uri": "https://localhost:8080/",
          "height": 70
        }
      },
      "source": [
        "trainer = Trainer(epochs=10)\n",
        "print (trainer)"
      ],
      "execution_count": 9,
      "outputs": [
        {
          "output_type": "stream",
          "text": [
            "INFO:root:Using GPU\n"
          ],
          "name": "stderr"
        },
        {
          "output_type": "stream",
          "text": [
            "gluonts.trainer._base.Trainer(batch_size=32, clip_gradient=10.0, ctx=None, epochs=10, hybridize=True, init=\"xavier\", learning_rate=0.001, learning_rate_decay_factor=0.5, minimum_learning_rate=5e-05, num_batches_per_epoch=50, patience=10, weight_decay=1e-08)\n"
          ],
          "name": "stdout"
        }
      ]
    },
    {
      "cell_type": "code",
      "metadata": {
        "id": "RSaIjQHqYzd3",
        "colab_type": "code",
        "outputId": "1f84052a-e94a-4e76-cf6c-f195a6924172",
        "colab": {
          "base_uri": "https://localhost:8080/",
          "height": 54
        }
      },
      "source": [
        "estimator = deepar.DeepAREstimator(freq=\"5min\", prediction_length=12, trainer=trainer)\n",
        "print (estimator)"
      ],
      "execution_count": 10,
      "outputs": [
        {
          "output_type": "stream",
          "text": [
            "gluonts.model.deepar._estimator.DeepAREstimator(cardinality=None, cell_type=\"lstm\", context_length=None, distr_output=gluonts.distribution.student_t.StudentTOutput(), dropout_rate=0.1, embedding_dimension=None, freq=\"5min\", lags_seq=None, num_cells=40, num_layers=2, num_parallel_samples=100, prediction_length=12, scaling=True, time_features=None, trainer=gluonts.trainer._base.Trainer(batch_size=32, clip_gradient=10.0, ctx=None, epochs=10, hybridize=True, init=\"xavier\", learning_rate=0.001, learning_rate_decay_factor=0.5, minimum_learning_rate=5e-05, num_batches_per_epoch=50, patience=10, weight_decay=1e-08), use_feat_dynamic_real=False, use_feat_static_cat=False, use_feat_static_real=False)\n"
          ],
          "name": "stdout"
        }
      ]
    },
    {
      "cell_type": "code",
      "metadata": {
        "id": "SpnbpEHnY8Pk",
        "colab_type": "code",
        "outputId": "f8d59475-f1ce-420f-cfa4-e39ff00f97d6",
        "colab": {
          "base_uri": "https://localhost:8080/",
          "height": 790
        }
      },
      "source": [
        "predictor = estimator.train(training_data=data)"
      ],
      "execution_count": 11,
      "outputs": [
        {
          "output_type": "stream",
          "text": [
            "INFO:root:Start model training\n",
            "INFO:root:Epoch[0] Learning rate is 0.001\n",
            "  0%|          | 0/50 [00:00<?, ?it/s]"
          ],
          "name": "stderr"
        },
        {
          "output_type": "stream",
          "text": [
            "learning rate from ``lr_scheduler`` has been overwritten by ``learning_rate`` in optimizer.\n"
          ],
          "name": "stdout"
        },
        {
          "output_type": "stream",
          "text": [
            "INFO:root:Number of parameters in DeepARTrainingNetwork: 26844\n",
            "100%|██████████| 50/50 [00:04<00:00, 10.64it/s, avg_epoch_loss=4.63]\n",
            "INFO:root:Epoch[0] Elapsed time 4.701 seconds\n",
            "INFO:root:Epoch[0] Evaluation metric 'epoch_loss'=4.629161\n",
            "INFO:root:Epoch[1] Learning rate is 0.001\n",
            "100%|██████████| 50/50 [00:04<00:00, 12.02it/s, avg_epoch_loss=4.16]\n",
            "INFO:root:Epoch[1] Elapsed time 4.165 seconds\n",
            "INFO:root:Epoch[1] Evaluation metric 'epoch_loss'=4.159329\n",
            "INFO:root:Epoch[2] Learning rate is 0.001\n",
            "100%|██████████| 50/50 [00:04<00:00, 12.00it/s, avg_epoch_loss=4.13]\n",
            "INFO:root:Epoch[2] Elapsed time 4.170 seconds\n",
            "INFO:root:Epoch[2] Evaluation metric 'epoch_loss'=4.129306\n",
            "INFO:root:Epoch[3] Learning rate is 0.001\n",
            "100%|██████████| 50/50 [00:04<00:00, 11.92it/s, avg_epoch_loss=4.07]\n",
            "INFO:root:Epoch[3] Elapsed time 4.196 seconds\n",
            "INFO:root:Epoch[3] Evaluation metric 'epoch_loss'=4.067420\n",
            "INFO:root:Epoch[4] Learning rate is 0.001\n",
            "100%|██████████| 50/50 [00:04<00:00, 12.38it/s, avg_epoch_loss=5.54]\n",
            "INFO:root:Epoch[4] Elapsed time 4.041 seconds\n",
            "INFO:root:Epoch[4] Evaluation metric 'epoch_loss'=5.543342\n",
            "INFO:root:Epoch[5] Learning rate is 0.001\n",
            "100%|██████████| 50/50 [00:03<00:00, 12.58it/s, avg_epoch_loss=4]\n",
            "INFO:root:Epoch[5] Elapsed time 3.979 seconds\n",
            "INFO:root:Epoch[5] Evaluation metric 'epoch_loss'=4.000347\n",
            "INFO:root:Epoch[6] Learning rate is 0.001\n",
            "100%|██████████| 50/50 [00:04<00:00, 11.73it/s, avg_epoch_loss=4.01]\n",
            "INFO:root:Epoch[6] Elapsed time 4.266 seconds\n",
            "INFO:root:Epoch[6] Evaluation metric 'epoch_loss'=4.007269\n",
            "INFO:root:Epoch[7] Learning rate is 0.001\n",
            "100%|██████████| 50/50 [00:04<00:00, 11.96it/s, avg_epoch_loss=4]\n",
            "INFO:root:Epoch[7] Elapsed time 4.184 seconds\n",
            "INFO:root:Epoch[7] Evaluation metric 'epoch_loss'=3.995912\n",
            "INFO:root:Epoch[8] Learning rate is 0.001\n",
            "100%|██████████| 50/50 [00:04<00:00, 11.76it/s, avg_epoch_loss=6.47]\n",
            "INFO:root:Epoch[8] Elapsed time 4.254 seconds\n",
            "INFO:root:Epoch[8] Evaluation metric 'epoch_loss'=6.469326\n",
            "INFO:root:Epoch[9] Learning rate is 0.001\n",
            "100%|██████████| 50/50 [00:04<00:00, 11.91it/s, avg_epoch_loss=5.09]\n",
            "INFO:root:Epoch[9] Elapsed time 4.204 seconds\n",
            "INFO:root:Epoch[9] Evaluation metric 'epoch_loss'=5.087802\n",
            "INFO:root:Loading parameters from best epoch (7)\n",
            "INFO:root:Final loss: 3.9959123611450194 (occurred at epoch 7)\n",
            "INFO:root:End model training\n"
          ],
          "name": "stderr"
        }
      ]
    },
    {
      "cell_type": "markdown",
      "metadata": {
        "id": "sJOTVOOmlj8r",
        "colab_type": "text"
      },
      "source": [
        "During training, useful information about the progress will be displayed. To get a full overview of the available options, please refer to the documentation of DeepAREstimator (or other estimators) and Trainer."
      ]
    },
    {
      "cell_type": "markdown",
      "metadata": {
        "id": "SnjumSv8lmgb",
        "colab_type": "text"
      },
      "source": [
        "We're now ready to make predictions: we will forecast the hour following the midnight on April 15th, 2015."
      ]
    },
    {
      "cell_type": "code",
      "metadata": {
        "id": "inKDSDjllpbm",
        "colab_type": "code",
        "colab": {
          "base_uri": "https://localhost:8080/",
          "height": 277
        },
        "outputId": "34e1d47e-8780-4eb2-9c3e-56ed8dfaeb78"
      },
      "source": [
        "from gluonts.dataset.common import ListDataset\n",
        "\n",
        "\n",
        "test_data = ListDataset(\n",
        "    [{\"start\": df.index[0], \"target\": df.value[:\"2015-04-15 00:00:00\"]}],\n",
        "    freq = \"5min\"\n",
        ")\n",
        "\n",
        "from gluonts.dataset.util import to_pandas\n",
        "\n",
        "for test_entry, forecast in zip(test_data, predictor.predict(test_data)):\n",
        "    to_pandas(test_entry)[-60:].plot(linewidth=2)\n",
        "    forecast.plot(color='g', prediction_intervals=[50.0, 90.0])\n",
        "plt.grid(which='both')"
      ],
      "execution_count": 12,
      "outputs": [
        {
          "output_type": "display_data",
          "data": {
            "image/png": "[encoded data removed]",
            "text/plain": [
              "<Figure size 432x288 with 1 Axes>"
            ]
          },
          "metadata": {
            "tags": [],
            "needs_background": "light"
          }
        }
      ]
    },
    {
      "cell_type": "markdown",
      "metadata": {
        "id": "CtTXXsPBlmc-",
        "colab_type": "text"
      },
      "source": [
        "Note that the forecast is displayed in terms of a probability distribution: the shaded areas represent the 50% and 90% prediction intervals, respectively, centered around the median (dark green line)."
      ]
    },
    {
      "cell_type": "code",
      "metadata": {
        "id": "RYxdvQU_oF6d",
        "colab_type": "code",
        "colab": {}
      },
      "source": [
        ""
      ],
      "execution_count": 0,
      "outputs": []
    },
    {
      "cell_type": "markdown",
      "metadata": {
        "id": "Fc94CnD4lmTj",
        "colab_type": "text"
      },
      "source": [
        "original code test 예제"
      ]
    },
    {
      "cell_type": "code",
      "metadata": {
        "id": "q0S2fgRkZYun",
        "colab_type": "code",
        "outputId": "9bba89fb-6333-4945-f973-52f5420c7c92",
        "colab": {
          "base_uri": "https://localhost:8080/",
          "height": 54
        }
      },
      "source": [
        "prediction = next(predictor.predict(data))\n",
        "print  (prediction)"
      ],
      "execution_count": 0,
      "outputs": [
        {
          "output_type": "stream",
          "text": [
            "gluonts.model.forecast.SampleForecast(freq=\"5min\", info=None, item_id=None, samples=numpy.array([[61.89003372192383, 43.472930908203125, 26.13532829284668, 40.04022216796875, 42.79454803466797, 42.42021179199219, 39.47874069213867, 41.99250030517578, 44.72181701660156, 48.14472961425781, 34.25071716308594, 48.01095199584961], [61.84659957885742, 45.27069854736328, 61.4107780456543, 46.40459442138672, 25.75678825378418, 35.54698944091797, 44.07526397705078, 43.25977325439453, 42.42564010620117, 35.342899322509766, 35.53315734863281, 46.68082809448242], [52.08669662475586, 63.20838165283203, 31.824674606323242, 47.775569915771484, 26.155141830444336, 51.911563873291016, 45.77846908569336, 30.1429386138916, 40.423683166503906, 42.653560638427734, 36.294063568115234, 58.19617462158203], [38.02675247192383, 59.04023742675781, 52.597652435302734, 53.219688415527344, 50.900325775146484, 46.80876541137695, 41.87510681152344, 49.1364631652832, 45.65569305419922, 32.87964630126953, 41.569847106933594, 49.823394775390625], [63.86940002441406, 53.6245231628418, 49.40800094604492, 10.540304183959961, 24.149932861328125, 43.708736419677734, 33.17172622680664, 27.409957885742188, 55.653751373291016, 39.07728576660156, 6.7729692459106445, 45.64133071899414], [47.009647369384766, 38.874427795410156, 32.16598129272461, 47.458099365234375, 50.627662658691406, 41.133888244628906, 44.11198806762695, 32.423892974853516, 26.321022033691406, 66.94548034667969, 38.87539291381836, 64.66156768798828], [57.58604049682617, 33.4384651184082, 46.551761627197266, 63.56389236450195, 70.97756958007812, 71.51594543457031, 79.30638885498047, 57.14133834838867, 48.337215423583984, 49.82070541381836, 50.47468566894531, 60.1189079284668], [31.181486129760742, 39.97624206542969, 31.42605972290039, 46.74427795410156, 25.067895889282227, 27.9303035736084, 25.578577041625977, 31.213157653808594, 34.881591796875, 22.02794647216797, 38.92051315307617, 40.396305084228516], [35.602691650390625, 42.04861068725586, 66.23812103271484, 62.98286819458008, 75.99065399169922, 76.88276672363281, 59.388580322265625, 45.536521911621094, 64.42758178710938, 58.97227478027344, 38.931983947753906, 46.36837387084961], [51.44248580932617, 60.890037536621094, 49.8119010925293, 41.579097747802734, 50.681304931640625, 55.31135940551758, 43.674781799316406, 48.57775115966797, 49.906803131103516, 58.23842239379883, 52.02644729614258, 43.9470100402832], [48.051002502441406, 43.82289123535156, 25.14318084716797, 53.14460372924805, 42.4179573059082, 42.311981201171875, 55.29059600830078, 46.70003128051758, 39.864524841308594, 41.74946975708008, 22.092529296875, 21.160511016845703], [58.650848388671875, 67.39474487304688, 78.79911804199219, 40.880245208740234, 18.94025230407715, 41.24953842163086, 22.262767791748047, 30.550954818725586, 48.97947311401367, 33.57527160644531, 46.13387680053711, 61.97101593017578], [70.67656707763672, 73.96788787841797, 51.60134506225586, 34.93687057495117, 37.469974517822266, 48.57757568359375, 32.7684326171875, 28.136898040771484, 42.880123138427734, 49.31096649169922, 44.87312698364258, 70.82939147949219], [68.85955047607422, 69.07788848876953, 49.969871520996094, 42.91891860961914, 34.95072937011719, 42.12561798095703, 38.26839065551758, 47.64360427856445, 66.31954956054688, 53.589298248291016, 40.08089065551758, 33.343875885009766], [71.20230865478516, 59.8134765625, 51.19272232055664, 60.7707633972168, 47.42839431762695, 61.736209869384766, 47.9006462097168, 43.146724700927734, 37.10685348510742, 27.71587562561035, 49.362308502197266, 53.830291748046875], [51.74449920654297, 50.551856994628906, 55.61817932128906, 41.82421875, 26.84817123413086, 23.599384307861328, 36.738101959228516, 40.594722747802734, 27.14210319519043, 45.009525299072266, 52.28458786010742, 74.86930084228516], [55.66649627685547, 38.256134033203125, 40.81699752807617, 46.73693084716797, 41.49921798706055, 43.675418853759766, 53.80976486206055, 45.95915985107422, 53.70924758911133, 82.4696044921875, 54.619937896728516, 119.07051849365234], [61.1937370300293, 61.31151580810547, 79.01909637451172, 37.60675811767578, 6.670732498168945, 42.05628967285156, 49.426326751708984, 51.12663650512695, 53.19725799560547, 47.08426284790039, 64.88899993896484, 61.64881134033203], [64.88654327392578, 63.03351593017578, 59.48702621459961, 66.04237365722656, 44.539512634277344, 56.57545471191406, 44.237060546875, 38.63206481933594, 39.56097412109375, 67.2597427368164, 96.26881408691406, 82.49473571777344], [50.55656433105469, 36.21010971069336, 64.83594512939453, 37.036956787109375, 66.40277862548828, 65.28260040283203, 46.362613677978516, 48.23793411254883, 33.638973236083984, 42.97481918334961, 45.07199478149414, 38.1279296875], [67.05585479736328, 58.79515075683594, 41.27096176147461, 47.51738357543945, 42.56376266479492, 36.267879486083984, 32.178287506103516, 48.010643005371094, 71.60144805908203, 61.48392105102539, 54.66129684448242, 82.11363220214844], [50.16963195800781, 32.56290817260742, 31.609586715698242, 54.60197067260742, 53.477413177490234, 65.68431091308594, 77.26084899902344, 65.34027099609375, 46.49588394165039, 73.29203033447266, 63.43360137939453, 87.12153625488281], [21.0686092376709, 40.91841506958008, 35.184814453125, 37.45427322387695, 29.79190444946289, 17.01888656616211, 28.053157806396484, 35.85283279418945, 29.21767234802246, 22.57442283630371, 26.6916446685791, 32.091773986816406], [64.81102752685547, 11.193111419677734, 31.04832649230957, 58.476558685302734, 40.035003662109375, 58.35750961303711, 30.22217559814453, 36.10171127319336, 43.15705871582031, 38.538787841796875, 36.56330490112305, 31.97848892211914], [52.67812728881836, 49.65739440917969, 57.09809875488281, 44.05830764770508, 53.45943069458008, 40.87065887451172, 44.400001525878906, 49.231624603271484, 48.062255859375, 31.373699188232422, 18.449983596801758, 34.13393783569336], [61.415348052978516, 45.30868148803711, 81.9856185913086, 82.99095916748047, 57.74225616455078, 46.896156311035156, 49.7160758972168, 50.62836456298828, 53.00492858886719, 59.32146072387695, 50.27003860473633, 46.70380783081055], [53.65199279785156, 44.05303192138672, 50.83342742919922, 63.08257293701172, 59.496604919433594, 53.48103713989258, 55.8871955871582, 25.46200180053711, 44.14541244506836, 46.829471588134766, 47.221073150634766, 35.10930633544922], [71.09696960449219, 43.999778747558594, 45.43286895751953, 52.23074722290039, 39.1978759765625, 26.0408935546875, 34.28789520263672, 39.40495681762695, 38.45105743408203, 44.60404968261719, 46.57661056518555, 42.70000457763672], [78.86750030517578, 56.15613555908203, 31.297229766845703, 36.75117492675781, 33.11503601074219, 48.27976989746094, 43.350425720214844, 58.1652717590332, 59.618812561035156, 60.9051399230957, 63.44443130493164, 73.36141967773438], [51.030357360839844, 25.685026168823242, 41.71744155883789, 44.77705001831055, 45.42538070678711, 39.57651138305664, 44.37974166870117, 47.428977966308594, 45.70183181762695, 43.32197189331055, 51.60993576049805, 55.758941650390625], [70.75506591796875, 65.90154266357422, 48.71100997924805, 68.72349548339844, 65.03125, 58.149784088134766, 65.4120101928711, 49.809104919433594, -50.770172119140625, 17.04150390625, 30.322174072265625, 21.039953231811523], [45.84441375732422, 66.09758758544922, 61.55352783203125, 38.64131546020508, 51.2435302734375, 52.55154800415039, 47.3636360168457, 29.809423446655273, 19.845685958862305, 36.351863861083984, 35.26168441772461, 47.93513107299805], [57.30169677734375, 60.61570358276367, 62.553565979003906, 67.30949401855469, 50.73935317993164, 51.7513313293457, 57.008296966552734, 45.36500930786133, 62.27156066894531, 37.174163818359375, 37.46007537841797, 44.5097541809082], [55.16242218017578, 45.540592193603516, 35.47380065917969, 33.019065856933594, 37.662620544433594, 33.80072021484375, 46.446189880371094, 32.41542434692383, 19.38235092163086, 35.56697082519531, 57.212303161621094, 76.37664794921875], [27.070999145507812, 48.114715576171875, 39.74662399291992, 19.528263092041016, 23.540611267089844, 24.723560333251953, 44.425106048583984, 37.75283432006836, 46.88220977783203, 20.261972427368164, 26.421772003173828, 44.90950012207031], [69.78203582763672, 57.5598258972168, 56.5429573059082, 72.90218353271484, 52.39891815185547, 47.9437370300293, 50.37556838989258, 54.27387619018555, 30.98140525817871, 49.33818817138672, 56.77062225341797, 36.8682861328125], [48.223304748535156, 44.330726623535156, 46.602134704589844, 59.3753776550293, 61.1137809753418, 48.81111526489258, 70.64580535888672, 52.30301284790039, 45.219200134277344, 44.12940216064453, 52.25676345825195, 67.52941131591797], [42.09237289428711, 64.91007232666016, 45.29500198364258, 51.28919219970703, 45.19826889038086, 45.23264694213867, 38.76727294921875, 39.403926849365234, 40.729705810546875, 45.14141082763672, 19.77875518798828, 48.86714172363281], [57.29563903808594, 51.070220947265625, 59.93989562988281, 50.4234504699707, 38.38378143310547, 47.12932586669922, 40.29726028442383, 40.82243728637695, 41.14267349243164, 36.741943359375, 52.149085998535156, 49.4045295715332], [95.02457427978516, 76.62565612792969, 62.065982818603516, 73.61539459228516, 75.5815658569336, 57.875091552734375, 23.099040985107422, 57.289306640625, 67.7520523071289, 45.166316986083984, 48.99509811401367, 66.11849212646484], [62.77487564086914, 61.374820709228516, 58.69258499145508, 43.205223083496094, 27.617347717285156, 24.429243087768555, 35.370941162109375, 69.5572738647461, 37.07828140258789, 46.57175827026367, 46.734405517578125, 43.630210876464844], [65.46485137939453, 34.40957260131836, 43.040428161621094, 32.252410888671875, 46.076683044433594, 48.49895095825195, 48.51240539550781, 46.12102508544922, 43.10094451904297, 48.293704986572266, 50.06875991821289, 56.82935333251953], [56.09608459472656, 45.65653991699219, 54.48198318481445, 40.63479232788086, 40.14407730102539, 17.102977752685547, 48.60383605957031, 51.223243713378906, 47.739707946777344, 40.8829345703125, 37.21263122558594, 40.60990905761719], [58.024497985839844, 47.024112701416016, 31.466018676757812, 90.8989028930664, 58.43333435058594, 54.922760009765625, 50.528385162353516, 57.39816665649414, 52.59817886352539, 39.09021759033203, 77.71539306640625, 93.2575912475586], [56.16606140136719, 63.763057708740234, 62.75477600097656, 74.23074340820312, 59.113037109375, 67.81219482421875, 65.20552825927734, 66.43724060058594, 54.306949615478516, 60.491790771484375, 47.993621826171875, 47.3597412109375], [58.48066711425781, 45.81232452392578, 59.86521530151367, 52.14857482910156, 55.59365463256836, 65.52166748046875, 46.66446304321289, 52.20827865600586, 58.01256561279297, 43.445228576660156, 11.816230773925781, 31.485729217529297], [54.21597671508789, 61.484886169433594, 48.53346252441406, 43.16050720214844, 48.9025764465332, 47.83915710449219, 39.12688446044922, 44.47601318359375, 42.22639465332031, 45.076148986816406, 52.77473831176758, 44.40328598022461], [50.37227249145508, 50.11918640136719, 58.6607666015625, 57.346641540527344, 70.19529724121094, 53.83564758300781, 57.91292190551758, 50.35806655883789, 47.58203125, 39.407169342041016, -14.437662124633789, 24.519710540771484], [51.743587493896484, 52.00716018676758, 28.814739227294922, 36.894073486328125, 50.8406982421875, 49.72823715209961, 40.087257385253906, 47.15622329711914, 41.76584243774414, 21.840702056884766, 34.49217987060547, 44.17805099487305], [61.44918441772461, 52.980960845947266, 44.98102951049805, 48.22605895996094, 46.29471206665039, 46.88901901245117, 45.50904083251953, 46.77599334716797, 50.09019470214844, 31.582294464111328, 25.828786849975586, 48.46662521362305], [56.711177825927734, 47.47980499267578, 48.365604400634766, 48.6480598449707, 51.18898391723633, 52.452049255371094, 31.114803314208984, 50.08686447143555, 26.264684677124023, 21.965625762939453, 30.95806312561035, 31.504600524902344], [55.13274383544922, 65.75726318359375, 52.73197555541992, 53.25429153442383, 54.43266296386719, 47.86267852783203, 35.20494842529297, 48.3154296875, 51.8186149597168, 60.9315299987793, 57.8784065246582, 59.69279861450195], [62.75585174560547, 41.828369140625, 82.6894302368164, 67.85258483886719, 34.28849792480469, 57.601844787597656, 34.33506774902344, 63.80778503417969, 44.990753173828125, 53.12409973144531, 57.13225555419922, 61.52993392944336], [50.509117126464844, 65.35411071777344, 53.43865966796875, 60.24100875854492, 54.85968017578125, 45.398563385009766, 53.12950134277344, 41.4471549987793, 63.93955612182617, 42.49979019165039, 47.902915954589844, 37.093318939208984], [36.399192810058594, 34.211978912353516, 24.406078338623047, 46.516170501708984, 42.52893829345703, 62.84912109375, 48.24340057373047, 48.241661071777344, 48.52679443359375, 56.45182800292969, 55.71868896484375, 29.40578842163086], [30.604419708251953, 54.704410552978516, 58.84095764160156, 56.47787857055664, 50.47312545776367, 47.07631301879883, 56.883827209472656, 40.201263427734375, 53.98453140258789, 54.73527526855469, 53.088539123535156, 50.7707633972168], [43.75069046020508, 28.65886116027832, 60.86457443237305, 47.32398986816406, 46.83727264404297, 51.49159240722656, 9.928755760192871, 25.32832908630371, 32.151309967041016, 28.216510772705078, 38.189456939697266, 48.71858596801758], [47.77139663696289, 17.649539947509766, 10.448066711425781, 20.97243881225586, 32.650386810302734, 37.648223876953125, 42.99089431762695, 21.933805465698242, 46.00776672363281, 37.30446243286133, 33.19977951049805, 25.418880462646484], [49.99659729003906, 40.655582427978516, 38.01530838012695, 34.350589752197266, 44.782108306884766, 30.439239501953125, 10.748091697692871, 25.63330841064453, 41.368492126464844, 23.71056365966797, 45.618675231933594, 30.645505905151367], [44.82002639770508, 40.25096130371094, 43.357276916503906, 53.656028747558594, 46.468536376953125, 85.07140350341797, 48.52463150024414, 48.057098388671875, 32.158111572265625, 56.92193603515625, 39.5517692565918, 58.35613250732422], [48.16404724121094, 36.791385650634766, 51.246864318847656, 46.122074127197266, 42.882057189941406, 95.18494415283203, 87.33245086669922, 66.33162689208984, 51.53684997558594, 32.519283294677734, 50.607147216796875, 54.177330017089844], [38.39025115966797, 80.99533081054688, 62.02935028076172, 72.12071228027344, 58.857940673828125, 55.299922943115234, 50.94078826904297, 52.290775299072266, 59.75298309326172, 50.83932113647461, 92.64646911621094, 57.49748611450195], [43.16065979003906, 61.743202209472656, 60.61948013305664, 26.532806396484375, 43.311180114746094, 66.77092742919922, 61.401145935058594, 59.075767517089844, 73.72258758544922, 73.0129623413086, 68.43463897705078, 77.0904769897461], [77.45897674560547, 100.48094940185547, 84.54215240478516, 31.22058868408203, 49.31490707397461, 46.28396224975586, 46.358001708984375, 44.10734939575195, 48.677215576171875, 38.46453094482422, 69.24794006347656, -16.931804656982422], [48.834205627441406, 44.53007125854492, 45.576725006103516, 51.220619201660156, 39.75480651855469, 45.644596099853516, 42.75831604003906, 69.92729187011719, 4.191940784454346, 35.997196197509766, 54.59521484375, 64.85472869873047], [36.0625, 52.01519775390625, 38.94892501831055, 43.3521842956543, 43.41909408569336, 45.487937927246094, 26.177143096923828, 36.81577682495117, 37.615478515625, 38.96585464477539, 35.203826904296875, -11.573837280273438], [54.327125549316406, 68.63697814941406, 50.49934005737305, 43.36416244506836, 41.27365493774414, 44.30525588989258, 57.108001708984375, 32.95378112792969, 37.61923599243164, 44.98503112792969, 43.50871276855469, 69.22817993164062], [57.84849548339844, 72.45963287353516, 69.58505249023438, 41.51211166381836, 30.418384552001953, 31.08769989013672, 43.06180953979492, 24.219619750976562, 24.683958053588867, 33.89769744873047, 33.085968017578125, 51.9105110168457], [36.7513427734375, 28.761844635009766, 36.35506057739258, 42.11488723754883, 22.16232681274414, 33.346309661865234, 7.612103462219238, 23.395118713378906, 28.887041091918945, 36.07115173339844, 34.014244079589844, 33.2946662902832], [41.693363189697266, 36.8032341003418, 48.895790100097656, 44.79170227050781, 33.92230224609375, 47.98476028442383, 21.458026885986328, 22.793949127197266, 28.143875122070312, 23.5837345123291, 28.60491180419922, 40.047481536865234], [23.88121223449707, 56.33662414550781, 29.17568588256836, 29.910385131835938, 61.46394348144531, 76.4832534790039, 55.804203033447266, 27.484418869018555, 51.47123336791992, 51.63915252685547, 52.68450927734375, 40.06653594970703], [65.16397857666016, 66.50371551513672, 47.909576416015625, 66.77778625488281, 45.0587272644043, 62.77022171020508, 61.16442108154297, 57.90654754638672, 61.3357048034668, 47.62940216064453, 68.2451400756836, 51.02058792114258], [48.03223419189453, 47.33770751953125, 53.84564208984375, 45.83615493774414, 21.926738739013672, 43.599815368652344, 13.333419799804688, 35.0062141418457, 42.689971923828125, 20.11729621887207, 35.14641189575195, 41.02546691894531], [34.46226119995117, 48.14777374267578, 52.36091613769531, 35.300636291503906, 36.17610168457031, 57.426910400390625, 37.00557327270508, 44.273746490478516, 27.58028221130371, 30.715286254882812, 31.295223236083984, 36.82227325439453], [35.5075569152832, 61.7812614440918, 69.66580963134766, 73.11885833740234, 74.0091781616211, 67.29341125488281, 82.255615234375, 93.28714752197266, 82.4185562133789, 67.84127044677734, 93.84320068359375, 92.28004455566406], [48.15079116821289, 53.52936553955078, 44.21206283569336, 31.346385955810547, 39.07408905029297, 33.161006927490234, 37.0285758972168, 38.45457458496094, 43.43750762939453, 52.829681396484375, 37.15472412109375, 42.56201171875], [59.49563217163086, 42.79303741455078, 29.775585174560547, 16.872325897216797, 34.45028305053711, 34.142234802246094, 29.725439071655273, 24.452861785888672, 25.163616180419922, 25.29094886779785, 32.90324020385742, 28.25330352783203], [43.257381439208984, 45.84160614013672, 51.49038314819336, 55.463111877441406, 17.72274398803711, 35.70069122314453, 36.94411849975586, 44.240482330322266, 46.12488555908203, 26.028453826904297, 63.13979721069336, 44.23904037475586], [68.5236587524414, 52.96037292480469, 53.32551956176758, 50.15463638305664, 48.59613037109375, 58.09673309326172, 56.88310241699219, 74.77434539794922, 41.720455169677734, 50.82563781738281, 74.62114715576172, 62.38381576538086], [53.3787956237793, 53.08867263793945, 44.12746810913086, 27.54892349243164, 42.762054443359375, 27.17221450805664, 29.765174865722656, 30.875961303710938, 8.632180213928223, 23.20875358581543, 36.533512115478516, 25.960506439208984], [56.609825134277344, 55.66552734375, 38.623348236083984, 49.10806655883789, 35.67292404174805, 75.42683410644531, 38.029502868652344, -22.168066024780273, 25.620346069335938, 17.28143882751465, 41.550636291503906, 38.41950607299805], [49.84831619262695, 35.7554931640625, 45.101654052734375, 33.668975830078125, 41.676273345947266, 28.799238204956055, 36.2091178894043, 31.728342056274414, 22.718597412109375, 29.31696128845215, 50.70139694213867, 70.00479125976562], [59.617855072021484, 51.15867233276367, 56.97660446166992, 47.1074333190918, 34.318824768066406, 4.7223286628723145, 23.49664878845215, 28.442319869995117, 32.35424041748047, 33.00302505493164, 19.079345703125, 34.9377326965332], [58.822635650634766, 63.109527587890625, 40.65374755859375, 54.504756927490234, 43.693912506103516, 43.300193786621094, 54.51896286010742, 45.62009048461914, 37.62852478027344, 45.563148498535156, 45.24921417236328, 40.29928207397461], [79.53702545166016, 70.56317138671875, 51.41450881958008, 55.38076400756836, 53.59840393066406, 41.12156677246094, 46.809532165527344, 68.09209442138672, 54.45461654663086, 51.1579704284668, 29.544668197631836, 44.28022003173828], [63.814998626708984, 55.21388244628906, 55.92430114746094, 38.37087631225586, 38.91289520263672, 25.539133071899414, 32.822776794433594, 37.70478057861328, 43.92625427246094, 41.217567443847656, 38.444271087646484, 49.339111328125], [48.9984016418457, 45.908382415771484, 42.19248580932617, 54.6861686706543, 57.07529067993164, 47.43163299560547, 48.098243713378906, 58.156742095947266, 52.678043365478516, 42.30793762207031, 49.743125915527344, 66.05770874023438], [71.37849426269531, 52.82331848144531, 21.195903778076172, 51.11018753051758, 54.06455993652344, 53.456298828125, 57.67416000366211, 57.11810302734375, 58.381927490234375, 26.623432159423828, 14.227897644042969, 34.25131607055664], [56.74806213378906, 56.121768951416016, 36.37697982788086, 43.43013000488281, 15.114459037780762, 25.685510635375977, 34.44684982299805, 30.55814552307129, 32.965492248535156, 35.22105026245117, 32.55215072631836, 51.02510070800781], [47.41872024536133, 36.956478118896484, 58.180904388427734, 35.082096099853516, 43.55253219604492, 51.567298889160156, 43.296714782714844, 52.4926872253418, 34.89291000366211, 45.866172790527344, 38.635581970214844, 42.72270965576172], [56.18698501586914, 33.91824722290039, 37.98434829711914, 27.829139709472656, 28.001157760620117, 32.10847854614258, 47.80809783935547, 46.20082092285156, 26.777212142944336, 27.581069946289062, 41.342281341552734, 47.256866455078125], [71.47154998779297, 43.9189453125, 41.69783401489258, 42.307308197021484, 37.741207122802734, 19.942970275878906, 28.351905822753906, 44.179325103759766, 35.22397232055664, 35.75904846191406, 41.76966094970703, 46.50277328491211], [68.12503814697266, 52.61662673950195, -3.3079347610473633, 23.17372703552246, 32.07914733886719, 29.26053237915039, 42.90220260620117, 54.169151306152344, 51.299827575683594, 33.02711486816406, 65.18578338623047, 91.3733139038086], [65.19561767578125, 54.63257598876953, 28.601072311401367, 60.53453826904297, 42.50309753417969, 32.19039535522461, 44.12731170654297, 46.28908157348633, 52.591453552246094, 48.40927505493164, 65.53805541992188, 54.50166702270508], [50.27336120605469, 53.63454818725586, 55.300193786621094, 71.0400161743164, 52.60287857055664, 39.17811584472656, 82.40241241455078, 52.011566162109375, 31.536914825439453, 30.724414825439453, 34.45442581176758, 47.92526626586914], [86.06832122802734, 72.5205307006836, 54.01572036743164, 43.38988494873047, 46.61040496826172, 36.589599609375, 37.50529098510742, 33.327796936035156, 21.8115177154541, 48.788883209228516, 40.413307189941406, 52.13311767578125], [18.618038177490234, 39.280059814453125, 47.8516845703125, 41.81596374511719, 43.52448654174805, 34.143707275390625, 34.22604751586914, 35.957576751708984, 29.494081497192383, 33.096412658691406, 50.16082763671875, 92.80912017822266], [70.89593505859375, 58.091529846191406, 45.41260528564453, 56.46717071533203, 35.53411865234375, 28.616613388061523, 21.74657440185547, 32.86455535888672, 55.16241455078125, 47.9925537109375, 51.13043975830078, 63.25825119018555], [69.35739135742188, 102.87283325195312, 80.49360656738281, 70.07389068603516, 53.12928009033203, 47.340919494628906, 48.523136138916016, 40.76455307006836, 48.52914810180664, 40.03297424316406, 42.80521011352539, 48.83914566040039], [57.17523193359375, 38.17402267456055, 67.94337463378906, 59.60779571533203, 48.990726470947266, 52.420433044433594, 39.31683349609375, 34.1261100769043, 27.435407638549805, 56.66980743408203, 60.712215423583984, 30.16325569152832]], numpy.dtype(\"float32\")), start_date=pandas.Timestamp(\"2015-04-05 00:00:00\", freq=\"5T\"))\n"
          ],
          "name": "stdout"
        }
      ]
    },
    {
      "cell_type": "code",
      "metadata": {
        "id": "ToXmbn8daRt0",
        "colab_type": "code",
        "outputId": "bbb40824-40c0-47be-b447-0fa93aa9508a",
        "colab": {
          "base_uri": "https://localhost:8080/",
          "height": 34
        }
      },
      "source": [
        "prediction.samples.shape"
      ],
      "execution_count": 0,
      "outputs": [
        {
          "output_type": "execute_result",
          "data": {
            "text/plain": [
              "(100, 12)"
            ]
          },
          "metadata": {
            "tags": []
          },
          "execution_count": 41
        }
      ]
    },
    {
      "cell_type": "code",
      "metadata": {
        "id": "30tFr-n7Z5Cj",
        "colab_type": "code",
        "outputId": "e9b285bf-4cdd-42d1-c42f-17ebe9951ac3",
        "colab": {
          "base_uri": "https://localhost:8080/",
          "height": 50
        }
      },
      "source": [
        "print(prediction.mean)"
      ],
      "execution_count": 0,
      "outputs": [
        {
          "output_type": "stream",
          "text": [
            "[54.643745 51.680374 48.61285  48.206364 43.921432 46.113583 43.821342\n",
            " 43.775013 42.146465 42.206474 44.83072  49.84009 ]\n"
          ],
          "name": "stdout"
        }
      ]
    },
    {
      "cell_type": "code",
      "metadata": {
        "id": "PGLgDR4bZ4-g",
        "colab_type": "code",
        "outputId": "359fbb9b-5cea-4908-f97b-8f2abe0e4cc1",
        "colab": {
          "base_uri": "https://localhost:8080/",
          "height": 277
        }
      },
      "source": [
        "prediction.plot(output_file='graph.png')"
      ],
      "execution_count": 0,
      "outputs": [
        {
          "output_type": "display_data",
          "data": {
            "image/png": "[encoded data removed]",
            "text/plain": [
              "<Figure size 432x288 with 1 Axes>"
            ]
          },
          "metadata": {
            "tags": [],
            "needs_background": "light"
          }
        }
      ]
    },
    {
      "cell_type": "code",
      "metadata": {
        "id": "S7NtlCz_anil",
        "colab_type": "code",
        "outputId": "29949a1e-658b-47d0-fd79-9aa973db07f6",
        "colab": {
          "base_uri": "https://localhost:8080/",
          "height": 279
        }
      },
      "source": [
        "prediction.plot(output_file='graph.png')"
      ],
      "execution_count": 0,
      "outputs": [
        {
          "output_type": "display_data",
          "data": {
            "image/png": "[encoded data removed]",
            "text/plain": [
              "<Figure size 432x288 with 1 Axes>"
            ]
          },
          "metadata": {
            "tags": [],
            "needs_background": "light"
          }
        }
      ]
    },
    {
      "cell_type": "code",
      "metadata": {
        "id": "SppqgD6GasaG",
        "colab_type": "code",
        "colab": {}
      },
      "source": [
        ""
      ],
      "execution_count": 0,
      "outputs": []
    }
  ]
}